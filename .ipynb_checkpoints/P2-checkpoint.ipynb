{
 "cells": [
  {
   "cell_type": "markdown",
   "id": "b2e880d3",
   "metadata": {},
   "source": [
    "## Advanced Lane Finding Project\n",
    "\n",
    "The goals / steps of this project are the following:\n",
    "\n",
    "* Compute the camera calibration matrix and distortion coefficients given a set of chessboard images.\n",
    "* Apply a distortion correction to raw images.\n",
    "* Use color transforms, gradients, etc., to create a thresholded binary image.\n",
    "* Apply a perspective transform to rectify binary image (\"birds-eye view\").\n",
    "* Detect lane pixels and fit to find the lane boundary.\n",
    "* Determine the curvature of the lane and vehicle position with respect to center.\n",
    "* Warp the detected lane boundaries back onto the original image.\n",
    "* Output visual display of the lane boundaries and numerical estimation of lane curvature and vehicle position.\n"
   ]
  },
  {
   "cell_type": "code",
   "execution_count": 45,
   "id": "157ffb71",
   "metadata": {},
   "outputs": [],
   "source": [
    "import numpy as np\n",
    "import cv2\n",
    "import glob\n",
    "import matplotlib.pyplot as plt\n",
    "import matplotlib.image as mpimg\n",
    "import math\n",
    "import os\n",
    "import imp\n",
    "import Advanced_Lane_Lines as all\n",
    "\n",
    "%matplotlib qt"
   ]
  },
  {
   "cell_type": "code",
   "execution_count": 74,
   "id": "a9c9231b",
   "metadata": {},
   "outputs": [
    {
     "name": "stdout",
     "output_type": "stream",
     "text": [
      "1.0298153371058987\n"
     ]
    }
   ],
   "source": [
    "imp.reload(Advanced_Lane_Lines)\n",
    "\n",
    "ret, mtx, dist, rvecs, tvecs = all.calibrate_camera()\n",
    "\n",
    "all.set_calibrate_camera_result(ret, mtx, dist, rvecs, tvecs)\n",
    "\n",
    "print(ret)\n",
    "# print(mtx)\n",
    "# print(dist)\n",
    "# print(rvecs)\n",
    "# print(tvecs)\n",
    "\n",
    "s1 = [180,719]\n",
    "s2 = [555, 470]\n",
    "s3 = [725, 470]\n",
    "s4 = [1130,719]\n",
    "\n",
    "d1 = [280,719]\n",
    "d2 = [280,  0]\n",
    "d3 = [1000,  0]\n",
    "d4 = [1000, 719]\n",
    "\n",
    "src = np.array([s1,s2,s3,s4],dtype = \"float32\")\n",
    "dst = np.array([d1,d2,d3,d4],dtype = \"float32\")\n",
    "\n",
    "M = cv2.getPerspectiveTransform(src, dst)\n",
    "Minv = cv2.getPerspectiveTransform(dst, src)"
   ]
  },
  {
   "cell_type": "code",
   "execution_count": 78,
   "id": "80c5dccb",
   "metadata": {},
   "outputs": [],
   "source": [
    "# def my_cal_perspective_transform_mtx():\n",
    "#     M = cv2.getPerspectiveTransform(src, dst)\n",
    "#     Minv = cv2.getPerspectiveTransform(dst, src)\n",
    "    \n",
    "#     return M, Minv"
   ]
  },
  {
   "cell_type": "code",
   "execution_count": 27,
   "id": "b28e6060",
   "metadata": {},
   "outputs": [
    {
     "name": "stdout",
     "output_type": "stream",
     "text": [
      "[[ 1.23176607e+00  2.89559832e-01 -1.55916586e+02]\n",
      " [-2.60900799e-02  1.31677308e+00  2.97882835e+01]\n",
      " [-6.38198199e-05  4.89794342e-04  1.00000000e+00]]\n",
      "(720, 1280, 3)\n"
     ]
    }
   ],
   "source": [
    "cwd = os.getcwd()\n",
    "img = cv2.imread(cwd + '/camera_cal/calibration3.jpg')\n",
    "\n",
    "# cv2.imshow('calibration3.jpg',img)\n",
    "\n",
    "img_undistort = all.undistort_img(img, mtx, dist)\n",
    "\n",
    "# cv2.imshow('img_undistort', img_undistort)\n",
    "\n",
    "perspective_transform_mtx = all.cal_perspective_transform_mtx(img, 9, 6, mtx, dist)\n",
    "\n",
    "print(perspective_transform_mtx)\n",
    "\n",
    "print(img.shape)\n",
    "\n",
    "warped = cv2.warpPerspective(img_undistort, perspective_transform_mtx, img.shape[1::-1], cv2.INTER_LINEAR)\n",
    "\n",
    "cv2.imshow('warped', warped)\n"
   ]
  },
  {
   "cell_type": "code",
   "execution_count": 80,
   "id": "89ad0f5d",
   "metadata": {},
   "outputs": [],
   "source": []
  },
  {
   "cell_type": "code",
   "execution_count": 84,
   "id": "8e15ed93",
   "metadata": {},
   "outputs": [],
   "source": [
    "cwd = os.getcwd()\n",
    "\n",
    "# img = mpimg.imread(cwd + '/test_images/straight_lines2.jpg')\n",
    "img = mpimg.imread(cwd + '/test_images/test6.jpg')\n",
    "\n",
    "# plt.imshow(img)\n",
    "\n",
    "img_undistort = all.undistort_img(img, mtx, dist)\n",
    "\n",
    "# plt.imshow(img)\n",
    "\n",
    "plt.imshow(img_undistort)\n",
    "\n",
    "plt.show()\n"
   ]
  },
  {
   "cell_type": "code",
   "execution_count": 85,
   "id": "eb5ed3c1",
   "metadata": {},
   "outputs": [
    {
     "name": "stdout",
     "output_type": "stream",
     "text": [
      "720\n",
      "640.0\n",
      "336.65532491640727\n",
      "1028.2217252529924\n",
      "682.4385250846999\n",
      "-0.22431791830484235\n",
      "2118.264373543409\n",
      "14178.966936342767\n",
      "-0.22431791830484235\n",
      "(720, 1280, 3)\n"
     ]
    }
   ],
   "source": [
    "img_result = all.my_pipline(img, mtx, dist)\n",
    "print(img_result.shape)\n",
    "plt.imshow(img_result)\n",
    "\n",
    "plt.show()\n"
   ]
  },
  {
   "cell_type": "code",
   "execution_count": 67,
   "id": "35c82627",
   "metadata": {},
   "outputs": [
    {
     "name": "stdout",
     "output_type": "stream",
     "text": [
      "[[0 0 0 ... 0 0 0]\n",
      " [0 0 0 ... 0 0 0]\n",
      " [0 0 0 ... 0 0 0]\n",
      " ...\n",
      " [0 0 0 ... 0 0 0]\n",
      " [0 0 0 ... 0 0 0]\n",
      " [0 0 0 ... 0 0 0]]\n",
      "(720, 1280, 3)\n",
      "[354 355 356 ... 341 342 343]\n",
      "[640 640 640 ...  79  79  79]\n",
      "[ 914  912  959 ... 1019 1020 1021]\n",
      "[706 707 707 ... 319 319 319]\n",
      "3421.986977479236\n",
      "1342.6051933050703\n",
      "1121.1698856552575\n",
      "421.4621984789208\n"
     ]
    }
   ],
   "source": [
    "img_bin_sobel =  all.abs_sobel_thresh(img_undistort, orient='x', thresh_min=10, thresh_max=200)\n",
    "\n",
    "print(img_bin_sobel)\n",
    "\n",
    "# plt.imshow(img_bin_sobel, cmap='gray')\n",
    "\n",
    "img_bin_mag =  all.mag_thresh(img_undistort, sobel_kernel=3, mag_thresh=(20, 200))\n",
    "\n",
    "# plt.imshow(img_bin_mag, cmap='gray')\n",
    "\n",
    "img_bin_dir =  all.dir_threshold(img_undistort, sobel_kernel=3, thresh=(0.7, 1.3))\n",
    "\n",
    "# plt.imshow(img_bin_dir, cmap='gray')\n",
    "\n",
    "img_bin_hls =  all.hls_select(img_undistort, thresh=(25, 200))\n",
    "\n",
    "# plt.imshow(img_bin_hls, cmap='gray')\n",
    "\n",
    "combined = np.zeros_like(img_bin_sobel)\n",
    "# combined[(((img_bin_sobel == 1) | (img_bin_mag == 1)) & (img_bin_hls == 1)) & (img_bin_dir == 1)] = 1\n",
    "combined[((img_bin_sobel == 1) & (img_bin_mag == 1)) & ((img_bin_dir == 1) & (img_bin_hls == 1))] = 1\n",
    "# combined[((img_bin_sobel == 1) )] = 1\n",
    "\n",
    "# plt.imshow(combined, cmap='gray')\n",
    "\n",
    "combined_bin, color_bin = all.make_binary(img_undistort)\n",
    "\n",
    "# plt.imshow(combined_bin, cmap='gray')\n",
    "# plt.imshow(color_bin, cmap='gray')\n",
    "\n",
    "\n",
    "# (120,539),(480, 310), (485, 310), (900,539)\n",
    "# img_cpy = np.copy(img_undistort)\n",
    "img_cpy = np.copy(img_undistort)\n",
    "\n",
    "# plt.imshow(img_cpy)\n",
    "\n",
    "print(img_cpy.shape)\n",
    "\n",
    "s1 = [180,719]\n",
    "s2 = [555, 470]\n",
    "s3 = [725, 470]\n",
    "s4 = [1130,719]\n",
    "\n",
    "d1 = [280,719]\n",
    "d2 = [280,  0]\n",
    "d3 = [1000,  0]\n",
    "d4 = [1000, 719]\n",
    "\n",
    "w = 1\n",
    "# cv2.line(img_cpy, (180,719), (550, 470), (255,0,0),w) \n",
    "# cv2.line(img_cpy, (550, 470), (740, 470), (255,0,0),w) \n",
    "# cv2.line(img_cpy, (740, 470), (1130,719), (255,0,0),w) \n",
    "\n",
    "cv2.line(img_cpy, s1, s2, (255,0,0),w) \n",
    "cv2.line(img_cpy, s2, s3, (255,0,0),w) \n",
    "cv2.line(img_cpy, s3, s4, (255,0,0),w) \n",
    "\n",
    "# plt.imshow(img_cpy)\n",
    "\n",
    "# src = np.array([[180,719],[550,470],[740, 470],[1130,719]],dtype = \"float32\")\n",
    "# dst = np.array([[280,719],[280,  0],[1000,  0],[1000, 719]],dtype = \"float32\")\n",
    "\n",
    "# src = np.array([s1,s2,s3,s4],dtype = \"float32\")\n",
    "# dst = np.array([d1,d2,d3,d4],dtype = \"float32\")\n",
    "\n",
    "# M = cv2.getPerspectiveTransform(src, dst)\n",
    "# Minv = cv2.getPerspectiveTransform(dst, src)\n",
    "    \n",
    "img_warper = all.warper(img_cpy, src, dst)\n",
    "\n",
    "# plt.imshow(img_warper)\n",
    "\n",
    "# img_warper = cv2.warpPerspective(img_cpy, perspective_transform_mtx, img_cpy.shape[1::-1], cv2.INTER_LINEAR)\n",
    "\n",
    "# plt.imshow(img_warper)\n",
    "\n",
    "colored_comb_bin = np.dstack((combined, combined, combined)) * 255\n",
    "\n",
    "# cv2.line(colored_comb_bin, s1, s2, (255,0,0),w) \n",
    "# cv2.line(colored_comb_bin, s2, s3, (255,0,0),w) \n",
    "# cv2.line(colored_comb_bin, s3, s4, (255,0,0),w) \n",
    "\n",
    "# plt.imshow(colored_comb_bin, cmap='gray')\n",
    "\n",
    "img_warper = all.warper(combined, src, dst)\n",
    "\n",
    "# plt.imshow(img_warper, cmap='gray')\n",
    "\n",
    "colored_warped = np.dstack((img_warper, img_warper, img_warper)) * 255\n",
    "\n",
    "# plt.imshow(colored_warped, cmap='gray')\n",
    "\n",
    "histogram = all.hist(colored_warped)\n",
    "\n",
    "# plt.plot(histogram)\n",
    "\n",
    "# leftx, lefty, rightx, righty, out_img = find_lane_pixels(img_warper)\n",
    "leftx, lefty, rightx, righty, out_img = all.find_lane_pixels(img_warper* 255) \n",
    "\n",
    "print(leftx)\n",
    "print(lefty)\n",
    "print(rightx)\n",
    "print(righty)\n",
    "\n",
    "# plt.imshow(out_img)\n",
    "\n",
    "img_fit = all.fit_polynomial(img_warper* 255)\n",
    "\n",
    "# plt.imshow(img_fit)\n",
    "\n",
    "left_fit, right_fit, ploty = all.fit_poly(img_warper.shape, leftx, lefty, rightx, righty)\n",
    "\n",
    "result = all.search_around_poly(img_warper)\n",
    "\n",
    "# plt.imshow(result)\n",
    "\n",
    "# left_curverad, right_curverad = measure_curvature_pixels()\n",
    "\n",
    "left_curverad, right_curverad = all.my_measure_curvature_pixels(img_warper)\n",
    "\n",
    "print(left_curverad)\n",
    "print(right_curverad)\n",
    "\n",
    "left_curverad, right_curverad = all.my_measure_curvature_real(img_warper)\n",
    "\n",
    "print(left_curverad)\n",
    "print(right_curverad)\n",
    "\n",
    "# plt.imshow(img)\n",
    "# plt.imshow(img_undistort)\n",
    "# plt.imshow(img_warper)\n",
    "\n",
    "# img_final = my_draw(img, img_undistort, img_warper, Minv,left_fitx,right_fitx,ploty)\n",
    "img_final = all.my_draw(img, img_undistort, img_warper, Minv,left_fit,right_fit,ploty)\n",
    "\n",
    "# img = cv2.imread('caijian.jpg')\n",
    "font = cv2.FONT_HERSHEY_SIMPLEX\n",
    "\n",
    "imgzi = cv2.putText(img_final, 'Curve Radius: left: %fm, right =%fm' %(left_curverad,right_curverad) , (50, 50), font, 1.2, (255, 255, 255), 2)\n",
    "\n",
    "plt.imshow(img_final)\n",
    "\n",
    "plt.show()"
   ]
  },
  {
   "cell_type": "code",
   "execution_count": 86,
   "id": "0e763a7f",
   "metadata": {},
   "outputs": [],
   "source": [
    "# Import everything needed to edit/save/watch video clips\n",
    "from moviepy.editor import VideoFileClip\n",
    "from IPython.display import HTML"
   ]
  },
  {
   "cell_type": "code",
   "execution_count": 88,
   "id": "cd4218c8",
   "metadata": {},
   "outputs": [
    {
     "ename": "TypeError",
     "evalue": "my_pipline() missing 2 required positional arguments: 'mtx' and 'dist'",
     "output_type": "error",
     "traceback": [
      "\u001b[1;31m---------------------------------------------------------------------------\u001b[0m",
      "\u001b[1;31mTypeError\u001b[0m                                 Traceback (most recent call last)",
      "\u001b[1;32m<ipython-input-88-3cee82e484d4>\u001b[0m in \u001b[0;36m<module>\u001b[1;34m\u001b[0m\n\u001b[0;32m      6\u001b[0m \u001b[1;31m##clip1 = VideoFileClip(\"test_videos/solidWhiteRight.mp4\").subclip(0,5)\u001b[0m\u001b[1;33m\u001b[0m\u001b[1;33m\u001b[0m\u001b[1;33m\u001b[0m\u001b[0m\n\u001b[0;32m      7\u001b[0m \u001b[0mclip1\u001b[0m \u001b[1;33m=\u001b[0m \u001b[0mVideoFileClip\u001b[0m\u001b[1;33m(\u001b[0m\u001b[0mcwd\u001b[0m \u001b[1;33m+\u001b[0m \u001b[1;34m\"/project_video.mp4\"\u001b[0m\u001b[1;33m)\u001b[0m\u001b[1;33m\u001b[0m\u001b[1;33m\u001b[0m\u001b[0m\n\u001b[1;32m----> 8\u001b[1;33m \u001b[0mwhite_clip\u001b[0m \u001b[1;33m=\u001b[0m \u001b[0mclip1\u001b[0m\u001b[1;33m.\u001b[0m\u001b[0mfl_image\u001b[0m\u001b[1;33m(\u001b[0m\u001b[0mall\u001b[0m\u001b[1;33m.\u001b[0m\u001b[0mmy_pipline\u001b[0m\u001b[1;33m)\u001b[0m \u001b[1;31m#NOTE: this function expects color images!!\u001b[0m\u001b[1;33m\u001b[0m\u001b[1;33m\u001b[0m\u001b[0m\n\u001b[0m\u001b[0;32m      9\u001b[0m \u001b[0mget_ipython\u001b[0m\u001b[1;33m(\u001b[0m\u001b[1;33m)\u001b[0m\u001b[1;33m.\u001b[0m\u001b[0mrun_line_magic\u001b[0m\u001b[1;33m(\u001b[0m\u001b[1;34m'time'\u001b[0m\u001b[1;33m,\u001b[0m \u001b[1;34m'white_clip.write_videofile(white_output, audio=False)'\u001b[0m\u001b[1;33m)\u001b[0m\u001b[1;33m\u001b[0m\u001b[1;33m\u001b[0m\u001b[0m\n",
      "\u001b[1;32mC:\\ProgramData\\Anaconda3\\lib\\site-packages\\moviepy\\video\\VideoClip.py\u001b[0m in \u001b[0;36mfl_image\u001b[1;34m(self, image_func, apply_to)\u001b[0m\n\u001b[0;32m    488\u001b[0m         \"\"\"\n\u001b[0;32m    489\u001b[0m         \u001b[0mapply_to\u001b[0m \u001b[1;33m=\u001b[0m \u001b[0mapply_to\u001b[0m \u001b[1;32mor\u001b[0m \u001b[1;33m[\u001b[0m\u001b[1;33m]\u001b[0m\u001b[1;33m\u001b[0m\u001b[1;33m\u001b[0m\u001b[0m\n\u001b[1;32m--> 490\u001b[1;33m         \u001b[1;32mreturn\u001b[0m \u001b[0mself\u001b[0m\u001b[1;33m.\u001b[0m\u001b[0mfl\u001b[0m\u001b[1;33m(\u001b[0m\u001b[1;32mlambda\u001b[0m \u001b[0mgf\u001b[0m\u001b[1;33m,\u001b[0m \u001b[0mt\u001b[0m\u001b[1;33m:\u001b[0m \u001b[0mimage_func\u001b[0m\u001b[1;33m(\u001b[0m\u001b[0mgf\u001b[0m\u001b[1;33m(\u001b[0m\u001b[0mt\u001b[0m\u001b[1;33m)\u001b[0m\u001b[1;33m)\u001b[0m\u001b[1;33m,\u001b[0m \u001b[0mapply_to\u001b[0m\u001b[1;33m)\u001b[0m\u001b[1;33m\u001b[0m\u001b[1;33m\u001b[0m\u001b[0m\n\u001b[0m\u001b[0;32m    491\u001b[0m \u001b[1;33m\u001b[0m\u001b[0m\n\u001b[0;32m    492\u001b[0m     \u001b[1;31m# --------------------------------------------------------------\u001b[0m\u001b[1;33m\u001b[0m\u001b[1;33m\u001b[0m\u001b[1;33m\u001b[0m\u001b[0m\n",
      "\u001b[1;32mC:\\ProgramData\\Anaconda3\\lib\\site-packages\\moviepy\\Clip.py\u001b[0m in \u001b[0;36mfl\u001b[1;34m(self, fun, apply_to, keep_duration)\u001b[0m\n\u001b[0;32m    134\u001b[0m \u001b[1;33m\u001b[0m\u001b[0m\n\u001b[0;32m    135\u001b[0m         \u001b[1;31m#mf = copy(self.make_frame)\u001b[0m\u001b[1;33m\u001b[0m\u001b[1;33m\u001b[0m\u001b[1;33m\u001b[0m\u001b[0m\n\u001b[1;32m--> 136\u001b[1;33m         \u001b[0mnewclip\u001b[0m \u001b[1;33m=\u001b[0m \u001b[0mself\u001b[0m\u001b[1;33m.\u001b[0m\u001b[0mset_make_frame\u001b[0m\u001b[1;33m(\u001b[0m\u001b[1;32mlambda\u001b[0m \u001b[0mt\u001b[0m\u001b[1;33m:\u001b[0m \u001b[0mfun\u001b[0m\u001b[1;33m(\u001b[0m\u001b[0mself\u001b[0m\u001b[1;33m.\u001b[0m\u001b[0mget_frame\u001b[0m\u001b[1;33m,\u001b[0m \u001b[0mt\u001b[0m\u001b[1;33m)\u001b[0m\u001b[1;33m)\u001b[0m\u001b[1;33m\u001b[0m\u001b[1;33m\u001b[0m\u001b[0m\n\u001b[0m\u001b[0;32m    137\u001b[0m \u001b[1;33m\u001b[0m\u001b[0m\n\u001b[0;32m    138\u001b[0m         \u001b[1;32mif\u001b[0m \u001b[1;32mnot\u001b[0m \u001b[0mkeep_duration\u001b[0m\u001b[1;33m:\u001b[0m\u001b[1;33m\u001b[0m\u001b[1;33m\u001b[0m\u001b[0m\n",
      "\u001b[1;32m<decorator-gen-178>\u001b[0m in \u001b[0;36mset_make_frame\u001b[1;34m(self, mf)\u001b[0m\n",
      "\u001b[1;32mC:\\ProgramData\\Anaconda3\\lib\\site-packages\\moviepy\\decorators.py\u001b[0m in \u001b[0;36moutplace\u001b[1;34m(f, clip, *a, **k)\u001b[0m\n\u001b[0;32m     12\u001b[0m     \u001b[1;34m\"\"\" Applies f(clip.copy(), *a, **k) and returns clip.copy()\"\"\"\u001b[0m\u001b[1;33m\u001b[0m\u001b[1;33m\u001b[0m\u001b[0m\n\u001b[0;32m     13\u001b[0m     \u001b[0mnewclip\u001b[0m \u001b[1;33m=\u001b[0m \u001b[0mclip\u001b[0m\u001b[1;33m.\u001b[0m\u001b[0mcopy\u001b[0m\u001b[1;33m(\u001b[0m\u001b[1;33m)\u001b[0m\u001b[1;33m\u001b[0m\u001b[1;33m\u001b[0m\u001b[0m\n\u001b[1;32m---> 14\u001b[1;33m     \u001b[0mf\u001b[0m\u001b[1;33m(\u001b[0m\u001b[0mnewclip\u001b[0m\u001b[1;33m,\u001b[0m \u001b[1;33m*\u001b[0m\u001b[0ma\u001b[0m\u001b[1;33m,\u001b[0m \u001b[1;33m**\u001b[0m\u001b[0mk\u001b[0m\u001b[1;33m)\u001b[0m\u001b[1;33m\u001b[0m\u001b[1;33m\u001b[0m\u001b[0m\n\u001b[0m\u001b[0;32m     15\u001b[0m     \u001b[1;32mreturn\u001b[0m \u001b[0mnewclip\u001b[0m\u001b[1;33m\u001b[0m\u001b[1;33m\u001b[0m\u001b[0m\n\u001b[0;32m     16\u001b[0m \u001b[1;33m\u001b[0m\u001b[0m\n",
      "\u001b[1;32mC:\\ProgramData\\Anaconda3\\lib\\site-packages\\moviepy\\video\\VideoClip.py\u001b[0m in \u001b[0;36mset_make_frame\u001b[1;34m(self, mf)\u001b[0m\n\u001b[0;32m    642\u001b[0m         \"\"\"\n\u001b[0;32m    643\u001b[0m         \u001b[0mself\u001b[0m\u001b[1;33m.\u001b[0m\u001b[0mmake_frame\u001b[0m \u001b[1;33m=\u001b[0m \u001b[0mmf\u001b[0m\u001b[1;33m\u001b[0m\u001b[1;33m\u001b[0m\u001b[0m\n\u001b[1;32m--> 644\u001b[1;33m         \u001b[0mself\u001b[0m\u001b[1;33m.\u001b[0m\u001b[0msize\u001b[0m \u001b[1;33m=\u001b[0m \u001b[0mself\u001b[0m\u001b[1;33m.\u001b[0m\u001b[0mget_frame\u001b[0m\u001b[1;33m(\u001b[0m\u001b[1;36m0\u001b[0m\u001b[1;33m)\u001b[0m\u001b[1;33m.\u001b[0m\u001b[0mshape\u001b[0m\u001b[1;33m[\u001b[0m\u001b[1;33m:\u001b[0m\u001b[1;36m2\u001b[0m\u001b[1;33m]\u001b[0m\u001b[1;33m[\u001b[0m\u001b[1;33m:\u001b[0m\u001b[1;33m:\u001b[0m\u001b[1;33m-\u001b[0m\u001b[1;36m1\u001b[0m\u001b[1;33m]\u001b[0m\u001b[1;33m\u001b[0m\u001b[1;33m\u001b[0m\u001b[0m\n\u001b[0m\u001b[0;32m    645\u001b[0m \u001b[1;33m\u001b[0m\u001b[0m\n\u001b[0;32m    646\u001b[0m     \u001b[1;33m@\u001b[0m\u001b[0moutplace\u001b[0m\u001b[1;33m\u001b[0m\u001b[1;33m\u001b[0m\u001b[0m\n",
      "\u001b[1;32m<decorator-gen-128>\u001b[0m in \u001b[0;36mget_frame\u001b[1;34m(self, t)\u001b[0m\n",
      "\u001b[1;32mC:\\ProgramData\\Anaconda3\\lib\\site-packages\\moviepy\\decorators.py\u001b[0m in \u001b[0;36mwrapper\u001b[1;34m(f, *a, **kw)\u001b[0m\n\u001b[0;32m     87\u001b[0m         new_kw = {k: fun(v) if k in varnames else v\n\u001b[0;32m     88\u001b[0m                  for (k,v) in kw.items()}\n\u001b[1;32m---> 89\u001b[1;33m         \u001b[1;32mreturn\u001b[0m \u001b[0mf\u001b[0m\u001b[1;33m(\u001b[0m\u001b[1;33m*\u001b[0m\u001b[0mnew_a\u001b[0m\u001b[1;33m,\u001b[0m \u001b[1;33m**\u001b[0m\u001b[0mnew_kw\u001b[0m\u001b[1;33m)\u001b[0m\u001b[1;33m\u001b[0m\u001b[1;33m\u001b[0m\u001b[0m\n\u001b[0m\u001b[0;32m     90\u001b[0m     \u001b[1;32mreturn\u001b[0m \u001b[0mdecorator\u001b[0m\u001b[1;33m.\u001b[0m\u001b[0mdecorator\u001b[0m\u001b[1;33m(\u001b[0m\u001b[0mwrapper\u001b[0m\u001b[1;33m)\u001b[0m\u001b[1;33m\u001b[0m\u001b[1;33m\u001b[0m\u001b[0m\n\u001b[0;32m     91\u001b[0m \u001b[1;33m\u001b[0m\u001b[0m\n",
      "\u001b[1;32mC:\\ProgramData\\Anaconda3\\lib\\site-packages\\moviepy\\Clip.py\u001b[0m in \u001b[0;36mget_frame\u001b[1;34m(self, t)\u001b[0m\n\u001b[0;32m     91\u001b[0m                 \u001b[1;32mreturn\u001b[0m \u001b[0mframe\u001b[0m\u001b[1;33m\u001b[0m\u001b[1;33m\u001b[0m\u001b[0m\n\u001b[0;32m     92\u001b[0m         \u001b[1;32melse\u001b[0m\u001b[1;33m:\u001b[0m\u001b[1;33m\u001b[0m\u001b[1;33m\u001b[0m\u001b[0m\n\u001b[1;32m---> 93\u001b[1;33m             \u001b[1;32mreturn\u001b[0m \u001b[0mself\u001b[0m\u001b[1;33m.\u001b[0m\u001b[0mmake_frame\u001b[0m\u001b[1;33m(\u001b[0m\u001b[0mt\u001b[0m\u001b[1;33m)\u001b[0m\u001b[1;33m\u001b[0m\u001b[1;33m\u001b[0m\u001b[0m\n\u001b[0m\u001b[0;32m     94\u001b[0m \u001b[1;33m\u001b[0m\u001b[0m\n\u001b[0;32m     95\u001b[0m     \u001b[1;32mdef\u001b[0m \u001b[0mfl\u001b[0m\u001b[1;33m(\u001b[0m\u001b[0mself\u001b[0m\u001b[1;33m,\u001b[0m \u001b[0mfun\u001b[0m\u001b[1;33m,\u001b[0m \u001b[0mapply_to\u001b[0m\u001b[1;33m=\u001b[0m\u001b[1;32mNone\u001b[0m\u001b[1;33m,\u001b[0m \u001b[0mkeep_duration\u001b[0m\u001b[1;33m=\u001b[0m\u001b[1;32mTrue\u001b[0m\u001b[1;33m)\u001b[0m\u001b[1;33m:\u001b[0m\u001b[1;33m\u001b[0m\u001b[1;33m\u001b[0m\u001b[0m\n",
      "\u001b[1;32mC:\\ProgramData\\Anaconda3\\lib\\site-packages\\moviepy\\Clip.py\u001b[0m in \u001b[0;36m<lambda>\u001b[1;34m(t)\u001b[0m\n\u001b[0;32m    134\u001b[0m \u001b[1;33m\u001b[0m\u001b[0m\n\u001b[0;32m    135\u001b[0m         \u001b[1;31m#mf = copy(self.make_frame)\u001b[0m\u001b[1;33m\u001b[0m\u001b[1;33m\u001b[0m\u001b[1;33m\u001b[0m\u001b[0m\n\u001b[1;32m--> 136\u001b[1;33m         \u001b[0mnewclip\u001b[0m \u001b[1;33m=\u001b[0m \u001b[0mself\u001b[0m\u001b[1;33m.\u001b[0m\u001b[0mset_make_frame\u001b[0m\u001b[1;33m(\u001b[0m\u001b[1;32mlambda\u001b[0m \u001b[0mt\u001b[0m\u001b[1;33m:\u001b[0m \u001b[0mfun\u001b[0m\u001b[1;33m(\u001b[0m\u001b[0mself\u001b[0m\u001b[1;33m.\u001b[0m\u001b[0mget_frame\u001b[0m\u001b[1;33m,\u001b[0m \u001b[0mt\u001b[0m\u001b[1;33m)\u001b[0m\u001b[1;33m)\u001b[0m\u001b[1;33m\u001b[0m\u001b[1;33m\u001b[0m\u001b[0m\n\u001b[0m\u001b[0;32m    137\u001b[0m \u001b[1;33m\u001b[0m\u001b[0m\n\u001b[0;32m    138\u001b[0m         \u001b[1;32mif\u001b[0m \u001b[1;32mnot\u001b[0m \u001b[0mkeep_duration\u001b[0m\u001b[1;33m:\u001b[0m\u001b[1;33m\u001b[0m\u001b[1;33m\u001b[0m\u001b[0m\n",
      "\u001b[1;32mC:\\ProgramData\\Anaconda3\\lib\\site-packages\\moviepy\\video\\VideoClip.py\u001b[0m in \u001b[0;36m<lambda>\u001b[1;34m(gf, t)\u001b[0m\n\u001b[0;32m    488\u001b[0m         \"\"\"\n\u001b[0;32m    489\u001b[0m         \u001b[0mapply_to\u001b[0m \u001b[1;33m=\u001b[0m \u001b[0mapply_to\u001b[0m \u001b[1;32mor\u001b[0m \u001b[1;33m[\u001b[0m\u001b[1;33m]\u001b[0m\u001b[1;33m\u001b[0m\u001b[1;33m\u001b[0m\u001b[0m\n\u001b[1;32m--> 490\u001b[1;33m         \u001b[1;32mreturn\u001b[0m \u001b[0mself\u001b[0m\u001b[1;33m.\u001b[0m\u001b[0mfl\u001b[0m\u001b[1;33m(\u001b[0m\u001b[1;32mlambda\u001b[0m \u001b[0mgf\u001b[0m\u001b[1;33m,\u001b[0m \u001b[0mt\u001b[0m\u001b[1;33m:\u001b[0m \u001b[0mimage_func\u001b[0m\u001b[1;33m(\u001b[0m\u001b[0mgf\u001b[0m\u001b[1;33m(\u001b[0m\u001b[0mt\u001b[0m\u001b[1;33m)\u001b[0m\u001b[1;33m)\u001b[0m\u001b[1;33m,\u001b[0m \u001b[0mapply_to\u001b[0m\u001b[1;33m)\u001b[0m\u001b[1;33m\u001b[0m\u001b[1;33m\u001b[0m\u001b[0m\n\u001b[0m\u001b[0;32m    491\u001b[0m \u001b[1;33m\u001b[0m\u001b[0m\n\u001b[0;32m    492\u001b[0m     \u001b[1;31m# --------------------------------------------------------------\u001b[0m\u001b[1;33m\u001b[0m\u001b[1;33m\u001b[0m\u001b[1;33m\u001b[0m\u001b[0m\n",
      "\u001b[1;31mTypeError\u001b[0m: my_pipline() missing 2 required positional arguments: 'mtx' and 'dist'"
     ]
    }
   ],
   "source": [
    "white_output = cwd + '/output_video/P2.mp4'\n",
    "## To speed up the testing process you may want to try your pipeline on a shorter subclip of the video\n",
    "## To do so add .subclip(start_second,end_second) to the end of the line below\n",
    "## Where start_second and end_second are integer values representing the start and end of the subclip\n",
    "## You may also uncomment the following line for a subclip of the first 5 seconds\n",
    "##clip1 = VideoFileClip(\"test_videos/solidWhiteRight.mp4\").subclip(0,5)\n",
    "clip1 = VideoFileClip(cwd + \"/project_video.mp4\")\n",
    "white_clip = clip1.fl_image(all.my_pipline) #NOTE: this function expects color images!!\n",
    "%time white_clip.write_videofile(white_output, audio=False)"
   ]
  },
  {
   "cell_type": "code",
   "execution_count": 88,
   "id": "8ec00092",
   "metadata": {},
   "outputs": [
    {
     "name": "stdout",
     "output_type": "stream",
     "text": [
      "D:\\hzf\\udacity\\project\\CarND-Advanced-Lane-Lines/output_video/P2.mp4\n"
     ]
    },
    {
     "data": {
      "text/html": [
       "\n",
       "<video width=\"1280\" height=\"720\" controls>\n",
       "  <source src=\"D:\\hzf\\udacity\\project\\CarND-Advanced-Lane-Lines\\output_video\\P2.mp4\">\n",
       "</video>\n"
      ],
      "text/plain": [
       "<IPython.core.display.HTML object>"
      ]
     },
     "execution_count": 88,
     "metadata": {},
     "output_type": "execute_result"
    }
   ],
   "source": [
    "print(white_output)\n",
    "# HTML(\"\"\"\n",
    "# <video width=\"1280\" height=\"720\" controls>\n",
    "#   <source src=\"{0}\">\n",
    "# </video>\n",
    "# \"\"\".format(white_output))\n",
    "\n",
    "HTML(\"\"\"\n",
    "<video width=\"1280\" height=\"720\" controls>\n",
    "  <source src=\"D:\\\\hzf\\\\udacity\\\\project\\\\CarND-Advanced-Lane-Lines\\\\output_video\\\\P2.mp4\">\n",
    "</video>\n",
    "\"\"\")"
   ]
  },
  {
   "cell_type": "code",
   "execution_count": 20,
   "id": "d2f6027c",
   "metadata": {},
   "outputs": [
    {
     "name": "stdout",
     "output_type": "stream",
     "text": [
      "[[0 1 0 ... 1 1 1]\n",
      " [0 1 0 ... 1 1 1]\n",
      " [0 1 0 ... 1 1 0]\n",
      " ...\n",
      " [0 1 0 ... 1 1 0]\n",
      " [0 1 1 ... 1 1 0]\n",
      " [0 1 1 ... 1 1 0]]\n"
     ]
    }
   ],
   "source": [
    "img = pipeline(img, s_thresh=(170, 255), sx_thresh=(20, 100))\n",
    "\n",
    "print(img)\n",
    "plt.imshow(img, cmap='gray')\n",
    "# plt.imshow(img)\n",
    "\n",
    "plt.show()"
   ]
  },
  {
   "cell_type": "code",
   "execution_count": 68,
   "id": "fae15e33",
   "metadata": {},
   "outputs": [
    {
     "name": "stdout",
     "output_type": "stream",
     "text": [
      "D:\\hzf\\udacity\\project\\CarND-Advanced-Lane-Lines\n",
      "(720, 1280)\n",
      "(720, 1280, 3)\n",
      "(1280, 720)\n"
     ]
    }
   ],
   "source": [
    "\n",
    "# prepare object points, like (0,0,0), (1,0,0), (2,0,0) ....,(6,5,0)\n",
    "objp = np.zeros((6*9,3), np.float32)\n",
    "# print(objp)\n",
    "objp[:,:2] = np.mgrid[0:9,0:6].T.reshape(-1,2)\n",
    "# print(objp)\n",
    "\n",
    "# Arrays to store object points and image points from all the images.\n",
    "objpoints = [] # 3d points in real world space\n",
    "imgpoints = [] # 2d points in image plane.\n",
    "\n",
    "cwd = os.getcwd()\n",
    "print(cwd)\n",
    "img = cv2.imread(cwd + '/camera_cal/calibration3.jpg')\n",
    "# print(img)\n",
    "# cv2.imshow('calibration3',img)\n",
    "\n",
    "gray = cv2.cvtColor(img,cv2.COLOR_BGR2GRAY)\n",
    "\n",
    "print(gray.shape)\n",
    "\n",
    "# cv2.imshow('calibration3',gray)\n",
    "\n",
    "# Find the chessboard corners\n",
    "ret, corners = cv2.findChessboardCorners(gray, (9,6),None)\n",
    "\n",
    "# If found, add object points, image points\n",
    "if ret == True:\n",
    "#     print(objp)\n",
    "#     print(corners)\n",
    "    objpoints.append(objp)\n",
    "    imgpoints.append(corners)\n",
    "\n",
    "    # Draw and display the corners\n",
    "#     img = cv2.drawChessboardCorners(img, (9,6), corners, ret)\n",
    "#     cv2.imshow('img',img)\n",
    "#             cv2.waitKey(500)\n",
    "\n",
    "#     image = mpimg.imread('camera_cal/calibration1.jpg')\n",
    "print(img.shape)\n",
    "print(img.shape[1::-1])\n",
    "# return cv2.calibrateCamera(objpoints, imgpoints, gray.shape[::-1], None, None)\n",
    "\n",
    "img_undistort = undistort_img(img, mtx, dist)\n",
    "\n",
    "cv2.imshow('img_undistort', img_undistort)\n",
    "\n",
    "\n",
    "# cwd = os.getcwd()\n",
    "# # Make a list of calibration im1ages\n",
    "# images = glob.glob(cwd + './camera_cal/calibration*.jpg')\n",
    "\n",
    "\n",
    "\n",
    "# # Make a list of calibration images\n",
    "# images = glob.glob(cwd + '/camera_cal/calibration*.jpg')\n",
    "\n",
    "# for index, itrImg in enumerate(images):\n",
    "#     if (index == 1) :\n",
    "#         print(itrImg)\n",
    "# #         img = cv2.imread(itrImg)\n",
    "#         img = cv2.imread(cwd + '/camera_cal/calibration3.jpg')\n",
    "\n",
    "#         plt.imshow(img)\n",
    "# #         cv2.imshow('img',img)\n",
    "#         undist = cv2.undistort(img, mtx, dist, None, mtx)\n",
    "#         plt.imshow(undist)\n",
    "\n",
    "\n"
   ]
  }
 ],
 "metadata": {
  "kernelspec": {
   "display_name": "Python 3",
   "language": "python",
   "name": "python3"
  },
  "language_info": {
   "codemirror_mode": {
    "name": "ipython",
    "version": 3
   },
   "file_extension": ".py",
   "mimetype": "text/x-python",
   "name": "python",
   "nbconvert_exporter": "python",
   "pygments_lexer": "ipython3",
   "version": "3.8.8"
  }
 },
 "nbformat": 4,
 "nbformat_minor": 5
}
