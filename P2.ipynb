{
 "cells": [
  {
   "cell_type": "markdown",
   "id": "b2e880d3",
   "metadata": {},
   "source": [
    "## Advanced Lane Finding Project\n",
    "\n",
    "The goals / steps of this project are the following:\n",
    "\n",
    "* Compute the camera calibration matrix and distortion coefficients given a set of chessboard images.\n",
    "* Apply a distortion correction to raw images.\n",
    "* Use color transforms, gradients, etc., to create a thresholded binary image.\n",
    "* Apply a perspective transform to rectify binary image (\"birds-eye view\").\n",
    "* Detect lane pixels and fit to find the lane boundary.\n",
    "* Determine the curvature of the lane and vehicle position with respect to center.\n",
    "* Warp the detected lane boundaries back onto the original image.\n",
    "* Output visual display of the lane boundaries and numerical estimation of lane curvature and vehicle position.\n"
   ]
  },
  {
   "cell_type": "code",
   "execution_count": 41,
   "id": "157ffb71",
   "metadata": {},
   "outputs": [],
   "source": [
    "import numpy as np\n",
    "import cv2\n",
    "import glob\n",
    "import matplotlib.pyplot as plt\n",
    "import matplotlib.image as mpimg\n",
    "import math\n",
    "import os\n",
    "import imp\n",
    "import Advanced_Lane_Lines as all\n",
    "\n",
    "%matplotlib qt"
   ]
  },
  {
   "cell_type": "code",
   "execution_count": 64,
   "id": "a9c9231b",
   "metadata": {},
   "outputs": [
    {
     "name": "stdout",
     "output_type": "stream",
     "text": [
      "1.0298153371058987\n",
      "[[1.15777930e+03 0.00000000e+00 6.67111054e+02]\n",
      " [0.00000000e+00 1.15282291e+03 3.86128938e+02]\n",
      " [0.00000000e+00 0.00000000e+00 1.00000000e+00]]\n",
      "[[-0.24688775 -0.02373133 -0.00109842  0.00035108 -0.00258571]]\n"
     ]
    }
   ],
   "source": [
    "# Init1: calcuate var: mtx, dist, M, Minv\n",
    "\n",
    "imp.reload(all)\n",
    "\n",
    "# Compute the camera calibration matrix and distortion coefficients\n",
    "ret, mtx, dist, rvecs, tvecs = all.calibrate_camera()\n",
    "\n",
    "# Compute perspective transform matrix\n",
    "M, Minv = all.cal_perspective_transform_mtx()\n",
    "\n",
    "print(ret)\n",
    "print(mtx)\n",
    "print(dist)\n",
    "# print(rvecs)\n",
    "# print(tvecs)\n",
    "\n",
    "# s1 = [180,719]\n",
    "# s2 = [555, 470]\n",
    "# s3 = [725, 470]\n",
    "# s4 = [1130,719]\n",
    "\n",
    "# d1 = [280,719]\n",
    "# d2 = [280,  0]\n",
    "# d3 = [1000,  0]\n",
    "# d4 = [1000, 719]\n",
    "\n",
    "# src = np.array([s1,s2,s3,s4],dtype = \"float32\")\n",
    "# dst = np.array([d1,d2,d3,d4],dtype = \"float32\")\n",
    "\n",
    "# M = cv2.getPerspectiveTransform(src, dst)\n",
    "# Minv = cv2.getPerspectiveTransform(dst, src)"
   ]
  },
  {
   "cell_type": "code",
   "execution_count": 74,
   "id": "8e15ed93",
   "metadata": {},
   "outputs": [],
   "source": [
    "# Init2: load imge\n",
    "cwd = os.getcwd()\n",
    "\n",
    "img = mpimg.imread(cwd + '/test_images/straight_lines2.jpg')\n",
    "# img = mpimg.imread(cwd + '/test_images/test1.jpg')\n",
    "\n",
    "# plt.imshow(img)\n",
    "\n",
    "# Apply a distortion correction to raw images.\n",
    "img_undistort = all.undistort_img(img, mtx, dist)\n",
    "\n",
    "# plt.imshow(img)\n",
    "\n",
    "plt.imshow(img_undistort)\n",
    "\n",
    "plt.show()\n"
   ]
  },
  {
   "cell_type": "code",
   "execution_count": 66,
   "id": "eb5ed3c1",
   "metadata": {},
   "outputs": [
    {
     "name": "stdout",
     "output_type": "stream",
     "text": [
      "3409.292136755352\n",
      "15358.667991026306\n",
      "0.1395265297555327\n",
      "(720, 1280, 3)\n"
     ]
    }
   ],
   "source": [
    "# Test4: check pipline\n",
    "img_result = all.my_pipline(img)\n",
    "print(img_result.shape)\n",
    "plt.imshow(img_result)\n",
    "\n",
    "plt.show()\n"
   ]
  },
  {
   "cell_type": "code",
   "execution_count": 52,
   "id": "0e763a7f",
   "metadata": {},
   "outputs": [],
   "source": [
    "# Import everything needed to edit/save/watch video clips\n",
    "from moviepy.editor import VideoFileClip\n",
    "from IPython.display import HTML"
   ]
  },
  {
   "cell_type": "code",
   "execution_count": 53,
   "id": "cd4218c8",
   "metadata": {},
   "outputs": [
    {
     "name": "stderr",
     "output_type": "stream",
     "text": [
      "\r",
      "t:   0%|                                                                            | 0/1260 [00:00<?, ?it/s, now=None]"
     ]
    },
    {
     "name": "stdout",
     "output_type": "stream",
     "text": [
      "659.6551891701151\n",
      "908.7695476365436\n",
      "-0.17965457247876107\n",
      "Moviepy - Building video D:\\hzf\\udacity\\project\\CarND-Advanced-Lane-Lines/output_video/P2.mp4.\n",
      "Moviepy - Writing video D:\\hzf\\udacity\\project\\CarND-Advanced-Lane-Lines/output_video/P2.mp4\n",
      "\n"
     ]
    },
    {
     "name": "stderr",
     "output_type": "stream",
     "text": [
      "\r",
      "t:   0%|                                                                    | 2/1260 [00:00<02:01, 10.33it/s, now=None]"
     ]
    },
    {
     "name": "stdout",
     "output_type": "stream",
     "text": [
      "659.6551891701151\n",
      "908.7695476365436\n",
      "-0.17965457247876107\n",
      "628.5465833397047\n",
      "997.9663164603538\n",
      "-0.18073473363956602\n"
     ]
    },
    {
     "name": "stderr",
     "output_type": "stream",
     "text": [
      "t:   0%|▎                                                                   | 5/1260 [00:00<03:14,  6.45it/s, now=None]"
     ]
    },
    {
     "name": "stdout",
     "output_type": "stream",
     "text": [
      "588.451394080539\n",
      "617.3301770056659\n",
      "-0.16879385008770237\n",
      "582.1429375311542\n",
      "622.8147863610371\n",
      "-0.17717204384655913\n"
     ]
    },
    {
     "name": "stderr",
     "output_type": "stream",
     "text": [
      "\r",
      "t:   0%|▎                                                                   | 6/1260 [00:00<03:27,  6.03it/s, now=None]"
     ]
    },
    {
     "name": "stdout",
     "output_type": "stream",
     "text": [
      "595.3879594645866\n",
      "698.5350972636537\n",
      "-0.1903466591352826\n",
      "673.7310894174581\n",
      "777.4941689716126\n",
      "-0.20149464354129284\n"
     ]
    },
    {
     "name": "stderr",
     "output_type": "stream",
     "text": [
      "t:   1%|▍                                                                   | 8/1260 [00:01<03:42,  5.62it/s, now=None]"
     ]
    },
    {
     "name": "stdout",
     "output_type": "stream",
     "text": [
      "706.9642217738722\n",
      "922.7149339997837\n",
      "-0.21344495397657395\n",
      "682.0555074244803\n",
      "41645.39377131993\n",
      "-0.29280985462420506\n"
     ]
    },
    {
     "name": "stderr",
     "output_type": "stream",
     "text": [
      "t:   1%|▌                                                                  | 11/1260 [00:01<03:45,  5.53it/s, now=None]"
     ]
    },
    {
     "name": "stdout",
     "output_type": "stream",
     "text": [
      "680.3514188757927\n",
      "2568954.4330956186\n",
      "-0.2813259405766721\n",
      "673.2844216193873\n",
      "2268.927404842394\n",
      "-0.2479254052894763\n"
     ]
    },
    {
     "name": "stderr",
     "output_type": "stream",
     "text": [
      "t:   1%|▋                                                                  | 13/1260 [00:02<03:41,  5.62it/s, now=None]"
     ]
    },
    {
     "name": "stdout",
     "output_type": "stream",
     "text": [
      "724.2575933289337\n",
      "2274.709087337668\n",
      "-0.24322523094413268\n",
      "844.15826519115\n",
      "1817.4338294404413\n",
      "-0.23274281255786525\n"
     ]
    },
    {
     "name": "stderr",
     "output_type": "stream",
     "text": [
      "\r",
      "t:   1%|▋                                                                  | 14/1260 [00:02<03:43,  5.58it/s, now=None]"
     ]
    },
    {
     "name": "stdout",
     "output_type": "stream",
     "text": [
      "819.1851380722811\n",
      "2260.320377996731\n",
      "-0.23346967123765766\n",
      "844.6852882141703\n",
      "2751.256003879102\n",
      "-0.23160137898158176\n"
     ]
    },
    {
     "name": "stderr",
     "output_type": "stream",
     "text": [
      "t:   1%|▊                                                                  | 16/1260 [00:02<03:46,  5.50it/s, now=None]"
     ]
    },
    {
     "name": "stdout",
     "output_type": "stream",
     "text": [
      "951.6637019069354\n",
      "839.9482010099416\n",
      "-0.2057230016762952\n"
     ]
    },
    {
     "name": "stderr",
     "output_type": "stream",
     "text": [
      "t:   1%|▉                                                                  | 18/1260 [00:03<03:52,  5.33it/s, now=None]"
     ]
    },
    {
     "name": "stdout",
     "output_type": "stream",
     "text": [
      "965.7356781291018\n",
      "840.9684374648527\n",
      "-0.1980723576859258\n",
      "998.3743199736775\n",
      "887.8515300087207\n",
      "-0.19384637022014548\n"
     ]
    },
    {
     "name": "stderr",
     "output_type": "stream",
     "text": [
      "\r",
      "t:   2%|█                                                                  | 19/1260 [00:03<03:50,  5.38it/s, now=None]"
     ]
    },
    {
     "name": "stdout",
     "output_type": "stream",
     "text": [
      "1126.7856509644273\n",
      "1015.8457247681523\n",
      "-0.1939135132669312\n",
      "1157.6459080384425\n",
      "1092.8259694845533\n",
      "-0.19167428393006689\n"
     ]
    },
    {
     "name": "stderr",
     "output_type": "stream",
     "text": [
      "t:   2%|█                                                                  | 21/1260 [00:03<04:09,  4.96it/s, now=None]"
     ]
    },
    {
     "name": "stdout",
     "output_type": "stream",
     "text": [
      "1212.7994692251418\n",
      "1373.9115827107198\n",
      "-0.1965720983131345\n"
     ]
    },
    {
     "name": "stderr",
     "output_type": "stream",
     "text": [
      "\r",
      "t:   2%|█▏                                                                 | 22/1260 [00:04<04:38,  4.45it/s, now=None]"
     ]
    },
    {
     "name": "stdout",
     "output_type": "stream",
     "text": [
      "1311.6612729321248\n",
      "2304.193574424167\n",
      "-0.21719663527441016\n"
     ]
    },
    {
     "name": "stderr",
     "output_type": "stream",
     "text": [
      "\r",
      "t:   2%|█▏                                                                 | 23/1260 [00:04<04:41,  4.40it/s, now=None]"
     ]
    },
    {
     "name": "stdout",
     "output_type": "stream",
     "text": [
      "1153.8775682951768\n",
      "1619.1919687595366\n",
      "-0.1922705948722445\n"
     ]
    },
    {
     "name": "stderr",
     "output_type": "stream",
     "text": [
      "\r",
      "t:   2%|█▎                                                                 | 24/1260 [00:04<04:32,  4.54it/s, now=None]"
     ]
    },
    {
     "name": "stdout",
     "output_type": "stream",
     "text": [
      "1216.4511017196949\n",
      "1736.8713579792184\n",
      "-0.181835115437278\n",
      "1033.8281026375178\n",
      "913.4221535339423\n",
      "-0.1469150532483506\n"
     ]
    },
    {
     "name": "stderr",
     "output_type": "stream",
     "text": [
      "t:   2%|█▍                                                                 | 26/1260 [00:04<04:17,  4.78it/s, now=None]"
     ]
    },
    {
     "name": "stdout",
     "output_type": "stream",
     "text": [
      "958.5349920839792\n",
      "868.974116178405\n",
      "-0.14013074978863976\n"
     ]
    },
    {
     "name": "stderr",
     "output_type": "stream",
     "text": [
      "\r",
      "t:   2%|█▍                                                                 | 27/1260 [00:05<04:24,  4.65it/s, now=None]"
     ]
    },
    {
     "name": "stdout",
     "output_type": "stream",
     "text": [
      "907.2514601836929\n",
      "1065.9437950010663\n",
      "-0.1412281903055713\n"
     ]
    },
    {
     "name": "stderr",
     "output_type": "stream",
     "text": [
      "\r",
      "t:   2%|█▍                                                                 | 28/1260 [00:05<04:29,  4.57it/s, now=None]"
     ]
    },
    {
     "name": "stdout",
     "output_type": "stream",
     "text": [
      "827.2385274888478\n",
      "1020.8767538451955\n",
      "-0.13414708139696993\n"
     ]
    },
    {
     "name": "stderr",
     "output_type": "stream",
     "text": [
      "\r",
      "t:   2%|█▌                                                                 | 29/1260 [00:05<04:26,  4.62it/s, now=None]"
     ]
    },
    {
     "name": "stdout",
     "output_type": "stream",
     "text": [
      "874.3028870878213\n",
      "1348.314437126986\n",
      "-0.13837535121963723\n"
     ]
    },
    {
     "name": "stderr",
     "output_type": "stream",
     "text": [
      "\r",
      "t:   2%|█▌                                                                 | 30/1260 [00:05<04:45,  4.31it/s, now=None]"
     ]
    },
    {
     "name": "stdout",
     "output_type": "stream",
     "text": [
      "765.4562139709631\n",
      "1085.3341189683247\n",
      "-0.12923751521387253\n"
     ]
    },
    {
     "name": "stderr",
     "output_type": "stream",
     "text": [
      "\r",
      "t:   2%|█▋                                                                 | 31/1260 [00:06<04:59,  4.11it/s, now=None]"
     ]
    },
    {
     "name": "stdout",
     "output_type": "stream",
     "text": [
      "674.8389486390271\n",
      "646.763542377944\n",
      "-0.11688977011108942\n"
     ]
    },
    {
     "name": "stderr",
     "output_type": "stream",
     "text": [
      "\r",
      "t:   3%|█▋                                                                 | 32/1260 [00:06<04:45,  4.30it/s, now=None]"
     ]
    },
    {
     "name": "stdout",
     "output_type": "stream",
     "text": [
      "715.383886266814\n",
      "710.3321929741636\n",
      "-0.12774606034094035\n"
     ]
    },
    {
     "name": "stderr",
     "output_type": "stream",
     "text": [
      "t:   3%|█▊                                                                 | 34/1260 [00:06<04:27,  4.58it/s, now=None]"
     ]
    },
    {
     "name": "stdout",
     "output_type": "stream",
     "text": [
      "658.4634534451766\n",
      "763.6878634089844\n",
      "-0.13080437216172033\n",
      "670.0650317813682\n",
      "1217.0150270188594\n",
      "-0.16213888681308095\n"
     ]
    },
    {
     "name": "stderr",
     "output_type": "stream",
     "text": [
      "\r",
      "t:   3%|█▊                                                                 | 35/1260 [00:06<04:43,  4.33it/s, now=None]"
     ]
    },
    {
     "name": "stdout",
     "output_type": "stream",
     "text": [
      "656.9776613299975\n",
      "2564.1034204384937\n",
      "-0.19389932385834086\n"
     ]
    },
    {
     "name": "stderr",
     "output_type": "stream",
     "text": [
      "\r",
      "t:   3%|█▉                                                                 | 36/1260 [00:07<04:40,  4.36it/s, now=None]"
     ]
    },
    {
     "name": "stdout",
     "output_type": "stream",
     "text": [
      "600.7087045408962\n",
      "2097.059653157414\n",
      "-0.1834329860815244\n"
     ]
    },
    {
     "name": "stderr",
     "output_type": "stream",
     "text": [
      "\r",
      "t:   3%|█▉                                                                 | 37/1260 [00:07<04:48,  4.25it/s, now=None]"
     ]
    },
    {
     "name": "stdout",
     "output_type": "stream",
     "text": [
      "576.7555316930678\n",
      "817.711729441105\n",
      "-0.14432963844341326\n"
     ]
    },
    {
     "name": "stderr",
     "output_type": "stream",
     "text": [
      "\r",
      "t:   3%|██                                                                 | 38/1260 [00:07<05:07,  3.97it/s, now=None]"
     ]
    },
    {
     "name": "stdout",
     "output_type": "stream",
     "text": [
      "544.2338328822524\n",
      "905.3597860416369\n",
      "-0.14445585412240528\n",
      "482.66030555538345\n",
      "964.305697335067\n",
      "-0.14604243615294835\n"
     ]
    },
    {
     "name": "stderr",
     "output_type": "stream",
     "text": [
      "t:   3%|██▏                                                                | 40/1260 [00:08<05:08,  3.95it/s, now=None]"
     ]
    },
    {
     "name": "stdout",
     "output_type": "stream",
     "text": [
      "474.10918972469386\n",
      "603.1734436225922\n",
      "-0.12294245894161702\n",
      "490.7883411061005\n",
      "584.8330952127585\n",
      "-0.12631288976691635\n"
     ]
    },
    {
     "name": "stderr",
     "output_type": "stream",
     "text": [
      "t:   3%|██▏                                                                | 42/1260 [00:08<04:41,  4.33it/s, now=None]"
     ]
    },
    {
     "name": "stdout",
     "output_type": "stream",
     "text": [
      "486.31581435604636\n",
      "569.2595239921934\n",
      "-0.1298528195982203\n"
     ]
    },
    {
     "name": "stderr",
     "output_type": "stream",
     "text": [
      "\r",
      "t:   3%|██▎                                                                | 43/1260 [00:08<04:51,  4.18it/s, now=None]"
     ]
    },
    {
     "name": "stdout",
     "output_type": "stream",
     "text": [
      "480.0648183156845\n",
      "583.2728982211116\n",
      "-0.13663547082431765\n"
     ]
    },
    {
     "name": "stderr",
     "output_type": "stream",
     "text": [
      "\r",
      "t:   3%|██▎                                                                | 44/1260 [00:09<05:16,  3.84it/s, now=None]"
     ]
    },
    {
     "name": "stdout",
     "output_type": "stream",
     "text": [
      "489.6849437707636\n",
      "615.9377376437794\n",
      "-0.14855720568889355\n"
     ]
    },
    {
     "name": "stderr",
     "output_type": "stream",
     "text": [
      "\r",
      "t:   4%|██▍                                                                | 45/1260 [00:09<05:10,  3.91it/s, now=None]"
     ]
    },
    {
     "name": "stdout",
     "output_type": "stream",
     "text": [
      "524.9002063531823\n",
      "676.352240115492\n",
      "-0.15498119547955683\n"
     ]
    },
    {
     "name": "stderr",
     "output_type": "stream",
     "text": [
      "\r",
      "t:   4%|██▍                                                                | 46/1260 [00:09<05:04,  3.98it/s, now=None]"
     ]
    },
    {
     "name": "stdout",
     "output_type": "stream",
     "text": [
      "528.2169108865096\n",
      "739.0151082914795\n",
      "-0.1665957896511163\n"
     ]
    },
    {
     "name": "stderr",
     "output_type": "stream",
     "text": [
      "\r",
      "t:   4%|██▍                                                                | 47/1260 [00:09<05:03,  4.00it/s, now=None]"
     ]
    },
    {
     "name": "stdout",
     "output_type": "stream",
     "text": [
      "533.7058523242374\n",
      "1368.7043011101382\n",
      "-0.20668342892692537\n"
     ]
    },
    {
     "name": "stderr",
     "output_type": "stream",
     "text": [
      "t:   4%|██▌                                                                | 49/1260 [00:10<04:28,  4.51it/s, now=None]"
     ]
    },
    {
     "name": "stdout",
     "output_type": "stream",
     "text": [
      "563.8211265114833\n",
      "2152.5751322541832\n",
      "-0.21929076057546326\n",
      "586.9135781391728\n",
      "1525.5192000680793\n",
      "-0.20300891136134763\n"
     ]
    },
    {
     "name": "stderr",
     "output_type": "stream",
     "text": [
      "t:   4%|██▋                                                                | 51/1260 [00:10<03:59,  5.04it/s, now=None]"
     ]
    },
    {
     "name": "stdout",
     "output_type": "stream",
     "text": [
      "610.2919994168827\n",
      "1826.9027292214726\n",
      "-0.201608986459351\n",
      "664.3738154370653\n",
      "700.9581702272081\n",
      "-0.16811209676679878\n"
     ]
    },
    {
     "name": "stderr",
     "output_type": "stream",
     "text": [
      "\r",
      "t:   4%|██▊                                                                | 52/1260 [00:10<04:12,  4.78it/s, now=None]"
     ]
    },
    {
     "name": "stdout",
     "output_type": "stream",
     "text": [
      "758.4285390664976\n",
      "902.7115379680697\n",
      "-0.18391289013665593\n"
     ]
    },
    {
     "name": "stderr",
     "output_type": "stream",
     "text": [
      "\r",
      "t:   4%|██▊                                                                | 53/1260 [00:11<04:13,  4.77it/s, now=None]"
     ]
    },
    {
     "name": "stdout",
     "output_type": "stream",
     "text": [
      "761.9672367327338\n",
      "1002.3769060380084\n",
      "-0.1820754790374817\n"
     ]
    },
    {
     "name": "stderr",
     "output_type": "stream",
     "text": [
      "\r",
      "t:   4%|██▊                                                                | 54/1260 [00:11<04:18,  4.66it/s, now=None]"
     ]
    },
    {
     "name": "stdout",
     "output_type": "stream",
     "text": [
      "800.6137464790955\n",
      "607.8898773554548\n",
      "-0.16218972743058596\n",
      "1065.9430902701072\n",
      "566.229761077458\n",
      "-0.16630340708642222\n"
     ]
    },
    {
     "name": "stderr",
     "output_type": "stream",
     "text": [
      "t:   4%|██▉                                                                | 56/1260 [00:11<04:24,  4.55it/s, now=None]"
     ]
    },
    {
     "name": "stdout",
     "output_type": "stream",
     "text": [
      "1142.8100871016559\n",
      "606.1396495302002\n",
      "-0.17002153177793936\n"
     ]
    },
    {
     "name": "stderr",
     "output_type": "stream",
     "text": [
      "t:   5%|███                                                                | 58/1260 [00:12<04:05,  4.89it/s, now=None]"
     ]
    },
    {
     "name": "stdout",
     "output_type": "stream",
     "text": [
      "1151.7590082528\n",
      "678.0005993513838\n",
      "-0.16975380604078166\n",
      "1373.3105951689702\n",
      "784.0842504334549\n",
      "-0.17765782448284104\n"
     ]
    },
    {
     "name": "stderr",
     "output_type": "stream",
     "text": [
      "t:   5%|███▏                                                               | 60/1260 [00:12<03:50,  5.21it/s, now=None]"
     ]
    },
    {
     "name": "stdout",
     "output_type": "stream",
     "text": [
      "1436.3124792990413\n",
      "1155.07630030729\n",
      "-0.1989964244524291\n",
      "1072.563720238884\n",
      "1884.3836181912138\n",
      "-0.2067305939022018\n"
     ]
    },
    {
     "name": "stderr",
     "output_type": "stream",
     "text": [
      "\r",
      "t:   5%|███▏                                                               | 61/1260 [00:12<03:53,  5.14it/s, now=None]"
     ]
    },
    {
     "name": "stdout",
     "output_type": "stream",
     "text": [
      "910.9016026135315\n",
      "1200.8640848597706\n",
      "-0.16921290410574966\n"
     ]
    },
    {
     "name": "stderr",
     "output_type": "stream",
     "text": [
      "\r",
      "t:   5%|███▎                                                               | 62/1260 [00:12<03:58,  5.02it/s, now=None]"
     ]
    },
    {
     "name": "stdout",
     "output_type": "stream",
     "text": [
      "834.5871580594815\n",
      "1759.1552410060262\n",
      "-0.16375569478491575\n"
     ]
    },
    {
     "name": "stderr",
     "output_type": "stream",
     "text": [
      "\r",
      "t:   5%|███▎                                                               | 63/1260 [00:13<04:06,  4.85it/s, now=None]"
     ]
    },
    {
     "name": "stdout",
     "output_type": "stream",
     "text": [
      "788.3661485541152\n",
      "1092.5183173171051\n",
      "-0.13802480133904965\n"
     ]
    },
    {
     "name": "stderr",
     "output_type": "stream",
     "text": [
      "t:   5%|███▍                                                               | 65/1260 [00:13<04:03,  4.91it/s, now=None]"
     ]
    },
    {
     "name": "stdout",
     "output_type": "stream",
     "text": [
      "781.2773345787969\n",
      "1616.2989417706356\n",
      "-0.1367742116862676\n",
      "756.4038870400946\n",
      "716.0728560397182\n",
      "-0.1045184239419872\n"
     ]
    },
    {
     "name": "stderr",
     "output_type": "stream",
     "text": [
      "\r",
      "t:   5%|███▌                                                               | 66/1260 [00:13<04:04,  4.89it/s, now=None]"
     ]
    },
    {
     "name": "stdout",
     "output_type": "stream",
     "text": [
      "750.8868016337144\n",
      "744.7711512814789\n",
      "-0.09769930521718455\n",
      "726.2138277283157\n",
      "799.7664532113893\n",
      "-0.09444712589272951\n"
     ]
    },
    {
     "name": "stderr",
     "output_type": "stream",
     "text": [
      "t:   5%|███▌                                                               | 68/1260 [00:14<03:54,  5.09it/s, now=None]"
     ]
    },
    {
     "name": "stdout",
     "output_type": "stream",
     "text": [
      "721.3499911691174\n",
      "923.6800375299939\n",
      "-0.0885253425798351\n",
      "752.1556468163652\n",
      "1040.1341538067256"
     ]
    },
    {
     "name": "stderr",
     "output_type": "stream",
     "text": [
      "\r",
      "t:   5%|███▋                                                               | 69/1260 [00:14<04:04,  4.87it/s, now=None]"
     ]
    },
    {
     "name": "stdout",
     "output_type": "stream",
     "text": [
      "\n",
      "-0.085999692637491\n"
     ]
    },
    {
     "name": "stderr",
     "output_type": "stream",
     "text": [
      "t:   6%|███▊                                                               | 71/1260 [00:14<03:54,  5.06it/s, now=None]"
     ]
    },
    {
     "name": "stdout",
     "output_type": "stream",
     "text": [
      "723.3724799846366\n",
      "1140.8872173136986\n",
      "-0.08416541232697133\n",
      "736.5288893025177\n",
      "1381.736234942935\n",
      "-0.08763473084169596\n"
     ]
    },
    {
     "name": "stderr",
     "output_type": "stream",
     "text": [
      "\r",
      "t:   6%|███▊                                                               | 72/1260 [00:14<03:50,  5.16it/s, now=None]"
     ]
    },
    {
     "name": "stdout",
     "output_type": "stream",
     "text": [
      "796.2921682809404\n",
      "12736.027066350342\n",
      "-0.13385813829086377\n",
      "832.5484864948847\n",
      "1185.7726684375014\n",
      "-0.08000374062709979\n"
     ]
    },
    {
     "name": "stderr",
     "output_type": "stream",
     "text": [
      "t:   6%|███▉                                                               | 74/1260 [00:15<04:00,  4.94it/s, now=None]"
     ]
    },
    {
     "name": "stdout",
     "output_type": "stream",
     "text": [
      "974.4365382878759\n",
      "1095.274188087497\n",
      "-0.07457979287630795\n"
     ]
    },
    {
     "name": "stderr",
     "output_type": "stream",
     "text": [
      "\r",
      "t:   6%|███▉                                                               | 75/1260 [00:15<04:12,  4.69it/s, now=None]"
     ]
    },
    {
     "name": "stdout",
     "output_type": "stream",
     "text": [
      "1019.3073916787085\n",
      "975.0962278774468\n",
      "-0.0653877228147273\n"
     ]
    },
    {
     "name": "stderr",
     "output_type": "stream",
     "text": [
      "t:   6%|████                                                               | 77/1260 [00:15<03:53,  5.07it/s, now=None]"
     ]
    },
    {
     "name": "stdout",
     "output_type": "stream",
     "text": [
      "1175.7430785698389\n",
      "1135.0733714453063\n",
      "-0.07023905330054238\n",
      "1291.5818802270846\n",
      "1284.0810780361587\n",
      "-0.07344066653510115\n"
     ]
    },
    {
     "name": "stderr",
     "output_type": "stream",
     "text": [
      "t:   6%|████▏                                                              | 79/1260 [00:16<03:39,  5.39it/s, now=None]"
     ]
    },
    {
     "name": "stdout",
     "output_type": "stream",
     "text": [
      "1522.6889323593216\n",
      "959.2744577477843\n",
      "-0.061476467766819046\n",
      "1962.5325007037213\n",
      "626.0053903379456\n",
      "-0.04973877237882677\n"
     ]
    },
    {
     "name": "stderr",
     "output_type": "stream",
     "text": [
      "\r",
      "t:   6%|████▎                                                              | 80/1260 [00:16<04:05,  4.81it/s, now=None]"
     ]
    },
    {
     "name": "stdout",
     "output_type": "stream",
     "text": [
      "2173.226399851683\n",
      "597.5092438152398\n",
      "-0.04596296977894983\n"
     ]
    },
    {
     "name": "stderr",
     "output_type": "stream",
     "text": [
      "\r",
      "t:   6%|████▎                                                              | 81/1260 [00:16<04:08,  4.74it/s, now=None]"
     ]
    },
    {
     "name": "stdout",
     "output_type": "stream",
     "text": [
      "1750.670621289722\n",
      "605.5008525737389\n",
      "-0.03662057641388966\n",
      "2029.1947015041774\n",
      "666.7013970846957\n",
      "-0.03818133503197373\n"
     ]
    },
    {
     "name": "stderr",
     "output_type": "stream",
     "text": [
      "t:   7%|████▍                                                              | 83/1260 [00:17<04:05,  4.79it/s, now=None]"
     ]
    },
    {
     "name": "stdout",
     "output_type": "stream",
     "text": [
      "1884.536649290077\n",
      "742.4195908245184\n",
      "-0.031756994987046254\n",
      "1711.9024472018848\n",
      "935.9440478849298\n",
      "-0.04287985521305885\n"
     ]
    },
    {
     "name": "stderr",
     "output_type": "stream",
     "text": [
      "t:   7%|████▌                                                              | 85/1260 [00:17<03:53,  5.02it/s, now=None]"
     ]
    },
    {
     "name": "stdout",
     "output_type": "stream",
     "text": [
      "1860.5065725902166\n",
      "1764.592219213642\n",
      "-0.07398348126575538\n",
      "1510.4738718419692\n",
      "3127.864899239888\n",
      "-0.08031999456020263\n"
     ]
    },
    {
     "name": "stderr",
     "output_type": "stream",
     "text": [
      "t:   7%|████▋                                                              | 87/1260 [00:18<04:03,  4.82it/s, now=None]"
     ]
    },
    {
     "name": "stdout",
     "output_type": "stream",
     "text": [
      "1331.7844773213012\n",
      "5747.839009206167\n",
      "-0.07286446204180369\n"
     ]
    },
    {
     "name": "stderr",
     "output_type": "stream",
     "text": [
      "\r",
      "t:   7%|████▋                                                              | 88/1260 [00:18<04:04,  4.80it/s, now=None]"
     ]
    },
    {
     "name": "stdout",
     "output_type": "stream",
     "text": [
      "1105.0933989204427\n",
      "1103.0212458639764\n",
      "-0.025496050992852133\n"
     ]
    },
    {
     "name": "stderr",
     "output_type": "stream",
     "text": [
      "\r",
      "t:   7%|████▋                                                              | 89/1260 [00:18<04:05,  4.76it/s, now=None]"
     ]
    },
    {
     "name": "stdout",
     "output_type": "stream",
     "text": [
      "932.8136680883217\n",
      "1498.3315536028824\n",
      "-0.02926447245298282\n"
     ]
    },
    {
     "name": "stderr",
     "output_type": "stream",
     "text": [
      "\r",
      "t:   7%|████▊                                                              | 90/1260 [00:18<04:06,  4.74it/s, now=None]"
     ]
    },
    {
     "name": "stdout",
     "output_type": "stream",
     "text": [
      "863.2956697690462\n",
      "1228.4889271084933\n",
      "-0.016809387073465278\n"
     ]
    },
    {
     "name": "stderr",
     "output_type": "stream",
     "text": [
      "\r",
      "t:   7%|████▊                                                              | 91/1260 [00:18<04:14,  4.59it/s, now=None]"
     ]
    },
    {
     "name": "stdout",
     "output_type": "stream",
     "text": [
      "731.256369155078\n",
      "640.8592757131416\n",
      "0.005489675319476224\n"
     ]
    },
    {
     "name": "stderr",
     "output_type": "stream",
     "text": [
      "\r",
      "t:   7%|████▉                                                              | 92/1260 [00:19<04:39,  4.17it/s, now=None]"
     ]
    },
    {
     "name": "stdout",
     "output_type": "stream",
     "text": [
      "736.5086549533542\n",
      "707.0284950492897\n",
      "-0.0012011524597793206\n"
     ]
    },
    {
     "name": "stderr",
     "output_type": "stream",
     "text": [
      "\r",
      "t:   7%|████▉                                                              | 93/1260 [00:19<04:32,  4.28it/s, now=None]"
     ]
    },
    {
     "name": "stdout",
     "output_type": "stream",
     "text": [
      "766.5189305241257\n",
      "752.7468328708744\n",
      "-0.0068095189009541824\n",
      "725.6308413012787\n",
      "808.1732761882579\n",
      "-0.008426533788085474\n"
     ]
    },
    {
     "name": "stderr",
     "output_type": "stream",
     "text": [
      "t:   8%|█████                                                              | 96/1260 [00:19<03:53,  4.99it/s, now=None]"
     ]
    },
    {
     "name": "stdout",
     "output_type": "stream",
     "text": [
      "737.1600192408173\n",
      "936.9141741297504\n",
      "-0.015992798027059052\n",
      "762.9275754367233\n",
      "1057.944485716626\n",
      "-0.018150020128645535\n"
     ]
    },
    {
     "name": "stderr",
     "output_type": "stream",
     "text": [
      "t:   8%|█████▏                                                             | 98/1260 [00:20<03:40,  5.27it/s, now=None]"
     ]
    },
    {
     "name": "stdout",
     "output_type": "stream",
     "text": [
      "814.3364969575832\n",
      "1534.0992071540875\n",
      "-0.04353646064643787\n",
      "808.7890191984717\n",
      "1012.0965007704225\n",
      "-0.02152925657481665\n"
     ]
    },
    {
     "name": "stderr",
     "output_type": "stream",
     "text": [
      "\r",
      "t:   8%|█████▎                                                             | 99/1260 [00:20<03:43,  5.20it/s, now=None]"
     ]
    },
    {
     "name": "stdout",
     "output_type": "stream",
     "text": [
      "807.9370256173041\n",
      "1030.4813900153683\n",
      "-0.021242781569243384\n"
     ]
    },
    {
     "name": "stderr",
     "output_type": "stream",
     "text": [
      "\r",
      "t:   8%|█████▏                                                            | 100/1260 [00:20<03:48,  5.09it/s, now=None]"
     ]
    },
    {
     "name": "stdout",
     "output_type": "stream",
     "text": [
      "779.2692542943586\n",
      "893.0342774540509\n",
      "-0.014452235174761525\n",
      "800.0123116192574\n",
      "846.0601491385778\n",
      "-0.01380653433220141\n"
     ]
    },
    {
     "name": "stderr",
     "output_type": "stream",
     "text": [
      "t:   8%|█████▎                                                            | 102/1260 [00:21<03:49,  5.04it/s, now=None]"
     ]
    },
    {
     "name": "stdout",
     "output_type": "stream",
     "text": [
      "786.9467561201299\n",
      "925.5518918171435\n",
      "-0.021025068794806416\n"
     ]
    },
    {
     "name": "stderr",
     "output_type": "stream",
     "text": [
      "\r",
      "t:   8%|█████▍                                                            | 103/1260 [00:21<03:58,  4.85it/s, now=None]"
     ]
    },
    {
     "name": "stdout",
     "output_type": "stream",
     "text": [
      "785.2020577705608\n",
      "827.0251586677452\n",
      "-0.015130188300206475\n"
     ]
    },
    {
     "name": "stderr",
     "output_type": "stream",
     "text": [
      "\r",
      "t:   8%|█████▍                                                            | 104/1260 [00:21<04:03,  4.74it/s, now=None]"
     ]
    },
    {
     "name": "stdout",
     "output_type": "stream",
     "text": [
      "738.6057575017262\n",
      "613.7312615790942\n",
      "-0.009387587417547886\n"
     ]
    },
    {
     "name": "stderr",
     "output_type": "stream",
     "text": [
      "t:   8%|█████▌                                                            | 106/1260 [00:21<03:48,  5.04it/s, now=None]"
     ]
    },
    {
     "name": "stdout",
     "output_type": "stream",
     "text": [
      "737.8528718793942\n",
      "646.5317222010735\n",
      "-0.01793171106063057\n",
      "760.7262666649073\n",
      "687.9586156080684\n",
      "-0.02527778891915297\n"
     ]
    },
    {
     "name": "stderr",
     "output_type": "stream",
     "text": [
      "\r",
      "t:   8%|█████▌                                                            | 107/1260 [00:22<04:06,  4.67it/s, now=None]"
     ]
    },
    {
     "name": "stdout",
     "output_type": "stream",
     "text": [
      "793.8162916595151\n",
      "710.7022421935305\n",
      "-0.03728971850815159\n"
     ]
    },
    {
     "name": "stderr",
     "output_type": "stream",
     "text": [
      "\r",
      "t:   9%|█████▋                                                            | 108/1260 [00:22<04:15,  4.50it/s, now=None]"
     ]
    },
    {
     "name": "stdout",
     "output_type": "stream",
     "text": [
      "762.4157295806733\n",
      "737.1296599883791\n",
      "-0.043770066252004886\n"
     ]
    },
    {
     "name": "stderr",
     "output_type": "stream",
     "text": [
      "\r",
      "t:   9%|█████▋                                                            | 109/1260 [00:22<04:21,  4.41it/s, now=None]"
     ]
    },
    {
     "name": "stdout",
     "output_type": "stream",
     "text": [
      "721.1842807896468\n",
      "866.2768129536208\n",
      "-0.05988344208465368\n",
      "727.9279185936105\n",
      "1289.5502206258532\n",
      "-0.08944403614697018\n"
     ]
    },
    {
     "name": "stderr",
     "output_type": "stream",
     "text": [
      "t:   9%|█████▊                                                            | 111/1260 [00:23<04:02,  4.74it/s, now=None]"
     ]
    },
    {
     "name": "stdout",
     "output_type": "stream",
     "text": [
      "729.7088967860763\n",
      "1806.6739808833747\n",
      "-0.09935632206495307\n"
     ]
    },
    {
     "name": "stderr",
     "output_type": "stream",
     "text": [
      "\r",
      "t:   9%|█████▊                                                            | 112/1260 [00:23<04:01,  4.75it/s, now=None]"
     ]
    },
    {
     "name": "stdout",
     "output_type": "stream",
     "text": [
      "686.0800866753566\n",
      "1380.4744913823006\n",
      "-0.0882667738734791\n",
      "715.5278786677972\n",
      "1496.4064315437843\n",
      "-0.0908338484318423\n"
     ]
    },
    {
     "name": "stderr",
     "output_type": "stream",
     "text": [
      "t:   9%|█████▉                                                            | 114/1260 [00:23<03:44,  5.11it/s, now=None]"
     ]
    },
    {
     "name": "stdout",
     "output_type": "stream",
     "text": [
      "740.3401125159261\n",
      "878.3700511448147\n",
      "-0.07721769712390916\n",
      "727.1849589280228\n",
      "672.3736265742568\n",
      "-0.06910597065420565\n"
     ]
    },
    {
     "name": "stderr",
     "output_type": "stream",
     "text": [
      "t:   9%|██████                                                            | 116/1260 [00:24<03:53,  4.91it/s, now=None]"
     ]
    },
    {
     "name": "stdout",
     "output_type": "stream",
     "text": [
      "616.7330785627132\n",
      "578.8163858970948\n",
      "-0.06338398447320372\n",
      "618.937150966248\n",
      "492.28516131734085\n",
      "-0.06176157317884866\n"
     ]
    },
    {
     "name": "stderr",
     "output_type": "stream",
     "text": [
      "t:   9%|██████▏                                                           | 118/1260 [00:24<03:55,  4.84it/s, now=None]"
     ]
    },
    {
     "name": "stdout",
     "output_type": "stream",
     "text": [
      "596.3284217380307\n",
      "545.9926442057927\n",
      "-0.07111307593303075\n"
     ]
    },
    {
     "name": "stderr",
     "output_type": "stream",
     "text": [
      "\r",
      "t:   9%|██████▏                                                           | 119/1260 [00:24<04:04,  4.67it/s, now=None]"
     ]
    },
    {
     "name": "stdout",
     "output_type": "stream",
     "text": [
      "593.2214592588649\n",
      "551.2492145319425\n",
      "-0.0782730032884765\n"
     ]
    },
    {
     "name": "stderr",
     "output_type": "stream",
     "text": [
      "\r",
      "t:  10%|██████▎                                                           | 120/1260 [00:24<04:08,  4.58it/s, now=None]"
     ]
    },
    {
     "name": "stdout",
     "output_type": "stream",
     "text": [
      "620.6539467731883\n",
      "602.0529563331319\n",
      "-0.08940563336804917\n",
      "605.6503445413484\n",
      "632.9044913443678\n",
      "-0.09904727447579603\n"
     ]
    },
    {
     "name": "stderr",
     "output_type": "stream",
     "text": [
      "t:  10%|██████▍                                                           | 122/1260 [00:25<03:56,  4.82it/s, now=None]"
     ]
    },
    {
     "name": "stdout",
     "output_type": "stream",
     "text": [
      "554.0934733137226\n",
      "759.6458644439482\n",
      "-0.1234468868271838\n"
     ]
    },
    {
     "name": "stderr",
     "output_type": "stream",
     "text": [
      "\r",
      "t:  10%|██████▍                                                           | 123/1260 [00:25<04:00,  4.74it/s, now=None]"
     ]
    },
    {
     "name": "stdout",
     "output_type": "stream",
     "text": [
      "557.1214087103721\n",
      "745.0135282695715\n",
      "-0.13033758307708795\n"
     ]
    },
    {
     "name": "stderr",
     "output_type": "stream",
     "text": [
      "t:  10%|██████▌                                                           | 125/1260 [00:25<03:48,  4.97it/s, now=None]"
     ]
    },
    {
     "name": "stdout",
     "output_type": "stream",
     "text": [
      "548.4627567835751\n",
      "689.8441753713199\n",
      "-0.12127002820173831\n",
      "566.9232551490002\n",
      "826.4771091454629\n",
      "-0.13888436706216503\n"
     ]
    },
    {
     "name": "stderr",
     "output_type": "stream",
     "text": [
      "\r",
      "t:  10%|██████▌                                                           | 126/1260 [00:26<03:40,  5.15it/s, now=None]"
     ]
    },
    {
     "name": "stdout",
     "output_type": "stream",
     "text": [
      "557.3461351510234\n",
      "902.3660115114463\n",
      "-0.14176372073033702\n",
      "613.8673905848414\n",
      "627.0177781127229\n",
      "-0.13034124062290361\n"
     ]
    },
    {
     "name": "stderr",
     "output_type": "stream",
     "text": [
      "t:  10%|██████▊                                                           | 129/1260 [00:26<03:25,  5.52it/s, now=None]"
     ]
    },
    {
     "name": "stdout",
     "output_type": "stream",
     "text": [
      "595.720330456985\n",
      "515.5851475241977\n",
      "-0.12335142324935737\n",
      "649.9236807303221\n",
      "550.9771291316003\n",
      "-0.13385857485028413\n"
     ]
    },
    {
     "name": "stderr",
     "output_type": "stream",
     "text": [
      "\r",
      "t:  10%|██████▊                                                           | 130/1260 [00:26<03:21,  5.61it/s, now=None]"
     ]
    },
    {
     "name": "stdout",
     "output_type": "stream",
     "text": [
      "611.7394127793676\n",
      "558.0006096444375\n",
      "-0.139903249044304\n"
     ]
    },
    {
     "name": "stderr",
     "output_type": "stream",
     "text": [
      "\r",
      "t:  10%|██████▊                                                           | 131/1260 [00:27<04:06,  4.58it/s, now=None]"
     ]
    },
    {
     "name": "stdout",
     "output_type": "stream",
     "text": [
      "659.6280400031656\n",
      "577.4668424883205\n",
      "-0.14213823381891458\n"
     ]
    },
    {
     "name": "stderr",
     "output_type": "stream",
     "text": [
      "\r",
      "t:  10%|██████▉                                                           | 132/1260 [00:27<04:03,  4.63it/s, now=None]"
     ]
    },
    {
     "name": "stdout",
     "output_type": "stream",
     "text": [
      "703.9620511310345\n",
      "628.650154431729\n",
      "-0.1530397886931337\n",
      "738.8786123458949\n",
      "711.3457264965456\n",
      "-0.16287669943774444\n"
     ]
    },
    {
     "name": "stderr",
     "output_type": "stream",
     "text": [
      "t:  11%|███████                                                           | 135/1260 [00:27<03:32,  5.30it/s, now=None]"
     ]
    },
    {
     "name": "stdout",
     "output_type": "stream",
     "text": [
      "840.2929220470186\n",
      "762.19302809362\n",
      "-0.17695170701402735\n",
      "851.2785081418941\n",
      "756.2451911744475\n",
      "-0.1868118815541785\n"
     ]
    },
    {
     "name": "stderr",
     "output_type": "stream",
     "text": [
      "\r",
      "t:  11%|███████                                                           | 136/1260 [00:28<03:37,  5.16it/s, now=None]"
     ]
    },
    {
     "name": "stdout",
     "output_type": "stream",
     "text": [
      "803.1405188883889\n",
      "910.3840734909562\n",
      "-0.19636405420214598\n"
     ]
    },
    {
     "name": "stderr",
     "output_type": "stream",
     "text": [
      "\r",
      "t:  11%|███████▏                                                          | 137/1260 [00:28<03:49,  4.90it/s, now=None]"
     ]
    },
    {
     "name": "stdout",
     "output_type": "stream",
     "text": [
      "858.2099411103655\n",
      "925.5745025343866\n",
      "-0.19821476007096667\n",
      "902.010824304766\n",
      "980.9887707922064\n",
      "-0.1957754562213443\n"
     ]
    },
    {
     "name": "stderr",
     "output_type": "stream",
     "text": [
      "t:  11%|███████▎                                                          | 139/1260 [00:28<04:02,  4.62it/s, now=None]"
     ]
    },
    {
     "name": "stdout",
     "output_type": "stream",
     "text": [
      "890.1411680756602\n",
      "1081.6572404740152\n",
      "-0.1932996897539634\n"
     ]
    },
    {
     "name": "stderr",
     "output_type": "stream",
     "text": [
      "\r",
      "t:  11%|███████▎                                                          | 140/1260 [00:28<04:03,  4.61it/s, now=None]"
     ]
    },
    {
     "name": "stdout",
     "output_type": "stream",
     "text": [
      "787.0913794242332\n",
      "1268.9541678223463\n",
      "-0.18932566820259952\n",
      "860.6120603139663\n",
      "1047.318828694197\n",
      "-0.18232765533333237\n"
     ]
    },
    {
     "name": "stderr",
     "output_type": "stream",
     "text": [
      "t:  11%|███████▍                                                          | 142/1260 [00:29<03:45,  4.95it/s, now=None]"
     ]
    },
    {
     "name": "stdout",
     "output_type": "stream",
     "text": [
      "767.6880514614337\n",
      "969.7619020734227\n",
      "-0.16924666098931257\n",
      "759.9951110309111\n",
      "792.4419981519819\n",
      "-0.16221858552890556\n"
     ]
    },
    {
     "name": "stderr",
     "output_type": "stream",
     "text": [
      "t:  12%|███████▌                                                          | 145/1260 [00:29<03:21,  5.53it/s, now=None]"
     ]
    },
    {
     "name": "stdout",
     "output_type": "stream",
     "text": [
      "824.173652967086\n",
      "844.9335133201339\n",
      "-0.16642043155053274\n",
      "818.8359831922747\n",
      "923.0310533667017\n",
      "-0.15994462488653455\n"
     ]
    },
    {
     "name": "stderr",
     "output_type": "stream",
     "text": [
      "\r",
      "t:  12%|███████▋                                                          | 146/1260 [00:30<03:19,  5.57it/s, now=None]"
     ]
    },
    {
     "name": "stdout",
     "output_type": "stream",
     "text": [
      "914.3055064162044\n",
      "1103.80611228833\n",
      "-0.1671123017498543\n"
     ]
    },
    {
     "name": "stderr",
     "output_type": "stream",
     "text": [
      "\r",
      "t:  12%|███████▋                                                          | 147/1260 [00:30<03:44,  4.96it/s, now=None]"
     ]
    },
    {
     "name": "stdout",
     "output_type": "stream",
     "text": [
      "911.0389602732481\n",
      "1413.7661712469783\n",
      "-0.1818113601189376\n"
     ]
    },
    {
     "name": "stderr",
     "output_type": "stream",
     "text": [
      "\r",
      "t:  12%|███████▊                                                          | 148/1260 [00:30<03:53,  4.77it/s, now=None]"
     ]
    },
    {
     "name": "stdout",
     "output_type": "stream",
     "text": [
      "899.0972960407125\n",
      "1967.7389141062938\n",
      "-0.1969682033126121\n",
      "858.7534385991423\n",
      "1096.2184617169316\n",
      "-0.17329948121188918\n"
     ]
    },
    {
     "name": "stderr",
     "output_type": "stream",
     "text": [
      "t:  12%|███████▊                                                          | 150/1260 [00:30<03:50,  4.82it/s, now=None]"
     ]
    },
    {
     "name": "stdout",
     "output_type": "stream",
     "text": [
      "929.5316407888151\n",
      "1390.0277481343608\n",
      "-0.182893785392655\n"
     ]
    },
    {
     "name": "stderr",
     "output_type": "stream",
     "text": [
      "\r",
      "t:  12%|███████▉                                                          | 151/1260 [00:31<03:54,  4.72it/s, now=None]"
     ]
    },
    {
     "name": "stdout",
     "output_type": "stream",
     "text": [
      "903.7149030050349\n",
      "846.2526798318029\n",
      "-0.1596546917568892\n",
      "973.586214027777\n",
      "790.556654762461\n",
      "-0.15052553262389085"
     ]
    },
    {
     "name": "stderr",
     "output_type": "stream",
     "text": [
      "\r",
      "t:  12%|███████▉                                                          | 152/1260 [00:31<03:42,  4.97it/s, now=None]"
     ]
    },
    {
     "name": "stdout",
     "output_type": "stream",
     "text": [
      "\n",
      "902.3047630445743\n",
      "604.8980542521546\n",
      "-0.13235739226268542\n"
     ]
    },
    {
     "name": "stderr",
     "output_type": "stream",
     "text": [
      "t:  12%|████████                                                          | 155/1260 [00:31<03:32,  5.21it/s, now=None]"
     ]
    },
    {
     "name": "stdout",
     "output_type": "stream",
     "text": [
      "849.7173108050695\n",
      "567.5523909153954\n",
      "-0.13096501669680555\n",
      "867.0624894718069\n",
      "593.5172997500565\n",
      "-0.13393088482282872\n"
     ]
    },
    {
     "name": "stderr",
     "output_type": "stream",
     "text": [
      "\r",
      "t:  12%|████████▏                                                         | 156/1260 [00:32<03:26,  5.34it/s, now=None]"
     ]
    },
    {
     "name": "stdout",
     "output_type": "stream",
     "text": [
      "899.1394390309575\n",
      "658.9693228005125\n",
      "-0.13974624305761862\n",
      "863.596649427227\n",
      "741.0850078374585\n",
      "-0.13757790505889753\n"
     ]
    },
    {
     "name": "stderr",
     "output_type": "stream",
     "text": [
      "t:  13%|████████▎                                                         | 158/1260 [00:32<03:35,  5.11it/s, now=None]"
     ]
    },
    {
     "name": "stdout",
     "output_type": "stream",
     "text": [
      "818.0403695713142\n",
      "790.6090750066863\n",
      "-0.13586162149092823\n"
     ]
    },
    {
     "name": "stderr",
     "output_type": "stream",
     "text": [
      "\r",
      "t:  13%|████████▎                                                         | 159/1260 [00:32<03:45,  4.88it/s, now=None]"
     ]
    },
    {
     "name": "stdout",
     "output_type": "stream",
     "text": [
      "768.7226979138879\n",
      "947.3980439427803\n",
      "-0.13504637376709142\n"
     ]
    },
    {
     "name": "stderr",
     "output_type": "stream",
     "text": [
      "\r",
      "t:  13%|████████▍                                                         | 160/1260 [00:33<04:06,  4.45it/s, now=None]"
     ]
    },
    {
     "name": "stdout",
     "output_type": "stream",
     "text": [
      "757.039386885857\n",
      "3275.719571248426\n",
      "-0.19078168447517577\n"
     ]
    },
    {
     "name": "stderr",
     "output_type": "stream",
     "text": [
      "t:  13%|████████▍                                                         | 162/1260 [00:33<03:46,  4.85it/s, now=None]"
     ]
    },
    {
     "name": "stdout",
     "output_type": "stream",
     "text": [
      "751.7041509829063\n",
      "54673.499725004054\n",
      "-0.19530237224819208\n",
      "701.0041111936637\n",
      "1500.6857465920773\n",
      "-0.14837604825009473\n"
     ]
    },
    {
     "name": "stderr",
     "output_type": "stream",
     "text": [
      "t:  13%|████████▌                                                         | 164/1260 [00:33<03:31,  5.18it/s, now=None]"
     ]
    },
    {
     "name": "stdout",
     "output_type": "stream",
     "text": [
      "670.8998077891725\n",
      "1332.649119530057\n",
      "-0.13451301441861097\n",
      "699.7318656433199\n",
      "1415.476082832862\n",
      "-0.13105770724951443\n"
     ]
    },
    {
     "name": "stderr",
     "output_type": "stream",
     "text": [
      "\r",
      "t:  13%|████████▋                                                         | 165/1260 [00:33<03:27,  5.28it/s, now=None]"
     ]
    },
    {
     "name": "stdout",
     "output_type": "stream",
     "text": [
      "680.7022104363807\n",
      "2700.942533093686\n",
      "-0.14102092495155988\n"
     ]
    },
    {
     "name": "stderr",
     "output_type": "stream",
     "text": [
      "\r",
      "t:  13%|████████▋                                                         | 166/1260 [00:34<03:45,  4.85it/s, now=None]"
     ]
    },
    {
     "name": "stdout",
     "output_type": "stream",
     "text": [
      "627.200300549079\n",
      "676.9521680966973\n",
      "-0.09907184904810648\n"
     ]
    },
    {
     "name": "stderr",
     "output_type": "stream",
     "text": [
      "\r",
      "t:  13%|████████▋                                                         | 167/1260 [00:34<04:15,  4.28it/s, now=None]"
     ]
    },
    {
     "name": "stdout",
     "output_type": "stream",
     "text": [
      "691.2165039700701\n",
      "728.4412577986526\n",
      "-0.10312865817481062\n"
     ]
    },
    {
     "name": "stderr",
     "output_type": "stream",
     "text": [
      "\r",
      "t:  13%|████████▊                                                         | 168/1260 [00:34<04:15,  4.27it/s, now=None]"
     ]
    },
    {
     "name": "stdout",
     "output_type": "stream",
     "text": [
      "657.1780235479513\n",
      "757.1990074654735\n",
      "-0.1022297979741076\n",
      "717.0575182666616\n",
      "822.7557465092336\n",
      "-0.10628948969726769\n"
     ]
    },
    {
     "name": "stderr",
     "output_type": "stream",
     "text": [
      "t:  13%|████████▉                                                         | 170/1260 [00:35<03:59,  4.55it/s, now=None]"
     ]
    },
    {
     "name": "stdout",
     "output_type": "stream",
     "text": [
      "858.5914747081088\n",
      "856.292809998675\n",
      "-0.11065392008164252\n",
      "879.7360384489559\n",
      "899.4542433571888\n",
      "-0.1044767981660169\n"
     ]
    },
    {
     "name": "stderr",
     "output_type": "stream",
     "text": [
      "t:  14%|█████████                                                         | 172/1260 [00:35<03:39,  4.95it/s, now=None]"
     ]
    },
    {
     "name": "stdout",
     "output_type": "stream",
     "text": [
      "952.1459608822491\n",
      "925.304717444952\n",
      "-0.10232149035347408\n",
      "989.6881236451077\n",
      "877.147117548385\n",
      "-0.09602186730717294\n"
     ]
    },
    {
     "name": "stderr",
     "output_type": "stream",
     "text": [
      "t:  14%|█████████▏                                                        | 175/1260 [00:36<03:36,  5.01it/s, now=None]"
     ]
    },
    {
     "name": "stdout",
     "output_type": "stream",
     "text": [
      "1002.8538338847083\n",
      "505.56685018427805\n",
      "-0.04215754221817091\n",
      "930.1991616833279\n",
      "506.19171146733163\n",
      "-0.044431982026926206\n"
     ]
    },
    {
     "name": "stderr",
     "output_type": "stream",
     "text": [
      "\r",
      "t:  14%|█████████▏                                                        | 176/1260 [00:36<03:56,  4.58it/s, now=None]"
     ]
    },
    {
     "name": "stdout",
     "output_type": "stream",
     "text": [
      "848.4608526584498\n",
      "411.9587994358973\n",
      "-0.028028732845166427\n"
     ]
    },
    {
     "name": "stderr",
     "output_type": "stream",
     "text": [
      "t:  14%|█████████▎                                                        | 178/1260 [00:36<03:39,  4.93it/s, now=None]"
     ]
    },
    {
     "name": "stdout",
     "output_type": "stream",
     "text": [
      "837.5638574743324\n",
      "317.47837596085674\n",
      "-0.005185624740119287\n",
      "922.6797561552016\n",
      "334.0872745995032\n",
      "-0.015398556906742102\n"
     ]
    },
    {
     "name": "stderr",
     "output_type": "stream",
     "text": [
      "\r",
      "t:  14%|█████████▍                                                        | 179/1260 [00:37<03:55,  4.59it/s, now=None]"
     ]
    },
    {
     "name": "stdout",
     "output_type": "stream",
     "text": [
      "881.2511245921669\n",
      "376.2686377265999\n",
      "-0.032693416839830416\n"
     ]
    },
    {
     "name": "stderr",
     "output_type": "stream",
     "text": [
      "\r",
      "t:  14%|█████████▍                                                        | 180/1260 [00:37<03:55,  4.59it/s, now=None]"
     ]
    },
    {
     "name": "stdout",
     "output_type": "stream",
     "text": [
      "898.7142586686488\n",
      "383.9245669003074\n",
      "-0.04515078631183883\n",
      "762.8430481357206\n",
      "412.1909270934539\n",
      "-0.05073590752496661\n"
     ]
    },
    {
     "name": "stderr",
     "output_type": "stream",
     "text": [
      "t:  14%|█████████▌                                                        | 182/1260 [00:37<03:48,  4.73it/s, now=None]"
     ]
    },
    {
     "name": "stdout",
     "output_type": "stream",
     "text": [
      "717.5686510343777\n",
      "426.449744274688\n",
      "-0.05657418978997053\n",
      "707.8574314928375\n",
      "462.60239293252556\n",
      "-0.05915429066060274\n"
     ]
    },
    {
     "name": "stderr",
     "output_type": "stream",
     "text": [
      "t:  15%|█████████▋                                                        | 184/1260 [00:38<03:53,  4.60it/s, now=None]"
     ]
    },
    {
     "name": "stdout",
     "output_type": "stream",
     "text": [
      "626.181249349234\n",
      "506.5923627620368\n",
      "-0.07223772116915997\n",
      "555.2432904902522\n",
      "569.2429698252865\n",
      "-0.08804645667200875\n"
     ]
    },
    {
     "name": "stderr",
     "output_type": "stream",
     "text": [
      "t:  15%|█████████▋                                                        | 186/1260 [00:38<03:42,  4.82it/s, now=None]"
     ]
    },
    {
     "name": "stdout",
     "output_type": "stream",
     "text": [
      "483.9333273194989\n",
      "567.3661102769362\n",
      "-0.08039877848973936\n",
      "428.8154707755228\n",
      "425.1037958933112\n",
      "-0.05132115322810811\n"
     ]
    },
    {
     "name": "stderr",
     "output_type": "stream",
     "text": [
      "t:  15%|█████████▊                                                        | 188/1260 [00:38<03:33,  5.02it/s, now=None]"
     ]
    },
    {
     "name": "stdout",
     "output_type": "stream",
     "text": [
      "417.57822416024504\n",
      "450.32485641319767\n",
      "-0.05882851191007701\n"
     ]
    },
    {
     "name": "stderr",
     "output_type": "stream",
     "text": [
      "\r",
      "t:  15%|█████████▉                                                        | 189/1260 [00:39<03:48,  4.69it/s, now=None]"
     ]
    },
    {
     "name": "stdout",
     "output_type": "stream",
     "text": [
      "429.6584872226909\n",
      "453.56922929867704\n",
      "-0.06784074825386135\n"
     ]
    },
    {
     "name": "stderr",
     "output_type": "stream",
     "text": [
      "\r",
      "t:  15%|█████████▉                                                        | 190/1260 [00:39<03:47,  4.70it/s, now=None]"
     ]
    },
    {
     "name": "stdout",
     "output_type": "stream",
     "text": [
      "440.347826008626\n",
      "493.55627240448393\n",
      "-0.07811204569799117\n"
     ]
    },
    {
     "name": "stderr",
     "output_type": "stream",
     "text": [
      "\r",
      "t:  15%|██████████                                                        | 191/1260 [00:39<03:57,  4.51it/s, now=None]"
     ]
    },
    {
     "name": "stdout",
     "output_type": "stream",
     "text": [
      "452.53395404301426\n",
      "534.2278433250829\n",
      "-0.08974251768106956\n"
     ]
    },
    {
     "name": "stderr",
     "output_type": "stream",
     "text": [
      "\r",
      "t:  15%|██████████                                                        | 192/1260 [00:39<04:00,  4.45it/s, now=None]"
     ]
    },
    {
     "name": "stdout",
     "output_type": "stream",
     "text": [
      "450.4483060958321\n",
      "581.0199044384945\n",
      "-0.09800206954070989\n"
     ]
    },
    {
     "name": "stderr",
     "output_type": "stream",
     "text": [
      "\r",
      "t:  15%|██████████                                                        | 193/1260 [00:40<04:07,  4.32it/s, now=None]"
     ]
    },
    {
     "name": "stdout",
     "output_type": "stream",
     "text": [
      "487.53900817347215\n",
      "638.1076600243712\n",
      "-0.10888127943923954\n"
     ]
    },
    {
     "name": "stderr",
     "output_type": "stream",
     "text": [
      "\r",
      "t:  15%|██████████▏                                                       | 194/1260 [00:40<04:14,  4.19it/s, now=None]"
     ]
    },
    {
     "name": "stdout",
     "output_type": "stream",
     "text": [
      "489.78565445921333\n",
      "603.1361104332275\n",
      "-0.11704024231644873\n"
     ]
    },
    {
     "name": "stderr",
     "output_type": "stream",
     "text": [
      "\r",
      "t:  15%|██████████▏                                                       | 195/1260 [00:40<04:04,  4.35it/s, now=None]"
     ]
    },
    {
     "name": "stdout",
     "output_type": "stream",
     "text": [
      "586.306802879971\n",
      "584.7125601253288\n",
      "-0.12421175631613778\n",
      "580.9805582093596\n",
      "567.5536911825212\n",
      "-0.11917278279627876\n"
     ]
    },
    {
     "name": "stderr",
     "output_type": "stream",
     "text": [
      "t:  16%|██████████▎                                                       | 197/1260 [00:40<03:38,  4.87it/s, now=None]"
     ]
    },
    {
     "name": "stdout",
     "output_type": "stream",
     "text": [
      "658.0923056793129\n",
      "861.8957221737978\n",
      "-0.14573548147351534\n"
     ]
    },
    {
     "name": "stderr",
     "output_type": "stream",
     "text": [
      "\r",
      "t:  16%|██████████▎                                                       | 198/1260 [00:41<03:27,  5.13it/s, now=None]"
     ]
    },
    {
     "name": "stdout",
     "output_type": "stream",
     "text": [
      "724.5200330155964\n",
      "1193.7013450931984\n",
      "-0.15412774820542746\n",
      "847.4004652624031\n",
      "1320.3035223329493\n",
      "-0.14888545747294848\n"
     ]
    },
    {
     "name": "stderr",
     "output_type": "stream",
     "text": [
      "t:  16%|██████████▍                                                       | 200/1260 [00:41<03:55,  4.49it/s, now=None]"
     ]
    },
    {
     "name": "stdout",
     "output_type": "stream",
     "text": [
      "927.7854409673187\n",
      "2219.618906392125\n",
      "-0.15618853637763097\n",
      "955.5477964019974\n",
      "1138.8303943306043\n",
      "-0.13186369305195308\n"
     ]
    },
    {
     "name": "stderr",
     "output_type": "stream",
     "text": [
      "t:  16%|██████████▌                                                       | 202/1260 [00:41<03:33,  4.96it/s, now=None]"
     ]
    },
    {
     "name": "stdout",
     "output_type": "stream",
     "text": [
      "1034.232782566544\n",
      "954.2111124427523\n",
      "-0.11834845478655409\n",
      "975.6386685086469\n",
      "918.8776486386029\n",
      "-0.11067502041538073\n"
     ]
    },
    {
     "name": "stderr",
     "output_type": "stream",
     "text": [
      "t:  16%|██████████▋                                                       | 204/1260 [00:42<03:31,  4.98it/s, now=None]"
     ]
    },
    {
     "name": "stdout",
     "output_type": "stream",
     "text": [
      "912.3990606150677\n",
      "841.9566966930723\n",
      "-0.099112027292183\n"
     ]
    },
    {
     "name": "stderr",
     "output_type": "stream",
     "text": [
      "t:  16%|██████████▊                                                       | 206/1260 [00:42<03:25,  5.13it/s, now=None]"
     ]
    },
    {
     "name": "stdout",
     "output_type": "stream",
     "text": [
      "781.6102478827185\n",
      "606.7051125775309\n",
      "-0.08455554530248541\n",
      "730.7690064363919\n",
      "638.313753806969\n",
      "-0.08265751689724378\n"
     ]
    },
    {
     "name": "stderr",
     "output_type": "stream",
     "text": [
      "\r",
      "t:  16%|██████████▊                                                       | 207/1260 [00:42<03:26,  5.10it/s, now=None]"
     ]
    },
    {
     "name": "stdout",
     "output_type": "stream",
     "text": [
      "696.3126135499531\n",
      "672.4680063674289\n",
      "-0.08427311244964261\n"
     ]
    },
    {
     "name": "stderr",
     "output_type": "stream",
     "text": [
      "\r",
      "t:  17%|██████████▉                                                       | 208/1260 [00:43<03:32,  4.96it/s, now=None]"
     ]
    },
    {
     "name": "stdout",
     "output_type": "stream",
     "text": [
      "603.9427012525971\n",
      "693.1893390910914\n",
      "-0.08732758940849868\n",
      "575.6202130767663\n",
      "794.6549546508778\n",
      "-0.10687965475553304\n"
     ]
    },
    {
     "name": "stderr",
     "output_type": "stream",
     "text": [
      "t:  17%|███████████                                                       | 210/1260 [00:43<03:51,  4.54it/s, now=None]"
     ]
    },
    {
     "name": "stdout",
     "output_type": "stream",
     "text": [
      "552.0414050569351\n",
      "851.1807811418001\n",
      "-0.10761061842269609\n"
     ]
    },
    {
     "name": "stderr",
     "output_type": "stream",
     "text": [
      "\r",
      "t:  17%|███████████                                                       | 211/1260 [00:43<03:57,  4.41it/s, now=None]"
     ]
    },
    {
     "name": "stdout",
     "output_type": "stream",
     "text": [
      "570.4086471511121\n",
      "640.263296782475\n",
      "-0.08341616822458107\n"
     ]
    },
    {
     "name": "stderr",
     "output_type": "stream",
     "text": [
      "\r",
      "t:  17%|███████████                                                       | 212/1260 [00:43<03:51,  4.53it/s, now=None]"
     ]
    },
    {
     "name": "stdout",
     "output_type": "stream",
     "text": [
      "663.5774021607731\n",
      "734.6602908694657\n",
      "-0.09498431283333511\n"
     ]
    },
    {
     "name": "stderr",
     "output_type": "stream",
     "text": [
      "\r",
      "t:  17%|███████████▏                                                      | 213/1260 [00:44<03:58,  4.40it/s, now=None]"
     ]
    },
    {
     "name": "stdout",
     "output_type": "stream",
     "text": [
      "598.959722350905\n",
      "888.7940820436005\n",
      "-0.09902566868041601\n"
     ]
    },
    {
     "name": "stderr",
     "output_type": "stream",
     "text": [
      "\r",
      "t:  17%|███████████▏                                                      | 214/1260 [00:44<03:54,  4.46it/s, now=None]"
     ]
    },
    {
     "name": "stdout",
     "output_type": "stream",
     "text": [
      "584.7518319977733\n",
      "1049.2796645947305\n",
      "-0.09999981349484037\n"
     ]
    },
    {
     "name": "stderr",
     "output_type": "stream",
     "text": [
      "\r",
      "t:  17%|███████████▎                                                      | 215/1260 [00:44<03:54,  4.45it/s, now=None]"
     ]
    },
    {
     "name": "stdout",
     "output_type": "stream",
     "text": [
      "560.2846516153919\n",
      "1269.946435198101\n",
      "-0.09684404408227443\n",
      "561.2672724029742\n",
      "631.9643225241912\n",
      "-0.06884042950778105\n"
     ]
    },
    {
     "name": "stderr",
     "output_type": "stream",
     "text": [
      "t:  17%|███████████▎                                                      | 217/1260 [00:45<03:49,  4.55it/s, now=None]"
     ]
    },
    {
     "name": "stdout",
     "output_type": "stream",
     "text": [
      "542.6226532168529\n",
      "686.3236363279578\n",
      "-0.06656467757120516\n"
     ]
    },
    {
     "name": "stderr",
     "output_type": "stream",
     "text": [
      "\r",
      "t:  17%|███████████▍                                                      | 218/1260 [00:45<03:49,  4.53it/s, now=None]"
     ]
    },
    {
     "name": "stdout",
     "output_type": "stream",
     "text": [
      "557.7128205406559\n",
      "749.7376394232384\n",
      "-0.068377558995179\n"
     ]
    },
    {
     "name": "stderr",
     "output_type": "stream",
     "text": [
      "\r",
      "t:  17%|███████████▍                                                      | 219/1260 [00:45<03:51,  4.50it/s, now=None]"
     ]
    },
    {
     "name": "stdout",
     "output_type": "stream",
     "text": [
      "591.0501923547649\n",
      "774.6964866483391\n",
      "-0.06450607551925862\n"
     ]
    },
    {
     "name": "stderr",
     "output_type": "stream",
     "text": [
      "\r",
      "t:  17%|███████████▌                                                      | 220/1260 [00:45<04:02,  4.29it/s, now=None]"
     ]
    },
    {
     "name": "stdout",
     "output_type": "stream",
     "text": [
      "623.7228616290013\n",
      "938.6750562579997\n",
      "-0.07050910600999666\n",
      "639.3656481908939\n",
      "1163.3619319455397\n",
      "-0.07894155630467664\n"
     ]
    },
    {
     "name": "stderr",
     "output_type": "stream",
     "text": [
      "t:  18%|███████████▋                                                      | 223/1260 [00:46<03:36,  4.78it/s, now=None]"
     ]
    },
    {
     "name": "stdout",
     "output_type": "stream",
     "text": [
      "707.4388101848086\n",
      "46225.16402433126\n",
      "-0.14784052951794388\n",
      "755.2027835028068\n",
      "3687.3847581565624\n",
      "-0.11459914591109477\n"
     ]
    },
    {
     "name": "stderr",
     "output_type": "stream",
     "text": [
      "\r",
      "t:  18%|███████████▋                                                      | 224/1260 [00:46<03:26,  5.02it/s, now=None]"
     ]
    },
    {
     "name": "stdout",
     "output_type": "stream",
     "text": [
      "865.847532813008\n",
      "9256.914301742983\n",
      "-0.11842761553001804\n",
      "821.943316505676\n",
      "1392.0343749190367\n",
      "-0.08083953719536593\n"
     ]
    },
    {
     "name": "stderr",
     "output_type": "stream",
     "text": [
      "t:  18%|███████████▊                                                      | 226/1260 [00:46<03:31,  4.89it/s, now=None]"
     ]
    },
    {
     "name": "stdout",
     "output_type": "stream",
     "text": [
      "800.3160136865874\n",
      "1637.4130391715355\n",
      "-0.07357014104924096\n"
     ]
    },
    {
     "name": "stderr",
     "output_type": "stream",
     "text": [
      "t:  18%|███████████▉                                                      | 228/1260 [00:47<03:25,  5.03it/s, now=None]"
     ]
    },
    {
     "name": "stdout",
     "output_type": "stream",
     "text": [
      "770.5105277291038\n",
      "841.6337101090932\n",
      "-0.0447671547345978\n",
      "766.8198906799057\n",
      "698.4487263313214\n",
      "-0.031439565503286464\n"
     ]
    },
    {
     "name": "stderr",
     "output_type": "stream",
     "text": [
      "t:  18%|████████████                                                      | 230/1260 [00:47<03:16,  5.23it/s, now=None]"
     ]
    },
    {
     "name": "stdout",
     "output_type": "stream",
     "text": [
      "858.4122768656055\n",
      "749.3983950836474\n",
      "-0.03187259588306082\n",
      "860.8837465434627\n",
      "779.665519456688\n",
      "-0.027648992249398218\n"
     ]
    },
    {
     "name": "stderr",
     "output_type": "stream",
     "text": [
      "\r",
      "t:  18%|████████████                                                      | 231/1260 [00:48<03:39,  4.69it/s, now=None]"
     ]
    },
    {
     "name": "stdout",
     "output_type": "stream",
     "text": [
      "1033.3304180223024\n",
      "801.277292532885\n",
      "-0.022132587678591727\n"
     ]
    },
    {
     "name": "stderr",
     "output_type": "stream",
     "text": [
      "t:  18%|████████████▏                                                     | 233/1260 [00:48<03:30,  4.87it/s, now=None]"
     ]
    },
    {
     "name": "stdout",
     "output_type": "stream",
     "text": [
      "1080.889747371806\n",
      "850.2594829522214\n",
      "-0.017852764900709514\n",
      "1056.2950974964256\n",
      "849.0634152637159\n",
      "-0.003907404822951435\n"
     ]
    },
    {
     "name": "stderr",
     "output_type": "stream",
     "text": [
      "\r",
      "t:  19%|████████████▎                                                     | 234/1260 [00:48<03:23,  5.04it/s, now=None]"
     ]
    },
    {
     "name": "stdout",
     "output_type": "stream",
     "text": [
      "991.6973822691613\n",
      "1289.6247032617784\n",
      "-0.024977583506141012\n"
     ]
    },
    {
     "name": "stderr",
     "output_type": "stream",
     "text": [
      "\r",
      "t:  19%|████████████▎                                                     | 235/1260 [00:48<03:24,  5.01it/s, now=None]"
     ]
    },
    {
     "name": "stdout",
     "output_type": "stream",
     "text": [
      "1035.5610903279994\n",
      "1011.5857855037032\n",
      "0.0010629980093269588\n"
     ]
    },
    {
     "name": "stderr",
     "output_type": "stream",
     "text": [
      "\r",
      "t:  19%|████████████▎                                                     | 236/1260 [00:49<04:06,  4.16it/s, now=None]"
     ]
    },
    {
     "name": "stdout",
     "output_type": "stream",
     "text": [
      "867.7364305224747\n",
      "676.0378114221803\n",
      "0.036283791267437825\n"
     ]
    },
    {
     "name": "stderr",
     "output_type": "stream",
     "text": [
      "\r",
      "t:  19%|████████████▍                                                     | 237/1260 [00:49<04:11,  4.06it/s, now=None]"
     ]
    },
    {
     "name": "stdout",
     "output_type": "stream",
     "text": [
      "814.2103695397604\n",
      "656.122336877134\n",
      "0.03881000236224845\n"
     ]
    },
    {
     "name": "stderr",
     "output_type": "stream",
     "text": [
      "\r",
      "t:  19%|████████████▍                                                     | 238/1260 [00:49<04:04,  4.18it/s, now=None]"
     ]
    },
    {
     "name": "stdout",
     "output_type": "stream",
     "text": [
      "823.1478250437285\n",
      "752.5117683040896\n",
      "0.0354839095462034\n"
     ]
    },
    {
     "name": "stderr",
     "output_type": "stream",
     "text": [
      "\r",
      "t:  19%|████████████▌                                                     | 239/1260 [00:49<03:58,  4.28it/s, now=None]"
     ]
    },
    {
     "name": "stdout",
     "output_type": "stream",
     "text": [
      "785.4594026865361\n",
      "463.32345895735074\n",
      "0.06139562091286876\n",
      "731.5934562452638\n",
      "510.1781020029243\n",
      "0.060248396934576544\n"
     ]
    },
    {
     "name": "stderr",
     "output_type": "stream",
     "text": [
      "t:  19%|████████████▌                                                     | 241/1260 [00:50<03:44,  4.54it/s, now=None]"
     ]
    },
    {
     "name": "stdout",
     "output_type": "stream",
     "text": [
      "734.297026882173\n",
      "534.1994340681259\n",
      "0.05829126378532374\n"
     ]
    },
    {
     "name": "stderr",
     "output_type": "stream",
     "text": [
      "\r",
      "t:  19%|████████████▋                                                     | 242/1260 [00:50<03:50,  4.41it/s, now=None]"
     ]
    },
    {
     "name": "stdout",
     "output_type": "stream",
     "text": [
      "841.0974624831948\n",
      "538.5619495457001\n",
      "0.05486068462218328\n",
      "833.9885703620887\n",
      "568.1391760351844\n",
      "0.05475740451316631\n"
     ]
    },
    {
     "name": "stderr",
     "output_type": "stream",
     "text": [
      "t:  19%|████████████▊                                                     | 244/1260 [00:50<03:39,  4.63it/s, now=None]"
     ]
    },
    {
     "name": "stdout",
     "output_type": "stream",
     "text": [
      "807.3230447537256\n",
      "570.5969118070352\n",
      "0.055360821910493255\n"
     ]
    },
    {
     "name": "stderr",
     "output_type": "stream",
     "text": [
      "\r",
      "t:  19%|████████████▊                                                     | 245/1260 [00:51<03:43,  4.54it/s, now=None]"
     ]
    },
    {
     "name": "stdout",
     "output_type": "stream",
     "text": [
      "761.1062137651387\n",
      "587.893666625957\n",
      "0.06246322873657703\n",
      "713.9895217983908\n",
      "766.3955359701135\n",
      "0.039212271815663925\n"
     ]
    },
    {
     "name": "stderr",
     "output_type": "stream",
     "text": [
      "t:  20%|████████████▉                                                     | 247/1260 [00:51<03:30,  4.81it/s, now=None]"
     ]
    },
    {
     "name": "stdout",
     "output_type": "stream",
     "text": [
      "707.864643433509\n",
      "728.0197565919565\n",
      "0.05377321551744565\n",
      "699.2714352594654\n",
      "685.9386591509659\n",
      "0.06705758805723805\n"
     ]
    },
    {
     "name": "stderr",
     "output_type": "stream",
     "text": [
      "t:  20%|█████████████                                                     | 249/1260 [00:51<03:22,  4.99it/s, now=None]"
     ]
    },
    {
     "name": "stdout",
     "output_type": "stream",
     "text": [
      "656.3089196485465\n",
      "469.8317174450106\n",
      "0.09290032740540817\n"
     ]
    },
    {
     "name": "stderr",
     "output_type": "stream",
     "text": [
      "\r",
      "t:  20%|█████████████                                                     | 250/1260 [00:52<03:30,  4.79it/s, now=None]"
     ]
    },
    {
     "name": "stdout",
     "output_type": "stream",
     "text": [
      "729.8955645772105\n",
      "499.80620253382557\n",
      "0.08851637079643072\n"
     ]
    },
    {
     "name": "stderr",
     "output_type": "stream",
     "text": [
      "\r",
      "t:  20%|█████████████▏                                                    | 251/1260 [00:52<03:31,  4.76it/s, now=None]"
     ]
    },
    {
     "name": "stdout",
     "output_type": "stream",
     "text": [
      "718.2536809788961\n",
      "539.1752619051169\n",
      "0.08130008132454818\n",
      "764.4669504217957\n",
      "572.9015864909053\n",
      "0.07966235922386623\n"
     ]
    },
    {
     "name": "stderr",
     "output_type": "stream",
     "text": [
      "t:  20%|█████████████▎                                                    | 254/1260 [00:52<03:20,  5.02it/s, now=None]"
     ]
    },
    {
     "name": "stdout",
     "output_type": "stream",
     "text": [
      "778.1186431476118\n",
      "618.4494639349036\n",
      "0.07539790186217159\n",
      "828.5931902053159\n",
      "639.45299864361\n",
      "0.073850499629855\n"
     ]
    },
    {
     "name": "stderr",
     "output_type": "stream",
     "text": [
      "\r",
      "t:  20%|█████████████▎                                                    | 255/1260 [00:53<03:20,  5.02it/s, now=None]"
     ]
    },
    {
     "name": "stdout",
     "output_type": "stream",
     "text": [
      "906.1689760491322\n",
      "709.1702024123495\n",
      "0.07021186092376924\n",
      "851.6280883188753\n",
      "736.9796603363733\n",
      "0.06711830710970013\n"
     ]
    },
    {
     "name": "stderr",
     "output_type": "stream",
     "text": [
      "t:  20%|█████████████▍                                                    | 257/1260 [00:53<03:19,  5.03it/s, now=None]"
     ]
    },
    {
     "name": "stdout",
     "output_type": "stream",
     "text": [
      "866.1089491469895\n",
      "761.5334416377929\n",
      "0.06787406684097168\n",
      "848.3478236595728\n",
      "798.9746460361505\n",
      "0.05762007884644022\n"
     ]
    },
    {
     "name": "stderr",
     "output_type": "stream",
     "text": [
      "t:  21%|█████████████▌                                                    | 259/1260 [00:53<03:23,  4.91it/s, now=None]"
     ]
    },
    {
     "name": "stdout",
     "output_type": "stream",
     "text": [
      "839.7623023598824\n",
      "744.9904897348006\n",
      "0.07088148773896401\n",
      "853.6159195073683\n",
      "673.7816898814389\n",
      "0.0770764350111711\n"
     ]
    },
    {
     "name": "stderr",
     "output_type": "stream",
     "text": [
      "t:  21%|█████████████▋                                                    | 262/1260 [00:54<03:08,  5.29it/s, now=None]"
     ]
    },
    {
     "name": "stdout",
     "output_type": "stream",
     "text": [
      "827.0851530927135\n",
      "802.0595622996351\n",
      "0.060557946464899766\n",
      "867.4401740511346\n",
      "727.2687967860063\n",
      "0.06680504787901209\n"
     ]
    },
    {
     "name": "stderr",
     "output_type": "stream",
     "text": [
      "t:  21%|█████████████▊                                                    | 264/1260 [00:54<02:59,  5.56it/s, now=None]"
     ]
    },
    {
     "name": "stdout",
     "output_type": "stream",
     "text": [
      "829.1998942428239\n",
      "513.0220521969117\n",
      "0.08362440636733152\n",
      "879.3508326424558\n",
      "515.1494113867545\n",
      "0.07572278458424957\n"
     ]
    },
    {
     "name": "stderr",
     "output_type": "stream",
     "text": [
      "t:  21%|█████████████▉                                                    | 266/1260 [00:55<02:53,  5.72it/s, now=None]"
     ]
    },
    {
     "name": "stdout",
     "output_type": "stream",
     "text": [
      "881.2801129653609\n",
      "581.2454824077569\n",
      "0.06653439735063592\n",
      "914.5284196955884\n",
      "609.4758097590147\n",
      "0.06119769460226165\n"
     ]
    },
    {
     "name": "stderr",
     "output_type": "stream",
     "text": [
      "\r",
      "t:  21%|█████████████▉                                                    | 267/1260 [00:55<03:32,  4.67it/s, now=None]"
     ]
    },
    {
     "name": "stdout",
     "output_type": "stream",
     "text": [
      "900.985053457141\n",
      "662.761463982997\n",
      "0.057719349406344204\n"
     ]
    },
    {
     "name": "stderr",
     "output_type": "stream",
     "text": [
      "\r",
      "t:  21%|██████████████                                                    | 268/1260 [00:55<03:52,  4.27it/s, now=None]"
     ]
    },
    {
     "name": "stdout",
     "output_type": "stream",
     "text": [
      "871.3880173885906\n",
      "763.3260116663157\n",
      "0.05061796003620199\n"
     ]
    },
    {
     "name": "stderr",
     "output_type": "stream",
     "text": [
      "\r",
      "t:  21%|██████████████                                                    | 269/1260 [00:56<03:45,  4.39it/s, now=None]"
     ]
    },
    {
     "name": "stdout",
     "output_type": "stream",
     "text": [
      "867.7090020466162\n",
      "795.26080740911\n",
      "0.04794461885717166\n"
     ]
    },
    {
     "name": "stderr",
     "output_type": "stream",
     "text": [
      "\r",
      "t:  21%|██████████████▏                                                   | 270/1260 [00:56<03:42,  4.45it/s, now=None]"
     ]
    },
    {
     "name": "stdout",
     "output_type": "stream",
     "text": [
      "891.1131598587862\n",
      "938.6396843119663\n",
      "0.03832707874005706\n"
     ]
    },
    {
     "name": "stderr",
     "output_type": "stream",
     "text": [
      "\r",
      "t:  22%|██████████████▏                                                   | 271/1260 [00:56<04:13,  3.90it/s, now=None]"
     ]
    },
    {
     "name": "stdout",
     "output_type": "stream",
     "text": [
      "846.2204962609571\n",
      "3035.5939974798584\n",
      "-0.006408448377121204\n"
     ]
    },
    {
     "name": "stderr",
     "output_type": "stream",
     "text": [
      "t:  22%|██████████████▎                                                   | 273/1260 [00:57<04:07,  3.98it/s, now=None]"
     ]
    },
    {
     "name": "stdout",
     "output_type": "stream",
     "text": [
      "906.1450670483847\n",
      "876.1498826258461\n",
      "0.03715200094121529\n",
      "855.9672173505617\n",
      "861.8530354320768\n",
      "0.03227350321281665\n"
     ]
    },
    {
     "name": "stderr",
     "output_type": "stream",
     "text": [
      "\r",
      "t:  22%|██████████████▎                                                   | 274/1260 [00:57<03:47,  4.33it/s, now=None]"
     ]
    },
    {
     "name": "stdout",
     "output_type": "stream",
     "text": [
      "904.0894350547982\n",
      "886.712003372646\n",
      "0.029183646137035082\n"
     ]
    },
    {
     "name": "stderr",
     "output_type": "stream",
     "text": [
      "\r",
      "t:  22%|██████████████▍                                                   | 275/1260 [00:57<03:49,  4.30it/s, now=None]"
     ]
    },
    {
     "name": "stdout",
     "output_type": "stream",
     "text": [
      "865.0311661910278\n",
      "596.1406894060455\n",
      "0.041254173201594246\n"
     ]
    },
    {
     "name": "stderr",
     "output_type": "stream",
     "text": [
      "\r",
      "t:  22%|██████████████▍                                                   | 276/1260 [00:57<03:54,  4.19it/s, now=None]"
     ]
    },
    {
     "name": "stdout",
     "output_type": "stream",
     "text": [
      "883.9105918473103\n",
      "657.6350023667214\n",
      "0.033196281394937716\n",
      "943.6106922909236\n",
      "715.3820596165463\n",
      "0.023640983352620264\n"
     ]
    },
    {
     "name": "stderr",
     "output_type": "stream",
     "text": [
      "t:  22%|██████████████▌                                                   | 279/1260 [00:58<03:13,  5.07it/s, now=None]"
     ]
    },
    {
     "name": "stdout",
     "output_type": "stream",
     "text": [
      "975.5040991392676\n",
      "789.3572478831335\n",
      "0.018377349498835818\n",
      "1014.0449367525929\n",
      "840.7086375326639\n",
      "0.014661914031451456\n"
     ]
    },
    {
     "name": "stderr",
     "output_type": "stream",
     "text": [
      "\r",
      "t:  22%|██████████████▋                                                   | 280/1260 [00:58<03:27,  4.73it/s, now=None]"
     ]
    },
    {
     "name": "stdout",
     "output_type": "stream",
     "text": [
      "1007.234074321959\n",
      "942.844455954052\n",
      "0.007867113255595866\n"
     ]
    },
    {
     "name": "stderr",
     "output_type": "stream",
     "text": [
      "\r",
      "t:  22%|██████████████▋                                                   | 281/1260 [00:58<03:27,  4.72it/s, now=None]"
     ]
    },
    {
     "name": "stdout",
     "output_type": "stream",
     "text": [
      "1045.607820907187\n",
      "1022.9357483073895\n",
      "0.00496634168697491\n",
      "1081.7223319944756\n",
      "2031.6545515276828\n"
     ]
    },
    {
     "name": "stderr",
     "output_type": "stream",
     "text": [
      "\r",
      "t:  22%|██████████████▊                                                   | 282/1260 [00:58<03:30,  4.64it/s, now=None]"
     ]
    },
    {
     "name": "stdout",
     "output_type": "stream",
     "text": [
      "-0.03947439858566106\n"
     ]
    },
    {
     "name": "stderr",
     "output_type": "stream",
     "text": [
      "\r",
      "t:  22%|██████████████▊                                                   | 283/1260 [00:59<03:54,  4.16it/s, now=None]"
     ]
    },
    {
     "name": "stdout",
     "output_type": "stream",
     "text": [
      "1182.3983657438826\n",
      "1057.6435067640066\n",
      "-0.01292682672981638\n",
      "1321.4518675059055\n",
      "1443.3135720321782\n",
      "-0.03261944104181693"
     ]
    },
    {
     "name": "stderr",
     "output_type": "stream",
     "text": [
      "t:  23%|██████████████▉                                                   | 285/1260 [00:59<03:24,  4.77it/s, now=None]"
     ]
    },
    {
     "name": "stdout",
     "output_type": "stream",
     "text": [
      "\n",
      "1261.7368753096086\n",
      "2337.3644580385353\n",
      "-0.04448587743280203\n"
     ]
    },
    {
     "name": "stderr",
     "output_type": "stream",
     "text": [
      "\r",
      "t:  23%|██████████████▉                                                   | 286/1260 [00:59<03:35,  4.52it/s, now=None]"
     ]
    },
    {
     "name": "stdout",
     "output_type": "stream",
     "text": [
      "1305.074810605385\n",
      "1272.5628327047477\n",
      "-0.031622625075186664\n"
     ]
    },
    {
     "name": "stderr",
     "output_type": "stream",
     "text": [
      "\r",
      "t:  23%|███████████████                                                   | 287/1260 [01:00<03:57,  4.10it/s, now=None]"
     ]
    },
    {
     "name": "stdout",
     "output_type": "stream",
     "text": [
      "1347.721195597696\n",
      "1386.5906894910418\n",
      "-0.03844775600782043\n"
     ]
    },
    {
     "name": "stderr",
     "output_type": "stream",
     "text": [
      "\r",
      "t:  23%|███████████████                                                   | 288/1260 [01:00<04:04,  3.97it/s, now=None]"
     ]
    },
    {
     "name": "stdout",
     "output_type": "stream",
     "text": [
      "1353.2168713457459\n",
      "854.9656535984601\n",
      "-0.02505528026407316\n",
      "1396.3743519049806\n",
      "981.6786724694141\n",
      "-0.034028918214782086\n"
     ]
    },
    {
     "name": "stderr",
     "output_type": "stream",
     "text": [
      "t:  23%|███████████████▏                                                  | 290/1260 [01:00<03:47,  4.27it/s, now=None]"
     ]
    },
    {
     "name": "stdout",
     "output_type": "stream",
     "text": [
      "1588.4582124765534\n",
      "989.4541237260987\n",
      "-0.0429020059991167\n"
     ]
    },
    {
     "name": "stderr",
     "output_type": "stream",
     "text": [
      "t:  23%|███████████████▎                                                  | 292/1260 [01:01<03:22,  4.79it/s, now=None]"
     ]
    },
    {
     "name": "stdout",
     "output_type": "stream",
     "text": [
      "1521.0527353762604\n",
      "1020.7945736030953\n",
      "-0.04545120017018612\n",
      "1761.4299150084864\n",
      "1202.26937810211\n",
      "-0.054322175357558004\n"
     ]
    },
    {
     "name": "stderr",
     "output_type": "stream",
     "text": [
      "\r",
      "t:  23%|███████████████▎                                                  | 293/1260 [01:01<03:15,  4.95it/s, now=None]"
     ]
    },
    {
     "name": "stdout",
     "output_type": "stream",
     "text": [
      "1635.1607500958291\n",
      "1319.4247080031953\n",
      "-0.05907213314348263\n",
      "1744.031134260719\n",
      "2378.8013586090706\n",
      "-0.09011898290125384\n"
     ]
    },
    {
     "name": "stderr",
     "output_type": "stream",
     "text": [
      "t:  23%|███████████████▌                                                  | 296/1260 [01:01<02:59,  5.39it/s, now=None]"
     ]
    },
    {
     "name": "stdout",
     "output_type": "stream",
     "text": [
      "1799.7415165804507\n",
      "1464.7650596745677\n",
      "-0.07309720138102496\n",
      "1735.869403592951\n",
      "1683.280368771013\n",
      "-0.07597556609596395\n"
     ]
    },
    {
     "name": "stderr",
     "output_type": "stream",
     "text": [
      "\r",
      "t:  24%|███████████████▌                                                  | 297/1260 [01:02<03:21,  4.78it/s, now=None]"
     ]
    },
    {
     "name": "stdout",
     "output_type": "stream",
     "text": [
      "1667.9687673641797\n",
      "1243.7254674109267\n",
      "-0.06725574576280192\n"
     ]
    },
    {
     "name": "stderr",
     "output_type": "stream",
     "text": [
      "\r",
      "t:  24%|███████████████▌                                                  | 298/1260 [01:02<03:45,  4.26it/s, now=None]"
     ]
    },
    {
     "name": "stdout",
     "output_type": "stream",
     "text": [
      "1742.1354993846342\n",
      "961.091063463491\n",
      "-0.05494325276234056\n"
     ]
    },
    {
     "name": "stderr",
     "output_type": "stream",
     "text": [
      "t:  24%|███████████████▋                                                  | 300/1260 [01:02<03:22,  4.75it/s, now=None]"
     ]
    },
    {
     "name": "stdout",
     "output_type": "stream",
     "text": [
      "1570.4596448954433\n",
      "771.3766266060746\n",
      "-0.04674351192380401\n",
      "1729.4745306334514\n",
      "750.4616993337652\n",
      "-0.04829285074122809\n"
     ]
    },
    {
     "name": "stderr",
     "output_type": "stream",
     "text": [
      "t:  24%|███████████████▊                                                  | 302/1260 [01:03<03:11,  5.00it/s, now=None]"
     ]
    },
    {
     "name": "stdout",
     "output_type": "stream",
     "text": [
      "1744.4450139972816\n",
      "861.600962913728\n",
      "-0.05710158078174945\n",
      "2106.4937938734024\n",
      "1014.6481661947105\n",
      "-0.06357525128720909\n"
     ]
    },
    {
     "name": "stderr",
     "output_type": "stream",
     "text": [
      "\r",
      "t:  24%|███████████████▊                                                  | 303/1260 [01:03<03:03,  5.21it/s, now=None]"
     ]
    },
    {
     "name": "stdout",
     "output_type": "stream",
     "text": [
      "2324.731572895316\n",
      "1077.7403711592747\n",
      "-0.06530309507313739\n",
      "3117.502205171708\n",
      "1363.2276860103545\n",
      "-0.07091741479038263\n"
     ]
    },
    {
     "name": "stderr",
     "output_type": "stream",
     "text": [
      "t:  24%|███████████████▉                                                  | 305/1260 [01:03<03:07,  5.10it/s, now=None]"
     ]
    },
    {
     "name": "stdout",
     "output_type": "stream",
     "text": [
      "5347.848596642396\n",
      "2070.4850942451126\n",
      "-0.08178813763627352\n"
     ]
    },
    {
     "name": "stderr",
     "output_type": "stream",
     "text": [
      "t:  24%|████████████████                                                  | 307/1260 [01:04<03:04,  5.16it/s, now=None]"
     ]
    },
    {
     "name": "stdout",
     "output_type": "stream",
     "text": [
      "2297.392756304631\n",
      "3277.9254733529074\n",
      "-0.1418562716584887\n",
      "2334.9058693857237\n",
      "15045.848958983786\n",
      "-0.11668660028901572\n"
     ]
    },
    {
     "name": "stderr",
     "output_type": "stream",
     "text": [
      "\r",
      "t:  24%|████████████████▏                                                 | 308/1260 [01:04<03:10,  5.00it/s, now=None]"
     ]
    },
    {
     "name": "stdout",
     "output_type": "stream",
     "text": [
      "3132.2535518576724\n",
      "4152.133667286956\n",
      "-0.11997965191778334\n"
     ]
    },
    {
     "name": "stderr",
     "output_type": "stream",
     "text": [
      "\r",
      "t:  25%|████████████████▏                                                 | 309/1260 [01:04<03:20,  4.75it/s, now=None]"
     ]
    },
    {
     "name": "stdout",
     "output_type": "stream",
     "text": [
      "2493.196793090043\n",
      "3384.5537335452477\n",
      "-0.11775922558240214\n"
     ]
    },
    {
     "name": "stderr",
     "output_type": "stream",
     "text": [
      "t:  25%|████████████████▎                                                 | 311/1260 [01:05<03:13,  4.91it/s, now=None]"
     ]
    },
    {
     "name": "stdout",
     "output_type": "stream",
     "text": [
      "2470.9395331644005\n",
      "3273.3794231037054\n",
      "-0.11118510755626512\n",
      "3087.4357130771045\n",
      "4031.564814750409\n",
      "-0.0919331027577496\n"
     ]
    },
    {
     "name": "stderr",
     "output_type": "stream",
     "text": [
      "\r",
      "t:  25%|████████████████▎                                                 | 312/1260 [01:05<03:10,  4.98it/s, now=None]"
     ]
    },
    {
     "name": "stdout",
     "output_type": "stream",
     "text": [
      "2119.299719862965\n",
      "2109.3326964090193\n",
      "-0.0759240384915004\n"
     ]
    },
    {
     "name": "stderr",
     "output_type": "stream",
     "text": [
      "\r",
      "t:  25%|████████████████▍                                                 | 313/1260 [01:05<03:20,  4.72it/s, now=None]"
     ]
    },
    {
     "name": "stdout",
     "output_type": "stream",
     "text": [
      "3701.490425773015\n",
      "4359.054609037064\n",
      "-0.08598576408665265\n",
      "3203.1265290972156\n",
      "20406.983586461647\n",
      "-0.08702702158344207\n"
     ]
    },
    {
     "name": "stderr",
     "output_type": "stream",
     "text": [
      "t:  25%|████████████████▌                                                 | 316/1260 [01:06<02:56,  5.34it/s, now=None]"
     ]
    },
    {
     "name": "stdout",
     "output_type": "stream",
     "text": [
      "4722.331008116137\n",
      "16718.261655561615\n",
      "-0.0876956311635734\n",
      "5543.360035988052\n",
      "305449.2579807645\n",
      "-0.08777237870727345\n"
     ]
    },
    {
     "name": "stderr",
     "output_type": "stream",
     "text": [
      "\r",
      "t:  25%|████████████████▌                                                 | 317/1260 [01:06<03:08,  4.99it/s, now=None]"
     ]
    },
    {
     "name": "stdout",
     "output_type": "stream",
     "text": [
      "9827.282125680797\n",
      "33215.54242253553\n",
      "-0.08970652190700726\n",
      "6490.072056279202\n",
      "1991.7829121737532\n",
      "-0.12611931939000098\n"
     ]
    },
    {
     "name": "stderr",
     "output_type": "stream",
     "text": [
      "t:  25%|████████████████▋                                                 | 319/1260 [01:06<03:07,  5.01it/s, now=None]"
     ]
    },
    {
     "name": "stdout",
     "output_type": "stream",
     "text": [
      "70032.1137204625\n",
      "2360.1508944632346\n",
      "-0.06895067083630321\n"
     ]
    },
    {
     "name": "stderr",
     "output_type": "stream",
     "text": [
      "\r",
      "t:  25%|████████████████▊                                                 | 320/1260 [01:06<03:23,  4.63it/s, now=None]"
     ]
    },
    {
     "name": "stdout",
     "output_type": "stream",
     "text": [
      "35915.12604208843\n",
      "2619.6128680708484\n",
      "-0.0713974497593136\n"
     ]
    },
    {
     "name": "stderr",
     "output_type": "stream",
     "text": [
      "\r",
      "t:  25%|████████████████▊                                                 | 321/1260 [01:07<03:17,  4.75it/s, now=None]"
     ]
    },
    {
     "name": "stdout",
     "output_type": "stream",
     "text": [
      "68282.56092475659\n",
      "1029.0133317005989\n",
      "-0.050858059452594216\n"
     ]
    },
    {
     "name": "stderr",
     "output_type": "stream",
     "text": [
      "\r",
      "t:  26%|████████████████▊                                                 | 322/1260 [01:07<03:34,  4.38it/s, now=None]"
     ]
    },
    {
     "name": "stdout",
     "output_type": "stream",
     "text": [
      "20205.43965384445\n",
      "1189.2467237280064\n",
      "-0.06033832751436093\n"
     ]
    },
    {
     "name": "stderr",
     "output_type": "stream",
     "text": [
      "t:  26%|████████████████▉                                                 | 324/1260 [01:07<03:13,  4.84it/s, now=None]"
     ]
    },
    {
     "name": "stdout",
     "output_type": "stream",
     "text": [
      "51502.73895738112\n",
      "1031.84522317708\n",
      "-0.059192173050740364\n",
      "6768.660756335868\n",
      "1318.8300193334953\n",
      "-0.07301246760423094\n"
     ]
    },
    {
     "name": "stderr",
     "output_type": "stream",
     "text": [
      "t:  26%|█████████████████                                                 | 326/1260 [01:08<02:59,  5.19it/s, now=None]"
     ]
    },
    {
     "name": "stdout",
     "output_type": "stream",
     "text": [
      "11099.971538855472\n",
      "1465.841665531631\n",
      "-0.07583139753378224\n",
      "8043.750391353037\n",
      "1617.952624989628\n",
      "-0.07952000115174096\n"
     ]
    },
    {
     "name": "stderr",
     "output_type": "stream",
     "text": [
      "t:  26%|█████████████████▏                                                | 328/1260 [01:08<02:47,  5.57it/s, now=None]"
     ]
    },
    {
     "name": "stdout",
     "output_type": "stream",
     "text": [
      "5194.337649252565\n",
      "2155.6636610152736\n",
      "-0.08543295110877888\n",
      "4496.110641444341\n",
      "2257.88601823495\n",
      "-0.08670999253660193\n"
     ]
    },
    {
     "name": "stderr",
     "output_type": "stream",
     "text": [
      "\r",
      "t:  26%|█████████████████▏                                                | 329/1260 [01:08<02:50,  5.47it/s, now=None]"
     ]
    },
    {
     "name": "stdout",
     "output_type": "stream",
     "text": [
      "5587.493475436027\n",
      "3711.9588457424643\n",
      "-0.09114112300780884\n",
      "9273.823487796235\n",
      "17336.052439554915\n",
      "-0.12276706624654535\n"
     ]
    },
    {
     "name": "stderr",
     "output_type": "stream",
     "text": [
      "t:  26%|█████████████████▍                                                | 332/1260 [01:09<02:55,  5.28it/s, now=None]"
     ]
    },
    {
     "name": "stdout",
     "output_type": "stream",
     "text": [
      "13007.422390672604\n",
      "15944.335289934375\n",
      "-0.1102400919698906\n",
      "19369.33217289121\n",
      "3390.8104787138204\n",
      "-0.08628336180886458\n"
     ]
    },
    {
     "name": "stderr",
     "output_type": "stream",
     "text": [
      "\r",
      "t:  26%|█████████████████▍                                                | 333/1260 [01:09<02:54,  5.32it/s, now=None]"
     ]
    },
    {
     "name": "stdout",
     "output_type": "stream",
     "text": [
      "10938.490320752338\n",
      "2055.672944266429\n",
      "-0.0767042973662398\n",
      "5389.801684539311\n",
      "1585.82280117202\n",
      "-0.06478098062037507\n"
     ]
    },
    {
     "name": "stderr",
     "output_type": "stream",
     "text": [
      "t:  27%|█████████████████▌                                                | 335/1260 [01:09<02:50,  5.42it/s, now=None]"
     ]
    },
    {
     "name": "stdout",
     "output_type": "stream",
     "text": [
      "3493.6222434421156\n",
      "2128.010356740203\n",
      "-0.06743042393418404\n"
     ]
    },
    {
     "name": "stderr",
     "output_type": "stream",
     "text": [
      "\r",
      "t:  27%|█████████████████▌                                                | 336/1260 [01:10<03:04,  5.00it/s, now=None]"
     ]
    },
    {
     "name": "stdout",
     "output_type": "stream",
     "text": [
      "3564.026083989869\n",
      "2388.7431514908562\n",
      "-0.07154055805353376\n",
      "3470.1484587470413\n",
      "2811.513066481734\n",
      "-0.07714167843323985\n"
     ]
    },
    {
     "name": "stderr",
     "output_type": "stream",
     "text": [
      "t:  27%|█████████████████▋                                                | 338/1260 [01:10<03:08,  4.90it/s, now=None]"
     ]
    },
    {
     "name": "stdout",
     "output_type": "stream",
     "text": [
      "3675.925723631412\n",
      "3859.032683555737\n",
      "-0.08134586072257198\n",
      "8149.485952341063\n",
      "3664.4676426812516\n",
      "-0.08839972890666442\n"
     ]
    },
    {
     "name": "stderr",
     "output_type": "stream",
     "text": [
      "t:  27%|█████████████████▊                                                | 340/1260 [01:10<03:21,  4.56it/s, now=None]"
     ]
    },
    {
     "name": "stdout",
     "output_type": "stream",
     "text": [
      "9624.970469463486\n",
      "11344.541872625523\n",
      "-0.09365033441375724\n"
     ]
    },
    {
     "name": "stderr",
     "output_type": "stream",
     "text": [
      "t:  27%|█████████████████▉                                                | 342/1260 [01:11<03:04,  4.97it/s, now=None]"
     ]
    },
    {
     "name": "stdout",
     "output_type": "stream",
     "text": [
      "13694.946157990757\n",
      "42033.9130939139\n",
      "-0.0989174737804292\n",
      "18721.029141873038\n",
      "1977.9627256996368\n",
      "-0.13856590109989173\n"
     ]
    },
    {
     "name": "stderr",
     "output_type": "stream",
     "text": [
      "t:  27%|██████████████████                                                | 344/1260 [01:11<02:49,  5.40it/s, now=None]"
     ]
    },
    {
     "name": "stdout",
     "output_type": "stream",
     "text": [
      "5703.383150864977\n",
      "6975.939135785682\n",
      "-0.11777598885632384\n",
      "4136.948128514746\n",
      "7327.63138082798\n",
      "-0.11722480546531587\n"
     ]
    },
    {
     "name": "stderr",
     "output_type": "stream",
     "text": [
      "\r",
      "t:  27%|██████████████████                                                | 345/1260 [01:11<03:05,  4.93it/s, now=None]"
     ]
    },
    {
     "name": "stdout",
     "output_type": "stream",
     "text": [
      "3051.7527611929895\n",
      "5295.876808381924\n",
      "-0.1199624467203465\n"
     ]
    },
    {
     "name": "stderr",
     "output_type": "stream",
     "text": [
      "t:  28%|██████████████████▏                                               | 347/1260 [01:12<03:05,  4.93it/s, now=None]"
     ]
    },
    {
     "name": "stdout",
     "output_type": "stream",
     "text": [
      "3564.176523172227\n",
      "2670.351362598527\n",
      "-0.11999976812184661\n",
      "3398.330244608028\n",
      "9337.995140020703\n",
      "-0.10855985833947236\n"
     ]
    },
    {
     "name": "stderr",
     "output_type": "stream",
     "text": [
      "\r",
      "t:  28%|██████████████████▏                                               | 348/1260 [01:12<02:57,  5.15it/s, now=None]"
     ]
    },
    {
     "name": "stdout",
     "output_type": "stream",
     "text": [
      "3924.676110364935\n",
      "2499.7348452727338\n",
      "-0.09213064667019631\n",
      "4775.704210283002\n",
      "2569.2970452835652\n",
      "-0.09369843396899391\n"
     ]
    },
    {
     "name": "stderr",
     "output_type": "stream",
     "text": [
      "t:  28%|██████████████████▎                                               | 350/1260 [01:12<03:06,  4.87it/s, now=None]"
     ]
    },
    {
     "name": "stdout",
     "output_type": "stream",
     "text": [
      "26861.05992149789\n",
      "4541.022558887257\n",
      "-0.09291917740627761\n",
      "16242.44408439231\n",
      "5003.820469727117\n",
      "-0.09406213196460261\n"
     ]
    },
    {
     "name": "stderr",
     "output_type": "stream",
     "text": [
      "t:  28%|██████████████████▍                                               | 352/1260 [01:13<03:04,  4.91it/s, now=None]"
     ]
    },
    {
     "name": "stdout",
     "output_type": "stream",
     "text": [
      "20258.283700242595\n",
      "9458.128917358725\n",
      "-0.09210023021105443\n"
     ]
    },
    {
     "name": "stderr",
     "output_type": "stream",
     "text": [
      "\r",
      "t:  28%|██████████████████▍                                               | 353/1260 [01:13<03:31,  4.28it/s, now=None]"
     ]
    },
    {
     "name": "stdout",
     "output_type": "stream",
     "text": [
      "5475.721728543667\n",
      "28032.681167534705\n",
      "-0.09096355397354176\n"
     ]
    },
    {
     "name": "stderr",
     "output_type": "stream",
     "text": [
      "\r",
      "t:  28%|██████████████████▌                                               | 354/1260 [01:13<03:46,  3.99it/s, now=None]"
     ]
    },
    {
     "name": "stdout",
     "output_type": "stream",
     "text": [
      "4131.205862268094\n",
      "5144.513802359692\n",
      "-0.10022207316757331\n"
     ]
    },
    {
     "name": "stderr",
     "output_type": "stream",
     "text": [
      "\r",
      "t:  28%|██████████████████▌                                               | 355/1260 [01:14<03:45,  4.01it/s, now=None]"
     ]
    },
    {
     "name": "stdout",
     "output_type": "stream",
     "text": [
      "3513.46458531158\n",
      "4896.089905029253\n",
      "-0.1001941703556575\n",
      "2182.705818301419\n",
      "3864.2829532059304\n",
      "-0.09594542769756878\n"
     ]
    },
    {
     "name": "stderr",
     "output_type": "stream",
     "text": [
      "t:  28%|██████████████████▋                                               | 357/1260 [01:14<03:18,  4.54it/s, now=None]"
     ]
    },
    {
     "name": "stdout",
     "output_type": "stream",
     "text": [
      "2019.6912536919929\n",
      "3919.2579321916346\n",
      "-0.09023792842314726\n"
     ]
    },
    {
     "name": "stderr",
     "output_type": "stream",
     "text": [
      "t:  28%|██████████████████▊                                               | 359/1260 [01:14<03:10,  4.73it/s, now=None]"
     ]
    },
    {
     "name": "stdout",
     "output_type": "stream",
     "text": [
      "2184.480593485428\n",
      "6927.132869592536\n",
      "-0.07561205126871248\n",
      "2166.6453999276487\n",
      "28849.396381073882\n",
      "-0.08183740721439904\n"
     ]
    },
    {
     "name": "stderr",
     "output_type": "stream",
     "text": [
      "\r",
      "t:  29%|██████████████████▊                                               | 360/1260 [01:15<03:00,  4.99it/s, now=None]"
     ]
    },
    {
     "name": "stdout",
     "output_type": "stream",
     "text": [
      "2185.481830134098\n",
      "1516.2756347039815\n",
      "-0.06907876915097594\n"
     ]
    },
    {
     "name": "stderr",
     "output_type": "stream",
     "text": [
      "\r",
      "t:  29%|██████████████████▉                                               | 361/1260 [01:15<03:06,  4.83it/s, now=None]"
     ]
    },
    {
     "name": "stdout",
     "output_type": "stream",
     "text": [
      "2522.6858365977328\n",
      "2109.5515343951397\n",
      "-0.08129894171279882\n",
      "2514.6179606729156\n",
      "2273.191614931945\n",
      "-0.08767225037292065\n"
     ]
    },
    {
     "name": "stderr",
     "output_type": "stream",
     "text": [
      "t:  29%|███████████████████                                               | 364/1260 [01:15<02:53,  5.16it/s, now=None]"
     ]
    },
    {
     "name": "stdout",
     "output_type": "stream",
     "text": [
      "32047.146838934445\n",
      "3961.8847478512694\n",
      "-0.10317210927414885\n",
      "6855.337045875425\n",
      "5670.537244555955\n",
      "-0.1120934415516452\n"
     ]
    },
    {
     "name": "stderr",
     "output_type": "stream",
     "text": [
      "\r",
      "t:  29%|███████████████████                                               | 365/1260 [01:16<03:08,  4.74it/s, now=None]"
     ]
    },
    {
     "name": "stdout",
     "output_type": "stream",
     "text": [
      "2293.271568703176\n",
      "7354.918796597886\n",
      "-0.12290233803850195\n",
      "1900.0402797189568\n",
      "23090.423152007243\n",
      "-0.13497765845597484\n"
     ]
    },
    {
     "name": "stderr",
     "output_type": "stream",
     "text": [
      "t:  29%|███████████████████▎                                              | 368/1260 [01:16<02:46,  5.35it/s, now=None]"
     ]
    },
    {
     "name": "stdout",
     "output_type": "stream",
     "text": [
      "1400.5960984685064\n",
      "15310.333356151506\n",
      "-0.13756863138463005\n",
      "1191.4939299888717\n",
      "18026.93787066432\n",
      "-0.13603642293489676\n"
     ]
    },
    {
     "name": "stderr",
     "output_type": "stream",
     "text": [
      "\r",
      "t:  29%|███████████████████▎                                              | 369/1260 [01:16<02:43,  5.46it/s, now=None]"
     ]
    },
    {
     "name": "stdout",
     "output_type": "stream",
     "text": [
      "1143.822317558173\n",
      "3968.8848291389463\n",
      "-0.14722535183598773\n"
     ]
    },
    {
     "name": "stderr",
     "output_type": "stream",
     "text": [
      "\r",
      "t:  29%|███████████████████▍                                              | 370/1260 [01:17<02:58,  4.98it/s, now=None]"
     ]
    },
    {
     "name": "stdout",
     "output_type": "stream",
     "text": [
      "1134.7697600237077\n",
      "3409.4724636389037\n",
      "-0.11549215623768637\n",
      "1235.8871283042274\n",
      "4399.853287225801\n",
      "-0.11193751263742589\n"
     ]
    },
    {
     "name": "stderr",
     "output_type": "stream",
     "text": [
      "t:  30%|███████████████████▍                                              | 372/1260 [01:17<03:14,  4.57it/s, now=None]"
     ]
    },
    {
     "name": "stdout",
     "output_type": "stream",
     "text": [
      "1320.8608050498506\n",
      "2572.5544207030816\n",
      "-0.10151000537010996\n"
     ]
    },
    {
     "name": "stderr",
     "output_type": "stream",
     "text": [
      "\r",
      "t:  30%|███████████████████▌                                              | 373/1260 [01:17<03:23,  4.36it/s, now=None]"
     ]
    },
    {
     "name": "stdout",
     "output_type": "stream",
     "text": [
      "1432.4274537372082\n",
      "3858.1081895482534\n",
      "-0.09669816656892984\n",
      "1640.0407886789965\n",
      "4811.842420304069\n",
      "-0.08930834376217307\n"
     ]
    },
    {
     "name": "stderr",
     "output_type": "stream",
     "text": [
      "t:  30%|███████████████████▋                                              | 376/1260 [01:18<02:54,  5.06it/s, now=None]"
     ]
    },
    {
     "name": "stdout",
     "output_type": "stream",
     "text": [
      "2139.97183184204\n",
      "17373.629536730245\n",
      "-0.08021314663809898\n",
      "3536.048209918212\n",
      "14522.170830075956\n",
      "-0.07294835349138819\n"
     ]
    },
    {
     "name": "stderr",
     "output_type": "stream",
     "text": [
      "\r",
      "t:  30%|███████████████████▋                                              | 377/1260 [01:18<02:51,  5.13it/s, now=None]"
     ]
    },
    {
     "name": "stdout",
     "output_type": "stream",
     "text": [
      "9876.540640168863\n",
      "8011.113556860059\n",
      "-0.06584058771714982\n"
     ]
    },
    {
     "name": "stderr",
     "output_type": "stream",
     "text": [
      "\r",
      "t:  30%|███████████████████▊                                              | 378/1260 [01:18<03:04,  4.77it/s, now=None]"
     ]
    },
    {
     "name": "stdout",
     "output_type": "stream",
     "text": [
      "15712.883128633752\n",
      "2018.4770310219526\n",
      "-0.09030776335452464\n",
      "28903.256167228432\n",
      "2627.672987703475\n",
      "-0.07887524442026\n"
     ]
    },
    {
     "name": "stderr",
     "output_type": "stream",
     "text": [
      "t:  30%|███████████████████▉                                              | 380/1260 [01:19<02:58,  4.93it/s, now=None]"
     ]
    },
    {
     "name": "stdout",
     "output_type": "stream",
     "text": [
      "10400.114929956946\n",
      "2408.258332744221\n",
      "-0.07512272165576284\n"
     ]
    },
    {
     "name": "stderr",
     "output_type": "stream",
     "text": [
      "t:  30%|████████████████████                                              | 382/1260 [01:19<02:53,  5.07it/s, now=None]"
     ]
    },
    {
     "name": "stdout",
     "output_type": "stream",
     "text": [
      "5898.595179130001\n",
      "2103.6165721176567\n",
      "-0.07850328626472228\n",
      "4866.604457341934\n",
      "1585.8558624832917\n",
      "-0.08229437903649696\n"
     ]
    },
    {
     "name": "stderr",
     "output_type": "stream",
     "text": [
      "t:  30%|████████████████████                                              | 384/1260 [01:19<02:39,  5.48it/s, now=None]"
     ]
    },
    {
     "name": "stdout",
     "output_type": "stream",
     "text": [
      "4066.2898561661777\n",
      "1612.6695328390574\n",
      "-0.07749170546039492\n",
      "3485.279618414088\n",
      "3043.0003524289004\n",
      "-0.04693078025290622\n"
     ]
    },
    {
     "name": "stderr",
     "output_type": "stream",
     "text": [
      "\r",
      "t:  31%|████████████████████▏                                             | 385/1260 [01:20<03:03,  4.77it/s, now=None]"
     ]
    },
    {
     "name": "stdout",
     "output_type": "stream",
     "text": [
      "3566.8261565520515\n",
      "3425.6773807695226\n",
      "-0.05217968183344215\n"
     ]
    },
    {
     "name": "stderr",
     "output_type": "stream",
     "text": [
      "\r",
      "t:  31%|████████████████████▏                                             | 386/1260 [01:20<03:18,  4.41it/s, now=None]"
     ]
    },
    {
     "name": "stdout",
     "output_type": "stream",
     "text": [
      "3672.925903545099\n",
      "6281.890932336103\n",
      "-0.0627311222641287\n"
     ]
    },
    {
     "name": "stderr",
     "output_type": "stream",
     "text": [
      "\r",
      "t:  31%|████████████████████▎                                             | 387/1260 [01:20<03:26,  4.22it/s, now=None]"
     ]
    },
    {
     "name": "stdout",
     "output_type": "stream",
     "text": [
      "4746.585962806468\n",
      "11686.645288961103\n",
      "-0.06761213674313676\n"
     ]
    },
    {
     "name": "stderr",
     "output_type": "stream",
     "text": [
      "\r",
      "t:  31%|████████████████████▎                                             | 388/1260 [01:20<03:26,  4.23it/s, now=None]"
     ]
    },
    {
     "name": "stdout",
     "output_type": "stream",
     "text": [
      "5989.304259934947\n",
      "24395.08881350746\n",
      "-0.07265140682871551\n",
      "8162.220214757196\n",
      "28820.5496590366\n",
      "-0.07954822793699769"
     ]
    },
    {
     "name": "stderr",
     "output_type": "stream",
     "text": [
      "\r",
      "t:  31%|████████████████████▍                                             | 389/1260 [01:21<03:12,  4.52it/s, now=None]"
     ]
    },
    {
     "name": "stdout",
     "output_type": "stream",
     "text": [
      "\n"
     ]
    },
    {
     "name": "stderr",
     "output_type": "stream",
     "text": [
      "\r",
      "t:  31%|████████████████████▍                                             | 390/1260 [01:21<03:16,  4.42it/s, now=None]"
     ]
    },
    {
     "name": "stdout",
     "output_type": "stream",
     "text": [
      "29316.080130736136\n",
      "3160.527406869843\n",
      "-0.09709001493748312\n",
      "24905.635483857255\n",
      "1212.7350362683064\n",
      "-0.13171911721898516\n"
     ]
    },
    {
     "name": "stderr",
     "output_type": "stream",
     "text": [
      "t:  31%|████████████████████▌                                             | 393/1260 [01:21<02:46,  5.22it/s, now=None]"
     ]
    },
    {
     "name": "stdout",
     "output_type": "stream",
     "text": [
      "11778.094102793055\n",
      "1356.2191807019137\n",
      "-0.11929205934378745\n",
      "31789.8444516346\n",
      "1212.6107535377105\n",
      "-0.11587501392033658\n"
     ]
    },
    {
     "name": "stderr",
     "output_type": "stream",
     "text": [
      "\r",
      "t:  31%|████████████████████▋                                             | 394/1260 [01:22<02:58,  4.86it/s, now=None]"
     ]
    },
    {
     "name": "stdout",
     "output_type": "stream",
     "text": [
      "11827.016851884302\n",
      "3521.74863823838\n",
      "-0.08222170769303398\n"
     ]
    },
    {
     "name": "stderr",
     "output_type": "stream",
     "text": [
      "t:  31%|████████████████████▋                                             | 396/1260 [01:22<02:46,  5.19it/s, now=None]"
     ]
    },
    {
     "name": "stdout",
     "output_type": "stream",
     "text": [
      "11161.463107449963\n",
      "3102.8536914806086\n",
      "-0.07758814465679587\n",
      "6791.994015781812\n",
      "6790.832460186282\n",
      "-0.06473858639465685\n"
     ]
    },
    {
     "name": "stderr",
     "output_type": "stream",
     "text": [
      "\r",
      "t:  32%|████████████████████▊                                             | 397/1260 [01:22<02:42,  5.31it/s, now=None]"
     ]
    },
    {
     "name": "stdout",
     "output_type": "stream",
     "text": [
      "5248.596128933853\n",
      "2572.7594655434273\n",
      "-0.0632375525302285\n",
      "3707.209971857033\n",
      "4484.869084361182\n",
      "-0.04927206870310397\n"
     ]
    },
    {
     "name": "stderr",
     "output_type": "stream",
     "text": [
      "t:  32%|████████████████████▉                                             | 399/1260 [01:23<02:39,  5.40it/s, now=None]"
     ]
    },
    {
     "name": "stdout",
     "output_type": "stream",
     "text": [
      "3090.399422063027\n",
      "26357.887935762217\n",
      "-0.04909105806527159\n"
     ]
    },
    {
     "name": "stderr",
     "output_type": "stream",
     "text": [
      "\r",
      "t:  32%|████████████████████▉                                             | 400/1260 [01:23<02:41,  5.32it/s, now=None]"
     ]
    },
    {
     "name": "stdout",
     "output_type": "stream",
     "text": [
      "3689.9761573092123\n",
      "176051.92766335685\n",
      "-0.04875957080621577\n"
     ]
    },
    {
     "name": "stderr",
     "output_type": "stream",
     "text": [
      "\r",
      "t:  32%|█████████████████████                                             | 401/1260 [01:23<03:01,  4.74it/s, now=None]"
     ]
    },
    {
     "name": "stdout",
     "output_type": "stream",
     "text": [
      "4610.452655164706\n",
      "12054.169063269257\n",
      "-0.051864085280639044\n"
     ]
    },
    {
     "name": "stderr",
     "output_type": "stream",
     "text": [
      "\r",
      "t:  32%|█████████████████████                                             | 402/1260 [01:23<03:04,  4.64it/s, now=None]"
     ]
    },
    {
     "name": "stdout",
     "output_type": "stream",
     "text": [
      "4373.106164839909\n",
      "4018.7445057373475\n",
      "-0.0572035746356421\n",
      "3481.2054925855855\n",
      "1288.770375483776\n",
      "-0.08825368839191683\n"
     ]
    },
    {
     "name": "stderr",
     "output_type": "stream",
     "text": [
      "t:  32%|█████████████████████▏                                            | 404/1260 [01:24<02:56,  4.84it/s, now=None]"
     ]
    },
    {
     "name": "stdout",
     "output_type": "stream",
     "text": [
      "7042.068809289105\n",
      "1122.1640493719692\n",
      "-0.08634911549315118\n",
      "11628.090645549275\n",
      "1447.9488963004258\n",
      "-0.06892429408698982"
     ]
    },
    {
     "name": "stderr",
     "output_type": "stream",
     "text": [
      "\r",
      "t:  32%|█████████████████████▏                                            | 405/1260 [01:24<02:51,  4.99it/s, now=None]"
     ]
    },
    {
     "name": "stdout",
     "output_type": "stream",
     "text": [
      "\n",
      "15519.550184195261\n",
      "7696.816299513564\n",
      "-0.039293323868523515\n"
     ]
    },
    {
     "name": "stderr",
     "output_type": "stream",
     "text": [
      "t:  32%|█████████████████████▎                                            | 407/1260 [01:24<02:46,  5.13it/s, now=None]"
     ]
    },
    {
     "name": "stdout",
     "output_type": "stream",
     "text": [
      "26534.465836328778\n",
      "196710.79827441805\n",
      "-0.033468938857213255\n"
     ]
    },
    {
     "name": "stderr",
     "output_type": "stream",
     "text": [
      "t:  32%|█████████████████████▍                                            | 409/1260 [01:25<02:47,  5.07it/s, now=None]"
     ]
    },
    {
     "name": "stdout",
     "output_type": "stream",
     "text": [
      "16358.251645586159\n",
      "3301.640784157956\n",
      "-0.03536058464673064\n",
      "55280.27597208024\n",
      "3044.0250687554667\n",
      "-0.029414422951743048\n"
     ]
    },
    {
     "name": "stderr",
     "output_type": "stream",
     "text": [
      "\r",
      "t:  33%|█████████████████████▍                                            | 410/1260 [01:25<02:41,  5.25it/s, now=None]"
     ]
    },
    {
     "name": "stdout",
     "output_type": "stream",
     "text": [
      "22247.18167973807\n",
      "4192.485742247754\n",
      "-0.023066184342934597\n",
      "27089.12783843954\n",
      "3969.573366442545\n",
      "-0.015265552884618826\n"
     ]
    },
    {
     "name": "stderr",
     "output_type": "stream",
     "text": [
      "t:  33%|█████████████████████▌                                            | 412/1260 [01:25<03:00,  4.71it/s, now=None]"
     ]
    },
    {
     "name": "stdout",
     "output_type": "stream",
     "text": [
      "8424.604586133166\n",
      "5733.905255152665\n",
      "-0.012525875140536349\n",
      "88338.38271310278\n",
      "19530.108346162302\n",
      "-0.009545156912855304\n"
     ]
    },
    {
     "name": "stderr",
     "output_type": "stream",
     "text": [
      "t:  33%|█████████████████████▋                                            | 414/1260 [01:26<02:44,  5.13it/s, now=None]"
     ]
    },
    {
     "name": "stdout",
     "output_type": "stream",
     "text": [
      "16110.586910265736\n",
      "31918.30723973796\n",
      "-0.009177751645883973\n",
      "17348.213331441566\n",
      "1289.0368979434772\n",
      "-0.05447893471530285\n"
     ]
    },
    {
     "name": "stderr",
     "output_type": "stream",
     "text": [
      "t:  33%|█████████████████████▊                                            | 416/1260 [01:26<02:40,  5.26it/s, now=None]"
     ]
    },
    {
     "name": "stdout",
     "output_type": "stream",
     "text": [
      "12326.902925240382\n",
      "1431.7495541902504\n",
      "-0.031199997111990684\n"
     ]
    },
    {
     "name": "stderr",
     "output_type": "stream",
     "text": [
      "\r",
      "t:  33%|█████████████████████▊                                            | 417/1260 [01:26<02:46,  5.07it/s, now=None]"
     ]
    },
    {
     "name": "stdout",
     "output_type": "stream",
     "text": [
      "16753.61693724504\n",
      "1509.2686160059666\n",
      "-0.020988076775096846\n"
     ]
    },
    {
     "name": "stderr",
     "output_type": "stream",
     "text": [
      "t:  33%|█████████████████████▉                                            | 419/1260 [01:27<02:42,  5.19it/s, now=None]"
     ]
    },
    {
     "name": "stdout",
     "output_type": "stream",
     "text": [
      "7898.482902769477\n",
      "3574.720592295014\n",
      "0.004289883307406837\n",
      "4541.914821357397\n",
      "3897.7783342768103\n",
      "0.012274399776773408\n"
     ]
    },
    {
     "name": "stderr",
     "output_type": "stream",
     "text": [
      "\r",
      "t:  33%|██████████████████████                                            | 420/1260 [01:27<02:42,  5.17it/s, now=None]"
     ]
    },
    {
     "name": "stdout",
     "output_type": "stream",
     "text": [
      "5777.015937833987\n",
      "3026.572049616136\n",
      "0.010214864291724099\n"
     ]
    },
    {
     "name": "stderr",
     "output_type": "stream",
     "text": [
      "\r",
      "t:  33%|██████████████████████                                            | 421/1260 [01:27<02:47,  5.01it/s, now=None]"
     ]
    },
    {
     "name": "stdout",
     "output_type": "stream",
     "text": [
      "3481.549264754556\n",
      "2687.2627516941593\n",
      "0.01442921436769385\n"
     ]
    },
    {
     "name": "stderr",
     "output_type": "stream",
     "text": [
      "\r",
      "t:  33%|██████████████████████                                            | 422/1260 [01:27<02:59,  4.66it/s, now=None]"
     ]
    },
    {
     "name": "stdout",
     "output_type": "stream",
     "text": [
      "2386.3050421287667\n",
      "4515.371860742641\n",
      "0.03153960803818349\n"
     ]
    },
    {
     "name": "stderr",
     "output_type": "stream",
     "text": [
      "\r",
      "t:  34%|██████████████████████▏                                           | 423/1260 [01:27<02:59,  4.67it/s, now=None]"
     ]
    },
    {
     "name": "stdout",
     "output_type": "stream",
     "text": [
      "4048.113777608441\n",
      "10495.905519111222\n",
      "0.023933286449661476\n"
     ]
    },
    {
     "name": "stderr",
     "output_type": "stream",
     "text": [
      "\r",
      "t:  34%|██████████████████████▏                                           | 424/1260 [01:28<03:10,  4.38it/s, now=None]"
     ]
    },
    {
     "name": "stdout",
     "output_type": "stream",
     "text": [
      "3521.8203856349282\n",
      "59032.48819042799\n",
      "0.02811103095843503\n"
     ]
    },
    {
     "name": "stderr",
     "output_type": "stream",
     "text": [
      "t:  34%|██████████████████████▎                                           | 426/1260 [01:28<02:55,  4.76it/s, now=None]"
     ]
    },
    {
     "name": "stdout",
     "output_type": "stream",
     "text": [
      "4207.716703630746\n",
      "36144.73683448455\n",
      "0.030637555440270345\n",
      "4491.163157830239\n",
      "3087.5447396739146\n",
      "0.01937825845444026\n"
     ]
    },
    {
     "name": "stderr",
     "output_type": "stream",
     "text": [
      "\r",
      "t:  34%|██████████████████████▎                                           | 427/1260 [01:28<02:51,  4.85it/s, now=None]"
     ]
    },
    {
     "name": "stdout",
     "output_type": "stream",
     "text": [
      "5341.106375061226\n",
      "2290.9838605212717\n",
      "0.014325133581569097\n",
      "3830.3909147549325\n",
      "1530.6335639573185\n",
      "0.008950341382116091\n"
     ]
    },
    {
     "name": "stderr",
     "output_type": "stream",
     "text": [
      "t:  34%|██████████████████████▍                                           | 429/1260 [01:29<02:49,  4.91it/s, now=None]"
     ]
    },
    {
     "name": "stdout",
     "output_type": "stream",
     "text": [
      "6970.568841591973\n",
      "1951.7626649744232\n",
      "0.02584692117368614\n"
     ]
    },
    {
     "name": "stderr",
     "output_type": "stream",
     "text": [
      "\r",
      "t:  34%|██████████████████████▌                                           | 430/1260 [01:29<03:01,  4.56it/s, now=None]"
     ]
    },
    {
     "name": "stdout",
     "output_type": "stream",
     "text": [
      "8113.186845535289\n",
      "18834.40616797218\n",
      "0.05116767627832399\n"
     ]
    },
    {
     "name": "stderr",
     "output_type": "stream",
     "text": [
      "\r",
      "t:  34%|██████████████████████▌                                           | 431/1260 [01:29<03:01,  4.57it/s, now=None]"
     ]
    },
    {
     "name": "stdout",
     "output_type": "stream",
     "text": [
      "9310.671726799386\n",
      "2277.650939339774\n",
      "0.0430647572132878\n",
      "12968.775727046972\n",
      "3842.880490811689\n",
      "0.051735019407079794\n"
     ]
    },
    {
     "name": "stderr",
     "output_type": "stream",
     "text": [
      "t:  34%|██████████████████████▋                                           | 433/1260 [01:30<02:46,  4.96it/s, now=None]"
     ]
    },
    {
     "name": "stdout",
     "output_type": "stream",
     "text": [
      "63018.087375503565\n",
      "3832.4226527751516\n",
      "0.05486327539566698\n",
      "17880.968930355568\n",
      "4328.722291761309\n",
      "0.06140253178860025\n"
     ]
    },
    {
     "name": "stderr",
     "output_type": "stream",
     "text": [
      "t:  35%|██████████████████████▊                                           | 436/1260 [01:30<02:31,  5.44it/s, now=None]"
     ]
    },
    {
     "name": "stdout",
     "output_type": "stream",
     "text": [
      "17940.880634406803\n",
      "2987.6810430709784\n",
      "0.06957699786396267\n",
      "17769.834105891943\n",
      "5201.824879915736\n",
      "0.06923402734155978\n"
     ]
    },
    {
     "name": "stderr",
     "output_type": "stream",
     "text": [
      "t:  35%|██████████████████████▉                                           | 438/1260 [01:30<02:25,  5.65it/s, now=None]"
     ]
    },
    {
     "name": "stdout",
     "output_type": "stream",
     "text": [
      "12812.110982075017\n",
      "6820.8041909281055\n",
      "0.06769051978897629\n",
      "5697.683964659831\n",
      "3947.4507995380236\n",
      "0.04169266580478916\n"
     ]
    },
    {
     "name": "stderr",
     "output_type": "stream",
     "text": [
      "t:  35%|███████████████████████                                           | 440/1260 [01:31<02:22,  5.75it/s, now=None]"
     ]
    },
    {
     "name": "stdout",
     "output_type": "stream",
     "text": [
      "6433.695141105895\n",
      "1545.8611068375708\n",
      "0.02464895738082422\n",
      "3293.036314018595\n",
      "4880.223431069167\n",
      "0.05172744965434913\n"
     ]
    },
    {
     "name": "stderr",
     "output_type": "stream",
     "text": [
      "\r",
      "t:  35%|███████████████████████                                           | 441/1260 [01:31<02:44,  4.99it/s, now=None]"
     ]
    },
    {
     "name": "stdout",
     "output_type": "stream",
     "text": [
      "2497.4929030415547\n",
      "5246.449290416107\n",
      "0.07150683577271798\n"
     ]
    },
    {
     "name": "stderr",
     "output_type": "stream",
     "text": [
      "t:  35%|███████████████████████▏                                          | 443/1260 [01:31<02:40,  5.09it/s, now=None]"
     ]
    },
    {
     "name": "stdout",
     "output_type": "stream",
     "text": [
      "2611.755386028799\n",
      "5092.05071624367\n",
      "0.0740234266711771\n",
      "3035.67028156911\n",
      "6714.876046439007\n",
      "0.07891873262776364\n"
     ]
    },
    {
     "name": "stderr",
     "output_type": "stream",
     "text": [
      "\r",
      "t:  35%|███████████████████████▎                                          | 444/1260 [01:32<02:36,  5.23it/s, now=None]"
     ]
    },
    {
     "name": "stdout",
     "output_type": "stream",
     "text": [
      "2940.7085390060765\n",
      "20403.251019240048\n",
      "0.07705381548111408\n"
     ]
    },
    {
     "name": "stderr",
     "output_type": "stream",
     "text": [
      "\r",
      "t:  35%|███████████████████████▎                                          | 445/1260 [01:32<02:57,  4.59it/s, now=None]"
     ]
    },
    {
     "name": "stdout",
     "output_type": "stream",
     "text": [
      "2801.7173728729267\n",
      "3033.9700923072573\n",
      "0.09173216246004934\n",
      "3433.389382398534\n",
      "2253.667706091298\n",
      "0.09894524973789637\n"
     ]
    },
    {
     "name": "stderr",
     "output_type": "stream",
     "text": [
      "t:  35%|███████████████████████▍                                          | 447/1260 [01:32<02:42,  5.02it/s, now=None]"
     ]
    },
    {
     "name": "stdout",
     "output_type": "stream",
     "text": [
      "3072.2384302985142\n",
      "2589.910676718543\n",
      "0.09817869827782784\n",
      "2978.2050527753777\n",
      "3710.3851309775764\n",
      "0.09946625039929706\n"
     ]
    },
    {
     "name": "stderr",
     "output_type": "stream",
     "text": [
      "t:  36%|███████████████████████▌                                          | 449/1260 [01:33<02:37,  5.16it/s, now=None]"
     ]
    },
    {
     "name": "stdout",
     "output_type": "stream",
     "text": [
      "3253.9463895531003\n",
      "6132.594140222947\n",
      "0.09990503634046577\n",
      "3708.18093540298\n",
      "2739.625782552645\n",
      "0.0650364493690154\n"
     ]
    },
    {
     "name": "stderr",
     "output_type": "stream",
     "text": [
      "t:  36%|███████████████████████▌                                          | 451/1260 [01:33<02:40,  5.04it/s, now=None]"
     ]
    },
    {
     "name": "stdout",
     "output_type": "stream",
     "text": [
      "3599.1276755700464\n",
      "1808.4245913273398\n",
      "0.06303113341594774\n"
     ]
    },
    {
     "name": "stderr",
     "output_type": "stream",
     "text": [
      "\r",
      "t:  36%|███████████████████████▋                                          | 452/1260 [01:33<02:48,  4.79it/s, now=None]"
     ]
    },
    {
     "name": "stdout",
     "output_type": "stream",
     "text": [
      "5020.059758806683\n",
      "19048.28458408714\n",
      "0.10452755344785623\n",
      "5229.178650470814\n",
      "131485.6976914982\n",
      "0.10150173154563812\n"
     ]
    },
    {
     "name": "stderr",
     "output_type": "stream",
     "text": [
      "t:  36%|███████████████████████▊                                          | 454/1260 [01:34<02:55,  4.60it/s, now=None]"
     ]
    },
    {
     "name": "stdout",
     "output_type": "stream",
     "text": [
      "7464.500485454843\n",
      "2993.6702331466554\n",
      "0.11829854409801333\n"
     ]
    },
    {
     "name": "stderr",
     "output_type": "stream",
     "text": [
      "\r",
      "t:  36%|███████████████████████▊                                          | 455/1260 [01:34<02:50,  4.72it/s, now=None]"
     ]
    },
    {
     "name": "stdout",
     "output_type": "stream",
     "text": [
      "9770.6574657079\n",
      "129886.7817916112\n",
      "0.10508665521105769\n"
     ]
    },
    {
     "name": "stderr",
     "output_type": "stream",
     "text": [
      "\r",
      "t:  36%|███████████████████████▉                                          | 456/1260 [01:34<02:55,  4.58it/s, now=None]"
     ]
    },
    {
     "name": "stdout",
     "output_type": "stream",
     "text": [
      "28001.266802967355\n",
      "2248.7148350017965\n",
      "0.11939694598294028\n"
     ]
    },
    {
     "name": "stderr",
     "output_type": "stream",
     "text": [
      "\r",
      "t:  36%|███████████████████████▉                                          | 457/1260 [01:34<02:55,  4.56it/s, now=None]"
     ]
    },
    {
     "name": "stdout",
     "output_type": "stream",
     "text": [
      "27745.010265269113\n",
      "1976.017622625883\n",
      "0.11671483941323094\n"
     ]
    },
    {
     "name": "stderr",
     "output_type": "stream",
     "text": [
      "\r",
      "t:  36%|███████████████████████▉                                          | 458/1260 [01:35<03:09,  4.23it/s, now=None]"
     ]
    },
    {
     "name": "stdout",
     "output_type": "stream",
     "text": [
      "16046.112813524356\n",
      "3225.961105515445\n",
      "0.10618222678964273\n"
     ]
    },
    {
     "name": "stderr",
     "output_type": "stream",
     "text": [
      "\r",
      "t:  36%|████████████████████████                                          | 459/1260 [01:35<03:02,  4.38it/s, now=None]"
     ]
    },
    {
     "name": "stdout",
     "output_type": "stream",
     "text": [
      "11927.675073843731\n",
      "4974.421646080744\n",
      "0.09892778243571516\n",
      "36624.46485734485\n",
      "23662.032285498564\n",
      "0.09480640992002891\n"
     ]
    },
    {
     "name": "stderr",
     "output_type": "stream",
     "text": [
      "t:  37%|████████████████████████▏                                         | 461/1260 [01:35<03:14,  4.10it/s, now=None]"
     ]
    },
    {
     "name": "stdout",
     "output_type": "stream",
     "text": [
      "14424.562260927012\n",
      "20207.410435608777\n",
      "0.09367803545158974\n",
      "9371.840477876065\n",
      "1452.6929607446175\n",
      "0.04199990154159665\n"
     ]
    },
    {
     "name": "stderr",
     "output_type": "stream",
     "text": [
      "t:  37%|████████████████████████▎                                         | 463/1260 [01:36<02:50,  4.66it/s, now=None]"
     ]
    },
    {
     "name": "stdout",
     "output_type": "stream",
     "text": [
      "6627.4277898872115\n",
      "1342.8578244436876\n",
      "0.049603472858050265\n",
      "5511.852320752154\n",
      "1482.4047743707529\n",
      "0.056422937006948365\n"
     ]
    },
    {
     "name": "stderr",
     "output_type": "stream",
     "text": [
      "t:  37%|████████████████████████▍                                         | 466/1260 [01:36<02:30,  5.27it/s, now=None]"
     ]
    },
    {
     "name": "stdout",
     "output_type": "stream",
     "text": [
      "3723.697323322237\n",
      "3101.9745078533597\n",
      "0.08145019657297958\n",
      "3051.352558476531\n",
      "1968.7302746263633\n",
      "0.07674629049775268\n"
     ]
    },
    {
     "name": "stderr",
     "output_type": "stream",
     "text": [
      "t:  37%|████████████████████████▌                                         | 468/1260 [01:37<02:29,  5.29it/s, now=None]"
     ]
    },
    {
     "name": "stdout",
     "output_type": "stream",
     "text": [
      "2343.1151861238213\n",
      "1283.3678419368246\n",
      "0.07113758630319256\n",
      "2260.8141094331186\n",
      "1696.6356065577197\n",
      "0.08124311985920891\n"
     ]
    },
    {
     "name": "stderr",
     "output_type": "stream",
     "text": [
      "\r",
      "t:  37%|████████████████████████▌                                         | 469/1260 [01:37<02:48,  4.68it/s, now=None]"
     ]
    },
    {
     "name": "stdout",
     "output_type": "stream",
     "text": [
      "2169.303629175373\n",
      "11045.881441189234\n",
      "0.09247957784817458\n"
     ]
    },
    {
     "name": "stderr",
     "output_type": "stream",
     "text": [
      "t:  37%|████████████████████████▋                                         | 471/1260 [01:37<02:39,  4.95it/s, now=None]"
     ]
    },
    {
     "name": "stdout",
     "output_type": "stream",
     "text": [
      "2285.520655236323\n",
      "5395.885113942931\n",
      "0.08850014707191281\n",
      "2514.5431267396984\n",
      "5815.965940697628\n",
      "0.08747301434637925\n"
     ]
    },
    {
     "name": "stderr",
     "output_type": "stream",
     "text": [
      "t:  38%|████████████████████████▊                                         | 473/1260 [01:38<02:29,  5.25it/s, now=None]"
     ]
    },
    {
     "name": "stdout",
     "output_type": "stream",
     "text": [
      "3434.3538532883367\n",
      "3097.262841837907\n",
      "0.08091770544265417\n",
      "3571.7565253335206\n",
      "2619.942571414277\n",
      "0.07928120933796731\n"
     ]
    },
    {
     "name": "stderr",
     "output_type": "stream",
     "text": [
      "t:  38%|████████████████████████▉                                         | 475/1260 [01:38<02:20,  5.58it/s, now=None]"
     ]
    },
    {
     "name": "stdout",
     "output_type": "stream",
     "text": [
      "11824.800406750936\n",
      "1390.3019796730555\n",
      "0.0455162158818689\n",
      "18833.286495950557\n",
      "1903.9873592760966\n",
      "0.06356010527691947\n"
     ]
    },
    {
     "name": "stderr",
     "output_type": "stream",
     "text": [
      "\r",
      "t:  38%|████████████████████████▉                                         | 476/1260 [01:38<02:27,  5.33it/s, now=None]"
     ]
    },
    {
     "name": "stdout",
     "output_type": "stream",
     "text": [
      "14713.792011946138\n",
      "1852.2348259790574\n",
      "0.06266937914515115\n"
     ]
    },
    {
     "name": "stderr",
     "output_type": "stream",
     "text": [
      "\r",
      "t:  38%|████████████████████████▉                                         | 477/1260 [01:38<02:39,  4.91it/s, now=None]"
     ]
    },
    {
     "name": "stdout",
     "output_type": "stream",
     "text": [
      "96951.48596404215\n",
      "1538.9931199058612\n",
      "0.05705658735392464\n"
     ]
    },
    {
     "name": "stderr",
     "output_type": "stream",
     "text": [
      "\r",
      "t:  38%|█████████████████████████                                         | 478/1260 [01:39<02:47,  4.66it/s, now=None]"
     ]
    },
    {
     "name": "stdout",
     "output_type": "stream",
     "text": [
      "6822.596406141702\n",
      "22321.715341807605\n",
      "0.07664559628086642\n",
      "6418.894999094556\n",
      "10972.457363657708\n",
      "0.07720801078204201\n"
     ]
    },
    {
     "name": "stderr",
     "output_type": "stream",
     "text": [
      "t:  38%|█████████████████████████▏                                        | 480/1260 [01:39<02:35,  5.01it/s, now=None]"
     ]
    },
    {
     "name": "stdout",
     "output_type": "stream",
     "text": [
      "12806.491894337682\n",
      "15810161.632792516\n",
      "0.07685159806765016\n",
      "11871.942400438713\n",
      "184018.81716544428\n",
      "0.07209367116702825\n"
     ]
    },
    {
     "name": "stderr",
     "output_type": "stream",
     "text": [
      "t:  38%|█████████████████████████▏                                        | 482/1260 [01:39<02:30,  5.16it/s, now=None]"
     ]
    },
    {
     "name": "stdout",
     "output_type": "stream",
     "text": [
      "6479.038373137138\n",
      "2818.743921717334\n",
      "0.0732993354349251\n",
      "11787.574727715168\n",
      "3992.9435159908307\n",
      "0.0736555138402408\n"
     ]
    },
    {
     "name": "stderr",
     "output_type": "stream",
     "text": [
      "t:  38%|█████████████████████████▍                                        | 485/1260 [01:40<02:25,  5.34it/s, now=None]"
     ]
    },
    {
     "name": "stdout",
     "output_type": "stream",
     "text": [
      "172564.39531447602\n",
      "4238.579244683938\n",
      "0.07534866664633598\n",
      "60613.13560506139\n",
      "10905.73910090138\n",
      "0.07050353538087739\n"
     ]
    },
    {
     "name": "stderr",
     "output_type": "stream",
     "text": [
      "\r",
      "t:  39%|█████████████████████████▍                                        | 486/1260 [01:40<02:24,  5.36it/s, now=None]"
     ]
    },
    {
     "name": "stdout",
     "output_type": "stream",
     "text": [
      "6539.328761800165\n",
      "12490.47576591574\n",
      "0.053987899870751276\n",
      "10349.531617061672\n",
      "1475.3190676411934\n",
      "0.020140787505205676\n"
     ]
    },
    {
     "name": "stderr",
     "output_type": "stream",
     "text": [
      "t:  39%|█████████████████████████▌                                        | 488/1260 [01:41<02:24,  5.35it/s, now=None]"
     ]
    },
    {
     "name": "stdout",
     "output_type": "stream",
     "text": [
      "11836.46258333353\n",
      "2520.935670100335\n",
      "0.041939745439849845\n",
      "30223.366031698515\n",
      "2816.9922445907305\n",
      "0.047439958286415666\n"
     ]
    },
    {
     "name": "stderr",
     "output_type": "stream",
     "text": [
      "t:  39%|█████████████████████████▋                                        | 490/1260 [01:41<02:23,  5.35it/s, now=None]"
     ]
    },
    {
     "name": "stdout",
     "output_type": "stream",
     "text": [
      "23528.269653471267\n",
      "3217.1501703622057\n",
      "0.05124283283316122\n",
      "17640.6218111241\n",
      "2691.539542853234\n",
      "0.051486149415222955\n"
     ]
    },
    {
     "name": "stderr",
     "output_type": "stream",
     "text": [
      "t:  39%|█████████████████████████▊                                        | 493/1260 [01:42<02:18,  5.54it/s, now=None]"
     ]
    },
    {
     "name": "stdout",
     "output_type": "stream",
     "text": [
      "87989.21540326888\n",
      "3768.742723225941\n",
      "0.06545691950646775\n",
      "33146.22245367189\n",
      "4512.139817872462\n",
      "0.06197536021568366\n"
     ]
    },
    {
     "name": "stderr",
     "output_type": "stream",
     "text": [
      "\r",
      "t:  39%|█████████████████████████▉                                        | 494/1260 [01:42<02:19,  5.49it/s, now=None]"
     ]
    },
    {
     "name": "stdout",
     "output_type": "stream",
     "text": [
      "17706.69510503469\n",
      "2309.8320784596926\n",
      "0.0627510468645543\n",
      "168586.05639659314\n",
      "2799.2367771296967\n",
      "0.058894802475514055\n"
     ]
    },
    {
     "name": "stderr",
     "output_type": "stream",
     "text": [
      "t:  39%|█████████████████████████▉                                        | 496/1260 [01:42<02:18,  5.53it/s, now=None]"
     ]
    },
    {
     "name": "stdout",
     "output_type": "stream",
     "text": [
      "29754.31627075663\n",
      "3389.6782980947455\n",
      "0.057589865303298376\n",
      "25408.75221777729\n",
      "3251.82940034427\n",
      "0.06232510424183462\n"
     ]
    },
    {
     "name": "stderr",
     "output_type": "stream",
     "text": [
      "t:  40%|██████████████████████████                                        | 498/1260 [01:42<02:16,  5.57it/s, now=None]"
     ]
    },
    {
     "name": "stdout",
     "output_type": "stream",
     "text": [
      "54431.27914369781\n",
      "8399.432120772297\n",
      "0.03351955110529077\n"
     ]
    },
    {
     "name": "stderr",
     "output_type": "stream",
     "text": [
      "\r",
      "t:  40%|██████████████████████████▏                                       | 499/1260 [01:43<02:20,  5.44it/s, now=None]"
     ]
    },
    {
     "name": "stdout",
     "output_type": "stream",
     "text": [
      "13212.54091430153\n",
      "2564.081478490543\n",
      "0.019169054683483767\n"
     ]
    },
    {
     "name": "stderr",
     "output_type": "stream",
     "text": [
      "\r",
      "t:  40%|██████████████████████████▏                                       | 500/1260 [01:43<02:31,  5.03it/s, now=None]"
     ]
    },
    {
     "name": "stdout",
     "output_type": "stream",
     "text": [
      "70082.6055568216\n",
      "3150.551074479179\n",
      "0.03244179627749203\n"
     ]
    },
    {
     "name": "stderr",
     "output_type": "stream",
     "text": [
      "\r",
      "t:  40%|██████████████████████████▏                                       | 501/1260 [01:43<02:38,  4.77it/s, now=None]"
     ]
    },
    {
     "name": "stdout",
     "output_type": "stream",
     "text": [
      "793606.1707785749\n",
      "4313.850831724433\n",
      "0.038759348286662526\n",
      "36161.83884914609\n",
      "2157.839102196033\n",
      "0.024364442891604655\n"
     ]
    },
    {
     "name": "stderr",
     "output_type": "stream",
     "text": [
      "t:  40%|██████████████████████████▎                                       | 503/1260 [01:43<02:34,  4.89it/s, now=None]"
     ]
    },
    {
     "name": "stdout",
     "output_type": "stream",
     "text": [
      "53814.07536423789\n",
      "2822.184593892825\n",
      "0.025380588599514406\n",
      "24287.575782590444\n",
      "4113.291053946679\n",
      "0.030882481395126386\n"
     ]
    },
    {
     "name": "stderr",
     "output_type": "stream",
     "text": [
      "t:  40%|██████████████████████████▍                                       | 505/1260 [01:44<02:53,  4.36it/s, now=None]"
     ]
    },
    {
     "name": "stdout",
     "output_type": "stream",
     "text": [
      "31464.146897600895\n",
      "4097.014943614856\n",
      "0.03283349984337266\n"
     ]
    },
    {
     "name": "stderr",
     "output_type": "stream",
     "text": [
      "\r",
      "t:  40%|██████████████████████████▌                                       | 506/1260 [01:44<02:58,  4.23it/s, now=None]"
     ]
    },
    {
     "name": "stdout",
     "output_type": "stream",
     "text": [
      "5663.66045159372\n",
      "3678.6939968617135\n",
      "0.03602057385366452\n",
      "5326.444832446111\n",
      "19292.748659946184\n",
      "0.03963267638622337\n"
     ]
    },
    {
     "name": "stderr",
     "output_type": "stream",
     "text": [
      "t:  40%|██████████████████████████▌                                       | 508/1260 [01:45<02:36,  4.81it/s, now=None]"
     ]
    },
    {
     "name": "stdout",
     "output_type": "stream",
     "text": [
      "3358.329334940593\n",
      "4735.044524940548\n",
      "0.044879173424952505\n"
     ]
    },
    {
     "name": "stderr",
     "output_type": "stream",
     "text": [
      "\r",
      "t:  40%|██████████████████████████▋                                       | 509/1260 [01:45<02:38,  4.74it/s, now=None]"
     ]
    },
    {
     "name": "stdout",
     "output_type": "stream",
     "text": [
      "4719.269184460991\n",
      "15164.107571886523\n",
      "0.042216970928752505\n"
     ]
    },
    {
     "name": "stderr",
     "output_type": "stream",
     "text": [
      "\r",
      "t:  40%|██████████████████████████▋                                       | 510/1260 [01:45<02:56,  4.25it/s, now=None]"
     ]
    },
    {
     "name": "stdout",
     "output_type": "stream",
     "text": [
      "3701.9925163038192\n",
      "17212.655849331946\n",
      "0.03914055071549654\n"
     ]
    },
    {
     "name": "stderr",
     "output_type": "stream",
     "text": [
      "\r",
      "t:  41%|██████████████████████████▊                                       | 511/1260 [01:45<02:56,  4.24it/s, now=None]"
     ]
    },
    {
     "name": "stdout",
     "output_type": "stream",
     "text": [
      "4393.23897116937\n",
      "6147.770346300286\n",
      "0.036201827206100934\n",
      "4655.722568688782\n",
      "1717.7729981984048\n",
      "0.02014145234316678\n"
     ]
    },
    {
     "name": "stderr",
     "output_type": "stream",
     "text": [
      "t:  41%|██████████████████████████▊                                       | 513/1260 [01:46<02:45,  4.50it/s, now=None]"
     ]
    },
    {
     "name": "stdout",
     "output_type": "stream",
     "text": [
      "4790.446293633921\n",
      "1454.490473934111\n",
      "0.020691443884574223\n"
     ]
    },
    {
     "name": "stderr",
     "output_type": "stream",
     "text": [
      "t:  41%|██████████████████████████▉                                       | 515/1260 [01:46<02:34,  4.82it/s, now=None]"
     ]
    },
    {
     "name": "stdout",
     "output_type": "stream",
     "text": [
      "7391.088813096371\n",
      "17057.29721432169\n",
      "0.051843472529399345\n",
      "6534.097669768253\n",
      "22051.37162065539\n",
      "0.056936006596619175\n"
     ]
    },
    {
     "name": "stderr",
     "output_type": "stream",
     "text": [
      "\r",
      "t:  41%|███████████████████████████                                       | 516/1260 [01:46<02:48,  4.42it/s, now=None]"
     ]
    },
    {
     "name": "stdout",
     "output_type": "stream",
     "text": [
      "5070.95160613316\n",
      "5966.201131102177\n",
      "0.050188597177492106\n"
     ]
    },
    {
     "name": "stderr",
     "output_type": "stream",
     "text": [
      "\r",
      "t:  41%|███████████████████████████                                       | 517/1260 [01:47<02:42,  4.58it/s, now=None]"
     ]
    },
    {
     "name": "stdout",
     "output_type": "stream",
     "text": [
      "8913.106354373818\n",
      "10899.202945010038\n",
      "0.05582962433430853\n"
     ]
    },
    {
     "name": "stderr",
     "output_type": "stream",
     "text": [
      "\r",
      "t:  41%|███████████████████████████▏                                      | 518/1260 [01:47<02:40,  4.61it/s, now=None]"
     ]
    },
    {
     "name": "stdout",
     "output_type": "stream",
     "text": [
      "8512.925726246256\n",
      "14450.439185188085\n",
      "0.05263388508711168\n",
      "27223.273865298048\n",
      "1871.8574929017147\n",
      "0.0586208326795176\n"
     ]
    },
    {
     "name": "stderr",
     "output_type": "stream",
     "text": [
      "t:  41%|███████████████████████████▏                                      | 520/1260 [01:47<02:45,  4.48it/s, now=None]"
     ]
    },
    {
     "name": "stdout",
     "output_type": "stream",
     "text": [
      "17599.19991863093\n",
      "2002.8963393707495\n",
      "0.05730894306935568\n"
     ]
    },
    {
     "name": "stderr",
     "output_type": "stream",
     "text": [
      "\r",
      "t:  41%|███████████████████████████▎                                      | 521/1260 [01:48<02:50,  4.33it/s, now=None]"
     ]
    },
    {
     "name": "stdout",
     "output_type": "stream",
     "text": [
      "5042.291152647534\n",
      "2654.533003021926\n",
      "0.04969243734858771\n"
     ]
    },
    {
     "name": "stderr",
     "output_type": "stream",
     "text": [
      "t:  42%|███████████████████████████▍                                      | 523/1260 [01:48<02:36,  4.71it/s, now=None]"
     ]
    },
    {
     "name": "stdout",
     "output_type": "stream",
     "text": [
      "6692.127985799105\n",
      "39661.33930345372\n",
      "0.026328316947552464\n",
      "6487.068448263214\n",
      "21900.770739174375\n",
      "0.025725758265814778\n"
     ]
    },
    {
     "name": "stderr",
     "output_type": "stream",
     "text": [
      "\r",
      "t:  42%|███████████████████████████▍                                      | 524/1260 [01:48<02:50,  4.31it/s, now=None]"
     ]
    },
    {
     "name": "stdout",
     "output_type": "stream",
     "text": [
      "6719.618941081259\n",
      "3074.8272052703605\n",
      "0.010065922024626323\n"
     ]
    },
    {
     "name": "stderr",
     "output_type": "stream",
     "text": [
      "\r",
      "t:  42%|███████████████████████████▌                                      | 525/1260 [01:48<02:49,  4.33it/s, now=None]"
     ]
    },
    {
     "name": "stdout",
     "output_type": "stream",
     "text": [
      "13813.620663062757\n",
      "2497.1973591559754\n",
      "0.016059251678035773\n",
      "10718.53802555971\n",
      "4589.142220081079\n",
      "0.03040316943845104\n"
     ]
    },
    {
     "name": "stderr",
     "output_type": "stream",
     "text": [
      "t:  42%|███████████████████████████▌                                      | 527/1260 [01:49<02:41,  4.53it/s, now=None]"
     ]
    },
    {
     "name": "stdout",
     "output_type": "stream",
     "text": [
      "9831.79025772271\n",
      "14667.709845399031\n",
      "0.043190343249219415\n",
      "10050.580909874087\n",
      "3347.0968617905364\n",
      "0.05388539906536481\n"
     ]
    },
    {
     "name": "stderr",
     "output_type": "stream",
     "text": [
      "t:  42%|███████████████████████████▋                                      | 529/1260 [01:49<02:40,  4.57it/s, now=None]"
     ]
    },
    {
     "name": "stdout",
     "output_type": "stream",
     "text": [
      "44406.77892066562\n",
      "2175.3022046439246\n",
      "0.062322530800093874\n"
     ]
    },
    {
     "name": "stderr",
     "output_type": "stream",
     "text": [
      "\r",
      "t:  42%|███████████████████████████▊                                      | 530/1260 [01:50<03:07,  3.89it/s, now=None]"
     ]
    },
    {
     "name": "stdout",
     "output_type": "stream",
     "text": [
      "5452.791370277137\n",
      "2627.346594046512\n",
      "0.051946263092328165\n"
     ]
    },
    {
     "name": "stderr",
     "output_type": "stream",
     "text": [
      "t:  42%|███████████████████████████▊                                      | 532/1260 [01:50<02:45,  4.39it/s, now=None]"
     ]
    },
    {
     "name": "stdout",
     "output_type": "stream",
     "text": [
      "14792.847380561736\n",
      "4520.352854045483\n",
      "0.05034693922635162\n",
      "50099.02949052946\n",
      "3923.54519064281\n",
      "0.05275297454580688\n"
     ]
    },
    {
     "name": "stderr",
     "output_type": "stream",
     "text": [
      "\r",
      "t:  42%|███████████████████████████▉                                      | 533/1260 [01:50<03:10,  3.81it/s, now=None]"
     ]
    },
    {
     "name": "stdout",
     "output_type": "stream",
     "text": [
      "14131.88342394507\n",
      "9438.204917642472\n",
      "0.04934127698124376\n"
     ]
    },
    {
     "name": "stderr",
     "output_type": "stream",
     "text": [
      "\r",
      "t:  42%|███████████████████████████▉                                      | 534/1260 [01:51<03:10,  3.80it/s, now=None]"
     ]
    },
    {
     "name": "stdout",
     "output_type": "stream",
     "text": [
      "11229.730663314114\n",
      "639.1967816198922\n",
      "0.13025813250421148\n"
     ]
    },
    {
     "name": "stderr",
     "output_type": "stream",
     "text": [
      "\r",
      "t:  42%|████████████████████████████                                      | 535/1260 [01:51<03:08,  3.85it/s, now=None]"
     ]
    },
    {
     "name": "stdout",
     "output_type": "stream",
     "text": [
      "4141.384158886434\n",
      "533.265591935231\n",
      "0.13350406017190175\n",
      "2868.638867756818\n",
      "143940.373810276\n",
      "0.039530215304369044\n"
     ]
    },
    {
     "name": "stderr",
     "output_type": "stream",
     "text": [
      "t:  43%|████████████████████████████▏                                     | 537/1260 [01:51<02:41,  4.49it/s, now=None]"
     ]
    },
    {
     "name": "stdout",
     "output_type": "stream",
     "text": [
      "2733.550616311527\n",
      "6752.075831806299\n",
      "0.03472393810522813\n"
     ]
    },
    {
     "name": "stderr",
     "output_type": "stream",
     "text": [
      "\r",
      "t:  43%|████████████████████████████▏                                     | 538/1260 [01:52<02:45,  4.35it/s, now=None]"
     ]
    },
    {
     "name": "stdout",
     "output_type": "stream",
     "text": [
      "2622.3822860241194\n",
      "3776.518851912215\n",
      "0.04198023762274831\n",
      "3719.5938859802645\n",
      "3149.4692940147083\n",
      "0.045314996805366006\n"
     ]
    },
    {
     "name": "stderr",
     "output_type": "stream",
     "text": [
      "t:  43%|████████████████████████████▎                                     | 541/1260 [01:52<02:18,  5.20it/s, now=None]"
     ]
    },
    {
     "name": "stdout",
     "output_type": "stream",
     "text": [
      "4011.1740106714788\n",
      "18622.928631613926\n",
      "0.029101776376639125\n",
      "4431.1618375918615\n",
      "9705.519778077847\n",
      "0.030544491429761123\n"
     ]
    },
    {
     "name": "stderr",
     "output_type": "stream",
     "text": [
      "t:  43%|████████████████████████████▍                                     | 543/1260 [01:52<02:09,  5.55it/s, now=None]"
     ]
    },
    {
     "name": "stdout",
     "output_type": "stream",
     "text": [
      "3710.482490039813\n",
      "2427.232071392085\n",
      "0.021299968962087665\n",
      "3449.213880539968\n",
      "2747.8422680828403\n",
      "0.027964879034838793\n"
     ]
    },
    {
     "name": "stderr",
     "output_type": "stream",
     "text": [
      "\r",
      "t:  43%|████████████████████████████▍                                     | 544/1260 [01:53<02:11,  5.47it/s, now=None]"
     ]
    },
    {
     "name": "stdout",
     "output_type": "stream",
     "text": [
      "5104.6536342942145\n",
      "2277.706858043007\n",
      "0.0265184536226253\n"
     ]
    },
    {
     "name": "stderr",
     "output_type": "stream",
     "text": [
      "\r",
      "t:  43%|████████████████████████████▌                                     | 545/1260 [01:53<02:19,  5.13it/s, now=None]"
     ]
    },
    {
     "name": "stdout",
     "output_type": "stream",
     "text": [
      "139716.48382012433\n",
      "3056.6022674943893\n",
      "0.024537780809677934\n",
      "11875.845235010534\n",
      "661.1031758710087\n",
      "-0.02783921824826275\n"
     ]
    },
    {
     "name": "stderr",
     "output_type": "stream",
     "text": [
      "t:  43%|████████████████████████████▋                                     | 547/1260 [01:53<02:15,  5.28it/s, now=None]"
     ]
    },
    {
     "name": "stdout",
     "output_type": "stream",
     "text": [
      "11520.215199213146\n",
      "441.6504424925337\n",
      "-0.04800691147964058\n",
      "7226.58702126999\n",
      "895.4467614726693\n",
      "0.004342364870462234\n"
     ]
    },
    {
     "name": "stderr",
     "output_type": "stream",
     "text": [
      "t:  44%|████████████████████████████▊                                     | 549/1260 [01:54<02:19,  5.09it/s, now=None]"
     ]
    },
    {
     "name": "stdout",
     "output_type": "stream",
     "text": [
      "13442.222039546165\n",
      "821.9864629819654\n",
      "0.008840873887067963\n"
     ]
    },
    {
     "name": "stderr",
     "output_type": "stream",
     "text": [
      "\r",
      "t:  44%|████████████████████████████▊                                     | 550/1260 [01:54<02:38,  4.48it/s, now=None]"
     ]
    },
    {
     "name": "stdout",
     "output_type": "stream",
     "text": [
      "4987.880380365863\n",
      "656.990786761165\n",
      "0.017224098940242974\n"
     ]
    },
    {
     "name": "stderr",
     "output_type": "stream",
     "text": [
      "\r",
      "t:  44%|████████████████████████████▊                                     | 551/1260 [01:54<02:40,  4.43it/s, now=None]"
     ]
    },
    {
     "name": "stdout",
     "output_type": "stream",
     "text": [
      "4788.753275205933\n",
      "933.6593620719714\n",
      "0.026943808780557934\n"
     ]
    },
    {
     "name": "stderr",
     "output_type": "stream",
     "text": [
      "\r",
      "t:  44%|████████████████████████████▉                                     | 552/1260 [01:54<02:42,  4.36it/s, now=None]"
     ]
    },
    {
     "name": "stdout",
     "output_type": "stream",
     "text": [
      "3407.5018471150374\n",
      "76442.42996143707\n",
      "0.04779507993626289\n"
     ]
    },
    {
     "name": "stderr",
     "output_type": "stream",
     "text": [
      "t:  44%|█████████████████████████████                                     | 554/1260 [01:55<02:28,  4.74it/s, now=None]"
     ]
    },
    {
     "name": "stdout",
     "output_type": "stream",
     "text": [
      "11895.818956328276\n",
      "39144.32539435608\n",
      "0.04372708579564497\n",
      "4582.727803020211\n",
      "21474.400622108642\n",
      "0.04544991393010514\n"
     ]
    },
    {
     "name": "stderr",
     "output_type": "stream",
     "text": [
      "\r",
      "t:  44%|█████████████████████████████                                     | 555/1260 [01:55<02:22,  4.93it/s, now=None]"
     ]
    },
    {
     "name": "stdout",
     "output_type": "stream",
     "text": [
      "4836.338993264643\n",
      "6122.463607902638\n",
      "0.05667356089465506\n",
      "5139.9226637157135\n",
      "4621.580210885782\n",
      "0.026761430987376312\n"
     ]
    },
    {
     "name": "stderr",
     "output_type": "stream",
     "text": [
      "t:  44%|█████████████████████████████▏                                    | 558/1260 [01:55<02:12,  5.28it/s, now=None]"
     ]
    },
    {
     "name": "stdout",
     "output_type": "stream",
     "text": [
      "3387.0809766086822\n",
      "4070.5261844115653\n",
      "0.030314830073874744\n",
      "3030.4924454347656\n",
      "19630.893929587306\n",
      "0.04198962192522871\n"
     ]
    },
    {
     "name": "stderr",
     "output_type": "stream",
     "text": [
      "t:  44%|█████████████████████████████▎                                    | 560/1260 [01:56<02:05,  5.60it/s, now=None]"
     ]
    },
    {
     "name": "stdout",
     "output_type": "stream",
     "text": [
      "3553.8929050590104\n",
      "3585.7403772774296\n",
      "0.03193465033479819\n",
      "3112.551180291836\n",
      "2496.3875688733087\n",
      "0.025723457175930695\n"
     ]
    },
    {
     "name": "stderr",
     "output_type": "stream",
     "text": [
      "\r",
      "t:  45%|█████████████████████████████▍                                    | 561/1260 [01:56<02:05,  5.58it/s, now=None]"
     ]
    },
    {
     "name": "stdout",
     "output_type": "stream",
     "text": [
      "7795.800790600713\n",
      "1775.4157525548567\n",
      "0.0031058326391333662\n",
      "6691.917596478311\n",
      "1500.9399066787857\n",
      "0.0175423649705943\n"
     ]
    },
    {
     "name": "stderr",
     "output_type": "stream",
     "text": [
      "t:  45%|█████████████████████████████▌                                    | 564/1260 [01:57<02:08,  5.44it/s, now=None]"
     ]
    },
    {
     "name": "stdout",
     "output_type": "stream",
     "text": [
      "3029.506618356159\n",
      "1779.1193101274505\n",
      "0.018391076462753404\n",
      "2151.940449319498\n",
      "1905.3980573588435\n",
      "0.034544962417877516\n"
     ]
    },
    {
     "name": "stderr",
     "output_type": "stream",
     "text": [
      "\r",
      "t:  45%|█████████████████████████████▌                                    | 565/1260 [01:57<02:03,  5.60it/s, now=None]"
     ]
    },
    {
     "name": "stdout",
     "output_type": "stream",
     "text": [
      "270685.7737272846\n",
      "5831.078426798975\n",
      "0.040864740239237335\n",
      "10920.930258990466\n",
      "4427.512839547555\n",
      "0.030731600378173587\n"
     ]
    },
    {
     "name": "stderr",
     "output_type": "stream",
     "text": [
      "t:  45%|█████████████████████████████▋                                    | 567/1260 [01:57<02:05,  5.50it/s, now=None]"
     ]
    },
    {
     "name": "stdout",
     "output_type": "stream",
     "text": [
      "4217.514763269538\n",
      "3857.298485668751\n",
      "0.031330426833066735\n",
      "8388.608104625331\n",
      "4854.30393221093\n",
      "0.03544815037622597\n"
     ]
    },
    {
     "name": "stderr",
     "output_type": "stream",
     "text": [
      "t:  45%|█████████████████████████████▊                                    | 570/1260 [01:58<02:03,  5.57it/s, now=None]"
     ]
    },
    {
     "name": "stdout",
     "output_type": "stream",
     "text": [
      "22948.030007042868\n",
      "5454.22438823608\n",
      "0.028923553704379743\n",
      "11098.182620704965\n",
      "12151.211988874064\n",
      "0.02653374973026452\n"
     ]
    },
    {
     "name": "stderr",
     "output_type": "stream",
     "text": [
      "\r",
      "t:  45%|█████████████████████████████▉                                    | 571/1260 [01:58<02:05,  5.51it/s, now=None]"
     ]
    },
    {
     "name": "stdout",
     "output_type": "stream",
     "text": [
      "10652.696469439905\n",
      "4808.909758360699\n",
      "0.027780539881294513\n"
     ]
    },
    {
     "name": "stderr",
     "output_type": "stream",
     "text": [
      "t:  45%|██████████████████████████████                                    | 573/1260 [01:58<02:08,  5.35it/s, now=None]"
     ]
    },
    {
     "name": "stdout",
     "output_type": "stream",
     "text": [
      "11112.513877671081\n",
      "7993.893089691412\n",
      "0.029932407949332305\n",
      "11249.257248727774\n",
      "6509.3612245775275\n",
      "0.022048580897016272\n"
     ]
    },
    {
     "name": "stderr",
     "output_type": "stream",
     "text": [
      "\r",
      "t:  46%|██████████████████████████████                                    | 574/1260 [01:58<02:05,  5.45it/s, now=None]"
     ]
    },
    {
     "name": "stdout",
     "output_type": "stream",
     "text": [
      "16169.749853108908\n",
      "5720.8172648811615\n",
      "0.0263285312822031\n",
      "1503.053047452457\n",
      "1492.5885274016575\n",
      "0.02163688198610495\n"
     ]
    },
    {
     "name": "stderr",
     "output_type": "stream",
     "text": [
      "t:  46%|██████████████████████████████▏                                   | 577/1260 [01:59<02:02,  5.58it/s, now=None]"
     ]
    },
    {
     "name": "stdout",
     "output_type": "stream",
     "text": [
      "1893.6172446290893\n",
      "1677.2024811320255\n",
      "0.015255452932389696\n",
      "3847.6181611306265\n",
      "2231.2557507696915\n",
      "0.001765407354587004\n"
     ]
    },
    {
     "name": "stderr",
     "output_type": "stream",
     "text": [
      "t:  46%|██████████████████████████████▎                                   | 579/1260 [01:59<02:03,  5.52it/s, now=None]"
     ]
    },
    {
     "name": "stdout",
     "output_type": "stream",
     "text": [
      "2334.965405193188\n",
      "1820.263738206499\n",
      "0.0070514960283967415\n",
      "1533.8049692224408\n",
      "1553.1986134195533\n",
      "0.002284288065748147\n"
     ]
    },
    {
     "name": "stderr",
     "output_type": "stream",
     "text": [
      "\r",
      "t:  46%|██████████████████████████████▍                                   | 580/1260 [01:59<02:00,  5.67it/s, now=None]"
     ]
    },
    {
     "name": "stdout",
     "output_type": "stream",
     "text": [
      "2700.430606487836\n",
      "1423.2998829452704\n",
      "0.010307451954225047\n"
     ]
    },
    {
     "name": "stderr",
     "output_type": "stream",
     "text": [
      "t:  46%|██████████████████████████████▍                                   | 582/1260 [02:00<01:58,  5.70it/s, now=None]"
     ]
    },
    {
     "name": "stdout",
     "output_type": "stream",
     "text": [
      "1090.0714509023787\n",
      "1904.485831894131\n",
      "-0.0064028347629145116\n",
      "1164.3230802318305\n",
      "19632.455715155324\n",
      "-0.032760488195627595\n"
     ]
    },
    {
     "name": "stderr",
     "output_type": "stream",
     "text": [
      "\r",
      "t:  46%|██████████████████████████████▌                                   | 583/1260 [02:00<02:04,  5.45it/s, now=None]"
     ]
    },
    {
     "name": "stdout",
     "output_type": "stream",
     "text": [
      "1284.8661912015987\n",
      "2578.33036628529\n",
      "-0.012543711148662332\n",
      "3073.4661683470263\n",
      "3533.4293797604064\n",
      "-0.0034130907312237796\n"
     ]
    },
    {
     "name": "stderr",
     "output_type": "stream",
     "text": [
      "t:  46%|██████████████████████████████▋                                   | 585/1260 [02:00<02:01,  5.54it/s, now=None]"
     ]
    },
    {
     "name": "stdout",
     "output_type": "stream",
     "text": [
      "103648.3758638427\n",
      "1639.1389911523775\n",
      "-0.010113895570851697\n"
     ]
    },
    {
     "name": "stderr",
     "output_type": "stream",
     "text": [
      "t:  47%|██████████████████████████████▋                                   | 587/1260 [02:01<01:53,  5.91it/s, now=None]"
     ]
    },
    {
     "name": "stdout",
     "output_type": "stream",
     "text": [
      "2475.2925805649807\n",
      "2086.8913328221142\n",
      "0.0004181372340052739\n",
      "2344.113695564863\n",
      "1933.7730177251228\n",
      "-0.006287751160464625\n"
     ]
    },
    {
     "name": "stderr",
     "output_type": "stream",
     "text": [
      "t:  47%|██████████████████████████████▊                                   | 589/1260 [02:01<01:51,  6.00it/s, now=None]"
     ]
    },
    {
     "name": "stdout",
     "output_type": "stream",
     "text": [
      "2895.96411476013\n",
      "1800.2477227263705\n",
      "0.00018357401765537623\n",
      "2249.0544180756306\n",
      "1451.3620775148245\n",
      "0.7423139753013915\n"
     ]
    },
    {
     "name": "stderr",
     "output_type": "stream",
     "text": [
      "\r",
      "t:  47%|██████████████████████████████▉                                   | 590/1260 [02:01<01:54,  5.85it/s, now=None]"
     ]
    },
    {
     "name": "stdout",
     "output_type": "stream",
     "text": [
      "1660.5252918649333\n",
      "947.786178023918\n",
      "-0.032453277221444005\n",
      "1390.3398851739096\n",
      "1441.3387613037598\n",
      "-0.01341852155221966\n"
     ]
    },
    {
     "name": "stderr",
     "output_type": "stream",
     "text": [
      "t:  47%|███████████████████████████████                                   | 593/1260 [02:02<01:50,  6.03it/s, now=None]"
     ]
    },
    {
     "name": "stdout",
     "output_type": "stream",
     "text": [
      "1930.297261487367\n",
      "1940.4715709356556\n",
      "0.019242912197806196\n",
      "1867.929303162338\n",
      "3194.413878988229\n",
      "0.04400587398854181\n"
     ]
    },
    {
     "name": "stderr",
     "output_type": "stream",
     "text": [
      "t:  47%|███████████████████████████████▏                                  | 595/1260 [02:02<01:51,  5.99it/s, now=None]"
     ]
    },
    {
     "name": "stdout",
     "output_type": "stream",
     "text": [
      "1332.2705976360444\n",
      "7372.745732024096\n",
      "0.0713722733362368\n",
      "1483.9212516148918\n",
      "3575.1180706877994\n",
      "0.061990806624725565\n"
     ]
    },
    {
     "name": "stderr",
     "output_type": "stream",
     "text": [
      "t:  47%|███████████████████████████████▎                                  | 597/1260 [02:02<01:54,  5.80it/s, now=None]"
     ]
    },
    {
     "name": "stdout",
     "output_type": "stream",
     "text": [
      "1150.1630453394519\n",
      "1705.977337093726\n",
      "0.05611954654459007\n",
      "2196.290795800249\n",
      "977.7667319264712\n",
      "0.043852151960393534\n"
     ]
    },
    {
     "name": "stderr",
     "output_type": "stream",
     "text": [
      "t:  48%|███████████████████████████████▍                                  | 599/1260 [02:03<01:50,  5.98it/s, now=None]"
     ]
    },
    {
     "name": "stdout",
     "output_type": "stream",
     "text": [
      "974.7911236315279\n",
      "840.2464145987275\n",
      "0.04747375217304255\n",
      "1960.34333043921\n",
      "856.2635355953572\n",
      "0.048633622149726406\n"
     ]
    },
    {
     "name": "stderr",
     "output_type": "stream",
     "text": [
      "\r",
      "t:  48%|███████████████████████████████▍                                  | 600/1260 [02:03<01:55,  5.74it/s, now=None]"
     ]
    },
    {
     "name": "stdout",
     "output_type": "stream",
     "text": [
      "3993.189992229177\n",
      "4994.793660838345\n",
      "0.06764307995603851\n",
      "2701.748107222534\n",
      "2235.254180193997\n",
      "0.06322055136367141\n"
     ]
    },
    {
     "name": "stderr",
     "output_type": "stream",
     "text": [
      "t:  48%|███████████████████████████████▌                                  | 602/1260 [02:03<01:56,  5.66it/s, now=None]"
     ]
    },
    {
     "name": "stdout",
     "output_type": "stream",
     "text": [
      "1960.0114913979833\n",
      "1972.6022444505074\n",
      "0.057611458125466745\n"
     ]
    },
    {
     "name": "stderr",
     "output_type": "stream",
     "text": [
      "\r",
      "t:  48%|███████████████████████████████▌                                  | 603/1260 [02:04<02:01,  5.41it/s, now=None]"
     ]
    },
    {
     "name": "stdout",
     "output_type": "stream",
     "text": [
      "3577.610842855897\n",
      "2008.2937501211857\n",
      "0.060604137121851996\n",
      "7834.778963880956\n",
      "2215.5334653390946\n",
      "0.07766879016375379\n"
     ]
    },
    {
     "name": "stderr",
     "output_type": "stream",
     "text": [
      "t:  48%|███████████████████████████████▋                                  | 606/1260 [02:04<01:54,  5.72it/s, now=None]"
     ]
    },
    {
     "name": "stdout",
     "output_type": "stream",
     "text": [
      "4927.886924500682\n",
      "4722.048942243027\n",
      "0.08775353663491743\n",
      "2673.663373907966\n",
      "1256.358058160943\n",
      "0.07858614528241542\n"
     ]
    },
    {
     "name": "stderr",
     "output_type": "stream",
     "text": [
      "\r",
      "t:  48%|███████████████████████████████▊                                  | 607/1260 [02:04<01:53,  5.73it/s, now=None]"
     ]
    },
    {
     "name": "stdout",
     "output_type": "stream",
     "text": [
      "433.57552904551903\n",
      "596.1796862466372\n",
      "0.017609030488590163\n"
     ]
    },
    {
     "name": "stderr",
     "output_type": "stream",
     "text": [
      "\r",
      "t:  48%|███████████████████████████████▊                                  | 608/1260 [02:04<02:06,  5.15it/s, now=None]"
     ]
    },
    {
     "name": "stdout",
     "output_type": "stream",
     "text": [
      "363.26306627930893\n",
      "629.1918384520969\n",
      "0.03844412597244093\n"
     ]
    },
    {
     "name": "stderr",
     "output_type": "stream",
     "text": [
      "t:  48%|███████████████████████████████▉                                  | 610/1260 [02:05<02:02,  5.30it/s, now=None]"
     ]
    },
    {
     "name": "stdout",
     "output_type": "stream",
     "text": [
      "366.50302716468053\n",
      "537.264182817076\n",
      "0.05479518973049041\n",
      "495.218593273511\n",
      "684.2809075058545\n",
      "0.09427215145126878\n"
     ]
    },
    {
     "name": "stderr",
     "output_type": "stream",
     "text": [
      "t:  49%|████████████████████████████████                                  | 612/1260 [02:05<01:59,  5.42it/s, now=None]"
     ]
    },
    {
     "name": "stdout",
     "output_type": "stream",
     "text": [
      "449.90592807690706\n",
      "618.4875075009196\n",
      "0.10969127831955586\n",
      "558.2828173439301\n",
      "609.3367100210985\n",
      "0.12469671585712\n"
     ]
    },
    {
     "name": "stderr",
     "output_type": "stream",
     "text": [
      "t:  49%|████████████████████████████████▏                                 | 614/1260 [02:06<01:53,  5.70it/s, now=None]"
     ]
    },
    {
     "name": "stdout",
     "output_type": "stream",
     "text": [
      "584.7088353307023\n",
      "680.670848614402\n",
      "0.13538228818778678\n",
      "491.5454490129484\n",
      "1004.7141320466856\n",
      "0.17932749228247194\n"
     ]
    },
    {
     "name": "stderr",
     "output_type": "stream",
     "text": [
      "\r",
      "t:  49%|████████████████████████████████▏                                 | 615/1260 [02:06<01:59,  5.42it/s, now=None]"
     ]
    },
    {
     "name": "stdout",
     "output_type": "stream",
     "text": [
      "543.6942558623324\n",
      "886.9833280732208\n",
      "0.1907932535097662\n",
      "483.3796525174378\n",
      "926.4683511593269\n",
      "0.19953860335780604\n"
     ]
    },
    {
     "name": "stderr",
     "output_type": "stream",
     "text": [
      "t:  49%|████████████████████████████████▎                                 | 617/1260 [02:06<01:54,  5.61it/s, now=None]"
     ]
    },
    {
     "name": "stdout",
     "output_type": "stream",
     "text": [
      "592.5840149395503\n",
      "637.7876085639379\n",
      "0.18856597499867334\n"
     ]
    },
    {
     "name": "stderr",
     "output_type": "stream",
     "text": [
      "t:  49%|████████████████████████████████▍                                 | 619/1260 [02:06<01:49,  5.84it/s, now=None]"
     ]
    },
    {
     "name": "stdout",
     "output_type": "stream",
     "text": [
      "530.6716048136512\n",
      "673.3193830718543\n",
      "0.20727140902399704\n",
      "606.8459732024885\n",
      "670.162901947216\n",
      "0.2111498991337532\n"
     ]
    },
    {
     "name": "stderr",
     "output_type": "stream",
     "text": [
      "t:  49%|████████████████████████████████▌                                 | 621/1260 [02:07<01:57,  5.43it/s, now=None]"
     ]
    },
    {
     "name": "stdout",
     "output_type": "stream",
     "text": [
      "548.8519022112325\n",
      "1403.095287622703\n",
      "0.25548614053260066\n",
      "618.4474487780426\n",
      "1387.4810754168902\n",
      "0.253763152236821\n"
     ]
    },
    {
     "name": "stderr",
     "output_type": "stream",
     "text": [
      "t:  49%|████████████████████████████████▋                                 | 623/1260 [02:07<01:54,  5.58it/s, now=None]"
     ]
    },
    {
     "name": "stdout",
     "output_type": "stream",
     "text": [
      "528.7552174079252\n",
      "1573.4570098052836\n",
      "0.25159249260007344\n",
      "558.7626489759839\n",
      "1814.0495036417028\n",
      "0.23868765391423907\n"
     ]
    },
    {
     "name": "stderr",
     "output_type": "stream",
     "text": [
      "t:  50%|████████████████████████████████▋                                 | 625/1260 [02:07<01:52,  5.67it/s, now=None]"
     ]
    },
    {
     "name": "stdout",
     "output_type": "stream",
     "text": [
      "568.3660762305054\n",
      "2384.353464317192\n",
      "0.22629711140952083\n",
      "586.2211952668274\n",
      "2235.4109962398175\n",
      "0.2142279626225494\n"
     ]
    },
    {
     "name": "stderr",
     "output_type": "stream",
     "text": [
      "\r",
      "t:  50%|████████████████████████████████▊                                 | 626/1260 [02:08<01:53,  5.57it/s, now=None]"
     ]
    },
    {
     "name": "stdout",
     "output_type": "stream",
     "text": [
      "524.5072157232526\n",
      "1156.3034909471394\n",
      "0.18678820510884836\n"
     ]
    },
    {
     "name": "stderr",
     "output_type": "stream",
     "text": [
      "t:  50%|████████████████████████████████▉                                 | 628/1260 [02:08<01:53,  5.56it/s, now=None]"
     ]
    },
    {
     "name": "stdout",
     "output_type": "stream",
     "text": [
      "496.8224800188795\n",
      "1110.425519398389\n",
      "0.17317181305587034\n",
      "436.83555244189245\n",
      "1131.1209563005405\n",
      "0.1596248368527297\n"
     ]
    },
    {
     "name": "stderr",
     "output_type": "stream",
     "text": [
      "\r",
      "t:  50%|████████████████████████████████▉                                 | 629/1260 [02:08<01:52,  5.63it/s, now=None]"
     ]
    },
    {
     "name": "stdout",
     "output_type": "stream",
     "text": [
      "459.26788859292435\n",
      "1149.1923072769105\n",
      "0.1544879964042581\n",
      "483.27435486220804\n",
      "779.099069993106\n",
      "0.11310853247472727\n"
     ]
    },
    {
     "name": "stderr",
     "output_type": "stream",
     "text": [
      "t:  50%|█████████████████████████████████                                 | 631/1260 [02:09<02:01,  5.20it/s, now=None]"
     ]
    },
    {
     "name": "stdout",
     "output_type": "stream",
     "text": [
      "754.9081442641055\n",
      "677.5468790164086\n",
      "0.09557681517006258\n",
      "940.546336232916\n",
      "770.2746463997689\n",
      "0.11010801977897249\n"
     ]
    },
    {
     "name": "stderr",
     "output_type": "stream",
     "text": [
      "t:  50%|█████████████████████████████████▏                                | 634/1260 [02:09<01:57,  5.34it/s, now=None]"
     ]
    },
    {
     "name": "stdout",
     "output_type": "stream",
     "text": [
      "1079.4768941050354\n",
      "823.9378319607173\n",
      "0.11740389670490284\n",
      "1001.4931964052435\n",
      "875.9864104907593\n",
      "0.12764876200567382\n"
     ]
    },
    {
     "name": "stderr",
     "output_type": "stream",
     "text": [
      "\r",
      "t:  50%|█████████████████████████████████▎                                | 635/1260 [02:09<01:57,  5.34it/s, now=None]"
     ]
    },
    {
     "name": "stdout",
     "output_type": "stream",
     "text": [
      "832.0408488218565\n",
      "1048.132751136535\n",
      "0.13481036270916683\n",
      "901.8228335008321\n",
      "1048.9944298102093\n",
      "0.1423550141945733\n"
     ]
    },
    {
     "name": "stderr",
     "output_type": "stream",
     "text": [
      "t:  51%|█████████████████████████████████▎                                | 637/1260 [02:10<01:53,  5.47it/s, now=None]"
     ]
    },
    {
     "name": "stdout",
     "output_type": "stream",
     "text": [
      "870.392073192415\n",
      "808.1459433967591\n",
      "0.1303384114949943\n",
      "821.7806989009326\n",
      "619.6357228561242\n",
      "0.11282483440087666\n"
     ]
    },
    {
     "name": "stderr",
     "output_type": "stream",
     "text": [
      "t:  51%|█████████████████████████████████▍                                | 639/1260 [02:10<01:59,  5.18it/s, now=None]"
     ]
    },
    {
     "name": "stdout",
     "output_type": "stream",
     "text": [
      "868.5692692448033\n",
      "622.3032900219187\n",
      "0.10306422311947308\n"
     ]
    },
    {
     "name": "stderr",
     "output_type": "stream",
     "text": [
      "\r",
      "t:  51%|█████████████████████████████████▌                                | 640/1260 [02:10<02:09,  4.78it/s, now=None]"
     ]
    },
    {
     "name": "stdout",
     "output_type": "stream",
     "text": [
      "1011.9898946396307\n",
      "656.9888518481581\n",
      "0.09477991561241977\n",
      "1188.9961977885484\n",
      "734.9799419622608\n",
      "0.08385679624480744\n"
     ]
    },
    {
     "name": "stderr",
     "output_type": "stream",
     "text": [
      "t:  51%|█████████████████████████████████▋                                | 642/1260 [02:11<02:05,  4.94it/s, now=None]"
     ]
    },
    {
     "name": "stdout",
     "output_type": "stream",
     "text": [
      "1258.3686450836037\n",
      "943.8728909257918\n",
      "0.07707166815025304\n"
     ]
    },
    {
     "name": "stderr",
     "output_type": "stream",
     "text": [
      "\r",
      "t:  51%|█████████████████████████████████▋                                | 643/1260 [02:11<02:11,  4.68it/s, now=None]"
     ]
    },
    {
     "name": "stdout",
     "output_type": "stream",
     "text": [
      "1399.7751330088004\n",
      "805.6204340241525\n",
      "0.05341087005298446\n"
     ]
    },
    {
     "name": "stderr",
     "output_type": "stream",
     "text": [
      "\r",
      "t:  51%|█████████████████████████████████▋                                | 644/1260 [02:11<02:17,  4.48it/s, now=None]"
     ]
    },
    {
     "name": "stdout",
     "output_type": "stream",
     "text": [
      "1682.5849216917984\n",
      "739.7928604240484\n",
      "0.04699338635503406\n",
      "1481.9100185519558\n",
      "786.2424513178486\n",
      "0.04545544347606722\n"
     ]
    },
    {
     "name": "stderr",
     "output_type": "stream",
     "text": [
      "t:  51%|█████████████████████████████████▊                                | 646/1260 [02:12<02:04,  4.94it/s, now=None]"
     ]
    },
    {
     "name": "stdout",
     "output_type": "stream",
     "text": [
      "1554.916782635313\n",
      "763.5831487364919\n",
      "0.041115721890215486\n"
     ]
    },
    {
     "name": "stderr",
     "output_type": "stream",
     "text": [
      "\r",
      "t:  51%|█████████████████████████████████▉                                | 647/1260 [02:12<02:08,  4.76it/s, now=None]"
     ]
    },
    {
     "name": "stdout",
     "output_type": "stream",
     "text": [
      "1377.065369702243\n",
      "670.2565021570941\n",
      "0.02775917863160495\n",
      "1433.8051340563165\n",
      "795.8469586298813\n",
      "0.032425336548764595\n"
     ]
    },
    {
     "name": "stderr",
     "output_type": "stream",
     "text": [
      "t:  52%|█████████████████████████████████▉                                | 649/1260 [02:12<02:01,  5.03it/s, now=None]"
     ]
    },
    {
     "name": "stdout",
     "output_type": "stream",
     "text": [
      "1219.668974484088\n",
      "895.7453195628447\n",
      "0.02825318242652218\n",
      "1171.2574616553704\n",
      "931.6588074725449\n",
      "0.025197076809175493\n"
     ]
    },
    {
     "name": "stderr",
     "output_type": "stream",
     "text": [
      "t:  52%|██████████████████████████████████                                | 651/1260 [02:13<02:05,  4.84it/s, now=None]"
     ]
    },
    {
     "name": "stdout",
     "output_type": "stream",
     "text": [
      "1349.0370058989245\n",
      "889.6751183496644\n",
      "0.02177142845011489\n"
     ]
    },
    {
     "name": "stderr",
     "output_type": "stream",
     "text": [
      "\r",
      "t:  52%|██████████████████████████████████▏                               | 652/1260 [02:13<02:06,  4.79it/s, now=None]"
     ]
    },
    {
     "name": "stdout",
     "output_type": "stream",
     "text": [
      "1214.0688683668805\n",
      "851.8674395254039\n",
      "0.01312666471097446\n",
      "1213.6591375553478\n",
      "830.1352750733781\n",
      "0.009061074361945365\n"
     ]
    },
    {
     "name": "stderr",
     "output_type": "stream",
     "text": [
      "t:  52%|██████████████████████████████████▎                               | 654/1260 [02:13<01:57,  5.16it/s, now=None]"
     ]
    },
    {
     "name": "stdout",
     "output_type": "stream",
     "text": [
      "1213.9767267991206\n",
      "784.041307875734\n",
      "0.0011022448811552296\n"
     ]
    },
    {
     "name": "stderr",
     "output_type": "stream",
     "text": [
      "\r",
      "t:  52%|██████████████████████████████████▎                               | 655/1260 [02:13<02:08,  4.70it/s, now=None]"
     ]
    },
    {
     "name": "stdout",
     "output_type": "stream",
     "text": [
      "1002.0245619799086\n",
      "786.7383067582956\n",
      "-0.007070841756620537\n"
     ]
    },
    {
     "name": "stderr",
     "output_type": "stream",
     "text": [
      "\r",
      "t:  52%|██████████████████████████████████▎                               | 656/1260 [02:14<02:12,  4.55it/s, now=None]"
     ]
    },
    {
     "name": "stdout",
     "output_type": "stream",
     "text": [
      "861.4091568170827\n",
      "744.0735762604515\n",
      "-0.021857549738297864\n",
      "752.179872517391\n",
      "1124.4564769520896\n",
      "-0.006782338885911844\n"
     ]
    },
    {
     "name": "stderr",
     "output_type": "stream",
     "text": [
      "t:  52%|██████████████████████████████████▍                               | 658/1260 [02:14<02:06,  4.77it/s, now=None]"
     ]
    },
    {
     "name": "stdout",
     "output_type": "stream",
     "text": [
      "743.5963299137786\n",
      "1281.2025968999335\n",
      "-0.009209467291676854\n"
     ]
    },
    {
     "name": "stderr",
     "output_type": "stream",
     "text": [
      "\r",
      "t:  52%|██████████████████████████████████▌                               | 659/1260 [02:14<02:16,  4.40it/s, now=None]"
     ]
    },
    {
     "name": "stdout",
     "output_type": "stream",
     "text": [
      "721.4948618698094\n",
      "974.099644636199\n",
      "-0.021517817624252384\n"
     ]
    },
    {
     "name": "stderr",
     "output_type": "stream",
     "text": [
      "\r",
      "t:  52%|██████████████████████████████████▌                               | 660/1260 [02:15<02:15,  4.44it/s, now=None]"
     ]
    },
    {
     "name": "stdout",
     "output_type": "stream",
     "text": [
      "657.8141933777148\n",
      "997.0375589444774\n",
      "-0.02293299530005314\n",
      "726.8650931063495\n",
      "1511.0697812727951\n",
      "-0.007673183469210699\n"
     ]
    },
    {
     "name": "stderr",
     "output_type": "stream",
     "text": [
      "t:  53%|██████████████████████████████████▋                               | 663/1260 [02:15<01:53,  5.28it/s, now=None]"
     ]
    },
    {
     "name": "stdout",
     "output_type": "stream",
     "text": [
      "682.2772176699581\n",
      "1559.3272187994078\n",
      "-0.013412935238081592\n",
      "712.5875791232123\n",
      "1498.2647515719634\n",
      "-0.016392967646766954\n"
     ]
    },
    {
     "name": "stderr",
     "output_type": "stream",
     "text": [
      "\r",
      "t:  53%|██████████████████████████████████▊                               | 664/1260 [02:15<01:53,  5.25it/s, now=None]"
     ]
    },
    {
     "name": "stdout",
     "output_type": "stream",
     "text": [
      "730.8311991732353\n",
      "1260.3007656253758\n",
      "-0.019485288711874563\n"
     ]
    },
    {
     "name": "stderr",
     "output_type": "stream",
     "text": [
      "\r",
      "t:  53%|██████████████████████████████████▊                               | 665/1260 [02:16<02:01,  4.92it/s, now=None]"
     ]
    },
    {
     "name": "stdout",
     "output_type": "stream",
     "text": [
      "790.8939504120257\n",
      "1212.6920115258513\n",
      "-0.018802956495396546\n",
      "876.934276730998\n",
      "1136.8461152959246\n",
      "-0.019621127497623823\n"
     ]
    },
    {
     "name": "stderr",
     "output_type": "stream",
     "text": [
      "t:  53%|██████████████████████████████████▉                               | 667/1260 [02:16<02:14,  4.41it/s, now=None]"
     ]
    },
    {
     "name": "stdout",
     "output_type": "stream",
     "text": [
      "915.8875823484867\n",
      "1006.9513836058896\n",
      "-0.021929466944131816\n",
      "845.5771061178833\n",
      "805.4723917616321\n",
      "-0.046701660082221944\n"
     ]
    },
    {
     "name": "stderr",
     "output_type": "stream",
     "text": [
      "t:  53%|███████████████████████████████████                               | 669/1260 [02:16<02:00,  4.89it/s, now=None]"
     ]
    },
    {
     "name": "stdout",
     "output_type": "stream",
     "text": [
      "942.3833421991311\n",
      "813.6750325388742\n",
      "-0.044639070226105644\n",
      "976.7259569290636\n",
      "1134.129169717837\n",
      "-0.028985993492716588\n"
     ]
    },
    {
     "name": "stderr",
     "output_type": "stream",
     "text": [
      "t:  53%|███████████████████████████████████▏                              | 671/1260 [02:17<01:53,  5.17it/s, now=None]"
     ]
    },
    {
     "name": "stdout",
     "output_type": "stream",
     "text": [
      "1044.4874450790496\n",
      "1013.4786635706396\n",
      "-0.03231838180157058\n",
      "1037.061284862061\n",
      "947.6859624641521\n",
      "-0.03898649174081371\n"
     ]
    },
    {
     "name": "stderr",
     "output_type": "stream",
     "text": [
      "t:  53%|███████████████████████████████████▎                              | 674/1260 [02:17<01:48,  5.40it/s, now=None]"
     ]
    },
    {
     "name": "stdout",
     "output_type": "stream",
     "text": [
      "1008.8618174840775\n",
      "998.7405517185937\n",
      "-0.03546534525967335\n",
      "1175.3985561196255\n",
      "1238.2322369494793\n",
      "-0.02708230153961082\n"
     ]
    },
    {
     "name": "stderr",
     "output_type": "stream",
     "text": [
      "t:  54%|███████████████████████████████████▍                              | 676/1260 [02:18<01:47,  5.41it/s, now=None]"
     ]
    },
    {
     "name": "stdout",
     "output_type": "stream",
     "text": [
      "1090.3380775291157\n",
      "1292.9909252113166\n",
      "-0.0326477702332827\n",
      "1119.9080806175145\n",
      "1230.7480057661244\n",
      "-0.0338700899235584\n"
     ]
    },
    {
     "name": "stderr",
     "output_type": "stream",
     "text": [
      "\r",
      "t:  54%|███████████████████████████████████▍                              | 677/1260 [02:18<01:49,  5.32it/s, now=None]"
     ]
    },
    {
     "name": "stdout",
     "output_type": "stream",
     "text": [
      "1189.3235446316673\n",
      "1071.8269538006614\n",
      "-0.03842504807643567\n"
     ]
    },
    {
     "name": "stderr",
     "output_type": "stream",
     "text": [
      "\r",
      "t:  54%|███████████████████████████████████▌                              | 678/1260 [02:18<02:08,  4.52it/s, now=None]"
     ]
    },
    {
     "name": "stdout",
     "output_type": "stream",
     "text": [
      "1302.9675591397115\n",
      "939.2558287279014\n",
      "-0.04268901560983453\n"
     ]
    },
    {
     "name": "stderr",
     "output_type": "stream",
     "text": [
      "\r",
      "t:  54%|███████████████████████████████████▌                              | 679/1260 [02:18<02:17,  4.22it/s, now=None]"
     ]
    },
    {
     "name": "stdout",
     "output_type": "stream",
     "text": [
      "1208.6991300141617\n",
      "854.0513205168197\n",
      "-0.054340185871013\n"
     ]
    },
    {
     "name": "stderr",
     "output_type": "stream",
     "text": [
      "\r",
      "t:  54%|███████████████████████████████████▌                              | 680/1260 [02:19<02:15,  4.28it/s, now=None]"
     ]
    },
    {
     "name": "stdout",
     "output_type": "stream",
     "text": [
      "1246.6019052218796\n",
      "590.3356274695572\n",
      "-0.09363104424041467\n",
      "1310.1368432679255\n",
      "710.9702554708533\n",
      "-0.07147279141486391\n"
     ]
    },
    {
     "name": "stderr",
     "output_type": "stream",
     "text": [
      "t:  54%|███████████████████████████████████▊                              | 683/1260 [02:19<01:53,  5.09it/s, now=None]"
     ]
    },
    {
     "name": "stdout",
     "output_type": "stream",
     "text": [
      "1075.3499364257298\n",
      "827.865787568302\n",
      "-0.06235330599771898\n",
      "1222.9922385910668\n",
      "819.9875112362096\n",
      "-0.06118273173070832\n"
     ]
    },
    {
     "name": "stderr",
     "output_type": "stream",
     "text": [
      "t:  54%|███████████████████████████████████▉                              | 685/1260 [02:20<01:47,  5.36it/s, now=None]"
     ]
    },
    {
     "name": "stdout",
     "output_type": "stream",
     "text": [
      "1290.000300792192\n",
      "939.9058675278922\n",
      "-0.05589947281034357\n",
      "1157.030943949363\n",
      "857.9224026511029\n",
      "-0.061350670498680905\n"
     ]
    },
    {
     "name": "stderr",
     "output_type": "stream",
     "text": [
      "\r",
      "t:  54%|███████████████████████████████████▉                              | 686/1260 [02:20<02:06,  4.54it/s, now=None]"
     ]
    },
    {
     "name": "stdout",
     "output_type": "stream",
     "text": [
      "1193.3661780106506\n",
      "1185.3108157103925\n",
      "-0.054330422325285295\n"
     ]
    },
    {
     "name": "stderr",
     "output_type": "stream",
     "text": [
      "t:  55%|████████████████████████████████████                              | 688/1260 [02:20<01:55,  4.97it/s, now=None]"
     ]
    },
    {
     "name": "stdout",
     "output_type": "stream",
     "text": [
      "1161.8362265819808\n",
      "1228.6455543671118\n",
      "-0.05420114955243438\n",
      "1204.2426277415875\n",
      "1134.8441814493349\n",
      "-0.055168911437176234\n"
     ]
    },
    {
     "name": "stderr",
     "output_type": "stream",
     "text": [
      "\r",
      "t:  55%|████████████████████████████████████                              | 689/1260 [02:20<02:01,  4.68it/s, now=None]"
     ]
    },
    {
     "name": "stdout",
     "output_type": "stream",
     "text": [
      "1224.107132395074\n",
      "1047.9782509727813\n",
      "-0.05705466299040287\n",
      "1280.6622715236556\n",
      "1099.706902799913\n",
      "-0.05949878369664355\n"
     ]
    },
    {
     "name": "stderr",
     "output_type": "stream",
     "text": [
      "t:  55%|████████████████████████████████████▏                             | 692/1260 [02:21<01:51,  5.11it/s, now=None]"
     ]
    },
    {
     "name": "stdout",
     "output_type": "stream",
     "text": [
      "993.1020241305885\n",
      "1013.0812173388696\n",
      "-0.06518836271001491\n",
      "826.2954075169192\n",
      "848.0545795414915\n",
      "-0.0803874538364756\n"
     ]
    },
    {
     "name": "stderr",
     "output_type": "stream",
     "text": [
      "t:  55%|████████████████████████████████████▎                             | 694/1260 [02:21<01:55,  4.90it/s, now=None]"
     ]
    },
    {
     "name": "stdout",
     "output_type": "stream",
     "text": [
      "813.5211955595762\n",
      "793.787817215324\n",
      "-0.08405179337603659\n",
      "744.4017793484686\n",
      "1119.374739985184\n",
      "-0.05677258523868407\n"
     ]
    },
    {
     "name": "stderr",
     "output_type": "stream",
     "text": [
      "t:  55%|████████████████████████████████████▍                             | 696/1260 [02:22<01:49,  5.15it/s, now=None]"
     ]
    },
    {
     "name": "stdout",
     "output_type": "stream",
     "text": [
      "733.2224305826369\n",
      "1354.8994769095386\n",
      "-0.05021882632118858\n",
      "708.4123700827014\n",
      "1408.083021339222\n",
      "-0.053011809601455594\n"
     ]
    },
    {
     "name": "stderr",
     "output_type": "stream",
     "text": [
      "\r",
      "t:  55%|████████████████████████████████████▌                             | 697/1260 [02:22<01:51,  5.07it/s, now=None]"
     ]
    },
    {
     "name": "stdout",
     "output_type": "stream",
     "text": [
      "713.1288265132765\n",
      "1356.4594251370374\n",
      "-0.052207423823319755\n",
      "698.0270805811596\n",
      "1490.1612827316997\n",
      "-0.04929309510252249\n"
     ]
    },
    {
     "name": "stderr",
     "output_type": "stream",
     "text": [
      "t:  56%|████████████████████████████████████▋                             | 700/1260 [02:23<01:46,  5.26it/s, now=None]"
     ]
    },
    {
     "name": "stdout",
     "output_type": "stream",
     "text": [
      "647.8816485411865\n",
      "1112.6410028802927\n",
      "-0.05609928553207513\n",
      "715.8153756155522\n",
      "996.4434790472736\n",
      "-0.05600832047222061\n"
     ]
    },
    {
     "name": "stderr",
     "output_type": "stream",
     "text": [
      "\r",
      "t:  56%|████████████████████████████████████▋                             | 701/1260 [02:23<01:50,  5.05it/s, now=None]"
     ]
    },
    {
     "name": "stdout",
     "output_type": "stream",
     "text": [
      "685.176845629311\n",
      "879.6535564732962\n",
      "-0.05651808804521131\n",
      "707.1869151373379\n",
      "844.3831685291584\n",
      "-0.054389374189989376\n"
     ]
    },
    {
     "name": "stderr",
     "output_type": "stream",
     "text": [
      "t:  56%|████████████████████████████████████▊                             | 703/1260 [02:23<01:57,  4.72it/s, now=None]"
     ]
    },
    {
     "name": "stdout",
     "output_type": "stream",
     "text": [
      "733.6527089426658\n",
      "811.5228772758641\n",
      "-0.05447732530967749\n",
      "733.1785028902749\n",
      "814.8716206789765\n",
      "-0.055468487579519124\n"
     ]
    },
    {
     "name": "stderr",
     "output_type": "stream",
     "text": [
      "t:  56%|████████████████████████████████████▉                             | 706/1260 [02:24<01:48,  5.09it/s, now=None]"
     ]
    },
    {
     "name": "stdout",
     "output_type": "stream",
     "text": [
      "785.174838506095\n",
      "648.5576694254397\n",
      "-0.07496738513669068\n",
      "779.0979566756051\n",
      "671.6296815245115\n",
      "-0.06309467055265462\n"
     ]
    },
    {
     "name": "stderr",
     "output_type": "stream",
     "text": [
      "\r",
      "t:  56%|█████████████████████████████████████                             | 707/1260 [02:24<01:47,  5.16it/s, now=None]"
     ]
    },
    {
     "name": "stdout",
     "output_type": "stream",
     "text": [
      "809.0556284072409\n",
      "828.684435241085\n",
      "-0.046613921876754505\n",
      "802.4165881395995\n",
      "626.9238484765428\n",
      "-0.05743275722127591\n"
     ]
    },
    {
     "name": "stderr",
     "output_type": "stream",
     "text": [
      "t:  56%|█████████████████████████████████████▏                            | 709/1260 [02:24<01:40,  5.47it/s, now=None]"
     ]
    },
    {
     "name": "stdout",
     "output_type": "stream",
     "text": [
      "872.6622506690056\n",
      "893.1803295981396\n",
      "-0.03383942965895441\n"
     ]
    },
    {
     "name": "stderr",
     "output_type": "stream",
     "text": [
      "\r",
      "t:  56%|█████████████████████████████████████▏                            | 710/1260 [02:25<01:54,  4.82it/s, now=None]"
     ]
    },
    {
     "name": "stdout",
     "output_type": "stream",
     "text": [
      "976.2927059557165\n",
      "901.5463986307626\n",
      "-0.0266184792597568\n",
      "866.0428256016265\n",
      "818.4831308700903\n",
      "-0.032121896375095035\n"
     ]
    },
    {
     "name": "stderr",
     "output_type": "stream",
     "text": [
      "t:  57%|█████████████████████████████████████▎                            | 713/1260 [02:25<01:43,  5.30it/s, now=None]"
     ]
    },
    {
     "name": "stdout",
     "output_type": "stream",
     "text": [
      "857.7981762609065\n",
      "837.2750798753503\n",
      "-0.03216891266499392\n",
      "911.0128449652832\n",
      "825.2889208347656\n",
      "-0.028402224673576584\n"
     ]
    },
    {
     "name": "stderr",
     "output_type": "stream",
     "text": [
      "\r",
      "t:  57%|█████████████████████████████████████▍                            | 714/1260 [02:25<01:46,  5.10it/s, now=None]"
     ]
    },
    {
     "name": "stdout",
     "output_type": "stream",
     "text": [
      "935.9616652974389\n",
      "833.861722391234\n",
      "-0.02527816117885873\n",
      "1007.8340490242309\n",
      "720.859734043787\n",
      "-0.02738235974118738\n"
     ]
    },
    {
     "name": "stderr",
     "output_type": "stream",
     "text": [
      "t:  57%|█████████████████████████████████████▌                            | 717/1260 [02:26<01:40,  5.39it/s, now=None]"
     ]
    },
    {
     "name": "stdout",
     "output_type": "stream",
     "text": [
      "1164.383107374956\n",
      "726.4674629247967\n",
      "-0.023611979644878864\n",
      "997.0556920430546\n",
      "556.2891568561703\n",
      "-0.0607999685273828\n"
     ]
    },
    {
     "name": "stderr",
     "output_type": "stream",
     "text": [
      "\r",
      "t:  57%|█████████████████████████████████████▌                            | 718/1260 [02:26<01:45,  5.14it/s, now=None]"
     ]
    },
    {
     "name": "stdout",
     "output_type": "stream",
     "text": [
      "1168.0183179113992\n",
      "523.752498742688\n",
      "-0.06209620805534363\n"
     ]
    },
    {
     "name": "stderr",
     "output_type": "stream",
     "text": [
      "\r",
      "t:  57%|█████████████████████████████████████▋                            | 719/1260 [02:26<01:49,  4.94it/s, now=None]"
     ]
    },
    {
     "name": "stdout",
     "output_type": "stream",
     "text": [
      "1003.6031283821115\n",
      "795.3933978466023\n",
      "-0.03598265963761268\n",
      "1160.326010013481\n",
      "758.0444754016091\n",
      "-0.03565447447943013\n"
     ]
    },
    {
     "name": "stderr",
     "output_type": "stream",
     "text": [
      "t:  57%|█████████████████████████████████████▊                            | 722/1260 [02:27<01:45,  5.11it/s, now=None]"
     ]
    },
    {
     "name": "stdout",
     "output_type": "stream",
     "text": [
      "1296.1365215706576\n",
      "740.3833616861589\n",
      "-0.03574951988147505\n",
      "1125.6037966840338\n",
      "740.8462405566728\n",
      "-0.04237540343157134\n"
     ]
    },
    {
     "name": "stderr",
     "output_type": "stream",
     "text": [
      "t:  57%|█████████████████████████████████████▉                            | 724/1260 [02:27<01:40,  5.32it/s, now=None]"
     ]
    },
    {
     "name": "stdout",
     "output_type": "stream",
     "text": [
      "1102.3364903851086\n",
      "978.1615981425177\n",
      "-0.03406713834169625\n",
      "1122.9384650197069\n",
      "1146.9251302726675\n",
      "-0.03826443652101284\n"
     ]
    },
    {
     "name": "stderr",
     "output_type": "stream",
     "text": [
      "t:  58%|██████████████████████████████████████                            | 726/1260 [02:28<01:38,  5.43it/s, now=None]"
     ]
    },
    {
     "name": "stdout",
     "output_type": "stream",
     "text": [
      "1080.3043578117777\n",
      "1055.8778585954387\n",
      "-0.043848793464830484\n",
      "992.7294820503956\n",
      "1108.9422694720454\n",
      "-0.051461736339308416\n"
     ]
    },
    {
     "name": "stderr",
     "output_type": "stream",
     "text": [
      "t:  58%|██████████████████████████████████████▏                           | 728/1260 [02:28<01:39,  5.32it/s, now=None]"
     ]
    },
    {
     "name": "stdout",
     "output_type": "stream",
     "text": [
      "868.9388455094403\n",
      "1023.4575627000012\n",
      "-0.06102084366402965\n",
      "887.0824657900795\n",
      "903.2398384390224\n",
      "-0.06538367181192382\n"
     ]
    },
    {
     "name": "stderr",
     "output_type": "stream",
     "text": [
      "\r",
      "t:  58%|██████████████████████████████████████▏                           | 729/1260 [02:28<01:40,  5.27it/s, now=None]"
     ]
    },
    {
     "name": "stdout",
     "output_type": "stream",
     "text": [
      "813.7829624925268\n",
      "713.1448525467437\n",
      "-0.09592510419109707\n"
     ]
    },
    {
     "name": "stderr",
     "output_type": "stream",
     "text": [
      "\r",
      "t:  58%|██████████████████████████████████████▏                           | 730/1260 [02:29<02:01,  4.37it/s, now=None]"
     ]
    },
    {
     "name": "stdout",
     "output_type": "stream",
     "text": [
      "754.5086305524918\n",
      "736.170463797072\n",
      "-0.09312012643994533\n"
     ]
    },
    {
     "name": "stderr",
     "output_type": "stream",
     "text": [
      "\r",
      "t:  58%|██████████████████████████████████████▎                           | 731/1260 [02:29<01:54,  4.61it/s, now=None]"
     ]
    },
    {
     "name": "stdout",
     "output_type": "stream",
     "text": [
      "829.1053923946661\n",
      "706.1501338958216\n",
      "-0.0996427261276171\n",
      "725.630142643356\n",
      "974.936098692626\n",
      "-0.08600491286047411\n"
     ]
    },
    {
     "name": "stderr",
     "output_type": "stream",
     "text": [
      "t:  58%|██████████████████████████████████████▍                           | 733/1260 [02:29<01:47,  4.92it/s, now=None]"
     ]
    },
    {
     "name": "stdout",
     "output_type": "stream",
     "text": [
      "751.5327151204931\n",
      "852.4593777239803\n",
      "-0.0872940535952969\n",
      "744.9748616636385\n",
      "1007.2143036135135\n",
      "-0.08592423774555702\n"
     ]
    },
    {
     "name": "stderr",
     "output_type": "stream",
     "text": [
      "t:  58%|██████████████████████████████████████▌                           | 736/1260 [02:30<01:33,  5.59it/s, now=None]"
     ]
    },
    {
     "name": "stdout",
     "output_type": "stream",
     "text": [
      "713.4939487944706\n",
      "962.6228308094273\n",
      "-0.08886451507830098\n",
      "725.5254588766319\n",
      "989.50391242139\n",
      "-0.09303188019928109\n"
     ]
    },
    {
     "name": "stderr",
     "output_type": "stream",
     "text": [
      "\r",
      "t:  58%|██████████████████████████████████████▌                           | 737/1260 [02:30<01:43,  5.06it/s, now=None]"
     ]
    },
    {
     "name": "stdout",
     "output_type": "stream",
     "text": [
      "704.2983644427974\n",
      "913.195174148108\n",
      "-0.10204309693386528\n"
     ]
    },
    {
     "name": "stderr",
     "output_type": "stream",
     "text": [
      "\r",
      "t:  59%|██████████████████████████████████████▋                           | 738/1260 [02:30<01:46,  4.91it/s, now=None]"
     ]
    },
    {
     "name": "stdout",
     "output_type": "stream",
     "text": [
      "719.159849584689\n",
      "872.4564571447224\n",
      "-0.10210463417150732\n",
      "786.8997277362017\n",
      "797.008685213043\n",
      "-0.10666333231696938\n"
     ]
    },
    {
     "name": "stderr",
     "output_type": "stream",
     "text": [
      "t:  59%|██████████████████████████████████████▊                           | 740/1260 [02:31<01:57,  4.43it/s, now=None]"
     ]
    },
    {
     "name": "stdout",
     "output_type": "stream",
     "text": [
      "780.9388652057784\n",
      "800.5158745758433\n",
      "-0.11369291023358005\n"
     ]
    },
    {
     "name": "stderr",
     "output_type": "stream",
     "text": [
      "\r",
      "t:  59%|██████████████████████████████████████▊                           | 741/1260 [02:31<01:57,  4.41it/s, now=None]"
     ]
    },
    {
     "name": "stdout",
     "output_type": "stream",
     "text": [
      "797.9140559318643\n",
      "564.1861634085792\n",
      "-0.14989797704655963\n"
     ]
    },
    {
     "name": "stderr",
     "output_type": "stream",
     "text": [
      "\r",
      "t:  59%|██████████████████████████████████████▊                           | 742/1260 [02:31<02:00,  4.30it/s, now=None]"
     ]
    },
    {
     "name": "stdout",
     "output_type": "stream",
     "text": [
      "845.173422206914\n",
      "608.9975801844419\n",
      "-0.1386867070941492\n"
     ]
    },
    {
     "name": "stderr",
     "output_type": "stream",
     "text": [
      "\r",
      "t:  59%|██████████████████████████████████████▉                           | 743/1260 [02:31<01:55,  4.48it/s, now=None]"
     ]
    },
    {
     "name": "stdout",
     "output_type": "stream",
     "text": [
      "832.8576560318212\n",
      "607.0312411377776\n",
      "-0.1368911097296942\n",
      "807.2599717233414\n",
      "709.8246235884849\n",
      "-0.126620312881438\n"
     ]
    },
    {
     "name": "stderr",
     "output_type": "stream",
     "text": [
      "t:  59%|███████████████████████████████████████                           | 745/1260 [02:32<01:52,  4.56it/s, now=None]"
     ]
    },
    {
     "name": "stdout",
     "output_type": "stream",
     "text": [
      "843.0216249569189\n",
      "764.4340776790502\n",
      "-0.12177876479022173\n",
      "880.3484425166653\n",
      "838.9473904551118\n",
      "-0.12226164142883389\n"
     ]
    },
    {
     "name": "stderr",
     "output_type": "stream",
     "text": [
      "t:  59%|███████████████████████████████████████▏                          | 747/1260 [02:32<01:51,  4.58it/s, now=None]"
     ]
    },
    {
     "name": "stdout",
     "output_type": "stream",
     "text": [
      "897.7571295502204\n",
      "886.5628288305554\n",
      "-0.12514538507486617\n",
      "923.5393404600126\n",
      "830.5000535156364\n",
      "-0.1353264900542433\n"
     ]
    },
    {
     "name": "stderr",
     "output_type": "stream",
     "text": [
      "t:  59%|███████████████████████████████████████▏                          | 749/1260 [02:33<01:42,  4.99it/s, now=None]"
     ]
    },
    {
     "name": "stdout",
     "output_type": "stream",
     "text": [
      "933.3557557473838\n",
      "798.5877157558249\n",
      "-0.1437096340440771\n"
     ]
    },
    {
     "name": "stderr",
     "output_type": "stream",
     "text": [
      "\r",
      "t:  60%|███████████████████████████████████████▎                          | 750/1260 [02:33<01:45,  4.83it/s, now=None]"
     ]
    },
    {
     "name": "stdout",
     "output_type": "stream",
     "text": [
      "963.8304123890831\n",
      "821.533189829721\n",
      "-0.14717801162800576\n"
     ]
    },
    {
     "name": "stderr",
     "output_type": "stream",
     "text": [
      "\r",
      "t:  60%|███████████████████████████████████████▎                          | 751/1260 [02:33<01:50,  4.60it/s, now=None]"
     ]
    },
    {
     "name": "stdout",
     "output_type": "stream",
     "text": [
      "1064.755940200411\n",
      "768.4849893641634\n",
      "-0.15307571324467448\n",
      "1226.7242087552938\n",
      "709.130916223627\n",
      "-0.15854141043656608\n"
     ]
    },
    {
     "name": "stderr",
     "output_type": "stream",
     "text": [
      "t:  60%|███████████████████████████████████████▍                          | 753/1260 [02:33<01:47,  4.70it/s, now=None]"
     ]
    },
    {
     "name": "stdout",
     "output_type": "stream",
     "text": [
      "1204.4685457893195\n",
      "629.9234553859767\n",
      "-0.18066523093843104\n"
     ]
    },
    {
     "name": "stderr",
     "output_type": "stream",
     "text": [
      "\r",
      "t:  60%|███████████████████████████████████████▍                          | 754/1260 [02:34<01:55,  4.38it/s, now=None]"
     ]
    },
    {
     "name": "stdout",
     "output_type": "stream",
     "text": [
      "1115.6033663548915\n",
      "510.8434270450937\n",
      "-0.20849387448452314\n"
     ]
    },
    {
     "name": "stderr",
     "output_type": "stream",
     "text": [
      "\r",
      "t:  60%|███████████████████████████████████████▌                          | 755/1260 [02:34<01:54,  4.41it/s, now=None]"
     ]
    },
    {
     "name": "stdout",
     "output_type": "stream",
     "text": [
      "1058.3146393389181\n",
      "826.1011680620661\n",
      "-0.17207376471031338\n",
      "1048.1341180007096\n",
      "704.4085460307907\n",
      "-0.1916331671679196\n"
     ]
    },
    {
     "name": "stderr",
     "output_type": "stream",
     "text": [
      "t:  60%|███████████████████████████████████████▋                          | 758/1260 [02:34<01:39,  5.03it/s, now=None]"
     ]
    },
    {
     "name": "stdout",
     "output_type": "stream",
     "text": [
      "1124.1944961830986\n",
      "884.2329841140311\n",
      "-0.18801021365594608\n",
      "1252.1403351654844\n",
      "709.9656973356081\n",
      "-0.20440793915084263\n"
     ]
    },
    {
     "name": "stderr",
     "output_type": "stream",
     "text": [
      "t:  60%|███████████████████████████████████████▊                          | 760/1260 [02:35<01:33,  5.37it/s, now=None]"
     ]
    },
    {
     "name": "stdout",
     "output_type": "stream",
     "text": [
      "1187.6675535189825\n",
      "801.2368165670006\n",
      "-0.20618020056562272\n",
      "1120.091557836283\n",
      "1035.341861047804\n",
      "-0.2116230072241436\n"
     ]
    },
    {
     "name": "stderr",
     "output_type": "stream",
     "text": [
      "\r",
      "t:  60%|███████████████████████████████████████▊                          | 761/1260 [02:35<01:36,  5.17it/s, now=None]"
     ]
    },
    {
     "name": "stdout",
     "output_type": "stream",
     "text": [
      "1069.8209962317658\n",
      "1089.0385220073067\n",
      "-0.22031257890978928\n"
     ]
    },
    {
     "name": "stderr",
     "output_type": "stream",
     "text": [
      "\r",
      "t:  60%|███████████████████████████████████████▉                          | 762/1260 [02:35<01:38,  5.03it/s, now=None]"
     ]
    },
    {
     "name": "stdout",
     "output_type": "stream",
     "text": [
      "1048.3281714765897\n",
      "1037.952827514374\n",
      "-0.22474588092251738\n",
      "1176.272755471702\n",
      "1111.6200412193912\n",
      "-0.2291174391608637\n"
     ]
    },
    {
     "name": "stderr",
     "output_type": "stream",
     "text": [
      "t:  61%|████████████████████████████████████████                          | 764/1260 [02:36<01:33,  5.29it/s, now=None]"
     ]
    },
    {
     "name": "stdout",
     "output_type": "stream",
     "text": [
      "1189.8312934584715\n",
      "1003.7003510129219\n",
      "-0.2321152668890974\n"
     ]
    },
    {
     "name": "stderr",
     "output_type": "stream",
     "text": [
      "t:  61%|████████████████████████████████████████                          | 766/1260 [02:36<01:35,  5.17it/s, now=None]"
     ]
    },
    {
     "name": "stdout",
     "output_type": "stream",
     "text": [
      "1098.890553254368\n",
      "769.0100014244682\n",
      "-0.263472997004765\n",
      "1168.4134831991248\n",
      "813.876609643667\n",
      "-0.25859867944238757\n"
     ]
    },
    {
     "name": "stderr",
     "output_type": "stream",
     "text": [
      "t:  61%|████████████████████████████████████████▏                         | 768/1260 [02:36<01:31,  5.38it/s, now=None]"
     ]
    },
    {
     "name": "stdout",
     "output_type": "stream",
     "text": [
      "805.2997705498442\n",
      "983.3555862124115\n",
      "-0.2531382134021505\n",
      "830.376241998188\n",
      "1234.6550795411283\n",
      "-0.24648668130720094\n"
     ]
    },
    {
     "name": "stderr",
     "output_type": "stream",
     "text": [
      "\r",
      "t:  61%|████████████████████████████████████████▎                         | 769/1260 [02:37<01:37,  5.06it/s, now=None]"
     ]
    },
    {
     "name": "stdout",
     "output_type": "stream",
     "text": [
      "769.8952814523724\n",
      "1259.8101373819404\n",
      "-0.25091256958131913\n",
      "682.1727964395498\n",
      "972.2593767884624\n",
      "-0.2672593936022317\n"
     ]
    },
    {
     "name": "stderr",
     "output_type": "stream",
     "text": [
      "t:  61%|████████████████████████████████████████▍                         | 771/1260 [02:37<01:33,  5.24it/s, now=None]"
     ]
    },
    {
     "name": "stdout",
     "output_type": "stream",
     "text": [
      "670.9777067894505\n",
      "1482.8173264127531\n",
      "-0.26193734992615336\n",
      "682.641087134313\n",
      "1631.329768374421\n",
      "-0.2661363657279249\n"
     ]
    },
    {
     "name": "stderr",
     "output_type": "stream",
     "text": [
      "t:  61%|████████████████████████████████████████▍                         | 773/1260 [02:37<01:36,  5.06it/s, now=None]"
     ]
    },
    {
     "name": "stdout",
     "output_type": "stream",
     "text": [
      "724.2607505329088\n",
      "1613.6047772208378\n",
      "-0.27142100273251757\n",
      "766.0241266102917\n",
      "1400.5444589534266\n",
      "-0.27004277523276055\n"
     ]
    },
    {
     "name": "stderr",
     "output_type": "stream",
     "text": [
      "t:  62%|████████████████████████████████████████▌                         | 775/1260 [02:38<01:44,  4.66it/s, now=None]"
     ]
    },
    {
     "name": "stdout",
     "output_type": "stream",
     "text": [
      "816.6016161047176\n",
      "1234.61338449708\n",
      "-0.27406589019637934\n",
      "811.9205472618526\n",
      "1020.9071154041231\n",
      "-0.2807391043468877\n"
     ]
    },
    {
     "name": "stderr",
     "output_type": "stream",
     "text": [
      "t:  62%|████████████████████████████████████████▋                         | 777/1260 [02:38<01:38,  4.90it/s, now=None]"
     ]
    },
    {
     "name": "stdout",
     "output_type": "stream",
     "text": [
      "880.1210202351721\n",
      "756.7231761691924\n",
      "-0.30508487894124287\n",
      "925.5536638276616\n",
      "685.8433553868196\n",
      "-0.30875757939553783\n"
     ]
    },
    {
     "name": "stderr",
     "output_type": "stream",
     "text": [
      "t:  62%|████████████████████████████████████████▊                         | 779/1260 [02:39<01:44,  4.61it/s, now=None]"
     ]
    },
    {
     "name": "stdout",
     "output_type": "stream",
     "text": [
      "859.0669061155085\n",
      "802.8449729768039\n",
      "-0.2938504169393725\n"
     ]
    },
    {
     "name": "stderr",
     "output_type": "stream",
     "text": [
      "\r",
      "t:  62%|████████████████████████████████████████▊                         | 780/1260 [02:39<01:50,  4.34it/s, now=None]"
     ]
    },
    {
     "name": "stdout",
     "output_type": "stream",
     "text": [
      "999.2470578119395\n",
      "761.9743386296509\n",
      "-0.2910957803723792\n",
      "994.706793596042\n",
      "876.959096916779\n",
      "-0.28736949433654374"
     ]
    },
    {
     "name": "stderr",
     "output_type": "stream",
     "text": [
      "\r",
      "t:  62%|████████████████████████████████████████▉                         | 781/1260 [02:39<01:43,  4.64it/s, now=None]"
     ]
    },
    {
     "name": "stdout",
     "output_type": "stream",
     "text": [
      "\n",
      "1150.5403259748787\n",
      "730.2190333175799\n",
      "-0.29520216601088034\n"
     ]
    },
    {
     "name": "stderr",
     "output_type": "stream",
     "text": [
      "t:  62%|█████████████████████████████████████████                         | 784/1260 [02:40<01:35,  4.99it/s, now=None]"
     ]
    },
    {
     "name": "stdout",
     "output_type": "stream",
     "text": [
      "1285.624690759509\n",
      "781.3325210367996\n",
      "-0.2891456115983848\n",
      "1155.1548060092218\n",
      "1289.6559238885716\n",
      "-0.27502604796029695\n"
     ]
    },
    {
     "name": "stderr",
     "output_type": "stream",
     "text": [
      "t:  62%|█████████████████████████████████████████▏                        | 786/1260 [02:40<01:35,  4.95it/s, now=None]"
     ]
    },
    {
     "name": "stdout",
     "output_type": "stream",
     "text": [
      "1342.8190899953083\n",
      "1091.1259798946173\n",
      "-0.27780525440064563\n",
      "1210.7082337288512\n",
      "1072.6173936797486\n",
      "-0.2812679233672862\n"
     ]
    },
    {
     "name": "stderr",
     "output_type": "stream",
     "text": [
      "\r",
      "t:  62%|█████████████████████████████████████████▏                        | 787/1260 [02:40<01:39,  4.75it/s, now=None]"
     ]
    },
    {
     "name": "stdout",
     "output_type": "stream",
     "text": [
      "1218.76444645948\n",
      "946.0430649087145\n",
      "-0.2871672330147761\n",
      "1185.227168261926\n",
      "858.2595160222661\n",
      "-0.2918156250761387\n"
     ]
    },
    {
     "name": "stderr",
     "output_type": "stream",
     "text": [
      "t:  63%|█████████████████████████████████████████▎                        | 789/1260 [02:41<01:31,  5.13it/s, now=None]"
     ]
    },
    {
     "name": "stdout",
     "output_type": "stream",
     "text": [
      "1156.243780653661\n",
      "696.3811886912085\n",
      "-0.3097488653725244\n",
      "1047.22023132052\n",
      "635.4580643065648\n",
      "-0.3131051507384354\n"
     ]
    },
    {
     "name": "stderr",
     "output_type": "stream",
     "text": [
      "t:  63%|█████████████████████████████████████████▍                        | 792/1260 [02:41<01:27,  5.38it/s, now=None]"
     ]
    },
    {
     "name": "stdout",
     "output_type": "stream",
     "text": [
      "1078.0044976157012\n",
      "999.7038051857829\n",
      "-0.27489293423886774\n",
      "1089.2113887728094\n",
      "879.7928418325002\n",
      "-0.28819634930305393\n"
     ]
    },
    {
     "name": "stderr",
     "output_type": "stream",
     "text": [
      "\r",
      "t:  63%|█████████████████████████████████████████▌                        | 793/1260 [02:42<01:39,  4.67it/s, now=None]"
     ]
    },
    {
     "name": "stdout",
     "output_type": "stream",
     "text": [
      "1145.7509251797949\n",
      "791.021961961417\n",
      "-0.28917079778309135\n"
     ]
    },
    {
     "name": "stderr",
     "output_type": "stream",
     "text": [
      "\r",
      "t:  63%|█████████████████████████████████████████▌                        | 794/1260 [02:42<01:44,  4.47it/s, now=None]"
     ]
    },
    {
     "name": "stdout",
     "output_type": "stream",
     "text": [
      "1158.568273653622\n",
      "1403.4143212103486\n",
      "-0.26490778205429877\n",
      "1328.3425625195187\n",
      "1650.8191343940866\n",
      "-0.26085772924158906\n"
     ]
    },
    {
     "name": "stderr",
     "output_type": "stream",
     "text": [
      "t:  63%|█████████████████████████████████████████▋                        | 796/1260 [02:42<01:39,  4.66it/s, now=None]"
     ]
    },
    {
     "name": "stdout",
     "output_type": "stream",
     "text": [
      "1509.3572859452815\n",
      "1349.9866425962862\n",
      "-0.26023004694523105\n"
     ]
    },
    {
     "name": "stderr",
     "output_type": "stream",
     "text": [
      "\r",
      "t:  63%|█████████████████████████████████████████▋                        | 797/1260 [02:42<01:43,  4.49it/s, now=None]"
     ]
    },
    {
     "name": "stdout",
     "output_type": "stream",
     "text": [
      "1552.883142661397\n",
      "1215.4825390235558\n",
      "-0.2650561719547958\n",
      "1936.4407347607178\n",
      "1115.7722599544918\n",
      "-0.2628505037559118\n"
     ]
    },
    {
     "name": "stderr",
     "output_type": "stream",
     "text": [
      "t:  63%|█████████████████████████████████████████▊                        | 799/1260 [02:43<01:31,  5.06it/s, now=None]"
     ]
    },
    {
     "name": "stdout",
     "output_type": "stream",
     "text": [
      "1725.888299364302\n",
      "1081.1978933319658\n",
      "-0.2661142699358688\n"
     ]
    },
    {
     "name": "stderr",
     "output_type": "stream",
     "text": [
      "\r",
      "t:  63%|█████████████████████████████████████████▉                        | 800/1260 [02:43<01:33,  4.93it/s, now=None]"
     ]
    },
    {
     "name": "stdout",
     "output_type": "stream",
     "text": [
      "1914.0112932814848\n",
      "1074.7473957074578\n",
      "-0.268733974366483\n"
     ]
    },
    {
     "name": "stderr",
     "output_type": "stream",
     "text": [
      "\r",
      "t:  64%|█████████████████████████████████████████▉                        | 801/1260 [02:43<01:40,  4.59it/s, now=None]"
     ]
    },
    {
     "name": "stdout",
     "output_type": "stream",
     "text": [
      "2170.820615543963\n",
      "1006.1163069292331\n",
      "-0.2769736572125615\n",
      "2010.82356148714\n",
      "886.7384882338213\n",
      "-0.2853449437003081\n"
     ]
    },
    {
     "name": "stderr",
     "output_type": "stream",
     "text": [
      "t:  64%|██████████████████████████████████████████                        | 803/1260 [02:44<01:44,  4.38it/s, now=None]"
     ]
    },
    {
     "name": "stdout",
     "output_type": "stream",
     "text": [
      "2073.9075430671965\n",
      "862.3009898611796\n",
      "-0.2825630642746179\n",
      "1898.916236318564\n",
      "2831.9856797787406\n",
      "-0.24720773450428918\n"
     ]
    },
    {
     "name": "stderr",
     "output_type": "stream",
     "text": [
      "t:  64%|██████████████████████████████████████████▏                       | 806/1260 [02:44<01:29,  5.08it/s, now=None]"
     ]
    },
    {
     "name": "stdout",
     "output_type": "stream",
     "text": [
      "1671.211720222322\n",
      "1499.7214412711871\n",
      "-0.26183576473193837\n",
      "1402.82512978847\n",
      "35271.574808238765\n",
      "-0.24383118842899654\n"
     ]
    },
    {
     "name": "stderr",
     "output_type": "stream",
     "text": [
      "\r",
      "t:  64%|██████████████████████████████████████████▎                       | 807/1260 [02:44<01:25,  5.32it/s, now=None]"
     ]
    },
    {
     "name": "stdout",
     "output_type": "stream",
     "text": [
      "1238.279041379973\n",
      "6600.088086839827\n",
      "-0.25175146025048317\n"
     ]
    },
    {
     "name": "stderr",
     "output_type": "stream",
     "text": [
      "\r",
      "t:  64%|██████████████████████████████████████████▎                       | 808/1260 [02:45<01:29,  5.07it/s, now=None]"
     ]
    },
    {
     "name": "stdout",
     "output_type": "stream",
     "text": [
      "1106.363866252045\n",
      "3100.550447442415\n",
      "-0.2606492363223742\n"
     ]
    },
    {
     "name": "stderr",
     "output_type": "stream",
     "text": [
      "\r",
      "t:  64%|██████████████████████████████████████████▍                       | 809/1260 [02:45<01:34,  4.78it/s, now=None]"
     ]
    },
    {
     "name": "stdout",
     "output_type": "stream",
     "text": [
      "1064.8771351586645\n",
      "1933.508890788871\n",
      "-0.26748213299605944\n",
      "1013.4665423582751\n",
      "2003.1093099941506\n",
      "-0.26914316634043056\n"
     ]
    },
    {
     "name": "stderr",
     "output_type": "stream",
     "text": [
      "t:  64%|██████████████████████████████████████████▌                       | 812/1260 [02:45<01:24,  5.33it/s, now=None]"
     ]
    },
    {
     "name": "stdout",
     "output_type": "stream",
     "text": [
      "936.0598956242793\n",
      "1742.1589150097002\n",
      "-0.27151420527555054\n",
      "906.6395670200395\n",
      "1253.8368979723389\n",
      "-0.28806948705753416\n"
     ]
    },
    {
     "name": "stderr",
     "output_type": "stream",
     "text": [
      "\r",
      "t:  65%|██████████████████████████████████████████▌                       | 813/1260 [02:46<01:25,  5.21it/s, now=None]"
     ]
    },
    {
     "name": "stdout",
     "output_type": "stream",
     "text": [
      "932.1349787068973\n",
      "639.9526511980755\n",
      "-0.3418653292580644\n"
     ]
    },
    {
     "name": "stderr",
     "output_type": "stream",
     "text": [
      "t:  65%|██████████████████████████████████████████▋                       | 815/1260 [02:46<01:26,  5.16it/s, now=None]"
     ]
    },
    {
     "name": "stdout",
     "output_type": "stream",
     "text": [
      "807.767091391449\n",
      "670.1099063395317\n",
      "-0.3258424284841875\n",
      "783.3756179137955\n",
      "708.0522873585976\n",
      "-0.3060448156286718\n"
     ]
    },
    {
     "name": "stderr",
     "output_type": "stream",
     "text": [
      "\r",
      "t:  65%|██████████████████████████████████████████▋                       | 816/1260 [02:46<01:24,  5.23it/s, now=None]"
     ]
    },
    {
     "name": "stdout",
     "output_type": "stream",
     "text": [
      "758.6471650683761\n",
      "985.8961472981684\n",
      "-0.26786187133445133\n",
      "764.8792847560844\n",
      "631.2294999525427\n",
      "-0.2729164666377526\n"
     ]
    },
    {
     "name": "stderr",
     "output_type": "stream",
     "text": [
      "t:  65%|██████████████████████████████████████████▊                       | 818/1260 [02:47<01:25,  5.17it/s, now=None]"
     ]
    },
    {
     "name": "stdout",
     "output_type": "stream",
     "text": [
      "792.6195622572538\n",
      "771.5821691429987\n",
      "-0.23918229111623404\n",
      "788.1701060858873\n",
      "815.6081502804824\n",
      "-0.22818547244870274\n"
     ]
    },
    {
     "name": "stderr",
     "output_type": "stream",
     "text": [
      "t:  65%|███████████████████████████████████████████                       | 821/1260 [02:47<01:21,  5.38it/s, now=None]"
     ]
    },
    {
     "name": "stdout",
     "output_type": "stream",
     "text": [
      "793.3615125765159\n",
      "829.5038148356014\n",
      "-0.22141461823435069\n",
      "857.91254014845\n",
      "776.0339539156603\n",
      "-0.2071508825747938\n"
     ]
    },
    {
     "name": "stderr",
     "output_type": "stream",
     "text": [
      "\r",
      "t:  65%|███████████████████████████████████████████                       | 822/1260 [02:47<01:30,  4.84it/s, now=None]"
     ]
    },
    {
     "name": "stdout",
     "output_type": "stream",
     "text": [
      "1040.1048853853915\n",
      "747.5766691616994\n",
      "-0.19426447568782398\n",
      "1168.569123931054\n",
      "808.2873158386958\n",
      "-0.18037748835817802\n"
     ]
    },
    {
     "name": "stderr",
     "output_type": "stream",
     "text": [
      "t:  65%|███████████████████████████████████████████▏                      | 824/1260 [02:48<01:24,  5.18it/s, now=None]"
     ]
    },
    {
     "name": "stdout",
     "output_type": "stream",
     "text": [
      "1299.8099206687148\n",
      "785.0348669192532\n",
      "-0.16502394776537793\n"
     ]
    },
    {
     "name": "stderr",
     "output_type": "stream",
     "text": [
      "\r",
      "t:  65%|███████████████████████████████████████████▏                      | 825/1260 [02:48<01:25,  5.10it/s, now=None]"
     ]
    },
    {
     "name": "stdout",
     "output_type": "stream",
     "text": [
      "1418.2210250535036\n",
      "581.5607863492537\n",
      "-0.18035701040353094\n"
     ]
    },
    {
     "name": "stderr",
     "output_type": "stream",
     "text": [
      "\r",
      "t:  66%|███████████████████████████████████████████▎                      | 826/1260 [02:48<01:30,  4.82it/s, now=None]"
     ]
    },
    {
     "name": "stdout",
     "output_type": "stream",
     "text": [
      "1526.004449192109\n",
      "673.7006721792651\n",
      "-0.1466562513618698\n",
      "1413.0822820888754\n",
      "680.0178371609805\n",
      "-0.13588587319078155\n"
     ]
    },
    {
     "name": "stderr",
     "output_type": "stream",
     "text": [
      "t:  66%|███████████████████████████████████████████▎                      | 828/1260 [02:49<01:27,  4.95it/s, now=None]"
     ]
    },
    {
     "name": "stdout",
     "output_type": "stream",
     "text": [
      "1347.2875717063632\n",
      "720.6390273333925\n",
      "-0.12431106042581253\n",
      "1296.0905703526835\n",
      "642.54509393097\n",
      "-0.12349477415312521\n"
     ]
    },
    {
     "name": "stderr",
     "output_type": "stream",
     "text": [
      "t:  66%|███████████████████████████████████████████▍                      | 830/1260 [02:49<01:31,  4.72it/s, now=None]"
     ]
    },
    {
     "name": "stdout",
     "output_type": "stream",
     "text": [
      "1427.1717727458515\n",
      "677.4092924256354\n",
      "-0.11311401348465829\n"
     ]
    },
    {
     "name": "stderr",
     "output_type": "stream",
     "text": [
      "\r",
      "t:  66%|███████████████████████████████████████████▌                      | 831/1260 [02:49<01:31,  4.68it/s, now=None]"
     ]
    },
    {
     "name": "stdout",
     "output_type": "stream",
     "text": [
      "1428.0541617684937\n",
      "843.3682550939395\n",
      "-0.0983466589080665\n",
      "1276.9334955813656\n",
      "845.3046450062278\n",
      "-0.0984852772859252\n"
     ]
    },
    {
     "name": "stderr",
     "output_type": "stream",
     "text": [
      "t:  66%|███████████████████████████████████████████▋                      | 833/1260 [02:50<01:23,  5.08it/s, now=None]"
     ]
    },
    {
     "name": "stdout",
     "output_type": "stream",
     "text": [
      "1338.8113451429272\n",
      "818.9500723711749\n",
      "-0.09443970514616526\n"
     ]
    },
    {
     "name": "stderr",
     "output_type": "stream",
     "text": [
      "\r",
      "t:  66%|███████████████████████████████████████████▋                      | 834/1260 [02:50<01:28,  4.82it/s, now=None]"
     ]
    },
    {
     "name": "stdout",
     "output_type": "stream",
     "text": [
      "1504.2413636417766\n",
      "804.6560112878497\n",
      "-0.08462326588208732\n",
      "1410.0038516224188\n",
      "828.4762090547393\n",
      "-0.08113311919672499\n"
     ]
    },
    {
     "name": "stderr",
     "output_type": "stream",
     "text": [
      "t:  66%|███████████████████████████████████████████▊                      | 836/1260 [02:50<01:24,  5.00it/s, now=None]"
     ]
    },
    {
     "name": "stdout",
     "output_type": "stream",
     "text": [
      "1870.9922230758523\n",
      "818.0792843945864\n",
      "-0.06916571253012437\n"
     ]
    },
    {
     "name": "stderr",
     "output_type": "stream",
     "text": [
      "\r",
      "t:  66%|███████████████████████████████████████████▊                      | 837/1260 [02:51<01:30,  4.68it/s, now=None]"
     ]
    },
    {
     "name": "stdout",
     "output_type": "stream",
     "text": [
      "1591.8932327681287\n",
      "710.1511832541145\n",
      "-0.08216135893130802\n"
     ]
    },
    {
     "name": "stderr",
     "output_type": "stream",
     "text": [
      "t:  67%|███████████████████████████████████████████▉                      | 839/1260 [02:51<01:21,  5.16it/s, now=None]"
     ]
    },
    {
     "name": "stdout",
     "output_type": "stream",
     "text": [
      "1548.0136761826345\n",
      "653.8228942533838\n",
      "-0.08224729588188133\n",
      "1129.8590365294683\n",
      "618.0596717162374\n",
      "-0.07485018132332683\n"
     ]
    },
    {
     "name": "stderr",
     "output_type": "stream",
     "text": [
      "\r",
      "t:  67%|████████████████████████████████████████████                      | 840/1260 [02:51<01:34,  4.46it/s, now=None]"
     ]
    },
    {
     "name": "stdout",
     "output_type": "stream",
     "text": [
      "965.1689181317311\n",
      "748.6577834593496\n",
      "-0.05524932985801294\n"
     ]
    },
    {
     "name": "stderr",
     "output_type": "stream",
     "text": [
      "\r",
      "t:  67%|████████████████████████████████████████████                      | 841/1260 [02:51<01:28,  4.73it/s, now=None]"
     ]
    },
    {
     "name": "stdout",
     "output_type": "stream",
     "text": [
      "828.3544341630403\n",
      "783.9422190099649\n",
      "-0.04157347690444942\n"
     ]
    },
    {
     "name": "stderr",
     "output_type": "stream",
     "text": [
      "\r",
      "t:  67%|████████████████████████████████████████████                      | 842/1260 [02:52<01:39,  4.21it/s, now=None]"
     ]
    },
    {
     "name": "stdout",
     "output_type": "stream",
     "text": [
      "757.9427789295436\n",
      "696.62951676766\n",
      "-0.04083477249305801\n",
      "739.6049183511724\n",
      "790.6892254773603\n",
      "-0.03066317858616016\n"
     ]
    },
    {
     "name": "stderr",
     "output_type": "stream",
     "text": [
      "t:  67%|████████████████████████████████████████████▏                     | 844/1260 [02:52<01:26,  4.82it/s, now=None]"
     ]
    },
    {
     "name": "stdout",
     "output_type": "stream",
     "text": [
      "726.5071240278144\n",
      "863.7856295004541\n",
      "-0.018150974955618886\n",
      "700.439382296546\n",
      "700.0880677033786\n",
      "-0.013337354742873703\n"
     ]
    },
    {
     "name": "stderr",
     "output_type": "stream",
     "text": [
      "t:  67%|████████████████████████████████████████████▎                     | 846/1260 [02:52<01:26,  4.80it/s, now=None]"
     ]
    },
    {
     "name": "stdout",
     "output_type": "stream",
     "text": [
      "668.2605841879557\n",
      "1059.9010410037656\n",
      "0.0018068177806936938\n"
     ]
    },
    {
     "name": "stderr",
     "output_type": "stream",
     "text": [
      "\r",
      "t:  67%|████████████████████████████████████████████▎                     | 847/1260 [02:53<01:26,  4.76it/s, now=None]"
     ]
    },
    {
     "name": "stdout",
     "output_type": "stream",
     "text": [
      "707.9755503126403\n",
      "971.8701083848182\n",
      "0.01395593256175133\n",
      "814.2035056091174\n",
      "995.2303633561457\n",
      "0.025534348265345185\n"
     ]
    },
    {
     "name": "stderr",
     "output_type": "stream",
     "text": [
      "t:  67%|████████████████████████████████████████████▍                     | 849/1260 [02:53<01:20,  5.12it/s, now=None]"
     ]
    },
    {
     "name": "stdout",
     "output_type": "stream",
     "text": [
      "897.2890644015422\n",
      "1082.128534353752\n",
      "0.03962186366492753\n"
     ]
    },
    {
     "name": "stderr",
     "output_type": "stream",
     "text": [
      "\r",
      "t:  67%|████████████████████████████████████████████▌                     | 850/1260 [02:53<01:33,  4.38it/s, now=None]"
     ]
    },
    {
     "name": "stdout",
     "output_type": "stream",
     "text": [
      "842.507081910497\n",
      "944.0830535338752\n",
      "0.0339098408567725\n"
     ]
    },
    {
     "name": "stderr",
     "output_type": "stream",
     "text": [
      "\r",
      "t:  68%|████████████████████████████████████████████▌                     | 851/1260 [02:54<01:37,  4.19it/s, now=None]"
     ]
    },
    {
     "name": "stdout",
     "output_type": "stream",
     "text": [
      "901.3263443410175\n",
      "973.5910858072353\n",
      "0.04073526732076784\n"
     ]
    },
    {
     "name": "stderr",
     "output_type": "stream",
     "text": [
      "\r",
      "t:  68%|████████████████████████████████████████████▋                     | 852/1260 [02:54<01:37,  4.20it/s, now=None]"
     ]
    },
    {
     "name": "stdout",
     "output_type": "stream",
     "text": [
      "1000.5237849523184\n",
      "896.4309274283173\n",
      "0.04187980198951185\n",
      "1268.5394735938164\n",
      "1114.9073926219667\n",
      "0.05586666538561087\n"
     ]
    },
    {
     "name": "stderr",
     "output_type": "stream",
     "text": [
      "t:  68%|████████████████████████████████████████████▋                     | 854/1260 [02:54<01:27,  4.62it/s, now=None]"
     ]
    },
    {
     "name": "stdout",
     "output_type": "stream",
     "text": [
      "1745.4429021880014\n",
      "1153.9225578580358\n",
      "0.0626659731247661\n",
      "1591.851230702301\n",
      "1145.7241605672975\n",
      "0.056167449499772634\n"
     ]
    },
    {
     "name": "stderr",
     "output_type": "stream",
     "text": [
      "t:  68%|████████████████████████████████████████████▊                     | 856/1260 [02:55<01:33,  4.33it/s, now=None]"
     ]
    },
    {
     "name": "stdout",
     "output_type": "stream",
     "text": [
      "1727.5442529727013\n",
      "977.8467719399846\n",
      "0.055706668118664426\n"
     ]
    },
    {
     "name": "stderr",
     "output_type": "stream",
     "text": [
      "\r",
      "t:  68%|████████████████████████████████████████████▉                     | 857/1260 [02:55<01:35,  4.24it/s, now=None]"
     ]
    },
    {
     "name": "stdout",
     "output_type": "stream",
     "text": [
      "1545.3221672727532\n",
      "1284.8261846370685\n",
      "0.05300062888349492\n"
     ]
    },
    {
     "name": "stderr",
     "output_type": "stream",
     "text": [
      "\r",
      "t:  68%|████████████████████████████████████████████▉                     | 858/1260 [02:55<01:34,  4.26it/s, now=None]"
     ]
    },
    {
     "name": "stdout",
     "output_type": "stream",
     "text": [
      "1523.5831929776211\n",
      "1534.9956970137139\n",
      "0.051032335932231394\n",
      "2102.525564632527\n",
      "1076.0071291933848\n",
      "0.05080196781194247\n"
     ]
    },
    {
     "name": "stderr",
     "output_type": "stream",
     "text": [
      "t:  68%|█████████████████████████████████████████████                     | 860/1260 [02:56<01:21,  4.91it/s, now=None]"
     ]
    },
    {
     "name": "stdout",
     "output_type": "stream",
     "text": [
      "1739.5573143921456\n",
      "985.0553941715248\n",
      "0.03972653022580713\n"
     ]
    },
    {
     "name": "stderr",
     "output_type": "stream",
     "text": [
      "\r",
      "t:  68%|█████████████████████████████████████████████                     | 861/1260 [02:56<01:23,  4.76it/s, now=None]"
     ]
    },
    {
     "name": "stdout",
     "output_type": "stream",
     "text": [
      "1487.447611484448\n",
      "674.4077311988273\n",
      "0.015978590613063278\n",
      "1451.7952826464573\n",
      "648.8932448216418\n",
      "0.01824664762475527\n"
     ]
    },
    {
     "name": "stderr",
     "output_type": "stream",
     "text": [
      "t:  69%|█████████████████████████████████████████████▎                    | 864/1260 [02:56<01:14,  5.34it/s, now=None]"
     ]
    },
    {
     "name": "stdout",
     "output_type": "stream",
     "text": [
      "1296.4828272013942\n",
      "641.9564007033056\n",
      "0.018423175786089003\n",
      "1229.846945210355\n",
      "572.658780085586\n",
      "0.015805100231316163\n"
     ]
    },
    {
     "name": "stderr",
     "output_type": "stream",
     "text": [
      "\r",
      "t:  69%|█████████████████████████████████████████████▎                    | 865/1260 [02:56<01:12,  5.45it/s, now=None]"
     ]
    },
    {
     "name": "stdout",
     "output_type": "stream",
     "text": [
      "1086.6743875169252\n",
      "699.860223915509\n",
      "0.02215429526459447\n"
     ]
    },
    {
     "name": "stderr",
     "output_type": "stream",
     "text": [
      "\r",
      "t:  69%|█████████████████████████████████████████████▎                    | 866/1260 [02:57<01:15,  5.18it/s, now=None]"
     ]
    },
    {
     "name": "stdout",
     "output_type": "stream",
     "text": [
      "1157.5033549490847\n",
      "797.4561219067118\n",
      "0.031302535205667774\n",
      "1290.4388924325663\n",
      "659.6259003541304\n",
      "0.03082601996125082\n"
     ]
    },
    {
     "name": "stderr",
     "output_type": "stream",
     "text": [
      "t:  69%|█████████████████████████████████████████████▍                    | 868/1260 [02:57<01:11,  5.46it/s, now=None]"
     ]
    },
    {
     "name": "stdout",
     "output_type": "stream",
     "text": [
      "1304.4864050755336\n",
      "686.6667803966502\n",
      "0.0328291724885015\n"
     ]
    },
    {
     "name": "stderr",
     "output_type": "stream",
     "text": [
      "\r",
      "t:  69%|█████████████████████████████████████████████▌                    | 869/1260 [02:57<01:23,  4.67it/s, now=None]"
     ]
    },
    {
     "name": "stdout",
     "output_type": "stream",
     "text": [
      "1277.1085125069512\n",
      "841.7513881827197\n",
      "0.038995614705118635\n"
     ]
    },
    {
     "name": "stderr",
     "output_type": "stream",
     "text": [
      "\r",
      "t:  69%|█████████████████████████████████████████████▌                    | 870/1260 [02:58<01:25,  4.57it/s, now=None]"
     ]
    },
    {
     "name": "stdout",
     "output_type": "stream",
     "text": [
      "1225.5366298487963\n",
      "1010.2276180142748\n",
      "0.042014976984718476\n",
      "1177.268305077855\n",
      "1031.6257383357731\n",
      "0.04994757084978327\n"
     ]
    },
    {
     "name": "stderr",
     "output_type": "stream",
     "text": [
      "t:  69%|█████████████████████████████████████████████▋                    | 872/1260 [02:58<01:21,  4.74it/s, now=None]"
     ]
    },
    {
     "name": "stdout",
     "output_type": "stream",
     "text": [
      "1326.1642812842779\n",
      "968.8471410029441\n",
      "0.048702057089730945\n"
     ]
    },
    {
     "name": "stderr",
     "output_type": "stream",
     "text": [
      "\r",
      "t:  69%|█████████████████████████████████████████████▋                    | 873/1260 [02:58<01:31,  4.21it/s, now=None]"
     ]
    },
    {
     "name": "stdout",
     "output_type": "stream",
     "text": [
      "1321.5784962999558\n",
      "986.0732940589232\n",
      "0.04286488568971777\n"
     ]
    },
    {
     "name": "stderr",
     "output_type": "stream",
     "text": [
      "\r",
      "t:  69%|█████████████████████████████████████████████▊                    | 874/1260 [02:58<01:29,  4.30it/s, now=None]"
     ]
    },
    {
     "name": "stdout",
     "output_type": "stream",
     "text": [
      "1504.912037113736\n",
      "926.1808831518922\n",
      "0.045790303466942336\n"
     ]
    },
    {
     "name": "stderr",
     "output_type": "stream",
     "text": [
      "\r",
      "t:  69%|█████████████████████████████████████████████▊                    | 875/1260 [02:59<01:28,  4.37it/s, now=None]"
     ]
    },
    {
     "name": "stdout",
     "output_type": "stream",
     "text": [
      "1439.6567154352929\n",
      "751.1708478763437\n",
      "0.029745682403067495\n",
      "1274.2818395341997\n",
      "758.4726870873321\n",
      "0.03280092120116007\n"
     ]
    },
    {
     "name": "stderr",
     "output_type": "stream",
     "text": [
      "t:  70%|█████████████████████████████████████████████▉                    | 877/1260 [02:59<01:26,  4.41it/s, now=None]"
     ]
    },
    {
     "name": "stdout",
     "output_type": "stream",
     "text": [
      "1222.5811596110516\n",
      "919.0457630914674\n",
      "0.03942921015394102\n",
      "1278.0331135340791\n",
      "976.0012547021869\n",
      "0.03621175502325589\n"
     ]
    },
    {
     "name": "stderr",
     "output_type": "stream",
     "text": [
      "t:  70%|██████████████████████████████████████████████                    | 879/1260 [03:00<01:22,  4.65it/s, now=None]"
     ]
    },
    {
     "name": "stdout",
     "output_type": "stream",
     "text": [
      "1086.3107356765395\n",
      "983.9601068062472\n",
      "0.03314321888180325\n"
     ]
    },
    {
     "name": "stderr",
     "output_type": "stream",
     "text": [
      "\r",
      "t:  70%|██████████████████████████████████████████████                    | 880/1260 [03:00<01:22,  4.59it/s, now=None]"
     ]
    },
    {
     "name": "stdout",
     "output_type": "stream",
     "text": [
      "1018.323168460946\n",
      "907.8401836355803\n",
      "0.02822250192882049\n"
     ]
    },
    {
     "name": "stderr",
     "output_type": "stream",
     "text": [
      "\r",
      "t:  70%|██████████████████████████████████████████████▏                   | 881/1260 [03:00<01:20,  4.68it/s, now=None]"
     ]
    },
    {
     "name": "stdout",
     "output_type": "stream",
     "text": [
      "893.3584485174674\n",
      "827.7536887115825\n",
      "0.023471948991276675\n",
      "923.1752868359741\n",
      "2060.9732999188623\n",
      "0.03482948768835653\n"
     ]
    },
    {
     "name": "stderr",
     "output_type": "stream",
     "text": [
      "t:  70%|██████████████████████████████████████████████▎                   | 883/1260 [03:00<01:20,  4.70it/s, now=None]"
     ]
    },
    {
     "name": "stdout",
     "output_type": "stream",
     "text": [
      "967.6825963885427\n",
      "4279.428056920671\n",
      "0.06124931380785448\n"
     ]
    },
    {
     "name": "stderr",
     "output_type": "stream",
     "text": [
      "\r",
      "t:  70%|██████████████████████████████████████████████▎                   | 884/1260 [03:01<01:20,  4.69it/s, now=None]"
     ]
    },
    {
     "name": "stdout",
     "output_type": "stream",
     "text": [
      "1045.3518346865635\n",
      "2214.1208143928493\n",
      "0.05695222734074927\n"
     ]
    },
    {
     "name": "stderr",
     "output_type": "stream",
     "text": [
      "\r",
      "t:  70%|██████████████████████████████████████████████▎                   | 885/1260 [03:01<01:23,  4.49it/s, now=None]"
     ]
    },
    {
     "name": "stdout",
     "output_type": "stream",
     "text": [
      "1208.3424473687446\n",
      "1429.1577181737496\n",
      "0.0425204649119676\n"
     ]
    },
    {
     "name": "stderr",
     "output_type": "stream",
     "text": [
      "\r",
      "t:  70%|██████████████████████████████████████████████▍                   | 886/1260 [03:01<01:24,  4.41it/s, now=None]"
     ]
    },
    {
     "name": "stdout",
     "output_type": "stream",
     "text": [
      "1710.4126409729854\n",
      "889.1850855217053\n",
      "0.030002528068706024\n"
     ]
    },
    {
     "name": "stderr",
     "output_type": "stream",
     "text": [
      "\r",
      "t:  70%|██████████████████████████████████████████████▍                   | 887/1260 [03:01<01:25,  4.38it/s, now=None]"
     ]
    },
    {
     "name": "stdout",
     "output_type": "stream",
     "text": [
      "1706.2671333228034\n",
      "854.9370376718963\n",
      "0.03232947367998483\n",
      "1445.2114712511152\n",
      "926.0653204068283\n",
      "0.0314625774618333\n"
     ]
    },
    {
     "name": "stderr",
     "output_type": "stream",
     "text": [
      "t:  71%|██████████████████████████████████████████████▌                   | 889/1260 [03:02<01:34,  3.94it/s, now=None]"
     ]
    },
    {
     "name": "stdout",
     "output_type": "stream",
     "text": [
      "1349.3009180278466\n",
      "875.5806164191678\n",
      "0.03309776828182141\n"
     ]
    },
    {
     "name": "stderr",
     "output_type": "stream",
     "text": [
      "\r",
      "t:  71%|██████████████████████████████████████████████▌                   | 890/1260 [03:02<01:32,  4.01it/s, now=None]"
     ]
    },
    {
     "name": "stdout",
     "output_type": "stream",
     "text": [
      "1519.0706291759307\n",
      "826.5446013320357\n",
      "0.03174561581506578\n"
     ]
    },
    {
     "name": "stderr",
     "output_type": "stream",
     "text": [
      "\r",
      "t:  71%|██████████████████████████████████████████████▋                   | 891/1260 [03:02<01:28,  4.16it/s, now=None]"
     ]
    },
    {
     "name": "stdout",
     "output_type": "stream",
     "text": [
      "1773.5075774272962\n",
      "755.775213803474\n",
      "0.032181060582285946\n",
      "2006.072064949403\n",
      "764.1528292132032\n",
      "0.02809262912284596\n"
     ]
    },
    {
     "name": "stderr",
     "output_type": "stream",
     "text": [
      "t:  71%|██████████████████████████████████████████████▊                   | 893/1260 [03:03<01:21,  4.49it/s, now=None]"
     ]
    },
    {
     "name": "stdout",
     "output_type": "stream",
     "text": [
      "2127.114738892066\n",
      "1482.774341018091\n",
      "0.030114819382084403\n",
      "2599.279491927635\n",
      "1803.8990665245537\n",
      "0.03392969092479137\n"
     ]
    },
    {
     "name": "stderr",
     "output_type": "stream",
     "text": [
      "t:  71%|██████████████████████████████████████████████▉                   | 896/1260 [03:03<01:10,  5.20it/s, now=None]"
     ]
    },
    {
     "name": "stdout",
     "output_type": "stream",
     "text": [
      "2192.6749855066423\n",
      "2061.1319999745924\n",
      "0.04249735824311893\n",
      "2690.6498614721795\n",
      "1441.0291166999732\n",
      "0.024864157039942648\n"
     ]
    },
    {
     "name": "stderr",
     "output_type": "stream",
     "text": [
      "\r",
      "t:  71%|██████████████████████████████████████████████▉                   | 897/1260 [03:03<01:11,  5.10it/s, now=None]"
     ]
    },
    {
     "name": "stdout",
     "output_type": "stream",
     "text": [
      "2261.0447650924475\n",
      "1238.1966626255826\n",
      "0.00953432138077309\n",
      "2591.4211391966205\n",
      "1044.076606073646\n",
      "-0.005136538305833645\n"
     ]
    },
    {
     "name": "stderr",
     "output_type": "stream",
     "text": [
      "t:  71%|███████████████████████████████████████████████                   | 899/1260 [03:04<01:18,  4.60it/s, now=None]"
     ]
    },
    {
     "name": "stdout",
     "output_type": "stream",
     "text": [
      "1814.9956487408022\n",
      "910.2915908794087\n",
      "-0.017843901064147287\n"
     ]
    },
    {
     "name": "stderr",
     "output_type": "stream",
     "text": [
      "\r",
      "t:  71%|███████████████████████████████████████████████▏                  | 900/1260 [03:04<01:20,  4.49it/s, now=None]"
     ]
    },
    {
     "name": "stdout",
     "output_type": "stream",
     "text": [
      "1931.5952556735463\n",
      "1066.5023294426012\n",
      "-0.012280875848581738\n"
     ]
    },
    {
     "name": "stderr",
     "output_type": "stream",
     "text": [
      "\r",
      "t:  72%|███████████████████████████████████████████████▏                  | 901/1260 [03:04<01:24,  4.24it/s, now=None]"
     ]
    },
    {
     "name": "stdout",
     "output_type": "stream",
     "text": [
      "2170.4249364698067\n",
      "1068.6454550704248\n",
      "-0.010286902423620405\n"
     ]
    },
    {
     "name": "stderr",
     "output_type": "stream",
     "text": [
      "\r",
      "t:  72%|███████████████████████████████████████████████▏                  | 902/1260 [03:05<01:28,  4.04it/s, now=None]"
     ]
    },
    {
     "name": "stdout",
     "output_type": "stream",
     "text": [
      "3839.1401944690238\n",
      "1356.2754222963633\n",
      "-0.0038151914113597873\n"
     ]
    },
    {
     "name": "stderr",
     "output_type": "stream",
     "text": [
      "t:  72%|███████████████████████████████████████████████▎                  | 904/1260 [03:05<01:17,  4.59it/s, now=None]"
     ]
    },
    {
     "name": "stdout",
     "output_type": "stream",
     "text": [
      "2550.3924634571745\n",
      "1287.3846054925214\n",
      "-0.012823592989996574\n",
      "2116.5303220089504\n",
      "1391.42130287331\n",
      "-0.016206766643513157\n"
     ]
    },
    {
     "name": "stderr",
     "output_type": "stream",
     "text": [
      "\r",
      "t:  72%|███████████████████████████████████████████████▍                  | 905/1260 [03:05<01:16,  4.67it/s, now=None]"
     ]
    },
    {
     "name": "stdout",
     "output_type": "stream",
     "text": [
      "1965.0177624757205\n",
      "1198.980993744853\n",
      "-0.024583258921678133\n"
     ]
    },
    {
     "name": "stderr",
     "output_type": "stream",
     "text": [
      "\r",
      "t:  72%|███████████████████████████████████████████████▍                  | 906/1260 [03:06<01:18,  4.49it/s, now=None]"
     ]
    },
    {
     "name": "stdout",
     "output_type": "stream",
     "text": [
      "1974.257487483536\n",
      "1118.543598557733\n",
      "-0.028073299738742615\n"
     ]
    },
    {
     "name": "stderr",
     "output_type": "stream",
     "text": [
      "t:  72%|███████████████████████████████████████████████▌                  | 908/1260 [03:06<01:13,  4.79it/s, now=None]"
     ]
    },
    {
     "name": "stdout",
     "output_type": "stream",
     "text": [
      "1999.5808549706028\n",
      "779.1101655233776\n",
      "-0.0548990797669316\n",
      "2504.7506702072546\n",
      "770.1679773722717\n",
      "-0.046350746443237084\n"
     ]
    },
    {
     "name": "stderr",
     "output_type": "stream",
     "text": [
      "\r",
      "t:  72%|███████████████████████████████████████████████▌                  | 909/1260 [03:06<01:19,  4.44it/s, now=None]"
     ]
    },
    {
     "name": "stdout",
     "output_type": "stream",
     "text": [
      "2133.1265716563053\n",
      "653.7363690894391\n",
      "-0.049067851771758556\n"
     ]
    },
    {
     "name": "stderr",
     "output_type": "stream",
     "text": [
      "\r",
      "t:  72%|███████████████████████████████████████████████▋                  | 910/1260 [03:06<01:20,  4.33it/s, now=None]"
     ]
    },
    {
     "name": "stdout",
     "output_type": "stream",
     "text": [
      "1520.325992674913\n",
      "597.1520307809584\n",
      "-0.05198049826312003\n",
      "1084.6998093037332\n",
      "681.6250403208555\n",
      "-0.03751900729040941\n"
     ]
    },
    {
     "name": "stderr",
     "output_type": "stream",
     "text": [
      "t:  72%|███████████████████████████████████████████████▊                  | 912/1260 [03:07<01:17,  4.49it/s, now=None]"
     ]
    },
    {
     "name": "stdout",
     "output_type": "stream",
     "text": [
      "968.7656012264599\n",
      "668.136680536886\n",
      "-0.03834275268740838\n"
     ]
    },
    {
     "name": "stderr",
     "output_type": "stream",
     "text": [
      "\r",
      "t:  72%|███████████████████████████████████████████████▊                  | 913/1260 [03:07<01:19,  4.37it/s, now=None]"
     ]
    },
    {
     "name": "stdout",
     "output_type": "stream",
     "text": [
      "990.3897480150259\n",
      "719.1321993016553\n",
      "-0.03015072942730519\n"
     ]
    },
    {
     "name": "stderr",
     "output_type": "stream",
     "text": [
      "\r",
      "t:  73%|███████████████████████████████████████████████▉                  | 914/1260 [03:07<01:19,  4.34it/s, now=None]"
     ]
    },
    {
     "name": "stdout",
     "output_type": "stream",
     "text": [
      "883.9366342186709\n",
      "647.2753696098064\n",
      "-0.02659337882915429\n"
     ]
    },
    {
     "name": "stderr",
     "output_type": "stream",
     "text": [
      "\r",
      "t:  73%|███████████████████████████████████████████████▉                  | 915/1260 [03:08<01:16,  4.52it/s, now=None]"
     ]
    },
    {
     "name": "stdout",
     "output_type": "stream",
     "text": [
      "905.2328455661712\n",
      "801.67398380269\n",
      "-0.015197838804636474\n"
     ]
    },
    {
     "name": "stderr",
     "output_type": "stream",
     "text": [
      "\r",
      "t:  73%|███████████████████████████████████████████████▉                  | 916/1260 [03:08<01:16,  4.51it/s, now=None]"
     ]
    },
    {
     "name": "stdout",
     "output_type": "stream",
     "text": [
      "841.9508196037599\n",
      "1017.0660101751325\n",
      "-0.011665839799158513\n"
     ]
    },
    {
     "name": "stderr",
     "output_type": "stream",
     "text": [
      "\r",
      "t:  73%|████████████████████████████████████████████████                  | 917/1260 [03:08<01:15,  4.57it/s, now=None]"
     ]
    },
    {
     "name": "stdout",
     "output_type": "stream",
     "text": [
      "962.6245989865287\n",
      "943.0239404219385\n",
      "-0.006555926965221716\n"
     ]
    },
    {
     "name": "stderr",
     "output_type": "stream",
     "text": [
      "\r",
      "t:  73%|████████████████████████████████████████████████                  | 918/1260 [03:08<01:17,  4.40it/s, now=None]"
     ]
    },
    {
     "name": "stdout",
     "output_type": "stream",
     "text": [
      "895.5096249579042\n",
      "947.2626643970724\n",
      "-0.0009109670911364966\n"
     ]
    },
    {
     "name": "stderr",
     "output_type": "stream",
     "text": [
      "\r",
      "t:  73%|████████████████████████████████████████████████▏                 | 919/1260 [03:08<01:19,  4.27it/s, now=None]"
     ]
    },
    {
     "name": "stdout",
     "output_type": "stream",
     "text": [
      "854.8300889591087\n",
      "1132.8473599241206\n",
      "0.020590213592927935\n"
     ]
    },
    {
     "name": "stderr",
     "output_type": "stream",
     "text": [
      "\r",
      "t:  73%|████████████████████████████████████████████████▏                 | 920/1260 [03:09<01:22,  4.13it/s, now=None]"
     ]
    },
    {
     "name": "stdout",
     "output_type": "stream",
     "text": [
      "838.1889553389598\n",
      "965.7244687855865\n",
      "0.01152180480849131\n"
     ]
    },
    {
     "name": "stderr",
     "output_type": "stream",
     "text": [
      "\r",
      "t:  73%|████████████████████████████████████████████████▏                 | 921/1260 [03:09<01:21,  4.14it/s, now=None]"
     ]
    },
    {
     "name": "stdout",
     "output_type": "stream",
     "text": [
      "856.6943915459034\n",
      "856.5194688128363\n",
      "0.014734342346103371\n",
      "853.7463986336477\n",
      "734.0117982829152\n",
      "0.011008272740468167\n"
     ]
    },
    {
     "name": "stderr",
     "output_type": "stream",
     "text": [
      "t:  73%|████████████████████████████████████████████████▎                 | 923/1260 [03:09<01:19,  4.24it/s, now=None]"
     ]
    },
    {
     "name": "stdout",
     "output_type": "stream",
     "text": [
      "935.747344741614\n",
      "1238.6459012865778\n",
      "0.04194428895240099\n"
     ]
    },
    {
     "name": "stderr",
     "output_type": "stream",
     "text": [
      "\r",
      "t:  73%|████████████████████████████████████████████████▍                 | 924/1260 [03:10<01:18,  4.30it/s, now=None]"
     ]
    },
    {
     "name": "stdout",
     "output_type": "stream",
     "text": [
      "945.5258702340664\n",
      "1058.949830490101\n",
      "0.03930344028544812\n"
     ]
    },
    {
     "name": "stderr",
     "output_type": "stream",
     "text": [
      "\r",
      "t:  73%|████████████████████████████████████████████████▍                 | 925/1260 [03:10<01:17,  4.35it/s, now=None]"
     ]
    },
    {
     "name": "stdout",
     "output_type": "stream",
     "text": [
      "1088.3064335362737\n",
      "1159.4748720465645\n",
      "0.043297704569975864\n"
     ]
    },
    {
     "name": "stderr",
     "output_type": "stream",
     "text": [
      "\r",
      "t:  73%|████████████████████████████████████████████████▌                 | 926/1260 [03:10<01:17,  4.31it/s, now=None]"
     ]
    },
    {
     "name": "stdout",
     "output_type": "stream",
     "text": [
      "1040.6806468552024\n",
      "967.9627396650417\n",
      "0.04141747302262312\n"
     ]
    },
    {
     "name": "stderr",
     "output_type": "stream",
     "text": [
      "t:  74%|████████████████████████████████████████████████▌                 | 928/1260 [03:11<01:10,  4.72it/s, now=None]"
     ]
    },
    {
     "name": "stdout",
     "output_type": "stream",
     "text": [
      "924.09987410313\n",
      "1469.1092798137922\n",
      "0.0450387534438785\n",
      "934.5517588550097\n",
      "1515.903403082473\n",
      "0.043843901050817397\n"
     ]
    },
    {
     "name": "stderr",
     "output_type": "stream",
     "text": [
      "\r",
      "t:  74%|████████████████████████████████████████████████▋                 | 929/1260 [03:11<01:12,  4.59it/s, now=None]"
     ]
    },
    {
     "name": "stdout",
     "output_type": "stream",
     "text": [
      "990.8993678032355\n",
      "1348.7562506644817\n",
      "0.04265661181669361\n"
     ]
    },
    {
     "name": "stderr",
     "output_type": "stream",
     "text": [
      "\r",
      "t:  74%|████████████████████████████████████████████████▋                 | 930/1260 [03:11<01:10,  4.65it/s, now=None]"
     ]
    },
    {
     "name": "stdout",
     "output_type": "stream",
     "text": [
      "1378.6175367331632\n",
      "1357.5972538633484\n",
      "0.05023679101807594\n",
      "1353.7440088886103\n",
      "885.6266782657435\n",
      "0.025016502568465628\n"
     ]
    },
    {
     "name": "stderr",
     "output_type": "stream",
     "text": [
      "t:  74%|████████████████████████████████████████████████▊                 | 932/1260 [03:11<01:12,  4.52it/s, now=None]"
     ]
    },
    {
     "name": "stdout",
     "output_type": "stream",
     "text": [
      "2043.4786910757425\n",
      "708.6983736740134\n",
      "0.016247046445339364\n"
     ]
    },
    {
     "name": "stderr",
     "output_type": "stream",
     "text": [
      "\r",
      "t:  74%|████████████████████████████████████████████████▊                 | 933/1260 [03:12<01:15,  4.33it/s, now=None]"
     ]
    },
    {
     "name": "stdout",
     "output_type": "stream",
     "text": [
      "3284.415683974937\n",
      "758.9917433642361\n",
      "0.025096914581980483\n",
      "2456.1778978355474\n",
      "720.4894282004718\n",
      "0.017107187071086206\n"
     ]
    },
    {
     "name": "stderr",
     "output_type": "stream",
     "text": [
      "t:  74%|████████████████████████████████████████████████▉                 | 935/1260 [03:12<01:17,  4.19it/s, now=None]"
     ]
    },
    {
     "name": "stdout",
     "output_type": "stream",
     "text": [
      "2377.172550725778\n",
      "866.0656139214892\n",
      "0.019974789978990007\n"
     ]
    },
    {
     "name": "stderr",
     "output_type": "stream",
     "text": [
      "\r",
      "t:  74%|█████████████████████████████████████████████████                 | 936/1260 [03:12<01:17,  4.19it/s, now=None]"
     ]
    },
    {
     "name": "stdout",
     "output_type": "stream",
     "text": [
      "3515.3184660740903\n",
      "728.644554636397\n",
      "0.01566291666654739\n"
     ]
    },
    {
     "name": "stderr",
     "output_type": "stream",
     "text": [
      "\r",
      "t:  74%|█████████████████████████████████████████████████                 | 937/1260 [03:13<01:15,  4.28it/s, now=None]"
     ]
    },
    {
     "name": "stdout",
     "output_type": "stream",
     "text": [
      "5316.284683365695\n",
      "748.3961233059595\n",
      "0.012133974450457328\n"
     ]
    },
    {
     "name": "stderr",
     "output_type": "stream",
     "text": [
      "\r",
      "t:  74%|█████████████████████████████████████████████████▏                | 938/1260 [03:13<01:15,  4.26it/s, now=None]"
     ]
    },
    {
     "name": "stdout",
     "output_type": "stream",
     "text": [
      "1506.5509679113493\n",
      "790.4486270962041\n",
      "-0.0005516672611565159\n"
     ]
    },
    {
     "name": "stderr",
     "output_type": "stream",
     "text": [
      "\r",
      "t:  75%|█████████████████████████████████████████████████▏                | 939/1260 [03:13<01:15,  4.23it/s, now=None]"
     ]
    },
    {
     "name": "stdout",
     "output_type": "stream",
     "text": [
      "1326.7164251943132\n",
      "775.3106503009087\n",
      "-0.005120781369986065\n"
     ]
    },
    {
     "name": "stderr",
     "output_type": "stream",
     "text": [
      "\r",
      "t:  75%|█████████████████████████████████████████████████▏                | 940/1260 [03:13<01:15,  4.22it/s, now=None]"
     ]
    },
    {
     "name": "stdout",
     "output_type": "stream",
     "text": [
      "1539.3252145407419\n",
      "773.8540247277499\n",
      "-0.0034195058914521857\n"
     ]
    },
    {
     "name": "stderr",
     "output_type": "stream",
     "text": [
      "\r",
      "t:  75%|█████████████████████████████████████████████████▎                | 941/1260 [03:14<01:15,  4.23it/s, now=None]"
     ]
    },
    {
     "name": "stdout",
     "output_type": "stream",
     "text": [
      "1092.0621590730746\n",
      "756.5570551277136\n",
      "-0.005569625169872146\n"
     ]
    },
    {
     "name": "stderr",
     "output_type": "stream",
     "text": [
      "\r",
      "t:  75%|█████████████████████████████████████████████████▎                | 942/1260 [03:14<01:16,  4.16it/s, now=None]"
     ]
    },
    {
     "name": "stdout",
     "output_type": "stream",
     "text": [
      "1019.6497049981873\n",
      "676.3186142919066\n",
      "-0.015941914596168772\n"
     ]
    },
    {
     "name": "stderr",
     "output_type": "stream",
     "text": [
      "\r",
      "t:  75%|█████████████████████████████████████████████████▍                | 943/1260 [03:14<01:15,  4.20it/s, now=None]"
     ]
    },
    {
     "name": "stdout",
     "output_type": "stream",
     "text": [
      "1227.4439683905746\n",
      "568.5489935271448\n",
      "-0.026668014906976234\n"
     ]
    },
    {
     "name": "stderr",
     "output_type": "stream",
     "text": [
      "\r",
      "t:  75%|█████████████████████████████████████████████████▍                | 944/1260 [03:14<01:15,  4.17it/s, now=None]"
     ]
    },
    {
     "name": "stdout",
     "output_type": "stream",
     "text": [
      "926.5787555022914\n",
      "606.0085545560197\n",
      "-0.01759956152772283\n"
     ]
    },
    {
     "name": "stderr",
     "output_type": "stream",
     "text": [
      "\r",
      "t:  75%|█████████████████████████████████████████████████▌                | 945/1260 [03:15<01:14,  4.25it/s, now=None]"
     ]
    },
    {
     "name": "stdout",
     "output_type": "stream",
     "text": [
      "928.0562102039584\n",
      "650.9562601698624\n",
      "-0.007530907076937752\n",
      "839.5690711905739\n",
      "837.2969570595312\n",
      "0.011005520889031704\n"
     ]
    },
    {
     "name": "stderr",
     "output_type": "stream",
     "text": [
      "t:  75%|█████████████████████████████████████████████████▋                | 948/1260 [03:15<01:08,  4.57it/s, now=None]"
     ]
    },
    {
     "name": "stdout",
     "output_type": "stream",
     "text": [
      "855.2063299275329\n",
      "943.2497798517785\n",
      "0.012893398143521966\n",
      "964.5921763548516\n",
      "920.2145919320075\n",
      "0.01147531070550258\n"
     ]
    },
    {
     "name": "stderr",
     "output_type": "stream",
     "text": [
      "\r",
      "t:  75%|█████████████████████████████████████████████████▋                | 949/1260 [03:15<01:08,  4.52it/s, now=None]"
     ]
    },
    {
     "name": "stdout",
     "output_type": "stream",
     "text": [
      "898.4685620279961\n",
      "806.912498324899\n",
      "0.008571409423954655\n"
     ]
    },
    {
     "name": "stderr",
     "output_type": "stream",
     "text": [
      "\r",
      "t:  75%|█████████████████████████████████████████████████▊                | 950/1260 [03:16<01:11,  4.36it/s, now=None]"
     ]
    },
    {
     "name": "stdout",
     "output_type": "stream",
     "text": [
      "965.5116694395612\n",
      "734.7959446835509\n",
      "0.005383425461840213\n"
     ]
    },
    {
     "name": "stderr",
     "output_type": "stream",
     "text": [
      "\r",
      "t:  75%|█████████████████████████████████████████████████▊                | 951/1260 [03:16<01:10,  4.41it/s, now=None]"
     ]
    },
    {
     "name": "stdout",
     "output_type": "stream",
     "text": [
      "1063.2906302510871\n",
      "1302.2123448100247\n",
      "0.018822720325076328\n",
      "1086.6958241430546\n",
      "1246.614221318796\n",
      "0.018118086384588505\n"
     ]
    },
    {
     "name": "stderr",
     "output_type": "stream",
     "text": [
      "t:  76%|█████████████████████████████████████████████████▉                | 953/1260 [03:16<01:03,  4.83it/s, now=None]"
     ]
    },
    {
     "name": "stdout",
     "output_type": "stream",
     "text": [
      "1243.6024299194214\n",
      "1220.9545983078854\n",
      "0.020272211266518674\n",
      "1417.0056309169897\n",
      "1407.79606401471\n",
      "0.033821698060496085\n"
     ]
    },
    {
     "name": "stderr",
     "output_type": "stream",
     "text": [
      "t:  76%|██████████████████████████████████████████████████                | 956/1260 [03:17<00:57,  5.31it/s, now=None]"
     ]
    },
    {
     "name": "stdout",
     "output_type": "stream",
     "text": [
      "1813.524963982414\n",
      "1103.4094331148776\n",
      "0.015164351173850654\n",
      "2919.4130120809336\n",
      "934.6780292285928\n",
      "0.0129000730952368\n"
     ]
    },
    {
     "name": "stderr",
     "output_type": "stream",
     "text": [
      "\r",
      "t:  76%|██████████████████████████████████████████████████▏               | 957/1260 [03:17<01:03,  4.74it/s, now=None]"
     ]
    },
    {
     "name": "stdout",
     "output_type": "stream",
     "text": [
      "1664.0442768006556\n",
      "976.8733607036623\n",
      "0.006702337319025609\n"
     ]
    },
    {
     "name": "stderr",
     "output_type": "stream",
     "text": [
      "\r",
      "t:  76%|██████████████████████████████████████████████████▏               | 958/1260 [03:17<01:10,  4.30it/s, now=None]"
     ]
    },
    {
     "name": "stdout",
     "output_type": "stream",
     "text": [
      "1665.2431691519675\n",
      "1360.9337642963444\n",
      "0.010780395135114987\n",
      "1346.0515006982446\n",
      "1159.2009160917833\n"
     ]
    },
    {
     "name": "stderr",
     "output_type": "stream",
     "text": [
      "\r",
      "t:  76%|██████████████████████████████████████████████████▏               | 959/1260 [03:18<01:07,  4.43it/s, now=None]"
     ]
    },
    {
     "name": "stdout",
     "output_type": "stream",
     "text": [
      "-0.0070588412561883\n"
     ]
    },
    {
     "name": "stderr",
     "output_type": "stream",
     "text": [
      "\r",
      "t:  76%|██████████████████████████████████████████████████▎               | 960/1260 [03:18<01:07,  4.46it/s, now=None]"
     ]
    },
    {
     "name": "stdout",
     "output_type": "stream",
     "text": [
      "1127.4995565219992\n",
      "1216.1127157622466\n",
      "-0.019251720170878898\n"
     ]
    },
    {
     "name": "stderr",
     "output_type": "stream",
     "text": [
      "\r",
      "t:  76%|██████████████████████████████████████████████████▎               | 961/1260 [03:18<01:13,  4.09it/s, now=None]"
     ]
    },
    {
     "name": "stdout",
     "output_type": "stream",
     "text": [
      "1002.0603326765209\n",
      "1624.5807869701089\n",
      "-0.023402212788746705\n"
     ]
    },
    {
     "name": "stderr",
     "output_type": "stream",
     "text": [
      "\r",
      "t:  76%|██████████████████████████████████████████████████▍               | 962/1260 [03:18<01:08,  4.33it/s, now=None]"
     ]
    },
    {
     "name": "stdout",
     "output_type": "stream",
     "text": [
      "1611.1947054608927\n",
      "2313.369098456391\n",
      "-0.024925467706412553\n",
      "1298.0351490993723\n",
      "2798.063228388703\n",
      "-0.04151971390883449\n"
     ]
    },
    {
     "name": "stderr",
     "output_type": "stream",
     "text": [
      "t:  77%|██████████████████████████████████████████████████▍               | 964/1260 [03:19<01:06,  4.42it/s, now=None]"
     ]
    },
    {
     "name": "stdout",
     "output_type": "stream",
     "text": [
      "1661.0503790297694\n",
      "1873.0733555624934\n",
      "-0.05201213711462119\n"
     ]
    },
    {
     "name": "stderr",
     "output_type": "stream",
     "text": [
      "\r",
      "t:  77%|██████████████████████████████████████████████████▌               | 965/1260 [03:19<01:05,  4.50it/s, now=None]"
     ]
    },
    {
     "name": "stdout",
     "output_type": "stream",
     "text": [
      "1526.6023787901725\n",
      "1537.9272330319739\n",
      "-0.06604921569622291\n",
      "1235.797096978037\n",
      "882.9553785869134\n",
      "-0.1078154658332629\n"
     ]
    },
    {
     "name": "stderr",
     "output_type": "stream",
     "text": [
      "t:  77%|██████████████████████████████████████████████████▋               | 968/1260 [03:19<00:57,  5.07it/s, now=None]"
     ]
    },
    {
     "name": "stdout",
     "output_type": "stream",
     "text": [
      "1142.3369151386453\n",
      "587.2956316337181\n",
      "-0.14309397554862247\n",
      "1215.2526539693283\n",
      "671.3843986784643\n",
      "-0.12500009162223044\n"
     ]
    },
    {
     "name": "stderr",
     "output_type": "stream",
     "text": [
      "t:  77%|██████████████████████████████████████████████████▊               | 970/1260 [03:20<00:57,  5.03it/s, now=None]"
     ]
    },
    {
     "name": "stdout",
     "output_type": "stream",
     "text": [
      "1443.2471442596027\n",
      "806.7778291721323\n",
      "-0.10962028003750672\n",
      "2165.5054956083536\n",
      "1008.609541323664\n",
      "-0.09995728364587261\n"
     ]
    },
    {
     "name": "stderr",
     "output_type": "stream",
     "text": [
      "\r",
      "t:  77%|██████████████████████████████████████████████████▊               | 971/1260 [03:20<00:55,  5.17it/s, now=None]"
     ]
    },
    {
     "name": "stdout",
     "output_type": "stream",
     "text": [
      "2432.423157191541\n",
      "1244.2656764081555\n",
      "-0.0973110083730861\n",
      "2872.717309595483\n",
      "1335.8278799819918\n",
      "-0.1035496866832515\n"
     ]
    },
    {
     "name": "stderr",
     "output_type": "stream",
     "text": [
      "t:  77%|██████████████████████████████████████████████████▉               | 973/1260 [03:20<00:56,  5.08it/s, now=None]"
     ]
    },
    {
     "name": "stdout",
     "output_type": "stream",
     "text": [
      "10079.481341769697\n",
      "1034.4072261701897\n",
      "-0.10434151977867993\n",
      "216164.02445499168\n",
      "1526.1388293234966\n",
      "-0.10126038980527816\n"
     ]
    },
    {
     "name": "stderr",
     "output_type": "stream",
     "text": [
      "t:  77%|███████████████████████████████████████████████████               | 976/1260 [03:21<00:54,  5.16it/s, now=None]"
     ]
    },
    {
     "name": "stdout",
     "output_type": "stream",
     "text": [
      "32229.059228915354\n",
      "2090.101983597526\n",
      "-0.10404126956477182\n",
      "6587.540683685499\n",
      "2113.10222711296\n",
      "-0.10984692571942557\n"
     ]
    },
    {
     "name": "stderr",
     "output_type": "stream",
     "text": [
      "\r",
      "t:  78%|███████████████████████████████████████████████████▏              | 977/1260 [03:21<00:56,  5.00it/s, now=None]"
     ]
    },
    {
     "name": "stdout",
     "output_type": "stream",
     "text": [
      "6458.658562864694\n",
      "1926.0667747181828\n",
      "-0.11493437687842104\n",
      "4974.898022273952\n",
      "2547.529094381739\n",
      "-0.11496592471183963\n"
     ]
    },
    {
     "name": "stderr",
     "output_type": "stream",
     "text": [
      "t:  78%|███████████████████████████████████████████████████▎              | 979/1260 [03:22<00:56,  5.02it/s, now=None]"
     ]
    },
    {
     "name": "stdout",
     "output_type": "stream",
     "text": [
      "1696.0469271573807\n",
      "3352.4744153591323\n",
      "-0.12490211053151684\n",
      "1713.0406894873138\n",
      "32866.867082205994\n",
      "-0.11959111502930643\n"
     ]
    },
    {
     "name": "stderr",
     "output_type": "stream",
     "text": [
      "t:  78%|███████████████████████████████████████████████████▍              | 981/1260 [03:22<00:55,  5.03it/s, now=None]"
     ]
    },
    {
     "name": "stdout",
     "output_type": "stream",
     "text": [
      "1473.2010746984472\n",
      "7481.454597584178\n",
      "-0.1302348907043333\n",
      "2012.7200017748492\n",
      "47685.00838658664\n",
      "-0.12707412541235122\n"
     ]
    },
    {
     "name": "stderr",
     "output_type": "stream",
     "text": [
      "\r",
      "t:  78%|███████████████████████████████████████████████████▍              | 982/1260 [03:22<00:54,  5.12it/s, now=None]"
     ]
    },
    {
     "name": "stdout",
     "output_type": "stream",
     "text": [
      "2256.3001771931463\n",
      "3159.097649636165\n",
      "-0.12622547738476247\n"
     ]
    },
    {
     "name": "stderr",
     "output_type": "stream",
     "text": [
      "t:  78%|███████████████████████████████████████████████████▌              | 985/1260 [03:23<00:50,  5.41it/s, now=None]"
     ]
    },
    {
     "name": "stdout",
     "output_type": "stream",
     "text": [
      "2786.6062264642633\n",
      "1067.0710042183728\n",
      "-0.1573769792725227\n",
      "2321.432892854886\n",
      "1184.4893318610077\n",
      "-0.16046905437697043\n"
     ]
    },
    {
     "name": "stderr",
     "output_type": "stream",
     "text": [
      "t:  78%|███████████████████████████████████████████████████▋              | 987/1260 [03:23<00:48,  5.65it/s, now=None]"
     ]
    },
    {
     "name": "stdout",
     "output_type": "stream",
     "text": [
      "2113.5761381498187\n",
      "1005.2921593139489\n",
      "-0.15770112489505891\n",
      "2409.5648963205767\n",
      "740.8306254182652\n",
      "-0.1626993688755293\n"
     ]
    },
    {
     "name": "stderr",
     "output_type": "stream",
     "text": [
      "\r",
      "t:  78%|███████████████████████████████████████████████████▊              | 988/1260 [03:23<00:48,  5.56it/s, now=None]"
     ]
    },
    {
     "name": "stdout",
     "output_type": "stream",
     "text": [
      "2034.0364671054335\n",
      "829.5296871246813\n",
      "-0.15744365758812628\n"
     ]
    },
    {
     "name": "stderr",
     "output_type": "stream",
     "text": [
      "\r",
      "t:  78%|███████████████████████████████████████████████████▊              | 989/1260 [03:24<00:52,  5.16it/s, now=None]"
     ]
    },
    {
     "name": "stdout",
     "output_type": "stream",
     "text": [
      "987.5009704211815\n",
      "883.3589023008149\n",
      "-0.17155343802756484\n"
     ]
    },
    {
     "name": "stderr",
     "output_type": "stream",
     "text": [
      "\r",
      "t:  79%|███████████████████████████████████████████████████▊              | 990/1260 [03:24<00:56,  4.78it/s, now=None]"
     ]
    },
    {
     "name": "stdout",
     "output_type": "stream",
     "text": [
      "1781.0825971961408\n",
      "762.6352919333312\n",
      "-0.16673271339343315\n"
     ]
    },
    {
     "name": "stderr",
     "output_type": "stream",
     "text": [
      "\r",
      "t:  79%|███████████████████████████████████████████████████▉              | 991/1260 [03:24<00:58,  4.58it/s, now=None]"
     ]
    },
    {
     "name": "stdout",
     "output_type": "stream",
     "text": [
      "2868.98598501824\n",
      "1168.2300512679942\n",
      "-0.11346481173406336\n"
     ]
    },
    {
     "name": "stderr",
     "output_type": "stream",
     "text": [
      "\r",
      "t:  79%|███████████████████████████████████████████████████▉              | 992/1260 [03:24<00:59,  4.47it/s, now=None]"
     ]
    },
    {
     "name": "stdout",
     "output_type": "stream",
     "text": [
      "1442.051898266558\n",
      "871.4728478486406\n",
      "-0.13511710741619176\n"
     ]
    },
    {
     "name": "stderr",
     "output_type": "stream",
     "text": [
      "\r",
      "t:  79%|████████████████████████████████████████████████████              | 993/1260 [03:24<00:59,  4.46it/s, now=None]"
     ]
    },
    {
     "name": "stdout",
     "output_type": "stream",
     "text": [
      "1450.0821874506291\n",
      "1232.7702890758449\n",
      "-0.11092153160602337\n",
      "1084.295402842866\n",
      "969.2877496483746\n",
      "-0.1169321233876139\n"
     ]
    },
    {
     "name": "stderr",
     "output_type": "stream",
     "text": [
      "t:  79%|████████████████████████████████████████████████████              | 995/1260 [03:25<00:59,  4.44it/s, now=None]"
     ]
    },
    {
     "name": "stdout",
     "output_type": "stream",
     "text": [
      "999.6847294684608\n",
      "825.8585042672496\n",
      "-0.11513568219966037\n"
     ]
    },
    {
     "name": "stderr",
     "output_type": "stream",
     "text": [
      "\r",
      "t:  79%|████████████████████████████████████████████████████▏             | 996/1260 [03:25<00:59,  4.40it/s, now=None]"
     ]
    },
    {
     "name": "stdout",
     "output_type": "stream",
     "text": [
      "748.0478652338252\n",
      "755.6236604483432\n",
      "-0.10766665378074634\n"
     ]
    },
    {
     "name": "stderr",
     "output_type": "stream",
     "text": [
      "\r",
      "t:  79%|████████████████████████████████████████████████████▏             | 997/1260 [03:25<01:00,  4.34it/s, now=None]"
     ]
    },
    {
     "name": "stdout",
     "output_type": "stream",
     "text": [
      "1033.1652430462714\n",
      "984.3877103175853\n",
      "-0.08255563255099604\n"
     ]
    },
    {
     "name": "stderr",
     "output_type": "stream",
     "text": [
      "\r",
      "t:  79%|████████████████████████████████████████████████████▎             | 998/1260 [03:26<01:00,  4.34it/s, now=None]"
     ]
    },
    {
     "name": "stdout",
     "output_type": "stream",
     "text": [
      "1244.670848010361\n",
      "1013.2239048381882\n",
      "-0.07213753742624782\n"
     ]
    },
    {
     "name": "stderr",
     "output_type": "stream",
     "text": [
      "\r",
      "t:  79%|████████████████████████████████████████████████████▎             | 999/1260 [03:26<01:00,  4.28it/s, now=None]"
     ]
    },
    {
     "name": "stdout",
     "output_type": "stream",
     "text": [
      "1817.5546968893452\n",
      "1107.5445520371793\n",
      "-0.04779899580479852\n"
     ]
    },
    {
     "name": "stderr",
     "output_type": "stream",
     "text": [
      "\r",
      "t:  79%|███████████████████████████████████████████████████▌             | 1000/1260 [03:26<01:00,  4.30it/s, now=None]"
     ]
    },
    {
     "name": "stdout",
     "output_type": "stream",
     "text": [
      "2279.8242420781403\n",
      "1325.015897435336\n",
      "-0.022519338654865807\n"
     ]
    },
    {
     "name": "stderr",
     "output_type": "stream",
     "text": [
      "\r",
      "t:  79%|███████████████████████████████████████████████████▋             | 1001/1260 [03:26<00:59,  4.34it/s, now=None]"
     ]
    },
    {
     "name": "stdout",
     "output_type": "stream",
     "text": [
      "2842.9008758319646\n",
      "1650.6788638280163\n",
      "-0.004046216806351854\n"
     ]
    },
    {
     "name": "stderr",
     "output_type": "stream",
     "text": [
      "\r",
      "t:  80%|███████████████████████████████████████████████████▋             | 1002/1260 [03:27<01:00,  4.29it/s, now=None]"
     ]
    },
    {
     "name": "stdout",
     "output_type": "stream",
     "text": [
      "7073.222098983198\n",
      "1040.8998332854421\n",
      "-0.009693721383878905\n"
     ]
    },
    {
     "name": "stderr",
     "output_type": "stream",
     "text": [
      "\r",
      "t:  80%|███████████████████████████████████████████████████▋             | 1003/1260 [03:27<00:56,  4.52it/s, now=None]"
     ]
    },
    {
     "name": "stdout",
     "output_type": "stream",
     "text": [
      "13336.97131711255\n",
      "1026.897503537872\n",
      "-0.0011326405695879854\n"
     ]
    },
    {
     "name": "stderr",
     "output_type": "stream",
     "text": [
      "\r",
      "t:  80%|███████████████████████████████████████████████████▊             | 1004/1260 [03:27<00:59,  4.32it/s, now=None]"
     ]
    },
    {
     "name": "stdout",
     "output_type": "stream",
     "text": [
      "8670.969893973472\n",
      "1245.4638170204112\n",
      "0.021549942755161186\n"
     ]
    },
    {
     "name": "stderr",
     "output_type": "stream",
     "text": [
      "\r",
      "t:  80%|███████████████████████████████████████████████████▊             | 1005/1260 [03:27<00:58,  4.38it/s, now=None]"
     ]
    },
    {
     "name": "stdout",
     "output_type": "stream",
     "text": [
      "12528.868224599082\n",
      "1089.17809696221\n",
      "0.011002297355304808\n"
     ]
    },
    {
     "name": "stderr",
     "output_type": "stream",
     "text": [
      "\r",
      "t:  80%|███████████████████████████████████████████████████▉             | 1006/1260 [03:27<00:57,  4.43it/s, now=None]"
     ]
    },
    {
     "name": "stdout",
     "output_type": "stream",
     "text": [
      "4606.662371169387\n",
      "1046.0978818644257\n",
      "0.01139267934480519\n"
     ]
    },
    {
     "name": "stderr",
     "output_type": "stream",
     "text": [
      "t:  80%|████████████████████████████████████████████████████             | 1008/1260 [03:28<00:51,  4.89it/s, now=None]"
     ]
    },
    {
     "name": "stdout",
     "output_type": "stream",
     "text": [
      "8777.162532452281\n",
      "521.9251566825485\n",
      "-0.03323129586841304\n",
      "2547.601861055426\n",
      "503.0192784595035\n",
      "-0.03490261408944637\n"
     ]
    },
    {
     "name": "stderr",
     "output_type": "stream",
     "text": [
      "\r",
      "t:  80%|████████████████████████████████████████████████████             | 1009/1260 [03:28<00:51,  4.89it/s, now=None]"
     ]
    },
    {
     "name": "stdout",
     "output_type": "stream",
     "text": [
      "72410.36679094713\n",
      "396.51728832943934\n",
      "-0.029984120946472462\n"
     ]
    },
    {
     "name": "stderr",
     "output_type": "stream",
     "text": [
      "\r",
      "t:  80%|████████████████████████████████████████████████████             | 1010/1260 [03:28<00:52,  4.73it/s, now=None]"
     ]
    },
    {
     "name": "stdout",
     "output_type": "stream",
     "text": [
      "6583.875013464974\n",
      "429.0293808772706\n",
      "-0.005764579212251875\n"
     ]
    },
    {
     "name": "stderr",
     "output_type": "stream",
     "text": [
      "\r",
      "t:  80%|████████████████████████████████████████████████████▏            | 1011/1260 [03:28<00:54,  4.54it/s, now=None]"
     ]
    },
    {
     "name": "stdout",
     "output_type": "stream",
     "text": [
      "13271.016117698826\n",
      "481.26981377112367\n",
      "0.026428216440827684\n"
     ]
    },
    {
     "name": "stderr",
     "output_type": "stream",
     "text": [
      "\r",
      "t:  80%|████████████████████████████████████████████████████▏            | 1012/1260 [03:29<00:56,  4.36it/s, now=None]"
     ]
    },
    {
     "name": "stdout",
     "output_type": "stream",
     "text": [
      "13980.673015096962\n",
      "488.97648159956174\n",
      "0.0450990500244984\n"
     ]
    },
    {
     "name": "stderr",
     "output_type": "stream",
     "text": [
      "\r",
      "t:  80%|████████████████████████████████████████████████████▎            | 1013/1260 [03:29<00:57,  4.32it/s, now=None]"
     ]
    },
    {
     "name": "stdout",
     "output_type": "stream",
     "text": [
      "1495.3042734390108\n",
      "527.5181787463957\n",
      "0.06939097651090823\n"
     ]
    },
    {
     "name": "stderr",
     "output_type": "stream",
     "text": [
      "\r",
      "t:  80%|████████████████████████████████████████████████████▎            | 1014/1260 [03:29<00:57,  4.31it/s, now=None]"
     ]
    },
    {
     "name": "stdout",
     "output_type": "stream",
     "text": [
      "10030.962618483094\n",
      "467.8427745928293\n",
      "0.082773822735715\n"
     ]
    },
    {
     "name": "stderr",
     "output_type": "stream",
     "text": [
      "\r",
      "t:  81%|████████████████████████████████████████████████████▎            | 1015/1260 [03:29<00:56,  4.36it/s, now=None]"
     ]
    },
    {
     "name": "stdout",
     "output_type": "stream",
     "text": [
      "2778.6165399231604\n",
      "817.3376570773548\n",
      "0.08977629587936299\n"
     ]
    },
    {
     "name": "stderr",
     "output_type": "stream",
     "text": [
      "\r",
      "t:  81%|████████████████████████████████████████████████████▍            | 1016/1260 [03:30<00:54,  4.49it/s, now=None]"
     ]
    },
    {
     "name": "stdout",
     "output_type": "stream",
     "text": [
      "56116.68270628799\n",
      "1536.971782800876\n",
      "0.10708029300280954\n",
      "9346.428279452726\n",
      "1983.519658740177\n",
      "0.11580920333477106\n"
     ]
    },
    {
     "name": "stderr",
     "output_type": "stream",
     "text": [
      "t:  81%|████████████████████████████████████████████████████▌            | 1018/1260 [03:30<00:51,  4.69it/s, now=None]"
     ]
    },
    {
     "name": "stdout",
     "output_type": "stream",
     "text": [
      "2671.572212102558\n",
      "922.1466566387259\n",
      "0.10088035702951899\n",
      "2010.3871963974675\n",
      "1044.0975135139684\n",
      "0.11504607181008145\n"
     ]
    },
    {
     "name": "stderr",
     "output_type": "stream",
     "text": [
      "t:  81%|████████████████████████████████████████████████████▌            | 1020/1260 [03:30<00:49,  4.88it/s, now=None]"
     ]
    },
    {
     "name": "stdout",
     "output_type": "stream",
     "text": [
      "2650.6535499352613\n",
      "1248.1903753360832\n",
      "0.12152900957132111\n",
      "2456.69788190015\n",
      "1123.334999311302\n",
      "0.11401470848526996\n"
     ]
    },
    {
     "name": "stderr",
     "output_type": "stream",
     "text": [
      "t:  81%|████████████████████████████████████████████████████▋            | 1022/1260 [03:31<00:47,  5.05it/s, now=None]"
     ]
    },
    {
     "name": "stdout",
     "output_type": "stream",
     "text": [
      "1104.8699309857632\n",
      "1032.310909711473\n",
      "0.10938356284803259\n",
      "1060.6177255030527\n",
      "1096.810456088454\n",
      "0.10949588993601186\n"
     ]
    },
    {
     "name": "stderr",
     "output_type": "stream",
     "text": [
      "t:  81%|████████████████████████████████████████████████████▉            | 1025/1260 [03:31<00:43,  5.43it/s, now=None]"
     ]
    },
    {
     "name": "stdout",
     "output_type": "stream",
     "text": [
      "1165.8508945681126\n",
      "1262.4499217291248\n",
      "0.12453164953418036\n",
      "1638.3170931805687\n",
      "937.8577640802239\n",
      "0.1363289899408411\n"
     ]
    },
    {
     "name": "stderr",
     "output_type": "stream",
     "text": [
      "\r",
      "t:  81%|████████████████████████████████████████████████████▉            | 1026/1260 [03:32<00:43,  5.36it/s, now=None]"
     ]
    },
    {
     "name": "stdout",
     "output_type": "stream",
     "text": [
      "1744.2213727233843\n",
      "2024.9616386106652\n",
      "0.14048760247900216\n"
     ]
    },
    {
     "name": "stderr",
     "output_type": "stream",
     "text": [
      "t:  82%|█████████████████████████████████████████████████████            | 1028/1260 [03:32<00:43,  5.33it/s, now=None]"
     ]
    },
    {
     "name": "stdout",
     "output_type": "stream",
     "text": [
      "1160.526535857291\n",
      "1487.1572828375697\n",
      "0.13788153769447647\n",
      "1161.7179789163165\n",
      "1879.1588411643352\n",
      "0.15301384879211546\n"
     ]
    },
    {
     "name": "stderr",
     "output_type": "stream",
     "text": [
      "t:  82%|█████████████████████████████████████████████████████▏           | 1030/1260 [03:32<00:41,  5.51it/s, now=None]"
     ]
    },
    {
     "name": "stdout",
     "output_type": "stream",
     "text": [
      "476.8122685031461\n",
      "759.3100557585698\n",
      "0.08636366615161017\n",
      "310.90723749449404\n",
      "1114.3286987699353\n",
      "0.09032800357773331\n"
     ]
    },
    {
     "name": "stderr",
     "output_type": "stream",
     "text": [
      "\r",
      "t:  82%|█████████████████████████████████████████████████████▏           | 1031/1260 [03:33<00:41,  5.48it/s, now=None]"
     ]
    },
    {
     "name": "stdout",
     "output_type": "stream",
     "text": [
      "308.9765394010552\n",
      "1265.4945384185376\n",
      "0.10309255141024247\n",
      "431.103937515634\n",
      "1719.1256866042716\n",
      "0.1408258525874517\n"
     ]
    },
    {
     "name": "stderr",
     "output_type": "stream",
     "text": [
      "t:  82%|█████████████████████████████████████████████████████▎           | 1034/1260 [03:33<00:40,  5.62it/s, now=None]"
     ]
    },
    {
     "name": "stdout",
     "output_type": "stream",
     "text": [
      "406.33496763407913\n",
      "26973.5242185067\n",
      "0.15279597935336947\n",
      "475.7546074614985\n",
      "689.6566940724344\n",
      "0.13124597928048487\n"
     ]
    },
    {
     "name": "stderr",
     "output_type": "stream",
     "text": [
      "\r",
      "t:  82%|█████████████████████████████████████████████████████▍           | 1035/1260 [03:33<00:39,  5.70it/s, now=None]"
     ]
    },
    {
     "name": "stdout",
     "output_type": "stream",
     "text": [
      "522.4281632496178\n",
      "759.3763818433987\n",
      "0.14833465314215596\n",
      "776.6680881329193\n",
      "888.2393578751997\n",
      "0.15687846540465733\n"
     ]
    },
    {
     "name": "stderr",
     "output_type": "stream",
     "text": [
      "t:  82%|█████████████████████████████████████████████████████▍           | 1037/1260 [03:34<00:46,  4.81it/s, now=None]"
     ]
    },
    {
     "name": "stdout",
     "output_type": "stream",
     "text": [
      "1566.1813497419669\n",
      "523.844677704678\n",
      "0.1653701921334725\n",
      "8633.145440156943\n",
      "466.5924911366507\n",
      "0.16669004544542512\n"
     ]
    },
    {
     "name": "stderr",
     "output_type": "stream",
     "text": [
      "t:  82%|█████████████████████████████████████████████████████▌           | 1039/1260 [03:34<00:44,  4.95it/s, now=None]"
     ]
    },
    {
     "name": "stdout",
     "output_type": "stream",
     "text": [
      "11020.794684292598\n",
      "411.77314029277585\n",
      "0.14115480241595377\n",
      "3001.142667426456\n",
      "381.5287256694957\n",
      "0.12440147054147253\n"
     ]
    },
    {
     "name": "stderr",
     "output_type": "stream",
     "text": [
      "t:  83%|█████████████████████████████████████████████████████▊           | 1042/1260 [03:35<00:43,  5.07it/s, now=None]"
     ]
    },
    {
     "name": "stdout",
     "output_type": "stream",
     "text": [
      "4425.624022555976\n",
      "390.08888457047635\n",
      "0.10512888270666902\n",
      "3434.1866708217185\n",
      "854.2028670949275\n",
      "0.1531126535055694\n"
     ]
    },
    {
     "name": "stderr",
     "output_type": "stream",
     "text": [
      "t:  83%|█████████████████████████████████████████████████████▊           | 1044/1260 [03:35<00:42,  5.05it/s, now=None]"
     ]
    },
    {
     "name": "stdout",
     "output_type": "stream",
     "text": [
      "2244.6849752200847\n",
      "913.9282834987195\n",
      "0.1880957755416788\n",
      "483.3266833229405\n",
      "1027.585319040424\n",
      "0.10108532429048543\n"
     ]
    },
    {
     "name": "stderr",
     "output_type": "stream",
     "text": [
      "t:  83%|█████████████████████████████████████████████████████▉           | 1046/1260 [03:35<00:39,  5.41it/s, now=None]"
     ]
    },
    {
     "name": "stdout",
     "output_type": "stream",
     "text": [
      "433.13057315220937\n",
      "899.2123058102508\n",
      "0.09657648535585567\n",
      "391.396651245674\n",
      "932.3920929341567\n",
      "0.06363985550956919\n"
     ]
    },
    {
     "name": "stderr",
     "output_type": "stream",
     "text": [
      "\r",
      "t:  83%|██████████████████████████████████████████████████████           | 1047/1260 [03:36<00:40,  5.26it/s, now=None]"
     ]
    },
    {
     "name": "stdout",
     "output_type": "stream",
     "text": [
      "358.4501878517318\n",
      "970.1504948449362\n",
      "0.09174242658464109\n"
     ]
    },
    {
     "name": "stderr",
     "output_type": "stream",
     "text": [
      "\r",
      "t:  83%|██████████████████████████████████████████████████████           | 1048/1260 [03:36<00:41,  5.12it/s, now=None]"
     ]
    },
    {
     "name": "stdout",
     "output_type": "stream",
     "text": [
      "455.5788618282873\n",
      "558.0418296332247\n",
      "0.03469358374821625\n",
      "449.1815068919035\n",
      "412.6279774531031\n",
      "-0.020155644059221656\n"
     ]
    },
    {
     "name": "stderr",
     "output_type": "stream",
     "text": [
      "t:  83%|██████████████████████████████████████████████████████▏          | 1051/1260 [03:36<00:37,  5.55it/s, now=None]"
     ]
    },
    {
     "name": "stdout",
     "output_type": "stream",
     "text": [
      "654.0802330500217\n",
      "427.9757298968735\n",
      "0.042532704605581784\n",
      "567.7456758477875\n",
      "447.09835332307637\n",
      "0.058670886601951716\n"
     ]
    },
    {
     "name": "stderr",
     "output_type": "stream",
     "text": [
      "t:  84%|██████████████████████████████████████████████████████▎          | 1053/1260 [03:37<00:37,  5.55it/s, now=None]"
     ]
    },
    {
     "name": "stdout",
     "output_type": "stream",
     "text": [
      "794.8951848464851\n",
      "796.7849474439612\n",
      "0.1723475697919593\n",
      "821.5266019313719\n",
      "790.3860635231965\n",
      "0.1725248043993969\n"
     ]
    },
    {
     "name": "stderr",
     "output_type": "stream",
     "text": [
      "\r",
      "t:  84%|██████████████████████████████████████████████████████▎          | 1054/1260 [03:37<00:38,  5.41it/s, now=None]"
     ]
    },
    {
     "name": "stdout",
     "output_type": "stream",
     "text": [
      "1057.5796105759257\n",
      "1051.1909879641157\n",
      "0.1992094708715494\n"
     ]
    },
    {
     "name": "stderr",
     "output_type": "stream",
     "text": [
      "\r",
      "t:  84%|██████████████████████████████████████████████████████▍          | 1055/1260 [03:37<00:40,  5.07it/s, now=None]"
     ]
    },
    {
     "name": "stdout",
     "output_type": "stream",
     "text": [
      "1540.0585751430797\n",
      "1260.4641444625345\n",
      "0.20808851836502368\n"
     ]
    },
    {
     "name": "stderr",
     "output_type": "stream",
     "text": [
      "\r",
      "t:  84%|██████████████████████████████████████████████████████▍          | 1056/1260 [03:37<00:40,  5.03it/s, now=None]"
     ]
    },
    {
     "name": "stdout",
     "output_type": "stream",
     "text": [
      "3293.702348352099\n",
      "1768.4958321993972\n",
      "0.2047825730681233\n"
     ]
    },
    {
     "name": "stderr",
     "output_type": "stream",
     "text": [
      "\r",
      "t:  84%|██████████████████████████████████████████████████████▌          | 1057/1260 [03:38<00:43,  4.69it/s, now=None]"
     ]
    },
    {
     "name": "stdout",
     "output_type": "stream",
     "text": [
      "2473.340001720792\n",
      "1741.5577669581967\n",
      "0.18700054967898747\n"
     ]
    },
    {
     "name": "stderr",
     "output_type": "stream",
     "text": [
      "\r",
      "t:  84%|██████████████████████████████████████████████████████▌          | 1058/1260 [03:38<00:44,  4.56it/s, now=None]"
     ]
    },
    {
     "name": "stdout",
     "output_type": "stream",
     "text": [
      "1898.9664204695127\n",
      "1262.598899925672\n",
      "0.16728512289303468\n"
     ]
    },
    {
     "name": "stderr",
     "output_type": "stream",
     "text": [
      "\r",
      "t:  84%|██████████████████████████████████████████████████████▋          | 1059/1260 [03:38<00:44,  4.48it/s, now=None]"
     ]
    },
    {
     "name": "stdout",
     "output_type": "stream",
     "text": [
      "1622.850614058924\n",
      "1101.1624625744514\n",
      "0.14878988426786538\n",
      "1807.6281835175507\n",
      "930.9286647913513\n",
      "0.12855344453208026\n"
     ]
    },
    {
     "name": "stderr",
     "output_type": "stream",
     "text": [
      "\r",
      "t:  84%|██████████████████████████████████████████████████████▋          | 1060/1260 [03:38<00:43,  4.63it/s, now=None]"
     ]
    },
    {
     "name": "stdout",
     "output_type": "stream",
     "text": [
      "1164.4370280384828\n",
      "613.5242897366315\n",
      "0.06958824196685667\n"
     ]
    },
    {
     "name": "stderr",
     "output_type": "stream",
     "text": [
      "t:  84%|██████████████████████████████████████████████████████▊          | 1062/1260 [03:39<00:42,  4.69it/s, now=None]"
     ]
    },
    {
     "name": "stdout",
     "output_type": "stream",
     "text": [
      "1259.2654973209414\n",
      "510.29919770053596\n",
      "0.052533162150186545\n",
      "1034.7430628603859\n",
      "475.5997247220285\n",
      "0.02756283199702297\n"
     ]
    },
    {
     "name": "stderr",
     "output_type": "stream",
     "text": [
      "t:  85%|██████████████████████████████████████████████████████▉          | 1065/1260 [03:39<00:36,  5.28it/s, now=None]"
     ]
    },
    {
     "name": "stdout",
     "output_type": "stream",
     "text": [
      "1134.6972650600549\n",
      "580.1666712692329\n",
      "0.026681108878269747\n",
      "1194.660730735572\n",
      "605.4290347360114\n",
      "0.020671861120750076\n"
     ]
    },
    {
     "name": "stderr",
     "output_type": "stream",
     "text": [
      "\r",
      "t:  85%|██████████████████████████████████████████████████████▉          | 1066/1260 [03:39<00:36,  5.26it/s, now=None]"
     ]
    },
    {
     "name": "stdout",
     "output_type": "stream",
     "text": [
      "1297.536009959111\n",
      "711.6447595151151\n",
      "0.024433918143216556\n"
     ]
    },
    {
     "name": "stderr",
     "output_type": "stream",
     "text": [
      "\r",
      "t:  85%|███████████████████████████████████████████████████████          | 1067/1260 [03:40<00:39,  4.92it/s, now=None]"
     ]
    },
    {
     "name": "stdout",
     "output_type": "stream",
     "text": [
      "1368.5119954065942\n",
      "835.2056820608566\n",
      "0.030038476029911002\n",
      "1543.7386682508863\n",
      "708.7536983848977\n",
      "0.026311310993535536\n"
     ]
    },
    {
     "name": "stderr",
     "output_type": "stream",
     "text": [
      "t:  85%|███████████████████████████████████████████████████████▏         | 1070/1260 [03:40<00:35,  5.29it/s, now=None]"
     ]
    },
    {
     "name": "stdout",
     "output_type": "stream",
     "text": [
      "1759.90964940657\n",
      "598.0284053659209\n",
      "0.02176427730523465\n",
      "2066.823483488064\n",
      "745.7367583145016\n",
      "0.02725398146371973\n"
     ]
    },
    {
     "name": "stderr",
     "output_type": "stream",
     "text": [
      "\r",
      "t:  85%|███████████████████████████████████████████████████████▎         | 1071/1260 [03:40<00:36,  5.11it/s, now=None]"
     ]
    },
    {
     "name": "stdout",
     "output_type": "stream",
     "text": [
      "2386.062134368027\n",
      "995.6869716238525\n",
      "0.031045414856740536\n"
     ]
    },
    {
     "name": "stderr",
     "output_type": "stream",
     "text": [
      "\r",
      "t:  85%|███████████████████████████████████████████████████████▎         | 1072/1260 [03:41<00:41,  4.57it/s, now=None]"
     ]
    },
    {
     "name": "stdout",
     "output_type": "stream",
     "text": [
      "4184.840913825688\n",
      "994.8465817140471\n",
      "0.033545181515674455\n",
      "5081.187413925379\n",
      "1434.2488026833375\n",
      "0.0629871831845316\n"
     ]
    },
    {
     "name": "stderr",
     "output_type": "stream",
     "text": [
      "t:  85%|███████████████████████████████████████████████████████▍         | 1075/1260 [03:41<00:35,  5.27it/s, now=None]"
     ]
    },
    {
     "name": "stdout",
     "output_type": "stream",
     "text": [
      "14689.894061464782\n",
      "1010.7975945603583\n",
      "0.033932374789199846\n",
      "5443.623622505824\n",
      "962.5647440295957\n",
      "0.021335153846775808\n"
     ]
    },
    {
     "name": "stderr",
     "output_type": "stream",
     "text": [
      "\r",
      "t:  85%|███████████████████████████████████████████████████████▌         | 1076/1260 [03:41<00:36,  5.09it/s, now=None]"
     ]
    },
    {
     "name": "stdout",
     "output_type": "stream",
     "text": [
      "3224.184389768617\n",
      "860.6933425528348\n",
      "0.008250681576667262\n"
     ]
    },
    {
     "name": "stderr",
     "output_type": "stream",
     "text": [
      "\r",
      "t:  85%|███████████████████████████████████████████████████████▌         | 1077/1260 [03:42<00:37,  4.86it/s, now=None]"
     ]
    },
    {
     "name": "stdout",
     "output_type": "stream",
     "text": [
      "3182.2418609302317\n",
      "994.6218618179751\n",
      "0.0073758419372830985\n",
      "1607.0546781524913\n",
      "922.586707924062\n",
      "-0.007938724734440631\n"
     ]
    },
    {
     "name": "stderr",
     "output_type": "stream",
     "text": [
      "t:  86%|███████████████████████████████████████████████████████▋         | 1079/1260 [03:42<00:35,  5.05it/s, now=None]"
     ]
    },
    {
     "name": "stdout",
     "output_type": "stream",
     "text": [
      "2290.640436719028\n",
      "855.7888867416144\n",
      "-0.01949146769585837\n"
     ]
    },
    {
     "name": "stderr",
     "output_type": "stream",
     "text": [
      "t:  86%|███████████████████████████████████████████████████████▊         | 1081/1260 [03:42<00:35,  5.04it/s, now=None]"
     ]
    },
    {
     "name": "stdout",
     "output_type": "stream",
     "text": [
      "1285.7853464886302\n",
      "977.6879545789723\n",
      "-0.029271327285912013\n",
      "1356.9150161895923\n",
      "1096.5079388044564\n",
      "-0.04056860041309116\n"
     ]
    },
    {
     "name": "stderr",
     "output_type": "stream",
     "text": [
      "t:  86%|███████████████████████████████████████████████████████▊         | 1083/1260 [03:43<00:32,  5.46it/s, now=None]"
     ]
    },
    {
     "name": "stdout",
     "output_type": "stream",
     "text": [
      "1465.425317977307\n",
      "920.7345636561798\n",
      "-0.04549666382970241\n",
      "1385.1679042672579\n",
      "1800.3020995228146\n",
      "-0.04551319759914173\n"
     ]
    },
    {
     "name": "stderr",
     "output_type": "stream",
     "text": [
      "\r",
      "t:  86%|███████████████████████████████████████████████████████▉         | 1084/1260 [03:43<00:31,  5.66it/s, now=None]"
     ]
    },
    {
     "name": "stdout",
     "output_type": "stream",
     "text": [
      "1299.9945851361083\n",
      "1363.7858823969673\n",
      "-0.054099667377776335\n"
     ]
    },
    {
     "name": "stderr",
     "output_type": "stream",
     "text": [
      "\r",
      "t:  86%|███████████████████████████████████████████████████████▉         | 1085/1260 [03:43<00:32,  5.35it/s, now=None]"
     ]
    },
    {
     "name": "stdout",
     "output_type": "stream",
     "text": [
      "1442.6169662400525\n",
      "1082.4074795791935\n",
      "-0.06979639545515258\n"
     ]
    },
    {
     "name": "stderr",
     "output_type": "stream",
     "text": [
      "\r",
      "t:  86%|████████████████████████████████████████████████████████         | 1086/1260 [03:43<00:33,  5.13it/s, now=None]"
     ]
    },
    {
     "name": "stdout",
     "output_type": "stream",
     "text": [
      "1479.7770071701052\n",
      "1001.8312164236703\n",
      "-0.07252315711790969\n",
      "1548.7107959320874\n",
      "911.1597101091861\n",
      "-0.07982057922326088\n"
     ]
    },
    {
     "name": "stderr",
     "output_type": "stream",
     "text": [
      "t:  86%|████████████████████████████████████████████████████████▏        | 1088/1260 [03:44<00:34,  4.92it/s, now=None]"
     ]
    },
    {
     "name": "stdout",
     "output_type": "stream",
     "text": [
      "1621.9952376612164\n",
      "876.1658771257909\n",
      "-0.07632146567086315\n",
      "1231.8154142974176\n",
      "657.6031861438653\n",
      "-0.09294723337040597\n"
     ]
    },
    {
     "name": "stderr",
     "output_type": "stream",
     "text": [
      "t:  87%|████████████████████████████████████████████████████████▏        | 1090/1260 [03:44<00:33,  5.11it/s, now=None]"
     ]
    },
    {
     "name": "stdout",
     "output_type": "stream",
     "text": [
      "1258.6569121997\n",
      "948.4450920940798\n",
      "-0.07483625171360334\n",
      "1058.103397890298\n",
      "668.428255021116\n",
      "-0.08466983035650803\n"
     ]
    },
    {
     "name": "stderr",
     "output_type": "stream",
     "text": [
      "t:  87%|████████████████████████████████████████████████████████▎        | 1092/1260 [03:45<00:32,  5.24it/s, now=None]"
     ]
    },
    {
     "name": "stdout",
     "output_type": "stream",
     "text": [
      "1280.989062791724\n",
      "699.1715567921177\n",
      "-0.07548015539583139\n",
      "1254.1362346864253\n",
      "665.2589499211545\n",
      "-0.07824315060658481\n"
     ]
    },
    {
     "name": "stderr",
     "output_type": "stream",
     "text": [
      "t:  87%|████████████████████████████████████████████████████████▍        | 1095/1260 [03:45<00:30,  5.45it/s, now=None]"
     ]
    },
    {
     "name": "stdout",
     "output_type": "stream",
     "text": [
      "1338.0977927636845\n",
      "1015.166209399262\n",
      "-0.0762942104533908\n",
      "1499.356835523611\n",
      "1113.975526621339\n",
      "-0.07323220397390896\n"
     ]
    },
    {
     "name": "stderr",
     "output_type": "stream",
     "text": [
      "\r",
      "t:  87%|████████████████████████████████████████████████████████▌        | 1096/1260 [03:45<00:31,  5.25it/s, now=None]"
     ]
    },
    {
     "name": "stdout",
     "output_type": "stream",
     "text": [
      "2009.6537413509425\n",
      "1062.2874386656356\n",
      "-0.05803457930266249\n",
      "2293.2012651535833\n",
      "1116.780188212991\n",
      "-0.05260988259040528\n"
     ]
    },
    {
     "name": "stderr",
     "output_type": "stream",
     "text": [
      "t:  87%|████████████████████████████████████████████████████████▋        | 1099/1260 [03:46<00:29,  5.44it/s, now=None]"
     ]
    },
    {
     "name": "stdout",
     "output_type": "stream",
     "text": [
      "3118.9346777261526\n",
      "905.3748973601987\n",
      "-0.06232128863997374\n",
      "2554.356531865557\n",
      "824.9129246889424\n",
      "-0.0687521275739732\n"
     ]
    },
    {
     "name": "stderr",
     "output_type": "stream",
     "text": [
      "\r",
      "t:  87%|████████████████████████████████████████████████████████▋        | 1100/1260 [03:46<00:32,  4.87it/s, now=None]"
     ]
    },
    {
     "name": "stdout",
     "output_type": "stream",
     "text": [
      "3850.9078513104446\n",
      "978.0496042630073\n",
      "-0.06399120279374564\n"
     ]
    },
    {
     "name": "stderr",
     "output_type": "stream",
     "text": [
      "t:  87%|████████████████████████████████████████████████████████▊        | 1102/1260 [03:46<00:30,  5.15it/s, now=None]"
     ]
    },
    {
     "name": "stdout",
     "output_type": "stream",
     "text": [
      "2849.8535469559774\n",
      "2255.4957294445458\n",
      "-0.05617816968851017\n",
      "4802.055501286426\n",
      "1461.6335216967807\n",
      "-0.07088060294341046\n"
     ]
    },
    {
     "name": "stderr",
     "output_type": "stream",
     "text": [
      "t:  88%|████████████████████████████████████████████████████████▉        | 1104/1260 [03:47<00:28,  5.42it/s, now=None]"
     ]
    },
    {
     "name": "stdout",
     "output_type": "stream",
     "text": [
      "6090.674163992773\n",
      "1631.4279104220727\n",
      "-0.08443554062191262\n",
      "14445.346262867406\n",
      "1610.075643529867\n",
      "-0.09266125207037706\n"
     ]
    },
    {
     "name": "stderr",
     "output_type": "stream",
     "text": [
      "\r",
      "t:  88%|█████████████████████████████████████████████████████████        | 1105/1260 [03:47<00:28,  5.45it/s, now=None]"
     ]
    },
    {
     "name": "stdout",
     "output_type": "stream",
     "text": [
      "5790.424042110292\n",
      "1616.272558028638\n",
      "-0.10545421898335762\n"
     ]
    },
    {
     "name": "stderr",
     "output_type": "stream",
     "text": [
      "\r",
      "t:  88%|█████████████████████████████████████████████████████████        | 1106/1260 [03:47<00:30,  5.13it/s, now=None]"
     ]
    },
    {
     "name": "stdout",
     "output_type": "stream",
     "text": [
      "3693.3870618825367\n",
      "5167.241321089097\n",
      "-0.11707062973057028\n",
      "2249.0282699423506\n",
      "1630.6055609314667\n",
      "-0.1383668125290473\n"
     ]
    },
    {
     "name": "stderr",
     "output_type": "stream",
     "text": [
      "t:  88%|█████████████████████████████████████████████████████████▏       | 1109/1260 [03:48<00:26,  5.60it/s, now=None]"
     ]
    },
    {
     "name": "stdout",
     "output_type": "stream",
     "text": [
      "2075.6589053219027\n",
      "1317.6947741459192\n",
      "-0.16393139151666142\n",
      "1179.6935416063238\n",
      "858.9244473076083\n",
      "-0.1916089954595768\n"
     ]
    },
    {
     "name": "stderr",
     "output_type": "stream",
     "text": [
      "t:  88%|█████████████████████████████████████████████████████████▎       | 1111/1260 [03:48<00:26,  5.54it/s, now=None]"
     ]
    },
    {
     "name": "stdout",
     "output_type": "stream",
     "text": [
      "1098.0221717538961\n",
      "763.1264714094107\n",
      "-0.2029443625495948\n",
      "1180.4165305964107\n",
      "746.8325202822434\n",
      "-0.18845094741514534\n"
     ]
    },
    {
     "name": "stderr",
     "output_type": "stream",
     "text": [
      "\r",
      "t:  88%|█████████████████████████████████████████████████████████▎       | 1112/1260 [03:48<00:30,  4.83it/s, now=None]"
     ]
    },
    {
     "name": "stdout",
     "output_type": "stream",
     "text": [
      "1026.1928638966428\n",
      "603.6471319988433\n",
      "-0.18838552294852343\n"
     ]
    },
    {
     "name": "stderr",
     "output_type": "stream",
     "text": [
      "\r",
      "t:  88%|█████████████████████████████████████████████████████████▍       | 1113/1260 [03:49<00:31,  4.66it/s, now=None]"
     ]
    },
    {
     "name": "stdout",
     "output_type": "stream",
     "text": [
      "1221.0810033154446\n",
      "678.3262185544484\n",
      "-0.16533762047847186\n"
     ]
    },
    {
     "name": "stderr",
     "output_type": "stream",
     "text": [
      "\r",
      "t:  88%|█████████████████████████████████████████████████████████▍       | 1114/1260 [03:49<00:31,  4.64it/s, now=None]"
     ]
    },
    {
     "name": "stdout",
     "output_type": "stream",
     "text": [
      "1442.6481857391823\n",
      "536.9100637707247\n",
      "-0.15732169138657978\n",
      "1720.8703144642936\n",
      "533.6553516947208\n",
      "-0.14120386186368614\n"
     ]
    },
    {
     "name": "stderr",
     "output_type": "stream",
     "text": [
      "t:  89%|█████████████████████████████████████████████████████████▌       | 1117/1260 [03:49<00:27,  5.11it/s, now=None]"
     ]
    },
    {
     "name": "stdout",
     "output_type": "stream",
     "text": [
      "1870.0889857318032\n",
      "544.698548835184\n",
      "-0.13274538478344705\n",
      "2504.887259416885\n",
      "660.7997946946267\n",
      "-0.11799658284210507\n"
     ]
    },
    {
     "name": "stderr",
     "output_type": "stream",
     "text": [
      "t:  89%|█████████████████████████████████████████████████████████▋       | 1119/1260 [03:50<00:26,  5.41it/s, now=None]"
     ]
    },
    {
     "name": "stdout",
     "output_type": "stream",
     "text": [
      "2890.7842127647323\n",
      "625.3090176908569\n",
      "-0.10902022197185694\n",
      "3101.767494716436\n",
      "678.8252248136089\n",
      "-0.09187183791007192\n"
     ]
    },
    {
     "name": "stderr",
     "output_type": "stream",
     "text": [
      "t:  89%|█████████████████████████████████████████████████████████▊       | 1121/1260 [03:50<00:25,  5.39it/s, now=None]"
     ]
    },
    {
     "name": "stdout",
     "output_type": "stream",
     "text": [
      "3364.466192112627\n",
      "594.5684526992961\n",
      "-0.0995314280195165\n",
      "4290.865014705426\n",
      "596.6888972294105\n",
      "-0.09934539501488615\n"
     ]
    },
    {
     "name": "stderr",
     "output_type": "stream",
     "text": [
      "\r",
      "t:  89%|█████████████████████████████████████████████████████████▉       | 1122/1260 [03:50<00:26,  5.14it/s, now=None]"
     ]
    },
    {
     "name": "stdout",
     "output_type": "stream",
     "text": [
      "4645.730138177589\n",
      "581.7296737670453\n",
      "-0.10113309935096203\n"
     ]
    },
    {
     "name": "stderr",
     "output_type": "stream",
     "text": [
      "\r",
      "t:  89%|█████████████████████████████████████████████████████████▉       | 1123/1260 [03:51<00:27,  5.01it/s, now=None]"
     ]
    },
    {
     "name": "stdout",
     "output_type": "stream",
     "text": [
      "3164.7004816972267\n",
      "597.5573122693584\n",
      "-0.10013105174339569\n"
     ]
    },
    {
     "name": "stderr",
     "output_type": "stream",
     "text": [
      "\r",
      "t:  89%|█████████████████████████████████████████████████████████▉       | 1124/1260 [03:51<00:29,  4.64it/s, now=None]"
     ]
    },
    {
     "name": "stdout",
     "output_type": "stream",
     "text": [
      "3619.2534021991223\n",
      "684.8388823256505\n",
      "-0.09164766444551978\n"
     ]
    },
    {
     "name": "stderr",
     "output_type": "stream",
     "text": [
      "t:  89%|██████████████████████████████████████████████████████████       | 1126/1260 [03:51<00:27,  4.96it/s, now=None]"
     ]
    },
    {
     "name": "stdout",
     "output_type": "stream",
     "text": [
      "2884.6499836428093\n",
      "1125.1543909949107\n",
      "-0.07802541865280949\n",
      "3556.2694971372293\n",
      "1047.2999212151624\n",
      "-0.08212842338103342\n"
     ]
    },
    {
     "name": "stderr",
     "output_type": "stream",
     "text": [
      "t:  90%|██████████████████████████████████████████████████████████▏      | 1128/1260 [03:52<00:24,  5.30it/s, now=None]"
     ]
    },
    {
     "name": "stdout",
     "output_type": "stream",
     "text": [
      "1950.241902581221\n",
      "868.6609372498358\n",
      "-0.09311702861947323\n",
      "1480.5600184056887\n",
      "900.1772505636612\n",
      "-0.09380183454851329\n"
     ]
    },
    {
     "name": "stderr",
     "output_type": "stream",
     "text": [
      "\r",
      "t:  90%|██████████████████████████████████████████████████████████▏      | 1129/1260 [03:52<00:24,  5.38it/s, now=None]"
     ]
    },
    {
     "name": "stdout",
     "output_type": "stream",
     "text": [
      "1466.9056088826103\n",
      "1321.3211230114064\n",
      "-0.0881299302021313\n"
     ]
    },
    {
     "name": "stderr",
     "output_type": "stream",
     "text": [
      "\r",
      "t:  90%|██████████████████████████████████████████████████████████▎      | 1130/1260 [03:52<00:24,  5.30it/s, now=None]"
     ]
    },
    {
     "name": "stdout",
     "output_type": "stream",
     "text": [
      "1266.8639595638203\n",
      "1400.3966578012196\n",
      "-0.08102808973918049\n",
      "1174.6690641660816\n",
      "1157.1011238031674\n",
      "-0.08802641618387998\n"
     ]
    },
    {
     "name": "stderr",
     "output_type": "stream",
     "text": [
      "t:  90%|██████████████████████████████████████████████████████████▍      | 1132/1260 [03:52<00:24,  5.24it/s, now=None]"
     ]
    },
    {
     "name": "stdout",
     "output_type": "stream",
     "text": [
      "1075.1273465072013\n",
      "970.2722129347023\n",
      "-0.09689732879075835\n",
      "1068.8150270731558\n",
      "850.8048267977894\n",
      "-0.08932475254267727\n"
     ]
    },
    {
     "name": "stderr",
     "output_type": "stream",
     "text": [
      "t:  90%|██████████████████████████████████████████████████████████▌      | 1135/1260 [03:53<00:23,  5.34it/s, now=None]"
     ]
    },
    {
     "name": "stdout",
     "output_type": "stream",
     "text": [
      "1171.194012148236\n",
      "829.066557761996\n",
      "-0.08456804397372804\n",
      "1203.7684541339584\n",
      "994.3624777244434\n",
      "-0.06543864645768913\n"
     ]
    },
    {
     "name": "stderr",
     "output_type": "stream",
     "text": [
      "\r",
      "t:  90%|██████████████████████████████████████████████████████████▌      | 1136/1260 [03:53<00:23,  5.34it/s, now=None]"
     ]
    },
    {
     "name": "stdout",
     "output_type": "stream",
     "text": [
      "1503.7149316745167\n",
      "1163.8439945904997\n",
      "-0.05227184955977295\n",
      "2241.5750829750073\n",
      "993.855549192389\n",
      "-0.0474977231652203\n"
     ]
    },
    {
     "name": "stderr",
     "output_type": "stream",
     "text": [
      "t:  90%|██████████████████████████████████████████████████████████▋      | 1138/1260 [03:53<00:22,  5.38it/s, now=None]"
     ]
    },
    {
     "name": "stdout",
     "output_type": "stream",
     "text": [
      "2259.364204833471\n",
      "1269.8279770540275\n",
      "-0.046173276340362224\n",
      "3492.6650352102715\n",
      "1463.8444265548355\n",
      "-0.0423483618970092\n"
     ]
    },
    {
     "name": "stderr",
     "output_type": "stream",
     "text": [
      "t:  90%|██████████████████████████████████████████████████████████▊      | 1140/1260 [03:54<00:23,  5.10it/s, now=None]"
     ]
    },
    {
     "name": "stdout",
     "output_type": "stream",
     "text": [
      "3597.5074828982465\n",
      "1304.5703573114918\n",
      "-0.04399665239988278\n",
      "5340.382512839163\n",
      "1179.8280615249823\n",
      "-0.044773078587523156\n"
     ]
    },
    {
     "name": "stderr",
     "output_type": "stream",
     "text": [
      "t:  91%|██████████████████████████████████████████████████████████▉      | 1142/1260 [03:54<00:22,  5.17it/s, now=None]"
     ]
    },
    {
     "name": "stdout",
     "output_type": "stream",
     "text": [
      "3898.0574522101942\n",
      "1097.4176735447309\n",
      "-0.05457712508006801\n",
      "5607.114655484627\n",
      "866.3387649398886\n",
      "-0.06902922824696613\n"
     ]
    },
    {
     "name": "stderr",
     "output_type": "stream",
     "text": [
      "t:  91%|███████████████████████████████████████████████████████████      | 1144/1260 [03:55<00:21,  5.35it/s, now=None]"
     ]
    },
    {
     "name": "stdout",
     "output_type": "stream",
     "text": [
      "2491.9622638263704\n",
      "757.6241262811443\n",
      "-0.08145420631438031\n",
      "3432.9557029307484\n",
      "837.851851443927\n",
      "-0.07200891818986924\n"
     ]
    },
    {
     "name": "stderr",
     "output_type": "stream",
     "text": [
      "t:  91%|███████████████████████████████████████████████████████████      | 1146/1260 [03:55<00:21,  5.39it/s, now=None]"
     ]
    },
    {
     "name": "stdout",
     "output_type": "stream",
     "text": [
      "3806.3345335918293\n",
      "799.8229100050851\n",
      "-0.07050773043161547\n",
      "2451.114437933352\n",
      "736.0176921000772\n",
      "-0.07984655546784844\n"
     ]
    },
    {
     "name": "stderr",
     "output_type": "stream",
     "text": [
      "t:  91%|███████████████████████████████████████████████████████████▏     | 1148/1260 [03:55<00:20,  5.42it/s, now=None]"
     ]
    },
    {
     "name": "stdout",
     "output_type": "stream",
     "text": [
      "2869.216959843859\n",
      "678.9952535716725\n",
      "-0.07884334451112468\n",
      "2722.8905790395024\n",
      "742.4585165123331\n",
      "-0.07258400338786088\n"
     ]
    },
    {
     "name": "stderr",
     "output_type": "stream",
     "text": [
      "t:  91%|███████████████████████████████████████████████████████████▍     | 1151/1260 [03:56<00:19,  5.57it/s, now=None]"
     ]
    },
    {
     "name": "stdout",
     "output_type": "stream",
     "text": [
      "2150.080485477649\n",
      "704.5536239801463\n",
      "-0.07983910850623936\n",
      "2210.652416095924\n",
      "1109.835680037387\n",
      "-0.06989035442548354\n"
     ]
    },
    {
     "name": "stderr",
     "output_type": "stream",
     "text": [
      "t:  92%|███████████████████████████████████████████████████████████▍     | 1153/1260 [03:56<00:19,  5.45it/s, now=None]"
     ]
    },
    {
     "name": "stdout",
     "output_type": "stream",
     "text": [
      "2983.251245956153\n",
      "1027.6025305866933\n",
      "-0.06375009039052915\n",
      "2832.3451953188\n",
      "1273.2136796582975\n",
      "-0.043020941260470964\n"
     ]
    },
    {
     "name": "stderr",
     "output_type": "stream",
     "text": [
      "\r",
      "t:  92%|███████████████████████████████████████████████████████████▌     | 1154/1260 [03:56<00:21,  4.89it/s, now=None]"
     ]
    },
    {
     "name": "stdout",
     "output_type": "stream",
     "text": [
      "2957.644432989401\n",
      "763.0365352503968\n",
      "-0.07345498091290817\n",
      "3046.928513686277\n",
      "780.7295918137478\n",
      "-0.07207460267273642\n"
     ]
    },
    {
     "name": "stderr",
     "output_type": "stream",
     "text": [
      "t:  92%|███████████████████████████████████████████████████████████▋     | 1157/1260 [03:57<00:19,  5.23it/s, now=None]"
     ]
    },
    {
     "name": "stdout",
     "output_type": "stream",
     "text": [
      "2581.6072226696797\n",
      "726.1990527353594\n",
      "-0.07070427655858953\n",
      "1960.8613277886682\n",
      "624.4220525389766\n",
      "-0.07756009872918333\n"
     ]
    },
    {
     "name": "stderr",
     "output_type": "stream",
     "text": [
      "\r",
      "t:  92%|███████████████████████████████████████████████████████████▋     | 1158/1260 [03:57<00:20,  5.09it/s, now=None]"
     ]
    },
    {
     "name": "stdout",
     "output_type": "stream",
     "text": [
      "2469.391171981449\n",
      "745.2858686417959\n",
      "-0.06547264608098938\n"
     ]
    },
    {
     "name": "stderr",
     "output_type": "stream",
     "text": [
      "\r",
      "t:  92%|███████████████████████████████████████████████████████████▊     | 1159/1260 [03:57<00:21,  4.64it/s, now=None]"
     ]
    },
    {
     "name": "stdout",
     "output_type": "stream",
     "text": [
      "1537.6197000997358\n",
      "1197.7256672618594\n",
      "-0.05396922362764893\n",
      "1208.039517250534\n",
      "864.8658667127921\n",
      "-0.06342964687790832\n"
     ]
    },
    {
     "name": "stderr",
     "output_type": "stream",
     "text": [
      "t:  92%|███████████████████████████████████████████████████████████▉     | 1161/1260 [03:58<00:19,  4.95it/s, now=None]"
     ]
    },
    {
     "name": "stdout",
     "output_type": "stream",
     "text": [
      "965.6170189856192\n",
      "758.9477647854226\n",
      "-0.06397660562436701\n"
     ]
    },
    {
     "name": "stderr",
     "output_type": "stream",
     "text": [
      "\r",
      "t:  92%|███████████████████████████████████████████████████████████▉     | 1162/1260 [03:58<00:21,  4.48it/s, now=None]"
     ]
    },
    {
     "name": "stdout",
     "output_type": "stream",
     "text": [
      "917.5900743296679\n",
      "926.0387578393636\n",
      "-0.055264372765693015\n"
     ]
    },
    {
     "name": "stderr",
     "output_type": "stream",
     "text": [
      "\r",
      "t:  92%|███████████████████████████████████████████████████████████▉     | 1163/1260 [03:58<00:21,  4.50it/s, now=None]"
     ]
    },
    {
     "name": "stdout",
     "output_type": "stream",
     "text": [
      "969.1372837958627\n",
      "954.0386561986605\n",
      "-0.05101332493522393\n"
     ]
    },
    {
     "name": "stderr",
     "output_type": "stream",
     "text": [
      "\r",
      "t:  92%|████████████████████████████████████████████████████████████     | 1164/1260 [03:59<00:20,  4.59it/s, now=None]"
     ]
    },
    {
     "name": "stdout",
     "output_type": "stream",
     "text": [
      "821.3896142472777\n",
      "725.2248766612674\n",
      "-0.06560625648656963\n"
     ]
    },
    {
     "name": "stderr",
     "output_type": "stream",
     "text": [
      "\r",
      "t:  92%|████████████████████████████████████████████████████████████     | 1165/1260 [03:59<00:20,  4.65it/s, now=None]"
     ]
    },
    {
     "name": "stdout",
     "output_type": "stream",
     "text": [
      "851.5104371100729\n",
      "665.3994577973519\n",
      "-0.061539177375209225\n",
      "834.9153394404098\n",
      "678.6344321454957\n",
      "-0.058843086918233166\n"
     ]
    },
    {
     "name": "stderr",
     "output_type": "stream",
     "text": [
      "t:  93%|████████████████████████████████████████████████████████████▏    | 1167/1260 [03:59<00:19,  4.83it/s, now=None]"
     ]
    },
    {
     "name": "stdout",
     "output_type": "stream",
     "text": [
      "894.2885041693004\n",
      "635.727049994786\n",
      "-0.05311703642842154\n"
     ]
    },
    {
     "name": "stderr",
     "output_type": "stream",
     "text": [
      "\r",
      "t:  93%|████████████████████████████████████████████████████████████▎    | 1168/1260 [03:59<00:19,  4.74it/s, now=None]"
     ]
    },
    {
     "name": "stdout",
     "output_type": "stream",
     "text": [
      "892.8564004223564\n",
      "595.9638719396088\n",
      "-0.049457580521623565\n"
     ]
    },
    {
     "name": "stderr",
     "output_type": "stream",
     "text": [
      "\r",
      "t:  93%|████████████████████████████████████████████████████████████▎    | 1169/1260 [04:00<00:18,  4.87it/s, now=None]"
     ]
    },
    {
     "name": "stdout",
     "output_type": "stream",
     "text": [
      "903.6900548381785\n",
      "564.159060249622\n",
      "-0.04328062681709813\n",
      "1108.4311755428955\n",
      "654.9875197739234\n",
      "-0.020385217063571614\n"
     ]
    },
    {
     "name": "stderr",
     "output_type": "stream",
     "text": [
      "t:  93%|████████████████████████████████████████████████████████████▍    | 1171/1260 [04:00<00:21,  4.21it/s, now=None]"
     ]
    },
    {
     "name": "stdout",
     "output_type": "stream",
     "text": [
      "1331.776870939137\n",
      "655.4146535548075\n",
      "-0.017844623598916153\n"
     ]
    },
    {
     "name": "stderr",
     "output_type": "stream",
     "text": [
      "\r",
      "t:  93%|████████████████████████████████████████████████████████████▍    | 1172/1260 [04:00<00:19,  4.43it/s, now=None]"
     ]
    },
    {
     "name": "stdout",
     "output_type": "stream",
     "text": [
      "1395.9197352937979\n",
      "642.0616289597039\n",
      "-0.012167450549916567\n",
      "1953.6605113452356\n",
      "924.5872998450005\n",
      "-0.002830981844012318\n"
     ]
    },
    {
     "name": "stderr",
     "output_type": "stream",
     "text": [
      "t:  93%|████████████████████████████████████████████████████████████▌    | 1174/1260 [04:01<00:17,  4.88it/s, now=None]"
     ]
    },
    {
     "name": "stdout",
     "output_type": "stream",
     "text": [
      "2211.7896439918322\n",
      "977.2683600378781\n",
      "-0.004169044417526883\n",
      "2392.677183209244\n",
      "1095.755253347828\n",
      "0.007994960303115963\n"
     ]
    },
    {
     "name": "stderr",
     "output_type": "stream",
     "text": [
      "t:  93%|████████████████████████████████████████████████████████████▋    | 1176/1260 [04:01<00:16,  4.95it/s, now=None]"
     ]
    },
    {
     "name": "stdout",
     "output_type": "stream",
     "text": [
      "2465.186614998857\n",
      "1237.2556645004672\n",
      "0.00977036951781302\n",
      "2871.5613714503784\n",
      "1020.0684439331345\n",
      "-0.01197001256831527\n"
     ]
    },
    {
     "name": "stderr",
     "output_type": "stream",
     "text": [
      "t:  94%|████████████████████████████████████████████████████████████▊    | 1179/1260 [04:02<00:15,  5.30it/s, now=None]"
     ]
    },
    {
     "name": "stdout",
     "output_type": "stream",
     "text": [
      "3058.0974798843513\n",
      "1059.7582665308018\n",
      "-0.017953209084072896\n",
      "3456.8163941702555\n",
      "910.9390417859519\n",
      "-0.03677845712904235\n"
     ]
    },
    {
     "name": "stderr",
     "output_type": "stream",
     "text": [
      "\r",
      "t:  94%|████████████████████████████████████████████████████████████▊    | 1180/1260 [04:02<00:15,  5.21it/s, now=None]"
     ]
    },
    {
     "name": "stdout",
     "output_type": "stream",
     "text": [
      "2773.0755090428074\n",
      "1485.3459099343174\n",
      "-0.02831739684406807\n",
      "3510.417016767281\n",
      "935.7624616997008\n",
      "-0.04565946349834583\n"
     ]
    },
    {
     "name": "stderr",
     "output_type": "stream",
     "text": [
      "t:  94%|████████████████████████████████████████████████████████████▉    | 1182/1260 [04:02<00:14,  5.31it/s, now=None]"
     ]
    },
    {
     "name": "stdout",
     "output_type": "stream",
     "text": [
      "4495.863128381965\n",
      "1046.2029901038395\n",
      "-0.05457575365583213\n"
     ]
    },
    {
     "name": "stderr",
     "output_type": "stream",
     "text": [
      "\r",
      "t:  94%|█████████████████████████████████████████████████████████████    | 1183/1260 [04:02<00:15,  5.10it/s, now=None]"
     ]
    },
    {
     "name": "stdout",
     "output_type": "stream",
     "text": [
      "3301.029804554729\n",
      "966.2307730326708\n",
      "-0.06936143490546998\n"
     ]
    },
    {
     "name": "stderr",
     "output_type": "stream",
     "text": [
      "\r",
      "t:  94%|█████████████████████████████████████████████████████████████    | 1184/1260 [04:03<00:15,  4.93it/s, now=None]"
     ]
    },
    {
     "name": "stdout",
     "output_type": "stream",
     "text": [
      "3550.036277946762\n",
      "1017.0817860780323\n",
      "-0.08015630275421476\n",
      "3329.099034926078\n",
      "1104.082629424736\n",
      "-0.09147467923738756\n"
     ]
    },
    {
     "name": "stderr",
     "output_type": "stream",
     "text": [
      "t:  94%|█████████████████████████████████████████████████████████████▏   | 1186/1260 [04:03<00:15,  4.91it/s, now=None]"
     ]
    },
    {
     "name": "stdout",
     "output_type": "stream",
     "text": [
      "3040.541831994117\n",
      "898.3896490754505\n",
      "-0.10852124013918174\n",
      "3653.0937764758587\n",
      "807.2999768055222\n",
      "-0.13041422881575532\n"
     ]
    },
    {
     "name": "stderr",
     "output_type": "stream",
     "text": [
      "t:  94%|█████████████████████████████████████████████████████████████▎   | 1188/1260 [04:03<00:16,  4.42it/s, now=None]"
     ]
    },
    {
     "name": "stdout",
     "output_type": "stream",
     "text": [
      "2173.246059933602\n",
      "708.1680739074216\n",
      "-0.14633205880001482\n"
     ]
    },
    {
     "name": "stderr",
     "output_type": "stream",
     "text": [
      "\r",
      "t:  94%|█████████████████████████████████████████████████████████████▎   | 1189/1260 [04:04<00:16,  4.39it/s, now=None]"
     ]
    },
    {
     "name": "stdout",
     "output_type": "stream",
     "text": [
      "1652.0566394113584\n",
      "621.1562298418572\n",
      "-0.1585915455383741\n",
      "1583.0236288971025\n",
      "621.8839237819645\n",
      "-0.15637170120012928\n"
     ]
    },
    {
     "name": "stderr",
     "output_type": "stream",
     "text": [
      "t:  95%|█████████████████████████████████████████████████████████████▍   | 1191/1260 [04:04<00:14,  4.68it/s, now=None]"
     ]
    },
    {
     "name": "stdout",
     "output_type": "stream",
     "text": [
      "1185.9840937611334\n",
      "736.6336936300702\n",
      "-0.14705657120477236\n",
      "1040.503577878325\n",
      "924.2290434179927\n",
      "-0.13895604950670698\n"
     ]
    },
    {
     "name": "stderr",
     "output_type": "stream",
     "text": [
      "t:  95%|█████████████████████████████████████████████████████████████▌   | 1193/1260 [04:05<00:13,  4.97it/s, now=None]"
     ]
    },
    {
     "name": "stdout",
     "output_type": "stream",
     "text": [
      "974.0522262881517\n",
      "849.4172948994254\n",
      "-0.1417546283621991\n",
      "1021.1384919775542\n",
      "983.4794631656999\n",
      "-0.1375162306214646\n"
     ]
    },
    {
     "name": "stderr",
     "output_type": "stream",
     "text": [
      "t:  95%|█████████████████████████████████████████████████████████████▋   | 1195/1260 [04:05<00:13,  4.77it/s, now=None]"
     ]
    },
    {
     "name": "stdout",
     "output_type": "stream",
     "text": [
      "1021.5985718458109\n",
      "1182.8064443001138\n",
      "-0.13656411253186995\n"
     ]
    },
    {
     "name": "stderr",
     "output_type": "stream",
     "text": [
      "\r",
      "t:  95%|█████████████████████████████████████████████████████████████▋   | 1196/1260 [04:05<00:14,  4.31it/s, now=None]"
     ]
    },
    {
     "name": "stdout",
     "output_type": "stream",
     "text": [
      "1037.8304857207725\n",
      "1049.3548958438525\n",
      "-0.1336497344333432\n"
     ]
    },
    {
     "name": "stderr",
     "output_type": "stream",
     "text": [
      "t:  95%|█████████████████████████████████████████████████████████████▊   | 1198/1260 [04:06<00:13,  4.63it/s, now=None]"
     ]
    },
    {
     "name": "stdout",
     "output_type": "stream",
     "text": [
      "1027.8093585662723\n",
      "966.7463397742561\n",
      "-0.13207907275623804\n",
      "1106.9159637961884\n",
      "900.3457588347732\n",
      "-0.13937997579419542\n"
     ]
    },
    {
     "name": "stderr",
     "output_type": "stream",
     "text": [
      "\r",
      "t:  95%|█████████████████████████████████████████████████████████████▊   | 1199/1260 [04:06<00:14,  4.14it/s, now=None]"
     ]
    },
    {
     "name": "stdout",
     "output_type": "stream",
     "text": [
      "1269.8701270842257\n",
      "807.6440992318014\n",
      "-0.15094156569788436\n",
      "1536.3538373659073\n",
      "879.1884939956607\n",
      "-0.15185184360515258\n"
     ]
    },
    {
     "name": "stderr",
     "output_type": "stream",
     "text": [
      "t:  95%|██████████████████████████████████████████████████████████████   | 1202/1260 [04:06<00:11,  4.91it/s, now=None]"
     ]
    },
    {
     "name": "stdout",
     "output_type": "stream",
     "text": [
      "1649.7920467037238\n",
      "891.1935641629833\n",
      "-0.1543136133396903\n",
      "1627.5160371183229\n",
      "693.1442148032162\n",
      "-0.17114665763171164\n"
     ]
    },
    {
     "name": "stderr",
     "output_type": "stream",
     "text": [
      "\r",
      "t:  95%|██████████████████████████████████████████████████████████████   | 1203/1260 [04:07<00:11,  4.86it/s, now=None]"
     ]
    },
    {
     "name": "stdout",
     "output_type": "stream",
     "text": [
      "1746.7444853448108\n",
      "722.8963591239345\n",
      "-0.1688708160122468\n"
     ]
    },
    {
     "name": "stderr",
     "output_type": "stream",
     "text": [
      "\r",
      "t:  96%|██████████████████████████████████████████████████████████████   | 1204/1260 [04:07<00:12,  4.65it/s, now=None]"
     ]
    },
    {
     "name": "stdout",
     "output_type": "stream",
     "text": [
      "1352.0673766446266\n",
      "820.6346702014359\n",
      "-0.16779174766399046\n"
     ]
    },
    {
     "name": "stderr",
     "output_type": "stream",
     "text": [
      "\r",
      "t:  96%|██████████████████████████████████████████████████████████████▏  | 1205/1260 [04:07<00:12,  4.52it/s, now=None]"
     ]
    },
    {
     "name": "stdout",
     "output_type": "stream",
     "text": [
      "1253.56235485573\n",
      "693.2789410271431\n",
      "-0.17486151397672922\n",
      "1196.2670809243705\n",
      "590.3535164147941\n",
      "-0.1825852484758465\n"
     ]
    },
    {
     "name": "stderr",
     "output_type": "stream",
     "text": [
      "t:  96%|██████████████████████████████████████████████████████████████▎  | 1208/1260 [04:08<00:10,  4.90it/s, now=None]"
     ]
    },
    {
     "name": "stdout",
     "output_type": "stream",
     "text": [
      "985.0340349302813\n",
      "725.0031666062928\n",
      "-0.18559414574651356\n",
      "944.5927166162422\n",
      "680.0201241806869\n",
      "-0.18387251488397205\n"
     ]
    },
    {
     "name": "stderr",
     "output_type": "stream",
     "text": [
      "\r",
      "t:  96%|██████████████████████████████████████████████████████████████▎  | 1209/1260 [04:08<00:10,  5.00it/s, now=None]"
     ]
    },
    {
     "name": "stdout",
     "output_type": "stream",
     "text": [
      "939.9792599684649\n",
      "704.1034038498625\n",
      "-0.1793124981161085\n",
      "844.726249822396\n",
      "500.72473320616507\n",
      "-0.20968825537661906\n"
     ]
    },
    {
     "name": "stderr",
     "output_type": "stream",
     "text": [
      "t:  96%|██████████████████████████████████████████████████████████████▍  | 1211/1260 [04:08<00:09,  5.01it/s, now=None]"
     ]
    },
    {
     "name": "stdout",
     "output_type": "stream",
     "text": [
      "862.597275614089\n",
      "563.6183762367593\n",
      "-0.1933911935441664\n",
      "902.2581923625839\n",
      "519.9385003065734\n",
      "-0.19674289784508858\n"
     ]
    },
    {
     "name": "stderr",
     "output_type": "stream",
     "text": [
      "t:  96%|██████████████████████████████████████████████████████████████▌  | 1213/1260 [04:09<00:10,  4.65it/s, now=None]"
     ]
    },
    {
     "name": "stdout",
     "output_type": "stream",
     "text": [
      "904.5764495184739\n",
      "677.8629653179288\n",
      "-0.1722991273864646\n",
      "972.9187063196288\n",
      "704.9539933374298\n",
      "-0.1782921847756418\n"
     ]
    },
    {
     "name": "stderr",
     "output_type": "stream",
     "text": [
      "t:  96%|██████████████████████████████████████████████████████████████▋  | 1215/1260 [04:09<00:09,  4.98it/s, now=None]"
     ]
    },
    {
     "name": "stdout",
     "output_type": "stream",
     "text": [
      "1033.5392959986132\n",
      "777.6260562019094\n",
      "-0.17641375769412568\n"
     ]
    },
    {
     "name": "stderr",
     "output_type": "stream",
     "text": [
      "\r",
      "t:  97%|██████████████████████████████████████████████████████████████▋  | 1216/1260 [04:09<00:09,  4.77it/s, now=None]"
     ]
    },
    {
     "name": "stdout",
     "output_type": "stream",
     "text": [
      "1021.4186388678519\n",
      "695.4379706215508\n",
      "-0.1765499949712571\n"
     ]
    },
    {
     "name": "stderr",
     "output_type": "stream",
     "text": [
      "t:  97%|██████████████████████████████████████████████████████████████▊  | 1218/1260 [04:10<00:08,  5.02it/s, now=None]"
     ]
    },
    {
     "name": "stdout",
     "output_type": "stream",
     "text": [
      "1256.72614924376\n",
      "669.4633798793385\n",
      "-0.1774075013931882\n",
      "1398.5467604098424\n",
      "1019.5526203529108\n",
      "-0.17184730310541751\n"
     ]
    },
    {
     "name": "stderr",
     "output_type": "stream",
     "text": [
      "\r",
      "t:  97%|██████████████████████████████████████████████████████████████▉  | 1219/1260 [04:10<00:08,  4.57it/s, now=None]"
     ]
    },
    {
     "name": "stdout",
     "output_type": "stream",
     "text": [
      "1567.7735496573605\n",
      "1100.5545133456633\n",
      "-0.17192195821464065\n"
     ]
    },
    {
     "name": "stderr",
     "output_type": "stream",
     "text": [
      "\r",
      "t:  97%|██████████████████████████████████████████████████████████████▉  | 1220/1260 [04:10<00:08,  4.52it/s, now=None]"
     ]
    },
    {
     "name": "stdout",
     "output_type": "stream",
     "text": [
      "1568.0149905819567\n",
      "1148.6096986742718\n",
      "-0.1696455036569562\n"
     ]
    },
    {
     "name": "stderr",
     "output_type": "stream",
     "text": [
      "t:  97%|███████████████████████████████████████████████████████████████  | 1222/1260 [04:11<00:08,  4.72it/s, now=None]"
     ]
    },
    {
     "name": "stdout",
     "output_type": "stream",
     "text": [
      "1623.433734979123\n",
      "896.7190325999849\n",
      "-0.18110790907261623\n",
      "1864.308329805209\n",
      "837.649001504008\n",
      "-0.1972673677420969\n"
     ]
    },
    {
     "name": "stderr",
     "output_type": "stream",
     "text": [
      "\r",
      "t:  97%|███████████████████████████████████████████████████████████████  | 1223/1260 [04:11<00:07,  4.71it/s, now=None]"
     ]
    },
    {
     "name": "stdout",
     "output_type": "stream",
     "text": [
      "1496.5222294982777\n",
      "660.42590083883\n",
      "-0.21917526240664909\n"
     ]
    },
    {
     "name": "stderr",
     "output_type": "stream",
     "text": [
      "\r",
      "t:  97%|███████████████████████████████████████████████████████████████▏ | 1224/1260 [04:11<00:08,  4.37it/s, now=None]"
     ]
    },
    {
     "name": "stdout",
     "output_type": "stream",
     "text": [
      "1976.0186018243542\n",
      "669.6301519964276\n",
      "-0.20804806125793215\n"
     ]
    },
    {
     "name": "stderr",
     "output_type": "stream",
     "text": [
      "t:  97%|███████████████████████████████████████████████████████████████▏ | 1226/1260 [04:12<00:07,  4.73it/s, now=None]"
     ]
    },
    {
     "name": "stdout",
     "output_type": "stream",
     "text": [
      "2256.943647226716\n",
      "749.3034503258908\n",
      "-0.20818911171027787\n",
      "2173.387801187864\n",
      "553.3111590218608\n",
      "-0.22549360340498042\n"
     ]
    },
    {
     "name": "stderr",
     "output_type": "stream",
     "text": [
      "\r",
      "t:  97%|███████████████████████████████████████████████████████████████▎ | 1227/1260 [04:12<00:07,  4.66it/s, now=None]"
     ]
    },
    {
     "name": "stdout",
     "output_type": "stream",
     "text": [
      "2045.7844809611242\n",
      "581.4858637444257\n",
      "-0.2251999586429954\n",
      "3252.782495478598\n",
      "573.2165100582761\n",
      "-0.224232742240077"
     ]
    },
    {
     "name": "stderr",
     "output_type": "stream",
     "text": [
      "\r",
      "t:  97%|███████████████████████████████████████████████████████████████▎ | 1228/1260 [04:12<00:06,  4.84it/s, now=None]"
     ]
    },
    {
     "name": "stdout",
     "output_type": "stream",
     "text": [
      "\n"
     ]
    },
    {
     "name": "stderr",
     "output_type": "stream",
     "text": [
      "\r",
      "t:  98%|███████████████████████████████████████████████████████████████▍ | 1229/1260 [04:12<00:06,  4.69it/s, now=None]"
     ]
    },
    {
     "name": "stdout",
     "output_type": "stream",
     "text": [
      "3131.524202790292\n",
      "688.5462729395556\n",
      "-0.2202910225095443\n"
     ]
    },
    {
     "name": "stderr",
     "output_type": "stream",
     "text": [
      "\r",
      "t:  98%|███████████████████████████████████████████████████████████████▍ | 1230/1260 [04:12<00:06,  4.71it/s, now=None]"
     ]
    },
    {
     "name": "stdout",
     "output_type": "stream",
     "text": [
      "3332.4126368269376\n",
      "552.6543335090028\n",
      "-0.22523614771607095\n"
     ]
    },
    {
     "name": "stderr",
     "output_type": "stream",
     "text": [
      "\r",
      "t:  98%|███████████████████████████████████████████████████████████████▌ | 1231/1260 [04:13<00:06,  4.50it/s, now=None]"
     ]
    },
    {
     "name": "stdout",
     "output_type": "stream",
     "text": [
      "3201.6034549362553\n",
      "1274.6552645719783\n",
      "-0.2105195311833557\n",
      "2065.588325798896\n",
      "1740.7973540418325\n",
      "-0.18683026768513789\n"
     ]
    },
    {
     "name": "stderr",
     "output_type": "stream",
     "text": [
      "t:  98%|███████████████████████████████████████████████████████████████▌ | 1233/1260 [04:13<00:05,  4.91it/s, now=None]"
     ]
    },
    {
     "name": "stdout",
     "output_type": "stream",
     "text": [
      "2635.085384569989\n",
      "1517.361779506551\n",
      "-0.2059278456184107\n",
      "2650.8100391067806\n",
      "914.6608728078006\n",
      "-0.2303583639882985\n"
     ]
    },
    {
     "name": "stderr",
     "output_type": "stream",
     "text": [
      "t:  98%|███████████████████████████████████████████████████████████████▋ | 1235/1260 [04:13<00:05,  4.66it/s, now=None]"
     ]
    },
    {
     "name": "stdout",
     "output_type": "stream",
     "text": [
      "2856.3450795493654\n",
      "930.2754300977244\n",
      "-0.2314730433307869\n"
     ]
    },
    {
     "name": "stderr",
     "output_type": "stream",
     "text": [
      "\r",
      "t:  98%|███████████████████████████████████████████████████████████████▊ | 1236/1260 [04:14<00:05,  4.33it/s, now=None]"
     ]
    },
    {
     "name": "stdout",
     "output_type": "stream",
     "text": [
      "3249.2639680839843\n",
      "1336.6019589040325\n",
      "-0.22770478471127628\n",
      "3671.0763194917868\n",
      "1980.6089519888565\n",
      "-0.2276213431958079\n"
     ]
    },
    {
     "name": "stderr",
     "output_type": "stream",
     "text": [
      "t:  98%|███████████████████████████████████████████████████████████████▉ | 1239/1260 [04:14<00:04,  4.94it/s, now=None]"
     ]
    },
    {
     "name": "stdout",
     "output_type": "stream",
     "text": [
      "4750.142053941309\n",
      "1855.1038857122533\n",
      "-0.23662768702295944\n",
      "391710.2058303876\n",
      "1318.5616888657478\n",
      "-0.24306768814384402\n"
     ]
    },
    {
     "name": "stderr",
     "output_type": "stream",
     "text": [
      "t:  98%|████████████████████████████████████████████████████████████████ | 1241/1260 [04:15<00:03,  5.17it/s, now=None]"
     ]
    },
    {
     "name": "stdout",
     "output_type": "stream",
     "text": [
      "19334.71186959907\n",
      "1506.2942759105274\n",
      "-0.24184587820394263\n",
      "37014.533048447476\n",
      "9338.301000160594\n",
      "-0.24667894091881779\n"
     ]
    },
    {
     "name": "stderr",
     "output_type": "stream",
     "text": [
      "\r",
      "t:  99%|████████████████████████████████████████████████████████████████ | 1242/1260 [04:15<00:03,  5.19it/s, now=None]"
     ]
    },
    {
     "name": "stdout",
     "output_type": "stream",
     "text": [
      "21388.56059387636\n",
      "3509.528990152486\n",
      "-0.25813797038335606\n"
     ]
    },
    {
     "name": "stderr",
     "output_type": "stream",
     "text": [
      "\r",
      "t:  99%|████████████████████████████████████████████████████████████████ | 1243/1260 [04:15<00:03,  4.45it/s, now=None]"
     ]
    },
    {
     "name": "stdout",
     "output_type": "stream",
     "text": [
      "4613.106670263857\n",
      "3035.9789725021046\n",
      "-0.2703911434858311\n"
     ]
    },
    {
     "name": "stderr",
     "output_type": "stream",
     "text": [
      "\r",
      "t:  99%|████████████████████████████████████████████████████████████████▏| 1244/1260 [04:15<00:03,  4.36it/s, now=None]"
     ]
    },
    {
     "name": "stdout",
     "output_type": "stream",
     "text": [
      "4907.4582794559665\n",
      "1804.5720730048342\n",
      "-0.293216383213992\n",
      "9544.785454143243\n",
      "1551.8404669580905\n",
      "-0.2986750138459343\n"
     ]
    },
    {
     "name": "stderr",
     "output_type": "stream",
     "text": [
      "t:  99%|████████████████████████████████████████████████████████████████▎| 1247/1260 [04:16<00:02,  5.10it/s, now=None]"
     ]
    },
    {
     "name": "stdout",
     "output_type": "stream",
     "text": [
      "4550.316065156636\n",
      "1488.0292488996718\n",
      "-0.30430504824080545\n",
      "7334.023930763605\n",
      "1396.2114412892363\n",
      "-0.31095198133295\n"
     ]
    },
    {
     "name": "stderr",
     "output_type": "stream",
     "text": [
      "\r",
      "t:  99%|████████████████████████████████████████████████████████████████▍| 1248/1260 [04:16<00:02,  5.15it/s, now=None]"
     ]
    },
    {
     "name": "stdout",
     "output_type": "stream",
     "text": [
      "4656.705770440168\n",
      "3701.6468137862657\n",
      "-0.2978314186392527\n",
      "4345.074166877122\n",
      "2018.3858481879408\n",
      "-0.31089793262085696\n"
     ]
    },
    {
     "name": "stderr",
     "output_type": "stream",
     "text": [
      "t:  99%|████████████████████████████████████████████████████████████████▍| 1250/1260 [04:17<00:02,  4.57it/s, now=None]"
     ]
    },
    {
     "name": "stdout",
     "output_type": "stream",
     "text": [
      "4417.446585704368\n",
      "4279.168907516357\n",
      "-0.3106430270452445\n"
     ]
    },
    {
     "name": "stderr",
     "output_type": "stream",
     "text": [
      "\r",
      "t:  99%|████████████████████████████████████████████████████████████████▌| 1251/1260 [04:17<00:01,  4.54it/s, now=None]"
     ]
    },
    {
     "name": "stdout",
     "output_type": "stream",
     "text": [
      "4230.288799455787\n",
      "356289.09359442483\n",
      "-0.30412085405757083\n",
      "6885.601643505343\n",
      "25387.567221220026\n",
      "-0.3035831682159095\n"
     ]
    },
    {
     "name": "stderr",
     "output_type": "stream",
     "text": [
      "t:  99%|████████████████████████████████████████████████████████████████▋| 1253/1260 [04:17<00:01,  4.90it/s, now=None]"
     ]
    },
    {
     "name": "stdout",
     "output_type": "stream",
     "text": [
      "9237.90971985586\n",
      "92121.01165348319\n",
      "-0.30243605172647964\n"
     ]
    },
    {
     "name": "stderr",
     "output_type": "stream",
     "text": [
      "\r",
      "t: 100%|████████████████████████████████████████████████████████████████▋| 1254/1260 [04:17<00:01,  4.59it/s, now=None]"
     ]
    },
    {
     "name": "stdout",
     "output_type": "stream",
     "text": [
      "9657.381063916628\n",
      "2873.805836261734\n",
      "-0.31970063243886787\n"
     ]
    },
    {
     "name": "stderr",
     "output_type": "stream",
     "text": [
      "\r",
      "t: 100%|████████████████████████████████████████████████████████████████▋| 1255/1260 [04:18<00:01,  4.63it/s, now=None]"
     ]
    },
    {
     "name": "stdout",
     "output_type": "stream",
     "text": [
      "6436.284124960365\n",
      "1710.3101182353391\n",
      "-0.3318001726798113\n"
     ]
    },
    {
     "name": "stderr",
     "output_type": "stream",
     "text": [
      "\r",
      "t: 100%|████████████████████████████████████████████████████████████████▊| 1256/1260 [04:18<00:00,  4.69it/s, now=None]"
     ]
    },
    {
     "name": "stdout",
     "output_type": "stream",
     "text": [
      "7608.294742598445\n",
      "1208.636716048766\n",
      "-0.33288634438017195\n",
      "6365.370468603295\n",
      "1372.4209710987343\n",
      "-0.3155048434206276\n"
     ]
    },
    {
     "name": "stderr",
     "output_type": "stream",
     "text": [
      "t: 100%|████████████████████████████████████████████████████████████████▉| 1258/1260 [04:18<00:00,  5.00it/s, now=None]"
     ]
    },
    {
     "name": "stdout",
     "output_type": "stream",
     "text": [
      "5566.43468427711\n",
      "8636.873379283492\n",
      "-0.28210494763894367\n",
      "7918.180506411612\n",
      "2141.279785107431\n",
      "-0.2841680373264222\n"
     ]
    },
    {
     "name": "stderr",
     "output_type": "stream",
     "text": [
      "t: 100%|█████████████████████████████████████████████████████████████████| 1260/1260 [04:19<00:00,  4.89it/s, now=None]"
     ]
    },
    {
     "name": "stdout",
     "output_type": "stream",
     "text": [
      "7940.769284292305\n",
      "1856.7375291148194\n",
      "-0.28083572565630316\n",
      "336277.8351104051\n",
      "2584.7251790363384\n",
      "-0.2665702244031395\n"
     ]
    },
    {
     "name": "stderr",
     "output_type": "stream",
     "text": [
      "                                                                                                                       \r"
     ]
    },
    {
     "name": "stdout",
     "output_type": "stream",
     "text": [
      "Moviepy - Done !\n",
      "Moviepy - video ready D:\\hzf\\udacity\\project\\CarND-Advanced-Lane-Lines/output_video/P2.mp4\n",
      "Wall time: 4min 20s\n"
     ]
    }
   ],
   "source": [
    "# generate vedio\n",
    "\n",
    "white_output = cwd + '/output_video/P2.mp4'\n",
    "## To speed up the testing process you may want to try your pipeline on a shorter subclip of the video\n",
    "## To do so add .subclip(start_second,end_second) to the end of the line below\n",
    "## Where start_second and end_second are integer values representing the start and end of the subclip\n",
    "## You may also uncomment the following line for a subclip of the first 5 seconds\n",
    "##clip1 = VideoFileClip(\"test_videos/solidWhiteRight.mp4\").subclip(0,5)\n",
    "clip1 = VideoFileClip(cwd + \"/project_video.mp4\")\n",
    "white_clip = clip1.fl_image(all.my_pipline) #NOTE: this function expects color images!!\n",
    "%time white_clip.write_videofile(white_output, audio=False)"
   ]
  },
  {
   "cell_type": "code",
   "execution_count": 54,
   "id": "8ec00092",
   "metadata": {},
   "outputs": [
    {
     "name": "stdout",
     "output_type": "stream",
     "text": [
      "D:\\hzf\\udacity\\project\\CarND-Advanced-Lane-Lines/output_video/P2.mp4\n"
     ]
    },
    {
     "data": {
      "text/html": [
       "\n",
       "<video width=\"1280\" height=\"720\" controls>\n",
       "  <source src=\"D:\\hzf\\udacity\\project\\CarND-Advanced-Lane-Lines/output_video/P2.mp4\">\n",
       "</video>\n"
      ],
      "text/plain": [
       "<IPython.core.display.HTML object>"
      ]
     },
     "execution_count": 54,
     "metadata": {},
     "output_type": "execute_result"
    }
   ],
   "source": [
    "print(white_output)\n",
    "\n",
    "HTML(\"\"\"\n",
    "<video width=\"1280\" height=\"720\" controls>\n",
    "  <source src=\"{0}\">\n",
    "</video>\n",
    "\"\"\".format(white_output))\n",
    "\n",
    "# HTML(\"\"\"\n",
    "# <video width=\"1280\" height=\"720\" controls>\n",
    "#   <source src=\"D:\\\\hzf\\\\udacity\\\\project\\\\CarND-Advanced-Lane-Lines\\\\output_video\\\\P2.mp4\">\n",
    "# </video>\n",
    "# \"\"\")"
   ]
  },
  {
   "cell_type": "code",
   "execution_count": 76,
   "id": "35c82627",
   "metadata": {},
   "outputs": [
    {
     "name": "stdout",
     "output_type": "stream",
     "text": [
      "(720, 1280, 3)\n",
      "6280.620753763545\n",
      "83411.97255482686\n",
      "2047.1348098301876\n",
      "26991.69466999722\n"
     ]
    }
   ],
   "source": [
    "# Test3: find lanes and calculate parameters\n",
    "\n",
    "# (120,539),(480, 310), (485, 310), (900,539)\n",
    "# img_cpy = np.copy(img_undistort)\n",
    "img_cpy = np.copy(img_undistort)\n",
    "\n",
    "# plt.imshow(img_cpy)\n",
    "\n",
    "print(img_cpy.shape)\n",
    "\n",
    "# s1 = [180,719]\n",
    "# s2 = [555, 470]\n",
    "# s3 = [725, 470]\n",
    "# s4 = [1130,719]\n",
    "\n",
    "# d1 = [280,719]\n",
    "# d2 = [280,  0]\n",
    "# d3 = [1000,  0]\n",
    "# d4 = [1000, 719]\n",
    "\n",
    "s1 = [185, 719]\n",
    "s2 = [580, 460]\n",
    "s3 = [705, 460]\n",
    "s4 = [1200, 719]\n",
    "\n",
    "d1 = [280, 719]\n",
    "d2 = [280, 0]\n",
    "d3 = [1000, 0]\n",
    "d4 = [1000, 719]\n",
    "\n",
    "w = 1\n",
    "# cv2.line(img_cpy, (180,719), (550, 470), (255,0,0),w) \n",
    "# cv2.line(img_cpy, (550, 470), (740, 470), (255,0,0),w) \n",
    "# cv2.line(img_cpy, (740, 470), (1130,719), (255,0,0),w) \n",
    "\n",
    "cv2.line(img_cpy, s1, s2, (255,0,0),w) \n",
    "cv2.line(img_cpy, s2, s3, (255,0,0),w) \n",
    "cv2.line(img_cpy, s3, s4, (255,0,0),w) \n",
    "\n",
    "# plt.imshow(img_cpy)\n",
    "\n",
    "# src = np.array([[180,719],[550,470],[740, 470],[1130,719]],dtype = \"float32\")\n",
    "# dst = np.array([[280,719],[280,  0],[1000,  0],[1000, 719]],dtype = \"float32\")\n",
    "\n",
    "src = np.array([s1,s2,s3,s4],dtype = \"float32\")\n",
    "dst = np.array([d1,d2,d3,d4],dtype = \"float32\")\n",
    "\n",
    "M = cv2.getPerspectiveTransform(src, dst)\n",
    "Minv = cv2.getPerspectiveTransform(dst, src)\n",
    "    \n",
    "img_warper = all.warper(img_cpy, src, dst)\n",
    "\n",
    "# plt.imshow(img_warper)\n",
    "\n",
    "\n",
    "# Use color transforms, gradients, etc., to create a thresholded binary image.\n",
    "\n",
    "# img_bin_sobel =  all.abs_sobel_thresh(img_undistort, orient='x', thresh_min=10, thresh_max=200)\n",
    "\n",
    "# print(img_bin_sobel)\n",
    "\n",
    "# # plt.imshow(img_bin_sobel, cmap='gray')\n",
    "\n",
    "# img_bin_mag =  all.mag_thresh(img_undistort, sobel_kernel=3, mag_thresh=(20, 200))\n",
    "\n",
    "# # plt.imshow(img_bin_mag, cmap='gray')\n",
    "\n",
    "# img_bin_dir =  all.dir_threshold(img_undistort, sobel_kernel=3, thresh=(0.7, 1.3))\n",
    "\n",
    "# # plt.imshow(img_bin_dir, cmap='gray')\n",
    "\n",
    "# img_bin_hls =  all.hls_select(img_undistort, thresh=(25, 200))\n",
    "\n",
    "# # plt.imshow(img_bin_hls, cmap='gray')\n",
    "\n",
    "# combined = np.zeros_like(img_bin_sobel)\n",
    "# # combined[(((img_bin_sobel == 1) | (img_bin_mag == 1)) & (img_bin_hls == 1)) & (img_bin_dir == 1)] = 1\n",
    "# combined[((img_bin_sobel == 1) & (img_bin_mag == 1)) & ((img_bin_dir == 1) & (img_bin_hls == 1))] = 1\n",
    "# # combined[((img_bin_sobel == 1) )] = 1\n",
    "\n",
    "# # plt.imshow(combined, cmap='gray')\n",
    "\n",
    "combined, color_bin = all.make_binary(img_undistort)\n",
    "\n",
    "# plt.imshow(combined, cmap='gray')\n",
    "# plt.imshow(color_bin, cmap='gray')\n",
    "\n",
    "\n",
    "# colored_comb_bin = np.dstack((combined, combined, combined)) * 255\n",
    "\n",
    "# cv2.line(colored_comb_bin, s1, s2, (255,0,0),w) combined\n",
    "# cv2.line(colored_comb_bin, s2, s3, (255,0,0),w) \n",
    "# cv2.line(colored_comb_bin, s3, s4, (255,0,0),w) \n",
    "\n",
    "# plt.imshow(colored_comb_bin, cmap='gray')\n",
    "\n",
    "img_warper = all.warper(combined, src, dst)\n",
    "\n",
    "# plt.imshow(img_warper, cmap='gray')\n",
    "\n",
    "colored_warped = np.dstack((img_warper, img_warper, img_warper)) * 255\n",
    "\n",
    "# plt.imshow(colored_warped, cmap='gray')\n",
    "\n",
    "histogram = all.hist(colored_warped)\n",
    "\n",
    "# plt.plot(histogram)\n",
    "\n",
    "# leftx, lefty, rightx, righty, out_img = find_lane_pixels(img_warper)\n",
    "leftx, lefty, rightx, righty, out_img = all.find_lane_pixels(img_warper* 255) \n",
    "\n",
    "# print(leftx)\n",
    "# print(lefty)\n",
    "# print(rightx)\n",
    "# print(righty)\n",
    "\n",
    "# plt.imshow(out_img)\n",
    "\n",
    "img_fit = all.fit_polynomial(img_warper* 255)\n",
    "\n",
    "# plt.imshow(img_fit)\n",
    "\n",
    "left_fit, right_fit, ploty = all.fit_poly(img_warper.shape, leftx, lefty, rightx, righty)\n",
    "\n",
    "result = all.search_around_poly(img_warper)\n",
    "\n",
    "# plt.imshow(result)\n",
    "\n",
    "# left_curverad, right_curverad = measure_curvature_pixels()\n",
    "\n",
    "left_curverad, right_curverad = all.my_measure_curvature_pixels(img_warper)\n",
    "\n",
    "print(left_curverad)\n",
    "print(right_curverad)\n",
    "\n",
    "left_curverad, right_curverad = all.my_measure_curvature_real(img_warper)\n",
    "\n",
    "print(left_curverad)\n",
    "print(right_curverad)\n",
    "\n",
    "# plt.imshow(img)\n",
    "# plt.imshow(img_undistort)\n",
    "# plt.imshow(img_warper)\n",
    "\n",
    "# img_final = my_draw(img, img_undistort, img_warper, Minv,left_fitx,right_fitx,ploty)\n",
    "img_final = all.my_draw(img, img_undistort, img_warper, Minv,left_fit,right_fit,ploty)\n",
    "\n",
    "# img = cv2.imread('caijian.jpg')\n",
    "font = cv2.FONT_HERSHEY_SIMPLEX\n",
    "\n",
    "imgzi = cv2.putText(img_final, 'Curve Radius: left: %fm, right =%fm' %(left_curverad,right_curverad) , (50, 50), font, 1.2, (255, 255, 255), 2)\n",
    "\n",
    "plt.imshow(img_final)\n",
    "\n",
    "plt.show()"
   ]
  },
  {
   "cell_type": "code",
   "execution_count": 69,
   "id": "b28e6060",
   "metadata": {},
   "outputs": [
    {
     "name": "stdout",
     "output_type": "stream",
     "text": [
      "[[ 1.23176607e+00  2.89559832e-01 -1.55916586e+02]\n",
      " [-2.60900799e-02  1.31677308e+00  2.97882835e+01]\n",
      " [-6.38198199e-05  4.89794342e-04  1.00000000e+00]]\n",
      "(720, 1280, 3)\n"
     ]
    }
   ],
   "source": [
    "# Test2: perspective transform\n",
    "\n",
    "cwd = os.getcwd()\n",
    "img = cv2.imread(cwd + '/camera_cal/calibration3.jpg')\n",
    "\n",
    "# cv2.imshow('calibration3.jpg',img)\n",
    "\n",
    "img_undistort = all.undistort_img(img, mtx, dist)\n",
    "\n",
    "# cv2.imshow('img_undistort', img_undistort)\n",
    "\n",
    "perspective_transform_mtx = all.cal_chessboard_perspective_transform_mtx(img, 9, 6, mtx, dist)\n",
    "\n",
    "print(perspective_transform_mtx)\n",
    "\n",
    "print(img.shape)\n",
    "\n",
    "warped = cv2.warpPerspective(img_undistort, perspective_transform_mtx, img.shape[1::-1], cv2.INTER_LINEAR)\n",
    "\n",
    "cv2.imshow('warped', warped)\n"
   ]
  },
  {
   "cell_type": "code",
   "execution_count": 70,
   "id": "fae15e33",
   "metadata": {},
   "outputs": [
    {
     "name": "stdout",
     "output_type": "stream",
     "text": [
      "D:\\hzf\\udacity\\project\\CarND-Advanced-Lane-Lines\n",
      "(720, 1280)\n",
      "(720, 1280, 3)\n",
      "(1280, 720)\n"
     ]
    }
   ],
   "source": [
    "# Test1: calibrate camera and undistort image\n",
    "\n",
    "# prepare object points, like (0,0,0), (1,0,0), (2,0,0) ....,(6,5,0)\n",
    "objp = np.zeros((6*9,3), np.float32)\n",
    "# print(objp)\n",
    "objp[:,:2] = np.mgrid[0:9,0:6].T.reshape(-1,2)\n",
    "# print(objp)\n",
    "\n",
    "# Arrays to store object points and image points from all the images.\n",
    "objpoints = [] # 3d points in real world space\n",
    "imgpoints = [] # 2d points in image plane.\n",
    "\n",
    "cwd = os.getcwd()\n",
    "print(cwd)\n",
    "img = cv2.imread(cwd + '/camera_cal/calibration3.jpg')\n",
    "# print(img)\n",
    "# cv2.imshow('calibration3',img)\n",
    "\n",
    "gray = cv2.cvtColor(img,cv2.COLOR_BGR2GRAY)\n",
    "\n",
    "print(gray.shape)\n",
    "\n",
    "# cv2.imshow('calibration3',gray)\n",
    "\n",
    "# Find the chessboard corners\n",
    "ret, corners = cv2.findChessboardCorners(gray, (9,6),None)\n",
    "\n",
    "# If found, add object points, image points\n",
    "if ret == True:\n",
    "#     print(objp)\n",
    "#     print(corners)\n",
    "    objpoints.append(objp)\n",
    "    imgpoints.append(corners)\n",
    "\n",
    "    # Draw and display the corners\n",
    "#     img = cv2.drawChessboardCorners(img, (9,6), corners, ret)\n",
    "#     cv2.imshow('img',img)\n",
    "#             cv2.waitKey(500)\n",
    "#     image = mpimg.imread('camera_cal/calibration1.jpg')\n",
    "print(img.shape)\n",
    "print(img.shape[1::-1])\n",
    "# ret, mtx, dist, rvecs, tvecs = cv2.calibrateCamera(objpoints, imgpoints, gray.shape[::-1], None, None)\n",
    "\n",
    "img_undistort = all.undistort_img(img, mtx, dist)\n",
    "\n",
    "cv2.imshow('img_undistort', img_undistort)\n",
    "\n",
    "\n",
    "# cwd = os.getcwd()\n",
    "# # Make a list of calibration im1ages\n",
    "# images = glob.glob(cwd + './camera_cal/calibration*.jpg')\n",
    "\n",
    "\n",
    "\n",
    "# # Make a list of calibration images\n",
    "# images = glob.glob(cwd + '/camera_cal/calibration*.jpg')\n",
    "\n",
    "# for index, itrImg in enumerate(images):\n",
    "#     if (index == 1) :\n",
    "#         print(itrImg)\n",
    "# #         img = cv2.imread(itrImg)\n",
    "#         img = cv2.imread(cwd + '/camera_cal/calibration3.jpg')\n",
    "\n",
    "#         plt.imshow(img)\n",
    "# #         cv2.imshow('img',img)\n",
    "#         undist = cv2.undistort(img, mtx, dist, None, mtx)\n",
    "#         plt.imshow(undist)\n",
    "\n",
    "\n"
   ]
  }
 ],
 "metadata": {
  "kernelspec": {
   "display_name": "Python 3",
   "language": "python",
   "name": "python3"
  },
  "language_info": {
   "codemirror_mode": {
    "name": "ipython",
    "version": 3
   },
   "file_extension": ".py",
   "mimetype": "text/x-python",
   "name": "python",
   "nbconvert_exporter": "python",
   "pygments_lexer": "ipython3",
   "version": "3.8.8"
  }
 },
 "nbformat": 4,
 "nbformat_minor": 5
}
