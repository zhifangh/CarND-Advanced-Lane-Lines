{
 "cells": [
  {
   "cell_type": "markdown",
   "id": "b2e880d3",
   "metadata": {},
   "source": [
    "## Advanced Lane Finding Project\n",
    "\n",
    "The goals / steps of this project are the following:\n",
    "\n",
    "* Compute the camera calibration matrix and distortion coefficients given a set of chessboard images.\n",
    "* Apply a distortion correction to raw images.\n",
    "* Use color transforms, gradients, etc., to create a thresholded binary image.\n",
    "* Apply a perspective transform to rectify binary image (\"birds-eye view\").\n",
    "* Detect lane pixels and fit to find the lane boundary.\n",
    "* Determine the curvature of the lane and vehicle position with respect to center.\n",
    "* Warp the detected lane boundaries back onto the original image.\n",
    "* Output visual display of the lane boundaries and numerical estimation of lane curvature and vehicle position.\n"
   ]
  },
  {
   "cell_type": "code",
   "execution_count": 45,
   "id": "157ffb71",
   "metadata": {},
   "outputs": [],
   "source": [
    "import numpy as np\n",
    "import cv2\n",
    "import glob\n",
    "import matplotlib.pyplot as plt\n",
    "import matplotlib.image as mpimg\n",
    "import math\n",
    "import os\n",
    "import imp\n",
    "import Advanced_Lane_Lines as all\n",
    "\n",
    "%matplotlib qt"
   ]
  },
  {
   "cell_type": "code",
   "execution_count": 92,
   "id": "a9c9231b",
   "metadata": {},
   "outputs": [
    {
     "name": "stdout",
     "output_type": "stream",
     "text": [
      "1.0298153371058987\n",
      "[[1.15777930e+03 0.00000000e+00 6.67111054e+02]\n",
      " [0.00000000e+00 1.15282291e+03 3.86128938e+02]\n",
      " [0.00000000e+00 0.00000000e+00 1.00000000e+00]]\n",
      "[[-0.24688775 -0.02373133 -0.00109842  0.00035108 -0.00258571]]\n"
     ]
    }
   ],
   "source": [
    "imp.reload(Advanced_Lane_Lines)\n",
    "\n",
    "ret, mtx, dist, rvecs, tvecs = all.calibrate_camera()\n",
    "\n",
    "all.set_calibrate_camera_result(ret, mtx, dist, rvecs, tvecs)\n",
    "\n",
    "print(ret)\n",
    "print(mtx)\n",
    "print(dist)\n",
    "# print(rvecs)\n",
    "# print(tvecs)\n",
    "\n",
    "s1 = [180,719]\n",
    "s2 = [555, 470]\n",
    "s3 = [725, 470]\n",
    "s4 = [1130,719]\n",
    "\n",
    "d1 = [280,719]\n",
    "d2 = [280,  0]\n",
    "d3 = [1000,  0]\n",
    "d4 = [1000, 719]\n",
    "\n",
    "src = np.array([s1,s2,s3,s4],dtype = \"float32\")\n",
    "dst = np.array([d1,d2,d3,d4],dtype = \"float32\")\n",
    "\n",
    "M = cv2.getPerspectiveTransform(src, dst)\n",
    "Minv = cv2.getPerspectiveTransform(dst, src)"
   ]
  },
  {
   "cell_type": "code",
   "execution_count": 78,
   "id": "80c5dccb",
   "metadata": {},
   "outputs": [],
   "source": [
    "# def my_cal_perspective_transform_mtx():\n",
    "#     M = cv2.getPerspectiveTransform(src, dst)\n",
    "#     Minv = cv2.getPerspectiveTransform(dst, src)\n",
    "    \n",
    "#     return M, Minv"
   ]
  },
  {
   "cell_type": "code",
   "execution_count": 27,
   "id": "b28e6060",
   "metadata": {},
   "outputs": [
    {
     "name": "stdout",
     "output_type": "stream",
     "text": [
      "[[ 1.23176607e+00  2.89559832e-01 -1.55916586e+02]\n",
      " [-2.60900799e-02  1.31677308e+00  2.97882835e+01]\n",
      " [-6.38198199e-05  4.89794342e-04  1.00000000e+00]]\n",
      "(720, 1280, 3)\n"
     ]
    }
   ],
   "source": [
    "cwd = os.getcwd()\n",
    "img = cv2.imread(cwd + '/camera_cal/calibration3.jpg')\n",
    "\n",
    "# cv2.imshow('calibration3.jpg',img)\n",
    "\n",
    "img_undistort = all.undistort_img(img, mtx, dist)\n",
    "\n",
    "# cv2.imshow('img_undistort', img_undistort)\n",
    "\n",
    "perspective_transform_mtx = all.cal_perspective_transform_mtx(img, 9, 6, mtx, dist)\n",
    "\n",
    "print(perspective_transform_mtx)\n",
    "\n",
    "print(img.shape)\n",
    "\n",
    "warped = cv2.warpPerspective(img_undistort, perspective_transform_mtx, img.shape[1::-1], cv2.INTER_LINEAR)\n",
    "\n",
    "cv2.imshow('warped', warped)\n"
   ]
  },
  {
   "cell_type": "code",
   "execution_count": 80,
   "id": "89ad0f5d",
   "metadata": {},
   "outputs": [],
   "source": []
  },
  {
   "cell_type": "code",
   "execution_count": 84,
   "id": "8e15ed93",
   "metadata": {},
   "outputs": [],
   "source": [
    "cwd = os.getcwd()\n",
    "\n",
    "# img = mpimg.imread(cwd + '/test_images/straight_lines2.jpg')\n",
    "img = mpimg.imread(cwd + '/test_images/test6.jpg')\n",
    "\n",
    "# plt.imshow(img)\n",
    "\n",
    "img_undistort = all.undistort_img(img, mtx, dist)\n",
    "\n",
    "# plt.imshow(img)\n",
    "\n",
    "plt.imshow(img_undistort)\n",
    "\n",
    "plt.show()\n"
   ]
  },
  {
   "cell_type": "code",
   "execution_count": 85,
   "id": "eb5ed3c1",
   "metadata": {},
   "outputs": [
    {
     "name": "stdout",
     "output_type": "stream",
     "text": [
      "720\n",
      "640.0\n",
      "336.65532491640727\n",
      "1028.2217252529924\n",
      "682.4385250846999\n",
      "-0.22431791830484235\n",
      "2118.264373543409\n",
      "14178.966936342767\n",
      "-0.22431791830484235\n",
      "(720, 1280, 3)\n"
     ]
    }
   ],
   "source": [
    "img_result = all.my_pipline(img, mtx, dist)\n",
    "print(img_result.shape)\n",
    "plt.imshow(img_result)\n",
    "\n",
    "plt.show()\n"
   ]
  },
  {
   "cell_type": "code",
   "execution_count": 67,
   "id": "35c82627",
   "metadata": {},
   "outputs": [
    {
     "name": "stdout",
     "output_type": "stream",
     "text": [
      "[[0 0 0 ... 0 0 0]\n",
      " [0 0 0 ... 0 0 0]\n",
      " [0 0 0 ... 0 0 0]\n",
      " ...\n",
      " [0 0 0 ... 0 0 0]\n",
      " [0 0 0 ... 0 0 0]\n",
      " [0 0 0 ... 0 0 0]]\n",
      "(720, 1280, 3)\n",
      "[354 355 356 ... 341 342 343]\n",
      "[640 640 640 ...  79  79  79]\n",
      "[ 914  912  959 ... 1019 1020 1021]\n",
      "[706 707 707 ... 319 319 319]\n",
      "3421.986977479236\n",
      "1342.6051933050703\n",
      "1121.1698856552575\n",
      "421.4621984789208\n"
     ]
    }
   ],
   "source": [
    "img_bin_sobel =  all.abs_sobel_thresh(img_undistort, orient='x', thresh_min=10, thresh_max=200)\n",
    "\n",
    "print(img_bin_sobel)\n",
    "\n",
    "# plt.imshow(img_bin_sobel, cmap='gray')\n",
    "\n",
    "img_bin_mag =  all.mag_thresh(img_undistort, sobel_kernel=3, mag_thresh=(20, 200))\n",
    "\n",
    "# plt.imshow(img_bin_mag, cmap='gray')\n",
    "\n",
    "img_bin_dir =  all.dir_threshold(img_undistort, sobel_kernel=3, thresh=(0.7, 1.3))\n",
    "\n",
    "# plt.imshow(img_bin_dir, cmap='gray')\n",
    "\n",
    "img_bin_hls =  all.hls_select(img_undistort, thresh=(25, 200))\n",
    "\n",
    "# plt.imshow(img_bin_hls, cmap='gray')\n",
    "\n",
    "combined = np.zeros_like(img_bin_sobel)\n",
    "# combined[(((img_bin_sobel == 1) | (img_bin_mag == 1)) & (img_bin_hls == 1)) & (img_bin_dir == 1)] = 1\n",
    "combined[((img_bin_sobel == 1) & (img_bin_mag == 1)) & ((img_bin_dir == 1) & (img_bin_hls == 1))] = 1\n",
    "# combined[((img_bin_sobel == 1) )] = 1\n",
    "\n",
    "# plt.imshow(combined, cmap='gray')\n",
    "\n",
    "combined_bin, color_bin = all.make_binary(img_undistort)\n",
    "\n",
    "# plt.imshow(combined_bin, cmap='gray')\n",
    "# plt.imshow(color_bin, cmap='gray')\n",
    "\n",
    "\n",
    "# (120,539),(480, 310), (485, 310), (900,539)\n",
    "# img_cpy = np.copy(img_undistort)\n",
    "img_cpy = np.copy(img_undistort)\n",
    "\n",
    "# plt.imshow(img_cpy)\n",
    "\n",
    "print(img_cpy.shape)\n",
    "\n",
    "s1 = [180,719]\n",
    "s2 = [555, 470]\n",
    "s3 = [725, 470]\n",
    "s4 = [1130,719]\n",
    "\n",
    "d1 = [280,719]\n",
    "d2 = [280,  0]\n",
    "d3 = [1000,  0]\n",
    "d4 = [1000, 719]\n",
    "\n",
    "w = 1\n",
    "# cv2.line(img_cpy, (180,719), (550, 470), (255,0,0),w) \n",
    "# cv2.line(img_cpy, (550, 470), (740, 470), (255,0,0),w) \n",
    "# cv2.line(img_cpy, (740, 470), (1130,719), (255,0,0),w) \n",
    "\n",
    "cv2.line(img_cpy, s1, s2, (255,0,0),w) \n",
    "cv2.line(img_cpy, s2, s3, (255,0,0),w) \n",
    "cv2.line(img_cpy, s3, s4, (255,0,0),w) \n",
    "\n",
    "# plt.imshow(img_cpy)\n",
    "\n",
    "# src = np.array([[180,719],[550,470],[740, 470],[1130,719]],dtype = \"float32\")\n",
    "# dst = np.array([[280,719],[280,  0],[1000,  0],[1000, 719]],dtype = \"float32\")\n",
    "\n",
    "# src = np.array([s1,s2,s3,s4],dtype = \"float32\")\n",
    "# dst = np.array([d1,d2,d3,d4],dtype = \"float32\")\n",
    "\n",
    "# M = cv2.getPerspectiveTransform(src, dst)\n",
    "# Minv = cv2.getPerspectiveTransform(dst, src)\n",
    "    \n",
    "img_warper = all.warper(img_cpy, src, dst)\n",
    "\n",
    "# plt.imshow(img_warper)\n",
    "\n",
    "# img_warper = cv2.warpPerspective(img_cpy, perspective_transform_mtx, img_cpy.shape[1::-1], cv2.INTER_LINEAR)\n",
    "\n",
    "# plt.imshow(img_warper)\n",
    "\n",
    "colored_comb_bin = np.dstack((combined, combined, combined)) * 255\n",
    "\n",
    "# cv2.line(colored_comb_bin, s1, s2, (255,0,0),w) \n",
    "# cv2.line(colored_comb_bin, s2, s3, (255,0,0),w) \n",
    "# cv2.line(colored_comb_bin, s3, s4, (255,0,0),w) \n",
    "\n",
    "# plt.imshow(colored_comb_bin, cmap='gray')\n",
    "\n",
    "img_warper = all.warper(combined, src, dst)\n",
    "\n",
    "# plt.imshow(img_warper, cmap='gray')\n",
    "\n",
    "colored_warped = np.dstack((img_warper, img_warper, img_warper)) * 255\n",
    "\n",
    "# plt.imshow(colored_warped, cmap='gray')\n",
    "\n",
    "histogram = all.hist(colored_warped)\n",
    "\n",
    "# plt.plot(histogram)\n",
    "\n",
    "# leftx, lefty, rightx, righty, out_img = find_lane_pixels(img_warper)\n",
    "leftx, lefty, rightx, righty, out_img = all.find_lane_pixels(img_warper* 255) \n",
    "\n",
    "print(leftx)\n",
    "print(lefty)\n",
    "print(rightx)\n",
    "print(righty)\n",
    "\n",
    "# plt.imshow(out_img)\n",
    "\n",
    "img_fit = all.fit_polynomial(img_warper* 255)\n",
    "\n",
    "# plt.imshow(img_fit)\n",
    "\n",
    "left_fit, right_fit, ploty = all.fit_poly(img_warper.shape, leftx, lefty, rightx, righty)\n",
    "\n",
    "result = all.search_around_poly(img_warper)\n",
    "\n",
    "# plt.imshow(result)\n",
    "\n",
    "# left_curverad, right_curverad = measure_curvature_pixels()\n",
    "\n",
    "left_curverad, right_curverad = all.my_measure_curvature_pixels(img_warper)\n",
    "\n",
    "print(left_curverad)\n",
    "print(right_curverad)\n",
    "\n",
    "left_curverad, right_curverad = all.my_measure_curvature_real(img_warper)\n",
    "\n",
    "print(left_curverad)\n",
    "print(right_curverad)\n",
    "\n",
    "# plt.imshow(img)\n",
    "# plt.imshow(img_undistort)\n",
    "# plt.imshow(img_warper)\n",
    "\n",
    "# img_final = my_draw(img, img_undistort, img_warper, Minv,left_fitx,right_fitx,ploty)\n",
    "img_final = all.my_draw(img, img_undistort, img_warper, Minv,left_fit,right_fit,ploty)\n",
    "\n",
    "# img = cv2.imread('caijian.jpg')\n",
    "font = cv2.FONT_HERSHEY_SIMPLEX\n",
    "\n",
    "imgzi = cv2.putText(img_final, 'Curve Radius: left: %fm, right =%fm' %(left_curverad,right_curverad) , (50, 50), font, 1.2, (255, 255, 255), 2)\n",
    "\n",
    "plt.imshow(img_final)\n",
    "\n",
    "plt.show()"
   ]
  },
  {
   "cell_type": "code",
   "execution_count": 86,
   "id": "0e763a7f",
   "metadata": {},
   "outputs": [],
   "source": [
    "# Import everything needed to edit/save/watch video clips\n",
    "from moviepy.editor import VideoFileClip\n",
    "from IPython.display import HTML"
   ]
  },
  {
   "cell_type": "code",
   "execution_count": 93,
   "id": "cd4218c8",
   "metadata": {},
   "outputs": [
    {
     "name": "stdout",
     "output_type": "stream",
     "text": [
      "720\n",
      "640.0\n",
      "358.03782837194467\n",
      "1052.148761318555\n",
      "705.0932948452498\n",
      "-0.34406455846774914\n",
      "1290.0378256752128\n",
      "1562.5774852668294\n",
      "-0.34406455846774914\n",
      "Moviepy - Building video D:\\hzf\\udacity\\project\\CarND-Advanced-Lane-Lines/output_video/P2.mp4.\n",
      "Moviepy - Writing video D:\\hzf\\udacity\\project\\CarND-Advanced-Lane-Lines/output_video/P2.mp4\n",
      "\n"
     ]
    },
    {
     "name": "stderr",
     "output_type": "stream",
     "text": [
      "t:   0%|                                                                    | 2/1260 [00:00<03:41,  5.68it/s, now=None]"
     ]
    },
    {
     "name": "stdout",
     "output_type": "stream",
     "text": [
      "720\n",
      "640.0\n",
      "358.03782837194467\n",
      "1052.148761318555\n",
      "705.0932948452498\n",
      "-0.34406455846774914\n",
      "1290.0378256752128\n",
      "1562.5774852668294\n",
      "-0.34406455846774914\n"
     ]
    },
    {
     "name": "stderr",
     "output_type": "stream",
     "text": [
      "\r",
      "t:   0%|▏                                                                   | 3/1260 [00:00<05:55,  3.54it/s, now=None]"
     ]
    },
    {
     "name": "stdout",
     "output_type": "stream",
     "text": [
      "720\n",
      "640.0\n",
      "358.16572326313116\n",
      "1056.2474600821922\n",
      "707.2065916726617\n",
      "-0.3552348416983548\n",
      "1159.648130898259\n",
      "3263.0032024069737\n",
      "-0.3552348416983548\n"
     ]
    },
    {
     "name": "stderr",
     "output_type": "stream",
     "text": [
      "\r",
      "t:   0%|▏                                                                   | 4/1260 [00:01<06:59,  2.99it/s, now=None]"
     ]
    },
    {
     "name": "stdout",
     "output_type": "stream",
     "text": [
      "720\n",
      "640.0\n",
      "357.24441647874687\n",
      "1053.7352607482865\n",
      "705.4898386135167\n",
      "-0.3461605755285881\n",
      "1010.5258555172105\n",
      "2564.5315535135123\n",
      "-0.3461605755285881\n"
     ]
    },
    {
     "name": "stderr",
     "output_type": "stream",
     "text": [
      "\r",
      "t:   0%|▎                                                                   | 5/1260 [00:01<07:21,  2.84it/s, now=None]"
     ]
    },
    {
     "name": "stdout",
     "output_type": "stream",
     "text": [
      "720\n",
      "640.0\n",
      "357.0867388453363\n",
      "1053.0434912948372\n",
      "705.0651150700867\n",
      "-0.34391560822760103\n",
      "922.2725970197131\n",
      "2643.3380307935495\n",
      "-0.34391560822760103\n"
     ]
    },
    {
     "name": "stderr",
     "output_type": "stream",
     "text": [
      "\r",
      "t:   0%|▎                                                                   | 6/1260 [00:01<07:40,  2.72it/s, now=None]"
     ]
    },
    {
     "name": "stdout",
     "output_type": "stream",
     "text": [
      "720\n",
      "640.0\n",
      "360.2543028344852\n",
      "1049.2918911715362\n",
      "704.7730970030107\n",
      "-0.34237208415877063\n",
      "932.2327677137049\n",
      "1134.0018613195175\n",
      "-0.34237208415877063\n"
     ]
    },
    {
     "name": "stderr",
     "output_type": "stream",
     "text": [
      "\r",
      "t:   1%|▍                                                                   | 7/1260 [00:02<07:52,  2.65it/s, now=None]"
     ]
    },
    {
     "name": "stdout",
     "output_type": "stream",
     "text": [
      "720\n",
      "640.0\n",
      "362.65267137656235\n",
      "1050.445048180514\n",
      "706.5488597785381\n",
      "-0.3517582588294159\n",
      "959.1082213992954\n",
      "1632.4687703650477\n",
      "-0.3517582588294159\n"
     ]
    },
    {
     "name": "stderr",
     "output_type": "stream",
     "text": [
      "\r",
      "t:   1%|▍                                                                   | 8/1260 [00:02<08:13,  2.54it/s, now=None]"
     ]
    },
    {
     "name": "stdout",
     "output_type": "stream",
     "text": [
      "720\n",
      "640.0\n",
      "364.06932386565245\n",
      "1050.7999035173748\n",
      "707.4346136915136\n",
      "-0.3564401009408577\n",
      "958.3709933971436\n",
      "1614.287750767955\n",
      "-0.3564401009408577\n"
     ]
    },
    {
     "name": "stderr",
     "output_type": "stream",
     "text": [
      "\r",
      "t:   1%|▍                                                                   | 9/1260 [00:03<08:21,  2.49it/s, now=None]"
     ]
    },
    {
     "name": "stdout",
     "output_type": "stream",
     "text": [
      "720\n",
      "640.0\n",
      "367.4720991571388\n",
      "1053.802877334081\n",
      "710.6374882456098\n",
      "-0.37336958072679466\n",
      "1092.0854835245166\n",
      "1786.1825504645042\n",
      "-0.37336958072679466\n"
     ]
    },
    {
     "name": "stderr",
     "output_type": "stream",
     "text": [
      "\r",
      "t:   1%|▌                                                                  | 10/1260 [00:03<08:27,  2.46it/s, now=None]"
     ]
    },
    {
     "name": "stdout",
     "output_type": "stream",
     "text": [
      "720\n",
      "640.0\n",
      "366.262819641548\n",
      "1042.798297910214\n",
      "704.530558775881\n",
      "-0.34109009638679955\n",
      "1051.4576645377915\n",
      "919.3258042702563\n",
      "-0.34109009638679955\n"
     ]
    },
    {
     "name": "stderr",
     "output_type": "stream",
     "text": [
      "\r",
      "t:   1%|▌                                                                  | 11/1260 [00:04<08:17,  2.51it/s, now=None]"
     ]
    },
    {
     "name": "stdout",
     "output_type": "stream",
     "text": [
      "720\n",
      "640.0\n",
      "366.28630946814866\n",
      "1046.0634757863888\n",
      "706.1748926272687\n",
      "-0.34978157531556325\n",
      "1078.3657689666486\n",
      "961.9575597001825\n",
      "-0.34978157531556325\n"
     ]
    },
    {
     "name": "stderr",
     "output_type": "stream",
     "text": [
      "\r",
      "t:   1%|▋                                                                  | 12/1260 [00:04<08:12,  2.53it/s, now=None]"
     ]
    },
    {
     "name": "stdout",
     "output_type": "stream",
     "text": [
      "720\n",
      "640.0\n",
      "366.0185242534473\n",
      "1052.163167754584\n",
      "709.0908460040157\n",
      "-0.36519447173551156\n",
      "1015.8978794546371\n",
      "1284.1721326797322\n",
      "-0.36519447173551156\n"
     ]
    },
    {
     "name": "stderr",
     "output_type": "stream",
     "text": [
      "\r",
      "t:   1%|▋                                                                  | 13/1260 [00:04<08:55,  2.33it/s, now=None]"
     ]
    },
    {
     "name": "stdout",
     "output_type": "stream",
     "text": [
      "720\n",
      "640.0\n",
      "364.5992345705983\n",
      "1055.7376514797133\n",
      "710.1684430251559\n",
      "-0.3708903417043952\n",
      "1145.0072306605944\n",
      "1587.6311764552179\n",
      "-0.3708903417043952\n"
     ]
    },
    {
     "name": "stderr",
     "output_type": "stream",
     "text": [
      "\r",
      "t:   1%|▋                                                                  | 14/1260 [00:05<11:13,  1.85it/s, now=None]"
     ]
    },
    {
     "name": "stdout",
     "output_type": "stream",
     "text": [
      "720\n",
      "640.0\n",
      "365.0654501916876\n",
      "1058.2547663254206\n",
      "711.6601082585541\n",
      "-0.3787748579380719\n",
      "1205.756964214045\n",
      "2084.175135500799\n",
      "-0.3787748579380719\n"
     ]
    },
    {
     "name": "stderr",
     "output_type": "stream",
     "text": [
      "\r",
      "t:   1%|▊                                                                  | 15/1260 [00:06<11:17,  1.84it/s, now=None]"
     ]
    },
    {
     "name": "stdout",
     "output_type": "stream",
     "text": [
      "720\n",
      "640.0\n",
      "364.5171609988219\n",
      "1064.0094580617913\n",
      "714.2633095303066\n",
      "-0.3925346360887636\n",
      "1099.0617628731316\n",
      "10961.266237944306\n",
      "-0.3925346360887636\n"
     ]
    },
    {
     "name": "stderr",
     "output_type": "stream",
     "text": [
      "\r",
      "t:   1%|▊                                                                  | 16/1260 [00:06<11:24,  1.82it/s, now=None]"
     ]
    },
    {
     "name": "stdout",
     "output_type": "stream",
     "text": [
      "720\n",
      "640.0\n",
      "364.6533242155112\n",
      "1060.4977823268152\n",
      "712.5755532711632\n",
      "-0.3836136387190057\n",
      "1048.1498813237536\n",
      "21872.38890819425\n",
      "-0.3836136387190057\n"
     ]
    },
    {
     "name": "stderr",
     "output_type": "stream",
     "text": [
      "\r",
      "t:   1%|▉                                                                  | 17/1260 [00:07<12:41,  1.63it/s, now=None]"
     ]
    },
    {
     "name": "stdout",
     "output_type": "stream",
     "text": [
      "720\n",
      "640.0\n",
      "366.2193957901957\n",
      "1052.2260427447281\n",
      "709.2227192674619\n",
      "-0.36589151612801296\n",
      "1152.5179463386692\n",
      "14289.732593787407\n",
      "-0.36589151612801296\n"
     ]
    },
    {
     "name": "stderr",
     "output_type": "stream",
     "text": [
      "\r",
      "t:   1%|▉                                                                  | 18/1260 [00:08<13:55,  1.49it/s, now=None]"
     ]
    },
    {
     "name": "stdout",
     "output_type": "stream",
     "text": [
      "720\n",
      "640.0\n",
      "367.23744171519695\n",
      "1046.113816905328\n",
      "706.6756293102624\n",
      "-0.3524283263542439\n",
      "1328.666340600062\n",
      "2271.3819998689473\n",
      "-0.3524283263542439\n"
     ]
    },
    {
     "name": "stderr",
     "output_type": "stream",
     "text": [
      "\r",
      "t:   2%|█                                                                  | 19/1260 [00:09<13:53,  1.49it/s, now=None]"
     ]
    },
    {
     "name": "stdout",
     "output_type": "stream",
     "text": [
      "720\n",
      "640.0\n",
      "369.0083838410644\n",
      "1045.6778778807295\n",
      "707.343130860897\n",
      "-0.3559565488361697\n",
      "1572.4312638957765\n",
      "5589.90709200142\n",
      "-0.3559565488361697\n"
     ]
    },
    {
     "name": "stderr",
     "output_type": "stream",
     "text": [
      "\r",
      "t:   2%|█                                                                  | 20/1260 [00:09<14:38,  1.41it/s, now=None]"
     ]
    },
    {
     "name": "stdout",
     "output_type": "stream",
     "text": [
      "720\n",
      "640.0\n",
      "368.3592642706175\n",
      "1045.5165748861516\n",
      "706.9379195783845\n",
      "-0.35381471777146084\n",
      "1840.5618581595654\n",
      "7160.988987832224\n",
      "-0.35381471777146084\n"
     ]
    },
    {
     "name": "stderr",
     "output_type": "stream",
     "text": [
      "\r",
      "t:   2%|█                                                                  | 21/1260 [00:10<14:57,  1.38it/s, now=None]"
     ]
    },
    {
     "name": "stdout",
     "output_type": "stream",
     "text": [
      "720\n",
      "640.0\n",
      "368.06606720439515\n",
      "1044.803253600701\n",
      "706.4346604025482\n",
      "-0.35115463355632603\n",
      "2059.4957112353495\n",
      "7877.92392803034\n",
      "-0.35115463355632603\n"
     ]
    },
    {
     "name": "stderr",
     "output_type": "stream",
     "text": [
      "\r",
      "t:   2%|█▏                                                                 | 22/1260 [00:11<13:44,  1.50it/s, now=None]"
     ]
    },
    {
     "name": "stdout",
     "output_type": "stream",
     "text": [
      "720\n",
      "640.0\n",
      "367.0374748107076\n",
      "1039.8053255100058\n",
      "703.4214001603567\n",
      "-0.3352274008475998\n",
      "2380.4000199656734\n",
      "3440.5272330422226\n",
      "-0.3352274008475998\n"
     ]
    },
    {
     "name": "stderr",
     "output_type": "stream",
     "text": [
      "\r",
      "t:   2%|█▏                                                                 | 23/1260 [00:11<14:37,  1.41it/s, now=None]"
     ]
    },
    {
     "name": "stdout",
     "output_type": "stream",
     "text": [
      "720\n",
      "640.0\n",
      "366.3524433233125\n",
      "1039.6308256899076\n",
      "702.9916345066101\n",
      "-0.3329557823920821\n",
      "3913.3867006123382\n",
      "3500.9546356090714\n",
      "-0.3329557823920821\n"
     ]
    },
    {
     "name": "stderr",
     "output_type": "stream",
     "text": [
      "\r",
      "t:   2%|█▎                                                                 | 24/1260 [00:12<13:38,  1.51it/s, now=None]"
     ]
    },
    {
     "name": "stdout",
     "output_type": "stream",
     "text": [
      "720\n",
      "640.0\n",
      "363.53440476465266\n",
      "1029.4660656120514\n",
      "696.500235188352\n",
      "-0.2986441002812892\n",
      "4684.1809486397615\n",
      "998.3849726053666\n",
      "-0.2986441002812892\n"
     ]
    },
    {
     "name": "stderr",
     "output_type": "stream",
     "text": [
      "\r",
      "t:   2%|█▎                                                                 | 25/1260 [00:13<13:07,  1.57it/s, now=None]"
     ]
    },
    {
     "name": "stdout",
     "output_type": "stream",
     "text": [
      "720\n",
      "640.0\n",
      "360.3047433583193\n",
      "1032.6678148017197\n",
      "696.4862790800195\n",
      "-0.29857033228010293\n",
      "3193.098391200022\n",
      "1117.4068141261735\n",
      "-0.29857033228010293\n"
     ]
    },
    {
     "name": "stderr",
     "output_type": "stream",
     "text": [
      "\r",
      "t:   2%|█▍                                                                 | 26/1260 [00:13<13:30,  1.52it/s, now=None]"
     ]
    },
    {
     "name": "stdout",
     "output_type": "stream",
     "text": [
      "720\n",
      "640.0\n",
      "358.0038222493953\n",
      "1034.7326320533627\n",
      "696.368227151379\n",
      "-0.29794634351443167\n",
      "2752.0506653508064\n",
      "1185.3596359907415\n",
      "-0.29794634351443167\n"
     ]
    },
    {
     "name": "stderr",
     "output_type": "stream",
     "text": [
      "\r",
      "t:   2%|█▍                                                                 | 27/1260 [00:14<14:06,  1.46it/s, now=None]"
     ]
    },
    {
     "name": "stdout",
     "output_type": "stream",
     "text": [
      "720\n",
      "640.0\n",
      "354.76037560983116\n",
      "1032.3351890402907\n",
      "693.547782325061\n",
      "-0.2830382780038939\n",
      "2956.3161152551284\n",
      "994.728122197343\n",
      "-0.2830382780038939\n"
     ]
    },
    {
     "name": "stderr",
     "output_type": "stream",
     "text": [
      "\r",
      "t:   2%|█▍                                                                 | 28/1260 [00:15<13:08,  1.56it/s, now=None]"
     ]
    },
    {
     "name": "stdout",
     "output_type": "stream",
     "text": [
      "720\n",
      "640.0\n",
      "351.84233368567834\n",
      "1044.1221042455556\n",
      "697.982218965617\n",
      "-0.30647744310397557\n",
      "2493.9218141813294\n",
      "1973.7894333740728\n",
      "-0.30647744310397557\n"
     ]
    },
    {
     "name": "stderr",
     "output_type": "stream",
     "text": [
      "\r",
      "t:   2%|█▌                                                                 | 29/1260 [00:15<12:47,  1.60it/s, now=None]"
     ]
    },
    {
     "name": "stdout",
     "output_type": "stream",
     "text": [
      "720\n",
      "640.0\n",
      "348.23501235487925\n",
      "1046.8000608169978\n",
      "697.5175365859385\n",
      "-0.30402126481138925\n",
      "2228.3273640335497\n",
      "2497.4748373860293\n",
      "-0.30402126481138925\n"
     ]
    },
    {
     "name": "stderr",
     "output_type": "stream",
     "text": [
      "\r",
      "t:   2%|█▌                                                                 | 30/1260 [00:16<12:24,  1.65it/s, now=None]"
     ]
    },
    {
     "name": "stdout",
     "output_type": "stream",
     "text": [
      "720\n",
      "640.0\n",
      "346.71836369653863\n",
      "1044.6114032294217\n",
      "695.6648834629802\n",
      "-0.2942286697328956\n",
      "1745.092540378841\n",
      "1934.7291841477017\n",
      "-0.2942286697328956\n"
     ]
    },
    {
     "name": "stderr",
     "output_type": "stream",
     "text": [
      "\r",
      "t:   2%|█▋                                                                 | 31/1260 [00:16<12:05,  1.69it/s, now=None]"
     ]
    },
    {
     "name": "stdout",
     "output_type": "stream",
     "text": [
      "720\n",
      "640.0\n",
      "345.9557610064555\n",
      "1043.2732196196957\n",
      "694.6144903130756\n",
      "-0.28867659165482834\n",
      "1483.0374568743894\n",
      "2013.963725033168\n",
      "-0.28867659165482834\n"
     ]
    },
    {
     "name": "stderr",
     "output_type": "stream",
     "text": [
      "\r",
      "t:   3%|█▋                                                                 | 32/1260 [00:17<11:17,  1.81it/s, now=None]"
     ]
    },
    {
     "name": "stdout",
     "output_type": "stream",
     "text": [
      "720\n",
      "640.0\n",
      "346.36106978159233\n",
      "1042.9414704270202\n",
      "694.6512701043063\n",
      "-0.2888709991227617\n",
      "1344.5190911813315\n",
      "1669.2126670781508\n",
      "-0.2888709991227617\n"
     ]
    },
    {
     "name": "stderr",
     "output_type": "stream",
     "text": [
      "\r",
      "t:   3%|█▊                                                                 | 33/1260 [00:17<11:45,  1.74it/s, now=None]"
     ]
    },
    {
     "name": "stdout",
     "output_type": "stream",
     "text": [
      "720\n",
      "640.0\n",
      "346.4202022243494\n",
      "1040.6022088924421\n",
      "693.5112055583958\n",
      "-0.28284494366580626\n",
      "1182.8471456904497\n",
      "1455.894542046864\n",
      "-0.28284494366580626\n"
     ]
    },
    {
     "name": "stderr",
     "output_type": "stream",
     "text": [
      "\r",
      "t:   3%|█▊                                                                 | 34/1260 [00:18<12:51,  1.59it/s, now=None]"
     ]
    },
    {
     "name": "stdout",
     "output_type": "stream",
     "text": [
      "720\n",
      "640.0\n",
      "345.9657028561269\n",
      "1043.164492085876\n",
      "694.5650974710014\n",
      "-0.28841551520386466\n",
      "1207.1182650277162\n",
      "1737.3715755970234\n",
      "-0.28841551520386466\n"
     ]
    },
    {
     "name": "stderr",
     "output_type": "stream",
     "text": [
      "\r",
      "t:   3%|█▊                                                                 | 35/1260 [00:19<13:32,  1.51it/s, now=None]"
     ]
    },
    {
     "name": "stdout",
     "output_type": "stream",
     "text": [
      "720\n",
      "640.0\n",
      "347.1014414308866\n",
      "1043.3123967086044\n",
      "695.2069190697455\n",
      "-0.29180800079722613\n",
      "1166.0298735733443\n",
      "1739.7000815683639\n",
      "-0.29180800079722613\n"
     ]
    },
    {
     "name": "stderr",
     "output_type": "stream",
     "text": [
      "\r",
      "t:   3%|█▉                                                                 | 36/1260 [00:20<13:32,  1.51it/s, now=None]"
     ]
    },
    {
     "name": "stdout",
     "output_type": "stream",
     "text": [
      "720\n",
      "640.0\n",
      "347.09328704987286\n",
      "1032.838237686264\n",
      "689.9657623680685\n",
      "-0.2641047439455047\n",
      "1034.3293158451788\n",
      "869.8257015628577\n",
      "-0.2641047439455047\n"
     ]
    },
    {
     "name": "stderr",
     "output_type": "stream",
     "text": [
      "\r",
      "t:   3%|█▉                                                                 | 37/1260 [00:20<13:58,  1.46it/s, now=None]"
     ]
    },
    {
     "name": "stdout",
     "output_type": "stream",
     "text": [
      "720\n",
      "640.0\n",
      "349.14809012122487\n",
      "1039.1685521285858\n",
      "694.1583211249053\n",
      "-0.28626541166021396\n",
      "1014.3314133329771\n",
      "1084.321525765894\n",
      "-0.28626541166021396\n"
     ]
    },
    {
     "name": "stderr",
     "output_type": "stream",
     "text": [
      "\r",
      "t:   3%|██                                                                 | 38/1260 [00:21<13:23,  1.52it/s, now=None]"
     ]
    },
    {
     "name": "stdout",
     "output_type": "stream",
     "text": [
      "720\n",
      "640.0\n",
      "350.2627278135419\n",
      "1040.1158217201203\n",
      "695.1892747668311\n",
      "-0.29171473805325004\n",
      "1009.6219285531917\n",
      "1189.9904904499047\n",
      "-0.29171473805325004\n"
     ]
    },
    {
     "name": "stderr",
     "output_type": "stream",
     "text": [
      "\r",
      "t:   3%|██                                                                 | 39/1260 [00:22<13:47,  1.48it/s, now=None]"
     ]
    },
    {
     "name": "stdout",
     "output_type": "stream",
     "text": [
      "720\n",
      "640.0\n",
      "350.379758368198\n",
      "1043.2291783332914\n",
      "696.8044683507447\n",
      "-0.3002521898539365\n",
      "907.3849758786976\n",
      "1439.4697720155577\n",
      "-0.3002521898539365\n"
     ]
    },
    {
     "name": "stderr",
     "output_type": "stream",
     "text": [
      "\r",
      "t:   3%|██▏                                                                | 40/1260 [00:22<13:52,  1.47it/s, now=None]"
     ]
    },
    {
     "name": "stdout",
     "output_type": "stream",
     "text": [
      "720\n",
      "640.0\n",
      "350.91757700126044\n",
      "1046.0561374684428\n",
      "698.4868572348516\n",
      "-0.30914481681278727\n",
      "837.9510795238407\n",
      "2537.0537541272115\n",
      "-0.30914481681278727\n"
     ]
    },
    {
     "name": "stderr",
     "output_type": "stream",
     "text": [
      "\r",
      "t:   3%|██▏                                                                | 41/1260 [00:23<13:46,  1.47it/s, now=None]"
     ]
    },
    {
     "name": "stdout",
     "output_type": "stream",
     "text": [
      "720\n",
      "640.0\n",
      "351.653377694011\n",
      "1043.4184929754435\n",
      "697.5359353347272\n",
      "-0.30411851534070117\n",
      "873.9535893830063\n",
      "2171.0612294535763\n",
      "-0.30411851534070117\n"
     ]
    },
    {
     "name": "stderr",
     "output_type": "stream",
     "text": [
      "\r",
      "t:   3%|██▏                                                                | 42/1260 [00:24<13:09,  1.54it/s, now=None]"
     ]
    },
    {
     "name": "stdout",
     "output_type": "stream",
     "text": [
      "720\n",
      "640.0\n",
      "351.91068390577686\n",
      "1042.7855412013585\n",
      "697.3481125535677\n",
      "-0.30312573778314367\n",
      "834.317858496165\n",
      "2405.5064224884827\n",
      "-0.30312573778314367\n"
     ]
    },
    {
     "name": "stderr",
     "output_type": "stream",
     "text": [
      "\r",
      "t:   3%|██▎                                                                | 43/1260 [00:24<13:57,  1.45it/s, now=None]"
     ]
    },
    {
     "name": "stdout",
     "output_type": "stream",
     "text": [
      "720\n",
      "640.0\n",
      "352.83001053255794\n",
      "1040.1029433232384\n",
      "696.4664769278982\n",
      "-0.29846566376174744\n",
      "821.6308035489076\n",
      "1446.9241220671502\n",
      "-0.29846566376174744\n"
     ]
    },
    {
     "name": "stderr",
     "output_type": "stream",
     "text": [
      "\r",
      "t:   3%|██▎                                                                | 44/1260 [00:25<13:24,  1.51it/s, now=None]"
     ]
    },
    {
     "name": "stdout",
     "output_type": "stream",
     "text": [
      "720\n",
      "640.0\n",
      "355.85949793631033\n",
      "1041.2295118646102\n",
      "698.5445049004603\n",
      "-0.3094495259024331\n",
      "861.2701990992331\n",
      "1405.6261712063074\n",
      "-0.3094495259024331\n"
     ]
    },
    {
     "name": "stderr",
     "output_type": "stream",
     "text": [
      "\r",
      "t:   4%|██▍                                                                | 45/1260 [00:26<13:42,  1.48it/s, now=None]"
     ]
    },
    {
     "name": "stdout",
     "output_type": "stream",
     "text": [
      "720\n",
      "640.0\n",
      "354.9163424658463\n",
      "1042.4188009048214\n",
      "698.6675716853339\n",
      "-0.31010002176533624\n",
      "813.0191168490644\n",
      "1741.0117330124178\n",
      "-0.31010002176533624\n"
     ]
    },
    {
     "name": "stderr",
     "output_type": "stream",
     "text": [
      "\r",
      "t:   4%|██▍                                                                | 46/1260 [00:26<13:47,  1.47it/s, now=None]"
     ]
    },
    {
     "name": "stdout",
     "output_type": "stream",
     "text": [
      "720\n",
      "640.0\n",
      "356.33060399432895\n",
      "1043.2784486023272\n",
      "699.804526298328\n",
      "-0.31610963900544814\n",
      "857.1938231446045\n",
      "1433.0219629694889\n",
      "-0.31610963900544814\n"
     ]
    },
    {
     "name": "stderr",
     "output_type": "stream",
     "text": [
      "\r",
      "t:   4%|██▍                                                                | 47/1260 [00:27<13:41,  1.48it/s, now=None]"
     ]
    },
    {
     "name": "stdout",
     "output_type": "stream",
     "text": [
      "720\n",
      "640.0\n",
      "356.28943507097887\n",
      "1049.5516804508904\n",
      "702.9205577609347\n",
      "-0.33258009102208336\n",
      "890.268532596301\n",
      "2703.852451912369\n",
      "-0.33258009102208336\n"
     ]
    },
    {
     "name": "stderr",
     "output_type": "stream",
     "text": [
      "\r",
      "t:   4%|██▌                                                                | 48/1260 [00:28<13:23,  1.51it/s, now=None]"
     ]
    },
    {
     "name": "stdout",
     "output_type": "stream",
     "text": [
      "720\n",
      "640.0\n",
      "355.0118215138918\n",
      "1034.6920977632878\n",
      "694.8519596385898\n",
      "-0.2899317866611178\n",
      "841.0142237605642\n",
      "1035.6837544980472\n",
      "-0.2899317866611178\n"
     ]
    },
    {
     "name": "stderr",
     "output_type": "stream",
     "text": [
      "\r",
      "t:   4%|██▌                                                                | 49/1260 [00:28<13:18,  1.52it/s, now=None]"
     ]
    },
    {
     "name": "stdout",
     "output_type": "stream",
     "text": [
      "720\n",
      "640.0\n",
      "356.0690300095239\n",
      "1033.9307398944636\n",
      "694.9998849519937\n",
      "-0.29071367760339556\n",
      "840.3562254681805\n",
      "852.6980138068492\n",
      "-0.29071367760339556\n"
     ]
    },
    {
     "name": "stderr",
     "output_type": "stream",
     "text": [
      "\r",
      "t:   4%|██▋                                                                | 50/1260 [00:29<12:13,  1.65it/s, now=None]"
     ]
    },
    {
     "name": "stdout",
     "output_type": "stream",
     "text": [
      "720\n",
      "640.0\n",
      "355.99069980790193\n",
      "1038.4827926570822\n",
      "697.2367462324921\n",
      "-0.30253708722888695\n",
      "905.8748804420039\n",
      "980.2257614852107\n",
      "-0.30253708722888695\n"
     ]
    },
    {
     "name": "stderr",
     "output_type": "stream",
     "text": [
      "\r",
      "t:   4%|██▋                                                                | 51/1260 [00:29<12:26,  1.62it/s, now=None]"
     ]
    },
    {
     "name": "stdout",
     "output_type": "stream",
     "text": [
      "720\n",
      "640.0\n",
      "357.61002774832104\n",
      "1041.6717742450276\n",
      "699.6409009966743\n",
      "-0.31524476241099275\n",
      "958.9840386090098\n",
      "1066.4287085910892\n",
      "-0.31524476241099275\n"
     ]
    },
    {
     "name": "stderr",
     "output_type": "stream",
     "text": [
      "\r",
      "t:   4%|██▊                                                                | 52/1260 [00:30<12:58,  1.55it/s, now=None]"
     ]
    },
    {
     "name": "stdout",
     "output_type": "stream",
     "text": [
      "720\n",
      "640.0\n",
      "357.68199179628044\n",
      "1039.6125173065911\n",
      "698.6472545514358\n",
      "-0.3099926312004465\n",
      "923.1709107212896\n",
      "1017.6307106140227\n",
      "-0.3099926312004465\n"
     ]
    },
    {
     "name": "stderr",
     "output_type": "stream",
     "text": [
      "\r",
      "t:   4%|██▊                                                                | 53/1260 [00:31<13:37,  1.48it/s, now=None]"
     ]
    },
    {
     "name": "stdout",
     "output_type": "stream",
     "text": [
      "720\n",
      "640.0\n",
      "359.0969803982002\n",
      "1047.6888858035675\n",
      "703.3929331008839\n",
      "-0.3350769321046718\n",
      "997.1725276085025\n",
      "2024.6338963800597\n",
      "-0.3350769321046718\n"
     ]
    },
    {
     "name": "stderr",
     "output_type": "stream",
     "text": [
      "\r",
      "t:   4%|██▊                                                                | 54/1260 [00:32<14:00,  1.43it/s, now=None]"
     ]
    },
    {
     "name": "stdout",
     "output_type": "stream",
     "text": [
      "720\n",
      "640.0\n",
      "359.0112354279206\n",
      "1044.2222563800171\n",
      "701.6167459039689\n",
      "-0.3256885140638355\n",
      "974.4841606968074\n",
      "1985.3163304136492\n",
      "-0.3256885140638355\n"
     ]
    },
    {
     "name": "stderr",
     "output_type": "stream",
     "text": [
      "\r",
      "t:   4%|██▉                                                                | 55/1260 [00:32<13:43,  1.46it/s, now=None]"
     ]
    },
    {
     "name": "stdout",
     "output_type": "stream",
     "text": [
      "720\n",
      "640.0\n",
      "359.3247237512221\n",
      "1041.0859194741615\n",
      "700.2053216126918\n",
      "-0.3182281285242282\n",
      "1037.9922364435668\n",
      "1584.2040282323846\n",
      "-0.3182281285242282\n"
     ]
    },
    {
     "name": "stderr",
     "output_type": "stream",
     "text": [
      "\r",
      "t:   4%|██▉                                                                | 56/1260 [00:33<13:50,  1.45it/s, now=None]"
     ]
    },
    {
     "name": "stdout",
     "output_type": "stream",
     "text": [
      "720\n",
      "640.0\n",
      "360.9128708807558\n",
      "1040.5609752166995\n",
      "700.7369230487277\n",
      "-0.32103802182898933\n",
      "1182.2193886373977\n",
      "1399.3877256940748\n",
      "-0.32103802182898933\n"
     ]
    },
    {
     "name": "stderr",
     "output_type": "stream",
     "text": [
      "\r",
      "t:   5%|███                                                                | 57/1260 [00:34<13:22,  1.50it/s, now=None]"
     ]
    },
    {
     "name": "stdout",
     "output_type": "stream",
     "text": [
      "720\n",
      "640.0\n",
      "361.2062919973323\n",
      "1040.2781067924745\n",
      "700.7421993949034\n",
      "-0.32106591108734667\n",
      "1432.2801946119919\n",
      "1237.517055197471\n",
      "-0.32106591108734667\n"
     ]
    },
    {
     "name": "stderr",
     "output_type": "stream",
     "text": [
      "\r",
      "t:   5%|███                                                                | 58/1260 [00:34<14:17,  1.40it/s, now=None]"
     ]
    },
    {
     "name": "stdout",
     "output_type": "stream",
     "text": [
      "720\n",
      "640.0\n",
      "361.4301991154177\n",
      "1041.4621317403255\n",
      "701.4461654278716\n",
      "-0.3247868744044643\n",
      "1538.101781428707\n",
      "1625.9756734835096\n",
      "-0.3247868744044643\n"
     ]
    },
    {
     "name": "stderr",
     "output_type": "stream",
     "text": [
      "\r",
      "t:   5%|███▏                                                               | 59/1260 [00:35<13:30,  1.48it/s, now=None]"
     ]
    },
    {
     "name": "stdout",
     "output_type": "stream",
     "text": [
      "720\n",
      "640.0\n",
      "361.65561754726656\n",
      "1041.3109288006772\n",
      "701.4832731739718\n",
      "-0.3249830153481369\n",
      "1974.2757569791725\n",
      "1959.8793842611192\n",
      "-0.3249830153481369\n"
     ]
    },
    {
     "name": "stderr",
     "output_type": "stream",
     "text": [
      "\r",
      "t:   5%|███▏                                                               | 60/1260 [00:36<13:33,  1.48it/s, now=None]"
     ]
    },
    {
     "name": "stdout",
     "output_type": "stream",
     "text": [
      "720\n",
      "640.0\n",
      "362.5589933893838\n",
      "1029.723861023241\n",
      "696.1414272063123\n",
      "-0.2967475438047936\n",
      "2741.118011964228\n",
      "921.9312310316202\n",
      "-0.2967475438047936\n"
     ]
    },
    {
     "name": "stderr",
     "output_type": "stream",
     "text": [
      "\r",
      "t:   5%|███▏                                                               | 61/1260 [00:36<12:56,  1.55it/s, now=None]"
     ]
    },
    {
     "name": "stdout",
     "output_type": "stream",
     "text": [
      "720\n",
      "640.0\n",
      "361.7061630562957\n",
      "1027.6287321167035\n",
      "694.6674475864996\n",
      "-0.2889565086714981\n",
      "2868.1840503187645\n",
      "892.4108996070424\n",
      "-0.2889565086714981\n"
     ]
    },
    {
     "name": "stderr",
     "output_type": "stream",
     "text": [
      "\r",
      "t:   5%|███▎                                                               | 62/1260 [00:37<13:42,  1.46it/s, now=None]"
     ]
    },
    {
     "name": "stdout",
     "output_type": "stream",
     "text": [
      "720\n",
      "640.0\n",
      "360.36515012304153\n",
      "1030.5776937334958\n",
      "695.4714219282687\n",
      "-0.2932060873351345\n",
      "3502.7332739948474\n",
      "1039.143145559569\n",
      "-0.2932060873351345\n"
     ]
    },
    {
     "name": "stderr",
     "output_type": "stream",
     "text": [
      "\r",
      "t:   5%|███▎                                                               | 63/1260 [00:38<13:16,  1.50it/s, now=None]"
     ]
    },
    {
     "name": "stdout",
     "output_type": "stream",
     "text": [
      "720\n",
      "640.0\n",
      "357.92400790330606\n",
      "1035.9130792628844\n",
      "696.9185435830952\n",
      "-0.3008551589392177\n",
      "2747.9371067538086\n",
      "1499.0952343597896\n",
      "-0.3008551589392177\n"
     ]
    },
    {
     "name": "stderr",
     "output_type": "stream",
     "text": [
      "\r",
      "t:   5%|███▍                                                               | 64/1260 [00:38<13:29,  1.48it/s, now=None]"
     ]
    },
    {
     "name": "stdout",
     "output_type": "stream",
     "text": [
      "720\n",
      "640.0\n",
      "355.48602577952647\n",
      "1043.5026624792154\n",
      "699.4943441293709\n",
      "-0.3144701046838177\n",
      "2565.52021831688\n",
      "4090.6614214773963\n",
      "-0.3144701046838177\n"
     ]
    },
    {
     "name": "stderr",
     "output_type": "stream",
     "text": [
      "\r",
      "t:   5%|███▍                                                               | 65/1260 [00:39<11:30,  1.73it/s, now=None]"
     ]
    },
    {
     "name": "stdout",
     "output_type": "stream",
     "text": [
      "720\n",
      "640.0\n",
      "353.2523538036751\n",
      "1037.8233036560653\n",
      "695.5378287298702\n",
      "-0.29355709471502806\n",
      "2149.3871697318327\n",
      "2879.377028990427\n",
      "-0.29355709471502806\n"
     ]
    },
    {
     "name": "stderr",
     "output_type": "stream",
     "text": [
      "\r",
      "t:   5%|███▌                                                               | 66/1260 [00:39<10:19,  1.93it/s, now=None]"
     ]
    },
    {
     "name": "stdout",
     "output_type": "stream",
     "text": [
      "720\n",
      "640.0\n",
      "349.1421303605228\n",
      "1034.7008992574144\n",
      "691.9215148089686\n",
      "-0.27444229256169117\n",
      "1680.7300174761317\n",
      "2744.4282165201903\n",
      "-0.27444229256169117\n"
     ]
    },
    {
     "name": "stderr",
     "output_type": "stream",
     "text": [
      "\r",
      "t:   5%|███▌                                                               | 67/1260 [00:40<09:54,  2.01it/s, now=None]"
     ]
    },
    {
     "name": "stdout",
     "output_type": "stream",
     "text": [
      "720\n",
      "640.0\n",
      "347.0667835384945\n",
      "1030.071105191109\n",
      "688.5689443648017\n",
      "-0.25672156307109484\n",
      "1495.4403027506771\n",
      "1833.219639127639\n",
      "-0.25672156307109484\n"
     ]
    },
    {
     "name": "stderr",
     "output_type": "stream",
     "text": [
      "\r",
      "t:   5%|███▌                                                               | 68/1260 [00:40<10:11,  1.95it/s, now=None]"
     ]
    },
    {
     "name": "stdout",
     "output_type": "stream",
     "text": [
      "720\n",
      "640.0\n",
      "344.3989210107412\n",
      "1028.596765771136\n",
      "686.4978433909387\n",
      "-0.2457743150663901\n",
      "1291.2752129980054\n",
      "2305.191835665759\n",
      "-0.2457743150663901\n"
     ]
    },
    {
     "name": "stderr",
     "output_type": "stream",
     "text": [
      "\r",
      "t:   5%|███▋                                                               | 69/1260 [00:41<11:17,  1.76it/s, now=None]"
     ]
    },
    {
     "name": "stdout",
     "output_type": "stream",
     "text": [
      "720\n",
      "640.0\n",
      "342.91219511033773\n",
      "1028.3709954874093\n",
      "685.6415952988735\n",
      "-0.24124843229404586\n",
      "1258.9831466829369\n",
      "3481.039005762629\n",
      "-0.24124843229404586\n"
     ]
    },
    {
     "name": "stderr",
     "output_type": "stream",
     "text": [
      "\r",
      "t:   6%|███▋                                                               | 70/1260 [00:41<11:14,  1.76it/s, now=None]"
     ]
    },
    {
     "name": "stdout",
     "output_type": "stream",
     "text": [
      "720\n",
      "640.0\n",
      "341.2295811259546\n",
      "1026.2176028119397\n",
      "683.7235919689472\n",
      "-0.2311104146930065\n",
      "1068.0111657106722\n",
      "4856.551145039907\n",
      "-0.2311104146930065\n"
     ]
    },
    {
     "name": "stderr",
     "output_type": "stream",
     "text": [
      "\r",
      "t:   6%|███▊                                                               | 71/1260 [00:42<10:57,  1.81it/s, now=None]"
     ]
    },
    {
     "name": "stdout",
     "output_type": "stream",
     "text": [
      "720\n",
      "640.0\n",
      "339.10135159139566\n",
      "1025.9089526361015\n",
      "682.5051521137486\n",
      "-0.22467008974409994\n",
      "1001.1680936498869\n",
      "5800.668509721849\n",
      "-0.22467008974409994\n"
     ]
    },
    {
     "name": "stderr",
     "output_type": "stream",
     "text": [
      "\r",
      "t:   6%|███▊                                                               | 72/1260 [00:42<10:41,  1.85it/s, now=None]"
     ]
    },
    {
     "name": "stdout",
     "output_type": "stream",
     "text": [
      "720\n",
      "640.0\n",
      "339.0614157246153\n",
      "1020.5577079947763\n",
      "679.8095618596958\n",
      "-0.2104219698298207\n",
      "951.0232644120609\n",
      "1771.3772073083264\n",
      "-0.2104219698298207\n"
     ]
    },
    {
     "name": "stderr",
     "output_type": "stream",
     "text": [
      "\r",
      "t:   6%|███▉                                                               | 73/1260 [00:43<11:02,  1.79it/s, now=None]"
     ]
    },
    {
     "name": "stdout",
     "output_type": "stream",
     "text": [
      "720\n",
      "640.0\n",
      "338.5823505641765\n",
      "1015.776047463798\n",
      "677.1791990139873\n",
      "-0.196518623359647\n",
      "963.1646287136867\n",
      "1307.0281439034031\n",
      "-0.196518623359647\n"
     ]
    },
    {
     "name": "stderr",
     "output_type": "stream",
     "text": [
      "\r",
      "t:   6%|███▉                                                               | 74/1260 [00:44<11:02,  1.79it/s, now=None]"
     ]
    },
    {
     "name": "stdout",
     "output_type": "stream",
     "text": [
      "720\n",
      "640.0\n",
      "338.9558156682224\n",
      "1019.3328691421634\n",
      "679.1443424051929\n",
      "-0.20690580985601964\n",
      "1024.1271699491458\n",
      "1550.3299525174834\n",
      "-0.20690580985601964\n"
     ]
    },
    {
     "name": "stderr",
     "output_type": "stream",
     "text": [
      "\r",
      "t:   6%|███▉                                                               | 75/1260 [00:44<11:38,  1.70it/s, now=None]"
     ]
    },
    {
     "name": "stdout",
     "output_type": "stream",
     "text": [
      "720\n",
      "640.0\n",
      "339.622019132977\n",
      "1017.4598277871197\n",
      "678.5409234600484\n",
      "-0.20371630971739849\n",
      "1075.9501071008883\n",
      "1659.1159422444825\n",
      "-0.20371630971739849\n"
     ]
    },
    {
     "name": "stderr",
     "output_type": "stream",
     "text": [
      "\r",
      "t:   6%|████                                                               | 76/1260 [00:45<11:31,  1.71it/s, now=None]"
     ]
    },
    {
     "name": "stdout",
     "output_type": "stream",
     "text": [
      "720\n",
      "640.0\n",
      "339.8014572185464\n",
      "1017.9554717208308\n",
      "678.8784644696887\n",
      "-0.2055004550540686\n",
      "1216.0683678037394\n",
      "1658.7963562400998\n",
      "-0.2055004550540686\n"
     ]
    },
    {
     "name": "stderr",
     "output_type": "stream",
     "text": [
      "\r",
      "t:   6%|████                                                               | 77/1260 [00:45<12:17,  1.60it/s, now=None]"
     ]
    },
    {
     "name": "stdout",
     "output_type": "stream",
     "text": [
      "720\n",
      "640.0\n",
      "341.6973805751534\n",
      "1020.5626891398523\n",
      "681.1300348575028\n",
      "-0.21740161281822898\n",
      "1449.0468714159751\n",
      "2353.393489581672\n",
      "-0.21740161281822898\n"
     ]
    },
    {
     "name": "stderr",
     "output_type": "stream",
     "text": [
      "\r",
      "t:   6%|████▏                                                              | 78/1260 [00:46<12:03,  1.63it/s, now=None]"
     ]
    },
    {
     "name": "stdout",
     "output_type": "stream",
     "text": [
      "720\n",
      "640.0\n",
      "341.1566975030662\n",
      "1020.4064622372149\n",
      "680.7815798701406\n",
      "-0.21555977931360035\n",
      "1935.0634015008704\n",
      "2308.8593042816187\n",
      "-0.21555977931360035\n"
     ]
    },
    {
     "name": "stderr",
     "output_type": "stream",
     "text": [
      "\r",
      "t:   6%|████▏                                                              | 79/1260 [00:47<11:42,  1.68it/s, now=None]"
     ]
    },
    {
     "name": "stdout",
     "output_type": "stream",
     "text": [
      "720\n",
      "640.0\n",
      "340.4140731864018\n",
      "1021.1814438278216\n",
      "680.7977585071117\n",
      "-0.21564529496616167\n",
      "2050.976188138726\n",
      "2728.6785731393707\n",
      "-0.21564529496616167\n"
     ]
    },
    {
     "name": "stderr",
     "output_type": "stream",
     "text": [
      "\r",
      "t:   6%|████▎                                                              | 80/1260 [00:47<11:16,  1.75it/s, now=None]"
     ]
    },
    {
     "name": "stdout",
     "output_type": "stream",
     "text": [
      "720\n",
      "640.0\n",
      "338.431523963165\n",
      "1019.8819625112314\n",
      "679.1567432371983\n",
      "-0.20697135711090514\n",
      "2254.4580305754293\n",
      "2469.613361374935\n",
      "-0.20697135711090514\n"
     ]
    },
    {
     "name": "stderr",
     "output_type": "stream",
     "text": [
      "\r",
      "t:   6%|████▎                                                              | 81/1260 [00:48<10:54,  1.80it/s, now=None]"
     ]
    },
    {
     "name": "stdout",
     "output_type": "stream",
     "text": [
      "720\n",
      "640.0\n",
      "335.90649461091243\n",
      "1018.522383087943\n",
      "677.2144388494278\n",
      "-0.19670489106126113\n",
      "2294.8933361139916\n",
      "2958.1316479059433\n",
      "-0.19670489106126113\n"
     ]
    },
    {
     "name": "stderr",
     "output_type": "stream",
     "text": [
      "\r",
      "t:   7%|████▎                                                              | 82/1260 [00:48<11:30,  1.70it/s, now=None]"
     ]
    },
    {
     "name": "stdout",
     "output_type": "stream",
     "text": [
      "720\n",
      "640.0\n",
      "337.54649570772824\n",
      "1015.2398688753499\n",
      "676.393182291539\n",
      "-0.1923639635409919\n",
      "3665.8394892642227\n",
      "1467.3557014126052\n",
      "-0.1923639635409919\n"
     ]
    },
    {
     "name": "stderr",
     "output_type": "stream",
     "text": [
      "\r",
      "t:   7%|████▍                                                              | 83/1260 [00:49<12:24,  1.58it/s, now=None]"
     ]
    },
    {
     "name": "stdout",
     "output_type": "stream",
     "text": [
      "720\n",
      "640.0\n",
      "334.858646663719\n",
      "1015.4862842171209\n",
      "675.17246544042\n",
      "-0.18591160304221976\n",
      "4117.458669543685\n",
      "1811.0296634952297\n",
      "-0.18591160304221976\n"
     ]
    },
    {
     "name": "stderr",
     "output_type": "stream",
     "text": [
      "\r",
      "t:   7%|████▍                                                              | 84/1260 [00:50<12:37,  1.55it/s, now=None]"
     ]
    },
    {
     "name": "stdout",
     "output_type": "stream",
     "text": [
      "720\n",
      "640.0\n",
      "332.64336339414433\n",
      "1017.7920756192212\n",
      "675.2177195066828\n",
      "-0.18615080310675186\n",
      "4461.114932810034\n",
      "2828.457059958971\n",
      "-0.18615080310675186\n"
     ]
    },
    {
     "name": "stderr",
     "output_type": "stream",
     "text": [
      "\r",
      "t:   7%|████▌                                                              | 85/1260 [00:50<12:50,  1.53it/s, now=None]"
     ]
    },
    {
     "name": "stdout",
     "output_type": "stream",
     "text": [
      "720\n",
      "640.0\n",
      "329.9023730226147\n",
      "1026.1889291758584\n",
      "678.0456510992366\n",
      "-0.2010984415245362\n",
      "6329.010407287093\n",
      "3408.35149004976\n",
      "-0.2010984415245362\n"
     ]
    },
    {
     "name": "stderr",
     "output_type": "stream",
     "text": [
      "\r",
      "t:   7%|████▌                                                              | 86/1260 [00:51<12:38,  1.55it/s, now=None]"
     ]
    },
    {
     "name": "stdout",
     "output_type": "stream",
     "text": [
      "720\n",
      "640.0\n",
      "327.3172668068758\n",
      "1022.3131749267641\n",
      "674.8152208668199\n",
      "-0.18402331029604813\n",
      "4603.150578225851\n",
      "2455.4261960937206\n",
      "-0.18402331029604813\n"
     ]
    },
    {
     "name": "stderr",
     "output_type": "stream",
     "text": [
      "\r",
      "t:   7%|████▋                                                              | 87/1260 [00:52<12:03,  1.62it/s, now=None]"
     ]
    },
    {
     "name": "stdout",
     "output_type": "stream",
     "text": [
      "720\n",
      "640.0\n",
      "324.97548355998066\n",
      "1010.9161618933057\n",
      "667.9458227266432\n",
      "-0.14771363441225693\n",
      "3134.5491706203434\n",
      "901.3231252767698\n",
      "-0.14771363441225693\n"
     ]
    },
    {
     "name": "stderr",
     "output_type": "stream",
     "text": [
      "\r",
      "t:   7%|████▋                                                              | 88/1260 [00:52<11:31,  1.70it/s, now=None]"
     ]
    },
    {
     "name": "stdout",
     "output_type": "stream",
     "text": [
      "720\n",
      "640.0\n",
      "325.2679686576639\n",
      "1013.920935569339\n",
      "669.5944521135015\n",
      "-0.156427818314222\n",
      "3195.8138827582884\n",
      "1035.0748533862557\n",
      "-0.156427818314222\n"
     ]
    },
    {
     "name": "stderr",
     "output_type": "stream",
     "text": [
      "\r",
      "t:   7%|████▋                                                              | 89/1260 [00:53<11:02,  1.77it/s, now=None]"
     ]
    },
    {
     "name": "stdout",
     "output_type": "stream",
     "text": [
      "720\n",
      "640.0\n",
      "324.3287151139357\n",
      "1012.9664987056494\n",
      "668.6476069097926\n",
      "-0.1514230650946178\n",
      "2334.4172709457293\n",
      "1105.5027832538922\n",
      "-0.1514230650946178\n"
     ]
    },
    {
     "name": "stderr",
     "output_type": "stream",
     "text": [
      "\r",
      "t:   7%|████▊                                                              | 90/1260 [00:53<11:55,  1.64it/s, now=None]"
     ]
    },
    {
     "name": "stdout",
     "output_type": "stream",
     "text": [
      "720\n",
      "640.0\n",
      "323.1310529210238\n",
      "1025.9595380060373\n",
      "674.5452954635306\n",
      "-0.1825965617358045\n",
      "1787.5683532029823\n",
      "3972.7114154781307\n",
      "-0.1825965617358045\n"
     ]
    },
    {
     "name": "stderr",
     "output_type": "stream",
     "text": [
      "\r",
      "t:   7%|████▊                                                              | 91/1260 [00:54<11:47,  1.65it/s, now=None]"
     ]
    },
    {
     "name": "stdout",
     "output_type": "stream",
     "text": [
      "720\n",
      "640.0\n",
      "324.7358677701564\n",
      "1019.9203855311075\n",
      "672.3281266506319\n",
      "-0.17087724086762593\n",
      "1599.6978385102389\n",
      "2656.8445958639177\n",
      "-0.17087724086762593\n"
     ]
    },
    {
     "name": "stderr",
     "output_type": "stream",
     "text": [
      "\r",
      "t:   7%|████▉                                                              | 92/1260 [00:55<12:26,  1.56it/s, now=None]"
     ]
    },
    {
     "name": "stdout",
     "output_type": "stream",
     "text": [
      "720\n",
      "640.0\n",
      "323.23245581855446\n",
      "1020.3463165280849\n",
      "671.7893861733197\n",
      "-0.1680296126304042\n",
      "1332.289074457014\n",
      "3729.611211705423\n",
      "-0.1680296126304042\n"
     ]
    },
    {
     "name": "stderr",
     "output_type": "stream",
     "text": [
      "\r",
      "t:   7%|████▉                                                              | 93/1260 [00:55<12:00,  1.62it/s, now=None]"
     ]
    },
    {
     "name": "stdout",
     "output_type": "stream",
     "text": [
      "720\n",
      "640.0\n",
      "324.36318521957963\n",
      "1016.141973484197\n",
      "670.2525793518884\n",
      "-0.15990649085998132\n",
      "1346.7392821288595\n",
      "1819.6809226142097\n",
      "-0.15990649085998132\n"
     ]
    },
    {
     "name": "stderr",
     "output_type": "stream",
     "text": [
      "\r",
      "t:   7%|████▉                                                              | 94/1260 [00:56<12:42,  1.53it/s, now=None]"
     ]
    },
    {
     "name": "stdout",
     "output_type": "stream",
     "text": [
      "720\n",
      "640.0\n",
      "325.94138064036537\n",
      "1015.9981183975261\n",
      "670.9697495189457\n",
      "-0.1636972474572845\n",
      "1321.751934482544\n",
      "3020.7161849532376\n",
      "-0.1636972474572845\n"
     ]
    },
    {
     "name": "stderr",
     "output_type": "stream",
     "text": [
      "\r",
      "t:   8%|█████                                                              | 95/1260 [00:57<12:23,  1.57it/s, now=None]"
     ]
    },
    {
     "name": "stdout",
     "output_type": "stream",
     "text": [
      "720\n",
      "640.0\n",
      "326.6656086300144\n",
      "1014.9234790712633\n",
      "670.7945438506388\n",
      "-0.16277116035337638\n",
      "1185.3041906767487\n",
      "2742.836875478474\n",
      "-0.16277116035337638\n"
     ]
    },
    {
     "name": "stderr",
     "output_type": "stream",
     "text": [
      "\r",
      "t:   8%|█████                                                              | 96/1260 [00:57<12:41,  1.53it/s, now=None]"
     ]
    },
    {
     "name": "stdout",
     "output_type": "stream",
     "text": [
      "720\n",
      "640.0\n",
      "326.64135769515246\n",
      "1013.7541791326436\n",
      "670.1977684138981\n",
      "-0.1596167759020327\n",
      "1204.279923034077\n",
      "3176.1362394686216\n",
      "-0.1596167759020327\n"
     ]
    },
    {
     "name": "stderr",
     "output_type": "stream",
     "text": [
      "\r",
      "t:   8%|█████▏                                                             | 97/1260 [00:58<12:49,  1.51it/s, now=None]"
     ]
    },
    {
     "name": "stdout",
     "output_type": "stream",
     "text": [
      "720\n",
      "640.0\n",
      "326.83982599530924\n",
      "1023.9933177929302\n",
      "675.4165718941197\n",
      "-0.1872018800117754\n",
      "1157.6018791629594\n",
      "9754.434634583375\n",
      "-0.1872018800117754\n"
     ]
    },
    {
     "name": "stderr",
     "output_type": "stream",
     "text": [
      "\r",
      "t:   8%|█████▏                                                             | 98/1260 [00:59<12:22,  1.57it/s, now=None]"
     ]
    },
    {
     "name": "stdout",
     "output_type": "stream",
     "text": [
      "720\n",
      "640.0\n",
      "328.4312939501155\n",
      "998.949380838395\n",
      "663.6903373942553\n",
      "-0.12522035479820642\n",
      "1186.0385358805138\n",
      "992.2287674762442\n",
      "-0.12522035479820642\n"
     ]
    },
    {
     "name": "stderr",
     "output_type": "stream",
     "text": [
      "\r",
      "t:   8%|█████▎                                                             | 99/1260 [00:59<11:49,  1.64it/s, now=None]"
     ]
    },
    {
     "name": "stdout",
     "output_type": "stream",
     "text": [
      "720\n",
      "640.0\n",
      "328.55478950366694\n",
      "1006.0958786538503\n",
      "667.3253340787586\n",
      "-0.14443390870200976\n",
      "1165.891793579045\n",
      "1243.8706018163377\n",
      "-0.14443390870200976\n"
     ]
    },
    {
     "name": "stderr",
     "output_type": "stream",
     "text": [
      "\r",
      "t:   8%|█████▏                                                            | 100/1260 [01:00<11:39,  1.66it/s, now=None]"
     ]
    },
    {
     "name": "stdout",
     "output_type": "stream",
     "text": [
      "720\n",
      "640.0\n",
      "331.16765401118147\n",
      "1005.2964078767543\n",
      "668.2320309439679\n",
      "-0.1492264492752587\n",
      "1288.525496423964\n",
      "1212.626535074249\n",
      "-0.1492264492752587\n"
     ]
    },
    {
     "name": "stderr",
     "output_type": "stream",
     "text": [
      "\r",
      "t:   8%|█████▎                                                            | 101/1260 [01:00<11:40,  1.65it/s, now=None]"
     ]
    },
    {
     "name": "stdout",
     "output_type": "stream",
     "text": [
      "720\n",
      "640.0\n",
      "331.47485333143595\n",
      "1006.7221703670024\n",
      "669.0985118492192\n",
      "-0.15380641977444445\n",
      "1302.456349717401\n",
      "1236.3621669705224\n",
      "-0.15380641977444445\n"
     ]
    },
    {
     "name": "stderr",
     "output_type": "stream",
     "text": [
      "\r",
      "t:   8%|█████▎                                                            | 102/1260 [01:01<12:54,  1.50it/s, now=None]"
     ]
    },
    {
     "name": "stdout",
     "output_type": "stream",
     "text": [
      "720\n",
      "640.0\n",
      "333.22099306829244\n",
      "1005.7028779099586\n",
      "669.4619354891255\n",
      "-0.15572737329966332\n",
      "1342.4245260516677\n",
      "1187.2989751281948\n",
      "-0.15572737329966332\n"
     ]
    },
    {
     "name": "stderr",
     "output_type": "stream",
     "text": [
      "\r",
      "t:   8%|█████▍                                                            | 103/1260 [01:02<12:56,  1.49it/s, now=None]"
     ]
    },
    {
     "name": "stdout",
     "output_type": "stream",
     "text": [
      "720\n",
      "640.0\n",
      "334.72852103367563\n",
      "1007.8999297638163\n",
      "671.314225398746\n",
      "-0.16551804853622873\n",
      "1440.7017414618206\n",
      "1477.2167966043833\n",
      "-0.16551804853622873\n"
     ]
    },
    {
     "name": "stderr",
     "output_type": "stream",
     "text": [
      "\r",
      "t:   8%|█████▍                                                            | 104/1260 [01:02<12:50,  1.50it/s, now=None]"
     ]
    },
    {
     "name": "stdout",
     "output_type": "stream",
     "text": [
      "720\n",
      "640.0\n",
      "335.3701253706768\n",
      "1008.970870548772\n",
      "672.1704979597245\n",
      "-0.17004406064425787\n",
      "1426.9091984266543\n",
      "1473.9268896159767\n",
      "-0.17004406064425787\n"
     ]
    },
    {
     "name": "stderr",
     "output_type": "stream",
     "text": [
      "\r",
      "t:   8%|█████▌                                                            | 105/1260 [01:03<12:38,  1.52it/s, now=None]"
     ]
    },
    {
     "name": "stdout",
     "output_type": "stream",
     "text": [
      "720\n",
      "640.0\n",
      "337.22782558490485\n",
      "1009.1682844100822\n",
      "673.1980549974935\n",
      "-0.17547543355817993\n",
      "1531.560059507422\n",
      "1316.3370779712707\n",
      "-0.17547543355817993\n"
     ]
    },
    {
     "name": "stderr",
     "output_type": "stream",
     "text": [
      "\r",
      "t:   8%|█████▌                                                            | 106/1260 [01:04<12:31,  1.54it/s, now=None]"
     ]
    },
    {
     "name": "stdout",
     "output_type": "stream",
     "text": [
      "720\n",
      "640.0\n",
      "336.24166528139057\n",
      "1012.8149211303543\n",
      "674.5282932058724\n",
      "-0.1825066926596112\n",
      "1529.1408038880782\n",
      "1485.958227918521\n",
      "-0.1825066926596112\n"
     ]
    },
    {
     "name": "stderr",
     "output_type": "stream",
     "text": [
      "\r",
      "t:   8%|█████▌                                                            | 107/1260 [01:04<12:43,  1.51it/s, now=None]"
     ]
    },
    {
     "name": "stdout",
     "output_type": "stream",
     "text": [
      "720\n",
      "640.0\n",
      "337.58732819601215\n",
      "1014.9016484186027\n",
      "676.2444883073074\n",
      "-0.19157800962433907\n",
      "1530.3605512643453\n",
      "1327.558116703268\n",
      "-0.19157800962433907\n"
     ]
    },
    {
     "name": "stderr",
     "output_type": "stream",
     "text": [
      "\r",
      "t:   9%|█████▋                                                            | 108/1260 [01:05<12:33,  1.53it/s, now=None]"
     ]
    },
    {
     "name": "stdout",
     "output_type": "stream",
     "text": [
      "720\n",
      "640.0\n",
      "337.03764089188917\n",
      "1018.6662203447221\n",
      "677.8519306183057\n",
      "-0.20007449041104436\n",
      "1458.6494899195538\n",
      "1680.203588363113\n",
      "-0.20007449041104436\n"
     ]
    },
    {
     "name": "stderr",
     "output_type": "stream",
     "text": [
      "\r",
      "t:   9%|█████▋                                                            | 109/1260 [01:06<12:42,  1.51it/s, now=None]"
     ]
    },
    {
     "name": "stdout",
     "output_type": "stream",
     "text": [
      "720\n",
      "640.0\n",
      "338.80263855227673\n",
      "1019.7973600095185\n",
      "679.2999992808976\n",
      "-0.20772856762760172\n",
      "1336.868251439044\n",
      "1899.311088956536\n",
      "-0.20772856762760172\n"
     ]
    },
    {
     "name": "stderr",
     "output_type": "stream",
     "text": [
      "\r",
      "t:   9%|█████▊                                                            | 110/1260 [01:06<12:12,  1.57it/s, now=None]"
     ]
    },
    {
     "name": "stdout",
     "output_type": "stream",
     "text": [
      "720\n",
      "640.0\n",
      "338.73940565950204\n",
      "1034.0239886720813\n",
      "686.3816971657916\n",
      "-0.24516039930489844\n",
      "1295.2743200124153\n",
      "36185.56073855089\n",
      "-0.24516039930489844\n"
     ]
    },
    {
     "name": "stderr",
     "output_type": "stream",
     "text": [
      "\r",
      "t:   9%|█████▊                                                            | 111/1260 [01:07<12:00,  1.59it/s, now=None]"
     ]
    },
    {
     "name": "stdout",
     "output_type": "stream",
     "text": [
      "720\n",
      "640.0\n",
      "338.7538496257385\n",
      "1018.3229666587922\n",
      "678.5384081422653\n",
      "-0.20370301446625957\n",
      "1305.8742710121685\n",
      "1294.0728150496325\n",
      "-0.20370301446625957\n"
     ]
    },
    {
     "name": "stderr",
     "output_type": "stream",
     "text": [
      "\r",
      "t:   9%|█████▊                                                            | 112/1260 [01:07<12:05,  1.58it/s, now=None]"
     ]
    },
    {
     "name": "stdout",
     "output_type": "stream",
     "text": [
      "720\n",
      "640.0\n",
      "339.0992159160832\n",
      "1017.1895201251461\n",
      "678.1443680206147\n",
      "-0.20162023096610632\n",
      "1239.4804215443125\n",
      "1042.5964429398389\n",
      "-0.20162023096610632\n"
     ]
    },
    {
     "name": "stderr",
     "output_type": "stream",
     "text": [
      "\r",
      "t:   9%|█████▉                                                            | 113/1260 [01:08<12:41,  1.51it/s, now=None]"
     ]
    },
    {
     "name": "stdout",
     "output_type": "stream",
     "text": [
      "720\n",
      "640.0\n",
      "338.32642675396136\n",
      "1022.3522690692824\n",
      "680.3393479116219\n",
      "-0.21322226753285847\n",
      "1277.8752017945346\n",
      "1242.160855240388\n",
      "-0.21322226753285847\n"
     ]
    },
    {
     "name": "stderr",
     "output_type": "stream",
     "text": [
      "\r",
      "t:   9%|█████▉                                                            | 114/1260 [01:09<11:55,  1.60it/s, now=None]"
     ]
    },
    {
     "name": "stdout",
     "output_type": "stream",
     "text": [
      "720\n",
      "640.0\n",
      "339.87019472004636\n",
      "1025.5040677358156\n",
      "682.687131227931\n",
      "-0.22563197934763524\n",
      "1226.1413150115584\n",
      "1397.0193554459386\n",
      "-0.22563197934763524\n"
     ]
    },
    {
     "name": "stderr",
     "output_type": "stream",
     "text": [
      "\r",
      "t:   9%|██████                                                            | 115/1260 [01:09<12:19,  1.55it/s, now=None]"
     ]
    },
    {
     "name": "stdout",
     "output_type": "stream",
     "text": [
      "720\n",
      "640.0\n",
      "340.4267181556336\n",
      "1026.915605001198\n",
      "683.6711615784158\n",
      "-0.23083328262876904\n",
      "1200.7289893120358\n",
      "1531.8644455358906\n",
      "-0.23083328262876904\n"
     ]
    },
    {
     "name": "stderr",
     "output_type": "stream",
     "text": [
      "\r",
      "t:   9%|██████                                                            | 116/1260 [01:10<11:51,  1.61it/s, now=None]"
     ]
    },
    {
     "name": "stdout",
     "output_type": "stream",
     "text": [
      "720\n",
      "640.0\n",
      "341.96298378827356\n",
      "1033.3371112883435\n",
      "687.6500475383085\n",
      "-0.25186453698820216\n",
      "1175.0231099334173\n",
      "3565.0425971789537\n",
      "-0.25186453698820216\n"
     ]
    },
    {
     "name": "stderr",
     "output_type": "stream",
     "text": [
      "\r",
      "t:   9%|██████▏                                                           | 117/1260 [01:11<12:05,  1.58it/s, now=None]"
     ]
    },
    {
     "name": "stdout",
     "output_type": "stream",
     "text": [
      "720\n",
      "640.0\n",
      "341.5027988869133\n",
      "1026.7499106572286\n",
      "684.126354772071\n",
      "-0.2332393037952322\n",
      "1012.4491419182727\n",
      "1816.5429127088798\n",
      "-0.2332393037952322\n"
     ]
    },
    {
     "name": "stderr",
     "output_type": "stream",
     "text": [
      "\r",
      "t:   9%|██████▏                                                           | 118/1260 [01:11<11:46,  1.62it/s, now=None]"
     ]
    },
    {
     "name": "stdout",
     "output_type": "stream",
     "text": [
      "720\n",
      "640.0\n",
      "342.4138830667898\n",
      "1026.8770650327733\n",
      "684.6454740497816\n",
      "-0.23598321997741686\n",
      "1050.8103804731884\n",
      "1801.7873975601785\n",
      "-0.23598321997741686\n"
     ]
    },
    {
     "name": "stderr",
     "output_type": "stream",
     "text": [
      "\r",
      "t:   9%|██████▏                                                           | 119/1260 [01:12<11:15,  1.69it/s, now=None]"
     ]
    },
    {
     "name": "stdout",
     "output_type": "stream",
     "text": [
      "720\n",
      "640.0\n",
      "345.3721100722673\n",
      "1024.8064105753988\n",
      "685.0892603238331\n",
      "-0.23832894742597474\n",
      "1158.5194198095935\n",
      "1221.820269108342\n",
      "-0.23832894742597474\n"
     ]
    },
    {
     "name": "stderr",
     "output_type": "stream",
     "text": [
      "\r",
      "t:  10%|██████▎                                                           | 120/1260 [01:12<11:16,  1.69it/s, now=None]"
     ]
    },
    {
     "name": "stdout",
     "output_type": "stream",
     "text": [
      "720\n",
      "640.0\n",
      "346.0484855779326\n",
      "1025.7731754638685\n",
      "685.9108305209005\n",
      "-0.24267153275333125\n",
      "1050.3772548339443\n",
      "1291.8318716997587\n",
      "-0.24267153275333125\n"
     ]
    },
    {
     "name": "stderr",
     "output_type": "stream",
     "text": [
      "\r",
      "t:  10%|██████▎                                                           | 121/1260 [01:13<11:51,  1.60it/s, now=None]"
     ]
    },
    {
     "name": "stdout",
     "output_type": "stream",
     "text": [
      "720\n",
      "640.0\n",
      "347.8575373201666\n",
      "1026.0716467041655\n",
      "686.964592012166\n",
      "-0.2482414149214489\n",
      "1006.4808782911713\n",
      "1315.3726140295146\n",
      "-0.2482414149214489\n"
     ]
    },
    {
     "name": "stderr",
     "output_type": "stream",
     "text": [
      "\r",
      "t:  10%|██████▍                                                           | 122/1260 [01:14<11:48,  1.61it/s, now=None]"
     ]
    },
    {
     "name": "stdout",
     "output_type": "stream",
     "text": [
      "720\n",
      "640.0\n",
      "349.7465291715462\n",
      "1027.102832740699\n",
      "688.4246809561225\n",
      "-0.2559590279109334\n",
      "1119.8482347014644\n",
      "1347.5943342656842\n",
      "-0.2559590279109334\n"
     ]
    },
    {
     "name": "stderr",
     "output_type": "stream",
     "text": [
      "\r",
      "t:  10%|██████▍                                                           | 123/1260 [01:14<11:41,  1.62it/s, now=None]"
     ]
    },
    {
     "name": "stdout",
     "output_type": "stream",
     "text": [
      "720\n",
      "640.0\n",
      "350.606456600771\n",
      "1021.5199671177445\n",
      "686.0632118592578\n",
      "-0.24347697697036247\n",
      "1031.126417761657\n",
      "824.0370318893746\n",
      "-0.24347697697036247\n"
     ]
    },
    {
     "name": "stderr",
     "output_type": "stream",
     "text": [
      "\r",
      "t:  10%|██████▍                                                           | 124/1260 [01:15<11:40,  1.62it/s, now=None]"
     ]
    },
    {
     "name": "stdout",
     "output_type": "stream",
     "text": [
      "720\n",
      "640.0\n",
      "351.51234777130776\n",
      "1019.9033165179053\n",
      "685.7078321446065\n",
      "-0.24159854133577738\n",
      "996.7682321998509\n",
      "774.6246498292255\n",
      "-0.24159854133577738\n"
     ]
    },
    {
     "name": "stderr",
     "output_type": "stream",
     "text": [
      "\r",
      "t:  10%|██████▌                                                           | 125/1260 [01:16<11:30,  1.64it/s, now=None]"
     ]
    },
    {
     "name": "stdout",
     "output_type": "stream",
     "text": [
      "720\n",
      "640.0\n",
      "352.37100498255785\n",
      "1025.7542047929787\n",
      "689.0626048877683\n",
      "-0.25933091154963256\n",
      "962.8961275685958\n",
      "876.489978901468\n",
      "-0.25933091154963256\n"
     ]
    },
    {
     "name": "stderr",
     "output_type": "stream",
     "text": [
      "\r",
      "t:  10%|██████▌                                                           | 126/1260 [01:16<11:49,  1.60it/s, now=None]"
     ]
    },
    {
     "name": "stdout",
     "output_type": "stream",
     "text": [
      "720\n",
      "640.0\n",
      "353.5267921103788\n",
      "1029.8818971225548\n",
      "691.7043446164669\n",
      "-0.2732943929727535\n",
      "967.9709368678517\n",
      "993.6182463529378\n",
      "-0.2732943929727535\n"
     ]
    },
    {
     "name": "stderr",
     "output_type": "stream",
     "text": [
      "\r",
      "t:  10%|██████▋                                                           | 127/1260 [01:17<12:12,  1.55it/s, now=None]"
     ]
    },
    {
     "name": "stdout",
     "output_type": "stream",
     "text": [
      "720\n",
      "640.0\n",
      "353.64290201113886\n",
      "1031.3189354116334\n",
      "692.4809187113862\n",
      "-0.277399141760184\n",
      "945.7942604885726\n",
      "1042.688460495653\n",
      "-0.277399141760184\n"
     ]
    },
    {
     "name": "stderr",
     "output_type": "stream",
     "text": [
      "\r",
      "t:  10%|██████▋                                                           | 128/1260 [01:18<12:13,  1.54it/s, now=None]"
     ]
    },
    {
     "name": "stdout",
     "output_type": "stream",
     "text": [
      "720\n",
      "640.0\n",
      "354.115241000474\n",
      "1036.5845261208865\n",
      "695.3498835606803\n",
      "-0.29256367024931\n",
      "915.3529672122934\n",
      "1338.2365630781462\n",
      "-0.29256367024931\n"
     ]
    },
    {
     "name": "stderr",
     "output_type": "stream",
     "text": [
      "\r",
      "t:  10%|██████▊                                                           | 129/1260 [01:18<12:51,  1.47it/s, now=None]"
     ]
    },
    {
     "name": "stdout",
     "output_type": "stream",
     "text": [
      "720\n",
      "640.0\n",
      "354.89269364290635\n",
      "1037.2370977017008\n",
      "696.0648956723036\n",
      "-0.29634301998217605\n",
      "923.690312279042\n",
      "1398.1463619340439\n",
      "-0.29634301998217605\n"
     ]
    },
    {
     "name": "stderr",
     "output_type": "stream",
     "text": [
      "\r",
      "t:  10%|██████▊                                                           | 130/1260 [01:19<11:54,  1.58it/s, now=None]"
     ]
    },
    {
     "name": "stdout",
     "output_type": "stream",
     "text": [
      "720\n",
      "640.0\n",
      "356.9424692856926\n",
      "1034.8302004335198\n",
      "695.8863348596062\n",
      "-0.2953991985436329\n",
      "891.9033229224791\n",
      "1236.3242734054404\n",
      "-0.2953991985436329\n"
     ]
    },
    {
     "name": "stderr",
     "output_type": "stream",
     "text": [
      "\r",
      "t:  10%|██████▊                                                           | 131/1260 [01:20<12:14,  1.54it/s, now=None]"
     ]
    },
    {
     "name": "stdout",
     "output_type": "stream",
     "text": [
      "720\n",
      "640.0\n",
      "357.3008433036532\n",
      "1032.812390579654\n",
      "695.0566169416536\n",
      "-0.2910135466915976\n",
      "929.5164861946838\n",
      "1044.7246027923268\n",
      "-0.2910135466915976\n"
     ]
    },
    {
     "name": "stderr",
     "output_type": "stream",
     "text": [
      "\r",
      "t:  10%|██████▉                                                           | 132/1260 [01:20<11:57,  1.57it/s, now=None]"
     ]
    },
    {
     "name": "stdout",
     "output_type": "stream",
     "text": [
      "720\n",
      "640.0\n",
      "360.34201693967424\n",
      "1034.7669853983452\n",
      "697.5545011690098\n",
      "-0.3042166490361945\n",
      "1009.4847883379222\n",
      "1226.5874364856056\n",
      "-0.3042166490361945\n"
     ]
    },
    {
     "name": "stderr",
     "output_type": "stream",
     "text": [
      "\r",
      "t:  11%|██████▉                                                           | 133/1260 [01:21<12:26,  1.51it/s, now=None]"
     ]
    },
    {
     "name": "stdout",
     "output_type": "stream",
     "text": [
      "720\n",
      "640.0\n",
      "363.03682865547125\n",
      "1035.0246791038862\n",
      "699.0307538796787\n",
      "-0.3120196990783019\n",
      "1110.1825807322766\n",
      "1320.93040818539\n",
      "-0.3120196990783019\n"
     ]
    },
    {
     "name": "stderr",
     "output_type": "stream",
     "text": [
      "\r",
      "t:  11%|███████                                                           | 134/1260 [01:21<11:54,  1.58it/s, now=None]"
     ]
    },
    {
     "name": "stdout",
     "output_type": "stream",
     "text": [
      "720\n",
      "640.0\n",
      "364.77706373687465\n",
      "1036.2069380268094\n",
      "700.492000881842\n",
      "-0.3197434332325937\n",
      "1264.2253533940657\n",
      "1242.036596219048\n",
      "-0.3197434332325937\n"
     ]
    },
    {
     "name": "stderr",
     "output_type": "stream",
     "text": [
      "\r",
      "t:  11%|███████                                                           | 135/1260 [01:22<12:01,  1.56it/s, now=None]"
     ]
    },
    {
     "name": "stdout",
     "output_type": "stream",
     "text": [
      "720\n",
      "640.0\n",
      "365.8879264012416\n",
      "1023.5988323082136\n",
      "694.7433793547276\n",
      "-0.28935786230356025\n",
      "1219.4485339418438\n",
      "750.8484100632157\n",
      "-0.28935786230356025\n"
     ]
    },
    {
     "name": "stderr",
     "output_type": "stream",
     "text": [
      "\r",
      "t:  11%|███████                                                           | 136/1260 [01:23<11:29,  1.63it/s, now=None]"
     ]
    },
    {
     "name": "stdout",
     "output_type": "stream",
     "text": [
      "720\n",
      "640.0\n",
      "367.6642704692548\n",
      "1029.7553682954187\n",
      "698.7098193823367\n",
      "-0.3103233310209227\n",
      "1430.0740660762397\n",
      "813.9308628323366\n",
      "-0.3103233310209227\n"
     ]
    },
    {
     "name": "stderr",
     "output_type": "stream",
     "text": [
      "\r",
      "t:  11%|███████▏                                                          | 137/1260 [01:23<11:48,  1.58it/s, now=None]"
     ]
    },
    {
     "name": "stdout",
     "output_type": "stream",
     "text": [
      "720\n",
      "640.0\n",
      "367.58589345125785\n",
      "1035.5298775853769\n",
      "701.5578855183173\n",
      "-0.3253773948825345\n",
      "1425.887824849706\n",
      "926.4789169540163\n",
      "-0.3253773948825345\n"
     ]
    },
    {
     "name": "stderr",
     "output_type": "stream",
     "text": [
      "\r",
      "t:  11%|███████▏                                                          | 138/1260 [01:24<11:18,  1.65it/s, now=None]"
     ]
    },
    {
     "name": "stdout",
     "output_type": "stream",
     "text": [
      "720\n",
      "640.0\n",
      "366.77361390483\n",
      "1036.5681041065288\n",
      "701.6708590056794\n",
      "-0.32597454045859114\n",
      "1487.589253503795\n",
      "1000.5073501525238\n",
      "-0.32597454045859114\n"
     ]
    },
    {
     "name": "stderr",
     "output_type": "stream",
     "text": [
      "\r",
      "t:  11%|███████▎                                                          | 139/1260 [01:24<11:41,  1.60it/s, now=None]"
     ]
    },
    {
     "name": "stdout",
     "output_type": "stream",
     "text": [
      "720\n",
      "640.0\n",
      "365.76910868776804\n",
      "1040.2416981417284\n",
      "703.0054034147482\n",
      "-0.3330285609065264\n",
      "1797.1422052755156\n",
      "1100.8754128992725\n",
      "-0.3330285609065264\n"
     ]
    },
    {
     "name": "stderr",
     "output_type": "stream",
     "text": [
      "\r",
      "t:  11%|███████▎                                                          | 140/1260 [01:25<11:59,  1.56it/s, now=None]"
     ]
    },
    {
     "name": "stdout",
     "output_type": "stream",
     "text": [
      "720\n",
      "640.0\n",
      "364.35475258675956\n",
      "1046.0403776494584\n",
      "705.197565118109\n",
      "-0.344615701338576\n",
      "1793.0810110828852\n",
      "1524.613977434586\n",
      "-0.344615701338576\n"
     ]
    },
    {
     "name": "stderr",
     "output_type": "stream",
     "text": [
      "\r",
      "t:  11%|███████▍                                                          | 141/1260 [01:26<11:54,  1.57it/s, now=None]"
     ]
    },
    {
     "name": "stdout",
     "output_type": "stream",
     "text": [
      "720\n",
      "640.0\n",
      "361.55302122698413\n",
      "1048.737562087587\n",
      "705.1452916572856\n",
      "-0.34433939875993824\n",
      "1580.459380476583\n",
      "1891.7352806539438\n",
      "-0.34433939875993824\n"
     ]
    },
    {
     "name": "stderr",
     "output_type": "stream",
     "text": [
      "\r",
      "t:  11%|███████▍                                                          | 142/1260 [01:26<11:33,  1.61it/s, now=None]"
     ]
    },
    {
     "name": "stdout",
     "output_type": "stream",
     "text": [
      "720\n",
      "640.0\n",
      "360.3781716044814\n",
      "1049.618508649479\n",
      "704.9983401269802\n",
      "-0.3435626549568955\n",
      "1694.1337395957978\n",
      "2600.565649904412\n",
      "-0.3435626549568955\n"
     ]
    },
    {
     "name": "stderr",
     "output_type": "stream",
     "text": [
      "\r",
      "t:  11%|███████▍                                                          | 143/1260 [01:27<11:58,  1.55it/s, now=None]"
     ]
    },
    {
     "name": "stdout",
     "output_type": "stream",
     "text": [
      "720\n",
      "640.0\n",
      "358.3470111583843\n",
      "1045.9768022634573\n",
      "702.1619067109208\n",
      "-0.32857007832915275\n",
      "1493.2556793267152\n",
      "1745.85485671134\n",
      "-0.32857007832915275\n"
     ]
    },
    {
     "name": "stderr",
     "output_type": "stream",
     "text": [
      "\r",
      "t:  11%|███████▌                                                          | 144/1260 [01:28<12:02,  1.54it/s, now=None]"
     ]
    },
    {
     "name": "stdout",
     "output_type": "stream",
     "text": [
      "720\n",
      "640.0\n",
      "359.9955366709574\n",
      "1042.1106894388768\n",
      "701.053113054917\n",
      "-0.32270931186170443\n",
      "1551.676375500593\n",
      "1163.312976273041\n",
      "-0.32270931186170443\n"
     ]
    },
    {
     "name": "stderr",
     "output_type": "stream",
     "text": [
      "\r",
      "t:  12%|███████▌                                                          | 145/1260 [01:29<12:57,  1.43it/s, now=None]"
     ]
    },
    {
     "name": "stdout",
     "output_type": "stream",
     "text": [
      "720\n",
      "640.0\n",
      "357.0772057310297\n",
      "1042.7825167032215\n",
      "699.9298612171256\n",
      "-0.31677212357623513\n",
      "1313.3242857228356\n",
      "2514.844665326453\n",
      "-0.31677212357623513\n"
     ]
    },
    {
     "name": "stderr",
     "output_type": "stream",
     "text": [
      "\r",
      "t:  12%|███████▋                                                          | 146/1260 [01:29<11:58,  1.55it/s, now=None]"
     ]
    },
    {
     "name": "stdout",
     "output_type": "stream",
     "text": [
      "720\n",
      "640.0\n",
      "356.90186916246284\n",
      "1043.105369044463\n",
      "700.0036191034629\n",
      "-0.31716198668973267\n",
      "1368.2098634853344\n",
      "2226.182881704137\n",
      "-0.31716198668973267\n"
     ]
    },
    {
     "name": "stderr",
     "output_type": "stream",
     "text": [
      "\r",
      "t:  12%|███████▋                                                          | 147/1260 [01:30<11:44,  1.58it/s, now=None]"
     ]
    },
    {
     "name": "stdout",
     "output_type": "stream",
     "text": [
      "720\n",
      "640.0\n",
      "356.6696310058346\n",
      "1043.6150949655778\n",
      "700.1423629857062\n",
      "-0.3178953472101613\n",
      "1235.6937510835141\n",
      "2436.1420934370494\n",
      "-0.3178953472101613\n"
     ]
    },
    {
     "name": "stderr",
     "output_type": "stream",
     "text": [
      "\r",
      "t:  12%|███████▊                                                          | 148/1260 [01:30<11:08,  1.66it/s, now=None]"
     ]
    },
    {
     "name": "stdout",
     "output_type": "stream",
     "text": [
      "720\n",
      "640.0\n",
      "355.6625581346646\n",
      "1041.2941489867178\n",
      "698.4783535606912\n",
      "-0.3090998688207962\n",
      "1105.3565583177285\n",
      "1443.3915984869193\n",
      "-0.3090998688207962\n"
     ]
    },
    {
     "name": "stderr",
     "output_type": "stream",
     "text": [
      "\r",
      "t:  12%|███████▊                                                          | 149/1260 [01:31<10:57,  1.69it/s, now=None]"
     ]
    },
    {
     "name": "stdout",
     "output_type": "stream",
     "text": [
      "720\n",
      "640.0\n",
      "360.36089336972384\n",
      "1044.826024808639\n",
      "702.5934590891814\n",
      "-0.3308511408999586\n",
      "1383.5123301583476\n",
      "1740.7592485080618\n",
      "-0.3308511408999586\n"
     ]
    },
    {
     "name": "stderr",
     "output_type": "stream",
     "text": [
      "\r",
      "t:  12%|███████▊                                                          | 150/1260 [01:31<11:38,  1.59it/s, now=None]"
     ]
    },
    {
     "name": "stdout",
     "output_type": "stream",
     "text": [
      "720\n",
      "640.0\n",
      "360.96863374535866\n",
      "1044.7756132959983\n",
      "702.8721235206784\n",
      "-0.33232408146644316\n",
      "1433.9807858896575\n",
      "1859.5773897167205\n",
      "-0.33232408146644316\n"
     ]
    },
    {
     "name": "stderr",
     "output_type": "stream",
     "text": [
      "\r",
      "t:  12%|███████▉                                                          | 151/1260 [01:32<11:37,  1.59it/s, now=None]"
     ]
    },
    {
     "name": "stdout",
     "output_type": "stream",
     "text": [
      "720\n",
      "640.0\n",
      "360.35985250142045\n",
      "1042.6285954235084\n",
      "701.4942239624644\n",
      "-0.3250408980873118\n",
      "1374.250907207789\n",
      "1839.2079159900081\n",
      "-0.3250408980873118\n"
     ]
    },
    {
     "name": "stderr",
     "output_type": "stream",
     "text": [
      "\r",
      "t:  12%|███████▉                                                          | 152/1260 [01:33<12:06,  1.53it/s, now=None]"
     ]
    },
    {
     "name": "stdout",
     "output_type": "stream",
     "text": [
      "720\n",
      "640.0\n",
      "360.978984506059\n",
      "1044.444145054403\n",
      "702.711564780231\n",
      "-0.33147541383836393\n",
      "1718.5184514593145\n",
      "2628.8687038534067\n",
      "-0.33147541383836393\n"
     ]
    },
    {
     "name": "stderr",
     "output_type": "stream",
     "text": [
      "\r",
      "t:  12%|████████                                                          | 153/1260 [01:34<13:00,  1.42it/s, now=None]"
     ]
    },
    {
     "name": "stdout",
     "output_type": "stream",
     "text": [
      "720\n",
      "640.0\n",
      "359.79825454389805\n",
      "1044.0834086104494\n",
      "701.9408315771738\n",
      "-0.32740153833648983\n",
      "1876.0875869970941\n",
      "3024.136853295917\n",
      "-0.32740153833648983\n"
     ]
    },
    {
     "name": "stderr",
     "output_type": "stream",
     "text": [
      "\r",
      "t:  12%|████████                                                          | 154/1260 [01:34<12:20,  1.49it/s, now=None]"
     ]
    },
    {
     "name": "stdout",
     "output_type": "stream",
     "text": [
      "720\n",
      "640.0\n",
      "359.80704297543963\n",
      "1039.7095881877644\n",
      "699.758315581602\n",
      "-0.3158653823598963\n",
      "1797.1844170516104\n",
      "2335.626279873422\n",
      "-0.3158653823598963\n"
     ]
    },
    {
     "name": "stderr",
     "output_type": "stream",
     "text": [
      "\r",
      "t:  12%|████████                                                          | 155/1260 [01:35<12:57,  1.42it/s, now=None]"
     ]
    },
    {
     "name": "stdout",
     "output_type": "stream",
     "text": [
      "720\n",
      "640.0\n",
      "358.639894829028\n",
      "1040.7687887468667\n",
      "699.7043417879473\n",
      "-0.3155800923077216\n",
      "1974.2332437407752\n",
      "2539.3451888033987\n",
      "-0.3155800923077216\n"
     ]
    },
    {
     "name": "stderr",
     "output_type": "stream",
     "text": [
      "\r",
      "t:  12%|████████▏                                                         | 156/1260 [01:36<12:31,  1.47it/s, now=None]"
     ]
    },
    {
     "name": "stdout",
     "output_type": "stream",
     "text": [
      "720\n",
      "640.0\n",
      "358.8991677449895\n",
      "1038.8342509326508\n",
      "698.8667093388201\n",
      "-0.311152606505192\n",
      "2327.1674334443605\n",
      "1554.0913365763734\n",
      "-0.311152606505192\n"
     ]
    },
    {
     "name": "stderr",
     "output_type": "stream",
     "text": [
      "\r",
      "t:  12%|████████▏                                                         | 157/1260 [01:36<13:11,  1.39it/s, now=None]"
     ]
    },
    {
     "name": "stdout",
     "output_type": "stream",
     "text": [
      "720\n",
      "640.0\n",
      "357.12705945872113\n",
      "1036.943529923342\n",
      "697.0352946910316\n",
      "-0.3014722719383099\n",
      "2010.694520815098\n",
      "1271.8129551250079\n",
      "-0.3014722719383099\n"
     ]
    },
    {
     "name": "stderr",
     "output_type": "stream",
     "text": [
      "\r",
      "t:  13%|████████▎                                                         | 158/1260 [01:37<13:07,  1.40it/s, now=None]"
     ]
    },
    {
     "name": "stdout",
     "output_type": "stream",
     "text": [
      "720\n",
      "640.0\n",
      "355.9914037619809\n",
      "1036.671054487049\n",
      "696.331229124515\n",
      "-0.2977507825152933\n",
      "2063.9204976637807\n",
      "1414.6152023999362\n",
      "-0.2977507825152933\n"
     ]
    },
    {
     "name": "stderr",
     "output_type": "stream",
     "text": [
      "\r",
      "t:  13%|████████▎                                                         | 159/1260 [01:38<12:48,  1.43it/s, now=None]"
     ]
    },
    {
     "name": "stdout",
     "output_type": "stream",
     "text": [
      "720\n",
      "640.0\n",
      "353.610480681752\n",
      "1032.8410487706537\n",
      "693.2257647262029\n",
      "-0.2813361849813582\n",
      "1597.782403885408\n",
      "1112.1289795906175\n",
      "-0.2813361849813582\n"
     ]
    },
    {
     "name": "stderr",
     "output_type": "stream",
     "text": [
      "\r",
      "t:  13%|████████▍                                                         | 160/1260 [01:39<13:13,  1.39it/s, now=None]"
     ]
    },
    {
     "name": "stdout",
     "output_type": "stream",
     "text": [
      "720\n",
      "640.0\n",
      "350.69877804818117\n",
      "1028.431166703597\n",
      "689.564972375889\n",
      "-0.2619862825582707\n",
      "1438.9867357392845\n",
      "965.8203930113841\n",
      "-0.2619862825582707\n"
     ]
    },
    {
     "name": "stderr",
     "output_type": "stream",
     "text": [
      "\r",
      "t:  13%|████████▍                                                         | 161/1260 [01:39<12:32,  1.46it/s, now=None]"
     ]
    },
    {
     "name": "stdout",
     "output_type": "stream",
     "text": [
      "720\n",
      "640.0\n",
      "348.7778539034366\n",
      "1026.5385910227246\n",
      "687.6582224630806\n",
      "-0.2519077473048547\n",
      "1244.2154412306438\n",
      "872.2079608255192\n",
      "-0.2519077473048547\n"
     ]
    },
    {
     "name": "stderr",
     "output_type": "stream",
     "text": [
      "\r",
      "t:  13%|████████▍                                                         | 162/1260 [01:40<12:33,  1.46it/s, now=None]"
     ]
    },
    {
     "name": "stdout",
     "output_type": "stream",
     "text": [
      "720\n",
      "640.0\n",
      "347.2075753135649\n",
      "1031.416160642561\n",
      "689.311867978063\n",
      "-0.2606484450269044\n",
      "1287.4058617786216\n",
      "993.9221611445909\n",
      "-0.2606484450269044\n"
     ]
    },
    {
     "name": "stderr",
     "output_type": "stream",
     "text": [
      "\r",
      "t:  13%|████████▌                                                         | 163/1260 [01:40<11:41,  1.56it/s, now=None]"
     ]
    },
    {
     "name": "stdout",
     "output_type": "stream",
     "text": [
      "720\n",
      "640.0\n",
      "346.75875570983897\n",
      "1034.5633108744087\n",
      "690.6610332921239\n",
      "-0.26777974740122623\n",
      "1410.9015640585278\n",
      "1140.0638512165765\n",
      "-0.26777974740122623\n"
     ]
    },
    {
     "name": "stderr",
     "output_type": "stream",
     "text": [
      "\r",
      "t:  13%|████████▌                                                         | 164/1260 [01:41<12:28,  1.46it/s, now=None]"
     ]
    },
    {
     "name": "stdout",
     "output_type": "stream",
     "text": [
      "720\n",
      "640.0\n",
      "345.11356038084693\n",
      "1039.254078995063\n",
      "692.1838196879551\n",
      "-0.2758287612077625\n",
      "1379.3717328463422\n",
      "1432.933856293955\n",
      "-0.2758287612077625\n"
     ]
    },
    {
     "name": "stderr",
     "output_type": "stream",
     "text": [
      "\r",
      "t:  13%|████████▋                                                         | 165/1260 [01:42<11:47,  1.55it/s, now=None]"
     ]
    },
    {
     "name": "stdout",
     "output_type": "stream",
     "text": [
      "720\n",
      "640.0\n",
      "344.12823603041767\n",
      "1052.2880315446719\n",
      "698.2081337875447\n",
      "-0.3076715643055936\n",
      "1153.6101379250115\n",
      "16563.811800684558\n",
      "-0.3076715643055936\n"
     ]
    },
    {
     "name": "stderr",
     "output_type": "stream",
     "text": [
      "\r",
      "t:  13%|████████▋                                                         | 166/1260 [01:42<11:39,  1.56it/s, now=None]"
     ]
    },
    {
     "name": "stdout",
     "output_type": "stream",
     "text": [
      "720\n",
      "640.0\n",
      "344.9702067060648\n",
      "1044.9108979086998\n",
      "694.9405523073823\n",
      "-0.29040006219616354\n",
      "1169.1140588262856\n",
      "10650.85942804745\n",
      "-0.29040006219616354\n"
     ]
    },
    {
     "name": "stderr",
     "output_type": "stream",
     "text": [
      "\r",
      "t:  13%|████████▋                                                         | 167/1260 [01:43<11:18,  1.61it/s, now=None]"
     ]
    },
    {
     "name": "stdout",
     "output_type": "stream",
     "text": [
      "720\n",
      "640.0\n",
      "344.4935542266971\n",
      "1042.8916856906105\n",
      "693.6926199586538\n",
      "-0.2838038483528846\n",
      "1166.1108927499167\n",
      "115139.93187282911\n",
      "-0.2838038483528846\n"
     ]
    },
    {
     "name": "stderr",
     "output_type": "stream",
     "text": [
      "\r",
      "t:  13%|████████▊                                                         | 168/1260 [01:44<11:42,  1.55it/s, now=None]"
     ]
    },
    {
     "name": "stdout",
     "output_type": "stream",
     "text": [
      "720\n",
      "640.0\n",
      "344.3533981413984\n",
      "1036.5421041747254\n",
      "690.4477511580619\n",
      "-0.2666523989783273\n",
      "1116.8499148229994\n",
      "3132.9940907370305\n",
      "-0.2666523989783273\n"
     ]
    },
    {
     "name": "stderr",
     "output_type": "stream",
     "text": [
      "\r",
      "t:  13%|████████▊                                                         | 169/1260 [01:44<11:32,  1.58it/s, now=None]"
     ]
    },
    {
     "name": "stdout",
     "output_type": "stream",
     "text": [
      "720\n",
      "640.0\n",
      "345.9382418265384\n",
      "1036.3962470505387\n",
      "691.1672444385385\n",
      "-0.27045543488941803\n",
      "1327.2747206608226\n",
      "2715.890795535305\n",
      "-0.27045543488941803\n"
     ]
    },
    {
     "name": "stderr",
     "output_type": "stream",
     "text": [
      "\r",
      "t:  13%|████████▉                                                         | 170/1260 [01:45<12:14,  1.48it/s, now=None]"
     ]
    },
    {
     "name": "stdout",
     "output_type": "stream",
     "text": [
      "720\n",
      "640.0\n",
      "344.7764344603108\n",
      "1036.7173775727388\n",
      "690.7469060165248\n",
      "-0.2682336460873454\n",
      "1249.3158388887582\n",
      "4820.657413544628\n",
      "-0.2682336460873454\n"
     ]
    },
    {
     "name": "stderr",
     "output_type": "stream",
     "text": [
      "\r",
      "t:  14%|████████▉                                                         | 171/1260 [01:46<11:52,  1.53it/s, now=None]"
     ]
    },
    {
     "name": "stdout",
     "output_type": "stream",
     "text": [
      "720\n",
      "640.0\n",
      "343.133585066414\n",
      "1035.6322429194556\n",
      "689.3829139929348\n",
      "-0.26102397396265564\n",
      "1360.3469458430393\n",
      "5151.3149659528035\n",
      "-0.26102397396265564\n"
     ]
    },
    {
     "name": "stderr",
     "output_type": "stream",
     "text": [
      "\r",
      "t:  14%|█████████                                                         | 172/1260 [01:46<12:31,  1.45it/s, now=None]"
     ]
    },
    {
     "name": "stdout",
     "output_type": "stream",
     "text": [
      "720\n",
      "640.0\n",
      "341.7056911594012\n",
      "1033.977305657083\n",
      "687.8414984082422\n",
      "-0.25287649158642284\n",
      "1259.1076219894119\n",
      "6615.6040547974535\n",
      "-0.25287649158642284\n"
     ]
    },
    {
     "name": "stderr",
     "output_type": "stream",
     "text": [
      "\r",
      "t:  14%|█████████                                                         | 173/1260 [01:47<11:53,  1.52it/s, now=None]"
     ]
    },
    {
     "name": "stdout",
     "output_type": "stream",
     "text": [
      "720\n",
      "640.0\n",
      "341.747878149041\n",
      "1032.026604707994\n",
      "686.8872414285175\n",
      "-0.24783256183644986\n",
      "1402.5592361758552\n",
      "4309.942344161184\n",
      "-0.24783256183644986\n"
     ]
    },
    {
     "name": "stderr",
     "output_type": "stream",
     "text": [
      "\r",
      "t:  14%|█████████                                                         | 174/1260 [01:48<11:39,  1.55it/s, now=None]"
     ]
    },
    {
     "name": "stdout",
     "output_type": "stream",
     "text": [
      "720\n",
      "640.0\n",
      "340.17743506789327\n",
      "1012.9238037677842\n",
      "676.5506194178388\n",
      "-0.19319613120857645\n",
      "1347.4704334056248\n",
      "876.9434013670982\n",
      "-0.19319613120857645\n"
     ]
    },
    {
     "name": "stderr",
     "output_type": "stream",
     "text": [
      "\r",
      "t:  14%|█████████▏                                                        | 175/1260 [01:48<10:56,  1.65it/s, now=None]"
     ]
    },
    {
     "name": "stdout",
     "output_type": "stream",
     "text": [
      "720\n",
      "640.0\n",
      "341.83267533444075\n",
      "1014.0252827437458\n",
      "677.9289790390933\n",
      "-0.20048174634949312\n",
      "1543.7452752752943\n",
      "911.8911995423244\n",
      "-0.20048174634949312\n"
     ]
    },
    {
     "name": "stderr",
     "output_type": "stream",
     "text": [
      "\r",
      "t:  14%|█████████▏                                                        | 176/1260 [01:49<11:50,  1.53it/s, now=None]"
     ]
    },
    {
     "name": "stdout",
     "output_type": "stream",
     "text": [
      "720\n",
      "640.0\n",
      "342.34699270324455\n",
      "1017.1990545698906\n",
      "679.7730236365676\n",
      "-0.21022883922185726\n",
      "1858.695099031495\n",
      "1003.0137535456831\n",
      "-0.21022883922185726\n"
     ]
    },
    {
     "name": "stderr",
     "output_type": "stream",
     "text": [
      "\r",
      "t:  14%|█████████▎                                                        | 177/1260 [01:50<11:59,  1.50it/s, now=None]"
     ]
    },
    {
     "name": "stdout",
     "output_type": "stream",
     "text": [
      "720\n",
      "640.0\n",
      "341.6248943747923\n",
      "1021.3683809309069\n",
      "681.4966376528496\n",
      "-0.2193393704507764\n",
      "2093.0403450500908\n",
      "1222.5317802290674\n",
      "-0.2193393704507764\n"
     ]
    },
    {
     "name": "stderr",
     "output_type": "stream",
     "text": [
      "\r",
      "t:  14%|█████████▎                                                        | 178/1260 [01:50<12:18,  1.46it/s, now=None]"
     ]
    },
    {
     "name": "stdout",
     "output_type": "stream",
     "text": [
      "720\n",
      "640.0\n",
      "340.2767166618696\n",
      "1020.0464399865926\n",
      "680.1615783242312\n",
      "-0.21228262828522199\n",
      "2498.664592762335\n",
      "1122.0507749271271\n",
      "-0.21228262828522199\n"
     ]
    },
    {
     "name": "stderr",
     "output_type": "stream",
     "text": [
      "\r",
      "t:  14%|█████████▍                                                        | 179/1260 [01:51<12:21,  1.46it/s, now=None]"
     ]
    },
    {
     "name": "stdout",
     "output_type": "stream",
     "text": [
      "720\n",
      "640.0\n",
      "339.92765629024075\n",
      "1019.8997054419829\n",
      "679.9136808661118\n",
      "-0.21097231314944812\n",
      "2680.2246589721126\n",
      "945.9752022602022\n",
      "-0.21097231314944812\n"
     ]
    },
    {
     "name": "stderr",
     "output_type": "stream",
     "text": [
      "\r",
      "t:  14%|█████████▍                                                        | 180/1260 [01:52<12:15,  1.47it/s, now=None]"
     ]
    },
    {
     "name": "stdout",
     "output_type": "stream",
     "text": [
      "720\n",
      "640.0\n",
      "338.96695748749687\n",
      "1025.3880775732243\n",
      "682.1775175303605\n",
      "-0.22293830694619146\n",
      "2641.243859358511\n",
      "1181.948602885935\n",
      "-0.22293830694619146\n"
     ]
    },
    {
     "name": "stderr",
     "output_type": "stream",
     "text": [
      "\r",
      "t:  14%|█████████▍                                                        | 181/1260 [01:52<12:34,  1.43it/s, now=None]"
     ]
    },
    {
     "name": "stdout",
     "output_type": "stream",
     "text": [
      "720\n",
      "640.0\n",
      "339.0387673122433\n",
      "1025.2870007712202\n",
      "682.1628840417318\n",
      "-0.22286095850629659\n",
      "3180.2399687140346\n",
      "791.7186966048328\n",
      "-0.22286095850629659\n"
     ]
    },
    {
     "name": "stderr",
     "output_type": "stream",
     "text": [
      "\r",
      "t:  14%|█████████▌                                                        | 182/1260 [01:53<11:54,  1.51it/s, now=None]"
     ]
    },
    {
     "name": "stdout",
     "output_type": "stream",
     "text": [
      "720\n",
      "640.0\n",
      "337.44129595917934\n",
      "1026.6009227221502\n",
      "682.0211093406648\n",
      "-0.2221115779435139\n",
      "2572.9839099679984\n",
      "758.3885717712885\n",
      "-0.2221115779435139\n"
     ]
    },
    {
     "name": "stderr",
     "output_type": "stream",
     "text": [
      "\r",
      "t:  15%|█████████▌                                                        | 183/1260 [01:54<12:45,  1.41it/s, now=None]"
     ]
    },
    {
     "name": "stdout",
     "output_type": "stream",
     "text": [
      "720\n",
      "640.0\n",
      "334.5957259029724\n",
      "1028.9665067523683\n",
      "681.7811163276704\n",
      "-0.22084304344625763\n",
      "2341.9049117402565\n",
      "767.8571721515157\n",
      "-0.22084304344625763\n"
     ]
    },
    {
     "name": "stderr",
     "output_type": "stream",
     "text": [
      "\r",
      "t:  15%|█████████▋                                                        | 184/1260 [01:54<11:58,  1.50it/s, now=None]"
     ]
    },
    {
     "name": "stdout",
     "output_type": "stream",
     "text": [
      "720\n",
      "640.0\n",
      "333.1671697342533\n",
      "1029.773132014978\n",
      "681.4701508746157\n",
      "-0.2191993689086829\n",
      "1897.7763823698\n",
      "757.7294412918392\n",
      "-0.2191993689086829\n"
     ]
    },
    {
     "name": "stderr",
     "output_type": "stream",
     "text": [
      "\r",
      "t:  15%|█████████▋                                                        | 185/1260 [01:55<12:12,  1.47it/s, now=None]"
     ]
    },
    {
     "name": "stdout",
     "output_type": "stream",
     "text": [
      "720\n",
      "640.0\n",
      "331.53314682479333\n",
      "1023.2045824382967\n",
      "677.368864631545\n",
      "-0.19752114162388054\n",
      "1474.1566366952875\n",
      "591.548850310686\n",
      "-0.19752114162388054\n"
     ]
    },
    {
     "name": "stderr",
     "output_type": "stream",
     "text": [
      "\r",
      "t:  15%|█████████▋                                                        | 186/1260 [01:56<12:18,  1.45it/s, now=None]"
     ]
    },
    {
     "name": "stdout",
     "output_type": "stream",
     "text": [
      "720\n",
      "640.0\n",
      "329.6956229245363\n",
      "1031.213991541894\n",
      "680.4548072332152\n",
      "-0.21383255251842323\n",
      "1202.0566249043306\n",
      "700.3039739018386\n",
      "-0.21383255251842323\n"
     ]
    },
    {
     "name": "stderr",
     "output_type": "stream",
     "text": [
      "\r",
      "t:  15%|█████████▊                                                        | 187/1260 [01:57<12:55,  1.38it/s, now=None]"
     ]
    },
    {
     "name": "stdout",
     "output_type": "stream",
     "text": [
      "720\n",
      "640.0\n",
      "329.7088992038616\n",
      "1034.8143286563445\n",
      "682.2616139301031\n",
      "-0.22338281648768765\n",
      "940.973637850852\n",
      "807.2807203308897\n",
      "-0.22338281648768765\n"
     ]
    },
    {
     "name": "stderr",
     "output_type": "stream",
     "text": [
      "\r",
      "t:  15%|█████████▊                                                        | 188/1260 [01:57<12:59,  1.37it/s, now=None]"
     ]
    },
    {
     "name": "stdout",
     "output_type": "stream",
     "text": [
      "720\n",
      "640.0\n",
      "329.46417736251345\n",
      "1040.5410479983202\n",
      "685.0026126804169\n",
      "-0.23787095273934628\n",
      "871.53156553507\n",
      "1013.4428418848885\n",
      "-0.23787095273934628\n"
     ]
    },
    {
     "name": "stderr",
     "output_type": "stream",
     "text": [
      "\r",
      "t:  15%|█████████▉                                                        | 189/1260 [01:58<12:25,  1.44it/s, now=None]"
     ]
    },
    {
     "name": "stdout",
     "output_type": "stream",
     "text": [
      "720\n",
      "640.0\n",
      "330.97912037926255\n",
      "1042.1858927334968\n",
      "686.5825065563797\n",
      "-0.24622182036943563\n",
      "803.486876694976\n",
      "1182.000188628427\n",
      "-0.24622182036943563\n"
     ]
    },
    {
     "name": "stderr",
     "output_type": "stream",
     "text": [
      "\r",
      "t:  15%|█████████▉                                                        | 190/1260 [01:59<12:19,  1.45it/s, now=None]"
     ]
    },
    {
     "name": "stdout",
     "output_type": "stream",
     "text": [
      "720\n",
      "640.0\n",
      "332.8204135920316\n",
      "1041.6035477603755\n",
      "687.2119806762036\n",
      "-0.24954904071707593\n",
      "799.717011901428\n",
      "1359.7239990767769\n",
      "-0.24954904071707593\n"
     ]
    },
    {
     "name": "stderr",
     "output_type": "stream",
     "text": [
      "\r",
      "t:  15%|██████████                                                        | 191/1260 [01:59<11:41,  1.52it/s, now=None]"
     ]
    },
    {
     "name": "stdout",
     "output_type": "stream",
     "text": [
      "720\n",
      "640.0\n",
      "335.28526721335834\n",
      "1037.3544364147463\n",
      "686.3198518140523\n",
      "-0.244833502445705\n",
      "770.5156405845801\n",
      "1111.6696376359214\n",
      "-0.244833502445705\n"
     ]
    },
    {
     "name": "stderr",
     "output_type": "stream",
     "text": [
      "\r",
      "t:  15%|██████████                                                        | 192/1260 [02:00<11:59,  1.48it/s, now=None]"
     ]
    },
    {
     "name": "stdout",
     "output_type": "stream",
     "text": [
      "720\n",
      "640.0\n",
      "338.3466394614068\n",
      "1036.0234436090916\n",
      "687.1850415352492\n",
      "-0.24940664811488855\n",
      "747.7625300660103\n",
      "1256.409665659256\n",
      "-0.24940664811488855\n"
     ]
    },
    {
     "name": "stderr",
     "output_type": "stream",
     "text": [
      "\r",
      "t:  15%|██████████                                                        | 193/1260 [02:00<11:16,  1.58it/s, now=None]"
     ]
    },
    {
     "name": "stdout",
     "output_type": "stream",
     "text": [
      "720\n",
      "640.0\n",
      "342.88781594714294\n",
      "1035.4743565776898\n",
      "689.1810862624163\n",
      "-0.2599571702442006\n",
      "825.1040588793643\n",
      "1219.025472361962\n",
      "-0.2599571702442006\n"
     ]
    },
    {
     "name": "stderr",
     "output_type": "stream",
     "text": [
      "\r",
      "t:  15%|██████████▏                                                       | 194/1260 [02:01<11:26,  1.55it/s, now=None]"
     ]
    },
    {
     "name": "stdout",
     "output_type": "stream",
     "text": [
      "720\n",
      "640.0\n",
      "346.56595553229954\n",
      "1035.4772930488036\n",
      "691.0216242905516\n",
      "-0.26968572839291555\n",
      "796.7530419334843\n",
      "1235.5471266537675\n",
      "-0.26968572839291555\n"
     ]
    },
    {
     "name": "stderr",
     "output_type": "stream",
     "text": [
      "\r",
      "t:  15%|██████████▏                                                       | 195/1260 [02:02<11:18,  1.57it/s, now=None]"
     ]
    },
    {
     "name": "stdout",
     "output_type": "stream",
     "text": [
      "720\n",
      "640.0\n",
      "349.72064103699483\n",
      "1033.5093183480196\n",
      "691.6149796925072\n",
      "-0.2728220355175379\n",
      "854.4306023674098\n",
      "1056.0144705199873\n",
      "-0.2728220355175379\n"
     ]
    },
    {
     "name": "stderr",
     "output_type": "stream",
     "text": [
      "\r",
      "t:  16%|██████████▎                                                       | 196/1260 [02:02<11:01,  1.61it/s, now=None]"
     ]
    },
    {
     "name": "stdout",
     "output_type": "stream",
     "text": [
      "720\n",
      "640.0\n",
      "351.1547755758686\n",
      "1031.7561978285653\n",
      "691.455486702217\n",
      "-0.27197900114028956\n",
      "943.9818019688477\n",
      "885.8050794427412\n",
      "-0.27197900114028956\n"
     ]
    },
    {
     "name": "stderr",
     "output_type": "stream",
     "text": [
      "\r",
      "t:  16%|██████████▎                                                       | 197/1260 [02:03<11:19,  1.56it/s, now=None]"
     ]
    },
    {
     "name": "stdout",
     "output_type": "stream",
     "text": [
      "720\n",
      "640.0\n",
      "348.8955531802178\n",
      "1025.264133086093\n",
      "687.0798431331554\n",
      "-0.24885059941810686\n",
      "970.436636866122\n",
      "867.4345918950045\n",
      "-0.24885059941810686\n"
     ]
    },
    {
     "name": "stderr",
     "output_type": "stream",
     "text": [
      "\r",
      "t:  16%|██████████▎                                                       | 198/1260 [02:04<11:36,  1.52it/s, now=None]"
     ]
    },
    {
     "name": "stdout",
     "output_type": "stream",
     "text": [
      "720\n",
      "640.0\n",
      "346.74323372202093\n",
      "1029.7048091099846\n",
      "688.2240214160028\n",
      "-0.25489839891315746\n",
      "1117.10263585452\n",
      "940.6393146832995\n",
      "-0.25489839891315746\n"
     ]
    },
    {
     "name": "stderr",
     "output_type": "stream",
     "text": [
      "\r",
      "t:  16%|██████████▍                                                       | 199/1260 [02:04<11:15,  1.57it/s, now=None]"
     ]
    },
    {
     "name": "stdout",
     "output_type": "stream",
     "text": [
      "720\n",
      "640.0\n",
      "344.18039533018\n",
      "1033.0660648756834\n",
      "688.6232301029318\n",
      "-0.2570085019726393\n",
      "1261.797933872383\n",
      "1009.1400249017461\n",
      "-0.2570085019726393\n"
     ]
    },
    {
     "name": "stderr",
     "output_type": "stream",
     "text": [
      "\r",
      "t:  16%|██████████▍                                                       | 200/1260 [02:05<11:46,  1.50it/s, now=None]"
     ]
    },
    {
     "name": "stdout",
     "output_type": "stream",
     "text": [
      "720\n",
      "640.0\n",
      "340.98029769452626\n",
      "1036.2703274766159\n",
      "688.625312585571\n",
      "-0.25701950938087537\n",
      "1230.7906422640597\n",
      "1030.3027452306346\n",
      "-0.25701950938087537\n"
     ]
    },
    {
     "name": "stderr",
     "output_type": "stream",
     "text": [
      "\r",
      "t:  16%|██████████▌                                                       | 201/1260 [02:06<12:03,  1.46it/s, now=None]"
     ]
    },
    {
     "name": "stdout",
     "output_type": "stream",
     "text": [
      "720\n",
      "640.0\n",
      "341.1919942427354\n",
      "1038.3724466791489\n",
      "689.7822204609422\n",
      "-0.2631345938649802\n",
      "1384.2733043468945\n",
      "1211.5508376143678\n",
      "-0.2631345938649802\n"
     ]
    },
    {
     "name": "stderr",
     "output_type": "stream",
     "text": [
      "\r",
      "t:  16%|██████████▌                                                       | 202/1260 [02:07<12:58,  1.36it/s, now=None]"
     ]
    },
    {
     "name": "stdout",
     "output_type": "stream",
     "text": [
      "720\n",
      "640.0\n",
      "338.8301912299819\n",
      "1042.5200964521448\n",
      "690.6751438410633\n",
      "-0.2678543317313348\n",
      "1387.0891527829888\n",
      "1592.1295513849047\n",
      "-0.2678543317313348\n"
     ]
    },
    {
     "name": "stderr",
     "output_type": "stream",
     "text": [
      "\r",
      "t:  16%|██████████▋                                                       | 203/1260 [02:07<12:39,  1.39it/s, now=None]"
     ]
    },
    {
     "name": "stdout",
     "output_type": "stream",
     "text": [
      "720\n",
      "640.0\n",
      "338.3930223778466\n",
      "1042.1819934692105\n",
      "690.2875079235286\n",
      "-0.26580539902436523\n",
      "1448.262434914969\n",
      "1822.005654493748\n",
      "-0.26580539902436523\n"
     ]
    },
    {
     "name": "stderr",
     "output_type": "stream",
     "text": [
      "\r",
      "t:  16%|██████████▋                                                       | 204/1260 [02:08<12:43,  1.38it/s, now=None]"
     ]
    },
    {
     "name": "stdout",
     "output_type": "stream",
     "text": [
      "720\n",
      "640.0\n",
      "337.0511269324208\n",
      "1040.6066789679592\n",
      "688.82890295019\n",
      "-0.2580956298795758\n",
      "1404.5181879786624\n",
      "2124.4671647436694\n",
      "-0.2580956298795758\n"
     ]
    },
    {
     "name": "stderr",
     "output_type": "stream",
     "text": [
      "\r",
      "t:  16%|██████████▋                                                       | 205/1260 [02:09<12:45,  1.38it/s, now=None]"
     ]
    },
    {
     "name": "stdout",
     "output_type": "stream",
     "text": [
      "720\n",
      "640.0\n",
      "335.96584245128236\n",
      "1038.772383744617\n",
      "687.3691130979496\n",
      "-0.2503795978034479\n",
      "1454.148451437922\n",
      "1822.1087436894786\n",
      "-0.2503795978034479\n"
     ]
    },
    {
     "name": "stderr",
     "output_type": "stream",
     "text": [
      "\r",
      "t:  16%|██████████▊                                                       | 206/1260 [02:09<12:30,  1.40it/s, now=None]"
     ]
    },
    {
     "name": "stdout",
     "output_type": "stream",
     "text": [
      "720\n",
      "640.0\n",
      "338.05872244505827\n",
      "1034.60601930892\n",
      "686.3323708769891\n",
      "-0.24489967463551385\n",
      "1614.8535071780193\n",
      "1236.7721525306524\n",
      "-0.24489967463551385\n"
     ]
    },
    {
     "name": "stderr",
     "output_type": "stream",
     "text": [
      "\r",
      "t:  16%|██████████▊                                                       | 207/1260 [02:10<12:37,  1.39it/s, now=None]"
     ]
    },
    {
     "name": "stdout",
     "output_type": "stream",
     "text": [
      "720\n",
      "640.0\n",
      "338.7119175024602\n",
      "1034.7668197441253\n",
      "686.7393686232928\n",
      "-0.2470509484374046\n",
      "1581.7190437347838\n",
      "1407.981887374659\n",
      "-0.2470509484374046\n"
     ]
    },
    {
     "name": "stderr",
     "output_type": "stream",
     "text": [
      "\r",
      "t:  17%|██████████▉                                                       | 208/1260 [02:11<11:29,  1.53it/s, now=None]"
     ]
    },
    {
     "name": "stdout",
     "output_type": "stream",
     "text": [
      "720\n",
      "640.0\n",
      "340.865032467017\n",
      "1033.1540023673385\n",
      "687.0095174171778\n",
      "-0.24847887777651118\n",
      "1593.5186960754002\n",
      "1467.7907672318852\n",
      "-0.24847887777651118\n"
     ]
    },
    {
     "name": "stderr",
     "output_type": "stream",
     "text": [
      "\r",
      "t:  17%|██████████▉                                                       | 209/1260 [02:11<11:58,  1.46it/s, now=None]"
     ]
    },
    {
     "name": "stdout",
     "output_type": "stream",
     "text": [
      "720\n",
      "640.0\n",
      "340.69669251168443\n",
      "1024.9948896584478\n",
      "682.8457910850661\n",
      "-0.2264706100210639\n",
      "1352.0901350699683\n",
      "827.4051330734379\n",
      "-0.2264706100210639\n"
     ]
    },
    {
     "name": "stderr",
     "output_type": "stream",
     "text": [
      "\r",
      "t:  17%|███████████                                                       | 210/1260 [02:12<11:09,  1.57it/s, now=None]"
     ]
    },
    {
     "name": "stdout",
     "output_type": "stream",
     "text": [
      "720\n",
      "640.0\n",
      "340.93874308105353\n",
      "1023.0333833420592\n",
      "681.9860632115564\n",
      "-0.22192633411822654\n",
      "1436.8530655894356\n",
      "761.0429543880178\n",
      "-0.22192633411822654\n"
     ]
    },
    {
     "name": "stderr",
     "output_type": "stream",
     "text": [
      "\r",
      "t:  17%|███████████                                                       | 211/1260 [02:13<11:34,  1.51it/s, now=None]"
     ]
    },
    {
     "name": "stdout",
     "output_type": "stream",
     "text": [
      "720\n",
      "640.0\n",
      "339.7243407188749\n",
      "1026.7147533660307\n",
      "683.2195470424527\n",
      "-0.2284461772243931\n",
      "1320.446798938045\n",
      "865.6627764230836\n",
      "-0.2284461772243931\n"
     ]
    },
    {
     "name": "stderr",
     "output_type": "stream",
     "text": [
      "\r",
      "t:  17%|███████████                                                       | 212/1260 [02:13<11:13,  1.56it/s, now=None]"
     ]
    },
    {
     "name": "stdout",
     "output_type": "stream",
     "text": [
      "720\n",
      "640.0\n",
      "338.62067154979695\n",
      "1031.6903865687689\n",
      "685.1555290592829\n",
      "-0.23867922502763828\n",
      "1389.9987314722307\n",
      "979.3926758684328\n",
      "-0.23867922502763828\n"
     ]
    },
    {
     "name": "stderr",
     "output_type": "stream",
     "text": [
      "\r",
      "t:  17%|███████████▏                                                      | 213/1260 [02:14<12:19,  1.42it/s, now=None]"
     ]
    },
    {
     "name": "stdout",
     "output_type": "stream",
     "text": [
      "720\n",
      "640.0\n",
      "338.1366654345533\n",
      "1033.5966888248395\n",
      "685.8666771296964\n",
      "-0.2424381505426811\n",
      "1286.8676838622364\n",
      "1076.2910665661075\n",
      "-0.2424381505426811\n"
     ]
    },
    {
     "name": "stderr",
     "output_type": "stream",
     "text": [
      "\r",
      "t:  17%|███████████▏                                                      | 214/1260 [02:15<12:38,  1.38it/s, now=None]"
     ]
    },
    {
     "name": "stdout",
     "output_type": "stream",
     "text": [
      "720\n",
      "640.0\n",
      "335.15277347163106\n",
      "1033.814837906673\n",
      "684.483805689152\n",
      "-0.2351286872140889\n",
      "1081.533909742943\n",
      "1140.5907894386241\n",
      "-0.2351286872140889\n"
     ]
    },
    {
     "name": "stderr",
     "output_type": "stream",
     "text": [
      "\r",
      "t:  17%|███████████▎                                                      | 215/1260 [02:16<12:47,  1.36it/s, now=None]"
     ]
    },
    {
     "name": "stdout",
     "output_type": "stream",
     "text": [
      "720\n",
      "640.0\n",
      "334.5200348341508\n",
      "1040.641780643229\n",
      "687.5809077386898\n",
      "-0.2514990837616461\n",
      "1028.9117226551868\n",
      "2120.0537745313186\n",
      "-0.2514990837616461\n"
     ]
    },
    {
     "name": "stderr",
     "output_type": "stream",
     "text": [
      "\r",
      "t:  17%|███████████▎                                                      | 216/1260 [02:17<13:50,  1.26it/s, now=None]"
     ]
    },
    {
     "name": "stdout",
     "output_type": "stream",
     "text": [
      "720\n",
      "640.0\n",
      "331.5961365534507\n",
      "1034.4777872985323\n",
      "683.0369619259916\n",
      "-0.22748108446595555\n",
      "863.4057346150745\n",
      "1676.5245396021244\n",
      "-0.22748108446595555\n"
     ]
    },
    {
     "name": "stderr",
     "output_type": "stream",
     "text": [
      "\r",
      "t:  17%|███████████▎                                                      | 217/1260 [02:17<13:37,  1.28it/s, now=None]"
     ]
    },
    {
     "name": "stdout",
     "output_type": "stream",
     "text": [
      "720\n",
      "640.0\n",
      "331.29900930957575\n",
      "1031.7894311343298\n",
      "681.5442202219527\n",
      "-0.21959087831603594\n",
      "855.7768093839552\n",
      "1620.2578126633991\n",
      "-0.21959087831603594\n"
     ]
    },
    {
     "name": "stderr",
     "output_type": "stream",
     "text": [
      "\r",
      "t:  17%|███████████▍                                                      | 218/1260 [02:18<13:14,  1.31it/s, now=None]"
     ]
    },
    {
     "name": "stdout",
     "output_type": "stream",
     "text": [
      "720\n",
      "640.0\n",
      "331.67584260881966\n",
      "1027.669018594483\n",
      "679.6724306016514\n",
      "-0.2096971331801574\n",
      "814.0138856321968\n",
      "1152.3917611106122\n",
      "-0.2096971331801574\n"
     ]
    },
    {
     "name": "stderr",
     "output_type": "stream",
     "text": [
      "\r",
      "t:  17%|███████████▍                                                      | 219/1260 [02:19<12:50,  1.35it/s, now=None]"
     ]
    },
    {
     "name": "stdout",
     "output_type": "stream",
     "text": [
      "720\n",
      "640.0\n",
      "331.2446125000476\n",
      "1027.3485230775013\n",
      "679.2965677887745\n",
      "-0.2077104297406652\n",
      "867.4997883052189\n",
      "1362.058059302218\n",
      "-0.2077104297406652\n"
     ]
    },
    {
     "name": "stderr",
     "output_type": "stream",
     "text": [
      "\r",
      "t:  17%|███████████▌                                                      | 220/1260 [02:20<12:46,  1.36it/s, now=None]"
     ]
    },
    {
     "name": "stdout",
     "output_type": "stream",
     "text": [
      "720\n",
      "640.0\n",
      "333.3569912629331\n",
      "1025.7998028420905\n",
      "679.5783970525117\n",
      "-0.20920009870613337\n",
      "917.2909721331802\n",
      "1738.3102204870233\n",
      "-0.20920009870613337\n"
     ]
    },
    {
     "name": "stderr",
     "output_type": "stream",
     "text": [
      "\r",
      "t:  18%|███████████▌                                                      | 221/1260 [02:20<12:45,  1.36it/s, now=None]"
     ]
    },
    {
     "name": "stdout",
     "output_type": "stream",
     "text": [
      "720\n",
      "640.0\n",
      "333.6784161211918\n",
      "1025.5104861405177\n",
      "679.5944511308547\n",
      "-0.20928495597737504\n",
      "1056.3792459882877\n",
      "1699.682163680614\n",
      "-0.20928495597737504\n"
     ]
    },
    {
     "name": "stderr",
     "output_type": "stream",
     "text": [
      "\r",
      "t:  18%|███████████▋                                                      | 222/1260 [02:21<11:46,  1.47it/s, now=None]"
     ]
    },
    {
     "name": "stdout",
     "output_type": "stream",
     "text": [
      "720\n",
      "640.0\n",
      "334.315781886858\n",
      "1032.2528433482867\n",
      "683.2843126175724\n",
      "-0.2287885095500254\n",
      "1014.8533299091221\n",
      "2159.4536488431054\n",
      "-0.2287885095500254\n"
     ]
    },
    {
     "name": "stderr",
     "output_type": "stream",
     "text": [
      "\r",
      "t:  18%|███████████▋                                                      | 223/1260 [02:21<11:47,  1.47it/s, now=None]"
     ]
    },
    {
     "name": "stdout",
     "output_type": "stream",
     "text": [
      "720\n",
      "640.0\n",
      "334.59320699493105\n",
      "1020.2424721402488\n",
      "677.4178395675899\n",
      "-0.19778000914297525\n",
      "1027.31989474858\n",
      "1117.1644510471199\n",
      "-0.19778000914297525\n"
     ]
    },
    {
     "name": "stderr",
     "output_type": "stream",
     "text": [
      "\r",
      "t:  18%|███████████▋                                                      | 224/1260 [02:22<11:11,  1.54it/s, now=None]"
     ]
    },
    {
     "name": "stdout",
     "output_type": "stream",
     "text": [
      "720\n",
      "640.0\n",
      "334.29600791169395\n",
      "1022.519961157765\n",
      "678.4079845347295\n",
      "-0.2030136325407131\n",
      "1013.3653825801339\n",
      "1241.4190120715182\n",
      "-0.2030136325407131\n"
     ]
    },
    {
     "name": "stderr",
     "output_type": "stream",
     "text": [
      "\r",
      "t:  18%|███████████▊                                                      | 225/1260 [02:23<11:10,  1.54it/s, now=None]"
     ]
    },
    {
     "name": "stdout",
     "output_type": "stream",
     "text": [
      "720\n",
      "640.0\n",
      "335.90624739236137\n",
      "1023.9387443809002\n",
      "679.9224958866307\n",
      "-0.21101890682933377\n",
      "1035.659872151138\n",
      "1608.3622515065028\n",
      "-0.21101890682933377\n"
     ]
    },
    {
     "name": "stderr",
     "output_type": "stream",
     "text": [
      "\r",
      "t:  18%|███████████▊                                                      | 226/1260 [02:23<10:55,  1.58it/s, now=None]"
     ]
    },
    {
     "name": "stdout",
     "output_type": "stream",
     "text": [
      "720\n",
      "640.0\n",
      "334.7371441052468\n",
      "1031.0329043134145\n",
      "682.8850242093306\n",
      "-0.22667798510646173\n",
      "1107.0691874546983\n",
      "4064.1727472922694\n",
      "-0.22667798510646173\n"
     ]
    },
    {
     "name": "stderr",
     "output_type": "stream",
     "text": [
      "\r",
      "t:  18%|███████████▉                                                      | 227/1260 [02:24<11:33,  1.49it/s, now=None]"
     ]
    },
    {
     "name": "stdout",
     "output_type": "stream",
     "text": [
      "720\n",
      "640.0\n",
      "334.9330377211119\n",
      "1028.735066856301\n",
      "681.8340522887065\n",
      "-0.22112284781173444\n",
      "1179.1908903562748\n",
      "8333.015048167486\n",
      "-0.22112284781173444\n"
     ]
    },
    {
     "name": "stderr",
     "output_type": "stream",
     "text": [
      "\r",
      "t:  18%|███████████▉                                                      | 228/1260 [02:25<11:35,  1.48it/s, now=None]"
     ]
    },
    {
     "name": "stdout",
     "output_type": "stream",
     "text": [
      "720\n",
      "640.0\n",
      "333.66456360726784\n",
      "1023.8433956149155\n",
      "678.7539796110916\n",
      "-0.20484246365862707\n",
      "1196.5805050060285\n",
      "6170.0048599111515\n",
      "-0.20484246365862707\n"
     ]
    },
    {
     "name": "stderr",
     "output_type": "stream",
     "text": [
      "\r",
      "t:  18%|███████████▉                                                      | 229/1260 [02:26<12:13,  1.41it/s, now=None]"
     ]
    },
    {
     "name": "stdout",
     "output_type": "stream",
     "text": [
      "720\n",
      "640.0\n",
      "331.25781852258285\n",
      "1020.4983510618388\n",
      "675.8780847922108\n",
      "-0.18964130533025686\n",
      "1097.8317432881663\n",
      "4570.3313833498505\n",
      "-0.18964130533025686\n"
     ]
    },
    {
     "name": "stderr",
     "output_type": "stream",
     "text": [
      "\r",
      "t:  18%|████████████                                                      | 230/1260 [02:26<11:52,  1.45it/s, now=None]"
     ]
    },
    {
     "name": "stdout",
     "output_type": "stream",
     "text": [
      "720\n",
      "640.0\n",
      "332.2832839965257\n",
      "1015.144232324177\n",
      "673.7137581603513\n",
      "-0.1782012931332854\n",
      "1271.3760392423762\n",
      "2221.068299991672\n",
      "-0.1782012931332854\n"
     ]
    },
    {
     "name": "stderr",
     "output_type": "stream",
     "text": [
      "\r",
      "t:  18%|████████████                                                      | 231/1260 [02:27<11:14,  1.53it/s, now=None]"
     ]
    },
    {
     "name": "stdout",
     "output_type": "stream",
     "text": [
      "720\n",
      "640.0\n",
      "330.92053430842054\n",
      "1013.816075616171\n",
      "672.3683049622957\n",
      "-0.17108961194356312\n",
      "1488.8785676531872\n",
      "2332.219116572916\n",
      "-0.17108961194356312\n"
     ]
    },
    {
     "name": "stderr",
     "output_type": "stream",
     "text": [
      "\r",
      "t:  18%|████████████▏                                                     | 232/1260 [02:27<11:05,  1.54it/s, now=None]"
     ]
    },
    {
     "name": "stdout",
     "output_type": "stream",
     "text": [
      "720\n",
      "640.0\n",
      "330.3866969166968\n",
      "1011.3334951603925\n",
      "670.8600960385447\n",
      "-0.1631176504894507\n",
      "1509.4524101448867\n",
      "2574.450531448719\n",
      "-0.1631176504894507\n"
     ]
    },
    {
     "name": "stderr",
     "output_type": "stream",
     "text": [
      "\r",
      "t:  18%|████████████▏                                                     | 233/1260 [02:28<11:25,  1.50it/s, now=None]"
     ]
    },
    {
     "name": "stdout",
     "output_type": "stream",
     "text": [
      "720\n",
      "640.0\n",
      "329.0198364038416\n",
      "1009.9437894858157\n",
      "669.4818129448287\n",
      "-0.1558324398512373\n",
      "1873.4025589750422\n",
      "3363.4026215256063\n",
      "-0.1558324398512373\n"
     ]
    },
    {
     "name": "stderr",
     "output_type": "stream",
     "text": [
      "\r",
      "t:  19%|████████████▎                                                     | 234/1260 [02:29<11:40,  1.47it/s, now=None]"
     ]
    },
    {
     "name": "stdout",
     "output_type": "stream",
     "text": [
      "720\n",
      "640.0\n",
      "326.49189942691555\n",
      "1009.654938018044\n",
      "668.0734187224798\n",
      "-0.14838807039025037\n",
      "1684.0487504135394\n",
      "2624.476549043038\n",
      "-0.14838807039025037\n"
     ]
    },
    {
     "name": "stderr",
     "output_type": "stream",
     "text": [
      "\r",
      "t:  19%|████████████▎                                                     | 235/1260 [02:29<11:26,  1.49it/s, now=None]"
     ]
    },
    {
     "name": "stdout",
     "output_type": "stream",
     "text": [
      "720\n",
      "640.0\n",
      "324.22964236312896\n",
      "998.2598856694875\n",
      "661.2447640163082\n",
      "-0.11229375265762896\n",
      "1597.1426600214795\n",
      "1131.0436688088967\n",
      "-0.11229375265762896\n"
     ]
    },
    {
     "name": "stderr",
     "output_type": "stream",
     "text": [
      "\r",
      "t:  19%|████████████▎                                                     | 236/1260 [02:30<10:46,  1.58it/s, now=None]"
     ]
    },
    {
     "name": "stdout",
     "output_type": "stream",
     "text": [
      "720\n",
      "640.0\n",
      "321.86872169710375\n",
      "1000.5102880845925\n",
      "661.1895048908482\n",
      "-0.11200166870876897\n",
      "1664.120257584405\n",
      "1138.980680547812\n",
      "-0.11200166870876897\n"
     ]
    },
    {
     "name": "stderr",
     "output_type": "stream",
     "text": [
      "\r",
      "t:  19%|████████████▍                                                     | 237/1260 [02:31<10:35,  1.61it/s, now=None]"
     ]
    },
    {
     "name": "stdout",
     "output_type": "stream",
     "text": [
      "720\n",
      "640.0\n",
      "321.00522019571787\n",
      "999.2595240322116\n",
      "660.1323721139647\n",
      "-0.10641396688809925\n",
      "1493.0183042888755\n",
      "1090.0616643339088\n",
      "-0.10641396688809925\n"
     ]
    },
    {
     "name": "stderr",
     "output_type": "stream",
     "text": [
      "\r",
      "t:  19%|████████████▍                                                     | 238/1260 [02:31<09:47,  1.74it/s, now=None]"
     ]
    },
    {
     "name": "stdout",
     "output_type": "stream",
     "text": [
      "720\n",
      "640.0\n",
      "318.9086094065336\n",
      "1002.885818731928\n",
      "660.8972140692308\n",
      "-0.11045670293736287\n",
      "1501.0365701381368\n",
      "1312.7390011462594\n",
      "-0.11045670293736287\n"
     ]
    },
    {
     "name": "stderr",
     "output_type": "stream",
     "text": [
      "\r",
      "t:  19%|████████████▌                                                     | 239/1260 [02:32<09:36,  1.77it/s, now=None]"
     ]
    },
    {
     "name": "stdout",
     "output_type": "stream",
     "text": [
      "720\n",
      "640.0\n",
      "318.04664247171354\n",
      "999.9382495626623\n",
      "658.992446017188\n",
      "-0.1003886432337077\n",
      "1413.6803049302293\n",
      "1130.8208300211359\n",
      "-0.1003886432337077\n"
     ]
    },
    {
     "name": "stderr",
     "output_type": "stream",
     "text": [
      "\r",
      "t:  19%|████████████▌                                                     | 240/1260 [02:32<09:28,  1.80it/s, now=None]"
     ]
    },
    {
     "name": "stdout",
     "output_type": "stream",
     "text": [
      "720\n",
      "640.0\n",
      "316.8086785222113\n",
      "1001.1571001944039\n",
      "658.9828893583076\n",
      "-0.1003381294653402\n",
      "1384.88099696973\n",
      "1320.162437709685\n",
      "-0.1003381294653402\n"
     ]
    },
    {
     "name": "stderr",
     "output_type": "stream",
     "text": [
      "\r",
      "t:  19%|████████████▌                                                     | 241/1260 [02:33<10:38,  1.60it/s, now=None]"
     ]
    },
    {
     "name": "stdout",
     "output_type": "stream",
     "text": [
      "720\n",
      "640.0\n",
      "315.6138852260709\n",
      "1000.9877436168937\n",
      "658.3008144214823\n",
      "-0.09673287622783502\n",
      "1436.5171945236084\n",
      "1295.0938428242555\n",
      "-0.09673287622783502\n"
     ]
    },
    {
     "name": "stderr",
     "output_type": "stream",
     "text": [
      "\r",
      "t:  19%|████████████▋                                                     | 242/1260 [02:34<10:41,  1.59it/s, now=None]"
     ]
    },
    {
     "name": "stdout",
     "output_type": "stream",
     "text": [
      "720\n",
      "640.0\n",
      "316.1655847641039\n",
      "998.5189775246054\n",
      "657.3422811443546\n",
      "-0.09166634319158869\n",
      "1465.4354130009829\n",
      "1086.8569647578472\n",
      "-0.09166634319158869\n"
     ]
    },
    {
     "name": "stderr",
     "output_type": "stream",
     "text": [
      "\r",
      "t:  19%|████████████▋                                                     | 243/1260 [02:34<10:25,  1.63it/s, now=None]"
     ]
    },
    {
     "name": "stdout",
     "output_type": "stream",
     "text": [
      "720\n",
      "640.0\n",
      "313.21268982583064\n",
      "1001.269230684644\n",
      "657.2409602552373\n",
      "-0.09113078992053986\n",
      "1407.8582578473017\n",
      "1187.229780559587\n",
      "-0.09113078992053986\n"
     ]
    },
    {
     "name": "stderr",
     "output_type": "stream",
     "text": [
      "\r",
      "t:  19%|████████████▊                                                     | 244/1260 [02:35<09:49,  1.72it/s, now=None]"
     ]
    },
    {
     "name": "stdout",
     "output_type": "stream",
     "text": [
      "720\n",
      "640.0\n",
      "313.52078707233863\n",
      "1000.6372066420424\n",
      "657.0789968571905\n",
      "-0.09027469767372139\n",
      "1416.5558676175347\n",
      "1219.6551686487096\n",
      "-0.09027469767372139\n"
     ]
    },
    {
     "name": "stderr",
     "output_type": "stream",
     "text": [
      "\r",
      "t:  19%|████████████▊                                                     | 245/1260 [02:35<10:08,  1.67it/s, now=None]"
     ]
    },
    {
     "name": "stdout",
     "output_type": "stream",
     "text": [
      "720\n",
      "640.0\n",
      "311.57701301960446\n",
      "999.8692816715323\n",
      "655.7231473455683\n",
      "-0.08310806454086128\n",
      "1361.9811478641611\n",
      "1355.3343383128185\n",
      "-0.08310806454086128\n"
     ]
    },
    {
     "name": "stderr",
     "output_type": "stream",
     "text": [
      "\r",
      "t:  20%|████████████▉                                                     | 246/1260 [02:36<09:25,  1.79it/s, now=None]"
     ]
    },
    {
     "name": "stdout",
     "output_type": "stream",
     "text": [
      "720\n",
      "640.0\n",
      "310.79432777269926\n",
      "996.8183698420164\n",
      "653.8063488073578\n",
      "-0.0729764151246057\n",
      "1304.1678161951943\n",
      "950.6702499161656\n",
      "-0.0729764151246057\n"
     ]
    },
    {
     "name": "stderr",
     "output_type": "stream",
     "text": [
      "\r",
      "t:  20%|████████████▉                                                     | 247/1260 [02:36<08:51,  1.91it/s, now=None]"
     ]
    },
    {
     "name": "stdout",
     "output_type": "stream",
     "text": [
      "720\n",
      "640.0\n",
      "310.2063549695473\n",
      "994.5355253989962\n",
      "652.3709401842718\n",
      "-0.06538925525972254\n",
      "1292.6112656344808\n",
      "901.7654707426012\n",
      "-0.06538925525972254\n"
     ]
    },
    {
     "name": "stderr",
     "output_type": "stream",
     "text": [
      "\r",
      "t:  20%|████████████▉                                                     | 248/1260 [02:37<08:17,  2.04it/s, now=None]"
     ]
    },
    {
     "name": "stdout",
     "output_type": "stream",
     "text": [
      "720\n",
      "640.0\n",
      "308.8165372502258\n",
      "995.752925834377\n",
      "652.2847315423014\n",
      "-0.06493358100930749\n",
      "1345.5973298572194\n",
      "990.5172711568688\n",
      "-0.06493358100930749\n"
     ]
    },
    {
     "name": "stderr",
     "output_type": "stream",
     "text": [
      "\r",
      "t:  20%|█████████████                                                     | 249/1260 [02:37<08:03,  2.09it/s, now=None]"
     ]
    },
    {
     "name": "stdout",
     "output_type": "stream",
     "text": [
      "720\n",
      "640.0\n",
      "310.3915123317479\n",
      "994.2920313252874\n",
      "652.3417718285177\n",
      "-0.06523507966502225\n",
      "1339.6642332859224\n",
      "950.775377311275\n",
      "-0.06523507966502225\n"
     ]
    },
    {
     "name": "stderr",
     "output_type": "stream",
     "text": [
      "\r",
      "t:  20%|█████████████                                                     | 250/1260 [02:38<08:27,  1.99it/s, now=None]"
     ]
    },
    {
     "name": "stdout",
     "output_type": "stream",
     "text": [
      "720\n",
      "640.0\n",
      "308.6354397815288\n",
      "996.6511732970903\n",
      "652.6433065393096\n",
      "-0.06682890599349363\n",
      "1245.356219659401\n",
      "1058.1002562908318\n",
      "-0.06682890599349363\n"
     ]
    },
    {
     "name": "stderr",
     "output_type": "stream",
     "text": [
      "\r",
      "t:  20%|█████████████▏                                                    | 251/1260 [02:38<08:34,  1.96it/s, now=None]"
     ]
    },
    {
     "name": "stdout",
     "output_type": "stream",
     "text": [
      "720\n",
      "640.0\n",
      "309.0301173428055\n",
      "995.5433869839696\n",
      "652.2867521633875\n",
      "-0.06494426143504832\n",
      "1299.3679243041165\n",
      "1015.6791416486086\n",
      "-0.06494426143504832\n"
     ]
    },
    {
     "name": "stderr",
     "output_type": "stream",
     "text": [
      "\r",
      "t:  20%|█████████████▏                                                    | 252/1260 [02:39<09:06,  1.85it/s, now=None]"
     ]
    },
    {
     "name": "stdout",
     "output_type": "stream",
     "text": [
      "720\n",
      "640.0\n",
      "308.7501832395979\n",
      "999.0012059342027\n",
      "653.8756945869003\n",
      "-0.07334295710218727\n",
      "1439.550747313817\n",
      "1283.4430888895745\n",
      "-0.07334295710218727\n"
     ]
    },
    {
     "name": "stderr",
     "output_type": "stream",
     "text": [
      "\r",
      "t:  20%|█████████████▎                                                    | 253/1260 [02:39<09:29,  1.77it/s, now=None]"
     ]
    },
    {
     "name": "stdout",
     "output_type": "stream",
     "text": [
      "720\n",
      "640.0\n",
      "309.16571553297644\n",
      "998.3207475163526\n",
      "653.7432315246646\n",
      "-0.07264279520179842\n",
      "1487.738833215109\n",
      "1246.4551689366158\n",
      "-0.07264279520179842\n"
     ]
    },
    {
     "name": "stderr",
     "output_type": "stream",
     "text": [
      "\r",
      "t:  20%|█████████████▎                                                    | 254/1260 [02:40<10:17,  1.63it/s, now=None]"
     ]
    },
    {
     "name": "stdout",
     "output_type": "stream",
     "text": [
      "720\n",
      "640.0\n",
      "309.4856585029947\n",
      "996.6253878157629\n",
      "653.0555231593788\n",
      "-0.06900776527100234\n",
      "1474.914237011339\n",
      "1156.568175255957\n",
      "-0.06900776527100234\n"
     ]
    },
    {
     "name": "stderr",
     "output_type": "stream",
     "text": [
      "\r",
      "t:  20%|█████████████▎                                                    | 255/1260 [02:41<09:44,  1.72it/s, now=None]"
     ]
    },
    {
     "name": "stdout",
     "output_type": "stream",
     "text": [
      "720\n",
      "640.0\n",
      "309.19750296065115\n",
      "998.594038519704\n",
      "653.8957707401776\n",
      "-0.07344907391236714\n",
      "1600.0233755233385\n",
      "1417.1554031022877\n",
      "-0.07344907391236714\n"
     ]
    },
    {
     "name": "stderr",
     "output_type": "stream",
     "text": [
      "\r",
      "t:  20%|█████████████▍                                                    | 256/1260 [02:41<09:57,  1.68it/s, now=None]"
     ]
    },
    {
     "name": "stdout",
     "output_type": "stream",
     "text": [
      "720\n",
      "640.0\n",
      "309.4792057509342\n",
      "998.5650308943067\n",
      "654.0221183226205\n",
      "-0.07411691113385115\n",
      "1448.0013886733373\n",
      "1556.9955281306916\n",
      "-0.07411691113385115\n"
     ]
    },
    {
     "name": "stderr",
     "output_type": "stream",
     "text": [
      "\r",
      "t:  20%|█████████████▍                                                    | 257/1260 [02:42<09:41,  1.73it/s, now=None]"
     ]
    },
    {
     "name": "stdout",
     "output_type": "stream",
     "text": [
      "720\n",
      "640.0\n",
      "308.6031409232469\n",
      "998.1823122067321\n",
      "653.3927265649895\n",
      "-0.0707901261292303\n",
      "1396.1169660232881\n",
      "1450.6123733969623\n",
      "-0.0707901261292303\n"
     ]
    },
    {
     "name": "stderr",
     "output_type": "stream",
     "text": [
      "\r",
      "t:  20%|█████████████▌                                                    | 258/1260 [02:42<09:33,  1.75it/s, now=None]"
     ]
    },
    {
     "name": "stdout",
     "output_type": "stream",
     "text": [
      "720\n",
      "640.0\n",
      "308.7229027764159\n",
      "998.3783296248967\n",
      "653.5506162006562\n",
      "-0.07162468563204011\n",
      "1356.3117409667516\n",
      "1111.535456618723\n",
      "-0.07162468563204011\n"
     ]
    },
    {
     "name": "stderr",
     "output_type": "stream",
     "text": [
      "\r",
      "t:  21%|█████████████▌                                                    | 259/1260 [02:43<09:49,  1.70it/s, now=None]"
     ]
    },
    {
     "name": "stdout",
     "output_type": "stream",
     "text": [
      "720\n",
      "640.0\n",
      "309.52371968669183\n",
      "996.5148551536738\n",
      "653.0192874201828\n",
      "-0.06881623350668033\n",
      "1444.369058014347\n",
      "1167.701981114461\n",
      "-0.06881623350668033\n"
     ]
    },
    {
     "name": "stderr",
     "output_type": "stream",
     "text": [
      "\r",
      "t:  21%|█████████████▌                                                    | 260/1260 [02:44<09:53,  1.68it/s, now=None]"
     ]
    },
    {
     "name": "stdout",
     "output_type": "stream",
     "text": [
      "720\n",
      "640.0\n",
      "310.37687852040307\n",
      "996.4747379433157\n",
      "653.4258082318594\n",
      "-0.07096498636839957\n",
      "1612.0546690643898\n",
      "1194.0406813509783\n",
      "-0.07096498636839957\n"
     ]
    },
    {
     "name": "stderr",
     "output_type": "stream",
     "text": [
      "\r",
      "t:  21%|█████████████▋                                                    | 261/1260 [02:44<09:49,  1.69it/s, now=None]"
     ]
    },
    {
     "name": "stdout",
     "output_type": "stream",
     "text": [
      "720\n",
      "640.0\n",
      "311.5224347361027\n",
      "998.078899825601\n",
      "654.8006672808518\n",
      "-0.07823209848450251\n",
      "1483.4439952029009\n",
      "1272.168739937445\n",
      "-0.07823209848450251\n"
     ]
    },
    {
     "name": "stderr",
     "output_type": "stream",
     "text": [
      "\r",
      "t:  21%|█████████████▋                                                    | 262/1260 [02:45<09:58,  1.67it/s, now=None]"
     ]
    },
    {
     "name": "stdout",
     "output_type": "stream",
     "text": [
      "720\n",
      "640.0\n",
      "311.2142200259153\n",
      "998.3883956715205\n",
      "654.8013078487179\n",
      "-0.07823548434322318\n",
      "1486.3555823250094\n",
      "1311.5742932934609\n",
      "-0.07823548434322318\n"
     ]
    },
    {
     "name": "stderr",
     "output_type": "stream",
     "text": [
      "\r",
      "t:  21%|█████████████▊                                                    | 263/1260 [02:46<10:40,  1.56it/s, now=None]"
     ]
    },
    {
     "name": "stdout",
     "output_type": "stream",
     "text": [
      "720\n",
      "640.0\n",
      "311.8874865073478\n",
      "1000.5763438238113\n",
      "656.2319151655795\n",
      "-0.0857972658752059\n",
      "1485.5635798730914\n",
      "1397.7708296751252\n",
      "-0.0857972658752059\n"
     ]
    },
    {
     "name": "stderr",
     "output_type": "stream",
     "text": [
      "\r",
      "t:  21%|█████████████▊                                                    | 264/1260 [02:46<11:01,  1.51it/s, now=None]"
     ]
    },
    {
     "name": "stdout",
     "output_type": "stream",
     "text": [
      "720\n",
      "640.0\n",
      "311.9016864376516\n",
      "1002.3155897032584\n",
      "657.1086380704551\n",
      "-0.09043137265811967\n",
      "1495.960930351088\n",
      "1635.9099061666743\n",
      "-0.09043137265811967\n"
     ]
    },
    {
     "name": "stderr",
     "output_type": "stream",
     "text": [
      "\r",
      "t:  21%|█████████████▉                                                    | 265/1260 [02:47<11:11,  1.48it/s, now=None]"
     ]
    },
    {
     "name": "stdout",
     "output_type": "stream",
     "text": [
      "720\n",
      "640.0\n",
      "311.463310110448\n",
      "1002.9500969167686\n",
      "657.2067035136083\n",
      "-0.09094971857192968\n",
      "1539.3426396794237\n",
      "1717.6850687276924\n",
      "-0.09094971857192968\n"
     ]
    },
    {
     "name": "stderr",
     "output_type": "stream",
     "text": [
      "\r",
      "t:  21%|█████████████▉                                                    | 266/1260 [02:48<11:10,  1.48it/s, now=None]"
     ]
    },
    {
     "name": "stdout",
     "output_type": "stream",
     "text": [
      "720\n",
      "640.0\n",
      "312.2779036248644\n",
      "1000.6176975672399\n",
      "656.4478005960522\n",
      "-0.08693837457913285\n",
      "1617.5400077058914\n",
      "1297.8087562087844\n",
      "-0.08693837457913285\n"
     ]
    },
    {
     "name": "stderr",
     "output_type": "stream",
     "text": [
      "\r",
      "t:  21%|█████████████▉                                                    | 267/1260 [02:48<10:47,  1.53it/s, now=None]"
     ]
    },
    {
     "name": "stdout",
     "output_type": "stream",
     "text": [
      "720\n",
      "640.0\n",
      "309.5112754198765\n",
      "1002.5318175900961\n",
      "656.0215465049863\n",
      "-0.08468531724064189\n",
      "1501.0287310885642\n",
      "1161.7046349441396\n",
      "-0.08468531724064189\n"
     ]
    },
    {
     "name": "stderr",
     "output_type": "stream",
     "text": [
      "\r",
      "t:  21%|██████████████                                                    | 268/1260 [02:49<11:11,  1.48it/s, now=None]"
     ]
    },
    {
     "name": "stdout",
     "output_type": "stream",
     "text": [
      "720\n",
      "640.0\n",
      "310.33211083240104\n",
      "1004.1267904058794\n",
      "657.2294506191403\n",
      "-0.09106995327259855\n",
      "1507.0372706604362\n",
      "1343.4329547062953\n",
      "-0.09106995327259855\n"
     ]
    },
    {
     "name": "stderr",
     "output_type": "stream",
     "text": [
      "\r",
      "t:  21%|██████████████                                                    | 269/1260 [02:50<10:53,  1.52it/s, now=None]"
     ]
    },
    {
     "name": "stdout",
     "output_type": "stream",
     "text": [
      "720\n",
      "640.0\n",
      "309.2256983631522\n",
      "1004.386349216335\n",
      "656.8060237897437\n",
      "-0.0888318400315023\n",
      "1410.2292906631278\n",
      "1393.4585376689965\n",
      "-0.0888318400315023\n"
     ]
    },
    {
     "name": "stderr",
     "output_type": "stream",
     "text": [
      "\r",
      "t:  21%|██████████████▏                                                   | 270/1260 [02:50<11:22,  1.45it/s, now=None]"
     ]
    },
    {
     "name": "stdout",
     "output_type": "stream",
     "text": [
      "720\n",
      "640.0\n",
      "307.5412617534083\n",
      "1006.3308268014584\n",
      "656.9360442774334\n",
      "-0.08951909118071961\n",
      "1415.543686296671\n",
      "1472.945077675231\n",
      "-0.08951909118071961\n"
     ]
    },
    {
     "name": "stderr",
     "output_type": "stream",
     "text": [
      "\r",
      "t:  22%|██████████████▏                                                   | 271/1260 [02:51<10:38,  1.55it/s, now=None]"
     ]
    },
    {
     "name": "stdout",
     "output_type": "stream",
     "text": [
      "720\n",
      "640.0\n",
      "308.44555386201387\n",
      "1000.6482554678488\n",
      "654.5469046649314\n",
      "-0.07689078180035164\n",
      "1758.8251187956248\n",
      "971.4381782684262\n",
      "-0.07689078180035164\n"
     ]
    },
    {
     "name": "stderr",
     "output_type": "stream",
     "text": [
      "\r",
      "t:  22%|██████████████▏                                                   | 272/1260 [02:52<10:38,  1.55it/s, now=None]"
     ]
    },
    {
     "name": "stdout",
     "output_type": "stream",
     "text": [
      "720\n",
      "640.0\n",
      "307.72397674667525\n",
      "1002.3064950162811\n",
      "655.0152358814782\n",
      "-0.0793662468020993\n",
      "1311.8912618453692\n",
      "996.186948009314\n",
      "-0.0793662468020993\n"
     ]
    },
    {
     "name": "stderr",
     "output_type": "stream",
     "text": [
      "\r",
      "t:  22%|██████████████▎                                                   | 273/1260 [02:52<10:03,  1.64it/s, now=None]"
     ]
    },
    {
     "name": "stdout",
     "output_type": "stream",
     "text": [
      "720\n",
      "640.0\n",
      "310.77282499399246\n",
      "1008.3478768498965\n",
      "659.5603509219445\n",
      "-0.10339042630170675\n",
      "1378.9282638914717\n",
      "1255.9388982037415\n",
      "-0.10339042630170675\n"
     ]
    },
    {
     "name": "stderr",
     "output_type": "stream",
     "text": [
      "\r",
      "t:  22%|██████████████▎                                                   | 274/1260 [02:53<10:44,  1.53it/s, now=None]"
     ]
    },
    {
     "name": "stdout",
     "output_type": "stream",
     "text": [
      "720\n",
      "640.0\n",
      "312.45291100099445\n",
      "1009.9628939447749\n",
      "661.2079024728847\n",
      "-0.11209891307096205\n",
      "1391.338589750761\n",
      "1470.4515147824284\n",
      "-0.11209891307096205\n"
     ]
    },
    {
     "name": "stderr",
     "output_type": "stream",
     "text": [
      "\r",
      "t:  22%|██████████████▍                                                   | 275/1260 [02:53<10:22,  1.58it/s, now=None]"
     ]
    },
    {
     "name": "stdout",
     "output_type": "stream",
     "text": [
      "720\n",
      "640.0\n",
      "314.23783575367366\n",
      "1017.7814595764398\n",
      "666.0096476650567\n",
      "-0.13747956622958551\n",
      "1371.1341709151636\n",
      "3334.5179540210975\n",
      "-0.13747956622958551\n"
     ]
    },
    {
     "name": "stderr",
     "output_type": "stream",
     "text": [
      "\r",
      "t:  22%|██████████████▍                                                   | 276/1260 [02:54<10:34,  1.55it/s, now=None]"
     ]
    },
    {
     "name": "stdout",
     "output_type": "stream",
     "text": [
      "720\n",
      "640.0\n",
      "315.17018768125314\n",
      "1015.4283381835364\n",
      "665.2992629323948\n",
      "-0.13372467549980085\n",
      "1464.9763922965683\n",
      "3016.865960119193\n",
      "-0.13372467549980085\n"
     ]
    },
    {
     "name": "stderr",
     "output_type": "stream",
     "text": [
      "\r",
      "t:  22%|██████████████▌                                                   | 277/1260 [02:55<10:06,  1.62it/s, now=None]"
     ]
    },
    {
     "name": "stdout",
     "output_type": "stream",
     "text": [
      "720\n",
      "640.0\n",
      "314.6257197416792\n",
      "1016.340298087298\n",
      "665.4830089144887\n",
      "-0.13469590426229724\n",
      "1439.7972068545726\n",
      "3126.580612270219\n",
      "-0.13469590426229724\n"
     ]
    },
    {
     "name": "stderr",
     "output_type": "stream",
     "text": [
      "\r",
      "t:  22%|██████████████▌                                                   | 278/1260 [02:55<10:42,  1.53it/s, now=None]"
     ]
    },
    {
     "name": "stdout",
     "output_type": "stream",
     "text": [
      "720\n",
      "640.0\n",
      "317.2245855377893\n",
      "1012.3860376751873\n",
      "664.8053116064883\n",
      "-0.1311137899200097\n",
      "1732.710650298426\n",
      "1764.6163881333518\n",
      "-0.1311137899200097\n"
     ]
    },
    {
     "name": "stderr",
     "output_type": "stream",
     "text": [
      "\r",
      "t:  22%|██████████████▌                                                   | 279/1260 [02:56<10:17,  1.59it/s, now=None]"
     ]
    },
    {
     "name": "stdout",
     "output_type": "stream",
     "text": [
      "720\n",
      "640.0\n",
      "316.83525235599245\n",
      "1013.0239923919328\n",
      "664.9296223739626\n",
      "-0.1317708611195167\n",
      "1684.509553563266\n",
      "1732.03396857729\n",
      "-0.1317708611195167\n"
     ]
    },
    {
     "name": "stderr",
     "output_type": "stream",
     "text": [
      "\r",
      "t:  22%|██████████████▋                                                   | 280/1260 [02:57<10:41,  1.53it/s, now=None]"
     ]
    },
    {
     "name": "stdout",
     "output_type": "stream",
     "text": [
      "720\n",
      "640.0\n",
      "318.6873635031286\n",
      "1011.2098061402392\n",
      "664.9485848216839\n",
      "-0.13187109120032908\n",
      "1651.1504285642607\n",
      "1381.1358655652089\n",
      "-0.13187109120032908\n"
     ]
    },
    {
     "name": "stderr",
     "output_type": "stream",
     "text": [
      "\r",
      "t:  22%|██████████████▋                                                   | 281/1260 [02:57<10:14,  1.59it/s, now=None]"
     ]
    },
    {
     "name": "stdout",
     "output_type": "stream",
     "text": [
      "720\n",
      "640.0\n",
      "319.693844970987\n",
      "1010.5299504224761\n",
      "665.1118976967316\n",
      "-0.13273431639700992\n",
      "1707.2063870849292\n",
      "1541.285289459104\n",
      "-0.13273431639700992\n"
     ]
    },
    {
     "name": "stderr",
     "output_type": "stream",
     "text": [
      "\r",
      "t:  22%|██████████████▊                                                   | 282/1260 [02:58<10:28,  1.56it/s, now=None]"
     ]
    },
    {
     "name": "stdout",
     "output_type": "stream",
     "text": [
      "720\n",
      "640.0\n",
      "320.14737197424927\n",
      "999.3457347567846\n",
      "659.746553365517\n",
      "-0.10437463921773273\n",
      "1575.140255312472\n",
      "870.797298254845\n",
      "-0.10437463921773273\n"
     ]
    },
    {
     "name": "stderr",
     "output_type": "stream",
     "text": [
      "\r",
      "t:  22%|██████████████▊                                                   | 283/1260 [02:58<10:03,  1.62it/s, now=None]"
     ]
    },
    {
     "name": "stdout",
     "output_type": "stream",
     "text": [
      "720\n",
      "640.0\n",
      "322.3786854543285\n",
      "1004.4508443933922\n",
      "663.4147649238604\n",
      "-0.12376375745469063\n",
      "1685.1174965986027\n",
      "1039.3974416601666\n",
      "-0.12376375745469063\n"
     ]
    },
    {
     "name": "stderr",
     "output_type": "stream",
     "text": [
      "\r",
      "t:  23%|██████████████▉                                                   | 284/1260 [02:59<10:44,  1.51it/s, now=None]"
     ]
    },
    {
     "name": "stdout",
     "output_type": "stream",
     "text": [
      "720\n",
      "640.0\n",
      "323.4542450707652\n",
      "1009.7367248840548\n",
      "666.59548497741\n",
      "-0.14057613488059584\n",
      "1729.8462140024299\n",
      "1151.0590371249716\n",
      "-0.14057613488059584\n"
     ]
    },
    {
     "name": "stderr",
     "output_type": "stream",
     "text": [
      "\r",
      "t:  23%|██████████████▉                                                   | 285/1260 [03:00<10:48,  1.50it/s, now=None]"
     ]
    },
    {
     "name": "stdout",
     "output_type": "stream",
     "text": [
      "720\n",
      "640.0\n",
      "324.99611355037973\n",
      "1016.2224220572951\n",
      "670.6092678038374\n",
      "-0.16179184410599762\n",
      "1707.115205355784\n",
      "1525.7129937182287\n",
      "-0.16179184410599762\n"
     ]
    },
    {
     "name": "stderr",
     "output_type": "stream",
     "text": [
      "\r",
      "t:  23%|██████████████▉                                                   | 286/1260 [03:01<11:17,  1.44it/s, now=None]"
     ]
    },
    {
     "name": "stdout",
     "output_type": "stream",
     "text": [
      "720\n",
      "640.0\n",
      "325.3264476426292\n",
      "1016.8529272502316\n",
      "671.0896874464304\n",
      "-0.1643312050739892\n",
      "1755.30236214067\n",
      "1561.212549810638\n",
      "-0.1643312050739892\n"
     ]
    },
    {
     "name": "stderr",
     "output_type": "stream",
     "text": [
      "\r",
      "t:  23%|███████████████                                                   | 287/1260 [03:01<11:08,  1.46it/s, now=None]"
     ]
    },
    {
     "name": "stdout",
     "output_type": "stream",
     "text": [
      "720\n",
      "640.0\n",
      "324.92062851008257\n",
      "1024.8087151332813\n",
      "674.8646718216819\n",
      "-0.1842846939146043\n",
      "1730.4495467364588\n",
      "2502.6336549063367\n",
      "-0.1842846939146043\n"
     ]
    },
    {
     "name": "stderr",
     "output_type": "stream",
     "text": [
      "\r",
      "t:  23%|███████████████                                                   | 288/1260 [03:02<10:12,  1.59it/s, now=None]"
     ]
    },
    {
     "name": "stdout",
     "output_type": "stream",
     "text": [
      "720\n",
      "640.0\n",
      "325.04995120659083\n",
      "1026.5466596159984\n",
      "675.7983054112946\n",
      "-0.1892196143168427\n",
      "1669.181187894075\n",
      "4364.382107172472\n",
      "-0.1892196143168427\n"
     ]
    },
    {
     "name": "stderr",
     "output_type": "stream",
     "text": [
      "\r",
      "t:  23%|███████████████▏                                                  | 289/1260 [03:02<09:37,  1.68it/s, now=None]"
     ]
    },
    {
     "name": "stdout",
     "output_type": "stream",
     "text": [
      "720\n",
      "640.0\n",
      "325.1701283576717\n",
      "1029.6578060728011\n",
      "677.4139672152364\n",
      "-0.19775954099482113\n",
      "1715.8428497103355\n",
      "18561.96012382496\n",
      "-0.19775954099482113\n"
     ]
    },
    {
     "name": "stderr",
     "output_type": "stream",
     "text": [
      "\r",
      "t:  23%|███████████████▏                                                  | 290/1260 [03:03<09:35,  1.68it/s, now=None]"
     ]
    },
    {
     "name": "stdout",
     "output_type": "stream",
     "text": [
      "720\n",
      "640.0\n",
      "329.14408049162046\n",
      "1024.2806703814954\n",
      "676.712375436558\n",
      "-0.19405112730752075\n",
      "1897.3799526809803\n",
      "3448.3867139380436\n",
      "-0.19405112730752075\n"
     ]
    },
    {
     "name": "stderr",
     "output_type": "stream",
     "text": [
      "\r",
      "t:  23%|███████████████▏                                                  | 291/1260 [03:03<09:12,  1.75it/s, now=None]"
     ]
    },
    {
     "name": "stdout",
     "output_type": "stream",
     "text": [
      "720\n",
      "640.0\n",
      "328.95772391579123\n",
      "1024.1100447577887\n",
      "676.5338843367899\n",
      "-0.1931076743516039\n",
      "1874.9954562926123\n",
      "2148.071662348476\n",
      "-0.1931076743516039\n"
     ]
    },
    {
     "name": "stderr",
     "output_type": "stream",
     "text": [
      "\r",
      "t:  23%|███████████████▎                                                  | 292/1260 [03:04<09:09,  1.76it/s, now=None]"
     ]
    },
    {
     "name": "stdout",
     "output_type": "stream",
     "text": [
      "720\n",
      "640.0\n",
      "331.197227351395\n",
      "1024.5756771858266\n",
      "677.8864522686108\n",
      "-0.20025696199122858\n",
      "1981.666771218729\n",
      "3657.6805109576244\n",
      "-0.20025696199122858\n"
     ]
    },
    {
     "name": "stderr",
     "output_type": "stream",
     "text": [
      "\r",
      "t:  23%|███████████████▎                                                  | 293/1260 [03:05<09:24,  1.71it/s, now=None]"
     ]
    },
    {
     "name": "stdout",
     "output_type": "stream",
     "text": [
      "720\n",
      "640.0\n",
      "333.2345767986316\n",
      "1023.4676931947812\n",
      "678.3511349967064\n",
      "-0.202713142125448\n",
      "2239.119715331534\n",
      "2477.8627818159734\n",
      "-0.202713142125448\n"
     ]
    },
    {
     "name": "stderr",
     "output_type": "stream",
     "text": [
      "\r",
      "t:  23%|███████████████▍                                                  | 294/1260 [03:05<09:05,  1.77it/s, now=None]"
     ]
    },
    {
     "name": "stdout",
     "output_type": "stream",
     "text": [
      "720\n",
      "640.0\n",
      "334.68530509899745\n",
      "1016.2202098377188\n",
      "675.4527574683582\n",
      "-0.1873931466184647\n",
      "2614.6795963673953\n",
      "1226.2748007547546\n",
      "-0.1873931466184647\n"
     ]
    },
    {
     "name": "stderr",
     "output_type": "stream",
     "text": [
      "\r",
      "t:  23%|███████████████▍                                                  | 295/1260 [03:06<09:26,  1.70it/s, now=None]"
     ]
    },
    {
     "name": "stdout",
     "output_type": "stream",
     "text": [
      "720\n",
      "640.0\n",
      "335.9503480782621\n",
      "1019.9061689859245\n",
      "677.9282585320933\n",
      "-0.20047793795535035\n",
      "2446.0271230888934\n",
      "1502.5522682087171\n",
      "-0.20047793795535035\n"
     ]
    },
    {
     "name": "stderr",
     "output_type": "stream",
     "text": [
      "\r",
      "t:  23%|███████████████▌                                                  | 296/1260 [03:06<09:37,  1.67it/s, now=None]"
     ]
    },
    {
     "name": "stdout",
     "output_type": "stream",
     "text": [
      "720\n",
      "640.0\n",
      "335.5465340773021\n",
      "1023.3429010568866\n",
      "679.4447175670944\n",
      "-0.2084935071403559\n",
      "2274.7881469944587\n",
      "1692.290787233414\n",
      "-0.2084935071403559\n"
     ]
    },
    {
     "name": "stderr",
     "output_type": "stream",
     "text": [
      "\r",
      "t:  24%|███████████████▌                                                  | 297/1260 [03:07<09:59,  1.61it/s, now=None]"
     ]
    },
    {
     "name": "stdout",
     "output_type": "stream",
     "text": [
      "720\n",
      "640.0\n",
      "337.63419339945\n",
      "1023.2631714388499\n",
      "680.4486824191499\n",
      "-0.21380017850122102\n",
      "3049.651937598863\n",
      "1675.8069884804895\n",
      "-0.21380017850122102\n"
     ]
    },
    {
     "name": "stderr",
     "output_type": "stream",
     "text": [
      "\r",
      "t:  24%|███████████████▌                                                  | 298/1260 [03:08<09:33,  1.68it/s, now=None]"
     ]
    },
    {
     "name": "stdout",
     "output_type": "stream",
     "text": [
      "720\n",
      "640.0\n",
      "337.1793681178196\n",
      "1024.309594216537\n",
      "680.7444811671784\n",
      "-0.21536368616937143\n",
      "3693.391273196804\n",
      "1928.4459187043055\n",
      "-0.21536368616937143\n"
     ]
    },
    {
     "name": "stderr",
     "output_type": "stream",
     "text": [
      "\r",
      "t:  24%|███████████████▋                                                  | 299/1260 [03:08<09:20,  1.71it/s, now=None]"
     ]
    },
    {
     "name": "stdout",
     "output_type": "stream",
     "text": [
      "720\n",
      "640.0\n",
      "336.28574761732193\n",
      "1032.500407051104\n",
      "684.393077334213\n",
      "-0.23464912305226868\n",
      "3256.399913777693\n",
      "6061.677805846436\n",
      "-0.23464912305226868\n"
     ]
    },
    {
     "name": "stderr",
     "output_type": "stream",
     "text": [
      "\r",
      "t:  24%|███████████████▋                                                  | 300/1260 [03:09<09:44,  1.64it/s, now=None]"
     ]
    },
    {
     "name": "stdout",
     "output_type": "stream",
     "text": [
      "720\n",
      "640.0\n",
      "335.6432450540055\n",
      "1029.3444110783414\n",
      "682.4938280661735\n",
      "-0.22461023406405983\n",
      "2951.079968836239\n",
      "4451.732973610893\n",
      "-0.22461023406405983\n"
     ]
    },
    {
     "name": "stderr",
     "output_type": "stream",
     "text": [
      "\r",
      "t:  24%|███████████████▊                                                  | 301/1260 [03:09<09:33,  1.67it/s, now=None]"
     ]
    },
    {
     "name": "stdout",
     "output_type": "stream",
     "text": [
      "720\n",
      "640.0\n",
      "334.4803710328348\n",
      "1027.6955815797833\n",
      "681.087976306309\n",
      "-0.21717930333334745\n",
      "2844.4055774700987\n",
      "2426.167245660034\n",
      "-0.21717930333334745\n"
     ]
    },
    {
     "name": "stderr",
     "output_type": "stream",
     "text": [
      "\r",
      "t:  24%|███████████████▊                                                  | 302/1260 [03:10<09:43,  1.64it/s, now=None]"
     ]
    },
    {
     "name": "stdout",
     "output_type": "stream",
     "text": [
      "720\n",
      "640.0\n",
      "334.3567138862303\n",
      "1028.2516749760164\n",
      "681.3041944311233\n",
      "-0.21832217056450876\n",
      "2639.3799531311743\n",
      "3688.8087627781374\n",
      "-0.21832217056450876\n"
     ]
    },
    {
     "name": "stderr",
     "output_type": "stream",
     "text": [
      "\r",
      "t:  24%|███████████████▊                                                  | 303/1260 [03:11<10:00,  1.59it/s, now=None]"
     ]
    },
    {
     "name": "stdout",
     "output_type": "stream",
     "text": [
      "720\n",
      "640.0\n",
      "334.37084615496354\n",
      "1027.4800769819662\n",
      "680.9254615684649\n",
      "-0.21632029686188603\n",
      "3321.4651947539096\n",
      "1943.754380003961\n",
      "-0.21632029686188603\n"
     ]
    },
    {
     "name": "stderr",
     "output_type": "stream",
     "text": [
      "\r",
      "t:  24%|███████████████▉                                                  | 304/1260 [03:11<09:08,  1.74it/s, now=None]"
     ]
    },
    {
     "name": "stdout",
     "output_type": "stream",
     "text": [
      "720\n",
      "640.0\n",
      "333.8687805056859\n",
      "1029.2245366118489\n",
      "681.5466585587674\n",
      "-0.21960376666777043\n",
      "3684.684532886088\n",
      "3608.9551979177845\n",
      "-0.21960376666777043\n"
     ]
    },
    {
     "name": "stderr",
     "output_type": "stream",
     "text": [
      "\r",
      "t:  24%|███████████████▉                                                  | 305/1260 [03:12<08:56,  1.78it/s, now=None]"
     ]
    },
    {
     "name": "stdout",
     "output_type": "stream",
     "text": [
      "720\n",
      "640.0\n",
      "333.1441776836482\n",
      "1027.744520503384\n",
      "680.444349093516\n",
      "-0.21377727378001343\n",
      "3177.021615288246\n",
      "2378.2310225767096\n",
      "-0.21377727378001343\n"
     ]
    },
    {
     "name": "stderr",
     "output_type": "stream",
     "text": [
      "\r",
      "t:  24%|████████████████                                                  | 306/1260 [03:12<08:31,  1.86it/s, now=None]"
     ]
    },
    {
     "name": "stdout",
     "output_type": "stream",
     "text": [
      "720\n",
      "640.0\n",
      "332.70666950169436\n",
      "1031.3194624919515\n",
      "682.0130659968229\n",
      "-0.22206906312606384\n",
      "3460.894477296108\n",
      "3441.0142559134597\n",
      "-0.22206906312606384\n"
     ]
    },
    {
     "name": "stderr",
     "output_type": "stream",
     "text": [
      "\r",
      "t:  24%|████████████████                                                  | 307/1260 [03:13<08:25,  1.88it/s, now=None]"
     ]
    },
    {
     "name": "stdout",
     "output_type": "stream",
     "text": [
      "720\n",
      "640.0\n",
      "333.6599307766965\n",
      "1022.4146694974582\n",
      "678.0373001370774\n",
      "-0.20105430072455202\n",
      "3040.872713197316\n",
      "1330.5524139308934\n",
      "-0.20105430072455202\n"
     ]
    },
    {
     "name": "stderr",
     "output_type": "stream",
     "text": [
      "\r",
      "t:  24%|████████████████▏                                                 | 308/1260 [03:13<08:48,  1.80it/s, now=None]"
     ]
    },
    {
     "name": "stdout",
     "output_type": "stream",
     "text": [
      "720\n",
      "640.0\n",
      "333.6430807497355\n",
      "1028.3234171117635\n",
      "680.9832489307495\n",
      "-0.21662574434824727\n",
      "3450.2814540731297\n",
      "1769.1609620786328\n",
      "-0.21662574434824727\n"
     ]
    },
    {
     "name": "stderr",
     "output_type": "stream",
     "text": [
      "\r",
      "t:  25%|████████████████▏                                                 | 309/1260 [03:14<08:56,  1.77it/s, now=None]"
     ]
    },
    {
     "name": "stdout",
     "output_type": "stream",
     "text": [
      "720\n",
      "640.0\n",
      "336.15715344675647\n",
      "1031.3419073924288\n",
      "683.7495304195926\n",
      "-0.23124751793213227\n",
      "3857.1715519807826\n",
      "2287.0666261744623\n",
      "-0.23124751793213227\n"
     ]
    },
    {
     "name": "stderr",
     "output_type": "stream",
     "text": [
      "\r",
      "t:  25%|████████████████▏                                                 | 310/1260 [03:14<09:10,  1.73it/s, now=None]"
     ]
    },
    {
     "name": "stdout",
     "output_type": "stream",
     "text": [
      "720\n",
      "640.0\n",
      "336.9255353552779\n",
      "1034.7414344769747\n",
      "685.8334849161263\n",
      "-0.2422627059852389\n",
      "4249.174471320344\n",
      "4070.2385611626237\n",
      "-0.2422627059852389\n"
     ]
    },
    {
     "name": "stderr",
     "output_type": "stream",
     "text": [
      "\r",
      "t:  25%|████████████████▎                                                 | 311/1260 [03:15<09:26,  1.68it/s, now=None]"
     ]
    },
    {
     "name": "stdout",
     "output_type": "stream",
     "text": [
      "720\n",
      "640.0\n",
      "338.3058761817339\n",
      "1043.8715066645432\n",
      "691.0886914231385\n",
      "-0.2700402260937319\n",
      "5169.168705293662\n",
      "4325.910684785953\n",
      "-0.2700402260937319\n"
     ]
    },
    {
     "name": "stderr",
     "output_type": "stream",
     "text": [
      "\r",
      "t:  25%|████████████████▎                                                 | 312/1260 [03:16<09:43,  1.62it/s, now=None]"
     ]
    },
    {
     "name": "stdout",
     "output_type": "stream",
     "text": [
      "720\n",
      "640.0\n",
      "338.2908780359593\n",
      "1037.0551064019378\n",
      "687.6729922189486\n",
      "-0.2519858160144426\n",
      "3966.0243427636456\n",
      "6339.457194127015\n",
      "-0.2519858160144426\n"
     ]
    },
    {
     "name": "stderr",
     "output_type": "stream",
     "text": [
      "\r",
      "t:  25%|████████████████▍                                                 | 313/1260 [03:16<09:21,  1.69it/s, now=None]"
     ]
    },
    {
     "name": "stdout",
     "output_type": "stream",
     "text": [
      "720\n",
      "640.0\n",
      "338.9595043078679\n",
      "1034.3328250265974\n",
      "686.6461646672327\n",
      "-0.2465582989553729\n",
      "4466.647844033361\n",
      "8618.034069910422\n",
      "-0.2465582989553729\n"
     ]
    },
    {
     "name": "stderr",
     "output_type": "stream",
     "text": [
      "\r",
      "t:  25%|████████████████▍                                                 | 314/1260 [03:17<09:01,  1.75it/s, now=None]"
     ]
    },
    {
     "name": "stdout",
     "output_type": "stream",
     "text": [
      "720\n",
      "640.0\n",
      "340.86594765123425\n",
      "1029.8829071124924\n",
      "685.3744273818634\n",
      "-0.23983625901842068\n",
      "3821.6957027061817\n",
      "8433.667582127204\n",
      "-0.23983625901842068\n"
     ]
    },
    {
     "name": "stderr",
     "output_type": "stream",
     "text": [
      "\r",
      "t:  25%|████████████████▌                                                 | 315/1260 [03:17<08:43,  1.80it/s, now=None]"
     ]
    },
    {
     "name": "stdout",
     "output_type": "stream",
     "text": [
      "720\n",
      "640.0\n",
      "342.3818986109583\n",
      "1029.4396368830899\n",
      "685.910767747024\n",
      "-0.2426712009485555\n",
      "5174.5244797783425\n",
      "4270.882251815286\n",
      "-0.2426712009485555\n"
     ]
    },
    {
     "name": "stderr",
     "output_type": "stream",
     "text": [
      "\r",
      "t:  25%|████████████████▌                                                 | 316/1260 [03:18<09:30,  1.66it/s, now=None]"
     ]
    },
    {
     "name": "stdout",
     "output_type": "stream",
     "text": [
      "720\n",
      "640.0\n",
      "342.2340122038969\n",
      "1028.5964761839575\n",
      "685.4152441939273\n",
      "-0.24005200502504412\n",
      "4551.521479108342\n",
      "3569.5102164063055\n",
      "-0.24005200502504412\n"
     ]
    },
    {
     "name": "stderr",
     "output_type": "stream",
     "text": [
      "\r",
      "t:  25%|████████████████▌                                                 | 317/1260 [03:19<09:13,  1.71it/s, now=None]"
     ]
    },
    {
     "name": "stdout",
     "output_type": "stream",
     "text": [
      "720\n",
      "640.0\n",
      "341.9342464934253\n",
      "1027.7414860008414\n",
      "684.8378662471333\n",
      "-0.237000150163419\n",
      "5457.487871334059\n",
      "5447.664731988028\n",
      "-0.237000150163419\n"
     ]
    },
    {
     "name": "stderr",
     "output_type": "stream",
     "text": [
      "\r",
      "t:  25%|████████████████▋                                                 | 318/1260 [03:19<10:26,  1.50it/s, now=None]"
     ]
    },
    {
     "name": "stdout",
     "output_type": "stream",
     "text": [
      "720\n",
      "640.0\n",
      "340.5131257702434\n",
      "1024.1276471618355\n",
      "682.3203864660395\n",
      "-0.22369347132049455\n",
      "3234.82490345178\n",
      "5042.6876643470605\n",
      "-0.22369347132049455\n"
     ]
    },
    {
     "name": "stderr",
     "output_type": "stream",
     "text": [
      "\r",
      "t:  25%|████████████████▋                                                 | 319/1260 [03:20<10:38,  1.47it/s, now=None]"
     ]
    },
    {
     "name": "stdout",
     "output_type": "stream",
     "text": [
      "720\n",
      "640.0\n",
      "342.95478191765466\n",
      "1020.9575453350641\n",
      "681.9561636263594\n",
      "-0.22176829345361398\n",
      "3900.0638218016684\n",
      "5032.458761579439\n",
      "-0.22176829345361398\n"
     ]
    },
    {
     "name": "stderr",
     "output_type": "stream",
     "text": [
      "\r",
      "t:  25%|████████████████▊                                                 | 320/1260 [03:21<09:28,  1.65it/s, now=None]"
     ]
    },
    {
     "name": "stdout",
     "output_type": "stream",
     "text": [
      "720\n",
      "640.0\n",
      "342.2004274853771\n",
      "1020.4340345533375\n",
      "681.3172310193572\n",
      "-0.2183910782451739\n",
      "3650.1218590303056\n",
      "4517.136392505042\n",
      "-0.2183910782451739\n"
     ]
    },
    {
     "name": "stderr",
     "output_type": "stream",
     "text": [
      "\r",
      "t:  25%|████████████████▊                                                 | 321/1260 [03:21<08:40,  1.80it/s, now=None]"
     ]
    },
    {
     "name": "stdout",
     "output_type": "stream",
     "text": [
      "720\n",
      "640.0\n",
      "344.2362394094042\n",
      "1020.7846818310455\n",
      "682.5104606202249\n",
      "-0.22469814899261722\n",
      "4924.590803483852\n",
      "5095.351879545313\n",
      "-0.22469814899261722\n"
     ]
    },
    {
     "name": "stderr",
     "output_type": "stream",
     "text": [
      "\r",
      "t:  26%|████████████████▊                                                 | 322/1260 [03:21<07:48,  2.00it/s, now=None]"
     ]
    },
    {
     "name": "stdout",
     "output_type": "stream",
     "text": [
      "720\n",
      "640.0\n",
      "344.7935687671695\n",
      "1024.2013785227925\n",
      "684.497473644981\n",
      "-0.23520093212347115\n",
      "5461.443918103805\n",
      "36015.178567305695\n",
      "-0.23520093212347115\n"
     ]
    },
    {
     "name": "stderr",
     "output_type": "stream",
     "text": [
      "\r",
      "t:  26%|████████████████▉                                                 | 323/1260 [03:22<07:24,  2.11it/s, now=None]"
     ]
    },
    {
     "name": "stdout",
     "output_type": "stream",
     "text": [
      "720\n",
      "640.0\n",
      "345.27623165508163\n",
      "1025.91550293676\n",
      "685.5958672959208\n",
      "-0.24100672713558144\n",
      "6405.274884050735\n",
      "16313.187516329255\n",
      "-0.24100672713558144\n"
     ]
    },
    {
     "name": "stderr",
     "output_type": "stream",
     "text": [
      "\r",
      "t:  26%|████████████████▉                                                 | 324/1260 [03:22<07:22,  2.12it/s, now=None]"
     ]
    },
    {
     "name": "stdout",
     "output_type": "stream",
     "text": [
      "720\n",
      "640.0\n",
      "346.54740040703\n",
      "1025.8815663693586\n",
      "686.2144833881943\n",
      "-0.24427655505188392\n",
      "9072.703090908688\n",
      "7419.2294615331875\n",
      "-0.24427655505188392\n"
     ]
    },
    {
     "name": "stderr",
     "output_type": "stream",
     "text": [
      "\r",
      "t:  26%|█████████████████                                                 | 325/1260 [03:23<08:09,  1.91it/s, now=None]"
     ]
    },
    {
     "name": "stdout",
     "output_type": "stream",
     "text": [
      "720\n",
      "640.0\n",
      "345.2841118852571\n",
      "1023.3371353883504\n",
      "684.3106236368037\n",
      "-0.2342132963659625\n",
      "10386.381168515512\n",
      "8442.16454638797\n",
      "-0.2342132963659625\n"
     ]
    },
    {
     "name": "stderr",
     "output_type": "stream",
     "text": [
      "\r",
      "t:  26%|█████████████████                                                 | 326/1260 [03:24<08:16,  1.88it/s, now=None]"
     ]
    },
    {
     "name": "stdout",
     "output_type": "stream",
     "text": [
      "720\n",
      "640.0\n",
      "346.3705463514624\n",
      "1023.6045080767686\n",
      "684.9875272141155\n",
      "-0.23779121527461058\n",
      "25064.50951648846\n",
      "21265.831211748064\n",
      "-0.23779121527461058\n"
     ]
    },
    {
     "name": "stderr",
     "output_type": "stream",
     "text": [
      "\r",
      "t:  26%|█████████████████▏                                                | 327/1260 [03:24<08:59,  1.73it/s, now=None]"
     ]
    },
    {
     "name": "stdout",
     "output_type": "stream",
     "text": [
      "720\n",
      "640.0\n",
      "347.7568277621336\n",
      "1024.0757600553754\n",
      "685.9162939087545\n",
      "-0.24270041066055942\n",
      "16806.086262623998\n",
      "22004.82932742476\n",
      "-0.24270041066055942\n"
     ]
    },
    {
     "name": "stderr",
     "output_type": "stream",
     "text": [
      "\r",
      "t:  26%|█████████████████▏                                                | 328/1260 [03:25<08:56,  1.74it/s, now=None]"
     ]
    },
    {
     "name": "stdout",
     "output_type": "stream",
     "text": [
      "720\n",
      "640.0\n",
      "346.1236125613695\n",
      "1024.731081195048\n",
      "685.4273468782088\n",
      "-0.24011597635624665\n",
      "14608.318369485653\n",
      "26009.168794720867\n",
      "-0.24011597635624665\n"
     ]
    },
    {
     "name": "stderr",
     "output_type": "stream",
     "text": [
      "\r",
      "t:  26%|█████████████████▏                                                | 329/1260 [03:26<09:53,  1.57it/s, now=None]"
     ]
    },
    {
     "name": "stdout",
     "output_type": "stream",
     "text": [
      "720\n",
      "640.0\n",
      "345.0400909707695\n",
      "1024.5473062583592\n",
      "684.7936986145644\n",
      "-0.23676669267698322\n",
      "16976.126814877858\n",
      "7767.2728477115415\n",
      "-0.23676669267698322\n"
     ]
    },
    {
     "name": "stderr",
     "output_type": "stream",
     "text": [
      "\r",
      "t:  26%|█████████████████▎                                                | 330/1260 [03:26<10:03,  1.54it/s, now=None]"
     ]
    },
    {
     "name": "stdout",
     "output_type": "stream",
     "text": [
      "720\n",
      "640.0\n",
      "342.41253044980823\n",
      "1025.996954485417\n",
      "684.2047424676126\n",
      "-0.233653638757381\n",
      "23166.280851250096\n",
      "6105.540106358677\n",
      "-0.233653638757381\n"
     ]
    },
    {
     "name": "stderr",
     "output_type": "stream",
     "text": [
      "\r",
      "t:  26%|█████████████████▎                                                | 331/1260 [03:27<09:59,  1.55it/s, now=None]"
     ]
    },
    {
     "name": "stdout",
     "output_type": "stream",
     "text": [
      "720\n",
      "640.0\n",
      "343.5353753304271\n",
      "1019.4385541442481\n",
      "681.4869647373375\n",
      "-0.2192882421830698\n",
      "11377.696173807386\n",
      "1660.255236760763\n",
      "-0.2192882421830698\n"
     ]
    },
    {
     "name": "stderr",
     "output_type": "stream",
     "text": [
      "\r",
      "t:  26%|█████████████████▍                                                | 332/1260 [03:27<09:42,  1.59it/s, now=None]"
     ]
    },
    {
     "name": "stdout",
     "output_type": "stream",
     "text": [
      "720\n",
      "640.0\n",
      "344.0097395844838\n",
      "1024.4934946610902\n",
      "684.2516171227869\n",
      "-0.23390140479187368\n",
      "5712.598624852347\n",
      "2413.5181588025894\n",
      "-0.23390140479187368\n"
     ]
    },
    {
     "name": "stderr",
     "output_type": "stream",
     "text": [
      "\r",
      "t:  26%|█████████████████▍                                                | 333/1260 [03:28<10:13,  1.51it/s, now=None]"
     ]
    },
    {
     "name": "stdout",
     "output_type": "stream",
     "text": [
      "720\n",
      "640.0\n",
      "345.66557154230986\n",
      "1023.2605204829047\n",
      "684.4630460126073\n",
      "-0.23501895749520985\n",
      "4647.736030718054\n",
      "2480.2168400131986\n",
      "-0.23501895749520985\n"
     ]
    },
    {
     "name": "stderr",
     "output_type": "stream",
     "text": [
      "\r",
      "t:  27%|█████████████████▍                                                | 334/1260 [03:29<09:39,  1.60it/s, now=None]"
     ]
    },
    {
     "name": "stdout",
     "output_type": "stream",
     "text": [
      "720\n",
      "640.0\n",
      "344.79345804522734\n",
      "1025.9745378001437\n",
      "685.3839979226855\n",
      "-0.23988684616276604\n",
      "5586.289878885122\n",
      "4532.036512654849\n",
      "-0.23988684616276604\n"
     ]
    },
    {
     "name": "stderr",
     "output_type": "stream",
     "text": [
      "\r",
      "t:  27%|█████████████████▌                                                | 335/1260 [03:29<10:02,  1.53it/s, now=None]"
     ]
    },
    {
     "name": "stdout",
     "output_type": "stream",
     "text": [
      "720\n",
      "640.0\n",
      "343.8956774207179\n",
      "1026.0849831966468\n",
      "684.9903303086824\n",
      "-0.23780603163160677\n",
      "8130.450785078599\n",
      "5156.169996562214\n",
      "-0.23780603163160677\n"
     ]
    },
    {
     "name": "stderr",
     "output_type": "stream",
     "text": [
      "\r",
      "t:  27%|█████████████████▌                                                | 336/1260 [03:30<10:02,  1.53it/s, now=None]"
     ]
    },
    {
     "name": "stdout",
     "output_type": "stream",
     "text": [
      "720\n",
      "640.0\n",
      "344.28612612057543\n",
      "1027.510054857766\n",
      "685.8980904891707\n",
      "-0.24260419258561672\n",
      "6362.177891749276\n",
      "6444.335377480142\n",
      "-0.24260419258561672\n"
     ]
    },
    {
     "name": "stderr",
     "output_type": "stream",
     "text": [
      "\r",
      "t:  27%|█████████████████▋                                                | 337/1260 [03:31<09:56,  1.55it/s, now=None]"
     ]
    },
    {
     "name": "stdout",
     "output_type": "stream",
     "text": [
      "720\n",
      "640.0\n",
      "342.4012699295246\n",
      "1028.891622793328\n",
      "685.6464463614263\n",
      "-0.24127407362468212\n",
      "13454.534012018448\n",
      "4393.495071316843\n",
      "-0.24127407362468212\n"
     ]
    },
    {
     "name": "stderr",
     "output_type": "stream",
     "text": [
      "\r",
      "t:  27%|█████████████████▋                                                | 338/1260 [03:31<10:17,  1.49it/s, now=None]"
     ]
    },
    {
     "name": "stdout",
     "output_type": "stream",
     "text": [
      "720\n",
      "640.0\n",
      "340.60602015086926\n",
      "1031.6706011914043\n",
      "686.1383106711368\n",
      "-0.24387392783315148\n",
      "15146.082057110945\n",
      "31353.969802909513\n",
      "-0.24387392783315148\n"
     ]
    },
    {
     "name": "stderr",
     "output_type": "stream",
     "text": [
      "\r",
      "t:  27%|█████████████████▊                                                | 339/1260 [03:32<09:51,  1.56it/s, now=None]"
     ]
    },
    {
     "name": "stdout",
     "output_type": "stream",
     "text": [
      "720\n",
      "640.0\n",
      "342.4100591749041\n",
      "1032.0437057514469\n",
      "687.2268824631755\n",
      "-0.249627807305356\n",
      "38671.64229812703\n",
      "9957.295354865582\n",
      "-0.249627807305356\n"
     ]
    },
    {
     "name": "stderr",
     "output_type": "stream",
     "text": [
      "\r",
      "t:  27%|█████████████████▊                                                | 340/1260 [03:33<09:06,  1.68it/s, now=None]"
     ]
    },
    {
     "name": "stdout",
     "output_type": "stream",
     "text": [
      "720\n",
      "640.0\n",
      "341.2590399691046\n",
      "1032.0000592323222\n",
      "686.6295496007134\n",
      "-0.24647047646091372\n",
      "7299.5675067472375\n",
      "5715.1846437292315\n",
      "-0.24647047646091372\n"
     ]
    },
    {
     "name": "stderr",
     "output_type": "stream",
     "text": [
      "\r",
      "t:  27%|█████████████████▊                                                | 341/1260 [03:33<08:59,  1.70it/s, now=None]"
     ]
    },
    {
     "name": "stdout",
     "output_type": "stream",
     "text": [
      "720\n",
      "640.0\n",
      "341.5273308144177\n",
      "1031.0750975310027\n",
      "686.3012141727102\n",
      "-0.24473498919861086\n",
      "4027.8960297893695\n",
      "3190.0983775581585\n",
      "-0.24473498919861086\n"
     ]
    },
    {
     "name": "stderr",
     "output_type": "stream",
     "text": [
      "\r",
      "t:  27%|█████████████████▉                                                | 342/1260 [03:34<09:14,  1.66it/s, now=None]"
     ]
    },
    {
     "name": "stdout",
     "output_type": "stream",
     "text": [
      "720\n",
      "640.0\n",
      "341.8521276107543\n",
      "1029.6671781635903\n",
      "685.7596528871723\n",
      "-0.24187245097505333\n",
      "3466.558803088108\n",
      "7487.139150522922\n",
      "-0.24187245097505333\n"
     ]
    },
    {
     "name": "stderr",
     "output_type": "stream",
     "text": [
      "\r",
      "t:  27%|█████████████████▉                                                | 343/1260 [03:34<09:31,  1.60it/s, now=None]"
     ]
    },
    {
     "name": "stdout",
     "output_type": "stream",
     "text": [
      "720\n",
      "640.0\n",
      "344.9547727913218\n",
      "1028.2834268719957\n",
      "686.6190998316588\n",
      "-0.2464152419673393\n",
      "4772.45907358405\n",
      "6198.827116169784\n",
      "-0.2464152419673393\n"
     ]
    },
    {
     "name": "stderr",
     "output_type": "stream",
     "text": [
      "\r",
      "t:  27%|██████████████████                                                | 344/1260 [03:35<09:38,  1.58it/s, now=None]"
     ]
    },
    {
     "name": "stdout",
     "output_type": "stream",
     "text": [
      "720\n",
      "640.0\n",
      "345.69298176144395\n",
      "1028.7553497941096\n",
      "687.2241657777768\n",
      "-0.24961344768253432\n",
      "6723.87940999618\n",
      "6966.931767709277\n",
      "-0.24961344768253432\n"
     ]
    },
    {
     "name": "stderr",
     "output_type": "stream",
     "text": [
      "\r",
      "t:  27%|██████████████████                                                | 345/1260 [03:36<09:55,  1.54it/s, now=None]"
     ]
    },
    {
     "name": "stdout",
     "output_type": "stream",
     "text": [
      "720\n",
      "640.0\n",
      "346.4938068387267\n",
      "1029.6186357781266\n",
      "688.0562213084266\n",
      "-0.254011455487398\n",
      "10545.800876222609\n",
      "10744.78739094512\n",
      "-0.254011455487398\n"
     ]
    },
    {
     "name": "stderr",
     "output_type": "stream",
     "text": [
      "\r",
      "t:  27%|██████████████████                                                | 346/1260 [03:36<09:57,  1.53it/s, now=None]"
     ]
    },
    {
     "name": "stdout",
     "output_type": "stream",
     "text": [
      "720\n",
      "640.0\n",
      "347.8781426184125\n",
      "1029.289285086678\n",
      "688.5837138525453\n",
      "-0.2567996303634538\n",
      "178270.33217213894\n",
      "18562.204830565275\n",
      "-0.2567996303634538\n"
     ]
    },
    {
     "name": "stderr",
     "output_type": "stream",
     "text": [
      "\r",
      "t:  28%|██████████████████▏                                               | 347/1260 [03:37<09:56,  1.53it/s, now=None]"
     ]
    },
    {
     "name": "stdout",
     "output_type": "stream",
     "text": [
      "720\n",
      "640.0\n",
      "347.5447157135594\n",
      "1036.4322580946036\n",
      "691.9884869040816\n",
      "-0.27479628792157407\n",
      "23091.62576830181\n",
      "3942.7925707837317\n",
      "-0.27479628792157407\n"
     ]
    },
    {
     "name": "stderr",
     "output_type": "stream",
     "text": [
      "\r",
      "t:  28%|██████████████████▏                                               | 348/1260 [03:38<10:02,  1.51it/s, now=None]"
     ]
    },
    {
     "name": "stdout",
     "output_type": "stream",
     "text": [
      "720\n",
      "640.0\n",
      "349.0910407592683\n",
      "1033.2079313405739\n",
      "691.149486049921\n",
      "-0.2703615691210113\n",
      "8739.278475927556\n",
      "4992.566143481344\n",
      "-0.2703615691210113\n"
     ]
    },
    {
     "name": "stderr",
     "output_type": "stream",
     "text": [
      "\r",
      "t:  28%|██████████████████▎                                               | 349/1260 [03:38<09:50,  1.54it/s, now=None]"
     ]
    },
    {
     "name": "stdout",
     "output_type": "stream",
     "text": [
      "720\n",
      "640.0\n",
      "348.67036211286086\n",
      "1032.891599177678\n",
      "690.7809806452694\n",
      "-0.2684137548392813\n",
      "7179.253845090126\n",
      "6081.022629148047\n",
      "-0.2684137548392813\n"
     ]
    },
    {
     "name": "stderr",
     "output_type": "stream",
     "text": [
      "\r",
      "t:  28%|██████████████████▎                                               | 350/1260 [03:39<09:47,  1.55it/s, now=None]"
     ]
    },
    {
     "name": "stdout",
     "output_type": "stream",
     "text": [
      "720\n",
      "640.0\n",
      "348.85298325983604\n",
      "1032.3472625049\n",
      "690.600122882368\n",
      "-0.26745779237823114\n",
      "4944.367826731815\n",
      "3832.353937945858\n",
      "-0.26745779237823114\n"
     ]
    },
    {
     "name": "stderr",
     "output_type": "stream",
     "text": [
      "\r",
      "t:  28%|██████████████████▍                                               | 351/1260 [03:40<09:32,  1.59it/s, now=None]"
     ]
    },
    {
     "name": "stdout",
     "output_type": "stream",
     "text": [
      "720\n",
      "640.0\n",
      "349.5654260509506\n",
      "1029.82771306454\n",
      "689.6965695577453\n",
      "-0.26268186766236806\n",
      "3319.4306960604963\n",
      "9602.916320568911\n",
      "-0.26268186766236806\n"
     ]
    },
    {
     "name": "stderr",
     "output_type": "stream",
     "text": [
      "\r",
      "t:  28%|██████████████████▍                                               | 352/1260 [03:40<09:31,  1.59it/s, now=None]"
     ]
    },
    {
     "name": "stdout",
     "output_type": "stream",
     "text": [
      "720\n",
      "640.0\n",
      "348.51447514636766\n",
      "1030.9561462605404\n",
      "689.735310703454\n",
      "-0.26288664228968567\n",
      "3408.9509114420935\n",
      "10756.601885229391\n",
      "-0.26288664228968567\n"
     ]
    },
    {
     "name": "stderr",
     "output_type": "stream",
     "text": [
      "\r",
      "t:  28%|██████████████████▍                                               | 353/1260 [03:41<09:49,  1.54it/s, now=None]"
     ]
    },
    {
     "name": "stdout",
     "output_type": "stream",
     "text": [
      "720\n",
      "640.0\n",
      "346.7008845172377\n",
      "1030.8773171118926\n",
      "688.7891008145651\n",
      "-0.2578852471627014\n",
      "4466.927849285143\n",
      "5804.489486563009\n",
      "-0.2578852471627014\n"
     ]
    },
    {
     "name": "stderr",
     "output_type": "stream",
     "text": [
      "\r",
      "t:  28%|██████████████████▌                                               | 354/1260 [03:42<10:08,  1.49it/s, now=None]"
     ]
    },
    {
     "name": "stdout",
     "output_type": "stream",
     "text": [
      "720\n",
      "640.0\n",
      "344.05830759985537\n",
      "1031.0012934429926\n",
      "687.529800521424\n",
      "-0.2512289456132413\n",
      "5660.262033491836\n",
      "12407.118096702903\n",
      "-0.2512289456132413\n"
     ]
    },
    {
     "name": "stderr",
     "output_type": "stream",
     "text": [
      "\r",
      "t:  28%|██████████████████▌                                               | 355/1260 [03:42<09:34,  1.58it/s, now=None]"
     ]
    },
    {
     "name": "stdout",
     "output_type": "stream",
     "text": [
      "720\n",
      "640.0\n",
      "342.5548563462188\n",
      "1026.73630940143\n",
      "684.6455828738244\n",
      "-0.2359837951902148\n",
      "13446.310481573497\n",
      "5679.064574265458\n",
      "-0.2359837951902148\n"
     ]
    },
    {
     "name": "stderr",
     "output_type": "stream",
     "text": [
      "\r",
      "t:  28%|██████████████████▋                                               | 356/1260 [03:43<09:37,  1.57it/s, now=None]"
     ]
    },
    {
     "name": "stdout",
     "output_type": "stream",
     "text": [
      "720\n",
      "640.0\n",
      "339.65055632817774\n",
      "1028.1943880180997\n",
      "683.9224721731388\n",
      "-0.2321616386294478\n",
      "10469.762141700148\n",
      "4889.0695860059295\n",
      "-0.2321616386294478\n"
     ]
    },
    {
     "name": "stderr",
     "output_type": "stream",
     "text": [
      "\r",
      "t:  28%|██████████████████▋                                               | 357/1260 [03:43<09:13,  1.63it/s, now=None]"
     ]
    },
    {
     "name": "stdout",
     "output_type": "stream",
     "text": [
      "720\n",
      "640.0\n",
      "338.71087370921725\n",
      "1032.025455957093\n",
      "685.3681648331551\n",
      "-0.23980315697524843\n",
      "6586.975493289374\n",
      "23885.846609078115\n",
      "-0.23980315697524843\n"
     ]
    },
    {
     "name": "stderr",
     "output_type": "stream",
     "text": [
      "\r",
      "t:  28%|██████████████████▊                                               | 358/1260 [03:44<09:41,  1.55it/s, now=None]"
     ]
    },
    {
     "name": "stdout",
     "output_type": "stream",
     "text": [
      "720\n",
      "640.0\n",
      "338.80841021368815\n",
      "1030.5427418464299\n",
      "684.675576030059\n",
      "-0.23614233044459762\n",
      "3556.19973720657\n",
      "79584.76211185983\n",
      "-0.23614233044459762\n"
     ]
    },
    {
     "name": "stderr",
     "output_type": "stream",
     "text": [
      "\r",
      "t:  28%|██████████████████▊                                               | 359/1260 [03:45<09:29,  1.58it/s, now=None]"
     ]
    },
    {
     "name": "stdout",
     "output_type": "stream",
     "text": [
      "720\n",
      "640.0\n",
      "338.617577918031\n",
      "1032.7322469507076\n",
      "685.6749124343693\n",
      "-0.24142453715309475\n",
      "2866.7316830084555\n",
      "10039.761327391801\n",
      "-0.24142453715309475\n"
     ]
    },
    {
     "name": "stderr",
     "output_type": "stream",
     "text": [
      "\r",
      "t:  29%|██████████████████▊                                               | 360/1260 [03:45<09:32,  1.57it/s, now=None]"
     ]
    },
    {
     "name": "stdout",
     "output_type": "stream",
     "text": [
      "720\n",
      "640.0\n",
      "339.9862662066147\n",
      "1030.9185168529862\n",
      "685.4523915298005\n",
      "-0.24024835522894541\n",
      "2374.374613913626\n",
      "9287.019143579704\n",
      "-0.24024835522894541\n"
     ]
    },
    {
     "name": "stderr",
     "output_type": "stream",
     "text": [
      "\r",
      "t:  29%|██████████████████▉                                               | 361/1260 [03:46<09:54,  1.51it/s, now=None]"
     ]
    },
    {
     "name": "stdout",
     "output_type": "stream",
     "text": [
      "720\n",
      "640.0\n",
      "340.200800104961\n",
      "1031.3160792942372\n",
      "685.7584396995991\n",
      "-0.24186603841216658\n",
      "2137.8051268301265\n",
      "7705.702030706384\n",
      "-0.24186603841216658\n"
     ]
    },
    {
     "name": "stderr",
     "output_type": "stream",
     "text": [
      "\r",
      "t:  29%|██████████████████▉                                               | 362/1260 [03:47<09:47,  1.53it/s, now=None]"
     ]
    },
    {
     "name": "stdout",
     "output_type": "stream",
     "text": [
      "720\n",
      "640.0\n",
      "341.23770808325685\n",
      "1030.401539921673\n",
      "685.8196240024649\n",
      "-0.2421894411558861\n",
      "2037.7438241992038\n",
      "7645.384215523262\n",
      "-0.2421894411558861\n"
     ]
    },
    {
     "name": "stderr",
     "output_type": "stream",
     "text": [
      "\r",
      "t:  29%|███████████████████                                               | 363/1260 [03:47<09:32,  1.57it/s, now=None]"
     ]
    },
    {
     "name": "stdout",
     "output_type": "stream",
     "text": [
      "720\n",
      "640.0\n",
      "346.244050476045\n",
      "1026.9087460400135\n",
      "686.5763982580293\n",
      "-0.24618953364958324\n",
      "3036.0696281601563\n",
      "36833.78975962033\n",
      "-0.24618953364958324\n"
     ]
    },
    {
     "name": "stderr",
     "output_type": "stream",
     "text": [
      "\r",
      "t:  29%|███████████████████                                               | 364/1260 [03:48<09:22,  1.59it/s, now=None]"
     ]
    },
    {
     "name": "stdout",
     "output_type": "stream",
     "text": [
      "720\n",
      "640.0\n",
      "349.2018560422384\n",
      "1027.9219774448957\n",
      "688.561916743567\n",
      "-0.25668441707314016\n",
      "4586.486577345092\n",
      "13751.834210984773\n",
      "-0.25668441707314016\n"
     ]
    },
    {
     "name": "stderr",
     "output_type": "stream",
     "text": [
      "\r",
      "t:  29%|███████████████████                                               | 365/1260 [03:49<09:21,  1.59it/s, now=None]"
     ]
    },
    {
     "name": "stdout",
     "output_type": "stream",
     "text": [
      "720\n",
      "640.0\n",
      "353.0022432574882\n",
      "1026.2565671466116\n",
      "689.6294052020498\n",
      "-0.26232685606797773\n",
      "10485.19591888533\n",
      "15353.01688513487\n",
      "-0.26232685606797773\n"
     ]
    },
    {
     "name": "stderr",
     "output_type": "stream",
     "text": [
      "\r",
      "t:  29%|███████████████████▏                                              | 366/1260 [03:49<10:00,  1.49it/s, now=None]"
     ]
    },
    {
     "name": "stdout",
     "output_type": "stream",
     "text": [
      "720\n",
      "640.0\n",
      "354.19663924004595\n",
      "1019.2321210054583\n",
      "686.7143801227521\n",
      "-0.24691886636311836\n",
      "142732.1090844591\n",
      "2048.6709155679896\n",
      "-0.24691886636311836\n"
     ]
    },
    {
     "name": "stderr",
     "output_type": "stream",
     "text": [
      "\r",
      "t:  29%|███████████████████▏                                              | 367/1260 [03:50<10:06,  1.47it/s, now=None]"
     ]
    },
    {
     "name": "stdout",
     "output_type": "stream",
     "text": [
      "720\n",
      "640.0\n",
      "355.6260313847716\n",
      "1021.4451233642058\n",
      "688.5355773744886\n",
      "-0.25654519469372566\n",
      "11020.700494509088\n",
      "2515.5011180707133\n",
      "-0.25654519469372566\n"
     ]
    },
    {
     "name": "stderr",
     "output_type": "stream",
     "text": [
      "\r",
      "t:  29%|███████████████████▎                                              | 368/1260 [03:51<09:40,  1.54it/s, now=None]"
     ]
    },
    {
     "name": "stdout",
     "output_type": "stream",
     "text": [
      "720\n",
      "640.0\n",
      "356.5445827080472\n",
      "1024.7604886335785\n",
      "690.6525356708128\n",
      "-0.2677348314028675\n",
      "3912.406030421306\n",
      "3285.3967696689156\n",
      "-0.2677348314028675\n"
     ]
    },
    {
     "name": "stderr",
     "output_type": "stream",
     "text": [
      "\r",
      "t:  29%|███████████████████▎                                              | 369/1260 [03:51<09:43,  1.53it/s, now=None]"
     ]
    },
    {
     "name": "stdout",
     "output_type": "stream",
     "text": [
      "720\n",
      "640.0\n",
      "356.7999690434641\n",
      "1027.89226609404\n",
      "692.3461175687521\n",
      "-0.2766866214348326\n",
      "2603.6246366867963\n",
      "4532.11859364071\n",
      "-0.2766866214348326\n"
     ]
    },
    {
     "name": "stderr",
     "output_type": "stream",
     "text": [
      "\r",
      "t:  29%|███████████████████▍                                              | 370/1260 [03:52<09:29,  1.56it/s, now=None]"
     ]
    },
    {
     "name": "stdout",
     "output_type": "stream",
     "text": [
      "720\n",
      "640.0\n",
      "357.7583881428131\n",
      "1030.5542230254134\n",
      "694.1563055841133\n",
      "-0.28625475808745593\n",
      "1899.1450342248445\n",
      "36914.6236690765\n",
      "-0.28625475808745593\n"
     ]
    },
    {
     "name": "stderr",
     "output_type": "stream",
     "text": [
      "\r",
      "t:  29%|███████████████████▍                                              | 371/1260 [03:53<09:43,  1.52it/s, now=None]"
     ]
    },
    {
     "name": "stdout",
     "output_type": "stream",
     "text": [
      "720\n",
      "640.0\n",
      "355.65107456379815\n",
      "1032.6978620081077\n",
      "694.1744682859529\n",
      "-0.2863507609400368\n",
      "1786.7825558418508\n",
      "22529.79690304515\n",
      "-0.2863507609400368\n"
     ]
    },
    {
     "name": "stderr",
     "output_type": "stream",
     "text": [
      "\r",
      "t:  30%|███████████████████▍                                              | 372/1260 [03:53<10:09,  1.46it/s, now=None]"
     ]
    },
    {
     "name": "stdout",
     "output_type": "stream",
     "text": [
      "720\n",
      "640.0\n",
      "353.97425223427985\n",
      "1032.0453336936102\n",
      "693.0097929639451\n",
      "-0.2801946199522811\n",
      "1619.978691257137\n",
      "20288.45583848695\n",
      "-0.2801946199522811\n"
     ]
    },
    {
     "name": "stderr",
     "output_type": "stream",
     "text": [
      "\r",
      "t:  30%|███████████████████▌                                              | 373/1260 [03:54<09:25,  1.57it/s, now=None]"
     ]
    },
    {
     "name": "stdout",
     "output_type": "stream",
     "text": [
      "720\n",
      "640.0\n",
      "350.8051622084655\n",
      "1033.6433392254855\n",
      "692.2242507169756\n",
      "-0.27604246807544236\n",
      "1680.1494508346107\n",
      "4003.3905599550017\n",
      "-0.27604246807544236\n"
     ]
    },
    {
     "name": "stderr",
     "output_type": "stream",
     "text": [
      "\r",
      "t:  30%|███████████████████▌                                              | 374/1260 [03:54<08:56,  1.65it/s, now=None]"
     ]
    },
    {
     "name": "stdout",
     "output_type": "stream",
     "text": [
      "720\n",
      "640.0\n",
      "347.49710442415716\n",
      "1030.216722936958\n",
      "688.8569136805576\n",
      "-0.25824368659723285\n",
      "1747.0524224269177\n",
      "855199.9803209424\n",
      "-0.25824368659723285\n"
     ]
    },
    {
     "name": "stderr",
     "output_type": "stream",
     "text": [
      "\r",
      "t:  30%|███████████████████▋                                              | 375/1260 [03:55<08:40,  1.70it/s, now=None]"
     ]
    },
    {
     "name": "stdout",
     "output_type": "stream",
     "text": [
      "720\n",
      "640.0\n",
      "346.0401260104416\n",
      "1028.7968608356614\n",
      "687.4184934230515\n",
      "-0.2506406080932721\n",
      "1778.5886777588157\n",
      "7451.23536486012\n",
      "-0.2506406080932721\n"
     ]
    },
    {
     "name": "stderr",
     "output_type": "stream",
     "text": [
      "\r",
      "t:  30%|███████████████████▋                                              | 376/1260 [03:55<08:04,  1.82it/s, now=None]"
     ]
    },
    {
     "name": "stdout",
     "output_type": "stream",
     "text": [
      "720\n",
      "640.0\n",
      "342.95418176824177\n",
      "1027.677329896941\n",
      "685.3157558325914\n",
      "-0.23952613797226902\n",
      "2089.8672017146755\n",
      "6892.900888869186\n",
      "-0.23952613797226902\n"
     ]
    },
    {
     "name": "stderr",
     "output_type": "stream",
     "text": [
      "\r",
      "t:  30%|███████████████████▋                                              | 377/1260 [03:56<08:09,  1.80it/s, now=None]"
     ]
    },
    {
     "name": "stdout",
     "output_type": "stream",
     "text": [
      "720\n",
      "640.0\n",
      "341.0723136407537\n",
      "1024.508362663925\n",
      "682.7903381523394\n",
      "-0.2261775016623652\n",
      "2660.447109021325\n",
      "7445.516232058089\n",
      "-0.2261775016623652\n"
     ]
    },
    {
     "name": "stderr",
     "output_type": "stream",
     "text": [
      "\r",
      "t:  30%|███████████████████▊                                              | 378/1260 [03:57<08:17,  1.77it/s, now=None]"
     ]
    },
    {
     "name": "stdout",
     "output_type": "stream",
     "text": [
      "720\n",
      "640.0\n",
      "337.84381494795986\n",
      "1021.4553035590314\n",
      "679.6495592534957\n",
      "-0.2095762417684772\n",
      "5039.30590230559\n",
      "4268.31634600706\n",
      "-0.2095762417684772\n"
     ]
    },
    {
     "name": "stderr",
     "output_type": "stream",
     "text": [
      "\r",
      "t:  30%|███████████████████▊                                              | 379/1260 [03:57<09:01,  1.63it/s, now=None]"
     ]
    },
    {
     "name": "stdout",
     "output_type": "stream",
     "text": [
      "720\n",
      "640.0\n",
      "337.4159759594612\n",
      "1023.1265856696895\n",
      "680.2712808145753\n",
      "-0.2128624843056125\n",
      "5385.968154052768\n",
      "7151.186519342827\n",
      "-0.2128624843056125\n"
     ]
    },
    {
     "name": "stderr",
     "output_type": "stream",
     "text": [
      "\r",
      "t:  30%|███████████████████▉                                              | 380/1260 [03:58<08:44,  1.68it/s, now=None]"
     ]
    },
    {
     "name": "stdout",
     "output_type": "stream",
     "text": [
      "720\n",
      "640.0\n",
      "335.6022371163821\n",
      "1025.551994530759\n",
      "680.5771158235706\n",
      "-0.21447904078173022\n",
      "9184.222741364012\n",
      "13478.501908444667\n",
      "-0.21447904078173022\n"
     ]
    },
    {
     "name": "stderr",
     "output_type": "stream",
     "text": [
      "\r",
      "t:  30%|███████████████████▉                                              | 381/1260 [03:58<09:00,  1.63it/s, now=None]"
     ]
    },
    {
     "name": "stdout",
     "output_type": "stream",
     "text": [
      "720\n",
      "640.0\n",
      "334.83549229185485\n",
      "1027.8924039879205\n",
      "681.3639481398877\n",
      "-0.21863801159654941\n",
      "51595.84141881496\n",
      "105166.94982201674\n",
      "-0.21863801159654941\n"
     ]
    },
    {
     "name": "stderr",
     "output_type": "stream",
     "text": [
      "\r",
      "t:  30%|████████████████████                                              | 382/1260 [03:59<09:40,  1.51it/s, now=None]"
     ]
    },
    {
     "name": "stdout",
     "output_type": "stream",
     "text": [
      "720\n",
      "640.0\n",
      "334.2451908824306\n",
      "1028.940651614262\n",
      "681.5929212483463\n",
      "-0.21984829802697345\n",
      "21138.548457268047\n",
      "44807.34150445752\n",
      "-0.21984829802697345\n"
     ]
    },
    {
     "name": "stderr",
     "output_type": "stream",
     "text": [
      "\r",
      "t:  30%|████████████████████                                              | 383/1260 [04:00<09:45,  1.50it/s, now=None]"
     ]
    },
    {
     "name": "stdout",
     "output_type": "stream",
     "text": [
      "720\n",
      "640.0\n",
      "333.4831786921779\n",
      "1034.7673850451129\n",
      "684.1252818686454\n",
      "-0.23323363273426856\n",
      "7743.051016452665\n",
      "2844.61330697016\n",
      "-0.23323363273426856\n"
     ]
    },
    {
     "name": "stderr",
     "output_type": "stream",
     "text": [
      "\r",
      "t:  30%|████████████████████                                              | 384/1260 [04:01<09:27,  1.54it/s, now=None]"
     ]
    },
    {
     "name": "stdout",
     "output_type": "stream",
     "text": [
      "720\n",
      "640.0\n",
      "333.16549134468363\n",
      "1031.502755833187\n",
      "682.3341235889353\n",
      "-0.2237660818272295\n",
      "4401.533791873983\n",
      "3181.874571780514\n",
      "-0.2237660818272295\n"
     ]
    },
    {
     "name": "stderr",
     "output_type": "stream",
     "text": [
      "\r",
      "t:  31%|████████████████████▏                                             | 385/1260 [04:01<09:55,  1.47it/s, now=None]"
     ]
    },
    {
     "name": "stdout",
     "output_type": "stream",
     "text": [
      "720\n",
      "640.0\n",
      "333.25070816620314\n",
      "1030.1917326397831\n",
      "681.7212204029931\n",
      "-0.22052645070153518\n",
      "3819.299239031562\n",
      "3104.5511054211725\n",
      "-0.22052645070153518\n"
     ]
    },
    {
     "name": "stderr",
     "output_type": "stream",
     "text": [
      "\r",
      "t:  31%|████████████████████▏                                             | 386/1260 [04:02<09:24,  1.55it/s, now=None]"
     ]
    },
    {
     "name": "stdout",
     "output_type": "stream",
     "text": [
      "720\n",
      "640.0\n",
      "334.11866179776507\n",
      "1028.1690558868822\n",
      "681.1438588423237\n",
      "-0.21747468245228216\n",
      "3251.9623090612954\n",
      "6740.053159134275\n",
      "-0.21747468245228216\n"
     ]
    },
    {
     "name": "stderr",
     "output_type": "stream",
     "text": [
      "\r",
      "t:  31%|████████████████████▎                                             | 387/1260 [04:02<08:57,  1.63it/s, now=None]"
     ]
    },
    {
     "name": "stdout",
     "output_type": "stream",
     "text": [
      "720\n",
      "640.0\n",
      "335.0732789431005\n",
      "1028.3541654424803\n",
      "681.7137221927903\n",
      "-0.2204868173047489\n",
      "3588.3208866385644\n",
      "4496.256879925461\n",
      "-0.2204868173047489\n"
     ]
    },
    {
     "name": "stderr",
     "output_type": "stream",
     "text": [
      "\r",
      "t:  31%|████████████████████▎                                             | 388/1260 [04:03<08:36,  1.69it/s, now=None]"
     ]
    },
    {
     "name": "stdout",
     "output_type": "stream",
     "text": [
      "720\n",
      "640.0\n",
      "335.5986078544109\n",
      "1028.7867149250687\n",
      "682.1926613897398\n",
      "-0.22301835306005316\n",
      "4023.796352028994\n",
      "6697.850112881988\n",
      "-0.22301835306005316\n"
     ]
    },
    {
     "name": "stderr",
     "output_type": "stream",
     "text": [
      "\r",
      "t:  31%|████████████████████▍                                             | 389/1260 [04:04<08:52,  1.64it/s, now=None]"
     ]
    },
    {
     "name": "stdout",
     "output_type": "stream",
     "text": [
      "720\n",
      "640.0\n",
      "337.25144116543487\n",
      "1028.745214434962\n",
      "682.9983278001985\n",
      "-0.22727687551533476\n",
      "3760.354255441499\n",
      "3009.41951391142\n",
      "-0.22727687551533476\n"
     ]
    },
    {
     "name": "stderr",
     "output_type": "stream",
     "text": [
      "\r",
      "t:  31%|████████████████████▍                                             | 390/1260 [04:04<08:39,  1.67it/s, now=None]"
     ]
    },
    {
     "name": "stdout",
     "output_type": "stream",
     "text": [
      "720\n",
      "640.0\n",
      "338.720124523683\n",
      "1028.7825941356557\n",
      "683.7513593296694\n",
      "-0.23125718502825263\n",
      "6384.819112089292\n",
      "3672.934965315621\n",
      "-0.23125718502825263\n"
     ]
    },
    {
     "name": "stderr",
     "output_type": "stream",
     "text": [
      "\r",
      "t:  31%|████████████████████▍                                             | 391/1260 [04:05<08:30,  1.70it/s, now=None]"
     ]
    },
    {
     "name": "stdout",
     "output_type": "stream",
     "text": [
      "720\n",
      "640.0\n",
      "339.1226893603497\n",
      "1021.8138614415035\n",
      "680.4682754009266\n",
      "-0.21390374140489768\n",
      "8534.56875332951\n",
      "7393.068438507847\n",
      "-0.21390374140489768\n"
     ]
    },
    {
     "name": "stderr",
     "output_type": "stream",
     "text": [
      "\r",
      "t:  31%|████████████████████▌                                             | 392/1260 [04:05<08:57,  1.61it/s, now=None]"
     ]
    },
    {
     "name": "stdout",
     "output_type": "stream",
     "text": [
      "720\n",
      "640.0\n",
      "339.8595784450491\n",
      "1019.1290658940222\n",
      "679.4943221695357\n",
      "-0.20875570289611747\n",
      "11219.941639956725\n",
      "2849.1988252991355\n",
      "-0.20875570289611747\n"
     ]
    },
    {
     "name": "stderr",
     "output_type": "stream",
     "text": [
      "\r",
      "t:  31%|████████████████████▌                                             | 393/1260 [04:06<09:14,  1.56it/s, now=None]"
     ]
    },
    {
     "name": "stdout",
     "output_type": "stream",
     "text": [
      "720\n",
      "640.0\n",
      "340.21180281507515\n",
      "1023.8062153585006\n",
      "682.0090090867878\n",
      "-0.22204761945873575\n",
      "16633.909764240798\n",
      "5924.204620940329\n",
      "-0.22204761945873575\n"
     ]
    },
    {
     "name": "stderr",
     "output_type": "stream",
     "text": [
      "\r",
      "t:  31%|████████████████████▋                                             | 394/1260 [04:07<08:56,  1.61it/s, now=None]"
     ]
    },
    {
     "name": "stdout",
     "output_type": "stream",
     "text": [
      "720\n",
      "640.0\n",
      "342.5700804016976\n",
      "1022.6771474981733\n",
      "682.6236139499355\n",
      "-0.22529624516394467\n",
      "13024.892631154187\n",
      "7075.734118384591\n",
      "-0.22529624516394467\n"
     ]
    },
    {
     "name": "stderr",
     "output_type": "stream",
     "text": [
      "\r",
      "t:  31%|████████████████████▋                                             | 395/1260 [04:07<09:32,  1.51it/s, now=None]"
     ]
    },
    {
     "name": "stdout",
     "output_type": "stream",
     "text": [
      "720\n",
      "640.0\n",
      "341.9831474894813\n",
      "1021.5515693693598\n",
      "681.7673584294205\n",
      "-0.22077032312693684\n",
      "9269.566955018166\n",
      "7093.352573270262\n",
      "-0.22077032312693684\n"
     ]
    },
    {
     "name": "stderr",
     "output_type": "stream",
     "text": [
      "\r",
      "t:  31%|████████████████████▋                                             | 396/1260 [04:08<09:06,  1.58it/s, now=None]"
     ]
    },
    {
     "name": "stdout",
     "output_type": "stream",
     "text": [
      "720\n",
      "640.0\n",
      "342.0020820798297\n",
      "1027.5507989254584\n",
      "684.776440502644\n",
      "-0.2366754712282614\n",
      "5859.090783101352\n",
      "4656.380486242164\n",
      "-0.2366754712282614\n"
     ]
    },
    {
     "name": "stderr",
     "output_type": "stream",
     "text": [
      "\r",
      "t:  32%|████████████████████▊                                             | 397/1260 [04:09<09:49,  1.46it/s, now=None]"
     ]
    },
    {
     "name": "stdout",
     "output_type": "stream",
     "text": [
      "720\n",
      "640.0\n",
      "340.06595835786624\n",
      "1026.1597576098115\n",
      "683.1128579838389\n",
      "-0.2278822493431486\n",
      "8434.450003748108\n",
      "3955.7650355009196\n",
      "-0.2278822493431486\n"
     ]
    },
    {
     "name": "stderr",
     "output_type": "stream",
     "text": [
      "\r",
      "t:  32%|████████████████████▊                                             | 398/1260 [04:09<09:25,  1.52it/s, now=None]"
     ]
    },
    {
     "name": "stdout",
     "output_type": "stream",
     "text": [
      "720\n",
      "640.0\n",
      "338.35505562514476\n",
      "1025.698726696794\n",
      "682.0268911609694\n",
      "-0.2221421389936954\n",
      "9634.349945450977\n",
      "4415.910142491555\n",
      "-0.2221421389936954\n"
     ]
    },
    {
     "name": "stderr",
     "output_type": "stream",
     "text": [
      "\r",
      "t:  32%|████████████████████▉                                             | 399/1260 [04:10<09:37,  1.49it/s, now=None]"
     ]
    },
    {
     "name": "stdout",
     "output_type": "stream",
     "text": [
      "720\n",
      "640.0\n",
      "337.455968716876\n",
      "1023.9352109302239\n",
      "680.6955898235499\n",
      "-0.21510526049590653\n",
      "14540.449424473663\n",
      "7451.7645271473\n",
      "-0.21510526049590653\n"
     ]
    },
    {
     "name": "stderr",
     "output_type": "stream",
     "text": [
      "\r",
      "t:  32%|████████████████████▉                                             | 400/1260 [04:11<09:04,  1.58it/s, now=None]"
     ]
    },
    {
     "name": "stdout",
     "output_type": "stream",
     "text": [
      "720\n",
      "640.0\n",
      "334.7348858834109\n",
      "1023.0597634463969\n",
      "678.8973246649039\n",
      "-0.205600144657349\n",
      "17808.619538069433\n",
      "36840.12817018912\n",
      "-0.205600144657349\n"
     ]
    },
    {
     "name": "stderr",
     "output_type": "stream",
     "text": [
      "\r",
      "t:  32%|█████████████████████                                             | 401/1260 [04:11<10:00,  1.43it/s, now=None]"
     ]
    },
    {
     "name": "stdout",
     "output_type": "stream",
     "text": [
      "720\n",
      "640.0\n",
      "333.644879389102\n",
      "1023.2400990564231\n",
      "678.4424892227626\n",
      "-0.20319601446317354\n",
      "8216.046818011167\n",
      "11539.022056508733\n",
      "-0.20319601446317354\n"
     ]
    },
    {
     "name": "stderr",
     "output_type": "stream",
     "text": [
      "\r",
      "t:  32%|█████████████████████                                             | 402/1260 [04:12<09:40,  1.48it/s, now=None]"
     ]
    },
    {
     "name": "stdout",
     "output_type": "stream",
     "text": [
      "720\n",
      "640.0\n",
      "331.2152202913629\n",
      "1023.5723833595292\n",
      "677.3938018254461\n",
      "-0.19765295250592926\n",
      "3888.601831049835\n",
      "7628.2470410926335\n",
      "-0.19765295250592926\n"
     ]
    },
    {
     "name": "stderr",
     "output_type": "stream",
     "text": [
      "\r",
      "t:  32%|█████████████████████                                             | 403/1260 [04:13<09:24,  1.52it/s, now=None]"
     ]
    },
    {
     "name": "stdout",
     "output_type": "stream",
     "text": [
      "720\n",
      "640.0\n",
      "330.0961764002727\n",
      "1024.7719017476254\n",
      "677.4340390739491\n",
      "-0.19786563510515937\n",
      "3413.591511751657\n",
      "5363.116202499139\n",
      "-0.19786563510515937\n"
     ]
    },
    {
     "name": "stderr",
     "output_type": "stream",
     "text": [
      "\r",
      "t:  32%|█████████████████████▏                                            | 404/1260 [04:13<09:32,  1.50it/s, now=None]"
     ]
    },
    {
     "name": "stdout",
     "output_type": "stream",
     "text": [
      "720\n",
      "640.0\n",
      "331.2160885259163\n",
      "1013.8381866797379\n",
      "672.5271376028271\n",
      "-0.1719291559006576\n",
      "3520.5503862303276\n",
      "4073.942522847535\n",
      "-0.1719291559006576\n"
     ]
    },
    {
     "name": "stderr",
     "output_type": "stream",
     "text": [
      "\r",
      "t:  32%|█████████████████████▏                                            | 405/1260 [04:14<09:32,  1.49it/s, now=None]"
     ]
    },
    {
     "name": "stdout",
     "output_type": "stream",
     "text": [
      "720\n",
      "640.0\n",
      "330.2391540723351\n",
      "1017.761054485816\n",
      "674.0001042790756\n",
      "-0.17971483690368517\n",
      "3559.9489929822207\n",
      "12213.090512653334\n",
      "-0.17971483690368517\n"
     ]
    },
    {
     "name": "stderr",
     "output_type": "stream",
     "text": [
      "\r",
      "t:  32%|█████████████████████▎                                            | 406/1260 [04:15<09:24,  1.51it/s, now=None]"
     ]
    },
    {
     "name": "stdout",
     "output_type": "stream",
     "text": [
      "720\n",
      "640.0\n",
      "330.82426576229227\n",
      "1020.2002859539044\n",
      "675.5122758580983\n",
      "-0.1877077438213767\n",
      "3673.1040193647755\n",
      "9754.8734925982\n",
      "-0.1877077438213767\n"
     ]
    },
    {
     "name": "stderr",
     "output_type": "stream",
     "text": [
      "\r",
      "t:  32%|█████████████████████▎                                            | 407/1260 [04:15<09:38,  1.47it/s, now=None]"
     ]
    },
    {
     "name": "stdout",
     "output_type": "stream",
     "text": [
      "720\n",
      "640.0\n",
      "330.3558239514408\n",
      "1021.2404069584223\n",
      "675.7981154549316\n",
      "-0.1892186102617812\n",
      "3997.3855113282643\n",
      "5806.617915209215\n",
      "-0.1892186102617812\n"
     ]
    },
    {
     "name": "stderr",
     "output_type": "stream",
     "text": [
      "\r",
      "t:  32%|█████████████████████▎                                            | 408/1260 [04:16<09:53,  1.44it/s, now=None]"
     ]
    },
    {
     "name": "stdout",
     "output_type": "stream",
     "text": [
      "720\n",
      "640.0\n",
      "329.3321573692168\n",
      "1022.9508489271759\n",
      "676.1415031481963\n",
      "-0.19103365949760906\n",
      "5321.717734216036\n",
      "3056.260855459856\n",
      "-0.19103365949760906\n"
     ]
    },
    {
     "name": "stderr",
     "output_type": "stream",
     "text": [
      "\r",
      "t:  32%|█████████████████████▍                                            | 409/1260 [04:17<09:40,  1.47it/s, now=None]"
     ]
    },
    {
     "name": "stdout",
     "output_type": "stream",
     "text": [
      "720\n",
      "640.0\n",
      "329.84364138233167\n",
      "1020.8785701429256\n",
      "675.3611057626287\n",
      "-0.18690870188818004\n",
      "8660.723737648741\n",
      "2461.354631446243\n",
      "-0.18690870188818004\n"
     ]
    },
    {
     "name": "stderr",
     "output_type": "stream",
     "text": [
      "\r",
      "t:  33%|█████████████████████▍                                            | 410/1260 [04:18<10:21,  1.37it/s, now=None]"
     ]
    },
    {
     "name": "stdout",
     "output_type": "stream",
     "text": [
      "720\n",
      "640.0\n",
      "330.5823187834356\n",
      "1019.2825759693084\n",
      "674.932447376372\n",
      "-0.18464293613225208\n",
      "33869.085558887746\n",
      "2123.9098588663433\n",
      "-0.18464293613225208\n"
     ]
    },
    {
     "name": "stderr",
     "output_type": "stream",
     "text": [
      "\r",
      "t:  33%|█████████████████████▌                                            | 411/1260 [04:18<09:49,  1.44it/s, now=None]"
     ]
    },
    {
     "name": "stdout",
     "output_type": "stream",
     "text": [
      "720\n",
      "640.0\n",
      "331.9749298918129\n",
      "1015.8847341814947\n",
      "673.9298320366538\n",
      "-0.17934339790802728\n",
      "12065.876654508247\n",
      "2998.725758027611\n",
      "-0.17934339790802728\n"
     ]
    },
    {
     "name": "stderr",
     "output_type": "stream",
     "text": [
      "\r",
      "t:  33%|█████████████████████▌                                            | 412/1260 [04:19<09:46,  1.45it/s, now=None]"
     ]
    },
    {
     "name": "stdout",
     "output_type": "stream",
     "text": [
      "720\n",
      "640.0\n",
      "330.93726600272066\n",
      "1013.2178948222056\n",
      "672.0775804124631\n",
      "-0.16955292503730515\n",
      "6207.923321998175\n",
      "35917.4670913197\n",
      "-0.16955292503730515\n"
     ]
    },
    {
     "name": "stderr",
     "output_type": "stream",
     "text": [
      "\r",
      "t:  33%|█████████████████████▋                                            | 413/1260 [04:19<08:53,  1.59it/s, now=None]"
     ]
    },
    {
     "name": "stdout",
     "output_type": "stream",
     "text": [
      "720\n",
      "640.0\n",
      "329.7044862547259\n",
      "1013.1182159325816\n",
      "671.4113510936538\n",
      "-0.16603142720931305\n",
      "8873.337540647124\n",
      "7190.3683984738855\n",
      "-0.16603142720931305\n"
     ]
    },
    {
     "name": "stderr",
     "output_type": "stream",
     "text": [
      "\r",
      "t:  33%|█████████████████████▋                                            | 414/1260 [04:20<09:07,  1.55it/s, now=None]"
     ]
    },
    {
     "name": "stdout",
     "output_type": "stream",
     "text": [
      "720\n",
      "640.0\n",
      "328.2329245081945\n",
      "1011.4209043447396\n",
      "669.826914426467\n",
      "-0.15765654768275444\n",
      "8310.04730553301\n",
      "7003.756441350576\n",
      "-0.15765654768275444\n"
     ]
    },
    {
     "name": "stderr",
     "output_type": "stream",
     "text": [
      "\r",
      "t:  33%|█████████████████████▋                                            | 415/1260 [04:21<08:44,  1.61it/s, now=None]"
     ]
    },
    {
     "name": "stdout",
     "output_type": "stream",
     "text": [
      "720\n",
      "640.0\n",
      "326.82346555526385\n",
      "1010.0297964818965\n",
      "668.4266310185801\n",
      "-0.15025504966963774\n",
      "17140.992445591848\n",
      "17003.80208933699\n",
      "-0.15025504966963774\n"
     ]
    },
    {
     "name": "stderr",
     "output_type": "stream",
     "text": [
      "\r",
      "t:  33%|█████████████████████▊                                            | 416/1260 [04:21<08:51,  1.59it/s, now=None]"
     ]
    },
    {
     "name": "stdout",
     "output_type": "stream",
     "text": [
      "720\n",
      "640.0\n",
      "325.24804540413004\n",
      "1000.726974211951\n",
      "662.9875098080405\n",
      "-0.12150540898535693\n",
      "41481.07825311258\n",
      "2579.064476188675\n",
      "-0.12150540898535693\n"
     ]
    },
    {
     "name": "stderr",
     "output_type": "stream",
     "text": [
      "\r",
      "t:  33%|█████████████████████▊                                            | 417/1260 [04:22<08:18,  1.69it/s, now=None]"
     ]
    },
    {
     "name": "stdout",
     "output_type": "stream",
     "text": [
      "720\n",
      "640.0\n",
      "323.08734640339304\n",
      "1004.6405366340782\n",
      "663.8639415187356\n",
      "-0.12613797659903103\n",
      "147885.4894916004\n",
      "3888.978067392629\n",
      "-0.12613797659903103\n"
     ]
    },
    {
     "name": "stderr",
     "output_type": "stream",
     "text": [
      "\r",
      "t:  33%|█████████████████████▉                                            | 418/1260 [04:22<08:17,  1.69it/s, now=None]"
     ]
    },
    {
     "name": "stdout",
     "output_type": "stream",
     "text": [
      "720\n",
      "640.0\n",
      "321.381689483514\n",
      "1006.7463605305526\n",
      "664.0640250070333\n",
      "-0.1271955607514615\n",
      "12972.52355446461\n",
      "6157.650877645986\n",
      "-0.1271955607514615\n"
     ]
    },
    {
     "name": "stderr",
     "output_type": "stream",
     "text": [
      "\r",
      "t:  33%|█████████████████████▉                                            | 419/1260 [04:23<08:36,  1.63it/s, now=None]"
     ]
    },
    {
     "name": "stdout",
     "output_type": "stream",
     "text": [
      "720\n",
      "640.0\n",
      "319.6389279740988\n",
      "1012.0821011660732\n",
      "665.860514570086\n",
      "-0.13669129129902613\n",
      "9026.724398141638\n",
      "11745.484690321877\n",
      "-0.13669129129902613\n"
     ]
    },
    {
     "name": "stderr",
     "output_type": "stream",
     "text": [
      "\r",
      "t:  33%|██████████████████████                                            | 420/1260 [04:24<09:15,  1.51it/s, now=None]"
     ]
    },
    {
     "name": "stdout",
     "output_type": "stream",
     "text": [
      "720\n",
      "640.0\n",
      "319.4164715904361\n",
      "1013.7279598471547\n",
      "666.5722157187954\n",
      "-0.14045314022791858\n",
      "7146.3671557912185\n",
      "4610.4018117089745\n",
      "-0.14045314022791858\n"
     ]
    },
    {
     "name": "stderr",
     "output_type": "stream",
     "text": [
      "\r",
      "t:  33%|██████████████████████                                            | 421/1260 [04:24<08:58,  1.56it/s, now=None]"
     ]
    },
    {
     "name": "stdout",
     "output_type": "stream",
     "text": [
      "720\n",
      "640.0\n",
      "320.42063712149877\n",
      "1012.9239141454999\n",
      "666.6722756334993\n",
      "-0.14098202834849652\n",
      "7994.627634599672\n",
      "3073.7310796269126\n",
      "-0.14098202834849652\n"
     ]
    },
    {
     "name": "stderr",
     "output_type": "stream",
     "text": [
      "\r",
      "t:  33%|██████████████████████                                            | 422/1260 [04:25<09:23,  1.49it/s, now=None]"
     ]
    },
    {
     "name": "stdout",
     "output_type": "stream",
     "text": [
      "720\n",
      "640.0\n",
      "318.6404202759571\n",
      "1011.520060897296\n",
      "665.0802405866266\n",
      "-0.13256698595788338\n",
      "4516.368145453949\n",
      "2352.1065169494414\n",
      "-0.13256698595788338\n"
     ]
    },
    {
     "name": "stderr",
     "output_type": "stream",
     "text": [
      "\r",
      "t:  34%|██████████████████████▏                                           | 423/1260 [04:26<08:48,  1.58it/s, now=None]"
     ]
    },
    {
     "name": "stdout",
     "output_type": "stream",
     "text": [
      "720\n",
      "640.0\n",
      "320.53405098642037\n",
      "1006.8627482418501\n",
      "663.6983996141353\n",
      "-0.12526296938900072\n",
      "4400.499180099641\n",
      "6045.156117271978\n",
      "-0.12526296938900072\n"
     ]
    },
    {
     "name": "stderr",
     "output_type": "stream",
     "text": [
      "\r",
      "t:  34%|██████████████████████▏                                           | 424/1260 [04:26<09:05,  1.53it/s, now=None]"
     ]
    },
    {
     "name": "stdout",
     "output_type": "stream",
     "text": [
      "720\n",
      "640.0\n",
      "319.26671139741364\n",
      "1005.7585976514142\n",
      "662.512654524414\n",
      "-0.11899545962904523\n",
      "5215.743560668974\n",
      "13396.357401840087\n",
      "-0.11899545962904523\n"
     ]
    },
    {
     "name": "stderr",
     "output_type": "stream",
     "text": [
      "\r",
      "t:  34%|██████████████████████▎                                           | 425/1260 [04:27<09:20,  1.49it/s, now=None]"
     ]
    },
    {
     "name": "stdout",
     "output_type": "stream",
     "text": [
      "720\n",
      "640.0\n",
      "317.63811493974157\n",
      "1005.4078768088013\n",
      "661.5229958742715\n",
      "-0.11376440676400644\n",
      "4026.969506001456\n",
      "4576.574552697187\n",
      "-0.11376440676400644\n"
     ]
    },
    {
     "name": "stderr",
     "output_type": "stream",
     "text": [
      "\r",
      "t:  34%|██████████████████████▎                                           | 426/1260 [04:28<08:56,  1.56it/s, now=None]"
     ]
    },
    {
     "name": "stdout",
     "output_type": "stream",
     "text": [
      "720\n",
      "640.0\n",
      "318.03388080789995\n",
      "1003.3417837663803\n",
      "660.6878322871402\n",
      "-0.10934997066059804\n",
      "5031.154124265852\n",
      "4461.494283130905\n",
      "-0.10934997066059804\n"
     ]
    },
    {
     "name": "stderr",
     "output_type": "stream",
     "text": [
      "\r",
      "t:  34%|██████████████████████▎                                           | 427/1260 [04:28<08:28,  1.64it/s, now=None]"
     ]
    },
    {
     "name": "stdout",
     "output_type": "stream",
     "text": [
      "720\n",
      "640.0\n",
      "316.35792257307213\n",
      "1004.3588841138605\n",
      "660.3584033434663\n",
      "-0.10760870338689334\n",
      "4613.658724018897\n",
      "4252.127011155264\n",
      "-0.10760870338689334\n"
     ]
    },
    {
     "name": "stderr",
     "output_type": "stream",
     "text": [
      "\r",
      "t:  34%|██████████████████████▍                                           | 428/1260 [04:29<08:41,  1.60it/s, now=None]"
     ]
    },
    {
     "name": "stdout",
     "output_type": "stream",
     "text": [
      "720\n",
      "640.0\n",
      "315.77870992165555\n",
      "997.0810901918676\n",
      "656.4299000567615\n",
      "-0.08684375744288243\n",
      "3891.4758122680664\n",
      "4831.240150177997\n",
      "-0.08684375744288243\n"
     ]
    },
    {
     "name": "stderr",
     "output_type": "stream",
     "text": [
      "\r",
      "t:  34%|██████████████████████▍                                           | 429/1260 [04:30<08:27,  1.64it/s, now=None]"
     ]
    },
    {
     "name": "stdout",
     "output_type": "stream",
     "text": [
      "720\n",
      "640.0\n",
      "315.87456541172554\n",
      "996.3147462621372\n",
      "656.0946558369313\n",
      "-0.08507175228092279\n",
      "5320.577943097345\n",
      "6299.458160818916\n",
      "-0.08507175228092279\n"
     ]
    },
    {
     "name": "stderr",
     "output_type": "stream",
     "text": [
      "\r",
      "t:  34%|██████████████████████▌                                           | 430/1260 [04:30<08:27,  1.64it/s, now=None]"
     ]
    },
    {
     "name": "stdout",
     "output_type": "stream",
     "text": [
      "720\n",
      "640.0\n",
      "315.7934006756187\n",
      "997.8092147851804\n",
      "656.8013077303996\n",
      "-0.08880691228925489\n",
      "5370.484411116132\n",
      "25665.089027137805\n",
      "-0.08880691228925489\n"
     ]
    },
    {
     "name": "stderr",
     "output_type": "stream",
     "text": [
      "\r",
      "t:  34%|██████████████████████▌                                           | 431/1260 [04:31<08:38,  1.60it/s, now=None]"
     ]
    },
    {
     "name": "stdout",
     "output_type": "stream",
     "text": [
      "720\n",
      "640.0\n",
      "315.23946858208785\n",
      "1000.4008096765458\n",
      "657.8201391293169\n",
      "-0.0941921639692464\n",
      "6257.498199825789\n",
      "7395.498958954371\n",
      "-0.0941921639692464\n"
     ]
    },
    {
     "name": "stderr",
     "output_type": "stream",
     "text": [
      "\r",
      "t:  34%|██████████████████████▋                                           | 432/1260 [04:31<08:44,  1.58it/s, now=None]"
     ]
    },
    {
     "name": "stdout",
     "output_type": "stream",
     "text": [
      "720\n",
      "640.0\n",
      "313.620240477706\n",
      "1002.6549033161483\n",
      "658.1375718969272\n",
      "-0.0958700228837579\n",
      "6349.43616119427\n",
      "4030.762262560032\n",
      "-0.0958700228837579\n"
     ]
    },
    {
     "name": "stderr",
     "output_type": "stream",
     "text": [
      "\r",
      "t:  34%|██████████████████████▋                                           | 433/1260 [04:32<08:39,  1.59it/s, now=None]"
     ]
    },
    {
     "name": "stdout",
     "output_type": "stream",
     "text": [
      "720\n",
      "640.0\n",
      "313.5585514045533\n",
      "1001.3022857587522\n",
      "657.4304185816527\n",
      "-0.09213221250302144\n",
      "8124.807790725954\n",
      "3581.689328492933\n",
      "-0.09213221250302144\n"
     ]
    },
    {
     "name": "stderr",
     "output_type": "stream",
     "text": [
      "\r",
      "t:  34%|██████████████████████▋                                           | 434/1260 [04:33<09:08,  1.50it/s, now=None]"
     ]
    },
    {
     "name": "stdout",
     "output_type": "stream",
     "text": [
      "720\n",
      "640.0\n",
      "311.29905352109483\n",
      "1001.4764204914255\n",
      "656.3877370062602\n",
      "-0.0866208956045181\n",
      "9281.43931866249\n",
      "3182.6434073877185\n",
      "-0.0866208956045181\n"
     ]
    },
    {
     "name": "stderr",
     "output_type": "stream",
     "text": [
      "\r",
      "t:  35%|██████████████████████▊                                           | 435/1260 [04:33<08:48,  1.56it/s, now=None]"
     ]
    },
    {
     "name": "stdout",
     "output_type": "stream",
     "text": [
      "720\n",
      "640.0\n",
      "312.69447616615315\n",
      "1000.1155493900258\n",
      "656.4050127780895\n",
      "-0.086712210398473\n",
      "88496.06103325106\n",
      "3294.205608174411\n",
      "-0.086712210398473\n"
     ]
    },
    {
     "name": "stderr",
     "output_type": "stream",
     "text": [
      "\r",
      "t:  35%|██████████████████████▊                                           | 436/1260 [04:34<08:54,  1.54it/s, now=None]"
     ]
    },
    {
     "name": "stdout",
     "output_type": "stream",
     "text": [
      "720\n",
      "640.0\n",
      "312.1481289143263\n",
      "998.2312416533027\n",
      "655.1896852838145\n",
      "-0.0802883365001622\n",
      "85228.3943746916\n",
      "12640.807025191463\n",
      "-0.0802883365001622\n"
     ]
    },
    {
     "name": "stderr",
     "output_type": "stream",
     "text": [
      "\r",
      "t:  35%|██████████████████████▉                                           | 437/1260 [04:35<08:30,  1.61it/s, now=None]"
     ]
    },
    {
     "name": "stdout",
     "output_type": "stream",
     "text": [
      "720\n",
      "640.0\n",
      "311.3343297079838\n",
      "997.6711629428071\n",
      "654.5027463253955\n",
      "-0.07665737343423332\n",
      "54906.35795354112\n",
      "9650.48419854881\n",
      "-0.07665737343423332\n"
     ]
    },
    {
     "name": "stderr",
     "output_type": "stream",
     "text": [
      "\r",
      "t:  35%|██████████████████████▉                                           | 438/1260 [04:35<08:32,  1.60it/s, now=None]"
     ]
    },
    {
     "name": "stdout",
     "output_type": "stream",
     "text": [
      "720\n",
      "640.0\n",
      "312.2565465705407\n",
      "1000.940039234235\n",
      "656.5982929023878\n",
      "-0.0877338339126213\n",
      "718376.4603766704\n",
      "2613.3357857987435\n",
      "-0.0877338339126213\n"
     ]
    },
    {
     "name": "stderr",
     "output_type": "stream",
     "text": [
      "\r",
      "t:  35%|██████████████████████▉                                           | 439/1260 [04:36<08:12,  1.67it/s, now=None]"
     ]
    },
    {
     "name": "stdout",
     "output_type": "stream",
     "text": [
      "720\n",
      "640.0\n",
      "309.9689739778053\n",
      "999.2473827151607\n",
      "654.608178346483\n",
      "-0.07721465697426722\n",
      "26584.85896756125\n",
      "4516.160854197066\n",
      "-0.07721465697426722\n"
     ]
    },
    {
     "name": "stderr",
     "output_type": "stream",
     "text": [
      "\r",
      "t:  35%|███████████████████████                                           | 440/1260 [04:36<08:24,  1.63it/s, now=None]"
     ]
    },
    {
     "name": "stdout",
     "output_type": "stream",
     "text": [
      "720\n",
      "640.0\n",
      "311.59548692136866\n",
      "988.3891097700996\n",
      "649.9922983457341\n",
      "-0.052816434113165805\n",
      "118456.37943668007\n",
      "3209.94050021043\n",
      "-0.052816434113165805\n"
     ]
    },
    {
     "name": "stderr",
     "output_type": "stream",
     "text": [
      "\r",
      "t:  35%|███████████████████████                                           | 441/1260 [04:37<08:31,  1.60it/s, now=None]"
     ]
    },
    {
     "name": "stdout",
     "output_type": "stream",
     "text": [
      "720\n",
      "640.0\n",
      "312.94193136822923\n",
      "989.9892426382972\n",
      "651.4655870032632\n",
      "-0.06060381701724824\n",
      "12500.649948610864\n",
      "4156.851765088654\n",
      "-0.06060381701724824\n"
     ]
    },
    {
     "name": "stderr",
     "output_type": "stream",
     "text": [
      "\r",
      "t:  35%|███████████████████████▏                                          | 442/1260 [04:38<08:21,  1.63it/s, now=None]"
     ]
    },
    {
     "name": "stdout",
     "output_type": "stream",
     "text": [
      "720\n",
      "640.0\n",
      "312.4283388160786\n",
      "991.737301305048\n",
      "652.0828200605633\n",
      "-0.06386633460583478\n",
      "9359.17278718782\n",
      "5164.099023408243\n",
      "-0.06386633460583478\n"
     ]
    },
    {
     "name": "stderr",
     "output_type": "stream",
     "text": [
      "\r",
      "t:  35%|███████████████████████▏                                          | 443/1260 [04:38<08:39,  1.57it/s, now=None]"
     ]
    },
    {
     "name": "stdout",
     "output_type": "stream",
     "text": [
      "720\n",
      "640.0\n",
      "312.0207361108107\n",
      "995.170345907688\n",
      "653.5955410092494\n",
      "-0.07186214533460376\n",
      "4899.65221838217\n",
      "86641.08209939695\n",
      "-0.07186214533460376\n"
     ]
    },
    {
     "name": "stderr",
     "output_type": "stream",
     "text": [
      "\r",
      "t:  35%|███████████████████████▎                                          | 444/1260 [04:39<08:52,  1.53it/s, now=None]"
     ]
    },
    {
     "name": "stdout",
     "output_type": "stream",
     "text": [
      "720\n",
      "640.0\n",
      "308.3277276808708\n",
      "996.9306796799777\n",
      "652.6292036804243\n",
      "-0.06675436231081429\n",
      "6455.488820049474\n",
      "37349.054871537046\n",
      "-0.06675436231081429\n"
     ]
    },
    {
     "name": "stderr",
     "output_type": "stream",
     "text": [
      "\r",
      "t:  35%|███████████████████████▎                                          | 445/1260 [04:40<09:08,  1.49it/s, now=None]"
     ]
    },
    {
     "name": "stdout",
     "output_type": "stream",
     "text": [
      "720\n",
      "640.0\n",
      "307.026625287618\n",
      "997.5512345415981\n",
      "652.288929914608\n",
      "-0.0649557724057854\n",
      "4875.235899972129\n",
      "8030.620367757451\n",
      "-0.0649557724057854\n"
     ]
    },
    {
     "name": "stderr",
     "output_type": "stream",
     "text": [
      "\r",
      "t:  35%|███████████████████████▎                                          | 446/1260 [04:40<09:13,  1.47it/s, now=None]"
     ]
    },
    {
     "name": "stdout",
     "output_type": "stream",
     "text": [
      "720\n",
      "640.0\n",
      "304.01668952116967\n",
      "997.8306470970041\n",
      "650.9236683090869\n",
      "-0.05773938963374508\n",
      "7290.398839924293\n",
      "4449.794808156483\n",
      "-0.05773938963374508\n"
     ]
    },
    {
     "name": "stderr",
     "output_type": "stream",
     "text": [
      "\r",
      "t:  35%|███████████████████████▍                                          | 447/1260 [04:41<08:42,  1.56it/s, now=None]"
     ]
    },
    {
     "name": "stdout",
     "output_type": "stream",
     "text": [
      "720\n",
      "640.0\n",
      "304.83887244122985\n",
      "996.3959293570392\n",
      "650.6174008991345\n",
      "-0.056120547609710976\n",
      "3964.205492400898\n",
      "5904.067435728434\n",
      "-0.056120547609710976\n"
     ]
    },
    {
     "name": "stderr",
     "output_type": "stream",
     "text": [
      "\r",
      "t:  36%|███████████████████████▍                                          | 448/1260 [04:41<07:34,  1.79it/s, now=None]"
     ]
    },
    {
     "name": "stdout",
     "output_type": "stream",
     "text": [
      "720\n",
      "640.0\n",
      "304.9969543695172\n",
      "994.2542603921072\n",
      "649.6256073808122\n",
      "-0.05087821044143591\n",
      "3519.049066854194\n",
      "14663.517086047152\n",
      "-0.05087821044143591\n"
     ]
    },
    {
     "name": "stderr",
     "output_type": "stream",
     "text": [
      "\r",
      "t:  36%|███████████████████████▌                                          | 449/1260 [04:42<06:42,  2.01it/s, now=None]"
     ]
    },
    {
     "name": "stdout",
     "output_type": "stream",
     "text": [
      "720\n",
      "640.0\n",
      "303.35027716885884\n",
      "994.8559656082805\n",
      "649.1031213885697\n",
      "-0.04811649876815393\n",
      "3280.6168819842296\n",
      "6942.990112234812\n",
      "-0.04811649876815393\n"
     ]
    },
    {
     "name": "stderr",
     "output_type": "stream",
     "text": [
      "\r",
      "t:  36%|███████████████████████▌                                          | 450/1260 [04:42<06:26,  2.10it/s, now=None]"
     ]
    },
    {
     "name": "stdout",
     "output_type": "stream",
     "text": [
      "720\n",
      "640.0\n",
      "302.0283580297246\n",
      "996.8961294415285\n",
      "649.4622437356265\n",
      "-0.05001471688831173\n",
      "3678.900806363645\n",
      "14530.232844944781\n",
      "-0.05001471688831173\n"
     ]
    },
    {
     "name": "stderr",
     "output_type": "stream",
     "text": [
      "\r",
      "t:  36%|███████████████████████▌                                          | 451/1260 [04:43<06:56,  1.94it/s, now=None]"
     ]
    },
    {
     "name": "stdout",
     "output_type": "stream",
     "text": [
      "720\n",
      "640.0\n",
      "299.88403069339836\n",
      "989.857269182925\n",
      "644.8706499381617\n",
      "-0.025744863958854728\n",
      "5884.547145560295\n",
      "3545.228891246173\n",
      "-0.025744863958854728\n"
     ]
    },
    {
     "name": "stderr",
     "output_type": "stream",
     "text": [
      "\r",
      "t:  36%|███████████████████████▋                                          | 452/1260 [04:44<08:01,  1.68it/s, now=None]"
     ]
    },
    {
     "name": "stdout",
     "output_type": "stream",
     "text": [
      "720\n",
      "640.0\n",
      "299.1835508004591\n",
      "985.763595188369\n",
      "642.4735729944141\n",
      "-0.013074600113331664\n",
      "5907.876065452028\n",
      "2330.880939832449\n",
      "-0.013074600113331664\n"
     ]
    },
    {
     "name": "stderr",
     "output_type": "stream",
     "text": [
      "\r",
      "t:  36%|███████████████████████▋                                          | 453/1260 [04:44<08:40,  1.55it/s, now=None]"
     ]
    },
    {
     "name": "stdout",
     "output_type": "stream",
     "text": [
      "720\n",
      "640.0\n",
      "298.350907240633\n",
      "989.9282498627275\n",
      "644.1395785516802\n",
      "-0.021880629487452424\n",
      "8550.991587768012\n",
      "3268.099443843527\n",
      "-0.021880629487452424\n"
     ]
    },
    {
     "name": "stderr",
     "output_type": "stream",
     "text": [
      "\r",
      "t:  36%|███████████████████████▊                                          | 454/1260 [04:45<08:34,  1.57it/s, now=None]"
     ]
    },
    {
     "name": "stdout",
     "output_type": "stream",
     "text": [
      "720\n",
      "640.0\n",
      "296.86303775004654\n",
      "994.756998340031\n",
      "645.8100180450388\n",
      "-0.03071009538091916\n",
      "12802.681655226888\n",
      "7940.582319487349\n",
      "-0.03071009538091916\n"
     ]
    },
    {
     "name": "stderr",
     "output_type": "stream",
     "text": [
      "\r",
      "t:  36%|███████████████████████▊                                          | 455/1260 [04:46<08:29,  1.58it/s, now=None]"
     ]
    },
    {
     "name": "stdout",
     "output_type": "stream",
     "text": [
      "720\n",
      "640.0\n",
      "298.38117164517257\n",
      "999.141277803849\n",
      "648.7612247245108\n",
      "-0.04630933068670015\n",
      "8883.865146441873\n",
      "10072.709177401284\n",
      "-0.04630933068670015\n"
     ]
    },
    {
     "name": "stderr",
     "output_type": "stream",
     "text": [
      "\r",
      "t:  36%|███████████████████████▉                                          | 456/1260 [04:46<08:04,  1.66it/s, now=None]"
     ]
    },
    {
     "name": "stdout",
     "output_type": "stream",
     "text": [
      "720\n",
      "640.0\n",
      "297.60526025168275\n",
      "1000.2481958548327\n",
      "648.9267280532578\n",
      "-0.04718413399579103\n",
      "23850.020554641396\n",
      "4343.190841207049\n",
      "-0.04718413399579103\n"
     ]
    },
    {
     "name": "stderr",
     "output_type": "stream",
     "text": [
      "\r",
      "t:  36%|███████████████████████▉                                          | 457/1260 [04:47<07:51,  1.70it/s, now=None]"
     ]
    },
    {
     "name": "stdout",
     "output_type": "stream",
     "text": [
      "720\n",
      "640.0\n",
      "297.8792285318567\n",
      "999.495765694476\n",
      "648.6874971131663\n",
      "-0.04591962759816459\n",
      "15333.18800928579\n",
      "4293.433834983026\n",
      "-0.04591962759816459\n"
     ]
    },
    {
     "name": "stderr",
     "output_type": "stream",
     "text": [
      "\r",
      "t:  36%|███████████████████████▉                                          | 458/1260 [04:47<08:03,  1.66it/s, now=None]"
     ]
    },
    {
     "name": "stdout",
     "output_type": "stream",
     "text": [
      "720\n",
      "640.0\n",
      "300.2021488752791\n",
      "997.0639460090666\n",
      "648.6330474421728\n",
      "-0.04563182219434207\n",
      "9759.60382330868\n",
      "7296.831626551114\n",
      "-0.04563182219434207\n"
     ]
    },
    {
     "name": "stderr",
     "output_type": "stream",
     "text": [
      "\r",
      "t:  36%|████████████████████████                                          | 459/1260 [04:48<07:46,  1.72it/s, now=None]"
     ]
    },
    {
     "name": "stdout",
     "output_type": "stream",
     "text": [
      "720\n",
      "640.0\n",
      "301.45321582906774\n",
      "996.32024580077\n",
      "648.8867308149188\n",
      "-0.04697272002171362\n",
      "11820.565413772529\n",
      "24215.417077178412\n",
      "-0.04697272002171362\n"
     ]
    },
    {
     "name": "stderr",
     "output_type": "stream",
     "text": [
      "\r",
      "t:  37%|████████████████████████                                          | 460/1260 [04:48<07:52,  1.69it/s, now=None]"
     ]
    },
    {
     "name": "stdout",
     "output_type": "stream",
     "text": [
      "720\n",
      "640.0\n",
      "303.04820795807063\n",
      "995.6731208326232\n",
      "649.3606643953469\n",
      "-0.04947779751826235\n",
      "15166.24563974082\n",
      "63173.18597766526\n",
      "-0.04947779751826235\n"
     ]
    },
    {
     "name": "stderr",
     "output_type": "stream",
     "text": [
      "\r",
      "t:  37%|████████████████████████▏                                         | 461/1260 [04:49<07:47,  1.71it/s, now=None]"
     ]
    },
    {
     "name": "stdout",
     "output_type": "stream",
     "text": [
      "720\n",
      "640.0\n",
      "302.7736790050184\n",
      "995.4136088478572\n",
      "649.0936439264378\n",
      "-0.04806640361117141\n",
      "13349.254346013247\n",
      "26814.308887444393\n",
      "-0.04806640361117141\n"
     ]
    },
    {
     "name": "stderr",
     "output_type": "stream",
     "text": [
      "\r",
      "t:  37%|████████████████████████▏                                         | 462/1260 [04:50<08:10,  1.63it/s, now=None]"
     ]
    },
    {
     "name": "stdout",
     "output_type": "stream",
     "text": [
      "720\n",
      "640.0\n",
      "303.08715856089503\n",
      "997.0451698521176\n",
      "650.0661642065063\n",
      "-0.05320686794867616\n",
      "27439.638741199153\n",
      "33141.73110613735\n",
      "-0.05320686794867616\n"
     ]
    },
    {
     "name": "stderr",
     "output_type": "stream",
     "text": [
      "\r",
      "t:  37%|████████████████████████▎                                         | 463/1260 [04:50<08:02,  1.65it/s, now=None]"
     ]
    },
    {
     "name": "stdout",
     "output_type": "stream",
     "text": [
      "720\n",
      "640.0\n",
      "301.63761751205567\n",
      "987.7449063155588\n",
      "644.6912619138072\n",
      "-0.024796670115838262\n",
      "87238.3828207867\n",
      "2022.4351252840925\n",
      "-0.024796670115838262\n"
     ]
    },
    {
     "name": "stderr",
     "output_type": "stream",
     "text": [
      "\r",
      "t:  37%|████████████████████████▎                                         | 464/1260 [04:51<08:23,  1.58it/s, now=None]"
     ]
    },
    {
     "name": "stdout",
     "output_type": "stream",
     "text": [
      "720\n",
      "640.0\n",
      "300.6943111780613\n",
      "991.4980947319517\n",
      "646.0962029550064\n",
      "-0.03222278704789122\n",
      "34480.07608960912\n",
      "2743.366490396402\n",
      "-0.03222278704789122\n"
     ]
    },
    {
     "name": "stderr",
     "output_type": "stream",
     "text": [
      "\r",
      "t:  37%|████████████████████████▎                                         | 465/1260 [04:52<08:29,  1.56it/s, now=None]"
     ]
    },
    {
     "name": "stdout",
     "output_type": "stream",
     "text": [
      "720\n",
      "640.0\n",
      "302.030527605922\n",
      "993.3867868773856\n",
      "647.7086572416538\n",
      "-0.04074575970588428\n",
      "17578.83694794243\n",
      "4742.801868917221\n",
      "-0.04074575970588428\n"
     ]
    },
    {
     "name": "stderr",
     "output_type": "stream",
     "text": [
      "\r",
      "t:  37%|████████████████████████▍                                         | 466/1260 [04:52<08:09,  1.62it/s, now=None]"
     ]
    },
    {
     "name": "stdout",
     "output_type": "stream",
     "text": [
      "720\n",
      "640.0\n",
      "302.0159416780539\n",
      "998.0322116928985\n",
      "650.0240766854762\n",
      "-0.052984405337517\n",
      "9117.692947783393\n",
      "35045.14274030645\n",
      "-0.052984405337517\n"
     ]
    },
    {
     "name": "stderr",
     "output_type": "stream",
     "text": [
      "\r",
      "t:  37%|████████████████████████▍                                         | 467/1260 [04:53<08:29,  1.56it/s, now=None]"
     ]
    },
    {
     "name": "stdout",
     "output_type": "stream",
     "text": [
      "720\n",
      "640.0\n",
      "302.39278126309785\n",
      "1006.3104841015414\n",
      "654.3516326823196\n",
      "-0.07585862989226091\n",
      "6678.412890922016\n",
      "2478.099917352157\n",
      "-0.07585862989226091\n"
     ]
    },
    {
     "name": "stderr",
     "output_type": "stream",
     "text": [
      "\r",
      "t:  37%|████████████████████████▌                                         | 468/1260 [04:54<08:31,  1.55it/s, now=None]"
     ]
    },
    {
     "name": "stdout",
     "output_type": "stream",
     "text": [
      "720\n",
      "640.0\n",
      "301.8933069772111\n",
      "1002.1070363178554\n",
      "652.0001716475333\n",
      "-0.06342947870839034\n",
      "4466.183298610292\n",
      "3225.118906987087\n",
      "-0.06342947870839034\n"
     ]
    },
    {
     "name": "stderr",
     "output_type": "stream",
     "text": [
      "\r",
      "t:  37%|████████████████████████▌                                         | 469/1260 [04:54<08:25,  1.57it/s, now=None]"
     ]
    },
    {
     "name": "stdout",
     "output_type": "stream",
     "text": [
      "720\n",
      "640.0\n",
      "303.1210812949854\n",
      "1001.2373252330739\n",
      "652.1792032640296\n",
      "-0.06437578868129952\n",
      "4369.525362770888\n",
      "2682.1672586614222\n",
      "-0.06437578868129952\n"
     ]
    },
    {
     "name": "stderr",
     "output_type": "stream",
     "text": [
      "\r",
      "t:  37%|████████████████████████▌                                         | 470/1260 [04:55<08:08,  1.62it/s, now=None]"
     ]
    },
    {
     "name": "stdout",
     "output_type": "stream",
     "text": [
      "720\n",
      "640.0\n",
      "304.3157411527122\n",
      "998.7327553436514\n",
      "651.5242482481818\n",
      "-0.06091388359753255\n",
      "3759.2117098269796\n",
      "2725.8598519604775\n",
      "-0.06091388359753255\n"
     ]
    },
    {
     "name": "stderr",
     "output_type": "stream",
     "text": [
      "\r",
      "t:  37%|████████████████████████▋                                         | 471/1260 [04:55<08:26,  1.56it/s, now=None]"
     ]
    },
    {
     "name": "stdout",
     "output_type": "stream",
     "text": [
      "720\n",
      "640.0\n",
      "304.0062144315559\n",
      "997.6260424543863\n",
      "650.8161284429711\n",
      "-0.05717096462713322\n",
      "3316.9638265079284\n",
      "4450.696242274737\n",
      "-0.05717096462713322\n"
     ]
    },
    {
     "name": "stderr",
     "output_type": "stream",
     "text": [
      "\r",
      "t:  37%|████████████████████████▋                                         | 472/1260 [04:56<08:22,  1.57it/s, now=None]"
     ]
    },
    {
     "name": "stdout",
     "output_type": "stream",
     "text": [
      "720\n",
      "640.0\n",
      "305.41487317521234\n",
      "996.9522324568807\n",
      "651.1835528160465\n",
      "-0.05911306488481707\n",
      "3326.243254538368\n",
      "2924.4997108874127\n",
      "-0.05911306488481707\n"
     ]
    },
    {
     "name": "stderr",
     "output_type": "stream",
     "text": [
      "\r",
      "t:  38%|████████████████████████▊                                         | 473/1260 [04:57<08:26,  1.56it/s, now=None]"
     ]
    },
    {
     "name": "stdout",
     "output_type": "stream",
     "text": [
      "720\n",
      "640.0\n",
      "306.0854012356226\n",
      "996.6831048893016\n",
      "651.3842530624621\n",
      "-0.06017390904444257\n",
      "3369.3549520130423\n",
      "2569.3188919095455\n",
      "-0.06017390904444257\n"
     ]
    },
    {
     "name": "stderr",
     "output_type": "stream",
     "text": [
      "\r",
      "t:  38%|████████████████████████▊                                         | 474/1260 [04:57<08:34,  1.53it/s, now=None]"
     ]
    },
    {
     "name": "stdout",
     "output_type": "stream",
     "text": [
      "720\n",
      "640.0\n",
      "307.84148657442404\n",
      "999.9022669617568\n",
      "653.8718767680905\n",
      "-0.073322777202764\n",
      "3156.4162412289043\n",
      "2540.2850380854507\n",
      "-0.073322777202764\n"
     ]
    },
    {
     "name": "stderr",
     "output_type": "stream",
     "text": [
      "\r",
      "t:  38%|████████████████████████▉                                         | 475/1260 [04:58<08:22,  1.56it/s, now=None]"
     ]
    },
    {
     "name": "stdout",
     "output_type": "stream",
     "text": [
      "720\n",
      "640.0\n",
      "308.7314252268817\n",
      "989.6169406828909\n",
      "649.1741829548863\n",
      "-0.04849210990439905\n",
      "2805.2724756109496\n",
      "14872.33792376939\n",
      "-0.04849210990439905\n"
     ]
    },
    {
     "name": "stderr",
     "output_type": "stream",
     "text": [
      "\r",
      "t:  38%|████████████████████████▉                                         | 476/1260 [04:59<08:12,  1.59it/s, now=None]"
     ]
    },
    {
     "name": "stdout",
     "output_type": "stream",
     "text": [
      "720\n",
      "640.0\n",
      "308.70840372730817\n",
      "988.6721030450848\n",
      "648.6902533861964\n",
      "-0.0459341964698955\n",
      "3363.7328145504857\n",
      "13781.433672220253\n",
      "-0.0459341964698955\n"
     ]
    },
    {
     "name": "stderr",
     "output_type": "stream",
     "text": [
      "\r",
      "t:  38%|████████████████████████▉                                         | 477/1260 [04:59<08:46,  1.49it/s, now=None]"
     ]
    },
    {
     "name": "stdout",
     "output_type": "stream",
     "text": [
      "720\n",
      "640.0\n",
      "309.9410195211126\n",
      "994.1157486711327\n",
      "652.0283840961226\n",
      "-0.06357860165093393\n",
      "3360.657775692741\n",
      "6347.209388753496\n",
      "-0.06357860165093393\n"
     ]
    },
    {
     "name": "stderr",
     "output_type": "stream",
     "text": [
      "\r",
      "t:  38%|█████████████████████████                                         | 478/1260 [05:00<08:17,  1.57it/s, now=None]"
     ]
    },
    {
     "name": "stdout",
     "output_type": "stream",
     "text": [
      "720\n",
      "640.0\n",
      "311.04391181426206\n",
      "994.8741263550237\n",
      "652.9590190846429\n",
      "-0.06849767230454122\n",
      "4606.787862604826\n",
      "6467.605820328005\n",
      "-0.06849767230454122\n"
     ]
    },
    {
     "name": "stderr",
     "output_type": "stream",
     "text": [
      "\r",
      "t:  38%|█████████████████████████                                         | 479/1260 [05:01<08:59,  1.45it/s, now=None]"
     ]
    },
    {
     "name": "stdout",
     "output_type": "stream",
     "text": [
      "720\n",
      "640.0\n",
      "312.8427145840538\n",
      "994.6639585593831\n",
      "653.7533365717185\n",
      "-0.0726962075933691\n",
      "27456.047304097567\n",
      "11226.565525545935\n",
      "-0.0726962075933691\n"
     ]
    },
    {
     "name": "stderr",
     "output_type": "stream",
     "text": [
      "\r",
      "t:  38%|█████████████████████████▏                                        | 480/1260 [05:01<08:40,  1.50it/s, now=None]"
     ]
    },
    {
     "name": "stdout",
     "output_type": "stream",
     "text": [
      "720\n",
      "640.0\n",
      "314.0116881091718\n",
      "996.5267832983566\n",
      "655.2692357037643\n",
      "-0.08070881729132534\n",
      "8714.503659846318\n",
      "5041.401770540607\n",
      "-0.08070881729132534\n"
     ]
    },
    {
     "name": "stderr",
     "output_type": "stream",
     "text": [
      "\r",
      "t:  38%|█████████████████████████▏                                        | 481/1260 [05:02<08:39,  1.50it/s, now=None]"
     ]
    },
    {
     "name": "stdout",
     "output_type": "stream",
     "text": [
      "720\n",
      "640.0\n",
      "312.17963368654\n",
      "998.3077274437685\n",
      "655.2436805651542\n",
      "-0.08057374013010105\n",
      "14930.643287523422\n",
      "5413.230330405194\n",
      "-0.08057374013010105\n"
     ]
    },
    {
     "name": "stderr",
     "output_type": "stream",
     "text": [
      "\r",
      "t:  38%|█████████████████████████▏                                        | 482/1260 [05:03<08:02,  1.61it/s, now=None]"
     ]
    },
    {
     "name": "stdout",
     "output_type": "stream",
     "text": [
      "720\n",
      "640.0\n",
      "312.0675082970108\n",
      "997.6648564222635\n",
      "654.8661823596372\n",
      "-0.0785783924723678\n",
      "21933.813181752026\n",
      "5640.047544442048\n",
      "-0.0785783924723678\n"
     ]
    },
    {
     "name": "stderr",
     "output_type": "stream",
     "text": [
      "\r",
      "t:  38%|█████████████████████████▎                                        | 483/1260 [05:03<08:07,  1.59it/s, now=None]"
     ]
    },
    {
     "name": "stdout",
     "output_type": "stream",
     "text": [
      "720\n",
      "640.0\n",
      "311.19068265970566\n",
      "999.1470883227975\n",
      "655.1688854912516\n",
      "-0.08017839473947252\n",
      "12708.414112254324\n",
      "3914.3358433292087\n",
      "-0.08017839473947252\n"
     ]
    },
    {
     "name": "stderr",
     "output_type": "stream",
     "text": [
      "\r",
      "t:  38%|█████████████████████████▎                                        | 484/1260 [05:04<07:51,  1.64it/s, now=None]"
     ]
    },
    {
     "name": "stdout",
     "output_type": "stream",
     "text": [
      "720\n",
      "640.0\n",
      "310.17054969347396\n",
      "998.572211726706\n",
      "654.37138071009\n",
      "-0.07596301232476126\n",
      "8465.664716185154\n",
      "90613.34243542963\n",
      "-0.07596301232476126\n"
     ]
    },
    {
     "name": "stderr",
     "output_type": "stream",
     "text": [
      "\r",
      "t:  38%|█████████████████████████▍                                        | 485/1260 [05:04<07:43,  1.67it/s, now=None]"
     ]
    },
    {
     "name": "stdout",
     "output_type": "stream",
     "text": [
      "720\n",
      "640.0\n",
      "309.0306585059658\n",
      "998.5445607590199\n",
      "653.7876096324928\n",
      "-0.07287736520031926\n",
      "23461.905556090464\n",
      "16128.621356355876\n",
      "-0.07287736520031926\n"
     ]
    },
    {
     "name": "stderr",
     "output_type": "stream",
     "text": [
      "\r",
      "t:  39%|█████████████████████████▍                                        | 486/1260 [05:05<07:45,  1.66it/s, now=None]"
     ]
    },
    {
     "name": "stdout",
     "output_type": "stream",
     "text": [
      "720\n",
      "640.0\n",
      "307.56223749067306\n",
      "1001.5723886778285\n",
      "654.5673130842508\n",
      "-0.07699865487389723\n",
      "1158109.242308645\n",
      "11071.919674501729\n",
      "-0.07699865487389723\n"
     ]
    },
    {
     "name": "stderr",
     "output_type": "stream",
     "text": [
      "\r",
      "t:  39%|█████████████████████████▌                                        | 487/1260 [05:06<07:58,  1.62it/s, now=None]"
     ]
    },
    {
     "name": "stdout",
     "output_type": "stream",
     "text": [
      "720\n",
      "640.0\n",
      "308.31568589367583\n",
      "996.3232024568647\n",
      "652.3194441752703\n",
      "-0.06511706206928583\n",
      "28990.140202182094\n",
      "5066.738282746059\n",
      "-0.06511706206928583\n"
     ]
    },
    {
     "name": "stderr",
     "output_type": "stream",
     "text": [
      "\r",
      "t:  39%|█████████████████████████▌                                        | 488/1260 [05:06<07:25,  1.73it/s, now=None]"
     ]
    },
    {
     "name": "stdout",
     "output_type": "stream",
     "text": [
      "720\n",
      "640.0\n",
      "309.1880528347896\n",
      "994.1607042820866\n",
      "651.6743785584381\n",
      "-0.06170742952317278\n",
      "12627.958214551361\n",
      "2676.969055676781\n",
      "-0.06170742952317278\n"
     ]
    },
    {
     "name": "stderr",
     "output_type": "stream",
     "text": [
      "\r",
      "t:  39%|█████████████████████████▌                                        | 489/1260 [05:07<07:45,  1.66it/s, now=None]"
     ]
    },
    {
     "name": "stdout",
     "output_type": "stream",
     "text": [
      "720\n",
      "640.0\n",
      "309.26027387215714\n",
      "1002.131005461236\n",
      "655.6956396666966\n",
      "-0.08296266680968199\n",
      "6493656.125844967\n",
      "20631.402306964606\n",
      "-0.08296266680968199\n"
     ]
    },
    {
     "name": "stderr",
     "output_type": "stream",
     "text": [
      "\r",
      "t:  39%|█████████████████████████▋                                        | 490/1260 [05:07<07:51,  1.63it/s, now=None]"
     ]
    },
    {
     "name": "stdout",
     "output_type": "stream",
     "text": [
      "720\n",
      "640.0\n",
      "311.0664672326925\n",
      "1002.7651857071382\n",
      "656.9158264699154\n",
      "-0.08941222562669555\n",
      "17390.8273460808\n",
      "53679.59998476328\n",
      "-0.08941222562669555\n"
     ]
    },
    {
     "name": "stderr",
     "output_type": "stream",
     "text": [
      "\r",
      "t:  39%|█████████████████████████▋                                        | 491/1260 [05:08<08:01,  1.60it/s, now=None]"
     ]
    },
    {
     "name": "stdout",
     "output_type": "stream",
     "text": [
      "720\n",
      "640.0\n",
      "310.7163741169931\n",
      "1007.5819401344517\n",
      "659.1491571257224\n",
      "-0.10121697337881816\n",
      "20211.664117626864\n",
      "3775.477387231845\n",
      "-0.10121697337881816\n"
     ]
    },
    {
     "name": "stderr",
     "output_type": "stream",
     "text": [
      "\r",
      "t:  39%|█████████████████████████▊                                        | 492/1260 [05:09<07:58,  1.61it/s, now=None]"
     ]
    },
    {
     "name": "stdout",
     "output_type": "stream",
     "text": [
      "720\n",
      "640.0\n",
      "311.1623585938151\n",
      "1005.1836891831415\n",
      "658.1730238884783\n",
      "-0.09605741198195657\n",
      "21692.65105291219\n",
      "4412.56686645914\n",
      "-0.09605741198195657\n"
     ]
    },
    {
     "name": "stderr",
     "output_type": "stream",
     "text": [
      "\r",
      "t:  39%|█████████████████████████▊                                        | 493/1260 [05:09<08:29,  1.51it/s, now=None]"
     ]
    },
    {
     "name": "stdout",
     "output_type": "stream",
     "text": [
      "720\n",
      "640.0\n",
      "309.744395885065\n",
      "1005.9505042366516\n",
      "657.8474500608583\n",
      "-0.09433652175025076\n",
      "10375.52907148587\n",
      "3204.585197214937\n",
      "-0.09433652175025076\n"
     ]
    },
    {
     "name": "stderr",
     "output_type": "stream",
     "text": [
      "\r",
      "t:  39%|█████████████████████████▉                                        | 494/1260 [05:10<07:48,  1.64it/s, now=None]"
     ]
    },
    {
     "name": "stdout",
     "output_type": "stream",
     "text": [
      "720\n",
      "640.0\n",
      "309.8022675782288\n",
      "1004.0728544018607\n",
      "656.9375609900447\n",
      "-0.0895271080902365\n",
      "7464.515823268357\n",
      "4861.808375360463\n",
      "-0.0895271080902365\n"
     ]
    },
    {
     "name": "stderr",
     "output_type": "stream",
     "text": [
      "\r",
      "t:  39%|█████████████████████████▉                                        | 495/1260 [05:11<07:47,  1.64it/s, now=None]"
     ]
    },
    {
     "name": "stdout",
     "output_type": "stream",
     "text": [
      "720\n",
      "640.0\n",
      "309.9079255605004\n",
      "1003.7788267612998\n",
      "656.8433761609001\n",
      "-0.08902927399332913\n",
      "7871.308977565774\n",
      "10254.18514057639\n",
      "-0.08902927399332913\n"
     ]
    },
    {
     "name": "stderr",
     "output_type": "stream",
     "text": [
      "\r",
      "t:  39%|█████████████████████████▉                                        | 496/1260 [05:11<07:40,  1.66it/s, now=None]"
     ]
    },
    {
     "name": "stdout",
     "output_type": "stream",
     "text": [
      "720\n",
      "640.0\n",
      "310.15435400963077\n",
      "1004.1306073676532\n",
      "657.142480688642\n",
      "-0.09061025506853612\n",
      "18050.59721544468\n",
      "10048.364047559875\n",
      "-0.09061025506853612\n"
     ]
    },
    {
     "name": "stderr",
     "output_type": "stream",
     "text": [
      "\r",
      "t:  39%|██████████████████████████                                        | 497/1260 [05:12<08:04,  1.57it/s, now=None]"
     ]
    },
    {
     "name": "stdout",
     "output_type": "stream",
     "text": [
      "720\n",
      "640.0\n",
      "310.3929905513385\n",
      "1003.692436556145\n",
      "657.0427135537418\n",
      "-0.09008291449834954\n",
      "20133.243203712267\n",
      "2788.9401867185766\n",
      "-0.09008291449834954\n"
     ]
    },
    {
     "name": "stderr",
     "output_type": "stream",
     "text": [
      "\r",
      "t:  40%|██████████████████████████                                        | 498/1260 [05:12<07:39,  1.66it/s, now=None]"
     ]
    },
    {
     "name": "stdout",
     "output_type": "stream",
     "text": [
      "720\n",
      "640.0\n",
      "310.0154836168202\n",
      "1006.590598923689\n",
      "658.3030412702545\n",
      "-0.09674464671420256\n",
      "15554.247787271695\n",
      "2758.25628903025\n",
      "-0.09674464671420256\n"
     ]
    },
    {
     "name": "stderr",
     "output_type": "stream",
     "text": [
      "\r",
      "t:  40%|██████████████████████████▏                                       | 499/1260 [05:13<07:57,  1.59it/s, now=None]"
     ]
    },
    {
     "name": "stdout",
     "output_type": "stream",
     "text": [
      "720\n",
      "640.0\n",
      "310.67564610704085\n",
      "993.2913080320762\n",
      "651.9834770695586\n",
      "-0.06334123593909548\n",
      "11192.792868234685\n",
      "2702.0578246491255\n",
      "-0.06334123593909548\n"
     ]
    },
    {
     "name": "stderr",
     "output_type": "stream",
     "text": [
      "\r",
      "t:  40%|██████████████████████████▏                                       | 500/1260 [05:14<07:57,  1.59it/s, now=None]"
     ]
    },
    {
     "name": "stdout",
     "output_type": "stream",
     "text": [
      "720\n",
      "640.0\n",
      "309.92935422609077\n",
      "992.1553306737844\n",
      "651.0423424499376\n",
      "-0.05836666723538427\n",
      "30189.122718303122\n",
      "1733.4798990305956\n",
      "-0.05836666723538427\n"
     ]
    },
    {
     "name": "stderr",
     "output_type": "stream",
     "text": [
      "\r",
      "t:  40%|██████████████████████████▏                                       | 501/1260 [05:14<08:26,  1.50it/s, now=None]"
     ]
    },
    {
     "name": "stdout",
     "output_type": "stream",
     "text": [
      "720\n",
      "640.0\n",
      "308.16736426377884\n",
      "999.2222704851833\n",
      "653.6948173744811\n",
      "-0.07238689183654291\n",
      "5414802.957333788\n",
      "2583.9667872146815\n",
      "-0.07238689183654291\n"
     ]
    },
    {
     "name": "stderr",
     "output_type": "stream",
     "text": [
      "\r",
      "t:  40%|██████████████████████████▎                                       | 502/1260 [05:15<08:02,  1.57it/s, now=None]"
     ]
    },
    {
     "name": "stdout",
     "output_type": "stream",
     "text": [
      "720\n",
      "640.0\n",
      "307.7590337823633\n",
      "1000.2100093987954\n",
      "653.9845215905793\n",
      "-0.07391818555020506\n",
      "33594.30336848334\n",
      "2249.0329477389396\n",
      "-0.07391818555020506\n"
     ]
    },
    {
     "name": "stderr",
     "output_type": "stream",
     "text": [
      "\r",
      "t:  40%|██████████████████████████▎                                       | 503/1260 [05:16<08:27,  1.49it/s, now=None]"
     ]
    },
    {
     "name": "stdout",
     "output_type": "stream",
     "text": [
      "720\n",
      "640.0\n",
      "307.93987877357614\n",
      "1004.246379109155\n",
      "656.0931289413655\n",
      "-0.08506368154721783\n",
      "87164.35178159918\n",
      "2370.9806726511456\n",
      "-0.08506368154721783\n"
     ]
    },
    {
     "name": "stderr",
     "output_type": "stream",
     "text": [
      "\r",
      "t:  40%|██████████████████████████▍                                       | 504/1260 [05:16<07:53,  1.60it/s, now=None]"
     ]
    },
    {
     "name": "stdout",
     "output_type": "stream",
     "text": [
      "720\n",
      "640.0\n",
      "309.4422630017494\n",
      "1011.3856020064454\n",
      "660.4139325040974\n",
      "-0.1079022146645147\n",
      "314756.8103967412\n",
      "9607.767805885538\n",
      "-0.1079022146645147\n"
     ]
    },
    {
     "name": "stderr",
     "output_type": "stream",
     "text": [
      "\r",
      "t:  40%|██████████████████████████▍                                       | 505/1260 [05:17<08:44,  1.44it/s, now=None]"
     ]
    },
    {
     "name": "stdout",
     "output_type": "stream",
     "text": [
      "720\n",
      "640.0\n",
      "308.48273642399744\n",
      "1014.2859589087492\n",
      "661.3843476663733\n",
      "-0.11303155195083024\n",
      "17535.341767846454\n",
      "10743.590271135812\n",
      "-0.11303155195083024\n"
     ]
    },
    {
     "name": "stderr",
     "output_type": "stream",
     "text": [
      "\r",
      "t:  40%|██████████████████████████▌                                       | 506/1260 [05:18<08:39,  1.45it/s, now=None]"
     ]
    },
    {
     "name": "stdout",
     "output_type": "stream",
     "text": [
      "720\n",
      "640.0\n",
      "307.5163880553507\n",
      "1013.7940278109788\n",
      "660.6552079331648\n",
      "-0.1091775276467281\n",
      "9994.877762139762\n",
      "22492.061687141933\n",
      "-0.1091775276467281\n"
     ]
    },
    {
     "name": "stderr",
     "output_type": "stream",
     "text": [
      "\r",
      "t:  40%|██████████████████████████▌                                       | 507/1260 [05:19<08:50,  1.42it/s, now=None]"
     ]
    },
    {
     "name": "stdout",
     "output_type": "stream",
     "text": [
      "720\n",
      "640.0\n",
      "308.4367974653833\n",
      "1013.623972489733\n",
      "661.0303849775581\n",
      "-0.11116060630995012\n",
      "10361.73695706956\n",
      "11179.354945235793\n",
      "-0.11116060630995012\n"
     ]
    },
    {
     "name": "stderr",
     "output_type": "stream",
     "text": [
      "\r",
      "t:  40%|██████████████████████████▌                                       | 508/1260 [05:19<08:57,  1.40it/s, now=None]"
     ]
    },
    {
     "name": "stdout",
     "output_type": "stream",
     "text": [
      "720\n",
      "640.0\n",
      "307.9669573982038\n",
      "1014.5026652357991\n",
      "661.2348113170015\n",
      "-0.112241145532722\n",
      "14761.12409418303\n",
      "5212.307151547668\n",
      "-0.112241145532722\n"
     ]
    },
    {
     "name": "stderr",
     "output_type": "stream",
     "text": [
      "\r",
      "t:  40%|██████████████████████████▋                                       | 509/1260 [05:20<08:29,  1.47it/s, now=None]"
     ]
    },
    {
     "name": "stdout",
     "output_type": "stream",
     "text": [
      "720\n",
      "640.0\n",
      "308.4469421406375\n",
      "1013.6822041460615\n",
      "661.0645731433494\n",
      "-0.11134131518627559\n",
      "14221.728587742546\n",
      "5248.057559259113\n",
      "-0.11134131518627559\n"
     ]
    },
    {
     "name": "stderr",
     "output_type": "stream",
     "text": [
      "\r",
      "t:  40%|██████████████████████████▋                                       | 510/1260 [05:21<08:45,  1.43it/s, now=None]"
     ]
    },
    {
     "name": "stdout",
     "output_type": "stream",
     "text": [
      "720\n",
      "640.0\n",
      "306.6654936398454\n",
      "1026.3174271954492\n",
      "666.4914604176473\n",
      "-0.14002629077899298\n",
      "11343.787873498648\n",
      "1709.37674370684\n",
      "-0.14002629077899298\n"
     ]
    },
    {
     "name": "stderr",
     "output_type": "stream",
     "text": [
      "\r",
      "t:  41%|██████████████████████████▊                                       | 511/1260 [05:21<08:16,  1.51it/s, now=None]"
     ]
    },
    {
     "name": "stdout",
     "output_type": "stream",
     "text": [
      "720\n",
      "640.0\n",
      "306.36692491402533\n",
      "1020.4768716158678\n",
      "663.4218982649465\n",
      "-0.12380146225757462\n",
      "7032.0549836778455\n",
      "1801.024161865816\n",
      "-0.12380146225757462\n"
     ]
    },
    {
     "name": "stderr",
     "output_type": "stream",
     "text": [
      "\r",
      "t:  41%|██████████████████████████▊                                       | 512/1260 [05:22<08:05,  1.54it/s, now=None]"
     ]
    },
    {
     "name": "stdout",
     "output_type": "stream",
     "text": [
      "720\n",
      "640.0\n",
      "306.4634214615239\n",
      "1014.7571082406373\n",
      "660.6102648510806\n",
      "-0.10893997135571183\n",
      "13735.41311137039\n",
      "3824.597571395158\n",
      "-0.10893997135571183\n"
     ]
    },
    {
     "name": "stderr",
     "output_type": "stream",
     "text": [
      "\r",
      "t:  41%|██████████████████████████▊                                       | 513/1260 [05:22<08:08,  1.53it/s, now=None]"
     ]
    },
    {
     "name": "stdout",
     "output_type": "stream",
     "text": [
      "720\n",
      "640.0\n",
      "306.3328397553336\n",
      "1009.8144130881791\n",
      "658.0736264217563\n",
      "-0.0955320253721406\n",
      "5103.805039227035\n",
      "210629.17262359778\n",
      "-0.0955320253721406\n"
     ]
    },
    {
     "name": "stderr",
     "output_type": "stream",
     "text": [
      "\r",
      "t:  41%|██████████████████████████▉                                       | 514/1260 [05:23<08:43,  1.42it/s, now=None]"
     ]
    },
    {
     "name": "stdout",
     "output_type": "stream",
     "text": [
      "720\n",
      "640.0\n",
      "308.2837918442173\n",
      "1002.5707755060013\n",
      "655.4272836751093\n",
      "-0.08154421371129184\n",
      "5052.142312836366\n",
      "7938.916400529078\n",
      "-0.08154421371129184\n"
     ]
    },
    {
     "name": "stderr",
     "output_type": "stream",
     "text": [
      "\r",
      "t:  41%|██████████████████████████▉                                       | 515/1260 [05:24<08:22,  1.48it/s, now=None]"
     ]
    },
    {
     "name": "stdout",
     "output_type": "stream",
     "text": [
      "720\n",
      "640.0\n",
      "307.92129592638463\n",
      "1001.4353936125317\n",
      "654.6783447694581\n",
      "-0.07758553663856443\n",
      "4816.857428280608\n",
      "5615.138883356265\n",
      "-0.07758553663856443\n"
     ]
    },
    {
     "name": "stderr",
     "output_type": "stream",
     "text": [
      "\r",
      "t:  41%|███████████████████████████                                       | 516/1260 [05:25<08:52,  1.40it/s, now=None]"
     ]
    },
    {
     "name": "stdout",
     "output_type": "stream",
     "text": [
      "720\n",
      "640.0\n",
      "310.017107117016\n",
      "1006.0374128224395\n",
      "658.0272599697278\n",
      "-0.09528694555427533\n",
      "7632.416039101183\n",
      "14163.216787130732\n",
      "-0.09528694555427533\n"
     ]
    },
    {
     "name": "stderr",
     "output_type": "stream",
     "text": [
      "\r",
      "t:  41%|███████████████████████████                                       | 517/1260 [05:25<08:55,  1.39it/s, now=None]"
     ]
    },
    {
     "name": "stdout",
     "output_type": "stream",
     "text": [
      "720\n",
      "640.0\n",
      "309.6227222322324\n",
      "1006.4693570949722\n",
      "658.0460396636023\n",
      "-0.0953862096504693\n",
      "13284.04999378026\n",
      "8847.602929417739\n",
      "-0.0953862096504693\n"
     ]
    },
    {
     "name": "stderr",
     "output_type": "stream",
     "text": [
      "\r",
      "t:  41%|███████████████████████████▏                                      | 518/1260 [05:26<08:38,  1.43it/s, now=None]"
     ]
    },
    {
     "name": "stdout",
     "output_type": "stream",
     "text": [
      "720\n",
      "640.0\n",
      "309.5512174900566\n",
      "1005.935499961193\n",
      "657.7433587256248\n",
      "-0.0937863246925884\n",
      "15037.033848369574\n",
      "18775.466574419082\n",
      "-0.0937863246925884\n"
     ]
    },
    {
     "name": "stderr",
     "output_type": "stream",
     "text": [
      "\r",
      "t:  41%|███████████████████████████▏                                      | 519/1260 [05:27<07:55,  1.56it/s, now=None]"
     ]
    },
    {
     "name": "stdout",
     "output_type": "stream",
     "text": [
      "720\n",
      "640.0\n",
      "309.7185203268615\n",
      "1004.3711216548686\n",
      "657.044820990865\n",
      "-0.09009405380885782\n",
      "9914.147203093144\n",
      "48100.33188930807\n",
      "-0.09009405380885782\n"
     ]
    },
    {
     "name": "stderr",
     "output_type": "stream",
     "text": [
      "\r",
      "t:  41%|███████████████████████████▏                                      | 520/1260 [05:27<07:37,  1.62it/s, now=None]"
     ]
    },
    {
     "name": "stdout",
     "output_type": "stream",
     "text": [
      "720\n",
      "640.0\n",
      "309.9448037480069\n",
      "1005.6568422688227\n",
      "657.8008230084148\n",
      "-0.09409006447304964\n",
      "13862.894664834463\n",
      "54069.2655980579\n",
      "-0.09409006447304964\n"
     ]
    },
    {
     "name": "stderr",
     "output_type": "stream",
     "text": [
      "\r",
      "t:  41%|███████████████████████████▎                                      | 521/1260 [05:28<07:15,  1.70it/s, now=None]"
     ]
    },
    {
     "name": "stdout",
     "output_type": "stream",
     "text": [
      "720\n",
      "640.0\n",
      "310.53165122446086\n",
      "1005.8479297394155\n",
      "658.1897904819382\n",
      "-0.09614603540453043\n",
      "6985.8810805381245\n",
      "7157.94905197746\n",
      "-0.09614603540453043\n"
     ]
    },
    {
     "name": "stderr",
     "output_type": "stream",
     "text": [
      "\r",
      "t:  41%|███████████████████████████▎                                      | 522/1260 [05:28<07:10,  1.71it/s, now=None]"
     ]
    },
    {
     "name": "stdout",
     "output_type": "stream",
     "text": [
      "720\n",
      "640.0\n",
      "310.97253667716507\n",
      "1015.1238368488289\n",
      "663.0481867629969\n",
      "-0.12182613003298373\n",
      "8198.242472130276\n",
      "3948.889103942296\n",
      "-0.12182613003298373\n"
     ]
    },
    {
     "name": "stderr",
     "output_type": "stream",
     "text": [
      "\r",
      "t:  42%|███████████████████████████▍                                      | 523/1260 [05:29<06:56,  1.77it/s, now=None]"
     ]
    },
    {
     "name": "stdout",
     "output_type": "stream",
     "text": [
      "720\n",
      "640.0\n",
      "312.69630074995484\n",
      "1016.4016364987592\n",
      "664.548968624357\n",
      "-0.12975883415731573\n",
      "87390.10608133404\n",
      "2386.407299985015\n",
      "-0.12975883415731573\n"
     ]
    },
    {
     "name": "stderr",
     "output_type": "stream",
     "text": [
      "\r",
      "t:  42%|███████████████████████████▍                                      | 524/1260 [05:29<07:18,  1.68it/s, now=None]"
     ]
    },
    {
     "name": "stdout",
     "output_type": "stream",
     "text": [
      "720\n",
      "640.0\n",
      "313.3768566901347\n",
      "1003.6826058704953\n",
      "658.529731280315\n",
      "-0.09794286533880782\n",
      "115718.75772258705\n",
      "6355.871578009202\n",
      "-0.09794286533880782\n"
     ]
    },
    {
     "name": "stderr",
     "output_type": "stream",
     "text": [
      "\r",
      "t:  42%|███████████████████████████▌                                      | 525/1260 [05:30<07:06,  1.72it/s, now=None]"
     ]
    },
    {
     "name": "stdout",
     "output_type": "stream",
     "text": [
      "720\n",
      "640.0\n",
      "312.74718236353243\n",
      "1001.8520411804939\n",
      "657.2996117720131\n",
      "-0.0914408050806408\n",
      "65682.71606990686\n",
      "3472.274897524383\n",
      "-0.0914408050806408\n"
     ]
    },
    {
     "name": "stderr",
     "output_type": "stream",
     "text": [
      "\r",
      "t:  42%|███████████████████████████▌                                      | 526/1260 [05:31<07:27,  1.64it/s, now=None]"
     ]
    },
    {
     "name": "stdout",
     "output_type": "stream",
     "text": [
      "720\n",
      "640.0\n",
      "312.828423674202\n",
      "1005.4269305949625\n",
      "659.1276771345822\n",
      "-0.10110343628279163\n",
      "782471.3580818485\n",
      "8032.301411928405\n",
      "-0.10110343628279163\n"
     ]
    },
    {
     "name": "stderr",
     "output_type": "stream",
     "text": [
      "\r",
      "t:  42%|███████████████████████████▌                                      | 527/1260 [05:31<07:18,  1.67it/s, now=None]"
     ]
    },
    {
     "name": "stdout",
     "output_type": "stream",
     "text": [
      "720\n",
      "640.0\n",
      "311.09087300559463\n",
      "1001.9869733883726\n",
      "656.5389231969837\n",
      "-0.08742002261262792\n",
      "110175.21365103059\n",
      "3267.5211528037303\n",
      "-0.08742002261262792\n"
     ]
    },
    {
     "name": "stderr",
     "output_type": "stream",
     "text": [
      "\r",
      "t:  42%|███████████████████████████▋                                      | 528/1260 [05:32<07:19,  1.67it/s, now=None]"
     ]
    },
    {
     "name": "stdout",
     "output_type": "stream",
     "text": [
      "720\n",
      "640.0\n",
      "310.2315633161448\n",
      "1006.7617059997042\n",
      "658.4966346579245\n",
      "-0.0977679260490293\n",
      "30570.51635636523\n",
      "9962.085825926468\n",
      "-0.0977679260490293\n"
     ]
    },
    {
     "name": "stderr",
     "output_type": "stream",
     "text": [
      "\r",
      "t:  42%|███████████████████████████▋                                      | 529/1260 [05:32<07:06,  1.71it/s, now=None]"
     ]
    },
    {
     "name": "stdout",
     "output_type": "stream",
     "text": [
      "720\n",
      "640.0\n",
      "310.08283674917595\n",
      "1008.9865885642336\n",
      "659.5347126567048\n",
      "-0.10325490975686799\n",
      "5083.074935178538\n",
      "442246.03362960345\n",
      "-0.10325490975686799\n"
     ]
    },
    {
     "name": "stderr",
     "output_type": "stream",
     "text": [
      "\r",
      "t:  42%|███████████████████████████▊                                      | 530/1260 [05:33<07:28,  1.63it/s, now=None]"
     ]
    },
    {
     "name": "stdout",
     "output_type": "stream",
     "text": [
      "720\n",
      "640.0\n",
      "309.1306476694594\n",
      "1009.0917147609129\n",
      "659.1111812151861\n",
      "-0.10101624356598364\n",
      "12042.34829229351\n",
      "13293.362387705352\n",
      "-0.10101624356598364\n"
     ]
    },
    {
     "name": "stderr",
     "output_type": "stream",
     "text": [
      "\r",
      "t:  42%|███████████████████████████▊                                      | 531/1260 [05:34<07:42,  1.58it/s, now=None]"
     ]
    },
    {
     "name": "stdout",
     "output_type": "stream",
     "text": [
      "720\n",
      "640.0\n",
      "311.946085122001\n",
      "1006.1760008318222\n",
      "659.0610429769116\n",
      "-0.10075122716367564\n",
      "14622.524066654536\n",
      "20317.727234046666\n",
      "-0.10075122716367564\n"
     ]
    },
    {
     "name": "stderr",
     "output_type": "stream",
     "text": [
      "\r",
      "t:  42%|███████████████████████████▊                                      | 532/1260 [05:34<07:26,  1.63it/s, now=None]"
     ]
    },
    {
     "name": "stdout",
     "output_type": "stream",
     "text": [
      "720\n",
      "640.0\n",
      "312.8552147359237\n",
      "1005.119635501675\n",
      "658.9874251187994\n",
      "-0.10036210419936807\n",
      "16989.63325177358\n",
      "6131.07755094514\n",
      "-0.10036210419936807\n"
     ]
    },
    {
     "name": "stderr",
     "output_type": "stream",
     "text": [
      "\r",
      "t:  42%|███████████████████████████▉                                      | 533/1260 [05:35<06:58,  1.74it/s, now=None]"
     ]
    },
    {
     "name": "stdout",
     "output_type": "stream",
     "text": [
      "720\n",
      "640.0\n",
      "315.460855727192\n",
      "1001.2140550509998\n",
      "658.3374553890959\n",
      "-0.09692654991379265\n",
      "7180.825697884643\n",
      "4703.440335762359\n",
      "-0.09692654991379265\n"
     ]
    },
    {
     "name": "stderr",
     "output_type": "stream",
     "text": [
      "\r",
      "t:  42%|███████████████████████████▉                                      | 534/1260 [05:35<06:56,  1.74it/s, now=None]"
     ]
    },
    {
     "name": "stdout",
     "output_type": "stream",
     "text": [
      "720\n",
      "640.0\n",
      "314.9315643897396\n",
      "1005.2242383283333\n",
      "660.0779013590364\n",
      "-0.10612605004062121\n",
      "14159.794609699857\n",
      "11769.037854469498\n",
      "-0.10612605004062121\n"
     ]
    },
    {
     "name": "stderr",
     "output_type": "stream",
     "text": [
      "\r",
      "t:  42%|████████████████████████████                                      | 535/1260 [05:36<07:14,  1.67it/s, now=None]"
     ]
    },
    {
     "name": "stdout",
     "output_type": "stream",
     "text": [
      "720\n",
      "640.0\n",
      "315.1456476524219\n",
      "1010.087373605919\n",
      "662.6165106291704\n",
      "-0.11954441332561508\n",
      "73961.55947748988\n",
      "11303.416066659514\n",
      "-0.11954441332561508\n"
     ]
    },
    {
     "name": "stderr",
     "output_type": "stream",
     "text": [
      "\r",
      "t:  43%|████████████████████████████                                      | 536/1260 [05:37<07:13,  1.67it/s, now=None]"
     ]
    },
    {
     "name": "stdout",
     "output_type": "stream",
     "text": [
      "720\n",
      "640.0\n",
      "313.8244303840069\n",
      "1008.0259039689645\n",
      "660.9251671764857\n",
      "-0.11060445507571029\n",
      "15465.98371915881\n",
      "30371.06628890427\n",
      "-0.11060445507571029\n"
     ]
    },
    {
     "name": "stderr",
     "output_type": "stream",
     "text": [
      "\r",
      "t:  43%|████████████████████████████▏                                     | 537/1260 [05:37<07:45,  1.55it/s, now=None]"
     ]
    },
    {
     "name": "stdout",
     "output_type": "stream",
     "text": [
      "720\n",
      "640.0\n",
      "313.6863295304015\n",
      "1009.2166973581476\n",
      "661.4515134442745\n",
      "-0.11338657106259377\n",
      "29041.052625623022\n",
      "393066.106992636\n",
      "-0.11338657106259377\n"
     ]
    },
    {
     "name": "stderr",
     "output_type": "stream",
     "text": [
      "\r",
      "t:  43%|████████████████████████████▏                                     | 538/1260 [05:38<08:05,  1.49it/s, now=None]"
     ]
    },
    {
     "name": "stdout",
     "output_type": "stream",
     "text": [
      "720\n",
      "640.0\n",
      "311.77862437427285\n",
      "1013.0912101134053\n",
      "662.4349172438391\n",
      "-0.11858456257457808\n",
      "4370.293834825389\n",
      "7543.360606212595\n",
      "-0.11858456257457808\n"
     ]
    },
    {
     "name": "stderr",
     "output_type": "stream",
     "text": [
      "\r",
      "t:  43%|████████████████████████████▏                                     | 539/1260 [05:39<07:37,  1.57it/s, now=None]"
     ]
    },
    {
     "name": "stdout",
     "output_type": "stream",
     "text": [
      "720\n",
      "640.0\n",
      "312.51153223553496\n",
      "1010.8373817412605\n",
      "661.6744569883978\n",
      "-0.11456498693867391\n",
      "6702.102291584168\n",
      "14277.562693842166\n",
      "-0.11456498693867391\n"
     ]
    },
    {
     "name": "stderr",
     "output_type": "stream",
     "text": [
      "\r",
      "t:  43%|████████████████████████████▎                                     | 540/1260 [05:39<07:24,  1.62it/s, now=None]"
     ]
    },
    {
     "name": "stdout",
     "output_type": "stream",
     "text": [
      "720\n",
      "640.0\n",
      "315.0880100064258\n",
      "1009.8717872705494\n",
      "662.4798986384876\n",
      "-0.1188223213748631\n",
      "13122.029610125792\n",
      "33633.062860338745\n",
      "-0.1188223213748631\n"
     ]
    },
    {
     "name": "stderr",
     "output_type": "stream",
     "text": [
      "\r",
      "t:  43%|████████████████████████████▎                                     | 541/1260 [05:40<07:53,  1.52it/s, now=None]"
     ]
    },
    {
     "name": "stdout",
     "output_type": "stream",
     "text": [
      "720\n",
      "640.0\n",
      "312.690467292175\n",
      "1010.907672772453\n",
      "661.799070032314\n",
      "-0.11522365588508847\n",
      "4317.4038048119455\n",
      "6862.576466906665\n",
      "-0.11522365588508847\n"
     ]
    },
    {
     "name": "stderr",
     "output_type": "stream",
     "text": [
      "\r",
      "t:  43%|████████████████████████████▍                                     | 542/1260 [05:41<07:42,  1.55it/s, now=None]"
     ]
    },
    {
     "name": "stdout",
     "output_type": "stream",
     "text": [
      "720\n",
      "640.0\n",
      "315.5668478398691\n",
      "1007.8860425701833\n",
      "661.7264452050263\n",
      "-0.11483978179799598\n",
      "10852.742496862622\n",
      "7091.638411989467\n",
      "-0.11483978179799598\n"
     ]
    },
    {
     "name": "stderr",
     "output_type": "stream",
     "text": [
      "\r",
      "t:  43%|████████████████████████████▍                                     | 543/1260 [05:41<07:41,  1.56it/s, now=None]"
     ]
    },
    {
     "name": "stdout",
     "output_type": "stream",
     "text": [
      "720\n",
      "640.0\n",
      "315.8037805489848\n",
      "1007.6036910021679\n",
      "661.7037357755763\n",
      "-0.11471974624233199\n",
      "9426.967050049134\n",
      "17849.845753002046\n",
      "-0.11471974624233199\n"
     ]
    },
    {
     "name": "stderr",
     "output_type": "stream",
     "text": [
      "\r",
      "t:  43%|████████████████████████████▍                                     | 544/1260 [05:42<07:13,  1.65it/s, now=None]"
     ]
    },
    {
     "name": "stdout",
     "output_type": "stream",
     "text": [
      "720\n",
      "640.0\n",
      "316.0601065429688\n",
      "1006.993086317245\n",
      "661.5265964301069\n",
      "-0.11378343827342223\n",
      "8387.09797339304\n",
      "11372.373876369413\n",
      "-0.11378343827342223\n"
     ]
    },
    {
     "name": "stderr",
     "output_type": "stream",
     "text": [
      "\r",
      "t:  43%|████████████████████████████▌                                     | 545/1260 [05:42<07:10,  1.66it/s, now=None]"
     ]
    },
    {
     "name": "stdout",
     "output_type": "stream",
     "text": [
      "720\n",
      "640.0\n",
      "316.5717422923382\n",
      "1004.5971983800199\n",
      "660.584470336179\n",
      "-0.1088036289198035\n",
      "5931.409222261366\n",
      "19972.57601471315\n",
      "-0.1088036289198035\n"
     ]
    },
    {
     "name": "stderr",
     "output_type": "stream",
     "text": [
      "\r",
      "t:  43%|████████████████████████████▌                                     | 546/1260 [05:43<06:56,  1.71it/s, now=None]"
     ]
    },
    {
     "name": "stdout",
     "output_type": "stream",
     "text": [
      "720\n",
      "640.0\n",
      "315.43805109074\n",
      "1009.4123814802031\n",
      "662.4252162854715\n",
      "-0.11853328608034933\n",
      "4099.942501668264\n",
      "7480.1516671817935\n",
      "-0.11853328608034933\n"
     ]
    },
    {
     "name": "stderr",
     "output_type": "stream",
     "text": [
      "\r",
      "t:  43%|████████████████████████████▋                                     | 547/1260 [05:44<07:32,  1.58it/s, now=None]"
     ]
    },
    {
     "name": "stdout",
     "output_type": "stream",
     "text": [
      "720\n",
      "640.0\n",
      "316.88130897036905\n",
      "1019.6224373445101\n",
      "668.2518731574396\n",
      "-0.1493313295464665\n",
      "6148.8973337538355\n",
      "1660.9797750546072\n",
      "-0.1493313295464665\n"
     ]
    },
    {
     "name": "stderr",
     "output_type": "stream",
     "text": [
      "\r",
      "t:  43%|████████████████████████████▋                                     | 548/1260 [05:44<07:23,  1.61it/s, now=None]"
     ]
    },
    {
     "name": "stdout",
     "output_type": "stream",
     "text": [
      "720\n",
      "640.0\n",
      "315.5006270123626\n",
      "1022.6595059013466\n",
      "669.0800664568546\n",
      "-0.1537089227005174\n",
      "3378.5961133559254\n",
      "1230.7868177495193\n",
      "-0.1537089227005174\n"
     ]
    },
    {
     "name": "stderr",
     "output_type": "stream",
     "text": [
      "\r",
      "t:  44%|████████████████████████████▊                                     | 549/1260 [05:45<07:33,  1.57it/s, now=None]"
     ]
    },
    {
     "name": "stdout",
     "output_type": "stream",
     "text": [
      "720\n",
      "640.0\n",
      "315.88966469546693\n",
      "1016.3063298623653\n",
      "666.0979972789161\n",
      "-0.13794655704569922\n",
      "3767.3179771461796\n",
      "1395.0211322579355\n",
      "-0.13794655704569922\n"
     ]
    },
    {
     "name": "stderr",
     "output_type": "stream",
     "text": [
      "\r",
      "t:  44%|████████████████████████████▊                                     | 550/1260 [05:46<07:43,  1.53it/s, now=None]"
     ]
    },
    {
     "name": "stdout",
     "output_type": "stream",
     "text": [
      "720\n",
      "640.0\n",
      "315.77476145538003\n",
      "1019.8067166724666\n",
      "667.7907390639233\n",
      "-0.14689390648073744\n",
      "4618.640362261823\n",
      "941.3708000704033\n",
      "-0.14689390648073744\n"
     ]
    },
    {
     "name": "stderr",
     "output_type": "stream",
     "text": [
      "\r",
      "t:  44%|████████████████████████████▊                                     | 551/1260 [05:46<07:45,  1.52it/s, now=None]"
     ]
    },
    {
     "name": "stdout",
     "output_type": "stream",
     "text": [
      "720\n",
      "640.0\n",
      "317.4044036816443\n",
      "1014.0848354467665\n",
      "665.7446195642054\n",
      "-0.13607870341080017\n",
      "34012.76387114041\n",
      "1599.467789363715\n",
      "-0.13607870341080017\n"
     ]
    },
    {
     "name": "stderr",
     "output_type": "stream",
     "text": [
      "\r",
      "t:  44%|████████████████████████████▉                                     | 552/1260 [05:47<07:03,  1.67it/s, now=None]"
     ]
    },
    {
     "name": "stdout",
     "output_type": "stream",
     "text": [
      "720\n",
      "640.0\n",
      "317.60963040315403\n",
      "1018.6491134056039\n",
      "668.129371904379\n",
      "-0.14868382292314622\n",
      "7727.10277296612\n",
      "797.4820892055039\n",
      "-0.14868382292314622\n"
     ]
    },
    {
     "name": "stderr",
     "output_type": "stream",
     "text": [
      "\r",
      "t:  44%|████████████████████████████▉                                     | 553/1260 [05:47<06:41,  1.76it/s, now=None]"
     ]
    },
    {
     "name": "stdout",
     "output_type": "stream",
     "text": [
      "720\n",
      "640.0\n",
      "315.54445826202243\n",
      "1012.7757865888398\n",
      "664.1601224254312\n",
      "-0.12770350424870755\n",
      "6533.6586000495745\n",
      "1940.4764705390328\n",
      "-0.12770350424870755\n"
     ]
    },
    {
     "name": "stderr",
     "output_type": "stream",
     "text": [
      "\r",
      "t:  44%|█████████████████████████████                                     | 554/1260 [05:48<06:38,  1.77it/s, now=None]"
     ]
    },
    {
     "name": "stdout",
     "output_type": "stream",
     "text": [
      "720\n",
      "640.0\n",
      "315.1992354918888\n",
      "1011.9347005719968\n",
      "663.5669680319428\n",
      "-0.12456825959741191\n",
      "7755.559065497445\n",
      "2147.3882655706257\n",
      "-0.12456825959741191\n"
     ]
    },
    {
     "name": "stderr",
     "output_type": "stream",
     "text": [
      "\r",
      "t:  44%|█████████████████████████████                                     | 555/1260 [05:48<06:33,  1.79it/s, now=None]"
     ]
    },
    {
     "name": "stdout",
     "output_type": "stream",
     "text": [
      "720\n",
      "640.0\n",
      "314.2790861175665\n",
      "1008.3580478003009\n",
      "661.3185669589337\n",
      "-0.11268385392579257\n",
      "21940.975145198267\n",
      "3046.448220051608\n",
      "-0.11268385392579257\n"
     ]
    },
    {
     "name": "stderr",
     "output_type": "stream",
     "text": [
      "\r",
      "t:  44%|█████████████████████████████                                     | 556/1260 [05:49<06:30,  1.80it/s, now=None]"
     ]
    },
    {
     "name": "stdout",
     "output_type": "stream",
     "text": [
      "720\n",
      "640.0\n",
      "314.7321695694291\n",
      "1000.0109262269581\n",
      "657.3715478981936\n",
      "-0.09182103889045203\n",
      "135151.95272440126\n",
      "29202.22441965522\n",
      "-0.09182103889045203\n"
     ]
    },
    {
     "name": "stderr",
     "output_type": "stream",
     "text": [
      "\r",
      "t:  44%|█████████████████████████████▏                                    | 557/1260 [05:49<06:12,  1.89it/s, now=None]"
     ]
    },
    {
     "name": "stdout",
     "output_type": "stream",
     "text": [
      "720\n",
      "640.0\n",
      "317.35288487709255\n",
      "978.8423810947868\n",
      "648.0976329859396\n",
      "-0.042801774354252385\n",
      "11102.511107926948\n",
      "1132.7989985498793\n",
      "-0.042801774354252385\n"
     ]
    },
    {
     "name": "stderr",
     "output_type": "stream",
     "text": [
      "\r",
      "t:  44%|█████████████████████████████▏                                    | 558/1260 [05:50<05:31,  2.12it/s, now=None]"
     ]
    },
    {
     "name": "stdout",
     "output_type": "stream",
     "text": [
      "720\n",
      "640.0\n",
      "316.5029796902584\n",
      "987.8406597121187\n",
      "652.1718197011886\n",
      "-0.06433676127771124\n",
      "25102.55635189021\n",
      "1506.7280033844745\n",
      "-0.06433676127771124\n"
     ]
    },
    {
     "name": "stderr",
     "output_type": "stream",
     "text": [
      "\r",
      "t:  44%|█████████████████████████████▎                                    | 559/1260 [05:50<05:20,  2.19it/s, now=None]"
     ]
    },
    {
     "name": "stdout",
     "output_type": "stream",
     "text": [
      "720\n",
      "640.0\n",
      "312.9470598431546\n",
      "989.3915653647418\n",
      "651.1693126039482\n",
      "-0.059037795192297855\n",
      "1299156.559839034\n",
      "1184.136664206119\n",
      "-0.059037795192297855\n"
     ]
    },
    {
     "name": "stderr",
     "output_type": "stream",
     "text": [
      "\r",
      "t:  44%|█████████████████████████████▎                                    | 560/1260 [05:50<04:46,  2.44it/s, now=None]"
     ]
    },
    {
     "name": "stdout",
     "output_type": "stream",
     "text": [
      "720\n",
      "640.0\n",
      "308.620397730458\n",
      "1012.4640587358033\n",
      "660.5422282331307\n",
      "-0.1085803492322622\n",
      "9968.267730915404\n",
      "3717.267142420873\n",
      "-0.1085803492322622\n"
     ]
    },
    {
     "name": "stderr",
     "output_type": "stream",
     "text": [
      "\r",
      "t:  45%|█████████████████████████████▍                                    | 561/1260 [05:51<04:26,  2.62it/s, now=None]"
     ]
    },
    {
     "name": "stdout",
     "output_type": "stream",
     "text": [
      "720\n",
      "640.0\n",
      "303.15706625050154\n",
      "1028.259526448889\n",
      "665.7082963496953\n",
      "-0.13588670927696075\n",
      "7645.680844912028\n",
      "10567.4797858287\n",
      "-0.13588670927696075\n"
     ]
    },
    {
     "name": "stderr",
     "output_type": "stream",
     "text": [
      "\r",
      "t:  45%|█████████████████████████████▍                                    | 562/1260 [05:51<04:13,  2.75it/s, now=None]"
     ]
    },
    {
     "name": "stdout",
     "output_type": "stream",
     "text": [
      "720\n",
      "640.0\n",
      "297.5564719855847\n",
      "1029.1093771709536\n",
      "663.3329245782692\n",
      "-0.12333117277085134\n",
      "11961.625758829396\n",
      "23499.768206445886\n",
      "-0.12333117277085134\n"
     ]
    },
    {
     "name": "stderr",
     "output_type": "stream",
     "text": [
      "\r",
      "t:  45%|█████████████████████████████▍                                    | 563/1260 [05:51<04:09,  2.79it/s, now=None]"
     ]
    },
    {
     "name": "stdout",
     "output_type": "stream",
     "text": [
      "720\n",
      "640.0\n",
      "293.075008918457\n",
      "1034.603538898084\n",
      "663.8392739082706\n",
      "-0.1260075906580016\n",
      "34622.0795365657\n",
      "11698.576371870464\n",
      "-0.1260075906580016\n"
     ]
    },
    {
     "name": "stderr",
     "output_type": "stream",
     "text": [
      "\r",
      "t:  45%|█████████████████████████████▌                                    | 564/1260 [05:52<04:41,  2.47it/s, now=None]"
     ]
    },
    {
     "name": "stdout",
     "output_type": "stream",
     "text": [
      "720\n",
      "640.0\n",
      "291.8974677774869\n",
      "1030.4157670792492\n",
      "661.156617428368\n",
      "-0.11182783497851662\n",
      "3391.739455219173\n",
      "4287.364843983277\n",
      "-0.11182783497851662\n"
     ]
    },
    {
     "name": "stderr",
     "output_type": "stream",
     "text": [
      "\r",
      "t:  45%|█████████████████████████████▌                                    | 565/1260 [05:52<04:44,  2.44it/s, now=None]"
     ]
    },
    {
     "name": "stdout",
     "output_type": "stream",
     "text": [
      "720\n",
      "640.0\n",
      "295.2378099977605\n",
      "1023.4732713518728\n",
      "659.3555406748167\n",
      "-0.10230785785260238\n",
      "3123.4027498424316\n",
      "3395.136010340818\n",
      "-0.10230785785260238\n"
     ]
    },
    {
     "name": "stderr",
     "output_type": "stream",
     "text": [
      "\r",
      "t:  45%|█████████████████████████████▋                                    | 566/1260 [05:53<04:56,  2.34it/s, now=None]"
     ]
    },
    {
     "name": "stdout",
     "output_type": "stream",
     "text": [
      "720\n",
      "640.0\n",
      "298.517470902875\n",
      "1027.2817654311211\n",
      "662.899618166998\n",
      "-0.12104083888270392\n",
      "2184.9664089097873\n",
      "1662.1241241931195\n",
      "-0.12104083888270392\n"
     ]
    },
    {
     "name": "stderr",
     "output_type": "stream",
     "text": [
      "\r",
      "t:  45%|█████████████████████████████▋                                    | 567/1260 [05:53<05:01,  2.30it/s, now=None]"
     ]
    },
    {
     "name": "stdout",
     "output_type": "stream",
     "text": [
      "720\n",
      "640.0\n",
      "303.01133939300826\n",
      "1015.9950597824413\n",
      "659.5031995877248\n",
      "-0.10308834067797391\n",
      "2399.8260983325895\n",
      "2399.403712268143\n",
      "-0.10308834067797391\n"
     ]
    },
    {
     "name": "stderr",
     "output_type": "stream",
     "text": [
      "\r",
      "t:  45%|█████████████████████████████▊                                    | 568/1260 [05:54<05:11,  2.22it/s, now=None]"
     ]
    },
    {
     "name": "stdout",
     "output_type": "stream",
     "text": [
      "720\n",
      "640.0\n",
      "308.18453599349255\n",
      "1009.9872894794513\n",
      "659.085912736472\n",
      "-0.10088268160706619\n",
      "10723.566796199251\n",
      "25532.788594636768\n",
      "-0.10088268160706619\n"
     ]
    },
    {
     "name": "stderr",
     "output_type": "stream",
     "text": [
      "\r",
      "t:  45%|█████████████████████████████▊                                    | 569/1260 [05:54<05:10,  2.23it/s, now=None]"
     ]
    },
    {
     "name": "stdout",
     "output_type": "stream",
     "text": [
      "720\n",
      "640.0\n",
      "312.18579186880646\n",
      "1010.6248805045705\n",
      "661.4053361866885\n",
      "-0.11314249127249629\n",
      "360781.1670019731\n",
      "123484.14184148531\n",
      "-0.11314249127249629\n"
     ]
    },
    {
     "name": "stderr",
     "output_type": "stream",
     "text": [
      "\r",
      "t:  45%|█████████████████████████████▊                                    | 570/1260 [05:55<05:06,  2.25it/s, now=None]"
     ]
    },
    {
     "name": "stdout",
     "output_type": "stream",
     "text": [
      "720\n",
      "640.0\n",
      "311.42641519282415\n",
      "1010.8991351502194\n",
      "661.1627751715218\n",
      "-0.11186038304947261\n",
      "21939.037785224304\n",
      "7831.199825480683\n",
      "-0.11186038304947261\n"
     ]
    },
    {
     "name": "stderr",
     "output_type": "stream",
     "text": [
      "\r",
      "t:  45%|█████████████████████████████▉                                    | 571/1260 [05:55<05:09,  2.22it/s, now=None]"
     ]
    },
    {
     "name": "stdout",
     "output_type": "stream",
     "text": [
      "720\n",
      "640.0\n",
      "311.4327006039931\n",
      "1012.1486296839154\n",
      "661.7906651439542\n",
      "-0.11517923004661529\n",
      "31447.058883308764\n",
      "4997.280428606928\n",
      "-0.11517923004661529\n"
     ]
    },
    {
     "name": "stderr",
     "output_type": "stream",
     "text": [
      "\r",
      "t:  45%|█████████████████████████████▉                                    | 572/1260 [05:56<05:17,  2.17it/s, now=None]"
     ]
    },
    {
     "name": "stdout",
     "output_type": "stream",
     "text": [
      "720\n",
      "640.0\n",
      "308.167945141007\n",
      "1015.2024775168871\n",
      "661.685211328947\n",
      "-0.11462183131014869\n",
      "30969.295673343244\n",
      "6310.994648858218\n",
      "-0.11462183131014869\n"
     ]
    },
    {
     "name": "stderr",
     "output_type": "stream",
     "text": [
      "\r",
      "t:  45%|██████████████████████████████                                    | 573/1260 [05:56<05:28,  2.09it/s, now=None]"
     ]
    },
    {
     "name": "stdout",
     "output_type": "stream",
     "text": [
      "720\n",
      "640.0\n",
      "308.8472321587795\n",
      "1018.672208177608\n",
      "663.7597201681938\n",
      "-0.1255870923175957\n",
      "17621.289448941094\n",
      "20190.36502422355\n",
      "-0.1255870923175957\n"
     ]
    },
    {
     "name": "stderr",
     "output_type": "stream",
     "text": [
      "\r",
      "t:  46%|██████████████████████████████                                    | 574/1260 [05:57<05:31,  2.07it/s, now=None]"
     ]
    },
    {
     "name": "stdout",
     "output_type": "stream",
     "text": [
      "720\n",
      "640.0\n",
      "307.54837767556916\n",
      "1018.0351830272689\n",
      "662.791780351419\n",
      "-0.12047083900035754\n",
      "29701.153014928546\n",
      "6643.013602099074\n",
      "-0.12047083900035754\n"
     ]
    },
    {
     "name": "stderr",
     "output_type": "stream",
     "text": [
      "\r",
      "t:  46%|██████████████████████████████                                    | 575/1260 [05:57<05:53,  1.94it/s, now=None]"
     ]
    },
    {
     "name": "stdout",
     "output_type": "stream",
     "text": [
      "720\n",
      "640.0\n",
      "308.57311877897615\n",
      "1020.9558302595366\n",
      "664.7644745192564\n",
      "-0.13089793674464095\n",
      "3386.913162199999\n",
      "4848.07827001323\n",
      "-0.13089793674464095\n"
     ]
    },
    {
     "name": "stderr",
     "output_type": "stream",
     "text": [
      "\r",
      "t:  46%|██████████████████████████████▏                                   | 576/1260 [05:58<05:43,  1.99it/s, now=None]"
     ]
    },
    {
     "name": "stdout",
     "output_type": "stream",
     "text": [
      "720\n",
      "640.0\n",
      "309.4709629927483\n",
      "1022.6340570688952\n",
      "666.0525100308217\n",
      "-0.13770612444862917\n",
      "3641.792309116116\n",
      "31495.67523079671\n",
      "-0.13770612444862917\n"
     ]
    },
    {
     "name": "stderr",
     "output_type": "stream",
     "text": [
      "\r",
      "t:  46%|██████████████████████████████▏                                   | 577/1260 [05:58<05:39,  2.01it/s, now=None]"
     ]
    },
    {
     "name": "stdout",
     "output_type": "stream",
     "text": [
      "720\n",
      "640.0\n",
      "311.737481152933\n",
      "1024.215067882146\n",
      "667.9762745175395\n",
      "-0.14787459387842328\n",
      "6842.21523872312\n",
      "32318.189745277017\n",
      "-0.14787459387842328\n"
     ]
    },
    {
     "name": "stderr",
     "output_type": "stream",
     "text": [
      "\r",
      "t:  46%|██████████████████████████████▎                                   | 578/1260 [05:59<05:36,  2.03it/s, now=None]"
     ]
    },
    {
     "name": "stdout",
     "output_type": "stream",
     "text": [
      "720\n",
      "640.0\n",
      "311.8832773270906\n",
      "1017.6670122548477\n",
      "664.7751447909691\n",
      "-0.13095433675226514\n",
      "5972.80675358733\n",
      "10242.811507653032\n",
      "-0.13095433675226514\n"
     ]
    },
    {
     "name": "stderr",
     "output_type": "stream",
     "text": [
      "\r",
      "t:  46%|██████████████████████████████▎                                   | 579/1260 [05:59<05:28,  2.08it/s, now=None]"
     ]
    },
    {
     "name": "stdout",
     "output_type": "stream",
     "text": [
      "720\n",
      "640.0\n",
      "315.41202504794387\n",
      "1008.3396076338622\n",
      "661.875816340903\n",
      "-0.11562931494477323\n",
      "2505.9591193458677\n",
      "1220.646113278232\n",
      "-0.11562931494477323\n"
     ]
    },
    {
     "name": "stderr",
     "output_type": "stream",
     "text": [
      "\r",
      "t:  46%|██████████████████████████████▍                                   | 580/1260 [06:00<05:25,  2.09it/s, now=None]"
     ]
    },
    {
     "name": "stdout",
     "output_type": "stream",
     "text": [
      "720\n",
      "640.0\n",
      "313.51562410355575\n",
      "1012.1344827561126\n",
      "662.8250534298342\n",
      "-0.12064671098626625\n",
      "4523.348387034687\n",
      "1553.6927987120084\n",
      "-0.12064671098626625\n"
     ]
    },
    {
     "name": "stderr",
     "output_type": "stream",
     "text": [
      "\r",
      "t:  46%|██████████████████████████████▍                                   | 581/1260 [06:00<05:30,  2.05it/s, now=None]"
     ]
    },
    {
     "name": "stdout",
     "output_type": "stream",
     "text": [
      "720\n",
      "640.0\n",
      "315.14871316249474\n",
      "1020.8859230174141\n",
      "668.0173180899544\n",
      "-0.14809153847547335\n",
      "1916.7742656451508\n",
      "2193.1952291721677\n",
      "-0.14809153847547335\n"
     ]
    },
    {
     "name": "stderr",
     "output_type": "stream",
     "text": [
      "\r",
      "t:  46%|██████████████████████████████▍                                   | 582/1260 [06:01<05:27,  2.07it/s, now=None]"
     ]
    },
    {
     "name": "stdout",
     "output_type": "stream",
     "text": [
      "720\n",
      "640.0\n",
      "314.923362469924\n",
      "1031.1517986039455\n",
      "673.0375805369347\n",
      "-0.1746272114095119\n",
      "2119.6525804689713\n",
      "7091.274518205946\n",
      "-0.1746272114095119\n"
     ]
    },
    {
     "name": "stderr",
     "output_type": "stream",
     "text": [
      "\r",
      "t:  46%|██████████████████████████████▌                                   | 583/1260 [06:01<05:20,  2.11it/s, now=None]"
     ]
    },
    {
     "name": "stdout",
     "output_type": "stream",
     "text": [
      "720\n",
      "640.0\n",
      "314.4096186653511\n",
      "1024.6629963507203\n",
      "669.5363075080356\n",
      "-0.15612048254247407\n",
      "2368.398036152691\n",
      "2850.622596305426\n",
      "-0.15612048254247407\n"
     ]
    },
    {
     "name": "stderr",
     "output_type": "stream",
     "text": [
      "\r",
      "t:  46%|██████████████████████████████▌                                   | 584/1260 [06:01<05:06,  2.20it/s, now=None]"
     ]
    },
    {
     "name": "stdout",
     "output_type": "stream",
     "text": [
      "720\n",
      "640.0\n",
      "312.6786107865662\n",
      "1024.2024013129176\n",
      "668.4405060497419\n",
      "-0.15032838912006424\n",
      "3953.2298526085724\n",
      "3875.4659086764536\n",
      "-0.15032838912006424\n"
     ]
    },
    {
     "name": "stderr",
     "output_type": "stream",
     "text": [
      "\r",
      "t:  46%|██████████████████████████████▋                                   | 585/1260 [06:02<05:00,  2.24it/s, now=None]"
     ]
    },
    {
     "name": "stdout",
     "output_type": "stream",
     "text": [
      "720\n",
      "640.0\n",
      "312.3281803797893\n",
      "1023.7119495305076\n",
      "668.0200649551484\n",
      "-0.14810605762007026\n",
      "22009.432754681602\n",
      "8711.819274854744\n",
      "-0.14810605762007026\n"
     ]
    },
    {
     "name": "stderr",
     "output_type": "stream",
     "text": [
      "\r",
      "t:  47%|██████████████████████████████▋                                   | 586/1260 [06:02<05:06,  2.20it/s, now=None]"
     ]
    },
    {
     "name": "stdout",
     "output_type": "stream",
     "text": [
      "720\n",
      "640.0\n",
      "310.9132332948572\n",
      "1021.7516834311897\n",
      "666.3324583630234\n",
      "-0.13918585134740952\n",
      "6652.616442914433\n",
      "3957.5742071258646\n",
      "-0.13918585134740952\n"
     ]
    },
    {
     "name": "stderr",
     "output_type": "stream",
     "text": [
      "\r",
      "t:  47%|██████████████████████████████▋                                   | 587/1260 [06:03<04:57,  2.26it/s, now=None]"
     ]
    },
    {
     "name": "stdout",
     "output_type": "stream",
     "text": [
      "720\n",
      "640.0\n",
      "314.51254497576014\n",
      "1023.1941618488825\n",
      "668.8533534123213\n",
      "-0.15251058232226988\n",
      "4680.3268398277105\n",
      "12078.048664576496\n",
      "-0.15251058232226988\n"
     ]
    },
    {
     "name": "stderr",
     "output_type": "stream",
     "text": [
      "\r",
      "t:  47%|██████████████████████████████▊                                   | 588/1260 [06:03<04:56,  2.27it/s, now=None]"
     ]
    },
    {
     "name": "stdout",
     "output_type": "stream",
     "text": [
      "720\n",
      "640.0\n",
      "312.5794243426345\n",
      "1023.5085652466203\n",
      "668.0439947946275\n",
      "-0.1482325439144594\n",
      "4241.221235779792\n",
      "13243.546932579626\n",
      "-0.1482325439144594\n"
     ]
    },
    {
     "name": "stderr",
     "output_type": "stream",
     "text": [
      "\r",
      "t:  47%|██████████████████████████████▊                                   | 589/1260 [06:04<05:00,  2.23it/s, now=None]"
     ]
    },
    {
     "name": "stdout",
     "output_type": "stream",
     "text": [
      "720\n",
      "640.0\n",
      "313.9277686226965\n",
      "1024.1551386337412\n",
      "669.0414536282188\n",
      "-0.15350482632058535\n",
      "10963.6815144349\n",
      "2949.6586117573224\n",
      "-0.15350482632058535\n"
     ]
    },
    {
     "name": "stderr",
     "output_type": "stream",
     "text": [
      "\r",
      "t:  47%|██████████████████████████████▉                                   | 590/1260 [06:04<04:53,  2.28it/s, now=None]"
     ]
    },
    {
     "name": "stdout",
     "output_type": "stream",
     "text": [
      "720\n",
      "640.0\n",
      "313.69818224884597\n",
      "1057.642209627892\n",
      "685.670195938369\n",
      "-0.24139960710280775\n",
      "3880.6462520463247\n",
      "490.4518231992773\n",
      "-0.24139960710280775\n"
     ]
    },
    {
     "name": "stderr",
     "output_type": "stream",
     "text": [
      "\r",
      "t:  47%|██████████████████████████████▉                                   | 591/1260 [06:04<04:48,  2.32it/s, now=None]"
     ]
    },
    {
     "name": "stdout",
     "output_type": "stream",
     "text": [
      "720\n",
      "640.0\n",
      "312.7011223582478\n",
      "1043.8303693903936\n",
      "678.2657458743207\n",
      "-0.2022617996214095\n",
      "2102.776445275656\n",
      "671.497791498409\n",
      "-0.2022617996214095\n"
     ]
    },
    {
     "name": "stderr",
     "output_type": "stream",
     "text": [
      "\r",
      "t:  47%|███████████████████████████████                                   | 592/1260 [06:05<04:49,  2.31it/s, now=None]"
     ]
    },
    {
     "name": "stdout",
     "output_type": "stream",
     "text": [
      "720\n",
      "640.0\n",
      "306.2977299829678\n",
      "1035.9497774057313\n",
      "671.1237536943495\n",
      "-0.16451126952727588\n",
      "5351.131459304125\n",
      "816.4140752632154\n",
      "-0.16451126952727588\n"
     ]
    },
    {
     "name": "stderr",
     "output_type": "stream",
     "text": [
      "\r",
      "t:  47%|███████████████████████████████                                   | 593/1260 [06:05<04:52,  2.28it/s, now=None]"
     ]
    },
    {
     "name": "stdout",
     "output_type": "stream",
     "text": [
      "720\n",
      "640.0\n",
      "304.3763030641431\n",
      "1022.5971025706066\n",
      "663.4867028173749\n",
      "-0.12414400060612428\n",
      "5356.10716133583\n",
      "2496.0994843550125\n",
      "-0.12414400060612428\n"
     ]
    },
    {
     "name": "stderr",
     "output_type": "stream",
     "text": [
      "\r",
      "t:  47%|███████████████████████████████                                   | 594/1260 [06:06<04:58,  2.23it/s, now=None]"
     ]
    },
    {
     "name": "stdout",
     "output_type": "stream",
     "text": [
      "720\n",
      "640.0\n",
      "302.5415257294537\n",
      "998.4337654998031\n",
      "650.4876456146285\n",
      "-0.055434698248750594\n",
      "3001.7179675282273\n",
      "2733.6510244476353\n",
      "-0.055434698248750594\n"
     ]
    },
    {
     "name": "stderr",
     "output_type": "stream",
     "text": [
      "\r",
      "t:  47%|███████████████████████████████▏                                  | 595/1260 [06:06<04:59,  2.22it/s, now=None]"
     ]
    },
    {
     "name": "stdout",
     "output_type": "stream",
     "text": [
      "720\n",
      "640.0\n",
      "300.1896440153006\n",
      "1005.7459905304373\n",
      "652.967817272869\n",
      "-0.06854417701373591\n",
      "3277.285857796802\n",
      "7299.957391424185\n",
      "-0.06854417701373591\n"
     ]
    },
    {
     "name": "stderr",
     "output_type": "stream",
     "text": [
      "\r",
      "t:  47%|███████████████████████████████▏                                  | 596/1260 [06:07<05:08,  2.15it/s, now=None]"
     ]
    },
    {
     "name": "stdout",
     "output_type": "stream",
     "text": [
      "720\n",
      "640.0\n",
      "301.0638988846227\n",
      "1008.7784668435191\n",
      "654.9211828640709\n",
      "-0.07886910942437499\n",
      "2486.5278851057683\n",
      "65039.28806496415\n",
      "-0.07886910942437499\n"
     ]
    },
    {
     "name": "stderr",
     "output_type": "stream",
     "text": [
      "\r",
      "t:  47%|███████████████████████████████▎                                  | 597/1260 [06:07<04:59,  2.21it/s, now=None]"
     ]
    },
    {
     "name": "stdout",
     "output_type": "stream",
     "text": [
      "720\n",
      "640.0\n",
      "301.4958822933978\n",
      "1015.6838309370647\n",
      "658.5898566152313\n",
      "-0.09826067068050814\n",
      "5744.648562805877\n",
      "2885.351058903007\n",
      "-0.09826067068050814\n"
     ]
    },
    {
     "name": "stderr",
     "output_type": "stream",
     "text": [
      "\r",
      "t:  47%|███████████████████████████████▎                                  | 598/1260 [06:08<05:03,  2.18it/s, now=None]"
     ]
    },
    {
     "name": "stdout",
     "output_type": "stream",
     "text": [
      "720\n",
      "640.0\n",
      "300.03806044895333\n",
      "1015.6983522225464\n",
      "657.8682063357498\n",
      "-0.09444623348896347\n",
      "2042.1887314948883\n",
      "2796.9561251947794\n",
      "-0.09444623348896347\n"
     ]
    },
    {
     "name": "stderr",
     "output_type": "stream",
     "text": [
      "\r",
      "t:  48%|███████████████████████████████▍                                  | 599/1260 [06:08<05:21,  2.05it/s, now=None]"
     ]
    },
    {
     "name": "stdout",
     "output_type": "stream",
     "text": [
      "720\n",
      "640.0\n",
      "300.67709573785066\n",
      "1013.7028836170421\n",
      "657.1899896774464\n",
      "-0.09086137400935965\n",
      "5403.554942032819\n",
      "5689.7534845897935\n",
      "-0.09086137400935965\n"
     ]
    },
    {
     "name": "stderr",
     "output_type": "stream",
     "text": [
      "\r",
      "t:  48%|███████████████████████████████▍                                  | 600/1260 [06:09<05:18,  2.07it/s, now=None]"
     ]
    },
    {
     "name": "stdout",
     "output_type": "stream",
     "text": [
      "720\n",
      "640.0\n",
      "297.9974162349083\n",
      "1013.2181292301115\n",
      "655.6077727325098\n",
      "-0.08249822730040911\n",
      "13713.500028419325\n",
      "3045.326872864193\n",
      "-0.08249822730040911\n"
     ]
    },
    {
     "name": "stderr",
     "output_type": "stream",
     "text": [
      "\r",
      "t:  48%|███████████████████████████████▍                                  | 601/1260 [06:09<05:06,  2.15it/s, now=None]"
     ]
    },
    {
     "name": "stdout",
     "output_type": "stream",
     "text": [
      "720\n",
      "640.0\n",
      "298.33322399126996\n",
      "1015.8878101209492\n",
      "657.1105170561095\n",
      "-0.09044130443943608\n",
      "2482.9837467859143\n",
      "1445.787070142759\n",
      "-0.09044130443943608\n"
     ]
    },
    {
     "name": "stderr",
     "output_type": "stream",
     "text": [
      "\r",
      "t:  48%|███████████████████████████████▌                                  | 602/1260 [06:10<05:18,  2.07it/s, now=None]"
     ]
    },
    {
     "name": "stdout",
     "output_type": "stream",
     "text": [
      "720\n",
      "640.0\n",
      "296.7426888228172\n",
      "1025.8844003306076\n",
      "661.3135445767124\n",
      "-0.11265730704833692\n",
      "1952.6642909140385\n",
      "1282.9772378420187\n",
      "-0.11265730704833692\n"
     ]
    },
    {
     "name": "stderr",
     "output_type": "stream",
     "text": [
      "\r",
      "t:  48%|███████████████████████████████▌                                  | 603/1260 [06:10<05:09,  2.13it/s, now=None]"
     ]
    },
    {
     "name": "stdout",
     "output_type": "stream",
     "text": [
      "720\n",
      "640.0\n",
      "292.82352695983093\n",
      "1027.4905436688648\n",
      "660.1570353143479\n",
      "-0.10654432951869616\n",
      "8617.6823040034\n",
      "1199.152195395209\n",
      "-0.10654432951869616\n"
     ]
    },
    {
     "name": "stderr",
     "output_type": "stream",
     "text": [
      "\r",
      "t:  48%|███████████████████████████████▋                                  | 604/1260 [06:10<05:04,  2.15it/s, now=None]"
     ]
    },
    {
     "name": "stdout",
     "output_type": "stream",
     "text": [
      "720\n",
      "640.0\n",
      "289.89978645148756\n",
      "1020.9259263325191\n",
      "655.4128563920033\n",
      "-0.08146795521487447\n",
      "2809.565084116694\n",
      "2051.2421557627217\n",
      "-0.08146795521487447\n"
     ]
    },
    {
     "name": "stderr",
     "output_type": "stream",
     "text": [
      "\r",
      "t:  48%|███████████████████████████████▋                                  | 605/1260 [06:11<05:15,  2.08it/s, now=None]"
     ]
    },
    {
     "name": "stdout",
     "output_type": "stream",
     "text": [
      "720\n",
      "640.0\n",
      "289.61589601810726\n",
      "1021.7729223552722\n",
      "655.6944091866897\n",
      "-0.08295616284393104\n",
      "3744.352690825749\n",
      "1383.1946111412426\n",
      "-0.08295616284393104\n"
     ]
    },
    {
     "name": "stderr",
     "output_type": "stream",
     "text": [
      "\r",
      "t:  48%|███████████████████████████████▋                                  | 606/1260 [06:11<05:07,  2.13it/s, now=None]"
     ]
    },
    {
     "name": "stdout",
     "output_type": "stream",
     "text": [
      "720\n",
      "640.0\n",
      "290.17393628572773\n",
      "1019.2973058092767\n",
      "654.7356210475023\n",
      "-0.07788828267965482\n",
      "2603.9547223737804\n",
      "2215.633924972143\n",
      "-0.07788828267965482\n"
     ]
    },
    {
     "name": "stderr",
     "output_type": "stream",
     "text": [
      "\r",
      "t:  48%|███████████████████████████████▊                                  | 607/1260 [06:12<05:09,  2.11it/s, now=None]"
     ]
    },
    {
     "name": "stdout",
     "output_type": "stream",
     "text": [
      "720\n",
      "640.0\n",
      "300.09003083607587\n",
      "1012.826750085216\n",
      "656.4583904606459\n",
      "-0.08699434957769969\n",
      "1010.1887807284413\n",
      "2887.0360795103734\n",
      "-0.08699434957769969\n"
     ]
    },
    {
     "name": "stderr",
     "output_type": "stream",
     "text": [
      "\r",
      "t:  48%|███████████████████████████████▊                                  | 608/1260 [06:12<05:09,  2.11it/s, now=None]"
     ]
    },
    {
     "name": "stdout",
     "output_type": "stream",
     "text": [
      "720\n",
      "640.0\n",
      "299.1018992570311\n",
      "1007.302094684016\n",
      "653.2019969705235\n",
      "-0.06978198398705283\n",
      "914.8865706044336\n",
      "4768.931098484867\n",
      "-0.06978198398705283\n"
     ]
    },
    {
     "name": "stderr",
     "output_type": "stream",
     "text": [
      "\r",
      "t:  48%|███████████████████████████████▉                                  | 609/1260 [06:13<05:05,  2.13it/s, now=None]"
     ]
    },
    {
     "name": "stdout",
     "output_type": "stream",
     "text": [
      "720\n",
      "640.0\n",
      "299.00550251679584\n",
      "1008.6926756485038\n",
      "653.8490890826498\n",
      "-0.07320232800829186\n",
      "679.9995220278919\n",
      "2306.0548827884954\n",
      "-0.07320232800829186\n"
     ]
    },
    {
     "name": "stderr",
     "output_type": "stream",
     "text": [
      "\r",
      "t:  48%|███████████████████████████████▉                                  | 610/1260 [06:13<05:23,  2.01it/s, now=None]"
     ]
    },
    {
     "name": "stdout",
     "output_type": "stream",
     "text": [
      "720\n",
      "640.0\n",
      "296.9805994622666\n",
      "1006.4013791612521\n",
      "651.6909893117593\n",
      "-0.06179522921929899\n",
      "562.1943555301862\n",
      "2044.292202007947\n",
      "-0.06179522921929899\n"
     ]
    },
    {
     "name": "stderr",
     "output_type": "stream",
     "text": [
      "\r",
      "t:  48%|████████████████████████████████                                  | 611/1260 [06:14<05:21,  2.02it/s, now=None]"
     ]
    },
    {
     "name": "stdout",
     "output_type": "stream",
     "text": [
      "720\n",
      "640.0\n",
      "292.95710321607106\n",
      "1005.1979778103026\n",
      "649.0775405131868\n",
      "-0.047981285569701757\n",
      "542.8686984798056\n",
      "1426.1755005911696\n",
      "-0.047981285569701757\n"
     ]
    },
    {
     "name": "stderr",
     "output_type": "stream",
     "text": [
      "\r",
      "t:  49%|████████████████████████████████                                  | 612/1260 [06:14<05:34,  1.94it/s, now=None]"
     ]
    },
    {
     "name": "stdout",
     "output_type": "stream",
     "text": [
      "720\n",
      "640.0\n",
      "292.4482636373714\n",
      "1004.3031227281786\n",
      "648.375693182775\n",
      "-0.044271521108953396\n",
      "486.8713926383316\n",
      "1029.5262809333294\n",
      "-0.044271521108953396\n"
     ]
    },
    {
     "name": "stderr",
     "output_type": "stream",
     "text": [
      "\r",
      "t:  49%|████████████████████████████████                                  | 613/1260 [06:15<05:34,  1.93it/s, now=None]"
     ]
    },
    {
     "name": "stdout",
     "output_type": "stream",
     "text": [
      "720\n",
      "640.0\n",
      "290.3317161634612\n",
      "1003.4818207945566\n",
      "646.9067684790089\n",
      "-0.036507204817618266\n",
      "566.9966098898325\n",
      "837.2057256128171\n",
      "-0.036507204817618266\n"
     ]
    },
    {
     "name": "stderr",
     "output_type": "stream",
     "text": [
      "\r",
      "t:  49%|████████████████████████████████▏                                 | 614/1260 [06:16<05:40,  1.89it/s, now=None]"
     ]
    },
    {
     "name": "stdout",
     "output_type": "stream",
     "text": [
      "720\n",
      "640.0\n",
      "289.8871864903894\n",
      "1021.9112356816054\n",
      "655.8992110859974\n",
      "-0.08403868716884352\n",
      "527.9783899566069\n",
      "529.8764449057859\n",
      "-0.08403868716884352\n"
     ]
    },
    {
     "name": "stderr",
     "output_type": "stream",
     "text": [
      "\r",
      "t:  49%|████████████████████████████████▏                                 | 615/1260 [06:16<06:01,  1.78it/s, now=None]"
     ]
    },
    {
     "name": "stdout",
     "output_type": "stream",
     "text": [
      "720\n",
      "640.0\n",
      "283.63600153695245\n",
      "693.13167871172\n",
      "488.38384012433625\n",
      "0.8013997021999371\n",
      "646.6714402750299\n",
      "31.461196889853365\n",
      "0.8013997021999371\n"
     ]
    },
    {
     "name": "stderr",
     "output_type": "stream",
     "text": [
      "\r",
      "t:  49%|████████████████████████████████▎                                 | 616/1260 [06:17<05:42,  1.88it/s, now=None]"
     ]
    },
    {
     "name": "stdout",
     "output_type": "stream",
     "text": [
      "720\n",
      "640.0\n",
      "280.38329693162234\n",
      "818.9570541736684\n",
      "549.6701755526453\n",
      "0.47745764350744613\n",
      "701.4437213098291\n",
      "25.46151062083482\n",
      "0.47745764350744613\n"
     ]
    },
    {
     "name": "stderr",
     "output_type": "stream",
     "text": [
      "\r",
      "t:  49%|████████████████████████████████▎                                 | 617/1260 [06:17<05:35,  1.92it/s, now=None]"
     ]
    },
    {
     "name": "stdout",
     "output_type": "stream",
     "text": [
      "720\n",
      "640.0\n",
      "274.92295572501735\n",
      "746.4715648473411\n",
      "510.69726028617924\n",
      "0.6834573384873384\n",
      "768.7390091375829\n",
      "21.147814411959896\n",
      "0.6834573384873384\n"
     ]
    },
    {
     "name": "stderr",
     "output_type": "stream",
     "text": [
      "\r",
      "t:  49%|████████████████████████████████▎                                 | 618/1260 [06:18<05:35,  1.91it/s, now=None]"
     ]
    },
    {
     "name": "stdout",
     "output_type": "stream",
     "text": [
      "720\n",
      "640.0\n",
      "271.1456562802349\n",
      "966.0609954308742\n",
      "618.6033258555545\n",
      "0.11309670619206884\n",
      "898.2148884648883\n",
      "1746.71301816847\n",
      "0.11309670619206884\n"
     ]
    },
    {
     "name": "stderr",
     "output_type": "stream",
     "text": [
      "\r",
      "t:  49%|████████████████████████████████▍                                 | 619/1260 [06:18<05:44,  1.86it/s, now=None]"
     ]
    },
    {
     "name": "stdout",
     "output_type": "stream",
     "text": [
      "720\n",
      "640.0\n",
      "268.93803129512037\n",
      "970.1897247758534\n",
      "619.5638780354868\n",
      "0.1080195018124268\n",
      "1233.102538194136\n",
      "2050.8367640025563\n",
      "0.1080195018124268\n"
     ]
    },
    {
     "name": "stderr",
     "output_type": "stream",
     "text": [
      "\r",
      "t:  49%|████████████████████████████████▍                                 | 620/1260 [06:19<05:52,  1.82it/s, now=None]"
     ]
    },
    {
     "name": "stdout",
     "output_type": "stream",
     "text": [
      "720\n",
      "640.0\n",
      "272.33781670858417\n",
      "968.9943921716151\n",
      "620.6661044400996\n",
      "0.10219344795947347\n",
      "967.9003697191316\n",
      "1839.2706272359344\n",
      "0.10219344795947347\n"
     ]
    },
    {
     "name": "stderr",
     "output_type": "stream",
     "text": [
      "\r",
      "t:  49%|████████████████████████████████▌                                 | 621/1260 [06:19<05:55,  1.80it/s, now=None]"
     ]
    },
    {
     "name": "stdout",
     "output_type": "stream",
     "text": [
      "720\n",
      "640.0\n",
      "269.5892189114997\n",
      "970.121338027361\n",
      "619.8552784694303\n",
      "0.10647924237586819\n",
      "1136.7767262081488\n",
      "1808.5328431435573\n",
      "0.10647924237586819\n"
     ]
    },
    {
     "name": "stderr",
     "output_type": "stream",
     "text": [
      "\r",
      "t:  49%|████████████████████████████████▌                                 | 622/1260 [06:20<05:43,  1.85it/s, now=None]"
     ]
    },
    {
     "name": "stdout",
     "output_type": "stream",
     "text": [
      "720\n",
      "640.0\n",
      "269.3345092657993\n",
      "972.4373526440789\n",
      "620.8859309549391\n",
      "0.10103150780960755\n",
      "1200.3251194289007\n",
      "1491.6151261778741\n",
      "0.10103150780960755\n"
     ]
    },
    {
     "name": "stderr",
     "output_type": "stream",
     "text": [
      "\r",
      "t:  49%|████████████████████████████████▋                                 | 623/1260 [06:20<05:29,  1.93it/s, now=None]"
     ]
    },
    {
     "name": "stdout",
     "output_type": "stream",
     "text": [
      "720\n",
      "640.0\n",
      "270.70225549040606\n",
      "974.5060080013316\n",
      "622.6041317458688\n",
      "0.09194958934326485\n",
      "1219.7284425009884\n",
      "1639.742404291355\n",
      "0.09194958934326485\n"
     ]
    },
    {
     "name": "stderr",
     "output_type": "stream",
     "text": [
      "\r",
      "t:  50%|████████████████████████████████▋                                 | 624/1260 [06:21<05:27,  1.94it/s, now=None]"
     ]
    },
    {
     "name": "stdout",
     "output_type": "stream",
     "text": [
      "720\n",
      "640.0\n",
      "274.70491335248676\n",
      "977.3760471833945\n",
      "626.0404802679407\n",
      "0.07378603286945648\n",
      "1032.3598860288855\n",
      "1665.516759680476\n",
      "0.07378603286945648\n"
     ]
    },
    {
     "name": "stderr",
     "output_type": "stream",
     "text": [
      "\r",
      "t:  50%|████████████████████████████████▋                                 | 625/1260 [06:21<05:18,  1.99it/s, now=None]"
     ]
    },
    {
     "name": "stdout",
     "output_type": "stream",
     "text": [
      "720\n",
      "640.0\n",
      "278.952882197239\n",
      "978.3317289033254\n",
      "628.6423055502821\n",
      "0.06003352780565167\n",
      "921.6741129553385\n",
      "1648.6674297733755\n",
      "0.06003352780565167\n"
     ]
    },
    {
     "name": "stderr",
     "output_type": "stream",
     "text": [
      "\r",
      "t:  50%|████████████████████████████████▊                                 | 626/1260 [06:22<04:47,  2.20it/s, now=None]"
     ]
    },
    {
     "name": "stdout",
     "output_type": "stream",
     "text": [
      "720\n",
      "640.0\n",
      "287.48097024160626\n",
      "976.4442027349883\n",
      "631.9625864882972\n",
      "0.042483471419000336\n",
      "821.4197898319987\n",
      "1833.4536988544103\n",
      "0.042483471419000336\n"
     ]
    },
    {
     "name": "stderr",
     "output_type": "stream",
     "text": [
      "\r",
      "t:  50%|████████████████████████████████▊                                 | 627/1260 [06:22<04:40,  2.26it/s, now=None]"
     ]
    },
    {
     "name": "stdout",
     "output_type": "stream",
     "text": [
      "720\n",
      "640.0\n",
      "290.87501893632805\n",
      "977.5274994101246\n",
      "634.2012591732264\n",
      "0.03065048722723194\n",
      "818.2879552910307\n",
      "2004.0380917240866\n",
      "0.03065048722723194\n"
     ]
    },
    {
     "name": "stderr",
     "output_type": "stream",
     "text": [
      "\r",
      "t:  50%|████████████████████████████████▉                                 | 628/1260 [06:23<04:44,  2.22it/s, now=None]"
     ]
    },
    {
     "name": "stdout",
     "output_type": "stream",
     "text": [
      "720\n",
      "640.0\n",
      "294.8532797732646\n",
      "978.7131985744093\n",
      "636.7832391738369\n",
      "0.017002878652576214\n",
      "646.3917941360237\n",
      "2915.6899202511167\n",
      "0.017002878652576214\n"
     ]
    },
    {
     "name": "stderr",
     "output_type": "stream",
     "text": [
      "\r",
      "t:  50%|████████████████████████████████▉                                 | 629/1260 [06:23<04:55,  2.13it/s, now=None]"
     ]
    },
    {
     "name": "stdout",
     "output_type": "stream",
     "text": [
      "720\n",
      "640.0\n",
      "297.06199276353595\n",
      "978.4112639760707\n",
      "637.7366283698034\n",
      "0.011963535759610686\n",
      "752.3253092280945\n",
      "2837.7516378132937\n",
      "0.011963535759610686\n"
     ]
    },
    {
     "name": "stderr",
     "output_type": "stream",
     "text": [
      "\r",
      "t:  50%|█████████████████████████████████                                 | 630/1260 [06:24<04:59,  2.10it/s, now=None]"
     ]
    },
    {
     "name": "stdout",
     "output_type": "stream",
     "text": [
      "720\n",
      "640.0\n",
      "294.69312638325215\n",
      "987.8305156520007\n",
      "641.2618210176264\n",
      "-0.006669625378882415\n",
      "859.7021654541697\n",
      "2337.2405611976606\n",
      "-0.006669625378882415\n"
     ]
    },
    {
     "name": "stderr",
     "output_type": "stream",
     "text": [
      "\r",
      "t:  50%|█████████████████████████████████                                 | 631/1260 [06:24<04:59,  2.10it/s, now=None]"
     ]
    },
    {
     "name": "stdout",
     "output_type": "stream",
     "text": [
      "720\n",
      "640.0\n",
      "289.26306238985705\n",
      "994.2079249590046\n",
      "641.7354936744308\n",
      "-0.009173323707705728\n",
      "1074.6862453864421\n",
      "2836.0514605719186\n",
      "-0.009173323707705728\n"
     ]
    },
    {
     "name": "stderr",
     "output_type": "stream",
     "text": [
      "\r",
      "t:  50%|█████████████████████████████████                                 | 632/1260 [06:25<05:13,  2.01it/s, now=None]"
     ]
    },
    {
     "name": "stdout",
     "output_type": "stream",
     "text": [
      "720\n",
      "640.0\n",
      "283.04433689328357\n",
      "995.6560404152949\n",
      "639.3501886542892\n",
      "0.0034347171130425847\n",
      "1321.8379838598696\n",
      "3440.1557322850244\n",
      "0.0034347171130425847\n"
     ]
    },
    {
     "name": "stderr",
     "output_type": "stream",
     "text": [
      "\r",
      "t:  50%|█████████████████████████████████▏                                | 633/1260 [06:25<05:11,  2.02it/s, now=None]"
     ]
    },
    {
     "name": "stdout",
     "output_type": "stream",
     "text": [
      "720\n",
      "640.0\n",
      "279.8848290727861\n",
      "999.365467786999\n",
      "639.6251484298925\n",
      "0.0019813582991394666\n",
      "1503.9632197147475\n",
      "3002.900015651736\n",
      "0.0019813582991394666\n"
     ]
    },
    {
     "name": "stderr",
     "output_type": "stream",
     "text": [
      "\r",
      "t:  50%|█████████████████████████████████▏                                | 634/1260 [06:26<05:39,  1.84it/s, now=None]"
     ]
    },
    {
     "name": "stdout",
     "output_type": "stream",
     "text": [
      "720\n",
      "640.0\n",
      "278.12456385440754\n",
      "998.7554027631645\n",
      "638.439983308786\n",
      "0.008245802510702284\n",
      "1603.348002524525\n",
      "3705.4741382762145\n",
      "0.008245802510702284\n"
     ]
    },
    {
     "name": "stderr",
     "output_type": "stream",
     "text": [
      "\r",
      "t:  50%|█████████████████████████████████▎                                | 635/1260 [06:26<06:00,  1.74it/s, now=None]"
     ]
    },
    {
     "name": "stdout",
     "output_type": "stream",
     "text": [
      "720\n",
      "640.0\n",
      "279.19995311938646\n",
      "1000.1203104054161\n",
      "639.6601317624013\n",
      "0.0017964463987359524\n",
      "1756.5332884589695\n",
      "2275.495825332703\n",
      "0.0017964463987359524\n"
     ]
    },
    {
     "name": "stderr",
     "output_type": "stream",
     "text": [
      "\r",
      "t:  50%|█████████████████████████████████▎                                | 636/1260 [06:27<06:23,  1.63it/s, now=None]"
     ]
    },
    {
     "name": "stdout",
     "output_type": "stream",
     "text": [
      "720\n",
      "640.0\n",
      "283.71361386995045\n",
      "1001.9643010692804\n",
      "642.8389574696155\n",
      "-0.015005918053681821\n",
      "1587.72478685225\n",
      "1241.875855033503\n",
      "-0.015005918053681821\n"
     ]
    },
    {
     "name": "stderr",
     "output_type": "stream",
     "text": [
      "\r",
      "t:  51%|█████████████████████████████████▎                                | 637/1260 [06:28<06:23,  1.62it/s, now=None]"
     ]
    },
    {
     "name": "stdout",
     "output_type": "stream",
     "text": [
      "720\n",
      "640.0\n",
      "291.0014111269775\n",
      "996.3588829745156\n",
      "643.6801470507465\n",
      "-0.01945220583966029\n",
      "1301.4390576464566\n",
      "1361.1859183029344\n",
      "-0.01945220583966029\n"
     ]
    },
    {
     "name": "stderr",
     "output_type": "stream",
     "text": [
      "\r",
      "t:  51%|█████████████████████████████████▍                                | 638/1260 [06:28<06:22,  1.62it/s, now=None]"
     ]
    },
    {
     "name": "stdout",
     "output_type": "stream",
     "text": [
      "720\n",
      "640.0\n",
      "299.4023922486498\n",
      "994.7866232480519\n",
      "647.0945077483509\n",
      "-0.03749954095556908\n",
      "1136.7679502825576\n",
      "1109.1595986265488\n",
      "-0.03749954095556908\n"
     ]
    },
    {
     "name": "stderr",
     "output_type": "stream",
     "text": [
      "\r",
      "t:  51%|█████████████████████████████████▍                                | 639/1260 [06:29<06:49,  1.52it/s, now=None]"
     ]
    },
    {
     "name": "stdout",
     "output_type": "stream",
     "text": [
      "720\n",
      "640.0\n",
      "302.1443666208123\n",
      "994.5021597749302\n",
      "648.3232631978713\n",
      "-0.043994391188748073\n",
      "1314.9268705239758\n",
      "1190.9364511253875\n",
      "-0.043994391188748073\n"
     ]
    },
    {
     "name": "stderr",
     "output_type": "stream",
     "text": [
      "\r",
      "t:  51%|█████████████████████████████████▌                                | 640/1260 [06:30<06:32,  1.58it/s, now=None]"
     ]
    },
    {
     "name": "stdout",
     "output_type": "stream",
     "text": [
      "720\n",
      "640.0\n",
      "303.7246939148059\n",
      "998.2534634428619\n",
      "650.989078678834\n",
      "-0.05808513015955087\n",
      "1306.2013316409978\n",
      "1091.196507877352\n",
      "-0.05808513015955087\n"
     ]
    },
    {
     "name": "stderr",
     "output_type": "stream",
     "text": [
      "\r",
      "t:  51%|█████████████████████████████████▌                                | 641/1260 [06:30<06:21,  1.62it/s, now=None]"
     ]
    },
    {
     "name": "stdout",
     "output_type": "stream",
     "text": [
      "720\n",
      "640.0\n",
      "302.80819482112884\n",
      "1002.4786240946452\n",
      "652.643409457887\n",
      "-0.06682944999168815\n",
      "1480.2718011933198\n",
      "1254.8189325136864\n",
      "-0.06682944999168815\n"
     ]
    },
    {
     "name": "stderr",
     "output_type": "stream",
     "text": [
      "\r",
      "t:  51%|█████████████████████████████████▋                                | 642/1260 [06:31<06:01,  1.71it/s, now=None]"
     ]
    },
    {
     "name": "stdout",
     "output_type": "stream",
     "text": [
      "720\n",
      "640.0\n",
      "302.09083437669256\n",
      "1007.8602857278839\n",
      "654.9755600522883\n",
      "-0.07915653170495246\n",
      "1596.2162451647796\n",
      "1258.0182439427113\n",
      "-0.07915653170495246\n"
     ]
    },
    {
     "name": "stderr",
     "output_type": "stream",
     "text": [
      "\r",
      "t:  51%|█████████████████████████████████▋                                | 643/1260 [06:32<06:43,  1.53it/s, now=None]"
     ]
    },
    {
     "name": "stdout",
     "output_type": "stream",
     "text": [
      "720\n",
      "640.0\n",
      "302.89994824777057\n",
      "1004.497565234893\n",
      "653.6987567413319\n",
      "-0.07240771420418271\n",
      "1796.238138663296\n",
      "1668.7705528483175\n",
      "-0.07240771420418271\n"
     ]
    },
    {
     "name": "stderr",
     "output_type": "stream",
     "text": [
      "\r",
      "t:  51%|█████████████████████████████████▋                                | 644/1260 [06:32<06:47,  1.51it/s, now=None]"
     ]
    },
    {
     "name": "stdout",
     "output_type": "stream",
     "text": [
      "720\n",
      "640.0\n",
      "305.39525666583836\n",
      "1007.4717642813096\n",
      "656.433510473574\n",
      "-0.08686284107460522\n",
      "1958.3248712756215\n",
      "1622.8499326221902\n",
      "-0.08686284107460522\n"
     ]
    },
    {
     "name": "stderr",
     "output_type": "stream",
     "text": [
      "\r",
      "t:  51%|█████████████████████████████████▊                                | 645/1260 [06:33<06:59,  1.47it/s, now=None]"
     ]
    },
    {
     "name": "stdout",
     "output_type": "stream",
     "text": [
      "720\n",
      "640.0\n",
      "309.1308640347944\n",
      "1005.2573724562602\n",
      "657.1941182455273\n",
      "-0.09088319644064434\n",
      "1944.7829732302073\n",
      "2073.2173126579023\n",
      "-0.09088319644064434\n"
     ]
    },
    {
     "name": "stderr",
     "output_type": "stream",
     "text": [
      "\r",
      "t:  51%|█████████████████████████████████▊                                | 646/1260 [06:34<06:32,  1.57it/s, now=None]"
     ]
    },
    {
     "name": "stdout",
     "output_type": "stream",
     "text": [
      "720\n",
      "640.0\n",
      "311.1459303302553\n",
      "1008.0069541668986\n",
      "659.576442248577\n",
      "-0.10347548045676412\n",
      "2273.0717670987397\n",
      "1616.9461474518012\n",
      "-0.10347548045676412\n"
     ]
    },
    {
     "name": "stderr",
     "output_type": "stream",
     "text": [
      "\r",
      "t:  51%|█████████████████████████████████▉                                | 647/1260 [06:34<06:47,  1.50it/s, now=None]"
     ]
    },
    {
     "name": "stdout",
     "output_type": "stream",
     "text": [
      "720\n",
      "640.0\n",
      "314.0175093726426\n",
      "1010.9428855835519\n",
      "662.4801974780972\n",
      "-0.11882390095565684\n",
      "2708.874012866071\n",
      "1257.7048392919676\n",
      "-0.11882390095565684\n"
     ]
    },
    {
     "name": "stderr",
     "output_type": "stream",
     "text": [
      "\r",
      "t:  51%|█████████████████████████████████▉                                | 648/1260 [06:35<06:57,  1.46it/s, now=None]"
     ]
    },
    {
     "name": "stdout",
     "output_type": "stream",
     "text": [
      "720\n",
      "640.0\n",
      "315.89023041938583\n",
      "1012.7703366519451\n",
      "664.3302835356654\n",
      "-0.12860292725994593\n",
      "2531.6463383549362\n",
      "1130.9573741623137\n",
      "-0.12860292725994593\n"
     ]
    },
    {
     "name": "stderr",
     "output_type": "stream",
     "text": [
      "\r",
      "t:  52%|█████████████████████████████████▉                                | 649/1260 [06:36<06:50,  1.49it/s, now=None]"
     ]
    },
    {
     "name": "stdout",
     "output_type": "stream",
     "text": [
      "720\n",
      "640.0\n",
      "318.0707886864874\n",
      "1013.6016907256196\n",
      "665.8362397060534\n",
      "-0.13656298130342537\n",
      "2436.449974414586\n",
      "1025.989356615165\n",
      "-0.13656298130342537\n"
     ]
    },
    {
     "name": "stderr",
     "output_type": "stream",
     "text": [
      "\r",
      "t:  52%|██████████████████████████████████                                | 650/1260 [06:36<06:48,  1.49it/s, now=None]"
     ]
    },
    {
     "name": "stdout",
     "output_type": "stream",
     "text": [
      "720\n",
      "640.0\n",
      "318.8304291135881\n",
      "1011.9522409733798\n",
      "665.391335043484\n",
      "-0.1342113423727011\n",
      "2849.837255903318\n",
      "981.9315203777788\n",
      "-0.1342113423727011\n"
     ]
    },
    {
     "name": "stderr",
     "output_type": "stream",
     "text": [
      "\r",
      "t:  52%|██████████████████████████████████                                | 651/1260 [06:37<06:40,  1.52it/s, now=None]"
     ]
    },
    {
     "name": "stdout",
     "output_type": "stream",
     "text": [
      "720\n",
      "640.0\n",
      "318.78358416055005\n",
      "1009.8848982497448\n",
      "664.3342412051475\n",
      "-0.12862384637006516\n",
      "3033.83432231653\n",
      "1257.8475661363248\n",
      "-0.12862384637006516\n"
     ]
    },
    {
     "name": "stderr",
     "output_type": "stream",
     "text": [
      "\r",
      "t:  52%|██████████████████████████████████▏                               | 652/1260 [06:38<06:29,  1.56it/s, now=None]"
     ]
    },
    {
     "name": "stdout",
     "output_type": "stream",
     "text": [
      "720\n",
      "640.0\n",
      "320.2864144457015\n",
      "1010.6084961733125\n",
      "665.447455309507\n",
      "-0.13450797806453674\n",
      "3147.8412765999665\n",
      "1066.4138964830229\n",
      "-0.13450797806453674\n"
     ]
    },
    {
     "name": "stderr",
     "output_type": "stream",
     "text": [
      "\r",
      "t:  52%|██████████████████████████████████▏                               | 653/1260 [06:38<06:06,  1.65it/s, now=None]"
     ]
    },
    {
     "name": "stdout",
     "output_type": "stream",
     "text": [
      "720\n",
      "640.0\n",
      "323.04383677354764\n",
      "1010.9444202551973\n",
      "666.9941285143725\n",
      "-0.1426832507188261\n",
      "2790.6375710431685\n",
      "945.5954655763782\n",
      "-0.1426832507188261\n"
     ]
    },
    {
     "name": "stderr",
     "output_type": "stream",
     "text": [
      "\r",
      "t:  52%|██████████████████████████████████▎                               | 654/1260 [06:39<05:53,  1.71it/s, now=None]"
     ]
    },
    {
     "name": "stdout",
     "output_type": "stream",
     "text": [
      "720\n",
      "640.0\n",
      "324.62022227135986\n",
      "1010.4360361934057\n",
      "667.5281292323828\n",
      "-0.14550582594259456\n",
      "3460.0608714497052\n",
      "936.9738206345833\n",
      "-0.14550582594259456\n"
     ]
    },
    {
     "name": "stderr",
     "output_type": "stream",
     "text": [
      "\r",
      "t:  52%|██████████████████████████████████▎                               | 655/1260 [06:39<05:59,  1.68it/s, now=None]"
     ]
    },
    {
     "name": "stdout",
     "output_type": "stream",
     "text": [
      "720\n",
      "640.0\n",
      "327.5048182164343\n",
      "1008.9707089057948\n",
      "668.2377635611145\n",
      "-0.14925675025160548\n",
      "3080.058534984723\n",
      "1093.7514611903632\n",
      "-0.14925675025160548\n"
     ]
    },
    {
     "name": "stderr",
     "output_type": "stream",
     "text": [
      "\r",
      "t:  52%|██████████████████████████████████▎                               | 656/1260 [06:40<06:24,  1.57it/s, now=None]"
     ]
    },
    {
     "name": "stdout",
     "output_type": "stream",
     "text": [
      "720\n",
      "640.0\n",
      "330.7174480970493\n",
      "1002.3800222112898\n",
      "666.5487351541695\n",
      "-0.14032902867203906\n",
      "2752.4153460364864\n",
      "2012.8421836045015\n",
      "-0.14032902867203906\n"
     ]
    },
    {
     "name": "stderr",
     "output_type": "stream",
     "text": [
      "\r",
      "t:  52%|██████████████████████████████████▍                               | 657/1260 [06:41<06:14,  1.61it/s, now=None]"
     ]
    },
    {
     "name": "stdout",
     "output_type": "stream",
     "text": [
      "720\n",
      "640.0\n",
      "333.8111635984533\n",
      "1007.3548134084439\n",
      "670.5829885034486\n",
      "-0.1616529392325142\n",
      "1950.689909133688\n",
      "1702.0818522441182\n",
      "-0.1616529392325142\n"
     ]
    },
    {
     "name": "stderr",
     "output_type": "stream",
     "text": [
      "\r",
      "t:  52%|██████████████████████████████████▍                               | 658/1260 [06:41<05:56,  1.69it/s, now=None]"
     ]
    },
    {
     "name": "stdout",
     "output_type": "stream",
     "text": [
      "720\n",
      "640.0\n",
      "336.32867171906275\n",
      "1009.8313843175055\n",
      "673.0800280182841\n",
      "-0.17485157666807316\n",
      "1713.0676796196717\n",
      "1524.7712872456987\n",
      "-0.17485157666807316\n"
     ]
    },
    {
     "name": "stderr",
     "output_type": "stream",
     "text": [
      "\r",
      "t:  52%|██████████████████████████████████▌                               | 659/1260 [06:42<06:09,  1.63it/s, now=None]"
     ]
    },
    {
     "name": "stdout",
     "output_type": "stream",
     "text": [
      "720\n",
      "640.0\n",
      "338.0655768262386\n",
      "1008.192473300249\n",
      "673.1290250632438\n",
      "-0.17511056104857453\n",
      "1564.5444532449064\n",
      "1540.2565824421204\n",
      "-0.17511056104857453\n"
     ]
    },
    {
     "name": "stderr",
     "output_type": "stream",
     "text": [
      "\r",
      "t:  52%|██████████████████████████████████▌                               | 660/1260 [06:42<06:05,  1.64it/s, now=None]"
     ]
    },
    {
     "name": "stdout",
     "output_type": "stream",
     "text": [
      "720\n",
      "640.0\n",
      "338.2420805459004\n",
      "1010.218609043368\n",
      "674.2303447946342\n",
      "-0.18093182248592374\n",
      "1431.9001165160307\n",
      "1361.1048758623888\n",
      "-0.18093182248592374\n"
     ]
    },
    {
     "name": "stderr",
     "output_type": "stream",
     "text": [
      "\r",
      "t:  52%|██████████████████████████████████▌                               | 661/1260 [06:43<05:51,  1.71it/s, now=None]"
     ]
    },
    {
     "name": "stdout",
     "output_type": "stream",
     "text": [
      "720\n",
      "640.0\n",
      "338.8752114390883\n",
      "1009.4624474521851\n",
      "674.1688294456367\n",
      "-0.18060666992693672\n",
      "1327.0857328885636\n",
      "1296.9048365168871\n",
      "-0.18060666992693672\n"
     ]
    },
    {
     "name": "stderr",
     "output_type": "stream",
     "text": [
      "\r",
      "t:  53%|██████████████████████████████████▋                               | 662/1260 [06:43<05:54,  1.69it/s, now=None]"
     ]
    },
    {
     "name": "stdout",
     "output_type": "stream",
     "text": [
      "720\n",
      "640.0\n",
      "339.4945429026177\n",
      "1010.3008175483867\n",
      "674.8976802255022\n",
      "-0.1844591669062259\n",
      "1130.7988967745375\n",
      "1315.7236368413655\n",
      "-0.1844591669062259\n"
     ]
    },
    {
     "name": "stderr",
     "output_type": "stream",
     "text": [
      "\r",
      "t:  53%|██████████████████████████████████▋                               | 663/1260 [06:44<06:19,  1.57it/s, now=None]"
     ]
    },
    {
     "name": "stdout",
     "output_type": "stream",
     "text": [
      "720\n",
      "640.0\n",
      "338.29608564550733\n",
      "1009.9416444294612\n",
      "674.1188650374843\n",
      "-0.18034257234098836\n",
      "1157.4518002121283\n",
      "1564.800819110641\n",
      "-0.18034257234098836\n"
     ]
    },
    {
     "name": "stderr",
     "output_type": "stream",
     "text": [
      "\r",
      "t:  53%|██████████████████████████████████▊                               | 664/1260 [06:45<06:14,  1.59it/s, now=None]"
     ]
    },
    {
     "name": "stdout",
     "output_type": "stream",
     "text": [
      "720\n",
      "640.0\n",
      "337.8549501647667\n",
      "1008.9366245816848\n",
      "673.3957873732257\n",
      "-0.17652059040133608\n",
      "1137.843378153576\n",
      "2464.695263712299\n",
      "-0.17652059040133608\n"
     ]
    },
    {
     "name": "stderr",
     "output_type": "stream",
     "text": [
      "\r",
      "t:  53%|██████████████████████████████████▊                               | 665/1260 [06:45<05:58,  1.66it/s, now=None]"
     ]
    },
    {
     "name": "stdout",
     "output_type": "stream",
     "text": [
      "720\n",
      "640.0\n",
      "336.7969225498754\n",
      "1011.0911739570564\n",
      "673.9440482534659\n",
      "-0.17941854076831973\n",
      "1146.609627665605\n",
      "1845.2272745152616\n",
      "-0.17941854076831973\n"
     ]
    },
    {
     "name": "stderr",
     "output_type": "stream",
     "text": [
      "\r",
      "t:  53%|██████████████████████████████████▉                               | 666/1260 [06:46<05:36,  1.77it/s, now=None]"
     ]
    },
    {
     "name": "stdout",
     "output_type": "stream",
     "text": [
      "720\n",
      "640.0\n",
      "336.5181836982979\n",
      "1012.0394188311868\n",
      "674.2788012647424\n",
      "-0.1811879495422096\n",
      "1178.1260312859106\n",
      "1681.6894879003898\n",
      "-0.1811879495422096\n"
     ]
    },
    {
     "name": "stderr",
     "output_type": "stream",
     "text": [
      "\r",
      "t:  53%|██████████████████████████████████▉                               | 667/1260 [06:46<05:23,  1.83it/s, now=None]"
     ]
    },
    {
     "name": "stdout",
     "output_type": "stream",
     "text": [
      "720\n",
      "640.0\n",
      "336.6458069434821\n",
      "1012.0695785295399\n",
      "674.357692736511\n",
      "-0.1816049473215582\n",
      "1167.7303980404838\n",
      "1584.9482744203772\n",
      "-0.1816049473215582\n"
     ]
    },
    {
     "name": "stderr",
     "output_type": "stream",
     "text": [
      "\r",
      "t:  53%|██████████████████████████████████▉                               | 668/1260 [06:47<05:10,  1.91it/s, now=None]"
     ]
    },
    {
     "name": "stdout",
     "output_type": "stream",
     "text": [
      "720\n",
      "640.0\n",
      "336.80250861707566\n",
      "1010.7894170373057\n",
      "673.7959628271907\n",
      "-0.17863580351515082\n",
      "1164.012459120121\n",
      "2914.5318073522203\n",
      "-0.17863580351515082\n"
     ]
    },
    {
     "name": "stderr",
     "output_type": "stream",
     "text": [
      "\r",
      "t:  53%|███████████████████████████████████                               | 669/1260 [06:47<05:40,  1.74it/s, now=None]"
     ]
    },
    {
     "name": "stdout",
     "output_type": "stream",
     "text": [
      "720\n",
      "640.0\n",
      "334.97671226844324\n",
      "1011.9123369984735\n",
      "673.4445246334584\n",
      "-0.1767782016339944\n",
      "1327.2507900786204\n",
      "2766.3683441604703\n",
      "-0.1767782016339944\n"
     ]
    },
    {
     "name": "stderr",
     "output_type": "stream",
     "text": [
      "\r",
      "t:  53%|███████████████████████████████████                               | 670/1260 [06:48<05:48,  1.69it/s, now=None]"
     ]
    },
    {
     "name": "stdout",
     "output_type": "stream",
     "text": [
      "720\n",
      "640.0\n",
      "334.0108277367674\n",
      "1018.663058219703\n",
      "676.3369429782351\n",
      "-0.19206669859924283\n",
      "1401.5766716995738\n",
      "1905.9741631561612\n",
      "-0.19206669859924283\n"
     ]
    },
    {
     "name": "stderr",
     "output_type": "stream",
     "text": [
      "\r",
      "t:  53%|███████████████████████████████████▏                              | 671/1260 [06:49<05:44,  1.71it/s, now=None]"
     ]
    },
    {
     "name": "stdout",
     "output_type": "stream",
     "text": [
      "720\n",
      "640.0\n",
      "333.38149633628205\n",
      "1018.1937243340053\n",
      "675.7876103351437\n",
      "-0.18916308320004505\n",
      "1463.7969785133173\n",
      "2029.5151845860205\n",
      "-0.18916308320004505\n"
     ]
    },
    {
     "name": "stderr",
     "output_type": "stream",
     "text": [
      "\r",
      "t:  53%|███████████████████████████████████▏                              | 672/1260 [06:49<05:42,  1.72it/s, now=None]"
     ]
    },
    {
     "name": "stdout",
     "output_type": "stream",
     "text": [
      "720\n",
      "640.0\n",
      "332.749910006368\n",
      "1016.3307271679079\n",
      "674.5403185871379\n",
      "-0.1825702553891575\n",
      "1622.319696724075\n",
      "2614.3906297641884\n",
      "-0.1825702553891575\n"
     ]
    },
    {
     "name": "stderr",
     "output_type": "stream",
     "text": [
      "\r",
      "t:  53%|███████████████████████████████████▎                              | 673/1260 [06:50<05:42,  1.71it/s, now=None]"
     ]
    },
    {
     "name": "stdout",
     "output_type": "stream",
     "text": [
      "720\n",
      "640.0\n",
      "334.039888163706\n",
      "1021.0396335059676\n",
      "677.5397608348368\n",
      "-0.19842445012699444\n",
      "1540.33712064949\n",
      "1532.6130992859\n",
      "-0.19842445012699444\n"
     ]
    },
    {
     "name": "stderr",
     "output_type": "stream",
     "text": [
      "\r",
      "t:  53%|███████████████████████████████████▎                              | 674/1260 [06:50<05:39,  1.73it/s, now=None]"
     ]
    },
    {
     "name": "stdout",
     "output_type": "stream",
     "text": [
      "720\n",
      "640.0\n",
      "333.23564856272964\n",
      "1019.444507717776\n",
      "676.3400781402528\n",
      "-0.1920832701699076\n",
      "1685.489663198017\n",
      "1723.1222589087276\n",
      "-0.1920832701699076\n"
     ]
    },
    {
     "name": "stderr",
     "output_type": "stream",
     "text": [
      "\r",
      "t:  54%|███████████████████████████████████▎                              | 675/1260 [06:51<05:33,  1.76it/s, now=None]"
     ]
    },
    {
     "name": "stdout",
     "output_type": "stream",
     "text": [
      "720\n",
      "640.0\n",
      "334.0941645020686\n",
      "1020.2086991502299\n",
      "677.1514318261493\n",
      "-0.19637185393821768\n",
      "1653.6515652175924\n",
      "1623.774991081301\n",
      "-0.19637185393821768\n"
     ]
    },
    {
     "name": "stderr",
     "output_type": "stream",
     "text": [
      "\r",
      "t:  54%|███████████████████████████████████▍                              | 676/1260 [06:51<05:20,  1.82it/s, now=None]"
     ]
    },
    {
     "name": "stdout",
     "output_type": "stream",
     "text": [
      "720\n",
      "640.0\n",
      "333.8300549238935\n",
      "1018.6894069844556\n",
      "676.2597309541745\n",
      "-0.1916585779006368\n",
      "1808.6972534911554\n",
      "1989.2523582476074\n",
      "-0.1916585779006368\n"
     ]
    },
    {
     "name": "stderr",
     "output_type": "stream",
     "text": [
      "\r",
      "t:  54%|███████████████████████████████████▍                              | 677/1260 [06:52<05:10,  1.88it/s, now=None]"
     ]
    },
    {
     "name": "stdout",
     "output_type": "stream",
     "text": [
      "720\n",
      "640.0\n",
      "334.6100356545261\n",
      "1019.4606734085194\n",
      "677.0353545315227\n",
      "-0.1957583025237627\n",
      "1881.5713913015775\n",
      "1607.802190202647\n",
      "-0.1957583025237627\n"
     ]
    },
    {
     "name": "stderr",
     "output_type": "stream",
     "text": [
      "\r",
      "t:  54%|███████████████████████████████████▌                              | 678/1260 [06:53<05:18,  1.83it/s, now=None]"
     ]
    },
    {
     "name": "stdout",
     "output_type": "stream",
     "text": [
      "720\n",
      "640.0\n",
      "333.96126902564566\n",
      "1019.8553200238583\n",
      "676.908294524752\n",
      "-0.19508669963083214\n",
      "2369.203966485548\n",
      "1584.527795571233\n",
      "-0.19508669963083214\n"
     ]
    },
    {
     "name": "stderr",
     "output_type": "stream",
     "text": [
      "\r",
      "t:  54%|███████████████████████████████████▌                              | 679/1260 [06:53<05:14,  1.85it/s, now=None]"
     ]
    },
    {
     "name": "stdout",
     "output_type": "stream",
     "text": [
      "720\n",
      "640.0\n",
      "335.0165961299196\n",
      "1020.1256784891975\n",
      "677.5711373095586\n",
      "-0.19859029720766685\n",
      "2376.9099174540124\n",
      "2116.9522115078403\n",
      "-0.19859029720766685\n"
     ]
    },
    {
     "name": "stderr",
     "output_type": "stream",
     "text": [
      "\r",
      "t:  54%|███████████████████████████████████▌                              | 680/1260 [06:54<05:20,  1.81it/s, now=None]"
     ]
    },
    {
     "name": "stdout",
     "output_type": "stream",
     "text": [
      "720\n",
      "640.0\n",
      "336.4464597511736\n",
      "1018.692506872435\n",
      "677.5694833118043\n",
      "-0.19858155464810862\n",
      "2446.840803526759\n",
      "1891.9693954053591\n",
      "-0.19858155464810862\n"
     ]
    },
    {
     "name": "stderr",
     "output_type": "stream",
     "text": [
      "\r",
      "t:  54%|███████████████████████████████████▋                              | 681/1260 [06:54<05:43,  1.69it/s, now=None]"
     ]
    },
    {
     "name": "stdout",
     "output_type": "stream",
     "text": [
      "720\n",
      "640.0\n",
      "337.571557096137\n",
      "1013.5222557783397\n",
      "675.5469064372384\n",
      "-0.18789079116825994\n",
      "2259.141806929441\n",
      "2949.357261137555\n",
      "-0.18789079116825994\n"
     ]
    },
    {
     "name": "stderr",
     "output_type": "stream",
     "text": [
      "\r",
      "t:  54%|███████████████████████████████████▋                              | 682/1260 [06:55<05:32,  1.74it/s, now=None]"
     ]
    },
    {
     "name": "stdout",
     "output_type": "stream",
     "text": [
      "720\n",
      "640.0\n",
      "338.23031035631965\n",
      "1020.2014802665917\n",
      "679.2158953114557\n",
      "-0.20728401807483735\n",
      "2286.4406654179343\n",
      "1839.490282126039\n",
      "-0.20728401807483735\n"
     ]
    },
    {
     "name": "stderr",
     "output_type": "stream",
     "text": [
      "\r",
      "t:  54%|███████████████████████████████████▊                              | 683/1260 [06:56<06:04,  1.58it/s, now=None]"
     ]
    },
    {
     "name": "stdout",
     "output_type": "stream",
     "text": [
      "720\n",
      "640.0\n",
      "338.4389653026618\n",
      "1019.6708432168148\n",
      "679.0549042597384\n",
      "-0.2064330653729027\n",
      "2487.0458433026465\n",
      "1840.742851358129\n",
      "-0.2064330653729027\n"
     ]
    },
    {
     "name": "stderr",
     "output_type": "stream",
     "text": [
      "\r",
      "t:  54%|███████████████████████████████████▊                              | 684/1260 [06:56<05:43,  1.68it/s, now=None]"
     ]
    },
    {
     "name": "stdout",
     "output_type": "stream",
     "text": [
      "720\n",
      "640.0\n",
      "338.79755608080586\n",
      "1021.1631656536033\n",
      "679.9803608672046\n",
      "-0.21132476458379565\n",
      "2709.758143031273\n",
      "1634.4493708501127\n",
      "-0.21132476458379565\n"
     ]
    },
    {
     "name": "stderr",
     "output_type": "stream",
     "text": [
      "\r",
      "t:  54%|███████████████████████████████████▉                              | 685/1260 [06:57<05:52,  1.63it/s, now=None]"
     ]
    },
    {
     "name": "stdout",
     "output_type": "stream",
     "text": [
      "720\n",
      "640.0\n",
      "339.37005627109727\n",
      "1030.0911823029107\n",
      "684.730619287004\n",
      "-0.23643327337416373\n",
      "2358.955788198799\n",
      "992.3096975489084\n",
      "-0.23643327337416373\n"
     ]
    },
    {
     "name": "stderr",
     "output_type": "stream",
     "text": [
      "\r",
      "t:  54%|███████████████████████████████████▉                              | 686/1260 [06:57<05:52,  1.63it/s, now=None]"
     ]
    },
    {
     "name": "stdout",
     "output_type": "stream",
     "text": [
      "720\n",
      "640.0\n",
      "340.11536165821735\n",
      "1026.5904283801997\n",
      "683.3528950192085\n",
      "-0.22915101653010217\n",
      "2440.6777849317914\n",
      "1099.0742693464924\n",
      "-0.22915101653010217\n"
     ]
    },
    {
     "name": "stderr",
     "output_type": "stream",
     "text": [
      "\r",
      "t:  55%|███████████████████████████████████▉                              | 687/1260 [06:58<05:53,  1.62it/s, now=None]"
     ]
    },
    {
     "name": "stdout",
     "output_type": "stream",
     "text": [
      "720\n",
      "640.0\n",
      "341.80849737490917\n",
      "1024.1204073372708\n",
      "682.96445235609\n",
      "-0.22709781959647554\n",
      "2049.080360194796\n",
      "1071.0420731886854\n",
      "-0.22709781959647554\n"
     ]
    },
    {
     "name": "stderr",
     "output_type": "stream",
     "text": [
      "\r",
      "t:  55%|████████████████████████████████████                              | 688/1260 [06:59<05:31,  1.72it/s, now=None]"
     ]
    },
    {
     "name": "stdout",
     "output_type": "stream",
     "text": [
      "720\n",
      "640.0\n",
      "341.7988011193326\n",
      "1020.9468271247654\n",
      "681.372814122049\n",
      "-0.21868487464511627\n",
      "2127.8954557277675\n",
      "1257.462864209048\n",
      "-0.21868487464511627\n"
     ]
    },
    {
     "name": "stderr",
     "output_type": "stream",
     "text": [
      "\r",
      "t:  55%|████████████████████████████████████                              | 689/1260 [06:59<05:30,  1.73it/s, now=None]"
     ]
    },
    {
     "name": "stdout",
     "output_type": "stream",
     "text": [
      "720\n",
      "640.0\n",
      "341.7508911607466\n",
      "1020.2620607150617\n",
      "681.0064759379042\n",
      "-0.2167485156717791\n",
      "2060.0052790330687\n",
      "1440.1122337323666\n",
      "-0.2167485156717791\n"
     ]
    },
    {
     "name": "stderr",
     "output_type": "stream",
     "text": [
      "\r",
      "t:  55%|████████████████████████████████████▏                             | 690/1260 [07:00<05:38,  1.69it/s, now=None]"
     ]
    },
    {
     "name": "stdout",
     "output_type": "stream",
     "text": [
      "720\n",
      "640.0\n",
      "340.90298022814096\n",
      "1021.5027373087119\n",
      "681.2028587684264\n",
      "-0.21778653920453944\n",
      "2284.268669869979\n",
      "1349.5553126981958\n",
      "-0.21778653920453944\n"
     ]
    },
    {
     "name": "stderr",
     "output_type": "stream",
     "text": [
      "\r",
      "t:  55%|████████████████████████████████████▏                             | 691/1260 [07:01<06:11,  1.53it/s, now=None]"
     ]
    },
    {
     "name": "stdout",
     "output_type": "stream",
     "text": [
      "720\n",
      "640.0\n",
      "340.4186187361413\n",
      "1020.8868113735543\n",
      "680.6527150548478\n",
      "-0.21487863671848134\n",
      "2435.7646220284932\n",
      "1336.2029897806904\n",
      "-0.21487863671848134\n"
     ]
    },
    {
     "name": "stderr",
     "output_type": "stream",
     "text": [
      "\r",
      "t:  55%|████████████████████████████████████▏                             | 692/1260 [07:01<06:14,  1.52it/s, now=None]"
     ]
    },
    {
     "name": "stdout",
     "output_type": "stream",
     "text": [
      "720\n",
      "640.0\n",
      "341.8820273103239\n",
      "1019.7751399171611\n",
      "680.8285836137425\n",
      "-0.21580822767263877\n",
      "2378.4894029157326\n",
      "1249.4220721903994\n",
      "-0.21580822767263877\n"
     ]
    },
    {
     "name": "stderr",
     "output_type": "stream",
     "text": [
      "\r",
      "t:  55%|████████████████████████████████████▎                             | 693/1260 [07:02<05:51,  1.61it/s, now=None]"
     ]
    },
    {
     "name": "stdout",
     "output_type": "stream",
     "text": [
      "720\n",
      "640.0\n",
      "342.48644753061876\n",
      "1011.856385897899\n",
      "677.1714167142588\n",
      "-0.19647748834679674\n",
      "2351.683835548595\n",
      "3038.160704507442\n",
      "-0.19647748834679674\n"
     ]
    },
    {
     "name": "stderr",
     "output_type": "stream",
     "text": [
      "\r",
      "t:  55%|████████████████████████████████████▎                             | 694/1260 [07:02<05:34,  1.69it/s, now=None]"
     ]
    },
    {
     "name": "stdout",
     "output_type": "stream",
     "text": [
      "720\n",
      "640.0\n",
      "343.3390779327985\n",
      "1009.5051473633673\n",
      "676.4221126480829\n",
      "-0.19251688113986692\n",
      "2073.1811601672684\n",
      "2697.749244446085\n",
      "-0.19251688113986692\n"
     ]
    },
    {
     "name": "stderr",
     "output_type": "stream",
     "text": [
      "\r",
      "t:  55%|████████████████████████████████████▍                             | 695/1260 [07:03<05:20,  1.76it/s, now=None]"
     ]
    },
    {
     "name": "stdout",
     "output_type": "stream",
     "text": [
      "720\n",
      "640.0\n",
      "342.747181673717\n",
      "1007.4315911734088\n",
      "675.0893864235629\n",
      "-0.18547247109597548\n",
      "1932.9438576146667\n",
      "3577.914916760153\n",
      "-0.18547247109597548\n"
     ]
    },
    {
     "name": "stderr",
     "output_type": "stream",
     "text": [
      "\r",
      "t:  55%|████████████████████████████████████▍                             | 696/1260 [07:03<05:14,  1.79it/s, now=None]"
     ]
    },
    {
     "name": "stdout",
     "output_type": "stream",
     "text": [
      "720\n",
      "640.0\n",
      "343.6587122626237\n",
      "1011.8100256247864\n",
      "677.734368943705\n",
      "-0.1994530929881551\n",
      "1696.0874924077284\n",
      "2705.6008107644757\n",
      "-0.1994530929881551\n"
     ]
    },
    {
     "name": "stderr",
     "output_type": "stream",
     "text": [
      "\r",
      "t:  55%|████████████████████████████████████▌                             | 697/1260 [07:04<05:07,  1.83it/s, now=None]"
     ]
    },
    {
     "name": "stdout",
     "output_type": "stream",
     "text": [
      "720\n",
      "640.0\n",
      "343.06368426994106\n",
      "1011.8473521269252\n",
      "677.4555181984331\n",
      "-0.19797916762028916\n",
      "1718.513576402824\n",
      "2632.545104537831\n",
      "-0.19797916762028916\n"
     ]
    },
    {
     "name": "stderr",
     "output_type": "stream",
     "text": [
      "\r",
      "t:  55%|████████████████████████████████████▌                             | 698/1260 [07:04<05:26,  1.72it/s, now=None]"
     ]
    },
    {
     "name": "stdout",
     "output_type": "stream",
     "text": [
      "720\n",
      "640.0\n",
      "344.6855305391337\n",
      "1014.8612989787828\n",
      "679.7734147589582\n",
      "-0.21023090658306484\n",
      "1404.2657110814364\n",
      "1886.4837023504338\n",
      "-0.21023090658306484\n"
     ]
    },
    {
     "name": "stderr",
     "output_type": "stream",
     "text": [
      "\r",
      "t:  55%|████████████████████████████████████▌                             | 699/1260 [07:05<05:18,  1.76it/s, now=None]"
     ]
    },
    {
     "name": "stdout",
     "output_type": "stream",
     "text": [
      "720\n",
      "640.0\n",
      "345.9006089744299\n",
      "1013.5258523553692\n",
      "679.7132306648996\n",
      "-0.20991279065732638\n",
      "1190.429620687348\n",
      "2221.3326200014776\n",
      "-0.20991279065732638\n"
     ]
    },
    {
     "name": "stderr",
     "output_type": "stream",
     "text": [
      "\r",
      "t:  56%|████████████████████████████████████▋                             | 700/1260 [07:06<05:16,  1.77it/s, now=None]"
     ]
    },
    {
     "name": "stdout",
     "output_type": "stream",
     "text": [
      "720\n",
      "640.0\n",
      "346.8738251298915\n",
      "1011.9420306402411\n",
      "679.4079278850663\n",
      "-0.20829904739249347\n",
      "1060.0763746038408\n",
      "4321.81162172977\n",
      "-0.20829904739249347\n"
     ]
    },
    {
     "name": "stderr",
     "output_type": "stream",
     "text": [
      "\r",
      "t:  56%|████████████████████████████████████▋                             | 701/1260 [07:06<05:19,  1.75it/s, now=None]"
     ]
    },
    {
     "name": "stdout",
     "output_type": "stream",
     "text": [
      "720\n",
      "640.0\n",
      "346.8412264444758\n",
      "1016.1296591498448\n",
      "681.4854427971603\n",
      "-0.2192801976421331\n",
      "1007.969565376614\n",
      "1376.0947749620411\n",
      "-0.2192801976421331\n"
     ]
    },
    {
     "name": "stderr",
     "output_type": "stream",
     "text": [
      "\r",
      "t:  56%|████████████████████████████████████▊                             | 702/1260 [07:07<05:02,  1.84it/s, now=None]"
     ]
    },
    {
     "name": "stdout",
     "output_type": "stream",
     "text": [
      "720\n",
      "640.0\n",
      "346.5332052860771\n",
      "1014.4733793120295\n",
      "680.5032922990533\n",
      "-0.2140888307235676\n",
      "985.3666254216831\n",
      "1641.9495961816003\n",
      "-0.2140888307235676\n"
     ]
    },
    {
     "name": "stderr",
     "output_type": "stream",
     "text": [
      "\r",
      "t:  56%|████████████████████████████████████▊                             | 703/1260 [07:07<04:59,  1.86it/s, now=None]"
     ]
    },
    {
     "name": "stdout",
     "output_type": "stream",
     "text": [
      "720\n",
      "640.0\n",
      "344.3667008184793\n",
      "1014.7330402717668\n",
      "679.549870545123\n",
      "-0.2090493157385072\n",
      "1058.1273874086046\n",
      "1749.6039235130208\n",
      "-0.2090493157385072\n"
     ]
    },
    {
     "name": "stderr",
     "output_type": "stream",
     "text": [
      "\r",
      "t:  56%|████████████████████████████████████▉                             | 704/1260 [07:08<04:53,  1.89it/s, now=None]"
     ]
    },
    {
     "name": "stdout",
     "output_type": "stream",
     "text": [
      "720\n",
      "640.0\n",
      "343.02326483697476\n",
      "1013.9770866413028\n",
      "678.5001757391387\n",
      "-0.2035009289068762\n",
      "1117.0366121693094\n",
      "2150.979045961535\n",
      "-0.2035009289068762\n"
     ]
    },
    {
     "name": "stderr",
     "output_type": "stream",
     "text": [
      "\r",
      "t:  56%|████████████████████████████████████▉                             | 705/1260 [07:08<05:26,  1.70it/s, now=None]"
     ]
    },
    {
     "name": "stdout",
     "output_type": "stream",
     "text": [
      "720\n",
      "640.0\n",
      "341.43263473205184\n",
      "1018.0052308079528\n",
      "679.7189327700023\n",
      "-0.2099429303557265\n",
      "1210.02886846563\n",
      "1722.7854267476694\n",
      "-0.2099429303557265\n"
     ]
    },
    {
     "name": "stderr",
     "output_type": "stream",
     "text": [
      "\r",
      "t:  56%|████████████████████████████████████▉                             | 706/1260 [07:09<05:38,  1.64it/s, now=None]"
     ]
    },
    {
     "name": "stdout",
     "output_type": "stream",
     "text": [
      "720\n",
      "640.0\n",
      "340.15335749150165\n",
      "1019.1294601443451\n",
      "679.6414088179233\n",
      "-0.20953316089473756\n",
      "1271.899032353976\n",
      "1503.971028826154\n",
      "-0.20953316089473756\n"
     ]
    },
    {
     "name": "stderr",
     "output_type": "stream",
     "text": [
      "\r",
      "t:  56%|█████████████████████████████████████                             | 707/1260 [07:10<05:30,  1.67it/s, now=None]"
     ]
    },
    {
     "name": "stdout",
     "output_type": "stream",
     "text": [
      "720\n",
      "640.0\n",
      "337.717324648466\n",
      "1020.8865499434204\n",
      "679.3019372959432\n",
      "-0.20773881142141387\n",
      "1492.6305541384027\n",
      "1358.7093072918817\n",
      "-0.20773881142141387\n"
     ]
    },
    {
     "name": "stderr",
     "output_type": "stream",
     "text": [
      "\r",
      "t:  56%|█████████████████████████████████████                             | 708/1260 [07:10<05:38,  1.63it/s, now=None]"
     ]
    },
    {
     "name": "stdout",
     "output_type": "stream",
     "text": [
      "720\n",
      "640.0\n",
      "336.23803259290264\n",
      "1020.5605233314783\n",
      "678.3992779621905\n",
      "-0.20296761208586392\n",
      "1625.9801790824931\n",
      "1305.425413496462\n",
      "-0.20296761208586392\n"
     ]
    },
    {
     "name": "stderr",
     "output_type": "stream",
     "text": [
      "\r",
      "t:  56%|█████████████████████████████████████▏                            | 709/1260 [07:11<05:21,  1.72it/s, now=None]"
     ]
    },
    {
     "name": "stdout",
     "output_type": "stream",
     "text": [
      "720\n",
      "640.0\n",
      "335.40975740135264\n",
      "1024.8176786976464\n",
      "680.1137180494995\n",
      "-0.21202965254735473\n",
      "1634.4901674519383\n",
      "995.8220414683638\n",
      "-0.21202965254735473\n"
     ]
    },
    {
     "name": "stderr",
     "output_type": "stream",
     "text": [
      "\r",
      "t:  56%|█████████████████████████████████████▏                            | 710/1260 [07:11<05:17,  1.73it/s, now=None]"
     ]
    },
    {
     "name": "stdout",
     "output_type": "stream",
     "text": [
      "720\n",
      "640.0\n",
      "336.13101438452657\n",
      "1020.5748184971993\n",
      "678.3529164408629\n",
      "-0.20272255833027555\n",
      "1507.011124624206\n",
      "1020.1599793158796\n",
      "-0.20272255833027555\n"
     ]
    },
    {
     "name": "stderr",
     "output_type": "stream",
     "text": [
      "\r",
      "t:  56%|█████████████████████████████████████▏                            | 711/1260 [07:12<05:01,  1.82it/s, now=None]"
     ]
    },
    {
     "name": "stdout",
     "output_type": "stream",
     "text": [
      "720\n",
      "640.0\n",
      "335.6151926053794\n",
      "1018.5243578063724\n",
      "677.0697752058759\n",
      "-0.19594024037391541\n",
      "1614.3462027610756\n",
      "1044.633796084473\n",
      "-0.19594024037391541\n"
     ]
    },
    {
     "name": "stderr",
     "output_type": "stream",
     "text": [
      "\r",
      "t:  57%|█████████████████████████████████████▎                            | 712/1260 [07:12<04:57,  1.84it/s, now=None]"
     ]
    },
    {
     "name": "stdout",
     "output_type": "stream",
     "text": [
      "720\n",
      "640.0\n",
      "336.4640392543548\n",
      "1016.8546573214859\n",
      "676.6593482879204\n",
      "-0.19377084095043615\n",
      "1553.3147536520378\n",
      "1055.65962961731\n",
      "-0.19377084095043615\n"
     ]
    },
    {
     "name": "stderr",
     "output_type": "stream",
     "text": [
      "\r",
      "t:  57%|█████████████████████████████████████▎                            | 713/1260 [07:13<05:00,  1.82it/s, now=None]"
     ]
    },
    {
     "name": "stdout",
     "output_type": "stream",
     "text": [
      "720\n",
      "640.0\n",
      "335.7209095776243\n",
      "1014.9630543268011\n",
      "675.3419819522127\n",
      "-0.186807618890267\n",
      "1566.200116504352\n",
      "1167.4491001547588\n",
      "-0.186807618890267\n"
     ]
    },
    {
     "name": "stderr",
     "output_type": "stream",
     "text": [
      "\r",
      "t:  57%|█████████████████████████████████████▍                            | 714/1260 [07:13<04:55,  1.85it/s, now=None]"
     ]
    },
    {
     "name": "stdout",
     "output_type": "stream",
     "text": [
      "720\n",
      "640.0\n",
      "335.7656325771473\n",
      "1013.529465228532\n",
      "674.6475489028396\n",
      "-0.1831370442007237\n",
      "1567.9799756821346\n",
      "1174.68724790943\n",
      "-0.1831370442007237\n"
     ]
    },
    {
     "name": "stderr",
     "output_type": "stream",
     "text": [
      "\r",
      "t:  57%|█████████████████████████████████████▍                            | 715/1260 [07:14<05:00,  1.82it/s, now=None]"
     ]
    },
    {
     "name": "stdout",
     "output_type": "stream",
     "text": [
      "720\n",
      "640.0\n",
      "337.69659866998325\n",
      "1012.1309548326318\n",
      "674.9137767513075\n",
      "-0.1845442485426255\n",
      "1486.4452397830478\n",
      "1104.4421886658315\n",
      "-0.1845442485426255\n"
     ]
    },
    {
     "name": "stderr",
     "output_type": "stream",
     "text": [
      "\r",
      "t:  57%|█████████████████████████████████████▌                            | 716/1260 [07:15<04:48,  1.89it/s, now=None]"
     ]
    },
    {
     "name": "stdout",
     "output_type": "stream",
     "text": [
      "720\n",
      "640.0\n",
      "337.98287795315093\n",
      "1246.451730932578\n",
      "792.2173044428644\n",
      "-0.8045771806265688\n",
      "1521.6148637093606\n",
      "80.07914033300966\n",
      "-0.8045771806265688\n"
     ]
    },
    {
     "name": "stderr",
     "output_type": "stream",
     "text": [
      "\r",
      "t:  57%|█████████████████████████████████████▌                            | 717/1260 [07:15<04:38,  1.95it/s, now=None]"
     ]
    },
    {
     "name": "stdout",
     "output_type": "stream",
     "text": [
      "720\n",
      "640.0\n",
      "338.8660529414012\n",
      "1257.5957874271978\n",
      "798.2309201842995\n",
      "-0.8363634352598689\n",
      "1536.2897800244389\n",
      "68.28047874590075\n",
      "-0.8363634352598689\n"
     ]
    },
    {
     "name": "stderr",
     "output_type": "stream",
     "text": [
      "\r",
      "t:  57%|█████████████████████████████████████▌                            | 718/1260 [07:16<05:01,  1.80it/s, now=None]"
     ]
    },
    {
     "name": "stdout",
     "output_type": "stream",
     "text": [
      "720\n",
      "640.0\n",
      "338.17257213126635\n",
      "1009.8973270472828\n",
      "674.0349495892746\n",
      "-0.1798990192575941\n",
      "1648.9830364653028\n",
      "1649.4049151657\n",
      "-0.1798990192575941\n"
     ]
    },
    {
     "name": "stderr",
     "output_type": "stream",
     "text": [
      "\r",
      "t:  57%|█████████████████████████████████████▋                            | 719/1260 [07:16<04:51,  1.86it/s, now=None]"
     ]
    },
    {
     "name": "stdout",
     "output_type": "stream",
     "text": [
      "720\n",
      "640.0\n",
      "337.3594898416871\n",
      "1012.5493289009052\n",
      "674.9544093712962\n",
      "-0.18475902096256538\n",
      "1846.8728422059303\n",
      "1640.7961586044269\n",
      "-0.18475902096256538\n"
     ]
    },
    {
     "name": "stderr",
     "output_type": "stream",
     "text": [
      "\r",
      "t:  57%|█████████████████████████████████████▋                            | 720/1260 [07:17<05:28,  1.65it/s, now=None]"
     ]
    },
    {
     "name": "stdout",
     "output_type": "stream",
     "text": [
      "720\n",
      "640.0\n",
      "338.18202389047224\n",
      "1013.2746478368206\n",
      "675.7283358636464\n",
      "-0.18884977527927388\n",
      "1749.3719639552758\n",
      "1509.9809763459918\n",
      "-0.18884977527927388\n"
     ]
    },
    {
     "name": "stderr",
     "output_type": "stream",
     "text": [
      "\r",
      "t:  57%|█████████████████████████████████████▊                            | 721/1260 [07:18<05:55,  1.51it/s, now=None]"
     ]
    },
    {
     "name": "stdout",
     "output_type": "stream",
     "text": [
      "720\n",
      "640.0\n",
      "337.71673092588276\n",
      "1014.8780997120914\n",
      "676.2974153189871\n",
      "-0.19185776668607457\n",
      "1914.2899390274968\n",
      "1396.722644590036\n",
      "-0.19185776668607457\n"
     ]
    },
    {
     "name": "stderr",
     "output_type": "stream",
     "text": [
      "\r",
      "t:  57%|█████████████████████████████████████▊                            | 722/1260 [07:18<05:55,  1.51it/s, now=None]"
     ]
    },
    {
     "name": "stdout",
     "output_type": "stream",
     "text": [
      "720\n",
      "640.0\n",
      "337.50074629231875\n",
      "1020.9394118169171\n",
      "679.2200790546179\n",
      "-0.2073061321458377\n",
      "2161.820582451249\n",
      "1058.3028417786243\n",
      "-0.2073061321458377\n"
     ]
    },
    {
     "name": "stderr",
     "output_type": "stream",
     "text": [
      "\r",
      "t:  57%|█████████████████████████████████████▊                            | 723/1260 [07:19<05:59,  1.49it/s, now=None]"
     ]
    },
    {
     "name": "stdout",
     "output_type": "stream",
     "text": [
      "720\n",
      "640.0\n",
      "337.464691815946\n",
      "1021.0314032314307\n",
      "679.2480475236883\n",
      "-0.20745396548235268\n",
      "2299.008533666179\n",
      "966.082812931334\n",
      "-0.20745396548235268\n"
     ]
    },
    {
     "name": "stderr",
     "output_type": "stream",
     "text": [
      "\r",
      "t:  57%|█████████████████████████████████████▉                            | 724/1260 [07:20<05:42,  1.56it/s, now=None]"
     ]
    },
    {
     "name": "stdout",
     "output_type": "stream",
     "text": [
      "720\n",
      "640.0\n",
      "338.32437169730963\n",
      "1020.5525591182399\n",
      "679.4384654077747\n",
      "-0.20846046001252366\n",
      "2290.9202927839306\n",
      "1031.2083441237207\n",
      "-0.20846046001252366\n"
     ]
    },
    {
     "name": "stderr",
     "output_type": "stream",
     "text": [
      "\r",
      "t:  58%|█████████████████████████████████████▉                            | 725/1260 [07:20<05:38,  1.58it/s, now=None]"
     ]
    },
    {
     "name": "stdout",
     "output_type": "stream",
     "text": [
      "720\n",
      "640.0\n",
      "339.19634172146084\n",
      "1019.7653369874612\n",
      "679.4808393544611\n",
      "-0.20868443658786565\n",
      "1983.2023996301273\n",
      "1004.4408029779513\n",
      "-0.20868443658786565\n"
     ]
    },
    {
     "name": "stderr",
     "output_type": "stream",
     "text": [
      "\r",
      "t:  58%|██████████████████████████████████████                            | 726/1260 [07:21<05:48,  1.53it/s, now=None]"
     ]
    },
    {
     "name": "stdout",
     "output_type": "stream",
     "text": [
      "720\n",
      "640.0\n",
      "339.13952313687696\n",
      "1019.7078320069813\n",
      "679.4236775719291\n",
      "-0.2083822957373398\n",
      "2105.7712493657295\n",
      "1209.6171234337646\n",
      "-0.2083822957373398\n"
     ]
    },
    {
     "name": "stderr",
     "output_type": "stream",
     "text": [
      "\r",
      "t:  58%|██████████████████████████████████████                            | 727/1260 [07:22<06:01,  1.47it/s, now=None]"
     ]
    },
    {
     "name": "stdout",
     "output_type": "stream",
     "text": [
      "720\n",
      "640.0\n",
      "341.6446367094859\n",
      "1019.066267469973\n",
      "680.3554520897294\n",
      "-0.2133073896171411\n",
      "2012.4907325770887\n",
      "1418.6351335087472\n",
      "-0.2133073896171411\n"
     ]
    },
    {
     "name": "stderr",
     "output_type": "stream",
     "text": [
      "\r",
      "t:  58%|██████████████████████████████████████▏                           | 728/1260 [07:22<05:30,  1.61it/s, now=None]"
     ]
    },
    {
     "name": "stdout",
     "output_type": "stream",
     "text": [
      "720\n",
      "640.0\n",
      "342.95215774622227\n",
      "1293.520083120932\n",
      "818.2361204335771\n",
      "-0.9421052080060502\n",
      "1653.695024082001\n",
      "58.74480184948589\n",
      "-0.9421052080060502\n"
     ]
    },
    {
     "name": "stderr",
     "output_type": "stream",
     "text": [
      "\r",
      "t:  58%|██████████████████████████████████████▏                           | 729/1260 [07:23<04:53,  1.81it/s, now=None]"
     ]
    },
    {
     "name": "stdout",
     "output_type": "stream",
     "text": [
      "720\n",
      "640.0\n",
      "344.1660432783718\n",
      "1299.4357670139527\n",
      "821.8009051461622\n",
      "-0.9609476414868575\n",
      "1823.39336196956\n",
      "53.506308655467066\n",
      "-0.9609476414868575\n"
     ]
    },
    {
     "name": "stderr",
     "output_type": "stream",
     "text": [
      "\r",
      "t:  58%|██████████████████████████████████████▏                           | 730/1260 [07:23<05:06,  1.73it/s, now=None]"
     ]
    },
    {
     "name": "stdout",
     "output_type": "stream",
     "text": [
      "720\n",
      "640.0\n",
      "345.0373890233131\n",
      "1014.0100549663294\n",
      "679.5237219948212\n",
      "-0.20891110197262658\n",
      "1720.8126296301396\n",
      "2618.1763311076443\n",
      "-0.20891110197262658\n"
     ]
    },
    {
     "name": "stderr",
     "output_type": "stream",
     "text": [
      "\r",
      "t:  58%|██████████████████████████████████████▎                           | 731/1260 [07:24<04:51,  1.82it/s, now=None]"
     ]
    },
    {
     "name": "stdout",
     "output_type": "stream",
     "text": [
      "720\n",
      "640.0\n",
      "346.0151542611436\n",
      "1019.0124383134604\n",
      "682.5137962873021\n",
      "-0.22471578037573944\n",
      "1816.322673421524\n",
      "2263.6799064002953\n",
      "-0.22471578037573944\n"
     ]
    },
    {
     "name": "stderr",
     "output_type": "stream",
     "text": [
      "\r",
      "t:  58%|██████████████████████████████████████▎                           | 732/1260 [07:24<05:12,  1.69it/s, now=None]"
     ]
    },
    {
     "name": "stdout",
     "output_type": "stream",
     "text": [
      "720\n",
      "640.0\n",
      "348.7551763255848\n",
      "1020.8772980298345\n",
      "684.8162371777096\n",
      "-0.23688582508217923\n",
      "1484.2572858157976\n",
      "1935.730762361387\n",
      "-0.23688582508217923\n"
     ]
    },
    {
     "name": "stderr",
     "output_type": "stream",
     "text": [
      "\r",
      "t:  58%|██████████████████████████████████████▍                           | 733/1260 [07:25<05:04,  1.73it/s, now=None]"
     ]
    },
    {
     "name": "stdout",
     "output_type": "stream",
     "text": [
      "720\n",
      "640.0\n",
      "349.96679528246773\n",
      "1023.2422189143149\n",
      "686.6045070983913\n",
      "-0.24633810894863978\n",
      "1461.8265919451376\n",
      "1477.1024267025746\n",
      "-0.24633810894863978\n"
     ]
    },
    {
     "name": "stderr",
     "output_type": "stream",
     "text": [
      "\r",
      "t:  58%|██████████████████████████████████████▍                           | 734/1260 [07:26<05:15,  1.67it/s, now=None]"
     ]
    },
    {
     "name": "stdout",
     "output_type": "stream",
     "text": [
      "720\n",
      "640.0\n",
      "351.42042459097917\n",
      "1025.8985701277259\n",
      "688.6594973593525\n",
      "-0.257200200328006\n",
      "1432.7592931207466\n",
      "1243.8852754620623\n",
      "-0.257200200328006\n"
     ]
    },
    {
     "name": "stderr",
     "output_type": "stream",
     "text": [
      "\r",
      "t:  58%|██████████████████████████████████████▌                           | 735/1260 [07:26<05:15,  1.66it/s, now=None]"
     ]
    },
    {
     "name": "stdout",
     "output_type": "stream",
     "text": [
      "720\n",
      "640.0\n",
      "353.00365233183004\n",
      "1025.4896107349869\n",
      "689.2466315334084\n",
      "-0.2603036238194444\n",
      "1165.911490028525\n",
      "1220.1204980141388\n",
      "-0.2603036238194444\n"
     ]
    },
    {
     "name": "stderr",
     "output_type": "stream",
     "text": [
      "\r",
      "t:  58%|██████████████████████████████████████▌                           | 736/1260 [07:27<05:13,  1.67it/s, now=None]"
     ]
    },
    {
     "name": "stdout",
     "output_type": "stream",
     "text": [
      "720\n",
      "640.0\n",
      "353.7029869053939\n",
      "1025.666234114301\n",
      "689.6846105098475\n",
      "-0.26261865555205116\n",
      "1151.17299639758\n",
      "1272.0403565921104\n",
      "-0.26261865555205116\n"
     ]
    },
    {
     "name": "stderr",
     "output_type": "stream",
     "text": [
      "\r",
      "t:  58%|██████████████████████████████████████▌                           | 737/1260 [07:27<05:00,  1.74it/s, now=None]"
     ]
    },
    {
     "name": "stdout",
     "output_type": "stream",
     "text": [
      "720\n",
      "640.0\n",
      "355.1865276800043\n",
      "1023.9513885352131\n",
      "689.5689581076088\n",
      "-0.26200734999736053\n",
      "1162.7136860613314\n",
      "1752.1080213353773\n",
      "-0.26200734999736053\n"
     ]
    },
    {
     "name": "stderr",
     "output_type": "stream",
     "text": [
      "\r",
      "t:  59%|██████████████████████████████████████▋                           | 738/1260 [07:28<05:09,  1.68it/s, now=None]"
     ]
    },
    {
     "name": "stdout",
     "output_type": "stream",
     "text": [
      "720\n",
      "640.0\n",
      "354.30095658155983\n",
      "1025.2547707069607\n",
      "689.7778636442603\n",
      "-0.26311156497680427\n",
      "1230.1329548233548\n",
      "1336.230460809309\n",
      "-0.26311156497680427\n"
     ]
    },
    {
     "name": "stderr",
     "output_type": "stream",
     "text": [
      "\r",
      "t:  59%|██████████████████████████████████████▋                           | 739/1260 [07:28<05:02,  1.72it/s, now=None]"
     ]
    },
    {
     "name": "stdout",
     "output_type": "stream",
     "text": [
      "720\n",
      "640.0\n",
      "354.56841742170894\n",
      "1025.8675068048772\n",
      "690.2179621132931\n",
      "-0.265437799741692\n",
      "1271.4979652250233\n",
      "1293.449484334121\n",
      "-0.265437799741692\n"
     ]
    },
    {
     "name": "stderr",
     "output_type": "stream",
     "text": [
      "\r",
      "t:  59%|██████████████████████████████████████▊                           | 740/1260 [07:29<04:53,  1.77it/s, now=None]"
     ]
    },
    {
     "name": "stdout",
     "output_type": "stream",
     "text": [
      "720\n",
      "640.0\n",
      "355.13291718300474\n",
      "1299.0316099083263\n",
      "827.0822635456656\n",
      "-0.9888633930270895\n",
      "1323.9906006274803\n",
      "94.42783290028177\n",
      "-0.9888633930270895\n"
     ]
    },
    {
     "name": "stderr",
     "output_type": "stream",
     "text": [
      "\r",
      "t:  59%|██████████████████████████████████████▊                           | 741/1260 [07:30<04:46,  1.81it/s, now=None]"
     ]
    },
    {
     "name": "stdout",
     "output_type": "stream",
     "text": [
      "720\n",
      "640.0\n",
      "356.66061059955786\n",
      "1312.931255236924\n",
      "834.795932918241\n",
      "-1.029635645424988\n",
      "1291.683097778851\n",
      "76.04645686974236\n",
      "-1.029635645424988\n"
     ]
    },
    {
     "name": "stderr",
     "output_type": "stream",
     "text": [
      "\r",
      "t:  59%|██████████████████████████████████████▊                           | 742/1260 [07:30<04:44,  1.82it/s, now=None]"
     ]
    },
    {
     "name": "stdout",
     "output_type": "stream",
     "text": [
      "720\n",
      "640.0\n",
      "356.55657488616816\n",
      "1028.1913040171096\n",
      "692.3739394516389\n",
      "-0.27683367995866265\n",
      "1340.1134593039062\n",
      "1691.815528639506\n",
      "-0.27683367995866265\n"
     ]
    },
    {
     "name": "stderr",
     "output_type": "stream",
     "text": [
      "\r",
      "t:  59%|██████████████████████████████████████▉                           | 743/1260 [07:31<04:38,  1.86it/s, now=None]"
     ]
    },
    {
     "name": "stdout",
     "output_type": "stream",
     "text": [
      "720\n",
      "640.0\n",
      "358.08080665219586\n",
      "1031.0949955240476\n",
      "694.5879010881217\n",
      "-0.2885360486086434\n",
      "1274.2842199631198\n",
      "1367.414316010506\n",
      "-0.2885360486086434\n"
     ]
    },
    {
     "name": "stderr",
     "output_type": "stream",
     "text": [
      "\r",
      "t:  59%|██████████████████████████████████████▉                           | 744/1260 [07:31<04:32,  1.90it/s, now=None]"
     ]
    },
    {
     "name": "stdout",
     "output_type": "stream",
     "text": [
      "720\n",
      "640.0\n",
      "359.61172080566104\n",
      "1031.0838635153318\n",
      "695.3477921604964\n",
      "-0.29255261570548097\n",
      "1274.4407646682662\n",
      "1279.2376853489643\n",
      "-0.29255261570548097\n"
     ]
    },
    {
     "name": "stderr",
     "output_type": "stream",
     "text": [
      "\r",
      "t:  59%|███████████████████████████████████████                           | 745/1260 [07:32<04:30,  1.90it/s, now=None]"
     ]
    },
    {
     "name": "stdout",
     "output_type": "stream",
     "text": [
      "720\n",
      "640.0\n",
      "360.52101314967297\n",
      "1033.204627799234\n",
      "696.8628204744534\n",
      "-0.3005606225078253\n",
      "1230.0892438686278\n",
      "1072.562231901311\n",
      "-0.3005606225078253\n"
     ]
    },
    {
     "name": "stderr",
     "output_type": "stream",
     "text": [
      "\r",
      "t:  59%|███████████████████████████████████████                           | 746/1260 [07:32<04:35,  1.87it/s, now=None]"
     ]
    },
    {
     "name": "stdout",
     "output_type": "stream",
     "text": [
      "720\n",
      "640.0\n",
      "360.89526654211545\n",
      "1037.375748566342\n",
      "699.1355075542288\n",
      "-0.312573397072352\n",
      "1351.7242938939146\n",
      "873.0380121937392\n",
      "-0.312573397072352\n"
     ]
    },
    {
     "name": "stderr",
     "output_type": "stream",
     "text": [
      "\r",
      "t:  59%|███████████████████████████████████████▏                          | 747/1260 [07:33<04:54,  1.74it/s, now=None]"
     ]
    },
    {
     "name": "stdout",
     "output_type": "stream",
     "text": [
      "720\n",
      "640.0\n",
      "361.2503782601477\n",
      "1033.0911517674117\n",
      "697.1707650137797\n",
      "-0.30218832935854995\n",
      "1373.7476820698248\n",
      "1078.9388754329402\n",
      "-0.30218832935854995\n"
     ]
    },
    {
     "name": "stderr",
     "output_type": "stream",
     "text": [
      "\r",
      "t:  59%|███████████████████████████████████████▏                          | 748/1260 [07:33<04:52,  1.75it/s, now=None]"
     ]
    },
    {
     "name": "stdout",
     "output_type": "stream",
     "text": [
      "720\n",
      "640.0\n",
      "362.7533001794241\n",
      "1035.6119502749239\n",
      "699.182625227174\n",
      "-0.3128224476293481\n",
      "1354.161248211862\n",
      "971.4636301353553\n",
      "-0.3128224476293481\n"
     ]
    },
    {
     "name": "stderr",
     "output_type": "stream",
     "text": [
      "\r",
      "t:  59%|███████████████████████████████████████▏                          | 749/1260 [07:34<05:13,  1.63it/s, now=None]"
     ]
    },
    {
     "name": "stdout",
     "output_type": "stream",
     "text": [
      "720\n",
      "640.0\n",
      "363.24947736423496\n",
      "1034.706341232135\n",
      "698.977909298185\n",
      "-0.3117403777189776\n",
      "1503.2047421084246\n",
      "1166.7701393149955\n",
      "-0.3117403777189776\n"
     ]
    },
    {
     "name": "stderr",
     "output_type": "stream",
     "text": [
      "\r",
      "t:  60%|███████████████████████████████████████▎                          | 750/1260 [07:35<05:03,  1.68it/s, now=None]"
     ]
    },
    {
     "name": "stdout",
     "output_type": "stream",
     "text": [
      "720\n",
      "640.0\n",
      "363.5759572536186\n",
      "1035.2421478319968\n",
      "699.4090525428077\n",
      "-0.31401927772626914\n",
      "1640.3523560450874\n",
      "1127.134723641183\n",
      "-0.31401927772626914\n"
     ]
    },
    {
     "name": "stderr",
     "output_type": "stream",
     "text": [
      "\r",
      "t:  60%|███████████████████████████████████████▎                          | 751/1260 [07:35<05:20,  1.59it/s, now=None]"
     ]
    },
    {
     "name": "stdout",
     "output_type": "stream",
     "text": [
      "720\n",
      "640.0\n",
      "366.0057902511945\n",
      "1036.3551435753511\n",
      "701.1804669132728\n",
      "-0.3233824679701561\n",
      "1586.6268076266597\n",
      "1119.1559534249307\n",
      "-0.3233824679701561\n"
     ]
    },
    {
     "name": "stderr",
     "output_type": "stream",
     "text": [
      "\r",
      "t:  60%|███████████████████████████████████████▍                          | 752/1260 [07:36<05:10,  1.64it/s, now=None]"
     ]
    },
    {
     "name": "stdout",
     "output_type": "stream",
     "text": [
      "720\n",
      "640.0\n",
      "367.1706726676099\n",
      "1225.345540415552\n",
      "796.2581065415809\n",
      "-0.825935706005499\n",
      "1477.6901476642543\n",
      "168.4649682366716\n",
      "-0.825935706005499\n"
     ]
    },
    {
     "name": "stderr",
     "output_type": "stream",
     "text": [
      "\r",
      "t:  60%|███████████████████████████████████████▍                          | 753/1260 [07:37<05:30,  1.53it/s, now=None]"
     ]
    },
    {
     "name": "stdout",
     "output_type": "stream",
     "text": [
      "720\n",
      "640.0\n",
      "368.4410072690257\n",
      "1179.7452252587575\n",
      "774.0931162638916\n",
      "-0.7087779002519985\n",
      "1596.8405248419579\n",
      "89.72751423022086\n",
      "-0.7087779002519985\n"
     ]
    },
    {
     "name": "stderr",
     "output_type": "stream",
     "text": [
      "\r",
      "t:  60%|███████████████████████████████████████▍                          | 754/1260 [07:37<05:12,  1.62it/s, now=None]"
     ]
    },
    {
     "name": "stdout",
     "output_type": "stream",
     "text": [
      "720\n",
      "640.0\n",
      "370.0348781931622\n",
      "1034.115581306\n",
      "702.0752297495811\n",
      "-0.3281119286763574\n",
      "1611.7118138713931\n",
      "2016.618583511052\n",
      "-0.3281119286763574\n"
     ]
    },
    {
     "name": "stderr",
     "output_type": "stream",
     "text": [
      "\r",
      "t:  60%|███████████████████████████████████████▌                          | 755/1260 [07:38<05:06,  1.65it/s, now=None]"
     ]
    },
    {
     "name": "stdout",
     "output_type": "stream",
     "text": [
      "720\n",
      "640.0\n",
      "371.6750895175412\n",
      "1037.948083827902\n",
      "704.8115866727217\n",
      "-0.3425755295558145\n",
      "1800.5836425157313\n",
      "1415.268793380382\n",
      "-0.3425755295558145\n"
     ]
    },
    {
     "name": "stderr",
     "output_type": "stream",
     "text": [
      "\r",
      "t:  60%|███████████████████████████████████████▌                          | 756/1260 [07:38<05:01,  1.67it/s, now=None]"
     ]
    },
    {
     "name": "stdout",
     "output_type": "stream",
     "text": [
      "720\n",
      "640.0\n",
      "373.97035971716025\n",
      "1039.0744993634648\n",
      "706.5224295403125\n",
      "-0.3516185561416517\n",
      "1775.4411652232134\n",
      "1462.5307799400155\n",
      "-0.3516185561416517\n"
     ]
    },
    {
     "name": "stderr",
     "output_type": "stream",
     "text": [
      "\r",
      "t:  60%|███████████████████████████████████████▋                          | 757/1260 [07:39<04:47,  1.75it/s, now=None]"
     ]
    },
    {
     "name": "stdout",
     "output_type": "stream",
     "text": [
      "720\n",
      "640.0\n",
      "375.9588969805097\n",
      "1044.441917708315\n",
      "710.2004073444124\n",
      "-0.3710592959633226\n",
      "1662.0342937563428\n",
      "1204.1408770292144\n",
      "-0.3710592959633226\n"
     ]
    },
    {
     "name": "stderr",
     "output_type": "stream",
     "text": [
      "\r",
      "t:  60%|███████████████████████████████████████▋                          | 758/1260 [07:40<05:01,  1.66it/s, now=None]"
     ]
    },
    {
     "name": "stdout",
     "output_type": "stream",
     "text": [
      "720\n",
      "640.0\n",
      "377.995974309694\n",
      "1048.5456911190286\n",
      "713.2708327143613\n",
      "-0.3872886872044811\n",
      "1667.950380535368\n",
      "1031.0165016267854\n",
      "-0.3872886872044811\n"
     ]
    },
    {
     "name": "stderr",
     "output_type": "stream",
     "text": [
      "\r",
      "t:  60%|███████████████████████████████████████▊                          | 759/1260 [07:40<05:21,  1.56it/s, now=None]"
     ]
    },
    {
     "name": "stdout",
     "output_type": "stream",
     "text": [
      "720\n",
      "640.0\n",
      "378.66320519320595\n",
      "1048.6592781125926\n",
      "713.6612416528992\n",
      "-0.38935227730818156\n",
      "1783.1292863805904\n",
      "1003.2886638102398\n",
      "-0.38935227730818156\n"
     ]
    },
    {
     "name": "stderr",
     "output_type": "stream",
     "text": [
      "\r",
      "t:  60%|███████████████████████████████████████▊                          | 760/1260 [07:41<05:13,  1.59it/s, now=None]"
     ]
    },
    {
     "name": "stdout",
     "output_type": "stream",
     "text": [
      "720\n",
      "640.0\n",
      "379.7681274861468\n",
      "1049.0175954770475\n",
      "714.3928614815972\n",
      "-0.39321941068844213\n",
      "2057.5006079315745\n",
      "1024.8459605560397\n",
      "-0.39321941068844213\n"
     ]
    },
    {
     "name": "stderr",
     "output_type": "stream",
     "text": [
      "\r",
      "t:  60%|███████████████████████████████████████▊                          | 761/1260 [07:42<05:13,  1.59it/s, now=None]"
     ]
    },
    {
     "name": "stdout",
     "output_type": "stream",
     "text": [
      "720\n",
      "640.0\n",
      "381.53100705679316\n",
      "1048.888665106588\n",
      "715.2098360816906\n",
      "-0.39753770500322166\n",
      "1979.3819392283472\n",
      "1054.608643329504\n",
      "-0.39753770500322166\n"
     ]
    },
    {
     "name": "stderr",
     "output_type": "stream",
     "text": [
      "\r",
      "t:  60%|███████████████████████████████████████▉                          | 762/1260 [07:42<05:13,  1.59it/s, now=None]"
     ]
    },
    {
     "name": "stdout",
     "output_type": "stream",
     "text": [
      "720\n",
      "640.0\n",
      "381.82191147458855\n",
      "1047.654483387926\n",
      "714.7381974312573\n",
      "-0.39504475785093135\n",
      "2138.579289538375\n",
      "1271.5385142405003\n",
      "-0.39504475785093135\n"
     ]
    },
    {
     "name": "stderr",
     "output_type": "stream",
     "text": [
      "\r",
      "t:  61%|███████████████████████████████████████▉                          | 763/1260 [07:43<04:54,  1.69it/s, now=None]"
     ]
    },
    {
     "name": "stdout",
     "output_type": "stream",
     "text": [
      "720\n",
      "640.0\n",
      "382.03634107013113\n",
      "1050.205878467909\n",
      "716.1211097690201\n",
      "-0.4023544373505349\n",
      "2115.898435523205\n",
      "1137.8564179416805\n",
      "-0.4023544373505349\n"
     ]
    },
    {
     "name": "stderr",
     "output_type": "stream",
     "text": [
      "\r",
      "t:  61%|████████████████████████████████████████                          | 764/1260 [07:43<05:13,  1.58it/s, now=None]"
     ]
    },
    {
     "name": "stdout",
     "output_type": "stream",
     "text": [
      "720\n",
      "640.0\n",
      "381.4915577407537\n",
      "1051.0913413643907\n",
      "716.2914495525722\n",
      "-0.40325480477788167\n",
      "2240.917689906182\n",
      "1054.7068417060827\n",
      "-0.40325480477788167\n"
     ]
    },
    {
     "name": "stderr",
     "output_type": "stream",
     "text": [
      "\r",
      "t:  61%|████████████████████████████████████████                          | 765/1260 [07:44<05:22,  1.54it/s, now=None]"
     ]
    },
    {
     "name": "stdout",
     "output_type": "stream",
     "text": [
      "720\n",
      "640.0\n",
      "383.51540377101753\n",
      "1055.8870455873139\n",
      "719.7012246791658\n",
      "-0.4212779018755905\n",
      "1963.6186694702155\n",
      "1120.8802905932505\n",
      "-0.4212779018755905\n"
     ]
    },
    {
     "name": "stderr",
     "output_type": "stream",
     "text": [
      "\r",
      "t:  61%|████████████████████████████████████████                          | 766/1260 [07:45<05:26,  1.51it/s, now=None]"
     ]
    },
    {
     "name": "stdout",
     "output_type": "stream",
     "text": [
      "720\n",
      "640.0\n",
      "384.6467406338262\n",
      "1047.4309723897563\n",
      "716.0388565117912\n",
      "-0.40191967013375357\n",
      "1727.5471509061965\n",
      "2178.8331520119036\n",
      "-0.40191967013375357\n"
     ]
    },
    {
     "name": "stderr",
     "output_type": "stream",
     "text": [
      "\r",
      "t:  61%|████████████████████████████████████████▏                         | 767/1260 [07:45<05:36,  1.47it/s, now=None]"
     ]
    },
    {
     "name": "stdout",
     "output_type": "stream",
     "text": [
      "720\n",
      "640.0\n",
      "386.3458542154598\n",
      "1044.7804897195986\n",
      "715.5631719675291\n",
      "-0.3994053375426539\n",
      "1544.0959594701771\n",
      "3174.5781433407465\n",
      "-0.3994053375426539\n"
     ]
    },
    {
     "name": "stderr",
     "output_type": "stream",
     "text": [
      "\r",
      "t:  61%|████████████████████████████████████████▏                         | 768/1260 [07:46<05:14,  1.56it/s, now=None]"
     ]
    },
    {
     "name": "stdout",
     "output_type": "stream",
     "text": [
      "720\n",
      "640.0\n",
      "387.2581918712975\n",
      "1049.756502922608\n",
      "718.5073473969528\n",
      "-0.4149674076696077\n",
      "1395.809444273827\n",
      "2543.659693154853\n",
      "-0.4149674076696077\n"
     ]
    },
    {
     "name": "stderr",
     "output_type": "stream",
     "text": [
      "\r",
      "t:  61%|████████████████████████████████████████▎                         | 769/1260 [07:47<05:06,  1.60it/s, now=None]"
     ]
    },
    {
     "name": "stdout",
     "output_type": "stream",
     "text": [
      "720\n",
      "640.0\n",
      "388.3990166004246\n",
      "1050.9322336618602\n",
      "719.6656251311424\n",
      "-0.42108973283603846\n",
      "1375.5558449926648\n",
      "2315.1133866945493\n",
      "-0.42108973283603846\n"
     ]
    },
    {
     "name": "stderr",
     "output_type": "stream",
     "text": [
      "\r",
      "t:  61%|████████████████████████████████████████▎                         | 770/1260 [07:47<05:11,  1.57it/s, now=None]"
     ]
    },
    {
     "name": "stdout",
     "output_type": "stream",
     "text": [
      "720\n",
      "640.0\n",
      "390.82865507823635\n",
      "1055.334214160441\n",
      "723.0814346193387\n",
      "-0.4391447258450758\n",
      "1200.8697010411684\n",
      "1671.1745794368417\n",
      "-0.4391447258450758\n"
     ]
    },
    {
     "name": "stderr",
     "output_type": "stream",
     "text": [
      "\r",
      "t:  61%|████████████████████████████████████████▍                         | 771/1260 [07:48<05:01,  1.62it/s, now=None]"
     ]
    },
    {
     "name": "stdout",
     "output_type": "stream",
     "text": [
      "720\n",
      "640.0\n",
      "391.36176350106655\n",
      "1054.9013606702651\n",
      "723.1315620856658\n",
      "-0.4394096853099478\n",
      "1182.7366382790294\n",
      "1986.8598558619617\n",
      "-0.4394096853099478\n"
     ]
    },
    {
     "name": "stderr",
     "output_type": "stream",
     "text": [
      "\r",
      "t:  61%|████████████████████████████████████████▍                         | 772/1260 [07:48<04:55,  1.65it/s, now=None]"
     ]
    },
    {
     "name": "stdout",
     "output_type": "stream",
     "text": [
      "720\n",
      "640.0\n",
      "391.3627851178016\n",
      "1057.6583518290374\n",
      "724.5105684734195\n",
      "-0.446698719073789\n",
      "1096.3972236577472\n",
      "1985.9273958334006\n",
      "-0.446698719073789\n"
     ]
    },
    {
     "name": "stderr",
     "output_type": "stream",
     "text": [
      "\r",
      "t:  61%|████████████████████████████████████████▍                         | 773/1260 [07:49<04:48,  1.69it/s, now=None]"
     ]
    },
    {
     "name": "stdout",
     "output_type": "stream",
     "text": [
      "720\n",
      "640.0\n",
      "391.1852757345813\n",
      "1059.8813472061058\n",
      "725.5333114703435\n",
      "-0.45210464634324427\n",
      "1057.1988595225814\n",
      "2177.466058996925\n",
      "-0.45210464634324427\n"
     ]
    },
    {
     "name": "stderr",
     "output_type": "stream",
     "text": [
      "\r",
      "t:  61%|████████████████████████████████████████▌                         | 774/1260 [07:50<04:58,  1.63it/s, now=None]"
     ]
    },
    {
     "name": "stdout",
     "output_type": "stream",
     "text": [
      "720\n",
      "640.0\n",
      "388.4037206752379\n",
      "1060.4747165991485\n",
      "724.4392186371931\n",
      "-0.4463215842251636\n",
      "1160.9812604434653\n",
      "2389.098882631893\n",
      "-0.4463215842251636\n"
     ]
    },
    {
     "name": "stderr",
     "output_type": "stream",
     "text": [
      "\r",
      "t:  62%|████████████████████████████████████████▌                         | 775/1260 [07:50<05:06,  1.58it/s, now=None]"
     ]
    },
    {
     "name": "stdout",
     "output_type": "stream",
     "text": [
      "720\n",
      "640.0\n",
      "386.9319688704377\n",
      "1063.8299397626304\n",
      "725.380954316534\n",
      "-0.45129932995882277\n",
      "1246.524839638122\n",
      "1524.0199214559798\n",
      "-0.45129932995882277\n"
     ]
    },
    {
     "name": "stderr",
     "output_type": "stream",
     "text": [
      "\r",
      "t:  62%|████████████████████████████████████████▋                         | 776/1260 [07:51<05:12,  1.55it/s, now=None]"
     ]
    },
    {
     "name": "stdout",
     "output_type": "stream",
     "text": [
      "720\n",
      "640.0\n",
      "385.604997489383\n",
      "1065.091476177321\n",
      "725.3482368333521\n",
      "-0.45112639469057525\n",
      "1291.5080974145662\n",
      "1631.4570315412946\n",
      "-0.45112639469057525\n"
     ]
    },
    {
     "name": "stderr",
     "output_type": "stream",
     "text": [
      "\r",
      "t:  62%|████████████████████████████████████████▋                         | 777/1260 [07:52<05:15,  1.53it/s, now=None]"
     ]
    },
    {
     "name": "stdout",
     "output_type": "stream",
     "text": [
      "720\n",
      "640.0\n",
      "387.0479842627808\n",
      "1073.0250216659615\n",
      "730.0365029643712\n",
      "-0.4759072299545333\n",
      "1213.3638950872198\n",
      "1054.6312060723196\n",
      "-0.4759072299545333\n"
     ]
    },
    {
     "name": "stderr",
     "output_type": "stream",
     "text": [
      "\r",
      "t:  62%|████████████████████████████████████████▊                         | 778/1260 [07:52<05:09,  1.56it/s, now=None]"
     ]
    },
    {
     "name": "stdout",
     "output_type": "stream",
     "text": [
      "720\n",
      "640.0\n",
      "386.64558388336906\n",
      "1059.959106741288\n",
      "723.3023453123285\n",
      "-0.44031239665087923\n",
      "1261.6439611051935\n",
      "3986.97763922316\n",
      "-0.44031239665087923\n"
     ]
    },
    {
     "name": "stderr",
     "output_type": "stream",
     "text": [
      "\r",
      "t:  62%|████████████████████████████████████████▊                         | 779/1260 [07:53<05:17,  1.51it/s, now=None]"
     ]
    },
    {
     "name": "stdout",
     "output_type": "stream",
     "text": [
      "720\n",
      "640.0\n",
      "385.79234604229725\n",
      "1064.0434950244198\n",
      "724.9179205333585\n",
      "-0.44885186567632346\n",
      "1413.3383199199418\n",
      "2421.987719540507\n",
      "-0.44885186567632346\n"
     ]
    },
    {
     "name": "stderr",
     "output_type": "stream",
     "text": [
      "\r",
      "t:  62%|████████████████████████████████████████▊                         | 780/1260 [07:54<05:09,  1.55it/s, now=None]"
     ]
    },
    {
     "name": "stdout",
     "output_type": "stream",
     "text": [
      "720\n",
      "640.0\n",
      "385.79524588241566\n",
      "1066.8785476087667\n",
      "726.3368967455912\n",
      "-0.45635216851241045\n",
      "1337.434595575346\n",
      "1967.075981319076\n",
      "-0.45635216851241045\n"
     ]
    },
    {
     "name": "stderr",
     "output_type": "stream",
     "text": [
      "\r",
      "t:  62%|████████████████████████████████████████▉                         | 781/1260 [07:54<05:03,  1.58it/s, now=None]"
     ]
    },
    {
     "name": "stdout",
     "output_type": "stream",
     "text": [
      "720\n",
      "640.0\n",
      "385.4138021307906\n",
      "1068.2737020952163\n",
      "726.8437521130035\n",
      "-0.4590312611687326\n",
      "1518.9443723291256\n",
      "1760.6649751461678\n",
      "-0.4590312611687326\n"
     ]
    },
    {
     "name": "stderr",
     "output_type": "stream",
     "text": [
      "\r",
      "t:  62%|████████████████████████████████████████▉                         | 782/1260 [07:55<04:58,  1.60it/s, now=None]"
     ]
    },
    {
     "name": "stdout",
     "output_type": "stream",
     "text": [
      "720\n",
      "640.0\n",
      "384.9970168217635\n",
      "1074.8865318780647\n",
      "729.9417743499141\n",
      "-0.4754065215638318\n",
      "1594.3112014452345\n",
      "1270.2829505200486\n",
      "-0.4754065215638318\n"
     ]
    },
    {
     "name": "stderr",
     "output_type": "stream",
     "text": [
      "\r",
      "t:  62%|█████████████████████████████████████████                         | 783/1260 [07:56<05:19,  1.49it/s, now=None]"
     ]
    },
    {
     "name": "stdout",
     "output_type": "stream",
     "text": [
      "720\n",
      "640.0\n",
      "382.88565715686974\n",
      "1071.449197574553\n",
      "727.1674273657113\n",
      "-0.4607421160759027\n",
      "1885.329373444268\n",
      "1673.697150101647\n",
      "-0.4607421160759027\n"
     ]
    },
    {
     "name": "stderr",
     "output_type": "stream",
     "text": [
      "\r",
      "t:  62%|█████████████████████████████████████████                         | 784/1260 [07:56<05:10,  1.53it/s, now=None]"
     ]
    },
    {
     "name": "stdout",
     "output_type": "stream",
     "text": [
      "720\n",
      "640.0\n",
      "383.28296296630543\n",
      "1070.5637535048352\n",
      "726.9233582355703\n",
      "-0.45945203638801435\n",
      "1710.8767651027072\n",
      "1431.8336416222617\n",
      "-0.45945203638801435\n"
     ]
    },
    {
     "name": "stderr",
     "output_type": "stream",
     "text": [
      "\r",
      "t:  62%|█████████████████████████████████████████                         | 785/1260 [07:57<05:15,  1.51it/s, now=None]"
     ]
    },
    {
     "name": "stdout",
     "output_type": "stream",
     "text": [
      "720\n",
      "640.0\n",
      "383.76833741231223\n",
      "1069.8823741296333\n",
      "726.8253557709727\n",
      "-0.4589340233608557\n",
      "1634.313691234173\n",
      "1567.1236731771244\n",
      "-0.4589340233608557\n"
     ]
    },
    {
     "name": "stderr",
     "output_type": "stream",
     "text": [
      "\r",
      "t:  62%|█████████████████████████████████████████▏                        | 786/1260 [07:57<05:03,  1.56it/s, now=None]"
     ]
    },
    {
     "name": "stdout",
     "output_type": "stream",
     "text": [
      "720\n",
      "640.0\n",
      "382.94303570835166\n",
      "1069.3764916658022\n",
      "726.159763687077\n",
      "-0.4554158937745497\n",
      "1842.6741192524098\n",
      "1833.9103166864859\n",
      "-0.4554158937745497\n"
     ]
    },
    {
     "name": "stderr",
     "output_type": "stream",
     "text": [
      "\r",
      "t:  62%|█████████████████████████████████████████▏                        | 787/1260 [07:58<05:09,  1.53it/s, now=None]"
     ]
    },
    {
     "name": "stdout",
     "output_type": "stream",
     "text": [
      "720\n",
      "640.0\n",
      "382.8378003975539\n",
      "1071.156372216629\n",
      "726.9970863070914\n",
      "-0.4598417419089118\n",
      "2166.1796521208453\n",
      "1244.9200102372527\n",
      "-0.4598417419089118\n"
     ]
    },
    {
     "name": "stderr",
     "output_type": "stream",
     "text": [
      "\r",
      "t:  63%|█████████████████████████████████████████▎                        | 788/1260 [07:59<04:44,  1.66it/s, now=None]"
     ]
    },
    {
     "name": "stdout",
     "output_type": "stream",
     "text": [
      "720\n",
      "640.0\n",
      "381.75291253555054\n",
      "1071.128772642912\n",
      "726.4408425892314\n",
      "-0.45690159654308005\n",
      "2567.2883002491517\n",
      "1337.5849903782155\n",
      "-0.45690159654308005\n"
     ]
    },
    {
     "name": "stderr",
     "output_type": "stream",
     "text": [
      "\r",
      "t:  63%|█████████████████████████████████████████▎                        | 789/1260 [07:59<04:53,  1.60it/s, now=None]"
     ]
    },
    {
     "name": "stdout",
     "output_type": "stream",
     "text": [
      "720\n",
      "640.0\n",
      "383.42644655151474\n",
      "1081.0599783023308\n",
      "732.2432124269228\n",
      "-0.48757126568516346\n",
      "2398.025607890314\n",
      "807.0334815843123\n",
      "-0.48757126568516346\n"
     ]
    },
    {
     "name": "stderr",
     "output_type": "stream",
     "text": [
      "\r",
      "t:  63%|█████████████████████████████████████████▍                        | 790/1260 [08:00<04:47,  1.64it/s, now=None]"
     ]
    },
    {
     "name": "stdout",
     "output_type": "stream",
     "text": [
      "720\n",
      "640.0\n",
      "385.1283995368097\n",
      "1065.0010823107887\n",
      "725.0647409237991\n",
      "-0.44962791631150983\n",
      "2331.3911811686257\n",
      "2108.587521424158\n",
      "-0.44962791631150983\n"
     ]
    },
    {
     "name": "stderr",
     "output_type": "stream",
     "text": [
      "\r",
      "t:  63%|█████████████████████████████████████████▍                        | 791/1260 [08:01<04:47,  1.63it/s, now=None]"
     ]
    },
    {
     "name": "stdout",
     "output_type": "stream",
     "text": [
      "720\n",
      "640.0\n",
      "387.010846181587\n",
      "1065.3106968166242\n",
      "726.1607714991055\n",
      "-0.45542122078098635\n",
      "1862.9398101848049\n",
      "1672.0087208564355\n",
      "-0.45542122078098635\n"
     ]
    },
    {
     "name": "stderr",
     "output_type": "stream",
     "text": [
      "\r",
      "t:  63%|█████████████████████████████████████████▍                        | 792/1260 [08:01<04:44,  1.65it/s, now=None]"
     ]
    },
    {
     "name": "stdout",
     "output_type": "stream",
     "text": [
      "720\n",
      "640.0\n",
      "388.06920170741085\n",
      "1066.893968566501\n",
      "727.4815851369559\n",
      "-0.46240266429533844\n",
      "1905.1257978469391\n",
      "1571.995828353546\n",
      "-0.46240266429533844\n"
     ]
    },
    {
     "name": "stderr",
     "output_type": "stream",
     "text": [
      "\r",
      "t:  63%|█████████████████████████████████████████▌                        | 793/1260 [08:02<04:50,  1.61it/s, now=None]"
     ]
    },
    {
     "name": "stdout",
     "output_type": "stream",
     "text": [
      "720\n",
      "640.0\n",
      "388.14860783823343\n",
      "1066.165973708921\n",
      "727.1572907735772\n",
      "-0.4606885369460509\n",
      "1833.1141682605862\n",
      "1568.9479674091317\n",
      "-0.4606885369460509\n"
     ]
    },
    {
     "name": "stderr",
     "output_type": "stream",
     "text": [
      "\r",
      "t:  63%|█████████████████████████████████████████▌                        | 794/1260 [08:02<04:45,  1.63it/s, now=None]"
     ]
    },
    {
     "name": "stdout",
     "output_type": "stream",
     "text": [
      "720\n",
      "640.0\n",
      "389.0950819781724\n",
      "1072.2251949463518\n",
      "730.6601384622621\n",
      "-0.47920358901481414\n",
      "1573.8842015991077\n",
      "930.6768694027265\n",
      "-0.47920358901481414\n"
     ]
    },
    {
     "name": "stderr",
     "output_type": "stream",
     "text": [
      "\r",
      "t:  63%|█████████████████████████████████████████▋                        | 795/1260 [08:03<04:55,  1.57it/s, now=None]"
     ]
    },
    {
     "name": "stdout",
     "output_type": "stream",
     "text": [
      "720\n",
      "640.0\n",
      "388.6277744275551\n",
      "1067.0071658302118\n",
      "727.8174701288834\n",
      "-0.46417805639552673\n",
      "1613.6653348610364\n",
      "1102.565158541843\n",
      "-0.46417805639552673\n"
     ]
    },
    {
     "name": "stderr",
     "output_type": "stream",
     "text": [
      "\r",
      "t:  63%|█████████████████████████████████████████▋                        | 796/1260 [08:04<04:41,  1.65it/s, now=None]"
     ]
    },
    {
     "name": "stdout",
     "output_type": "stream",
     "text": [
      "720\n",
      "640.0\n",
      "388.77113583406\n",
      "1062.9190167647014\n",
      "725.8450762993807\n",
      "-0.45375254615386945\n",
      "1633.790987711786\n",
      "1152.6917595171035\n",
      "-0.45375254615386945\n"
     ]
    },
    {
     "name": "stderr",
     "output_type": "stream",
     "text": [
      "\r",
      "t:  63%|█████████████████████████████████████████▋                        | 797/1260 [08:04<05:05,  1.52it/s, now=None]"
     ]
    },
    {
     "name": "stdout",
     "output_type": "stream",
     "text": [
      "720\n",
      "640.0\n",
      "388.6660105359906\n",
      "1060.4543255766328\n",
      "724.5601680563117\n",
      "-0.44696088829764746\n",
      "1993.6898663080497\n",
      "1261.1370760776158\n",
      "-0.44696088829764746\n"
     ]
    },
    {
     "name": "stderr",
     "output_type": "stream",
     "text": [
      "\r",
      "t:  63%|█████████████████████████████████████████▊                        | 798/1260 [08:05<04:55,  1.56it/s, now=None]"
     ]
    },
    {
     "name": "stdout",
     "output_type": "stream",
     "text": [
      "720\n",
      "640.0\n",
      "387.6418367140579\n",
      "1060.03274232835\n",
      "723.837289521204\n",
      "-0.44313995889779234\n",
      "2130.0304954014464\n",
      "1261.5271446590739\n",
      "-0.44313995889779234\n"
     ]
    },
    {
     "name": "stderr",
     "output_type": "stream",
     "text": [
      "\r",
      "t:  63%|█████████████████████████████████████████▊                        | 799/1260 [08:06<05:16,  1.46it/s, now=None]"
     ]
    },
    {
     "name": "stdout",
     "output_type": "stream",
     "text": [
      "720\n",
      "640.0\n",
      "387.66729899962644\n",
      "1058.7821813743365\n",
      "723.2247401869814\n",
      "-0.4399021981311875\n",
      "2348.4518816066607\n",
      "1323.4635210122765\n",
      "-0.4399021981311875\n"
     ]
    },
    {
     "name": "stderr",
     "output_type": "stream",
     "text": [
      "\r",
      "t:  63%|█████████████████████████████████████████▉                        | 800/1260 [08:06<04:58,  1.54it/s, now=None]"
     ]
    },
    {
     "name": "stdout",
     "output_type": "stream",
     "text": [
      "720\n",
      "640.0\n",
      "386.4173457102792\n",
      "1060.4402034931966\n",
      "723.4287746017379\n",
      "-0.44098066575204337\n",
      "2751.142596557443\n",
      "1289.434639020538\n",
      "-0.44098066575204337\n"
     ]
    },
    {
     "name": "stderr",
     "output_type": "stream",
     "text": [
      "\r",
      "t:  64%|█████████████████████████████████████████▉                        | 801/1260 [08:07<05:07,  1.49it/s, now=None]"
     ]
    },
    {
     "name": "stdout",
     "output_type": "stream",
     "text": [
      "720\n",
      "640.0\n",
      "386.40994997192314\n",
      "1055.827923429031\n",
      "721.1189367004771\n",
      "-0.42877152255966466\n",
      "2838.4843646413588\n",
      "1973.4067609584788\n",
      "-0.42877152255966466\n"
     ]
    },
    {
     "name": "stderr",
     "output_type": "stream",
     "text": [
      "\r",
      "t:  64%|██████████████████████████████████████████                        | 802/1260 [08:08<04:52,  1.57it/s, now=None]"
     ]
    },
    {
     "name": "stdout",
     "output_type": "stream",
     "text": [
      "720\n",
      "640.0\n",
      "385.29558193587013\n",
      "1052.1892670545406\n",
      "718.7424244952053\n",
      "-0.4162099580460854\n",
      "3605.3163718136784\n",
      "5008.614774901714\n",
      "-0.4162099580460854\n"
     ]
    },
    {
     "name": "stderr",
     "output_type": "stream",
     "text": [
      "\r",
      "t:  64%|██████████████████████████████████████████                        | 803/1260 [08:08<05:01,  1.52it/s, now=None]"
     ]
    },
    {
     "name": "stdout",
     "output_type": "stream",
     "text": [
      "720\n",
      "640.0\n",
      "384.08469658247196\n",
      "1057.4151056564713\n",
      "720.7499011194716\n",
      "-0.426820905917207\n",
      "3679.438956634202\n",
      "2971.3769097553386\n",
      "-0.426820905917207\n"
     ]
    },
    {
     "name": "stderr",
     "output_type": "stream",
     "text": [
      "\r",
      "t:  64%|██████████████████████████████████████████                        | 804/1260 [08:09<04:51,  1.56it/s, now=None]"
     ]
    },
    {
     "name": "stdout",
     "output_type": "stream",
     "text": [
      "720\n",
      "640.0\n",
      "383.45663304776957\n",
      "1058.226872937789\n",
      "720.8417529927793\n",
      "-0.42730640867611935\n",
      "4238.318171855578\n",
      "2842.491867056779\n",
      "-0.42730640867611935\n"
     ]
    },
    {
     "name": "stderr",
     "output_type": "stream",
     "text": [
      "\r",
      "t:  64%|██████████████████████████████████████████▏                       | 805/1260 [08:10<05:14,  1.45it/s, now=None]"
     ]
    },
    {
     "name": "stdout",
     "output_type": "stream",
     "text": [
      "720\n",
      "640.0\n",
      "384.09697779305003\n",
      "1059.2168578010806\n",
      "721.6569177970653\n",
      "-0.431615136927345\n",
      "4985.944776538978\n",
      "2212.1114932394994\n",
      "-0.431615136927345\n"
     ]
    },
    {
     "name": "stderr",
     "output_type": "stream",
     "text": [
      "\r",
      "t:  64%|██████████████████████████████████████████▏                       | 806/1260 [08:10<05:00,  1.51it/s, now=None]"
     ]
    },
    {
     "name": "stdout",
     "output_type": "stream",
     "text": [
      "720\n",
      "640.0\n",
      "385.4970677544476\n",
      "1058.9692482896394\n",
      "722.2331580220434\n",
      "-0.4346609781165153\n",
      "4723.487028427319\n",
      "1681.9582587212974\n",
      "-0.4346609781165153\n"
     ]
    },
    {
     "name": "stderr",
     "output_type": "stream",
     "text": [
      "\r",
      "t:  64%|██████████████████████████████████████████▎                       | 807/1260 [08:11<04:35,  1.64it/s, now=None]"
     ]
    },
    {
     "name": "stdout",
     "output_type": "stream",
     "text": [
      "720\n",
      "640.0\n",
      "386.77887167103734\n",
      "1056.8454590999725\n",
      "721.8121653855048\n",
      "-0.43243573132338275\n",
      "3454.469030420685\n",
      "1742.6965020903388\n",
      "-0.43243573132338275\n"
     ]
    },
    {
     "name": "stderr",
     "output_type": "stream",
     "text": [
      "\r",
      "t:  64%|██████████████████████████████████████████▎                       | 808/1260 [08:11<04:24,  1.71it/s, now=None]"
     ]
    },
    {
     "name": "stdout",
     "output_type": "stream",
     "text": [
      "720\n",
      "640.0\n",
      "387.07546234596174\n",
      "1054.153983995559\n",
      "720.6147231707604\n",
      "-0.42610639390259064\n",
      "2865.9356922926127\n",
      "2911.4904419589275\n",
      "-0.42610639390259064\n"
     ]
    },
    {
     "name": "stderr",
     "output_type": "stream",
     "text": [
      "\r",
      "t:  64%|██████████████████████████████████████████▍                       | 809/1260 [08:12<04:29,  1.67it/s, now=None]"
     ]
    },
    {
     "name": "stdout",
     "output_type": "stream",
     "text": [
      "720\n",
      "640.0\n",
      "388.41052441397073\n",
      "1053.031450822184\n",
      "720.7209876180774\n",
      "-0.4266680774098377\n",
      "2827.6959222163623\n",
      "4689.009816327161\n",
      "-0.4266680774098377\n"
     ]
    },
    {
     "name": "stderr",
     "output_type": "stream",
     "text": [
      "\r",
      "t:  64%|██████████████████████████████████████████▍                       | 810/1260 [08:12<04:20,  1.73it/s, now=None]"
     ]
    },
    {
     "name": "stdout",
     "output_type": "stream",
     "text": [
      "720\n",
      "640.0\n",
      "389.18775882474773\n",
      "1054.5378481197924\n",
      "721.8628034722701\n",
      "-0.4327033897819992\n",
      "2180.512483579824\n",
      "3783.133369123363\n",
      "-0.4327033897819992\n"
     ]
    },
    {
     "name": "stderr",
     "output_type": "stream",
     "text": [
      "\r",
      "t:  64%|██████████████████████████████████████████▍                       | 811/1260 [08:13<04:39,  1.61it/s, now=None]"
     ]
    },
    {
     "name": "stdout",
     "output_type": "stream",
     "text": [
      "720\n",
      "640.0\n",
      "387.58376508758255\n",
      "1053.713667686284\n",
      "720.6487163869333\n",
      "-0.4262860723309332\n",
      "2194.484880971828\n",
      "7932.795674223458\n",
      "-0.4262860723309332\n"
     ]
    },
    {
     "name": "stderr",
     "output_type": "stream",
     "text": [
      "\r",
      "t:  64%|██████████████████████████████████████████▌                       | 812/1260 [08:14<04:21,  1.72it/s, now=None]"
     ]
    },
    {
     "name": "stdout",
     "output_type": "stream",
     "text": [
      "720\n",
      "640.0\n",
      "387.77971384907084\n",
      "1056.0661272700515\n",
      "721.9229205595611\n",
      "-0.43302115152910886\n",
      "1967.45374269436\n",
      "3846.268477751932\n",
      "-0.43302115152910886\n"
     ]
    },
    {
     "name": "stderr",
     "output_type": "stream",
     "text": [
      "\r",
      "t:  65%|██████████████████████████████████████████▌                       | 813/1260 [08:14<04:27,  1.67it/s, now=None]"
     ]
    },
    {
     "name": "stdout",
     "output_type": "stream",
     "text": [
      "720\n",
      "640.0\n",
      "384.7995625419065\n",
      "1064.5898819166975\n",
      "724.694722229302\n",
      "-0.44767210321202483\n",
      "2079.419543942447\n",
      "1852.5441264713234\n",
      "-0.44767210321202483\n"
     ]
    },
    {
     "name": "stderr",
     "output_type": "stream",
     "text": [
      "\r",
      "t:  65%|██████████████████████████████████████████▋                       | 814/1260 [08:15<04:45,  1.56it/s, now=None]"
     ]
    },
    {
     "name": "stdout",
     "output_type": "stream",
     "text": [
      "720\n",
      "640.0\n",
      "383.0119715899477\n",
      "1052.8976766665737\n",
      "717.9548241282607\n",
      "-0.4120469275350924\n",
      "1816.8110124447257\n",
      "10651.949123293334\n",
      "-0.4120469275350924\n"
     ]
    },
    {
     "name": "stderr",
     "output_type": "stream",
     "text": [
      "\r",
      "t:  65%|██████████████████████████████████████████▋                       | 815/1260 [08:16<04:43,  1.57it/s, now=None]"
     ]
    },
    {
     "name": "stdout",
     "output_type": "stream",
     "text": [
      "720\n",
      "640.0\n",
      "380.50643165117594\n",
      "1056.7914667181235\n",
      "718.6489491846497\n",
      "-0.41571587426171996\n",
      "1718.1952259104428\n",
      "17180.71218576289\n",
      "-0.41571587426171996\n"
     ]
    },
    {
     "name": "stderr",
     "output_type": "stream",
     "text": [
      "\r",
      "t:  65%|██████████████████████████████████████████▋                       | 816/1260 [08:16<05:02,  1.47it/s, now=None]"
     ]
    },
    {
     "name": "stdout",
     "output_type": "stream",
     "text": [
      "720\n",
      "640.0\n",
      "377.88923552913025\n",
      "1057.5409609797512\n",
      "717.7150982544407\n",
      "-0.4107798050591866\n",
      "1605.2733314660493\n",
      "5010.1599756810565\n",
      "-0.4107798050591866\n"
     ]
    },
    {
     "name": "stderr",
     "output_type": "stream",
     "text": [
      "\r",
      "t:  65%|██████████████████████████████████████████▊                       | 817/1260 [08:17<04:52,  1.51it/s, now=None]"
     ]
    },
    {
     "name": "stdout",
     "output_type": "stream",
     "text": [
      "720\n",
      "640.0\n",
      "378.0550463935406\n",
      "1064.8518794611\n",
      "721.4534629273203\n",
      "-0.43053973261583584\n",
      "1328.7115785625278\n",
      "1509.027582309083\n",
      "-0.43053973261583584\n"
     ]
    },
    {
     "name": "stderr",
     "output_type": "stream",
     "text": [
      "\r",
      "t:  65%|██████████████████████████████████████████▊                       | 818/1260 [08:18<05:14,  1.40it/s, now=None]"
     ]
    },
    {
     "name": "stdout",
     "output_type": "stream",
     "text": [
      "720\n",
      "640.0\n",
      "377.6668308461424\n",
      "1064.8343491682242\n",
      "721.2505900071833\n",
      "-0.42946740432368313\n",
      "1143.4971935226058\n",
      "991.3039177612849\n",
      "-0.42946740432368313\n"
     ]
    },
    {
     "name": "stderr",
     "output_type": "stream",
     "text": [
      "\r",
      "t:  65%|██████████████████████████████████████████▉                       | 819/1260 [08:19<04:59,  1.47it/s, now=None]"
     ]
    },
    {
     "name": "stdout",
     "output_type": "stream",
     "text": [
      "720\n",
      "640.0\n",
      "376.1202817699633\n",
      "1060.2365378377951\n",
      "718.1784098038793\n",
      "-0.4132287375347905\n",
      "1192.9669413761392\n",
      "1037.6493206253326\n",
      "-0.4132287375347905\n"
     ]
    },
    {
     "name": "stderr",
     "output_type": "stream",
     "text": [
      "\r",
      "t:  65%|██████████████████████████████████████████▉                       | 820/1260 [08:19<04:56,  1.48it/s, now=None]"
     ]
    },
    {
     "name": "stdout",
     "output_type": "stream",
     "text": [
      "720\n",
      "640.0\n",
      "375.15412237574986\n",
      "1057.14208331715\n",
      "716.14810284645\n",
      "-0.40249711504552144\n",
      "1161.2601301607042\n",
      "1120.973010904378\n",
      "-0.40249711504552144\n"
     ]
    },
    {
     "name": "stderr",
     "output_type": "stream",
     "text": [
      "\r",
      "t:  65%|███████████████████████████████████████████                       | 821/1260 [08:20<05:04,  1.44it/s, now=None]"
     ]
    },
    {
     "name": "stdout",
     "output_type": "stream",
     "text": [
      "720\n",
      "640.0\n",
      "372.19375887290556\n",
      "1053.6161178803839\n",
      "712.9049383766447\n",
      "-0.3853546742765508\n",
      "1185.2639449381816\n",
      "1145.6625514524878\n",
      "-0.3853546742765508\n"
     ]
    },
    {
     "name": "stderr",
     "output_type": "stream",
     "text": [
      "\r",
      "t:  65%|███████████████████████████████████████████                       | 822/1260 [08:20<04:46,  1.53it/s, now=None]"
     ]
    },
    {
     "name": "stdout",
     "output_type": "stream",
     "text": [
      "720\n",
      "640.0\n",
      "368.79200914569714\n",
      "1052.5512022782166\n",
      "710.6716057119569\n",
      "-0.37354991590605785\n",
      "1228.910629499961\n",
      "1096.7343041735069\n",
      "-0.37354991590605785\n"
     ]
    },
    {
     "name": "stderr",
     "output_type": "stream",
     "text": [
      "\r",
      "t:  65%|███████████████████████████████████████████                       | 823/1260 [08:21<04:35,  1.59it/s, now=None]"
     ]
    },
    {
     "name": "stdout",
     "output_type": "stream",
     "text": [
      "720\n",
      "640.0\n",
      "365.7154520357607\n",
      "1051.961029336248\n",
      "708.8382406860044\n",
      "-0.36385927219745173\n",
      "1243.5336640420246\n",
      "932.9622820202948\n",
      "-0.36385927219745173\n"
     ]
    },
    {
     "name": "stderr",
     "output_type": "stream",
     "text": [
      "\r",
      "t:  65%|███████████████████████████████████████████▏                      | 824/1260 [08:22<04:30,  1.61it/s, now=None]"
     ]
    },
    {
     "name": "stdout",
     "output_type": "stream",
     "text": [
      "720\n",
      "640.0\n",
      "362.69272051916107\n",
      "1045.5583553895874\n",
      "704.1255379543743\n",
      "-0.33894927204454983\n",
      "1371.8455478099618\n",
      "1112.5046583952656\n",
      "-0.33894927204454983\n"
     ]
    },
    {
     "name": "stderr",
     "output_type": "stream",
     "text": [
      "\r",
      "t:  65%|███████████████████████████████████████████▏                      | 825/1260 [08:22<04:27,  1.62it/s, now=None]"
     ]
    },
    {
     "name": "stdout",
     "output_type": "stream",
     "text": [
      "720\n",
      "640.0\n",
      "359.677995319494\n",
      "1047.9771146707976\n",
      "703.8275549951459\n",
      "-0.3373742192600568\n",
      "1486.8903066060577\n",
      "1044.49202920913\n",
      "-0.3373742192600568\n"
     ]
    },
    {
     "name": "stderr",
     "output_type": "stream",
     "text": [
      "\r",
      "t:  66%|███████████████████████████████████████████▎                      | 826/1260 [08:23<04:31,  1.60it/s, now=None]"
     ]
    },
    {
     "name": "stdout",
     "output_type": "stream",
     "text": [
      "720\n",
      "640.0\n",
      "356.4612213636585\n",
      "1034.701356770518\n",
      "695.5812890670883\n",
      "-0.2937868136403238\n",
      "1622.3202840970841\n",
      "1836.8741894221196\n",
      "-0.2937868136403238\n"
     ]
    },
    {
     "name": "stderr",
     "output_type": "stream",
     "text": [
      "\r",
      "t:  66%|███████████████████████████████████████████▎                      | 827/1260 [08:24<04:29,  1.61it/s, now=None]"
     ]
    },
    {
     "name": "stdout",
     "output_type": "stream",
     "text": [
      "720\n",
      "640.0\n",
      "354.465876867779\n",
      "1035.3454634000163\n",
      "694.9056701338977\n",
      "-0.29021568499345946\n",
      "2008.3590129394217\n",
      "1507.8714284984355\n",
      "-0.29021568499345946\n"
     ]
    },
    {
     "name": "stderr",
     "output_type": "stream",
     "text": [
      "\r",
      "t:  66%|███████████████████████████████████████████▎                      | 828/1260 [08:24<04:16,  1.68it/s, now=None]"
     ]
    },
    {
     "name": "stdout",
     "output_type": "stream",
     "text": [
      "720\n",
      "640.0\n",
      "352.3080371199974\n",
      "1032.535034591819\n",
      "692.4215358559082\n",
      "-0.2770852609526579\n",
      "2598.0380896864094\n",
      "1513.8457386153204\n",
      "-0.2770852609526579\n"
     ]
    },
    {
     "name": "stderr",
     "output_type": "stream",
     "text": [
      "\r",
      "t:  66%|███████████████████████████████████████████▍                      | 829/1260 [08:25<04:20,  1.65it/s, now=None]"
     ]
    },
    {
     "name": "stdout",
     "output_type": "stream",
     "text": [
      "720\n",
      "640.0\n",
      "350.44335164303305\n",
      "1032.2088869676786\n",
      "691.3261193053559\n",
      "-0.2712952020425953\n",
      "3641.431967162413\n",
      "1331.0424376298554\n",
      "-0.2712952020425953\n"
     ]
    },
    {
     "name": "stderr",
     "output_type": "stream",
     "text": [
      "\r",
      "t:  66%|███████████████████████████████████████████▍                      | 830/1260 [08:25<04:37,  1.55it/s, now=None]"
     ]
    },
    {
     "name": "stdout",
     "output_type": "stream",
     "text": [
      "720\n",
      "640.0\n",
      "350.93548408374403\n",
      "1031.9990979403733\n",
      "691.4672910120587\n",
      "-0.2720413953494531\n",
      "3138.096260410443\n",
      "1158.9418391541333\n",
      "-0.2720413953494531\n"
     ]
    },
    {
     "name": "stderr",
     "output_type": "stream",
     "text": [
      "\r",
      "t:  66%|███████████████████████████████████████████▌                      | 831/1260 [08:26<04:34,  1.56it/s, now=None]"
     ]
    },
    {
     "name": "stdout",
     "output_type": "stream",
     "text": [
      "720\n",
      "640.0\n",
      "349.9697502045962\n",
      "1029.8918842671007\n",
      "689.9308172358485\n",
      "-0.26392003396091357\n",
      "3323.2217133532904\n",
      "1094.8235972570608\n",
      "-0.26392003396091357\n"
     ]
    },
    {
     "name": "stderr",
     "output_type": "stream",
     "text": [
      "\r",
      "t:  66%|███████████████████████████████████████████▌                      | 832/1260 [08:27<04:25,  1.61it/s, now=None]"
     ]
    },
    {
     "name": "stdout",
     "output_type": "stream",
     "text": [
      "720\n",
      "640.0\n",
      "350.86019075275885\n",
      "1027.5719145832863\n",
      "689.2160526680226\n",
      "-0.26014199267383376\n",
      "2507.8039617879163\n",
      "1198.4583045295756\n",
      "-0.26014199267383376\n"
     ]
    },
    {
     "name": "stderr",
     "output_type": "stream",
     "text": [
      "\r",
      "t:  66%|███████████████████████████████████████████▋                      | 833/1260 [08:27<04:32,  1.57it/s, now=None]"
     ]
    },
    {
     "name": "stdout",
     "output_type": "stream",
     "text": [
      "720\n",
      "640.0\n",
      "350.49659922714085\n",
      "1024.8959129169994\n",
      "687.6962560720701\n",
      "-0.2521087820952278\n",
      "2524.028307722197\n",
      "1436.7574363977674\n",
      "-0.2521087820952278\n"
     ]
    },
    {
     "name": "stderr",
     "output_type": "stream",
     "text": [
      "\r",
      "t:  66%|███████████████████████████████████████████▋                      | 834/1260 [08:28<04:40,  1.52it/s, now=None]"
     ]
    },
    {
     "name": "stdout",
     "output_type": "stream",
     "text": [
      "720\n",
      "640.0\n",
      "350.26363703259955\n",
      "1024.2538139488497\n",
      "687.2587254907246\n",
      "-0.2497961204509729\n",
      "2149.982396333691\n",
      "1038.1639248849472\n",
      "-0.2497961204509729\n"
     ]
    },
    {
     "name": "stderr",
     "output_type": "stream",
     "text": [
      "\r",
      "t:  66%|███████████████████████████████████████████▋                      | 835/1260 [08:29<04:22,  1.62it/s, now=None]"
     ]
    },
    {
     "name": "stdout",
     "output_type": "stream",
     "text": [
      "720\n",
      "640.0\n",
      "347.99884588862193\n",
      "1023.7760530204694\n",
      "685.8874494545456\n",
      "-0.242547947116884\n",
      "2431.730867517355\n",
      "1083.6967484137233\n",
      "-0.242547947116884\n"
     ]
    },
    {
     "name": "stderr",
     "output_type": "stream",
     "text": [
      "\r",
      "t:  66%|███████████████████████████████████████████▊                      | 836/1260 [08:29<04:27,  1.58it/s, now=None]"
     ]
    },
    {
     "name": "stdout",
     "output_type": "stream",
     "text": [
      "720\n",
      "640.0\n",
      "347.3663385585864\n",
      "1027.4478111119013\n",
      "687.4070748352439\n",
      "-0.2505802527005747\n",
      "1886.941200367172\n",
      "925.6110694258759\n",
      "-0.2505802527005747\n"
     ]
    },
    {
     "name": "stderr",
     "output_type": "stream",
     "text": [
      "\r",
      "t:  66%|███████████████████████████████████████████▊                      | 837/1260 [08:30<04:26,  1.59it/s, now=None]"
     ]
    },
    {
     "name": "stdout",
     "output_type": "stream",
     "text": [
      "720\n",
      "640.0\n",
      "345.93439117772556\n",
      "1030.428749519989\n",
      "688.1815703488572\n",
      "-0.2546740147011025\n",
      "1851.7091810410564\n",
      "816.1940052706382\n",
      "-0.2546740147011025\n"
     ]
    },
    {
     "name": "stderr",
     "output_type": "stream",
     "text": [
      "\r",
      "t:  67%|███████████████████████████████████████████▉                      | 838/1260 [08:30<04:17,  1.64it/s, now=None]"
     ]
    },
    {
     "name": "stdout",
     "output_type": "stream",
     "text": [
      "720\n",
      "640.0\n",
      "343.3236314096702\n",
      "1025.0534885420886\n",
      "684.1885599758795\n",
      "-0.23356810272964856\n",
      "1985.0289176376991\n",
      "958.2007422883701\n",
      "-0.23356810272964856\n"
     ]
    },
    {
     "name": "stderr",
     "output_type": "stream",
     "text": [
      "\r",
      "t:  67%|███████████████████████████████████████████▉                      | 839/1260 [08:31<03:54,  1.79it/s, now=None]"
     ]
    },
    {
     "name": "stdout",
     "output_type": "stream",
     "text": [
      "720\n",
      "640.0\n",
      "341.14742630180405\n",
      "1017.3928598946472\n",
      "679.2701430982256\n",
      "-0.2075707563763354\n",
      "2213.2054593526123\n",
      "1622.0537279103423\n",
      "-0.2075707563763354\n"
     ]
    },
    {
     "name": "stderr",
     "output_type": "stream",
     "text": [
      "\r",
      "t:  67%|████████████████████████████████████████████                      | 840/1260 [08:31<03:52,  1.81it/s, now=None]"
     ]
    },
    {
     "name": "stdout",
     "output_type": "stream",
     "text": [
      "720\n",
      "640.0\n",
      "339.8756446263634\n",
      "1016.8515532845958\n",
      "678.3635989554796\n",
      "-0.20277902305039205\n",
      "2028.9989353345595\n",
      "1505.5792146545589\n",
      "-0.20277902305039205\n"
     ]
    },
    {
     "name": "stderr",
     "output_type": "stream",
     "text": [
      "\r",
      "t:  67%|████████████████████████████████████████████                      | 841/1260 [08:32<03:44,  1.87it/s, now=None]"
     ]
    },
    {
     "name": "stdout",
     "output_type": "stream",
     "text": [
      "720\n",
      "640.0\n",
      "337.2523762266566\n",
      "1017.0936595561897\n",
      "677.1730178914231\n",
      "-0.1964859517118079\n",
      "2092.8263038787627\n",
      "1230.0724574839653\n",
      "-0.1964859517118079\n"
     ]
    },
    {
     "name": "stderr",
     "output_type": "stream",
     "text": [
      "\r",
      "t:  67%|████████████████████████████████████████████                      | 842/1260 [08:33<03:58,  1.76it/s, now=None]"
     ]
    },
    {
     "name": "stdout",
     "output_type": "stream",
     "text": [
      "720\n",
      "640.0\n",
      "335.5627739731456\n",
      "1017.0780251620696\n",
      "676.3203995676076\n",
      "-0.19197925485735468\n",
      "1834.7043330467807\n",
      "1130.4206364532656\n",
      "-0.19197925485735468\n"
     ]
    },
    {
     "name": "stderr",
     "output_type": "stream",
     "text": [
      "\r",
      "t:  67%|████████████████████████████████████████████▏                     | 843/1260 [08:33<03:53,  1.79it/s, now=None]"
     ]
    },
    {
     "name": "stdout",
     "output_type": "stream",
     "text": [
      "720\n",
      "640.0\n",
      "332.5201716244279\n",
      "1016.5821912970016\n",
      "674.5511814607148\n",
      "-0.1826276734352069\n",
      "1860.6852005138483\n",
      "1139.0244315750326\n",
      "-0.1826276734352069\n"
     ]
    },
    {
     "name": "stderr",
     "output_type": "stream",
     "text": [
      "\r",
      "t:  67%|████████████████████████████████████████████▏                     | 844/1260 [08:34<03:53,  1.78it/s, now=None]"
     ]
    },
    {
     "name": "stdout",
     "output_type": "stream",
     "text": [
      "720\n",
      "640.0\n",
      "331.1022719334906\n",
      "1012.7726363254875\n",
      "671.9374541294891\n",
      "-0.16881225754158516\n",
      "1588.6777365086773\n",
      "1298.1493226428815\n",
      "-0.16881225754158516\n"
     ]
    },
    {
     "name": "stderr",
     "output_type": "stream",
     "text": [
      "\r",
      "t:  67%|████████████████████████████████████████████▎                     | 845/1260 [08:34<03:36,  1.92it/s, now=None]"
     ]
    },
    {
     "name": "stdout",
     "output_type": "stream",
     "text": [
      "720\n",
      "640.0\n",
      "328.4890079632092\n",
      "1012.4662671889748\n",
      "670.477637576092\n",
      "-0.1610960843307719\n",
      "1458.5179086434862\n",
      "1299.078976839579\n",
      "-0.1610960843307719\n"
     ]
    },
    {
     "name": "stderr",
     "output_type": "stream",
     "text": [
      "\r",
      "t:  67%|████████████████████████████████████████████▎                     | 846/1260 [08:35<03:33,  1.94it/s, now=None]"
     ]
    },
    {
     "name": "stdout",
     "output_type": "stream",
     "text": [
      "720\n",
      "640.0\n",
      "326.50605138899067\n",
      "1009.8682176862051\n",
      "668.1871345375979\n",
      "-0.14898913969873176\n",
      "1303.8783632801478\n",
      "1733.537930039577\n",
      "-0.14898913969873176\n"
     ]
    },
    {
     "name": "stderr",
     "output_type": "stream",
     "text": [
      "\r",
      "t:  67%|████████████████████████████████████████████▎                     | 847/1260 [08:35<03:47,  1.81it/s, now=None]"
     ]
    },
    {
     "name": "stdout",
     "output_type": "stream",
     "text": [
      "720\n",
      "640.0\n",
      "324.81538824726016\n",
      "1009.4216331952991\n",
      "667.1185107212797\n",
      "-0.143340699526764\n",
      "1223.1126554493776\n",
      "1208.4619395405327\n",
      "-0.143340699526764\n"
     ]
    },
    {
     "name": "stderr",
     "output_type": "stream",
     "text": [
      "\r",
      "t:  67%|████████████████████████████████████████████▍                     | 848/1260 [08:36<03:40,  1.86it/s, now=None]"
     ]
    },
    {
     "name": "stdout",
     "output_type": "stream",
     "text": [
      "720\n",
      "640.0\n",
      "322.4660607293918\n",
      "1013.3805155463223\n",
      "667.9232881378571\n",
      "-0.14759452301438739\n",
      "1180.3056602740448\n",
      "1004.7723390699836\n",
      "-0.14759452301438739\n"
     ]
    },
    {
     "name": "stderr",
     "output_type": "stream",
     "text": [
      "\r",
      "t:  67%|████████████████████████████████████████████▍                     | 849/1260 [08:36<03:35,  1.90it/s, now=None]"
     ]
    },
    {
     "name": "stdout",
     "output_type": "stream",
     "text": [
      "720\n",
      "640.0\n",
      "319.10940636561793\n",
      "1009.1435868889089\n",
      "664.1264966272634\n",
      "-0.12752576788696343\n",
      "1207.0112722345837\n",
      "1250.2397837681265\n",
      "-0.12752576788696343\n"
     ]
    },
    {
     "name": "stderr",
     "output_type": "stream",
     "text": [
      "\r",
      "t:  67%|████████████████████████████████████████████▌                     | 850/1260 [08:37<03:38,  1.87it/s, now=None]"
     ]
    },
    {
     "name": "stdout",
     "output_type": "stream",
     "text": [
      "720\n",
      "640.0\n",
      "316.9508261204654\n",
      "1010.1081044737855\n",
      "663.5294652971254\n",
      "-0.12437003085623426\n",
      "1222.9522600084817\n",
      "1185.0550590103244\n",
      "-0.12437003085623426\n"
     ]
    },
    {
     "name": "stderr",
     "output_type": "stream",
     "text": [
      "\r",
      "t:  68%|████████████████████████████████████████████▌                     | 851/1260 [08:37<03:14,  2.11it/s, now=None]"
     ]
    },
    {
     "name": "stdout",
     "output_type": "stream",
     "text": [
      "720\n",
      "640.0\n",
      "315.2642775622945\n",
      "1004.2472271516885\n",
      "659.7557523569915\n",
      "-0.10442326245838354\n",
      "1218.533789172297\n",
      "2366.163885382842\n",
      "-0.10442326245838354\n"
     ]
    },
    {
     "name": "stderr",
     "output_type": "stream",
     "text": [
      "\r",
      "t:  68%|████████████████████████████████████████████▋                     | 852/1260 [08:37<02:59,  2.28it/s, now=None]"
     ]
    },
    {
     "name": "stdout",
     "output_type": "stream",
     "text": [
      "720\n",
      "640.0\n",
      "314.57976181211404\n",
      "1000.2690735131278\n",
      "657.424417662621\n",
      "-0.09210049335956791\n",
      "1221.770782804139\n",
      "3606.2799207516464\n",
      "-0.09210049335956791\n"
     ]
    },
    {
     "name": "stderr",
     "output_type": "stream",
     "text": [
      "\r",
      "t:  68%|████████████████████████████████████████████▋                     | 853/1260 [08:38<02:54,  2.33it/s, now=None]"
     ]
    },
    {
     "name": "stdout",
     "output_type": "stream",
     "text": [
      "720\n",
      "640.0\n",
      "312.16622464375894\n",
      "1006.2072822208345\n",
      "659.1867534322967\n",
      "-0.10141569671356804\n",
      "1300.7399685944486\n",
      "2412.566691277582\n",
      "-0.10141569671356804\n"
     ]
    },
    {
     "name": "stderr",
     "output_type": "stream",
     "text": [
      "\r",
      "t:  68%|████████████████████████████████████████████▋                     | 854/1260 [08:38<02:52,  2.35it/s, now=None]"
     ]
    },
    {
     "name": "stdout",
     "output_type": "stream",
     "text": [
      "720\n",
      "640.0\n",
      "310.4389679871542\n",
      "1007.142796148244\n",
      "658.790882067699\n",
      "-0.09932323378640924\n",
      "1455.7541624988144\n",
      "2050.7611868653476\n",
      "-0.09932323378640924\n"
     ]
    },
    {
     "name": "stderr",
     "output_type": "stream",
     "text": [
      "\r",
      "t:  68%|████████████████████████████████████████████▊                     | 855/1260 [08:39<02:46,  2.43it/s, now=None]"
     ]
    },
    {
     "name": "stdout",
     "output_type": "stream",
     "text": [
      "720\n",
      "640.0\n",
      "308.66335434784366\n",
      "1009.3791034846856\n",
      "659.0212289162646\n",
      "-0.10054078141454141\n",
      "1789.2913763511865\n",
      "2002.716339884169\n",
      "-0.10054078141454141\n"
     ]
    },
    {
     "name": "stderr",
     "output_type": "stream",
     "text": [
      "\r",
      "t:  68%|████████████████████████████████████████████▊                     | 856/1260 [08:39<02:42,  2.49it/s, now=None]"
     ]
    },
    {
     "name": "stdout",
     "output_type": "stream",
     "text": [
      "720\n",
      "640.0\n",
      "308.2559838272676\n",
      "1010.8259110686305\n",
      "659.5409474479491\n",
      "-0.1032878650820165\n",
      "1698.0391787932776\n",
      "1726.9074220335563\n",
      "-0.1032878650820165\n"
     ]
    },
    {
     "name": "stderr",
     "output_type": "stream",
     "text": [
      "\r",
      "t:  68%|████████████████████████████████████████████▉                     | 857/1260 [08:39<02:40,  2.51it/s, now=None]"
     ]
    },
    {
     "name": "stdout",
     "output_type": "stream",
     "text": [
      "720\n",
      "640.0\n",
      "308.8997363698754\n",
      "1010.7229322198309\n",
      "659.8113342948532\n",
      "-0.10471705270136675\n",
      "1737.2368902253786\n",
      "1896.249073800094\n",
      "-0.10471705270136675\n"
     ]
    },
    {
     "name": "stderr",
     "output_type": "stream",
     "text": [
      "\r",
      "t:  68%|████████████████████████████████████████████▉                     | 858/1260 [08:40<02:38,  2.53it/s, now=None]"
     ]
    },
    {
     "name": "stdout",
     "output_type": "stream",
     "text": [
      "720\n",
      "640.0\n",
      "307.6308618416025\n",
      "1010.7313714472657\n",
      "659.181116644434\n",
      "-0.10138590226343708\n",
      "2177.775757003497\n",
      "2215.5459942182542\n",
      "-0.10138590226343708\n"
     ]
    },
    {
     "name": "stderr",
     "output_type": "stream",
     "text": [
      "\r",
      "t:  68%|████████████████████████████████████████████▉                     | 859/1260 [08:40<02:43,  2.46it/s, now=None]"
     ]
    },
    {
     "name": "stdout",
     "output_type": "stream",
     "text": [
      "720\n",
      "640.0\n",
      "305.8238437532494\n",
      "1010.7521281424783\n",
      "658.2879859478638\n",
      "-0.09666506858156597\n",
      "2879.0961062399656\n",
      "1808.2875630639414\n",
      "-0.09666506858156597\n"
     ]
    },
    {
     "name": "stderr",
     "output_type": "stream",
     "text": [
      "\r",
      "t:  68%|█████████████████████████████████████████████                     | 860/1260 [08:41<03:05,  2.15it/s, now=None]"
     ]
    },
    {
     "name": "stdout",
     "output_type": "stream",
     "text": [
      "720\n",
      "640.0\n",
      "306.7546660645636\n",
      "1018.007588109559\n",
      "662.3811270870613\n",
      "-0.11830024317446666\n",
      "3543.0257375146516\n",
      "1153.496309889634\n",
      "-0.11830024317446666\n"
     ]
    },
    {
     "name": "stderr",
     "output_type": "stream",
     "text": [
      "\r",
      "t:  68%|█████████████████████████████████████████████                     | 861/1260 [08:42<03:36,  1.84it/s, now=None]"
     ]
    },
    {
     "name": "stdout",
     "output_type": "stream",
     "text": [
      "720\n",
      "640.0\n",
      "306.7276669729718\n",
      "1012.7331391534099\n",
      "659.7304030631908\n",
      "-0.10428927333400856\n",
      "3088.3535711842733\n",
      "1528.1494751666175\n",
      "-0.10428927333400856\n"
     ]
    },
    {
     "name": "stderr",
     "output_type": "stream",
     "text": [
      "\r",
      "t:  68%|█████████████████████████████████████████████▏                    | 862/1260 [08:42<03:47,  1.75it/s, now=None]"
     ]
    },
    {
     "name": "stdout",
     "output_type": "stream",
     "text": [
      "720\n",
      "640.0\n",
      "308.50639264621634\n",
      "1010.4535884376985\n",
      "659.4799905419575\n",
      "-0.1029656642932038\n",
      "2724.457936884676\n",
      "2125.3689641506635\n",
      "-0.1029656642932038\n"
     ]
    },
    {
     "name": "stderr",
     "output_type": "stream",
     "text": [
      "\r",
      "t:  68%|█████████████████████████████████████████████▏                    | 863/1260 [08:43<03:34,  1.85it/s, now=None]"
     ]
    },
    {
     "name": "stdout",
     "output_type": "stream",
     "text": [
      "720\n",
      "640.0\n",
      "309.8361530787495\n",
      "1010.1239659306118\n",
      "659.9800595046806\n",
      "-0.10560888595331196\n",
      "2508.918859012429\n",
      "1904.7051820807962\n",
      "-0.10560888595331196\n"
     ]
    },
    {
     "name": "stderr",
     "output_type": "stream",
     "text": [
      "\r",
      "t:  69%|█████████████████████████████████████████████▎                    | 864/1260 [08:43<03:20,  1.98it/s, now=None]"
     ]
    },
    {
     "name": "stdout",
     "output_type": "stream",
     "text": [
      "720\n",
      "640.0\n",
      "310.82197507635533\n",
      "1012.4851029286124\n",
      "661.6535390024839\n",
      "-0.11445442044170037\n",
      "2067.936151186895\n",
      "1545.9083839769296\n",
      "-0.11445442044170037\n"
     ]
    },
    {
     "name": "stderr",
     "output_type": "stream",
     "text": [
      "\r",
      "t:  69%|█████████████████████████████████████████████▎                    | 865/1260 [08:44<03:35,  1.83it/s, now=None]"
     ]
    },
    {
     "name": "stdout",
     "output_type": "stream",
     "text": [
      "720\n",
      "640.0\n",
      "312.7790543398689\n",
      "1012.8243598498909\n",
      "662.8017070948799\n",
      "-0.12052330893007963\n",
      "1830.6049180840068\n",
      "1604.5461300819188\n",
      "-0.12052330893007963\n"
     ]
    },
    {
     "name": "stderr",
     "output_type": "stream",
     "text": [
      "\r",
      "t:  69%|█████████████████████████████████████████████▎                    | 866/1260 [08:44<03:39,  1.79it/s, now=None]"
     ]
    },
    {
     "name": "stdout",
     "output_type": "stream",
     "text": [
      "720\n",
      "640.0\n",
      "312.6896409253875\n",
      "1015.2903271693925\n",
      "663.98998404739\n",
      "-0.1268042013933469\n",
      "1592.7105772056598\n",
      "1320.8673678210569\n",
      "-0.1268042013933469\n"
     ]
    },
    {
     "name": "stderr",
     "output_type": "stream",
     "text": [
      "\r",
      "t:  69%|█████████████████████████████████████████████▍                    | 867/1260 [08:45<03:27,  1.90it/s, now=None]"
     ]
    },
    {
     "name": "stdout",
     "output_type": "stream",
     "text": [
      "720\n",
      "640.0\n",
      "314.2430678210984\n",
      "1013.1911015488134\n",
      "663.7170846849559\n",
      "-0.12536173333476702\n",
      "1455.3150556704736\n",
      "1313.045800601024\n",
      "-0.12536173333476702\n"
     ]
    },
    {
     "name": "stderr",
     "output_type": "stream",
     "text": [
      "\r",
      "t:  69%|█████████████████████████████████████████████▍                    | 868/1260 [08:45<03:42,  1.76it/s, now=None]"
     ]
    },
    {
     "name": "stdout",
     "output_type": "stream",
     "text": [
      "720\n",
      "640.0\n",
      "313.50444311870115\n",
      "1013.3087957736388\n",
      "663.40661944617\n",
      "-0.12372070278689856\n",
      "1471.2372369137465\n",
      "1307.4857163077518\n",
      "-0.12372070278689856\n"
     ]
    },
    {
     "name": "stderr",
     "output_type": "stream",
     "text": [
      "\r",
      "t:  69%|█████████████████████████████████████████████▌                    | 869/1260 [08:46<03:38,  1.79it/s, now=None]"
     ]
    },
    {
     "name": "stdout",
     "output_type": "stream",
     "text": [
      "720\n",
      "640.0\n",
      "312.5211957959067\n",
      "1012.3182411610592\n",
      "662.419718478483\n",
      "-0.1185042262434101\n",
      "1630.9254758630407\n",
      "1233.6376893570996\n",
      "-0.1185042262434101\n"
     ]
    },
    {
     "name": "stderr",
     "output_type": "stream",
     "text": [
      "\r",
      "t:  69%|█████████████████████████████████████████████▌                    | 870/1260 [08:46<03:34,  1.81it/s, now=None]"
     ]
    },
    {
     "name": "stdout",
     "output_type": "stream",
     "text": [
      "720\n",
      "640.0\n",
      "312.2233675348441\n",
      "1011.4157754703723\n",
      "661.8195715026081\n",
      "-0.11533202079950018\n",
      "1926.7195780181275\n",
      "1254.2403866896536\n",
      "-0.11533202079950018\n"
     ]
    },
    {
     "name": "stderr",
     "output_type": "stream",
     "text": [
      "\r",
      "t:  69%|█████████████████████████████████████████████▌                    | 871/1260 [08:47<03:30,  1.85it/s, now=None]"
     ]
    },
    {
     "name": "stdout",
     "output_type": "stream",
     "text": [
      "720\n",
      "640.0\n",
      "310.18629277298623\n",
      "1012.4986439225136\n",
      "661.3424683477499\n",
      "-0.11281018983810662\n",
      "2297.0807950910253\n",
      "1125.0467182998052\n",
      "-0.11281018983810662\n"
     ]
    },
    {
     "name": "stderr",
     "output_type": "stream",
     "text": [
      "\r",
      "t:  69%|█████████████████████████████████████████████▋                    | 872/1260 [08:48<03:30,  1.84it/s, now=None]"
     ]
    },
    {
     "name": "stdout",
     "output_type": "stream",
     "text": [
      "720\n",
      "640.0\n",
      "311.12055337065703\n",
      "1013.6039717512436\n",
      "662.3622625609503\n",
      "-0.11820053067930865\n",
      "2398.3996773513045\n",
      "1150.3666564805508\n",
      "-0.11820053067930865\n"
     ]
    },
    {
     "name": "stderr",
     "output_type": "stream",
     "text": [
      "\r",
      "t:  69%|█████████████████████████████████████████████▋                    | 873/1260 [08:48<03:22,  1.91it/s, now=None]"
     ]
    },
    {
     "name": "stdout",
     "output_type": "stream",
     "text": [
      "720\n",
      "640.0\n",
      "309.21710831118094\n",
      "1017.3480968649661\n",
      "663.2826025880736\n",
      "-0.12306518510838897\n",
      "2977.577696671566\n",
      "909.1472483543773\n",
      "-0.12306518510838897\n"
     ]
    },
    {
     "name": "stderr",
     "output_type": "stream",
     "text": [
      "\r",
      "t:  69%|█████████████████████████████████████████████▊                    | 874/1260 [08:49<03:32,  1.81it/s, now=None]"
     ]
    },
    {
     "name": "stdout",
     "output_type": "stream",
     "text": [
      "720\n",
      "640.0\n",
      "308.4848087224667\n",
      "1009.592037045678\n",
      "659.0384228840724\n",
      "-0.10063166381581105\n",
      "3403.8713279145763\n",
      "1240.3128813664334\n",
      "-0.10063166381581105\n"
     ]
    },
    {
     "name": "stderr",
     "output_type": "stream",
     "text": [
      "\r",
      "t:  69%|█████████████████████████████████████████████▊                    | 875/1260 [08:49<03:26,  1.86it/s, now=None]"
     ]
    },
    {
     "name": "stdout",
     "output_type": "stream",
     "text": [
      "720\n",
      "640.0\n",
      "308.41619457777244\n",
      "1005.9023625993973\n",
      "657.1592785885848\n",
      "-0.09069904396823401\n",
      "3069.505744627253\n",
      "3410.947067156694\n",
      "-0.09069904396823401\n"
     ]
    },
    {
     "name": "stderr",
     "output_type": "stream",
     "text": [
      "\r",
      "t:  70%|█████████████████████████████████████████████▉                    | 876/1260 [08:50<03:35,  1.78it/s, now=None]"
     ]
    },
    {
     "name": "stdout",
     "output_type": "stream",
     "text": [
      "720\n",
      "640.0\n",
      "309.76785777295083\n",
      "1005.0548087944381\n",
      "657.4113332836945\n",
      "-0.0920313330709566\n",
      "2389.0250226367616\n",
      "2559.9118582192027\n",
      "-0.0920313330709566\n"
     ]
    },
    {
     "name": "stderr",
     "output_type": "stream",
     "text": [
      "\r",
      "t:  70%|█████████████████████████████████████████████▉                    | 877/1260 [08:50<03:35,  1.78it/s, now=None]"
     ]
    },
    {
     "name": "stdout",
     "output_type": "stream",
     "text": [
      "720\n",
      "640.0\n",
      "312.37217150088566\n",
      "1006.2758621650178\n",
      "659.3240168329517\n",
      "-0.1021412318313159\n",
      "1934.4145912099534\n",
      "2348.3326132537036\n",
      "-0.1021412318313159\n"
     ]
    },
    {
     "name": "stderr",
     "output_type": "stream",
     "text": [
      "\r",
      "t:  70%|█████████████████████████████████████████████▉                    | 878/1260 [08:51<03:41,  1.72it/s, now=None]"
     ]
    },
    {
     "name": "stdout",
     "output_type": "stream",
     "text": [
      "720\n",
      "640.0\n",
      "313.536615234098\n",
      "1009.929743131911\n",
      "661.7331791830045\n",
      "-0.1148753756815952\n",
      "1771.0739926186009\n",
      "2008.272095655802\n",
      "-0.1148753756815952\n"
     ]
    },
    {
     "name": "stderr",
     "output_type": "stream",
     "text": [
      "\r",
      "t:  70%|██████████████████████████████████████████████                    | 879/1260 [08:52<03:47,  1.68it/s, now=None]"
     ]
    },
    {
     "name": "stdout",
     "output_type": "stream",
     "text": [
      "720\n",
      "640.0\n",
      "313.39562486518423\n",
      "1012.665782365769\n",
      "663.0307036154766\n",
      "-0.12173371911037616\n",
      "1770.508243088725\n",
      "1496.3892678961056\n",
      "-0.12173371911037616\n"
     ]
    },
    {
     "name": "stderr",
     "output_type": "stream",
     "text": [
      "\r",
      "t:  70%|██████████████████████████████████████████████                    | 880/1260 [08:52<03:45,  1.68it/s, now=None]"
     ]
    },
    {
     "name": "stdout",
     "output_type": "stream",
     "text": [
      "720\n",
      "640.0\n",
      "315.99026344540937\n",
      "1012.2115320509808\n",
      "664.1008977481952\n",
      "-0.12739045952617445\n",
      "1299.1917957276964\n",
      "1781.3963751887873\n",
      "-0.12739045952617445\n"
     ]
    },
    {
     "name": "stderr",
     "output_type": "stream",
     "text": [
      "\r",
      "t:  70%|██████████████████████████████████████████████▏                   | 881/1260 [08:53<03:42,  1.70it/s, now=None]"
     ]
    },
    {
     "name": "stdout",
     "output_type": "stream",
     "text": [
      "720\n",
      "640.0\n",
      "315.08100319538994\n",
      "1013.6164670680772\n",
      "664.3487351317335\n",
      "-0.12870045712487718\n",
      "1414.9179582283364\n",
      "1442.0103728289764\n",
      "-0.12870045712487718\n"
     ]
    },
    {
     "name": "stderr",
     "output_type": "stream",
     "text": [
      "\r",
      "t:  70%|██████████████████████████████████████████████▏                   | 882/1260 [08:53<03:38,  1.73it/s, now=None]"
     ]
    },
    {
     "name": "stdout",
     "output_type": "stream",
     "text": [
      "720\n",
      "640.0\n",
      "313.046508565635\n",
      "1013.2034667119954\n",
      "663.1249876388151\n",
      "-0.1222320775194514\n",
      "1749.8503629919244\n",
      "1904.3676178093963\n",
      "-0.1222320775194514\n"
     ]
    },
    {
     "name": "stderr",
     "output_type": "stream",
     "text": [
      "\r",
      "t:  70%|██████████████████████████████████████████████▎                   | 883/1260 [08:54<03:45,  1.67it/s, now=None]"
     ]
    },
    {
     "name": "stdout",
     "output_type": "stream",
     "text": [
      "720\n",
      "640.0\n",
      "309.83752874360016\n",
      "1020.8737035272966\n",
      "665.3556161354484\n",
      "-0.13402254243022713\n",
      "1909.675623274326\n",
      "1368.080754949978\n",
      "-0.13402254243022713\n"
     ]
    },
    {
     "name": "stderr",
     "output_type": "stream",
     "text": [
      "\r",
      "t:  70%|██████████████████████████████████████████████▎                   | 884/1260 [08:55<03:40,  1.71it/s, now=None]"
     ]
    },
    {
     "name": "stdout",
     "output_type": "stream",
     "text": [
      "720\n",
      "640.0\n",
      "309.83149860407246\n",
      "1018.9054100445942\n",
      "664.3684543243334\n",
      "-0.12880468714290488\n",
      "1623.077907535267\n",
      "1163.7214600352718\n",
      "-0.12880468714290488\n"
     ]
    },
    {
     "name": "stderr",
     "output_type": "stream",
     "text": [
      "\r",
      "t:  70%|██████████████████████████████████████████████▎                   | 885/1260 [08:55<03:35,  1.74it/s, now=None]"
     ]
    },
    {
     "name": "stdout",
     "output_type": "stream",
     "text": [
      "720\n",
      "640.0\n",
      "311.3217224727466\n",
      "1017.2076459691424\n",
      "664.2646842209444\n",
      "-0.12825618802499208\n",
      "1385.1793327279956\n",
      "1163.8606286950644\n",
      "-0.12825618802499208\n"
     ]
    },
    {
     "name": "stderr",
     "output_type": "stream",
     "text": [
      "\r",
      "t:  70%|██████████████████████████████████████████████▍                   | 886/1260 [08:56<03:42,  1.68it/s, now=None]"
     ]
    },
    {
     "name": "stdout",
     "output_type": "stream",
     "text": [
      "720\n",
      "640.0\n",
      "311.18212465843044\n",
      "1008.8673541188595\n",
      "660.024739388645\n",
      "-0.10584505105426645\n",
      "1320.5308381019886\n",
      "3684.8901912905985\n",
      "-0.10584505105426645\n"
     ]
    },
    {
     "name": "stderr",
     "output_type": "stream",
     "text": [
      "\r",
      "t:  70%|██████████████████████████████████████████████▍                   | 887/1260 [08:56<03:44,  1.66it/s, now=None]"
     ]
    },
    {
     "name": "stdout",
     "output_type": "stream",
     "text": [
      "720\n",
      "640.0\n",
      "312.6105362304626\n",
      "1010.9200961390767\n",
      "661.7653161847696\n",
      "-0.1150452426909252\n",
      "1316.6284633431071\n",
      "2872.606915889984\n",
      "-0.1150452426909252\n"
     ]
    },
    {
     "name": "stderr",
     "output_type": "stream",
     "text": [
      "\r",
      "t:  70%|██████████████████████████████████████████████▌                   | 888/1260 [08:57<03:41,  1.68it/s, now=None]"
     ]
    },
    {
     "name": "stdout",
     "output_type": "stream",
     "text": [
      "720\n",
      "640.0\n",
      "311.9624274899181\n",
      "1010.3223334432612\n",
      "661.1423804665897\n",
      "-0.11175258246625962\n",
      "1532.7692271658113\n",
      "4097.554899506282\n",
      "-0.11175258246625962\n"
     ]
    },
    {
     "name": "stderr",
     "output_type": "stream",
     "text": [
      "\r",
      "t:  71%|██████████████████████████████████████████████▌                   | 889/1260 [08:58<03:43,  1.66it/s, now=None]"
     ]
    },
    {
     "name": "stdout",
     "output_type": "stream",
     "text": [
      "720\n",
      "640.0\n",
      "310.9022238852332\n",
      "1016.0794644513616\n",
      "663.4908441682974\n",
      "-0.12416589060385755\n",
      "1893.4475971275392\n",
      "1649.6028775652235\n",
      "-0.12416589060385755\n"
     ]
    },
    {
     "name": "stderr",
     "output_type": "stream",
     "text": [
      "\r",
      "t:  71%|██████████████████████████████████████████████▌                   | 890/1260 [08:58<03:38,  1.69it/s, now=None]"
     ]
    },
    {
     "name": "stdout",
     "output_type": "stream",
     "text": [
      "720\n",
      "640.0\n",
      "311.6677987957381\n",
      "1017.5713522834727\n",
      "664.6195755396054\n",
      "-0.13013204213791438\n",
      "2010.5279008257755\n",
      "1294.1456109412811\n",
      "-0.13013204213791438\n"
     ]
    },
    {
     "name": "stderr",
     "output_type": "stream",
     "text": [
      "\r",
      "t:  71%|██████████████████████████████████████████████▋                   | 891/1260 [08:59<03:22,  1.83it/s, now=None]"
     ]
    },
    {
     "name": "stdout",
     "output_type": "stream",
     "text": [
      "720\n",
      "640.0\n",
      "310.495118074596\n",
      "1016.7287046175754\n",
      "663.6119113460857\n",
      "-0.12480581711502423\n",
      "2109.0687040848866\n",
      "1401.7199304955261\n",
      "-0.12480581711502423\n"
     ]
    },
    {
     "name": "stderr",
     "output_type": "stream",
     "text": [
      "\r",
      "t:  71%|██████████████████████████████████████████████▋                   | 892/1260 [08:59<03:11,  1.92it/s, now=None]"
     ]
    },
    {
     "name": "stdout",
     "output_type": "stream",
     "text": [
      "720\n",
      "640.0\n",
      "309.5853852323719\n",
      "1017.2301107711571\n",
      "663.4077480017645\n",
      "-0.12372666800932666\n",
      "2744.6501934349026\n",
      "1459.6079086163345\n",
      "-0.12372666800932666\n"
     ]
    },
    {
     "name": "stderr",
     "output_type": "stream",
     "text": [
      "\r",
      "t:  71%|██████████████████████████████████████████████▊                   | 893/1260 [08:59<02:54,  2.10it/s, now=None]"
     ]
    },
    {
     "name": "stdout",
     "output_type": "stream",
     "text": [
      "720\n",
      "640.0\n",
      "309.5603823364572\n",
      "1018.9531583331201\n",
      "664.2567703347886\n",
      "-0.1282143574838826\n",
      "3419.988601009239\n",
      "1263.7400321142516\n",
      "-0.1282143574838826\n"
     ]
    },
    {
     "name": "stderr",
     "output_type": "stream",
     "text": [
      "\r",
      "t:  71%|██████████████████████████████████████████████▊                   | 894/1260 [09:00<02:41,  2.27it/s, now=None]"
     ]
    },
    {
     "name": "stdout",
     "output_type": "stream",
     "text": [
      "720\n",
      "640.0\n",
      "309.9490209373806\n",
      "1018.2211390048125\n",
      "664.0850799710965\n",
      "-0.12730685127579605\n",
      "4136.427060477902\n",
      "1307.411952909624\n",
      "-0.12730685127579605\n"
     ]
    },
    {
     "name": "stderr",
     "output_type": "stream",
     "text": [
      "\r",
      "t:  71%|██████████████████████████████████████████████▉                   | 895/1260 [09:00<02:40,  2.28it/s, now=None]"
     ]
    },
    {
     "name": "stdout",
     "output_type": "stream",
     "text": [
      "720\n",
      "640.0\n",
      "311.6076723245133\n",
      "1027.453012768318\n",
      "669.5303425464157\n",
      "-0.15608895345962576\n",
      "4713.3735697598195\n",
      "986.3718310188846\n",
      "-0.15608895345962576\n"
     ]
    },
    {
     "name": "stderr",
     "output_type": "stream",
     "text": [
      "\r",
      "t:  71%|██████████████████████████████████████████████▉                   | 896/1260 [09:01<02:59,  2.02it/s, now=None]"
     ]
    },
    {
     "name": "stdout",
     "output_type": "stream",
     "text": [
      "720\n",
      "640.0\n",
      "312.8635166043747\n",
      "1024.3183097042993\n",
      "668.5909131543369\n",
      "-0.15112339810149522\n",
      "5936.494926353795\n",
      "987.0117407981899\n",
      "-0.15112339810149522\n"
     ]
    },
    {
     "name": "stderr",
     "output_type": "stream",
     "text": [
      "\r",
      "t:  71%|██████████████████████████████████████████████▉                   | 897/1260 [09:01<02:55,  2.07it/s, now=None]"
     ]
    },
    {
     "name": "stdout",
     "output_type": "stream",
     "text": [
      "720\n",
      "640.0\n",
      "315.6849639407379\n",
      "1023.3662497423172\n",
      "669.5256068415275\n",
      "-0.15606392187664547\n",
      "6219.159126709456\n",
      "918.0059588717327\n",
      "-0.15606392187664547\n"
     ]
    },
    {
     "name": "stderr",
     "output_type": "stream",
     "text": [
      "\r",
      "t:  71%|███████████████████████████████████████████████                   | 898/1260 [09:02<02:45,  2.19it/s, now=None]"
     ]
    },
    {
     "name": "stdout",
     "output_type": "stream",
     "text": [
      "720\n",
      "640.0\n",
      "318.3727583832276\n",
      "1011.8725180968001\n",
      "665.1226382400139\n",
      "-0.1327910878400734\n",
      "4689.107089416423\n",
      "4430.903918337842\n",
      "-0.1327910878400734\n"
     ]
    },
    {
     "name": "stderr",
     "output_type": "stream",
     "text": [
      "\r",
      "t:  71%|███████████████████████████████████████████████                   | 899/1260 [09:02<02:34,  2.34it/s, now=None]"
     ]
    },
    {
     "name": "stdout",
     "output_type": "stream",
     "text": [
      "720\n",
      "640.0\n",
      "320.77460700931647\n",
      "1003.8194520538691\n",
      "662.2970295315928\n",
      "-0.1178557275241333\n",
      "4428.752736939858\n",
      "18492.789307232862\n",
      "-0.1178557275241333\n"
     ]
    },
    {
     "name": "stderr",
     "output_type": "stream",
     "text": [
      "\r",
      "t:  71%|███████████████████████████████████████████████▏                  | 900/1260 [09:02<02:25,  2.48it/s, now=None]"
     ]
    },
    {
     "name": "stdout",
     "output_type": "stream",
     "text": [
      "720\n",
      "640.0\n",
      "322.73108142133947\n",
      "1007.2169478725219\n",
      "664.9740146469308\n",
      "-0.1320055059909197\n",
      "3825.67845573877\n",
      "46581.002919583596\n",
      "-0.1320055059909197\n"
     ]
    },
    {
     "name": "stderr",
     "output_type": "stream",
     "text": [
      "\r",
      "t:  72%|███████████████████████████████████████████████▏                  | 901/1260 [09:03<02:23,  2.49it/s, now=None]"
     ]
    },
    {
     "name": "stdout",
     "output_type": "stream",
     "text": [
      "720\n",
      "640.0\n",
      "324.76600768151206\n",
      "1012.8535333604207\n",
      "668.8097705209664\n",
      "-0.15228021561082222\n",
      "3126.9488518067456\n",
      "4522.569414402674\n",
      "-0.15228021561082222\n"
     ]
    },
    {
     "name": "stderr",
     "output_type": "stream",
     "text": [
      "\r",
      "t:  72%|███████████████████████████████████████████████▏                  | 902/1260 [09:03<02:19,  2.56it/s, now=None]"
     ]
    },
    {
     "name": "stdout",
     "output_type": "stream",
     "text": [
      "720\n",
      "640.0\n",
      "327.6876080063372\n",
      "1014.9547339322478\n",
      "671.3211709692926\n",
      "-0.16555476083768922\n",
      "2405.2594710228173\n",
      "2576.3703473482506\n",
      "-0.16555476083768922\n"
     ]
    },
    {
     "name": "stderr",
     "output_type": "stream",
     "text": [
      "\r",
      "t:  72%|███████████████████████████████████████████████▎                  | 903/1260 [09:03<02:19,  2.57it/s, now=None]"
     ]
    },
    {
     "name": "stdout",
     "output_type": "stream",
     "text": [
      "720\n",
      "640.0\n",
      "326.3403936249322\n",
      "1016.8539156399601\n",
      "671.5971546324461\n",
      "-0.1670135316286435\n",
      "3180.491435458149\n",
      "2706.4112554052326\n",
      "-0.1670135316286435\n"
     ]
    },
    {
     "name": "stderr",
     "output_type": "stream",
     "text": [
      "\r",
      "t:  72%|███████████████████████████████████████████████▎                  | 904/1260 [09:04<02:23,  2.48it/s, now=None]"
     ]
    },
    {
     "name": "stdout",
     "output_type": "stream",
     "text": [
      "720\n",
      "640.0\n",
      "326.32477420900943\n",
      "1017.4766522135606\n",
      "671.9007132112849\n",
      "-0.16861805554536324\n",
      "3327.052687249939\n",
      "2452.8624611185933\n",
      "-0.16861805554536324\n"
     ]
    },
    {
     "name": "stderr",
     "output_type": "stream",
     "text": [
      "\r",
      "t:  72%|███████████████████████████████████████████████▍                  | 905/1260 [09:05<03:08,  1.88it/s, now=None]"
     ]
    },
    {
     "name": "stdout",
     "output_type": "stream",
     "text": [
      "720\n",
      "640.0\n",
      "326.5099313008783\n",
      "1019.7453203067843\n",
      "673.1276258038313\n",
      "-0.1751031649631082\n",
      "3502.2058884573466\n",
      "2819.3763955915365\n",
      "-0.1751031649631082\n"
     ]
    },
    {
     "name": "stderr",
     "output_type": "stream",
     "text": [
      "\r",
      "t:  72%|███████████████████████████████████████████████▍                  | 906/1260 [09:05<03:07,  1.89it/s, now=None]"
     ]
    },
    {
     "name": "stdout",
     "output_type": "stream",
     "text": [
      "720\n",
      "640.0\n",
      "325.7342868911046\n",
      "1021.1896016856895\n",
      "673.461944288397\n",
      "-0.17687027695295576\n",
      "3611.3529631408687\n",
      "2813.0680460092212\n",
      "-0.17687027695295576\n"
     ]
    },
    {
     "name": "stderr",
     "output_type": "stream",
     "text": [
      "\r",
      "t:  72%|███████████████████████████████████████████████▌                  | 907/1260 [09:06<03:30,  1.68it/s, now=None]"
     ]
    },
    {
     "name": "stdout",
     "output_type": "stream",
     "text": [
      "720\n",
      "640.0\n",
      "327.0478221957806\n",
      "1029.9746155029136\n",
      "678.5112188493471\n",
      "-0.2035592996322631\n",
      "3805.9387963218223\n",
      "1259.1464403690145\n",
      "-0.2035592996322631\n"
     ]
    },
    {
     "name": "stderr",
     "output_type": "stream",
     "text": [
      "\r",
      "t:  72%|███████████████████████████████████████████████▌                  | 908/1260 [09:07<03:22,  1.74it/s, now=None]"
     ]
    },
    {
     "name": "stdout",
     "output_type": "stream",
     "text": [
      "720\n",
      "640.0\n",
      "326.50347304826965\n",
      "1029.1589067994448\n",
      "677.8311899238572\n",
      "-0.1999648610261024\n",
      "4056.4389659744293\n",
      "1222.2254730068769\n",
      "-0.1999648610261024\n"
     ]
    },
    {
     "name": "stderr",
     "output_type": "stream",
     "text": [
      "\r",
      "t:  72%|███████████████████████████████████████████████▌                  | 909/1260 [09:07<03:27,  1.69it/s, now=None]"
     ]
    },
    {
     "name": "stdout",
     "output_type": "stream",
     "text": [
      "720\n",
      "640.0\n",
      "327.18023198189275\n",
      "1021.5014487291033\n",
      "674.340840355498\n",
      "-0.18151587045048953\n",
      "3806.835619598967\n",
      "1485.4412437179449\n",
      "-0.18151587045048953\n"
     ]
    },
    {
     "name": "stderr",
     "output_type": "stream",
     "text": [
      "\r",
      "t:  72%|███████████████████████████████████████████████▋                  | 910/1260 [09:08<03:21,  1.73it/s, now=None]"
     ]
    },
    {
     "name": "stdout",
     "output_type": "stream",
     "text": [
      "720\n",
      "640.0\n",
      "327.2120898928657\n",
      "1021.3592977079712\n",
      "674.2856938004185\n",
      "-0.18122438151649764\n",
      "3496.7678475154653\n",
      "1553.966191352621\n",
      "-0.18122438151649764\n"
     ]
    },
    {
     "name": "stderr",
     "output_type": "stream",
     "text": [
      "\r",
      "t:  72%|███████████████████████████████████████████████▋                  | 911/1260 [09:08<03:31,  1.65it/s, now=None]"
     ]
    },
    {
     "name": "stdout",
     "output_type": "stream",
     "text": [
      "720\n",
      "640.0\n",
      "326.66819529408554\n",
      "1023.6405261114078\n",
      "675.1543607027467\n",
      "-0.18581590657166092\n",
      "3864.150124386542\n",
      "1149.2286981275\n",
      "-0.18581590657166092\n"
     ]
    },
    {
     "name": "stderr",
     "output_type": "stream",
     "text": [
      "\r",
      "t:  72%|███████████████████████████████████████████████▊                  | 912/1260 [09:09<03:19,  1.75it/s, now=None]"
     ]
    },
    {
     "name": "stdout",
     "output_type": "stream",
     "text": [
      "720\n",
      "640.0\n",
      "327.50311179415723\n",
      "1020.6889871390671\n",
      "674.0960494666122\n",
      "-0.18022197575209284\n",
      "4066.774660234387\n",
      "1218.641874331941\n",
      "-0.18022197575209284\n"
     ]
    },
    {
     "name": "stderr",
     "output_type": "stream",
     "text": [
      "\r",
      "t:  72%|███████████████████████████████████████████████▊                  | 913/1260 [09:10<03:41,  1.56it/s, now=None]"
     ]
    },
    {
     "name": "stdout",
     "output_type": "stream",
     "text": [
      "720\n",
      "640.0\n",
      "326.81791083535984\n",
      "1021.9732315239108\n",
      "674.3955711796353\n",
      "-0.18180516194950108\n",
      "2879.3238950010414\n",
      "1115.817283038139\n",
      "-0.18180516194950108\n"
     ]
    },
    {
     "name": "stderr",
     "output_type": "stream",
     "text": [
      "\r",
      "t:  73%|███████████████████████████████████████████████▉                  | 914/1260 [09:10<03:45,  1.54it/s, now=None]"
     ]
    },
    {
     "name": "stdout",
     "output_type": "stream",
     "text": [
      "720\n",
      "640.0\n",
      "328.36644601372666\n",
      "1018.7225006076557\n",
      "673.5444733106912\n",
      "-0.17730650178508187\n",
      "2364.775606794127\n",
      "1012.8342616430341\n",
      "-0.17730650178508187\n"
     ]
    },
    {
     "name": "stderr",
     "output_type": "stream",
     "text": [
      "\r",
      "t:  73%|███████████████████████████████████████████████▉                  | 915/1260 [09:11<04:03,  1.42it/s, now=None]"
     ]
    },
    {
     "name": "stdout",
     "output_type": "stream",
     "text": [
      "720\n",
      "640.0\n",
      "329.74950472313816\n",
      "1016.5006732776742\n",
      "673.1250890004062\n",
      "-0.17508975614500424\n",
      "1617.3145320943468\n",
      "986.8580981450889\n",
      "-0.17508975614500424\n"
     ]
    },
    {
     "name": "stderr",
     "output_type": "stream",
     "text": [
      "\r",
      "t:  73%|███████████████████████████████████████████████▉                  | 916/1260 [09:12<03:52,  1.48it/s, now=None]"
     ]
    },
    {
     "name": "stdout",
     "output_type": "stream",
     "text": [
      "720\n",
      "640.0\n",
      "329.64345024347733\n",
      "1015.9026190193321\n",
      "672.7730346314047\n",
      "-0.17322889733742483\n",
      "1414.7766895061188\n",
      "1032.2230614702382\n",
      "-0.17322889733742483\n"
     ]
    },
    {
     "name": "stderr",
     "output_type": "stream",
     "text": [
      "\r",
      "t:  73%|████████████████████████████████████████████████                  | 917/1260 [09:13<04:01,  1.42it/s, now=None]"
     ]
    },
    {
     "name": "stdout",
     "output_type": "stream",
     "text": [
      "720\n",
      "640.0\n",
      "330.67127861262924\n",
      "1014.4884335457016\n",
      "672.5798560791654\n",
      "-0.1722078107041602\n",
      "1237.7243783520505\n",
      "1207.5550788422763\n",
      "-0.1722078107041602\n"
     ]
    },
    {
     "name": "stderr",
     "output_type": "stream",
     "text": [
      "\r",
      "t:  73%|████████████████████████████████████████████████                  | 918/1260 [09:13<04:03,  1.40it/s, now=None]"
     ]
    },
    {
     "name": "stdout",
     "output_type": "stream",
     "text": [
      "720\n",
      "640.0\n",
      "328.09781316144364\n",
      "1014.6632757798442\n",
      "671.3805444706439\n",
      "-0.1658685922019751\n",
      "1270.6394418762611\n",
      "1117.4008844048462\n",
      "-0.1658685922019751\n"
     ]
    },
    {
     "name": "stderr",
     "output_type": "stream",
     "text": [
      "\r",
      "t:  73%|████████████████████████████████████████████████▏                 | 919/1260 [09:14<03:48,  1.49it/s, now=None]"
     ]
    },
    {
     "name": "stdout",
     "output_type": "stream",
     "text": [
      "720\n",
      "640.0\n",
      "326.43538004504546\n",
      "1011.5321488288243\n",
      "668.983764436935\n",
      "-0.15319989773808482\n",
      "1345.6408192538263\n",
      "1156.0071067527454\n",
      "-0.15319989773808482\n"
     ]
    },
    {
     "name": "stderr",
     "output_type": "stream",
     "text": [
      "\r",
      "t:  73%|████████████████████████████████████████████████▏                 | 920/1260 [09:14<03:33,  1.59it/s, now=None]"
     ]
    },
    {
     "name": "stdout",
     "output_type": "stream",
     "text": [
      "720\n",
      "640.0\n",
      "323.7486510566219\n",
      "1010.5782758687196\n",
      "667.1634634626707\n",
      "-0.14357830687411674\n",
      "1508.350519628572\n",
      "1249.6575846098222\n",
      "-0.14357830687411674\n"
     ]
    },
    {
     "name": "stderr",
     "output_type": "stream",
     "text": [
      "\r",
      "t:  73%|████████████████████████████████████████████████▏                 | 921/1260 [09:15<03:40,  1.54it/s, now=None]"
     ]
    },
    {
     "name": "stdout",
     "output_type": "stream",
     "text": [
      "720\n",
      "640.0\n",
      "322.1794463748387\n",
      "1002.8332379150943\n",
      "662.5063421449665\n",
      "-0.11896209419482313\n",
      "1414.0478492786026\n",
      "2425.297334290056\n",
      "-0.11896209419482313\n"
     ]
    },
    {
     "name": "stderr",
     "output_type": "stream",
     "text": [
      "\r",
      "t:  73%|████████████████████████████████████████████████▎                 | 922/1260 [09:16<03:25,  1.64it/s, now=None]"
     ]
    },
    {
     "name": "stdout",
     "output_type": "stream",
     "text": [
      "720\n",
      "640.0\n",
      "321.6510532486828\n",
      "1006.3243947449237\n",
      "663.9877239968032\n",
      "-0.12679225541167405\n",
      "1313.4512485857952\n",
      "1915.6161755674152\n",
      "-0.12679225541167405\n"
     ]
    },
    {
     "name": "stderr",
     "output_type": "stream",
     "text": [
      "\r",
      "t:  73%|████████████████████████████████████████████████▎                 | 923/1260 [09:16<03:24,  1.64it/s, now=None]"
     ]
    },
    {
     "name": "stdout",
     "output_type": "stream",
     "text": [
      "720\n",
      "640.0\n",
      "320.0391053538574\n",
      "1006.8010952302292\n",
      "663.4201002920433\n",
      "-0.12379195868651482\n",
      "1236.218659705262\n",
      "1847.6366212525284\n",
      "-0.12379195868651482\n"
     ]
    },
    {
     "name": "stderr",
     "output_type": "stream",
     "text": [
      "\r",
      "t:  73%|████████████████████████████████████████████████▍                 | 924/1260 [09:17<03:23,  1.65it/s, now=None]"
     ]
    },
    {
     "name": "stdout",
     "output_type": "stream",
     "text": [
      "720\n",
      "640.0\n",
      "319.13841097112436\n",
      "1007.6511124964521\n",
      "663.3947617337883\n",
      "-0.12365802630716674\n",
      "1158.1509102396078\n",
      "1752.0491717741897\n",
      "-0.12365802630716674\n"
     ]
    },
    {
     "name": "stderr",
     "output_type": "stream",
     "text": [
      "\r",
      "t:  73%|████████████████████████████████████████████████▍                 | 925/1260 [09:17<03:28,  1.61it/s, now=None]"
     ]
    },
    {
     "name": "stdout",
     "output_type": "stream",
     "text": [
      "720\n",
      "640.0\n",
      "317.0522445383248\n",
      "1009.8327893704547\n",
      "663.4425169543898\n",
      "-0.1239104467589176\n",
      "1353.9667068318802\n",
      "1440.8119492222309\n",
      "-0.1239104467589176\n"
     ]
    },
    {
     "name": "stderr",
     "output_type": "stream",
     "text": [
      "\r",
      "t:  73%|████████████████████████████████████████████████▌                 | 926/1260 [09:18<03:35,  1.55it/s, now=None]"
     ]
    },
    {
     "name": "stdout",
     "output_type": "stream",
     "text": [
      "720\n",
      "640.0\n",
      "317.0212858808752\n",
      "1007.6692070668789\n",
      "662.3452464738771\n",
      "-0.11811058850477879\n",
      "1259.603939144093\n",
      "1593.1330606411022\n",
      "-0.11811058850477879\n"
     ]
    },
    {
     "name": "stderr",
     "output_type": "stream",
     "text": [
      "\r",
      "t:  74%|████████████████████████████████████████████████▌                 | 927/1260 [09:19<03:27,  1.60it/s, now=None]"
     ]
    },
    {
     "name": "stdout",
     "output_type": "stream",
     "text": [
      "720\n",
      "640.0\n",
      "315.55417537803874\n",
      "1007.8356759333562\n",
      "661.6949256556975\n",
      "-0.11467317846582958\n",
      "1381.8925593075526\n",
      "1510.4360067180892\n",
      "-0.11467317846582958\n"
     ]
    },
    {
     "name": "stderr",
     "output_type": "stream",
     "text": [
      "\r",
      "t:  74%|████████████████████████████████████████████████▌                 | 928/1260 [09:19<03:05,  1.79it/s, now=None]"
     ]
    },
    {
     "name": "stdout",
     "output_type": "stream",
     "text": [
      "720\n",
      "640.0\n",
      "313.44031376065044\n",
      "1007.7018110273947\n",
      "660.5710623940225\n",
      "-0.10873275836840482\n",
      "1552.3607265141384\n",
      "2257.5813994686923\n",
      "-0.10873275836840482\n"
     ]
    },
    {
     "name": "stderr",
     "output_type": "stream",
     "text": [
      "\r",
      "t:  74%|████████████████████████████████████████████████▋                 | 929/1260 [09:20<02:47,  1.97it/s, now=None]"
     ]
    },
    {
     "name": "stdout",
     "output_type": "stream",
     "text": [
      "720\n",
      "640.0\n",
      "312.4269170386225\n",
      "1009.4323546964074\n",
      "660.9296358675149\n",
      "-0.11062807529972156\n",
      "1617.3285391015372\n",
      "1524.9717876820405\n",
      "-0.11062807529972156\n"
     ]
    },
    {
     "name": "stderr",
     "output_type": "stream",
     "text": [
      "\r",
      "t:  74%|████████████████████████████████████████████████▋                 | 930/1260 [09:20<02:42,  2.03it/s, now=None]"
     ]
    },
    {
     "name": "stdout",
     "output_type": "stream",
     "text": [
      "720\n",
      "640.0\n",
      "311.14884990643634\n",
      "1010.4608210507743\n",
      "660.8048354786054\n",
      "-0.10996841610119974\n",
      "1770.542067241382\n",
      "1546.5890369092617\n",
      "-0.10996841610119974\n"
     ]
    },
    {
     "name": "stderr",
     "output_type": "stream",
     "text": [
      "\r",
      "t:  74%|████████████████████████████████████████████████▊                 | 931/1260 [09:21<03:00,  1.82it/s, now=None]"
     ]
    },
    {
     "name": "stdout",
     "output_type": "stream",
     "text": [
      "720\n",
      "640.0\n",
      "311.0260059889913\n",
      "1012.1263213556946\n",
      "661.576163672343\n",
      "-0.11404543655381301\n",
      "1810.8492875776296\n",
      "1500.4519399000087\n",
      "-0.11404543655381301\n"
     ]
    },
    {
     "name": "stderr",
     "output_type": "stream",
     "text": [
      "\r",
      "t:  74%|████████████████████████████████████████████████▊                 | 932/1260 [09:21<03:18,  1.65it/s, now=None]"
     ]
    },
    {
     "name": "stdout",
     "output_type": "stream",
     "text": [
      "720\n",
      "640.0\n",
      "311.54840802280836\n",
      "1007.4362835453303\n",
      "659.4923457840694\n",
      "-0.10303097057293803\n",
      "1798.444437624655\n",
      "2811.2940772961842\n",
      "-0.10303097057293803\n"
     ]
    },
    {
     "name": "stderr",
     "output_type": "stream",
     "text": [
      "\r",
      "t:  74%|████████████████████████████████████████████████▊                 | 933/1260 [09:22<03:21,  1.63it/s, now=None]"
     ]
    },
    {
     "name": "stdout",
     "output_type": "stream",
     "text": [
      "720\n",
      "640.0\n",
      "311.0421236693162\n",
      "1009.9483113612118\n",
      "660.495217515264\n",
      "-0.10833186400925267\n",
      "2140.5287883747887\n",
      "2715.863681792082\n",
      "-0.10833186400925267\n"
     ]
    },
    {
     "name": "stderr",
     "output_type": "stream",
     "text": [
      "\r",
      "t:  74%|████████████████████████████████████████████████▉                 | 934/1260 [09:23<03:18,  1.64it/s, now=None]"
     ]
    },
    {
     "name": "stdout",
     "output_type": "stream",
     "text": [
      "720\n",
      "640.0\n",
      "312.06754049717125\n",
      "1012.39751410004\n",
      "662.2325272986056\n",
      "-0.1175147871497727\n",
      "2443.543116988965\n",
      "2400.260729008534\n",
      "-0.1175147871497727\n"
     ]
    },
    {
     "name": "stderr",
     "output_type": "stream",
     "text": [
      "\r",
      "t:  74%|████████████████████████████████████████████████▉                 | 935/1260 [09:23<03:26,  1.58it/s, now=None]"
     ]
    },
    {
     "name": "stdout",
     "output_type": "stream",
     "text": [
      "720\n",
      "640.0\n",
      "312.6728748122863\n",
      "1017.3146742757323\n",
      "664.9937745440093\n",
      "-0.13210995116119192\n",
      "2903.273405882446\n",
      "1685.5414773465536\n",
      "-0.13210995116119192\n"
     ]
    },
    {
     "name": "stderr",
     "output_type": "stream",
     "text": [
      "\r",
      "t:  74%|█████████████████████████████████████████████████                 | 936/1260 [09:24<03:17,  1.64it/s, now=None]"
     ]
    },
    {
     "name": "stdout",
     "output_type": "stream",
     "text": [
      "720\n",
      "640.0\n",
      "313.34932391677086\n",
      "1019.8673088442812\n",
      "666.608316380526\n",
      "-0.140643958011352\n",
      "3569.6439280531317\n",
      "1286.7141977868932\n",
      "-0.140643958011352\n"
     ]
    },
    {
     "name": "stderr",
     "output_type": "stream",
     "text": [
      "\r",
      "t:  74%|█████████████████████████████████████████████████                 | 937/1260 [09:25<03:27,  1.56it/s, now=None]"
     ]
    },
    {
     "name": "stdout",
     "output_type": "stream",
     "text": [
      "720\n",
      "640.0\n",
      "315.986679399525\n",
      "1020.7713206313143\n",
      "668.3790000154197\n",
      "-0.1500032857957899\n",
      "4300.218923650507\n",
      "1098.0587675385839\n",
      "-0.1500032857957899\n"
     ]
    },
    {
     "name": "stderr",
     "output_type": "stream",
     "text": [
      "\r",
      "t:  74%|█████████████████████████████████████████████████▏                | 938/1260 [09:25<03:18,  1.62it/s, now=None]"
     ]
    },
    {
     "name": "stdout",
     "output_type": "stream",
     "text": [
      "720\n",
      "640.0\n",
      "318.0925714863522\n",
      "1018.9524098240657\n",
      "668.5224906552089\n",
      "-0.15076173632038997\n",
      "3546.2135990168845\n",
      "1234.4497733457981\n",
      "-0.15076173632038997\n"
     ]
    },
    {
     "name": "stderr",
     "output_type": "stream",
     "text": [
      "\r",
      "t:  75%|█████████████████████████████████████████████████▏                | 939/1260 [09:26<03:17,  1.63it/s, now=None]"
     ]
    },
    {
     "name": "stdout",
     "output_type": "stream",
     "text": [
      "720\n",
      "640.0\n",
      "319.61804172072806\n",
      "1018.8230088378712\n",
      "669.2205252792996\n",
      "-0.1544513479048695\n",
      "3680.9961155690835\n",
      "1117.832689044307\n",
      "-0.1544513479048695\n"
     ]
    },
    {
     "name": "stderr",
     "output_type": "stream",
     "text": [
      "\r",
      "t:  75%|█████████████████████████████████████████████████▏                | 940/1260 [09:27<03:33,  1.50it/s, now=None]"
     ]
    },
    {
     "name": "stdout",
     "output_type": "stream",
     "text": [
      "720\n",
      "640.0\n",
      "320.611230302176\n",
      "1017.2843714898761\n",
      "668.947800896026\n",
      "-0.15300980473613757\n",
      "3650.446093475834\n",
      "1196.1687354262117\n",
      "-0.15300980473613757\n"
     ]
    },
    {
     "name": "stderr",
     "output_type": "stream",
     "text": [
      "\r",
      "t:  75%|█████████████████████████████████████████████████▎                | 941/1260 [09:27<03:49,  1.39it/s, now=None]"
     ]
    },
    {
     "name": "stdout",
     "output_type": "stream",
     "text": [
      "720\n",
      "640.0\n",
      "320.5588900323217\n",
      "1016.5179805936234\n",
      "668.5384353129725\n",
      "-0.15084601522571192\n",
      "3991.2250506093897\n",
      "992.2730819508184\n",
      "-0.15084601522571192\n"
     ]
    },
    {
     "name": "stderr",
     "output_type": "stream",
     "text": [
      "\r",
      "t:  75%|█████████████████████████████████████████████████▎                | 942/1260 [09:28<03:52,  1.37it/s, now=None]"
     ]
    },
    {
     "name": "stdout",
     "output_type": "stream",
     "text": [
      "720\n",
      "640.0\n",
      "322.90904950018137\n",
      "1030.840184662713\n",
      "676.8746170814472\n",
      "-0.1949086902876497\n",
      "3170.5068306143885\n",
      "703.8637508909817\n",
      "-0.1949086902876497\n"
     ]
    },
    {
     "name": "stderr",
     "output_type": "stream",
     "text": [
      "\r",
      "t:  75%|█████████████████████████████████████████████████▍                | 943/1260 [09:29<03:48,  1.39it/s, now=None]"
     ]
    },
    {
     "name": "stdout",
     "output_type": "stream",
     "text": [
      "720\n",
      "640.0\n",
      "321.92699664099916\n",
      "1023.5948385054384\n",
      "672.7609175732188\n",
      "-0.17316485002987062\n",
      "3274.952334410709\n",
      "814.6677771548431\n",
      "-0.17316485002987062\n"
     ]
    },
    {
     "name": "stderr",
     "output_type": "stream",
     "text": [
      "\r",
      "t:  75%|█████████████████████████████████████████████████▍                | 944/1260 [09:29<03:35,  1.47it/s, now=None]"
     ]
    },
    {
     "name": "stdout",
     "output_type": "stream",
     "text": [
      "720\n",
      "640.0\n",
      "325.1576905277245\n",
      "1012.4602931465176\n",
      "668.8089918371211\n",
      "-0.15227609971049716\n",
      "1961.2988107285466\n",
      "1315.2493690115277\n",
      "-0.15227609971049716\n"
     ]
    },
    {
     "name": "stderr",
     "output_type": "stream",
     "text": [
      "\r",
      "t:  75%|█████████████████████████████████████████████████▌                | 945/1260 [09:30<03:38,  1.44it/s, now=None]"
     ]
    },
    {
     "name": "stdout",
     "output_type": "stream",
     "text": [
      "720\n",
      "640.0\n",
      "324.89006091525516\n",
      "1013.5413458093369\n",
      "669.215703362296\n",
      "-0.15442586062927907\n",
      "1520.6856862818806\n",
      "1288.0256050228554\n",
      "-0.15442586062927907\n"
     ]
    },
    {
     "name": "stderr",
     "output_type": "stream",
     "text": [
      "\r",
      "t:  75%|█████████████████████████████████████████████████▌                | 946/1260 [09:31<03:41,  1.42it/s, now=None]"
     ]
    },
    {
     "name": "stdout",
     "output_type": "stream",
     "text": [
      "720\n",
      "640.0\n",
      "326.6987796731964\n",
      "1013.7679059490055\n",
      "670.2333428111009\n",
      "-0.15980481200153332\n",
      "1332.7323129778595\n",
      "1151.6027347772256\n",
      "-0.15980481200153332\n"
     ]
    },
    {
     "name": "stderr",
     "output_type": "stream",
     "text": [
      "\r",
      "t:  75%|█████████████████████████████████████████████████▌                | 947/1260 [09:32<03:35,  1.45it/s, now=None]"
     ]
    },
    {
     "name": "stdout",
     "output_type": "stream",
     "text": [
      "720\n",
      "640.0\n",
      "327.79160462302434\n",
      "1014.4234994682724\n",
      "671.1075520456484\n",
      "-0.16442563224128434\n",
      "1242.7015133968252\n",
      "1098.0676111414207\n",
      "-0.16442563224128434\n"
     ]
    },
    {
     "name": "stderr",
     "output_type": "stream",
     "text": [
      "\r",
      "t:  75%|█████████████████████████████████████████████████▋                | 948/1260 [09:32<03:32,  1.47it/s, now=None]"
     ]
    },
    {
     "name": "stdout",
     "output_type": "stream",
     "text": [
      "720\n",
      "640.0\n",
      "327.30474398387673\n",
      "1014.7799672630633\n",
      "671.04235562347\n",
      "-0.16408102258119875\n",
      "1198.752935388608\n",
      "1139.807543243081\n",
      "-0.16408102258119875\n"
     ]
    },
    {
     "name": "stderr",
     "output_type": "stream",
     "text": [
      "\r",
      "t:  75%|█████████████████████████████████████████████████▋                | 949/1260 [09:33<03:38,  1.43it/s, now=None]"
     ]
    },
    {
     "name": "stdout",
     "output_type": "stream",
     "text": [
      "720\n",
      "640.0\n",
      "328.55790541134303\n",
      "1016.5581584769523\n",
      "672.5580319441476\n",
      "-0.17209245456192312\n",
      "1058.7245950776842\n",
      "871.2802130499823\n",
      "-0.17209245456192312\n"
     ]
    },
    {
     "name": "stderr",
     "output_type": "stream",
     "text": [
      "\r",
      "t:  75%|█████████████████████████████████████████████████▊                | 950/1260 [09:34<03:52,  1.33it/s, now=None]"
     ]
    },
    {
     "name": "stdout",
     "output_type": "stream",
     "text": [
      "720\n",
      "640.0\n",
      "326.02981279190857\n",
      "1014.625483169037\n",
      "670.3276479804728\n",
      "-0.1603032821824989\n",
      "1200.8294453464252\n",
      "1038.493904897376\n",
      "-0.1603032821824989\n"
     ]
    },
    {
     "name": "stderr",
     "output_type": "stream",
     "text": [
      "\r",
      "t:  75%|█████████████████████████████████████████████████▊                | 951/1260 [09:34<03:41,  1.40it/s, now=None]"
     ]
    },
    {
     "name": "stdout",
     "output_type": "stream",
     "text": [
      "720\n",
      "640.0\n",
      "324.9707747139016\n",
      "1013.9628085640098\n",
      "669.4667916389558\n",
      "-0.15575304152019487\n",
      "1205.1428553713667\n",
      "944.0439753183024\n",
      "-0.15575304152019487\n"
     ]
    },
    {
     "name": "stderr",
     "output_type": "stream",
     "text": [
      "\r",
      "t:  76%|█████████████████████████████████████████████████▊                | 952/1260 [09:35<03:57,  1.30it/s, now=None]"
     ]
    },
    {
     "name": "stdout",
     "output_type": "stream",
     "text": [
      "720\n",
      "640.0\n",
      "321.47444895090916\n",
      "1012.2093065512919\n",
      "666.8418777511006\n",
      "-0.1418784966843888\n",
      "1495.129301427602\n",
      "1469.49704355332\n",
      "-0.1418784966843888\n"
     ]
    },
    {
     "name": "stderr",
     "output_type": "stream",
     "text": [
      "\r",
      "t:  76%|█████████████████████████████████████████████████▉                | 953/1260 [09:36<03:45,  1.36it/s, now=None]"
     ]
    },
    {
     "name": "stdout",
     "output_type": "stream",
     "text": [
      "720\n",
      "640.0\n",
      "318.1844109677654\n",
      "1015.1805273559581\n",
      "666.6824691618617\n",
      "-0.14103590842698338\n",
      "1675.0497338122207\n",
      "1425.3675503180975\n",
      "-0.14103590842698338\n"
     ]
    },
    {
     "name": "stderr",
     "output_type": "stream",
     "text": [
      "\r",
      "t:  76%|█████████████████████████████████████████████████▉                | 954/1260 [09:37<03:36,  1.41it/s, now=None]"
     ]
    },
    {
     "name": "stdout",
     "output_type": "stream",
     "text": [
      "720\n",
      "640.0\n",
      "317.1918701972264\n",
      "1015.6427463908343\n",
      "666.4173082940304\n",
      "-0.13963434383987477\n",
      "2154.7572280732834\n",
      "1242.4658399937257\n",
      "-0.13963434383987477\n"
     ]
    },
    {
     "name": "stderr",
     "output_type": "stream",
     "text": [
      "\r",
      "t:  76%|██████████████████████████████████████████████████                | 955/1260 [09:37<03:37,  1.40it/s, now=None]"
     ]
    },
    {
     "name": "stdout",
     "output_type": "stream",
     "text": [
      "720\n",
      "640.0\n",
      "315.67016037162307\n",
      "1018.0679269422706\n",
      "666.8690436569468\n",
      "-0.1420220879010046\n",
      "2585.263163997077\n",
      "1277.823614578563\n",
      "-0.1420220879010046\n"
     ]
    },
    {
     "name": "stderr",
     "output_type": "stream",
     "text": [
      "\r",
      "t:  76%|██████████████████████████████████████████████████                | 956/1260 [09:38<03:34,  1.42it/s, now=None]"
     ]
    },
    {
     "name": "stdout",
     "output_type": "stream",
     "text": [
      "720\n",
      "640.0\n",
      "315.0259551667281\n",
      "1013.1112559791304\n",
      "664.0686055729293\n",
      "-0.12721977231405487\n",
      "2783.6099167692105\n",
      "2200.543108389579\n",
      "-0.12721977231405487\n"
     ]
    },
    {
     "name": "stderr",
     "output_type": "stream",
     "text": [
      "\r",
      "t:  76%|██████████████████████████████████████████████████▏               | 957/1260 [09:39<03:37,  1.39it/s, now=None]"
     ]
    },
    {
     "name": "stdout",
     "output_type": "stream",
     "text": [
      "720\n",
      "640.0\n",
      "317.4841986189955\n",
      "1013.2220153005468\n",
      "665.3531069597711\n",
      "-0.1340092796445046\n",
      "2449.275896678747\n",
      "2476.9661308811837\n",
      "-0.1340092796445046\n"
     ]
    },
    {
     "name": "stderr",
     "output_type": "stream",
     "text": [
      "\r",
      "t:  76%|██████████████████████████████████████████████████▏               | 958/1260 [09:39<03:22,  1.49it/s, now=None]"
     ]
    },
    {
     "name": "stdout",
     "output_type": "stream",
     "text": [
      "720\n",
      "640.0\n",
      "318.23872678048554\n",
      "1012.6100162223659\n",
      "665.4243715014256\n",
      "-0.13438596365039268\n",
      "2459.337389147566\n",
      "3636.486360561006\n",
      "-0.13438596365039268\n"
     ]
    },
    {
     "name": "stderr",
     "output_type": "stream",
     "text": [
      "\r",
      "t:  76%|██████████████████████████████████████████████████▏               | 959/1260 [09:40<03:22,  1.48it/s, now=None]"
     ]
    },
    {
     "name": "stdout",
     "output_type": "stream",
     "text": [
      "720\n",
      "640.0\n",
      "320.53976802841044\n",
      "1015.52769803887\n",
      "668.0337330336401\n",
      "-0.14817830317781222\n",
      "2746.017336791856\n",
      "3135.7462964282918\n",
      "-0.14817830317781222\n"
     ]
    },
    {
     "name": "stderr",
     "output_type": "stream",
     "text": [
      "\r",
      "t:  76%|██████████████████████████████████████████████████▎               | 960/1260 [09:41<03:20,  1.50it/s, now=None]"
     ]
    },
    {
     "name": "stdout",
     "output_type": "stream",
     "text": [
      "720\n",
      "640.0\n",
      "323.0304310699021\n",
      "1021.2529160340457\n",
      "672.1416735519739\n",
      "-0.16989170306043344\n",
      "2179.871607972045\n",
      "2251.5686008426806\n",
      "-0.16989170306043344\n"
     ]
    },
    {
     "name": "stderr",
     "output_type": "stream",
     "text": [
      "\r",
      "t:  76%|██████████████████████████████████████████████████▎               | 961/1260 [09:42<03:36,  1.38it/s, now=None]"
     ]
    },
    {
     "name": "stdout",
     "output_type": "stream",
     "text": [
      "720\n",
      "640.0\n",
      "325.39067531643013\n",
      "1022.5321144407909\n",
      "673.9613948786105\n",
      "-0.17951023007265532\n",
      "2180.8824962008216\n",
      "1877.86532021687\n",
      "-0.17951023007265532\n"
     ]
    },
    {
     "name": "stderr",
     "output_type": "stream",
     "text": [
      "\r",
      "t:  76%|██████████████████████████████████████████████████▍               | 962/1260 [09:42<03:26,  1.44it/s, now=None]"
     ]
    },
    {
     "name": "stdout",
     "output_type": "stream",
     "text": [
      "720\n",
      "640.0\n",
      "329.227199690259\n",
      "1024.301210035122\n",
      "676.7642048626906\n",
      "-0.1943250828456502\n",
      "1703.7924318455096\n",
      "2288.078085852429\n",
      "-0.1943250828456502\n"
     ]
    },
    {
     "name": "stderr",
     "output_type": "stream",
     "text": [
      "\r",
      "t:  76%|██████████████████████████████████████████████████▍               | 963/1260 [09:43<03:08,  1.57it/s, now=None]"
     ]
    },
    {
     "name": "stdout",
     "output_type": "stream",
     "text": [
      "720\n",
      "640.0\n",
      "330.6835795883465\n",
      "1026.719168634074\n",
      "678.7013741112103\n",
      "-0.20456440601639717\n",
      "1751.1659594735743\n",
      "3454.1014272416473\n",
      "-0.20456440601639717\n"
     ]
    },
    {
     "name": "stderr",
     "output_type": "stream",
     "text": [
      "\r",
      "t:  77%|██████████████████████████████████████████████████▍               | 964/1260 [09:43<02:58,  1.65it/s, now=None]"
     ]
    },
    {
     "name": "stdout",
     "output_type": "stream",
     "text": [
      "720\n",
      "640.0\n",
      "332.4840140926871\n",
      "1029.515856920407\n",
      "680.9999355065471\n",
      "-0.21671394482032041\n",
      "1942.02450045869\n",
      "2078.7854498136817\n",
      "-0.21671394482032041\n"
     ]
    },
    {
     "name": "stderr",
     "output_type": "stream",
     "text": [
      "\r",
      "t:  77%|██████████████████████████████████████████████████▌               | 965/1260 [09:44<03:06,  1.58it/s, now=None]"
     ]
    },
    {
     "name": "stdout",
     "output_type": "stream",
     "text": [
      "720\n",
      "640.0\n",
      "333.59835094442013\n",
      "1031.557046224921\n",
      "682.5776985846705\n",
      "-0.22505354966183003\n",
      "1746.0397056481108\n",
      "2560.053967587427\n",
      "-0.22505354966183003\n"
     ]
    },
    {
     "name": "stderr",
     "output_type": "stream",
     "text": [
      "\r",
      "t:  77%|██████████████████████████████████████████████████▌               | 966/1260 [09:45<03:05,  1.58it/s, now=None]"
     ]
    },
    {
     "name": "stdout",
     "output_type": "stream",
     "text": [
      "720\n",
      "640.0\n",
      "335.28787121104517\n",
      "1040.3659971176096\n",
      "687.8269341643274\n",
      "-0.2527995091543022\n",
      "1634.8639773010245\n",
      "1290.8321911067833\n",
      "-0.2527995091543022\n"
     ]
    },
    {
     "name": "stderr",
     "output_type": "stream",
     "text": [
      "\r",
      "t:  77%|██████████████████████████████████████████████████▋               | 967/1260 [09:45<03:12,  1.52it/s, now=None]"
     ]
    },
    {
     "name": "stdout",
     "output_type": "stream",
     "text": [
      "720\n",
      "640.0\n",
      "336.89150014483596\n",
      "1027.262416163349\n",
      "682.0769581540924\n",
      "-0.2224067788144883\n",
      "1856.45682519203\n",
      "17965.897773018307\n",
      "-0.2224067788144883\n"
     ]
    },
    {
     "name": "stderr",
     "output_type": "stream",
     "text": [
      "\r",
      "t:  77%|██████████████████████████████████████████████████▋               | 968/1260 [09:46<03:06,  1.57it/s, now=None]"
     ]
    },
    {
     "name": "stdout",
     "output_type": "stream",
     "text": [
      "720\n",
      "640.0\n",
      "337.2106089735155\n",
      "1032.4092250450126\n",
      "684.809917009264\n",
      "-0.23685241847753852\n",
      "1991.1959741137866\n",
      "5991.614258611361\n",
      "-0.23685241847753852\n"
     ]
    },
    {
     "name": "stderr",
     "output_type": "stream",
     "text": [
      "\r",
      "t:  77%|██████████████████████████████████████████████████▊               | 969/1260 [09:46<02:57,  1.64it/s, now=None]"
     ]
    },
    {
     "name": "stdout",
     "output_type": "stream",
     "text": [
      "720\n",
      "640.0\n",
      "339.81444671740076\n",
      "1036.6947996627225\n",
      "688.2546231900617\n",
      "-0.25506015114746894\n",
      "1695.9273123585251\n",
      "2923.818047587139\n",
      "-0.25506015114746894\n"
     ]
    },
    {
     "name": "stderr",
     "output_type": "stream",
     "text": [
      "\r",
      "t:  77%|██████████████████████████████████████████████████▊               | 970/1260 [09:47<02:50,  1.70it/s, now=None]"
     ]
    },
    {
     "name": "stdout",
     "output_type": "stream",
     "text": [
      "720\n",
      "640.0\n",
      "343.20877878654414\n",
      "1043.5093126909558\n",
      "693.35904573875\n",
      "-0.28204067033339264\n",
      "1225.1693293722965\n",
      "1663.7458075173515\n",
      "-0.28204067033339264\n"
     ]
    },
    {
     "name": "stderr",
     "output_type": "stream",
     "text": [
      "\r",
      "t:  77%|██████████████████████████████████████████████████▊               | 971/1260 [09:48<02:50,  1.70it/s, now=None]"
     ]
    },
    {
     "name": "stdout",
     "output_type": "stream",
     "text": [
      "720\n",
      "640.0\n",
      "343.69307361062914\n",
      "1046.3897084125756\n",
      "695.0413910116024\n",
      "-0.2909330667756127\n",
      "1230.7309895220133\n",
      "1441.802453687992\n",
      "-0.2909330667756127\n"
     ]
    },
    {
     "name": "stderr",
     "output_type": "stream",
     "text": [
      "\r",
      "t:  77%|██████████████████████████████████████████████████▉               | 972/1260 [09:48<02:49,  1.70it/s, now=None]"
     ]
    },
    {
     "name": "stdout",
     "output_type": "stream",
     "text": [
      "720\n",
      "640.0\n",
      "342.36260753609804\n",
      "1046.9495088542997\n",
      "694.6560581951989\n",
      "-0.28889630760319396\n",
      "1891.2346719490952\n",
      "1353.8015405652986\n",
      "-0.28889630760319396\n"
     ]
    },
    {
     "name": "stderr",
     "output_type": "stream",
     "text": [
      "\r",
      "t:  77%|██████████████████████████████████████████████████▉               | 973/1260 [09:49<02:49,  1.69it/s, now=None]"
     ]
    },
    {
     "name": "stdout",
     "output_type": "stream",
     "text": [
      "720\n",
      "640.0\n",
      "342.3345190754071\n",
      "1046.7482212184593\n",
      "694.5413701469332\n",
      "-0.2882900993480756\n",
      "1728.1545598563032\n",
      "1239.2136515361694\n",
      "-0.2882900993480756\n"
     ]
    },
    {
     "name": "stderr",
     "output_type": "stream",
     "text": [
      "\r",
      "t:  77%|███████████████████████████████████████████████████               | 974/1260 [09:49<02:43,  1.75it/s, now=None]"
     ]
    },
    {
     "name": "stdout",
     "output_type": "stream",
     "text": [
      "720\n",
      "640.0\n",
      "340.52400774854993\n",
      "1044.2088448946265\n",
      "692.3664263215883\n",
      "-0.2767939676998238\n",
      "3872.875290549698\n",
      "1230.0117972086307\n",
      "-0.2767939676998238\n"
     ]
    },
    {
     "name": "stderr",
     "output_type": "stream",
     "text": [
      "\r",
      "t:  77%|███████████████████████████████████████████████████               | 975/1260 [09:50<02:43,  1.74it/s, now=None]"
     ]
    },
    {
     "name": "stdout",
     "output_type": "stream",
     "text": [
      "720\n",
      "640.0\n",
      "342.06511854930454\n",
      "1044.5317813664199\n",
      "693.2984499578622\n",
      "-0.28172037834870023\n",
      "3096.4112097330826\n",
      "1251.0243023996911\n",
      "-0.28172037834870023\n"
     ]
    },
    {
     "name": "stderr",
     "output_type": "stream",
     "text": [
      "\r",
      "t:  77%|███████████████████████████████████████████████████               | 976/1260 [09:50<02:40,  1.77it/s, now=None]"
     ]
    },
    {
     "name": "stdout",
     "output_type": "stream",
     "text": [
      "720\n",
      "640.0\n",
      "339.1955345025232\n",
      "1042.0671711610064\n",
      "690.6313528317648\n",
      "-0.2676228649678999\n",
      "11258.206485125358\n",
      "2039.3572978182176\n",
      "-0.2676228649678999\n"
     ]
    },
    {
     "name": "stderr",
     "output_type": "stream",
     "text": [
      "\r",
      "t:  78%|███████████████████████████████████████████████████▏              | 977/1260 [09:51<02:43,  1.73it/s, now=None]"
     ]
    },
    {
     "name": "stdout",
     "output_type": "stream",
     "text": [
      "720\n",
      "640.0\n",
      "340.38740489700524\n",
      "1041.879227917278\n",
      "691.1333164071416\n",
      "-0.270276101009177\n",
      "5179.742927823411\n",
      "1821.5637666996097\n",
      "-0.270276101009177\n"
     ]
    },
    {
     "name": "stderr",
     "output_type": "stream",
     "text": [
      "\r",
      "t:  78%|███████████████████████████████████████████████████▏              | 978/1260 [09:52<02:46,  1.70it/s, now=None]"
     ]
    },
    {
     "name": "stdout",
     "output_type": "stream",
     "text": [
      "720\n",
      "640.0\n",
      "343.11857436196914\n",
      "1046.8950098748148\n",
      "695.006792118392\n",
      "-0.2907501869115007\n",
      "7753.427218492067\n",
      "1382.431662163594\n",
      "-0.2907501869115007\n"
     ]
    },
    {
     "name": "stderr",
     "output_type": "stream",
     "text": [
      "\r",
      "t:  78%|███████████████████████████████████████████████████▎              | 979/1260 [09:52<02:43,  1.72it/s, now=None]"
     ]
    },
    {
     "name": "stdout",
     "output_type": "stream",
     "text": [
      "720\n",
      "640.0\n",
      "346.7362311087923\n",
      "1035.2678469822883\n",
      "691.0020390455403\n",
      "-0.26958220638357017\n",
      "5759.360213880574\n",
      "4734.5272984425455\n",
      "-0.26958220638357017\n"
     ]
    },
    {
     "name": "stderr",
     "output_type": "stream",
     "text": [
      "\r",
      "t:  78%|███████████████████████████████████████████████████▎              | 980/1260 [09:53<02:52,  1.63it/s, now=None]"
     ]
    },
    {
     "name": "stdout",
     "output_type": "stream",
     "text": [
      "720\n",
      "640.0\n",
      "349.27915404047394\n",
      "1032.9882312478765\n",
      "691.1336926441752\n",
      "-0.2702780896906403\n",
      "6108.902322924051\n",
      "12298.333892482116\n",
      "-0.2702780896906403\n"
     ]
    },
    {
     "name": "stderr",
     "output_type": "stream",
     "text": [
      "\r",
      "t:  78%|███████████████████████████████████████████████████▍              | 981/1260 [09:54<02:58,  1.57it/s, now=None]"
     ]
    },
    {
     "name": "stdout",
     "output_type": "stream",
     "text": [
      "720\n",
      "640.0\n",
      "354.4252133579116\n",
      "1032.8806774785144\n",
      "693.652945418213\n",
      "-0.2835941400676973\n",
      "6525.298246936334\n",
      "20604.529123757875\n",
      "-0.2835941400676973\n"
     ]
    },
    {
     "name": "stderr",
     "output_type": "stream",
     "text": [
      "\r",
      "t:  78%|███████████████████████████████████████████████████▍              | 982/1260 [09:54<03:11,  1.45it/s, now=None]"
     ]
    },
    {
     "name": "stdout",
     "output_type": "stream",
     "text": [
      "720\n",
      "640.0\n",
      "357.94585316524996\n",
      "1029.570188572288\n",
      "693.758020868769\n",
      "-0.284149538877779\n",
      "2813.9271339590687\n",
      "8894.253573574091\n",
      "-0.284149538877779\n"
     ]
    },
    {
     "name": "stderr",
     "output_type": "stream",
     "text": [
      "\r",
      "t:  78%|███████████████████████████████████████████████████▍              | 983/1260 [09:55<03:10,  1.45it/s, now=None]"
     ]
    },
    {
     "name": "stdout",
     "output_type": "stream",
     "text": [
      "720\n",
      "640.0\n",
      "359.9016431153138\n",
      "1031.092499877313\n",
      "695.4970714963134\n",
      "-0.293341663623371\n",
      "2208.5584343195055\n",
      "5082.830403888999\n",
      "-0.293341663623371\n"
     ]
    },
    {
     "name": "stderr",
     "output_type": "stream",
     "text": [
      "\r",
      "t:  78%|███████████████████████████████████████████████████▌              | 984/1260 [09:56<03:04,  1.50it/s, now=None]"
     ]
    },
    {
     "name": "stdout",
     "output_type": "stream",
     "text": [
      "720\n",
      "640.0\n",
      "362.5335542255782\n",
      "1036.4406206275683\n",
      "699.4870874265732\n",
      "-0.3144317478261728\n",
      "1652.1103313318263\n",
      "31083.716171868098\n",
      "-0.3144317478261728\n"
     ]
    },
    {
     "name": "stderr",
     "output_type": "stream",
     "text": [
      "\r",
      "t:  78%|███████████████████████████████████████████████████▌              | 985/1260 [09:56<03:13,  1.42it/s, now=None]"
     ]
    },
    {
     "name": "stdout",
     "output_type": "stream",
     "text": [
      "720\n",
      "640.0\n",
      "363.99862397701725\n",
      "1037.9865139731874\n",
      "700.9925689751024\n",
      "-0.32238929315411247\n",
      "1557.444634091474\n",
      "6192.075561801742\n",
      "-0.32238929315411247\n"
     ]
    },
    {
     "name": "stderr",
     "output_type": "stream",
     "text": [
      "\r",
      "t:  78%|███████████████████████████████████████████████████▋              | 986/1260 [09:57<02:54,  1.57it/s, now=None]"
     ]
    },
    {
     "name": "stdout",
     "output_type": "stream",
     "text": [
      "720\n",
      "640.0\n",
      "359.70558123687135\n",
      "1040.360301363942\n",
      "700.0329413004067\n",
      "-0.317316975445007\n",
      "1712.933023081128\n",
      "11429.202780769232\n",
      "-0.317316975445007\n"
     ]
    },
    {
     "name": "stderr",
     "output_type": "stream",
     "text": [
      "\r",
      "t:  78%|███████████████████████████████████████████████████▋              | 987/1260 [09:58<02:49,  1.61it/s, now=None]"
     ]
    },
    {
     "name": "stdout",
     "output_type": "stream",
     "text": [
      "720\n",
      "640.0\n",
      "357.13174618732086\n",
      "1042.2838383593971\n",
      "699.707792273359\n",
      "-0.3155983305877548\n",
      "2624.6139676037487\n",
      "40423.392237965665\n",
      "-0.3155983305877548\n"
     ]
    },
    {
     "name": "stderr",
     "output_type": "stream",
     "text": [
      "\r",
      "t:  78%|███████████████████████████████████████████████████▊              | 988/1260 [09:58<02:42,  1.68it/s, now=None]"
     ]
    },
    {
     "name": "stdout",
     "output_type": "stream",
     "text": [
      "720\n",
      "640.0\n",
      "352.77498540453684\n",
      "1041.8067856768114\n",
      "697.2908855406741\n",
      "-0.3028232521435633\n",
      "4641.46276808791\n",
      "2816.7308126722633\n",
      "-0.3028232521435633\n"
     ]
    },
    {
     "name": "stderr",
     "output_type": "stream",
     "text": [
      "\r",
      "t:  78%|███████████████████████████████████████████████████▊              | 989/1260 [09:59<02:38,  1.71it/s, now=None]"
     ]
    },
    {
     "name": "stdout",
     "output_type": "stream",
     "text": [
      "720\n",
      "640.0\n",
      "354.0366313004259\n",
      "1049.5664497094044\n",
      "701.8015405049151\n",
      "-0.32666528552597995\n",
      "4060.5785209091246\n",
      "1291.7762232462348\n",
      "-0.32666528552597995\n"
     ]
    },
    {
     "name": "stderr",
     "output_type": "stream",
     "text": [
      "\r",
      "t:  79%|███████████████████████████████████████████████████▊              | 990/1260 [09:59<02:44,  1.64it/s, now=None]"
     ]
    },
    {
     "name": "stdout",
     "output_type": "stream",
     "text": [
      "720\n",
      "640.0\n",
      "347.20678010872825\n",
      "1079.5643078217586\n",
      "713.3855439652434\n",
      "-0.38789501810200094\n",
      "13127.364146712342\n",
      "590.1134076550526\n",
      "-0.38789501810200094\n"
     ]
    },
    {
     "name": "stderr",
     "output_type": "stream",
     "text": [
      "\r",
      "t:  79%|███████████████████████████████████████████████████▉              | 991/1260 [10:00<02:42,  1.65it/s, now=None]"
     ]
    },
    {
     "name": "stdout",
     "output_type": "stream",
     "text": [
      "720\n",
      "640.0\n",
      "345.636351312819\n",
      "1038.152787182421\n",
      "691.89456924762\n",
      "-0.2742998660231342\n",
      "7181.032298354053\n",
      "1425.964188324047\n",
      "-0.2742998660231342\n"
     ]
    },
    {
     "name": "stderr",
     "output_type": "stream",
     "text": [
      "\r",
      "t:  79%|███████████████████████████████████████████████████▉              | 992/1260 [10:01<02:53,  1.55it/s, now=None]"
     ]
    },
    {
     "name": "stdout",
     "output_type": "stream",
     "text": [
      "720\n",
      "640.0\n",
      "345.34963694974687\n",
      "1056.7926625131263\n",
      "701.0711497314365\n",
      "-0.3228046485804503\n",
      "6171.865608883179\n",
      "756.4040893953011\n",
      "-0.3228046485804503\n"
     ]
    },
    {
     "name": "stderr",
     "output_type": "stream",
     "text": [
      "\r",
      "t:  79%|████████████████████████████████████████████████████              | 993/1260 [10:01<02:55,  1.52it/s, now=None]"
     ]
    },
    {
     "name": "stdout",
     "output_type": "stream",
     "text": [
      "720\n",
      "640.0\n",
      "343.14020343178237\n",
      "1055.5879033926087\n",
      "699.3640534121955\n",
      "-0.31378142517874774\n",
      "6466.080812338096\n",
      "653.3811681006082\n",
      "-0.31378142517874774\n"
     ]
    },
    {
     "name": "stderr",
     "output_type": "stream",
     "text": [
      "\r",
      "t:  79%|████████████████████████████████████████████████████              | 994/1260 [10:02<02:47,  1.59it/s, now=None]"
     ]
    },
    {
     "name": "stdout",
     "output_type": "stream",
     "text": [
      "720\n",
      "640.0\n",
      "344.788184864167\n",
      "1048.7320327616624\n",
      "696.7601088129147\n",
      "-0.3000177180111207\n",
      "4596.603227483721\n",
      "653.9739098014755\n",
      "-0.3000177180111207\n"
     ]
    },
    {
     "name": "stderr",
     "output_type": "stream",
     "text": [
      "\r",
      "t:  79%|████████████████████████████████████████████████████              | 995/1260 [10:02<02:41,  1.64it/s, now=None]"
     ]
    },
    {
     "name": "stdout",
     "output_type": "stream",
     "text": [
      "720\n",
      "640.0\n",
      "347.4547482328297\n",
      "1040.613985988752\n",
      "694.0343671107908\n",
      "-0.28561022615703685\n",
      "1879.3379699847496\n",
      "1105.316381213371\n",
      "-0.28561022615703685\n"
     ]
    },
    {
     "name": "stderr",
     "output_type": "stream",
     "text": [
      "\r",
      "t:  79%|████████████████████████████████████████████████████▏             | 996/1260 [10:03<02:54,  1.51it/s, now=None]"
     ]
    },
    {
     "name": "stdout",
     "output_type": "stream",
     "text": [
      "720\n",
      "640.0\n",
      "346.5686183256874\n",
      "1038.603656430059\n",
      "692.5861373778731\n",
      "-0.2779552975687579\n",
      "1603.111409296609\n",
      "927.2625134150301\n",
      "-0.2779552975687579\n"
     ]
    },
    {
     "name": "stderr",
     "output_type": "stream",
     "text": [
      "\r",
      "t:  79%|████████████████████████████████████████████████████▏             | 997/1260 [10:04<02:44,  1.60it/s, now=None]"
     ]
    },
    {
     "name": "stdout",
     "output_type": "stream",
     "text": [
      "720\n",
      "640.0\n",
      "345.1530879096958\n",
      "1031.3469220735483\n",
      "688.2500049916221\n",
      "-0.25503574067000234\n",
      "1767.5739414824222\n",
      "1212.4818723511833\n",
      "-0.25503574067000234\n"
     ]
    },
    {
     "name": "stderr",
     "output_type": "stream",
     "text": [
      "\r",
      "t:  79%|████████████████████████████████████████████████████▎             | 998/1260 [10:04<02:46,  1.58it/s, now=None]"
     ]
    },
    {
     "name": "stdout",
     "output_type": "stream",
     "text": [
      "720\n",
      "640.0\n",
      "345.8896217256944\n",
      "1031.4511575674721\n",
      "688.6703896465833\n",
      "-0.2572577738462261\n",
      "1128.7832925891605\n",
      "1209.3341064771782\n",
      "-0.2572577738462261\n"
     ]
    },
    {
     "name": "stderr",
     "output_type": "stream",
     "text": [
      "\r",
      "t:  79%|████████████████████████████████████████████████████▎             | 999/1260 [10:05<02:52,  1.52it/s, now=None]"
     ]
    },
    {
     "name": "stdout",
     "output_type": "stream",
     "text": [
      "720\n",
      "640.0\n",
      "341.3021883720546\n",
      "1026.098576975076\n",
      "683.7003826735653\n",
      "-0.2309877369888451\n",
      "1138.7787284366925\n",
      "1584.0803262349932\n",
      "-0.2309877369888451\n"
     ]
    },
    {
     "name": "stderr",
     "output_type": "stream",
     "text": [
      "\r",
      "t:  79%|███████████████████████████████████████████████████▌             | 1000/1260 [10:06<02:48,  1.55it/s, now=None]"
     ]
    },
    {
     "name": "stdout",
     "output_type": "stream",
     "text": [
      "720\n",
      "640.0\n",
      "336.25464711604803\n",
      "1021.7153744254508\n",
      "678.9850107707495\n",
      "-0.2060636283596757\n",
      "1215.7873177440224\n",
      "2097.0654350035693\n",
      "-0.2060636283596757\n"
     ]
    },
    {
     "name": "stderr",
     "output_type": "stream",
     "text": [
      "\r",
      "t:  79%|███████████████████████████████████████████████████▋             | 1001/1260 [10:06<02:53,  1.49it/s, now=None]"
     ]
    },
    {
     "name": "stdout",
     "output_type": "stream",
     "text": [
      "720\n",
      "640.0\n",
      "331.3001942305436\n",
      "1017.8396948688815\n",
      "674.5699445497125\n",
      "-0.18272684976276632\n",
      "1067.9264786031674\n",
      "5282.72361189125\n",
      "-0.18272684976276632\n"
     ]
    },
    {
     "name": "stderr",
     "output_type": "stream",
     "text": [
      "\r",
      "t:  80%|███████████████████████████████████████████████████▋             | 1002/1260 [10:07<02:39,  1.62it/s, now=None]"
     ]
    },
    {
     "name": "stdout",
     "output_type": "stream",
     "text": [
      "720\n",
      "640.0\n",
      "323.38223720435775\n",
      "921.60154886089\n",
      "622.4918930326239\n",
      "0.09254285111327357\n",
      "1114.31319044074\n",
      "9.17844265610613\n",
      "0.09254285111327357\n"
     ]
    },
    {
     "name": "stderr",
     "output_type": "stream",
     "text": [
      "\r",
      "t:  80%|███████████████████████████████████████████████████▋             | 1003/1260 [10:08<02:39,  1.61it/s, now=None]"
     ]
    },
    {
     "name": "stdout",
     "output_type": "stream",
     "text": [
      "720\n",
      "640.0\n",
      "315.59556133301066\n",
      "771.9726610724119\n",
      "543.7841112027113\n",
      "0.508569697928526\n",
      "1073.3428612577864\n",
      "12.903690812105165\n",
      "0.508569697928526\n"
     ]
    },
    {
     "name": "stderr",
     "output_type": "stream",
     "text": [
      "\r",
      "t:  80%|███████████████████████████████████████████████████▊             | 1004/1260 [10:08<02:45,  1.55it/s, now=None]"
     ]
    },
    {
     "name": "stdout",
     "output_type": "stream",
     "text": [
      "720\n",
      "640.0\n",
      "305.8027166178495\n",
      "834.1370159264188\n",
      "569.9698662721341\n",
      "0.3701592782758624\n",
      "1353.0337784482076\n",
      "3.537985701303189\n",
      "0.3701592782758624\n"
     ]
    },
    {
     "name": "stderr",
     "output_type": "stream",
     "text": [
      "\r",
      "t:  80%|███████████████████████████████████████████████████▊             | 1005/1260 [10:09<02:51,  1.49it/s, now=None]"
     ]
    },
    {
     "name": "stdout",
     "output_type": "stream",
     "text": [
      "720\n",
      "640.0\n",
      "297.9739247419372\n",
      "1044.2517033320353\n",
      "671.1128140369863\n",
      "-0.16445344562407027\n",
      "2279.1302059488844\n",
      "1169.8416856960237\n",
      "-0.16445344562407027\n"
     ]
    },
    {
     "name": "stderr",
     "output_type": "stream",
     "text": [
      "\r",
      "t:  80%|███████████████████████████████████████████████████▉             | 1006/1260 [10:10<02:46,  1.53it/s, now=None]"
     ]
    },
    {
     "name": "stdout",
     "output_type": "stream",
     "text": [
      "720\n",
      "640.0\n",
      "296.8550110447602\n",
      "1047.84118625942\n",
      "672.3480986520901\n",
      "-0.17098280716104783\n",
      "2233.521788253626\n",
      "1475.416281711471\n",
      "-0.17098280716104783\n"
     ]
    },
    {
     "name": "stderr",
     "output_type": "stream",
     "text": [
      "\r",
      "t:  80%|███████████████████████████████████████████████████▉             | 1007/1260 [10:10<02:38,  1.60it/s, now=None]"
     ]
    },
    {
     "name": "stdout",
     "output_type": "stream",
     "text": [
      "720\n",
      "640.0\n",
      "301.7461299664572\n",
      "1042.0669229588098\n",
      "671.9065264626335\n",
      "-0.16864878273106254\n",
      "20999.07655490011\n",
      "1522.9605893296875\n",
      "-0.16864878273106254\n"
     ]
    },
    {
     "name": "stderr",
     "output_type": "stream",
     "text": [
      "\r",
      "t:  80%|████████████████████████████████████████████████████             | 1008/1260 [10:11<02:31,  1.66it/s, now=None]"
     ]
    },
    {
     "name": "stdout",
     "output_type": "stream",
     "text": [
      "720\n",
      "640.0\n",
      "302.2251143274104\n",
      "1035.5101105766144\n",
      "668.8676124520124\n",
      "-0.15258595153206553\n",
      "27880.110686045045\n",
      "1850.7002074002598\n",
      "-0.15258595153206553\n"
     ]
    },
    {
     "name": "stderr",
     "output_type": "stream",
     "text": [
      "\r",
      "t:  80%|████████████████████████████████████████████████████             | 1009/1260 [10:11<02:36,  1.61it/s, now=None]"
     ]
    },
    {
     "name": "stdout",
     "output_type": "stream",
     "text": [
      "720\n",
      "640.0\n",
      "304.8096470050067\n",
      "1041.8872224649408\n",
      "673.3484347349738\n",
      "-0.17627029788486157\n",
      "5756.917750600923\n",
      "815.6471773412242\n",
      "-0.17627029788486157\n"
     ]
    },
    {
     "name": "stderr",
     "output_type": "stream",
     "text": [
      "\r",
      "t:  80%|████████████████████████████████████████████████████             | 1010/1260 [10:12<02:30,  1.66it/s, now=None]"
     ]
    },
    {
     "name": "stdout",
     "output_type": "stream",
     "text": [
      "720\n",
      "640.0\n",
      "303.97530714736035\n",
      "1035.4003213876872\n",
      "669.6878142675238\n",
      "-0.15692130398548282\n",
      "3830.7173706484896\n",
      "832.1587305351642\n",
      "-0.15692130398548282\n"
     ]
    },
    {
     "name": "stderr",
     "output_type": "stream",
     "text": [
      "\r",
      "t:  80%|████████████████████████████████████████████████████▏            | 1011/1260 [10:12<02:18,  1.80it/s, now=None]"
     ]
    },
    {
     "name": "stdout",
     "output_type": "stream",
     "text": [
      "720\n",
      "640.0\n",
      "298.0582030266854\n",
      "1029.9631902719175\n",
      "664.0106966493015\n",
      "-0.1269136822891651\n",
      "5865.781927194937\n",
      "868.1833451482996\n",
      "-0.1269136822891651\n"
     ]
    },
    {
     "name": "stderr",
     "output_type": "stream",
     "text": [
      "\r",
      "t:  80%|████████████████████████████████████████████████████▏            | 1012/1260 [10:13<02:21,  1.75it/s, now=None]"
     ]
    },
    {
     "name": "stdout",
     "output_type": "stream",
     "text": [
      "720\n",
      "640.0\n",
      "297.46397771658667\n",
      "1021.1782724032712\n",
      "659.3211250599289\n",
      "-0.10212594674533865\n",
      "15333.49540576792\n",
      "911.1401175879796\n",
      "-0.10212594674533865\n"
     ]
    },
    {
     "name": "stderr",
     "output_type": "stream",
     "text": [
      "\r",
      "t:  80%|████████████████████████████████████████████████████▎            | 1013/1260 [10:14<02:15,  1.82it/s, now=None]"
     ]
    },
    {
     "name": "stdout",
     "output_type": "stream",
     "text": [
      "720\n",
      "640.0\n",
      "288.20063094486665\n",
      "1020.9329056108044\n",
      "654.5667682778355\n",
      "-0.07699577518284498\n",
      "2959.2818410174186\n",
      "957.7620045171647\n",
      "-0.07699577518284498\n"
     ]
    },
    {
     "name": "stderr",
     "output_type": "stream",
     "text": [
      "\r",
      "t:  80%|████████████████████████████████████████████████████▎            | 1014/1260 [10:14<02:19,  1.76it/s, now=None]"
     ]
    },
    {
     "name": "stdout",
     "output_type": "stream",
     "text": [
      "720\n",
      "640.0\n",
      "285.9641411913328\n",
      "1017.3287579868324\n",
      "651.6464495890826\n",
      "-0.06155980497086536\n",
      "12685.762533174982\n",
      "858.0274227828746\n",
      "-0.06155980497086536\n"
     ]
    },
    {
     "name": "stderr",
     "output_type": "stream",
     "text": [
      "\r",
      "t:  81%|████████████████████████████████████████████████████▎            | 1015/1260 [10:15<02:14,  1.83it/s, now=None]"
     ]
    },
    {
     "name": "stdout",
     "output_type": "stream",
     "text": [
      "720\n",
      "640.0\n",
      "286.4940054593618\n",
      "1016.6243612950722\n",
      "651.559183377217\n",
      "-0.06109854070814691\n",
      "5334.7449587138535\n",
      "860.6158267137321\n",
      "-0.06109854070814691\n"
     ]
    },
    {
     "name": "stderr",
     "output_type": "stream",
     "text": [
      "\r",
      "t:  81%|████████████████████████████████████████████████████▍            | 1016/1260 [10:15<02:16,  1.79it/s, now=None]"
     ]
    },
    {
     "name": "stdout",
     "output_type": "stream",
     "text": [
      "720\n",
      "640.0\n",
      "286.39418577424095\n",
      "1013.9130832134547\n",
      "650.1536344938478\n",
      "-0.0536692108960526\n",
      "23900.326686325996\n",
      "877.5839495299556\n",
      "-0.0536692108960526\n"
     ]
    },
    {
     "name": "stderr",
     "output_type": "stream",
     "text": [
      "\r",
      "t:  81%|████████████████████████████████████████████████████▍            | 1017/1260 [10:16<02:10,  1.87it/s, now=None]"
     ]
    },
    {
     "name": "stdout",
     "output_type": "stream",
     "text": [
      "720\n",
      "640.0\n",
      "288.5437044504715\n",
      "1024.1775251740455\n",
      "656.3606148122585\n",
      "-0.0864775354362236\n",
      "21510.2200626539\n",
      "578.0957598192488\n",
      "-0.0864775354362236\n"
     ]
    },
    {
     "name": "stderr",
     "output_type": "stream",
     "text": [
      "\r",
      "t:  81%|████████████████████████████████████████████████████▌            | 1018/1260 [10:16<02:02,  1.97it/s, now=None]"
     ]
    },
    {
     "name": "stdout",
     "output_type": "stream",
     "text": [
      "720\n",
      "640.0\n",
      "287.37663025354686\n",
      "1011.6741891616138\n",
      "649.5254097075804\n",
      "-0.05034859416863908\n",
      "7861.38328811518\n",
      "809.2674106988618\n",
      "-0.05034859416863908\n"
     ]
    },
    {
     "name": "stderr",
     "output_type": "stream",
     "text": [
      "\r",
      "t:  81%|████████████████████████████████████████████████████▌            | 1019/1260 [10:17<01:58,  2.04it/s, now=None]"
     ]
    },
    {
     "name": "stdout",
     "output_type": "stream",
     "text": [
      "720\n",
      "640.0\n",
      "288.69643080263165\n",
      "1000.9468571227865\n",
      "644.821643962709\n",
      "-0.025485832374319024\n",
      "3236.100435963999\n",
      "2012.3875226067698\n",
      "-0.025485832374319024\n"
     ]
    },
    {
     "name": "stderr",
     "output_type": "stream",
     "text": [
      "\r",
      "t:  81%|████████████████████████████████████████████████████▌            | 1020/1260 [10:17<01:57,  2.04it/s, now=None]"
     ]
    },
    {
     "name": "stdout",
     "output_type": "stream",
     "text": [
      "720\n",
      "640.0\n",
      "286.708441574837\n",
      "1003.2213183721059\n",
      "644.9648799734714\n",
      "-0.026242937002634532\n",
      "4449.6579448537295\n",
      "1988.0224084637116\n",
      "-0.026242937002634532\n"
     ]
    },
    {
     "name": "stderr",
     "output_type": "stream",
     "text": [
      "\r",
      "t:  81%|████████████████████████████████████████████████████▋            | 1021/1260 [10:18<01:55,  2.06it/s, now=None]"
     ]
    },
    {
     "name": "stdout",
     "output_type": "stream",
     "text": [
      "720\n",
      "640.0\n",
      "285.1721392366324\n",
      "1003.1815813369218\n",
      "644.1768602867771\n",
      "-0.022077690087250534\n",
      "4639.932562610568\n",
      "2682.84796906803\n",
      "-0.022077690087250534\n"
     ]
    },
    {
     "name": "stderr",
     "output_type": "stream",
     "text": [
      "\r",
      "t:  81%|████████████████████████████████████████████████████▋            | 1022/1260 [10:18<02:10,  1.82it/s, now=None]"
     ]
    },
    {
     "name": "stdout",
     "output_type": "stream",
     "text": [
      "720\n",
      "640.0\n",
      "288.8401063950149\n",
      "1000.8572487472458\n",
      "644.8486775711303\n",
      "-0.025628724304546074\n",
      "1562.6749709867154\n",
      "3117.0151957598846\n",
      "-0.025628724304546074\n"
     ]
    },
    {
     "name": "stderr",
     "output_type": "stream",
     "text": [
      "\r",
      "t:  81%|████████████████████████████████████████████████████▊            | 1023/1260 [10:19<02:10,  1.81it/s, now=None]"
     ]
    },
    {
     "name": "stdout",
     "output_type": "stream",
     "text": [
      "720\n",
      "640.0\n",
      "285.3982333587434\n",
      "1005.1845757918537\n",
      "645.2914045752985\n",
      "-0.027968852755149442\n",
      "2727.777836325924\n",
      "2147.9361790059706\n",
      "-0.027968852755149442\n"
     ]
    },
    {
     "name": "stderr",
     "output_type": "stream",
     "text": [
      "\r",
      "t:  81%|████████████████████████████████████████████████████▊            | 1024/1260 [10:19<02:15,  1.74it/s, now=None]"
     ]
    },
    {
     "name": "stdout",
     "output_type": "stream",
     "text": [
      "720\n",
      "640.0\n",
      "279.83049898981466\n",
      "1005.0120161724509\n",
      "642.4212575811327\n",
      "-0.012798075785987392\n",
      "2552.6504273455844\n",
      "2896.4204686989633\n",
      "-0.012798075785987392\n"
     ]
    },
    {
     "name": "stderr",
     "output_type": "stream",
     "text": [
      "\r",
      "t:  81%|████████████████████████████████████████████████████▉            | 1025/1260 [10:20<02:10,  1.80it/s, now=None]"
     ]
    },
    {
     "name": "stdout",
     "output_type": "stream",
     "text": [
      "720\n",
      "640.0\n",
      "275.73501133421485\n",
      "1006.5492747896667\n",
      "641.1421430619407\n",
      "-0.0060370418988294925\n",
      "4520.783842023351\n",
      "2760.3566631840617\n",
      "-0.0060370418988294925\n"
     ]
    },
    {
     "name": "stderr",
     "output_type": "stream",
     "text": [
      "\r",
      "t:  81%|████████████████████████████████████████████████████▉            | 1026/1260 [10:20<02:06,  1.85it/s, now=None]"
     ]
    },
    {
     "name": "stdout",
     "output_type": "stream",
     "text": [
      "720\n",
      "640.0\n",
      "273.1694497393782\n",
      "1008.5854503159599\n",
      "640.877450027669\n",
      "-0.004637950146250725\n",
      "17860.862342933146\n",
      "2564.215691560183\n",
      "-0.004637950146250725\n"
     ]
    },
    {
     "name": "stderr",
     "output_type": "stream",
     "text": [
      "\r",
      "t:  82%|████████████████████████████████████████████████████▉            | 1027/1260 [10:21<02:04,  1.88it/s, now=None]"
     ]
    },
    {
     "name": "stdout",
     "output_type": "stream",
     "text": [
      "720\n",
      "640.0\n",
      "276.9733735509862\n",
      "1006.4462749946206\n",
      "641.7098242728034\n",
      "-0.009037642584818059\n",
      "1638.589220980454\n",
      "1669.716570773654\n",
      "-0.009037642584818059\n"
     ]
    },
    {
     "name": "stderr",
     "output_type": "stream",
     "text": [
      "\r",
      "t:  82%|█████████████████████████████████████████████████████            | 1028/1260 [10:21<01:49,  2.11it/s, now=None]"
     ]
    },
    {
     "name": "stdout",
     "output_type": "stream",
     "text": [
      "720\n",
      "640.0\n",
      "276.1203140516165\n",
      "1022.5764341478177\n",
      "649.3483740997171\n",
      "-0.04941283452707636\n",
      "1878.235069621554\n",
      "717.3335737809159\n",
      "-0.04941283452707636\n"
     ]
    },
    {
     "name": "stderr",
     "output_type": "stream",
     "text": [
      "\r",
      "t:  82%|█████████████████████████████████████████████████████            | 1029/1260 [10:22<01:45,  2.20it/s, now=None]"
     ]
    },
    {
     "name": "stdout",
     "output_type": "stream",
     "text": [
      "720\n",
      "640.0\n",
      "278.09625710100937\n",
      "1001.0817865456374\n",
      "639.5890218233234\n",
      "0.00217231321957643\n",
      "1331.1423197409342\n",
      "2792.948583901102\n",
      "0.00217231321957643\n"
     ]
    },
    {
     "name": "stderr",
     "output_type": "stream",
     "text": [
      "\r",
      "t:  82%|█████████████████████████████████████████████████████▏           | 1030/1260 [10:22<01:46,  2.16it/s, now=None]"
     ]
    },
    {
     "name": "stdout",
     "output_type": "stream",
     "text": [
      "720\n",
      "640.0\n",
      "279.8734222454026\n",
      "1005.1408841602992\n",
      "642.5071532028509\n",
      "-0.013252095500783184\n",
      "1180.450345346846\n",
      "2201.2021030530304\n",
      "-0.013252095500783184\n"
     ]
    },
    {
     "name": "stderr",
     "output_type": "stream",
     "text": [
      "\r",
      "t:  82%|█████████████████████████████████████████████████████▏           | 1031/1260 [10:23<01:40,  2.27it/s, now=None]"
     ]
    },
    {
     "name": "stdout",
     "output_type": "stream",
     "text": [
      "720\n",
      "640.0\n",
      "279.38132594855693\n",
      "1005.4214827923144\n",
      "642.4014043704357\n",
      "-0.012693137386588546\n",
      "967.7410693925699\n",
      "2136.2300258153405\n",
      "-0.012693137386588546\n"
     ]
    },
    {
     "name": "stderr",
     "output_type": "stream",
     "text": [
      "\r",
      "t:  82%|█████████████████████████████████████████████████████▏           | 1032/1260 [10:23<01:34,  2.41it/s, now=None]"
     ]
    },
    {
     "name": "stdout",
     "output_type": "stream",
     "text": [
      "720\n",
      "640.0\n",
      "277.89289990033467\n",
      "993.5113302131809\n",
      "635.7021150567577\n",
      "0.022717391842851906\n",
      "980.9543553746624\n",
      "60454.56435281062\n",
      "0.022717391842851906\n"
     ]
    },
    {
     "name": "stderr",
     "output_type": "stream",
     "text": [
      "\r",
      "t:  82%|█████████████████████████████████████████████████████▎           | 1033/1260 [10:23<01:35,  2.39it/s, now=None]"
     ]
    },
    {
     "name": "stdout",
     "output_type": "stream",
     "text": [
      "720\n",
      "640.0\n",
      "277.53065341382694\n",
      "995.0466022175909\n",
      "636.2886278157089\n",
      "0.019617252974110218\n",
      "994.0130620330611\n",
      "73275.45733584321\n",
      "0.019617252974110218\n"
     ]
    },
    {
     "name": "stderr",
     "output_type": "stream",
     "text": [
      "\r",
      "t:  82%|█████████████████████████████████████████████████████▎           | 1034/1260 [10:24<01:42,  2.21it/s, now=None]"
     ]
    },
    {
     "name": "stdout",
     "output_type": "stream",
     "text": [
      "720\n",
      "640.0\n",
      "276.03121662738715\n",
      "1003.9092302185177\n",
      "639.9702234229524\n",
      "0.00015739047868039183\n",
      "833.769620333143\n",
      "2572.644274730732\n",
      "0.00015739047868039183\n"
     ]
    },
    {
     "name": "stderr",
     "output_type": "stream",
     "text": [
      "\r",
      "t:  82%|█████████████████████████████████████████████████████▍           | 1035/1260 [10:25<02:00,  1.87it/s, now=None]"
     ]
    },
    {
     "name": "stdout",
     "output_type": "stream",
     "text": [
      "720\n",
      "640.0\n",
      "291.0068954332729\n",
      "1003.3299271288287\n",
      "647.1684112810508\n",
      "-0.03789017391412563\n",
      "404.59971250783036\n",
      "2712.6952915407373\n",
      "-0.03789017391412563\n"
     ]
    },
    {
     "name": "stderr",
     "output_type": "stream",
     "text": [
      "\r",
      "t:  82%|█████████████████████████████████████████████████████▍           | 1036/1260 [10:25<02:04,  1.80it/s, now=None]"
     ]
    },
    {
     "name": "stdout",
     "output_type": "stream",
     "text": [
      "720\n",
      "640.0\n",
      "289.0576774566851\n",
      "1002.9696531938005\n",
      "646.0136653252428\n",
      "-0.031786516719140276\n",
      "440.04565031506905\n",
      "7851.797170370152\n",
      "-0.031786516719140276\n"
     ]
    },
    {
     "name": "stderr",
     "output_type": "stream",
     "text": [
      "\r",
      "t:  82%|█████████████████████████████████████████████████████▍           | 1037/1260 [10:26<02:11,  1.70it/s, now=None]"
     ]
    },
    {
     "name": "stdout",
     "output_type": "stream",
     "text": [
      "720\n",
      "640.0\n",
      "282.09959306349697\n",
      "1002.49456805335\n",
      "642.2970805584234\n",
      "-0.01214171152309528\n",
      "564.6231083982111\n",
      "2430.967894263391\n",
      "-0.01214171152309528\n"
     ]
    },
    {
     "name": "stderr",
     "output_type": "stream",
     "text": [
      "\r",
      "t:  82%|█████████████████████████████████████████████████████▌           | 1038/1260 [10:26<02:06,  1.75it/s, now=None]"
     ]
    },
    {
     "name": "stdout",
     "output_type": "stream",
     "text": [
      "720\n",
      "640.0\n",
      "277.6406716986132\n",
      "998.6922728498149\n",
      "638.166472274214\n",
      "0.009691503693440203\n",
      "789.3328147748272\n",
      "1682.250515037537\n",
      "0.009691503693440203\n"
     ]
    },
    {
     "name": "stderr",
     "output_type": "stream",
     "text": [
      "\r",
      "t:  82%|█████████████████████████████████████████████████████▌           | 1039/1260 [10:27<02:01,  1.82it/s, now=None]"
     ]
    },
    {
     "name": "stdout",
     "output_type": "stream",
     "text": [
      "720\n",
      "640.0\n",
      "269.78756397027604\n",
      "1019.1929818398223\n",
      "644.4902729050492\n",
      "-0.023734299640974395\n",
      "1457.2311092462796\n",
      "705.6359965167284\n",
      "-0.023734299640974395\n"
     ]
    },
    {
     "name": "stderr",
     "output_type": "stream",
     "text": [
      "\r",
      "t:  83%|█████████████████████████████████████████████████████▋           | 1040/1260 [10:27<01:56,  1.89it/s, now=None]"
     ]
    },
    {
     "name": "stdout",
     "output_type": "stream",
     "text": [
      "720\n",
      "640.0\n",
      "271.69893251220947\n",
      "1014.0524280416531\n",
      "642.8756802769312\n",
      "-0.01520002432092224\n",
      "78764.02118827161\n",
      "688.1438634878504\n",
      "-0.01520002432092224\n"
     ]
    },
    {
     "name": "stderr",
     "output_type": "stream",
     "text": [
      "\r",
      "t:  83%|█████████████████████████████████████████████████████▋           | 1041/1260 [10:28<01:56,  1.88it/s, now=None]"
     ]
    },
    {
     "name": "stdout",
     "output_type": "stream",
     "text": [
      "720\n",
      "640.0\n",
      "286.8333283352058\n",
      "1007.5088814276364\n",
      "647.1711048814211\n",
      "-0.03790441151608304\n",
      "6491.0180390259575\n",
      "816.3057644042276\n",
      "-0.03790441151608304\n"
     ]
    },
    {
     "name": "stderr",
     "output_type": "stream",
     "text": [
      "\r",
      "t:  83%|█████████████████████████████████████████████████████▊           | 1042/1260 [10:28<01:56,  1.87it/s, now=None]"
     ]
    },
    {
     "name": "stdout",
     "output_type": "stream",
     "text": [
      "720\n",
      "640.0\n",
      "275.5112182622594\n",
      "974.6686477924111\n",
      "625.0899330273353\n",
      "0.07881035399837061\n",
      "1686.2106142317602\n",
      "2185881.380214561\n",
      "0.07881035399837061\n"
     ]
    },
    {
     "name": "stderr",
     "output_type": "stream",
     "text": [
      "\r",
      "t:  83%|█████████████████████████████████████████████████████▊           | 1043/1260 [10:29<01:57,  1.85it/s, now=None]"
     ]
    },
    {
     "name": "stdout",
     "output_type": "stream",
     "text": [
      "720\n",
      "640.0\n",
      "268.11184038166596\n",
      "989.5467626554762\n",
      "628.8293015185711\n",
      "0.05904512054469547\n",
      "1735.005379002445\n",
      "1197.9303785279571\n",
      "0.05904512054469547\n"
     ]
    },
    {
     "name": "stderr",
     "output_type": "stream",
     "text": [
      "\r",
      "t:  83%|█████████████████████████████████████████████████████▊           | 1044/1260 [10:30<01:59,  1.81it/s, now=None]"
     ]
    },
    {
     "name": "stdout",
     "output_type": "stream",
     "text": [
      "720\n",
      "640.0\n",
      "299.09020609494775\n",
      "986.3151869747583\n",
      "642.702696534853\n",
      "-0.014285681684222873\n",
      "1842.1139533798664\n",
      "2613.121802053632\n",
      "-0.014285681684222873\n"
     ]
    },
    {
     "name": "stderr",
     "output_type": "stream",
     "text": [
      "\r",
      "t:  83%|█████████████████████████████████████████████████████▉           | 1045/1260 [10:30<01:58,  1.81it/s, now=None]"
     ]
    },
    {
     "name": "stdout",
     "output_type": "stream",
     "text": [
      "720\n",
      "640.0\n",
      "287.20610218821474\n",
      "991.317592674263\n",
      "639.2618474312388\n",
      "0.00390166357773759\n",
      "3277.7626241451903\n",
      "1473.2142948326173\n",
      "0.00390166357773759\n"
     ]
    },
    {
     "name": "stderr",
     "output_type": "stream",
     "text": [
      "\r",
      "t:  83%|█████████████████████████████████████████████████████▉           | 1046/1260 [10:31<02:04,  1.72it/s, now=None]"
     ]
    },
    {
     "name": "stdout",
     "output_type": "stream",
     "text": [
      "720\n",
      "640.0\n",
      "317.0334343703539\n",
      "996.048907949241\n",
      "656.5411711597974\n",
      "-0.08743190470178619\n",
      "728.9018368628392\n",
      "5815.454101478402\n",
      "-0.08743190470178619\n"
     ]
    },
    {
     "name": "stderr",
     "output_type": "stream",
     "text": [
      "\r",
      "t:  83%|██████████████████████████████████████████████████████           | 1047/1260 [10:31<02:01,  1.75it/s, now=None]"
     ]
    },
    {
     "name": "stdout",
     "output_type": "stream",
     "text": [
      "720\n",
      "640.0\n",
      "301.6772335924287\n",
      "986.9977389957976\n",
      "644.3374862941132\n",
      "-0.022926713268884086\n",
      "726.0773305540336\n",
      "6966.435384636251\n",
      "-0.022926713268884086\n"
     ]
    },
    {
     "name": "stderr",
     "output_type": "stream",
     "text": [
      "\r",
      "t:  83%|██████████████████████████████████████████████████████           | 1048/1260 [10:32<01:59,  1.77it/s, now=None]"
     ]
    },
    {
     "name": "stdout",
     "output_type": "stream",
     "text": [
      "720\n",
      "640.0\n",
      "311.1981721500158\n",
      "994.53851925467\n",
      "652.8683457023428\n",
      "-0.0680183987123835\n",
      "592.9006169034932\n",
      "1446.1309657080499\n",
      "-0.0680183987123835\n"
     ]
    },
    {
     "name": "stderr",
     "output_type": "stream",
     "text": [
      "\r",
      "t:  83%|██████████████████████████████████████████████████████           | 1049/1260 [10:32<01:52,  1.88it/s, now=None]"
     ]
    },
    {
     "name": "stdout",
     "output_type": "stream",
     "text": [
      "720\n",
      "640.0\n",
      "291.15861310681584\n",
      "747.1850041622415\n",
      "519.1718086345287\n",
      "0.6386632972174912\n",
      "835.5233510694019\n",
      "36.457373104823475\n",
      "0.6386632972174912\n"
     ]
    },
    {
     "name": "stderr",
     "output_type": "stream",
     "text": [
      "\r",
      "t:  83%|██████████████████████████████████████████████████████▏          | 1050/1260 [10:33<01:50,  1.90it/s, now=None]"
     ]
    },
    {
     "name": "stdout",
     "output_type": "stream",
     "text": [
      "720\n",
      "640.0\n",
      "285.04322484506514\n",
      "1018.2874850741715\n",
      "651.6653549596183\n",
      "-0.06165973335798244\n",
      "694.8219279330814\n",
      "816.878496861271\n",
      "-0.06165973335798244\n"
     ]
    },
    {
     "name": "stderr",
     "output_type": "stream",
     "text": [
      "\r",
      "t:  83%|██████████████████████████████████████████████████████▏          | 1051/1260 [10:33<01:50,  1.89it/s, now=None]"
     ]
    },
    {
     "name": "stdout",
     "output_type": "stream",
     "text": [
      "720\n",
      "640.0\n",
      "281.093305092101\n",
      "1051.998517749664\n",
      "666.5459114208825\n",
      "-0.14031410322466453\n",
      "619.4097068658048\n",
      "461.4505676812952\n",
      "-0.14031410322466453\n"
     ]
    },
    {
     "name": "stderr",
     "output_type": "stream",
     "text": [
      "\r",
      "t:  83%|██████████████████████████████████████████████████████▎          | 1052/1260 [10:34<01:57,  1.78it/s, now=None]"
     ]
    },
    {
     "name": "stdout",
     "output_type": "stream",
     "text": [
      "720\n",
      "640.0\n",
      "280.5854584139731\n",
      "994.599365380497\n",
      "637.592411897235\n",
      "0.012725822828900587\n",
      "655.868907628061\n",
      "1439.930056466307\n",
      "0.012725822828900587\n"
     ]
    },
    {
     "name": "stderr",
     "output_type": "stream",
     "text": [
      "\r",
      "t:  84%|██████████████████████████████████████████████████████▎          | 1053/1260 [10:35<01:54,  1.81it/s, now=None]"
     ]
    },
    {
     "name": "stdout",
     "output_type": "stream",
     "text": [
      "720\n",
      "640.0\n",
      "275.776500632654\n",
      "986.1708564044708\n",
      "630.9736785185623\n",
      "0.04771055640188479\n",
      "739.8603473785346\n",
      "4458.542954043731\n",
      "0.04771055640188479\n"
     ]
    },
    {
     "name": "stderr",
     "output_type": "stream",
     "text": [
      "\r",
      "t:  84%|██████████████████████████████████████████████████████▎          | 1054/1260 [10:35<01:56,  1.77it/s, now=None]"
     ]
    },
    {
     "name": "stdout",
     "output_type": "stream",
     "text": [
      "720\n",
      "640.0\n",
      "269.6048980074193\n",
      "995.0772644460391\n",
      "632.3410812267292\n",
      "0.04048285637300272\n",
      "849.5011701533293\n",
      "2565.946701103298\n",
      "0.04048285637300272\n"
     ]
    },
    {
     "name": "stderr",
     "output_type": "stream",
     "text": [
      "\r",
      "t:  84%|██████████████████████████████████████████████████████▍          | 1055/1260 [10:36<02:04,  1.65it/s, now=None]"
     ]
    },
    {
     "name": "stdout",
     "output_type": "stream",
     "text": [
      "720\n",
      "640.0\n",
      "264.689648985055\n",
      "997.0704143190068\n",
      "630.8800316520309\n",
      "0.048205546982122496\n",
      "1380.2417527571322\n",
      "1775.035919638194\n",
      "0.048205546982122496\n"
     ]
    },
    {
     "name": "stderr",
     "output_type": "stream",
     "text": [
      "\r",
      "t:  84%|██████████████████████████████████████████████████████▍          | 1056/1260 [10:36<02:02,  1.66it/s, now=None]"
     ]
    },
    {
     "name": "stdout",
     "output_type": "stream",
     "text": [
      "720\n",
      "640.0\n",
      "265.111347153786\n",
      "998.2405186032702\n",
      "631.6759328785281\n",
      "0.04399864049920861\n",
      "2501.0058634907477\n",
      "1577.0432153665017\n",
      "0.04399864049920861\n"
     ]
    },
    {
     "name": "stderr",
     "output_type": "stream",
     "text": [
      "\r",
      "t:  84%|██████████████████████████████████████████████████████▌          | 1057/1260 [10:37<01:59,  1.70it/s, now=None]"
     ]
    },
    {
     "name": "stdout",
     "output_type": "stream",
     "text": [
      "720\n",
      "640.0\n",
      "269.9170531372211\n",
      "997.6703135131863\n",
      "633.7936833252037\n",
      "0.032804816709637655\n",
      "2405.6361812700497\n",
      "1657.6377574361863\n",
      "0.032804816709637655\n"
     ]
    },
    {
     "name": "stderr",
     "output_type": "stream",
     "text": [
      "\r",
      "t:  84%|██████████████████████████████████████████████████████▌          | 1058/1260 [10:38<01:55,  1.75it/s, now=None]"
     ]
    },
    {
     "name": "stdout",
     "output_type": "stream",
     "text": [
      "720\n",
      "640.0\n",
      "274.419432929912\n",
      "996.1322791827578\n",
      "635.2758560563349\n",
      "0.024970475130801383\n",
      "2839.978429603882\n",
      "1797.1526874884148\n",
      "0.024970475130801383\n"
     ]
    },
    {
     "name": "stderr",
     "output_type": "stream",
     "text": [
      "\r",
      "t:  84%|██████████████████████████████████████████████████████▋          | 1059/1260 [10:38<02:10,  1.54it/s, now=None]"
     ]
    },
    {
     "name": "stdout",
     "output_type": "stream",
     "text": [
      "720\n",
      "640.0\n",
      "277.95785053552993\n",
      "996.6093253579663\n",
      "637.2835879467482\n",
      "0.014358177995759596\n",
      "3788.588920610621\n",
      "1904.3137090284388\n",
      "0.014358177995759596\n"
     ]
    },
    {
     "name": "stderr",
     "output_type": "stream",
     "text": [
      "\r",
      "t:  84%|██████████████████████████████████████████████████████▋          | 1060/1260 [10:39<01:50,  1.82it/s, now=None]"
     ]
    },
    {
     "name": "stdout",
     "output_type": "stream",
     "text": [
      "720\n",
      "640.0\n",
      "284.3094708638189\n",
      "995.9606175249017\n",
      "640.1350441943603\n",
      "-0.0007138050273328125\n",
      "8715.138763802637\n",
      "1766.8441447724674\n",
      "-0.0007138050273328125\n"
     ]
    },
    {
     "name": "stderr",
     "output_type": "stream",
     "text": [
      "\r",
      "t:  84%|██████████████████████████████████████████████████████▋          | 1061/1260 [10:39<01:42,  1.94it/s, now=None]"
     ]
    },
    {
     "name": "stdout",
     "output_type": "stream",
     "text": [
      "720\n",
      "640.0\n",
      "294.24117821531775\n",
      "991.4671701742395\n",
      "642.8541741947786\n",
      "-0.015086349315258207\n",
      "4643.712173646056\n",
      "2786.1457450655475\n",
      "-0.015086349315258207\n"
     ]
    },
    {
     "name": "stderr",
     "output_type": "stream",
     "text": [
      "\r",
      "t:  84%|██████████████████████████████████████████████████████▊          | 1062/1260 [10:40<01:34,  2.10it/s, now=None]"
     ]
    },
    {
     "name": "stdout",
     "output_type": "stream",
     "text": [
      "720\n",
      "640.0\n",
      "302.36196810087154\n",
      "997.7891963895711\n",
      "650.0755822452213\n",
      "-0.05325664901045551\n",
      "3532.5464625655627\n",
      "1507.0938803009717\n",
      "-0.05325664901045551\n"
     ]
    },
    {
     "name": "stderr",
     "output_type": "stream",
     "text": [
      "\r",
      "t:  84%|██████████████████████████████████████████████████████▊          | 1063/1260 [10:40<01:30,  2.17it/s, now=None]"
     ]
    },
    {
     "name": "stdout",
     "output_type": "stream",
     "text": [
      "720\n",
      "640.0\n",
      "308.31654114500526\n",
      "1003.2377637319898\n",
      "655.7771524384975\n",
      "-0.08339352003205834\n",
      "4221.8061961997455\n",
      "1274.9959669480913\n",
      "-0.08339352003205834\n"
     ]
    },
    {
     "name": "stderr",
     "output_type": "stream",
     "text": [
      "\r",
      "t:  84%|██████████████████████████████████████████████████████▉          | 1064/1260 [10:40<01:29,  2.20it/s, now=None]"
     ]
    },
    {
     "name": "stdout",
     "output_type": "stream",
     "text": [
      "720\n",
      "640.0\n",
      "310.75674265312426\n",
      "1003.2169498278857\n",
      "656.986846240505\n",
      "-0.08978761584266916\n",
      "2467.0160990077843\n",
      "1841.4274102079241\n",
      "-0.08978761584266916\n"
     ]
    },
    {
     "name": "stderr",
     "output_type": "stream",
     "text": [
      "\r",
      "t:  85%|██████████████████████████████████████████████████████▉          | 1065/1260 [10:41<01:29,  2.17it/s, now=None]"
     ]
    },
    {
     "name": "stdout",
     "output_type": "stream",
     "text": [
      "720\n",
      "640.0\n",
      "312.35831310246414\n",
      "1005.9724637088273\n",
      "659.1653884056457\n",
      "-0.10130276728698427\n",
      "2220.922486549884\n",
      "2047.7079911520734\n",
      "-0.10130276728698427\n"
     ]
    },
    {
     "name": "stderr",
     "output_type": "stream",
     "text": [
      "\r",
      "t:  85%|██████████████████████████████████████████████████████▉          | 1066/1260 [10:42<01:44,  1.86it/s, now=None]"
     ]
    },
    {
     "name": "stdout",
     "output_type": "stream",
     "text": [
      "720\n",
      "640.0\n",
      "310.89331713554094\n",
      "1009.7144740235033\n",
      "660.3038955795221\n",
      "-0.10732059092033099\n",
      "2468.715914475324\n",
      "2057.0428538439533\n",
      "-0.10732059092033099\n"
     ]
    },
    {
     "name": "stderr",
     "output_type": "stream",
     "text": [
      "\r",
      "t:  85%|███████████████████████████████████████████████████████          | 1067/1260 [10:42<01:50,  1.74it/s, now=None]"
     ]
    },
    {
     "name": "stdout",
     "output_type": "stream",
     "text": [
      "720\n",
      "640.0\n",
      "310.1350266721154\n",
      "1013.6832998610322\n",
      "661.9091632665738\n",
      "-0.11580557726617602\n",
      "2457.0463542684456\n",
      "1703.369359391799\n",
      "-0.11580557726617602\n"
     ]
    },
    {
     "name": "stderr",
     "output_type": "stream",
     "text": [
      "\r",
      "t:  85%|███████████████████████████████████████████████████████          | 1068/1260 [10:43<01:50,  1.74it/s, now=None]"
     ]
    },
    {
     "name": "stdout",
     "output_type": "stream",
     "text": [
      "720\n",
      "640.0\n",
      "311.09137707917307\n",
      "1014.9224084905943\n",
      "663.0068927848837\n",
      "-0.12160786186295665\n",
      "2681.303087590461\n",
      "1382.7043593977012\n",
      "-0.12160786186295665\n"
     ]
    },
    {
     "name": "stderr",
     "output_type": "stream",
     "text": [
      "\r",
      "t:  85%|███████████████████████████████████████████████████████▏         | 1069/1260 [10:43<01:48,  1.76it/s, now=None]"
     ]
    },
    {
     "name": "stdout",
     "output_type": "stream",
     "text": [
      "720\n",
      "640.0\n",
      "312.6811882202482\n",
      "1014.8744101595158\n",
      "663.777799189882\n",
      "-0.1256826528608048\n",
      "2434.0373122759893\n",
      "1477.8438812907807\n",
      "-0.1256826528608048\n"
     ]
    },
    {
     "name": "stderr",
     "output_type": "stream",
     "text": [
      "\r",
      "t:  85%|███████████████████████████████████████████████████████▏         | 1070/1260 [10:44<01:56,  1.64it/s, now=None]"
     ]
    },
    {
     "name": "stdout",
     "output_type": "stream",
     "text": [
      "720\n",
      "640.0\n",
      "314.10340595763546\n",
      "1014.7117660697224\n",
      "664.407586013679\n",
      "-0.12901152607230304\n",
      "2586.217409307993\n",
      "1355.6233211973565\n",
      "-0.12901152607230304\n"
     ]
    },
    {
     "name": "stderr",
     "output_type": "stream",
     "text": [
      "\r",
      "t:  85%|███████████████████████████████████████████████████████▎         | 1071/1260 [10:45<01:51,  1.70it/s, now=None]"
     ]
    },
    {
     "name": "stdout",
     "output_type": "stream",
     "text": [
      "720\n",
      "640.0\n",
      "315.15887427798805\n",
      "1015.8944665253986\n",
      "665.5266704016933\n",
      "-0.13492668640895036\n",
      "2379.0621543432985\n",
      "1110.3932574886678\n",
      "-0.13492668640895036\n"
     ]
    },
    {
     "name": "stderr",
     "output_type": "stream",
     "text": [
      "\r",
      "t:  85%|███████████████████████████████████████████████████████▎         | 1072/1260 [10:45<01:52,  1.67it/s, now=None]"
     ]
    },
    {
     "name": "stdout",
     "output_type": "stream",
     "text": [
      "720\n",
      "640.0\n",
      "313.1146025374944\n",
      "1019.0562211966528\n",
      "666.0854118670736\n",
      "-0.13788003415453198\n",
      "3059.995649072817\n",
      "944.1132758880248\n",
      "-0.13788003415453198\n"
     ]
    },
    {
     "name": "stderr",
     "output_type": "stream",
     "text": [
      "\r",
      "t:  85%|███████████████████████████████████████████████████████▎         | 1073/1260 [10:46<01:55,  1.61it/s, now=None]"
     ]
    },
    {
     "name": "stdout",
     "output_type": "stream",
     "text": [
      "720\n",
      "640.0\n",
      "314.41056572202757\n",
      "1029.8191672654882\n",
      "672.1148664937579\n",
      "-0.16975000860986297\n",
      "3409.2997216516396\n",
      "662.2434887653277\n",
      "-0.16975000860986297\n"
     ]
    },
    {
     "name": "stderr",
     "output_type": "stream",
     "text": [
      "\r",
      "t:  85%|███████████████████████████████████████████████████████▍         | 1074/1260 [10:46<01:49,  1.69it/s, now=None]"
     ]
    },
    {
     "name": "stdout",
     "output_type": "stream",
     "text": [
      "720\n",
      "640.0\n",
      "314.9385847851204\n",
      "1032.0149946650417\n",
      "673.4767897250811\n",
      "-0.1769487456897142\n",
      "4139.137133706447\n",
      "610.3677222989519\n",
      "-0.1769487456897142\n"
     ]
    },
    {
     "name": "stderr",
     "output_type": "stream",
     "text": [
      "\r",
      "t:  85%|███████████████████████████████████████████████████████▍         | 1075/1260 [10:47<01:44,  1.77it/s, now=None]"
     ]
    },
    {
     "name": "stdout",
     "output_type": "stream",
     "text": [
      "720\n",
      "640.0\n",
      "314.7579876432925\n",
      "1022.0744442300812\n",
      "668.4162159366869\n",
      "-0.15019999852248767\n",
      "10577.328699512353\n",
      "847.821334383156\n",
      "-0.15019999852248767\n"
     ]
    },
    {
     "name": "stderr",
     "output_type": "stream",
     "text": [
      "\r",
      "t:  85%|███████████████████████████████████████████████████████▌         | 1076/1260 [10:47<01:41,  1.81it/s, now=None]"
     ]
    },
    {
     "name": "stdout",
     "output_type": "stream",
     "text": [
      "720\n",
      "640.0\n",
      "316.9202997839935\n",
      "1011.8708480299881\n",
      "664.3955739069909\n",
      "-0.12894803350838036\n",
      "14199.885698937438\n",
      "1870.6418408477907\n",
      "-0.12894803350838036\n"
     ]
    },
    {
     "name": "stderr",
     "output_type": "stream",
     "text": [
      "\r",
      "t:  85%|███████████████████████████████████████████████████████▌         | 1077/1260 [10:48<01:40,  1.82it/s, now=None]"
     ]
    },
    {
     "name": "stdout",
     "output_type": "stream",
     "text": [
      "720\n",
      "640.0\n",
      "317.08033375329313\n",
      "1003.2732382704684\n",
      "660.1767860118807\n",
      "-0.10664872606279811\n",
      "15122.32283038449\n",
      "6602.199691548297\n",
      "-0.10664872606279811\n"
     ]
    },
    {
     "name": "stderr",
     "output_type": "stream",
     "text": [
      "\r",
      "t:  86%|███████████████████████████████████████████████████████▌         | 1078/1260 [10:49<01:44,  1.73it/s, now=None]"
     ]
    },
    {
     "name": "stdout",
     "output_type": "stream",
     "text": [
      "720\n",
      "640.0\n",
      "324.20527504066365\n",
      "1009.830693241617\n",
      "667.0179841411403\n",
      "-0.14280934474602755\n",
      "11302.530535388812\n",
      "2135.9314804708924\n",
      "-0.14280934474602755\n"
     ]
    },
    {
     "name": "stderr",
     "output_type": "stream",
     "text": [
      "\r",
      "t:  86%|███████████████████████████████████████████████████████▋         | 1079/1260 [10:49<01:43,  1.75it/s, now=None]"
     ]
    },
    {
     "name": "stdout",
     "output_type": "stream",
     "text": [
      "720\n",
      "640.0\n",
      "327.8715820004383\n",
      "1014.8587201302223\n",
      "671.3651510653303\n",
      "-0.16578722705960322\n",
      "24221.214411962148\n",
      "1470.6939397811575\n",
      "-0.16578722705960322\n"
     ]
    },
    {
     "name": "stderr",
     "output_type": "stream",
     "text": [
      "\r",
      "t:  86%|███████████████████████████████████████████████████████▋         | 1080/1260 [10:50<01:43,  1.73it/s, now=None]"
     ]
    },
    {
     "name": "stdout",
     "output_type": "stream",
     "text": [
      "720\n",
      "640.0\n",
      "330.90616584211045\n",
      "1016.193967154769\n",
      "673.5500664984397\n",
      "-0.1773360657774671\n",
      "3526.7027349713676\n",
      "1660.8680460375565\n",
      "-0.1773360657774671\n"
     ]
    },
    {
     "name": "stderr",
     "output_type": "stream",
     "text": [
      "\r",
      "t:  86%|███████████████████████████████████████████████████████▊         | 1081/1260 [10:50<01:45,  1.70it/s, now=None]"
     ]
    },
    {
     "name": "stdout",
     "output_type": "stream",
     "text": [
      "720\n",
      "640.0\n",
      "334.14500384325413\n",
      "1018.070797369396\n",
      "676.1079006063251\n",
      "-0.190856046062004\n",
      "3583.8857217309846\n",
      "1817.7298267865588\n",
      "-0.190856046062004\n"
     ]
    },
    {
     "name": "stderr",
     "output_type": "stream",
     "text": [
      "\r",
      "t:  86%|███████████████████████████████████████████████████████▊         | 1082/1260 [10:51<01:48,  1.64it/s, now=None]"
     ]
    },
    {
     "name": "stdout",
     "output_type": "stream",
     "text": [
      "720\n",
      "640.0\n",
      "334.7668471552562\n",
      "1020.7759786145423\n",
      "677.7714128848993\n",
      "-0.19964889667732483\n",
      "2173.9292571120636\n",
      "2396.643238852459\n",
      "-0.19964889667732483\n"
     ]
    },
    {
     "name": "stderr",
     "output_type": "stream",
     "text": [
      "\r",
      "t:  86%|███████████████████████████████████████████████████████▊         | 1083/1260 [10:52<01:44,  1.69it/s, now=None]"
     ]
    },
    {
     "name": "stdout",
     "output_type": "stream",
     "text": [
      "720\n",
      "640.0\n",
      "336.6681562078189\n",
      "1021.1853984704428\n",
      "678.9267773391309\n",
      "-0.20575582307826346\n",
      "1968.7182325035023\n",
      "3197.8299472333642\n",
      "-0.20575582307826346\n"
     ]
    },
    {
     "name": "stderr",
     "output_type": "stream",
     "text": [
      "\r",
      "t:  86%|███████████████████████████████████████████████████████▉         | 1084/1260 [10:52<01:48,  1.63it/s, now=None]"
     ]
    },
    {
     "name": "stdout",
     "output_type": "stream",
     "text": [
      "720\n",
      "640.0\n",
      "338.01413343409945\n",
      "1027.1027704596493\n",
      "682.5584519468744\n",
      "-0.22495181743347875\n",
      "1753.7287884653656\n",
      "1552.3990877178496\n",
      "-0.22495181743347875\n"
     ]
    },
    {
     "name": "stderr",
     "output_type": "stream",
     "text": [
      "\r",
      "t:  86%|███████████████████████████████████████████████████████▉         | 1085/1260 [10:53<01:50,  1.58it/s, now=None]"
     ]
    },
    {
     "name": "stdout",
     "output_type": "stream",
     "text": [
      "720\n",
      "640.0\n",
      "336.8985056626781\n",
      "1041.756367629096\n",
      "689.327436645887\n",
      "-0.2607307365568314\n",
      "1849.6134843306636\n",
      "1023.5138544997785\n",
      "-0.2607307365568314\n"
     ]
    },
    {
     "name": "stderr",
     "output_type": "stream",
     "text": [
      "\r",
      "t:  86%|████████████████████████████████████████████████████████         | 1086/1260 [10:54<01:52,  1.55it/s, now=None]"
     ]
    },
    {
     "name": "stdout",
     "output_type": "stream",
     "text": [
      "720\n",
      "640.0\n",
      "337.0249324618397\n",
      "1038.6551353392576\n",
      "687.8400339005486\n",
      "-0.25286875061718567\n",
      "2029.970704398676\n",
      "995.8600588005123\n",
      "-0.25286875061718567\n"
     ]
    },
    {
     "name": "stderr",
     "output_type": "stream",
     "text": [
      "\r",
      "t:  86%|████████████████████████████████████████████████████████         | 1087/1260 [10:54<01:50,  1.57it/s, now=None]"
     ]
    },
    {
     "name": "stdout",
     "output_type": "stream",
     "text": [
      "720\n",
      "640.0\n",
      "334.98895883791613\n",
      "1037.5100111304037\n",
      "686.2494849841598\n",
      "-0.244461563487702\n",
      "2167.91705369503\n",
      "1080.5186061148195\n",
      "-0.244461563487702\n"
     ]
    },
    {
     "name": "stderr",
     "output_type": "stream",
     "text": [
      "\r",
      "t:  86%|████████████████████████████████████████████████████████▏        | 1088/1260 [10:55<01:47,  1.60it/s, now=None]"
     ]
    },
    {
     "name": "stdout",
     "output_type": "stream",
     "text": [
      "720\n",
      "640.0\n",
      "335.5793657467238\n",
      "1029.8798443746837\n",
      "682.7296050607038\n",
      "-0.22585648389229132\n",
      "1916.9643334346588\n",
      "2257.639786548531\n",
      "-0.22585648389229132\n"
     ]
    },
    {
     "name": "stderr",
     "output_type": "stream",
     "text": [
      "\r",
      "t:  86%|████████████████████████████████████████████████████████▏        | 1089/1260 [10:56<01:47,  1.59it/s, now=None]"
     ]
    },
    {
     "name": "stdout",
     "output_type": "stream",
     "text": [
      "720\n",
      "640.0\n",
      "335.73523818575154\n",
      "1029.7389057865641\n",
      "682.7370719861578\n",
      "-0.22589595192683432\n",
      "2251.281921527268\n",
      "2152.3515832744506\n",
      "-0.22589595192683432\n"
     ]
    },
    {
     "name": "stderr",
     "output_type": "stream",
     "text": [
      "\r",
      "t:  87%|████████████████████████████████████████████████████████▏        | 1090/1260 [10:56<01:46,  1.60it/s, now=None]"
     ]
    },
    {
     "name": "stdout",
     "output_type": "stream",
     "text": [
      "720\n",
      "640.0\n",
      "335.5834744312949\n",
      "1030.4182081852075\n",
      "683.0008413082512\n",
      "-0.2272901612007564\n",
      "2306.713077060736\n",
      "2015.5417397661483\n",
      "-0.2272901612007564\n"
     ]
    },
    {
     "name": "stderr",
     "output_type": "stream",
     "text": [
      "\r",
      "t:  87%|████████████████████████████████████████████████████████▎        | 1091/1260 [10:57<01:55,  1.46it/s, now=None]"
     ]
    },
    {
     "name": "stdout",
     "output_type": "stream",
     "text": [
      "720\n",
      "640.0\n",
      "337.31504116932524\n",
      "1032.5599426968408\n",
      "684.937491933083\n",
      "-0.23752674307486749\n",
      "2330.5822868123023\n",
      "1225.0742154030133\n",
      "-0.23752674307486749\n"
     ]
    },
    {
     "name": "stderr",
     "output_type": "stream",
     "text": [
      "\r",
      "t:  87%|████████████████████████████████████████████████████████▎        | 1092/1260 [10:58<01:48,  1.54it/s, now=None]"
     ]
    },
    {
     "name": "stdout",
     "output_type": "stream",
     "text": [
      "720\n",
      "640.0\n",
      "337.36348144160564\n",
      "1031.0382057913175\n",
      "684.2008436164616\n",
      "-0.23363303054415424\n",
      "2216.653327182221\n",
      "1274.5524712052008\n",
      "-0.23363303054415424\n"
     ]
    },
    {
     "name": "stderr",
     "output_type": "stream",
     "text": [
      "\r",
      "t:  87%|████████████████████████████████████████████████████████▍        | 1093/1260 [10:58<01:52,  1.49it/s, now=None]"
     ]
    },
    {
     "name": "stdout",
     "output_type": "stream",
     "text": [
      "720\n",
      "640.0\n",
      "336.71059582920293\n",
      "1032.5152060288012\n",
      "684.6129009290021\n",
      "-0.23581104776758244\n",
      "2303.3347760008787\n",
      "1127.8516062836309\n",
      "-0.23581104776758244\n"
     ]
    },
    {
     "name": "stderr",
     "output_type": "stream",
     "text": [
      "\r",
      "t:  87%|████████████████████████████████████████████████████████▍        | 1094/1260 [10:59<01:44,  1.59it/s, now=None]"
     ]
    },
    {
     "name": "stdout",
     "output_type": "stream",
     "text": [
      "720\n",
      "640.0\n",
      "339.5400514643405\n",
      "1033.5510967355917\n",
      "686.5455740999661\n",
      "-0.24602660595696355\n",
      "1934.5001378764837\n",
      "1117.8965996484983\n",
      "-0.24602660595696355\n"
     ]
    },
    {
     "name": "stderr",
     "output_type": "stream",
     "text": [
      "\r",
      "t:  87%|████████████████████████████████████████████████████████▍        | 1095/1260 [10:59<01:40,  1.64it/s, now=None]"
     ]
    },
    {
     "name": "stdout",
     "output_type": "stream",
     "text": [
      "720\n",
      "640.0\n",
      "340.0210230604723\n",
      "1033.8217991853994\n",
      "686.9214111229359\n",
      "-0.2480131730783753\n",
      "1824.6186978512405\n",
      "1238.9212398219236\n",
      "-0.2480131730783753\n"
     ]
    },
    {
     "name": "stderr",
     "output_type": "stream",
     "text": [
      "\r",
      "t:  87%|████████████████████████████████████████████████████████▌        | 1096/1260 [11:00<01:37,  1.68it/s, now=None]"
     ]
    },
    {
     "name": "stdout",
     "output_type": "stream",
     "text": [
      "720\n",
      "640.0\n",
      "342.4458703722277\n",
      "1041.561566285829\n",
      "692.0037183290284\n",
      "-0.2748767968820073\n",
      "1478.0146821528685\n",
      "842.3402102428626\n",
      "-0.2748767968820073\n"
     ]
    },
    {
     "name": "stderr",
     "output_type": "stream",
     "text": [
      "\r",
      "t:  87%|████████████████████████████████████████████████████████▌        | 1097/1260 [11:00<01:33,  1.74it/s, now=None]"
     ]
    },
    {
     "name": "stdout",
     "output_type": "stream",
     "text": [
      "720\n",
      "640.0\n",
      "342.9299050541861\n",
      "1033.668400495174\n",
      "688.29915277468\n",
      "-0.25529552180902293\n",
      "1579.303631630384\n",
      "889.909531023527\n",
      "-0.25529552180902293\n"
     ]
    },
    {
     "name": "stderr",
     "output_type": "stream",
     "text": [
      "\r",
      "t:  87%|████████████████████████████████████████████████████████▋        | 1098/1260 [11:01<01:40,  1.61it/s, now=None]"
     ]
    },
    {
     "name": "stdout",
     "output_type": "stream",
     "text": [
      "720\n",
      "640.0\n",
      "342.3636946611466\n",
      "1025.9839007334842\n",
      "684.1737976973154\n",
      "-0.23349007354295295\n",
      "1692.43233072129\n",
      "1560.0349074103563\n",
      "-0.23349007354295295\n"
     ]
    },
    {
     "name": "stderr",
     "output_type": "stream",
     "text": [
      "\r",
      "t:  87%|████████████████████████████████████████████████████████▋        | 1099/1260 [11:02<01:37,  1.65it/s, now=None]"
     ]
    },
    {
     "name": "stdout",
     "output_type": "stream",
     "text": [
      "720\n",
      "640.0\n",
      "341.68752621355657\n",
      "1027.1044532754443\n",
      "684.3959897445004\n",
      "-0.23466451722093076\n",
      "2077.396126687311\n",
      "1491.7699179698855\n",
      "-0.23466451722093076\n"
     ]
    },
    {
     "name": "stderr",
     "output_type": "stream",
     "text": [
      "\r",
      "t:  87%|████████████████████████████████████████████████████████▋        | 1100/1260 [11:02<01:38,  1.63it/s, now=None]"
     ]
    },
    {
     "name": "stdout",
     "output_type": "stream",
     "text": [
      "720\n",
      "640.0\n",
      "339.91361313433487\n",
      "1020.3417261733694\n",
      "680.1276696538521\n",
      "-0.21210339674178957\n",
      "3427.6024715025765\n",
      "2642.957050449844\n",
      "-0.21210339674178957\n"
     ]
    },
    {
     "name": "stderr",
     "output_type": "stream",
     "text": [
      "\r",
      "t:  87%|████████████████████████████████████████████████████████▊        | 1101/1260 [11:03<01:32,  1.71it/s, now=None]"
     ]
    },
    {
     "name": "stdout",
     "output_type": "stream",
     "text": [
      "720\n",
      "640.0\n",
      "340.76894262314215\n",
      "1022.7727567983242\n",
      "681.7708497107332\n",
      "-0.2207887770424467\n",
      "8313.780435188786\n",
      "2305.4767239135763\n",
      "-0.2207887770424467\n"
     ]
    },
    {
     "name": "stderr",
     "output_type": "stream",
     "text": [
      "\r",
      "t:  87%|████████████████████████████████████████████████████████▊        | 1102/1260 [11:04<01:45,  1.50it/s, now=None]"
     ]
    },
    {
     "name": "stdout",
     "output_type": "stream",
     "text": [
      "720\n",
      "640.0\n",
      "342.15193786900795\n",
      "1026.0676011829444\n",
      "684.1097695259762\n",
      "-0.23315163892301688\n",
      "7090.218572537336\n",
      "1968.5412742811309\n",
      "-0.23315163892301688\n"
     ]
    },
    {
     "name": "stderr",
     "output_type": "stream",
     "text": [
      "\r",
      "t:  88%|████████████████████████████████████████████████████████▉        | 1103/1260 [11:05<01:51,  1.40it/s, now=None]"
     ]
    },
    {
     "name": "stdout",
     "output_type": "stream",
     "text": [
      "720\n",
      "640.0\n",
      "338.3707073630573\n",
      "1032.2195607695028\n",
      "685.2951340662801\n",
      "-0.2394171372074804\n",
      "8510.537544182\n",
      "1953.8272086598304\n",
      "-0.2394171372074804\n"
     ]
    },
    {
     "name": "stderr",
     "output_type": "stream",
     "text": [
      "\r",
      "t:  88%|████████████████████████████████████████████████████████▉        | 1104/1260 [11:05<01:43,  1.50it/s, now=None]"
     ]
    },
    {
     "name": "stdout",
     "output_type": "stream",
     "text": [
      "720\n",
      "640.0\n",
      "342.3073853494258\n",
      "1033.095519134235\n",
      "687.7014522418303\n",
      "-0.25213624756396036\n",
      "56382.59060889775\n",
      "1990.405136362947\n",
      "-0.25213624756396036\n"
     ]
    },
    {
     "name": "stderr",
     "output_type": "stream",
     "text": [
      "\r",
      "t:  88%|█████████████████████████████████████████████████████████        | 1105/1260 [11:06<01:53,  1.37it/s, now=None]"
     ]
    },
    {
     "name": "stdout",
     "output_type": "stream",
     "text": [
      "720\n",
      "640.0\n",
      "344.308066072177\n",
      "1034.5690290787252\n",
      "689.4385475754511\n",
      "-0.26131803718452745\n",
      "26693.798838114195\n",
      "2470.219941884414\n",
      "-0.26131803718452745\n"
     ]
    },
    {
     "name": "stderr",
     "output_type": "stream",
     "text": [
      "\r",
      "t:  88%|█████████████████████████████████████████████████████████        | 1106/1260 [11:07<01:47,  1.44it/s, now=None]"
     ]
    },
    {
     "name": "stdout",
     "output_type": "stream",
     "text": [
      "720\n",
      "640.0\n",
      "346.0428995077244\n",
      "1036.4649203649626\n",
      "691.2539099363435\n",
      "-0.270913523949244\n",
      "26950.7530581995\n",
      "3194.8786513596574\n",
      "-0.270913523949244\n"
     ]
    },
    {
     "name": "stderr",
     "output_type": "stream",
     "text": [
      "\r",
      "t:  88%|█████████████████████████████████████████████████████████        | 1107/1260 [11:07<01:39,  1.54it/s, now=None]"
     ]
    },
    {
     "name": "stdout",
     "output_type": "stream",
     "text": [
      "720\n",
      "640.0\n",
      "351.20485417398027\n",
      "1037.6935785353846\n",
      "694.4492163546824\n",
      "-0.28780300073189297\n",
      "6938.376071217676\n",
      "2818.94538548097\n",
      "-0.28780300073189297\n"
     ]
    },
    {
     "name": "stderr",
     "output_type": "stream",
     "text": [
      "\r",
      "t:  88%|█████████████████████████████████████████████████████████▏       | 1108/1260 [11:08<01:32,  1.64it/s, now=None]"
     ]
    },
    {
     "name": "stdout",
     "output_type": "stream",
     "text": [
      "720\n",
      "640.0\n",
      "351.24834905448813\n",
      "1046.4371389362038\n",
      "698.8427439953459\n",
      "-0.3110259325468285\n",
      "10405.633458726667\n",
      "2025.958234937842\n",
      "-0.3110259325468285\n"
     ]
    },
    {
     "name": "stderr",
     "output_type": "stream",
     "text": [
      "\r",
      "t:  88%|█████████████████████████████████████████████████████████▏       | 1109/1260 [11:08<01:28,  1.70it/s, now=None]"
     ]
    },
    {
     "name": "stdout",
     "output_type": "stream",
     "text": [
      "720\n",
      "640.0\n",
      "355.0292931338144\n",
      "1046.854715132568\n",
      "700.9420041331912\n",
      "-0.32212202184686767\n",
      "3340.1395001790133\n",
      "1871.838532851161\n",
      "-0.32212202184686767\n"
     ]
    },
    {
     "name": "stderr",
     "output_type": "stream",
     "text": [
      "\r",
      "t:  88%|█████████████████████████████████████████████████████████▎       | 1110/1260 [11:09<01:28,  1.69it/s, now=None]"
     ]
    },
    {
     "name": "stdout",
     "output_type": "stream",
     "text": [
      "720\n",
      "640.0\n",
      "355.79724836580334\n",
      "1042.3765356237413\n",
      "699.0868919947724\n",
      "-0.3123164291152254\n",
      "2934.1664868636967\n",
      "5024.278624227338\n",
      "-0.3123164291152254\n"
     ]
    },
    {
     "name": "stderr",
     "output_type": "stream",
     "text": [
      "\r",
      "t:  88%|█████████████████████████████████████████████████████████▎       | 1111/1260 [11:10<01:40,  1.48it/s, now=None]"
     ]
    },
    {
     "name": "stdout",
     "output_type": "stream",
     "text": [
      "720\n",
      "640.0\n",
      "357.18048643233703\n",
      "1044.1693263869972\n",
      "700.6749064096671\n",
      "-0.32071021959395457\n",
      "1938.856728697887\n",
      "3709.229641611877\n",
      "-0.32071021959395457\n"
     ]
    },
    {
     "name": "stderr",
     "output_type": "stream",
     "text": [
      "\r",
      "t:  88%|█████████████████████████████████████████████████████████▎       | 1112/1260 [11:10<01:33,  1.58it/s, now=None]"
     ]
    },
    {
     "name": "stdout",
     "output_type": "stream",
     "text": [
      "720\n",
      "640.0\n",
      "357.319277289977\n",
      "1048.8735866382967\n",
      "703.0964319641369\n",
      "-0.33350971181043765\n",
      "1978.0186860503115\n",
      "1651.9033489496064\n",
      "-0.33350971181043765\n"
     ]
    },
    {
     "name": "stderr",
     "output_type": "stream",
     "text": [
      "\r",
      "t:  88%|█████████████████████████████████████████████████████████▍       | 1113/1260 [11:11<01:30,  1.62it/s, now=None]"
     ]
    },
    {
     "name": "stdout",
     "output_type": "stream",
     "text": [
      "720\n",
      "640.0\n",
      "357.1956426866975\n",
      "1048.152535346896\n",
      "702.6740890167968\n",
      "-0.33127732766021145\n",
      "1479.8005989135424\n",
      "1477.754314990755\n",
      "-0.33127732766021145\n"
     ]
    },
    {
     "name": "stderr",
     "output_type": "stream",
     "text": [
      "\r",
      "t:  88%|█████████████████████████████████████████████████████████▍       | 1114/1260 [11:11<01:27,  1.67it/s, now=None]"
     ]
    },
    {
     "name": "stdout",
     "output_type": "stream",
     "text": [
      "720\n",
      "640.0\n",
      "357.56175778409056\n",
      "1048.1209605194483\n",
      "702.8413591517694\n",
      "-0.3321614698022099\n",
      "1377.7485386034448\n",
      "1014.791204525262\n",
      "-0.3321614698022099\n"
     ]
    },
    {
     "name": "stderr",
     "output_type": "stream",
     "text": [
      "\r",
      "t:  88%|█████████████████████████████████████████████████████████▌       | 1115/1260 [11:12<01:20,  1.80it/s, now=None]"
     ]
    },
    {
     "name": "stdout",
     "output_type": "stream",
     "text": [
      "720\n",
      "640.0\n",
      "354.7779912218307\n",
      "1042.8292517551101\n",
      "698.8036214884704\n",
      "-0.3108191421533436\n",
      "1517.7103048482845\n",
      "1202.2461636859566\n",
      "-0.3108191421533436\n"
     ]
    },
    {
     "name": "stderr",
     "output_type": "stream",
     "text": [
      "\r",
      "t:  89%|█████████████████████████████████████████████████████████▌       | 1116/1260 [11:12<01:12,  1.99it/s, now=None]"
     ]
    },
    {
     "name": "stdout",
     "output_type": "stream",
     "text": [
      "720\n",
      "640.0\n",
      "351.7358116879809\n",
      "1042.8926940310316\n",
      "697.3142528595063\n",
      "-0.30294676511453317\n",
      "1722.9056268181696\n",
      "1045.7619160079196\n",
      "-0.30294676511453317\n"
     ]
    },
    {
     "name": "stderr",
     "output_type": "stream",
     "text": [
      "\r",
      "t:  89%|█████████████████████████████████████████████████████████▌       | 1117/1260 [11:13<01:09,  2.04it/s, now=None]"
     ]
    },
    {
     "name": "stdout",
     "output_type": "stream",
     "text": [
      "720\n",
      "640.0\n",
      "353.2513146515216\n",
      "1039.0160284565288\n",
      "696.1336715540252\n",
      "-0.29670654964270476\n",
      "1772.3032886762799\n",
      "949.5848194024908\n",
      "-0.29670654964270476\n"
     ]
    },
    {
     "name": "stderr",
     "output_type": "stream",
     "text": [
      "\r",
      "t:  89%|█████████████████████████████████████████████████████████▋       | 1118/1260 [11:13<01:19,  1.79it/s, now=None]"
     ]
    },
    {
     "name": "stdout",
     "output_type": "stream",
     "text": [
      "720\n",
      "640.0\n",
      "353.27313136551265\n",
      "1036.163355608146\n",
      "694.7182434868294\n",
      "-0.2892250012875266\n",
      "1835.900904275924\n",
      "809.5626591302358\n",
      "-0.2892250012875266\n"
     ]
    },
    {
     "name": "stderr",
     "output_type": "stream",
     "text": [
      "\r",
      "t:  89%|█████████████████████████████████████████████████████████▋       | 1119/1260 [11:14<01:18,  1.80it/s, now=None]"
     ]
    },
    {
     "name": "stdout",
     "output_type": "stream",
     "text": [
      "720\n",
      "640.0\n",
      "350.7356311712908\n",
      "1044.741845283389\n",
      "697.7387382273399\n",
      "-0.30519047348736816\n",
      "2742.7248724094866\n",
      "589.367928787672\n",
      "-0.30519047348736816\n"
     ]
    },
    {
     "name": "stderr",
     "output_type": "stream",
     "text": [
      "\r",
      "t:  89%|█████████████████████████████████████████████████████████▊       | 1120/1260 [11:14<01:10,  1.98it/s, now=None]"
     ]
    },
    {
     "name": "stdout",
     "output_type": "stream",
     "text": [
      "720\n",
      "640.0\n",
      "348.4289596464016\n",
      "1034.9824369695266\n",
      "691.7056983079641\n",
      "-0.2733015481992388\n",
      "3853.3922304579464\n",
      "722.1084557161095\n",
      "-0.2733015481992388\n"
     ]
    },
    {
     "name": "stderr",
     "output_type": "stream",
     "text": [
      "\r",
      "t:  89%|█████████████████████████████████████████████████████████▊       | 1121/1260 [11:15<01:04,  2.16it/s, now=None]"
     ]
    },
    {
     "name": "stdout",
     "output_type": "stream",
     "text": [
      "720\n",
      "640.0\n",
      "345.0207934826585\n",
      "1027.8175706146767\n",
      "686.4191820486676\n",
      "-0.2453585336858145\n",
      "14623.642183048974\n",
      "1162.6814690114786\n",
      "-0.2453585336858145\n"
     ]
    },
    {
     "name": "stderr",
     "output_type": "stream",
     "text": [
      "\r",
      "t:  89%|█████████████████████████████████████████████████████████▉       | 1122/1260 [11:15<01:04,  2.14it/s, now=None]"
     ]
    },
    {
     "name": "stdout",
     "output_type": "stream",
     "text": [
      "720\n",
      "640.0\n",
      "343.42363592086195\n",
      "1027.6752046859103\n",
      "685.5494203033861\n",
      "-0.24076122160361232\n",
      "98223.05905199057\n",
      "1308.2732320546957\n",
      "-0.24076122160361232\n"
     ]
    },
    {
     "name": "stderr",
     "output_type": "stream",
     "text": [
      "\r",
      "t:  89%|█████████████████████████████████████████████████████████▉       | 1123/1260 [11:16<01:02,  2.21it/s, now=None]"
     ]
    },
    {
     "name": "stdout",
     "output_type": "stream",
     "text": [
      "720\n",
      "640.0\n",
      "342.66916297407465\n",
      "1025.0944579202119\n",
      "683.8818104471433\n",
      "-0.23194671236347156\n",
      "1063721.2591412717\n",
      "1483.1580962302908\n",
      "-0.23194671236347156\n"
     ]
    },
    {
     "name": "stderr",
     "output_type": "stream",
     "text": [
      "\r",
      "t:  89%|█████████████████████████████████████████████████████████▉       | 1124/1260 [11:16<00:59,  2.30it/s, now=None]"
     ]
    },
    {
     "name": "stdout",
     "output_type": "stream",
     "text": [
      "720\n",
      "640.0\n",
      "341.2022112239514\n",
      "1025.3870453780899\n",
      "683.2946283010206\n",
      "-0.22884303530539443\n",
      "33601.90088545874\n",
      "1719.5246517144135\n",
      "-0.22884303530539443\n"
     ]
    },
    {
     "name": "stderr",
     "output_type": "stream",
     "text": [
      "\r",
      "t:  89%|██████████████████████████████████████████████████████████       | 1125/1260 [11:16<00:59,  2.27it/s, now=None]"
     ]
    },
    {
     "name": "stdout",
     "output_type": "stream",
     "text": [
      "720\n",
      "640.0\n",
      "345.1457666290462\n",
      "1025.6451531373918\n",
      "685.395459883219\n",
      "-0.23994743081130054\n",
      "6906.355704590541\n",
      "1580.1392250238325\n",
      "-0.23994743081130054\n"
     ]
    },
    {
     "name": "stderr",
     "output_type": "stream",
     "text": [
      "\r",
      "t:  89%|██████████████████████████████████████████████████████████       | 1126/1260 [11:17<01:05,  2.05it/s, now=None]"
     ]
    },
    {
     "name": "stdout",
     "output_type": "stream",
     "text": [
      "720\n",
      "640.0\n",
      "343.40137288562016\n",
      "1029.3010803295351\n",
      "686.3512266075777\n",
      "-0.24499934064005358\n",
      "6857.151465605644\n",
      "1315.9225030473888\n",
      "-0.24499934064005358\n"
     ]
    },
    {
     "name": "stderr",
     "output_type": "stream",
     "text": [
      "\r",
      "t:  89%|██████████████████████████████████████████████████████████▏      | 1127/1260 [11:18<01:09,  1.91it/s, now=None]"
     ]
    },
    {
     "name": "stdout",
     "output_type": "stream",
     "text": [
      "720\n",
      "640.0\n",
      "345.6418624153658\n",
      "1029.3478318961495\n",
      "687.4948471557576\n",
      "-0.2510441921090045\n",
      "3511.941829906963\n",
      "1423.1579663847635\n",
      "-0.2510441921090045\n"
     ]
    },
    {
     "name": "stderr",
     "output_type": "stream",
     "text": [
      "\r",
      "t:  90%|██████████████████████████████████████████████████████████▏      | 1128/1260 [11:18<01:13,  1.81it/s, now=None]"
     ]
    },
    {
     "name": "stdout",
     "output_type": "stream",
     "text": [
      "720\n",
      "640.0\n",
      "346.30057757294577\n",
      "1027.5653637433422\n",
      "686.932970658144\n",
      "-0.24807427347876101\n",
      "3640.7429726538867\n",
      "1325.2476443481105\n",
      "-0.24807427347876101\n"
     ]
    },
    {
     "name": "stderr",
     "output_type": "stream",
     "text": [
      "\r",
      "t:  90%|██████████████████████████████████████████████████████████▏      | 1129/1260 [11:19<01:12,  1.81it/s, now=None]"
     ]
    },
    {
     "name": "stdout",
     "output_type": "stream",
     "text": [
      "720\n",
      "640.0\n",
      "346.25588388388417\n",
      "1028.8364418219912\n",
      "687.5461628529376\n",
      "-0.2513154322226704\n",
      "2813.194808626761\n",
      "1334.2506235957405\n",
      "-0.2513154322226704\n"
     ]
    },
    {
     "name": "stderr",
     "output_type": "stream",
     "text": [
      "\r",
      "t:  90%|██████████████████████████████████████████████████████████▎      | 1130/1260 [11:19<01:08,  1.90it/s, now=None]"
     ]
    },
    {
     "name": "stdout",
     "output_type": "stream",
     "text": [
      "720\n",
      "640.0\n",
      "348.4794846064144\n",
      "1028.0992701122914\n",
      "688.2893773593529\n",
      "-0.2552438517565796\n",
      "2173.758160376085\n",
      "1316.303953612834\n",
      "-0.2552438517565796\n"
     ]
    },
    {
     "name": "stderr",
     "output_type": "stream",
     "text": [
      "\r",
      "t:  90%|██████████████████████████████████████████████████████████▎      | 1131/1260 [11:20<01:11,  1.80it/s, now=None]"
     ]
    },
    {
     "name": "stdout",
     "output_type": "stream",
     "text": [
      "720\n",
      "640.0\n",
      "349.44395532263593\n",
      "1030.314433795489\n",
      "689.8791945590625\n",
      "-0.263647171240759\n",
      "1691.3171919570534\n",
      "1194.6945362946722\n",
      "-0.263647171240759\n"
     ]
    },
    {
     "name": "stderr",
     "output_type": "stream",
     "text": [
      "\r",
      "t:  90%|██████████████████████████████████████████████████████████▍      | 1132/1260 [11:20<01:09,  1.83it/s, now=None]"
     ]
    },
    {
     "name": "stdout",
     "output_type": "stream",
     "text": [
      "720\n",
      "640.0\n",
      "347.8224994367232\n",
      "1032.0507163208017\n",
      "689.9366078787625\n",
      "-0.2639506416448876\n",
      "1698.1797897965644\n",
      "1140.8745584127535\n",
      "-0.2639506416448876\n"
     ]
    },
    {
     "name": "stderr",
     "output_type": "stream",
     "text": [
      "\r",
      "t:  90%|██████████████████████████████████████████████████████████▍      | 1133/1260 [11:21<01:11,  1.78it/s, now=None]"
     ]
    },
    {
     "name": "stdout",
     "output_type": "stream",
     "text": [
      "720\n",
      "640.0\n",
      "349.7650920364047\n",
      "1022.3660021940797\n",
      "686.0655471152422\n",
      "-0.24348932046628036\n",
      "1315.632580272323\n",
      "2293.477761719573\n",
      "-0.24348932046628036\n"
     ]
    },
    {
     "name": "stderr",
     "output_type": "stream",
     "text": [
      "\r",
      "t:  90%|██████████████████████████████████████████████████████████▌      | 1134/1260 [11:22<01:12,  1.73it/s, now=None]"
     ]
    },
    {
     "name": "stdout",
     "output_type": "stream",
     "text": [
      "720\n",
      "640.0\n",
      "344.1252582706426\n",
      "1024.084611992379\n",
      "684.1049351315107\n",
      "-0.23312608569512816\n",
      "1686.1155719098401\n",
      "2139.502143081571\n",
      "-0.23312608569512816\n"
     ]
    },
    {
     "name": "stderr",
     "output_type": "stream",
     "text": [
      "\r",
      "t:  90%|██████████████████████████████████████████████████████████▌      | 1135/1260 [11:22<01:18,  1.59it/s, now=None]"
     ]
    },
    {
     "name": "stdout",
     "output_type": "stream",
     "text": [
      "720\n",
      "640.0\n",
      "343.0036082049324\n",
      "1023.0686039672833\n",
      "683.0361060861078\n",
      "-0.22747656074085548\n",
      "1589.3540436202215\n",
      "2001.8204773511225\n",
      "-0.22747656074085548\n"
     ]
    },
    {
     "name": "stderr",
     "output_type": "stream",
     "text": [
      "\r",
      "t:  90%|██████████████████████████████████████████████████████████▌      | 1136/1260 [11:23<01:20,  1.54it/s, now=None]"
     ]
    },
    {
     "name": "stdout",
     "output_type": "stream",
     "text": [
      "720\n",
      "640.0\n",
      "342.2851163666214\n",
      "1024.6966833215538\n",
      "683.4908998440876\n",
      "-0.22988047060446307\n",
      "1352.8946173913707\n",
      "1594.372911772692\n",
      "-0.22988047060446307\n"
     ]
    },
    {
     "name": "stderr",
     "output_type": "stream",
     "text": [
      "\r",
      "t:  90%|██████████████████████████████████████████████████████████▋      | 1137/1260 [11:24<01:21,  1.50it/s, now=None]"
     ]
    },
    {
     "name": "stdout",
     "output_type": "stream",
     "text": [
      "720\n",
      "640.0\n",
      "339.5350395536416\n",
      "1025.4304418870752\n",
      "682.4827407203584\n",
      "-0.2245516295218943\n",
      "1485.8530351401077\n",
      "1339.1497422183834\n",
      "-0.2245516295218943\n"
     ]
    },
    {
     "name": "stderr",
     "output_type": "stream",
     "text": [
      "\r",
      "t:  90%|██████████████████████████████████████████████████████████▋      | 1138/1260 [11:24<01:22,  1.48it/s, now=None]"
     ]
    },
    {
     "name": "stdout",
     "output_type": "stream",
     "text": [
      "720\n",
      "640.0\n",
      "338.220736139769\n",
      "1023.8424930479716\n",
      "681.0316145938702\n",
      "-0.21688139142474272\n",
      "1982.7775968505446\n",
      "1406.5573267920881\n",
      "-0.21688139142474272\n"
     ]
    },
    {
     "name": "stderr",
     "output_type": "stream",
     "text": [
      "\r",
      "t:  90%|██████████████████████████████████████████████████████████▊      | 1139/1260 [11:25<01:10,  1.72it/s, now=None]"
     ]
    },
    {
     "name": "stdout",
     "output_type": "stream",
     "text": [
      "720\n",
      "640.0\n",
      "336.2033854997253\n",
      "1024.0678621912398\n",
      "680.1356238454825\n",
      "-0.212145440326122\n",
      "2413.991690301076\n",
      "1453.8322983469052\n",
      "-0.212145440326122\n"
     ]
    },
    {
     "name": "stderr",
     "output_type": "stream",
     "text": [
      "\r",
      "t:  90%|██████████████████████████████████████████████████████████▊      | 1140/1260 [11:25<01:01,  1.95it/s, now=None]"
     ]
    },
    {
     "name": "stdout",
     "output_type": "stream",
     "text": [
      "720\n",
      "640.0\n",
      "334.8317011746922\n",
      "1023.9810370802462\n",
      "679.4063691274692\n",
      "-0.2082908082451946\n",
      "3170.9481203025557\n",
      "1596.330321377293\n",
      "-0.2082908082451946\n"
     ]
    },
    {
     "name": "stderr",
     "output_type": "stream",
     "text": [
      "\r",
      "t:  91%|██████████████████████████████████████████████████████████▊      | 1141/1260 [11:26<00:56,  2.11it/s, now=None]"
     ]
    },
    {
     "name": "stdout",
     "output_type": "stream",
     "text": [
      "720\n",
      "640.0\n",
      "334.2308360044921\n",
      "1025.105505803541\n",
      "679.6681709040166\n",
      "-0.20967461763551642\n",
      "5385.525234231452\n",
      "1224.0865566586388\n",
      "-0.20967461763551642\n"
     ]
    },
    {
     "name": "stderr",
     "output_type": "stream",
     "text": [
      "\r",
      "t:  91%|██████████████████████████████████████████████████████████▉      | 1142/1260 [11:26<00:50,  2.33it/s, now=None]"
     ]
    },
    {
     "name": "stdout",
     "output_type": "stream",
     "text": [
      "720\n",
      "640.0\n",
      "334.9576623741342\n",
      "1027.4430381372317\n",
      "681.2003502556829\n",
      "-0.21777327992289536\n",
      "2964.9631857034274\n",
      "1402.7072283346934\n",
      "-0.21777327992289536\n"
     ]
    },
    {
     "name": "stderr",
     "output_type": "stream",
     "text": [
      "\r",
      "t:  91%|██████████████████████████████████████████████████████████▉      | 1143/1260 [11:26<00:49,  2.37it/s, now=None]"
     ]
    },
    {
     "name": "stdout",
     "output_type": "stream",
     "text": [
      "720\n",
      "640.0\n",
      "333.8109246530174\n",
      "1029.120097742731\n",
      "681.4655111978743\n",
      "-0.21917484490305\n",
      "6164.330989140343\n",
      "1151.722768259584\n",
      "-0.21917484490305\n"
     ]
    },
    {
     "name": "stderr",
     "output_type": "stream",
     "text": [
      "\r",
      "t:  91%|███████████████████████████████████████████████████████████      | 1144/1260 [11:27<00:46,  2.51it/s, now=None]"
     ]
    },
    {
     "name": "stdout",
     "output_type": "stream",
     "text": [
      "720\n",
      "640.0\n",
      "334.7464210815243\n",
      "1022.1190981029287\n",
      "678.4327595922265\n",
      "-0.20314458641605432\n",
      "7399.50554350038\n",
      "2477.3633206654185\n",
      "-0.20314458641605432\n"
     ]
    },
    {
     "name": "stderr",
     "output_type": "stream",
     "text": [
      "\r",
      "t:  91%|███████████████████████████████████████████████████████████      | 1145/1260 [11:27<00:45,  2.53it/s, now=None]"
     ]
    },
    {
     "name": "stdout",
     "output_type": "stream",
     "text": [
      "720\n",
      "640.0\n",
      "335.4840855930038\n",
      "1021.4318997730317\n",
      "678.4579926830177\n",
      "-0.20327796132452194\n",
      "7464.352254785553\n",
      "3138.993573532247\n",
      "-0.20327796132452194\n"
     ]
    },
    {
     "name": "stderr",
     "output_type": "stream",
     "text": [
      "\r",
      "t:  91%|███████████████████████████████████████████████████████████      | 1146/1260 [11:27<00:42,  2.66it/s, now=None]"
     ]
    },
    {
     "name": "stdout",
     "output_type": "stream",
     "text": [
      "720\n",
      "640.0\n",
      "338.63104059766107\n",
      "1025.023226882349\n",
      "681.827133740005\n",
      "-0.22108627834002656\n",
      "5298.374991800239\n",
      "1748.7007837414321\n",
      "-0.22108627834002656\n"
     ]
    },
    {
     "name": "stderr",
     "output_type": "stream",
     "text": [
      "\r",
      "t:  91%|███████████████████████████████████████████████████████████▏     | 1147/1260 [11:28<00:41,  2.73it/s, now=None]"
     ]
    },
    {
     "name": "stdout",
     "output_type": "stream",
     "text": [
      "720\n",
      "640.0\n",
      "338.94843923077644\n",
      "1026.9902639651777\n",
      "682.969351597977\n",
      "-0.22712371558930722\n",
      "4565.863737393868\n",
      "1740.6424283407994\n",
      "-0.22712371558930722\n"
     ]
    },
    {
     "name": "stderr",
     "output_type": "stream",
     "text": [
      "\r",
      "t:  91%|███████████████████████████████████████████████████████████▏     | 1148/1260 [11:28<00:39,  2.84it/s, now=None]"
     ]
    },
    {
     "name": "stdout",
     "output_type": "stream",
     "text": [
      "720\n",
      "640.0\n",
      "339.05209403341485\n",
      "1028.4277181058694\n",
      "683.7399060696421\n",
      "-0.23119664636810813\n",
      "5389.203825066193\n",
      "1395.150505071514\n",
      "-0.23119664636810813\n"
     ]
    },
    {
     "name": "stderr",
     "output_type": "stream",
     "text": [
      "\r",
      "t:  91%|███████████████████████████████████████████████████████████▎     | 1149/1260 [11:28<00:39,  2.83it/s, now=None]"
     ]
    },
    {
     "name": "stdout",
     "output_type": "stream",
     "text": [
      "720\n",
      "640.0\n",
      "340.9908665263514\n",
      "1026.8916797018949\n",
      "683.9412731141231\n",
      "-0.23226101503179342\n",
      "3917.9487861724933\n",
      "1221.0091156981582\n",
      "-0.23226101503179342\n"
     ]
    },
    {
     "name": "stderr",
     "output_type": "stream",
     "text": [
      "\r",
      "t:  91%|███████████████████████████████████████████████████████████▎     | 1150/1260 [11:29<00:41,  2.67it/s, now=None]"
     ]
    },
    {
     "name": "stdout",
     "output_type": "stream",
     "text": [
      "720\n",
      "640.0\n",
      "339.5105101294488\n",
      "1028.7627281611835\n",
      "684.1366191453162\n",
      "-0.23329355833952858\n",
      "5800.621439249826\n",
      "1257.4567859402225\n",
      "-0.23329355833952858\n"
     ]
    },
    {
     "name": "stderr",
     "output_type": "stream",
     "text": [
      "\r",
      "t:  91%|███████████████████████████████████████████████████████████▍     | 1151/1260 [11:29<00:38,  2.83it/s, now=None]"
     ]
    },
    {
     "name": "stdout",
     "output_type": "stream",
     "text": [
      "720\n",
      "640.0\n",
      "341.8990253545842\n",
      "1026.235396172966\n",
      "684.067210763775\n",
      "-0.23292668546566814\n",
      "3034.9596418361366\n",
      "1554.139518278853\n",
      "-0.23292668546566814\n"
     ]
    },
    {
     "name": "stderr",
     "output_type": "stream",
     "text": [
      "\r",
      "t:  91%|███████████████████████████████████████████████████████████▍     | 1152/1260 [11:29<00:38,  2.80it/s, now=None]"
     ]
    },
    {
     "name": "stdout",
     "output_type": "stream",
     "text": [
      "720\n",
      "640.0\n",
      "342.39536449334736\n",
      "1025.1583981830067\n",
      "683.7768813381771\n",
      "-0.2313920870732217\n",
      "3042.0711785653566\n",
      "1171.3407458366842\n",
      "-0.2313920870732217\n"
     ]
    },
    {
     "name": "stderr",
     "output_type": "stream",
     "text": [
      "\r",
      "t:  92%|███████████████████████████████████████████████████████████▍     | 1153/1260 [11:30<00:39,  2.71it/s, now=None]"
     ]
    },
    {
     "name": "stdout",
     "output_type": "stream",
     "text": [
      "720\n",
      "640.0\n",
      "342.45118030070375\n",
      "1034.554100635977\n",
      "688.5026404683404\n",
      "-0.25637109961837046\n",
      "2343.0396628746303\n",
      "813.8669407916196\n",
      "-0.25637109961837046\n"
     ]
    },
    {
     "name": "stderr",
     "output_type": "stream",
     "text": [
      "\r",
      "t:  92%|███████████████████████████████████████████████████████████▌     | 1154/1260 [11:30<00:43,  2.44it/s, now=None]"
     ]
    },
    {
     "name": "stdout",
     "output_type": "stream",
     "text": [
      "720\n",
      "640.0\n",
      "342.18164905648166\n",
      "1030.9626695608226\n",
      "686.5721593086521\n",
      "-0.2461671277743039\n",
      "2549.7816393018065\n",
      "861.9019427031948\n",
      "-0.2461671277743039\n"
     ]
    },
    {
     "name": "stderr",
     "output_type": "stream",
     "text": [
      "\r",
      "t:  92%|███████████████████████████████████████████████████████████▌     | 1155/1260 [11:31<00:49,  2.11it/s, now=None]"
     ]
    },
    {
     "name": "stdout",
     "output_type": "stream",
     "text": [
      "720\n",
      "640.0\n",
      "340.9085809713065\n",
      "1030.8303182967684\n",
      "685.8694496340374\n",
      "-0.2424528052084836\n",
      "2126.433103278213\n",
      "931.1808343999469\n",
      "-0.2424528052084836\n"
     ]
    },
    {
     "name": "stderr",
     "output_type": "stream",
     "text": [
      "\r",
      "t:  92%|███████████████████████████████████████████████████████████▋     | 1156/1260 [11:32<00:52,  1.97it/s, now=None]"
     ]
    },
    {
     "name": "stdout",
     "output_type": "stream",
     "text": [
      "720\n",
      "640.0\n",
      "338.50743292093534\n",
      "1019.4313612115909\n",
      "678.9693970662631\n",
      "-0.2059810987788194\n",
      "2931.373984970347\n",
      "2343.285245350157\n",
      "-0.2059810987788194\n"
     ]
    },
    {
     "name": "stderr",
     "output_type": "stream",
     "text": [
      "\r",
      "t:  92%|███████████████████████████████████████████████████████████▋     | 1157/1260 [11:32<00:56,  1.82it/s, now=None]"
     ]
    },
    {
     "name": "stdout",
     "output_type": "stream",
     "text": [
      "720\n",
      "640.0\n",
      "337.0366388817512\n",
      "1013.981086352558\n",
      "675.5088626171546\n",
      "-0.18768970240496\n",
      "3525.052186216631\n",
      "3988.9198109832637\n",
      "-0.18768970240496\n"
     ]
    },
    {
     "name": "stderr",
     "output_type": "stream",
     "text": [
      "\r",
      "t:  92%|███████████████████████████████████████████████████████████▋     | 1158/1260 [11:33<01:04,  1.58it/s, now=None]"
     ]
    },
    {
     "name": "stdout",
     "output_type": "stream",
     "text": [
      "720\n",
      "640.0\n",
      "332.92584706007744\n",
      "1022.4875675321281\n",
      "677.7067072961028\n",
      "-0.19930688142225747\n",
      "6384.80775533292\n",
      "2323.4103433870614\n",
      "-0.19930688142225747\n"
     ]
    },
    {
     "name": "stderr",
     "output_type": "stream",
     "text": [
      "\r",
      "t:  92%|███████████████████████████████████████████████████████████▊     | 1159/1260 [11:34<01:01,  1.63it/s, now=None]"
     ]
    },
    {
     "name": "stdout",
     "output_type": "stream",
     "text": [
      "720\n",
      "640.0\n",
      "333.1789574744241\n",
      "1025.786918326911\n",
      "679.4829379006676\n",
      "-0.20869552890352872\n",
      "7414.124651385475\n",
      "1603.1793996582398\n",
      "-0.20869552890352872\n"
     ]
    },
    {
     "name": "stderr",
     "output_type": "stream",
     "text": [
      "\r",
      "t:  92%|███████████████████████████████████████████████████████████▊     | 1160/1260 [11:34<00:54,  1.84it/s, now=None]"
     ]
    },
    {
     "name": "stdout",
     "output_type": "stream",
     "text": [
      "720\n",
      "640.0\n",
      "332.53126505525495\n",
      "1027.1191917148144\n",
      "679.8252283850347\n",
      "-0.21050477860661218\n",
      "5357.7751955199365\n",
      "1367.9113623844025\n",
      "-0.21050477860661218\n"
     ]
    },
    {
     "name": "stderr",
     "output_type": "stream",
     "text": [
      "\r",
      "t:  92%|███████████████████████████████████████████████████████████▉     | 1161/1260 [11:34<00:47,  2.08it/s, now=None]"
     ]
    },
    {
     "name": "stdout",
     "output_type": "stream",
     "text": [
      "720\n",
      "640.0\n",
      "333.4320219617588\n",
      "1025.4395611822918\n",
      "679.4357915720252\n",
      "-0.2084463268807047\n",
      "3426.787778618246\n",
      "1322.3869726734522\n",
      "-0.2084463268807047\n"
     ]
    },
    {
     "name": "stderr",
     "output_type": "stream",
     "text": [
      "\r",
      "t:  92%|███████████████████████████████████████████████████████████▉     | 1162/1260 [11:35<00:42,  2.29it/s, now=None]"
     ]
    },
    {
     "name": "stdout",
     "output_type": "stream",
     "text": [
      "720\n",
      "640.0\n",
      "334.50123140954224\n",
      "1023.7042535078588\n",
      "679.1027424587005\n",
      "-0.20668592442455982\n",
      "2532.0367455757296\n",
      "1264.7572003685364\n",
      "-0.20668592442455982\n"
     ]
    },
    {
     "name": "stderr",
     "output_type": "stream",
     "text": [
      "\r",
      "t:  92%|███████████████████████████████████████████████████████████▉     | 1163/1260 [11:35<00:38,  2.51it/s, now=None]"
     ]
    },
    {
     "name": "stdout",
     "output_type": "stream",
     "text": [
      "720\n",
      "640.0\n",
      "334.55753582406595\n",
      "1023.4486775365756\n",
      "679.0031066803208\n",
      "-0.20615927816740995\n",
      "2126.795268480759\n",
      "1431.045839294299\n",
      "-0.20615927816740995\n"
     ]
    },
    {
     "name": "stderr",
     "output_type": "stream",
     "text": [
      "\r",
      "t:  92%|████████████████████████████████████████████████████████████     | 1164/1260 [11:35<00:36,  2.64it/s, now=None]"
     ]
    },
    {
     "name": "stdout",
     "output_type": "stream",
     "text": [
      "720\n",
      "640.0\n",
      "336.59430342375674\n",
      "1027.425535482801\n",
      "682.0099194532788\n",
      "-0.2220524313959024\n",
      "1521.7671913024485\n",
      "1047.7370244484669\n",
      "-0.2220524313959024\n"
     ]
    },
    {
     "name": "stderr",
     "output_type": "stream",
     "text": [
      "\r",
      "t:  92%|████████████████████████████████████████████████████████████     | 1165/1260 [11:36<00:34,  2.76it/s, now=None]"
     ]
    },
    {
     "name": "stdout",
     "output_type": "stream",
     "text": [
      "720\n",
      "640.0\n",
      "335.94841312284353\n",
      "1024.641342735065\n",
      "680.2948779289543\n",
      "-0.212987211910187\n",
      "1428.6788881676143\n",
      "1044.6312772814233\n",
      "-0.212987211910187\n"
     ]
    },
    {
     "name": "stderr",
     "output_type": "stream",
     "text": [
      "\r",
      "t:  93%|████████████████████████████████████████████████████████████▏    | 1166/1260 [11:36<00:32,  2.88it/s, now=None]"
     ]
    },
    {
     "name": "stdout",
     "output_type": "stream",
     "text": [
      "720\n",
      "640.0\n",
      "333.6714796876307\n",
      "1026.4340293328387\n",
      "680.0527545102348\n",
      "-0.2117074166969552\n",
      "1385.0036429542868\n",
      "983.6043708512038\n",
      "-0.2117074166969552\n"
     ]
    },
    {
     "name": "stderr",
     "output_type": "stream",
     "text": [
      "\r",
      "t:  93%|████████████████████████████████████████████████████████████▏    | 1167/1260 [11:36<00:31,  2.99it/s, now=None]"
     ]
    },
    {
     "name": "stdout",
     "output_type": "stream",
     "text": [
      "720\n",
      "640.0\n",
      "333.9412354396178\n",
      "1018.5339543900351\n",
      "676.2375949148264\n",
      "-0.1915415731212255\n",
      "1296.1531221656876\n",
      "1760.7458755102523\n",
      "-0.1915415731212255\n"
     ]
    },
    {
     "name": "stderr",
     "output_type": "stream",
     "text": [
      "\r",
      "t:  93%|████████████████████████████████████████████████████████████▎    | 1168/1260 [11:37<00:29,  3.11it/s, now=None]"
     ]
    },
    {
     "name": "stdout",
     "output_type": "stream",
     "text": [
      "720\n",
      "640.0\n",
      "333.3265457902676\n",
      "1019.836543659846\n",
      "676.5815447250568\n",
      "-0.19335959354672883\n",
      "1213.321561552739\n",
      "1516.9241178408474\n",
      "-0.19335959354672883\n"
     ]
    },
    {
     "name": "stderr",
     "output_type": "stream",
     "text": [
      "\r",
      "t:  93%|████████████████████████████████████████████████████████████▎    | 1169/1260 [11:37<00:28,  3.15it/s, now=None]"
     ]
    },
    {
     "name": "stdout",
     "output_type": "stream",
     "text": [
      "720\n",
      "640.0\n",
      "331.17835559364977\n",
      "1018.6177852524172\n",
      "674.8980704230335\n",
      "-0.18446122937889115\n",
      "1309.287270171606\n",
      "1579.6419182745217\n",
      "-0.18446122937889115\n"
     ]
    },
    {
     "name": "stderr",
     "output_type": "stream",
     "text": [
      "\r",
      "t:  93%|████████████████████████████████████████████████████████████▎    | 1170/1260 [11:37<00:31,  2.88it/s, now=None]"
     ]
    },
    {
     "name": "stdout",
     "output_type": "stream",
     "text": [
      "720\n",
      "640.0\n",
      "331.2604440112494\n",
      "1022.3409339846435\n",
      "676.8006889979464\n",
      "-0.19451792756057382\n",
      "1160.1790114300238\n",
      "1023.2388164420349\n",
      "-0.19451792756057382\n"
     ]
    },
    {
     "name": "stderr",
     "output_type": "stream",
     "text": [
      "\r",
      "t:  93%|████████████████████████████████████████████████████████████▍    | 1171/1260 [11:38<00:32,  2.77it/s, now=None]"
     ]
    },
    {
     "name": "stdout",
     "output_type": "stream",
     "text": [
      "720\n",
      "640.0\n",
      "328.4785707490268\n",
      "1021.2602676631228\n",
      "674.8694192060748\n",
      "-0.18430978723210956\n",
      "1447.644407053231\n",
      "1073.5830142039774\n",
      "-0.18430978723210956\n"
     ]
    },
    {
     "name": "stderr",
     "output_type": "stream",
     "text": [
      "\r",
      "t:  93%|████████████████████████████████████████████████████████████▍    | 1172/1260 [11:38<00:34,  2.57it/s, now=None]"
     ]
    },
    {
     "name": "stdout",
     "output_type": "stream",
     "text": [
      "720\n",
      "640.0\n",
      "327.10439840507615\n",
      "1020.0908408737747\n",
      "673.5976196394254\n",
      "-0.17758741809410555\n",
      "1598.7065651556416\n",
      "978.8022342113309\n",
      "-0.17758741809410555\n"
     ]
    },
    {
     "name": "stderr",
     "output_type": "stream",
     "text": [
      "\r",
      "t:  93%|████████████████████████████████████████████████████████████▌    | 1173/1260 [11:39<00:35,  2.45it/s, now=None]"
     ]
    },
    {
     "name": "stdout",
     "output_type": "stream",
     "text": [
      "720\n",
      "640.0\n",
      "326.3864681598343\n",
      "1018.9561961712079\n",
      "672.6713321655211\n",
      "-0.17269132716061159\n",
      "1841.4951782792405\n",
      "1015.9986635090341\n",
      "-0.17269132716061159\n"
     ]
    },
    {
     "name": "stderr",
     "output_type": "stream",
     "text": [
      "\r",
      "t:  93%|████████████████████████████████████████████████████████████▌    | 1174/1260 [11:39<00:35,  2.43it/s, now=None]"
     ]
    },
    {
     "name": "stdout",
     "output_type": "stream",
     "text": [
      "720\n",
      "640.0\n",
      "324.6158038604575\n",
      "1020.0980178948681\n",
      "672.3569108776628\n",
      "-0.1710293860676463\n",
      "2433.829839523445\n",
      "1074.9755613929458\n",
      "-0.1710293860676463\n"
     ]
    },
    {
     "name": "stderr",
     "output_type": "stream",
     "text": [
      "\r",
      "t:  93%|████████████████████████████████████████████████████████████▌    | 1175/1260 [11:39<00:35,  2.41it/s, now=None]"
     ]
    },
    {
     "name": "stdout",
     "output_type": "stream",
     "text": [
      "720\n",
      "640.0\n",
      "326.3545601324739\n",
      "1018.8571155279553\n",
      "672.6058378302146\n",
      "-0.17234514281684843\n",
      "2773.7831708465956\n",
      "921.5642034152736\n",
      "-0.17234514281684843\n"
     ]
    },
    {
     "name": "stderr",
     "output_type": "stream",
     "text": [
      "\r",
      "t:  93%|████████████████████████████████████████████████████████████▋    | 1176/1260 [11:40<00:33,  2.51it/s, now=None]"
     ]
    },
    {
     "name": "stdout",
     "output_type": "stream",
     "text": [
      "720\n",
      "640.0\n",
      "326.98186680943786\n",
      "1025.0357243724309\n",
      "676.0087955909344\n",
      "-0.19033220526636738\n",
      "3633.084079675679\n",
      "785.041798365857\n",
      "-0.19033220526636738\n"
     ]
    },
    {
     "name": "stderr",
     "output_type": "stream",
     "text": [
      "\r",
      "t:  93%|████████████████████████████████████████████████████████████▋    | 1177/1260 [11:40<00:34,  2.43it/s, now=None]"
     ]
    },
    {
     "name": "stdout",
     "output_type": "stream",
     "text": [
      "720\n",
      "640.0\n",
      "327.4649617724497\n",
      "1023.0286435041023\n",
      "675.246802638276\n",
      "-0.18630452823088742\n",
      "4799.623521886046\n",
      "859.7682530106782\n",
      "-0.18630452823088742\n"
     ]
    },
    {
     "name": "stderr",
     "output_type": "stream",
     "text": [
      "\r",
      "t:  93%|████████████████████████████████████████████████████████████▊    | 1178/1260 [11:41<00:37,  2.18it/s, now=None]"
     ]
    },
    {
     "name": "stdout",
     "output_type": "stream",
     "text": [
      "720\n",
      "640.0\n",
      "331.28860999451456\n",
      "1009.9193351518439\n",
      "670.6039725731792\n",
      "-0.16176385502966176\n",
      "3715.104747840486\n",
      "2854.6978402426585\n",
      "-0.16176385502966176\n"
     ]
    },
    {
     "name": "stderr",
     "output_type": "stream",
     "text": [
      "\r",
      "t:  94%|████████████████████████████████████████████████████████████▊    | 1179/1260 [11:41<00:39,  2.06it/s, now=None]"
     ]
    },
    {
     "name": "stdout",
     "output_type": "stream",
     "text": [
      "720\n",
      "640.0\n",
      "331.00206853072643\n",
      "1015.8355616019222\n",
      "673.4188150663243\n",
      "-0.17664230820771432\n",
      "6033.591186041401\n",
      "2530.39421840112\n",
      "-0.17664230820771432\n"
     ]
    },
    {
     "name": "stderr",
     "output_type": "stream",
     "text": [
      "\r",
      "t:  94%|████████████████████████████████████████████████████████████▊    | 1180/1260 [11:42<00:38,  2.07it/s, now=None]"
     ]
    },
    {
     "name": "stdout",
     "output_type": "stream",
     "text": [
      "720\n",
      "640.0\n",
      "332.8481475463811\n",
      "1012.241511497108\n",
      "672.5448295217445\n",
      "-0.1720226703292211\n",
      "7739.412580095418\n",
      "4456.828572337242\n",
      "-0.1720226703292211\n"
     ]
    },
    {
     "name": "stderr",
     "output_type": "stream",
     "text": [
      "\r",
      "t:  94%|████████████████████████████████████████████████████████████▉    | 1181/1260 [11:42<00:35,  2.25it/s, now=None]"
     ]
    },
    {
     "name": "stdout",
     "output_type": "stream",
     "text": [
      "720\n",
      "640.0\n",
      "336.71745962268\n",
      "1019.5013469701589\n",
      "678.1094032964195\n",
      "-0.2014354174239316\n",
      "3211.5354396653006\n",
      "2097.5192003510697\n",
      "-0.2014354174239316\n"
     ]
    },
    {
     "name": "stderr",
     "output_type": "stream",
     "text": [
      "\r",
      "t:  94%|████████████████████████████████████████████████████████████▉    | 1182/1260 [11:42<00:31,  2.45it/s, now=None]"
     ]
    },
    {
     "name": "stdout",
     "output_type": "stream",
     "text": [
      "720\n",
      "640.0\n",
      "337.2740602220524\n",
      "1023.0838074574117\n",
      "680.178933839732\n",
      "-0.21237436458144085\n",
      "3426.1257372238188\n",
      "2255.1959772699793\n",
      "-0.21237436458144085\n"
     ]
    },
    {
     "name": "stderr",
     "output_type": "stream",
     "text": [
      "\r",
      "t:  94%|█████████████████████████████████████████████████████████████    | 1183/1260 [11:43<00:28,  2.68it/s, now=None]"
     ]
    },
    {
     "name": "stdout",
     "output_type": "stream",
     "text": [
      "720\n",
      "640.0\n",
      "337.729877484556\n",
      "1026.185433347348\n",
      "681.957655415952\n",
      "-0.2217761786271748\n",
      "8960.041599813167\n",
      "1892.150172429394\n",
      "-0.2217761786271748\n"
     ]
    },
    {
     "name": "stderr",
     "output_type": "stream",
     "text": [
      "\r",
      "t:  94%|█████████████████████████████████████████████████████████████    | 1184/1260 [11:43<00:29,  2.60it/s, now=None]"
     ]
    },
    {
     "name": "stdout",
     "output_type": "stream",
     "text": [
      "720\n",
      "640.0\n",
      "341.4577779237036\n",
      "1027.8295415001014\n",
      "684.6436597119025\n",
      "-0.23597362990577037\n",
      "7269.928815942328\n",
      "2363.830207408443\n",
      "-0.23597362990577037\n"
     ]
    },
    {
     "name": "stderr",
     "output_type": "stream",
     "text": [
      "\r",
      "t:  94%|█████████████████████████████████████████████████████████████▏   | 1185/1260 [11:44<00:33,  2.26it/s, now=None]"
     ]
    },
    {
     "name": "stdout",
     "output_type": "stream",
     "text": [
      "720\n",
      "640.0\n",
      "343.41926756090606\n",
      "1030.4351974006754\n",
      "686.9272324807907\n",
      "-0.24804394311275105\n",
      "5575.496895262087\n",
      "2255.164582316427\n",
      "-0.24804394311275105\n"
     ]
    },
    {
     "name": "stderr",
     "output_type": "stream",
     "text": [
      "\r",
      "t:  94%|█████████████████████████████████████████████████████████████▏   | 1186/1260 [11:44<00:38,  1.92it/s, now=None]"
     ]
    },
    {
     "name": "stdout",
     "output_type": "stream",
     "text": [
      "720\n",
      "640.0\n",
      "347.2014572547978\n",
      "1033.2505940105702\n",
      "690.226025632684\n",
      "-0.2654804212013298\n",
      "4628.283667803288\n",
      "1524.0300748836064\n",
      "-0.2654804212013298\n"
     ]
    },
    {
     "name": "stderr",
     "output_type": "stream",
     "text": [
      "\r",
      "t:  94%|█████████████████████████████████████████████████████████████▏   | 1187/1260 [11:45<00:41,  1.78it/s, now=None]"
     ]
    },
    {
     "name": "stdout",
     "output_type": "stream",
     "text": [
      "720\n",
      "640.0\n",
      "347.8491407345717\n",
      "1050.3562062689348\n",
      "699.1026735017532\n",
      "-0.3123998456521241\n",
      "6015.691725659808\n",
      "964.6920570128626\n",
      "-0.3123998456521241\n"
     ]
    },
    {
     "name": "stderr",
     "output_type": "stream",
     "text": [
      "\r",
      "t:  94%|█████████████████████████████████████████████████████████████▎   | 1188/1260 [11:46<00:41,  1.73it/s, now=None]"
     ]
    },
    {
     "name": "stdout",
     "output_type": "stream",
     "text": [
      "720\n",
      "640.0\n",
      "350.1275804931383\n",
      "1048.0965431514726\n",
      "699.1120618223055\n",
      "-0.31244946963218606\n",
      "5464.852248773096\n",
      "957.0256228927758\n",
      "-0.31244946963218606\n"
     ]
    },
    {
     "name": "stderr",
     "output_type": "stream",
     "text": [
      "\r",
      "t:  94%|█████████████████████████████████████████████████████████████▎   | 1189/1260 [11:46<00:40,  1.74it/s, now=None]"
     ]
    },
    {
     "name": "stdout",
     "output_type": "stream",
     "text": [
      "720\n",
      "640.0\n",
      "352.00334285809913\n",
      "1040.4611213613218\n",
      "696.2322321097105\n",
      "-0.29722751257989827\n",
      "5333.613288009207\n",
      "1625.582701006192\n",
      "-0.29722751257989827\n"
     ]
    },
    {
     "name": "stderr",
     "output_type": "stream",
     "text": [
      "\r",
      "t:  94%|█████████████████████████████████████████████████████████████▍   | 1190/1260 [11:47<00:41,  1.69it/s, now=None]"
     ]
    },
    {
     "name": "stdout",
     "output_type": "stream",
     "text": [
      "720\n",
      "640.0\n",
      "351.14025796944213\n",
      "1043.3595783436485\n",
      "697.2499181565454\n",
      "-0.30260671025602565\n",
      "4434.650182937368\n",
      "1346.9868780885165\n",
      "-0.30260671025602565\n"
     ]
    },
    {
     "name": "stderr",
     "output_type": "stream",
     "text": [
      "\r",
      "t:  95%|█████████████████████████████████████████████████████████████▍   | 1191/1260 [11:47<00:40,  1.71it/s, now=None]"
     ]
    },
    {
     "name": "stdout",
     "output_type": "stream",
     "text": [
      "720\n",
      "640.0\n",
      "353.4833464856615\n",
      "1040.9165181725218\n",
      "697.1999323290917\n",
      "-0.30234249945377023\n",
      "3956.03852979335\n",
      "1325.3977492211766\n",
      "-0.30234249945377023\n"
     ]
    },
    {
     "name": "stderr",
     "output_type": "stream",
     "text": [
      "\r",
      "t:  95%|█████████████████████████████████████████████████████████████▍   | 1192/1260 [11:48<00:39,  1.74it/s, now=None]"
     ]
    },
    {
     "name": "stdout",
     "output_type": "stream",
     "text": [
      "720\n",
      "640.0\n",
      "355.120534336633\n",
      "1042.731692164369\n",
      "698.926113250501\n",
      "-0.31146659860979087\n",
      "2791.7853939055362\n",
      "1071.9736978732165\n",
      "-0.31146659860979087\n"
     ]
    },
    {
     "name": "stderr",
     "output_type": "stream",
     "text": [
      "\r",
      "t:  95%|█████████████████████████████████████████████████████████████▌   | 1193/1260 [11:49<00:37,  1.79it/s, now=None]"
     ]
    },
    {
     "name": "stdout",
     "output_type": "stream",
     "text": [
      "720\n",
      "640.0\n",
      "357.943352075895\n",
      "1040.7499205657828\n",
      "699.3466363208389\n",
      "-0.3136893634101485\n",
      "1919.9345108349326\n",
      "1016.2644973700415\n",
      "-0.3136893634101485\n"
     ]
    },
    {
     "name": "stderr",
     "output_type": "stream",
     "text": [
      "\r",
      "t:  95%|█████████████████████████████████████████████████████████████▌   | 1194/1260 [11:49<00:36,  1.80it/s, now=None]"
     ]
    },
    {
     "name": "stdout",
     "output_type": "stream",
     "text": [
      "720\n",
      "640.0\n",
      "359.2216849449418\n",
      "1039.5867979871962\n",
      "699.4042414660689\n",
      "-0.31399384774922146\n",
      "1750.4525187080158\n",
      "917.1078928615586\n",
      "-0.31399384774922146\n"
     ]
    },
    {
     "name": "stderr",
     "output_type": "stream",
     "text": [
      "\r",
      "t:  95%|█████████████████████████████████████████████████████████████▋   | 1195/1260 [11:50<00:36,  1.76it/s, now=None]"
     ]
    },
    {
     "name": "stdout",
     "output_type": "stream",
     "text": [
      "720\n",
      "640.0\n",
      "360.2955150544309\n",
      "1039.2740567511664\n",
      "699.7847859027986\n",
      "-0.3160052969147926\n",
      "1430.5661360829363\n",
      "939.4617639892042\n",
      "-0.3160052969147926\n"
     ]
    },
    {
     "name": "stderr",
     "output_type": "stream",
     "text": [
      "\r",
      "t:  95%|█████████████████████████████████████████████████████████████▋   | 1196/1260 [11:50<00:36,  1.77it/s, now=None]"
     ]
    },
    {
     "name": "stdout",
     "output_type": "stream",
     "text": [
      "720\n",
      "640.0\n",
      "359.6352325929656\n",
      "1035.2542886538076\n",
      "697.4447606233866\n",
      "-0.3036365918664722\n",
      "1571.9004938245018\n",
      "1345.1761336251798\n",
      "-0.3036365918664722\n"
     ]
    },
    {
     "name": "stderr",
     "output_type": "stream",
     "text": [
      "\r",
      "t:  95%|█████████████████████████████████████████████████████████████▊   | 1197/1260 [11:51<00:34,  1.81it/s, now=None]"
     ]
    },
    {
     "name": "stdout",
     "output_type": "stream",
     "text": [
      "720\n",
      "640.0\n",
      "360.39955259173405\n",
      "1032.3766618677757\n",
      "696.388107229755\n",
      "-0.29805142392870476\n",
      "1548.72069411489\n",
      "1304.4969415079763\n",
      "-0.29805142392870476\n"
     ]
    },
    {
     "name": "stderr",
     "output_type": "stream",
     "text": [
      "\r",
      "t:  95%|█████████████████████████████████████████████████████████████▊   | 1198/1260 [11:51<00:34,  1.80it/s, now=None]"
     ]
    },
    {
     "name": "stdout",
     "output_type": "stream",
     "text": [
      "720\n",
      "640.0\n",
      "359.581310450479\n",
      "1032.487830507271\n",
      "696.0345704788749\n",
      "-0.2961827296740531\n",
      "1454.6242462802031\n",
      "1425.5319933665226\n",
      "-0.2961827296740531\n"
     ]
    },
    {
     "name": "stderr",
     "output_type": "stream",
     "text": [
      "\r",
      "t:  95%|█████████████████████████████████████████████████████████████▊   | 1199/1260 [11:52<00:34,  1.76it/s, now=None]"
     ]
    },
    {
     "name": "stdout",
     "output_type": "stream",
     "text": [
      "720\n",
      "640.0\n",
      "357.91379415285394\n",
      "1033.3230872575687\n",
      "695.6184407052112\n",
      "-0.293983186584688\n",
      "1689.9589357711802\n",
      "1687.3173670504132\n",
      "-0.293983186584688\n"
     ]
    },
    {
     "name": "stderr",
     "output_type": "stream",
     "text": [
      "\r",
      "t:  95%|█████████████████████████████████████████████████████████████▉   | 1200/1260 [11:53<00:34,  1.75it/s, now=None]"
     ]
    },
    {
     "name": "stdout",
     "output_type": "stream",
     "text": [
      "720\n",
      "640.0\n",
      "354.85365991676525\n",
      "1038.742029163618\n",
      "696.7978445401917\n",
      "-0.30021717828387046\n",
      "1793.6244361286963\n",
      "1686.1726578064506\n",
      "-0.30021717828387046\n"
     ]
    },
    {
     "name": "stderr",
     "output_type": "stream",
     "text": [
      "\r",
      "t:  95%|█████████████████████████████████████████████████████████████▉   | 1201/1260 [11:53<00:37,  1.55it/s, now=None]"
     ]
    },
    {
     "name": "stdout",
     "output_type": "stream",
     "text": [
      "720\n",
      "640.0\n",
      "352.32126922298556\n",
      "1041.6397125289418\n",
      "696.9804908759637\n",
      "-0.3011825946300939\n",
      "1898.098288862587\n",
      "2295.223138431894\n",
      "-0.3011825946300939\n"
     ]
    },
    {
     "name": "stderr",
     "output_type": "stream",
     "text": [
      "\r",
      "t:  95%|██████████████████████████████████████████████████████████████   | 1202/1260 [11:54<00:37,  1.54it/s, now=None]"
     ]
    },
    {
     "name": "stdout",
     "output_type": "stream",
     "text": [
      "720\n",
      "640.0\n",
      "353.0265852825952\n",
      "1037.9753005293983\n",
      "695.5009429059967\n",
      "-0.2933621267888396\n",
      "2131.479554147881\n",
      "5993.579122838313\n",
      "-0.2933621267888396\n"
     ]
    },
    {
     "name": "stderr",
     "output_type": "stream",
     "text": [
      "\r",
      "t:  95%|██████████████████████████████████████████████████████████████   | 1203/1260 [11:55<00:35,  1.60it/s, now=None]"
     ]
    },
    {
     "name": "stdout",
     "output_type": "stream",
     "text": [
      "720\n",
      "640.0\n",
      "351.68380670221643\n",
      "1048.0641660901422\n",
      "699.8739863961794\n",
      "-0.31647678523694805\n",
      "2289.589085020936\n",
      "2260.4930274117805\n",
      "-0.31647678523694805\n"
     ]
    },
    {
     "name": "stderr",
     "output_type": "stream",
     "text": [
      "\r",
      "t:  96%|██████████████████████████████████████████████████████████████   | 1204/1260 [11:55<00:34,  1.62it/s, now=None]"
     ]
    },
    {
     "name": "stdout",
     "output_type": "stream",
     "text": [
      "720\n",
      "640.0\n",
      "352.15994342920453\n",
      "1052.886331819917\n",
      "702.5231376245607\n",
      "-0.33047944172982097\n",
      "2504.4834805307905\n",
      "1547.8095537322959\n",
      "-0.33047944172982097\n"
     ]
    },
    {
     "name": "stderr",
     "output_type": "stream",
     "text": [
      "\r",
      "t:  96%|██████████████████████████████████████████████████████████████▏  | 1205/1260 [11:56<00:35,  1.53it/s, now=None]"
     ]
    },
    {
     "name": "stdout",
     "output_type": "stream",
     "text": [
      "720\n",
      "640.0\n",
      "353.4606810415995\n",
      "1054.0957157749417\n",
      "703.7781984082706\n",
      "-0.33711333444371583\n",
      "2805.395414423472\n",
      "1167.9921231893632\n",
      "-0.33711333444371583\n"
     ]
    },
    {
     "name": "stderr",
     "output_type": "stream",
     "text": [
      "\r",
      "t:  96%|██████████████████████████████████████████████████████████████▏  | 1206/1260 [11:57<00:36,  1.47it/s, now=None]"
     ]
    },
    {
     "name": "stdout",
     "output_type": "stream",
     "text": [
      "720\n",
      "640.0\n",
      "354.8703902345088\n",
      "1053.6460621898807\n",
      "704.2582262121948\n",
      "-0.3396506242644583\n",
      "3045.043667619541\n",
      "1129.43144443488\n",
      "-0.3396506242644583\n"
     ]
    },
    {
     "name": "stderr",
     "output_type": "stream",
     "text": [
      "\r",
      "t:  96%|██████████████████████████████████████████████████████████████▎  | 1207/1260 [11:57<00:35,  1.49it/s, now=None]"
     ]
    },
    {
     "name": "stdout",
     "output_type": "stream",
     "text": [
      "720\n",
      "640.0\n",
      "358.4564845795557\n",
      "1052.7602680011491\n",
      "705.6083762903525\n",
      "-0.3467871318204344\n",
      "2925.217962249344\n",
      "988.1616039469089\n",
      "-0.3467871318204344\n"
     ]
    },
    {
     "name": "stderr",
     "output_type": "stream",
     "text": [
      "\r",
      "t:  96%|██████████████████████████████████████████████████████████████▎  | 1208/1260 [11:58<00:35,  1.46it/s, now=None]"
     ]
    },
    {
     "name": "stdout",
     "output_type": "stream",
     "text": [
      "720\n",
      "640.0\n",
      "363.2932449016895\n",
      "1050.6681160986484\n",
      "706.980680500169\n",
      "-0.3540407397866076\n",
      "1865.839785390803\n",
      "829.2321256615811\n",
      "-0.3540407397866076\n"
     ]
    },
    {
     "name": "stderr",
     "output_type": "stream",
     "text": [
      "\r",
      "t:  96%|██████████████████████████████████████████████████████████████▎  | 1209/1260 [11:59<00:33,  1.52it/s, now=None]"
     ]
    },
    {
     "name": "stdout",
     "output_type": "stream",
     "text": [
      "720\n",
      "640.0\n",
      "365.7124893497596\n",
      "1059.073835076036\n",
      "712.3931622128978\n",
      "-0.3826495716967454\n",
      "1548.7666114973895\n",
      "706.1424446087964\n",
      "-0.3826495716967454\n"
     ]
    },
    {
     "name": "stderr",
     "output_type": "stream",
     "text": [
      "\r",
      "t:  96%|██████████████████████████████████████████████████████████████▍  | 1210/1260 [11:59<00:34,  1.45it/s, now=None]"
     ]
    },
    {
     "name": "stdout",
     "output_type": "stream",
     "text": [
      "720\n",
      "640.0\n",
      "369.3061758934969\n",
      "1052.833716039386\n",
      "711.0699459664414\n",
      "-0.3756554286797618\n",
      "1279.2691907489611\n",
      "720.705608869523\n",
      "-0.3756554286797618\n"
     ]
    },
    {
     "name": "stderr",
     "output_type": "stream",
     "text": [
      "\r",
      "t:  96%|██████████████████████████████████████████████████████████████▍  | 1211/1260 [12:00<00:32,  1.52it/s, now=None]"
     ]
    },
    {
     "name": "stdout",
     "output_type": "stream",
     "text": [
      "720\n",
      "640.0\n",
      "370.15557632512395\n",
      "1037.983705714903\n",
      "704.0696410200135\n",
      "-0.33865381682007123\n",
      "1289.5610896689157\n",
      "1404.2419150009994\n",
      "-0.33865381682007123\n"
     ]
    },
    {
     "name": "stderr",
     "output_type": "stream",
     "text": [
      "\r",
      "t:  96%|██████████████████████████████████████████████████████████████▌  | 1212/1260 [12:01<00:30,  1.57it/s, now=None]"
     ]
    },
    {
     "name": "stdout",
     "output_type": "stream",
     "text": [
      "720\n",
      "640.0\n",
      "371.2236718897718\n",
      "1042.12718651314\n",
      "706.6754292014559\n",
      "-0.35242726863626705\n",
      "1203.9907411200472\n",
      "1195.4915257820146\n",
      "-0.35242726863626705\n"
     ]
    },
    {
     "name": "stderr",
     "output_type": "stream",
     "text": [
      "\r",
      "t:  96%|██████████████████████████████████████████████████████████████▌  | 1213/1260 [12:01<00:28,  1.63it/s, now=None]"
     ]
    },
    {
     "name": "stdout",
     "output_type": "stream",
     "text": [
      "720\n",
      "640.0\n",
      "370.3689488110889\n",
      "1036.207661260869\n",
      "703.288305035979\n",
      "-0.3345238980473174\n",
      "1325.9767820916568\n",
      "1438.5191546180326\n",
      "-0.3345238980473174\n"
     ]
    },
    {
     "name": "stderr",
     "output_type": "stream",
     "text": [
      "\r",
      "t:  96%|██████████████████████████████████████████████████████████████▋  | 1214/1260 [12:02<00:26,  1.71it/s, now=None]"
     ]
    },
    {
     "name": "stdout",
     "output_type": "stream",
     "text": [
      "720\n",
      "640.0\n",
      "370.5778048894823\n",
      "1042.3700322635282\n",
      "706.4739185765052\n",
      "-0.3513621410472417\n",
      "1199.2117954619\n",
      "1370.478581323438\n",
      "-0.3513621410472417\n"
     ]
    },
    {
     "name": "stderr",
     "output_type": "stream",
     "text": [
      "\r",
      "t:  96%|██████████████████████████████████████████████████████████████▋  | 1215/1260 [12:02<00:25,  1.73it/s, now=None]"
     ]
    },
    {
     "name": "stdout",
     "output_type": "stream",
     "text": [
      "720\n",
      "640.0\n",
      "370.5611284541251\n",
      "1046.85026541824\n",
      "708.7056969361826\n",
      "-0.3631586838055364\n",
      "1248.6850418679812\n",
      "1053.3174130649982\n",
      "-0.3631586838055364\n"
     ]
    },
    {
     "name": "stderr",
     "output_type": "stream",
     "text": [
      "\r",
      "t:  97%|██████████████████████████████████████████████████████████████▋  | 1216/1260 [12:03<00:23,  1.84it/s, now=None]"
     ]
    },
    {
     "name": "stdout",
     "output_type": "stream",
     "text": [
      "720\n",
      "640.0\n",
      "368.53073859814435\n",
      "1044.244656521213\n",
      "706.3876975596787\n",
      "-0.35090640138687323\n",
      "1432.4281674334427\n",
      "1066.2486196323891\n",
      "-0.35090640138687323\n"
     ]
    },
    {
     "name": "stderr",
     "output_type": "stream",
     "text": [
      "\r",
      "t:  97%|██████████████████████████████████████████████████████████████▊  | 1217/1260 [12:03<00:23,  1.79it/s, now=None]"
     ]
    },
    {
     "name": "stdout",
     "output_type": "stream",
     "text": [
      "720\n",
      "640.0\n",
      "365.7387277101178\n",
      "1046.828733996415\n",
      "706.2837308532664\n",
      "-0.3503568630815512\n",
      "1738.3618095727227\n",
      "1027.9959668973477\n",
      "-0.3503568630815512\n"
     ]
    },
    {
     "name": "stderr",
     "output_type": "stream",
     "text": [
      "\r",
      "t:  97%|██████████████████████████████████████████████████████████████▊  | 1218/1260 [12:04<00:22,  1.85it/s, now=None]"
     ]
    },
    {
     "name": "stdout",
     "output_type": "stream",
     "text": [
      "720\n",
      "640.0\n",
      "364.8165203694923\n",
      "1046.9111937326606\n",
      "705.8638570510765\n",
      "-0.34813753012711857\n",
      "2036.3043541686895\n",
      "1029.881227381995\n",
      "-0.34813753012711857\n"
     ]
    },
    {
     "name": "stderr",
     "output_type": "stream",
     "text": [
      "\r",
      "t:  97%|██████████████████████████████████████████████████████████████▉  | 1219/1260 [12:04<00:24,  1.70it/s, now=None]"
     ]
    },
    {
     "name": "stdout",
     "output_type": "stream",
     "text": [
      "720\n",
      "640.0\n",
      "364.9582164360885\n",
      "1045.7186769668658\n",
      "705.3384467014771\n",
      "-0.34536036113637897\n",
      "2081.7222959633777\n",
      "1419.2823784409236\n",
      "-0.34536036113637897\n"
     ]
    },
    {
     "name": "stderr",
     "output_type": "stream",
     "text": [
      "\r",
      "t:  97%|██████████████████████████████████████████████████████████████▉  | 1220/1260 [12:05<00:22,  1.77it/s, now=None]"
     ]
    },
    {
     "name": "stdout",
     "output_type": "stream",
     "text": [
      "720\n",
      "640.0\n",
      "366.4300368559037\n",
      "1048.8191064814994\n",
      "707.6245716687015\n",
      "-0.35744416453456507\n",
      "1809.9530288967353\n",
      "1037.7110198247908\n",
      "-0.35744416453456507\n"
     ]
    },
    {
     "name": "stderr",
     "output_type": "stream",
     "text": [
      "\r",
      "t:  97%|██████████████████████████████████████████████████████████████▉  | 1221/1260 [12:05<00:20,  1.88it/s, now=None]"
     ]
    },
    {
     "name": "stdout",
     "output_type": "stream",
     "text": [
      "720\n",
      "640.0\n",
      "367.5665356335311\n",
      "1057.4316567636301\n",
      "712.4990961985807\n",
      "-0.38320950847821217\n",
      "1886.895424821295\n",
      "753.3111645351092\n",
      "-0.38320950847821217\n"
     ]
    },
    {
     "name": "stderr",
     "output_type": "stream",
     "text": [
      "\r",
      "t:  97%|███████████████████████████████████████████████████████████████  | 1222/1260 [12:06<00:20,  1.85it/s, now=None]"
     ]
    },
    {
     "name": "stdout",
     "output_type": "stream",
     "text": [
      "720\n",
      "640.0\n",
      "368.8754141535002\n",
      "1057.958300028634\n",
      "713.4168570910672\n",
      "-0.388060530338498\n",
      "1735.274167278175\n",
      "778.7112714782285\n",
      "-0.388060530338498\n"
     ]
    },
    {
     "name": "stderr",
     "output_type": "stream",
     "text": [
      "\r",
      "t:  97%|███████████████████████████████████████████████████████████████  | 1223/1260 [12:07<00:20,  1.85it/s, now=None]"
     ]
    },
    {
     "name": "stdout",
     "output_type": "stream",
     "text": [
      "720\n",
      "640.0\n",
      "370.7109352435973\n",
      "1042.1576602692805\n",
      "706.4342977564389\n",
      "-0.35115271671260573\n",
      "1801.5637670443473\n",
      "3141.758230037309\n",
      "-0.35115271671260573\n"
     ]
    },
    {
     "name": "stderr",
     "output_type": "stream",
     "text": [
      "\r",
      "t:  97%|███████████████████████████████████████████████████████████████▏ | 1224/1260 [12:07<00:20,  1.77it/s, now=None]"
     ]
    },
    {
     "name": "stdout",
     "output_type": "stream",
     "text": [
      "720\n",
      "640.0\n",
      "372.25994853110063\n",
      "1045.901039243105\n",
      "709.0804938871029\n",
      "-0.36513975340325805\n",
      "1873.8874640863137\n",
      "1883.496363219369\n",
      "-0.36513975340325805\n"
     ]
    },
    {
     "name": "stderr",
     "output_type": "stream",
     "text": [
      "\r",
      "t:  97%|███████████████████████████████████████████████████████████████▏ | 1225/1260 [12:08<00:21,  1.62it/s, now=None]"
     ]
    },
    {
     "name": "stdout",
     "output_type": "stream",
     "text": [
      "720\n",
      "640.0\n",
      "372.5573335701023\n",
      "1048.907766615459\n",
      "710.7325500927807\n",
      "-0.3738720504904122\n",
      "2188.1731150625774\n",
      "1730.399948447451\n",
      "-0.3738720504904122\n"
     ]
    },
    {
     "name": "stderr",
     "output_type": "stream",
     "text": [
      "\r",
      "t:  97%|███████████████████████████████████████████████████████████████▏ | 1226/1260 [12:09<00:21,  1.59it/s, now=None]"
     ]
    },
    {
     "name": "stdout",
     "output_type": "stream",
     "text": [
      "720\n",
      "640.0\n",
      "374.2490371375628\n",
      "1054.5322995352267\n",
      "714.3906683363948\n",
      "-0.39320781834951546\n",
      "2515.606328320444\n",
      "1127.4410225330557\n",
      "-0.39320781834951546\n"
     ]
    },
    {
     "name": "stderr",
     "output_type": "stream",
     "text": [
      "\r",
      "t:  97%|███████████████████████████████████████████████████████████████▎ | 1227/1260 [12:09<00:20,  1.63it/s, now=None]"
     ]
    },
    {
     "name": "stdout",
     "output_type": "stream",
     "text": [
      "720\n",
      "640.0\n",
      "373.1223053394609\n",
      "1055.033978425944\n",
      "714.0781418827025\n",
      "-0.39155589280857056\n",
      "3029.124200593177\n",
      "1172.033594537227\n",
      "-0.39155589280857056\n"
     ]
    },
    {
     "name": "stderr",
     "output_type": "stream",
     "text": [
      "\r",
      "t:  97%|███████████████████████████████████████████████████████████████▎ | 1228/1260 [12:10<00:20,  1.57it/s, now=None]"
     ]
    },
    {
     "name": "stdout",
     "output_type": "stream",
     "text": [
      "720\n",
      "640.0\n",
      "371.4335112018245\n",
      "1055.677017473002\n",
      "713.5552643374133\n",
      "-0.388792111497756\n",
      "3443.156418124462\n",
      "1566.671699501178\n",
      "-0.388792111497756\n"
     ]
    },
    {
     "name": "stderr",
     "output_type": "stream",
     "text": [
      "\r",
      "t:  98%|███████████████████████████████████████████████████████████████▍ | 1229/1260 [12:10<00:19,  1.59it/s, now=None]"
     ]
    },
    {
     "name": "stdout",
     "output_type": "stream",
     "text": [
      "720\n",
      "640.0\n",
      "370.6590875141198\n",
      "1056.9948573484185\n",
      "713.8269724312692\n",
      "-0.39022828285099415\n",
      "3520.8387516830435\n",
      "1319.7834694481762\n",
      "-0.39022828285099415\n"
     ]
    },
    {
     "name": "stderr",
     "output_type": "stream",
     "text": [
      "\r",
      "t:  98%|███████████████████████████████████████████████████████████████▍ | 1230/1260 [12:11<00:18,  1.65it/s, now=None]"
     ]
    },
    {
     "name": "stdout",
     "output_type": "stream",
     "text": [
      "720\n",
      "640.0\n",
      "370.47564484657124\n",
      "1058.3668702106163\n",
      "714.4212575285937\n",
      "-0.3933695040797098\n",
      "3767.9144444523918\n",
      "1238.8246609701646\n",
      "-0.3933695040797098\n"
     ]
    },
    {
     "name": "stderr",
     "output_type": "stream",
     "text": [
      "\r",
      "t:  98%|███████████████████████████████████████████████████████████████▌ | 1231/1260 [12:12<00:17,  1.67it/s, now=None]"
     ]
    },
    {
     "name": "stdout",
     "output_type": "stream",
     "text": [
      "720\n",
      "640.0\n",
      "371.4600316394226\n",
      "1062.7527823480714\n",
      "717.106406993747\n",
      "-0.4075624369669484\n",
      "3863.798293183549\n",
      "942.8975554977342\n",
      "-0.4075624369669484\n"
     ]
    },
    {
     "name": "stderr",
     "output_type": "stream",
     "text": [
      "\r",
      "t:  98%|███████████████████████████████████████████████████████████████▌ | 1232/1260 [12:12<00:16,  1.68it/s, now=None]"
     ]
    },
    {
     "name": "stdout",
     "output_type": "stream",
     "text": [
      "720\n",
      "640.0\n",
      "373.6721493334926\n",
      "1079.5395210307208\n",
      "726.6058351821067\n",
      "-0.4577737002482784\n",
      "3202.5625262680805\n",
      "557.2398524185747\n",
      "-0.4577737002482784\n"
     ]
    },
    {
     "name": "stderr",
     "output_type": "stream",
     "text": [
      "\r",
      "t:  98%|███████████████████████████████████████████████████████████████▌ | 1233/1260 [12:13<00:15,  1.76it/s, now=None]"
     ]
    },
    {
     "name": "stdout",
     "output_type": "stream",
     "text": [
      "720\n",
      "640.0\n",
      "374.8935392701348\n",
      "1073.6811083695484\n",
      "724.2873238198416\n",
      "-0.44551871161916284\n",
      "3137.2963202833166\n",
      "630.9940395087149\n",
      "-0.44551871161916284\n"
     ]
    },
    {
     "name": "stderr",
     "output_type": "stream",
     "text": [
      "\r",
      "t:  98%|███████████████████████████████████████████████████████████████▋ | 1234/1260 [12:13<00:15,  1.70it/s, now=None]"
     ]
    },
    {
     "name": "stdout",
     "output_type": "stream",
     "text": [
      "720\n",
      "640.0\n",
      "377.5937374298593\n",
      "1054.2394227288667\n",
      "715.916580079363\n",
      "-0.40127335184806173\n",
      "3037.0133008378907\n",
      "1647.319046885767\n",
      "-0.40127335184806173\n"
     ]
    },
    {
     "name": "stderr",
     "output_type": "stream",
     "text": [
      "\r",
      "t:  98%|███████████████████████████████████████████████████████████████▋ | 1235/1260 [12:14<00:14,  1.72it/s, now=None]"
     ]
    },
    {
     "name": "stdout",
     "output_type": "stream",
     "text": [
      "720\n",
      "640.0\n",
      "379.272523133183\n",
      "1054.8116235103757\n",
      "717.0420733217793\n",
      "-0.4072223875579763\n",
      "2156.973166420545\n",
      "1779.813000955433\n",
      "-0.4072223875579763\n"
     ]
    },
    {
     "name": "stderr",
     "output_type": "stream",
     "text": [
      "\r",
      "t:  98%|███████████████████████████████████████████████████████████████▊ | 1236/1260 [12:15<00:14,  1.63it/s, now=None]"
     ]
    },
    {
     "name": "stdout",
     "output_type": "stream",
     "text": [
      "720\n",
      "640.0\n",
      "378.5768169855661\n",
      "1048.2398178608773\n",
      "713.4083174232217\n",
      "-0.38801539209417163\n",
      "2784.548813713681\n",
      "5322.356793161238\n",
      "-0.38801539209417163\n"
     ]
    },
    {
     "name": "stderr",
     "output_type": "stream",
     "text": [
      "\r",
      "t:  98%|███████████████████████████████████████████████████████████████▊ | 1237/1260 [12:15<00:13,  1.65it/s, now=None]"
     ]
    },
    {
     "name": "stdout",
     "output_type": "stream",
     "text": [
      "720\n",
      "640.0\n",
      "378.1263352398945\n",
      "1053.0066629170087\n",
      "715.5664990784517\n",
      "-0.3994229237003874\n",
      "3369.478706071306\n",
      "4060.7194891321815\n",
      "-0.3994229237003874\n"
     ]
    },
    {
     "name": "stderr",
     "output_type": "stream",
     "text": [
      "\r",
      "t:  98%|███████████████████████████████████████████████████████████████▊ | 1238/1260 [12:16<00:13,  1.60it/s, now=None]"
     ]
    },
    {
     "name": "stdout",
     "output_type": "stream",
     "text": [
      "720\n",
      "640.0\n",
      "376.7853293965002\n",
      "1057.5861115028301\n",
      "717.1857204496652\n",
      "-0.4079816652339444\n",
      "4008.6623373654975\n",
      "3396.7891858863054\n",
      "-0.4079816652339444\n"
     ]
    },
    {
     "name": "stderr",
     "output_type": "stream",
     "text": [
      "\r",
      "t:  98%|███████████████████████████████████████████████████████████████▉ | 1239/1260 [12:16<00:12,  1.64it/s, now=None]"
     ]
    },
    {
     "name": "stdout",
     "output_type": "stream",
     "text": [
      "720\n",
      "640.0\n",
      "375.82609187611206\n",
      "1061.6824286674698\n",
      "718.7542602717909\n",
      "-0.4162725185794664\n",
      "5590.812520349851\n",
      "2665.103131958495\n",
      "-0.4162725185794664\n"
     ]
    },
    {
     "name": "stderr",
     "output_type": "stream",
     "text": [
      "\r",
      "t:  98%|███████████████████████████████████████████████████████████████▉ | 1240/1260 [12:17<00:12,  1.55it/s, now=None]"
     ]
    },
    {
     "name": "stdout",
     "output_type": "stream",
     "text": [
      "720\n",
      "640.0\n",
      "374.62012949016093\n",
      "1059.8366437411917\n",
      "717.2283866156763\n",
      "-0.40820718639714615\n",
      "67000.59852917076\n",
      "3693.519644719102\n",
      "-0.40820718639714615\n"
     ]
    },
    {
     "name": "stderr",
     "output_type": "stream",
     "text": [
      "\r",
      "t:  98%|████████████████████████████████████████████████████████████████ | 1241/1260 [12:18<00:12,  1.54it/s, now=None]"
     ]
    },
    {
     "name": "stdout",
     "output_type": "stream",
     "text": [
      "720\n",
      "640.0\n",
      "375.0690100588922\n",
      "1061.9725512357843\n",
      "718.5207806473383\n",
      "-0.4150384119930737\n",
      "14263.223944799653\n",
      "5784.786713820224\n",
      "-0.4150384119930737\n"
     ]
    },
    {
     "name": "stderr",
     "output_type": "stream",
     "text": [
      "\r",
      "t:  99%|████████████████████████████████████████████████████████████████ | 1242/1260 [12:18<00:11,  1.52it/s, now=None]"
     ]
    },
    {
     "name": "stdout",
     "output_type": "stream",
     "text": [
      "720\n",
      "640.0\n",
      "376.2366742187209\n",
      "1065.226103320901\n",
      "720.731388769811\n",
      "-0.426723054926144\n",
      "8461.210013376352\n",
      "2413.7538518007855\n",
      "-0.426723054926144\n"
     ]
    },
    {
     "name": "stderr",
     "output_type": "stream",
     "text": [
      "\r",
      "t:  99%|████████████████████████████████████████████████████████████████ | 1243/1260 [12:19<00:11,  1.45it/s, now=None]"
     ]
    },
    {
     "name": "stdout",
     "output_type": "stream",
     "text": [
      "720\n",
      "640.0\n",
      "378.00833548523406\n",
      "1083.4896869908082\n",
      "730.7490112380211\n",
      "-0.47967334511525456\n",
      "28138.933165533006\n",
      "965.1832268358205\n",
      "-0.47967334511525456\n"
     ]
    },
    {
     "name": "stderr",
     "output_type": "stream",
     "text": [
      "\r",
      "t:  99%|████████████████████████████████████████████████████████████████▏| 1244/1260 [12:20<00:10,  1.50it/s, now=None]"
     ]
    },
    {
     "name": "stdout",
     "output_type": "stream",
     "text": [
      "720\n",
      "640.0\n",
      "378.6992271110005\n",
      "1078.896574606863\n",
      "728.7979008589317\n",
      "-0.4693603331114962\n",
      "48179.25526031367\n",
      "1302.2150699160725\n",
      "-0.4693603331114962\n"
     ]
    },
    {
     "name": "stderr",
     "output_type": "stream",
     "text": [
      "\r",
      "t:  99%|████████████████████████████████████████████████████████████████▏| 1245/1260 [12:21<00:10,  1.41it/s, now=None]"
     ]
    },
    {
     "name": "stdout",
     "output_type": "stream",
     "text": [
      "720\n",
      "640.0\n",
      "381.17421605912523\n",
      "1068.3617682361416\n",
      "724.7679921476334\n",
      "-0.44805938706606246\n",
      "45960.78088610385\n",
      "7106.390829341035\n",
      "-0.44805938706606246\n"
     ]
    },
    {
     "name": "stderr",
     "output_type": "stream",
     "text": [
      "\r",
      "t:  99%|████████████████████████████████████████████████████████████████▎| 1246/1260 [12:21<00:09,  1.51it/s, now=None]"
     ]
    },
    {
     "name": "stdout",
     "output_type": "stream",
     "text": [
      "720\n",
      "640.0\n",
      "383.6655665892903\n",
      "1069.269713667005\n",
      "726.4676401281477\n",
      "-0.45704324067735186\n",
      "15843.944621820363\n",
      "7347.618755843718\n",
      "-0.45704324067735186\n"
     ]
    },
    {
     "name": "stderr",
     "output_type": "stream",
     "text": [
      "\r",
      "t:  99%|████████████████████████████████████████████████████████████████▎| 1247/1260 [12:22<00:08,  1.47it/s, now=None]"
     ]
    },
    {
     "name": "stdout",
     "output_type": "stream",
     "text": [
      "720\n",
      "640.0\n",
      "384.61648456883506\n",
      "1071.5483244127013\n",
      "728.0824044907681\n",
      "-0.4655784237369172\n",
      "12209.86721590031\n",
      "7974.056060272186\n",
      "-0.4655784237369172\n"
     ]
    },
    {
     "name": "stderr",
     "output_type": "stream",
     "text": [
      "\r",
      "t:  99%|████████████████████████████████████████████████████████████████▍| 1248/1260 [12:22<00:07,  1.58it/s, now=None]"
     ]
    },
    {
     "name": "stdout",
     "output_type": "stream",
     "text": [
      "720\n",
      "640.0\n",
      "387.19403804602456\n",
      "1073.8186209055414\n",
      "730.506329475783\n",
      "-0.4783905986577101\n",
      "11130.916149745835\n",
      "2802.754641467992\n",
      "-0.4783905986577101\n"
     ]
    },
    {
     "name": "stderr",
     "output_type": "stream",
     "text": [
      "\r",
      "t:  99%|████████████████████████████████████████████████████████████████▍| 1249/1260 [12:23<00:06,  1.57it/s, now=None]"
     ]
    },
    {
     "name": "stdout",
     "output_type": "stream",
     "text": [
      "720\n",
      "640.0\n",
      "387.24553835536074\n",
      "1077.2842020173828\n",
      "732.2648701863718\n",
      "-0.48768574241367957\n",
      "15888.48614230869\n",
      "2075.0568173999454\n",
      "-0.48768574241367957\n"
     ]
    },
    {
     "name": "stderr",
     "output_type": "stream",
     "text": [
      "\r",
      "t:  99%|████████████████████████████████████████████████████████████████▍| 1250/1260 [12:24<00:06,  1.66it/s, now=None]"
     ]
    },
    {
     "name": "stdout",
     "output_type": "stream",
     "text": [
      "720\n",
      "640.0\n",
      "387.70404423351386\n",
      "1076.0905714021585\n",
      "731.8973078178362\n",
      "-0.4857429127514201\n",
      "20162.42969619607\n",
      "2658.4706690392763\n",
      "-0.4857429127514201\n"
     ]
    },
    {
     "name": "stderr",
     "output_type": "stream",
     "text": [
      "\r",
      "t:  99%|████████████████████████████████████████████████████████████████▌| 1251/1260 [12:24<00:05,  1.71it/s, now=None]"
     ]
    },
    {
     "name": "stdout",
     "output_type": "stream",
     "text": [
      "720\n",
      "640.0\n",
      "387.5786003907879\n",
      "1071.8855093382044\n",
      "729.7320548644961\n",
      "-0.4742980042837654\n",
      "27099.31305415042\n",
      "10776.30062825989\n",
      "-0.4742980042837654\n"
     ]
    },
    {
     "name": "stderr",
     "output_type": "stream",
     "text": [
      "\r",
      "t:  99%|████████████████████████████████████████████████████████████████▌| 1252/1260 [12:25<00:04,  1.71it/s, now=None]"
     ]
    },
    {
     "name": "stdout",
     "output_type": "stream",
     "text": [
      "720\n",
      "640.0\n",
      "384.9146207869186\n",
      "1073.749408069815\n",
      "729.3320144283668\n",
      "-0.47218350483565336\n",
      "79437.56959800204\n",
      "7861.301377089492\n",
      "-0.47218350483565336\n"
     ]
    },
    {
     "name": "stderr",
     "output_type": "stream",
     "text": [
      "\r",
      "t:  99%|████████████████████████████████████████████████████████████████▋| 1253/1260 [12:25<00:04,  1.68it/s, now=None]"
     ]
    },
    {
     "name": "stdout",
     "output_type": "stream",
     "text": [
      "720\n",
      "640.0\n",
      "384.73408872300206\n",
      "1075.8248730974042\n",
      "730.2794809102031\n",
      "-0.4771915419539308\n",
      "15584.216109309276\n",
      "4162.110660003784\n",
      "-0.4771915419539308\n"
     ]
    },
    {
     "name": "stderr",
     "output_type": "stream",
     "text": [
      "\r",
      "t: 100%|████████████████████████████████████████████████████████████████▋| 1254/1260 [12:26<00:03,  1.58it/s, now=None]"
     ]
    },
    {
     "name": "stdout",
     "output_type": "stream",
     "text": [
      "720\n",
      "640.0\n",
      "383.9311798492888\n",
      "1079.0887618109873\n",
      "731.5099708301381\n",
      "-0.4836955601021583\n",
      "10240.176797885773\n",
      "3004.896865837792\n",
      "-0.4836955601021583\n"
     ]
    },
    {
     "name": "stderr",
     "output_type": "stream",
     "text": [
      "\r",
      "t: 100%|████████████████████████████████████████████████████████████████▋| 1255/1260 [12:27<00:03,  1.59it/s, now=None]"
     ]
    },
    {
     "name": "stdout",
     "output_type": "stream",
     "text": [
      "720\n",
      "640.0\n",
      "382.81478690987495\n",
      "1078.2732302238446\n",
      "730.5440085668598\n",
      "-0.4785897595676876\n",
      "8075.507465879344\n",
      "3767.263719658807\n",
      "-0.4785897595676876\n"
     ]
    },
    {
     "name": "stderr",
     "output_type": "stream",
     "text": [
      "\r",
      "t: 100%|████████████████████████████████████████████████████████████████▊| 1256/1260 [12:27<00:02,  1.56it/s, now=None]"
     ]
    },
    {
     "name": "stdout",
     "output_type": "stream",
     "text": [
      "720\n",
      "640.0\n",
      "382.24159667883606\n",
      "1066.848008362082\n",
      "724.544802520459\n",
      "-0.4468796704652835\n",
      "8556.476874545768\n",
      "3266.814118316641\n",
      "-0.4468796704652835\n"
     ]
    },
    {
     "name": "stderr",
     "output_type": "stream",
     "text": [
      "\r",
      "t: 100%|████████████████████████████████████████████████████████████████▊| 1257/1260 [12:28<00:01,  1.55it/s, now=None]"
     ]
    },
    {
     "name": "stdout",
     "output_type": "stream",
     "text": [
      "720\n",
      "640.0\n",
      "380.61242425698566\n",
      "1071.4636961027295\n",
      "726.0380601798576\n",
      "-0.45477260380781853\n",
      "7656.314957092379\n",
      "19639.455204881688\n",
      "-0.45477260380781853\n"
     ]
    },
    {
     "name": "stderr",
     "output_type": "stream",
     "text": [
      "\r",
      "t: 100%|████████████████████████████████████████████████████████████████▉| 1258/1260 [12:29<00:01,  1.52it/s, now=None]"
     ]
    },
    {
     "name": "stdout",
     "output_type": "stream",
     "text": [
      "720\n",
      "640.0\n",
      "378.51534339975683\n",
      "1071.9656536988878\n",
      "725.2404985493223\n",
      "-0.45055692090356075\n",
      "9476.586181361023\n",
      "47792.9563305312\n",
      "-0.45055692090356075\n"
     ]
    },
    {
     "name": "stderr",
     "output_type": "stream",
     "text": [
      "\r",
      "t: 100%|████████████████████████████████████████████████████████████████▉| 1259/1260 [12:30<00:00,  1.39it/s, now=None]"
     ]
    },
    {
     "name": "stdout",
     "output_type": "stream",
     "text": [
      "720\n",
      "640.0\n",
      "378.15019234261916\n",
      "1073.1774345138463\n",
      "725.6638134282327\n",
      "-0.45279444240637307\n",
      "7609.205426469914\n",
      "5490.802222049659\n",
      "-0.45279444240637307\n"
     ]
    },
    {
     "name": "stderr",
     "output_type": "stream",
     "text": [
      "\r",
      "t: 100%|█████████████████████████████████████████████████████████████████| 1260/1260 [12:30<00:00,  1.46it/s, now=None]"
     ]
    },
    {
     "name": "stdout",
     "output_type": "stream",
     "text": [
      "720\n",
      "640.0\n",
      "374.57222997482546\n",
      "1077.499062885598\n",
      "726.0356464302117\n",
      "-0.45475984541683345\n",
      "268059.5576498204\n",
      "2224.664695704661\n",
      "-0.45475984541683345\n"
     ]
    },
    {
     "name": "stderr",
     "output_type": "stream",
     "text": [
      "\r",
      "                                                                                                                       "
     ]
    },
    {
     "name": "stdout",
     "output_type": "stream",
     "text": [
      "720\n",
      "640.0\n",
      "373.7182625118166\n",
      "1074.341474804877\n",
      "724.0298686583468\n",
      "-0.4441578771941188\n",
      "8652.791973874506\n",
      "2991.9106052859233\n",
      "-0.4441578771941188\n"
     ]
    },
    {
     "name": "stderr",
     "output_type": "stream",
     "text": [
      "\r"
     ]
    },
    {
     "name": "stdout",
     "output_type": "stream",
     "text": [
      "Moviepy - Done !\n",
      "Moviepy - video ready D:\\hzf\\udacity\\project\\CarND-Advanced-Lane-Lines/output_video/P2.mp4\n",
      "Wall time: 12min 33s\n"
     ]
    }
   ],
   "source": [
    "white_output = cwd + '/output_video/P2.mp4'\n",
    "## To speed up the testing process you may want to try your pipeline on a shorter subclip of the video\n",
    "## To do so add .subclip(start_second,end_second) to the end of the line below\n",
    "## Where start_second and end_second are integer values representing the start and end of the subclip\n",
    "## You may also uncomment the following line for a subclip of the first 5 seconds\n",
    "##clip1 = VideoFileClip(\"test_videos/solidWhiteRight.mp4\").subclip(0,5)\n",
    "clip1 = VideoFileClip(cwd + \"/project_video.mp4\")\n",
    "white_clip = clip1.fl_image(all.my_pipline) #NOTE: this function expects color images!!\n",
    "%time white_clip.write_videofile(white_output, audio=False)"
   ]
  },
  {
   "cell_type": "code",
   "execution_count": 88,
   "id": "8ec00092",
   "metadata": {},
   "outputs": [
    {
     "name": "stdout",
     "output_type": "stream",
     "text": [
      "D:\\hzf\\udacity\\project\\CarND-Advanced-Lane-Lines/output_video/P2.mp4\n"
     ]
    },
    {
     "data": {
      "text/html": [
       "\n",
       "<video width=\"1280\" height=\"720\" controls>\n",
       "  <source src=\"D:\\hzf\\udacity\\project\\CarND-Advanced-Lane-Lines\\output_video\\P2.mp4\">\n",
       "</video>\n"
      ],
      "text/plain": [
       "<IPython.core.display.HTML object>"
      ]
     },
     "execution_count": 88,
     "metadata": {},
     "output_type": "execute_result"
    }
   ],
   "source": [
    "print(white_output)\n",
    "# HTML(\"\"\"\n",
    "# <video width=\"1280\" height=\"720\" controls>\n",
    "#   <source src=\"{0}\">\n",
    "# </video>\n",
    "# \"\"\".format(white_output))\n",
    "\n",
    "HTML(\"\"\"\n",
    "<video width=\"1280\" height=\"720\" controls>\n",
    "  <source src=\"D:\\\\hzf\\\\udacity\\\\project\\\\CarND-Advanced-Lane-Lines\\\\output_video\\\\P2.mp4\">\n",
    "</video>\n",
    "\"\"\")"
   ]
  },
  {
   "cell_type": "code",
   "execution_count": 20,
   "id": "d2f6027c",
   "metadata": {},
   "outputs": [
    {
     "name": "stdout",
     "output_type": "stream",
     "text": [
      "[[0 1 0 ... 1 1 1]\n",
      " [0 1 0 ... 1 1 1]\n",
      " [0 1 0 ... 1 1 0]\n",
      " ...\n",
      " [0 1 0 ... 1 1 0]\n",
      " [0 1 1 ... 1 1 0]\n",
      " [0 1 1 ... 1 1 0]]\n"
     ]
    }
   ],
   "source": [
    "img = pipeline(img, s_thresh=(170, 255), sx_thresh=(20, 100))\n",
    "\n",
    "print(img)\n",
    "plt.imshow(img, cmap='gray')\n",
    "# plt.imshow(img)\n",
    "\n",
    "plt.show()"
   ]
  },
  {
   "cell_type": "code",
   "execution_count": 68,
   "id": "fae15e33",
   "metadata": {},
   "outputs": [
    {
     "name": "stdout",
     "output_type": "stream",
     "text": [
      "D:\\hzf\\udacity\\project\\CarND-Advanced-Lane-Lines\n",
      "(720, 1280)\n",
      "(720, 1280, 3)\n",
      "(1280, 720)\n"
     ]
    }
   ],
   "source": [
    "\n",
    "# prepare object points, like (0,0,0), (1,0,0), (2,0,0) ....,(6,5,0)\n",
    "objp = np.zeros((6*9,3), np.float32)\n",
    "# print(objp)\n",
    "objp[:,:2] = np.mgrid[0:9,0:6].T.reshape(-1,2)\n",
    "# print(objp)\n",
    "\n",
    "# Arrays to store object points and image points from all the images.\n",
    "objpoints = [] # 3d points in real world space\n",
    "imgpoints = [] # 2d points in image plane.\n",
    "\n",
    "cwd = os.getcwd()\n",
    "print(cwd)\n",
    "img = cv2.imread(cwd + '/camera_cal/calibration3.jpg')\n",
    "# print(img)\n",
    "# cv2.imshow('calibration3',img)\n",
    "\n",
    "gray = cv2.cvtColor(img,cv2.COLOR_BGR2GRAY)\n",
    "\n",
    "print(gray.shape)\n",
    "\n",
    "# cv2.imshow('calibration3',gray)\n",
    "\n",
    "# Find the chessboard corners\n",
    "ret, corners = cv2.findChessboardCorners(gray, (9,6),None)\n",
    "\n",
    "# If found, add object points, image points\n",
    "if ret == True:\n",
    "#     print(objp)\n",
    "#     print(corners)\n",
    "    objpoints.append(objp)\n",
    "    imgpoints.append(corners)\n",
    "\n",
    "    # Draw and display the corners\n",
    "#     img = cv2.drawChessboardCorners(img, (9,6), corners, ret)\n",
    "#     cv2.imshow('img',img)\n",
    "#             cv2.waitKey(500)\n",
    "\n",
    "#     image = mpimg.imread('camera_cal/calibration1.jpg')\n",
    "print(img.shape)\n",
    "print(img.shape[1::-1])\n",
    "# return cv2.calibrateCamera(objpoints, imgpoints, gray.shape[::-1], None, None)\n",
    "\n",
    "img_undistort = undistort_img(img, mtx, dist)\n",
    "\n",
    "cv2.imshow('img_undistort', img_undistort)\n",
    "\n",
    "\n",
    "# cwd = os.getcwd()\n",
    "# # Make a list of calibration im1ages\n",
    "# images = glob.glob(cwd + './camera_cal/calibration*.jpg')\n",
    "\n",
    "\n",
    "\n",
    "# # Make a list of calibration images\n",
    "# images = glob.glob(cwd + '/camera_cal/calibration*.jpg')\n",
    "\n",
    "# for index, itrImg in enumerate(images):\n",
    "#     if (index == 1) :\n",
    "#         print(itrImg)\n",
    "# #         img = cv2.imread(itrImg)\n",
    "#         img = cv2.imread(cwd + '/camera_cal/calibration3.jpg')\n",
    "\n",
    "#         plt.imshow(img)\n",
    "# #         cv2.imshow('img',img)\n",
    "#         undist = cv2.undistort(img, mtx, dist, None, mtx)\n",
    "#         plt.imshow(undist)\n",
    "\n",
    "\n"
   ]
  }
 ],
 "metadata": {
  "kernelspec": {
   "display_name": "Python 3",
   "language": "python",
   "name": "python3"
  },
  "language_info": {
   "codemirror_mode": {
    "name": "ipython",
    "version": 3
   },
   "file_extension": ".py",
   "mimetype": "text/x-python",
   "name": "python",
   "nbconvert_exporter": "python",
   "pygments_lexer": "ipython3",
   "version": "3.8.8"
  }
 },
 "nbformat": 4,
 "nbformat_minor": 5
}
