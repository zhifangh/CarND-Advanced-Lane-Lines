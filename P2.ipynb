{
 "cells": [
  {
   "cell_type": "markdown",
   "id": "b2e880d3",
   "metadata": {},
   "source": [
    "## Advanced Lane Finding Project\n",
    "\n",
    "The goals / steps of this project are the following:\n",
    "\n",
    "* Compute the camera calibration matrix and distortion coefficients given a set of chessboard images.\n",
    "* Apply a distortion correction to raw images.\n",
    "* Use color transforms, gradients, etc., to create a thresholded binary image.\n",
    "* Apply a perspective transform to rectify binary image (\"birds-eye view\").\n",
    "* Detect lane pixels and fit to find the lane boundary.\n",
    "* Determine the curvature of the lane and vehicle position with respect to center.\n",
    "* Warp the detected lane boundaries back onto the original image.\n",
    "* Output visual display of the lane boundaries and numerical estimation of lane curvature and vehicle position.\n"
   ]
  },
  {
   "cell_type": "code",
   "execution_count": 75,
   "id": "157ffb71",
   "metadata": {},
   "outputs": [],
   "source": [
    "import numpy as np\n",
    "import cv2\n",
    "import glob\n",
    "import matplotlib.pyplot as plt\n",
    "import matplotlib.image as mpimg\n",
    "import math\n",
    "import os\n",
    "%matplotlib qt"
   ]
  },
  {
   "cell_type": "code",
   "execution_count": 76,
   "id": "12eeeaf1",
   "metadata": {},
   "outputs": [],
   "source": [
    "def calibrate_camer():\n",
    "    # prepare object points, like (0,0,0), (1,0,0), (2,0,0) ....,(6,5,0)\n",
    "    objp = np.zeros((6*9,3), np.float32)\n",
    "    objp[:,:2] = np.mgrid[0:9,0:6].T.reshape(-1,2)\n",
    "\n",
    "    # Arrays to store object points and image points from all the images.\n",
    "    objpoints = [] # 3d points in real world space\n",
    "    imgpoints = [] # 2d points in image plane.\n",
    "\n",
    "    cwd = os.getcwd()\n",
    "    # Make a list of calibration images\n",
    "    images = glob.glob(cwd + './camera_cal/calibration*.jpg')\n",
    "    \n",
    "    # Step through the list and search for chessboard corners\n",
    "    for fname in images:\n",
    "        img = cv2.imread(fname)\n",
    "        gray = cv2.cvtColor(img,cv2.COLOR_BGR2GRAY)\n",
    "\n",
    "        # Find the chessboard corners\n",
    "        ret, corners = cv2.findChessboardCorners(gray, (9,6),None)\n",
    "\n",
    "        # If found, add object points, image points\n",
    "        if ret == True:\n",
    "            objpoints.append(objp)\n",
    "            imgpoints.append(corners)\n",
    "\n",
    "    img = cv2.imread(cwd + './camera_cal/calibration3.jpg')\n",
    "    return cv2.calibrateCamera(objpoints, imgpoints, img.shape[1::-1], None, None)\n",
    "\n",
    "# TODO: Write a function that takes an image, object points, and image points\n",
    "# performs the camera calibration, image distortion correction and \n",
    "# returns the undistorted image\n",
    "def undistort_img(img, mtx, dist):\n",
    "    undist = cv2.undistort(img, mtx, dist, None, mtx)\n",
    "    return undist\n",
    "\n",
    "# Define a function that takes an image, number of x and y points, \n",
    "# camera matrix and distortion coefficients\n",
    "def cal_perspective_transform_mtx(img, nx, ny, mtx, dist):\n",
    "    # Use the OpenCV undistort() function to remove distortion\n",
    "    undist = cv2.undistort(img, mtx, dist, None, mtx)\n",
    "    \n",
    "#     plt.imshow(undist)\n",
    "    \n",
    "    # Convert undistorted image to grayscale\n",
    "    gray = cv2.cvtColor(undist, cv2.COLOR_BGR2GRAY)\n",
    "    \n",
    "#     plt.imshow(gray)\n",
    "    \n",
    "    # Search for corners in the grayscaled image\n",
    "    ret, corners = cv2.findChessboardCorners(gray, (nx, ny), None)\n",
    "\n",
    "    M = []\n",
    "    if ret == True:\n",
    "        # If we found corners, draw them! (just for fun)\n",
    "#         cv2.drawChessboardCorners(undist, (nx, ny), corners, ret)\n",
    "        # Choose offset from image corners to plot detected corners\n",
    "        # This should be chosen to present the result at the proper aspect ratio\n",
    "        # My choice of 100 pixels is not exact, but close enough for our purpose here\n",
    "        offset = 100 # offset for dst points\n",
    "        # Grab the image shape\n",
    "        img_size = (gray.shape[1], gray.shape[0])\n",
    "\n",
    "        # For source points I'm grabbing the outer four detected corners\n",
    "        src = np.float32([corners[0], corners[nx-1], corners[-1], corners[-nx]])\n",
    "        # For destination points, I'm arbitrarily choosing some points to be\n",
    "        # a nice fit for displaying our warped result \n",
    "        # again, not exact, but close enough for our purposes\n",
    "        dst = np.float32([[offset, offset], [img_size[0]-offset, offset], \n",
    "                                     [img_size[0]-offset, img_size[1]-offset], \n",
    "                                     [offset, img_size[1]-offset]])\n",
    "        # Given src and dst points, calculate the perspective transform matrix\n",
    "        M = cv2.getPerspectiveTransform(src, dst)\n",
    "\n",
    "    # Return the resulting image and matrix\n",
    "    return M\n",
    "\n",
    "# Define a function that takes an image, gradient orientation,\n",
    "# and threshold min / max values.\n",
    "def abs_sobel_thresh(img, orient='x', thresh_min=0, thresh_max=255):\n",
    "    # Convert to grayscale\n",
    "    gray = cv2.cvtColor(img, cv2.COLOR_RGB2GRAY)\n",
    "    # Apply x or y gradient with the OpenCV Sobel() function\n",
    "    # and take the absolute value\n",
    "    if orient == 'x':\n",
    "        abs_sobel = np.absolute(cv2.Sobel(gray, cv2.CV_64F, 1, 0))\n",
    "    if orient == 'y':\n",
    "        abs_sobel = np.absolute(cv2.Sobel(gray, cv2.CV_64F, 0, 1))\n",
    "    # Rescale back to 8 bit integer\n",
    "    scaled_sobel = np.uint8(255*abs_sobel/np.max(abs_sobel))\n",
    "    # Create a copy and apply the threshold\n",
    "    binary_output = np.zeros_like(scaled_sobel)\n",
    "    # Here I'm using inclusive (>=, <=) thresholds, but exclusive is ok too\n",
    "    binary_output[(scaled_sobel >= thresh_min) & (scaled_sobel <= thresh_max)] = 1\n",
    "\n",
    "    # Return the result\n",
    "    return binary_output\n",
    "\n",
    "# Define a function to return the magnitude of the gradient\n",
    "# for a given sobel kernel size and threshold values\n",
    "def mag_thresh(img, sobel_kernel=3, mag_thresh=(0, 255)):\n",
    "    # Convert to grayscale\n",
    "    gray = cv2.cvtColor(img, cv2.COLOR_RGB2GRAY)\n",
    "    # Take both Sobel x and y gradients\n",
    "    sobelx = cv2.Sobel(gray, cv2.CV_64F, 1, 0, ksize=sobel_kernel)\n",
    "    sobely = cv2.Sobel(gray, cv2.CV_64F, 0, 1, ksize=sobel_kernel)\n",
    "    # Calculate the gradient magnitude\n",
    "    gradmag = np.sqrt(sobelx**2 + sobely**2)\n",
    "    # Rescale to 8 bit\n",
    "    scale_factor = np.max(gradmag)/255 \n",
    "    gradmag = (gradmag/scale_factor).astype(np.uint8) \n",
    "    # Create a binary image of ones where threshold is met, zeros otherwise\n",
    "    binary_output = np.zeros_like(gradmag)\n",
    "    binary_output[(gradmag >= mag_thresh[0]) & (gradmag <= mag_thresh[1])] = 1\n",
    "\n",
    "    # Return the binary image\n",
    "    return binary_output\n",
    "\n",
    "# Define a function to threshold an image for a given range and Sobel kernel\n",
    "def dir_threshold(img, sobel_kernel=3, thresh=(0, np.pi/2)):\n",
    "    # Grayscale\n",
    "    gray = cv2.cvtColor(img, cv2.COLOR_RGB2GRAY)\n",
    "    # Calculate the x and y gradients\n",
    "    sobelx = cv2.Sobel(gray, cv2.CV_64F, 1, 0, ksize=sobel_kernel)\n",
    "    sobely = cv2.Sobel(gray, cv2.CV_64F, 0, 1, ksize=sobel_kernel)\n",
    "    # Take the absolute value of the gradient direction, \n",
    "    # apply a threshold, and create a binary image result:\n",
    "    absgraddir = np.arctan2(np.absolute(sobely), np.absolute(sobelx))\n",
    "    binary_output =  np.zeros_like(absgraddir)\n",
    "    binary_output[(absgraddir >= thresh[0]) & (absgraddir <= thresh[1])] = 1\n",
    "\n",
    "    # Return the binary image\n",
    "    return binary_output\n",
    "\n",
    "def combining_thresholds(img, orient='x', thresh_min=0, thresh_max=255,sobel_kernel=3, mag_thresh=(0, 255), thresh=(0, np.pi/2)\n",
    "):\n",
    "    # Choose a Sobel kernel size\n",
    "    ksize = 3 # Choose a larger odd number to smooth gradient measurements\n",
    "\n",
    "    # Apply each of the thresholding functions\n",
    "    gradx = abs_sobel_thresh(image, 'x', ksize, thresh_min, thresh_max)\n",
    "    grady = abs_sobel_thresh(image, 'y', ksize, thresh_min, thresh_max)\n",
    "    mag_binary = mag_thresh(image, ksize, mag_thresh)\n",
    "    dir_binary = dir_threshold(image, ksize, thresh)\n",
    "    \n",
    "    combined = np.zeros_like(dir_binary)\n",
    "    combined[((gradx == 1) & (grady == 1)) | ((mag_binary == 1) & (dir_binary == 1))] = 1\n",
    "    \n",
    "    # Return the binary image\n",
    "    return combined\n",
    "\n",
    "# Define a function that thresholds the S-channel of HLS\n",
    "def hls_select(img, thresh=(0, 255)):\n",
    "    hls = cv2.cvtColor(img, cv2.COLOR_RGB2HLS)\n",
    "    s_channel = hls[:,:,2]\n",
    "    binary_output = np.zeros_like(s_channel)\n",
    "    binary_output[(s_channel > thresh[0]) & (s_channel <= thresh[1])] = 1\n",
    "    return binary_output\n",
    "\n",
    "# Edit this function to create your own pipeline.\n",
    "def pipeline(img, s_thresh=(170, 255), sx_thresh=(20, 100)):\n",
    "    img = np.copy(img)\n",
    "    # Convert to HLS color space and separate the V channel\n",
    "    hls = cv2.cvtColor(img, cv2.COLOR_RGB2HLS)\n",
    "    l_channel = hls[:,:,1]\n",
    "    s_channel = hls[:,:,2]\n",
    "    # Sobel x\n",
    "    sobelx = cv2.Sobel(l_channel, cv2.CV_64F, 1, 0) # Take the derivative in x\n",
    "    abs_sobelx = np.absolute(sobelx) # Absolute x derivative to accentuate lines away from horizontal\n",
    "    scaled_sobel = np.uint8(255*abs_sobelx/np.max(abs_sobelx))\n",
    "    \n",
    "    # Threshold x gradient\n",
    "    sxbinary = np.zeros_like(scaled_sobel)\n",
    "    sxbinary[(scaled_sobel >= sx_thresh[0]) & (scaled_sobel <= sx_thresh[1])] = 1\n",
    "    \n",
    "    # Threshold color channel\n",
    "    s_binary = np.zeros_like(s_channel)\n",
    "    s_binary[(s_channel >= s_thresh[0]) & (s_channel <= s_thresh[1])] = 1\n",
    "    # Stack each channel\n",
    "#     color_binary = np.dstack(( np.zeros_like(sxbinary), sxbinary, s_binary)) * 255\n",
    "#     return color_binary\n",
    "\n",
    "    return s_binary\n",
    "\n",
    "def warper(img, src, dst):\n",
    "\n",
    "    # Compute and apply perpective transform\n",
    "    img_size = (img.shape[1], img.shape[0])\n",
    "    M = cv2.getPerspectiveTransform(src, dst)\n",
    "    warped = cv2.warpPerspective(img, M, img_size, flags=cv2.INTER_NEAREST)  # keep same size as input image\n",
    "\n",
    "    return warped\n",
    "\n",
    "def hist(img):\n",
    "    # Grab only the bottom half of the image\n",
    "    # Lane lines are likely to be mostly vertical nearest to the car\n",
    "    bottom_half = img[img.shape[0]//2:,:]\n",
    "\n",
    "    # Sum across image pixels vertically - make sure to set an `axis`\n",
    "    # i.e. the highest areas of vertical lines should be larger values\n",
    "    histogram = np.sum(bottom_half, axis=0)\n",
    "    \n",
    "    return histogram\n",
    "\n",
    "def find_lane_pixels(binary_warped):\n",
    "    # Take a histogram of the bottom half of the image\n",
    "    histogram = np.sum(binary_warped[binary_warped.shape[0]//2:,:], axis=0)\n",
    "    # Create an output image to draw on and visualize the result\n",
    "    out_img = np.dstack((binary_warped, binary_warped, binary_warped))\n",
    "    # Find the peak of the left and right halves of the histogram\n",
    "    # These will be the starting point for the left and right lines\n",
    "    midpoint = np.int(histogram.shape[0]//2)\n",
    "    leftx_base = np.argmax(histogram[:midpoint])\n",
    "    rightx_base = np.argmax(histogram[midpoint:]) + midpoint\n",
    "\n",
    "    # HYPERPARAMETERS\n",
    "    # Choose the number of sliding windows\n",
    "    nwindows = 9\n",
    "    # Set the width of the windows +/- margin\n",
    "    margin = 100\n",
    "    # Set minimum number of pixels found to recenter window\n",
    "    minpix = 50\n",
    "\n",
    "    # Set height of windows - based on nwindows above and image shape\n",
    "    window_height = np.int(binary_warped.shape[0]//nwindows)\n",
    "    # Identify the x and y positions of all nonzero pixels in the image\n",
    "    nonzero = binary_warped.nonzero()\n",
    "    nonzeroy = np.array(nonzero[0])\n",
    "    nonzerox = np.array(nonzero[1])\n",
    "    # Current positions to be updated later for each window in nwindows\n",
    "    leftx_current = leftx_base\n",
    "    rightx_current = rightx_base\n",
    "\n",
    "    # Create empty lists to receive left and right lane pixel indices\n",
    "    left_lane_inds = []\n",
    "    right_lane_inds = []\n",
    "\n",
    "    # Step through the windows one by one\n",
    "    for window in range(nwindows):\n",
    "        # Identify window boundaries in x and y (and right and left)\n",
    "        win_y_low = binary_warped.shape[0] - (window+1)*window_height\n",
    "        win_y_high = binary_warped.shape[0] - window*window_height\n",
    "        win_xleft_low = leftx_current - margin\n",
    "        win_xleft_high = leftx_current + margin\n",
    "        win_xright_low = rightx_current - margin\n",
    "        win_xright_high = rightx_current + margin\n",
    "        \n",
    "        # Draw the windows on the visualization image\n",
    "        cv2.rectangle(out_img,(win_xleft_low,win_y_low),\n",
    "        (win_xleft_high,win_y_high),(0,255,0), 2) \n",
    "        cv2.rectangle(out_img,(win_xright_low,win_y_low),\n",
    "        (win_xright_high,win_y_high),(0,255,0), 2) \n",
    "        \n",
    "        # Identify the nonzero pixels in x and y within the window #\n",
    "        good_left_inds = ((nonzeroy >= win_y_low) & (nonzeroy < win_y_high) & \n",
    "        (nonzerox >= win_xleft_low) &  (nonzerox < win_xleft_high)).nonzero()[0]\n",
    "        good_right_inds = ((nonzeroy >= win_y_low) & (nonzeroy < win_y_high) & \n",
    "        (nonzerox >= win_xright_low) &  (nonzerox < win_xright_high)).nonzero()[0]\n",
    "        \n",
    "        # Append these indices to the lists\n",
    "        left_lane_inds.append(good_left_inds)\n",
    "        right_lane_inds.append(good_right_inds)\n",
    "        \n",
    "        # If you found > minpix pixels, recenter next window on their mean position\n",
    "        if len(good_left_inds) > minpix:\n",
    "            leftx_current = np.int(np.mean(nonzerox[good_left_inds]))\n",
    "        if len(good_right_inds) > minpix:        \n",
    "            rightx_current = np.int(np.mean(nonzerox[good_right_inds]))\n",
    "\n",
    "    # Concatenate the arrays of indices (previously was a list of lists of pixels)\n",
    "    try:\n",
    "        left_lane_inds = np.concatenate(left_lane_inds)\n",
    "        right_lane_inds = np.concatenate(right_lane_inds)\n",
    "    except ValueError:\n",
    "        # Avoids an error if the above is not implemented fully\n",
    "        pass\n",
    "\n",
    "    # Extract left and right line pixel positions\n",
    "    leftx = nonzerox[left_lane_inds]\n",
    "    lefty = nonzeroy[left_lane_inds] \n",
    "    rightx = nonzerox[right_lane_inds]\n",
    "    righty = nonzeroy[right_lane_inds]\n",
    "\n",
    "    return leftx, lefty, rightx, righty, out_img\n",
    "\n",
    "\n",
    "def cal_fit(binary_warped):\n",
    "    # Find our lane pixels first\n",
    "    leftx, lefty, rightx, righty, out_img = find_lane_pixels(binary_warped)\n",
    "\n",
    "    # Fit a second order polynomial to each using `np.polyfit`\n",
    "    left_fit = np.polyfit(lefty, leftx, 2)\n",
    "    right_fit = np.polyfit(righty, rightx, 2)\n",
    "    \n",
    "    return left_fit, right_fit\n",
    "\n",
    "def fit_polynomial(binary_warped):\n",
    "    # Find our lane pixels first\n",
    "    leftx, lefty, rightx, righty, out_img = find_lane_pixels(binary_warped)\n",
    "\n",
    "    # Fit a second order polynomial to each using `np.polyfit`\n",
    "    left_fit = np.polyfit(lefty, leftx, 2)\n",
    "    right_fit = np.polyfit(righty, rightx, 2)\n",
    "\n",
    "    # Generate x and y values for plotting\n",
    "    ploty = np.linspace(0, binary_warped.shape[0]-1, binary_warped.shape[0] )\n",
    "    try:\n",
    "        left_fitx = left_fit[0]*ploty**2 + left_fit[1]*ploty + left_fit[2]\n",
    "        right_fitx = right_fit[0]*ploty**2 + right_fit[1]*ploty + right_fit[2]\n",
    "    except TypeError:\n",
    "        # Avoids an error if `left` and `right_fit` are still none or incorrect\n",
    "        print('The function failed to fit a line!')\n",
    "        left_fitx = 1*ploty**2 + 1*ploty\n",
    "        right_fitx = 1*ploty**2 + 1*ploty\n",
    "\n",
    "    ## Visualization ##\n",
    "    # Colors in the left and right lane regions\n",
    "    out_img[lefty, leftx] = [255, 0, 0]\n",
    "    out_img[righty, rightx] = [0, 0, 255]\n",
    "\n",
    "    # Plots the left and right polynomials on the lane lines\n",
    "#     plt.plot(left_fitx, ploty, color='yellow')\n",
    "#     plt.plot(right_fitx, ploty, color='yellow')\n",
    "\n",
    "    return out_img\n",
    "\n",
    "def fit_poly(img_shape, leftx, lefty, rightx, righty):\n",
    "     ### TO-DO: Fit a second order polynomial to each with np.polyfit() ###\n",
    "    left_fit = np.polyfit(lefty, leftx, 2)\n",
    "    right_fit = np.polyfit(righty, rightx, 2)\n",
    "    # Generate x and y values for plotting\n",
    "    ploty = np.linspace(0, img_shape[0]-1, img_shape[0])\n",
    "    ### TO-DO: Calc both polynomials using ploty, left_fit and right_fit ###\n",
    "    left_fitx = left_fit[0]*ploty**2 + left_fit[1]*ploty + left_fit[2]\n",
    "    right_fitx = right_fit[0]*ploty**2 + right_fit[1]*ploty + right_fit[2]\n",
    "    \n",
    "    return left_fitx, right_fitx, ploty\n",
    "\n",
    "def search_around_poly(binary_warped):\n",
    "    # HYPERPARAMETER\n",
    "    # Choose the width of the margin around the previous polynomial to search\n",
    "    # The quiz grader expects 100 here, but feel free to tune on your own!\n",
    "    margin = 100\n",
    "\n",
    "    # Grab activated pixels\n",
    "    nonzero = binary_warped.nonzero()\n",
    "    nonzeroy = np.array(nonzero[0])\n",
    "    nonzerox = np.array(nonzero[1])\n",
    "    \n",
    "    ### hzf\n",
    "    # Find our lane pixels first\n",
    "    leftx1, lefty1, rightx1, righty1, out_img1 = find_lane_pixels(binary_warped)\n",
    "\n",
    "    # Fit a second order polynomial to each using `np.polyfit`\n",
    "    left_fit = np.polyfit(lefty1, leftx1, 2)\n",
    "    right_fit = np.polyfit(righty1, rightx1, 2)\n",
    "    ### hzf\n",
    "    \n",
    "    ### TO-DO: Set the area of search based on activated x-values ###\n",
    "    ### within the +/- margin of our polynomial function ###\n",
    "    ### Hint: consider the window areas for the similarly named variables ###\n",
    "    ### in the previous quiz, but change the windows to our new search area ###\n",
    "    left_lane_inds = ((nonzerox > (left_fit[0]*(nonzeroy**2) + left_fit[1]*nonzeroy + \n",
    "                    left_fit[2] - margin)) & (nonzerox < (left_fit[0]*(nonzeroy**2) + \n",
    "                    left_fit[1]*nonzeroy + left_fit[2] + margin)))\n",
    "    right_lane_inds = ((nonzerox > (right_fit[0]*(nonzeroy**2) + right_fit[1]*nonzeroy + \n",
    "                    right_fit[2] - margin)) & (nonzerox < (right_fit[0]*(nonzeroy**2) + \n",
    "                    right_fit[1]*nonzeroy + right_fit[2] + margin)))\n",
    "    \n",
    "    # Again, extract left and right line pixel positions\n",
    "    leftx = nonzerox[left_lane_inds]\n",
    "    lefty = nonzeroy[left_lane_inds] \n",
    "    rightx = nonzerox[right_lane_inds]\n",
    "    righty = nonzeroy[right_lane_inds]\n",
    "\n",
    "    # Fit new polynomials\n",
    "    left_fitx, right_fitx, ploty = fit_poly(binary_warped.shape, leftx, lefty, rightx, righty)\n",
    "    \n",
    "    ## Visualization ##\n",
    "    # Create an image to draw on and an image to show the selection window\n",
    "    out_img = np.dstack((binary_warped, binary_warped, binary_warped))*255\n",
    "    window_img = np.zeros_like(out_img)\n",
    "    # Color in left and right line pixels\n",
    "    out_img[nonzeroy[left_lane_inds], nonzerox[left_lane_inds]] = [255, 0, 0]\n",
    "    out_img[nonzeroy[right_lane_inds], nonzerox[right_lane_inds]] = [0, 0, 255]\n",
    "\n",
    "    # Generate a polygon to illustrate the search window area\n",
    "    # And recast the x and y points into usable format for cv2.fillPoly()\n",
    "    left_line_window1 = np.array([np.transpose(np.vstack([left_fitx-margin, ploty]))])\n",
    "    left_line_window2 = np.array([np.flipud(np.transpose(np.vstack([left_fitx+margin, \n",
    "                              ploty])))])\n",
    "    left_line_pts = np.hstack((left_line_window1, left_line_window2))\n",
    "    right_line_window1 = np.array([np.transpose(np.vstack([right_fitx-margin, ploty]))])\n",
    "    right_line_window2 = np.array([np.flipud(np.transpose(np.vstack([right_fitx+margin, \n",
    "                              ploty])))])\n",
    "    right_line_pts = np.hstack((right_line_window1, right_line_window2))\n",
    "\n",
    "    # Draw the lane onto the warped blank image\n",
    "    cv2.fillPoly(window_img, np.int_([left_line_pts]), (0,255, 0))\n",
    "    cv2.fillPoly(window_img, np.int_([right_line_pts]), (0,255, 0))\n",
    "    result = cv2.addWeighted(out_img, 1, window_img, 0.3, 0)\n",
    "    \n",
    "    # Plot the polynomial lines onto the image\n",
    "#     plt.plot(left_fitx, ploty, color='yellow')\n",
    "#     plt.plot(right_fitx, ploty, color='yellow')\n",
    "    ## End visualization steps ##\n",
    "    \n",
    "    return result\n",
    "\n",
    "def generate_data():\n",
    "    '''\n",
    "    Generates fake data to use for calculating lane curvature.\n",
    "    In your own project, you'll ignore this function and instead\n",
    "    feed in the output of your lane detection algorithm to\n",
    "    the lane curvature calculation.\n",
    "    '''\n",
    "    # Set random seed number so results are consistent for grader\n",
    "    # Comment this out if you'd like to see results on different random data!\n",
    "    np.random.seed(0)\n",
    "    # Generate some fake data to represent lane-line pixels\n",
    "    ploty = np.linspace(0, 719, num=720)# to cover same y-range as image\n",
    "    quadratic_coeff = 3e-4 # arbitrary quadratic coefficient\n",
    "    # For each y position generate random x position within +/-50 pix\n",
    "    # of the line base position in each case (x=200 for left, and x=900 for right)\n",
    "    leftx = np.array([200 + (y**2)*quadratic_coeff + np.random.randint(-50, high=51) \n",
    "                                    for y in ploty])\n",
    "    rightx = np.array([900 + (y**2)*quadratic_coeff + np.random.randint(-50, high=51) \n",
    "                                    for y in ploty])\n",
    "\n",
    "    leftx = leftx[::-1]  # Reverse to match top-to-bottom in y\n",
    "    rightx = rightx[::-1]  # Reverse to match top-to-bottom in y\n",
    "\n",
    "\n",
    "    # Fit a second order polynomial to pixel positions in each fake lane line\n",
    "    left_fit = np.polyfit(ploty, leftx, 2)\n",
    "    right_fit = np.polyfit(ploty, rightx, 2)\n",
    "    \n",
    "    return ploty, left_fit, right_fit\n",
    "\n",
    "\n",
    "def my_measure_curvature_pixels(binary_warped):\n",
    "    # Find our lane pixels first\n",
    "    leftx, lefty, rightx, righty, out_img = find_lane_pixels(binary_warped)\n",
    "\n",
    "    # Fit a second order polynomial to each using `np.polyfit`\n",
    "    left_fit = np.polyfit(lefty, leftx, 2)\n",
    "    right_fit = np.polyfit(righty, rightx, 2)\n",
    "    \n",
    "    # Generate x and y values for plotting\n",
    "    ploty = np.linspace(0, binary_warped.shape[0]-1, binary_warped.shape[0])\n",
    "\n",
    "    # Define y-value where we want radius of curvature\n",
    "    # We'll choose the maximum y-value, corresponding to the bottom of the image\n",
    "    y_eval = np.max(ploty)\n",
    "    \n",
    "    # Calculation of R_curve (radius of curvature)\n",
    "    left_curverad = ((1 + (2*left_fit[0]*y_eval + left_fit[1])**2)**1.5) / np.absolute(2*left_fit[0])\n",
    "    right_curverad = ((1 + (2*right_fit[0]*y_eval + right_fit[1])**2)**1.5) / np.absolute(2*right_fit[0])\n",
    "    \n",
    "    return left_curverad, right_curverad\n",
    "\n",
    "def my_measure_vichle_position(binary_warped):\n",
    "    # Find our lane pixels first\n",
    "    leftx, lefty, rightx, righty, out_img = find_lane_pixels(binary_warped)\n",
    "\n",
    "    # Fit a second order polynomial to each using `np.polyfit`\n",
    "    left_fit = np.polyfit(lefty, leftx, 2)\n",
    "    right_fit = np.polyfit(righty, rightx, 2)\n",
    "    \n",
    "    # Generate x and y values for plotting\n",
    "    ploty = np.linspace(0, binary_warped.shape[0]-1, binary_warped.shape[0])\n",
    "    \n",
    "    # Define conversions in x and y from pixels space to meters\n",
    "    ym_per_pix = 30/720 # meters per pixel in y dimension\n",
    "    xm_per_pix = 3.7/700 # meters per pixel in x dimension\n",
    "\n",
    "    # Define y-value where we want radius of curvature\n",
    "    # We'll choose the maximum y-value, corresponding to the bottom of the image\n",
    "    y_eval = np.max(ploty)\n",
    "    \n",
    "    Ymax = binary_warped.shape[0]\n",
    "    Xleft = left_fit[0] * Ymax * Ymax + left_fit[1] * Ymax + left_fit[2]\n",
    "    Xright = right_fit[0] * Ymax * Ymax + right_fit[1] * Ymax + right_fit[2]\n",
    "\n",
    "    \n",
    "    Xcenter = (Xleft + Xright) / 2\n",
    "    image_x_center = binary_warped.shape[1] / 2\n",
    "    \n",
    "    print(Ymax)\n",
    "    print(image_x_center)\n",
    "    \n",
    "    \n",
    "    print(Xleft)\n",
    "    print(Xright)\n",
    "    print(Xcenter)\n",
    "    \n",
    "    \n",
    "    offset = (image_x_center - Xcenter) * xm_per_pix\n",
    "    \n",
    "    print(offset)\n",
    "    \n",
    "    return offset    \n",
    "        \n",
    "def my_measure_curvature_real(binary_warped):\n",
    "    # Find our lane pixels first\n",
    "    leftx, lefty, rightx, righty, out_img = find_lane_pixels(binary_warped)\n",
    "   \n",
    "    # Generate x and y values for plotting\n",
    "    ploty = np.linspace(0, binary_warped.shape[0]-1, binary_warped.shape[0])\n",
    "  \n",
    "    # Define conversions in x and y from pixels space to meters\n",
    "    ym_per_pix = 30/720 # meters per pixel in y dimension\n",
    "    xm_per_pix = 3.7/700 # meters per pixel in x dimension\n",
    "    \n",
    "#     # Fit a second order polynomial to each using `np.polyfit`\n",
    "#     left_fit = np.polyfit(lefty, leftx, 2)\n",
    "#     right_fit = np.polyfit(righty, rightx, 2)\n",
    "\n",
    "    # Fit a second order polynomial to pixel positions in each fake lane line\n",
    "    # Fit new polynomials to x,y in world space\n",
    "#     left_fit_cr = np.polyfit(ploty*ym_per_pix, leftx*xm_per_pix, 2)\n",
    "#     right_fit_cr = np.polyfit(ploty*ym_per_pix, rightx*xm_per_pix, 2)\n",
    "    left_fit_cr = np.polyfit(lefty*ym_per_pix, leftx*xm_per_pix, 2)\n",
    "    right_fit_cr = np.polyfit(righty*ym_per_pix, rightx*xm_per_pix, 2)\n",
    "    \n",
    "    # Define y-value where we want radius of curvature\n",
    "    # We'll choose the maximum y-value, corresponding to the bottom of the image\n",
    "    y_eval = np.max(ploty)\n",
    "    \n",
    "    # Calculation of R_curve (radius of curvature)\n",
    "    left_curverad = ((1 + (2*left_fit_cr[0]*y_eval*ym_per_pix + left_fit_cr[1])**2)**1.5) / np.absolute(2*left_fit_cr[0])\n",
    "    right_curverad = ((1 + (2*right_fit_cr[0]*y_eval*ym_per_pix + right_fit_cr[1])**2)**1.5) / np.absolute(2*right_fit_cr[0])\n",
    "       \n",
    "    return left_curverad, right_curverad  \n",
    "\n",
    "def my_measure_curvature_pixels2(ploty, left_fit, right_fit):\n",
    "    '''\n",
    "    Calculates the curvature of polynomial functions in pixels.\n",
    "    '''  \n",
    "    # Define y-value where we want radius of curvature\n",
    "    # We'll choose the maximum y-value, corresponding to the bottom of the image\n",
    "    y_eval = np.max(ploty)\n",
    "    \n",
    "    # Calculation of R_curve (radius of curvature)\n",
    "    left_curverad = ((1 + (2*left_fit[0]*y_eval + left_fit[1])**2)**1.5) / np.absolute(2*left_fit[0])\n",
    "    right_curverad = ((1 + (2*right_fit[0]*y_eval + right_fit[1])**2)**1.5) / np.absolute(2*right_fit[0])\n",
    "    \n",
    "    return left_curverad, right_curverad\n",
    "    \n",
    "def measure_curvature_pixels():\n",
    "    '''\n",
    "    Calculates the curvature of polynomial functions in pixels.\n",
    "    '''\n",
    "    # Start by generating our fake example data\n",
    "    # Make sure to feed in your real data instead in your project!\n",
    "    ploty, left_fit, right_fit = generate_data()\n",
    "    \n",
    "    # Define y-value where we want radius of curvature\n",
    "    # We'll choose the maximum y-value, corresponding to the bottom of the image\n",
    "    y_eval = np.max(ploty)\n",
    "    \n",
    "    # Calculation of R_curve (radius of curvature)\n",
    "    left_curverad = ((1 + (2*left_fit[0]*y_eval + left_fit[1])**2)**1.5) / np.absolute(2*left_fit[0])\n",
    "    right_curverad = ((1 + (2*right_fit[0]*y_eval + right_fit[1])**2)**1.5) / np.absolute(2*right_fit[0])\n",
    "    \n",
    "    return left_curverad, right_curverad\n",
    "\n",
    "def generate_data_real(ym_per_pix, xm_per_pix):\n",
    "    '''\n",
    "    Generates fake data to use for calculating lane curvature.\n",
    "    In your own project, you'll ignore this function and instead\n",
    "    feed in the output of your lane detection algorithm to\n",
    "    the lane curvature calculation.\n",
    "    '''\n",
    "    # Set random seed number so results are consistent for grader\n",
    "    # Comment this out if you'd like to see results on different random data!\n",
    "    np.random.seed(0)\n",
    "    # Generate some fake data to represent lane-line pixels\n",
    "    ploty = np.linspace(0, 719, num=720)# to cover same y-range as image\n",
    "    quadratic_coeff = 3e-4 # arbitrary quadratic coefficient\n",
    "    # For each y position generate random x position within +/-50 pix\n",
    "    # of the line base position in each case (x=200 for left, and x=900 for right)\n",
    "    leftx = np.array([200 + (y**2)*quadratic_coeff + np.random.randint(-50, high=51) \n",
    "                                    for y in ploty])\n",
    "    rightx = np.array([900 + (y**2)*quadratic_coeff + np.random.randint(-50, high=51) \n",
    "                                    for y in ploty])\n",
    "\n",
    "    leftx = leftx[::-1]  # Reverse to match top-to-bottom in y\n",
    "    rightx = rightx[::-1]  # Reverse to match top-to-bottom in y\n",
    "\n",
    "    # Fit a second order polynomial to pixel positions in each fake lane line\n",
    "    # Fit new polynomials to x,y in world space\n",
    "    left_fit_cr = np.polyfit(ploty*ym_per_pix, leftx*xm_per_pix, 2)\n",
    "    right_fit_cr = np.polyfit(ploty*ym_per_pix, rightx*xm_per_pix, 2)\n",
    "    \n",
    "    return ploty, left_fit_cr, right_fit_cr\n",
    "    \n",
    "def measure_curvature_real():\n",
    "    '''\n",
    "    Calculates the curvature of polynomial functions in meters.\n",
    "    '''\n",
    "    # Define conversions in x and y from pixels space to meters\n",
    "    ym_per_pix = 30/720 # meters per pixel in y dimension\n",
    "    xm_per_pix = 3.7/700 # meters per pixel in x dimension\n",
    "    \n",
    "    # Start by generating our fake example data\n",
    "    # Make sure to feed in your real data instead in your project!\n",
    "    ploty, left_fit_cr, right_fit_cr = generate_data(ym_per_pix, xm_per_pix)\n",
    "    \n",
    "    # Define y-value where we want radius of curvature\n",
    "    # We'll choose the maximum y-value, corresponding to the bottom of the image\n",
    "    y_eval = np.max(ploty)\n",
    "    \n",
    "    # Calculation of R_curve (radius of curvature)\n",
    "    left_curverad = ((1 + (2*left_fit_cr[0]*y_eval*ym_per_pix + left_fit_cr[1])**2)**1.5) / np.absolute(2*left_fit_cr[0])\n",
    "    right_curverad = ((1 + (2*right_fit_cr[0]*y_eval*ym_per_pix + right_fit_cr[1])**2)**1.5) / np.absolute(2*right_fit_cr[0])\n",
    "    \n",
    "    return left_curverad, right_curverad\n",
    "\n",
    "\n",
    "def my_draw(image, undist, warped, Minv,left_fitx,right_fitx,ploty):\n",
    "    # Create an image to draw the lines on\n",
    "    warp_zero = np.zeros_like(warped).astype(np.uint8)\n",
    "    color_warp = np.dstack((warp_zero, warp_zero, warp_zero))\n",
    "\n",
    "    # Recast the x and y points into usable format for cv2.fillPoly()\n",
    "    pts_left = np.array([np.transpose(np.vstack([left_fitx, ploty]))])\n",
    "    pts_right = np.array([np.flipud(np.transpose(np.vstack([right_fitx, ploty])))])\n",
    "    pts = np.hstack((pts_left, pts_right))\n",
    "\n",
    "    # Draw the lane onto the warped blank image\n",
    "    cv2.fillPoly(color_warp, np.int_([pts]), (0,255, 0))\n",
    "\n",
    "    # Warp the blank back to original image space using inverse perspective matrix (Minv)\n",
    "    newwarp = cv2.warpPerspective(color_warp, Minv, (image.shape[1], image.shape[0])) \n",
    "    # Combine the result with the original image\n",
    "    result = cv2.addWeighted(undist, 1, newwarp, 0.3, 0)\n",
    "    return result\n"
   ]
  },
  {
   "cell_type": "code",
   "execution_count": 77,
   "id": "a9c9231b",
   "metadata": {},
   "outputs": [
    {
     "name": "stdout",
     "output_type": "stream",
     "text": [
      "1.0298153371058987\n"
     ]
    }
   ],
   "source": [
    "ret, mtx, dist, rvecs, tvecs = calibrate_camer()\n",
    "\n",
    "print(ret)\n",
    "# print(mtx)\n",
    "# print(dist)\n",
    "# print(rvecs)\n",
    "# print(tvecs)\n",
    "\n",
    "s1 = [180,719]\n",
    "s2 = [555, 470]\n",
    "s3 = [725, 470]\n",
    "s4 = [1130,719]\n",
    "\n",
    "d1 = [280,719]\n",
    "d2 = [280,  0]\n",
    "d3 = [1000,  0]\n",
    "d4 = [1000, 719]\n",
    "\n",
    "src = np.array([s1,s2,s3,s4],dtype = \"float32\")\n",
    "dst = np.array([d1,d2,d3,d4],dtype = \"float32\")"
   ]
  },
  {
   "cell_type": "code",
   "execution_count": 78,
   "id": "80c5dccb",
   "metadata": {},
   "outputs": [],
   "source": [
    "def my_cal_perspective_transform_mtx():\n",
    "    M = cv2.getPerspectiveTransform(src, dst)\n",
    "    Minv = cv2.getPerspectiveTransform(dst, src)\n",
    "    \n",
    "    return M, Minv"
   ]
  },
  {
   "cell_type": "code",
   "execution_count": 79,
   "id": "b28e6060",
   "metadata": {},
   "outputs": [
    {
     "name": "stdout",
     "output_type": "stream",
     "text": [
      "[[ 1.23176607e+00  2.89559832e-01 -1.55916586e+02]\n",
      " [-2.60900799e-02  1.31677308e+00  2.97882835e+01]\n",
      " [-6.38198199e-05  4.89794342e-04  1.00000000e+00]]\n",
      "(720, 1280, 3)\n"
     ]
    }
   ],
   "source": [
    "cwd = os.getcwd()\n",
    "img = cv2.imread(cwd + '/camera_cal/calibration3.jpg')\n",
    "\n",
    "cv2.imshow('calibration3.jpg',img)\n",
    "\n",
    "img_undistort = undistort_img(img, mtx, dist)\n",
    "\n",
    "cv2.imshow('img_undistort', img_undistort)\n",
    "\n",
    "perspective_transform_mtx = cal_perspective_transform_mtx(img, 9, 6, mtx, dist)\n",
    "\n",
    "print(perspective_transform_mtx)\n",
    "\n",
    "print(img.shape)\n",
    "\n",
    "warped = cv2.warpPerspective(img_undistort, perspective_transform_mtx, img.shape[1::-1], cv2.INTER_LINEAR)\n",
    "\n",
    "# cv2.imshow('warped', warped)\n"
   ]
  },
  {
   "cell_type": "code",
   "execution_count": 80,
   "id": "89ad0f5d",
   "metadata": {},
   "outputs": [],
   "source": [
    "def my_pipline(img):\n",
    "    img_undistort = undistort_img(img, mtx, dist)\n",
    "    \n",
    "    img_bin_sobel =  abs_sobel_thresh(img_undistort, orient='x', thresh_min=10, thresh_max=200)   \n",
    "\n",
    "    img_bin_mag =  mag_thresh(img_undistort, sobel_kernel=3, mag_thresh=(20, 200))\n",
    "\n",
    "    img_bin_dir =  dir_threshold(img_undistort, sobel_kernel=3, thresh=(0.7, 1.3))\n",
    "\n",
    "    img_bin_hls =  hls_select(img_undistort, thresh=(25, 200))\n",
    "\n",
    "    combined = np.zeros_like(img_bin_sobel)\n",
    "    combined[((img_bin_sobel == 1) & (img_bin_mag == 1)) & ((img_bin_dir == 1) & (img_bin_hls == 1))] = 1\n",
    "\n",
    "    img_cpy = np.copy(img_undistort)\n",
    "\n",
    "    M, Minv = my_cal_perspective_transform_mtx()\n",
    "\n",
    "    colored_comb_bin = np.dstack((combined, combined, combined)) * 255\n",
    "\n",
    "    img_warper = warper(combined, src, dst)\n",
    "\n",
    "    colored_warped = np.dstack((img_warper, img_warper, img_warper)) * 255\n",
    "\n",
    "    histogram = hist(colored_warped)\n",
    "\n",
    "    leftx, lefty, rightx, righty, out_img = find_lane_pixels(img_warper* 255) \n",
    "\n",
    "    img_fit = fit_polynomial(img_warper* 255)\n",
    "\n",
    "    left_fit, right_fit, ploty = fit_poly(img_warper.shape, leftx, lefty, rightx, righty)\n",
    "\n",
    "    result = search_around_poly(img_warper)\n",
    "\n",
    "    left_curverad, right_curverad = my_measure_curvature_real(img_warper)\n",
    "    \n",
    "    offset = my_measure_vichle_position(img_warper)\n",
    "\n",
    "    print(left_curverad)\n",
    "    print(right_curverad)\n",
    "    print(offset)\n",
    "\n",
    "    img_final = my_draw(img, img_undistort, img_warper, Minv,left_fit,right_fit,ploty)\n",
    "\n",
    "    font = cv2.FONT_HERSHEY_SIMPLEX\n",
    "\n",
    "    imgzi = cv2.putText(img_final, 'Radius of Curvature = %f(m)' %(left_curverad) , (50, 50), font, 1.2, (255, 255, 255), 2)\n",
    "    \n",
    "    if offset > 0 :\n",
    "        imgzi = cv2.putText(img_final, 'Vehicle is %fm right of center' %(offset) , (50, 50), font, 1.2, (255, 255, 255), 2)\n",
    "    else:\n",
    "        imgzi = cv2.putText(img_final, 'Vehicle is %fm left of center' %(abs(offset)) , (50, 100), font, 1.2, (255, 255, 255), 2)\n",
    "        \n",
    "    return img_final\n"
   ]
  },
  {
   "cell_type": "code",
   "execution_count": 81,
   "id": "8e15ed93",
   "metadata": {},
   "outputs": [],
   "source": [
    "cwd = os.getcwd()\n",
    "\n",
    "img = mpimg.imread(cwd + '/test_images/straight_lines2.jpg')\n",
    "# img = mpimg.imread(cwd + '/test_images/test2.jpg')\n",
    "\n",
    "# plt.imshow(img)\n",
    "\n",
    "img_undistort = undistort_img(img, mtx, dist)\n",
    "\n",
    "# plt.imshow(img)\n",
    "\n",
    "plt.imshow(img_undistort)\n",
    "\n",
    "plt.show()\n"
   ]
  },
  {
   "cell_type": "code",
   "execution_count": 83,
   "id": "35c82627",
   "metadata": {},
   "outputs": [
    {
     "name": "stdout",
     "output_type": "stream",
     "text": [
      "[[0 0 0 ... 0 0 0]\n",
      " [0 0 0 ... 0 0 0]\n",
      " [0 0 0 ... 0 0 0]\n",
      " ...\n",
      " [0 0 0 ... 0 0 0]\n",
      " [0 0 0 ... 0 0 0]\n",
      " [0 0 0 ... 0 0 0]]\n",
      "(720, 1280, 3)\n",
      "[304 320 321 ... 335 336 337]\n",
      "[640 640 640 ... 159 159 159]\n",
      "[971 972 988 ... 989 990 991]\n",
      "[640 640 640 ...  79  79  79]\n",
      "16453.63691348033\n",
      "35613.25028830576\n",
      "5404.234034427476\n",
      "11695.209137806009\n"
     ]
    }
   ],
   "source": [
    "img_bin_sobel =  abs_sobel_thresh(img_undistort, orient='x', thresh_min=10, thresh_max=200)\n",
    "\n",
    "print(img_bin_sobel)\n",
    "\n",
    "# plt.imshow(img_bin_sobel, cmap='gray')\n",
    "\n",
    "img_bin_mag =  mag_thresh(img_undistort, sobel_kernel=3, mag_thresh=(20, 200))\n",
    "\n",
    "# plt.imshow(img_bin_mag, cmap='gray')\n",
    "\n",
    "img_bin_dir =  dir_threshold(img_undistort, sobel_kernel=3, thresh=(0.7, 1.3))\n",
    "\n",
    "# plt.imshow(img_bin_dir, cmap='gray')\n",
    "\n",
    "img_bin_hls =  hls_select(img_undistort, thresh=(25, 200))\n",
    "\n",
    "# plt.imshow(img_bin_hls, cmap='gray')\n",
    "\n",
    "combined = np.zeros_like(img_bin_sobel)\n",
    "combined[((img_bin_sobel == 1) & (img_bin_mag == 1)) & ((img_bin_dir == 1) & (img_bin_hls == 1))] = 1\n",
    "# combined[((img_bin_sobel == 1) )] = 1\n",
    "\n",
    "# plt.imshow(combined, cmap='gray')\n",
    "\n",
    "\n",
    "# (120,539),(480, 310), (485, 310), (900,539)\n",
    "# img_cpy = np.copy(img_undistort)\n",
    "img_cpy = np.copy(img_undistort)\n",
    "\n",
    "# plt.imshow(img_cpy)\n",
    "\n",
    "print(img_cpy.shape)\n",
    "\n",
    "s1 = [180,719]\n",
    "s2 = [555, 470]\n",
    "s3 = [725, 470]\n",
    "s4 = [1130,719]\n",
    "\n",
    "d1 = [280,719]\n",
    "d2 = [280,  0]\n",
    "d3 = [1000,  0]\n",
    "d4 = [1000, 719]\n",
    "\n",
    "w = 1\n",
    "# cv2.line(img_cpy, (180,719), (550, 470), (255,0,0),w) \n",
    "# cv2.line(img_cpy, (550, 470), (740, 470), (255,0,0),w) \n",
    "# cv2.line(img_cpy, (740, 470), (1130,719), (255,0,0),w) \n",
    "\n",
    "cv2.line(img_cpy, s1, s2, (255,0,0),w) \n",
    "cv2.line(img_cpy, s2, s3, (255,0,0),w) \n",
    "cv2.line(img_cpy, s3, s4, (255,0,0),w) \n",
    "\n",
    "plt.imshow(img_cpy)\n",
    "\n",
    "# src = np.array([[180,719],[550,470],[740, 470],[1130,719]],dtype = \"float32\")\n",
    "# dst = np.array([[280,719],[280,  0],[1000,  0],[1000, 719]],dtype = \"float32\")\n",
    "\n",
    "src = np.array([s1,s2,s3,s4],dtype = \"float32\")\n",
    "dst = np.array([d1,d2,d3,d4],dtype = \"float32\")\n",
    "\n",
    "M = cv2.getPerspectiveTransform(src, dst)\n",
    "Minv = cv2.getPerspectiveTransform(dst, src)\n",
    "    \n",
    "img_warper = warper(img_cpy, src, dst)\n",
    "\n",
    "# plt.imshow(img_warper)\n",
    "\n",
    "# img_warper = cv2.warpPerspective(img_cpy, perspective_transform_mtx, img_cpy.shape[1::-1], cv2.INTER_LINEAR)\n",
    "\n",
    "# plt.imshow(img_warper)\n",
    "\n",
    "colored_comb_bin = np.dstack((combined, combined, combined)) * 255\n",
    "\n",
    "# cv2.line(colored_comb_bin, s1, s2, (255,0,0),w) \n",
    "# cv2.line(colored_comb_bin, s2, s3, (255,0,0),w) \n",
    "# cv2.line(colored_comb_bin, s3, s4, (255,0,0),w) \n",
    "\n",
    "# plt.imshow(colored_comb_bin, cmap='gray')\n",
    "\n",
    "img_warper = warper(combined, src, dst)\n",
    "\n",
    "# plt.imshow(img_warper, cmap='gray')\n",
    "\n",
    "colored_warped = np.dstack((img_warper, img_warper, img_warper)) * 255\n",
    "\n",
    "# plt.imshow(colored_warped, cmap='gray')\n",
    "\n",
    "histogram = hist(colored_warped)\n",
    "\n",
    "# plt.plot(histogram)\n",
    "\n",
    "# leftx, lefty, rightx, righty, out_img = find_lane_pixels(img_warper)\n",
    "leftx, lefty, rightx, righty, out_img = find_lane_pixels(img_warper* 255) \n",
    "\n",
    "print(leftx)\n",
    "print(lefty)\n",
    "print(rightx)\n",
    "print(righty)\n",
    "\n",
    "plt.imshow(out_img)\n",
    "\n",
    "img_fit = fit_polynomial(img_warper* 255)\n",
    "\n",
    "# plt.imshow(img_fit)\n",
    "\n",
    "left_fit, right_fit, ploty = fit_poly(img_warper.shape, leftx, lefty, rightx, righty)\n",
    "\n",
    "result = search_around_poly(img_warper)\n",
    "\n",
    "# plt.imshow(result)\n",
    "\n",
    "# left_curverad, right_curverad = measure_curvature_pixels()\n",
    "\n",
    "left_curverad, right_curverad = my_measure_curvature_pixels(img_warper)\n",
    "\n",
    "print(left_curverad)\n",
    "print(right_curverad)\n",
    "\n",
    "left_curverad, right_curverad = my_measure_curvature_real(img_warper)\n",
    "\n",
    "print(left_curverad)\n",
    "print(right_curverad)\n",
    "\n",
    "# plt.imshow(img)\n",
    "# plt.imshow(img_undistort)\n",
    "# plt.imshow(img_warper)\n",
    "\n",
    "# img_final = my_draw(img, img_undistort, img_warper, Minv,left_fitx,right_fitx,ploty)\n",
    "img_final = my_draw(img, img_undistort, img_warper, Minv,left_fit,right_fit,ploty)\n",
    "\n",
    "# img = cv2.imread('caijian.jpg')\n",
    "font = cv2.FONT_HERSHEY_SIMPLEX\n",
    "\n",
    "imgzi = cv2.putText(img_final, 'Curve Radius: left: %fm, right =%fm' %(left_curverad,right_curverad) , (50, 50), font, 1.2, (255, 255, 255), 2)\n",
    "\n",
    "# plt.imshow(img_final)\n",
    "\n",
    "plt.show()"
   ]
  },
  {
   "cell_type": "code",
   "execution_count": 84,
   "id": "eb5ed3c1",
   "metadata": {},
   "outputs": [
    {
     "name": "stdout",
     "output_type": "stream",
     "text": [
      "720\n",
      "640.0\n",
      "313.66663293035873\n",
      "977.9029651836306\n",
      "645.7847990569946\n",
      "-0.030576795015543116\n",
      "5404.234034427476\n",
      "11695.209137806009\n",
      "-0.030576795015543116\n",
      "(720, 1280, 3)\n"
     ]
    }
   ],
   "source": [
    "img_result = my_pipline(img)\n",
    "print(img_result.shape)\n",
    "plt.imshow(img_result)\n",
    "\n",
    "plt.show()\n"
   ]
  },
  {
   "cell_type": "code",
   "execution_count": 85,
   "id": "0e763a7f",
   "metadata": {},
   "outputs": [],
   "source": [
    "# Import everything needed to edit/save/watch video clips\n",
    "from moviepy.editor import VideoFileClip\n",
    "from IPython.display import HTML"
   ]
  },
  {
   "cell_type": "code",
   "execution_count": 86,
   "id": "cd4218c8",
   "metadata": {},
   "outputs": [
    {
     "name": "stdout",
     "output_type": "stream",
     "text": [
      "720\n",
      "640.0\n",
      "359.23706288171536\n",
      "1039.7822514260647\n",
      "699.50965715389\n",
      "-0.3145510449562756\n",
      "1367.7282463768483\n",
      "1005.3271094970519\n",
      "-0.3145510449562756\n",
      "Moviepy - Building video D:\\hzf\\udacity\\project\\CarND-Advanced-Lane-Lines/output_video/P2.mp4.\n",
      "Moviepy - Writing video D:\\hzf\\udacity\\project\\CarND-Advanced-Lane-Lines/output_video/P2.mp4\n",
      "\n"
     ]
    },
    {
     "name": "stderr",
     "output_type": "stream",
     "text": [
      "t:   0%|                                                                    | 2/1260 [00:00<04:05,  5.13it/s, now=None]"
     ]
    },
    {
     "name": "stdout",
     "output_type": "stream",
     "text": [
      "720\n",
      "640.0\n",
      "359.23706288171536\n",
      "1039.7822514260647\n",
      "699.50965715389\n",
      "-0.3145510449562756\n",
      "1367.7282463768483\n",
      "1005.3271094970519\n",
      "-0.3145510449562756\n"
     ]
    },
    {
     "name": "stderr",
     "output_type": "stream",
     "text": [
      "\r",
      "t:   0%|▏                                                                   | 3/1260 [00:00<06:01,  3.48it/s, now=None]"
     ]
    },
    {
     "name": "stdout",
     "output_type": "stream",
     "text": [
      "720\n",
      "640.0\n",
      "360.0447607272859\n",
      "1036.0185830373068\n",
      "698.0316718822963\n",
      "-0.3067388370921378\n",
      "1264.5163627442682\n",
      "890.3434964176457\n",
      "-0.3067388370921378\n"
     ]
    },
    {
     "name": "stderr",
     "output_type": "stream",
     "text": [
      "\r",
      "t:   0%|▏                                                                   | 4/1260 [00:01<07:15,  2.88it/s, now=None]"
     ]
    },
    {
     "name": "stdout",
     "output_type": "stream",
     "text": [
      "720\n",
      "640.0\n",
      "360.8004516031766\n",
      "1045.324122735073\n",
      "703.0622871691248\n",
      "-0.3333292321796598\n",
      "1184.495611248661\n",
      "1177.6703275390869\n",
      "-0.3333292321796598\n"
     ]
    },
    {
     "name": "stderr",
     "output_type": "stream",
     "text": [
      "\r",
      "t:   0%|▎                                                                   | 5/1260 [00:01<08:09,  2.56it/s, now=None]"
     ]
    },
    {
     "name": "stdout",
     "output_type": "stream",
     "text": [
      "720\n",
      "640.0\n",
      "358.5255950259658\n",
      "1043.0556259407922\n",
      "700.7906104833789\n",
      "-0.3213217982692887\n",
      "927.5375189010471\n",
      "843.0038366667611\n",
      "-0.3213217982692887\n"
     ]
    },
    {
     "name": "stderr",
     "output_type": "stream",
     "text": [
      "\r",
      "t:   0%|▎                                                                   | 6/1260 [00:02<08:06,  2.58it/s, now=None]"
     ]
    },
    {
     "name": "stdout",
     "output_type": "stream",
     "text": [
      "720\n",
      "640.0\n",
      "360.59134799197\n",
      "1047.7420642123054\n",
      "704.1667061021377\n",
      "-0.33916687511129934\n",
      "960.0006566116095\n",
      "1368.1771432096436\n",
      "-0.33916687511129934\n"
     ]
    },
    {
     "name": "stderr",
     "output_type": "stream",
     "text": [
      "\r",
      "t:   1%|▍                                                                   | 7/1260 [00:02<08:20,  2.50it/s, now=None]"
     ]
    },
    {
     "name": "stdout",
     "output_type": "stream",
     "text": [
      "720\n",
      "640.0\n",
      "363.3687387112356\n",
      "1049.2269547118335\n",
      "706.2978467115346\n",
      "-0.3504314754752543\n",
      "1035.0607496507034\n",
      "2303.4868878128354\n",
      "-0.3504314754752543\n"
     ]
    },
    {
     "name": "stderr",
     "output_type": "stream",
     "text": [
      "\r",
      "t:   1%|▍                                                                   | 8/1260 [00:02<08:05,  2.58it/s, now=None]"
     ]
    },
    {
     "name": "stdout",
     "output_type": "stream",
     "text": [
      "720\n",
      "640.0\n",
      "363.8174386971788\n",
      "1055.7335847910015\n",
      "709.7755117440902\n",
      "-0.36881341921876243\n",
      "930.5819493963587\n",
      "711499.050829176\n",
      "-0.36881341921876243\n"
     ]
    },
    {
     "name": "stderr",
     "output_type": "stream",
     "text": [
      "\r",
      "t:   1%|▍                                                                   | 9/1260 [00:03<08:15,  2.52it/s, now=None]"
     ]
    },
    {
     "name": "stdout",
     "output_type": "stream",
     "text": [
      "720\n",
      "640.0\n",
      "365.2091546859467\n",
      "1010.2476497085675\n",
      "687.7284021972571\n",
      "-0.2522786973283589\n",
      "877.4063414347685\n",
      "468.11883099962967\n",
      "-0.2522786973283589\n"
     ]
    },
    {
     "name": "stderr",
     "output_type": "stream",
     "text": [
      "\r",
      "t:   1%|▌                                                                  | 10/1260 [00:03<08:10,  2.55it/s, now=None]"
     ]
    },
    {
     "name": "stdout",
     "output_type": "stream",
     "text": [
      "720\n",
      "640.0\n",
      "371.97193051628886\n",
      "1003.4418421875491\n",
      "687.706886351919\n",
      "-0.2521649707172863\n",
      "1783.0295037555509\n",
      "436.3851753518288\n",
      "-0.2521649707172863\n"
     ]
    },
    {
     "name": "stderr",
     "output_type": "stream",
     "text": [
      "\r",
      "t:   1%|▌                                                                  | 11/1260 [00:04<08:02,  2.59it/s, now=None]"
     ]
    },
    {
     "name": "stdout",
     "output_type": "stream",
     "text": [
      "720\n",
      "640.0\n",
      "370.0094259249545\n",
      "980.7257870526877\n",
      "675.3676064888211\n",
      "-0.18694306286948317\n",
      "1506.2162384401115\n",
      "379.01612837560964\n",
      "-0.18694306286948317\n"
     ]
    },
    {
     "name": "stderr",
     "output_type": "stream",
     "text": [
      "\r",
      "t:   1%|▋                                                                  | 12/1260 [00:04<08:12,  2.53it/s, now=None]"
     ]
    },
    {
     "name": "stdout",
     "output_type": "stream",
     "text": [
      "720\n",
      "640.0\n",
      "372.23225038563396\n",
      "1026.0808101252\n",
      "699.156530255417\n",
      "-0.3126845170643471\n",
      "2011.8645714333293\n",
      "683.8511455835269\n",
      "-0.3126845170643471\n"
     ]
    },
    {
     "name": "stderr",
     "output_type": "stream",
     "text": [
      "\r",
      "t:   1%|▋                                                                  | 13/1260 [00:04<08:11,  2.54it/s, now=None]"
     ]
    },
    {
     "name": "stdout",
     "output_type": "stream",
     "text": [
      "720\n",
      "640.0\n",
      "373.68627513345984\n",
      "1038.6945407215348\n",
      "706.1904079274973\n",
      "-0.34986358475962853\n",
      "6103.675087018903\n",
      "866.5588459527116\n",
      "-0.34986358475962853\n"
     ]
    },
    {
     "name": "stderr",
     "output_type": "stream",
     "text": [
      "\r",
      "t:   1%|▋                                                                  | 14/1260 [00:05<08:37,  2.41it/s, now=None]"
     ]
    },
    {
     "name": "stdout",
     "output_type": "stream",
     "text": [
      "720\n",
      "640.0\n",
      "372.12420573474185\n",
      "1021.8178306374317\n",
      "696.9710181860868\n",
      "-0.30113252469788726\n",
      "2389.4605533415092\n",
      "574.5799299681129\n",
      "-0.30113252469788726\n"
     ]
    },
    {
     "name": "stderr",
     "output_type": "stream",
     "text": [
      "\r",
      "t:   1%|▊                                                                  | 15/1260 [00:05<08:51,  2.34it/s, now=None]"
     ]
    },
    {
     "name": "stdout",
     "output_type": "stream",
     "text": [
      "720\n",
      "640.0\n",
      "370.42908674031423\n",
      "1054.373056909036\n",
      "712.4010718246751\n",
      "-0.38269137964471134\n",
      "1312.3892773521172\n",
      "2370.3474719914116\n",
      "-0.38269137964471134\n"
     ]
    },
    {
     "name": "stderr",
     "output_type": "stream",
     "text": [
      "\r",
      "t:   1%|▊                                                                  | 16/1260 [00:06<09:17,  2.23it/s, now=None]"
     ]
    },
    {
     "name": "stdout",
     "output_type": "stream",
     "text": [
      "720\n",
      "640.0\n",
      "370.40128534800266\n",
      "1049.5134126348364\n",
      "709.9573489914195\n",
      "-0.369774558954646\n",
      "1415.2692338182399\n",
      "1763.5618069489003\n",
      "-0.369774558954646\n"
     ]
    },
    {
     "name": "stderr",
     "output_type": "stream",
     "text": [
      "\r",
      "t:   1%|▉                                                                  | 17/1260 [00:06<09:14,  2.24it/s, now=None]"
     ]
    },
    {
     "name": "stdout",
     "output_type": "stream",
     "text": [
      "720\n",
      "640.0\n",
      "370.9578707660538\n",
      "1051.747484941877\n",
      "711.3526778539654\n",
      "-0.37714986865667405\n",
      "1685.5392362552902\n",
      "11368.978735066157\n",
      "-0.37714986865667405\n"
     ]
    },
    {
     "name": "stderr",
     "output_type": "stream",
     "text": [
      "\r",
      "t:   1%|▉                                                                  | 18/1260 [00:07<09:17,  2.23it/s, now=None]"
     ]
    },
    {
     "name": "stdout",
     "output_type": "stream",
     "text": [
      "720\n",
      "640.0\n",
      "365.58555796881546\n",
      "1047.5373780328052\n",
      "706.5614680008104\n",
      "-0.3518249022899976\n",
      "1142.3187004045617\n",
      "5855.472299110165\n",
      "-0.3518249022899976\n"
     ]
    },
    {
     "name": "stderr",
     "output_type": "stream",
     "text": [
      "\r",
      "t:   2%|█                                                                  | 19/1260 [00:07<09:27,  2.19it/s, now=None]"
     ]
    },
    {
     "name": "stdout",
     "output_type": "stream",
     "text": [
      "720\n",
      "640.0\n",
      "367.4235483538682\n",
      "1047.269903760292\n",
      "707.3467260570801\n",
      "-0.35597555201599484\n",
      "1218.3082992850773\n",
      "4413.362387387397\n",
      "-0.35597555201599484\n"
     ]
    },
    {
     "name": "stderr",
     "output_type": "stream",
     "text": [
      "\r",
      "t:   2%|█                                                                  | 20/1260 [00:08<09:21,  2.21it/s, now=None]"
     ]
    },
    {
     "name": "stdout",
     "output_type": "stream",
     "text": [
      "720\n",
      "640.0\n",
      "368.81168928904674\n",
      "1041.5821237826283\n",
      "705.1969065358376\n",
      "-0.34461222026085575\n",
      "1701.72353006449\n",
      "3583.8350904123445\n",
      "-0.34461222026085575\n"
     ]
    },
    {
     "name": "stderr",
     "output_type": "stream",
     "text": [
      "\r",
      "t:   2%|█                                                                  | 21/1260 [00:08<09:36,  2.15it/s, now=None]"
     ]
    },
    {
     "name": "stdout",
     "output_type": "stream",
     "text": [
      "720\n",
      "640.0\n",
      "368.85047643890186\n",
      "1037.377490165992\n",
      "703.113983302447\n",
      "-0.33360248317007685\n",
      "1763.1792188100358\n",
      "2402.488888853905\n",
      "-0.33360248317007685\n"
     ]
    },
    {
     "name": "stderr",
     "output_type": "stream",
     "text": [
      "\r",
      "t:   2%|█▏                                                                 | 22/1260 [00:09<09:35,  2.15it/s, now=None]"
     ]
    },
    {
     "name": "stdout",
     "output_type": "stream",
     "text": [
      "720\n",
      "640.0\n",
      "366.3594380384455\n",
      "988.8346167159294\n",
      "677.5970273771875\n",
      "-0.19872714470799102\n",
      "1806.4997267873441\n",
      "592.4483108751065\n",
      "-0.19872714470799102\n"
     ]
    },
    {
     "name": "stderr",
     "output_type": "stream",
     "text": [
      "\r",
      "t:   2%|█▏                                                                 | 23/1260 [00:09<09:30,  2.17it/s, now=None]"
     ]
    },
    {
     "name": "stdout",
     "output_type": "stream",
     "text": [
      "720\n",
      "640.0\n",
      "366.03271051428504\n",
      "999.9862210191127\n",
      "683.0094657666989\n",
      "-0.22733574762397987\n",
      "2957.1746247342157\n",
      "497.13254067480784\n",
      "-0.22733574762397987\n"
     ]
    },
    {
     "name": "stderr",
     "output_type": "stream",
     "text": [
      "\r",
      "t:   2%|█▎                                                                 | 24/1260 [00:09<09:16,  2.22it/s, now=None]"
     ]
    },
    {
     "name": "stdout",
     "output_type": "stream",
     "text": [
      "720\n",
      "640.0\n",
      "364.9575773194621\n",
      "1009.1537072265354\n",
      "687.0556422729987\n",
      "-0.24872268058585048\n",
      "4683.551173898934\n",
      "427.849351940148\n",
      "-0.24872268058585048\n"
     ]
    },
    {
     "name": "stderr",
     "output_type": "stream",
     "text": [
      "\r",
      "t:   2%|█▎                                                                 | 25/1260 [00:10<09:15,  2.22it/s, now=None]"
     ]
    },
    {
     "name": "stdout",
     "output_type": "stream",
     "text": [
      "720\n",
      "640.0\n",
      "361.97225510131193\n",
      "1005.5668549459845\n",
      "683.7695550236482\n",
      "-0.23135336226785475\n",
      "3254.7077962492135\n",
      "603.9298587011693\n",
      "-0.23135336226785475\n"
     ]
    },
    {
     "name": "stderr",
     "output_type": "stream",
     "text": [
      "\r",
      "t:   2%|█▍                                                                 | 26/1260 [00:10<09:27,  2.18it/s, now=None]"
     ]
    },
    {
     "name": "stdout",
     "output_type": "stream",
     "text": [
      "720\n",
      "640.0\n",
      "359.8626556616548\n",
      "1022.8057894587682\n",
      "691.3342225602115\n",
      "-0.2713380335325466\n",
      "2716.842968372088\n",
      "813.9006142690357\n",
      "-0.2713380335325466\n"
     ]
    },
    {
     "name": "stderr",
     "output_type": "stream",
     "text": [
      "\r",
      "t:   2%|█▍                                                                 | 27/1260 [00:11<09:34,  2.15it/s, now=None]"
     ]
    },
    {
     "name": "stdout",
     "output_type": "stream",
     "text": [
      "720\n",
      "640.0\n",
      "354.52061757290926\n",
      "1020.1043968904053\n",
      "687.3125072316573\n",
      "-0.2500803953673313\n",
      "1909.1756020094972\n",
      "673.1898019803892\n",
      "-0.2500803953673313\n"
     ]
    },
    {
     "name": "stderr",
     "output_type": "stream",
     "text": [
      "\r",
      "t:   2%|█▍                                                                 | 28/1260 [00:11<09:26,  2.18it/s, now=None]"
     ]
    },
    {
     "name": "stdout",
     "output_type": "stream",
     "text": [
      "720\n",
      "640.0\n",
      "350.52038697543173\n",
      "1031.813140550747\n",
      "691.1667637630894\n",
      "-0.2704528941763298\n",
      "1496.322054144442\n",
      "907.0609321241661\n",
      "-0.2704528941763298\n"
     ]
    },
    {
     "name": "stderr",
     "output_type": "stream",
     "text": [
      "\r",
      "t:   2%|█▌                                                                 | 29/1260 [00:12<09:21,  2.19it/s, now=None]"
     ]
    },
    {
     "name": "stdout",
     "output_type": "stream",
     "text": [
      "720\n",
      "640.0\n",
      "350.3061575574826\n",
      "1029.3684430187259\n",
      "689.8373002881042\n",
      "-0.263425730094265\n",
      "2264.074758073665\n",
      "682.1070812009306\n",
      "-0.263425730094265\n"
     ]
    },
    {
     "name": "stderr",
     "output_type": "stream",
     "text": [
      "\r",
      "t:   2%|█▌                                                                 | 30/1260 [00:12<09:24,  2.18it/s, now=None]"
     ]
    },
    {
     "name": "stdout",
     "output_type": "stream",
     "text": [
      "720\n",
      "640.0\n",
      "348.73998782031083\n",
      "1037.1036225106561\n",
      "692.9218051654834\n",
      "-0.2797295415889838\n",
      "1875.4620322800986\n",
      "978.0499176124683\n",
      "-0.2797295415889838\n"
     ]
    },
    {
     "name": "stderr",
     "output_type": "stream",
     "text": [
      "\r",
      "t:   2%|█▋                                                                 | 31/1260 [00:13<09:22,  2.19it/s, now=None]"
     ]
    },
    {
     "name": "stdout",
     "output_type": "stream",
     "text": [
      "720\n",
      "640.0\n",
      "344.58549109183207\n",
      "1036.6625136003404\n",
      "690.6240023460862\n",
      "-0.2675840124007412\n",
      "1266.0006018255278\n",
      "834.2311637354748\n",
      "-0.2675840124007412\n"
     ]
    },
    {
     "name": "stderr",
     "output_type": "stream",
     "text": [
      "\r",
      "t:   3%|█▋                                                                 | 32/1260 [00:13<09:15,  2.21it/s, now=None]"
     ]
    },
    {
     "name": "stdout",
     "output_type": "stream",
     "text": [
      "720\n",
      "640.0\n",
      "344.9643769174568\n",
      "1039.848194836723\n",
      "692.4062858770899\n",
      "-0.2770046539217608\n",
      "1059.83509730192\n",
      "1516.914386425947\n",
      "-0.2770046539217608\n"
     ]
    },
    {
     "name": "stderr",
     "output_type": "stream",
     "text": [
      "\r",
      "t:   3%|█▊                                                                 | 33/1260 [00:14<09:11,  2.23it/s, now=None]"
     ]
    },
    {
     "name": "stdout",
     "output_type": "stream",
     "text": [
      "720\n",
      "640.0\n",
      "341.1131143256351\n",
      "1037.8941291000153\n",
      "689.5036217128252\n",
      "-0.26166200048207594\n",
      "784.7116813217899\n",
      "1873.1424715565574\n",
      "-0.26166200048207594\n"
     ]
    },
    {
     "name": "stderr",
     "output_type": "stream",
     "text": [
      "\r",
      "t:   3%|█▊                                                                 | 34/1260 [00:14<09:33,  2.14it/s, now=None]"
     ]
    },
    {
     "name": "stdout",
     "output_type": "stream",
     "text": [
      "720\n",
      "640.0\n",
      "343.3499578966859\n",
      "1033.8385775568154\n",
      "688.5942677267507\n",
      "-0.2568554151271107\n",
      "889.8458922116678\n",
      "1069.7178817448876\n",
      "-0.2568554151271107\n"
     ]
    },
    {
     "name": "stderr",
     "output_type": "stream",
     "text": [
      "\r",
      "t:   3%|█▊                                                                 | 35/1260 [00:15<09:25,  2.17it/s, now=None]"
     ]
    },
    {
     "name": "stdout",
     "output_type": "stream",
     "text": [
      "720\n",
      "640.0\n",
      "346.93409293649825\n",
      "1007.2658164123415\n",
      "677.0999546744199\n",
      "-0.1960997604219338\n",
      "1121.758107150461\n",
      "452.17948471346494\n",
      "-0.1960997604219338\n"
     ]
    },
    {
     "name": "stderr",
     "output_type": "stream",
     "text": [
      "\r",
      "t:   3%|█▉                                                                 | 36/1260 [00:15<09:15,  2.20it/s, now=None]"
     ]
    },
    {
     "name": "stdout",
     "output_type": "stream",
     "text": [
      "720\n",
      "640.0\n",
      "349.1272063605835\n",
      "995.572049335678\n",
      "672.3496278481307\n",
      "-0.1709908900544051\n",
      "1282.9194421833222\n",
      "466.2517043791905\n",
      "-0.1709908900544051\n"
     ]
    },
    {
     "name": "stderr",
     "output_type": "stream",
     "text": [
      "\r",
      "t:   3%|█▉                                                                 | 37/1260 [00:15<09:09,  2.23it/s, now=None]"
     ]
    },
    {
     "name": "stdout",
     "output_type": "stream",
     "text": [
      "720\n",
      "640.0\n",
      "354.0240963004771\n",
      "1002.1297869589483\n",
      "678.0769416297127\n",
      "-0.2012638343284813\n",
      "1591.7509427084824\n",
      "518.1554236615931\n",
      "-0.2012638343284813\n"
     ]
    },
    {
     "name": "stderr",
     "output_type": "stream",
     "text": [
      "\r",
      "t:   3%|██                                                                 | 38/1260 [00:16<09:14,  2.21it/s, now=None]"
     ]
    },
    {
     "name": "stdout",
     "output_type": "stream",
     "text": [
      "720\n",
      "640.0\n",
      "352.1675611579487\n",
      "1020.39001639614\n",
      "686.2787887770444\n",
      "-0.24461645496437748\n",
      "1084.7674403262345\n",
      "701.4417539294215\n",
      "-0.24461645496437748\n"
     ]
    },
    {
     "name": "stderr",
     "output_type": "stream",
     "text": [
      "\r",
      "t:   3%|██                                                                 | 39/1260 [00:16<08:58,  2.27it/s, now=None]"
     ]
    },
    {
     "name": "stdout",
     "output_type": "stream",
     "text": [
      "720\n",
      "640.0\n",
      "351.9592958110567\n",
      "1012.5155435517428\n",
      "682.2374196813997\n",
      "-0.2232549326016843\n",
      "1046.8171968580434\n",
      "542.0641263084307\n",
      "-0.2232549326016843\n"
     ]
    },
    {
     "name": "stderr",
     "output_type": "stream",
     "text": [
      "\r",
      "t:   3%|██▏                                                                | 40/1260 [00:17<09:28,  2.14it/s, now=None]"
     ]
    },
    {
     "name": "stdout",
     "output_type": "stream",
     "text": [
      "720\n",
      "640.0\n",
      "354.19424152695365\n",
      "1022.8692152201369\n",
      "688.5317283735453\n",
      "-0.25652484997445385\n",
      "1103.4591561479606\n",
      "669.2952828903192\n",
      "-0.25652484997445385\n"
     ]
    },
    {
     "name": "stderr",
     "output_type": "stream",
     "text": [
      "\r",
      "t:   3%|██▏                                                                | 41/1260 [00:17<09:15,  2.19it/s, now=None]"
     ]
    },
    {
     "name": "stdout",
     "output_type": "stream",
     "text": [
      "720\n",
      "640.0\n",
      "354.5468998770225\n",
      "1017.9871852864676\n",
      "686.267042581745\n",
      "-0.24455436793208096\n",
      "1030.4936313706287\n",
      "529.6179004494146\n",
      "-0.24455436793208096\n"
     ]
    },
    {
     "name": "stderr",
     "output_type": "stream",
     "text": [
      "\r",
      "t:   3%|██▏                                                                | 42/1260 [00:18<09:11,  2.21it/s, now=None]"
     ]
    },
    {
     "name": "stdout",
     "output_type": "stream",
     "text": [
      "720\n",
      "640.0\n",
      "352.7455309516473\n",
      "1024.922636045758\n",
      "688.8340834987027\n",
      "-0.25812301277885735\n",
      "801.9329300981274\n",
      "608.9281478435828\n",
      "-0.25812301277885735\n"
     ]
    },
    {
     "name": "stderr",
     "output_type": "stream",
     "text": [
      "\r",
      "t:   3%|██▎                                                                | 43/1260 [00:18<09:05,  2.23it/s, now=None]"
     ]
    },
    {
     "name": "stdout",
     "output_type": "stream",
     "text": [
      "720\n",
      "640.0\n",
      "353.8847704327311\n",
      "1036.4471364533517\n",
      "695.1659534430414\n",
      "-0.2915914681989332\n",
      "779.4374662429811\n",
      "1189.7301831595619\n",
      "-0.2915914681989332\n"
     ]
    },
    {
     "name": "stderr",
     "output_type": "stream",
     "text": [
      "\r",
      "t:   3%|██▎                                                                | 44/1260 [00:19<09:27,  2.14it/s, now=None]"
     ]
    },
    {
     "name": "stdout",
     "output_type": "stream",
     "text": [
      "720\n",
      "640.0\n",
      "353.22168595800804\n",
      "1039.9826277050993\n",
      "696.6021568315537\n",
      "-0.2991828289667836\n",
      "694.613549479974\n",
      "1475.2473260819397\n",
      "-0.2991828289667836\n"
     ]
    },
    {
     "name": "stderr",
     "output_type": "stream",
     "text": [
      "\r",
      "t:   4%|██▍                                                                | 45/1260 [00:19<09:24,  2.15it/s, now=None]"
     ]
    },
    {
     "name": "stdout",
     "output_type": "stream",
     "text": [
      "720\n",
      "640.0\n",
      "353.27746566677524\n",
      "1043.676319912772\n",
      "698.4768927897736\n",
      "-0.3090921476030891\n",
      "765.1716406388298\n",
      "3783.7258279766525\n",
      "-0.3090921476030891\n"
     ]
    },
    {
     "name": "stderr",
     "output_type": "stream",
     "text": [
      "\r",
      "t:   4%|██▍                                                                | 46/1260 [00:20<09:18,  2.17it/s, now=None]"
     ]
    },
    {
     "name": "stdout",
     "output_type": "stream",
     "text": [
      "720\n",
      "640.0\n",
      "355.810841432888\n",
      "1040.1647048550649\n",
      "697.9877731439765\n",
      "-0.3065068009038757\n",
      "910.0427885336331\n",
      "1451.9105846021685\n",
      "-0.3065068009038757\n"
     ]
    },
    {
     "name": "stderr",
     "output_type": "stream",
     "text": [
      "\r",
      "t:   4%|██▍                                                                | 47/1260 [00:20<09:06,  2.22it/s, now=None]"
     ]
    },
    {
     "name": "stdout",
     "output_type": "stream",
     "text": [
      "720\n",
      "640.0\n",
      "357.3953718632286\n",
      "970.4526634614842\n",
      "663.9240176623564\n",
      "-0.12645552192959808\n",
      "963.7817023617089\n",
      "297.39992328934864\n",
      "-0.12645552192959808\n"
     ]
    },
    {
     "name": "stderr",
     "output_type": "stream",
     "text": [
      "\r",
      "t:   4%|██▌                                                                | 48/1260 [00:20<09:27,  2.14it/s, now=None]"
     ]
    },
    {
     "name": "stdout",
     "output_type": "stream",
     "text": [
      "720\n",
      "640.0\n",
      "359.1429545267306\n",
      "998.3999222740757\n",
      "678.7714384004032\n",
      "-0.2049347458307027\n",
      "1277.7262461723549\n",
      "449.86621834140993\n",
      "-0.2049347458307027\n"
     ]
    },
    {
     "name": "stderr",
     "output_type": "stream",
     "text": [
      "\r",
      "t:   4%|██▌                                                                | 49/1260 [00:21<09:04,  2.23it/s, now=None]"
     ]
    },
    {
     "name": "stdout",
     "output_type": "stream",
     "text": [
      "720\n",
      "640.0\n",
      "362.5724292091031\n",
      "995.4528872059722\n",
      "679.0126582075377\n",
      "-0.2062097648112707\n",
      "1547.672455630871\n",
      "478.4412736502072\n",
      "-0.2062097648112707\n"
     ]
    },
    {
     "name": "stderr",
     "output_type": "stream",
     "text": [
      "\r",
      "t:   4%|██▋                                                                | 50/1260 [00:21<09:55,  2.03it/s, now=None]"
     ]
    },
    {
     "name": "stdout",
     "output_type": "stream",
     "text": [
      "720\n",
      "640.0\n",
      "360.93969621497126\n",
      "1012.0015376019119\n",
      "686.4706169084416\n",
      "-0.24563040365890546\n",
      "1517.055231481222\n",
      "540.1884272824991\n",
      "-0.24563040365890546\n"
     ]
    },
    {
     "name": "stderr",
     "output_type": "stream",
     "text": [
      "\r",
      "t:   4%|██▋                                                                | 51/1260 [00:22<09:41,  2.08it/s, now=None]"
     ]
    },
    {
     "name": "stdout",
     "output_type": "stream",
     "text": [
      "720\n",
      "640.0\n",
      "362.6534921232669\n",
      "1009.9807438465467\n",
      "686.3171179849069\n",
      "-0.24481905220593633\n",
      "1989.0298222570698\n",
      "494.0057820643613\n",
      "-0.24481905220593633\n"
     ]
    },
    {
     "name": "stderr",
     "output_type": "stream",
     "text": [
      "\r",
      "t:   4%|██▊                                                                | 52/1260 [00:22<09:50,  2.05it/s, now=None]"
     ]
    },
    {
     "name": "stdout",
     "output_type": "stream",
     "text": [
      "720\n",
      "640.0\n",
      "361.99756886602063\n",
      "1032.6610515484697\n",
      "697.3293102072452\n",
      "-0.30302635395258154\n",
      "1607.7375587781162\n",
      "772.7753931440475\n",
      "-0.30302635395258154\n"
     ]
    },
    {
     "name": "stderr",
     "output_type": "stream",
     "text": [
      "\r",
      "t:   4%|██▊                                                                | 53/1260 [00:23<10:05,  1.99it/s, now=None]"
     ]
    },
    {
     "name": "stdout",
     "output_type": "stream",
     "text": [
      "720\n",
      "640.0\n",
      "360.4095529178148\n",
      "1023.3009223819585\n",
      "691.8552376498866\n",
      "-0.27409197043511485\n",
      "1065.2781357327472\n",
      "603.3551581216367\n",
      "-0.27409197043511485\n"
     ]
    },
    {
     "name": "stderr",
     "output_type": "stream",
     "text": [
      "\r",
      "t:   4%|██▊                                                                | 54/1260 [00:23<10:25,  1.93it/s, now=None]"
     ]
    },
    {
     "name": "stdout",
     "output_type": "stream",
     "text": [
      "720\n",
      "640.0\n",
      "358.4844651699796\n",
      "1026.7967265930936\n",
      "692.6405958815366\n",
      "-0.27824314965955044\n",
      "944.9463757421571\n",
      "634.0637704620618\n",
      "-0.27824314965955044\n"
     ]
    },
    {
     "name": "stderr",
     "output_type": "stream",
     "text": [
      "\r",
      "t:   4%|██▉                                                                | 55/1260 [00:24<11:18,  1.78it/s, now=None]"
     ]
    },
    {
     "name": "stdout",
     "output_type": "stream",
     "text": [
      "720\n",
      "640.0\n",
      "359.5878422189513\n",
      "1031.9266212762784\n",
      "695.7572317476149\n",
      "-0.29471679638025033\n",
      "1010.2347888793097\n",
      "829.206237747131\n",
      "-0.29471679638025033\n"
     ]
    },
    {
     "name": "stderr",
     "output_type": "stream",
     "text": [
      "\r",
      "t:   4%|██▉                                                                | 56/1260 [00:25<10:24,  1.93it/s, now=None]"
     ]
    },
    {
     "name": "stdout",
     "output_type": "stream",
     "text": [
      "720\n",
      "640.0\n",
      "361.6669585015357\n",
      "1036.9273965227972\n",
      "699.2971775121664\n",
      "-0.31342793827859383\n",
      "1239.8171437581636\n",
      "1122.6229053702864\n",
      "-0.31342793827859383\n"
     ]
    },
    {
     "name": "stderr",
     "output_type": "stream",
     "text": [
      "\r",
      "t:   5%|███                                                                | 57/1260 [00:25<10:01,  2.00it/s, now=None]"
     ]
    },
    {
     "name": "stdout",
     "output_type": "stream",
     "text": [
      "720\n",
      "640.0\n",
      "361.851376922556\n",
      "1036.7067336759021\n",
      "699.2790552992291\n",
      "-0.31333214943878224\n",
      "1481.7817033226406\n",
      "1159.8546562319689\n",
      "-0.31333214943878224\n"
     ]
    },
    {
     "name": "stderr",
     "output_type": "stream",
     "text": [
      "\r",
      "t:   5%|███                                                                | 58/1260 [00:25<09:35,  2.09it/s, now=None]"
     ]
    },
    {
     "name": "stdout",
     "output_type": "stream",
     "text": [
      "720\n",
      "640.0\n",
      "361.55577307276917\n",
      "1038.2213464387883\n",
      "699.8885597557787\n",
      "-0.31655381585197323\n",
      "1631.3011230039408\n",
      "1199.2745043850773\n",
      "-0.31655381585197323\n"
     ]
    },
    {
     "name": "stderr",
     "output_type": "stream",
     "text": [
      "\r",
      "t:   5%|███▏                                                               | 59/1260 [00:26<10:07,  1.98it/s, now=None]"
     ]
    },
    {
     "name": "stdout",
     "output_type": "stream",
     "text": [
      "720\n",
      "640.0\n",
      "359.5460790754948\n",
      "1033.6858671661164\n",
      "696.6159731208056\n",
      "-0.2992558579242583\n",
      "1609.2340509791388\n",
      "1013.1854543979051\n",
      "-0.2992558579242583\n"
     ]
    },
    {
     "name": "stderr",
     "output_type": "stream",
     "text": [
      "\r",
      "t:   5%|███▏                                                               | 60/1260 [00:26<09:32,  2.10it/s, now=None]"
     ]
    },
    {
     "name": "stdout",
     "output_type": "stream",
     "text": [
      "720\n",
      "640.0\n",
      "362.02233102890636\n",
      "983.7098188571703\n",
      "672.8660749430383\n",
      "-0.17372068184177364\n",
      "2571.83381809379\n",
      "415.6174636215042\n",
      "-0.17372068184177364\n"
     ]
    },
    {
     "name": "stderr",
     "output_type": "stream",
     "text": [
      "\r",
      "t:   5%|███▏                                                               | 61/1260 [00:27<09:29,  2.11it/s, now=None]"
     ]
    },
    {
     "name": "stdout",
     "output_type": "stream",
     "text": [
      "720\n",
      "640.0\n",
      "361.0918353023375\n",
      "959.052264865103\n",
      "660.0720500837202\n",
      "-0.10609512187109264\n",
      "2316.9768514383477\n",
      "362.3870452387855\n",
      "-0.10609512187109264\n"
     ]
    },
    {
     "name": "stderr",
     "output_type": "stream",
     "text": [
      "\r",
      "t:   5%|███▎                                                               | 62/1260 [00:27<09:42,  2.06it/s, now=None]"
     ]
    },
    {
     "name": "stdout",
     "output_type": "stream",
     "text": [
      "720\n",
      "640.0\n",
      "356.25047031666793\n",
      "973.4674260728546\n",
      "664.8589481947613\n",
      "-0.13139729760088115\n",
      "1807.0061563612521\n",
      "385.11790147430446\n",
      "-0.13139729760088115\n"
     ]
    },
    {
     "name": "stderr",
     "output_type": "stream",
     "text": [
      "\r",
      "t:   5%|███▎                                                               | 63/1260 [00:28<09:28,  2.11it/s, now=None]"
     ]
    },
    {
     "name": "stdout",
     "output_type": "stream",
     "text": [
      "720\n",
      "640.0\n",
      "355.9808967317674\n",
      "991.2983370869663\n",
      "673.6396169093669\n",
      "-0.17780940366379622\n",
      "1803.138281349332\n",
      "461.1889254197854\n",
      "-0.17780940366379622\n"
     ]
    },
    {
     "name": "stderr",
     "output_type": "stream",
     "text": [
      "\r",
      "t:   5%|███▍                                                               | 64/1260 [00:28<09:36,  2.08it/s, now=None]"
     ]
    },
    {
     "name": "stdout",
     "output_type": "stream",
     "text": [
      "720\n",
      "640.0\n",
      "353.8011565647149\n",
      "1003.5410385924691\n",
      "678.671097578592\n",
      "-0.204404372915415\n",
      "1838.9898818126685\n",
      "549.6560655856755\n",
      "-0.204404372915415\n"
     ]
    },
    {
     "name": "stderr",
     "output_type": "stream",
     "text": [
      "\r",
      "t:   5%|███▍                                                               | 65/1260 [00:29<09:25,  2.11it/s, now=None]"
     ]
    },
    {
     "name": "stdout",
     "output_type": "stream",
     "text": [
      "720\n",
      "640.0\n",
      "348.45344024031994\n",
      "1008.9931227085249\n",
      "678.7232814744224\n",
      "-0.2046802020790897\n",
      "1099.746477638796\n",
      "572.2335827516265\n",
      "-0.2046802020790897\n"
     ]
    },
    {
     "name": "stderr",
     "output_type": "stream",
     "text": [
      "\r",
      "t:   5%|███▌                                                               | 66/1260 [00:29<09:14,  2.15it/s, now=None]"
     ]
    },
    {
     "name": "stdout",
     "output_type": "stream",
     "text": [
      "720\n",
      "640.0\n",
      "347.4742862802308\n",
      "1021.5904474592326\n",
      "684.5323668697317\n",
      "-0.2353853677400106\n",
      "1308.7203832808564\n",
      "924.2238159151304\n",
      "-0.2353853677400106\n"
     ]
    },
    {
     "name": "stderr",
     "output_type": "stream",
     "text": [
      "\r",
      "t:   5%|███▌                                                               | 67/1260 [00:30<10:04,  1.97it/s, now=None]"
     ]
    },
    {
     "name": "stdout",
     "output_type": "stream",
     "text": [
      "720\n",
      "640.0\n",
      "343.5608908240541\n",
      "1032.6914103315717\n",
      "688.126150577813\n",
      "-0.25438108162558276\n",
      "889.4769592487302\n",
      "3681.810065927852\n",
      "-0.25438108162558276\n"
     ]
    },
    {
     "name": "stderr",
     "output_type": "stream",
     "text": [
      "\r",
      "t:   5%|███▌                                                               | 68/1260 [00:30<10:07,  1.96it/s, now=None]"
     ]
    },
    {
     "name": "stdout",
     "output_type": "stream",
     "text": [
      "720\n",
      "640.0\n",
      "343.6030198100243\n",
      "1016.9399020822905\n",
      "680.2714609461574\n",
      "-0.21286343642968908\n",
      "995.2695381710613\n",
      "700.3238836902475\n",
      "-0.21286343642968908\n"
     ]
    },
    {
     "name": "stderr",
     "output_type": "stream",
     "text": [
      "\r",
      "t:   5%|███▋                                                               | 69/1260 [00:31<09:38,  2.06it/s, now=None]"
     ]
    },
    {
     "name": "stdout",
     "output_type": "stream",
     "text": [
      "720\n",
      "640.0\n",
      "340.1607465412619\n",
      "1018.7864254486994\n",
      "679.4735859949807\n",
      "-0.20864609740204076\n",
      "986.7309988831981\n",
      "836.6821556903125\n",
      "-0.20864609740204076\n"
     ]
    },
    {
     "name": "stderr",
     "output_type": "stream",
     "text": [
      "\r",
      "t:   6%|███▋                                                               | 70/1260 [00:31<09:06,  2.18it/s, now=None]"
     ]
    },
    {
     "name": "stdout",
     "output_type": "stream",
     "text": [
      "720\n",
      "640.0\n",
      "342.59177529606046\n",
      "1025.170112499647\n",
      "683.8809438978537\n",
      "-0.23194213203151265\n",
      "1167.522710760978\n",
      "36533.11986779036\n",
      "-0.23194213203151265\n"
     ]
    },
    {
     "name": "stderr",
     "output_type": "stream",
     "text": [
      "\r",
      "t:   6%|███▊                                                               | 71/1260 [00:32<09:31,  2.08it/s, now=None]"
     ]
    },
    {
     "name": "stdout",
     "output_type": "stream",
     "text": [
      "720\n",
      "640.0\n",
      "339.6006105053185\n",
      "1022.3310914163606\n",
      "680.9658509608396\n",
      "-0.21653378365015213\n",
      "1007.299208953031\n",
      "8905.115915885315\n",
      "-0.21653378365015213\n"
     ]
    },
    {
     "name": "stderr",
     "output_type": "stream",
     "text": [
      "\r",
      "t:   6%|███▊                                                               | 72/1260 [00:32<09:29,  2.09it/s, now=None]"
     ]
    },
    {
     "name": "stdout",
     "output_type": "stream",
     "text": [
      "720\n",
      "640.0\n",
      "338.7068838660222\n",
      "979.5008319718564\n",
      "659.1038579189393\n",
      "-0.10097753471439344\n",
      "984.961520823696\n",
      "680.6490748029191\n",
      "-0.10097753471439344\n"
     ]
    },
    {
     "name": "stderr",
     "output_type": "stream",
     "text": [
      "\r",
      "t:   6%|███▉                                                               | 73/1260 [00:33<09:04,  2.18it/s, now=None]"
     ]
    },
    {
     "name": "stdout",
     "output_type": "stream",
     "text": [
      "720\n",
      "640.0\n",
      "339.7348903522558\n",
      "978.8593329605767\n",
      "659.2971116564163\n",
      "-0.10199901875534326\n",
      "1131.1487219339463\n",
      "554.1714623568492\n",
      "-0.10199901875534326\n"
     ]
    },
    {
     "name": "stderr",
     "output_type": "stream",
     "text": [
      "\r",
      "t:   6%|███▉                                                               | 74/1260 [00:33<09:01,  2.19it/s, now=None]"
     ]
    },
    {
     "name": "stdout",
     "output_type": "stream",
     "text": [
      "720\n",
      "640.0\n",
      "340.8587355230734\n",
      "988.7487905522537\n",
      "664.8037630376635\n",
      "-0.13110560462765017\n",
      "1263.7709768645102\n",
      "705.5136668496929\n",
      "-0.13110560462765017\n"
     ]
    },
    {
     "name": "stderr",
     "output_type": "stream",
     "text": [
      "\r",
      "t:   6%|███▉                                                               | 75/1260 [00:34<09:14,  2.14it/s, now=None]"
     ]
    },
    {
     "name": "stdout",
     "output_type": "stream",
     "text": [
      "720\n",
      "640.0\n",
      "342.3831046787274\n",
      "996.0433903960795\n",
      "669.2132475374035\n",
      "-0.15441287984056137\n",
      "1384.9106804439002\n",
      "816.3441840878577\n",
      "-0.15441287984056137\n"
     ]
    },
    {
     "name": "stderr",
     "output_type": "stream",
     "text": [
      "\r",
      "t:   6%|████                                                               | 76/1260 [00:34<09:09,  2.16it/s, now=None]"
     ]
    },
    {
     "name": "stdout",
     "output_type": "stream",
     "text": [
      "720\n",
      "640.0\n",
      "342.0937317912159\n",
      "1011.4124623448996\n",
      "676.7530970680577\n",
      "-0.19426637021687665\n",
      "1583.371412932681\n",
      "1465.1163073279463\n",
      "-0.19426637021687665\n"
     ]
    },
    {
     "name": "stderr",
     "output_type": "stream",
     "text": [
      "\r",
      "t:   6%|████                                                               | 77/1260 [00:35<09:09,  2.15it/s, now=None]"
     ]
    },
    {
     "name": "stdout",
     "output_type": "stream",
     "text": [
      "720\n",
      "640.0\n",
      "344.6782346859397\n",
      "987.3915279693224\n",
      "666.0348813276311\n",
      "-0.13761294416033565\n",
      "2051.086825007625\n",
      "579.055748308934\n",
      "-0.13761294416033565\n"
     ]
    },
    {
     "name": "stderr",
     "output_type": "stream",
     "text": [
      "\r",
      "t:   6%|████▏                                                              | 78/1260 [00:35<09:27,  2.08it/s, now=None]"
     ]
    },
    {
     "name": "stdout",
     "output_type": "stream",
     "text": [
      "720\n",
      "640.0\n",
      "343.3952071675203\n",
      "1011.1301127216558\n",
      "677.262659944588\n",
      "-0.19695977399282227\n",
      "2675.012132157026\n",
      "1270.136060570028\n",
      "-0.19695977399282227\n"
     ]
    },
    {
     "name": "stderr",
     "output_type": "stream",
     "text": [
      "\r",
      "t:   6%|████▏                                                              | 79/1260 [00:36<09:35,  2.05it/s, now=None]"
     ]
    },
    {
     "name": "stdout",
     "output_type": "stream",
     "text": [
      "720\n",
      "640.0\n",
      "341.47850888563585\n",
      "1007.6266806580443\n",
      "674.5525947718401\n",
      "-0.18263514379401177\n",
      "2475.045024731156\n",
      "923.248575133782\n",
      "-0.18263514379401177\n"
     ]
    },
    {
     "name": "stderr",
     "output_type": "stream",
     "text": [
      "\r",
      "t:   6%|████▎                                                              | 80/1260 [00:36<09:53,  1.99it/s, now=None]"
     ]
    },
    {
     "name": "stdout",
     "output_type": "stream",
     "text": [
      "720\n",
      "640.0\n",
      "340.3265196197335\n",
      "1012.4072494079552\n",
      "676.3668845138443\n",
      "-0.19222496100174843\n",
      "3260.945460958858\n",
      "1240.4346149027665\n",
      "-0.19222496100174843\n"
     ]
    },
    {
     "name": "stderr",
     "output_type": "stream",
     "text": [
      "\r",
      "t:   6%|████▎                                                              | 81/1260 [00:37<10:25,  1.88it/s, now=None]"
     ]
    },
    {
     "name": "stdout",
     "output_type": "stream",
     "text": [
      "720\n",
      "640.0\n",
      "337.7077443326382\n",
      "1016.0892763036503\n",
      "676.8985103181442\n",
      "-0.19503498311019074\n",
      "3173.6144429188375\n",
      "3935.305958345572\n",
      "-0.19503498311019074\n"
     ]
    },
    {
     "name": "stderr",
     "output_type": "stream",
     "text": [
      "\r",
      "t:   7%|████▎                                                              | 82/1260 [00:37<10:11,  1.92it/s, now=None]"
     ]
    },
    {
     "name": "stdout",
     "output_type": "stream",
     "text": [
      "720\n",
      "640.0\n",
      "337.09937696376636\n",
      "1010.0219193448303\n",
      "673.5606481542983\n",
      "-0.17739199738700526\n",
      "5219.8309017323645\n",
      "1216.314198177183\n",
      "-0.17739199738700526\n"
     ]
    },
    {
     "name": "stderr",
     "output_type": "stream",
     "text": [
      "\r",
      "t:   7%|████▍                                                              | 83/1260 [00:38<09:33,  2.05it/s, now=None]"
     ]
    },
    {
     "name": "stdout",
     "output_type": "stream",
     "text": [
      "720\n",
      "640.0\n",
      "335.0885025720506\n",
      "1009.1456028460462\n",
      "672.1170527090484\n",
      "-0.16976156431925574\n",
      "7442.995755050629\n",
      "1693.6264068861547\n",
      "-0.16976156431925574\n"
     ]
    },
    {
     "name": "stderr",
     "output_type": "stream",
     "text": [
      "\r",
      "t:   7%|████▍                                                              | 84/1260 [00:38<09:27,  2.07it/s, now=None]"
     ]
    },
    {
     "name": "stdout",
     "output_type": "stream",
     "text": [
      "720\n",
      "640.0\n",
      "331.845456540069\n",
      "1007.4858914828249\n",
      "669.665674011447\n",
      "-0.15680427691764834\n",
      "5826.89290721228\n",
      "2438.4901051875495\n",
      "-0.15680427691764834\n"
     ]
    },
    {
     "name": "stderr",
     "output_type": "stream",
     "text": [
      "\r",
      "t:   7%|████▌                                                              | 85/1260 [00:39<09:23,  2.09it/s, now=None]"
     ]
    },
    {
     "name": "stdout",
     "output_type": "stream",
     "text": [
      "720\n",
      "640.0\n",
      "329.14567908937045\n",
      "959.4743511091879\n",
      "644.3100150992791\n",
      "-0.02278150838190381\n",
      "7629.330081362147\n",
      "481.06819313883915\n",
      "-0.02278150838190381\n"
     ]
    },
    {
     "name": "stderr",
     "output_type": "stream",
     "text": [
      "\r",
      "t:   7%|████▌                                                              | 86/1260 [00:39<09:07,  2.14it/s, now=None]"
     ]
    },
    {
     "name": "stdout",
     "output_type": "stream",
     "text": [
      "720\n",
      "640.0\n",
      "326.27736168792467\n",
      "957.7361937908578\n",
      "642.0067777393913\n",
      "-0.01060725376535392\n",
      "7364.486707625823\n",
      "340.9767700752461\n",
      "-0.01060725376535392\n"
     ]
    },
    {
     "name": "stderr",
     "output_type": "stream",
     "text": [
      "\r",
      "t:   7%|████▋                                                              | 87/1260 [00:39<08:56,  2.19it/s, now=None]"
     ]
    },
    {
     "name": "stdout",
     "output_type": "stream",
     "text": [
      "720\n",
      "640.0\n",
      "323.71297378981217\n",
      "990.5930456223555\n",
      "657.1530097060838\n",
      "-0.09066590844644307\n",
      "4561.812288231131\n",
      "625.610369547151\n",
      "-0.09066590844644307\n"
     ]
    },
    {
     "name": "stderr",
     "output_type": "stream",
     "text": [
      "\r",
      "t:   7%|████▋                                                              | 88/1260 [00:40<09:40,  2.02it/s, now=None]"
     ]
    },
    {
     "name": "stdout",
     "output_type": "stream",
     "text": [
      "720\n",
      "640.0\n",
      "322.6179907391676\n",
      "987.0602213226978\n",
      "654.8391060309327\n",
      "-0.07843527473493013\n",
      "2480.002428289563\n",
      "597.3011253887937\n",
      "-0.07843527473493013\n"
     ]
    },
    {
     "name": "stderr",
     "output_type": "stream",
     "text": [
      "\r",
      "t:   7%|████▋                                                              | 89/1260 [00:40<09:40,  2.02it/s, now=None]"
     ]
    },
    {
     "name": "stdout",
     "output_type": "stream",
     "text": [
      "720\n",
      "640.0\n",
      "321.9082639357729\n",
      "990.9727524316929\n",
      "656.4405081837328\n",
      "-0.08689982897115933\n",
      "2015.4843000578007\n",
      "639.1617939734433\n",
      "-0.08689982897115933\n"
     ]
    },
    {
     "name": "stderr",
     "output_type": "stream",
     "text": [
      "\r",
      "t:   7%|████▊                                                              | 90/1260 [00:41<09:30,  2.05it/s, now=None]"
     ]
    },
    {
     "name": "stdout",
     "output_type": "stream",
     "text": [
      "720\n",
      "640.0\n",
      "322.8006401717396\n",
      "986.5393383173111\n",
      "654.6699892445254\n",
      "-0.07754137172106267\n",
      "1915.5680104493124\n",
      "537.8957687873834\n",
      "-0.07754137172106267\n"
     ]
    },
    {
     "name": "stderr",
     "output_type": "stream",
     "text": [
      "\r",
      "t:   7%|████▊                                                              | 91/1260 [00:41<09:25,  2.07it/s, now=None]"
     ]
    },
    {
     "name": "stdout",
     "output_type": "stream",
     "text": [
      "720\n",
      "640.0\n",
      "323.3201038713417\n",
      "1008.7082708672663\n",
      "666.014187369304\n",
      "-0.13750356180917805\n",
      "1430.474808877062\n",
      "1150.0444536220043\n",
      "-0.13750356180917805\n"
     ]
    },
    {
     "name": "stderr",
     "output_type": "stream",
     "text": [
      "\r",
      "t:   7%|████▉                                                              | 92/1260 [00:42<09:07,  2.13it/s, now=None]"
     ]
    },
    {
     "name": "stdout",
     "output_type": "stream",
     "text": [
      "720\n",
      "640.0\n",
      "323.20489837656834\n",
      "1012.1432165131404\n",
      "667.6740574448544\n",
      "-0.1462771607799446\n",
      "1529.2832973778357\n",
      "1565.1125812023695\n",
      "-0.1462771607799446\n"
     ]
    },
    {
     "name": "stderr",
     "output_type": "stream",
     "text": [
      "\r",
      "t:   7%|████▉                                                              | 93/1260 [00:42<09:27,  2.06it/s, now=None]"
     ]
    },
    {
     "name": "stdout",
     "output_type": "stream",
     "text": [
      "720\n",
      "640.0\n",
      "322.37321121498803\n",
      "1015.489624823834\n",
      "668.931418019411\n",
      "-0.1529232095311725\n",
      "1321.489127170414\n",
      "2484.234437137155\n",
      "-0.1529232095311725\n"
     ]
    },
    {
     "name": "stderr",
     "output_type": "stream",
     "text": [
      "\r",
      "t:   7%|████▉                                                              | 94/1260 [00:43<09:10,  2.12it/s, now=None]"
     ]
    },
    {
     "name": "stdout",
     "output_type": "stream",
     "text": [
      "720\n",
      "640.0\n",
      "322.61573511512347\n",
      "1013.1483207448584\n",
      "667.882027929991\n",
      "-0.14737643334423792\n",
      "1165.1595017951347\n",
      "3800.660842558785\n",
      "-0.14737643334423792\n"
     ]
    },
    {
     "name": "stderr",
     "output_type": "stream",
     "text": [
      "\r",
      "t:   8%|█████                                                              | 95/1260 [00:43<09:07,  2.13it/s, now=None]"
     ]
    },
    {
     "name": "stdout",
     "output_type": "stream",
     "text": [
      "720\n",
      "640.0\n",
      "323.8640413702219\n",
      "1013.1216293172138\n",
      "668.4928353437178\n",
      "-0.15060498681679432\n",
      "1052.9203567260145\n",
      "28351.044467463616\n",
      "-0.15060498681679432\n"
     ]
    },
    {
     "name": "stderr",
     "output_type": "stream",
     "text": [
      "\r",
      "t:   8%|█████                                                              | 96/1260 [00:44<08:57,  2.17it/s, now=None]"
     ]
    },
    {
     "name": "stdout",
     "output_type": "stream",
     "text": [
      "720\n",
      "640.0\n",
      "323.9863345630765\n",
      "1013.7443390916661\n",
      "668.8653368273713\n",
      "-0.15257392323039098\n",
      "1113.7099174863738\n",
      "5060.756462172201\n",
      "-0.15257392323039098\n"
     ]
    },
    {
     "name": "stderr",
     "output_type": "stream",
     "text": [
      "\r",
      "t:   8%|█████▏                                                             | 97/1260 [00:44<09:11,  2.11it/s, now=None]"
     ]
    },
    {
     "name": "stdout",
     "output_type": "stream",
     "text": [
      "720\n",
      "640.0\n",
      "322.6838507903653\n",
      "934.3804854266989\n",
      "628.5321681085321\n",
      "0.06061568285490166\n",
      "978.9901584467216\n",
      "413.81322552821945\n",
      "0.06061568285490166\n"
     ]
    },
    {
     "name": "stderr",
     "output_type": "stream",
     "text": [
      "\r",
      "t:   8%|█████▏                                                             | 98/1260 [00:45<09:51,  1.97it/s, now=None]"
     ]
    },
    {
     "name": "stdout",
     "output_type": "stream",
     "text": [
      "720\n",
      "640.0\n",
      "326.0958055420378\n",
      "944.4045717167007\n",
      "635.2501886293693\n",
      "0.025106145816190893\n",
      "1109.6821534287938\n",
      "453.8901007393866\n",
      "0.025106145816190893\n"
     ]
    },
    {
     "name": "stderr",
     "output_type": "stream",
     "text": [
      "\r",
      "t:   8%|█████▎                                                             | 99/1260 [00:45<09:33,  2.02it/s, now=None]"
     ]
    },
    {
     "name": "stdout",
     "output_type": "stream",
     "text": [
      "720\n",
      "640.0\n",
      "326.9149445660994\n",
      "999.7647916827534\n",
      "663.3398681244264\n",
      "-0.12336787437196814\n",
      "1137.250943041111\n",
      "1115.7053879452737\n",
      "-0.12336787437196814\n"
     ]
    },
    {
     "name": "stderr",
     "output_type": "stream",
     "text": [
      "\r",
      "t:   8%|█████▏                                                            | 100/1260 [00:46<09:27,  2.05it/s, now=None]"
     ]
    },
    {
     "name": "stdout",
     "output_type": "stream",
     "text": [
      "720\n",
      "640.0\n",
      "327.84908443379686\n",
      "976.5576216361532\n",
      "652.203353034975\n",
      "-0.06450343747058189\n",
      "1057.6067047513943\n",
      "638.2335271310952\n",
      "-0.06450343747058189\n"
     ]
    },
    {
     "name": "stderr",
     "output_type": "stream",
     "text": [
      "\r",
      "t:   8%|█████▎                                                            | 101/1260 [00:46<08:57,  2.16it/s, now=None]"
     ]
    },
    {
     "name": "stdout",
     "output_type": "stream",
     "text": [
      "720\n",
      "640.0\n",
      "327.9472928711829\n",
      "995.6619519819176\n",
      "661.8046224265503\n",
      "-0.11525300425462293\n",
      "1042.3540223039788\n",
      "950.8942053905805\n",
      "-0.11525300425462293\n"
     ]
    },
    {
     "name": "stderr",
     "output_type": "stream",
     "text": [
      "\r",
      "t:   8%|█████▎                                                            | 102/1260 [00:47<08:54,  2.16it/s, now=None]"
     ]
    },
    {
     "name": "stdout",
     "output_type": "stream",
     "text": [
      "720\n",
      "640.0\n",
      "329.93699683115017\n",
      "992.996303449004\n",
      "661.466650140077\n",
      "-0.11346657931183576\n",
      "1070.9387662702752\n",
      "831.9640625015039\n",
      "-0.11346657931183576\n"
     ]
    },
    {
     "name": "stderr",
     "output_type": "stream",
     "text": [
      "\r",
      "t:   8%|█████▍                                                            | 103/1260 [00:47<08:59,  2.14it/s, now=None]"
     ]
    },
    {
     "name": "stdout",
     "output_type": "stream",
     "text": [
      "720\n",
      "640.0\n",
      "333.5114555743396\n",
      "996.0516536236423\n",
      "664.781554598991\n",
      "-0.1309882171660951\n",
      "1189.7141870931891\n",
      "859.0302703803688\n",
      "-0.1309882171660951\n"
     ]
    },
    {
     "name": "stderr",
     "output_type": "stream",
     "text": [
      "\r",
      "t:   8%|█████▍                                                            | 104/1260 [00:48<09:13,  2.09it/s, now=None]"
     ]
    },
    {
     "name": "stdout",
     "output_type": "stream",
     "text": [
      "720\n",
      "640.0\n",
      "335.27641331473137\n",
      "995.6220094814735\n",
      "665.4492113981024\n",
      "-0.1345172602471128\n",
      "1351.3972601054036\n",
      "697.1249394247045\n",
      "-0.1345172602471128\n"
     ]
    },
    {
     "name": "stderr",
     "output_type": "stream",
     "text": [
      "\r",
      "t:   8%|█████▌                                                            | 105/1260 [00:48<09:12,  2.09it/s, now=None]"
     ]
    },
    {
     "name": "stdout",
     "output_type": "stream",
     "text": [
      "720\n",
      "640.0\n",
      "336.15133050955154\n",
      "1005.1519261742786\n",
      "670.651628341915\n",
      "-0.1620157498072653\n",
      "1263.1449603029503\n",
      "1131.5074769052555\n",
      "-0.1620157498072653\n"
     ]
    },
    {
     "name": "stderr",
     "output_type": "stream",
     "text": [
      "\r",
      "t:   8%|█████▌                                                            | 106/1260 [00:49<09:19,  2.06it/s, now=None]"
     ]
    },
    {
     "name": "stdout",
     "output_type": "stream",
     "text": [
      "720\n",
      "640.0\n",
      "335.4225305370105\n",
      "1008.8788280808137\n",
      "672.1506793089121\n",
      "-0.16993930491853548\n",
      "1283.3061503807378\n",
      "1175.4426567762816\n",
      "-0.16993930491853548\n"
     ]
    },
    {
     "name": "stderr",
     "output_type": "stream",
     "text": [
      "\r",
      "t:   8%|█████▌                                                            | 107/1260 [00:49<09:02,  2.12it/s, now=None]"
     ]
    },
    {
     "name": "stdout",
     "output_type": "stream",
     "text": [
      "720\n",
      "640.0\n",
      "334.62111249027885\n",
      "1011.1683780433227\n",
      "672.8947452668008\n",
      "-0.1738722249816613\n",
      "1234.9817125502339\n",
      "1289.4330122147298\n",
      "-0.1738722249816613\n"
     ]
    },
    {
     "name": "stderr",
     "output_type": "stream",
     "text": [
      "\r",
      "t:   9%|█████▋                                                            | 108/1260 [00:49<08:59,  2.13it/s, now=None]"
     ]
    },
    {
     "name": "stdout",
     "output_type": "stream",
     "text": [
      "720\n",
      "640.0\n",
      "334.7446044047581\n",
      "1015.2467252373908\n",
      "674.9956648210745\n",
      "-0.18497708548282213\n",
      "1219.5814175401058\n",
      "1710.7171015630058\n",
      "-0.18497708548282213\n"
     ]
    },
    {
     "name": "stderr",
     "output_type": "stream",
     "text": [
      "\r",
      "t:   9%|█████▋                                                            | 109/1260 [00:50<09:00,  2.13it/s, now=None]"
     ]
    },
    {
     "name": "stdout",
     "output_type": "stream",
     "text": [
      "720\n",
      "640.0\n",
      "337.55412006214874\n",
      "1015.251049754689\n",
      "676.4025849084189\n",
      "-0.19241366308735722\n",
      "1272.8345077816746\n",
      "1635.8794995641229\n",
      "-0.19241366308735722\n"
     ]
    },
    {
     "name": "stderr",
     "output_type": "stream",
     "text": [
      "\r",
      "t:   9%|█████▊                                                            | 110/1260 [00:50<08:47,  2.18it/s, now=None]"
     ]
    },
    {
     "name": "stdout",
     "output_type": "stream",
     "text": [
      "720\n",
      "640.0\n",
      "337.8743197157128\n",
      "985.5506955089492\n",
      "661.7125076123309\n",
      "-0.11476611166517767\n",
      "1241.9148986372313\n",
      "405.55910588049693\n",
      "-0.11476611166517767\n"
     ]
    },
    {
     "name": "stderr",
     "output_type": "stream",
     "text": [
      "\r",
      "t:   9%|█████▊                                                            | 111/1260 [00:51<09:25,  2.03it/s, now=None]"
     ]
    },
    {
     "name": "stdout",
     "output_type": "stream",
     "text": [
      "720\n",
      "640.0\n",
      "338.51627053162935\n",
      "977.8758163835488\n",
      "658.1960434575891\n",
      "-0.09617908684725666\n",
      "1277.2646407948957\n",
      "364.6274198636002\n",
      "-0.09617908684725666\n"
     ]
    },
    {
     "name": "stderr",
     "output_type": "stream",
     "text": [
      "\r",
      "t:   9%|█████▊                                                            | 112/1260 [00:52<10:08,  1.89it/s, now=None]"
     ]
    },
    {
     "name": "stdout",
     "output_type": "stream",
     "text": [
      "720\n",
      "640.0\n",
      "339.74377166615636\n",
      "975.6610539536136\n",
      "657.702412809885\n",
      "-0.09356989628082074\n",
      "1275.9564110831284\n",
      "518.6586255028569\n",
      "-0.09356989628082074\n"
     ]
    },
    {
     "name": "stderr",
     "output_type": "stream",
     "text": [
      "\r",
      "t:   9%|█████▉                                                            | 113/1260 [00:52<09:47,  1.95it/s, now=None]"
     ]
    },
    {
     "name": "stdout",
     "output_type": "stream",
     "text": [
      "720\n",
      "640.0\n",
      "336.97234857595987\n",
      "997.4414988958396\n",
      "667.2069237358997\n",
      "-0.1438080254611844\n",
      "1176.1607625418387\n",
      "682.1006423431556\n",
      "-0.1438080254611844\n"
     ]
    },
    {
     "name": "stderr",
     "output_type": "stream",
     "text": [
      "\r",
      "t:   9%|█████▉                                                            | 114/1260 [00:52<09:25,  2.03it/s, now=None]"
     ]
    },
    {
     "name": "stdout",
     "output_type": "stream",
     "text": [
      "720\n",
      "640.0\n",
      "337.4481571912854\n",
      "1015.1074717716735\n",
      "676.2778144814795\n",
      "-0.19175416225924868\n",
      "956.5913613143027\n",
      "1044.118691282268\n",
      "-0.19175416225924868\n"
     ]
    },
    {
     "name": "stderr",
     "output_type": "stream",
     "text": [
      "\r",
      "t:   9%|██████                                                            | 115/1260 [00:53<09:53,  1.93it/s, now=None]"
     ]
    },
    {
     "name": "stdout",
     "output_type": "stream",
     "text": [
      "720\n",
      "640.0\n",
      "341.27285124576224\n",
      "1007.2748594755953\n",
      "674.2738553606788\n",
      "-0.18116180690644507\n",
      "1132.9316244617871\n",
      "773.3185403868843\n",
      "-0.18116180690644507\n"
     ]
    },
    {
     "name": "stderr",
     "output_type": "stream",
     "text": [
      "\r",
      "t:   9%|██████                                                            | 116/1260 [00:53<09:19,  2.05it/s, now=None]"
     ]
    },
    {
     "name": "stdout",
     "output_type": "stream",
     "text": [
      "720\n",
      "640.0\n",
      "343.4901207160148\n",
      "1010.1031050061748\n",
      "676.7966128610948\n",
      "-0.19449638226578675\n",
      "1099.1623075161954\n",
      "759.691126242325\n",
      "-0.19449638226578675\n"
     ]
    },
    {
     "name": "stderr",
     "output_type": "stream",
     "text": [
      "\r",
      "t:   9%|██████▏                                                           | 117/1260 [00:54<08:32,  2.23it/s, now=None]"
     ]
    },
    {
     "name": "stdout",
     "output_type": "stream",
     "text": [
      "720\n",
      "640.0\n",
      "344.2149695429933\n",
      "1011.453035248231\n",
      "677.8340023956122\n",
      "-0.1999797269482358\n",
      "1083.0979069637813\n",
      "771.935959260167\n",
      "-0.1999797269482358\n"
     ]
    },
    {
     "name": "stderr",
     "output_type": "stream",
     "text": [
      "\r",
      "t:   9%|██████▏                                                           | 118/1260 [00:54<09:00,  2.11it/s, now=None]"
     ]
    },
    {
     "name": "stdout",
     "output_type": "stream",
     "text": [
      "720\n",
      "640.0\n",
      "342.77890885533907\n",
      "1021.3609369519871\n",
      "682.0699229036632\n",
      "-0.22236959249079097\n",
      "962.7376885038979\n",
      "1444.8487256402436\n",
      "-0.22236959249079097\n"
     ]
    },
    {
     "name": "stderr",
     "output_type": "stream",
     "text": [
      "\r",
      "t:   9%|██████▏                                                           | 119/1260 [00:55<08:57,  2.12it/s, now=None]"
     ]
    },
    {
     "name": "stdout",
     "output_type": "stream",
     "text": [
      "720\n",
      "640.0\n",
      "343.97688261124637\n",
      "1022.9331833096679\n",
      "683.4550329604572\n",
      "-0.22969088850527364\n",
      "993.6091036920907\n",
      "1361.8260765739467\n",
      "-0.22969088850527364\n"
     ]
    },
    {
     "name": "stderr",
     "output_type": "stream",
     "text": [
      "\r",
      "t:  10%|██████▎                                                           | 120/1260 [00:55<09:12,  2.06it/s, now=None]"
     ]
    },
    {
     "name": "stdout",
     "output_type": "stream",
     "text": [
      "720\n",
      "640.0\n",
      "344.97669883247045\n",
      "1022.4059929498858\n",
      "683.6913458911781\n",
      "-0.23093997113908435\n",
      "1007.1606877030669\n",
      "1431.0597418333118\n",
      "-0.23093997113908435\n"
     ]
    },
    {
     "name": "stderr",
     "output_type": "stream",
     "text": [
      "\r",
      "t:  10%|██████▎                                                           | 121/1260 [00:56<08:52,  2.14it/s, now=None]"
     ]
    },
    {
     "name": "stdout",
     "output_type": "stream",
     "text": [
      "720\n",
      "640.0\n",
      "345.809106301062\n",
      "1023.5477675654064\n",
      "684.6784369332343\n",
      "-0.23615745236138105\n",
      "911.0547400381286\n",
      "1450.4539223680458\n",
      "-0.23615745236138105\n"
     ]
    },
    {
     "name": "stderr",
     "output_type": "stream",
     "text": [
      "\r",
      "t:  10%|██████▍                                                           | 122/1260 [00:56<08:31,  2.23it/s, now=None]"
     ]
    },
    {
     "name": "stdout",
     "output_type": "stream",
     "text": [
      "720\n",
      "640.0\n",
      "346.4911828098541\n",
      "1003.5513875413699\n",
      "675.021285175612\n",
      "-0.18511250735680618\n",
      "879.8002899315267\n",
      "753.6021372276017\n",
      "-0.18511250735680618\n"
     ]
    },
    {
     "name": "stderr",
     "output_type": "stream",
     "text": [
      "\r",
      "t:  10%|██████▍                                                           | 123/1260 [00:57<08:17,  2.29it/s, now=None]"
     ]
    },
    {
     "name": "stdout",
     "output_type": "stream",
     "text": [
      "720\n",
      "640.0\n",
      "349.61617147655534\n",
      "987.8185819809751\n",
      "668.7173767287652\n",
      "-0.1517918484234732\n",
      "967.5840302083421\n",
      "512.3749786217819\n",
      "-0.1517918484234732\n"
     ]
    },
    {
     "name": "stderr",
     "output_type": "stream",
     "text": [
      "\r",
      "t:  10%|██████▍                                                           | 124/1260 [00:57<08:32,  2.22it/s, now=None]"
     ]
    },
    {
     "name": "stdout",
     "output_type": "stream",
     "text": [
      "720\n",
      "640.0\n",
      "351.753808836614\n",
      "992.2049250844415\n",
      "671.9793669605277\n",
      "-0.16903379679136085\n",
      "983.4024699743462\n",
      "530.6489189358\n",
      "-0.16903379679136085\n"
     ]
    },
    {
     "name": "stderr",
     "output_type": "stream",
     "text": [
      "\r",
      "t:  10%|██████▌                                                           | 125/1260 [00:58<08:33,  2.21it/s, now=None]"
     ]
    },
    {
     "name": "stdout",
     "output_type": "stream",
     "text": [
      "720\n",
      "640.0\n",
      "351.3141795517646\n",
      "1014.5450124765257\n",
      "682.9295960141451\n",
      "-0.22691357893190978\n",
      "924.7159331362934\n",
      "729.0413030461394\n",
      "-0.22691357893190978\n"
     ]
    },
    {
     "name": "stderr",
     "output_type": "stream",
     "text": [
      "\r",
      "t:  10%|██████▌                                                           | 126/1260 [00:58<08:58,  2.11it/s, now=None]"
     ]
    },
    {
     "name": "stdout",
     "output_type": "stream",
     "text": [
      "720\n",
      "640.0\n",
      "354.11748471341383\n",
      "1011.6816189595156\n",
      "682.8995518364648\n",
      "-0.22675477399274227\n",
      "1014.774725099478\n",
      "682.7428611125919\n",
      "-0.22675477399274227\n"
     ]
    },
    {
     "name": "stderr",
     "output_type": "stream",
     "text": [
      "\r",
      "t:  10%|██████▋                                                           | 127/1260 [00:58<08:42,  2.17it/s, now=None]"
     ]
    },
    {
     "name": "stdout",
     "output_type": "stream",
     "text": [
      "720\n",
      "640.0\n",
      "352.1196410483901\n",
      "1023.203788205104\n",
      "687.6617146267471\n",
      "-0.2519262058842346\n",
      "926.0723355412294\n",
      "821.7834347778637\n",
      "-0.2519262058842346\n"
     ]
    },
    {
     "name": "stderr",
     "output_type": "stream",
     "text": [
      "\r",
      "t:  10%|██████▋                                                           | 128/1260 [00:59<08:30,  2.22it/s, now=None]"
     ]
    },
    {
     "name": "stdout",
     "output_type": "stream",
     "text": [
      "720\n",
      "640.0\n",
      "352.0867289333618\n",
      "1029.9767873908622\n",
      "691.031758162112\n",
      "-0.2697392931425923\n",
      "810.5211000191616\n",
      "1026.6763348836262\n",
      "-0.2697392931425923\n"
     ]
    },
    {
     "name": "stderr",
     "output_type": "stream",
     "text": [
      "\r",
      "t:  10%|██████▊                                                           | 129/1260 [00:59<08:15,  2.28it/s, now=None]"
     ]
    },
    {
     "name": "stdout",
     "output_type": "stream",
     "text": [
      "720\n",
      "640.0\n",
      "356.42062983855567\n",
      "1030.6352404697232\n",
      "693.5279351541394\n",
      "-0.28293337152902265\n",
      "1145.0513419562137\n",
      "1002.4269124546277\n",
      "-0.28293337152902265\n"
     ]
    },
    {
     "name": "stderr",
     "output_type": "stream",
     "text": [
      "\r",
      "t:  10%|██████▊                                                           | 130/1260 [01:00<08:07,  2.32it/s, now=None]"
     ]
    },
    {
     "name": "stdout",
     "output_type": "stream",
     "text": [
      "720\n",
      "640.0\n",
      "356.2120189611724\n",
      "1032.7378414984216\n",
      "694.474930229797\n",
      "-0.287938916928927\n",
      "900.7747613509742\n",
      "1210.970934016056\n",
      "-0.287938916928927\n"
     ]
    },
    {
     "name": "stderr",
     "output_type": "stream",
     "text": [
      "\r",
      "t:  10%|██████▊                                                           | 131/1260 [01:00<08:10,  2.30it/s, now=None]"
     ]
    },
    {
     "name": "stdout",
     "output_type": "stream",
     "text": [
      "720\n",
      "640.0\n",
      "354.5684123244092\n",
      "1032.3519530909066\n",
      "693.4601827076579\n",
      "-0.2825752514547629\n",
      "829.5122830524001\n",
      "1371.2874789345692\n",
      "-0.2825752514547629\n"
     ]
    },
    {
     "name": "stderr",
     "output_type": "stream",
     "text": [
      "\r",
      "t:  10%|██████▉                                                           | 132/1260 [01:01<08:18,  2.26it/s, now=None]"
     ]
    },
    {
     "name": "stdout",
     "output_type": "stream",
     "text": [
      "720\n",
      "640.0\n",
      "354.9264292988154\n",
      "1033.3364097753254\n",
      "694.1314195370703\n",
      "-0.28612321755308595\n",
      "778.2300420307117\n",
      "1409.9147005875584\n",
      "-0.28612321755308595\n"
     ]
    },
    {
     "name": "stderr",
     "output_type": "stream",
     "text": [
      "\r",
      "t:  11%|██████▉                                                           | 133/1260 [01:01<08:15,  2.27it/s, now=None]"
     ]
    },
    {
     "name": "stdout",
     "output_type": "stream",
     "text": [
      "720\n",
      "640.0\n",
      "358.1668245744077\n",
      "1032.3100920037766\n",
      "695.2384582890921\n",
      "-0.291974708099487\n",
      "856.256754119072\n",
      "1093.3191646551927\n",
      "-0.291974708099487\n"
     ]
    },
    {
     "name": "stderr",
     "output_type": "stream",
     "text": [
      "\r",
      "t:  11%|███████                                                           | 134/1260 [01:02<08:30,  2.20it/s, now=None]"
     ]
    },
    {
     "name": "stdout",
     "output_type": "stream",
     "text": [
      "720\n",
      "640.0\n",
      "361.4493540868203\n",
      "1022.3862534474627\n",
      "691.9178037671414\n",
      "-0.2744226770548905\n",
      "1041.3483919943467\n",
      "891.5833931703277\n",
      "-0.2744226770548905\n"
     ]
    },
    {
     "name": "stderr",
     "output_type": "stream",
     "text": [
      "\r",
      "t:  11%|███████                                                           | 135/1260 [01:02<08:18,  2.26it/s, now=None]"
     ]
    },
    {
     "name": "stdout",
     "output_type": "stream",
     "text": [
      "720\n",
      "640.0\n",
      "364.80003597259275\n",
      "1000.392650039742\n",
      "682.5963430061673\n",
      "-0.22515209874688447\n",
      "1272.288394847209\n",
      "455.0448087687602\n",
      "-0.22515209874688447\n"
     ]
    },
    {
     "name": "stderr",
     "output_type": "stream",
     "text": [
      "\r",
      "t:  11%|███████                                                           | 136/1260 [01:02<08:15,  2.27it/s, now=None]"
     ]
    },
    {
     "name": "stdout",
     "output_type": "stream",
     "text": [
      "720\n",
      "640.0\n",
      "362.11212884913\n",
      "1017.1264197560779\n",
      "689.6192743026039\n",
      "-0.26227330702804924\n",
      "927.2939973847671\n",
      "711.8434099280988\n",
      "-0.26227330702804924\n"
     ]
    },
    {
     "name": "stderr",
     "output_type": "stream",
     "text": [
      "\r",
      "t:  11%|███████▏                                                          | 137/1260 [01:03<08:33,  2.19it/s, now=None]"
     ]
    },
    {
     "name": "stdout",
     "output_type": "stream",
     "text": [
      "720\n",
      "640.0\n",
      "364.9287389947688\n",
      "1000.5767324660546\n",
      "682.7527357304117\n",
      "-0.2259787460036047\n",
      "1006.2008035579657\n",
      "512.7440982635578\n",
      "-0.2259787460036047\n"
     ]
    },
    {
     "name": "stderr",
     "output_type": "stream",
     "text": [
      "\r",
      "t:  11%|███████▏                                                          | 138/1260 [01:03<08:26,  2.22it/s, now=None]"
     ]
    },
    {
     "name": "stdout",
     "output_type": "stream",
     "text": [
      "720\n",
      "640.0\n",
      "362.01969073275\n",
      "1006.4375840739399\n",
      "684.2286374033449\n",
      "-0.23377994056053744\n",
      "837.0134063862382\n",
      "541.5249207811114\n",
      "-0.23377994056053744\n"
     ]
    },
    {
     "name": "stderr",
     "output_type": "stream",
     "text": [
      "\r",
      "t:  11%|███████▎                                                          | 139/1260 [01:04<08:12,  2.28it/s, now=None]"
     ]
    },
    {
     "name": "stdout",
     "output_type": "stream",
     "text": [
      "720\n",
      "640.0\n",
      "364.61407705564926\n",
      "1023.1373767859767\n",
      "693.875726920813\n",
      "-0.28477169943858305\n",
      "1051.7044737805418\n",
      "719.0813759123972\n",
      "-0.28477169943858305\n"
     ]
    },
    {
     "name": "stderr",
     "output_type": "stream",
     "text": [
      "\r",
      "t:  11%|███████▎                                                          | 140/1260 [01:04<08:13,  2.27it/s, now=None]"
     ]
    },
    {
     "name": "stdout",
     "output_type": "stream",
     "text": [
      "720\n",
      "640.0\n",
      "364.17774959542567\n",
      "1010.3141687750388\n",
      "687.2459591852322\n",
      "-0.24972864140765597\n",
      "1043.9388619287079\n",
      "490.2994146608655\n",
      "-0.24972864140765597\n"
     ]
    },
    {
     "name": "stderr",
     "output_type": "stream",
     "text": [
      "\r",
      "t:  11%|███████▍                                                          | 141/1260 [01:05<07:59,  2.33it/s, now=None]"
     ]
    },
    {
     "name": "stdout",
     "output_type": "stream",
     "text": [
      "720\n",
      "640.0\n",
      "362.4869698612948\n",
      "1033.8955794915641\n",
      "698.1912746764294\n",
      "-0.307582451861127\n",
      "1046.4835601371437\n",
      "901.9594217286683\n",
      "-0.307582451861127\n"
     ]
    },
    {
     "name": "stderr",
     "output_type": "stream",
     "text": [
      "\r",
      "t:  11%|███████▍                                                          | 142/1260 [01:05<07:54,  2.36it/s, now=None]"
     ]
    },
    {
     "name": "stdout",
     "output_type": "stream",
     "text": [
      "720\n",
      "640.0\n",
      "361.85984806479263\n",
      "1046.0948738632746\n",
      "703.9773609640337\n",
      "-0.33816605080989226\n",
      "1009.3900207197673\n",
      "1963.09583705585\n",
      "-0.33816605080989226\n"
     ]
    },
    {
     "name": "stderr",
     "output_type": "stream",
     "text": [
      "\r",
      "t:  11%|███████▍                                                          | 143/1260 [01:05<08:02,  2.32it/s, now=None]"
     ]
    },
    {
     "name": "stdout",
     "output_type": "stream",
     "text": [
      "720\n",
      "640.0\n",
      "361.63922302346145\n",
      "1040.1196189503894\n",
      "700.8794209869254\n",
      "-0.3217912252166058\n",
      "1093.6987918672296\n",
      "1212.5688338163866\n",
      "-0.3217912252166058\n"
     ]
    },
    {
     "name": "stderr",
     "output_type": "stream",
     "text": [
      "\r",
      "t:  11%|███████▌                                                          | 144/1260 [01:06<07:44,  2.40it/s, now=None]"
     ]
    },
    {
     "name": "stdout",
     "output_type": "stream",
     "text": [
      "720\n",
      "640.0\n",
      "362.1749171825926\n",
      "1036.7495114546984\n",
      "699.4622143186455\n",
      "-0.3143002756842689\n",
      "1201.9161915042637\n",
      "954.5891898020844\n",
      "-0.3143002756842689\n"
     ]
    },
    {
     "name": "stderr",
     "output_type": "stream",
     "text": [
      "\r",
      "t:  12%|███████▌                                                          | 145/1260 [01:06<07:23,  2.52it/s, now=None]"
     ]
    },
    {
     "name": "stdout",
     "output_type": "stream",
     "text": [
      "720\n",
      "640.0\n",
      "363.3452676091914\n",
      "1040.7304556102056\n",
      "702.0378616096984\n",
      "-0.3279144113655489\n",
      "1540.1544833010153\n",
      "2381.350486754791\n",
      "-0.3279144113655489\n"
     ]
    },
    {
     "name": "stderr",
     "output_type": "stream",
     "text": [
      "\r",
      "t:  12%|███████▋                                                          | 146/1260 [01:07<07:45,  2.39it/s, now=None]"
     ]
    },
    {
     "name": "stdout",
     "output_type": "stream",
     "text": [
      "720\n",
      "640.0\n",
      "360.91828612626676\n",
      "1043.6832562707436\n",
      "702.3007711985052\n",
      "-0.32930407633495623\n",
      "1495.9629052525165\n",
      "2228.2878881335396\n",
      "-0.32930407633495623\n"
     ]
    },
    {
     "name": "stderr",
     "output_type": "stream",
     "text": [
      "\r",
      "t:  12%|███████▋                                                          | 147/1260 [01:07<07:56,  2.33it/s, now=None]"
     ]
    },
    {
     "name": "stdout",
     "output_type": "stream",
     "text": [
      "720\n",
      "640.0\n",
      "361.417579798246\n",
      "1051.927955415723\n",
      "706.6727676069845\n",
      "-0.3524132002083467\n",
      "1540.232191048716\n",
      "4452.586934522568\n",
      "-0.3524132002083467\n"
     ]
    },
    {
     "name": "stderr",
     "output_type": "stream",
     "text": [
      "\r",
      "t:  12%|███████▊                                                          | 148/1260 [01:08<07:57,  2.33it/s, now=None]"
     ]
    },
    {
     "name": "stdout",
     "output_type": "stream",
     "text": [
      "720\n",
      "640.0\n",
      "359.85218062066303\n",
      "985.5471733111917\n",
      "672.6996769659274\n",
      "-0.17284114967704503\n",
      "1442.2619806142663\n",
      "314.568978622699\n",
      "-0.17284114967704503\n"
     ]
    },
    {
     "name": "stderr",
     "output_type": "stream",
     "text": [
      "\r",
      "t:  12%|███████▊                                                          | 149/1260 [01:08<08:00,  2.31it/s, now=None]"
     ]
    },
    {
     "name": "stdout",
     "output_type": "stream",
     "text": [
      "720\n",
      "640.0\n",
      "361.57497753763977\n",
      "1001.7196672579009\n",
      "681.6473223977704\n",
      "-0.22013584695964344\n",
      "1336.3848224713147\n",
      "626.5914826148403\n",
      "-0.22013584695964344\n"
     ]
    },
    {
     "name": "stderr",
     "output_type": "stream",
     "text": [
      "\r",
      "t:  12%|███████▊                                                          | 150/1260 [01:08<08:15,  2.24it/s, now=None]"
     ]
    },
    {
     "name": "stdout",
     "output_type": "stream",
     "text": [
      "720\n",
      "640.0\n",
      "361.0419236066838\n",
      "996.2736394407353\n",
      "678.6577815237096\n",
      "-0.20433398805389338\n",
      "1243.5209724126746\n",
      "535.5663494698342\n",
      "-0.20433398805389338\n"
     ]
    },
    {
     "name": "stderr",
     "output_type": "stream",
     "text": [
      "\r",
      "t:  12%|███████▉                                                          | 151/1260 [01:09<08:03,  2.29it/s, now=None]"
     ]
    },
    {
     "name": "stdout",
     "output_type": "stream",
     "text": [
      "720\n",
      "640.0\n",
      "363.29830463977225\n",
      "1013.8095735843474\n",
      "688.5539391120599\n",
      "-0.2566422495923165\n",
      "1581.6453871644667\n",
      "718.3031624483814\n",
      "-0.2566422495923165\n"
     ]
    },
    {
     "name": "stderr",
     "output_type": "stream",
     "text": [
      "\r",
      "t:  12%|███████▉                                                          | 152/1260 [01:09<07:20,  2.52it/s, now=None]"
     ]
    },
    {
     "name": "stdout",
     "output_type": "stream",
     "text": [
      "720\n",
      "640.0\n",
      "362.50576679903753\n",
      "992.4762814569692\n",
      "677.4910241280033\n",
      "-0.19816684181944627\n",
      "1663.6393679779103\n",
      "447.00142597607385\n",
      "-0.19816684181944627\n"
     ]
    },
    {
     "name": "stderr",
     "output_type": "stream",
     "text": [
      "\r",
      "t:  12%|████████                                                          | 153/1260 [01:10<06:56,  2.66it/s, now=None]"
     ]
    },
    {
     "name": "stdout",
     "output_type": "stream",
     "text": [
      "720\n",
      "640.0\n",
      "360.8530998592098\n",
      "994.6970727413319\n",
      "677.7750863002709\n",
      "-0.19966831330143198\n",
      "1718.0319821375203\n",
      "424.56852982989795\n",
      "-0.19966831330143198\n"
     ]
    },
    {
     "name": "stderr",
     "output_type": "stream",
     "text": [
      "\r",
      "t:  12%|████████                                                          | 154/1260 [01:10<06:50,  2.70it/s, now=None]"
     ]
    },
    {
     "name": "stdout",
     "output_type": "stream",
     "text": [
      "720\n",
      "640.0\n",
      "362.1507312916674\n",
      "1021.0651030384515\n",
      "691.6079171650595\n",
      "-0.2727847050153143\n",
      "1939.7844326317054\n",
      "823.9150729999504\n",
      "-0.2727847050153143\n"
     ]
    },
    {
     "name": "stderr",
     "output_type": "stream",
     "text": [
      "\r",
      "t:  12%|████████                                                          | 155/1260 [01:10<07:21,  2.50it/s, now=None]"
     ]
    },
    {
     "name": "stdout",
     "output_type": "stream",
     "text": [
      "720\n",
      "640.0\n",
      "358.31624198079305\n",
      "1026.6938359665576\n",
      "692.5050389736753\n",
      "-0.27752663457514065\n",
      "1684.6872791463006\n",
      "806.4210255804546\n",
      "-0.27752663457514065\n"
     ]
    },
    {
     "name": "stderr",
     "output_type": "stream",
     "text": [
      "\r",
      "t:  12%|████████▏                                                         | 156/1260 [01:11<08:02,  2.29it/s, now=None]"
     ]
    },
    {
     "name": "stdout",
     "output_type": "stream",
     "text": [
      "720\n",
      "640.0\n",
      "355.3310527501977\n",
      "1034.883090230557\n",
      "695.1070714903774\n",
      "-0.2912802350205662\n",
      "1534.3326316882183\n",
      "1314.7202928661527\n",
      "-0.2912802350205662\n"
     ]
    },
    {
     "name": "stderr",
     "output_type": "stream",
     "text": [
      "\r",
      "t:  12%|████████▏                                                         | 157/1260 [01:11<08:15,  2.22it/s, now=None]"
     ]
    },
    {
     "name": "stdout",
     "output_type": "stream",
     "text": [
      "720\n",
      "640.0\n",
      "354.3738681223138\n",
      "1031.4536982041477\n",
      "692.9137831632307\n",
      "-0.27968713957707675\n",
      "1474.4469534378616\n",
      "1002.0877081405766\n",
      "-0.27968713957707675\n"
     ]
    },
    {
     "name": "stderr",
     "output_type": "stream",
     "text": [
      "\r",
      "t:  13%|████████▎                                                         | 158/1260 [01:12<07:39,  2.40it/s, now=None]"
     ]
    },
    {
     "name": "stdout",
     "output_type": "stream",
     "text": [
      "720\n",
      "640.0\n",
      "354.7131792693548\n",
      "1031.4928694399407\n",
      "693.1030243546477\n",
      "-0.28068741444599493\n",
      "1805.7093164977841\n",
      "1169.2347070445426\n",
      "-0.28068741444599493\n"
     ]
    },
    {
     "name": "stderr",
     "output_type": "stream",
     "text": [
      "\r",
      "t:  13%|████████▎                                                         | 159/1260 [01:12<07:34,  2.42it/s, now=None]"
     ]
    },
    {
     "name": "stdout",
     "output_type": "stream",
     "text": [
      "720\n",
      "640.0\n",
      "352.73923812786444\n",
      "1029.026752209693\n",
      "690.8829951687787\n",
      "-0.26895297446354477\n",
      "1568.382255005341\n",
      "1225.6909922299624\n",
      "-0.26895297446354477\n"
     ]
    },
    {
     "name": "stderr",
     "output_type": "stream",
     "text": [
      "\r",
      "t:  13%|████████▍                                                         | 160/1260 [01:12<07:23,  2.48it/s, now=None]"
     ]
    },
    {
     "name": "stdout",
     "output_type": "stream",
     "text": [
      "720\n",
      "640.0\n",
      "351.2024193413897\n",
      "972.8016355959815\n",
      "662.0020274686856\n",
      "-0.11629643090590952\n",
      "1665.2489357406496\n",
      "306.33890271511626\n",
      "-0.11629643090590952\n"
     ]
    },
    {
     "name": "stderr",
     "output_type": "stream",
     "text": [
      "\r",
      "t:  13%|████████▍                                                         | 161/1260 [01:13<06:43,  2.72it/s, now=None]"
     ]
    },
    {
     "name": "stdout",
     "output_type": "stream",
     "text": [
      "720\n",
      "640.0\n",
      "348.14057864910643\n",
      "978.0656360339412\n",
      "663.1031073415238\n",
      "-0.122116424519483\n",
      "1215.996152937436\n",
      "309.9498422494856\n",
      "-0.122116424519483\n"
     ]
    },
    {
     "name": "stderr",
     "output_type": "stream",
     "text": [
      "\r",
      "t:  13%|████████▍                                                         | 162/1260 [01:13<06:12,  2.95it/s, now=None]"
     ]
    },
    {
     "name": "stdout",
     "output_type": "stream",
     "text": [
      "720\n",
      "640.0\n",
      "346.1584995525702\n",
      "998.0265937857555\n",
      "672.0925466691629\n",
      "-0.16963203239414654\n",
      "1180.6247227983267\n",
      "538.3458652896329\n",
      "-0.16963203239414654\n"
     ]
    },
    {
     "name": "stderr",
     "output_type": "stream",
     "text": [
      "\r",
      "t:  13%|████████▌                                                         | 163/1260 [01:13<06:03,  3.02it/s, now=None]"
     ]
    },
    {
     "name": "stdout",
     "output_type": "stream",
     "text": [
      "720\n",
      "640.0\n",
      "346.380375807325\n",
      "1017.4526914562834\n",
      "681.9165336318042\n",
      "-0.22155882062525084\n",
      "1254.631924638699\n",
      "726.0941804751669\n",
      "-0.22155882062525084\n"
     ]
    },
    {
     "name": "stderr",
     "output_type": "stream",
     "text": [
      "\r",
      "t:  13%|████████▌                                                         | 164/1260 [01:14<06:42,  2.72it/s, now=None]"
     ]
    },
    {
     "name": "stdout",
     "output_type": "stream",
     "text": [
      "720\n",
      "640.0\n",
      "344.2271114116548\n",
      "1007.2818328982513\n",
      "675.7544721549531\n",
      "-0.18898792424760913\n",
      "1206.3944488860266\n",
      "556.8694231679046\n",
      "-0.18898792424760913\n"
     ]
    },
    {
     "name": "stderr",
     "output_type": "stream",
     "text": [
      "\r",
      "t:  13%|████████▋                                                         | 165/1260 [01:14<07:43,  2.36it/s, now=None]"
     ]
    },
    {
     "name": "stdout",
     "output_type": "stream",
     "text": [
      "720\n",
      "640.0\n",
      "343.14154713767425\n",
      "1030.399653317383\n",
      "686.7706002275286\n",
      "-0.24721602977407964\n",
      "1054.8922992406688\n",
      "1094.478600513367\n",
      "-0.24721602977407964\n"
     ]
    },
    {
     "name": "stderr",
     "output_type": "stream",
     "text": [
      "\r",
      "t:  13%|████████▋                                                         | 166/1260 [01:15<07:52,  2.31it/s, now=None]"
     ]
    },
    {
     "name": "stdout",
     "output_type": "stream",
     "text": [
      "720\n",
      "640.0\n",
      "344.0687056288856\n",
      "1012.9097817404514\n",
      "678.4892436846685\n",
      "-0.2034431451903907\n",
      "1118.273653321845\n",
      "575.1454358820919\n",
      "-0.2034431451903907\n"
     ]
    },
    {
     "name": "stderr",
     "output_type": "stream",
     "text": [
      "\r",
      "t:  13%|████████▋                                                         | 167/1260 [01:15<08:03,  2.26it/s, now=None]"
     ]
    },
    {
     "name": "stdout",
     "output_type": "stream",
     "text": [
      "720\n",
      "640.0\n",
      "342.9608838731986\n",
      "1027.4839408441574\n",
      "685.222412358678\n",
      "-0.23903275103872634\n",
      "965.0279345089383\n",
      "1118.4272586287907\n",
      "-0.23903275103872634\n"
     ]
    },
    {
     "name": "stderr",
     "output_type": "stream",
     "text": [
      "\r",
      "t:  13%|████████▊                                                         | 168/1260 [01:16<08:01,  2.27it/s, now=None]"
     ]
    },
    {
     "name": "stdout",
     "output_type": "stream",
     "text": [
      "720\n",
      "640.0\n",
      "340.2538262199445\n",
      "1027.1983837350097\n",
      "683.726104977477\n",
      "-0.23112369773809277\n",
      "867.7818185909339\n",
      "1171.5213552039927\n",
      "-0.23112369773809277\n"
     ]
    },
    {
     "name": "stderr",
     "output_type": "stream",
     "text": [
      "\r",
      "t:  13%|████████▊                                                         | 169/1260 [01:16<07:53,  2.30it/s, now=None]"
     ]
    },
    {
     "name": "stdout",
     "output_type": "stream",
     "text": [
      "720\n",
      "640.0\n",
      "342.18613812597283\n",
      "1033.7876993391255\n",
      "687.9869187325492\n",
      "-0.25364514187204557\n",
      "1012.1829187093964\n",
      "4127.899565788333\n",
      "-0.25364514187204557\n"
     ]
    },
    {
     "name": "stderr",
     "output_type": "stream",
     "text": [
      "\r",
      "t:  13%|████████▉                                                         | 170/1260 [01:17<08:08,  2.23it/s, now=None]"
     ]
    },
    {
     "name": "stdout",
     "output_type": "stream",
     "text": [
      "720\n",
      "640.0\n",
      "340.7991370651887\n",
      "1031.7340066907168\n",
      "686.2665718779527\n",
      "-0.24455187992632166\n",
      "956.1103330056533\n",
      "2200.6937478295354\n",
      "-0.24455187992632166\n"
     ]
    },
    {
     "name": "stderr",
     "output_type": "stream",
     "text": [
      "\r",
      "t:  14%|████████▉                                                         | 171/1260 [01:17<08:14,  2.20it/s, now=None]"
     ]
    },
    {
     "name": "stdout",
     "output_type": "stream",
     "text": [
      "720\n",
      "640.0\n",
      "338.730253661842\n",
      "1037.7705398773353\n",
      "688.2503967695886\n",
      "-0.2550378114963971\n",
      "958.9406651760933\n",
      "3529.4122274553624\n",
      "-0.2550378114963971\n"
     ]
    },
    {
     "name": "stderr",
     "output_type": "stream",
     "text": [
      "\r",
      "t:  14%|█████████                                                         | 172/1260 [01:18<08:08,  2.23it/s, now=None]"
     ]
    },
    {
     "name": "stdout",
     "output_type": "stream",
     "text": [
      "720\n",
      "640.0\n",
      "340.7454748642896\n",
      "996.8632106021068\n",
      "668.8043427331982\n",
      "-0.15225152587547597\n",
      "1200.5759032689848\n",
      "882.0006376384777\n",
      "-0.15225152587547597\n"
     ]
    },
    {
     "name": "stderr",
     "output_type": "stream",
     "text": [
      "\r",
      "t:  14%|█████████                                                         | 173/1260 [01:18<08:20,  2.17it/s, now=None]"
     ]
    },
    {
     "name": "stdout",
     "output_type": "stream",
     "text": [
      "720\n",
      "640.0\n",
      "340.47685433959566\n",
      "992.5515067420058\n",
      "666.5141805408007\n",
      "-0.14014638285851788\n",
      "1299.983372759628\n",
      "769.8953457133396\n",
      "-0.14014638285851788\n"
     ]
    },
    {
     "name": "stderr",
     "output_type": "stream",
     "text": [
      "\r",
      "t:  14%|█████████                                                         | 174/1260 [01:18<08:16,  2.19it/s, now=None]"
     ]
    },
    {
     "name": "stdout",
     "output_type": "stream",
     "text": [
      "720\n",
      "640.0\n",
      "340.5102479490829\n",
      "975.0260418256729\n",
      "657.768144887378\n",
      "-0.09391733726185492\n",
      "1408.0712195529823\n",
      "406.798513511569\n",
      "-0.09391733726185492\n"
     ]
    },
    {
     "name": "stderr",
     "output_type": "stream",
     "text": [
      "\r",
      "t:  14%|█████████▏                                                        | 175/1260 [01:19<08:06,  2.23it/s, now=None]"
     ]
    },
    {
     "name": "stdout",
     "output_type": "stream",
     "text": [
      "720\n",
      "640.0\n",
      "339.4826768911891\n",
      "965.7382709464637\n",
      "652.6104739188264\n",
      "-0.0666553621423682\n",
      "1395.316407376027\n",
      "266.1638999791145\n",
      "-0.0666553621423682\n"
     ]
    },
    {
     "name": "stderr",
     "output_type": "stream",
     "text": [
      "\r",
      "t:  14%|█████████▏                                                        | 176/1260 [01:19<08:02,  2.25it/s, now=None]"
     ]
    },
    {
     "name": "stdout",
     "output_type": "stream",
     "text": [
      "720\n",
      "640.0\n",
      "341.3416229634106\n",
      "990.3738960358438\n",
      "665.8577594996273\n",
      "-0.13667672878374412\n",
      "1590.8225173386804\n",
      "534.3427342782253\n",
      "-0.13667672878374412\n"
     ]
    },
    {
     "name": "stderr",
     "output_type": "stream",
     "text": [
      "\r",
      "t:  14%|█████████▎                                                        | 177/1260 [01:20<08:05,  2.23it/s, now=None]"
     ]
    },
    {
     "name": "stdout",
     "output_type": "stream",
     "text": [
      "720\n",
      "640.0\n",
      "340.1186496595657\n",
      "1000.631659137456\n",
      "670.3751543985109\n",
      "-0.16055438753498597\n",
      "1568.4009502486883\n",
      "601.1851818334463\n",
      "-0.16055438753498597\n"
     ]
    },
    {
     "name": "stderr",
     "output_type": "stream",
     "text": [
      "\r",
      "t:  14%|█████████▎                                                        | 178/1260 [01:20<07:55,  2.27it/s, now=None]"
     ]
    },
    {
     "name": "stdout",
     "output_type": "stream",
     "text": [
      "720\n",
      "640.0\n",
      "338.9582664295341\n",
      "1001.7060915256187\n",
      "670.3321789775764\n",
      "-0.16032723173861815\n",
      "1768.138910555907\n",
      "593.7513009146423\n",
      "-0.16032723173861815\n"
     ]
    },
    {
     "name": "stderr",
     "output_type": "stream",
     "text": [
      "\r",
      "t:  14%|█████████▍                                                        | 179/1260 [01:21<07:51,  2.29it/s, now=None]"
     ]
    },
    {
     "name": "stdout",
     "output_type": "stream",
     "text": [
      "720\n",
      "640.0\n",
      "339.68081805797385\n",
      "1013.986137695784\n",
      "676.833477876879\n",
      "-0.19469124020636036\n",
      "2393.3086573985165\n",
      "796.1014406922203\n",
      "-0.19469124020636036\n"
     ]
    },
    {
     "name": "stderr",
     "output_type": "stream",
     "text": [
      "\r",
      "t:  14%|█████████▍                                                        | 180/1260 [01:21<07:58,  2.26it/s, now=None]"
     ]
    },
    {
     "name": "stdout",
     "output_type": "stream",
     "text": [
      "720\n",
      "640.0\n",
      "337.1666661892775\n",
      "1015.5326968127787\n",
      "676.349681501028\n",
      "-0.19213403079114824\n",
      "1784.655217533523\n",
      "692.1832695705665\n",
      "-0.19213403079114824\n"
     ]
    },
    {
     "name": "stderr",
     "output_type": "stream",
     "text": [
      "\r",
      "t:  14%|█████████▍                                                        | 181/1260 [01:22<07:58,  2.25it/s, now=None]"
     ]
    },
    {
     "name": "stdout",
     "output_type": "stream",
     "text": [
      "720\n",
      "640.0\n",
      "336.21304749828846\n",
      "1021.4414683060352\n",
      "678.8272579021618\n",
      "-0.20522979176856962\n",
      "2037.6103028666962\n",
      "739.0565034853969\n",
      "-0.20522979176856962\n"
     ]
    },
    {
     "name": "stderr",
     "output_type": "stream",
     "text": [
      "\r",
      "t:  14%|█████████▌                                                        | 182/1260 [01:22<08:11,  2.19it/s, now=None]"
     ]
    },
    {
     "name": "stdout",
     "output_type": "stream",
     "text": [
      "720\n",
      "640.0\n",
      "333.7879390298339\n",
      "1025.0380599063942\n",
      "679.4129994681141\n",
      "-0.20832585433146023\n",
      "1484.7247194472625\n",
      "913.8897302570557\n",
      "-0.20832585433146023\n"
     ]
    },
    {
     "name": "stderr",
     "output_type": "stream",
     "text": [
      "\r",
      "t:  15%|█████████▌                                                        | 183/1260 [01:22<08:23,  2.14it/s, now=None]"
     ]
    },
    {
     "name": "stdout",
     "output_type": "stream",
     "text": [
      "720\n",
      "640.0\n",
      "330.186806479775\n",
      "1028.8008868531301\n",
      "679.4938466664526\n",
      "-0.2087531895226778\n",
      "1321.171150258166\n",
      "1015.8234947392262\n",
      "-0.2087531895226778\n"
     ]
    },
    {
     "name": "stderr",
     "output_type": "stream",
     "text": [
      "\r",
      "t:  15%|█████████▋                                                        | 184/1260 [01:23<08:19,  2.15it/s, now=None]"
     ]
    },
    {
     "name": "stdout",
     "output_type": "stream",
     "text": [
      "720\n",
      "640.0\n",
      "330.5254069034152\n",
      "1029.2908447732605\n",
      "679.9081258383378\n",
      "-0.21094295085978557\n",
      "1388.1931360606181\n",
      "1478.1430944598815\n",
      "-0.21094295085978557\n"
     ]
    },
    {
     "name": "stderr",
     "output_type": "stream",
     "text": [
      "\r",
      "t:  15%|█████████▋                                                        | 185/1260 [01:23<08:15,  2.17it/s, now=None]"
     ]
    },
    {
     "name": "stdout",
     "output_type": "stream",
     "text": [
      "720\n",
      "640.0\n",
      "328.4080310069771\n",
      "1001.3587424544318\n",
      "664.8833867307044\n",
      "-0.1315264727194375\n",
      "1149.045413557546\n",
      "485.0029427798427\n",
      "-0.1315264727194375\n"
     ]
    },
    {
     "name": "stderr",
     "output_type": "stream",
     "text": [
      "\r",
      "t:  15%|█████████▋                                                        | 186/1260 [01:24<07:59,  2.24it/s, now=None]"
     ]
    },
    {
     "name": "stdout",
     "output_type": "stream",
     "text": [
      "720\n",
      "640.0\n",
      "325.39259729822675\n",
      "999.5095368378767\n",
      "662.4510670680518\n",
      "-0.11866992593113079\n",
      "937.6232879203673\n",
      "482.26266563897514\n",
      "-0.11866992593113079\n"
     ]
    },
    {
     "name": "stderr",
     "output_type": "stream",
     "text": [
      "\r",
      "t:  15%|█████████▊                                                        | 187/1260 [01:24<07:52,  2.27it/s, now=None]"
     ]
    },
    {
     "name": "stdout",
     "output_type": "stream",
     "text": [
      "720\n",
      "640.0\n",
      "326.15889767065494\n",
      "1023.655579244998\n",
      "674.9072384578265\n",
      "-0.1845096889913684\n",
      "750.3460048964656\n",
      "684.0414794757223\n",
      "-0.1845096889913684\n"
     ]
    },
    {
     "name": "stderr",
     "output_type": "stream",
     "text": [
      "\r",
      "t:  15%|█████████▊                                                        | 188/1260 [01:25<07:48,  2.29it/s, now=None]"
     ]
    },
    {
     "name": "stdout",
     "output_type": "stream",
     "text": [
      "720\n",
      "640.0\n",
      "327.29258866524117\n",
      "1003.7776569982592\n",
      "665.5351228317502\n",
      "-0.134971363539251\n",
      "724.2867727104385\n",
      "447.17362406765716\n",
      "-0.134971363539251\n"
     ]
    },
    {
     "name": "stderr",
     "output_type": "stream",
     "text": [
      "\r",
      "t:  15%|█████████▉                                                        | 189/1260 [01:25<07:51,  2.27it/s, now=None]"
     ]
    },
    {
     "name": "stdout",
     "output_type": "stream",
     "text": [
      "720\n",
      "640.0\n",
      "329.5888011668536\n",
      "1015.8538916264964\n",
      "672.721346396675\n",
      "-0.1729556880967108\n",
      "692.3234951330447\n",
      "527.2529221464379\n",
      "-0.1729556880967108\n"
     ]
    },
    {
     "name": "stderr",
     "output_type": "stream",
     "text": [
      "\r",
      "t:  15%|█████████▉                                                        | 190/1260 [01:26<07:49,  2.28it/s, now=None]"
     ]
    },
    {
     "name": "stdout",
     "output_type": "stream",
     "text": [
      "720\n",
      "640.0\n",
      "331.1616412994212\n",
      "1033.4995557837865\n",
      "682.3305985416039\n",
      "-0.22374744943419192\n",
      "648.6738995787878\n",
      "876.0708294199394\n",
      "-0.22374744943419192\n"
     ]
    },
    {
     "name": "stderr",
     "output_type": "stream",
     "text": [
      "\r",
      "t:  15%|██████████                                                        | 191/1260 [01:26<07:45,  2.30it/s, now=None]"
     ]
    },
    {
     "name": "stdout",
     "output_type": "stream",
     "text": [
      "720\n",
      "640.0\n",
      "336.9406286275139\n",
      "1023.9405594361765\n",
      "680.4405940318452\n",
      "-0.21375742559689603\n",
      "698.1797824914347\n",
      "566.3883558180886\n",
      "-0.21375742559689603\n"
     ]
    },
    {
     "name": "stderr",
     "output_type": "stream",
     "text": [
      "\r",
      "t:  15%|██████████                                                        | 192/1260 [01:26<07:28,  2.38it/s, now=None]"
     ]
    },
    {
     "name": "stdout",
     "output_type": "stream",
     "text": [
      "720\n",
      "640.0\n",
      "339.85672146777466\n",
      "1026.2630138667705\n",
      "683.0598676672726\n",
      "-0.22760215766986924\n",
      "739.8149896596374\n",
      "673.8324674272269\n",
      "-0.22760215766986924\n"
     ]
    },
    {
     "name": "stderr",
     "output_type": "stream",
     "text": [
      "\r",
      "t:  15%|██████████                                                        | 193/1260 [01:27<07:25,  2.39it/s, now=None]"
     ]
    },
    {
     "name": "stdout",
     "output_type": "stream",
     "text": [
      "720\n",
      "640.0\n",
      "341.876991369064\n",
      "1031.7173018207475\n",
      "686.7971465949057\n",
      "-0.24735634628735878\n",
      "790.6201796799689\n",
      "927.3828387871854\n",
      "-0.24735634628735878\n"
     ]
    },
    {
     "name": "stderr",
     "output_type": "stream",
     "text": [
      "\r",
      "t:  15%|██████████▏                                                       | 194/1260 [01:27<07:27,  2.38it/s, now=None]"
     ]
    },
    {
     "name": "stdout",
     "output_type": "stream",
     "text": [
      "720\n",
      "640.0\n",
      "349.1086061724032\n",
      "1035.931877447132\n",
      "692.5202418097675\n",
      "-0.2776069924230569\n",
      "1075.6219972436695\n",
      "1312.0120469659516\n",
      "-0.2776069924230569\n"
     ]
    },
    {
     "name": "stderr",
     "output_type": "stream",
     "text": [
      "\r",
      "t:  15%|██████████▏                                                       | 195/1260 [01:28<07:24,  2.40it/s, now=None]"
     ]
    },
    {
     "name": "stdout",
     "output_type": "stream",
     "text": [
      "720\n",
      "640.0\n",
      "355.083736909962\n",
      "1034.6733631773536\n",
      "694.8785500436578\n",
      "-0.29007233594504844\n",
      "1857.2415639386857\n",
      "1522.0222082922414\n",
      "-0.29007233594504844\n"
     ]
    },
    {
     "name": "stderr",
     "output_type": "stream",
     "text": [
      "\r",
      "t:  16%|██████████▎                                                       | 196/1260 [01:28<07:25,  2.39it/s, now=None]"
     ]
    },
    {
     "name": "stdout",
     "output_type": "stream",
     "text": [
      "720\n",
      "640.0\n",
      "353.545552993162\n",
      "1016.3142432129863\n",
      "684.9298981030742\n",
      "-0.23748660425910623\n",
      "1375.9116796648607\n",
      "617.9192593340916\n",
      "-0.23748660425910623\n"
     ]
    },
    {
     "name": "stderr",
     "output_type": "stream",
     "text": [
      "\r",
      "t:  16%|██████████▎                                                       | 197/1260 [01:28<07:31,  2.36it/s, now=None]"
     ]
    },
    {
     "name": "stdout",
     "output_type": "stream",
     "text": [
      "720\n",
      "640.0\n",
      "351.9254773658895\n",
      "955.8499522984223\n",
      "653.8877148321559\n",
      "-0.07340649268425259\n",
      "1444.270782773824\n",
      "257.978971325167\n",
      "-0.07340649268425259\n"
     ]
    },
    {
     "name": "stderr",
     "output_type": "stream",
     "text": [
      "\r",
      "t:  16%|██████████▎                                                       | 198/1260 [01:29<07:39,  2.31it/s, now=None]"
     ]
    },
    {
     "name": "stdout",
     "output_type": "stream",
     "text": [
      "720\n",
      "640.0\n",
      "347.2466708060754\n",
      "1006.3204889295454\n",
      "676.7835798678104\n",
      "-0.194427493586998\n",
      "1165.7243702792346\n",
      "573.0067242772523\n",
      "-0.194427493586998\n"
     ]
    },
    {
     "name": "stderr",
     "output_type": "stream",
     "text": [
      "\r",
      "t:  16%|██████████▍                                                       | 199/1260 [01:29<07:39,  2.31it/s, now=None]"
     ]
    },
    {
     "name": "stdout",
     "output_type": "stream",
     "text": [
      "720\n",
      "640.0\n",
      "344.894138739627\n",
      "996.450823624994\n",
      "670.6724811823105\n",
      "-0.16212597196364148\n",
      "1291.4692450716288\n",
      "314.837597522344\n",
      "-0.16212597196364148\n"
     ]
    },
    {
     "name": "stderr",
     "output_type": "stream",
     "text": [
      "\r",
      "t:  16%|██████████▍                                                       | 200/1260 [01:30<07:39,  2.30it/s, now=None]"
     ]
    },
    {
     "name": "stdout",
     "output_type": "stream",
     "text": [
      "720\n",
      "640.0\n",
      "342.48573722999646\n",
      "1022.4958599252137\n",
      "682.4907985776051\n",
      "-0.22459422105305563\n",
      "1542.484720206037\n",
      "486.8225149932524\n",
      "-0.22459422105305563\n"
     ]
    },
    {
     "name": "stderr",
     "output_type": "stream",
     "text": [
      "\r",
      "t:  16%|██████████▌                                                       | 201/1260 [01:30<07:46,  2.27it/s, now=None]"
     ]
    },
    {
     "name": "stdout",
     "output_type": "stream",
     "text": [
      "720\n",
      "640.0\n",
      "340.12984442614885\n",
      "1024.883766919223\n",
      "682.5068056726859\n",
      "-0.22467882998419697\n",
      "1295.7176697693144\n",
      "831.7303816160714\n",
      "-0.22467882998419697\n"
     ]
    },
    {
     "name": "stderr",
     "output_type": "stream",
     "text": [
      "\r",
      "t:  16%|██████████▌                                                       | 202/1260 [01:31<07:39,  2.30it/s, now=None]"
     ]
    },
    {
     "name": "stdout",
     "output_type": "stream",
     "text": [
      "720\n",
      "640.0\n",
      "334.7206333955542\n",
      "1031.460348322989\n",
      "683.0904908592715\n",
      "-0.22776402311329244\n",
      "1020.2415602272481\n",
      "1024.5278427597107\n",
      "-0.22776402311329244\n"
     ]
    },
    {
     "name": "stderr",
     "output_type": "stream",
     "text": [
      "\r",
      "t:  16%|██████████▋                                                       | 203/1260 [01:31<07:36,  2.32it/s, now=None]"
     ]
    },
    {
     "name": "stdout",
     "output_type": "stream",
     "text": [
      "720\n",
      "640.0\n",
      "337.48475515150335\n",
      "1032.0292183601778\n",
      "684.7569867558406\n",
      "-0.23657264428087152\n",
      "1313.695127038536\n",
      "1100.8409021210812\n",
      "-0.23657264428087152\n"
     ]
    },
    {
     "name": "stderr",
     "output_type": "stream",
     "text": [
      "\r",
      "t:  16%|██████████▋                                                       | 204/1260 [01:32<07:33,  2.33it/s, now=None]"
     ]
    },
    {
     "name": "stdout",
     "output_type": "stream",
     "text": [
      "720\n",
      "640.0\n",
      "337.06899079699497\n",
      "1030.7210347142177\n",
      "683.8950127556063\n",
      "-0.2320164959939192\n",
      "1333.842671724974\n",
      "1024.437392874937\n",
      "-0.2320164959939192\n"
     ]
    },
    {
     "name": "stderr",
     "output_type": "stream",
     "text": [
      "\r",
      "t:  16%|██████████▋                                                       | 205/1260 [01:32<07:33,  2.32it/s, now=None]"
     ]
    },
    {
     "name": "stdout",
     "output_type": "stream",
     "text": [
      "720\n",
      "640.0\n",
      "336.1866166599804\n",
      "1034.0122758419766\n",
      "685.0994462509785\n",
      "-0.23838278732660081\n",
      "1451.5859704799116\n",
      "1329.8194540300535\n",
      "-0.23838278732660081\n"
     ]
    },
    {
     "name": "stderr",
     "output_type": "stream",
     "text": [
      "\r",
      "t:  16%|██████████▊                                                       | 206/1260 [01:32<07:34,  2.32it/s, now=None]"
     ]
    },
    {
     "name": "stdout",
     "output_type": "stream",
     "text": [
      "720\n",
      "640.0\n",
      "337.7327515032334\n",
      "1030.9237231885388\n",
      "684.3282373458861\n",
      "-0.2343063973996838\n",
      "1457.1859213553955\n",
      "1122.198327085747\n",
      "-0.2343063973996838\n"
     ]
    },
    {
     "name": "stderr",
     "output_type": "stream",
     "text": [
      "\r",
      "t:  16%|██████████▊                                                       | 207/1260 [01:33<07:33,  2.32it/s, now=None]"
     ]
    },
    {
     "name": "stdout",
     "output_type": "stream",
     "text": [
      "720\n",
      "640.0\n",
      "333.45119386401245\n",
      "1032.954047310231\n",
      "683.2026205871218\n",
      "-0.22835670881764397\n",
      "1103.4516976994776\n",
      "2443.1632273704154\n",
      "-0.22835670881764397\n"
     ]
    },
    {
     "name": "stderr",
     "output_type": "stream",
     "text": [
      "\r",
      "t:  17%|██████████▉                                                       | 208/1260 [01:33<07:33,  2.32it/s, now=None]"
     ]
    },
    {
     "name": "stdout",
     "output_type": "stream",
     "text": [
      "720\n",
      "640.0\n",
      "340.52918014642864\n",
      "1028.7128161804858\n",
      "684.6209981634572\n",
      "-0.23585384743541674\n",
      "1834.9851811254678\n",
      "1180.2700255964246\n",
      "-0.23585384743541674\n"
     ]
    },
    {
     "name": "stderr",
     "output_type": "stream",
     "text": [
      "\r",
      "t:  17%|██████████▉                                                       | 209/1260 [01:34<07:39,  2.29it/s, now=None]"
     ]
    },
    {
     "name": "stdout",
     "output_type": "stream",
     "text": [
      "720\n",
      "640.0\n",
      "339.5248349283075\n",
      "972.493204722403\n",
      "656.0090198253553\n",
      "-0.08461910479116355\n",
      "1464.499898594622\n",
      "406.34701712897004\n",
      "-0.08461910479116355\n"
     ]
    },
    {
     "name": "stderr",
     "output_type": "stream",
     "text": [
      "\r",
      "t:  17%|███████████                                                       | 210/1260 [01:34<07:41,  2.28it/s, now=None]"
     ]
    },
    {
     "name": "stdout",
     "output_type": "stream",
     "text": [
      "720\n",
      "640.0\n",
      "341.0839769449843\n",
      "966.919253092047\n",
      "654.0016150185156\n",
      "-0.07400853652643972\n",
      "1927.891786701925\n",
      "387.65373584938294\n",
      "-0.07400853652643972\n"
     ]
    },
    {
     "name": "stderr",
     "output_type": "stream",
     "text": [
      "\r",
      "t:  17%|███████████                                                       | 211/1260 [01:35<07:42,  2.27it/s, now=None]"
     ]
    },
    {
     "name": "stdout",
     "output_type": "stream",
     "text": [
      "720\n",
      "640.0\n",
      "340.0522104608998\n",
      "990.9332423648716\n",
      "665.4927264128858\n",
      "-0.13474726818239616\n",
      "1538.3517632009498\n",
      "505.1164116641467\n",
      "-0.13474726818239616\n"
     ]
    },
    {
     "name": "stderr",
     "output_type": "stream",
     "text": [
      "\r",
      "t:  17%|███████████                                                       | 212/1260 [01:35<07:44,  2.26it/s, now=None]"
     ]
    },
    {
     "name": "stdout",
     "output_type": "stream",
     "text": [
      "720\n",
      "640.0\n",
      "334.021620991045\n",
      "1010.2166693988154\n",
      "672.1191451949302\n",
      "-0.16977262460177384\n",
      "1162.635804619308\n",
      "677.9872381193936\n",
      "-0.16977262460177384\n"
     ]
    },
    {
     "name": "stderr",
     "output_type": "stream",
     "text": [
      "\r",
      "t:  17%|███████████▏                                                      | 213/1260 [01:35<07:47,  2.24it/s, now=None]"
     ]
    },
    {
     "name": "stdout",
     "output_type": "stream",
     "text": [
      "720\n",
      "640.0\n",
      "334.9604487715848\n",
      "1018.9574404913254\n",
      "676.9589446314551\n",
      "-0.19535442162340552\n",
      "1125.6962491643264\n",
      "808.3814059202458\n",
      "-0.19535442162340552\n"
     ]
    },
    {
     "name": "stderr",
     "output_type": "stream",
     "text": [
      "\r",
      "t:  17%|███████████▏                                                      | 214/1260 [01:36<07:46,  2.24it/s, now=None]"
     ]
    },
    {
     "name": "stdout",
     "output_type": "stream",
     "text": [
      "720\n",
      "640.0\n",
      "333.1822236362077\n",
      "1010.5043530489895\n",
      "671.8432883425986\n",
      "-0.16831452409659267\n",
      "1019.9067224663085\n",
      "573.9699233262049\n",
      "-0.16831452409659267\n"
     ]
    },
    {
     "name": "stderr",
     "output_type": "stream",
     "text": [
      "\r",
      "t:  17%|███████████▎                                                      | 215/1260 [01:36<07:18,  2.38it/s, now=None]"
     ]
    },
    {
     "name": "stdout",
     "output_type": "stream",
     "text": [
      "720\n",
      "640.0\n",
      "331.7852218706206\n",
      "1020.4119925777918\n",
      "676.0986072242063\n",
      "-0.19080692389937595\n",
      "903.2700902153404\n",
      "725.8047681649597\n",
      "-0.19080692389937595\n"
     ]
    },
    {
     "name": "stderr",
     "output_type": "stream",
     "text": [
      "\r",
      "t:  17%|███████████▎                                                      | 216/1260 [01:37<07:22,  2.36it/s, now=None]"
     ]
    },
    {
     "name": "stdout",
     "output_type": "stream",
     "text": [
      "720\n",
      "640.0\n",
      "330.428207332818\n",
      "1023.2051958268707\n",
      "676.8167015798443\n",
      "-0.19460256549346291\n",
      "857.6994940897931\n",
      "872.635474781942\n",
      "-0.19460256549346291\n"
     ]
    },
    {
     "name": "stderr",
     "output_type": "stream",
     "text": [
      "\r",
      "t:  17%|███████████▎                                                      | 217/1260 [01:37<07:40,  2.27it/s, now=None]"
     ]
    },
    {
     "name": "stdout",
     "output_type": "stream",
     "text": [
      "720\n",
      "640.0\n",
      "329.1317723662207\n",
      "1028.514078303738\n",
      "678.8229253349793\n",
      "-0.2052068910563194\n",
      "867.8690583815844\n",
      "1370.4282843018468\n",
      "-0.2052068910563194\n"
     ]
    },
    {
     "name": "stderr",
     "output_type": "stream",
     "text": [
      "\r",
      "t:  17%|███████████▍                                                      | 218/1260 [01:38<07:52,  2.21it/s, now=None]"
     ]
    },
    {
     "name": "stdout",
     "output_type": "stream",
     "text": [
      "720\n",
      "640.0\n",
      "329.3532250323964\n",
      "1026.0280717290216\n",
      "677.690648380709\n",
      "-0.19922199858374776\n",
      "842.4946165111235\n",
      "1197.9356458872142\n",
      "-0.19922199858374776\n"
     ]
    },
    {
     "name": "stderr",
     "output_type": "stream",
     "text": [
      "\r",
      "t:  17%|███████████▍                                                      | 219/1260 [01:38<07:46,  2.23it/s, now=None]"
     ]
    },
    {
     "name": "stdout",
     "output_type": "stream",
     "text": [
      "720\n",
      "640.0\n",
      "326.09094101145354\n",
      "1026.7340502068096\n",
      "676.4124956091316\n",
      "-0.19246604821969568\n",
      "740.8994216139813\n",
      "1163.6288833447418\n",
      "-0.19246604821969568\n"
     ]
    },
    {
     "name": "stderr",
     "output_type": "stream",
     "text": [
      "\r",
      "t:  17%|███████████▌                                                      | 220/1260 [01:39<07:43,  2.24it/s, now=None]"
     ]
    },
    {
     "name": "stdout",
     "output_type": "stream",
     "text": [
      "720\n",
      "640.0\n",
      "329.8741867914761\n",
      "1025.2275837445775\n",
      "677.5508852680268\n",
      "-0.19848325070242756\n",
      "872.0832046040509\n",
      "1430.3263869771\n",
      "-0.19848325070242756\n"
     ]
    },
    {
     "name": "stderr",
     "output_type": "stream",
     "text": [
      "\r",
      "t:  18%|███████████▌                                                      | 221/1260 [01:39<07:51,  2.20it/s, now=None]"
     ]
    },
    {
     "name": "stdout",
     "output_type": "stream",
     "text": [
      "720\n",
      "640.0\n",
      "330.17278593357366\n",
      "1025.8962430678816\n",
      "678.0345145007277\n",
      "-0.2010395766467036\n",
      "957.104138774888\n",
      "1875.4623077205906\n",
      "-0.2010395766467036\n"
     ]
    },
    {
     "name": "stderr",
     "output_type": "stream",
     "text": [
      "\r",
      "t:  18%|███████████▋                                                      | 222/1260 [01:40<08:10,  2.11it/s, now=None]"
     ]
    },
    {
     "name": "stdout",
     "output_type": "stream",
     "text": [
      "720\n",
      "640.0\n",
      "334.10324775287063\n",
      "942.5636840940354\n",
      "638.333465923453\n",
      "0.008808822976034192\n",
      "1253.998354344584\n",
      "235.61507932958816\n",
      "0.008808822976034192\n"
     ]
    },
    {
     "name": "stderr",
     "output_type": "stream",
     "text": [
      "\r",
      "t:  18%|███████████▋                                                      | 223/1260 [01:40<08:15,  2.09it/s, now=None]"
     ]
    },
    {
     "name": "stdout",
     "output_type": "stream",
     "text": [
      "720\n",
      "640.0\n",
      "333.40628373373016\n",
      "986.0427602989928\n",
      "659.7245220163614\n",
      "-0.10425818780076766\n",
      "1066.0689501226593\n",
      "600.4947080053204\n",
      "-0.10425818780076766\n"
     ]
    },
    {
     "name": "stderr",
     "output_type": "stream",
     "text": [
      "\r",
      "t:  18%|███████████▋                                                      | 224/1260 [01:41<08:11,  2.11it/s, now=None]"
     ]
    },
    {
     "name": "stdout",
     "output_type": "stream",
     "text": [
      "720\n",
      "640.0\n",
      "333.22292176563957\n",
      "979.0059397824879\n",
      "656.1144307740637\n",
      "-0.08517627694862268\n",
      "1076.9646318642008\n",
      "519.7769716113702\n",
      "-0.08517627694862268\n"
     ]
    },
    {
     "name": "stderr",
     "output_type": "stream",
     "text": [
      "\r",
      "t:  18%|███████████▊                                                      | 225/1260 [01:41<08:02,  2.14it/s, now=None]"
     ]
    },
    {
     "name": "stdout",
     "output_type": "stream",
     "text": [
      "720\n",
      "640.0\n",
      "336.15467529902446\n",
      "991.1285400430332\n",
      "663.6416076710289\n",
      "-0.12496278340400964\n",
      "1160.811951069409\n",
      "608.259795341351\n",
      "-0.12496278340400964\n"
     ]
    },
    {
     "name": "stderr",
     "output_type": "stream",
     "text": [
      "\r",
      "t:  18%|███████████▊                                                      | 226/1260 [01:41<07:52,  2.19it/s, now=None]"
     ]
    },
    {
     "name": "stdout",
     "output_type": "stream",
     "text": [
      "720\n",
      "640.0\n",
      "336.7524700675481\n",
      "1004.3689727041974\n",
      "670.5607213858727\n",
      "-0.16153524161104163\n",
      "1395.6915604230614\n",
      "791.1733793242103\n",
      "-0.16153524161104163\n"
     ]
    },
    {
     "name": "stderr",
     "output_type": "stream",
     "text": [
      "\r",
      "t:  18%|███████████▉                                                      | 227/1260 [01:42<08:04,  2.13it/s, now=None]"
     ]
    },
    {
     "name": "stdout",
     "output_type": "stream",
     "text": [
      "720\n",
      "640.0\n",
      "335.78775355407527\n",
      "1016.2844143167719\n",
      "676.0360839354236\n",
      "-0.19047644365866742\n",
      "1213.115518179313\n",
      "1556.2986630953542\n",
      "-0.19047644365866742\n"
     ]
    },
    {
     "name": "stderr",
     "output_type": "stream",
     "text": [
      "\r",
      "t:  18%|███████████▉                                                      | 228/1260 [01:42<07:52,  2.19it/s, now=None]"
     ]
    },
    {
     "name": "stdout",
     "output_type": "stream",
     "text": [
      "720\n",
      "640.0\n",
      "331.7812844401003\n",
      "1020.5513534016857\n",
      "676.166318920893\n",
      "-0.19116482858186296\n",
      "1065.940035277208\n",
      "4401.816828758441\n",
      "-0.19116482858186296\n"
     ]
    },
    {
     "name": "stderr",
     "output_type": "stream",
     "text": [
      "\r",
      "t:  18%|███████████▉                                                      | 229/1260 [01:43<07:58,  2.15it/s, now=None]"
     ]
    },
    {
     "name": "stdout",
     "output_type": "stream",
     "text": [
      "720\n",
      "640.0\n",
      "332.41092352531484\n",
      "1019.1710434876024\n",
      "675.7909835064586\n",
      "-0.18918091281985255\n",
      "1388.8167194257064\n",
      "4222.421473251726\n",
      "-0.18918091281985255\n"
     ]
    },
    {
     "name": "stderr",
     "output_type": "stream",
     "text": [
      "\r",
      "t:  18%|████████████                                                      | 230/1260 [01:43<07:45,  2.21it/s, now=None]"
     ]
    },
    {
     "name": "stdout",
     "output_type": "stream",
     "text": [
      "720\n",
      "640.0\n",
      "329.41746279361485\n",
      "1015.905693161365\n",
      "672.66157797749\n",
      "-0.17263976930958985\n",
      "1153.5276703050588\n",
      "121377.24087476496\n",
      "-0.17263976930958985\n"
     ]
    },
    {
     "name": "stderr",
     "output_type": "stream",
     "text": [
      "\r",
      "t:  18%|████████████                                                      | 231/1260 [01:44<08:08,  2.11it/s, now=None]"
     ]
    },
    {
     "name": "stdout",
     "output_type": "stream",
     "text": [
      "720\n",
      "640.0\n",
      "325.9914548671873\n",
      "1013.6458800351111\n",
      "669.8186674511492\n",
      "-0.15761295652750276\n",
      "1110.3625799275194\n",
      "7988.891514146287\n",
      "-0.15761295652750276\n"
     ]
    },
    {
     "name": "stderr",
     "output_type": "stream",
     "text": [
      "\r",
      "t:  18%|████████████▏                                                     | 232/1260 [01:44<07:46,  2.20it/s, now=None]"
     ]
    },
    {
     "name": "stdout",
     "output_type": "stream",
     "text": [
      "720\n",
      "640.0\n",
      "326.6640863283827\n",
      "1007.956216602959\n",
      "667.3101514656709\n",
      "-0.1443536577471174\n",
      "1243.033688130836\n",
      "2874.2393283086403\n",
      "-0.1443536577471174\n"
     ]
    },
    {
     "name": "stderr",
     "output_type": "stream",
     "text": [
      "\r",
      "t:  18%|████████████▏                                                     | 233/1260 [01:45<07:28,  2.29it/s, now=None]"
     ]
    },
    {
     "name": "stdout",
     "output_type": "stream",
     "text": [
      "720\n",
      "640.0\n",
      "323.8176078896004\n",
      "1001.5587238450502\n",
      "662.6881658673253\n",
      "-0.11992316244157672\n",
      "1406.8379523413134\n",
      "1258.2111255106154\n",
      "-0.11992316244157672\n"
     ]
    },
    {
     "name": "stderr",
     "output_type": "stream",
     "text": [
      "\r",
      "t:  19%|████████████▎                                                     | 234/1260 [01:45<07:25,  2.31it/s, now=None]"
     ]
    },
    {
     "name": "stdout",
     "output_type": "stream",
     "text": [
      "720\n",
      "640.0\n",
      "323.66488745568944\n",
      "933.3402314640012\n",
      "628.5025594598453\n",
      "0.06077218571224619\n",
      "1571.0899338129418\n",
      "297.12268276402165\n",
      "0.06077218571224619\n"
     ]
    },
    {
     "name": "stderr",
     "output_type": "stream",
     "text": [
      "\r",
      "t:  19%|████████████▎                                                     | 235/1260 [01:45<07:33,  2.26it/s, now=None]"
     ]
    },
    {
     "name": "stdout",
     "output_type": "stream",
     "text": [
      "720\n",
      "640.0\n",
      "323.0296170231933\n",
      "942.7673208751728\n",
      "632.8984689491831\n",
      "0.03753666412574649\n",
      "1582.6327524978599\n",
      "253.96969890975396\n",
      "0.03753666412574649\n"
     ]
    },
    {
     "name": "stderr",
     "output_type": "stream",
     "text": [
      "\r",
      "t:  19%|████████████▎                                                     | 236/1260 [01:46<07:48,  2.18it/s, now=None]"
     ]
    },
    {
     "name": "stdout",
     "output_type": "stream",
     "text": [
      "720\n",
      "640.0\n",
      "321.83516463817637\n",
      "952.5814089716279\n",
      "637.2082868049022\n",
      "0.014756198316945659\n",
      "1861.858683068163\n",
      "468.3364049583082\n",
      "0.014756198316945659\n"
     ]
    },
    {
     "name": "stderr",
     "output_type": "stream",
     "text": [
      "\r",
      "t:  19%|████████████▍                                                     | 237/1260 [01:46<07:31,  2.27it/s, now=None]"
     ]
    },
    {
     "name": "stdout",
     "output_type": "stream",
     "text": [
      "720\n",
      "640.0\n",
      "323.3586946761381\n",
      "967.0749916739653\n",
      "645.2168431750517\n",
      "-0.027574742496702033\n",
      "1937.8519244685647\n",
      "518.8953205605143\n",
      "-0.027574742496702033\n"
     ]
    },
    {
     "name": "stderr",
     "output_type": "stream",
     "text": [
      "\r",
      "t:  19%|████████████▍                                                     | 238/1260 [01:47<07:27,  2.28it/s, now=None]"
     ]
    },
    {
     "name": "stdout",
     "output_type": "stream",
     "text": [
      "720\n",
      "640.0\n",
      "322.206063706453\n",
      "971.5396237123198\n",
      "646.8728437093864\n",
      "-0.036327888178185344\n",
      "2217.6310356360646\n",
      "496.0475243271611\n",
      "-0.036327888178185344\n"
     ]
    },
    {
     "name": "stderr",
     "output_type": "stream",
     "text": [
      "\r",
      "t:  19%|████████████▌                                                     | 239/1260 [01:47<07:19,  2.32it/s, now=None]"
     ]
    },
    {
     "name": "stdout",
     "output_type": "stream",
     "text": [
      "720\n",
      "640.0\n",
      "320.45497025947674\n",
      "997.2420910650449\n",
      "658.8485306622608\n",
      "-0.09962794778623581\n",
      "1944.8042285852632\n",
      "969.21180681807\n",
      "-0.09962794778623581\n"
     ]
    },
    {
     "name": "stderr",
     "output_type": "stream",
     "text": [
      "\r",
      "t:  19%|████████████▌                                                     | 240/1260 [01:48<07:47,  2.18it/s, now=None]"
     ]
    },
    {
     "name": "stdout",
     "output_type": "stream",
     "text": [
      "720\n",
      "640.0\n",
      "318.9820075001848\n",
      "986.0862087082763\n",
      "652.5341081042305\n",
      "-0.06625171426521857\n",
      "2080.380505471206\n",
      "607.2312168783848\n",
      "-0.06625171426521857\n"
     ]
    },
    {
     "name": "stderr",
     "output_type": "stream",
     "text": [
      "\r",
      "t:  19%|████████████▌                                                     | 241/1260 [01:48<07:47,  2.18it/s, now=None]"
     ]
    },
    {
     "name": "stdout",
     "output_type": "stream",
     "text": [
      "720\n",
      "640.0\n",
      "314.36280810987444\n",
      "994.3394888891628\n",
      "654.3511484995186\n",
      "-0.07585607064031238\n",
      "1631.4749747988744\n",
      "799.2766302929249\n",
      "-0.07585607064031238\n"
     ]
    },
    {
     "name": "stderr",
     "output_type": "stream",
     "text": [
      "\r",
      "t:  19%|████████████▋                                                     | 242/1260 [01:49<07:54,  2.14it/s, now=None]"
     ]
    },
    {
     "name": "stdout",
     "output_type": "stream",
     "text": [
      "720\n",
      "640.0\n",
      "312.47137087881504\n",
      "997.4018265880773\n",
      "654.9365987334461\n",
      "-0.0789505933053579\n",
      "1595.9842777845565\n",
      "1323.7142196622344\n",
      "-0.0789505933053579\n"
     ]
    },
    {
     "name": "stderr",
     "output_type": "stream",
     "text": [
      "\r",
      "t:  19%|████████████▋                                                     | 243/1260 [01:49<07:42,  2.20it/s, now=None]"
     ]
    },
    {
     "name": "stdout",
     "output_type": "stream",
     "text": [
      "720\n",
      "640.0\n",
      "308.65248382588874\n",
      "1000.3380071295608\n",
      "654.4952454777248\n",
      "-0.07661772609654527\n",
      "1551.1980738279954\n",
      "1853.2912365945401\n",
      "-0.07661772609654527\n"
     ]
    },
    {
     "name": "stderr",
     "output_type": "stream",
     "text": [
      "\r",
      "t:  19%|████████████▊                                                     | 244/1260 [01:50<07:40,  2.21it/s, now=None]"
     ]
    },
    {
     "name": "stdout",
     "output_type": "stream",
     "text": [
      "720\n",
      "640.0\n",
      "307.81319595410423\n",
      "1000.6479237880668\n",
      "654.2305598710855\n",
      "-0.07521867360430887\n",
      "1478.3327642378194\n",
      "3133.487856309909\n",
      "-0.07521867360430887\n"
     ]
    },
    {
     "name": "stderr",
     "output_type": "stream",
     "text": [
      "\r",
      "t:  19%|████████████▊                                                     | 245/1260 [01:50<07:51,  2.15it/s, now=None]"
     ]
    },
    {
     "name": "stdout",
     "output_type": "stream",
     "text": [
      "720\n",
      "640.0\n",
      "306.87757328160427\n",
      "998.2813596084826\n",
      "652.5794664450434\n",
      "-0.06649146549522944\n",
      "1491.388987412445\n",
      "35799.10940779192\n",
      "-0.06649146549522944\n"
     ]
    },
    {
     "name": "stderr",
     "output_type": "stream",
     "text": [
      "\r",
      "t:  20%|████████████▉                                                     | 246/1260 [01:50<07:38,  2.21it/s, now=None]"
     ]
    },
    {
     "name": "stdout",
     "output_type": "stream",
     "text": [
      "720\n",
      "640.0\n",
      "303.3714351727284\n",
      "914.469882791861\n",
      "608.9206589822948\n",
      "0.1642765168078706\n",
      "1175.9143818170694\n",
      "277.8899606265638\n",
      "0.1642765168078706\n"
     ]
    },
    {
     "name": "stderr",
     "output_type": "stream",
     "text": [
      "\r",
      "t:  20%|████████████▉                                                     | 247/1260 [01:51<07:34,  2.23it/s, now=None]"
     ]
    },
    {
     "name": "stdout",
     "output_type": "stream",
     "text": [
      "720\n",
      "640.0\n",
      "302.8783165857007\n",
      "922.7026760604494\n",
      "612.7904963230751\n",
      "0.14382166229231733\n",
      "1109.0818329480176\n",
      "355.42573722887164\n",
      "0.14382166229231733\n"
     ]
    },
    {
     "name": "stderr",
     "output_type": "stream",
     "text": [
      "\r",
      "t:  20%|████████████▉                                                     | 248/1260 [01:51<07:49,  2.16it/s, now=None]"
     ]
    },
    {
     "name": "stdout",
     "output_type": "stream",
     "text": [
      "720\n",
      "640.0\n",
      "301.84429419083517\n",
      "938.369494057401\n",
      "620.1068941241181\n",
      "0.10514927391537592\n",
      "1094.0248058575628\n",
      "409.63177877113725\n",
      "0.10514927391537592\n"
     ]
    },
    {
     "name": "stderr",
     "output_type": "stream",
     "text": [
      "\r",
      "t:  20%|█████████████                                                     | 249/1260 [01:52<07:55,  2.13it/s, now=None]"
     ]
    },
    {
     "name": "stdout",
     "output_type": "stream",
     "text": [
      "720\n",
      "640.0\n",
      "303.9050265064194\n",
      "948.8514249126927\n",
      "626.3782257095561\n",
      "0.07200080696377495\n",
      "1037.0062084173042\n",
      "433.8227736398193\n",
      "0.07200080696377495\n"
     ]
    },
    {
     "name": "stderr",
     "output_type": "stream",
     "text": [
      "\r",
      "t:  20%|█████████████                                                     | 250/1260 [01:52<07:50,  2.15it/s, now=None]"
     ]
    },
    {
     "name": "stdout",
     "output_type": "stream",
     "text": [
      "720\n",
      "640.0\n",
      "302.50122381237986\n",
      "946.4639771192681\n",
      "624.4826004658239\n",
      "0.08202054039493079\n",
      "1053.074478249081\n",
      "389.3759174199295\n",
      "0.08202054039493079\n"
     ]
    },
    {
     "name": "stderr",
     "output_type": "stream",
     "text": [
      "\r",
      "t:  20%|█████████████▏                                                    | 251/1260 [01:53<07:42,  2.18it/s, now=None]"
     ]
    },
    {
     "name": "stdout",
     "output_type": "stream",
     "text": [
      "720\n",
      "640.0\n",
      "303.4826522423009\n",
      "969.2312623064663\n",
      "636.3569572743836\n",
      "0.019256082978258097\n",
      "1079.1279489016683\n",
      "522.2997125506014\n",
      "0.019256082978258097\n"
     ]
    },
    {
     "name": "stderr",
     "output_type": "stream",
     "text": [
      "\r",
      "t:  20%|█████████████▏                                                    | 252/1260 [01:53<07:53,  2.13it/s, now=None]"
     ]
    },
    {
     "name": "stdout",
     "output_type": "stream",
     "text": [
      "720\n",
      "640.0\n",
      "301.64241118992743\n",
      "983.0129483252616\n",
      "642.3276797575945\n",
      "-0.01230345014728534\n",
      "1047.068252691665\n",
      "759.3923523613172\n",
      "-0.01230345014728534\n"
     ]
    },
    {
     "name": "stderr",
     "output_type": "stream",
     "text": [
      "\r",
      "t:  20%|█████████████▎                                                    | 253/1260 [01:54<07:52,  2.13it/s, now=None]"
     ]
    },
    {
     "name": "stdout",
     "output_type": "stream",
     "text": [
      "720\n",
      "640.0\n",
      "301.26983531728536\n",
      "989.3233871668867\n",
      "645.2966112420861\n",
      "-0.027996373708169393\n",
      "1039.431539515358\n",
      "893.7460052951201\n",
      "-0.027996373708169393\n"
     ]
    },
    {
     "name": "stderr",
     "output_type": "stream",
     "text": [
      "\r",
      "t:  20%|█████████████▎                                                    | 254/1260 [01:54<07:45,  2.16it/s, now=None]"
     ]
    },
    {
     "name": "stdout",
     "output_type": "stream",
     "text": [
      "720\n",
      "640.0\n",
      "301.8940437901205\n",
      "990.586791188509\n",
      "646.2404174893147\n",
      "-0.03298506387209211\n",
      "1105.094230039071\n",
      "965.1852001284293\n",
      "-0.03298506387209211\n"
     ]
    },
    {
     "name": "stderr",
     "output_type": "stream",
     "text": [
      "\r",
      "t:  20%|█████████████▎                                                    | 255/1260 [01:55<07:39,  2.19it/s, now=None]"
     ]
    },
    {
     "name": "stdout",
     "output_type": "stream",
     "text": [
      "720\n",
      "640.0\n",
      "303.53344422319003\n",
      "995.1127860664373\n",
      "649.3231151448136\n",
      "-0.04927932290830068\n",
      "1197.5203568424974\n",
      "1383.1975094633478\n",
      "-0.04927932290830068\n"
     ]
    },
    {
     "name": "stderr",
     "output_type": "stream",
     "text": [
      "\r",
      "t:  20%|█████████████▍                                                    | 256/1260 [01:55<07:32,  2.22it/s, now=None]"
     ]
    },
    {
     "name": "stdout",
     "output_type": "stream",
     "text": [
      "720\n",
      "640.0\n",
      "304.7648194238093\n",
      "995.9353957653474\n",
      "650.3501075945783\n",
      "-0.05470771157134232\n",
      "1175.4404176623157\n",
      "1440.8120874649699\n",
      "-0.05470771157134232\n"
     ]
    },
    {
     "name": "stderr",
     "output_type": "stream",
     "text": [
      "\r",
      "t:  20%|█████████████▍                                                    | 257/1260 [01:56<07:36,  2.20it/s, now=None]"
     ]
    },
    {
     "name": "stdout",
     "output_type": "stream",
     "text": [
      "720\n",
      "640.0\n",
      "304.77577149250493\n",
      "999.583550410497\n",
      "652.179660951501\n",
      "-0.06437820788650517\n",
      "1268.1685263162603\n",
      "1818.890364196235\n",
      "-0.06437820788650517\n"
     ]
    },
    {
     "name": "stderr",
     "output_type": "stream",
     "text": [
      "\r",
      "t:  20%|█████████████▌                                                    | 258/1260 [01:56<07:27,  2.24it/s, now=None]"
     ]
    },
    {
     "name": "stdout",
     "output_type": "stream",
     "text": [
      "720\n",
      "640.0\n",
      "305.1629397541117\n",
      "911.7075898136477\n",
      "608.4352647838797\n",
      "0.16684217185663594\n",
      "1188.9092172284338\n",
      "276.5180771361525\n",
      "0.16684217185663594\n"
     ]
    },
    {
     "name": "stderr",
     "output_type": "stream",
     "text": [
      "\r",
      "t:  21%|█████████████▌                                                    | 259/1260 [01:56<07:11,  2.32it/s, now=None]"
     ]
    },
    {
     "name": "stdout",
     "output_type": "stream",
     "text": [
      "720\n",
      "640.0\n",
      "306.285396802059\n",
      "925.9893078459843\n",
      "616.1373523240217\n",
      "0.1261311377158855\n",
      "1257.0620674111558\n",
      "412.6907531572113\n",
      "0.1261311377158855\n"
     ]
    },
    {
     "name": "stderr",
     "output_type": "stream",
     "text": [
      "\r",
      "t:  21%|█████████████▌                                                    | 260/1260 [01:57<07:11,  2.32it/s, now=None]"
     ]
    },
    {
     "name": "stdout",
     "output_type": "stream",
     "text": [
      "720\n",
      "640.0\n",
      "307.3953114528024\n",
      "921.7344698883369\n",
      "614.5648906705696\n",
      "0.13444272074127478\n",
      "1341.7791666237515\n",
      "377.70099321981877\n",
      "0.13444272074127478\n"
     ]
    },
    {
     "name": "stderr",
     "output_type": "stream",
     "text": [
      "\r",
      "t:  21%|█████████████▋                                                    | 261/1260 [01:57<07:23,  2.25it/s, now=None]"
     ]
    },
    {
     "name": "stdout",
     "output_type": "stream",
     "text": [
      "720\n",
      "640.0\n",
      "310.9566488016295\n",
      "937.4193657942493\n",
      "624.1880072979394\n",
      "0.08357767571089171\n",
      "1527.6954254226443\n",
      "415.2072384349207\n",
      "0.08357767571089171\n"
     ]
    },
    {
     "name": "stderr",
     "output_type": "stream",
     "text": [
      "\r",
      "t:  21%|█████████████▋                                                    | 262/1260 [01:58<07:18,  2.27it/s, now=None]"
     ]
    },
    {
     "name": "stdout",
     "output_type": "stream",
     "text": [
      "720\n",
      "640.0\n",
      "310.70217907096855\n",
      "979.2139681713048\n",
      "644.9580736211367\n",
      "-0.02620696056886537\n",
      "1574.2623424944984\n",
      "794.8562774999484\n",
      "-0.02620696056886537\n"
     ]
    },
    {
     "name": "stderr",
     "output_type": "stream",
     "text": [
      "\r",
      "t:  21%|█████████████▊                                                    | 263/1260 [01:58<07:19,  2.27it/s, now=None]"
     ]
    },
    {
     "name": "stdout",
     "output_type": "stream",
     "text": [
      "720\n",
      "640.0\n",
      "311.31119657179994\n",
      "976.414012325222\n",
      "643.862604448511\n",
      "-0.02041662351355803\n",
      "1598.581021463633\n",
      "675.6854991366367\n",
      "-0.02041662351355803\n"
     ]
    },
    {
     "name": "stderr",
     "output_type": "stream",
     "text": [
      "\r",
      "t:  21%|█████████████▊                                                    | 264/1260 [01:59<07:22,  2.25it/s, now=None]"
     ]
    },
    {
     "name": "stdout",
     "output_type": "stream",
     "text": [
      "720\n",
      "640.0\n",
      "311.23279255818693\n",
      "984.6925523462761\n",
      "647.9626724522316\n",
      "-0.04208841153322403\n",
      "1600.9210686308593\n",
      "777.3394481636293\n",
      "-0.04208841153322403\n"
     ]
    },
    {
     "name": "stderr",
     "output_type": "stream",
     "text": [
      "\r",
      "t:  21%|█████████████▉                                                    | 265/1260 [01:59<07:36,  2.18it/s, now=None]"
     ]
    },
    {
     "name": "stdout",
     "output_type": "stream",
     "text": [
      "720\n",
      "640.0\n",
      "311.02205597126607\n",
      "1001.6236950126888\n",
      "656.3228754919775\n",
      "-0.08627805617188092\n",
      "1737.954949599264\n",
      "1879.2346968497955\n",
      "-0.08627805617188092\n"
     ]
    },
    {
     "name": "stderr",
     "output_type": "stream",
     "text": [
      "\r",
      "t:  21%|█████████████▉                                                    | 266/1260 [02:00<07:39,  2.16it/s, now=None]"
     ]
    },
    {
     "name": "stdout",
     "output_type": "stream",
     "text": [
      "720\n",
      "640.0\n",
      "309.4197499498829\n",
      "1001.5678509983885\n",
      "655.4938004741357\n",
      "-0.08189580250614582\n",
      "1660.959072801083\n",
      "2496.3162383408185\n",
      "-0.08189580250614582\n"
     ]
    },
    {
     "name": "stderr",
     "output_type": "stream",
     "text": [
      "\r",
      "t:  21%|█████████████▉                                                    | 267/1260 [02:00<07:30,  2.21it/s, now=None]"
     ]
    },
    {
     "name": "stdout",
     "output_type": "stream",
     "text": [
      "720\n",
      "640.0\n",
      "307.9667088202607\n",
      "1002.7964526323241\n",
      "655.3815807262924\n",
      "-0.08130264098183147\n",
      "1754.3337852874167\n",
      "2252.936160326307\n",
      "-0.08130264098183147\n"
     ]
    },
    {
     "name": "stderr",
     "output_type": "stream",
     "text": [
      "\r",
      "t:  21%|██████████████                                                    | 268/1260 [02:00<07:39,  2.16it/s, now=None]"
     ]
    },
    {
     "name": "stdout",
     "output_type": "stream",
     "text": [
      "720\n",
      "640.0\n",
      "307.99227167277206\n",
      "1006.1072843005393\n",
      "657.0497779866557\n",
      "-0.09012025507232313\n",
      "1561.6731839403874\n",
      "3508.5799534126813\n",
      "-0.09012025507232313\n"
     ]
    },
    {
     "name": "stderr",
     "output_type": "stream",
     "text": [
      "\r",
      "t:  21%|██████████████                                                    | 269/1260 [02:01<07:40,  2.15it/s, now=None]"
     ]
    },
    {
     "name": "stdout",
     "output_type": "stream",
     "text": [
      "720\n",
      "640.0\n",
      "307.08438016829064\n",
      "1005.1100238044885\n",
      "656.0972019863896\n",
      "-0.0850852104994877\n",
      "1518.9889228049153\n",
      "2395.1305317555993\n",
      "-0.0850852104994877\n"
     ]
    },
    {
     "name": "stderr",
     "output_type": "stream",
     "text": [
      "\r",
      "t:  21%|██████████████▏                                                   | 270/1260 [02:01<07:42,  2.14it/s, now=None]"
     ]
    },
    {
     "name": "stdout",
     "output_type": "stream",
     "text": [
      "720\n",
      "640.0\n",
      "306.37325382231455\n",
      "1008.8457916833646\n",
      "657.6095227528396\n",
      "-0.09307890597929479\n",
      "1596.7172638326476\n",
      "7364.117958436289\n",
      "-0.09307890597929479\n"
     ]
    },
    {
     "name": "stderr",
     "output_type": "stream",
     "text": [
      "\r",
      "t:  22%|██████████████▏                                                   | 271/1260 [02:02<07:37,  2.16it/s, now=None]"
     ]
    },
    {
     "name": "stdout",
     "output_type": "stream",
     "text": [
      "720\n",
      "640.0\n",
      "305.02196890502387\n",
      "986.9084755964506\n",
      "645.9652222507373\n",
      "-0.03153046046818271\n",
      "1403.4272982967916\n",
      "1467.72798699721\n",
      "-0.03153046046818271\n"
     ]
    },
    {
     "name": "stderr",
     "output_type": "stream",
     "text": [
      "\r",
      "t:  22%|██████████████▏                                                   | 272/1260 [02:02<07:26,  2.21it/s, now=None]"
     ]
    },
    {
     "name": "stdout",
     "output_type": "stream",
     "text": [
      "720\n",
      "640.0\n",
      "305.3789804915274\n",
      "969.0226814828421\n",
      "637.2008309871848\n",
      "0.014795607639166276\n",
      "1348.35230478098\n",
      "566.5956017071087\n",
      "0.014795607639166276\n"
     ]
    },
    {
     "name": "stderr",
     "output_type": "stream",
     "text": [
      "\r",
      "t:  22%|██████████████▎                                                   | 273/1260 [02:03<07:38,  2.15it/s, now=None]"
     ]
    },
    {
     "name": "stdout",
     "output_type": "stream",
     "text": [
      "720\n",
      "640.0\n",
      "307.2921335326417\n",
      "980.0298375665775\n",
      "643.6609855496096\n",
      "-0.019350923619364836\n",
      "1199.0627505273203\n",
      "659.0856592610576\n",
      "-0.019350923619364836\n"
     ]
    },
    {
     "name": "stderr",
     "output_type": "stream",
     "text": [
      "\r",
      "t:  22%|██████████████▎                                                   | 274/1260 [02:03<07:29,  2.19it/s, now=None]"
     ]
    },
    {
     "name": "stdout",
     "output_type": "stream",
     "text": [
      "720\n",
      "640.0\n",
      "309.2875322097425\n",
      "999.7736352082571\n",
      "654.5305837089998\n",
      "-0.07680451389042729\n",
      "1302.1779586118005\n",
      "1139.7007793259704\n",
      "-0.07680451389042729\n"
     ]
    },
    {
     "name": "stderr",
     "output_type": "stream",
     "text": [
      "\r",
      "t:  22%|██████████████▍                                                   | 275/1260 [02:04<07:30,  2.19it/s, now=None]"
     ]
    },
    {
     "name": "stdout",
     "output_type": "stream",
     "text": [
      "720\n",
      "640.0\n",
      "311.1662560960309\n",
      "1004.7264190031113\n",
      "657.9463375495711\n",
      "-0.09485921276201881\n",
      "1273.075767961793\n",
      "1222.869011204874\n",
      "-0.09485921276201881\n"
     ]
    },
    {
     "name": "stderr",
     "output_type": "stream",
     "text": [
      "\r",
      "t:  22%|██████████████▍                                                   | 276/1260 [02:04<07:27,  2.20it/s, now=None]"
     ]
    },
    {
     "name": "stdout",
     "output_type": "stream",
     "text": [
      "720\n",
      "640.0\n",
      "312.36197145045116\n",
      "1001.0859469092444\n",
      "656.7239591798477\n",
      "-0.08839806995062369\n",
      "1281.8168612172333\n",
      "1141.6991794570706\n",
      "-0.08839806995062369\n"
     ]
    },
    {
     "name": "stderr",
     "output_type": "stream",
     "text": [
      "\r",
      "t:  22%|██████████████▌                                                   | 277/1260 [02:05<07:28,  2.19it/s, now=None]"
     ]
    },
    {
     "name": "stdout",
     "output_type": "stream",
     "text": [
      "720\n",
      "640.0\n",
      "313.38158024076137\n",
      "1012.7759641110356\n",
      "663.0787721758985\n",
      "-0.12198779578689212\n",
      "1374.5988243778631\n",
      "2837.5942757162493\n",
      "-0.12198779578689212\n"
     ]
    },
    {
     "name": "stderr",
     "output_type": "stream",
     "text": [
      "\r",
      "t:  22%|██████████████▌                                                   | 278/1260 [02:05<07:28,  2.19it/s, now=None]"
     ]
    },
    {
     "name": "stdout",
     "output_type": "stream",
     "text": [
      "720\n",
      "640.0\n",
      "311.92796438697667\n",
      "1017.1018013900003\n",
      "664.5148828884885\n",
      "-0.12957866669629636\n",
      "1248.7110574248443\n",
      "16155.471562651515\n",
      "-0.12957866669629636\n"
     ]
    },
    {
     "name": "stderr",
     "output_type": "stream",
     "text": [
      "\r",
      "t:  22%|██████████████▌                                                   | 279/1260 [02:06<07:32,  2.17it/s, now=None]"
     ]
    },
    {
     "name": "stdout",
     "output_type": "stream",
     "text": [
      "720\n",
      "640.0\n",
      "313.6188588911888\n",
      "1015.6782584502707\n",
      "664.6485586707297\n",
      "-0.1302852386881427\n",
      "1443.1214934885065\n",
      "11485.920389010156\n",
      "-0.1302852386881427\n"
     ]
    },
    {
     "name": "stderr",
     "output_type": "stream",
     "text": [
      "\r",
      "t:  22%|██████████████▋                                                   | 280/1260 [02:06<07:26,  2.19it/s, now=None]"
     ]
    },
    {
     "name": "stdout",
     "output_type": "stream",
     "text": [
      "720\n",
      "640.0\n",
      "314.40701948187234\n",
      "1010.7001264912437\n",
      "662.553572986558\n",
      "-0.11921174292894963\n",
      "1222.5931143343685\n",
      "2741.887632268935\n",
      "-0.11921174292894963\n"
     ]
    },
    {
     "name": "stderr",
     "output_type": "stream",
     "text": [
      "\r",
      "t:  22%|██████████████▋                                                   | 281/1260 [02:06<07:12,  2.26it/s, now=None]"
     ]
    },
    {
     "name": "stdout",
     "output_type": "stream",
     "text": [
      "720\n",
      "640.0\n",
      "316.42691274569967\n",
      "1006.8997495459325\n",
      "661.6633311458161\n",
      "-0.11450617891359925\n",
      "1292.2932663138934\n",
      "2154.6205518707748\n",
      "-0.11450617891359925\n"
     ]
    },
    {
     "name": "stderr",
     "output_type": "stream",
     "text": [
      "\r",
      "t:  22%|██████████████▊                                                   | 282/1260 [02:07<07:23,  2.21it/s, now=None]"
     ]
    },
    {
     "name": "stdout",
     "output_type": "stream",
     "text": [
      "720\n",
      "640.0\n",
      "317.400201177595\n",
      "975.508907300336\n",
      "646.4545542389656\n",
      "-0.03411692954881795\n",
      "1297.975019642063\n",
      "577.5661468469724\n",
      "-0.03411692954881795\n"
     ]
    },
    {
     "name": "stderr",
     "output_type": "stream",
     "text": [
      "\r",
      "t:  22%|██████████████▊                                                   | 283/1260 [02:07<07:17,  2.23it/s, now=None]"
     ]
    },
    {
     "name": "stdout",
     "output_type": "stream",
     "text": [
      "720\n",
      "640.0\n",
      "319.74142935822175\n",
      "976.5545623457828\n",
      "648.1479958520023\n",
      "-0.04306797807486921\n",
      "1359.802741598439\n",
      "666.2668551313596\n",
      "-0.04306797807486921\n"
     ]
    },
    {
     "name": "stderr",
     "output_type": "stream",
     "text": [
      "\r",
      "t:  23%|██████████████▉                                                   | 284/1260 [02:08<07:20,  2.21it/s, now=None]"
     ]
    },
    {
     "name": "stdout",
     "output_type": "stream",
     "text": [
      "720\n",
      "640.0\n",
      "319.51665647267623\n",
      "998.725598082651\n",
      "659.1211272776636\n",
      "-0.10106881561050769\n",
      "1359.4358511634164\n",
      "957.8410552588367\n",
      "-0.10106881561050769\n"
     ]
    },
    {
     "name": "stderr",
     "output_type": "stream",
     "text": [
      "\r",
      "t:  23%|██████████████▉                                                   | 285/1260 [02:08<07:27,  2.18it/s, now=None]"
     ]
    },
    {
     "name": "stdout",
     "output_type": "stream",
     "text": [
      "720\n",
      "640.0\n",
      "324.78603934198793\n",
      "1006.3506609291701\n",
      "665.5683501355791\n",
      "-0.13514699357377508\n",
      "1868.0302267796144\n",
      "1126.15092286413\n",
      "-0.13514699357377508\n"
     ]
    },
    {
     "name": "stderr",
     "output_type": "stream",
     "text": [
      "\r",
      "t:  23%|██████████████▉                                                   | 286/1260 [02:09<07:32,  2.15it/s, now=None]"
     ]
    },
    {
     "name": "stdout",
     "output_type": "stream",
     "text": [
      "720\n",
      "640.0\n",
      "325.588709118656\n",
      "1013.9242842212484\n",
      "669.7564966699522\n",
      "-0.15728433954117585\n",
      "1841.229280955055\n",
      "1573.0038882615395\n",
      "-0.15728433954117585\n"
     ]
    },
    {
     "name": "stderr",
     "output_type": "stream",
     "text": [
      "\r",
      "t:  23%|███████████████                                                   | 287/1260 [02:09<07:29,  2.17it/s, now=None]"
     ]
    },
    {
     "name": "stdout",
     "output_type": "stream",
     "text": [
      "720\n",
      "640.0\n",
      "324.2388762166337\n",
      "1017.5792421900352\n",
      "670.9090592033344\n",
      "-0.16337645578905347\n",
      "1744.6186880087191\n",
      "1826.536904600284\n",
      "-0.16337645578905347\n"
     ]
    },
    {
     "name": "stderr",
     "output_type": "stream",
     "text": [
      "\r",
      "t:  23%|███████████████                                                   | 288/1260 [02:10<07:21,  2.20it/s, now=None]"
     ]
    },
    {
     "name": "stdout",
     "output_type": "stream",
     "text": [
      "720\n",
      "640.0\n",
      "326.5434802952509\n",
      "1017.1402528621996\n",
      "671.8418665787253\n",
      "-0.16830700905897675\n",
      "2183.377563431842\n",
      "1714.8848912834508\n",
      "-0.16830700905897675\n"
     ]
    },
    {
     "name": "stderr",
     "output_type": "stream",
     "text": [
      "\r",
      "t:  23%|███████████████▏                                                  | 289/1260 [02:10<07:23,  2.19it/s, now=None]"
     ]
    },
    {
     "name": "stdout",
     "output_type": "stream",
     "text": [
      "720\n",
      "640.0\n",
      "325.941858304202\n",
      "1021.9709133791732\n",
      "673.9563858416876\n",
      "-0.17948375373463457\n",
      "2092.6542391556914\n",
      "2562.135587670479\n",
      "-0.17948375373463457\n"
     ]
    },
    {
     "name": "stderr",
     "output_type": "stream",
     "text": [
      "\r",
      "t:  23%|███████████████▏                                                  | 290/1260 [02:10<07:17,  2.22it/s, now=None]"
     ]
    },
    {
     "name": "stdout",
     "output_type": "stream",
     "text": [
      "720\n",
      "640.0\n",
      "327.93542757164425\n",
      "1023.2819673429076\n",
      "675.6086974572759\n",
      "-0.188217400845601\n",
      "1964.700161161908\n",
      "11486.632148006185\n",
      "-0.188217400845601\n"
     ]
    },
    {
     "name": "stderr",
     "output_type": "stream",
     "text": [
      "\r",
      "t:  23%|███████████████▏                                                  | 291/1260 [02:11<07:18,  2.21it/s, now=None]"
     ]
    },
    {
     "name": "stdout",
     "output_type": "stream",
     "text": [
      "720\n",
      "640.0\n",
      "328.6056584892758\n",
      "1022.5159476707983\n",
      "675.560803080037\n",
      "-0.18796424485162402\n",
      "2166.2085652542933\n",
      "3540.470836460571\n",
      "-0.18796424485162402\n"
     ]
    },
    {
     "name": "stderr",
     "output_type": "stream",
     "text": [
      "\r",
      "t:  23%|███████████████▎                                                  | 292/1260 [02:11<07:21,  2.19it/s, now=None]"
     ]
    },
    {
     "name": "stdout",
     "output_type": "stream",
     "text": [
      "720\n",
      "640.0\n",
      "330.8590181089965\n",
      "1024.2607162565323\n",
      "677.5598671827644\n",
      "-0.19853072653746887\n",
      "2311.449410501119\n",
      "44115.86700836952\n",
      "-0.19853072653746887\n"
     ]
    },
    {
     "name": "stderr",
     "output_type": "stream",
     "text": [
      "\r",
      "t:  23%|███████████████▎                                                  | 293/1260 [02:12<07:19,  2.20it/s, now=None]"
     ]
    },
    {
     "name": "stdout",
     "output_type": "stream",
     "text": [
      "720\n",
      "640.0\n",
      "333.2969260888524\n",
      "1029.781257840238\n",
      "681.5390919645452\n",
      "-0.21956377181259581\n",
      "2660.588052300209\n",
      "2848.4448433254315\n",
      "-0.21956377181259581\n"
     ]
    },
    {
     "name": "stderr",
     "output_type": "stream",
     "text": [
      "\r",
      "t:  23%|███████████████▍                                                  | 294/1260 [02:12<07:20,  2.19it/s, now=None]"
     ]
    },
    {
     "name": "stdout",
     "output_type": "stream",
     "text": [
      "720\n",
      "640.0\n",
      "332.40041982411657\n",
      "1022.7740127204082\n",
      "677.5872162722624\n",
      "-0.19867528601052967\n",
      "2394.3769811682528\n",
      "1623.5343456979367\n",
      "-0.19867528601052967\n"
     ]
    },
    {
     "name": "stderr",
     "output_type": "stream",
     "text": [
      "\r",
      "t:  23%|███████████████▍                                                  | 295/1260 [02:13<07:22,  2.18it/s, now=None]"
     ]
    },
    {
     "name": "stdout",
     "output_type": "stream",
     "text": [
      "720\n",
      "640.0\n",
      "332.63374390789\n",
      "1021.2135014843127\n",
      "676.9236226961013\n",
      "-0.19516771996510712\n",
      "2059.828288146197\n",
      "1939.2648932946227\n",
      "-0.19516771996510712\n"
     ]
    },
    {
     "name": "stderr",
     "output_type": "stream",
     "text": [
      "\r",
      "t:  23%|███████████████▌                                                  | 296/1260 [02:13<07:13,  2.22it/s, now=None]"
     ]
    },
    {
     "name": "stdout",
     "output_type": "stream",
     "text": [
      "720\n",
      "640.0\n",
      "333.43346408293394\n",
      "1012.7726131589318\n",
      "673.1030386209329\n",
      "-0.17497320413921688\n",
      "2220.4695101280004\n",
      "1202.7458222172852\n",
      "-0.17497320413921688\n"
     ]
    },
    {
     "name": "stderr",
     "output_type": "stream",
     "text": [
      "\r",
      "t:  24%|███████████████▌                                                  | 297/1260 [02:14<07:09,  2.24it/s, now=None]"
     ]
    },
    {
     "name": "stdout",
     "output_type": "stream",
     "text": [
      "720\n",
      "640.0\n",
      "335.09570720246563\n",
      "1022.2846721762336\n",
      "678.6901896893496\n",
      "-0.2045052883579908\n",
      "2560.4773731523906\n",
      "1832.1914412651608\n",
      "-0.2045052883579908\n"
     ]
    },
    {
     "name": "stderr",
     "output_type": "stream",
     "text": [
      "\r",
      "t:  24%|███████████████▌                                                  | 298/1260 [02:14<07:02,  2.28it/s, now=None]"
     ]
    },
    {
     "name": "stdout",
     "output_type": "stream",
     "text": [
      "720\n",
      "640.0\n",
      "334.9947556120073\n",
      "1017.5395205096725\n",
      "676.2671380608399\n",
      "-0.19169772975015376\n",
      "2658.8280206753157\n",
      "1335.28618853921\n",
      "-0.19169772975015376\n"
     ]
    },
    {
     "name": "stderr",
     "output_type": "stream",
     "text": [
      "\r",
      "t:  24%|███████████████▋                                                  | 299/1260 [02:15<07:06,  2.26it/s, now=None]"
     ]
    },
    {
     "name": "stdout",
     "output_type": "stream",
     "text": [
      "720\n",
      "640.0\n",
      "335.0167849871276\n",
      "1020.6587809889589\n",
      "677.8377829880433\n",
      "-0.1999997100796573\n",
      "2658.4041012671532\n",
      "1587.3305446757222\n",
      "-0.1999997100796573\n"
     ]
    },
    {
     "name": "stderr",
     "output_type": "stream",
     "text": [
      "\r",
      "t:  24%|███████████████▋                                                  | 300/1260 [02:15<07:05,  2.25it/s, now=None]"
     ]
    },
    {
     "name": "stdout",
     "output_type": "stream",
     "text": [
      "720\n",
      "640.0\n",
      "334.82769561458275\n",
      "1022.8456193461845\n",
      "678.8366574803837\n",
      "-0.2052794752534566\n",
      "2452.4929971506867\n",
      "1858.3726216790983\n",
      "-0.2052794752534566\n"
     ]
    },
    {
     "name": "stderr",
     "output_type": "stream",
     "text": [
      "\r",
      "t:  24%|███████████████▊                                                  | 301/1260 [02:15<07:11,  2.22it/s, now=None]"
     ]
    },
    {
     "name": "stdout",
     "output_type": "stream",
     "text": [
      "720\n",
      "640.0\n",
      "333.58807330246015\n",
      "1023.2727345349793\n",
      "678.4304039187198\n",
      "-0.2031321349989474\n",
      "2582.4512671344273\n",
      "1808.9781290341393\n",
      "-0.2031321349989474\n"
     ]
    },
    {
     "name": "stderr",
     "output_type": "stream",
     "text": [
      "\r",
      "t:  24%|███████████████▊                                                  | 302/1260 [02:16<07:16,  2.19it/s, now=None]"
     ]
    },
    {
     "name": "stdout",
     "output_type": "stream",
     "text": [
      "720\n",
      "640.0\n",
      "331.42755061131294\n",
      "1022.8567636078756\n",
      "677.1421571095942\n",
      "-0.19632283043642662\n",
      "1957.5280260204715\n",
      "1761.2722968751114\n",
      "-0.19632283043642662\n"
     ]
    },
    {
     "name": "stderr",
     "output_type": "stream",
     "text": [
      "\r",
      "t:  24%|███████████████▊                                                  | 303/1260 [02:16<07:05,  2.25it/s, now=None]"
     ]
    },
    {
     "name": "stdout",
     "output_type": "stream",
     "text": [
      "720\n",
      "640.0\n",
      "329.9500539164811\n",
      "1023.1432524300506\n",
      "676.5466531732659\n",
      "-0.1931751667729769\n",
      "2117.8276970965267\n",
      "1480.6406545669713\n",
      "-0.1931751667729769\n"
     ]
    },
    {
     "name": "stderr",
     "output_type": "stream",
     "text": [
      "\r",
      "t:  24%|███████████████▉                                                  | 304/1260 [02:17<07:09,  2.23it/s, now=None]"
     ]
    },
    {
     "name": "stdout",
     "output_type": "stream",
     "text": [
      "720\n",
      "640.0\n",
      "330.69969771080883\n",
      "1026.0669890100728\n",
      "678.3833433604408\n",
      "-0.20288338633375846\n",
      "2308.422324696947\n",
      "1971.413152047007\n",
      "-0.20288338633375846\n"
     ]
    },
    {
     "name": "stderr",
     "output_type": "stream",
     "text": [
      "\r",
      "t:  24%|███████████████▉                                                  | 305/1260 [02:17<06:46,  2.35it/s, now=None]"
     ]
    },
    {
     "name": "stdout",
     "output_type": "stream",
     "text": [
      "720\n",
      "640.0\n",
      "329.2587862543146\n",
      "1025.4110495988903\n",
      "677.3349179266024\n",
      "-0.19734170904061285\n",
      "1980.4564768260414\n",
      "2225.4599255404914\n",
      "-0.19734170904061285\n"
     ]
    },
    {
     "name": "stderr",
     "output_type": "stream",
     "text": [
      "\r",
      "t:  24%|████████████████                                                  | 306/1260 [02:17<06:16,  2.54it/s, now=None]"
     ]
    },
    {
     "name": "stdout",
     "output_type": "stream",
     "text": [
      "720\n",
      "640.0\n",
      "330.1633072201195\n",
      "1028.1699007414718\n",
      "679.1666039807957\n",
      "-0.20702347818420577\n",
      "2253.8696569563226\n",
      "2265.9722505240666\n",
      "-0.20702347818420577\n"
     ]
    },
    {
     "name": "stderr",
     "output_type": "stream",
     "text": [
      "\r",
      "t:  24%|████████████████                                                  | 307/1260 [02:18<06:12,  2.56it/s, now=None]"
     ]
    },
    {
     "name": "stdout",
     "output_type": "stream",
     "text": [
      "720\n",
      "640.0\n",
      "334.23510015238037\n",
      "1011.9134610683635\n",
      "673.0742806103719\n",
      "-0.17482119751196598\n",
      "3341.6755825664886\n",
      "1144.970129579493\n",
      "-0.17482119751196598\n"
     ]
    },
    {
     "name": "stderr",
     "output_type": "stream",
     "text": [
      "\r",
      "t:  24%|████████████████▏                                                 | 308/1260 [02:18<06:07,  2.59it/s, now=None]"
     ]
    },
    {
     "name": "stdout",
     "output_type": "stream",
     "text": [
      "720\n",
      "640.0\n",
      "333.0769853517149\n",
      "1015.7578329605906\n",
      "674.4174091561528\n",
      "-0.1819205912539503\n",
      "3114.2482140804236\n",
      "1309.4461223876026\n",
      "-0.1819205912539503\n"
     ]
    },
    {
     "name": "stderr",
     "output_type": "stream",
     "text": [
      "\r",
      "t:  25%|████████████████▏                                                 | 309/1260 [02:19<06:27,  2.45it/s, now=None]"
     ]
    },
    {
     "name": "stdout",
     "output_type": "stream",
     "text": [
      "720\n",
      "640.0\n",
      "335.32144073985097\n",
      "1011.423602253231\n",
      "673.372521496541\n",
      "-0.176397613624574\n",
      "2761.69977559745\n",
      "1015.2802413417116\n",
      "-0.176397613624574\n"
     ]
    },
    {
     "name": "stderr",
     "output_type": "stream",
     "text": [
      "\r",
      "t:  25%|████████████████▏                                                 | 310/1260 [02:19<06:39,  2.38it/s, now=None]"
     ]
    },
    {
     "name": "stdout",
     "output_type": "stream",
     "text": [
      "720\n",
      "640.0\n",
      "338.00492833787104\n",
      "1028.79056820095\n",
      "683.3977482694105\n",
      "-0.2293880979954555\n",
      "4164.789880344892\n",
      "2313.790903891038\n",
      "-0.2293880979954555\n"
     ]
    },
    {
     "name": "stderr",
     "output_type": "stream",
     "text": [
      "\r",
      "t:  25%|████████████████▎                                                 | 311/1260 [02:20<06:51,  2.31it/s, now=None]"
     ]
    },
    {
     "name": "stdout",
     "output_type": "stream",
     "text": [
      "720\n",
      "640.0\n",
      "338.13881356684004\n",
      "1032.7296613926057\n",
      "685.4342374797229\n",
      "-0.2401523981071069\n",
      "4025.192256862572\n",
      "5592.306721836385\n",
      "-0.2401523981071069\n"
     ]
    },
    {
     "name": "stderr",
     "output_type": "stream",
     "text": [
      "\r",
      "t:  25%|████████████████▎                                                 | 312/1260 [02:20<06:54,  2.29it/s, now=None]"
     ]
    },
    {
     "name": "stdout",
     "output_type": "stream",
     "text": [
      "720\n",
      "640.0\n",
      "341.0844451285187\n",
      "1020.1890523531787\n",
      "680.6367487408487\n",
      "-0.21479424334448602\n",
      "5398.843071665703\n",
      "1630.0280578145907\n",
      "-0.21479424334448602\n"
     ]
    },
    {
     "name": "stderr",
     "output_type": "stream",
     "text": [
      "\r",
      "t:  25%|████████████████▍                                                 | 313/1260 [02:21<07:01,  2.25it/s, now=None]"
     ]
    },
    {
     "name": "stdout",
     "output_type": "stream",
     "text": [
      "720\n",
      "640.0\n",
      "341.1371310298522\n",
      "1026.9889848317582\n",
      "684.0630579308051\n",
      "-0.2329047347771129\n",
      "5124.012147947841\n",
      "4822.281718809738\n",
      "-0.2329047347771129\n"
     ]
    },
    {
     "name": "stderr",
     "output_type": "stream",
     "text": [
      "\r",
      "t:  25%|████████████████▍                                                 | 314/1260 [02:21<07:01,  2.25it/s, now=None]"
     ]
    },
    {
     "name": "stdout",
     "output_type": "stream",
     "text": [
      "720\n",
      "640.0\n",
      "342.46610515296584\n",
      "1024.8072669987305\n",
      "683.6366860758482\n",
      "-0.23065105497234029\n",
      "4399.270593527\n",
      "4845.254069007546\n",
      "-0.23065105497234029\n"
     ]
    },
    {
     "name": "stderr",
     "output_type": "stream",
     "text": [
      "\r",
      "t:  25%|████████████████▌                                                 | 315/1260 [02:21<07:07,  2.21it/s, now=None]"
     ]
    },
    {
     "name": "stdout",
     "output_type": "stream",
     "text": [
      "720\n",
      "640.0\n",
      "342.8805595761721\n",
      "1025.4609375251957\n",
      "684.1707485506839\n",
      "-0.2334739566250436\n",
      "4543.522040436605\n",
      "11395.601347469548\n",
      "-0.2334739566250436\n"
     ]
    },
    {
     "name": "stderr",
     "output_type": "stream",
     "text": [
      "\r",
      "t:  25%|████████████████▌                                                 | 316/1260 [02:22<07:21,  2.14it/s, now=None]"
     ]
    },
    {
     "name": "stdout",
     "output_type": "stream",
     "text": [
      "720\n",
      "640.0\n",
      "344.0300552572398\n",
      "1025.9571585186266\n",
      "684.9936068879332\n",
      "-0.2378233506933612\n",
      "5581.054320069299\n",
      "5658.344563273875\n",
      "-0.2378233506933612\n"
     ]
    },
    {
     "name": "stderr",
     "output_type": "stream",
     "text": [
      "\r",
      "t:  25%|████████████████▌                                                 | 317/1260 [02:22<07:16,  2.16it/s, now=None]"
     ]
    },
    {
     "name": "stdout",
     "output_type": "stream",
     "text": [
      "720\n",
      "640.0\n",
      "344.7202900651511\n",
      "1023.0489944500588\n",
      "683.8846422576049\n",
      "-0.23196168050448318\n",
      "6632.238737297253\n",
      "9333.525716839391\n",
      "-0.23196168050448318\n"
     ]
    },
    {
     "name": "stderr",
     "output_type": "stream",
     "text": [
      "\r",
      "t:  25%|████████████████▋                                                 | 318/1260 [02:23<07:17,  2.16it/s, now=None]"
     ]
    },
    {
     "name": "stdout",
     "output_type": "stream",
     "text": [
      "720\n",
      "640.0\n",
      "345.11520340078096\n",
      "1013.0182453894204\n",
      "679.0667243951007\n",
      "-0.2064955432312464\n",
      "9521.430880907403\n",
      "4595.405892579002\n",
      "-0.2064955432312464\n"
     ]
    },
    {
     "name": "stderr",
     "output_type": "stream",
     "text": [
      "\r",
      "t:  25%|████████████████▋                                                 | 319/1260 [02:23<07:19,  2.14it/s, now=None]"
     ]
    },
    {
     "name": "stdout",
     "output_type": "stream",
     "text": [
      "720\n",
      "640.0\n",
      "347.7989575290601\n",
      "1000.4019632428017\n",
      "674.1004603859309\n",
      "-0.18024529061134897\n",
      "33715.107071540406\n",
      "1525.5578896249144\n",
      "-0.18024529061134897\n"
     ]
    },
    {
     "name": "stderr",
     "output_type": "stream",
     "text": [
      "\r",
      "t:  25%|████████████████▊                                                 | 320/1260 [02:24<07:24,  2.12it/s, now=None]"
     ]
    },
    {
     "name": "stdout",
     "output_type": "stream",
     "text": [
      "720\n",
      "640.0\n",
      "348.9633766400979\n",
      "1010.2847637921616\n",
      "679.6240702161298\n",
      "-0.20944151399954314\n",
      "23488.9736572166\n",
      "2586.4688880946833\n",
      "-0.20944151399954314\n"
     ]
    },
    {
     "name": "stderr",
     "output_type": "stream",
     "text": [
      "\r",
      "t:  25%|████████████████▊                                                 | 321/1260 [02:24<07:21,  2.13it/s, now=None]"
     ]
    },
    {
     "name": "stdout",
     "output_type": "stream",
     "text": [
      "720\n",
      "640.0\n",
      "349.5843210510146\n",
      "1016.4637384304267\n",
      "683.0240297407206\n",
      "-0.22741272862952322\n",
      "16142.764239046155\n",
      "4898.54680602677\n",
      "-0.22741272862952322\n"
     ]
    },
    {
     "name": "stderr",
     "output_type": "stream",
     "text": [
      "\r",
      "t:  26%|████████████████▊                                                 | 322/1260 [02:25<07:20,  2.13it/s, now=None]"
     ]
    },
    {
     "name": "stdout",
     "output_type": "stream",
     "text": [
      "720\n",
      "640.0\n",
      "348.7022649862929\n",
      "1018.9247085740083\n",
      "683.8134867801506\n",
      "-0.23158557298079596\n",
      "41560.58231481726\n",
      "7703.131862647174\n",
      "-0.23158557298079596\n"
     ]
    },
    {
     "name": "stderr",
     "output_type": "stream",
     "text": [
      "\r",
      "t:  26%|████████████████▉                                                 | 323/1260 [02:25<07:15,  2.15it/s, now=None]"
     ]
    },
    {
     "name": "stdout",
     "output_type": "stream",
     "text": [
      "720\n",
      "640.0\n",
      "349.36461233365833\n",
      "1018.8026688825862\n",
      "684.0836406081223\n",
      "-0.23301352892864657\n",
      "11537.717434809256\n",
      "4592.2871132686705\n",
      "-0.23301352892864657\n"
     ]
    },
    {
     "name": "stderr",
     "output_type": "stream",
     "text": [
      "\r",
      "t:  26%|████████████████▉                                                 | 324/1260 [02:26<07:12,  2.16it/s, now=None]"
     ]
    },
    {
     "name": "stdout",
     "output_type": "stream",
     "text": [
      "720\n",
      "640.0\n",
      "350.08764469804896\n",
      "1002.3580251874237\n",
      "676.2228349427363\n",
      "-0.19146355612589194\n",
      "9672.66555289434\n",
      "950.0179564577032\n",
      "-0.19146355612589194\n"
     ]
    },
    {
     "name": "stderr",
     "output_type": "stream",
     "text": [
      "\r",
      "t:  26%|█████████████████                                                 | 325/1260 [02:26<07:02,  2.21it/s, now=None]"
     ]
    },
    {
     "name": "stdout",
     "output_type": "stream",
     "text": [
      "720\n",
      "640.0\n",
      "347.5746691725947\n",
      "1020.233483192049\n",
      "683.9040761823219\n",
      "-0.23206440267798714\n",
      "8468.235642111054\n",
      "4837.000380484761\n",
      "-0.23206440267798714\n"
     ]
    },
    {
     "name": "stderr",
     "output_type": "stream",
     "text": [
      "\r",
      "t:  26%|█████████████████                                                 | 326/1260 [02:27<06:56,  2.24it/s, now=None]"
     ]
    },
    {
     "name": "stdout",
     "output_type": "stream",
     "text": [
      "720\n",
      "640.0\n",
      "346.2035790351418\n",
      "1016.3054341296483\n",
      "681.254506582395\n",
      "-0.2180595347926595\n",
      "12885.24174234045\n",
      "2094.8305037569958\n",
      "-0.2180595347926595\n"
     ]
    },
    {
     "name": "stderr",
     "output_type": "stream",
     "text": [
      "\r",
      "t:  26%|█████████████████▏                                                | 327/1260 [02:27<07:08,  2.18it/s, now=None]"
     ]
    },
    {
     "name": "stdout",
     "output_type": "stream",
     "text": [
      "720\n",
      "640.0\n",
      "344.63911046771034\n",
      "1017.4189953138189\n",
      "681.0290528907647\n",
      "-0.2168678509940418\n",
      "15052.68912331444\n",
      "2021.0706258261553\n",
      "-0.2168678509940418\n"
     ]
    },
    {
     "name": "stderr",
     "output_type": "stream",
     "text": [
      "\r",
      "t:  26%|█████████████████▏                                                | 328/1260 [02:27<07:09,  2.17it/s, now=None]"
     ]
    },
    {
     "name": "stdout",
     "output_type": "stream",
     "text": [
      "720\n",
      "640.0\n",
      "340.79609167869074\n",
      "1016.8741340391792\n",
      "678.835112858935\n",
      "-0.2052713108257991\n",
      "105123.24747884386\n",
      "1640.155233786329\n",
      "-0.2052713108257991\n"
     ]
    },
    {
     "name": "stderr",
     "output_type": "stream",
     "text": [
      "\r",
      "t:  26%|█████████████████▏                                                | 329/1260 [02:28<07:22,  2.10it/s, now=None]"
     ]
    },
    {
     "name": "stdout",
     "output_type": "stream",
     "text": [
      "720\n",
      "640.0\n",
      "339.8756810840644\n",
      "1019.5735263917035\n",
      "679.724603737884\n",
      "-0.2099729054716724\n",
      "42262.72869332798\n",
      "1698.2823382514755\n",
      "-0.2099729054716724\n"
     ]
    },
    {
     "name": "stderr",
     "output_type": "stream",
     "text": [
      "\r",
      "t:  26%|█████████████████▎                                                | 330/1260 [02:28<07:17,  2.12it/s, now=None]"
     ]
    },
    {
     "name": "stdout",
     "output_type": "stream",
     "text": [
      "720\n",
      "640.0\n",
      "336.56440953445326\n",
      "1002.4276640628968\n",
      "669.496036798675\n",
      "-0.15590762307871098\n",
      "15157.105031288282\n",
      "926.7848085629107\n",
      "-0.15590762307871098\n"
     ]
    },
    {
     "name": "stderr",
     "output_type": "stream",
     "text": [
      "\r",
      "t:  26%|█████████████████▎                                                | 331/1260 [02:29<07:11,  2.15it/s, now=None]"
     ]
    },
    {
     "name": "stdout",
     "output_type": "stream",
     "text": [
      "720\n",
      "640.0\n",
      "338.01373115061153\n",
      "991.9893105286892\n",
      "665.0015208396503\n",
      "-0.13215089586672307\n",
      "13853.917558482872\n",
      "803.1787170822969\n",
      "-0.13215089586672307\n"
     ]
    },
    {
     "name": "stderr",
     "output_type": "stream",
     "text": [
      "\r",
      "t:  26%|█████████████████▍                                                | 332/1260 [02:29<07:16,  2.13it/s, now=None]"
     ]
    },
    {
     "name": "stdout",
     "output_type": "stream",
     "text": [
      "720\n",
      "640.0\n",
      "337.4617238325412\n",
      "1029.303798804939\n",
      "683.3827613187402\n",
      "-0.22930888125619833\n",
      "8236.405913879586\n",
      "2929.388196727361\n",
      "-0.22930888125619833\n"
     ]
    },
    {
     "name": "stderr",
     "output_type": "stream",
     "text": [
      "\r",
      "t:  26%|█████████████████▍                                                | 333/1260 [02:30<07:03,  2.19it/s, now=None]"
     ]
    },
    {
     "name": "stdout",
     "output_type": "stream",
     "text": [
      "720\n",
      "640.0\n",
      "339.88780864913474\n",
      "1029.4820799458562\n",
      "684.6849442974955\n",
      "-0.23619184842961888\n",
      "13687.653486129997\n",
      "10403.155626266289\n",
      "-0.23619184842961888\n"
     ]
    },
    {
     "name": "stderr",
     "output_type": "stream",
     "text": [
      "\r",
      "t:  27%|█████████████████▍                                                | 334/1260 [02:30<07:15,  2.12it/s, now=None]"
     ]
    },
    {
     "name": "stdout",
     "output_type": "stream",
     "text": [
      "720\n",
      "640.0\n",
      "340.9905431440105\n",
      "1008.0858764409331\n",
      "674.5382097924718\n",
      "-0.18255910890306512\n",
      "27668.555172043416\n",
      "1228.7504184370077\n",
      "-0.18255910890306512\n"
     ]
    },
    {
     "name": "stderr",
     "output_type": "stream",
     "text": [
      "\r",
      "t:  27%|█████████████████▌                                                | 335/1260 [02:31<07:20,  2.10it/s, now=None]"
     ]
    },
    {
     "name": "stdout",
     "output_type": "stream",
     "text": [
      "720\n",
      "640.0\n",
      "341.2669531623937\n",
      "1003.8893980006892\n",
      "672.5781755815415\n",
      "-0.17219892807386208\n",
      "16957.66882724193\n",
      "948.5334643915271\n",
      "-0.17219892807386208\n"
     ]
    },
    {
     "name": "stderr",
     "output_type": "stream",
     "text": [
      "\r",
      "t:  27%|█████████████████▌                                                | 336/1260 [02:31<07:22,  2.09it/s, now=None]"
     ]
    },
    {
     "name": "stdout",
     "output_type": "stream",
     "text": [
      "720\n",
      "640.0\n",
      "342.1535908003192\n",
      "1020.2603473816642\n",
      "681.2069690909917\n",
      "-0.21780826519524196\n",
      "13589.591501602636\n",
      "2378.1605334939186\n",
      "-0.21780826519524196\n"
     ]
    },
    {
     "name": "stderr",
     "output_type": "stream",
     "text": [
      "\r",
      "t:  27%|█████████████████▋                                                | 337/1260 [02:32<07:18,  2.10it/s, now=None]"
     ]
    },
    {
     "name": "stdout",
     "output_type": "stream",
     "text": [
      "720\n",
      "640.0\n",
      "340.6076310598867\n",
      "1030.0493557118677\n",
      "685.3284933858772\n",
      "-0.2395934650396367\n",
      "13723.466037472193\n",
      "1934619.0560179078\n",
      "-0.2395934650396367\n"
     ]
    },
    {
     "name": "stderr",
     "output_type": "stream",
     "text": [
      "\r",
      "t:  27%|█████████████████▋                                                | 338/1260 [02:32<07:11,  2.14it/s, now=None]"
     ]
    },
    {
     "name": "stdout",
     "output_type": "stream",
     "text": [
      "720\n",
      "640.0\n",
      "340.1490951555907\n",
      "1031.1367725639082\n",
      "685.6429338597494\n",
      "-0.24125550754438974\n",
      "10668.24316882911\n",
      "8749.214929313555\n",
      "-0.24125550754438974\n"
     ]
    },
    {
     "name": "stderr",
     "output_type": "stream",
     "text": [
      "\r",
      "t:  27%|█████████████████▊                                                | 339/1260 [02:33<07:16,  2.11it/s, now=None]"
     ]
    },
    {
     "name": "stdout",
     "output_type": "stream",
     "text": [
      "720\n",
      "640.0\n",
      "341.1518631965612\n",
      "1031.7217321173928\n",
      "686.436797656977\n",
      "-0.24545164475830689\n",
      "14690.276719896337\n",
      "15932.408348980112\n",
      "-0.24545164475830689\n"
     ]
    },
    {
     "name": "stderr",
     "output_type": "stream",
     "text": [
      "\r",
      "t:  27%|█████████████████▊                                                | 340/1260 [02:33<07:18,  2.10it/s, now=None]"
     ]
    },
    {
     "name": "stdout",
     "output_type": "stream",
     "text": [
      "720\n",
      "640.0\n",
      "340.662615508514\n",
      "1033.5076350648224\n",
      "687.0851252866682\n",
      "-0.2488785193723893\n",
      "10161.040572269594\n",
      "1939.265906961864\n",
      "-0.2488785193723893\n"
     ]
    },
    {
     "name": "stderr",
     "output_type": "stream",
     "text": [
      "\r",
      "t:  27%|█████████████████▊                                                | 341/1260 [02:34<07:07,  2.15it/s, now=None]"
     ]
    },
    {
     "name": "stdout",
     "output_type": "stream",
     "text": [
      "720\n",
      "640.0\n",
      "343.805690789454\n",
      "1034.204106286608\n",
      "689.0048985380311\n",
      "-0.2590258922724499\n",
      "30727.836549566095\n",
      "1758.7158719482145\n",
      "-0.2590258922724499\n"
     ]
    },
    {
     "name": "stderr",
     "output_type": "stream",
     "text": [
      "\r",
      "t:  27%|█████████████████▉                                                | 342/1260 [02:34<07:06,  2.15it/s, now=None]"
     ]
    },
    {
     "name": "stdout",
     "output_type": "stream",
     "text": [
      "720\n",
      "640.0\n",
      "346.8756633395878\n",
      "994.250923569889\n",
      "670.5632934547384\n",
      "-0.16154883683218876\n",
      "5875.506970604265\n",
      "754.8770303143398\n",
      "-0.16154883683218876\n"
     ]
    },
    {
     "name": "stderr",
     "output_type": "stream",
     "text": [
      "\r",
      "t:  27%|█████████████████▉                                                | 343/1260 [02:34<06:56,  2.20it/s, now=None]"
     ]
    },
    {
     "name": "stdout",
     "output_type": "stream",
     "text": [
      "720\n",
      "640.0\n",
      "347.94432756590896\n",
      "992.4274622722837\n",
      "670.1858949190963\n",
      "-0.15955401600093766\n",
      "10514.828598791715\n",
      "1057.6180407292788\n",
      "-0.15955401600093766\n"
     ]
    },
    {
     "name": "stderr",
     "output_type": "stream",
     "text": [
      "\r",
      "t:  27%|██████████████████                                                | 344/1260 [02:35<06:58,  2.19it/s, now=None]"
     ]
    },
    {
     "name": "stdout",
     "output_type": "stream",
     "text": [
      "720\n",
      "640.0\n",
      "345.79914993748434\n",
      "1005.3570648902023\n",
      "675.5781074138433\n",
      "-0.18805571061602902\n",
      "25029.718568990418\n",
      "1580.9372384361816\n",
      "-0.18805571061602902\n"
     ]
    },
    {
     "name": "stderr",
     "output_type": "stream",
     "text": [
      "\r",
      "t:  27%|██████████████████                                                | 345/1260 [02:35<07:03,  2.16it/s, now=None]"
     ]
    },
    {
     "name": "stdout",
     "output_type": "stream",
     "text": [
      "720\n",
      "640.0\n",
      "343.85700297209553\n",
      "998.2664959039862\n",
      "671.0617494380408\n",
      "-0.16418353274393\n",
      "16040.189316873704\n",
      "1082.176821401004\n",
      "-0.16418353274393\n"
     ]
    },
    {
     "name": "stderr",
     "output_type": "stream",
     "text": [
      "\r",
      "t:  27%|██████████████████                                                | 346/1260 [02:36<06:58,  2.19it/s, now=None]"
     ]
    },
    {
     "name": "stdout",
     "output_type": "stream",
     "text": [
      "720\n",
      "640.0\n",
      "345.16358434137305\n",
      "1015.0870740241262\n",
      "680.1253291827496\n",
      "-0.212091025680248\n",
      "691447.8485125666\n",
      "2190.1070499356492\n",
      "-0.212091025680248\n"
     ]
    },
    {
     "name": "stderr",
     "output_type": "stream",
     "text": [
      "\r",
      "t:  28%|██████████████████▏                                               | 347/1260 [02:36<07:12,  2.11it/s, now=None]"
     ]
    },
    {
     "name": "stdout",
     "output_type": "stream",
     "text": [
      "720\n",
      "640.0\n",
      "344.23317305578206\n",
      "1041.606251381413\n",
      "692.9197122185975\n",
      "-0.2797184788697297\n",
      "2610390.2550827353\n",
      "1989.3191667292076\n",
      "-0.2797184788697297\n"
     ]
    },
    {
     "name": "stderr",
     "output_type": "stream",
     "text": [
      "\r",
      "t:  28%|██████████████████▏                                               | 348/1260 [02:37<07:07,  2.13it/s, now=None]"
     ]
    },
    {
     "name": "stdout",
     "output_type": "stream",
     "text": [
      "720\n",
      "640.0\n",
      "347.00274660542436\n",
      "1022.1002717258012\n",
      "684.5515091656127\n",
      "-0.23548654844681022\n",
      "15945.275600691884\n",
      "3002.127365171935\n",
      "-0.23548654844681022\n"
     ]
    },
    {
     "name": "stderr",
     "output_type": "stream",
     "text": [
      "\r",
      "t:  28%|██████████████████▎                                               | 349/1260 [02:37<06:58,  2.18it/s, now=None]"
     ]
    },
    {
     "name": "stdout",
     "output_type": "stream",
     "text": [
      "720\n",
      "640.0\n",
      "346.958055605257\n",
      "1031.6544246500903\n",
      "689.3062401276736\n",
      "-0.2606186978177034\n",
      "9010.647094751394\n",
      "5489.694466638049\n",
      "-0.2606186978177034\n"
     ]
    },
    {
     "name": "stderr",
     "output_type": "stream",
     "text": [
      "\r",
      "t:  28%|██████████████████▎                                               | 350/1260 [02:38<07:01,  2.16it/s, now=None]"
     ]
    },
    {
     "name": "stdout",
     "output_type": "stream",
     "text": [
      "720\n",
      "640.0\n",
      "345.98868118401265\n",
      "1028.9730187622943\n",
      "687.4808499731535\n",
      "-0.25097020700095396\n",
      "9367.409423716328\n",
      "13919.317174892893\n",
      "-0.25097020700095396\n"
     ]
    },
    {
     "name": "stderr",
     "output_type": "stream",
     "text": [
      "\r",
      "t:  28%|██████████████████▍                                               | 351/1260 [02:38<06:58,  2.17it/s, now=None]"
     ]
    },
    {
     "name": "stdout",
     "output_type": "stream",
     "text": [
      "720\n",
      "640.0\n",
      "343.68696701696473\n",
      "1028.0112711240067\n",
      "685.8491190704857\n",
      "-0.24234534365828156\n",
      "14282.73957437275\n",
      "36793.950987720134\n",
      "-0.24234534365828156\n"
     ]
    },
    {
     "name": "stderr",
     "output_type": "stream",
     "text": [
      "\r",
      "t:  28%|██████████████████▍                                               | 352/1260 [02:39<07:11,  2.10it/s, now=None]"
     ]
    },
    {
     "name": "stdout",
     "output_type": "stream",
     "text": [
      "720\n",
      "640.0\n",
      "344.4647554464334\n",
      "1032.6813237292145\n",
      "688.5730395878239\n",
      "-0.2567432092499265\n",
      "5108.708477174668\n",
      "1242.8555725974654\n",
      "-0.2567432092499265\n"
     ]
    },
    {
     "name": "stderr",
     "output_type": "stream",
     "text": [
      "\r",
      "t:  28%|██████████████████▍                                               | 353/1260 [02:39<07:20,  2.06it/s, now=None]"
     ]
    },
    {
     "name": "stdout",
     "output_type": "stream",
     "text": [
      "720\n",
      "640.0\n",
      "342.09892393668986\n",
      "1031.2150764297699\n",
      "686.6570001832299\n",
      "-0.2466155723970724\n",
      "11807.716995026107\n",
      "945.6690302022206\n",
      "-0.2466155723970724\n"
     ]
    },
    {
     "name": "stderr",
     "output_type": "stream",
     "text": [
      "\r",
      "t:  28%|██████████████████▌                                               | 354/1260 [02:40<07:14,  2.08it/s, now=None]"
     ]
    },
    {
     "name": "stdout",
     "output_type": "stream",
     "text": [
      "720\n",
      "640.0\n",
      "339.9728578282885\n",
      "1016.6289263137529\n",
      "678.3008920710207\n",
      "-0.2024475723753952\n",
      "12292.49502573901\n",
      "12149.060785335474\n",
      "-0.2024475723753952\n"
     ]
    },
    {
     "name": "stderr",
     "output_type": "stream",
     "text": [
      "\r",
      "t:  28%|██████████████████▌                                               | 355/1260 [02:40<07:22,  2.04it/s, now=None]"
     ]
    },
    {
     "name": "stdout",
     "output_type": "stream",
     "text": [
      "720\n",
      "640.0\n",
      "339.6847310121594\n",
      "1026.6532290009532\n",
      "683.1689800065562\n",
      "-0.2281788943203687\n",
      "72341.59493299009\n",
      "676.0777843653133\n",
      "-0.2281788943203687\n"
     ]
    },
    {
     "name": "stderr",
     "output_type": "stream",
     "text": [
      "\r",
      "t:  28%|██████████████████▋                                               | 356/1260 [02:41<07:10,  2.10it/s, now=None]"
     ]
    },
    {
     "name": "stdout",
     "output_type": "stream",
     "text": [
      "720\n",
      "640.0\n",
      "335.63064609782856\n",
      "1014.6261031165345\n",
      "675.1283746071815\n",
      "-0.1856785514951023\n",
      "5104.546803180248\n",
      "2698.854979235724\n",
      "-0.1856785514951023\n"
     ]
    },
    {
     "name": "stderr",
     "output_type": "stream",
     "text": [
      "\r",
      "t:  28%|██████████████████▋                                               | 357/1260 [02:41<07:05,  2.12it/s, now=None]"
     ]
    },
    {
     "name": "stdout",
     "output_type": "stream",
     "text": [
      "720\n",
      "640.0\n",
      "335.5858529575227\n",
      "1014.5679319629608\n",
      "675.0768924602418\n",
      "-0.18540643157556363\n",
      "3993.803525088719\n",
      "2447.119005016889\n",
      "-0.18540643157556363\n"
     ]
    },
    {
     "name": "stderr",
     "output_type": "stream",
     "text": [
      "\r",
      "t:  28%|██████████████████▊                                               | 358/1260 [02:42<07:08,  2.11it/s, now=None]"
     ]
    },
    {
     "name": "stdout",
     "output_type": "stream",
     "text": [
      "720\n",
      "640.0\n",
      "337.28216511558253\n",
      "1011.1121316882472\n",
      "674.1971484019149\n",
      "-0.18075635583869298\n",
      "2622.9614647597823\n",
      "1758.3984131877244\n",
      "-0.18075635583869298\n"
     ]
    },
    {
     "name": "stderr",
     "output_type": "stream",
     "text": [
      "\r",
      "t:  28%|██████████████████▊                                               | 359/1260 [02:42<07:06,  2.11it/s, now=None]"
     ]
    },
    {
     "name": "stdout",
     "output_type": "stream",
     "text": [
      "720\n",
      "640.0\n",
      "335.9268949636573\n",
      "1026.835030862553\n",
      "681.3809629131051\n",
      "-0.2187279468264128\n",
      "2019.1027986705453\n",
      "89437.17116270156\n",
      "-0.2187279468264128\n"
     ]
    },
    {
     "name": "stderr",
     "output_type": "stream",
     "text": [
      "\r",
      "t:  29%|██████████████████▊                                               | 360/1260 [02:43<07:02,  2.13it/s, now=None]"
     ]
    },
    {
     "name": "stdout",
     "output_type": "stream",
     "text": [
      "720\n",
      "640.0\n",
      "341.0618398296674\n",
      "1034.7557878282255\n",
      "687.9088138289464\n",
      "-0.2532323016672884\n",
      "2356.8204937854057\n",
      "2064.179366108924\n",
      "-0.2532323016672884\n"
     ]
    },
    {
     "name": "stderr",
     "output_type": "stream",
     "text": [
      "\r",
      "t:  29%|██████████████████▉                                               | 361/1260 [02:43<07:02,  2.13it/s, now=None]"
     ]
    },
    {
     "name": "stdout",
     "output_type": "stream",
     "text": [
      "720\n",
      "640.0\n",
      "339.9865213286622\n",
      "1030.4047522314963\n",
      "685.1956367800792\n",
      "-0.2388912229804187\n",
      "2036.3402017265798\n",
      "4298.88225914136\n",
      "-0.2388912229804187\n"
     ]
    },
    {
     "name": "stderr",
     "output_type": "stream",
     "text": [
      "\r",
      "t:  29%|██████████████████▉                                               | 362/1260 [02:43<06:59,  2.14it/s, now=None]"
     ]
    },
    {
     "name": "stdout",
     "output_type": "stream",
     "text": [
      "720\n",
      "640.0\n",
      "341.8892989783796\n",
      "1026.9567216153741\n",
      "684.4230102968769\n",
      "-0.23480734014063503\n",
      "2183.144884911369\n",
      "13196.574264393328\n",
      "-0.23480734014063503\n"
     ]
    },
    {
     "name": "stderr",
     "output_type": "stream",
     "text": [
      "\r",
      "t:  29%|███████████████████                                               | 363/1260 [02:44<07:02,  2.13it/s, now=None]"
     ]
    },
    {
     "name": "stdout",
     "output_type": "stream",
     "text": [
      "720\n",
      "640.0\n",
      "347.0228640757912\n",
      "1026.1917180270916\n",
      "686.6072910514414\n",
      "-0.24635282412904738\n",
      "3980.36712700482\n",
      "5961.840013313851\n",
      "-0.24635282412904738\n"
     ]
    },
    {
     "name": "stderr",
     "output_type": "stream",
     "text": [
      "\r",
      "t:  29%|███████████████████                                               | 364/1260 [02:44<06:53,  2.17it/s, now=None]"
     ]
    },
    {
     "name": "stdout",
     "output_type": "stream",
     "text": [
      "720\n",
      "640.0\n",
      "349.6294245387409\n",
      "1023.3085727233424\n",
      "686.4689986310417\n",
      "-0.2456218499069347\n",
      "5859.390681128483\n",
      "6716.71699176515\n",
      "-0.2456218499069347\n"
     ]
    },
    {
     "name": "stderr",
     "output_type": "stream",
     "text": [
      "\r",
      "t:  29%|███████████████████                                               | 365/1260 [02:45<06:50,  2.18it/s, now=None]"
     ]
    },
    {
     "name": "stdout",
     "output_type": "stream",
     "text": [
      "720\n",
      "640.0\n",
      "353.7121073836958\n",
      "1022.9959624754733\n",
      "688.3540349295846\n",
      "-0.2555856131992329\n",
      "18762.48377770308\n",
      "2775.7832277375696\n",
      "-0.2555856131992329\n"
     ]
    },
    {
     "name": "stderr",
     "output_type": "stream",
     "text": [
      "\r",
      "t:  29%|███████████████████▏                                              | 366/1260 [02:45<06:46,  2.20it/s, now=None]"
     ]
    },
    {
     "name": "stdout",
     "output_type": "stream",
     "text": [
      "720\n",
      "640.0\n",
      "356.3723599310654\n",
      "1005.1814178915942\n",
      "680.7768889113297\n",
      "-0.2155349842455999\n",
      "7698.614705206415\n",
      "3028.841766810402\n",
      "-0.2155349842455999\n"
     ]
    },
    {
     "name": "stderr",
     "output_type": "stream",
     "text": [
      "\r",
      "t:  29%|███████████████████▏                                              | 367/1260 [02:46<06:53,  2.16it/s, now=None]"
     ]
    },
    {
     "name": "stdout",
     "output_type": "stream",
     "text": [
      "720\n",
      "640.0\n",
      "356.5659305050276\n",
      "1002.2546238350783\n",
      "679.410277170053\n",
      "-0.20831146504170847\n",
      "6551.097873406143\n",
      "1433.4997612620919\n",
      "-0.20831146504170847\n"
     ]
    },
    {
     "name": "stderr",
     "output_type": "stream",
     "text": [
      "\r",
      "t:  29%|███████████████████▎                                              | 368/1260 [02:46<06:36,  2.25it/s, now=None]"
     ]
    },
    {
     "name": "stdout",
     "output_type": "stream",
     "text": [
      "720\n",
      "640.0\n",
      "357.2553261814595\n",
      "1018.7769381189588\n",
      "688.0161321502092\n",
      "-0.25379955565110557\n",
      "3674.3913198704827\n",
      "3265.2001735565873\n",
      "-0.25379955565110557\n"
     ]
    },
    {
     "name": "stderr",
     "output_type": "stream",
     "text": [
      "\r",
      "t:  29%|███████████████████▎                                              | 369/1260 [02:47<06:41,  2.22it/s, now=None]"
     ]
    },
    {
     "name": "stdout",
     "output_type": "stream",
     "text": [
      "720\n",
      "640.0\n",
      "358.2010963677291\n",
      "1021.9739831423783\n",
      "690.0875397550537\n",
      "-0.2647484244195698\n",
      "2365.532177889834\n",
      "4815.2406124579375\n",
      "-0.2647484244195698\n"
     ]
    },
    {
     "name": "stderr",
     "output_type": "stream",
     "text": [
      "\r",
      "t:  29%|███████████████████▍                                              | 370/1260 [02:47<06:37,  2.24it/s, now=None]"
     ]
    },
    {
     "name": "stdout",
     "output_type": "stream",
     "text": [
      "720\n",
      "640.0\n",
      "359.33776103756037\n",
      "1015.6433075170532\n",
      "687.4905342773068\n",
      "-0.2510213954657644\n",
      "1742.6067036526388\n",
      "2298.2636598563577\n",
      "-0.2510213954657644\n"
     ]
    },
    {
     "name": "stderr",
     "output_type": "stream",
     "text": [
      "\r",
      "t:  29%|███████████████████▍                                              | 371/1260 [02:48<06:38,  2.23it/s, now=None]"
     ]
    },
    {
     "name": "stdout",
     "output_type": "stream",
     "text": [
      "720\n",
      "640.0\n",
      "357.44932029482817\n",
      "1016.1632632953381\n",
      "686.8062917950831\n",
      "-0.2474046852025821\n",
      "1762.5266523269627\n",
      "1862.9445858881136\n",
      "-0.2474046852025821\n"
     ]
    },
    {
     "name": "stderr",
     "output_type": "stream",
     "text": [
      "\r",
      "t:  30%|███████████████████▍                                              | 372/1260 [02:48<06:34,  2.25it/s, now=None]"
     ]
    },
    {
     "name": "stdout",
     "output_type": "stream",
     "text": [
      "720\n",
      "640.0\n",
      "355.49565836589613\n",
      "1017.9053173536171\n",
      "686.7004878597565\n",
      "-0.24684543583014176\n",
      "1562.6114734888909\n",
      "1711.6342102941069\n",
      "-0.24684543583014176\n"
     ]
    },
    {
     "name": "stderr",
     "output_type": "stream",
     "text": [
      "\r",
      "t:  30%|███████████████████▌                                              | 373/1260 [02:48<06:43,  2.20it/s, now=None]"
     ]
    },
    {
     "name": "stdout",
     "output_type": "stream",
     "text": [
      "720\n",
      "640.0\n",
      "353.21820281161274\n",
      "1024.7382781422507\n",
      "688.9782404769317\n",
      "-0.25888498537806737\n",
      "1482.0288950362274\n",
      "4811.746765247095\n",
      "-0.25888498537806737\n"
     ]
    },
    {
     "name": "stderr",
     "output_type": "stream",
     "text": [
      "\r",
      "t:  30%|███████████████████▌                                              | 374/1260 [02:49<06:43,  2.19it/s, now=None]"
     ]
    },
    {
     "name": "stdout",
     "output_type": "stream",
     "text": [
      "720\n",
      "640.0\n",
      "350.02194869089567\n",
      "1025.7260667021717\n",
      "687.8740076965337\n",
      "-0.25304832639596375\n",
      "1469.5345752129833\n",
      "6665.028243992638\n",
      "-0.25304832639596375\n"
     ]
    },
    {
     "name": "stderr",
     "output_type": "stream",
     "text": [
      "\r",
      "t:  30%|███████████████████▋                                              | 375/1260 [02:49<06:50,  2.16it/s, now=None]"
     ]
    },
    {
     "name": "stdout",
     "output_type": "stream",
     "text": [
      "720\n",
      "640.0\n",
      "346.12896200594673\n",
      "1027.8222769928432\n",
      "686.975619499395\n",
      "-0.24829970306823046\n",
      "1678.5077631335553\n",
      "2272.6835945849193\n",
      "-0.24829970306823046\n"
     ]
    },
    {
     "name": "stderr",
     "output_type": "stream",
     "text": [
      "\r",
      "t:  30%|███████████████████▋                                              | 376/1260 [02:50<06:46,  2.17it/s, now=None]"
     ]
    },
    {
     "name": "stdout",
     "output_type": "stream",
     "text": [
      "720\n",
      "640.0\n",
      "342.9655415077125\n",
      "1025.143670626741\n",
      "684.0546060672267\n",
      "-0.23286006064105544\n",
      "1923.9771239624947\n",
      "408366.41831154044\n",
      "-0.23286006064105544\n"
     ]
    },
    {
     "name": "stderr",
     "output_type": "stream",
     "text": [
      "\r",
      "t:  30%|███████████████████▋                                              | 377/1260 [02:50<06:42,  2.20it/s, now=None]"
     ]
    },
    {
     "name": "stdout",
     "output_type": "stream",
     "text": [
      "720\n",
      "640.0\n",
      "340.5906583635978\n",
      "1023.217945240986\n",
      "681.9043018022919\n",
      "-0.22149416666925725\n",
      "2390.947888240113\n",
      "3696.3722687750146\n",
      "-0.22149416666925725\n"
     ]
    },
    {
     "name": "stderr",
     "output_type": "stream",
     "text": [
      "\r",
      "t:  30%|███████████████████▊                                              | 378/1260 [02:51<06:52,  2.14it/s, now=None]"
     ]
    },
    {
     "name": "stdout",
     "output_type": "stream",
     "text": [
      "720\n",
      "640.0\n",
      "337.31735884017064\n",
      "977.6154412780282\n",
      "657.4664000590994\n",
      "-0.09232240031238277\n",
      "3824.83716115328\n",
      "956.0930373809406\n",
      "-0.09232240031238277\n"
     ]
    },
    {
     "name": "stderr",
     "output_type": "stream",
     "text": [
      "\r",
      "t:  30%|███████████████████▊                                              | 379/1260 [02:51<07:07,  2.06it/s, now=None]"
     ]
    },
    {
     "name": "stdout",
     "output_type": "stream",
     "text": [
      "720\n",
      "640.0\n",
      "336.1457120200723\n",
      "997.2338139281509\n",
      "666.6897629741115\n",
      "-0.1410744614345896\n",
      "5439.761110439483\n",
      "1628.1500297910134\n",
      "-0.1410744614345896\n"
     ]
    },
    {
     "name": "stderr",
     "output_type": "stream",
     "text": [
      "\r",
      "t:  30%|███████████████████▉                                              | 380/1260 [02:52<07:02,  2.08it/s, now=None]"
     ]
    },
    {
     "name": "stdout",
     "output_type": "stream",
     "text": [
      "720\n",
      "640.0\n",
      "334.49349014930925\n",
      "999.6128013096599\n",
      "667.0531457294845\n",
      "-0.1429951988558468\n",
      "11164.065176133325\n",
      "1537.4623459460938\n",
      "-0.1429951988558468\n"
     ]
    },
    {
     "name": "stderr",
     "output_type": "stream",
     "text": [
      "\r",
      "t:  30%|███████████████████▉                                              | 381/1260 [02:52<07:02,  2.08it/s, now=None]"
     ]
    },
    {
     "name": "stdout",
     "output_type": "stream",
     "text": [
      "720\n",
      "640.0\n",
      "334.5190151747175\n",
      "1021.9351233974111\n",
      "678.2270692860643\n",
      "-0.2020573662263399\n",
      "27788.229425565965\n",
      "8569.58351875808\n",
      "-0.2020573662263399\n"
     ]
    },
    {
     "name": "stderr",
     "output_type": "stream",
     "text": [
      "\r",
      "t:  30%|████████████████████                                              | 382/1260 [02:53<06:50,  2.14it/s, now=None]"
     ]
    },
    {
     "name": "stdout",
     "output_type": "stream",
     "text": [
      "720\n",
      "640.0\n",
      "332.8659511648307\n",
      "1034.3376906280548\n",
      "683.6018208964427\n",
      "-0.2304667675954831\n",
      "20530.515359052977\n",
      "3287.5839804344923\n",
      "-0.2304667675954831\n"
     ]
    },
    {
     "name": "stderr",
     "output_type": "stream",
     "text": [
      "\r",
      "t:  30%|████████████████████                                              | 383/1260 [02:53<06:55,  2.11it/s, now=None]"
     ]
    },
    {
     "name": "stdout",
     "output_type": "stream",
     "text": [
      "720\n",
      "640.0\n",
      "333.90517670791326\n",
      "1035.6084618260584\n",
      "684.7568192669858\n",
      "-0.23657175898263902\n",
      "11072.226064549453\n",
      "2333.195823351165\n",
      "-0.23657175898263902\n"
     ]
    },
    {
     "name": "stderr",
     "output_type": "stream",
     "text": [
      "\r",
      "t:  30%|████████████████████                                              | 384/1260 [02:54<06:50,  2.14it/s, now=None]"
     ]
    },
    {
     "name": "stdout",
     "output_type": "stream",
     "text": [
      "720\n",
      "640.0\n",
      "335.6315872630973\n",
      "1017.9314151674562\n",
      "676.7815012152768\n",
      "-0.19441650642360575\n",
      "8105.82395449662\n",
      "3489.84423902237\n",
      "-0.19441650642360575\n"
     ]
    },
    {
     "name": "stderr",
     "output_type": "stream",
     "text": [
      "\r",
      "t:  31%|████████████████████▏                                             | 385/1260 [02:54<06:45,  2.16it/s, now=None]"
     ]
    },
    {
     "name": "stdout",
     "output_type": "stream",
     "text": [
      "720\n",
      "640.0\n",
      "335.7669126995868\n",
      "1015.4311186919987\n",
      "675.5990156957928\n",
      "-0.188166225820619\n",
      "5497.093662192125\n",
      "2101.1573765465355\n",
      "-0.188166225820619\n"
     ]
    },
    {
     "name": "stderr",
     "output_type": "stream",
     "text": [
      "\r",
      "t:  31%|████████████████████▏                                             | 386/1260 [02:55<06:46,  2.15it/s, now=None]"
     ]
    },
    {
     "name": "stdout",
     "output_type": "stream",
     "text": [
      "720\n",
      "640.0\n",
      "336.25846037944643\n",
      "1021.2301694514086\n",
      "678.7443149154276\n",
      "-0.20479137883868873\n",
      "5293.986033691236\n",
      "3600.3241892007113\n",
      "-0.20479137883868873\n"
     ]
    },
    {
     "name": "stderr",
     "output_type": "stream",
     "text": [
      "\r",
      "t:  31%|████████████████████▎                                             | 387/1260 [02:55<06:45,  2.15it/s, now=None]"
     ]
    },
    {
     "name": "stdout",
     "output_type": "stream",
     "text": [
      "720\n",
      "640.0\n",
      "336.8813023694718\n",
      "1022.9407597895871\n",
      "679.9110310795295\n",
      "-0.2109583071346559\n",
      "5301.004204840321\n",
      "29622.57319156908\n",
      "-0.2109583071346559\n"
     ]
    },
    {
     "name": "stderr",
     "output_type": "stream",
     "text": [
      "\r",
      "t:  31%|████████████████████▎                                             | 388/1260 [02:55<06:47,  2.14it/s, now=None]"
     ]
    },
    {
     "name": "stdout",
     "output_type": "stream",
     "text": [
      "720\n",
      "640.0\n",
      "336.4405144176834\n",
      "1026.5799404565958\n",
      "681.5102274371395\n",
      "-0.21941120216773746\n",
      "5486.241024254206\n",
      "2440.67600008304\n",
      "-0.21941120216773746\n"
     ]
    },
    {
     "name": "stderr",
     "output_type": "stream",
     "text": [
      "\r",
      "t:  31%|████████████████████▍                                             | 389/1260 [02:56<06:59,  2.08it/s, now=None]"
     ]
    },
    {
     "name": "stdout",
     "output_type": "stream",
     "text": [
      "720\n",
      "640.0\n",
      "339.24023400489114\n",
      "1028.4750313339623\n",
      "683.8576326694267\n",
      "-0.2318189155383984\n",
      "7996.440976598884\n",
      "1199.9516941718753\n",
      "-0.2318189155383984\n"
     ]
    },
    {
     "name": "stderr",
     "output_type": "stream",
     "text": [
      "\r",
      "t:  31%|████████████████████▍                                             | 390/1260 [02:56<06:43,  2.16it/s, now=None]"
     ]
    },
    {
     "name": "stdout",
     "output_type": "stream",
     "text": [
      "720\n",
      "640.0\n",
      "339.52920237392664\n",
      "1011.4156590997736\n",
      "675.4724307368501\n",
      "-0.18749713389477926\n",
      "11229.575594851613\n",
      "8735.08355867055\n",
      "-0.18749713389477926\n"
     ]
    },
    {
     "name": "stderr",
     "output_type": "stream",
     "text": [
      "\r",
      "t:  31%|████████████████████▍                                             | 391/1260 [02:57<06:39,  2.18it/s, now=None]"
     ]
    },
    {
     "name": "stdout",
     "output_type": "stream",
     "text": [
      "720\n",
      "640.0\n",
      "339.89440600064074\n",
      "995.418337566851\n",
      "667.656371783746\n",
      "-0.1461836794283715\n",
      "180835.76739277298\n",
      "3068.41837839195\n",
      "-0.1461836794283715\n"
     ]
    },
    {
     "name": "stderr",
     "output_type": "stream",
     "text": [
      "\r",
      "t:  31%|████████████████████▌                                             | 392/1260 [02:57<06:43,  2.15it/s, now=None]"
     ]
    },
    {
     "name": "stdout",
     "output_type": "stream",
     "text": [
      "720\n",
      "640.0\n",
      "339.53033052189727\n",
      "981.9308500735883\n",
      "660.7305902977428\n",
      "-0.10957597728806891\n",
      "26482.48230912337\n",
      "935.0272826360649\n",
      "-0.10957597728806891\n"
     ]
    },
    {
     "name": "stderr",
     "output_type": "stream",
     "text": [
      "\r",
      "t:  31%|████████████████████▌                                             | 393/1260 [02:58<06:44,  2.14it/s, now=None]"
     ]
    },
    {
     "name": "stdout",
     "output_type": "stream",
     "text": [
      "720\n",
      "640.0\n",
      "338.8888127546571\n",
      "1021.2275173300488\n",
      "680.058165042353\n",
      "-0.21173601522386606\n",
      "16614.598629749424\n",
      "7254.886590101662\n",
      "-0.21173601522386606\n"
     ]
    },
    {
     "name": "stderr",
     "output_type": "stream",
     "text": [
      "\r",
      "t:  31%|████████████████████▋                                             | 394/1260 [02:58<06:40,  2.16it/s, now=None]"
     ]
    },
    {
     "name": "stdout",
     "output_type": "stream",
     "text": [
      "720\n",
      "640.0\n",
      "341.2611847365078\n",
      "1000.9103272318416\n",
      "671.0857559841747\n",
      "-0.16431042448778077\n",
      "452201.4654146954\n",
      "1371.9679628609974\n",
      "-0.16431042448778077\n"
     ]
    },
    {
     "name": "stderr",
     "output_type": "stream",
     "text": [
      "\r",
      "t:  31%|████████████████████▋                                             | 395/1260 [02:59<06:38,  2.17it/s, now=None]"
     ]
    },
    {
     "name": "stdout",
     "output_type": "stream",
     "text": [
      "720\n",
      "640.0\n",
      "338.63840318880085\n",
      "1011.8890506507206\n",
      "675.2637269197608\n",
      "-0.18639398514730687\n",
      "14547.164301205074\n",
      "2581.568963623155\n",
      "-0.18639398514730687\n"
     ]
    },
    {
     "name": "stderr",
     "output_type": "stream",
     "text": [
      "\r",
      "t:  31%|████████████████████▋                                             | 396/1260 [02:59<06:41,  2.15it/s, now=None]"
     ]
    },
    {
     "name": "stdout",
     "output_type": "stream",
     "text": [
      "720\n",
      "640.0\n",
      "338.2049501937253\n",
      "1020.8025141531558\n",
      "679.5037321734405\n",
      "-0.20880544148818572\n",
      "14260.272397833469\n",
      "60990.44012403203\n",
      "-0.20880544148818572\n"
     ]
    },
    {
     "name": "stderr",
     "output_type": "stream",
     "text": [
      "\r",
      "t:  32%|████████████████████▊                                             | 397/1260 [03:00<06:35,  2.18it/s, now=None]"
     ]
    },
    {
     "name": "stdout",
     "output_type": "stream",
     "text": [
      "720\n",
      "640.0\n",
      "336.7939341818307\n",
      "1029.6225977261877\n",
      "683.2082659540092\n",
      "-0.22838654861404875\n",
      "9521.304219914706\n",
      "2258.0265375226368\n",
      "-0.22838654861404875\n"
     ]
    },
    {
     "name": "stderr",
     "output_type": "stream",
     "text": [
      "\r",
      "t:  32%|████████████████████▊                                             | 398/1260 [03:00<06:38,  2.16it/s, now=None]"
     ]
    },
    {
     "name": "stdout",
     "output_type": "stream",
     "text": [
      "720\n",
      "640.0\n",
      "336.59647675117134\n",
      "1018.9886664651685\n",
      "677.79257160817\n",
      "-0.1997607356431841\n",
      "19519.278439157944\n",
      "4280.213154965949\n",
      "-0.1997607356431841\n"
     ]
    },
    {
     "name": "stderr",
     "output_type": "stream",
     "text": [
      "\r",
      "t:  32%|████████████████████▉                                             | 399/1260 [03:01<06:38,  2.16it/s, now=None]"
     ]
    },
    {
     "name": "stdout",
     "output_type": "stream",
     "text": [
      "720\n",
      "640.0\n",
      "334.6973328739228\n",
      "1020.832288379278\n",
      "677.7648106266004\n",
      "-0.1996139990263162\n",
      "7337.232556337916\n",
      "81946.90352168298\n",
      "-0.1996139990263162\n"
     ]
    },
    {
     "name": "stderr",
     "output_type": "stream",
     "text": [
      "\r",
      "t:  32%|████████████████████▉                                             | 400/1260 [03:01<06:38,  2.16it/s, now=None]"
     ]
    },
    {
     "name": "stdout",
     "output_type": "stream",
     "text": [
      "720\n",
      "640.0\n",
      "332.3695988434188\n",
      "1022.1707679956135\n",
      "677.2701834195161\n",
      "-0.19699954093172806\n",
      "4960.648290455178\n",
      "3978.58480495554\n",
      "-0.19699954093172806\n"
     ]
    },
    {
     "name": "stderr",
     "output_type": "stream",
     "text": [
      "\r",
      "t:  32%|█████████████████████                                             | 401/1260 [03:01<06:32,  2.19it/s, now=None]"
     ]
    },
    {
     "name": "stdout",
     "output_type": "stream",
     "text": [
      "720\n",
      "640.0\n",
      "332.51219437087406\n",
      "1023.2517507577184\n",
      "677.8819725642962\n",
      "-0.20023328355413725\n",
      "4518.623926481779\n",
      "1616.8270776849938\n",
      "-0.20023328355413725\n"
     ]
    },
    {
     "name": "stderr",
     "output_type": "stream",
     "text": [
      "\r",
      "t:  32%|█████████████████████                                             | 402/1260 [03:02<06:35,  2.17it/s, now=None]"
     ]
    },
    {
     "name": "stdout",
     "output_type": "stream",
     "text": [
      "720\n",
      "640.0\n",
      "330.5206854562168\n",
      "1017.4704010715055\n",
      "673.9955432638612\n",
      "-0.1796907286804094\n",
      "3227.1293932856474\n",
      "2690.276612348103\n",
      "-0.1796907286804094\n"
     ]
    },
    {
     "name": "stderr",
     "output_type": "stream",
     "text": [
      "\r",
      "t:  32%|█████████████████████                                             | 403/1260 [03:02<06:31,  2.19it/s, now=None]"
     ]
    },
    {
     "name": "stdout",
     "output_type": "stream",
     "text": [
      "720\n",
      "640.0\n",
      "330.06416710990624\n",
      "994.008843737245\n",
      "662.0365054235756\n",
      "-0.11647867152461384\n",
      "3150.2785148824823\n",
      "1676.7348727310855\n",
      "-0.11647867152461384\n"
     ]
    },
    {
     "name": "stderr",
     "output_type": "stream",
     "text": [
      "\r",
      "t:  32%|█████████████████████▏                                            | 404/1260 [03:03<06:26,  2.22it/s, now=None]"
     ]
    },
    {
     "name": "stdout",
     "output_type": "stream",
     "text": [
      "720\n",
      "640.0\n",
      "332.3157996034123\n",
      "966.7515148594082\n",
      "649.5336572314102\n",
      "-0.05039218822316814\n",
      "3524.1320812854\n",
      "451.80521101277935\n",
      "-0.05039218822316814\n"
     ]
    },
    {
     "name": "stderr",
     "output_type": "stream",
     "text": [
      "\r",
      "t:  32%|█████████████████████▏                                            | 405/1260 [03:03<06:16,  2.27it/s, now=None]"
     ]
    },
    {
     "name": "stdout",
     "output_type": "stream",
     "text": [
      "720\n",
      "640.0\n",
      "330.2825411509138\n",
      "1003.9968750757345\n",
      "667.1397081133241\n",
      "-0.14345274288471313\n",
      "2987.3544521394483\n",
      "2401.9247241741914\n",
      "-0.14345274288471313\n"
     ]
    },
    {
     "name": "stderr",
     "output_type": "stream",
     "text": [
      "\r",
      "t:  32%|█████████████████████▎                                            | 406/1260 [03:04<06:08,  2.32it/s, now=None]"
     ]
    },
    {
     "name": "stdout",
     "output_type": "stream",
     "text": [
      "720\n",
      "640.0\n",
      "332.80446435465745\n",
      "994.6531105821244\n",
      "663.7287874683909\n",
      "-0.125423590904352\n",
      "5147.425760734196\n",
      "1309.8354808848665\n",
      "-0.125423590904352\n"
     ]
    },
    {
     "name": "stderr",
     "output_type": "stream",
     "text": [
      "\r",
      "t:  32%|█████████████████████▎                                            | 407/1260 [03:04<06:26,  2.21it/s, now=None]"
     ]
    },
    {
     "name": "stdout",
     "output_type": "stream",
     "text": [
      "720\n",
      "640.0\n",
      "333.82271634992213\n",
      "992.5301233846761\n",
      "663.1764198672992\n",
      "-0.12250393358429557\n",
      "14222.110050609088\n",
      "1234.2946217500642\n",
      "-0.12250393358429557\n"
     ]
    },
    {
     "name": "stderr",
     "output_type": "stream",
     "text": [
      "\r",
      "t:  32%|█████████████████████▎                                            | 408/1260 [03:05<06:28,  2.19it/s, now=None]"
     ]
    },
    {
     "name": "stdout",
     "output_type": "stream",
     "text": [
      "720\n",
      "640.0\n",
      "334.32286665256896\n",
      "1010.6767802296001\n",
      "672.4998234410846\n",
      "-0.17178478104573275\n",
      "16409.3760359284\n",
      "25700.179102661055\n",
      "-0.17178478104573275\n"
     ]
    },
    {
     "name": "stderr",
     "output_type": "stream",
     "text": [
      "\r",
      "t:  32%|█████████████████████▍                                            | 409/1260 [03:05<06:33,  2.16it/s, now=None]"
     ]
    },
    {
     "name": "stdout",
     "output_type": "stream",
     "text": [
      "720\n",
      "640.0\n",
      "335.1060935264505\n",
      "1009.3558019961017\n",
      "672.2309477612761\n",
      "-0.1703635810238878\n",
      "8373.501711745015\n",
      "10072.531447172925\n",
      "-0.1703635810238878\n"
     ]
    },
    {
     "name": "stderr",
     "output_type": "stream",
     "text": [
      "\r",
      "t:  33%|█████████████████████▍                                            | 410/1260 [03:06<06:34,  2.15it/s, now=None]"
     ]
    },
    {
     "name": "stdout",
     "output_type": "stream",
     "text": [
      "720\n",
      "640.0\n",
      "333.3106723929221\n",
      "1015.7425615059032\n",
      "674.5266169494126\n",
      "-0.1824978324468954\n",
      "7095.431216925706\n",
      "2286.7214526588355\n",
      "-0.1824978324468954\n"
     ]
    },
    {
     "name": "stderr",
     "output_type": "stream",
     "text": [
      "\r",
      "t:  33%|█████████████████████▌                                            | 411/1260 [03:06<06:33,  2.16it/s, now=None]"
     ]
    },
    {
     "name": "stdout",
     "output_type": "stream",
     "text": [
      "720\n",
      "640.0\n",
      "332.9603561613302\n",
      "1013.672086573539\n",
      "673.3162213674345\n",
      "-0.17610002722786827\n",
      "6091.979779933157\n",
      "2509.2771831305067\n",
      "-0.17610002722786827\n"
     ]
    },
    {
     "name": "stderr",
     "output_type": "stream",
     "text": [
      "\r",
      "t:  33%|█████████████████████▌                                            | 412/1260 [03:06<06:32,  2.16it/s, now=None]"
     ]
    },
    {
     "name": "stdout",
     "output_type": "stream",
     "text": [
      "720\n",
      "640.0\n",
      "331.4416815737896\n",
      "1012.580442486981\n",
      "672.0110620303853\n",
      "-0.16920132787489398\n",
      "4892.89684702055\n",
      "2530.4664093787023\n",
      "-0.16920132787489398\n"
     ]
    },
    {
     "name": "stderr",
     "output_type": "stream",
     "text": [
      "\r",
      "t:  33%|█████████████████████▋                                            | 413/1260 [03:07<06:31,  2.17it/s, now=None]"
     ]
    },
    {
     "name": "stdout",
     "output_type": "stream",
     "text": [
      "720\n",
      "640.0\n",
      "330.15737528487426\n",
      "1013.09977996479\n",
      "671.6285776248321\n",
      "-0.1671796245883984\n",
      "5286.003951414957\n",
      "1793.9850496157353\n",
      "-0.1671796245883984\n"
     ]
    },
    {
     "name": "stderr",
     "output_type": "stream",
     "text": [
      "\r",
      "t:  33%|█████████████████████▋                                            | 414/1260 [03:07<06:25,  2.20it/s, now=None]"
     ]
    },
    {
     "name": "stdout",
     "output_type": "stream",
     "text": [
      "720\n",
      "640.0\n",
      "328.04298267312345\n",
      "990.0071227223025\n",
      "659.0250526977129\n",
      "-0.10056099283076823\n",
      "6181.800260143158\n",
      "3681.4911064276876\n",
      "-0.10056099283076823\n"
     ]
    },
    {
     "name": "stderr",
     "output_type": "stream",
     "text": [
      "\r",
      "t:  33%|█████████████████████▋                                            | 415/1260 [03:08<06:32,  2.16it/s, now=None]"
     ]
    },
    {
     "name": "stdout",
     "output_type": "stream",
     "text": [
      "720\n",
      "640.0\n",
      "326.7230251599603\n",
      "1000.1543832102445\n",
      "663.4387041851024\n",
      "-0.12389029354982718\n",
      "5986.491676759931\n",
      "2888.8718437186953\n",
      "-0.12389029354982718\n"
     ]
    },
    {
     "name": "stderr",
     "output_type": "stream",
     "text": [
      "\r",
      "t:  33%|█████████████████████▊                                            | 416/1260 [03:08<05:45,  2.44it/s, now=None]"
     ]
    },
    {
     "name": "stdout",
     "output_type": "stream",
     "text": [
      "720\n",
      "640.0\n",
      "323.9977675961027\n",
      "967.0507812665952\n",
      "645.5242744313489\n",
      "-0.029199736279986968\n",
      "32138.23814574881\n",
      "965.1926343902225\n",
      "-0.029199736279986968\n"
     ]
    },
    {
     "name": "stderr",
     "output_type": "stream",
     "text": [
      "\r",
      "t:  33%|█████████████████████▊                                            | 417/1260 [03:08<05:14,  2.68it/s, now=None]"
     ]
    },
    {
     "name": "stdout",
     "output_type": "stream",
     "text": [
      "720\n",
      "640.0\n",
      "321.5088483525439\n",
      "981.6236219646692\n",
      "651.5662351586066\n",
      "-0.061135814409777535\n",
      "57286.473670466556\n",
      "1343.3805405345265\n",
      "-0.061135814409777535\n"
     ]
    },
    {
     "name": "stderr",
     "output_type": "stream",
     "text": [
      "\r",
      "t:  33%|█████████████████████▉                                            | 418/1260 [03:09<05:03,  2.77it/s, now=None]"
     ]
    },
    {
     "name": "stdout",
     "output_type": "stream",
     "text": [
      "720\n",
      "640.0\n",
      "319.8427002982318\n",
      "992.1603740407849\n",
      "656.0015371695083\n",
      "-0.08457955361025822\n",
      "10622.980257486111\n",
      "1838.9309429747188\n",
      "-0.08457955361025822\n"
     ]
    },
    {
     "name": "stderr",
     "output_type": "stream",
     "text": [
      "\r",
      "t:  33%|█████████████████████▉                                            | 419/1260 [03:09<05:02,  2.78it/s, now=None]"
     ]
    },
    {
     "name": "stdout",
     "output_type": "stream",
     "text": [
      "720\n",
      "640.0\n",
      "319.08020379388245\n",
      "995.2163620393928\n",
      "657.1482829166376\n",
      "-0.09064092398794182\n",
      "10386.95628044489\n",
      "2164.3142330008263\n",
      "-0.09064092398794182\n"
     ]
    },
    {
     "name": "stderr",
     "output_type": "stream",
     "text": [
      "\r",
      "t:  33%|██████████████████████                                            | 420/1260 [03:09<04:36,  3.04it/s, now=None]"
     ]
    },
    {
     "name": "stdout",
     "output_type": "stream",
     "text": [
      "720\n",
      "640.0\n",
      "318.12715306213113\n",
      "995.1625991998229\n",
      "656.6448761309771\n",
      "-0.08798005954945029\n",
      "6812.730113715382\n",
      "2228.5823451676897\n",
      "-0.08798005954945029\n"
     ]
    },
    {
     "name": "stderr",
     "output_type": "stream",
     "text": [
      "\r",
      "t:  33%|██████████████████████                                            | 421/1260 [03:10<04:30,  3.10it/s, now=None]"
     ]
    },
    {
     "name": "stdout",
     "output_type": "stream",
     "text": [
      "720\n",
      "640.0\n",
      "318.33369179645035\n",
      "1005.0316864149083\n",
      "661.6826891056794\n",
      "-0.11460849955859112\n",
      "5333.926305357913\n",
      "20123.865795045003\n",
      "-0.11460849955859112\n"
     ]
    },
    {
     "name": "stderr",
     "output_type": "stream",
     "text": [
      "\r",
      "t:  33%|██████████████████████                                            | 422/1260 [03:10<05:04,  2.76it/s, now=None]"
     ]
    },
    {
     "name": "stdout",
     "output_type": "stream",
     "text": [
      "720\n",
      "640.0\n",
      "318.81113993083443\n",
      "1001.0373712350529\n",
      "659.9242555829437\n",
      "-0.10531392236698821\n",
      "5850.721749167507\n",
      "5632.11350034421\n",
      "-0.10531392236698821\n"
     ]
    },
    {
     "name": "stderr",
     "output_type": "stream",
     "text": [
      "\r",
      "t:  34%|██████████████████████▏                                           | 423/1260 [03:11<05:42,  2.44it/s, now=None]"
     ]
    },
    {
     "name": "stdout",
     "output_type": "stream",
     "text": [
      "720\n",
      "640.0\n",
      "318.33329637259436\n",
      "1000.0012011340003\n",
      "659.1672487532974\n",
      "-0.10131260055314326\n",
      "3925.531320806922\n",
      "5931.822728687171\n",
      "-0.10131260055314326\n"
     ]
    },
    {
     "name": "stderr",
     "output_type": "stream",
     "text": [
      "\r",
      "t:  34%|██████████████████████▏                                           | 424/1260 [03:11<06:04,  2.29it/s, now=None]"
     ]
    },
    {
     "name": "stdout",
     "output_type": "stream",
     "text": [
      "720\n",
      "640.0\n",
      "316.6157008703039\n",
      "1001.6717804472165\n",
      "659.1437406587602\n",
      "-0.10118834348201809\n",
      "4028.0568503633617\n",
      "11611.27224737731\n",
      "-0.10118834348201809\n"
     ]
    },
    {
     "name": "stderr",
     "output_type": "stream",
     "text": [
      "\r",
      "t:  34%|██████████████████████▎                                           | 425/1260 [03:12<06:00,  2.32it/s, now=None]"
     ]
    },
    {
     "name": "stdout",
     "output_type": "stream",
     "text": [
      "720\n",
      "640.0\n",
      "316.2602003849548\n",
      "1005.5627032592455\n",
      "660.9114518221002\n",
      "-0.11053195963110087\n",
      "4734.281829350428\n",
      "1128.7098031114995\n",
      "-0.11053195963110087\n"
     ]
    },
    {
     "name": "stderr",
     "output_type": "stream",
     "text": [
      "\r",
      "t:  34%|██████████████████████▎                                           | 426/1260 [03:12<06:05,  2.28it/s, now=None]"
     ]
    },
    {
     "name": "stdout",
     "output_type": "stream",
     "text": [
      "720\n",
      "640.0\n",
      "316.3228716195989\n",
      "965.382068666594\n",
      "640.8524701430965\n",
      "-0.004505913613510205\n",
      "4606.194753768348\n",
      "969.6828292185749\n",
      "-0.004505913613510205\n"
     ]
    },
    {
     "name": "stderr",
     "output_type": "stream",
     "text": [
      "\r",
      "t:  34%|██████████████████████▎                                           | 427/1260 [03:12<06:09,  2.26it/s, now=None]"
     ]
    },
    {
     "name": "stdout",
     "output_type": "stream",
     "text": [
      "720\n",
      "640.0\n",
      "315.9101108445743\n",
      "956.2802386563405\n",
      "636.0951747504574\n",
      "0.020639790604725008\n",
      "6920.056380939595\n",
      "512.0937525853401\n",
      "0.020639790604725008\n"
     ]
    },
    {
     "name": "stderr",
     "output_type": "stream",
     "text": [
      "\r",
      "t:  34%|██████████████████████▍                                           | 428/1260 [03:13<06:12,  2.24it/s, now=None]"
     ]
    },
    {
     "name": "stdout",
     "output_type": "stream",
     "text": [
      "720\n",
      "640.0\n",
      "315.83748299701614\n",
      "961.0370424661874\n",
      "638.4372627316018\n",
      "0.008260182704390608\n",
      "5009.430750521463\n",
      "442.1614313352134\n",
      "0.008260182704390608\n"
     ]
    },
    {
     "name": "stderr",
     "output_type": "stream",
     "text": [
      "\r",
      "t:  34%|██████████████████████▍                                           | 429/1260 [03:13<06:09,  2.25it/s, now=None]"
     ]
    },
    {
     "name": "stdout",
     "output_type": "stream",
     "text": [
      "720\n",
      "640.0\n",
      "314.783554298326\n",
      "967.6598236898399\n",
      "641.2216889940829\n",
      "-0.006457498968723956\n",
      "4308.365626352915\n",
      "996.0605657220727\n",
      "-0.006457498968723956\n"
     ]
    },
    {
     "name": "stderr",
     "output_type": "stream",
     "text": [
      "\r",
      "t:  34%|██████████████████████▌                                           | 430/1260 [03:14<06:13,  2.22it/s, now=None]"
     ]
    },
    {
     "name": "stdout",
     "output_type": "stream",
     "text": [
      "720\n",
      "640.0\n",
      "315.9187447721007\n",
      "980.4921795432869\n",
      "648.2054621576938\n",
      "-0.04337172854780995\n",
      "6805.8243726636065\n",
      "1578.5993525771444\n",
      "-0.04337172854780995\n"
     ]
    },
    {
     "name": "stderr",
     "output_type": "stream",
     "text": [
      "\r",
      "t:  34%|██████████████████████▌                                           | 431/1260 [03:14<06:17,  2.20it/s, now=None]"
     ]
    },
    {
     "name": "stdout",
     "output_type": "stream",
     "text": [
      "720\n",
      "640.0\n",
      "315.99428428990456\n",
      "977.7225496341889\n",
      "646.8584169620467\n",
      "-0.036251632513675434\n",
      "9995.711635235959\n",
      "1412.4705965838973\n",
      "-0.036251632513675434\n"
     ]
    },
    {
     "name": "stderr",
     "output_type": "stream",
     "text": [
      "\r",
      "t:  34%|██████████████████████▋                                           | 432/1260 [03:15<06:15,  2.20it/s, now=None]"
     ]
    },
    {
     "name": "stdout",
     "output_type": "stream",
     "text": [
      "720\n",
      "640.0\n",
      "314.18350777391936\n",
      "989.0150409170999\n",
      "651.5992743455097\n",
      "-0.06131045011197976\n",
      "11132.832002603001\n",
      "3255.333799612032\n",
      "-0.06131045011197976\n"
     ]
    },
    {
     "name": "stderr",
     "output_type": "stream",
     "text": [
      "\r",
      "t:  34%|██████████████████████▋                                           | 433/1260 [03:15<06:18,  2.19it/s, now=None]"
     ]
    },
    {
     "name": "stdout",
     "output_type": "stream",
     "text": [
      "720\n",
      "640.0\n",
      "313.6321289212332\n",
      "991.2745376784173\n",
      "652.4533332998253\n",
      "-0.0658247617276481\n",
      "12432.184604673836\n",
      "11836.923841791477\n",
      "-0.0658247617276481\n"
     ]
    },
    {
     "name": "stderr",
     "output_type": "stream",
     "text": [
      "\r",
      "t:  34%|██████████████████████▋                                           | 434/1260 [03:16<06:25,  2.14it/s, now=None]"
     ]
    },
    {
     "name": "stdout",
     "output_type": "stream",
     "text": [
      "720\n",
      "640.0\n",
      "311.8984445856112\n",
      "990.920912763272\n",
      "651.4096786744416\n",
      "-0.06030830156490549\n",
      "12054.13479023843\n",
      "6024.849513344069\n",
      "-0.06030830156490549\n"
     ]
    },
    {
     "name": "stderr",
     "output_type": "stream",
     "text": [
      "\r",
      "t:  35%|██████████████████████▊                                           | 435/1260 [03:16<06:20,  2.17it/s, now=None]"
     ]
    },
    {
     "name": "stdout",
     "output_type": "stream",
     "text": [
      "720\n",
      "640.0\n",
      "312.1555580121436\n",
      "992.0376091942911\n",
      "652.0965836032174\n",
      "-0.06393908475986324\n",
      "49932.31811307834\n",
      "8973.752069455584\n",
      "-0.06393908475986324\n"
     ]
    },
    {
     "name": "stderr",
     "output_type": "stream",
     "text": [
      "\r",
      "t:  35%|██████████████████████▊                                           | 436/1260 [03:17<06:11,  2.22it/s, now=None]"
     ]
    },
    {
     "name": "stdout",
     "output_type": "stream",
     "text": [
      "720\n",
      "640.0\n",
      "310.6984154162415\n",
      "993.4711808891952\n",
      "652.0847981527183\n",
      "-0.063876790235797\n",
      "13885.453483473664\n",
      "6188.900845919228\n",
      "-0.063876790235797\n"
     ]
    },
    {
     "name": "stderr",
     "output_type": "stream",
     "text": [
      "\r",
      "t:  35%|██████████████████████▉                                           | 437/1260 [03:17<06:07,  2.24it/s, now=None]"
     ]
    },
    {
     "name": "stdout",
     "output_type": "stream",
     "text": [
      "720\n",
      "640.0\n",
      "310.3152091572286\n",
      "995.3458620116378\n",
      "652.8305355844332\n",
      "-0.06781854523200387\n",
      "25779.95974804753\n",
      "2505.728137516155\n",
      "-0.06781854523200387\n"
     ]
    },
    {
     "name": "stderr",
     "output_type": "stream",
     "text": [
      "\r",
      "t:  35%|██████████████████████▉                                           | 438/1260 [03:17<06:09,  2.22it/s, now=None]"
     ]
    },
    {
     "name": "stdout",
     "output_type": "stream",
     "text": [
      "720\n",
      "640.0\n",
      "311.3126822728674\n",
      "954.215746668968\n",
      "632.7642144709178\n",
      "0.03824629493943475\n",
      "36883.13262969882\n",
      "773.8920064424489\n",
      "0.03824629493943475\n"
     ]
    },
    {
     "name": "stderr",
     "output_type": "stream",
     "text": [
      "\r",
      "t:  35%|██████████████████████▉                                           | 439/1260 [03:18<06:08,  2.23it/s, now=None]"
     ]
    },
    {
     "name": "stdout",
     "output_type": "stream",
     "text": [
      "720\n",
      "640.0\n",
      "309.68048956246724\n",
      "962.7518869004997\n",
      "636.2161882314834\n",
      "0.020000147919301804\n",
      "561826.5714834917\n",
      "945.3888081105509\n",
      "0.020000147919301804\n"
     ]
    },
    {
     "name": "stderr",
     "output_type": "stream",
     "text": [
      "\r",
      "t:  35%|███████████████████████                                           | 440/1260 [03:18<06:08,  2.23it/s, now=None]"
     ]
    },
    {
     "name": "stdout",
     "output_type": "stream",
     "text": [
      "720\n",
      "640.0\n",
      "310.86318119030165\n",
      "966.1135312874861\n",
      "638.4883562388939\n",
      "0.007990117022989613\n",
      "2974791.109975376\n",
      "1099.1567891757509\n",
      "0.007990117022989613\n"
     ]
    },
    {
     "name": "stderr",
     "output_type": "stream",
     "text": [
      "\r",
      "t:  35%|███████████████████████                                           | 441/1260 [03:19<06:13,  2.19it/s, now=None]"
     ]
    },
    {
     "name": "stdout",
     "output_type": "stream",
     "text": [
      "720\n",
      "640.0\n",
      "312.39538533628127\n",
      "968.2580720334146\n",
      "640.3267286848479\n",
      "-0.0017269944770533\n",
      "9770.70257804064\n",
      "1227.030476858534\n",
      "-0.0017269944770533\n"
     ]
    },
    {
     "name": "stderr",
     "output_type": "stream",
     "text": [
      "\r",
      "t:  35%|███████████████████████▏                                          | 442/1260 [03:19<06:19,  2.15it/s, now=None]"
     ]
    },
    {
     "name": "stdout",
     "output_type": "stream",
     "text": [
      "720\n",
      "640.0\n",
      "311.9022384418664\n",
      "975.5714570959914\n",
      "643.7368477689289\n",
      "-0.019751909635767027\n",
      "7253.90662420197\n",
      "1353.5280188248953\n",
      "-0.019751909635767027\n"
     ]
    },
    {
     "name": "stderr",
     "output_type": "stream",
     "text": [
      "\r",
      "t:  35%|███████████████████████▏                                          | 443/1260 [03:20<06:20,  2.15it/s, now=None]"
     ]
    },
    {
     "name": "stdout",
     "output_type": "stream",
     "text": [
      "720\n",
      "640.0\n",
      "311.29508085662343\n",
      "981.8515058518353\n",
      "646.5732933542293\n",
      "-0.034744550586640846\n",
      "5911.011668066581\n",
      "1757.0739589311088\n",
      "-0.034744550586640846\n"
     ]
    },
    {
     "name": "stderr",
     "output_type": "stream",
     "text": [
      "\r",
      "t:  35%|███████████████████████▎                                          | 444/1260 [03:20<06:14,  2.18it/s, now=None]"
     ]
    },
    {
     "name": "stdout",
     "output_type": "stream",
     "text": [
      "720\n",
      "640.0\n",
      "308.99675360198427\n",
      "991.2363396012506\n",
      "650.1165466016174\n",
      "-0.05347317489426348\n",
      "4417.2552370325375\n",
      "4179.3414098390485\n",
      "-0.05347317489426348\n"
     ]
    },
    {
     "name": "stderr",
     "output_type": "stream",
     "text": [
      "\r",
      "t:  35%|███████████████████████▎                                          | 445/1260 [03:21<06:13,  2.18it/s, now=None]"
     ]
    },
    {
     "name": "stdout",
     "output_type": "stream",
     "text": [
      "720\n",
      "640.0\n",
      "307.6714868343403\n",
      "988.3593795157315\n",
      "648.0154331750359\n",
      "-0.0423672896394756\n",
      "4297.909731976888\n",
      "2453.626340373535\n",
      "-0.0423672896394756\n"
     ]
    },
    {
     "name": "stderr",
     "output_type": "stream",
     "text": [
      "\r",
      "t:  35%|███████████████████████▎                                          | 446/1260 [03:21<06:16,  2.16it/s, now=None]"
     ]
    },
    {
     "name": "stdout",
     "output_type": "stream",
     "text": [
      "720\n",
      "640.0\n",
      "305.3691229119944\n",
      "990.4821254846123\n",
      "647.9256241983034\n",
      "-0.04189258504817487\n",
      "4217.3387945522545\n",
      "3268.6671799179817\n",
      "-0.04189258504817487\n"
     ]
    },
    {
     "name": "stderr",
     "output_type": "stream",
     "text": [
      "\r",
      "t:  35%|███████████████████████▍                                          | 447/1260 [03:22<06:23,  2.12it/s, now=None]"
     ]
    },
    {
     "name": "stdout",
     "output_type": "stream",
     "text": [
      "720\n",
      "640.0\n",
      "303.87219125548353\n",
      "990.5648439273735\n",
      "647.2185175914285\n",
      "-0.038155021554693545\n",
      "3910.7149651444865\n",
      "2595.700495126951\n",
      "-0.038155021554693545\n"
     ]
    },
    {
     "name": "stderr",
     "output_type": "stream",
     "text": [
      "\r",
      "t:  36%|███████████████████████▍                                          | 448/1260 [03:22<06:30,  2.08it/s, now=None]"
     ]
    },
    {
     "name": "stdout",
     "output_type": "stream",
     "text": [
      "720\n",
      "640.0\n",
      "303.9100159064508\n",
      "986.2488581541874\n",
      "645.079437030319\n",
      "-0.02684845287454336\n",
      "3838.6702722736263\n",
      "1954.9644290153592\n",
      "-0.02684845287454336\n"
     ]
    },
    {
     "name": "stderr",
     "output_type": "stream",
     "text": [
      "\r",
      "t:  36%|███████████████████████▌                                          | 449/1260 [03:23<06:13,  2.17it/s, now=None]"
     ]
    },
    {
     "name": "stdout",
     "output_type": "stream",
     "text": [
      "720\n",
      "640.0\n",
      "302.0597279414435\n",
      "987.3518612228831\n",
      "644.7057945821633\n",
      "-0.024873485648577557\n",
      "3914.6076639409666\n",
      "22820.770127159438\n",
      "-0.024873485648577557\n"
     ]
    },
    {
     "name": "stderr",
     "output_type": "stream",
     "text": [
      "\r",
      "t:  36%|███████████████████████▌                                          | 450/1260 [03:23<06:37,  2.04it/s, now=None]"
     ]
    },
    {
     "name": "stdout",
     "output_type": "stream",
     "text": [
      "720\n",
      "640.0\n",
      "300.7266483620201\n",
      "955.5226438501675\n",
      "628.1246461060938\n",
      "0.06276972772493282\n",
      "5431.9449151533345\n",
      "750.716119772501\n",
      "0.06276972772493282\n"
     ]
    },
    {
     "name": "stderr",
     "output_type": "stream",
     "text": [
      "\r",
      "t:  36%|███████████████████████▌                                          | 451/1260 [03:24<06:36,  2.04it/s, now=None]"
     ]
    },
    {
     "name": "stdout",
     "output_type": "stream",
     "text": [
      "720\n",
      "640.0\n",
      "298.3458789704793\n",
      "965.5187614389857\n",
      "631.9323202047325\n",
      "0.04264345034641398\n",
      "6734.880834907445\n",
      "859.7739351985692\n",
      "0.04264345034641398\n"
     ]
    },
    {
     "name": "stderr",
     "output_type": "stream",
     "text": [
      "\r",
      "t:  36%|███████████████████████▋                                          | 452/1260 [03:24<06:31,  2.06it/s, now=None]"
     ]
    },
    {
     "name": "stdout",
     "output_type": "stream",
     "text": [
      "720\n",
      "640.0\n",
      "296.83419202868447\n",
      "972.1426970016287\n",
      "634.4884445151565\n",
      "0.02913250756274413\n",
      "10681.319882597063\n",
      "1325.3572294082846\n",
      "0.02913250756274413\n"
     ]
    },
    {
     "name": "stderr",
     "output_type": "stream",
     "text": [
      "\r",
      "t:  36%|███████████████████████▋                                          | 453/1260 [03:25<06:26,  2.09it/s, now=None]"
     ]
    },
    {
     "name": "stdout",
     "output_type": "stream",
     "text": [
      "720\n",
      "640.0\n",
      "295.64237583947636\n",
      "971.7342726956495\n",
      "633.6883242675628\n",
      "0.033361714585739236\n",
      "19223.725362925994\n",
      "1336.36233438308\n",
      "0.033361714585739236\n"
     ]
    },
    {
     "name": "stderr",
     "output_type": "stream",
     "text": [
      "\r",
      "t:  36%|███████████████████████▊                                          | 454/1260 [03:25<06:27,  2.08it/s, now=None]"
     ]
    },
    {
     "name": "stdout",
     "output_type": "stream",
     "text": [
      "720\n",
      "640.0\n",
      "295.2651330070697\n",
      "991.6615825614168\n",
      "643.4633577842433\n",
      "-0.018306319716714436\n",
      "14456.743634246892\n",
      "4717.756905848323\n",
      "-0.018306319716714436\n"
     ]
    },
    {
     "name": "stderr",
     "output_type": "stream",
     "text": [
      "\r",
      "t:  36%|███████████████████████▊                                          | 455/1260 [03:26<06:42,  2.00it/s, now=None]"
     ]
    },
    {
     "name": "stdout",
     "output_type": "stream",
     "text": [
      "720\n",
      "640.0\n",
      "297.5696623749908\n",
      "992.5623712682213\n",
      "645.0660168216061\n",
      "-0.026777517485632386\n",
      "11534.240175739023\n",
      "8088.418440872054\n",
      "-0.026777517485632386\n"
     ]
    },
    {
     "name": "stderr",
     "output_type": "stream",
     "text": [
      "\r",
      "t:  36%|███████████████████████▉                                          | 456/1260 [03:26<06:28,  2.07it/s, now=None]"
     ]
    },
    {
     "name": "stdout",
     "output_type": "stream",
     "text": [
      "720\n",
      "640.0\n",
      "297.84485864431787\n",
      "990.3706414610833\n",
      "644.1077500527006\n",
      "-0.021712393135702997\n",
      "35365.08114463302\n",
      "9101.32489268009\n",
      "-0.021712393135702997\n"
     ]
    },
    {
     "name": "stderr",
     "output_type": "stream",
     "text": [
      "\r",
      "t:  36%|███████████████████████▉                                          | 457/1260 [03:26<06:16,  2.13it/s, now=None]"
     ]
    },
    {
     "name": "stdout",
     "output_type": "stream",
     "text": [
      "720\n",
      "640.0\n",
      "298.82885497874986\n",
      "993.3116325907154\n",
      "646.0702437847326\n",
      "-0.032085574290729516\n",
      "10371.056134063385\n",
      "21165.793014841933\n",
      "-0.032085574290729516\n"
     ]
    },
    {
     "name": "stderr",
     "output_type": "stream",
     "text": [
      "\r",
      "t:  36%|███████████████████████▉                                          | 458/1260 [03:27<06:16,  2.13it/s, now=None]"
     ]
    },
    {
     "name": "stdout",
     "output_type": "stream",
     "text": [
      "720\n",
      "640.0\n",
      "299.42595784879677\n",
      "994.7760848029842\n",
      "647.1010213258905\n",
      "-0.03753396986542144\n",
      "44420.45773660105\n",
      "4944.786987536413\n",
      "-0.03753396986542144\n"
     ]
    },
    {
     "name": "stderr",
     "output_type": "stream",
     "text": [
      "\r",
      "t:  36%|████████████████████████                                          | 459/1260 [03:27<06:09,  2.17it/s, now=None]"
     ]
    },
    {
     "name": "stdout",
     "output_type": "stream",
     "text": [
      "720\n",
      "640.0\n",
      "300.1852706666175\n",
      "995.4939092374143\n",
      "647.8395899520159\n",
      "-0.04143783260351261\n",
      "49817.60649512212\n",
      "3897.8879158370755\n",
      "-0.04143783260351261\n"
     ]
    },
    {
     "name": "stderr",
     "output_type": "stream",
     "text": [
      "\r",
      "t:  37%|████████████████████████                                          | 460/1260 [03:28<06:07,  2.18it/s, now=None]"
     ]
    },
    {
     "name": "stdout",
     "output_type": "stream",
     "text": [
      "720\n",
      "640.0\n",
      "302.1635603402857\n",
      "992.9026052360006\n",
      "647.5330827881431\n",
      "-0.03981772330875656\n",
      "34178.71203876777\n",
      "5629.843498792804\n",
      "-0.03981772330875656\n"
     ]
    },
    {
     "name": "stderr",
     "output_type": "stream",
     "text": [
      "\r",
      "t:  37%|████████████████████████▏                                         | 461/1260 [03:28<06:10,  2.16it/s, now=None]"
     ]
    },
    {
     "name": "stdout",
     "output_type": "stream",
     "text": [
      "720\n",
      "640.0\n",
      "302.4178287350731\n",
      "992.8368519290449\n",
      "647.627340332059\n",
      "-0.04031594175516911\n",
      "17810.710395911792\n",
      "4373.741254936277\n",
      "-0.04031594175516911\n"
     ]
    },
    {
     "name": "stderr",
     "output_type": "stream",
     "text": [
      "\r",
      "t:  37%|████████████████████████▏                                         | 462/1260 [03:29<06:07,  2.17it/s, now=None]"
     ]
    },
    {
     "name": "stdout",
     "output_type": "stream",
     "text": [
      "720\n",
      "640.0\n",
      "302.96135938023133\n",
      "993.377130388751\n",
      "648.1692448844911\n",
      "-0.04318029438945322\n",
      "14366.174139548964\n",
      "12872.468717985914\n",
      "-0.04318029438945322\n"
     ]
    },
    {
     "name": "stderr",
     "output_type": "stream",
     "text": [
      "\r",
      "t:  37%|████████████████████████▎                                         | 463/1260 [03:29<06:33,  2.03it/s, now=None]"
     ]
    },
    {
     "name": "stdout",
     "output_type": "stream",
     "text": [
      "720\n",
      "640.0\n",
      "301.5821403104479\n",
      "969.0481029137032\n",
      "635.3151216120756\n",
      "0.02476292862188619\n",
      "28115.506223619737\n",
      "784.96897715409\n",
      "0.02476292862188619\n"
     ]
    },
    {
     "name": "stderr",
     "output_type": "stream",
     "text": [
      "\r",
      "t:  37%|████████████████████████▎                                         | 464/1260 [03:30<06:19,  2.10it/s, now=None]"
     ]
    },
    {
     "name": "stdout",
     "output_type": "stream",
     "text": [
      "720\n",
      "640.0\n",
      "299.9497507155743\n",
      "986.2988104200235\n",
      "643.1242805677989\n",
      "-0.016514054429794214\n",
      "14004.989087814005\n",
      "2287.7314895982386\n",
      "-0.016514054429794214\n"
     ]
    },
    {
     "name": "stderr",
     "output_type": "stream",
     "text": [
      "\r",
      "t:  37%|████████████████████████▎                                         | 465/1260 [03:30<06:07,  2.16it/s, now=None]"
     ]
    },
    {
     "name": "stdout",
     "output_type": "stream",
     "text": [
      "720\n",
      "640.0\n",
      "301.66784384088373\n",
      "997.357503515353\n",
      "649.5126736781183\n",
      "-0.05028127515576811\n",
      "7693.5782339067455\n",
      "7446.736369327401\n",
      "-0.05028127515576811\n"
     ]
    },
    {
     "name": "stderr",
     "output_type": "stream",
     "text": [
      "\r",
      "t:  37%|████████████████████████▍                                         | 466/1260 [03:31<06:07,  2.16it/s, now=None]"
     ]
    },
    {
     "name": "stdout",
     "output_type": "stream",
     "text": [
      "720\n",
      "640.0\n",
      "301.3951840275274\n",
      "984.424693232219\n",
      "642.9099386298733\n",
      "-0.015381104186473132\n",
      "5958.686104221448\n",
      "1907.8347397225664\n",
      "-0.015381104186473132\n"
     ]
    },
    {
     "name": "stderr",
     "output_type": "stream",
     "text": [
      "\r",
      "t:  37%|████████████████████████▍                                         | 467/1260 [03:31<06:06,  2.16it/s, now=None]"
     ]
    },
    {
     "name": "stdout",
     "output_type": "stream",
     "text": [
      "720\n",
      "640.0\n",
      "303.4994861198746\n",
      "986.1612549000577\n",
      "644.8303705099661\n",
      "-0.025531958409820747\n",
      "5361.604032633268\n",
      "1940.0317191632348\n",
      "-0.025531958409820747\n"
     ]
    },
    {
     "name": "stderr",
     "output_type": "stream",
     "text": [
      "\r",
      "t:  37%|████████████████████████▌                                         | 468/1260 [03:32<06:07,  2.16it/s, now=None]"
     ]
    },
    {
     "name": "stdout",
     "output_type": "stream",
     "text": [
      "720\n",
      "640.0\n",
      "304.39170522179535\n",
      "987.6306197439594\n",
      "646.0111624828774\n",
      "-0.03177328740949458\n",
      "6332.026346456155\n",
      "2022.2127395585735\n",
      "-0.03177328740949458\n"
     ]
    },
    {
     "name": "stderr",
     "output_type": "stream",
     "text": [
      "\r",
      "t:  37%|████████████████████████▌                                         | 469/1260 [03:32<06:11,  2.13it/s, now=None]"
     ]
    },
    {
     "name": "stdout",
     "output_type": "stream",
     "text": [
      "720\n",
      "640.0\n",
      "304.88292941606886\n",
      "1000.9544082375477\n",
      "652.9186688268082\n",
      "-0.06828439237027215\n",
      "4635.943587852021\n",
      "2947.9826413178616\n",
      "-0.06828439237027215\n"
     ]
    },
    {
     "name": "stderr",
     "output_type": "stream",
     "text": [
      "\r",
      "t:  37%|████████████████████████▌                                         | 470/1260 [03:33<05:59,  2.20it/s, now=None]"
     ]
    },
    {
     "name": "stdout",
     "output_type": "stream",
     "text": [
      "720\n",
      "640.0\n",
      "304.7081610993113\n",
      "995.650296351231\n",
      "650.1792287252712\n",
      "-0.05380449469071906\n",
      "3509.6152467479887\n",
      "4592.678840248163\n",
      "-0.05380449469071906\n"
     ]
    },
    {
     "name": "stderr",
     "output_type": "stream",
     "text": [
      "\r",
      "t:  37%|████████████████████████▋                                         | 471/1260 [03:33<06:01,  2.18it/s, now=None]"
     ]
    },
    {
     "name": "stdout",
     "output_type": "stream",
     "text": [
      "720\n",
      "640.0\n",
      "302.4620034703685\n",
      "997.4067048832924\n",
      "649.9343541768304\n",
      "-0.05251015779181796\n",
      "2700.324226063563\n",
      "2044.4275339953988\n",
      "-0.05251015779181796\n"
     ]
    },
    {
     "name": "stderr",
     "output_type": "stream",
     "text": [
      "\r",
      "t:  37%|████████████████████████▋                                         | 472/1260 [03:33<05:59,  2.19it/s, now=None]"
     ]
    },
    {
     "name": "stdout",
     "output_type": "stream",
     "text": [
      "720\n",
      "640.0\n",
      "305.3081480242198\n",
      "994.0692537805866\n",
      "649.6887009024032\n",
      "-0.051211704769845406\n",
      "2953.8715680926966\n",
      "4013.058372356288\n",
      "-0.051211704769845406\n"
     ]
    },
    {
     "name": "stderr",
     "output_type": "stream",
     "text": [
      "\r",
      "t:  38%|████████████████████████▊                                         | 473/1260 [03:34<06:10,  2.13it/s, now=None]"
     ]
    },
    {
     "name": "stdout",
     "output_type": "stream",
     "text": [
      "720\n",
      "640.0\n",
      "305.0985170834433\n",
      "996.3113813688726\n",
      "650.704949226158\n",
      "-0.056583303052549244\n",
      "2834.7505861585046\n",
      "1781.1218236509708\n",
      "-0.056583303052549244\n"
     ]
    },
    {
     "name": "stderr",
     "output_type": "stream",
     "text": [
      "\r",
      "t:  38%|████████████████████████▊                                         | 474/1260 [03:34<06:08,  2.13it/s, now=None]"
     ]
    },
    {
     "name": "stdout",
     "output_type": "stream",
     "text": [
      "720\n",
      "640.0\n",
      "306.8388408432853\n",
      "967.9134503404787\n",
      "637.376145591882\n",
      "0.01386894472862345\n",
      "2804.0444638841855\n",
      "1320.7200361807518\n",
      "0.01386894472862345\n"
     ]
    },
    {
     "name": "stderr",
     "output_type": "stream",
     "text": [
      "\r",
      "t:  38%|████████████████████████▉                                         | 475/1260 [03:35<06:01,  2.17it/s, now=None]"
     ]
    },
    {
     "name": "stdout",
     "output_type": "stream",
     "text": [
      "720\n",
      "640.0\n",
      "310.6786692125878\n",
      "989.3650306788636\n",
      "650.0218499457258\n",
      "-0.0529726354274076\n",
      "3554.4796969244508\n",
      "3093.49842449678\n",
      "-0.0529726354274076\n"
     ]
    },
    {
     "name": "stderr",
     "output_type": "stream",
     "text": [
      "\r",
      "t:  38%|████████████████████████▉                                         | 476/1260 [03:35<06:02,  2.16it/s, now=None]"
     ]
    },
    {
     "name": "stdout",
     "output_type": "stream",
     "text": [
      "720\n",
      "640.0\n",
      "308.99559519690075\n",
      "971.8750833680156\n",
      "640.4353392824581\n",
      "-0.0023010790644215477\n",
      "3411.1080830404735\n",
      "2474.4890959624413\n",
      "-0.0023010790644215477\n"
     ]
    },
    {
     "name": "stderr",
     "output_type": "stream",
     "text": [
      "\r",
      "t:  38%|████████████████████████▉                                         | 477/1260 [03:36<05:53,  2.21it/s, now=None]"
     ]
    },
    {
     "name": "stdout",
     "output_type": "stream",
     "text": [
      "720\n",
      "640.0\n",
      "311.54233837300814\n",
      "981.6739386605063\n",
      "646.6081385167572\n",
      "-0.03492873216000238\n",
      "4214.20172208126\n",
      "11759.319109528355\n",
      "-0.03492873216000238\n"
     ]
    },
    {
     "name": "stderr",
     "output_type": "stream",
     "text": [
      "\r",
      "t:  38%|█████████████████████████                                         | 478/1260 [03:36<05:43,  2.27it/s, now=None]"
     ]
    },
    {
     "name": "stdout",
     "output_type": "stream",
     "text": [
      "720\n",
      "640.0\n",
      "312.94905838921756\n",
      "984.6453539546959\n",
      "648.7972061719568\n",
      "-0.04649951833748573\n",
      "10493.824317438588\n",
      "9898.068475715188\n",
      "-0.04649951833748573\n"
     ]
    },
    {
     "name": "stderr",
     "output_type": "stream",
     "text": [
      "\r",
      "t:  38%|█████████████████████████                                         | 479/1260 [03:37<05:50,  2.23it/s, now=None]"
     ]
    },
    {
     "name": "stdout",
     "output_type": "stream",
     "text": [
      "720\n",
      "640.0\n",
      "315.19107600251436\n",
      "989.3715101708613\n",
      "652.2812930866878\n",
      "-0.06491540631534985\n",
      "22102.71744462663\n",
      "48414.600096545655\n",
      "-0.06491540631534985\n"
     ]
    },
    {
     "name": "stderr",
     "output_type": "stream",
     "text": [
      "\r",
      "t:  38%|█████████████████████████▏                                        | 480/1260 [03:37<05:52,  2.21it/s, now=None]"
     ]
    },
    {
     "name": "stdout",
     "output_type": "stream",
     "text": [
      "720\n",
      "640.0\n",
      "315.00358946142836\n",
      "990.5241588795798\n",
      "652.7638741705041\n",
      "-0.06746619204409308\n",
      "18819.979868271876\n",
      "155503.33043391604\n",
      "-0.06746619204409308\n"
     ]
    },
    {
     "name": "stderr",
     "output_type": "stream",
     "text": [
      "\r",
      "t:  38%|█████████████████████████▏                                        | 481/1260 [03:38<05:54,  2.20it/s, now=None]"
     ]
    },
    {
     "name": "stdout",
     "output_type": "stream",
     "text": [
      "720\n",
      "640.0\n",
      "313.82933671929374\n",
      "999.0760184952405\n",
      "656.4526776072671\n",
      "-0.08696415306698328\n",
      "16910.33509174158\n",
      "2387.8461300316258\n",
      "-0.08696415306698328\n"
     ]
    },
    {
     "name": "stderr",
     "output_type": "stream",
     "text": [
      "\r",
      "t:  38%|█████████████████████████▏                                        | 482/1260 [03:38<06:08,  2.11it/s, now=None]"
     ]
    },
    {
     "name": "stdout",
     "output_type": "stream",
     "text": [
      "720\n",
      "640.0\n",
      "313.4107539380463\n",
      "992.5730311694113\n",
      "652.9918925537288\n",
      "-0.0686714320697094\n",
      "15716.962345509066\n",
      "31902.479717988652\n",
      "-0.0686714320697094\n"
     ]
    },
    {
     "name": "stderr",
     "output_type": "stream",
     "text": [
      "\r",
      "t:  38%|█████████████████████████▎                                        | 483/1260 [03:39<06:05,  2.13it/s, now=None]"
     ]
    },
    {
     "name": "stdout",
     "output_type": "stream",
     "text": [
      "720\n",
      "640.0\n",
      "312.58431024952694\n",
      "994.5395108512569\n",
      "653.5619105503919\n",
      "-0.07168438433778561\n",
      "6401.9324151611845\n",
      "332668.9197407015\n",
      "-0.07168438433778561\n"
     ]
    },
    {
     "name": "stderr",
     "output_type": "stream",
     "text": [
      "\r",
      "t:  38%|█████████████████████████▎                                        | 484/1260 [03:39<05:59,  2.16it/s, now=None]"
     ]
    },
    {
     "name": "stdout",
     "output_type": "stream",
     "text": [
      "720\n",
      "640.0\n",
      "311.36479125812014\n",
      "995.9450068014129\n",
      "653.6548990297665\n",
      "-0.07217589487162299\n",
      "5673.396968819477\n",
      "36918.76265812269\n",
      "-0.07217589487162299\n"
     ]
    },
    {
     "name": "stderr",
     "output_type": "stream",
     "text": [
      "\r",
      "t:  38%|█████████████████████████▍                                        | 485/1260 [03:39<05:55,  2.18it/s, now=None]"
     ]
    },
    {
     "name": "stdout",
     "output_type": "stream",
     "text": [
      "720\n",
      "640.0\n",
      "311.522154202438\n",
      "997.0980693049753\n",
      "654.3101117537067\n",
      "-0.0756391621267353\n",
      "4711.96908492508\n",
      "5919.442544558225\n",
      "-0.0756391621267353\n"
     ]
    },
    {
     "name": "stderr",
     "output_type": "stream",
     "text": [
      "\r",
      "t:  39%|█████████████████████████▍                                        | 486/1260 [03:40<05:54,  2.19it/s, now=None]"
     ]
    },
    {
     "name": "stdout",
     "output_type": "stream",
     "text": [
      "720\n",
      "640.0\n",
      "309.12580887493493\n",
      "1002.2941689924027\n",
      "655.7099889336688\n",
      "-0.0830385129351065\n",
      "6194.898044223816\n",
      "3314.763934409456\n",
      "-0.0830385129351065\n"
     ]
    },
    {
     "name": "stderr",
     "output_type": "stream",
     "text": [
      "\r",
      "t:  39%|█████████████████████████▌                                        | 487/1260 [03:40<06:00,  2.14it/s, now=None]"
     ]
    },
    {
     "name": "stdout",
     "output_type": "stream",
     "text": [
      "720\n",
      "640.0\n",
      "309.6590965600816\n",
      "963.158624419197\n",
      "636.4088604896393\n",
      "0.018981737411906435\n",
      "8016.974949388939\n",
      "704.3397509676151\n",
      "0.018981737411906435\n"
     ]
    },
    {
     "name": "stderr",
     "output_type": "stream",
     "text": [
      "\r",
      "t:  39%|█████████████████████████▌                                        | 488/1260 [03:41<06:00,  2.14it/s, now=None]"
     ]
    },
    {
     "name": "stdout",
     "output_type": "stream",
     "text": [
      "720\n",
      "640.0\n",
      "307.99169139522763\n",
      "988.2040879589405\n",
      "648.097889677084\n",
      "-0.042803131150301287\n",
      "12163.721874679464\n",
      "2778.963631218493\n",
      "-0.042803131150301287\n"
     ]
    },
    {
     "name": "stderr",
     "output_type": "stream",
     "text": [
      "\r",
      "t:  39%|█████████████████████████▌                                        | 489/1260 [03:41<06:05,  2.11it/s, now=None]"
     ]
    },
    {
     "name": "stdout",
     "output_type": "stream",
     "text": [
      "720\n",
      "640.0\n",
      "308.2868675323839\n",
      "992.5616688563526\n",
      "650.4242681943683\n",
      "-0.055099703313089714\n",
      "43838.666181145236\n",
      "3114.531913660566\n",
      "-0.055099703313089714\n"
     ]
    },
    {
     "name": "stderr",
     "output_type": "stream",
     "text": [
      "\r",
      "t:  39%|█████████████████████████▋                                        | 490/1260 [03:42<06:06,  2.10it/s, now=None]"
     ]
    },
    {
     "name": "stdout",
     "output_type": "stream",
     "text": [
      "720\n",
      "640.0\n",
      "308.109316173994\n",
      "993.1937934849027\n",
      "650.6515548294483\n",
      "-0.056301075527083806\n",
      "4387924.263161977\n",
      "3181.818996917689\n",
      "-0.056301075527083806\n"
     ]
    },
    {
     "name": "stderr",
     "output_type": "stream",
     "text": [
      "\r",
      "t:  39%|█████████████████████████▋                                        | 491/1260 [03:42<06:16,  2.04it/s, now=None]"
     ]
    },
    {
     "name": "stdout",
     "output_type": "stream",
     "text": [
      "720\n",
      "640.0\n",
      "307.26543490490155\n",
      "998.9263884427277\n",
      "653.0959116738146\n",
      "-0.06922124741873438\n",
      "72387.6661469271\n",
      "6863.769368915625\n",
      "-0.06922124741873438\n"
     ]
    },
    {
     "name": "stderr",
     "output_type": "stream",
     "text": [
      "\r",
      "t:  39%|█████████████████████████▊                                        | 492/1260 [03:43<06:13,  2.06it/s, now=None]"
     ]
    },
    {
     "name": "stdout",
     "output_type": "stream",
     "text": [
      "720\n",
      "640.0\n",
      "307.81673393635367\n",
      "998.9712191698665\n",
      "653.3939765531101\n",
      "-0.07079673320929605\n",
      "10745.871467062147\n",
      "488519.0258799094\n",
      "-0.07079673320929605\n"
     ]
    },
    {
     "name": "stderr",
     "output_type": "stream",
     "text": [
      "\r",
      "t:  39%|█████████████████████████▊                                        | 493/1260 [03:43<06:02,  2.12it/s, now=None]"
     ]
    },
    {
     "name": "stdout",
     "output_type": "stream",
     "text": [
      "720\n",
      "640.0\n",
      "308.39701180854087\n",
      "994.9905149872125\n",
      "651.6937633978766\n",
      "-0.06180989224591937\n",
      "17789.267144880905\n",
      "2667.2279102425746\n",
      "-0.06180989224591937\n"
     ]
    },
    {
     "name": "stderr",
     "output_type": "stream",
     "text": [
      "\r",
      "t:  39%|█████████████████████████▉                                        | 494/1260 [03:44<05:54,  2.16it/s, now=None]"
     ]
    },
    {
     "name": "stdout",
     "output_type": "stream",
     "text": [
      "720\n",
      "640.0\n",
      "307.6275483171247\n",
      "1001.585323960884\n",
      "654.6064361390044\n",
      "-0.07720544816330875\n",
      "9617.692328171095\n",
      "5719.886513061546\n",
      "-0.07720544816330875\n"
     ]
    },
    {
     "name": "stderr",
     "output_type": "stream",
     "text": [
      "\r",
      "t:  39%|█████████████████████████▉                                        | 495/1260 [03:44<05:53,  2.16it/s, now=None]"
     ]
    },
    {
     "name": "stdout",
     "output_type": "stream",
     "text": [
      "720\n",
      "640.0\n",
      "307.6324108619044\n",
      "1000.968523021396\n",
      "654.3004669416503\n",
      "-0.07558818240586565\n",
      "13536.847573498424\n",
      "10035.506142585169\n",
      "-0.07558818240586565\n"
     ]
    },
    {
     "name": "stderr",
     "output_type": "stream",
     "text": [
      "\r",
      "t:  39%|█████████████████████████▉                                        | 496/1260 [03:45<05:58,  2.13it/s, now=None]"
     ]
    },
    {
     "name": "stdout",
     "output_type": "stream",
     "text": [
      "720\n",
      "640.0\n",
      "308.1257671785642\n",
      "1003.5532827659802\n",
      "655.8395249722722\n",
      "-0.08372320342486743\n",
      "76379.45442970432\n",
      "4858.51112625753\n",
      "-0.08372320342486743\n"
     ]
    },
    {
     "name": "stderr",
     "output_type": "stream",
     "text": [
      "\r",
      "t:  39%|██████████████████████████                                        | 497/1260 [03:45<06:14,  2.04it/s, now=None]"
     ]
    },
    {
     "name": "stdout",
     "output_type": "stream",
     "text": [
      "720\n",
      "640.0\n",
      "309.1674152228608\n",
      "995.5531354554121\n",
      "652.3602753391365\n",
      "-0.06533288393543568\n",
      "24392.719979548998\n",
      "8073.436918798426\n",
      "-0.06533288393543568\n"
     ]
    },
    {
     "name": "stderr",
     "output_type": "stream",
     "text": [
      "\r",
      "t:  40%|██████████████████████████                                        | 498/1260 [03:46<06:10,  2.05it/s, now=None]"
     ]
    },
    {
     "name": "stdout",
     "output_type": "stream",
     "text": [
      "720\n",
      "640.0\n",
      "308.25070687412733\n",
      "971.3800607625429\n",
      "639.8153838183351\n",
      "0.0009758283887999986\n",
      "33541.52508761742\n",
      "880.6915253518907\n",
      "0.0009758283887999986\n"
     ]
    },
    {
     "name": "stderr",
     "output_type": "stream",
     "text": [
      "\r",
      "t:  40%|██████████████████████████▏                                       | 499/1260 [03:46<05:58,  2.12it/s, now=None]"
     ]
    },
    {
     "name": "stdout",
     "output_type": "stream",
     "text": [
      "720\n",
      "640.0\n",
      "309.645197558051\n",
      "990.650839226988\n",
      "650.1480183925195\n",
      "-0.053639525789031514\n",
      "177879.12802583657\n",
      "2873.176264513218\n",
      "-0.053639525789031514\n"
     ]
    },
    {
     "name": "stderr",
     "output_type": "stream",
     "text": [
      "\r",
      "t:  40%|██████████████████████████▏                                       | 500/1260 [03:47<05:52,  2.16it/s, now=None]"
     ]
    },
    {
     "name": "stdout",
     "output_type": "stream",
     "text": [
      "720\n",
      "640.0\n",
      "308.8905180463647\n",
      "998.9257442811238\n",
      "653.9081311637442\n",
      "-0.07351440757979077\n",
      "14058.340287357829\n",
      "2598.3292151509827\n",
      "-0.07351440757979077\n"
     ]
    },
    {
     "name": "stderr",
     "output_type": "stream",
     "text": [
      "\r",
      "t:  40%|██████████████████████████▏                                       | 501/1260 [03:47<05:52,  2.15it/s, now=None]"
     ]
    },
    {
     "name": "stdout",
     "output_type": "stream",
     "text": [
      "720\n",
      "640.0\n",
      "307.6924057803525\n",
      "997.2999153173537\n",
      "652.4961605488531\n",
      "-0.06605113432965232\n",
      "13934.435733000302\n",
      "2445.4800247804405\n",
      "-0.06605113432965232\n"
     ]
    },
    {
     "name": "stderr",
     "output_type": "stream",
     "text": [
      "\r",
      "t:  40%|██████████████████████████▎                                       | 502/1260 [03:47<05:53,  2.14it/s, now=None]"
     ]
    },
    {
     "name": "stdout",
     "output_type": "stream",
     "text": [
      "720\n",
      "640.0\n",
      "306.6038158542161\n",
      "1015.1602445657629\n",
      "660.8820302099896\n",
      "-0.11037644539565922\n",
      "139414.49607008504\n",
      "8587.012137752874\n",
      "-0.11037644539565922\n"
     ]
    },
    {
     "name": "stderr",
     "output_type": "stream",
     "text": [
      "\r",
      "t:  40%|██████████████████████████▎                                       | 503/1260 [03:48<05:54,  2.13it/s, now=None]"
     ]
    },
    {
     "name": "stdout",
     "output_type": "stream",
     "text": [
      "720\n",
      "640.0\n",
      "307.0615349182607\n",
      "1017.0913121902773\n",
      "662.076423554269\n",
      "-0.11668966735827907\n",
      "64798.8021952601\n",
      "6389.376720092805\n",
      "-0.11668966735827907\n"
     ]
    },
    {
     "name": "stderr",
     "output_type": "stream",
     "text": [
      "\r",
      "t:  40%|██████████████████████████▍                                       | 504/1260 [03:48<06:01,  2.09it/s, now=None]"
     ]
    },
    {
     "name": "stdout",
     "output_type": "stream",
     "text": [
      "720\n",
      "640.0\n",
      "309.2625705840509\n",
      "1013.3477947066484\n",
      "661.3051826453496\n",
      "-0.11261310826827671\n",
      "2671538.5075583737\n",
      "8587.560779141175\n",
      "-0.11261310826827671\n"
     ]
    },
    {
     "name": "stderr",
     "output_type": "stream",
     "text": [
      "\r",
      "t:  40%|██████████████████████████▍                                       | 505/1260 [03:49<05:59,  2.10it/s, now=None]"
     ]
    },
    {
     "name": "stdout",
     "output_type": "stream",
     "text": [
      "720\n",
      "640.0\n",
      "308.084536150937\n",
      "1009.7563992640694\n",
      "658.9204677075032\n",
      "-0.10000818645394567\n",
      "27328.77224505097\n",
      "11044.822220031518\n",
      "-0.10000818645394567\n"
     ]
    },
    {
     "name": "stderr",
     "output_type": "stream",
     "text": [
      "\r",
      "t:  40%|██████████████████████████▌                                       | 506/1260 [03:49<06:08,  2.05it/s, now=None]"
     ]
    },
    {
     "name": "stdout",
     "output_type": "stream",
     "text": [
      "720\n",
      "640.0\n",
      "307.9925751538259\n",
      "1014.6070996848365\n",
      "661.2998374193312\n",
      "-0.11258485493075061\n",
      "25299.434547256547\n",
      "3591.405660160977\n",
      "-0.11258485493075061\n"
     ]
    },
    {
     "name": "stderr",
     "output_type": "stream",
     "text": [
      "\r",
      "t:  40%|██████████████████████████▌                                       | 507/1260 [03:50<06:15,  2.00it/s, now=None]"
     ]
    },
    {
     "name": "stdout",
     "output_type": "stream",
     "text": [
      "720\n",
      "640.0\n",
      "306.6755152322265\n",
      "1012.9388592438737\n",
      "659.8071872380501\n",
      "-0.1046951325439792\n",
      "6492.650663220263\n",
      "6345.840667324319\n",
      "-0.1046951325439792\n"
     ]
    },
    {
     "name": "stderr",
     "output_type": "stream",
     "text": [
      "\r",
      "t:  40%|██████████████████████████▌                                       | 508/1260 [03:51<06:28,  1.93it/s, now=None]"
     ]
    },
    {
     "name": "stdout",
     "output_type": "stream",
     "text": [
      "720\n",
      "640.0\n",
      "307.1708871837562\n",
      "1012.6366230855058\n",
      "659.903755134631\n",
      "-0.10520556285447791\n",
      "18606.46197317277\n",
      "3853.255214381268\n",
      "-0.10520556285447791\n"
     ]
    },
    {
     "name": "stderr",
     "output_type": "stream",
     "text": [
      "\r",
      "t:  40%|██████████████████████████▋                                       | 509/1260 [03:51<06:13,  2.01it/s, now=None]"
     ]
    },
    {
     "name": "stdout",
     "output_type": "stream",
     "text": [
      "720\n",
      "640.0\n",
      "305.9178782967515\n",
      "1013.2168467656982\n",
      "659.5673625312248\n",
      "-0.10342748766504553\n",
      "6981.227612466776\n",
      "3783.1032835017454\n",
      "-0.10342748766504553\n"
     ]
    },
    {
     "name": "stderr",
     "output_type": "stream",
     "text": [
      "\r",
      "t:  40%|██████████████████████████▋                                       | 510/1260 [03:51<06:06,  2.04it/s, now=None]"
     ]
    },
    {
     "name": "stdout",
     "output_type": "stream",
     "text": [
      "720\n",
      "640.0\n",
      "303.961237398118\n",
      "1020.2421228382899\n",
      "662.101680118204\n",
      "-0.116823166339078\n",
      "5019.847048057745\n",
      "2355.6159253926116\n",
      "-0.116823166339078\n"
     ]
    },
    {
     "name": "stderr",
     "output_type": "stream",
     "text": [
      "\r",
      "t:  41%|██████████████████████████▊                                       | 511/1260 [03:52<06:03,  2.06it/s, now=None]"
     ]
    },
    {
     "name": "stdout",
     "output_type": "stream",
     "text": [
      "720\n",
      "640.0\n",
      "304.79747998010197\n",
      "1007.9511359421674\n",
      "656.3743079611347\n",
      "-0.08654991350885495\n",
      "5409.901827241605\n",
      "21420.043799376086\n",
      "-0.08654991350885495\n"
     ]
    },
    {
     "name": "stderr",
     "output_type": "stream",
     "text": [
      "\r",
      "t:  41%|██████████████████████████▊                                       | 512/1260 [03:52<06:07,  2.04it/s, now=None]"
     ]
    },
    {
     "name": "stdout",
     "output_type": "stream",
     "text": [
      "720\n",
      "640.0\n",
      "303.97202434214404\n",
      "1007.8632717501418\n",
      "655.917648046143\n",
      "-0.08413613967247\n",
      "3668.203905354241\n",
      "1889.9204476719353\n",
      "-0.08413613967247\n"
     ]
    },
    {
     "name": "stderr",
     "output_type": "stream",
     "text": [
      "\r",
      "t:  41%|██████████████████████████▊                                       | 513/1260 [03:53<06:22,  1.95it/s, now=None]"
     ]
    },
    {
     "name": "stdout",
     "output_type": "stream",
     "text": [
      "720\n",
      "640.0\n",
      "306.0447126470453\n",
      "997.5956585896748\n",
      "651.82018561836\n",
      "-0.062478123982760154\n",
      "4790.930420415687\n",
      "3558.2408924698043\n",
      "-0.062478123982760154\n"
     ]
    },
    {
     "name": "stderr",
     "output_type": "stream",
     "text": [
      "\r",
      "t:  41%|██████████████████████████▉                                       | 514/1260 [03:53<06:18,  1.97it/s, now=None]"
     ]
    },
    {
     "name": "stdout",
     "output_type": "stream",
     "text": [
      "720\n",
      "640.0\n",
      "308.56114370150027\n",
      "989.860304629152\n",
      "649.2107241653262\n",
      "-0.04868525630243825\n",
      "11263.034197765679\n",
      "1804.8782243598055\n",
      "-0.04868525630243825\n"
     ]
    },
    {
     "name": "stderr",
     "output_type": "stream",
     "text": [
      "\r",
      "t:  41%|██████████████████████████▉                                       | 515/1260 [03:54<06:19,  1.96it/s, now=None]"
     ]
    },
    {
     "name": "stdout",
     "output_type": "stream",
     "text": [
      "720\n",
      "640.0\n",
      "309.3394660781682\n",
      "994.8601206334112\n",
      "652.0997933557896\n",
      "-0.06395605059488811\n",
      "20534.247854631278\n",
      "2315.9411821280632\n",
      "-0.06395605059488811\n"
     ]
    },
    {
     "name": "stderr",
     "output_type": "stream",
     "text": [
      "\r",
      "t:  41%|███████████████████████████                                       | 516/1260 [03:54<06:11,  2.00it/s, now=None]"
     ]
    },
    {
     "name": "stdout",
     "output_type": "stream",
     "text": [
      "720\n",
      "640.0\n",
      "310.5820083826604\n",
      "1003.6147059104659\n",
      "657.0983571465631\n",
      "-0.09037703063183355\n",
      "21525.028189657834\n",
      "38070.92231291054\n",
      "-0.09037703063183355\n"
     ]
    },
    {
     "name": "stderr",
     "output_type": "stream",
     "text": [
      "\r",
      "t:  41%|███████████████████████████                                       | 517/1260 [03:55<06:07,  2.02it/s, now=None]"
     ]
    },
    {
     "name": "stdout",
     "output_type": "stream",
     "text": [
      "720\n",
      "640.0\n",
      "311.0730308409899\n",
      "1004.1792398254162\n",
      "657.626135333203\n",
      "-0.09316671533264456\n",
      "30007.379216136313\n",
      "162389.41168437546\n",
      "-0.09316671533264456\n"
     ]
    },
    {
     "name": "stderr",
     "output_type": "stream",
     "text": [
      "\r",
      "t:  41%|███████████████████████████▏                                      | 518/1260 [03:55<06:01,  2.05it/s, now=None]"
     ]
    },
    {
     "name": "stdout",
     "output_type": "stream",
     "text": [
      "720\n",
      "640.0\n",
      "308.29180147871546\n",
      "1000.244867999624\n",
      "654.2683347391697\n",
      "-0.07541834076418294\n",
      "56319.82968813538\n",
      "2723.8454699990375\n",
      "-0.07541834076418294\n"
     ]
    },
    {
     "name": "stderr",
     "output_type": "stream",
     "text": [
      "\r",
      "t:  41%|███████████████████████████▏                                      | 519/1260 [03:56<05:53,  2.10it/s, now=None]"
     ]
    },
    {
     "name": "stdout",
     "output_type": "stream",
     "text": [
      "720\n",
      "640.0\n",
      "310.3457011395109\n",
      "1000.0691431337453\n",
      "655.2074221366281\n",
      "-0.08038208843646287\n",
      "22149.95014200579\n",
      "2959.3137840590184\n",
      "-0.08038208843646287\n"
     ]
    },
    {
     "name": "stderr",
     "output_type": "stream",
     "text": [
      "\r",
      "t:  41%|███████████████████████████▏                                      | 520/1260 [03:56<05:39,  2.18it/s, now=None]"
     ]
    },
    {
     "name": "stdout",
     "output_type": "stream",
     "text": [
      "720\n",
      "640.0\n",
      "307.78205905400006\n",
      "1002.3256431255293\n",
      "655.0538510897646\n",
      "-0.07957035576018451\n",
      "10460.962394899103\n",
      "6703.332558610013\n",
      "-0.07957035576018451\n"
     ]
    },
    {
     "name": "stderr",
     "output_type": "stream",
     "text": [
      "\r",
      "t:  41%|███████████████████████████▎                                      | 521/1260 [03:57<05:43,  2.15it/s, now=None]"
     ]
    },
    {
     "name": "stdout",
     "output_type": "stream",
     "text": [
      "720\n",
      "640.0\n",
      "307.31659481309003\n",
      "1004.6130081006929\n",
      "655.9648014568915\n",
      "-0.08438537912928339\n",
      "4607.055154010835\n",
      "4988.099110321513\n",
      "-0.08438537912928339\n"
     ]
    },
    {
     "name": "stderr",
     "output_type": "stream",
     "text": [
      "\r",
      "t:  41%|███████████████████████████▎                                      | 522/1260 [03:57<05:39,  2.17it/s, now=None]"
     ]
    },
    {
     "name": "stdout",
     "output_type": "stream",
     "text": [
      "720\n",
      "640.0\n",
      "308.79415941153775\n",
      "971.6773019797457\n",
      "640.2357306956417\n",
      "-0.0012460051055345827\n",
      "7567.29475004891\n",
      "957.6503134808889\n",
      "-0.0012460051055345827\n"
     ]
    },
    {
     "name": "stderr",
     "output_type": "stream",
     "text": [
      "\r",
      "t:  42%|███████████████████████████▍                                      | 523/1260 [03:58<05:37,  2.18it/s, now=None]"
     ]
    },
    {
     "name": "stdout",
     "output_type": "stream",
     "text": [
      "720\n",
      "640.0\n",
      "311.83291245777406\n",
      "981.845156361087\n",
      "646.8390344094305\n",
      "-0.03614918187841834\n",
      "6384.22476244277\n",
      "862.3927435043081\n",
      "-0.03614918187841834\n"
     ]
    },
    {
     "name": "stderr",
     "output_type": "stream",
     "text": [
      "\r",
      "t:  42%|███████████████████████████▍                                      | 524/1260 [03:58<05:46,  2.13it/s, now=None]"
     ]
    },
    {
     "name": "stdout",
     "output_type": "stream",
     "text": [
      "720\n",
      "640.0\n",
      "311.6586866284937\n",
      "1006.3073543658516\n",
      "658.9830204971727\n",
      "-0.10033882262791272\n",
      "5667.5472246833115\n",
      "2536.8098018223623\n",
      "-0.10033882262791272\n"
     ]
    },
    {
     "name": "stderr",
     "output_type": "stream",
     "text": [
      "\r",
      "t:  42%|███████████████████████████▌                                      | 525/1260 [03:59<05:42,  2.14it/s, now=None]"
     ]
    },
    {
     "name": "stdout",
     "output_type": "stream",
     "text": [
      "720\n",
      "640.0\n",
      "307.08450137614767\n",
      "1007.2796302352747\n",
      "657.1820658057112\n",
      "-0.09081949068733065\n",
      "8782.242137133522\n",
      "7783.0939847920545\n",
      "-0.09081949068733065\n"
     ]
    },
    {
     "name": "stderr",
     "output_type": "stream",
     "text": [
      "\r",
      "t:  42%|███████████████████████████▌                                      | 526/1260 [03:59<05:45,  2.12it/s, now=None]"
     ]
    },
    {
     "name": "stdout",
     "output_type": "stream",
     "text": [
      "720\n",
      "640.0\n",
      "311.32945719415267\n",
      "1009.4266280815363\n",
      "660.3780426378445\n",
      "-0.10771251108574943\n",
      "7252.687189676993\n",
      "8008.855571061642\n",
      "-0.10771251108574943\n"
     ]
    },
    {
     "name": "stderr",
     "output_type": "stream",
     "text": [
      "\r",
      "t:  42%|███████████████████████████▌                                      | 527/1260 [04:00<05:46,  2.12it/s, now=None]"
     ]
    },
    {
     "name": "stdout",
     "output_type": "stream",
     "text": [
      "720\n",
      "640.0\n",
      "307.2261694454973\n",
      "1006.1860899658012\n",
      "656.7061297056492\n",
      "-0.08830382844414594\n",
      "146366.74138202594\n",
      "109911.22007791176\n",
      "-0.08830382844414594\n"
     ]
    },
    {
     "name": "stderr",
     "output_type": "stream",
     "text": [
      "\r",
      "t:  42%|███████████████████████████▋                                      | 528/1260 [04:00<05:49,  2.10it/s, now=None]"
     ]
    },
    {
     "name": "stdout",
     "output_type": "stream",
     "text": [
      "720\n",
      "640.0\n",
      "310.25501562672173\n",
      "1005.8622208439203\n",
      "658.0586182353211\n",
      "-0.0954526963866972\n",
      "3588.2159458914857\n",
      "23465.013965931666\n",
      "-0.0954526963866972\n"
     ]
    },
    {
     "name": "stderr",
     "output_type": "stream",
     "text": [
      "\r",
      "t:  42%|███████████████████████████▋                                      | 529/1260 [04:01<05:42,  2.13it/s, now=None]"
     ]
    },
    {
     "name": "stdout",
     "output_type": "stream",
     "text": [
      "720\n",
      "640.0\n",
      "306.2310714232412\n",
      "1006.960659943296\n",
      "656.5958656832686\n",
      "-0.08772100432584824\n",
      "8879.558509257338\n",
      "51870.42581131899\n",
      "-0.08772100432584824\n"
     ]
    },
    {
     "name": "stderr",
     "output_type": "stream",
     "text": [
      "\r",
      "t:  42%|███████████████████████████▊                                      | 530/1260 [04:01<05:42,  2.13it/s, now=None]"
     ]
    },
    {
     "name": "stdout",
     "output_type": "stream",
     "text": [
      "720\n",
      "640.0\n",
      "306.4679544153821\n",
      "1005.82184352467\n",
      "656.1448989700261\n",
      "-0.085337323127281\n",
      "113784.84421985487\n",
      "101993.71889210577\n",
      "-0.085337323127281\n"
     ]
    },
    {
     "name": "stderr",
     "output_type": "stream",
     "text": [
      "\r",
      "t:  42%|███████████████████████████▊                                      | 531/1260 [04:01<05:48,  2.09it/s, now=None]"
     ]
    },
    {
     "name": "stdout",
     "output_type": "stream",
     "text": [
      "720\n",
      "640.0\n",
      "303.66552965643905\n",
      "1004.7860511135357\n",
      "654.2257903849874\n",
      "-0.07519346346350464\n",
      "2962.428480957855\n",
      "6068.7679062738725\n",
      "-0.07519346346350464\n"
     ]
    },
    {
     "name": "stderr",
     "output_type": "stream",
     "text": [
      "\r",
      "t:  42%|███████████████████████████▊                                      | 532/1260 [04:02<05:48,  2.09it/s, now=None]"
     ]
    },
    {
     "name": "stdout",
     "output_type": "stream",
     "text": [
      "720\n",
      "640.0\n",
      "305.5042452534567\n",
      "1003.5018959777176\n",
      "654.5030706155871\n",
      "-0.07665908753953207\n",
      "3455.635602918968\n",
      "21109.677899119648\n",
      "-0.07665908753953207\n"
     ]
    },
    {
     "name": "stderr",
     "output_type": "stream",
     "text": [
      "\r",
      "t:  42%|███████████████████████████▉                                      | 533/1260 [04:02<05:41,  2.13it/s, now=None]"
     ]
    },
    {
     "name": "stdout",
     "output_type": "stream",
     "text": [
      "720\n",
      "640.0\n",
      "311.8240707328466\n",
      "992.9233747750409\n",
      "652.3737227539438\n",
      "-0.06540396312798841\n",
      "13038.07388560446\n",
      "1299.7186449540595\n",
      "-0.06540396312798841\n"
     ]
    },
    {
     "name": "stderr",
     "output_type": "stream",
     "text": [
      "\r",
      "t:  42%|███████████████████████████▉                                      | 534/1260 [04:03<05:40,  2.13it/s, now=None]"
     ]
    },
    {
     "name": "stdout",
     "output_type": "stream",
     "text": [
      "720\n",
      "640.0\n",
      "316.33469491147326\n",
      "971.9193701892647\n",
      "644.127032550369\n",
      "-0.021814314909093257\n",
      "3346.0810811492265\n",
      "1127.1303226546218\n",
      "-0.021814314909093257\n"
     ]
    },
    {
     "name": "stderr",
     "output_type": "stream",
     "text": [
      "\r",
      "t:  42%|████████████████████████████                                      | 535/1260 [04:03<05:39,  2.13it/s, now=None]"
     ]
    },
    {
     "name": "stdout",
     "output_type": "stream",
     "text": [
      "720\n",
      "640.0\n",
      "315.09136306133877\n",
      "990.9035534011955\n",
      "652.9974582312672\n",
      "-0.06870085065098357\n",
      "13108.799787842678\n",
      "2975.3351554270776\n",
      "-0.06870085065098357\n"
     ]
    },
    {
     "name": "stderr",
     "output_type": "stream",
     "text": [
      "\r",
      "t:  43%|████████████████████████████                                      | 536/1260 [04:04<05:34,  2.16it/s, now=None]"
     ]
    },
    {
     "name": "stdout",
     "output_type": "stream",
     "text": [
      "720\n",
      "640.0\n",
      "311.2423932950758\n",
      "1000.5113067234528\n",
      "655.8768500092642\n",
      "-0.08392049290611087\n",
      "10402.773960714572\n",
      "5141.787624366596\n",
      "-0.08392049290611087\n"
     ]
    },
    {
     "name": "stderr",
     "output_type": "stream",
     "text": [
      "\r",
      "t:  43%|████████████████████████████▏                                     | 537/1260 [04:04<05:33,  2.17it/s, now=None]"
     ]
    },
    {
     "name": "stdout",
     "output_type": "stream",
     "text": [
      "720\n",
      "640.0\n",
      "311.6057164608595\n",
      "999.3453649144319\n",
      "655.4755406876457\n",
      "-0.08179928649184136\n",
      "4883.080291734654\n",
      "2214.559136437761\n",
      "-0.08179928649184136\n"
     ]
    },
    {
     "name": "stderr",
     "output_type": "stream",
     "text": [
      "\r",
      "t:  43%|████████████████████████████▏                                     | 538/1260 [04:05<05:36,  2.14it/s, now=None]"
     ]
    },
    {
     "name": "stdout",
     "output_type": "stream",
     "text": [
      "720\n",
      "640.0\n",
      "309.98316207266504\n",
      "951.859679713853\n",
      "630.921420893259\n",
      "0.047986775278488235\n",
      "2098.404792400859\n",
      "348.57672159585957\n",
      "0.047986775278488235\n"
     ]
    },
    {
     "name": "stderr",
     "output_type": "stream",
     "text": [
      "\r",
      "t:  43%|████████████████████████████▏                                     | 539/1260 [04:05<05:36,  2.14it/s, now=None]"
     ]
    },
    {
     "name": "stdout",
     "output_type": "stream",
     "text": [
      "720\n",
      "640.0\n",
      "305.63868687758065\n",
      "942.2267189236968\n",
      "623.9327029006388\n",
      "0.08492714181090927\n",
      "1448.0165711899979\n",
      "298.4272882527772\n",
      "0.08492714181090927\n"
     ]
    },
    {
     "name": "stderr",
     "output_type": "stream",
     "text": [
      "\r",
      "t:  43%|████████████████████████████▎                                     | 540/1260 [04:06<05:34,  2.15it/s, now=None]"
     ]
    },
    {
     "name": "stdout",
     "output_type": "stream",
     "text": [
      "720\n",
      "640.0\n",
      "299.62014840116706\n",
      "975.5522774536462\n",
      "637.5862129274067\n",
      "0.012758588812278992\n",
      "687.2352668047351\n",
      "443.9438826574831\n",
      "0.012758588812278992\n"
     ]
    },
    {
     "name": "stderr",
     "output_type": "stream",
     "text": [
      "\r",
      "t:  43%|████████████████████████████▎                                     | 541/1260 [04:06<05:23,  2.22it/s, now=None]"
     ]
    },
    {
     "name": "stdout",
     "output_type": "stream",
     "text": [
      "720\n",
      "640.0\n",
      "312.3036881410933\n",
      "1007.5014135400495\n",
      "659.9025508405714\n",
      "-0.10519919730016308\n",
      "2222.6177893285285\n",
      "4240.8597769731605\n",
      "-0.10519919730016308\n"
     ]
    },
    {
     "name": "stderr",
     "output_type": "stream",
     "text": [
      "\r",
      "t:  43%|████████████████████████████▍                                     | 542/1260 [04:07<05:18,  2.26it/s, now=None]"
     ]
    },
    {
     "name": "stdout",
     "output_type": "stream",
     "text": [
      "720\n",
      "640.0\n",
      "309.54838887722616\n",
      "1011.0652211511909\n",
      "660.3068050142085\n",
      "-0.10733596936081648\n",
      "1207.5797149740813\n",
      "3108.2222557336586\n",
      "-0.10733596936081648\n"
     ]
    },
    {
     "name": "stderr",
     "output_type": "stream",
     "text": [
      "\r",
      "t:  43%|████████████████████████████▍                                     | 543/1260 [04:07<05:17,  2.26it/s, now=None]"
     ]
    },
    {
     "name": "stdout",
     "output_type": "stream",
     "text": [
      "720\n",
      "640.0\n",
      "315.8401881868403\n",
      "993.296892306171\n",
      "654.5685402465057\n",
      "-0.07700514130295857\n",
      "3841.80082791917\n",
      "628.127719456618\n",
      "-0.07700514130295857\n"
     ]
    },
    {
     "name": "stderr",
     "output_type": "stream",
     "text": [
      "\r",
      "t:  43%|████████████████████████████▍                                     | 544/1260 [04:07<05:22,  2.22it/s, now=None]"
     ]
    },
    {
     "name": "stdout",
     "output_type": "stream",
     "text": [
      "720\n",
      "640.0\n",
      "331.589121468955\n",
      "1000.692056894261\n",
      "666.140589181608\n",
      "-0.13817168567421367\n",
      "850.5668668971103\n",
      "1657.5678008253003\n",
      "-0.13817168567421367\n"
     ]
    },
    {
     "name": "stderr",
     "output_type": "stream",
     "text": [
      "\r",
      "t:  43%|████████████████████████████▌                                     | 545/1260 [04:08<05:23,  2.21it/s, now=None]"
     ]
    },
    {
     "name": "stdout",
     "output_type": "stream",
     "text": [
      "720\n",
      "640.0\n",
      "336.21028641155067\n",
      "995.5076896629926\n",
      "665.8589880372716\n",
      "-0.1366832224827214\n",
      "534.5157748236849\n",
      "1283.3383934237947\n",
      "-0.1366832224827214\n"
     ]
    },
    {
     "name": "stderr",
     "output_type": "stream",
     "text": [
      "\r",
      "t:  43%|████████████████████████████▌                                     | 546/1260 [04:08<05:20,  2.23it/s, now=None]"
     ]
    },
    {
     "name": "stdout",
     "output_type": "stream",
     "text": [
      "720\n",
      "640.0\n",
      "329.8066498642515\n",
      "1005.4440898921173\n",
      "667.6253698781844\n",
      "-0.1460198122132605\n",
      "640.5095046945071\n",
      "1735.163981829724\n",
      "-0.1460198122132605\n"
     ]
    },
    {
     "name": "stderr",
     "output_type": "stream",
     "text": [
      "\r",
      "t:  43%|████████████████████████████▋                                     | 547/1260 [04:09<05:20,  2.22it/s, now=None]"
     ]
    },
    {
     "name": "stdout",
     "output_type": "stream",
     "text": [
      "720\n",
      "640.0\n",
      "324.4874292075183\n",
      "1020.4552467329883\n",
      "672.4713379702532\n",
      "-0.17163421498562415\n",
      "832.0341295585833\n",
      "5674.895546475666\n",
      "-0.17163421498562415\n"
     ]
    },
    {
     "name": "stderr",
     "output_type": "stream",
     "text": [
      "\r",
      "t:  43%|████████████████████████████▋                                     | 548/1260 [04:09<05:19,  2.23it/s, now=None]"
     ]
    },
    {
     "name": "stdout",
     "output_type": "stream",
     "text": [
      "720\n",
      "640.0\n",
      "324.2960038284919\n",
      "1038.7935888997367\n",
      "681.5447963641143\n",
      "-0.21959392363888983\n",
      "508.56241470997014\n",
      "1162.6673554115253\n",
      "-0.21959392363888983\n"
     ]
    },
    {
     "name": "stderr",
     "output_type": "stream",
     "text": [
      "\r",
      "t:  44%|████████████████████████████▊                                     | 549/1260 [04:10<05:27,  2.17it/s, now=None]"
     ]
    },
    {
     "name": "stdout",
     "output_type": "stream",
     "text": [
      "720\n",
      "640.0\n",
      "313.7395166323953\n",
      "1023.2629567903617\n",
      "668.5012367113785\n",
      "-0.15064939404585784\n",
      "15103.82280702088\n",
      "1454.0456366833378\n",
      "-0.15064939404585784\n"
     ]
    },
    {
     "name": "stderr",
     "output_type": "stream",
     "text": [
      "\r",
      "t:  44%|████████████████████████████▊                                     | 550/1260 [04:10<05:39,  2.09it/s, now=None]"
     ]
    },
    {
     "name": "stdout",
     "output_type": "stream",
     "text": [
      "720\n",
      "640.0\n",
      "330.6034314121115\n",
      "1106.0823642725377\n",
      "718.3428978423246\n",
      "-0.4140981743094303\n",
      "521.797902578747\n",
      "197.81884091053476\n",
      "-0.4140981743094303\n"
     ]
    },
    {
     "name": "stderr",
     "output_type": "stream",
     "text": [
      "\r",
      "t:  44%|████████████████████████████▊                                     | 551/1260 [04:11<05:27,  2.16it/s, now=None]"
     ]
    },
    {
     "name": "stdout",
     "output_type": "stream",
     "text": [
      "720\n",
      "640.0\n",
      "318.7096250432269\n",
      "1019.4894589734233\n",
      "669.0995420083251\n",
      "-0.15381186490114698\n",
      "1299.015434463655\n",
      "1739.8322989845026\n",
      "-0.15381186490114698\n"
     ]
    },
    {
     "name": "stderr",
     "output_type": "stream",
     "text": [
      "\r",
      "t:  44%|████████████████████████████▉                                     | 552/1260 [04:11<05:22,  2.20it/s, now=None]"
     ]
    },
    {
     "name": "stdout",
     "output_type": "stream",
     "text": [
      "720\n",
      "640.0\n",
      "330.49800760125163\n",
      "1048.9954994182415\n",
      "689.7467535097466\n",
      "-0.2629471256943747\n",
      "1298.29903405632\n",
      "259.4426818905906\n",
      "-0.2629471256943747\n"
     ]
    },
    {
     "name": "stderr",
     "output_type": "stream",
     "text": [
      "\r",
      "t:  44%|████████████████████████████▉                                     | 553/1260 [04:12<05:32,  2.13it/s, now=None]"
     ]
    },
    {
     "name": "stdout",
     "output_type": "stream",
     "text": [
      "720\n",
      "640.0\n",
      "319.26408504005144\n",
      "1023.4834131458952\n",
      "671.3737490929733\n",
      "-0.16583267377714458\n",
      "19471.996576436104\n",
      "330.18918415691826\n",
      "-0.16583267377714458\n"
     ]
    },
    {
     "name": "stderr",
     "output_type": "stream",
     "text": [
      "\r",
      "t:  44%|█████████████████████████████                                     | 554/1260 [04:12<05:28,  2.15it/s, now=None]"
     ]
    },
    {
     "name": "stdout",
     "output_type": "stream",
     "text": [
      "720\n",
      "640.0\n",
      "292.58141855311993\n",
      "1006.7993705916086\n",
      "649.6903945723643\n",
      "-0.05122065702535422\n",
      "306.8518560005683\n",
      "588.3900699075318\n",
      "-0.05122065702535422\n"
     ]
    },
    {
     "name": "stderr",
     "output_type": "stream",
     "text": [
      "\r",
      "t:  44%|█████████████████████████████                                     | 555/1260 [04:13<05:29,  2.14it/s, now=None]"
     ]
    },
    {
     "name": "stdout",
     "output_type": "stream",
     "text": [
      "720\n",
      "640.0\n",
      "300.7505216122152\n",
      "992.6157317117375\n",
      "646.6831266619763\n",
      "-0.035325098070446176\n",
      "403.9893722787983\n",
      "616.3466454722442\n",
      "-0.035325098070446176\n"
     ]
    },
    {
     "name": "stderr",
     "output_type": "stream",
     "text": [
      "\r",
      "t:  44%|█████████████████████████████                                     | 556/1260 [04:13<05:24,  2.17it/s, now=None]"
     ]
    },
    {
     "name": "stdout",
     "output_type": "stream",
     "text": [
      "720\n",
      "640.0\n",
      "293.80059240857383\n",
      "986.9168122715378\n",
      "640.3587023400557\n",
      "-0.0018959980831517833\n",
      "156.12979453516724\n",
      "634.907284873581\n",
      "-0.0018959980831517833\n"
     ]
    },
    {
     "name": "stderr",
     "output_type": "stream",
     "text": [
      "\r",
      "t:  44%|█████████████████████████████▏                                    | 557/1260 [04:13<05:23,  2.17it/s, now=None]"
     ]
    },
    {
     "name": "stdout",
     "output_type": "stream",
     "text": [
      "720\n",
      "640.0\n",
      "308.1949228230163\n",
      "971.6009844863182\n",
      "639.8979536546673\n",
      "0.0005393878253301117\n",
      "153.65628027627815\n",
      "13300.19140041885\n",
      "0.0005393878253301117\n"
     ]
    },
    {
     "name": "stderr",
     "output_type": "stream",
     "text": [
      "\r",
      "t:  44%|█████████████████████████████▏                                    | 558/1260 [04:14<05:15,  2.22it/s, now=None]"
     ]
    },
    {
     "name": "stdout",
     "output_type": "stream",
     "text": [
      "720\n",
      "640.0\n",
      "339.6427271030823\n",
      "955.7605994239847\n",
      "647.7016632635334\n",
      "-0.0407087915358195\n",
      "475.11997433046\n",
      "835.7725964424083\n",
      "-0.0407087915358195\n"
     ]
    },
    {
     "name": "stderr",
     "output_type": "stream",
     "text": [
      "\r",
      "t:  44%|█████████████████████████████▎                                    | 559/1260 [04:14<05:13,  2.24it/s, now=None]"
     ]
    },
    {
     "name": "stdout",
     "output_type": "stream",
     "text": [
      "720\n",
      "640.0\n",
      "323.8596088554701\n",
      "951.290399772631\n",
      "637.5750043140506\n",
      "0.012817834340018246\n",
      "1597.0585822117782\n",
      "609.4978693686912\n",
      "0.012817834340018246\n"
     ]
    },
    {
     "name": "stderr",
     "output_type": "stream",
     "text": [
      "\r",
      "t:  44%|█████████████████████████████▎                                    | 560/1260 [04:15<05:11,  2.24it/s, now=None]"
     ]
    },
    {
     "name": "stdout",
     "output_type": "stream",
     "text": [
      "720\n",
      "640.0\n",
      "293.19870385446836\n",
      "955.7595728228381\n",
      "624.4791383386532\n",
      "0.08203884020997579\n",
      "114.98284509680373\n",
      "434.92091521244777\n",
      "0.08203884020997579\n"
     ]
    },
    {
     "name": "stderr",
     "output_type": "stream",
     "text": [
      "\r",
      "t:  45%|█████████████████████████████▍                                    | 561/1260 [04:15<05:10,  2.25it/s, now=None]"
     ]
    },
    {
     "name": "stdout",
     "output_type": "stream",
     "text": [
      "720\n",
      "640.0\n",
      "319.8843080707807\n",
      "1001.0885233977209\n",
      "660.4864157342508\n",
      "-0.1082853403096116\n",
      "1787.2468328880548\n",
      "571.5790547651884\n",
      "-0.1082853403096116\n"
     ]
    },
    {
     "name": "stderr",
     "output_type": "stream",
     "text": [
      "\r",
      "t:  45%|█████████████████████████████▍                                    | 562/1260 [04:16<05:11,  2.24it/s, now=None]"
     ]
    },
    {
     "name": "stdout",
     "output_type": "stream",
     "text": [
      "720\n",
      "640.0\n",
      "290.70017873109424\n",
      "1013.8456801027382\n",
      "652.2729294169162\n",
      "-0.06487119834655714\n",
      "1282.8118981256944\n",
      "652.567039786688\n",
      "-0.06487119834655714\n"
     ]
    },
    {
     "name": "stderr",
     "output_type": "stream",
     "text": [
      "\r",
      "t:  45%|█████████████████████████████▍                                    | 563/1260 [04:16<05:18,  2.19it/s, now=None]"
     ]
    },
    {
     "name": "stdout",
     "output_type": "stream",
     "text": [
      "720\n",
      "640.0\n",
      "69.87294798191874\n",
      "1040.627114425807\n",
      "555.2500312038628\n",
      "0.44796412077958225\n",
      "319.1115811988\n",
      "2334.279231120245\n",
      "0.44796412077958225\n"
     ]
    },
    {
     "name": "stderr",
     "output_type": "stream",
     "text": [
      "\r",
      "t:  45%|█████████████████████████████▌                                    | 564/1260 [04:17<05:06,  2.27it/s, now=None]"
     ]
    },
    {
     "name": "stdout",
     "output_type": "stream",
     "text": [
      "720\n",
      "640.0\n",
      "50.141181100357194\n",
      "1052.7968193638853\n",
      "551.4690002321213\n",
      "0.4679495702016446\n",
      "829.97451838353\n",
      "1291.8542036628376\n",
      "0.4679495702016446\n"
     ]
    },
    {
     "name": "stderr",
     "output_type": "stream",
     "text": [
      "\r",
      "t:  45%|█████████████████████████████▌                                    | 565/1260 [04:17<05:20,  2.17it/s, now=None]"
     ]
    },
    {
     "name": "stdout",
     "output_type": "stream",
     "text": [
      "720\n",
      "640.0\n",
      "49.5632544878727\n",
      "1038.0812944689612\n",
      "543.822274478417\n",
      "0.508367977756939\n",
      "787.4919233618778\n",
      "2359.8930617479605\n",
      "0.508367977756939\n"
     ]
    },
    {
     "name": "stderr",
     "output_type": "stream",
     "text": [
      "\r",
      "t:  45%|█████████████████████████████▋                                    | 566/1260 [04:18<05:24,  2.14it/s, now=None]"
     ]
    },
    {
     "name": "stdout",
     "output_type": "stream",
     "text": [
      "720\n",
      "640.0\n",
      "278.66320690056\n",
      "1025.8156451217437\n",
      "652.2394260111519\n",
      "-0.06469410891608843\n",
      "1665.0979081531252\n",
      "1213.9400535934974\n",
      "-0.06469410891608843\n"
     ]
    },
    {
     "name": "stderr",
     "output_type": "stream",
     "text": [
      "\r",
      "t:  45%|█████████████████████████████▋                                    | 567/1260 [04:18<05:10,  2.23it/s, now=None]"
     ]
    },
    {
     "name": "stdout",
     "output_type": "stream",
     "text": [
      "720\n",
      "640.0\n",
      "280.3127863920456\n",
      "1025.5906344054397\n",
      "652.9517103987426\n",
      "-0.06845904067906829\n",
      "388.0178769083271\n",
      "1217.539474525637\n",
      "-0.06845904067906829\n"
     ]
    },
    {
     "name": "stderr",
     "output_type": "stream",
     "text": [
      "\r",
      "t:  45%|█████████████████████████████▊                                    | 568/1260 [04:18<05:17,  2.18it/s, now=None]"
     ]
    },
    {
     "name": "stdout",
     "output_type": "stream",
     "text": [
      "720\n",
      "640.0\n",
      "284.96078930491757\n",
      "988.7227031070729\n",
      "636.8417462059953\n",
      "0.016693627196882176\n",
      "337.7200925666259\n",
      "1520.8616846136943\n",
      "0.016693627196882176\n"
     ]
    },
    {
     "name": "stderr",
     "output_type": "stream",
     "text": [
      "\r",
      "t:  45%|█████████████████████████████▊                                    | 569/1260 [04:19<05:15,  2.19it/s, now=None]"
     ]
    },
    {
     "name": "stdout",
     "output_type": "stream",
     "text": [
      "720\n",
      "640.0\n",
      "325.83913327726384\n",
      "988.3204317253162\n",
      "657.0797825012901\n",
      "-0.09027885036396187\n",
      "637.361791577128\n",
      "921.2576667370346\n",
      "-0.09027885036396187\n"
     ]
    },
    {
     "name": "stderr",
     "output_type": "stream",
     "text": [
      "\r",
      "t:  45%|█████████████████████████████▊                                    | 570/1260 [04:19<05:43,  2.01it/s, now=None]"
     ]
    },
    {
     "name": "stdout",
     "output_type": "stream",
     "text": [
      "720\n",
      "640.0\n",
      "328.790460856265\n",
      "994.714659109621\n",
      "661.752559982943\n",
      "-0.11497781705269879\n",
      "771.8441737404105\n",
      "1017.1595677095378\n",
      "-0.11497781705269879\n"
     ]
    },
    {
     "name": "stderr",
     "output_type": "stream",
     "text": [
      "\r",
      "t:  45%|█████████████████████████████▉                                    | 571/1260 [04:20<05:32,  2.07it/s, now=None]"
     ]
    },
    {
     "name": "stdout",
     "output_type": "stream",
     "text": [
      "720\n",
      "640.0\n",
      "321.94791775375745\n",
      "993.4242054556473\n",
      "657.6860616047024\n",
      "-0.09348346848199864\n",
      "759.9811050503878\n",
      "870.8476380597117\n",
      "-0.09348346848199864\n"
     ]
    },
    {
     "name": "stderr",
     "output_type": "stream",
     "text": [
      "\r",
      "t:  45%|█████████████████████████████▉                                    | 572/1260 [04:20<05:32,  2.07it/s, now=None]"
     ]
    },
    {
     "name": "stdout",
     "output_type": "stream",
     "text": [
      "720\n",
      "640.0\n",
      "309.2924149632226\n",
      "1025.2603785805911\n",
      "667.2763967719069\n",
      "-0.1441752400800793\n",
      "479.9861517756771\n",
      "3404.9852759110618\n",
      "-0.1441752400800793\n"
     ]
    },
    {
     "name": "stderr",
     "output_type": "stream",
     "text": [
      "\r",
      "t:  45%|██████████████████████████████                                    | 573/1260 [04:21<05:15,  2.18it/s, now=None]"
     ]
    },
    {
     "name": "stdout",
     "output_type": "stream",
     "text": [
      "720\n",
      "640.0\n",
      "293.09360678937907\n",
      "1027.0649501110859\n",
      "660.0792784502324\n",
      "-0.1061333289512286\n",
      "370.8212746812745\n",
      "1597.5360370751384\n",
      "-0.1061333289512286\n"
     ]
    },
    {
     "name": "stderr",
     "output_type": "stream",
     "text": [
      "\r",
      "t:  46%|██████████████████████████████                                    | 574/1260 [04:21<05:06,  2.24it/s, now=None]"
     ]
    },
    {
     "name": "stdout",
     "output_type": "stream",
     "text": [
      "720\n",
      "640.0\n",
      "295.898043050621\n",
      "1022.4144573201363\n",
      "659.1562501853787\n",
      "-0.10125446526557295\n",
      "425.62209475225404\n",
      "3402.950062557892\n",
      "-0.10125446526557295\n"
     ]
    },
    {
     "name": "stderr",
     "output_type": "stream",
     "text": [
      "\r",
      "t:  46%|██████████████████████████████                                    | 575/1260 [04:22<05:09,  2.21it/s, now=None]"
     ]
    },
    {
     "name": "stdout",
     "output_type": "stream",
     "text": [
      "720\n",
      "640.0\n",
      "298.50060907485727\n",
      "1032.2960701846425\n",
      "665.3983396297499\n",
      "-0.13424836661439232\n",
      "302.92913046220457\n",
      "757.1707728497803\n",
      "-0.13424836661439232\n"
     ]
    },
    {
     "name": "stderr",
     "output_type": "stream",
     "text": [
      "\r",
      "t:  46%|██████████████████████████████▏                                   | 576/1260 [04:22<04:58,  2.29it/s, now=None]"
     ]
    },
    {
     "name": "stdout",
     "output_type": "stream",
     "text": [
      "720\n",
      "640.0\n",
      "318.67225095191833\n",
      "1023.232863255975\n",
      "670.9525571039467\n",
      "-0.16360637326371813\n",
      "392.8227833897702\n",
      "29677.091899064108\n",
      "-0.16360637326371813\n"
     ]
    },
    {
     "name": "stderr",
     "output_type": "stream",
     "text": [
      "\r",
      "t:  46%|██████████████████████████████▏                                   | 577/1260 [04:22<04:50,  2.35it/s, now=None]"
     ]
    },
    {
     "name": "stdout",
     "output_type": "stream",
     "text": [
      "720\n",
      "640.0\n",
      "320.56891892523885\n",
      "1021.0226654471862\n",
      "670.7957921862126\n",
      "-0.16277775869855213\n",
      "524.1602217142175\n",
      "30506.478217974094\n",
      "-0.16277775869855213\n"
     ]
    },
    {
     "name": "stderr",
     "output_type": "stream",
     "text": [
      "\r",
      "t:  46%|██████████████████████████████▎                                   | 578/1260 [04:23<04:48,  2.36it/s, now=None]"
     ]
    },
    {
     "name": "stdout",
     "output_type": "stream",
     "text": [
      "720\n",
      "640.0\n",
      "324.9843555297333\n",
      "1019.7331894043949\n",
      "672.3587724670641\n",
      "-0.1710392258973389\n",
      "442.78943652754486\n",
      "301204.8582526088\n",
      "-0.1710392258973389\n"
     ]
    },
    {
     "name": "stderr",
     "output_type": "stream",
     "text": [
      "\r",
      "t:  46%|██████████████████████████████▎                                   | 579/1260 [04:23<04:46,  2.38it/s, now=None]"
     ]
    },
    {
     "name": "stdout",
     "output_type": "stream",
     "text": [
      "720\n",
      "640.0\n",
      "307.58007839461663\n",
      "1005.98198134138\n",
      "656.7810298679983\n",
      "-0.0886997293022768\n",
      "732.39837755443\n",
      "853.8977790554442\n",
      "-0.0886997293022768\n"
     ]
    },
    {
     "name": "stderr",
     "output_type": "stream",
     "text": [
      "\r",
      "t:  46%|██████████████████████████████▍                                   | 580/1260 [04:24<04:55,  2.30it/s, now=None]"
     ]
    },
    {
     "name": "stdout",
     "output_type": "stream",
     "text": [
      "720\n",
      "640.0\n",
      "293.34745926343624\n",
      "1009.305945171979\n",
      "651.3267022177076\n",
      "-0.05986971172216893\n",
      "615.8717183774324\n",
      "1236.0893885428188\n",
      "-0.05986971172216893\n"
     ]
    },
    {
     "name": "stderr",
     "output_type": "stream",
     "text": [
      "\r",
      "t:  46%|██████████████████████████████▍                                   | 581/1260 [04:24<05:09,  2.20it/s, now=None]"
     ]
    },
    {
     "name": "stdout",
     "output_type": "stream",
     "text": [
      "720\n",
      "640.0\n",
      "303.3401407401526\n",
      "1013.745800775789\n",
      "658.5429707579708\n",
      "-0.09801284543498855\n",
      "765.4785781085943\n",
      "1476.4758120503084\n",
      "-0.09801284543498855\n"
     ]
    },
    {
     "name": "stderr",
     "output_type": "stream",
     "text": [
      "\r",
      "t:  46%|██████████████████████████████▍                                   | 582/1260 [04:25<04:58,  2.27it/s, now=None]"
     ]
    },
    {
     "name": "stdout",
     "output_type": "stream",
     "text": [
      "720\n",
      "640.0\n",
      "308.58903659214957\n",
      "1031.177218452169\n",
      "669.8831275221593\n",
      "-0.15795367404569902\n",
      "864.2857426326674\n",
      "14160.219862652179\n",
      "-0.15795367404569902\n"
     ]
    },
    {
     "name": "stderr",
     "output_type": "stream",
     "text": [
      "\r",
      "t:  46%|██████████████████████████████▌                                   | 583/1260 [04:25<05:08,  2.20it/s, now=None]"
     ]
    },
    {
     "name": "stdout",
     "output_type": "stream",
     "text": [
      "720\n",
      "640.0\n",
      "47.072123830468826\n",
      "1041.104110992768\n",
      "544.0881174116184\n",
      "0.5069628079671596\n",
      "1138.8751079535734\n",
      "2561.6153606118596\n",
      "0.5069628079671596\n"
     ]
    },
    {
     "name": "stderr",
     "output_type": "stream",
     "text": [
      "\r",
      "t:  46%|██████████████████████████████▌                                   | 584/1260 [04:26<05:01,  2.24it/s, now=None]"
     ]
    },
    {
     "name": "stdout",
     "output_type": "stream",
     "text": [
      "720\n",
      "640.0\n",
      "57.93069190170269\n",
      "1042.2392067003686\n",
      "550.0849493010356\n",
      "0.4752652679802402\n",
      "809.1853916055209\n",
      "1231.4023463334056\n",
      "0.4752652679802402\n"
     ]
    },
    {
     "name": "stderr",
     "output_type": "stream",
     "text": [
      "\r",
      "t:  46%|██████████████████████████████▋                                   | 585/1260 [04:26<04:59,  2.25it/s, now=None]"
     ]
    },
    {
     "name": "stdout",
     "output_type": "stream",
     "text": [
      "720\n",
      "640.0\n",
      "40.59613411414367\n",
      "1034.0499971543168\n",
      "537.3230656342303\n",
      "0.5427209387904972\n",
      "1646.7007690305222\n",
      "1439.9748057882869\n",
      "0.5427209387904972\n"
     ]
    },
    {
     "name": "stderr",
     "output_type": "stream",
     "text": [
      "\r",
      "t:  47%|██████████████████████████████▋                                   | 586/1260 [04:26<04:52,  2.30it/s, now=None]"
     ]
    },
    {
     "name": "stdout",
     "output_type": "stream",
     "text": [
      "720\n",
      "640.0\n",
      "39.64933522731714\n",
      "1031.1177824294855\n",
      "535.3835588284013\n",
      "0.5529726176213074\n",
      "1158.4101712553702\n",
      "1305.301724221234\n",
      "0.5529726176213074\n"
     ]
    },
    {
     "name": "stderr",
     "output_type": "stream",
     "text": [
      "\r",
      "t:  47%|██████████████████████████████▋                                   | 587/1260 [04:27<04:49,  2.32it/s, now=None]"
     ]
    },
    {
     "name": "stdout",
     "output_type": "stream",
     "text": [
      "720\n",
      "640.0\n",
      "288.22366543291787\n",
      "1030.1500936411358\n",
      "659.1868795370268\n",
      "-0.10141636326714172\n",
      "384.924835490408\n",
      "975.6395589109924\n",
      "-0.10141636326714172\n"
     ]
    },
    {
     "name": "stderr",
     "output_type": "stream",
     "text": [
      "\r",
      "t:  47%|██████████████████████████████▊                                   | 588/1260 [04:27<04:45,  2.36it/s, now=None]"
     ]
    },
    {
     "name": "stdout",
     "output_type": "stream",
     "text": [
      "720\n",
      "640.0\n",
      "311.8698625698128\n",
      "1027.33857046144\n",
      "669.6042165156264\n",
      "-0.15647943015402513\n",
      "3696.6922708542966\n",
      "869.4401655940653\n",
      "-0.15647943015402513\n"
     ]
    },
    {
     "name": "stderr",
     "output_type": "stream",
     "text": [
      "\r",
      "t:  47%|██████████████████████████████▊                                   | 589/1260 [04:28<04:49,  2.32it/s, now=None]"
     ]
    },
    {
     "name": "stdout",
     "output_type": "stream",
     "text": [
      "720\n",
      "640.0\n",
      "322.360412072095\n",
      "1028.3270303091126\n",
      "675.3437211906038\n",
      "-0.18681681200747716\n",
      "1168.314573963702\n",
      "1014.5493601934664\n",
      "-0.18681681200747716\n"
     ]
    },
    {
     "name": "stderr",
     "output_type": "stream",
     "text": [
      "\r",
      "t:  47%|██████████████████████████████▉                                   | 590/1260 [04:28<04:49,  2.32it/s, now=None]"
     ]
    },
    {
     "name": "stdout",
     "output_type": "stream",
     "text": [
      "720\n",
      "640.0\n",
      "315.52628512689984\n",
      "1060.5226461051714\n",
      "688.0244656160356\n",
      "-0.25384360397047406\n",
      "6316.653331817939\n",
      "443.39470709887223\n",
      "-0.25384360397047406\n"
     ]
    },
    {
     "name": "stderr",
     "output_type": "stream",
     "text": [
      "\r",
      "t:  47%|██████████████████████████████▉                                   | 591/1260 [04:29<04:41,  2.38it/s, now=None]"
     ]
    },
    {
     "name": "stdout",
     "output_type": "stream",
     "text": [
      "720\n",
      "640.0\n",
      "316.00578953297645\n",
      "1034.5951515834047\n",
      "675.3004705581906\n",
      "-0.18658820152186445\n",
      "807.7925347885204\n",
      "1898.1339816134791\n",
      "-0.18658820152186445\n"
     ]
    },
    {
     "name": "stderr",
     "output_type": "stream",
     "text": [
      "\r",
      "t:  47%|███████████████████████████████                                   | 592/1260 [04:29<04:43,  2.36it/s, now=None]"
     ]
    },
    {
     "name": "stdout",
     "output_type": "stream",
     "text": [
      "720\n",
      "640.0\n",
      "316.1475283997229\n",
      "1026.7148378658735\n",
      "671.4311831327982\n",
      "-0.16613625370193333\n",
      "457.8102566767275\n",
      "3550.0274588287857\n",
      "-0.16613625370193333\n"
     ]
    },
    {
     "name": "stderr",
     "output_type": "stream",
     "text": [
      "\r",
      "t:  47%|███████████████████████████████                                   | 593/1260 [04:29<04:44,  2.34it/s, now=None]"
     ]
    },
    {
     "name": "stdout",
     "output_type": "stream",
     "text": [
      "720\n",
      "640.0\n",
      "310.518368404456\n",
      "1027.1937898530437\n",
      "668.8560791287498\n",
      "-0.15252498968053466\n",
      "283.5445288344118\n",
      "2025.5606178895707\n",
      "-0.15252498968053466\n"
     ]
    },
    {
     "name": "stderr",
     "output_type": "stream",
     "text": [
      "\r",
      "t:  47%|███████████████████████████████                                   | 594/1260 [04:30<04:45,  2.34it/s, now=None]"
     ]
    },
    {
     "name": "stdout",
     "output_type": "stream",
     "text": [
      "720\n",
      "640.0\n",
      "305.5278648814183\n",
      "1022.3572725213307\n",
      "663.9425687013745\n",
      "-0.126553577421551\n",
      "286.19402783822636\n",
      "1838.8639676065404\n",
      "-0.126553577421551\n"
     ]
    },
    {
     "name": "stderr",
     "output_type": "stream",
     "text": [
      "\r",
      "t:  47%|███████████████████████████████▏                                  | 595/1260 [04:30<04:52,  2.28it/s, now=None]"
     ]
    },
    {
     "name": "stdout",
     "output_type": "stream",
     "text": [
      "720\n",
      "640.0\n",
      "280.7959758367372\n",
      "1023.1516689912437\n",
      "651.9738224139904\n",
      "-0.06329020418823515\n",
      "164.23557864407425\n",
      "1396.3638156247519\n",
      "-0.06329020418823515\n"
     ]
    },
    {
     "name": "stderr",
     "output_type": "stream",
     "text": [
      "\r",
      "t:  47%|███████████████████████████████▏                                  | 596/1260 [04:31<04:52,  2.27it/s, now=None]"
     ]
    },
    {
     "name": "stdout",
     "output_type": "stream",
     "text": [
      "720\n",
      "640.0\n",
      "295.57703423291207\n",
      "1023.942147766933\n",
      "659.7595909999225\n",
      "-0.10444355242816161\n",
      "414.8728170025296\n",
      "977.9993235120419\n",
      "-0.10444355242816161\n"
     ]
    },
    {
     "name": "stderr",
     "output_type": "stream",
     "text": [
      "\r",
      "t:  47%|███████████████████████████████▎                                  | 597/1260 [04:31<04:51,  2.27it/s, now=None]"
     ]
    },
    {
     "name": "stdout",
     "output_type": "stream",
     "text": [
      "720\n",
      "640.0\n",
      "255.87810091064088\n",
      "1021.893007921125\n",
      "638.8855544158829\n",
      "0.005890640944618992\n",
      "306.9308785247276\n",
      "981.3638536723671\n",
      "0.005890640944618992\n"
     ]
    },
    {
     "name": "stderr",
     "output_type": "stream",
     "text": [
      "\r",
      "t:  47%|███████████████████████████████▎                                  | 598/1260 [04:32<04:45,  2.32it/s, now=None]"
     ]
    },
    {
     "name": "stdout",
     "output_type": "stream",
     "text": [
      "720\n",
      "640.0\n",
      "248.4337242064425\n",
      "1018.6434543232828\n",
      "633.5385892648626\n",
      "0.03415317102858343\n",
      "259.7821133206723\n",
      "1108.7241656143237\n",
      "0.03415317102858343\n"
     ]
    },
    {
     "name": "stderr",
     "output_type": "stream",
     "text": [
      "\r",
      "t:  48%|███████████████████████████████▍                                  | 599/1260 [04:32<04:43,  2.33it/s, now=None]"
     ]
    },
    {
     "name": "stdout",
     "output_type": "stream",
     "text": [
      "720\n",
      "640.0\n",
      "214.79553524492758\n",
      "1016.5941166692825\n",
      "615.694825957105\n",
      "0.12847020565530232\n",
      "97.59779076657875\n",
      "1256.2821957394772\n",
      "0.12847020565530232\n"
     ]
    },
    {
     "name": "stderr",
     "output_type": "stream",
     "text": [
      "\r",
      "t:  48%|███████████████████████████████▍                                  | 600/1260 [04:32<04:41,  2.35it/s, now=None]"
     ]
    },
    {
     "name": "stdout",
     "output_type": "stream",
     "text": [
      "720\n",
      "640.0\n",
      "273.41058569685373\n",
      "1013.7788335191412\n",
      "643.5947096079975\n",
      "-0.019000607927986867\n",
      "2271.907406645371\n",
      "1399.434609826058\n",
      "-0.019000607927986867\n"
     ]
    },
    {
     "name": "stderr",
     "output_type": "stream",
     "text": [
      "\r",
      "t:  48%|███████████████████████████████▍                                  | 601/1260 [04:33<04:39,  2.36it/s, now=None]"
     ]
    },
    {
     "name": "stdout",
     "output_type": "stream",
     "text": [
      "720\n",
      "640.0\n",
      "286.4847647268161\n",
      "1020.1300344754897\n",
      "653.3073996011528\n",
      "-0.07033911217752215\n",
      "1025.752167971146\n",
      "1010.9420002690146\n",
      "-0.07033911217752215\n"
     ]
    },
    {
     "name": "stderr",
     "output_type": "stream",
     "text": [
      "\r",
      "t:  48%|███████████████████████████████▌                                  | 602/1260 [04:33<04:34,  2.40it/s, now=None]"
     ]
    },
    {
     "name": "stdout",
     "output_type": "stream",
     "text": [
      "720\n",
      "640.0\n",
      "294.43792033818863\n",
      "1039.649381714542\n",
      "667.0436510263653\n",
      "-0.14294501256793085\n",
      "422.1759519721589\n",
      "577.9803635723167\n",
      "-0.14294501256793085\n"
     ]
    },
    {
     "name": "stderr",
     "output_type": "stream",
     "text": [
      "\r",
      "t:  48%|███████████████████████████████▌                                  | 603/1260 [04:34<04:37,  2.37it/s, now=None]"
     ]
    },
    {
     "name": "stdout",
     "output_type": "stream",
     "text": [
      "720\n",
      "640.0\n",
      "285.8225756901767\n",
      "1036.722726704903\n",
      "661.2726511975397\n",
      "-0.11244115632985294\n",
      "344.1073165107439\n",
      "585.9453193352142\n",
      "-0.11244115632985294\n"
     ]
    },
    {
     "name": "stderr",
     "output_type": "stream",
     "text": [
      "\r",
      "t:  48%|███████████████████████████████▋                                  | 604/1260 [04:34<04:38,  2.35it/s, now=None]"
     ]
    },
    {
     "name": "stdout",
     "output_type": "stream",
     "text": [
      "720\n",
      "640.0\n",
      "266.9175807592462\n",
      "1038.1404793826077\n",
      "652.529030070927\n",
      "-0.06622487323204261\n",
      "1662.2194608782581\n",
      "508.23123021887443\n",
      "-0.06622487323204261\n"
     ]
    },
    {
     "name": "stderr",
     "output_type": "stream",
     "text": [
      "\r",
      "t:  48%|███████████████████████████████▋                                  | 605/1260 [04:35<04:32,  2.40it/s, now=None]"
     ]
    },
    {
     "name": "stdout",
     "output_type": "stream",
     "text": [
      "720\n",
      "640.0\n",
      "315.9868075557982\n",
      "1023.6451350578599\n",
      "669.815971306829\n",
      "-0.15759870547895358\n",
      "180.7806665586727\n",
      "1273.5573761733306\n",
      "-0.15759870547895358\n"
     ]
    },
    {
     "name": "stderr",
     "output_type": "stream",
     "text": [
      "\r",
      "t:  48%|███████████████████████████████▋                                  | 606/1260 [04:35<04:28,  2.43it/s, now=None]"
     ]
    },
    {
     "name": "stdout",
     "output_type": "stream",
     "text": [
      "720\n",
      "640.0\n",
      "287.16277519556377\n",
      "1019.7626361399296\n",
      "653.4627056677466\n",
      "-0.07116001567237491\n",
      "201.65861914668724\n",
      "868.7771388076285\n",
      "-0.07116001567237491\n"
     ]
    },
    {
     "name": "stderr",
     "output_type": "stream",
     "text": [
      "\r",
      "t:  48%|███████████████████████████████▊                                  | 607/1260 [04:35<04:30,  2.42it/s, now=None]"
     ]
    },
    {
     "name": "stdout",
     "output_type": "stream",
     "text": [
      "720\n",
      "640.0\n",
      "214.39304244647153\n",
      "996.0994508657611\n",
      "605.2462466561163\n",
      "0.18369841053195649\n",
      "778.8330995178566\n",
      "601.9880604503205\n",
      "0.18369841053195649\n"
     ]
    },
    {
     "name": "stderr",
     "output_type": "stream",
     "text": [
      "\r",
      "t:  48%|███████████████████████████████▊                                  | 608/1260 [04:36<04:32,  2.39it/s, now=None]"
     ]
    },
    {
     "name": "stdout",
     "output_type": "stream",
     "text": [
      "720\n",
      "640.0\n",
      "197.02900741409667\n",
      "1011.3294110512591\n",
      "604.1792092326779\n",
      "0.18933846548441702\n",
      "1657.3332225139384\n",
      "728.0876281699261\n",
      "0.18933846548441702\n"
     ]
    },
    {
     "name": "stderr",
     "output_type": "stream",
     "text": [
      "\r",
      "t:  48%|███████████████████████████████▉                                  | 609/1260 [04:36<04:29,  2.42it/s, now=None]"
     ]
    },
    {
     "name": "stdout",
     "output_type": "stream",
     "text": [
      "720\n",
      "640.0\n",
      "208.72871136524424\n",
      "1011.8366816905742\n",
      "610.2826965279093\n",
      "0.1570771754953368\n",
      "13299.924139032006\n",
      "516.7314797734749\n",
      "0.1570771754953368\n"
     ]
    },
    {
     "name": "stderr",
     "output_type": "stream",
     "text": [
      "\r",
      "t:  48%|███████████████████████████████▉                                  | 610/1260 [04:37<04:35,  2.36it/s, now=None]"
     ]
    },
    {
     "name": "stdout",
     "output_type": "stream",
     "text": [
      "720\n",
      "640.0\n",
      "185.47590255751518\n",
      "1007.1680888433422\n",
      "596.3219957004287\n",
      "0.23086945129773395\n",
      "34107.12859036987\n",
      "3435.0542504509704\n",
      "0.23086945129773395\n"
     ]
    },
    {
     "name": "stderr",
     "output_type": "stream",
     "text": [
      "\r",
      "t:  48%|████████████████████████████████                                  | 611/1260 [04:37<04:37,  2.34it/s, now=None]"
     ]
    },
    {
     "name": "stdout",
     "output_type": "stream",
     "text": [
      "720\n",
      "640.0\n",
      "320.30467919717995\n",
      "1007.8536198453903\n",
      "664.0791495212851\n",
      "-0.12727550461250697\n",
      "659.3229045611638\n",
      "1527.8237489561002\n",
      "-0.12727550461250697\n"
     ]
    },
    {
     "name": "stderr",
     "output_type": "stream",
     "text": [
      "\r",
      "t:  49%|████████████████████████████████                                  | 612/1260 [04:37<04:41,  2.31it/s, now=None]"
     ]
    },
    {
     "name": "stdout",
     "output_type": "stream",
     "text": [
      "720\n",
      "640.0\n",
      "329.22089174475593\n",
      "1010.8214635416025\n",
      "670.0211776431793\n",
      "-0.15868336754251902\n",
      "578.3739610513779\n",
      "713.6361963080499\n",
      "-0.15868336754251902\n"
     ]
    },
    {
     "name": "stderr",
     "output_type": "stream",
     "text": [
      "\r",
      "t:  49%|████████████████████████████████                                  | 613/1260 [04:38<04:56,  2.18it/s, now=None]"
     ]
    },
    {
     "name": "stdout",
     "output_type": "stream",
     "text": [
      "720\n",
      "640.0\n",
      "297.9148810205194\n",
      "1006.1928875496623\n",
      "652.0538842850908\n",
      "-0.06371338836405147\n",
      "690.8337002564815\n",
      "607.5735822138919\n",
      "-0.06371338836405147\n"
     ]
    },
    {
     "name": "stderr",
     "output_type": "stream",
     "text": [
      "\r",
      "t:  49%|████████████████████████████████▏                                 | 614/1260 [04:38<04:54,  2.19it/s, now=None]"
     ]
    },
    {
     "name": "stdout",
     "output_type": "stream",
     "text": [
      "720\n",
      "640.0\n",
      "277.23316592498986\n",
      "646.6774177651168\n",
      "461.95529184505335\n",
      "0.9410934573904324\n",
      "935.2530836999584\n",
      "3.049463155504344\n",
      "0.9410934573904324\n"
     ]
    },
    {
     "name": "stderr",
     "output_type": "stream",
     "text": [
      "\r",
      "t:  49%|████████████████████████████████▏                                 | 615/1260 [04:39<04:55,  2.18it/s, now=None]"
     ]
    },
    {
     "name": "stdout",
     "output_type": "stream",
     "text": [
      "720\n",
      "640.0\n",
      "271.57739846856725\n",
      "878.7946366956567\n",
      "575.186017582112\n",
      "0.34258819278026537\n",
      "1081.8630146648406\n",
      "9.622382390623956\n",
      "0.34258819278026537\n"
     ]
    },
    {
     "name": "stderr",
     "output_type": "stream",
     "text": [
      "\r",
      "t:  49%|████████████████████████████████▎                                 | 616/1260 [04:39<04:52,  2.21it/s, now=None]"
     ]
    },
    {
     "name": "stdout",
     "output_type": "stream",
     "text": [
      "720\n",
      "640.0\n",
      "258.63155565356624\n",
      "820.3796211971376\n",
      "539.5055884253519\n",
      "0.5311847468945685\n",
      "1594.2187043892368\n",
      "14.092543052719602\n",
      "0.5311847468945685\n"
     ]
    },
    {
     "name": "stderr",
     "output_type": "stream",
     "text": [
      "\r",
      "t:  49%|████████████████████████████████▎                                 | 617/1260 [04:40<04:55,  2.17it/s, now=None]"
     ]
    },
    {
     "name": "stdout",
     "output_type": "stream",
     "text": [
      "720\n",
      "640.0\n",
      "247.8707817461498\n",
      "831.7381339943795\n",
      "539.8044578702646\n",
      "0.5296050084000299\n",
      "4054.812835952014\n",
      "18.27455970318456\n",
      "0.5296050084000299\n"
     ]
    },
    {
     "name": "stderr",
     "output_type": "stream",
     "text": [
      "\r",
      "t:  49%|████████████████████████████████▎                                 | 618/1260 [04:40<04:55,  2.17it/s, now=None]"
     ]
    },
    {
     "name": "stdout",
     "output_type": "stream",
     "text": [
      "720\n",
      "640.0\n",
      "257.076856703047\n",
      "952.6460562947464\n",
      "604.8614564988967\n",
      "0.18573230136297458\n",
      "1867.9014841555118\n",
      "5106.770119698926\n",
      "0.18573230136297458\n"
     ]
    },
    {
     "name": "stderr",
     "output_type": "stream",
     "text": [
      "\r",
      "t:  49%|████████████████████████████████▍                                 | 619/1260 [04:41<05:08,  2.08it/s, now=None]"
     ]
    },
    {
     "name": "stdout",
     "output_type": "stream",
     "text": [
      "720\n",
      "640.0\n",
      "266.9708737125905\n",
      "966.8720711761421\n",
      "616.9214724443663\n",
      "0.12198650279406406\n",
      "1307.4119791704939\n",
      "2238.0366829527834\n",
      "0.12198650279406406\n"
     ]
    },
    {
     "name": "stderr",
     "output_type": "stream",
     "text": [
      "\r",
      "t:  49%|████████████████████████████████▍                                 | 620/1260 [04:41<05:09,  2.07it/s, now=None]"
     ]
    },
    {
     "name": "stdout",
     "output_type": "stream",
     "text": [
      "720\n",
      "640.0\n",
      "274.3560792743499\n",
      "970.0636264782112\n",
      "622.2098528762806\n",
      "0.09403363479680259\n",
      "1008.9053676575153\n",
      "2465.5444766075157\n",
      "0.09403363479680259\n"
     ]
    },
    {
     "name": "stderr",
     "output_type": "stream",
     "text": [
      "\r",
      "t:  49%|████████████████████████████████▌                                 | 621/1260 [04:42<05:08,  2.07it/s, now=None]"
     ]
    },
    {
     "name": "stdout",
     "output_type": "stream",
     "text": [
      "720\n",
      "640.0\n",
      "273.1561632142043\n",
      "983.8740283064748\n",
      "628.5150957603396\n",
      "0.06070592240963359\n",
      "1075.1351897666707\n",
      "1007.21524576817\n",
      "0.06070592240963359\n"
     ]
    },
    {
     "name": "stderr",
     "output_type": "stream",
     "text": [
      "\r",
      "t:  49%|████████████████████████████████▌                                 | 622/1260 [04:42<05:07,  2.08it/s, now=None]"
     ]
    },
    {
     "name": "stdout",
     "output_type": "stream",
     "text": [
      "720\n",
      "640.0\n",
      "274.1025691745733\n",
      "970.3787232070283\n",
      "622.2406461908008\n",
      "0.09387087013433855\n",
      "1033.9653866987073\n",
      "1386.79946259547\n",
      "0.09387087013433855\n"
     ]
    },
    {
     "name": "stderr",
     "output_type": "stream",
     "text": [
      "\r",
      "t:  49%|████████████████████████████████▋                                 | 623/1260 [04:43<05:05,  2.09it/s, now=None]"
     ]
    },
    {
     "name": "stdout",
     "output_type": "stream",
     "text": [
      "720\n",
      "640.0\n",
      "274.04199764725143\n",
      "934.9348878010585\n",
      "604.488442724155\n",
      "0.18770394560089504\n",
      "1090.5837681310124\n",
      "326.74505324774447\n",
      "0.18770394560089504\n"
     ]
    },
    {
     "name": "stderr",
     "output_type": "stream",
     "text": [
      "\r",
      "t:  50%|████████████████████████████████▋                                 | 624/1260 [04:43<05:14,  2.02it/s, now=None]"
     ]
    },
    {
     "name": "stdout",
     "output_type": "stream",
     "text": [
      "720\n",
      "640.0\n",
      "277.82146633316324\n",
      "954.1265179618838\n",
      "615.9739921475235\n",
      "0.12699461293451855\n",
      "1047.1379806499297\n",
      "1990.7212332642794\n",
      "0.12699461293451855\n"
     ]
    },
    {
     "name": "stderr",
     "output_type": "stream",
     "text": [
      "\r",
      "t:  50%|████████████████████████████████▋                                 | 625/1260 [04:44<05:15,  2.01it/s, now=None]"
     ]
    },
    {
     "name": "stdout",
     "output_type": "stream",
     "text": [
      "720\n",
      "640.0\n",
      "281.4245296975701\n",
      "939.0917177771211\n",
      "610.2581237373456\n",
      "0.1572070602454589\n",
      "940.1691589475429\n",
      "99.73485554210149\n",
      "0.1572070602454589\n"
     ]
    },
    {
     "name": "stderr",
     "output_type": "stream",
     "text": [
      "\r",
      "t:  50%|████████████████████████████████▊                                 | 626/1260 [04:44<05:08,  2.05it/s, now=None]"
     ]
    },
    {
     "name": "stdout",
     "output_type": "stream",
     "text": [
      "720\n",
      "640.0\n",
      "291.34016098579247\n",
      "971.3270823213219\n",
      "631.3336216535572\n",
      "0.04580799983119765\n",
      "712.7052628878239\n",
      "980.7310789909573\n",
      "0.04580799983119765\n"
     ]
    },
    {
     "name": "stderr",
     "output_type": "stream",
     "text": [
      "\r",
      "t:  50%|████████████████████████████████▊                                 | 627/1260 [04:45<05:05,  2.07it/s, now=None]"
     ]
    },
    {
     "name": "stdout",
     "output_type": "stream",
     "text": [
      "720\n",
      "640.0\n",
      "294.07920843164675\n",
      "974.5815337740664\n",
      "634.3303711028566\n",
      "0.029968038456329463\n",
      "754.1208845224255\n",
      "2770.7376389003875\n",
      "0.029968038456329463\n"
     ]
    },
    {
     "name": "stderr",
     "output_type": "stream",
     "text": [
      "\r",
      "t:  50%|████████████████████████████████▉                                 | 628/1260 [04:45<05:00,  2.10it/s, now=None]"
     ]
    },
    {
     "name": "stdout",
     "output_type": "stream",
     "text": [
      "720\n",
      "640.0\n",
      "293.28458239079424\n",
      "955.3586597508802\n",
      "624.3216210708372\n",
      "0.08287143148271775\n",
      "770.5427815480508\n",
      "20.300699334726637\n",
      "0.08287143148271775\n"
     ]
    },
    {
     "name": "stderr",
     "output_type": "stream",
     "text": [
      "\r",
      "t:  50%|████████████████████████████████▉                                 | 629/1260 [04:46<05:05,  2.07it/s, now=None]"
     ]
    },
    {
     "name": "stdout",
     "output_type": "stream",
     "text": [
      "720\n",
      "640.0\n",
      "296.3512088782635\n",
      "979.5039892677822\n",
      "637.9275990730229\n",
      "0.01095411918545059\n",
      "819.388324708816\n",
      "824.4448133488972\n",
      "0.01095411918545059\n"
     ]
    },
    {
     "name": "stderr",
     "output_type": "stream",
     "text": [
      "\r",
      "t:  50%|█████████████████████████████████                                 | 630/1260 [04:46<05:00,  2.10it/s, now=None]"
     ]
    },
    {
     "name": "stdout",
     "output_type": "stream",
     "text": [
      "720\n",
      "640.0\n",
      "294.3456803641653\n",
      "999.6341306295001\n",
      "646.9899054968326\n",
      "-0.03694664334040114\n",
      "909.1220170915813\n",
      "1147.6671403323642\n",
      "-0.03694664334040114\n"
     ]
    },
    {
     "name": "stderr",
     "output_type": "stream",
     "text": [
      "\r",
      "t:  50%|█████████████████████████████████                                 | 631/1260 [04:47<04:56,  2.12it/s, now=None]"
     ]
    },
    {
     "name": "stdout",
     "output_type": "stream",
     "text": [
      "720\n",
      "640.0\n",
      "289.17588333021655\n",
      "1021.021294564777\n",
      "655.0985889474968\n",
      "-0.0798068272939114\n",
      "1109.105547687782\n",
      "569.830088174638\n",
      "-0.0798068272939114\n"
     ]
    },
    {
     "name": "stderr",
     "output_type": "stream",
     "text": [
      "\r",
      "t:  50%|█████████████████████████████████                                 | 632/1260 [04:47<05:01,  2.09it/s, now=None]"
     ]
    },
    {
     "name": "stdout",
     "output_type": "stream",
     "text": [
      "720\n",
      "640.0\n",
      "283.3441557087411\n",
      "1047.3160215700857\n",
      "665.3300886394134\n",
      "-0.13388761137975635\n",
      "1373.7701910776827\n",
      "283.6244438972871\n",
      "-0.13388761137975635\n"
     ]
    },
    {
     "name": "stderr",
     "output_type": "stream",
     "text": [
      "\r",
      "t:  50%|█████████████████████████████████▏                                | 633/1260 [04:48<04:59,  2.10it/s, now=None]"
     ]
    },
    {
     "name": "stdout",
     "output_type": "stream",
     "text": [
      "720\n",
      "640.0\n",
      "280.2477806598746\n",
      "1047.0253810441006\n",
      "663.6365808519877\n",
      "-0.124936213074792\n",
      "1554.8371743897915\n",
      "275.975308838424\n",
      "-0.124936213074792\n"
     ]
    },
    {
     "name": "stderr",
     "output_type": "stream",
     "text": [
      "\r",
      "t:  50%|█████████████████████████████████▏                                | 634/1260 [04:48<05:00,  2.08it/s, now=None]"
     ]
    },
    {
     "name": "stdout",
     "output_type": "stream",
     "text": [
      "720\n",
      "640.0\n",
      "278.94273606303227\n",
      "1033.9322705911122\n",
      "656.4375033270722\n",
      "-0.08688394615738189\n",
      "1670.0156412449437\n",
      "275.92777460041754\n",
      "-0.08688394615738189\n"
     ]
    },
    {
     "name": "stderr",
     "output_type": "stream",
     "text": [
      "\r",
      "t:  50%|█████████████████████████████████▎                                | 635/1260 [04:49<05:02,  2.07it/s, now=None]"
     ]
    },
    {
     "name": "stdout",
     "output_type": "stream",
     "text": [
      "720\n",
      "640.0\n",
      "281.3382594292841\n",
      "1019.2987766940169\n",
      "650.3185180616505\n",
      "-0.054540738325866825\n",
      "1574.272074125711\n",
      "853.3230999678441\n",
      "-0.054540738325866825\n"
     ]
    },
    {
     "name": "stderr",
     "output_type": "stream",
     "text": [
      "\r",
      "t:  50%|█████████████████████████████████▎                                | 636/1260 [04:49<04:57,  2.10it/s, now=None]"
     ]
    },
    {
     "name": "stdout",
     "output_type": "stream",
     "text": [
      "720\n",
      "640.0\n",
      "285.61936515870036\n",
      "995.6524483586031\n",
      "640.6359067586518\n",
      "-0.003361221438588083\n",
      "1422.2984157740457\n",
      "1808.9839343928152\n",
      "-0.003361221438588083\n"
     ]
    },
    {
     "name": "stderr",
     "output_type": "stream",
     "text": [
      "\r",
      "t:  51%|█████████████████████████████████▎                                | 637/1260 [04:49<04:54,  2.11it/s, now=None]"
     ]
    },
    {
     "name": "stdout",
     "output_type": "stream",
     "text": [
      "720\n",
      "640.0\n",
      "292.597191959099\n",
      "996.4482816695902\n",
      "644.5227368143446\n",
      "-0.023905894590107307\n",
      "1297.8313159883764\n",
      "1210.1857827610486\n",
      "-0.023905894590107307\n"
     ]
    },
    {
     "name": "stderr",
     "output_type": "stream",
     "text": [
      "\r",
      "t:  51%|█████████████████████████████████▍                                | 638/1260 [04:50<04:52,  2.13it/s, now=None]"
     ]
    },
    {
     "name": "stdout",
     "output_type": "stream",
     "text": [
      "720\n",
      "640.0\n",
      "301.64812339531005\n",
      "995.5071640527646\n",
      "648.5776437240373\n",
      "-0.0453389739699116\n",
      "1110.3441761393733\n",
      "1007.978191678122\n",
      "-0.0453389739699116\n"
     ]
    },
    {
     "name": "stderr",
     "output_type": "stream",
     "text": [
      "\r",
      "t:  51%|█████████████████████████████████▍                                | 639/1260 [04:50<04:54,  2.11it/s, now=None]"
     ]
    },
    {
     "name": "stdout",
     "output_type": "stream",
     "text": [
      "720\n",
      "640.0\n",
      "306.1741730675003\n",
      "994.3414154218607\n",
      "650.2577942446806\n",
      "-0.05421976957902579\n",
      "1068.1178885547718\n",
      "1159.2342154645378\n",
      "-0.05421976957902579\n"
     ]
    },
    {
     "name": "stderr",
     "output_type": "stream",
     "text": [
      "\r",
      "t:  51%|█████████████████████████████████▌                                | 640/1260 [04:51<04:54,  2.10it/s, now=None]"
     ]
    },
    {
     "name": "stdout",
     "output_type": "stream",
     "text": [
      "720\n",
      "640.0\n",
      "305.54415924367277\n",
      "997.9573992823565\n",
      "651.7507792630147\n",
      "-0.062111261818791945\n",
      "1238.2991344432526\n",
      "1130.7317870721126\n",
      "-0.062111261818791945\n"
     ]
    },
    {
     "name": "stderr",
     "output_type": "stream",
     "text": [
      "\r",
      "t:  51%|█████████████████████████████████▌                                | 641/1260 [04:51<04:54,  2.10it/s, now=None]"
     ]
    },
    {
     "name": "stdout",
     "output_type": "stream",
     "text": [
      "720\n",
      "640.0\n",
      "303.40612219638973\n",
      "1002.0075158100071\n",
      "652.7068190031985\n",
      "-0.06716461473119187\n",
      "1547.64916381315\n",
      "1280.3348971235027\n",
      "-0.06716461473119187\n"
     ]
    },
    {
     "name": "stderr",
     "output_type": "stream",
     "text": [
      "\r",
      "t:  51%|█████████████████████████████████▋                                | 642/1260 [04:52<04:52,  2.12it/s, now=None]"
     ]
    },
    {
     "name": "stdout",
     "output_type": "stream",
     "text": [
      "720\n",
      "640.0\n",
      "301.94559732157455\n",
      "1005.9986715239664\n",
      "653.9721344227705\n",
      "-0.07385271052035848\n",
      "1646.1568021293283\n",
      "1142.8919951408106\n",
      "-0.07385271052035848\n"
     ]
    },
    {
     "name": "stderr",
     "output_type": "stream",
     "text": [
      "\r",
      "t:  51%|█████████████████████████████████▋                                | 643/1260 [04:52<04:56,  2.08it/s, now=None]"
     ]
    },
    {
     "name": "stdout",
     "output_type": "stream",
     "text": [
      "720\n",
      "640.0\n",
      "303.34313276821223\n",
      "1026.9674461321315\n",
      "665.1552894501718\n",
      "-0.13296367280805113\n",
      "1728.7301896268436\n",
      "595.9273115740017\n",
      "-0.13296367280805113\n"
     ]
    },
    {
     "name": "stderr",
     "output_type": "stream",
     "text": [
      "\r",
      "t:  51%|█████████████████████████████████▋                                | 644/1260 [04:53<04:55,  2.09it/s, now=None]"
     ]
    },
    {
     "name": "stdout",
     "output_type": "stream",
     "text": [
      "720\n",
      "640.0\n",
      "306.4634786641728\n",
      "1048.910683061106\n",
      "677.6870808626394\n",
      "-0.1992031417025225\n",
      "1866.6900603076836\n",
      "353.29390355023577\n",
      "-0.1992031417025225\n"
     ]
    },
    {
     "name": "stderr",
     "output_type": "stream",
     "text": [
      "\r",
      "t:  51%|█████████████████████████████████▊                                | 645/1260 [04:53<04:53,  2.09it/s, now=None]"
     ]
    },
    {
     "name": "stdout",
     "output_type": "stream",
     "text": [
      "720\n",
      "640.0\n",
      "310.46075293898724\n",
      "1022.6750432209204\n",
      "666.5678980799538\n",
      "-0.14043031842261297\n",
      "1902.5263603574615\n",
      "1040.4235849894676\n",
      "-0.14043031842261297\n"
     ]
    },
    {
     "name": "stderr",
     "output_type": "stream",
     "text": [
      "\r",
      "t:  51%|█████████████████████████████████▊                                | 646/1260 [04:54<04:43,  2.16it/s, now=None]"
     ]
    },
    {
     "name": "stdout",
     "output_type": "stream",
     "text": [
      "720\n",
      "640.0\n",
      "311.56969206259157\n",
      "1018.543613261312\n",
      "665.0566526619518\n",
      "-0.13244230692745967\n",
      "2190.8607474068613\n",
      "1056.0888589415097\n",
      "-0.13244230692745967\n"
     ]
    },
    {
     "name": "stderr",
     "output_type": "stream",
     "text": [
      "\r",
      "t:  51%|█████████████████████████████████▉                                | 647/1260 [04:54<04:45,  2.15it/s, now=None]"
     ]
    },
    {
     "name": "stdout",
     "output_type": "stream",
     "text": [
      "720\n",
      "640.0\n",
      "315.62160532662426\n",
      "1034.9315191275507\n",
      "675.2765622270874\n",
      "-0.18646182891460497\n",
      "2165.8766909249234\n",
      "604.6084055374115\n",
      "-0.18646182891460497\n"
     ]
    },
    {
     "name": "stderr",
     "output_type": "stream",
     "text": [
      "\r",
      "t:  51%|█████████████████████████████████▉                                | 648/1260 [04:55<04:44,  2.15it/s, now=None]"
     ]
    },
    {
     "name": "stdout",
     "output_type": "stream",
     "text": [
      "720\n",
      "640.0\n",
      "316.82953222708363\n",
      "1025.3125137293289\n",
      "671.0710229782062\n",
      "-0.16423255002766135\n",
      "2564.10040150641\n",
      "718.5352218800731\n",
      "-0.16423255002766135\n"
     ]
    },
    {
     "name": "stderr",
     "output_type": "stream",
     "text": [
      "\r",
      "t:  52%|█████████████████████████████████▉                                | 649/1260 [04:55<04:43,  2.15it/s, now=None]"
     ]
    },
    {
     "name": "stdout",
     "output_type": "stream",
     "text": [
      "720\n",
      "640.0\n",
      "319.4730950307826\n",
      "1020.2376818873341\n",
      "669.8553884590583\n",
      "-0.1578070532835939\n",
      "2456.851436098824\n",
      "810.8022838531754\n",
      "-0.1578070532835939\n"
     ]
    },
    {
     "name": "stderr",
     "output_type": "stream",
     "text": [
      "\r",
      "t:  52%|██████████████████████████████████                                | 650/1260 [04:56<04:44,  2.14it/s, now=None]"
     ]
    },
    {
     "name": "stdout",
     "output_type": "stream",
     "text": [
      "720\n",
      "640.0\n",
      "321.45671293935385\n",
      "1013.3914887446356\n",
      "667.4241008419947\n",
      "-0.1449559615934005\n",
      "2245.567014287665\n",
      "1002.3601106434172\n",
      "-0.1449559615934005\n"
     ]
    },
    {
     "name": "stderr",
     "output_type": "stream",
     "text": [
      "\r",
      "t:  52%|██████████████████████████████████                                | 651/1260 [04:56<04:42,  2.15it/s, now=None]"
     ]
    },
    {
     "name": "stdout",
     "output_type": "stream",
     "text": [
      "720\n",
      "640.0\n",
      "321.9683437412755\n",
      "1008.3123935669056\n",
      "665.1403686540905\n",
      "-0.1328848057430497\n",
      "2132.99553596192\n",
      "1782.4607001643035\n",
      "-0.1328848057430497\n"
     ]
    },
    {
     "name": "stderr",
     "output_type": "stream",
     "text": [
      "\r",
      "t:  52%|██████████████████████████████████▏                               | 652/1260 [04:56<04:35,  2.21it/s, now=None]"
     ]
    },
    {
     "name": "stdout",
     "output_type": "stream",
     "text": [
      "720\n",
      "640.0\n",
      "324.00601697134556\n",
      "1010.735500270547\n",
      "667.3707586209463\n",
      "-0.14467400985357318\n",
      "2109.9733813186544\n",
      "1129.7605409697214\n",
      "-0.14467400985357318\n"
     ]
    },
    {
     "name": "stderr",
     "output_type": "stream",
     "text": [
      "\r",
      "t:  52%|██████████████████████████████████▏                               | 653/1260 [04:57<04:42,  2.15it/s, now=None]"
     ]
    },
    {
     "name": "stdout",
     "output_type": "stream",
     "text": [
      "720\n",
      "640.0\n",
      "324.4930291336546\n",
      "1011.9110624117626\n",
      "668.2020457727086\n",
      "-0.1490679562271742\n",
      "2316.4997748093256\n",
      "803.2134746518285\n",
      "-0.1490679562271742\n"
     ]
    },
    {
     "name": "stderr",
     "output_type": "stream",
     "text": [
      "\r",
      "t:  52%|██████████████████████████████████▎                               | 654/1260 [04:57<04:45,  2.12it/s, now=None]"
     ]
    },
    {
     "name": "stdout",
     "output_type": "stream",
     "text": [
      "720\n",
      "640.0\n",
      "327.1325571182793\n",
      "1011.541140867345\n",
      "669.3368489928122\n",
      "-0.1550662018191501\n",
      "2098.476365429427\n",
      "838.2929171236607\n",
      "-0.1550662018191501\n"
     ]
    },
    {
     "name": "stderr",
     "output_type": "stream",
     "text": [
      "\r",
      "t:  52%|██████████████████████████████████▎                               | 655/1260 [04:58<04:44,  2.13it/s, now=None]"
     ]
    },
    {
     "name": "stdout",
     "output_type": "stream",
     "text": [
      "720\n",
      "640.0\n",
      "330.6790079406427\n",
      "1039.9810633989293\n",
      "685.330035669786\n",
      "-0.23960161711172578\n",
      "1905.9009354979257\n",
      "427.3072859146661\n",
      "-0.23960161711172578\n"
     ]
    },
    {
     "name": "stderr",
     "output_type": "stream",
     "text": [
      "\r",
      "t:  52%|██████████████████████████████████▎                               | 656/1260 [04:58<04:39,  2.16it/s, now=None]"
     ]
    },
    {
     "name": "stdout",
     "output_type": "stream",
     "text": [
      "720\n",
      "640.0\n",
      "333.96619718677675\n",
      "1012.2227094661143\n",
      "673.0944533264455\n",
      "-0.1749278247254979\n",
      "1671.8154978711457\n",
      "1390.7532769859874\n",
      "-0.1749278247254979\n"
     ]
    },
    {
     "name": "stderr",
     "output_type": "stream",
     "text": [
      "\r",
      "t:  52%|██████████████████████████████████▍                               | 657/1260 [04:59<04:36,  2.18it/s, now=None]"
     ]
    },
    {
     "name": "stdout",
     "output_type": "stream",
     "text": [
      "720\n",
      "640.0\n",
      "336.12617803109686\n",
      "1029.429169339272\n",
      "682.7776736851845\n",
      "-0.2261105609074037\n",
      "1584.8354286154934\n",
      "795.2202296013711\n",
      "-0.2261105609074037\n"
     ]
    },
    {
     "name": "stderr",
     "output_type": "stream",
     "text": [
      "\r",
      "t:  52%|██████████████████████████████████▍                               | 658/1260 [04:59<04:37,  2.17it/s, now=None]"
     ]
    },
    {
     "name": "stdout",
     "output_type": "stream",
     "text": [
      "720\n",
      "640.0\n",
      "338.5423094213911\n",
      "1010.0180728366739\n",
      "674.2801911290326\n",
      "-0.1811952959677436\n",
      "1406.3470241588363\n",
      "1328.6092241232625\n",
      "-0.1811952959677436\n"
     ]
    },
    {
     "name": "stderr",
     "output_type": "stream",
     "text": [
      "\r",
      "t:  52%|██████████████████████████████████▌                               | 659/1260 [05:00<04:33,  2.20it/s, now=None]"
     ]
    },
    {
     "name": "stdout",
     "output_type": "stream",
     "text": [
      "720\n",
      "640.0\n",
      "341.8903734573654\n",
      "1015.3127329505303\n",
      "678.6015532039478\n",
      "-0.20403678122086688\n",
      "1175.0088525141955\n",
      "1055.9909345339765\n",
      "-0.20403678122086688\n"
     ]
    },
    {
     "name": "stderr",
     "output_type": "stream",
     "text": [
      "\r",
      "t:  52%|██████████████████████████████████▌                               | 660/1260 [05:00<04:34,  2.19it/s, now=None]"
     ]
    },
    {
     "name": "stdout",
     "output_type": "stream",
     "text": [
      "720\n",
      "640.0\n",
      "339.9449459474284\n",
      "1021.5036099677359\n",
      "680.7242779575821\n",
      "-0.21525689777579113\n",
      "1307.2625157769603\n",
      "848.6001427512996\n",
      "-0.21525689777579113\n"
     ]
    },
    {
     "name": "stderr",
     "output_type": "stream",
     "text": [
      "\r",
      "t:  52%|██████████████████████████████████▌                               | 661/1260 [05:01<04:37,  2.16it/s, now=None]"
     ]
    },
    {
     "name": "stdout",
     "output_type": "stream",
     "text": [
      "720\n",
      "640.0\n",
      "341.5829394368852\n",
      "1004.8562844531483\n",
      "673.2196119450168\n",
      "-0.17558937742366035\n",
      "1179.1943663077573\n",
      "1693.3321218607548\n",
      "-0.17558937742366035\n"
     ]
    },
    {
     "name": "stderr",
     "output_type": "stream",
     "text": [
      "\r",
      "t:  53%|██████████████████████████████████▋                               | 662/1260 [05:01<04:40,  2.13it/s, now=None]"
     ]
    },
    {
     "name": "stdout",
     "output_type": "stream",
     "text": [
      "720\n",
      "640.0\n",
      "341.6699414455095\n",
      "1005.2120134118409\n",
      "673.4409774286752\n",
      "-0.1767594521229974\n",
      "1062.8409988092644\n",
      "1975.271813574921\n",
      "-0.1767594521229974\n"
     ]
    },
    {
     "name": "stderr",
     "output_type": "stream",
     "text": [
      "\r",
      "t:  53%|██████████████████████████████████▋                               | 663/1260 [05:02<04:41,  2.12it/s, now=None]"
     ]
    },
    {
     "name": "stdout",
     "output_type": "stream",
     "text": [
      "720\n",
      "640.0\n",
      "341.2718735905539\n",
      "1005.7261276856053\n",
      "673.4990006380797\n",
      "-0.17706614622984973\n",
      "1041.1198547995402\n",
      "2341.9900911003333\n",
      "-0.17706614622984973\n"
     ]
    },
    {
     "name": "stderr",
     "output_type": "stream",
     "text": [
      "\r",
      "t:  53%|██████████████████████████████████▊                               | 664/1260 [05:02<04:38,  2.14it/s, now=None]"
     ]
    },
    {
     "name": "stdout",
     "output_type": "stream",
     "text": [
      "720\n",
      "640.0\n",
      "340.65903016540983\n",
      "1011.3499283011693\n",
      "676.0044792332895\n",
      "-0.1903093902331019\n",
      "1012.7679264021609\n",
      "1195.3582680592638\n",
      "-0.1903093902331019\n"
     ]
    },
    {
     "name": "stderr",
     "output_type": "stream",
     "text": [
      "\r",
      "t:  53%|██████████████████████████████████▊                               | 665/1260 [05:03<04:37,  2.14it/s, now=None]"
     ]
    },
    {
     "name": "stdout",
     "output_type": "stream",
     "text": [
      "720\n",
      "640.0\n",
      "339.7003538378376\n",
      "1011.1491015164663\n",
      "675.424727677152\n",
      "-0.1872449891506604\n",
      "1016.240853157885\n",
      "1316.6202609339948\n",
      "-0.1872449891506604\n"
     ]
    },
    {
     "name": "stderr",
     "output_type": "stream",
     "text": [
      "\r",
      "t:  53%|██████████████████████████████████▉                               | 666/1260 [05:03<04:39,  2.12it/s, now=None]"
     ]
    },
    {
     "name": "stdout",
     "output_type": "stream",
     "text": [
      "720\n",
      "640.0\n",
      "339.1828361961416\n",
      "1008.3274840160651\n",
      "673.7551601061034\n",
      "-0.1784201319894037\n",
      "1045.7771782656744\n",
      "1743.2842754722476\n",
      "-0.1784201319894037\n"
     ]
    },
    {
     "name": "stderr",
     "output_type": "stream",
     "text": [
      "\r",
      "t:  53%|██████████████████████████████████▉                               | 667/1260 [05:03<04:36,  2.15it/s, now=None]"
     ]
    },
    {
     "name": "stdout",
     "output_type": "stream",
     "text": [
      "720\n",
      "640.0\n",
      "337.6870075829049\n",
      "1008.9247387953212\n",
      "673.3058731891131\n",
      "-0.1760453297138834\n",
      "1096.40696757899\n",
      "1004.2334359419589\n",
      "-0.1760453297138834\n"
     ]
    },
    {
     "name": "stderr",
     "output_type": "stream",
     "text": [
      "\r",
      "t:  53%|██████████████████████████████████▉                               | 668/1260 [05:04<04:38,  2.13it/s, now=None]"
     ]
    },
    {
     "name": "stdout",
     "output_type": "stream",
     "text": [
      "720\n",
      "640.0\n",
      "337.1337686279279\n",
      "990.3336837662725\n",
      "663.7337261971002\n",
      "-0.12544969561324376\n",
      "1153.0680674216223\n",
      "3238.799505520371\n",
      "-0.12544969561324376\n"
     ]
    },
    {
     "name": "stderr",
     "output_type": "stream",
     "text": [
      "\r",
      "t:  53%|███████████████████████████████████                               | 669/1260 [05:04<04:34,  2.15it/s, now=None]"
     ]
    },
    {
     "name": "stdout",
     "output_type": "stream",
     "text": [
      "720\n",
      "640.0\n",
      "335.57197997443103\n",
      "1014.4804414122195\n",
      "675.0262106933253\n",
      "-0.1851385422361481\n",
      "1258.7177075832276\n",
      "1603.6339661714587\n",
      "-0.1851385422361481\n"
     ]
    },
    {
     "name": "stderr",
     "output_type": "stream",
     "text": [
      "\r",
      "t:  53%|███████████████████████████████████                               | 670/1260 [05:05<04:36,  2.13it/s, now=None]"
     ]
    },
    {
     "name": "stdout",
     "output_type": "stream",
     "text": [
      "720\n",
      "640.0\n",
      "334.6983768154302\n",
      "1027.0912611110941\n",
      "680.8948189632622\n",
      "-0.21615832880581448\n",
      "1278.4209520257969\n",
      "1409.835767731171\n",
      "-0.21615832880581448\n"
     ]
    },
    {
     "name": "stderr",
     "output_type": "stream",
     "text": [
      "\r",
      "t:  53%|███████████████████████████████████▏                              | 671/1260 [05:05<04:36,  2.13it/s, now=None]"
     ]
    },
    {
     "name": "stdout",
     "output_type": "stream",
     "text": [
      "720\n",
      "640.0\n",
      "334.7270477383148\n",
      "1010.267572815944\n",
      "672.4973102771294\n",
      "-0.17177149717911241\n",
      "1286.41925643927\n",
      "4293.898769128596\n",
      "-0.17177149717911241\n"
     ]
    },
    {
     "name": "stderr",
     "output_type": "stream",
     "text": [
      "\r",
      "t:  53%|███████████████████████████████████▏                              | 672/1260 [05:06<04:35,  2.13it/s, now=None]"
     ]
    },
    {
     "name": "stdout",
     "output_type": "stream",
     "text": [
      "720\n",
      "640.0\n",
      "333.0868138053171\n",
      "1013.714463157056\n",
      "673.4006384811865\n",
      "-0.17654623197198605\n",
      "1489.8788376759658\n",
      "4329.4629994295765\n",
      "-0.17654623197198605\n"
     ]
    },
    {
     "name": "stderr",
     "output_type": "stream",
     "text": [
      "\r",
      "t:  53%|███████████████████████████████████▎                              | 673/1260 [05:06<04:37,  2.12it/s, now=None]"
     ]
    },
    {
     "name": "stdout",
     "output_type": "stream",
     "text": [
      "720\n",
      "640.0\n",
      "334.21055837219205\n",
      "1015.8121097139757\n",
      "675.0113340430839\n",
      "-0.18505990851344367\n",
      "1467.372039848784\n",
      "2551.8093002408527\n",
      "-0.18505990851344367\n"
     ]
    },
    {
     "name": "stderr",
     "output_type": "stream",
     "text": [
      "\r",
      "t:  53%|███████████████████████████████████▎                              | 674/1260 [05:07<04:37,  2.11it/s, now=None]"
     ]
    },
    {
     "name": "stdout",
     "output_type": "stream",
     "text": [
      "720\n",
      "640.0\n",
      "333.9562695583593\n",
      "1018.5423535053475\n",
      "676.2493115318534\n",
      "-0.19160350381122532\n",
      "1500.9066558771747\n",
      "2060.7451166723845\n",
      "-0.19160350381122532\n"
     ]
    },
    {
     "name": "stderr",
     "output_type": "stream",
     "text": [
      "\r",
      "t:  54%|███████████████████████████████████▎                              | 675/1260 [05:07<04:34,  2.13it/s, now=None]"
     ]
    },
    {
     "name": "stdout",
     "output_type": "stream",
     "text": [
      "720\n",
      "640.0\n",
      "334.8706051360123\n",
      "1012.0426313502276\n",
      "673.4566182431199\n",
      "-0.17684212499934815\n",
      "1494.0780736158551\n",
      "40163.9698211281\n",
      "-0.17684212499934815\n"
     ]
    },
    {
     "name": "stderr",
     "output_type": "stream",
     "text": [
      "\r",
      "t:  54%|███████████████████████████████████▍                              | 676/1260 [05:08<04:41,  2.07it/s, now=None]"
     ]
    },
    {
     "name": "stdout",
     "output_type": "stream",
     "text": [
      "720\n",
      "640.0\n",
      "336.34864412309446\n",
      "1017.6120641324287\n",
      "676.9803541277615\n",
      "-0.19546758610388237\n",
      "1427.6529633320176\n",
      "2701.1539345449196\n",
      "-0.19546758610388237\n"
     ]
    },
    {
     "name": "stderr",
     "output_type": "stream",
     "text": [
      "\r",
      "t:  54%|███████████████████████████████████▍                              | 677/1260 [05:08<04:31,  2.15it/s, now=None]"
     ]
    },
    {
     "name": "stdout",
     "output_type": "stream",
     "text": [
      "720\n",
      "640.0\n",
      "336.3778482049362\n",
      "1017.7212293441752\n",
      "677.0495387745557\n",
      "-0.19583327637979434\n",
      "1570.1235364473328\n",
      "2644.5657053499403\n",
      "-0.19583327637979434\n"
     ]
    },
    {
     "name": "stderr",
     "output_type": "stream",
     "text": [
      "\r",
      "t:  54%|███████████████████████████████████▌                              | 678/1260 [05:09<04:35,  2.11it/s, now=None]"
     ]
    },
    {
     "name": "stdout",
     "output_type": "stream",
     "text": [
      "720\n",
      "640.0\n",
      "336.3915249583336\n",
      "1018.7184428663185\n",
      "677.5549839123261\n",
      "-0.19850491496515207\n",
      "1728.425963148359\n",
      "2533.411142303117\n",
      "-0.19850491496515207\n"
     ]
    },
    {
     "name": "stderr",
     "output_type": "stream",
     "text": [
      "\r",
      "t:  54%|███████████████████████████████████▌                              | 679/1260 [05:09<04:36,  2.10it/s, now=None]"
     ]
    },
    {
     "name": "stdout",
     "output_type": "stream",
     "text": [
      "720\n",
      "640.0\n",
      "336.4700982300078\n",
      "1019.1654216900567\n",
      "677.8177599600323\n",
      "-0.19989387407445633\n",
      "1831.7323809511906\n",
      "2068.636854864021\n",
      "-0.19989387407445633\n"
     ]
    },
    {
     "name": "stderr",
     "output_type": "stream",
     "text": [
      "\r",
      "t:  54%|███████████████████████████████████▌                              | 680/1260 [05:10<04:35,  2.10it/s, now=None]"
     ]
    },
    {
     "name": "stdout",
     "output_type": "stream",
     "text": [
      "720\n",
      "640.0\n",
      "337.663200628536\n",
      "1012.3578295238938\n",
      "675.0105150762149\n",
      "-0.18505557968856456\n",
      "1857.611305461737\n",
      "14052.406686069478\n",
      "-0.18505557968856456\n"
     ]
    },
    {
     "name": "stderr",
     "output_type": "stream",
     "text": [
      "\r",
      "t:  54%|███████████████████████████████████▋                              | 681/1260 [05:10<04:35,  2.10it/s, now=None]"
     ]
    },
    {
     "name": "stdout",
     "output_type": "stream",
     "text": [
      "720\n",
      "640.0\n",
      "338.4013159063834\n",
      "1001.7322111340326\n",
      "670.066763520208\n",
      "-0.1589243214639568\n",
      "1889.2558858552304\n",
      "127387.44541292153\n",
      "-0.1589243214639568\n"
     ]
    },
    {
     "name": "stderr",
     "output_type": "stream",
     "text": [
      "\r",
      "t:  54%|███████████████████████████████████▋                              | 682/1260 [05:11<04:30,  2.14it/s, now=None]"
     ]
    },
    {
     "name": "stdout",
     "output_type": "stream",
     "text": [
      "720\n",
      "640.0\n",
      "339.7586926950754\n",
      "1020.0130106042978\n",
      "679.8858516496866\n",
      "-0.21082521586262934\n",
      "1757.4626190179827\n",
      "2234.1516384025654\n",
      "-0.21082521586262934\n"
     ]
    },
    {
     "name": "stderr",
     "output_type": "stream",
     "text": [
      "\r",
      "t:  54%|███████████████████████████████████▊                              | 683/1260 [05:11<04:36,  2.09it/s, now=None]"
     ]
    },
    {
     "name": "stdout",
     "output_type": "stream",
     "text": [
      "720\n",
      "640.0\n",
      "340.01276429362974\n",
      "1025.0407295517564\n",
      "682.5267469226931\n",
      "-0.22478423373423478\n",
      "1776.2560897417848\n",
      "1415.8924904662224\n",
      "-0.22478423373423478\n"
     ]
    },
    {
     "name": "stderr",
     "output_type": "stream",
     "text": [
      "\r",
      "t:  54%|███████████████████████████████████▊                              | 684/1260 [05:12<04:34,  2.10it/s, now=None]"
     ]
    },
    {
     "name": "stdout",
     "output_type": "stream",
     "text": [
      "720\n",
      "640.0\n",
      "340.81710245757665\n",
      "1026.326316520457\n",
      "683.5717094890169\n",
      "-0.23030760729908956\n",
      "1810.8005200859614\n",
      "1374.7269222591578\n",
      "-0.23030760729908956\n"
     ]
    },
    {
     "name": "stderr",
     "output_type": "stream",
     "text": [
      "\r",
      "t:  54%|███████████████████████████████████▉                              | 685/1260 [05:12<04:37,  2.07it/s, now=None]"
     ]
    },
    {
     "name": "stdout",
     "output_type": "stream",
     "text": [
      "720\n",
      "640.0\n",
      "340.41500529583726\n",
      "1038.794649653556\n",
      "689.6048274746967\n",
      "-0.26219694522339665\n",
      "2115.739598970755\n",
      "771.5102163520457\n",
      "-0.26219694522339665\n"
     ]
    },
    {
     "name": "stderr",
     "output_type": "stream",
     "text": [
      "\r",
      "t:  54%|███████████████████████████████████▉                              | 686/1260 [05:13<04:36,  2.07it/s, now=None]"
     ]
    },
    {
     "name": "stdout",
     "output_type": "stream",
     "text": [
      "720\n",
      "640.0\n",
      "341.7719050338926\n",
      "1037.3001908081515\n",
      "689.536047921022\n",
      "-0.2618333961539736\n",
      "1942.6124923896589\n",
      "714.3670709788693\n",
      "-0.2618333961539736\n"
     ]
    },
    {
     "name": "stderr",
     "output_type": "stream",
     "text": [
      "\r",
      "t:  55%|███████████████████████████████████▉                              | 687/1260 [05:13<04:32,  2.10it/s, now=None]"
     ]
    },
    {
     "name": "stdout",
     "output_type": "stream",
     "text": [
      "720\n",
      "640.0\n",
      "343.8321110627046\n",
      "1028.1429797209325\n",
      "685.9875453918186\n",
      "-0.2430770256424696\n",
      "1812.640283479469\n",
      "908.0422872922455\n",
      "-0.2430770256424696\n"
     ]
    },
    {
     "name": "stderr",
     "output_type": "stream",
     "text": [
      "\r",
      "t:  55%|████████████████████████████████████                              | 688/1260 [05:13<04:32,  2.10it/s, now=None]"
     ]
    },
    {
     "name": "stdout",
     "output_type": "stream",
     "text": [
      "720\n",
      "640.0\n",
      "342.9777058613829\n",
      "1027.2943219553622\n",
      "685.1360139083725\n",
      "-0.23857607351568347\n",
      "1981.4318767637687\n",
      "742.3261712125133\n",
      "-0.23857607351568347\n"
     ]
    },
    {
     "name": "stderr",
     "output_type": "stream",
     "text": [
      "\r",
      "t:  55%|████████████████████████████████████                              | 689/1260 [05:14<04:33,  2.09it/s, now=None]"
     ]
    },
    {
     "name": "stdout",
     "output_type": "stream",
     "text": [
      "720\n",
      "640.0\n",
      "343.8778336682136\n",
      "1024.1447819198866\n",
      "684.01130779405\n",
      "-0.23263119833997872\n",
      "1904.2062954338592\n",
      "960.0124561590242\n",
      "-0.23263119833997872\n"
     ]
    },
    {
     "name": "stderr",
     "output_type": "stream",
     "text": [
      "\r",
      "t:  55%|████████████████████████████████████▏                             | 690/1260 [05:14<04:29,  2.12it/s, now=None]"
     ]
    },
    {
     "name": "stdout",
     "output_type": "stream",
     "text": [
      "720\n",
      "640.0\n",
      "341.0326337189281\n",
      "1024.854207991219\n",
      "682.9434208550736\n",
      "-0.22698665309110308\n",
      "2426.814802337394\n",
      "976.6916117776325\n",
      "-0.22698665309110308\n"
     ]
    },
    {
     "name": "stderr",
     "output_type": "stream",
     "text": [
      "\r",
      "t:  55%|████████████████████████████████████▏                             | 691/1260 [05:15<04:24,  2.15it/s, now=None]"
     ]
    },
    {
     "name": "stdout",
     "output_type": "stream",
     "text": [
      "720\n",
      "640.0\n",
      "343.2673222095143\n",
      "1024.614137355938\n",
      "683.9407297827262\n",
      "-0.23225814313726695\n",
      "1990.9444040670296\n",
      "956.1105888129292\n",
      "-0.23225814313726695\n"
     ]
    },
    {
     "name": "stderr",
     "output_type": "stream",
     "text": [
      "\r",
      "t:  55%|████████████████████████████████████▏                             | 692/1260 [05:15<04:23,  2.15it/s, now=None]"
     ]
    },
    {
     "name": "stdout",
     "output_type": "stream",
     "text": [
      "720\n",
      "640.0\n",
      "343.21703267045166\n",
      "1020.6634872949296\n",
      "681.9402599826906\n",
      "-0.22168423133707876\n",
      "2023.486306034174\n",
      "1119.0864289494696\n",
      "-0.22168423133707876\n"
     ]
    },
    {
     "name": "stderr",
     "output_type": "stream",
     "text": [
      "\r",
      "t:  55%|████████████████████████████████████▎                             | 693/1260 [05:16<04:30,  2.10it/s, now=None]"
     ]
    },
    {
     "name": "stdout",
     "output_type": "stream",
     "text": [
      "720\n",
      "640.0\n",
      "344.762939251313\n",
      "1018.6936689656138\n",
      "681.7283041084634\n",
      "-0.22056389314473493\n",
      "1824.4431946196255\n",
      "1586.2048953167584\n",
      "-0.22056389314473493\n"
     ]
    },
    {
     "name": "stderr",
     "output_type": "stream",
     "text": [
      "\r",
      "t:  55%|████████████████████████████████████▎                             | 694/1260 [05:16<04:31,  2.09it/s, now=None]"
     ]
    },
    {
     "name": "stdout",
     "output_type": "stream",
     "text": [
      "720\n",
      "640.0\n",
      "346.1494817664733\n",
      "1039.9669340931805\n",
      "693.058207929827\n",
      "-0.2804505276290853\n",
      "1564.988257837964\n",
      "857.8362978824367\n",
      "-0.2804505276290853\n"
     ]
    },
    {
     "name": "stderr",
     "output_type": "stream",
     "text": [
      "\r",
      "t:  55%|████████████████████████████████████▍                             | 695/1260 [05:17<04:32,  2.07it/s, now=None]"
     ]
    },
    {
     "name": "stdout",
     "output_type": "stream",
     "text": [
      "720\n",
      "640.0\n",
      "346.774002435026\n",
      "1032.4942262210618\n",
      "689.6341143280439\n",
      "-0.26235174716251775\n",
      "1354.555373088766\n",
      "1024.639912566906\n",
      "-0.26235174716251775\n"
     ]
    },
    {
     "name": "stderr",
     "output_type": "stream",
     "text": [
      "\r",
      "t:  55%|████████████████████████████████████▍                             | 696/1260 [05:17<04:34,  2.06it/s, now=None]"
     ]
    },
    {
     "name": "stdout",
     "output_type": "stream",
     "text": [
      "720\n",
      "640.0\n",
      "348.89031542330486\n",
      "1048.0513508814015\n",
      "698.4708331523532\n",
      "-0.3090601180910097\n",
      "1090.563795818823\n",
      "654.7800018931382\n",
      "-0.3090601180910097\n"
     ]
    },
    {
     "name": "stderr",
     "output_type": "stream",
     "text": [
      "\r",
      "t:  55%|████████████████████████████████████▌                             | 697/1260 [05:18<04:34,  2.05it/s, now=None]"
     ]
    },
    {
     "name": "stdout",
     "output_type": "stream",
     "text": [
      "720\n",
      "640.0\n",
      "348.1402343958764\n",
      "1041.8528733671126\n",
      "694.9965538814945\n",
      "-0.2906960705164709\n",
      "1083.616665300199\n",
      "660.5409731605795\n",
      "-0.2906960705164709\n"
     ]
    },
    {
     "name": "stderr",
     "output_type": "stream",
     "text": [
      "\r",
      "t:  55%|████████████████████████████████████▌                             | 698/1260 [05:18<04:30,  2.08it/s, now=None]"
     ]
    },
    {
     "name": "stdout",
     "output_type": "stream",
     "text": [
      "720\n",
      "640.0\n",
      "347.7434583119477\n",
      "1038.8464983794397\n",
      "693.2949783456937\n",
      "-0.2817020283986668\n",
      "1150.1359884460583\n",
      "608.1551861929576\n",
      "-0.2817020283986668\n"
     ]
    },
    {
     "name": "stderr",
     "output_type": "stream",
     "text": [
      "\r",
      "t:  55%|████████████████████████████████████▌                             | 699/1260 [05:19<04:27,  2.10it/s, now=None]"
     ]
    },
    {
     "name": "stdout",
     "output_type": "stream",
     "text": [
      "720\n",
      "640.0\n",
      "348.44911435465707\n",
      "1032.8136776000406\n",
      "690.6313959773488\n",
      "-0.2676230930231294\n",
      "1016.384506591489\n",
      "633.1792983235995\n",
      "-0.2676230930231294\n"
     ]
    },
    {
     "name": "stderr",
     "output_type": "stream",
     "text": [
      "\r",
      "t:  56%|████████████████████████████████████▋                             | 700/1260 [05:19<04:31,  2.07it/s, now=None]"
     ]
    },
    {
     "name": "stdout",
     "output_type": "stream",
     "text": [
      "720\n",
      "640.0\n",
      "347.7729753004792\n",
      "1016.6837850975967\n",
      "682.2283801990379\n",
      "-0.22320715248062906\n",
      "1059.1834844003822\n",
      "1674.4054982909113\n",
      "-0.22320715248062906\n"
     ]
    },
    {
     "name": "stderr",
     "output_type": "stream",
     "text": [
      "\r",
      "t:  56%|████████████████████████████████████▋                             | 701/1260 [05:20<04:21,  2.14it/s, now=None]"
     ]
    },
    {
     "name": "stdout",
     "output_type": "stream",
     "text": [
      "720\n",
      "640.0\n",
      "350.05420172730413\n",
      "1016.6731033100167\n",
      "683.3636525186604\n",
      "-0.22920787759863348\n",
      "938.2895862477378\n",
      "1187.2084666713147\n",
      "-0.22920787759863348\n"
     ]
    },
    {
     "name": "stderr",
     "output_type": "stream",
     "text": [
      "\r",
      "t:  56%|████████████████████████████████████▊                             | 702/1260 [05:20<04:19,  2.15it/s, now=None]"
     ]
    },
    {
     "name": "stdout",
     "output_type": "stream",
     "text": [
      "720\n",
      "640.0\n",
      "348.4462282879347\n",
      "1013.0352270584989\n",
      "680.7407276732167\n",
      "-0.215343846272717\n",
      "951.7831386993596\n",
      "1924.6482928947994\n",
      "-0.215343846272717\n"
     ]
    },
    {
     "name": "stderr",
     "output_type": "stream",
     "text": [
      "\r",
      "t:  56%|████████████████████████████████████▊                             | 703/1260 [05:21<04:22,  2.13it/s, now=None]"
     ]
    },
    {
     "name": "stdout",
     "output_type": "stream",
     "text": [
      "720\n",
      "640.0\n",
      "346.0805564473372\n",
      "1011.3248484914425\n",
      "678.7027024693898\n",
      "-0.20457142733820327\n",
      "989.7084112187977\n",
      "6490.755990750488\n",
      "-0.20457142733820327\n"
     ]
    },
    {
     "name": "stderr",
     "output_type": "stream",
     "text": [
      "\r",
      "t:  56%|████████████████████████████████████▉                             | 704/1260 [05:21<04:23,  2.11it/s, now=None]"
     ]
    },
    {
     "name": "stdout",
     "output_type": "stream",
     "text": [
      "720\n",
      "640.0\n",
      "342.888780498551\n",
      "1187.946716980891\n",
      "765.417748739721\n",
      "-0.6629223861956681\n",
      "1128.9133684434942\n",
      "134.61111529537487\n",
      "-0.6629223861956681\n"
     ]
    },
    {
     "name": "stderr",
     "output_type": "stream",
     "text": [
      "\r",
      "t:  56%|████████████████████████████████████▉                             | 705/1260 [05:22<04:25,  2.09it/s, now=None]"
     ]
    },
    {
     "name": "stdout",
     "output_type": "stream",
     "text": [
      "720\n",
      "640.0\n",
      "341.7493464568289\n",
      "1201.2779471125755\n",
      "771.5136467847021\n",
      "-0.6951435615762828\n",
      "1201.832028202212\n",
      "306.10911310970687\n",
      "-0.6951435615762828\n"
     ]
    },
    {
     "name": "stderr",
     "output_type": "stream",
     "text": [
      "\r",
      "t:  56%|████████████████████████████████████▉                             | 706/1260 [05:22<04:23,  2.10it/s, now=None]"
     ]
    },
    {
     "name": "stdout",
     "output_type": "stream",
     "text": [
      "720\n",
      "640.0\n",
      "341.7716446996377\n",
      "1029.3188779877023\n",
      "685.5452613436701\n",
      "-0.2407392385308275\n",
      "1147.5930885444973\n",
      "1075.3687981317678\n",
      "-0.2407392385308275\n"
     ]
    },
    {
     "name": "stderr",
     "output_type": "stream",
     "text": [
      "\r",
      "t:  56%|█████████████████████████████████████                             | 707/1260 [05:22<04:20,  2.12it/s, now=None]"
     ]
    },
    {
     "name": "stdout",
     "output_type": "stream",
     "text": [
      "720\n",
      "640.0\n",
      "339.3943596562428\n",
      "1051.3598642383279\n",
      "695.3771119472854\n",
      "-0.29270759172136546\n",
      "1307.2078681447433\n",
      "604.3524819391229\n",
      "-0.29270759172136546\n"
     ]
    },
    {
     "name": "stderr",
     "output_type": "stream",
     "text": [
      "\r",
      "t:  56%|█████████████████████████████████████                             | 708/1260 [05:23<04:16,  2.15it/s, now=None]"
     ]
    },
    {
     "name": "stdout",
     "output_type": "stream",
     "text": [
      "720\n",
      "640.0\n",
      "338.7957036325685\n",
      "1008.4966810722126\n",
      "673.6461923523906\n",
      "-0.17784415957692168\n",
      "1262.4226605785839\n",
      "3144.3766439791475\n",
      "-0.17784415957692168\n"
     ]
    },
    {
     "name": "stderr",
     "output_type": "stream",
     "text": [
      "\r",
      "t:  56%|█████████████████████████████████████▏                            | 709/1260 [05:23<04:23,  2.09it/s, now=None]"
     ]
    },
    {
     "name": "stdout",
     "output_type": "stream",
     "text": [
      "720\n",
      "640.0\n",
      "336.5641181915645\n",
      "1037.250676496355\n",
      "686.9073973439597\n",
      "-0.24793910024664415\n",
      "1534.9417246957105\n",
      "692.8870328043383\n",
      "-0.24793910024664415\n"
     ]
    },
    {
     "name": "stderr",
     "output_type": "stream",
     "text": [
      "\r",
      "t:  56%|█████████████████████████████████████▏                            | 710/1260 [05:24<04:25,  2.07it/s, now=None]"
     ]
    },
    {
     "name": "stdout",
     "output_type": "stream",
     "text": [
      "720\n",
      "640.0\n",
      "337.87954238373936\n",
      "1030.0425140348832\n",
      "683.9610282093113\n",
      "-0.23236543482064534\n",
      "1330.8398735933567\n",
      "707.7886961708158\n",
      "-0.23236543482064534\n"
     ]
    },
    {
     "name": "stderr",
     "output_type": "stream",
     "text": [
      "\r",
      "t:  56%|█████████████████████████████████████▏                            | 711/1260 [05:24<04:21,  2.10it/s, now=None]"
     ]
    },
    {
     "name": "stdout",
     "output_type": "stream",
     "text": [
      "720\n",
      "640.0\n",
      "338.57116503445235\n",
      "1018.2022357381451\n",
      "678.3867003862987\n",
      "-0.20290113061329307\n",
      "1281.948068976884\n",
      "1094.3827112046595\n",
      "-0.20290113061329307\n"
     ]
    },
    {
     "name": "stderr",
     "output_type": "stream",
     "text": [
      "\r",
      "t:  57%|█████████████████████████████████████▎                            | 712/1260 [05:25<04:30,  2.02it/s, now=None]"
     ]
    },
    {
     "name": "stdout",
     "output_type": "stream",
     "text": [
      "720\n",
      "640.0\n",
      "339.5155471816629\n",
      "1008.9635044203675\n",
      "674.2395258010151\n",
      "-0.18098035066250856\n",
      "1289.0019157324616\n",
      "2834.612860634256\n",
      "-0.18098035066250856\n"
     ]
    },
    {
     "name": "stderr",
     "output_type": "stream",
     "text": [
      "\r",
      "t:  57%|█████████████████████████████████████▎                            | 713/1260 [05:25<04:23,  2.08it/s, now=None]"
     ]
    },
    {
     "name": "stdout",
     "output_type": "stream",
     "text": [
      "720\n",
      "640.0\n",
      "338.64562404216065\n",
      "1009.533139389939\n",
      "674.0893817160498\n",
      "-0.18018673192769202\n",
      "1276.8949134602592\n",
      "3145.369800831912\n",
      "-0.18018673192769202\n"
     ]
    },
    {
     "name": "stderr",
     "output_type": "stream",
     "text": [
      "\r",
      "t:  57%|█████████████████████████████████████▍                            | 714/1260 [05:26<04:22,  2.08it/s, now=None]"
     ]
    },
    {
     "name": "stdout",
     "output_type": "stream",
     "text": [
      "720\n",
      "640.0\n",
      "339.0804110533848\n",
      "1008.5734310575363\n",
      "673.8269210554605\n",
      "-0.17879943986457694\n",
      "1232.816060726879\n",
      "2979.976872592014\n",
      "-0.17879943986457694\n"
     ]
    },
    {
     "name": "stderr",
     "output_type": "stream",
     "text": [
      "\r",
      "t:  57%|█████████████████████████████████████▍                            | 715/1260 [05:26<04:15,  2.13it/s, now=None]"
     ]
    },
    {
     "name": "stdout",
     "output_type": "stream",
     "text": [
      "720\n",
      "640.0\n",
      "340.28803054864306\n",
      "1204.6760537520179\n",
      "772.4820421503305\n",
      "-0.7002622227946039\n",
      "1177.25524591167\n",
      "127.69089951191614\n",
      "-0.7002622227946039\n"
     ]
    },
    {
     "name": "stderr",
     "output_type": "stream",
     "text": [
      "\r",
      "t:  57%|█████████████████████████████████████▌                            | 716/1260 [05:27<04:20,  2.09it/s, now=None]"
     ]
    },
    {
     "name": "stdout",
     "output_type": "stream",
     "text": [
      "720\n",
      "640.0\n",
      "339.73696480784145\n",
      "1192.0688476686055\n",
      "765.9029062382235\n",
      "-0.6654867901163244\n",
      "1229.3679364477625\n",
      "138.52731833910877\n",
      "-0.6654867901163244\n"
     ]
    },
    {
     "name": "stderr",
     "output_type": "stream",
     "text": [
      "\r",
      "t:  57%|█████████████████████████████████████▌                            | 717/1260 [05:27<04:17,  2.11it/s, now=None]"
     ]
    },
    {
     "name": "stdout",
     "output_type": "stream",
     "text": [
      "720\n",
      "640.0\n",
      "341.0928193871219\n",
      "1175.5351530077162\n",
      "758.313986197419\n",
      "-0.6253739270435005\n",
      "1211.6350642333996\n",
      "229.73859033934272\n",
      "-0.6253739270435005\n"
     ]
    },
    {
     "name": "stderr",
     "output_type": "stream",
     "text": [
      "\r",
      "t:  57%|█████████████████████████████████████▌                            | 718/1260 [05:28<04:15,  2.13it/s, now=None]"
     ]
    },
    {
     "name": "stdout",
     "output_type": "stream",
     "text": [
      "720\n",
      "640.0\n",
      "339.34720268754313\n",
      "1042.228771383908\n",
      "690.7879870357256\n",
      "-0.26845078861740657\n",
      "1365.0773478720535\n",
      "668.3551221985289\n",
      "-0.26845078861740657\n"
     ]
    },
    {
     "name": "stderr",
     "output_type": "stream",
     "text": [
      "\r",
      "t:  57%|█████████████████████████████████████▋                            | 719/1260 [05:28<04:12,  2.14it/s, now=None]"
     ]
    },
    {
     "name": "stdout",
     "output_type": "stream",
     "text": [
      "720\n",
      "640.0\n",
      "338.4129400408431\n",
      "1032.8965890461325\n",
      "685.6547645434878\n",
      "-0.2413180411584354\n",
      "1506.3568315018915\n",
      "789.4464046835234\n",
      "-0.2413180411584354\n"
     ]
    },
    {
     "name": "stderr",
     "output_type": "stream",
     "text": [
      "\r",
      "t:  57%|█████████████████████████████████████▋                            | 720/1260 [05:29<04:12,  2.14it/s, now=None]"
     ]
    },
    {
     "name": "stdout",
     "output_type": "stream",
     "text": [
      "720\n",
      "640.0\n",
      "339.7456449049762\n",
      "1026.6492222046945\n",
      "683.1974335548354\n",
      "-0.2283292916469869\n",
      "1423.019680092828\n",
      "884.4332903874506\n",
      "-0.2283292916469869\n"
     ]
    },
    {
     "name": "stderr",
     "output_type": "stream",
     "text": [
      "\r",
      "t:  57%|█████████████████████████████████████▊                            | 721/1260 [05:29<04:14,  2.12it/s, now=None]"
     ]
    },
    {
     "name": "stdout",
     "output_type": "stream",
     "text": [
      "720\n",
      "640.0\n",
      "338.63416634322397\n",
      "1029.966439938835\n",
      "684.3003031410295\n",
      "-0.23415874517401325\n",
      "1601.6482939652315\n",
      "789.7882600122016\n",
      "-0.23415874517401325\n"
     ]
    },
    {
     "name": "stderr",
     "output_type": "stream",
     "text": [
      "\r",
      "t:  57%|█████████████████████████████████████▊                            | 722/1260 [05:30<04:15,  2.11it/s, now=None]"
     ]
    },
    {
     "name": "stdout",
     "output_type": "stream",
     "text": [
      "720\n",
      "640.0\n",
      "341.5092254227684\n",
      "1037.440328955465\n",
      "689.4747771891167\n",
      "-0.2615095365710455\n",
      "1360.5421533058627\n",
      "617.4266417979636\n",
      "-0.2615095365710455\n"
     ]
    },
    {
     "name": "stderr",
     "output_type": "stream",
     "text": [
      "\r",
      "t:  57%|█████████████████████████████████████▊                            | 723/1260 [05:30<04:14,  2.11it/s, now=None]"
     ]
    },
    {
     "name": "stdout",
     "output_type": "stream",
     "text": [
      "720\n",
      "640.0\n",
      "341.8831841208804\n",
      "1036.1767398527738\n",
      "689.0299619868272\n",
      "-0.2591583705018008\n",
      "1395.3833124527237\n",
      "561.8523772220981\n",
      "-0.2591583705018008\n"
     ]
    },
    {
     "name": "stderr",
     "output_type": "stream",
     "text": [
      "\r",
      "t:  57%|█████████████████████████████████████▉                            | 724/1260 [05:31<04:11,  2.13it/s, now=None]"
     ]
    },
    {
     "name": "stdout",
     "output_type": "stream",
     "text": [
      "720\n",
      "640.0\n",
      "339.8435140565863\n",
      "1031.0421949884071\n",
      "685.4428545224966\n",
      "-0.24019794533319658\n",
      "1776.471198200893\n",
      "634.5209567851875\n",
      "-0.24019794533319658\n"
     ]
    },
    {
     "name": "stderr",
     "output_type": "stream",
     "text": [
      "\r",
      "t:  58%|█████████████████████████████████████▉                            | 725/1260 [05:31<04:08,  2.16it/s, now=None]"
     ]
    },
    {
     "name": "stdout",
     "output_type": "stream",
     "text": [
      "720\n",
      "640.0\n",
      "340.8322655329578\n",
      "1026.723984937707\n",
      "683.7781252353324\n",
      "-0.2313986619581854\n",
      "1664.5362943625432\n",
      "713.267444047433\n",
      "-0.2313986619581854\n"
     ]
    },
    {
     "name": "stderr",
     "output_type": "stream",
     "text": [
      "\r",
      "t:  58%|██████████████████████████████████████                            | 726/1260 [05:31<04:10,  2.13it/s, now=None]"
     ]
    },
    {
     "name": "stdout",
     "output_type": "stream",
     "text": [
      "720\n",
      "640.0\n",
      "341.8932388727429\n",
      "1019.486854685465\n",
      "680.690046779104\n",
      "-0.2150759615466927\n",
      "1575.0280974362825\n",
      "1498.6860247490768\n",
      "-0.2150759615466927\n"
     ]
    },
    {
     "name": "stderr",
     "output_type": "stream",
     "text": [
      "\r",
      "t:  58%|██████████████████████████████████████                            | 727/1260 [05:32<04:05,  2.17it/s, now=None]"
     ]
    },
    {
     "name": "stdout",
     "output_type": "stream",
     "text": [
      "720\n",
      "640.0\n",
      "344.2898223970314\n",
      "1019.6070262006098\n",
      "681.9484242988206\n",
      "-0.22172738557948007\n",
      "1456.335695452244\n",
      "1321.6964339035842\n",
      "-0.22172738557948007\n"
     ]
    },
    {
     "name": "stderr",
     "output_type": "stream",
     "text": [
      "\r",
      "t:  58%|██████████████████████████████████████▏                           | 728/1260 [05:32<04:06,  2.16it/s, now=None]"
     ]
    },
    {
     "name": "stdout",
     "output_type": "stream",
     "text": [
      "720\n",
      "640.0\n",
      "344.37134618427103\n",
      "1228.8955776938876\n",
      "786.6334619390793\n",
      "-0.7750625845351337\n",
      "1402.3560710570368\n",
      "900.1067944344935\n",
      "-0.7750625845351337\n"
     ]
    },
    {
     "name": "stderr",
     "output_type": "stream",
     "text": [
      "\r",
      "t:  58%|██████████████████████████████████████▏                           | 729/1260 [05:33<04:02,  2.19it/s, now=None]"
     ]
    },
    {
     "name": "stdout",
     "output_type": "stream",
     "text": [
      "720\n",
      "640.0\n",
      "346.8084022577964\n",
      "1244.3265482871882\n",
      "795.5674752724923\n",
      "-0.8222852264403164\n",
      "1283.233665323162\n",
      "125.60291018685736\n",
      "-0.8222852264403164\n"
     ]
    },
    {
     "name": "stderr",
     "output_type": "stream",
     "text": [
      "\r",
      "t:  58%|██████████████████████████████████████▏                           | 730/1260 [05:33<04:00,  2.20it/s, now=None]"
     ]
    },
    {
     "name": "stdout",
     "output_type": "stream",
     "text": [
      "720\n",
      "640.0\n",
      "347.1918655983983\n",
      "1063.5002622708014\n",
      "705.3460639345999\n",
      "-0.34540062365431373\n",
      "1242.882591210167\n",
      "344.60062800600855\n",
      "-0.34540062365431373\n"
     ]
    },
    {
     "name": "stderr",
     "output_type": "stream",
     "text": [
      "\r",
      "t:  58%|██████████████████████████████████████▎                           | 731/1260 [05:34<03:58,  2.22it/s, now=None]"
     ]
    },
    {
     "name": "stdout",
     "output_type": "stream",
     "text": [
      "720\n",
      "640.0\n",
      "350.0476312286731\n",
      "1053.6853843114995\n",
      "701.8665077700863\n",
      "-0.32700868392759896\n",
      "1149.0251474968518\n",
      "711.0817196653328\n",
      "-0.32700868392759896\n"
     ]
    },
    {
     "name": "stderr",
     "output_type": "stream",
     "text": [
      "\r",
      "t:  58%|██████████████████████████████████████▎                           | 732/1260 [05:34<03:58,  2.22it/s, now=None]"
     ]
    },
    {
     "name": "stdout",
     "output_type": "stream",
     "text": [
      "720\n",
      "640.0\n",
      "352.5200515675667\n",
      "1058.9556401101086\n",
      "705.7378458388376\n",
      "-0.3474714708624276\n",
      "1118.396688480835\n",
      "577.3220618942564\n",
      "-0.3474714708624276\n"
     ]
    },
    {
     "name": "stderr",
     "output_type": "stream",
     "text": [
      "\r",
      "t:  58%|██████████████████████████████████████▍                           | 733/1260 [05:35<03:54,  2.24it/s, now=None]"
     ]
    },
    {
     "name": "stdout",
     "output_type": "stream",
     "text": [
      "720\n",
      "640.0\n",
      "353.8827751184797\n",
      "1045.3936815828602\n",
      "699.6382283506699\n",
      "-0.3152306355678267\n",
      "1056.607111690802\n",
      "684.2426319769205\n",
      "-0.3152306355678267\n"
     ]
    },
    {
     "name": "stderr",
     "output_type": "stream",
     "text": [
      "\r",
      "t:  58%|██████████████████████████████████████▍                           | 734/1260 [05:35<03:56,  2.23it/s, now=None]"
     ]
    },
    {
     "name": "stdout",
     "output_type": "stream",
     "text": [
      "720\n",
      "640.0\n",
      "353.8642041441183\n",
      "1052.2962667630165\n",
      "703.0802354535674\n",
      "-0.33342410168314207\n",
      "1101.5402629899363\n",
      "492.12053352439966\n",
      "-0.33342410168314207\n"
     ]
    },
    {
     "name": "stderr",
     "output_type": "stream",
     "text": [
      "\r",
      "t:  58%|██████████████████████████████████████▌                           | 735/1260 [05:36<04:00,  2.18it/s, now=None]"
     ]
    },
    {
     "name": "stdout",
     "output_type": "stream",
     "text": [
      "720\n",
      "640.0\n",
      "354.68051869365195\n",
      "1033.5816151862975\n",
      "694.1310669399747\n",
      "-0.2861213538255808\n",
      "1035.090787052877\n",
      "754.4739180927966\n",
      "-0.2861213538255808\n"
     ]
    },
    {
     "name": "stderr",
     "output_type": "stream",
     "text": [
      "\r",
      "t:  58%|██████████████████████████████████████▌                           | 736/1260 [05:36<04:01,  2.17it/s, now=None]"
     ]
    },
    {
     "name": "stdout",
     "output_type": "stream",
     "text": [
      "720\n",
      "640.0\n",
      "353.7492540826154\n",
      "1041.916803245488\n",
      "697.8330286640517\n",
      "-0.3056888657957016\n",
      "1157.0130142281273\n",
      "514.6756748001347\n",
      "-0.3056888657957016\n"
     ]
    },
    {
     "name": "stderr",
     "output_type": "stream",
     "text": [
      "\r",
      "t:  58%|██████████████████████████████████████▌                           | 737/1260 [05:36<03:55,  2.22it/s, now=None]"
     ]
    },
    {
     "name": "stdout",
     "output_type": "stream",
     "text": [
      "720\n",
      "640.0\n",
      "355.17986036078366\n",
      "1031.5893755313418\n",
      "693.3846179460627\n",
      "-0.2821758377149028\n",
      "1125.3717545848283\n",
      "792.8508685116857\n",
      "-0.2821758377149028\n"
     ]
    },
    {
     "name": "stderr",
     "output_type": "stream",
     "text": [
      "\r",
      "t:  59%|██████████████████████████████████████▋                           | 738/1260 [05:37<03:57,  2.20it/s, now=None]"
     ]
    },
    {
     "name": "stdout",
     "output_type": "stream",
     "text": [
      "720\n",
      "640.0\n",
      "354.8268899363465\n",
      "1024.9256924158146\n",
      "689.8762911760806\n",
      "-0.26363182478785463\n",
      "1202.1217368698003\n",
      "1401.3473275065614\n",
      "-0.26363182478785463\n"
     ]
    },
    {
     "name": "stderr",
     "output_type": "stream",
     "text": [
      "\r",
      "t:  59%|██████████████████████████████████████▋                           | 739/1260 [05:37<03:55,  2.21it/s, now=None]"
     ]
    },
    {
     "name": "stdout",
     "output_type": "stream",
     "text": [
      "720\n",
      "640.0\n",
      "354.85825792899766\n",
      "1023.4348420944003\n",
      "689.146550011699\n",
      "-0.259774621490409\n",
      "1247.1647532962188\n",
      "1470.9875984067\n",
      "-0.259774621490409\n"
     ]
    },
    {
     "name": "stderr",
     "output_type": "stream",
     "text": [
      "\r",
      "t:  59%|██████████████████████████████████████▊                           | 740/1260 [05:38<03:57,  2.19it/s, now=None]"
     ]
    },
    {
     "name": "stdout",
     "output_type": "stream",
     "text": [
      "720\n",
      "640.0\n",
      "353.3826537375793\n",
      "1174.7949417457044\n",
      "764.0887977416419\n",
      "-0.6558979309201072\n",
      "1451.8319589220853\n",
      "92.70600747560712\n",
      "-0.6558979309201072\n"
     ]
    },
    {
     "name": "stderr",
     "output_type": "stream",
     "text": [
      "\r",
      "t:  59%|██████████████████████████████████████▊                           | 741/1260 [05:38<03:58,  2.17it/s, now=None]"
     ]
    },
    {
     "name": "stdout",
     "output_type": "stream",
     "text": [
      "720\n",
      "640.0\n",
      "355.5790714987519\n",
      "1170.6441513199175\n",
      "763.1116114093347\n",
      "-0.6507328031636265\n",
      "1323.9681570013888\n",
      "61.752480563161576\n",
      "-0.6507328031636265\n"
     ]
    },
    {
     "name": "stderr",
     "output_type": "stream",
     "text": [
      "\r",
      "t:  59%|██████████████████████████████████████▊                           | 742/1260 [05:39<04:02,  2.14it/s, now=None]"
     ]
    },
    {
     "name": "stdout",
     "output_type": "stream",
     "text": [
      "720\n",
      "640.0\n",
      "356.2458159592242\n",
      "1050.5061839350594\n",
      "703.3759999471418\n",
      "-0.3349874282920355\n",
      "1272.569649065879\n",
      "828.9806090343914\n",
      "-0.3349874282920355\n"
     ]
    },
    {
     "name": "stderr",
     "output_type": "stream",
     "text": [
      "\r",
      "t:  59%|██████████████████████████████████████▉                           | 743/1260 [05:39<04:02,  2.14it/s, now=None]"
     ]
    },
    {
     "name": "stdout",
     "output_type": "stream",
     "text": [
      "720\n",
      "640.0\n",
      "358.2159995995676\n",
      "1045.038351376535\n",
      "701.6271754880513\n",
      "-0.32574364186541405\n",
      "1249.1704950894155\n",
      "883.3325437692258\n",
      "-0.32574364186541405\n"
     ]
    },
    {
     "name": "stderr",
     "output_type": "stream",
     "text": [
      "\r",
      "t:  59%|██████████████████████████████████████▉                           | 744/1260 [05:40<04:01,  2.14it/s, now=None]"
     ]
    },
    {
     "name": "stdout",
     "output_type": "stream",
     "text": [
      "720\n",
      "640.0\n",
      "361.31116599972444\n",
      "1033.1797761337727\n",
      "697.2454710667486\n",
      "-0.3025832042099567\n",
      "1100.8996660106493\n",
      "1117.6321890760007\n",
      "-0.3025832042099567\n"
     ]
    },
    {
     "name": "stderr",
     "output_type": "stream",
     "text": [
      "\r",
      "t:  59%|███████████████████████████████████████                           | 745/1260 [05:40<04:02,  2.12it/s, now=None]"
     ]
    },
    {
     "name": "stdout",
     "output_type": "stream",
     "text": [
      "720\n",
      "640.0\n",
      "361.63753544521575\n",
      "1038.0857715855918\n",
      "699.8616535154038\n",
      "-0.31641159715284845\n",
      "1109.0444439560788\n",
      "893.9280013520068\n",
      "-0.31641159715284845\n"
     ]
    },
    {
     "name": "stderr",
     "output_type": "stream",
     "text": [
      "\r",
      "t:  59%|███████████████████████████████████████                           | 746/1260 [05:41<04:04,  2.11it/s, now=None]"
     ]
    },
    {
     "name": "stdout",
     "output_type": "stream",
     "text": [
      "720\n",
      "640.0\n",
      "361.1422015876976\n",
      "1029.2000184080325\n",
      "695.1711099978651\n",
      "-0.2916187242744297\n",
      "1276.0449306995295\n",
      "1267.5514166504197\n",
      "-0.2916187242744297\n"
     ]
    },
    {
     "name": "stderr",
     "output_type": "stream",
     "text": [
      "\r",
      "t:  59%|███████████████████████████████████████▏                          | 747/1260 [05:41<03:58,  2.15it/s, now=None]"
     ]
    },
    {
     "name": "stdout",
     "output_type": "stream",
     "text": [
      "720\n",
      "640.0\n",
      "362.10324291430067\n",
      "1026.3489076343299\n",
      "694.2260752743152\n",
      "-0.28662354073566626\n",
      "1343.468047000925\n",
      "1648.0937711614988\n",
      "-0.28662354073566626\n"
     ]
    },
    {
     "name": "stderr",
     "output_type": "stream",
     "text": [
      "\r",
      "t:  59%|███████████████████████████████████████▏                          | 748/1260 [05:42<04:01,  2.12it/s, now=None]"
     ]
    },
    {
     "name": "stdout",
     "output_type": "stream",
     "text": [
      "720\n",
      "640.0\n",
      "363.59763029491864\n",
      "1032.5318997199743\n",
      "698.0647650074465\n",
      "-0.3069137578965027\n",
      "1380.9925948268112\n",
      "1181.6636720655188\n",
      "-0.3069137578965027\n"
     ]
    },
    {
     "name": "stderr",
     "output_type": "stream",
     "text": [
      "\r",
      "t:  59%|███████████████████████████████████████▏                          | 749/1260 [05:42<04:00,  2.13it/s, now=None]"
     ]
    },
    {
     "name": "stdout",
     "output_type": "stream",
     "text": [
      "720\n",
      "640.0\n",
      "364.4425789415626\n",
      "1034.2864661316132\n",
      "699.3645225365879\n",
      "-0.3137839048362501\n",
      "1457.410393426777\n",
      "1118.0789298208754\n",
      "-0.3137839048362501\n"
     ]
    },
    {
     "name": "stderr",
     "output_type": "stream",
     "text": [
      "\r",
      "t:  60%|███████████████████████████████████████▎                          | 750/1260 [05:43<03:55,  2.17it/s, now=None]"
     ]
    },
    {
     "name": "stdout",
     "output_type": "stream",
     "text": [
      "720\n",
      "640.0\n",
      "365.76012228215967\n",
      "1030.7956031258627\n",
      "698.2778627040112\n",
      "-0.3080401314354879\n",
      "1465.252785028397\n",
      "1742.5414415876662\n",
      "-0.3080401314354879\n"
     ]
    },
    {
     "name": "stderr",
     "output_type": "stream",
     "text": [
      "\r",
      "t:  60%|███████████████████████████████████████▎                          | 751/1260 [05:43<03:52,  2.19it/s, now=None]"
     ]
    },
    {
     "name": "stdout",
     "output_type": "stream",
     "text": [
      "720\n",
      "640.0\n",
      "366.5648084325186\n",
      "1034.2337603318238\n",
      "700.3992843821711\n",
      "-0.3192533603057616\n",
      "1612.6942582636273\n",
      "1055.8484297924251\n",
      "-0.3192533603057616\n"
     ]
    },
    {
     "name": "stderr",
     "output_type": "stream",
     "text": [
      "\r",
      "t:  60%|███████████████████████████████████████▍                          | 752/1260 [05:43<03:52,  2.18it/s, now=None]"
     ]
    },
    {
     "name": "stdout",
     "output_type": "stream",
     "text": [
      "720\n",
      "640.0\n",
      "367.98182114155304\n",
      "1197.2427375902257\n",
      "782.6122793658894\n",
      "-0.7538077623625585\n",
      "1572.4865380067467\n",
      "106.21377367367357\n",
      "-0.7538077623625585\n"
     ]
    },
    {
     "name": "stderr",
     "output_type": "stream",
     "text": [
      "\r",
      "t:  60%|███████████████████████████████████████▍                          | 753/1260 [05:44<03:50,  2.20it/s, now=None]"
     ]
    },
    {
     "name": "stdout",
     "output_type": "stream",
     "text": [
      "720\n",
      "640.0\n",
      "367.66127775312646\n",
      "1157.8910110177076\n",
      "762.776144385417\n",
      "-0.6489596203229182\n",
      "1745.2676084540299\n",
      "61.61545470667542\n",
      "-0.6489596203229182\n"
     ]
    },
    {
     "name": "stderr",
     "output_type": "stream",
     "text": [
      "\r",
      "t:  60%|███████████████████████████████████████▍                          | 754/1260 [05:44<03:48,  2.22it/s, now=None]"
     ]
    },
    {
     "name": "stdout",
     "output_type": "stream",
     "text": [
      "720\n",
      "640.0\n",
      "370.5143165562228\n",
      "1048.000462352833\n",
      "709.2573894545279\n",
      "-0.3660747728310762\n",
      "1586.4449517280339\n",
      "420.5365569289623\n",
      "-0.3660747728310762\n"
     ]
    },
    {
     "name": "stderr",
     "output_type": "stream",
     "text": [
      "\r",
      "t:  60%|███████████████████████████████████████▌                          | 755/1260 [05:45<03:53,  2.16it/s, now=None]"
     ]
    },
    {
     "name": "stdout",
     "output_type": "stream",
     "text": [
      "720\n",
      "640.0\n",
      "373.0845134466872\n",
      "1069.0666983090273\n",
      "721.0756058778572\n",
      "-0.4285424882115312\n",
      "1614.2094901237617\n",
      "612.022245433283\n",
      "-0.4285424882115312\n"
     ]
    },
    {
     "name": "stderr",
     "output_type": "stream",
     "text": [
      "\r",
      "t:  60%|███████████████████████████████████████▌                          | 756/1260 [05:45<03:54,  2.14it/s, now=None]"
     ]
    },
    {
     "name": "stdout",
     "output_type": "stream",
     "text": [
      "720\n",
      "640.0\n",
      "376.2510878484208\n",
      "1055.3396843681082\n",
      "715.7953861082646\n",
      "-0.40063275514368407\n",
      "1478.3305616989583\n",
      "767.4333393542482\n",
      "-0.40063275514368407\n"
     ]
    },
    {
     "name": "stderr",
     "output_type": "stream",
     "text": [
      "\r",
      "t:  60%|███████████████████████████████████████▋                          | 757/1260 [05:46<03:52,  2.16it/s, now=None]"
     ]
    },
    {
     "name": "stdout",
     "output_type": "stream",
     "text": [
      "720\n",
      "640.0\n",
      "378.8301874312722\n",
      "1047.2432839487376\n",
      "713.0367356900049\n",
      "-0.3860513172185973\n",
      "1454.645204687886\n",
      "966.5699677163024\n",
      "-0.3860513172185973\n"
     ]
    },
    {
     "name": "stderr",
     "output_type": "stream",
     "text": [
      "\r",
      "t:  60%|███████████████████████████████████████▋                          | 758/1260 [05:46<03:44,  2.24it/s, now=None]"
     ]
    },
    {
     "name": "stdout",
     "output_type": "stream",
     "text": [
      "720\n",
      "640.0\n",
      "379.64624514769946\n",
      "1054.016572819567\n",
      "716.8314089836333\n",
      "-0.4061088760563475\n",
      "1504.9870992984197\n",
      "758.2755390813556\n",
      "-0.4061088760563475\n"
     ]
    },
    {
     "name": "stderr",
     "output_type": "stream",
     "text": [
      "\r",
      "t:  60%|███████████████████████████████████████▊                          | 759/1260 [05:47<03:38,  2.29it/s, now=None]"
     ]
    },
    {
     "name": "stdout",
     "output_type": "stream",
     "text": [
      "720\n",
      "640.0\n",
      "380.4423776951676\n",
      "1047.194435330056\n",
      "713.8184065126118\n",
      "-0.39018300585237653\n",
      "1488.0968554007227\n",
      "1005.086426485048\n",
      "-0.39018300585237653\n"
     ]
    },
    {
     "name": "stderr",
     "output_type": "stream",
     "text": [
      "\r",
      "t:  60%|███████████████████████████████████████▊                          | 760/1260 [05:47<03:39,  2.28it/s, now=None]"
     ]
    },
    {
     "name": "stdout",
     "output_type": "stream",
     "text": [
      "720\n",
      "640.0\n",
      "381.11655370105814\n",
      "1049.0292002568526\n",
      "715.0728769789554\n",
      "-0.3968137783173356\n",
      "1657.3937651368724\n",
      "868.8728334862601\n",
      "-0.3968137783173356\n"
     ]
    },
    {
     "name": "stderr",
     "output_type": "stream",
     "text": [
      "\r",
      "t:  60%|███████████████████████████████████████▊                          | 761/1260 [05:47<03:43,  2.23it/s, now=None]"
     ]
    },
    {
     "name": "stdout",
     "output_type": "stream",
     "text": [
      "720\n",
      "640.0\n",
      "382.9493209631943\n",
      "1046.772469821385\n",
      "714.8608953922896\n",
      "-0.39569330421638815\n",
      "1637.684059333646\n",
      "976.3144906726725\n",
      "-0.39569330421638815\n"
     ]
    },
    {
     "name": "stderr",
     "output_type": "stream",
     "text": [
      "\r",
      "t:  60%|███████████████████████████████████████▉                          | 762/1260 [05:48<03:41,  2.25it/s, now=None]"
     ]
    },
    {
     "name": "stdout",
     "output_type": "stream",
     "text": [
      "720\n",
      "640.0\n",
      "383.773531181818\n",
      "1050.4222516522595\n",
      "717.0978914170388\n",
      "-0.4075174260614908\n",
      "1549.4292127299634\n",
      "699.7660966683349\n",
      "-0.4075174260614908\n"
     ]
    },
    {
     "name": "stderr",
     "output_type": "stream",
     "text": [
      "\r",
      "t:  61%|███████████████████████████████████████▉                          | 763/1260 [05:48<03:38,  2.27it/s, now=None]"
     ]
    },
    {
     "name": "stdout",
     "output_type": "stream",
     "text": [
      "720\n",
      "640.0\n",
      "382.5720253099908\n",
      "1054.2900550217767\n",
      "718.4310401658837\n",
      "-0.4145640694482424\n",
      "1876.720878076891\n",
      "562.8992086632527\n",
      "-0.4145640694482424\n"
     ]
    },
    {
     "name": "stderr",
     "output_type": "stream",
     "text": [
      "\r",
      "t:  61%|████████████████████████████████████████                          | 764/1260 [05:49<03:36,  2.29it/s, now=None]"
     ]
    },
    {
     "name": "stdout",
     "output_type": "stream",
     "text": [
      "720\n",
      "640.0\n",
      "384.2256432581015\n",
      "1055.1890645413346\n",
      "719.7073538997181\n",
      "-0.42131029918422425\n",
      "1661.6376957883697\n",
      "586.1868244773603\n",
      "-0.42131029918422425\n"
     ]
    },
    {
     "name": "stderr",
     "output_type": "stream",
     "text": [
      "\r",
      "t:  61%|████████████████████████████████████████                          | 765/1260 [05:49<03:39,  2.26it/s, now=None]"
     ]
    },
    {
     "name": "stdout",
     "output_type": "stream",
     "text": [
      "720\n",
      "640.0\n",
      "383.62814422799534\n",
      "1092.5446653867243\n",
      "738.0864048073598\n",
      "-0.5184567111246162\n",
      "1857.8104139049965\n",
      "279.81826423298884\n",
      "-0.5184567111246162\n"
     ]
    },
    {
     "name": "stderr",
     "output_type": "stream",
     "text": [
      "\r",
      "t:  61%|████████████████████████████████████████                          | 766/1260 [05:50<03:49,  2.15it/s, now=None]"
     ]
    },
    {
     "name": "stdout",
     "output_type": "stream",
     "text": [
      "720\n",
      "640.0\n",
      "384.98728777073575\n",
      "1081.4754362393332\n",
      "733.2313620050345\n",
      "-0.49279434202661093\n",
      "1730.1742628538693\n",
      "354.4471814262792\n",
      "-0.49279434202661093\n"
     ]
    },
    {
     "name": "stderr",
     "output_type": "stream",
     "text": [
      "\r",
      "t:  61%|████████████████████████████████████████▏                         | 767/1260 [05:50<03:56,  2.09it/s, now=None]"
     ]
    },
    {
     "name": "stdout",
     "output_type": "stream",
     "text": [
      "720\n",
      "640.0\n",
      "386.9878765309177\n",
      "1065.6397067568812\n",
      "726.3137916438994\n",
      "-0.4562300415463256\n",
      "1483.254004486333\n",
      "1127.9667850135122\n",
      "-0.4562300415463256\n"
     ]
    },
    {
     "name": "stderr",
     "output_type": "stream",
     "text": [
      "\r",
      "t:  61%|████████████████████████████████████████▏                         | 768/1260 [05:51<04:06,  1.99it/s, now=None]"
     ]
    },
    {
     "name": "stdout",
     "output_type": "stream",
     "text": [
      "720\n",
      "640.0\n",
      "387.6003686365047\n",
      "1069.5563759040344\n",
      "728.5783722702696\n",
      "-0.4681999677142822\n",
      "1403.9145840301992\n",
      "964.9024142581754\n",
      "-0.4681999677142822\n"
     ]
    },
    {
     "name": "stderr",
     "output_type": "stream",
     "text": [
      "\r",
      "t:  61%|████████████████████████████████████████▎                         | 769/1260 [05:51<04:09,  1.97it/s, now=None]"
     ]
    },
    {
     "name": "stdout",
     "output_type": "stream",
     "text": [
      "720\n",
      "640.0\n",
      "390.86915689296825\n",
      "1063.3072000470502\n",
      "727.0881784700092\n",
      "-0.460323229055763\n",
      "1098.594697346497\n",
      "1061.2463700026892\n",
      "-0.460323229055763\n"
     ]
    },
    {
     "name": "stderr",
     "output_type": "stream",
     "text": [
      "\r",
      "t:  61%|████████████████████████████████████████▎                         | 770/1260 [05:52<04:00,  2.04it/s, now=None]"
     ]
    },
    {
     "name": "stdout",
     "output_type": "stream",
     "text": [
      "720\n",
      "640.0\n",
      "392.71926769861483\n",
      "1062.2638869338216\n",
      "727.4915773162182\n",
      "-0.4624554801000107\n",
      "1021.2730497242543\n",
      "1019.3664417305749\n",
      "-0.4624554801000107\n"
     ]
    },
    {
     "name": "stderr",
     "output_type": "stream",
     "text": [
      "\r",
      "t:  61%|████████████████████████████████████████▍                         | 771/1260 [05:52<03:56,  2.07it/s, now=None]"
     ]
    },
    {
     "name": "stdout",
     "output_type": "stream",
     "text": [
      "720\n",
      "640.0\n",
      "393.3809675907073\n",
      "1062.8513431328663\n",
      "728.1161553617868\n",
      "-0.46575682119801604\n",
      "1002.187728876251\n",
      "955.4295908591042\n",
      "-0.46575682119801604\n"
     ]
    },
    {
     "name": "stderr",
     "output_type": "stream",
     "text": [
      "\r",
      "t:  61%|████████████████████████████████████████▍                         | 772/1260 [05:53<03:55,  2.07it/s, now=None]"
     ]
    },
    {
     "name": "stdout",
     "output_type": "stream",
     "text": [
      "720\n",
      "640.0\n",
      "392.8050465392957\n",
      "1060.5722489500004\n",
      "726.688647744648\n",
      "-0.4582114237931397\n",
      "1041.9320860240693\n",
      "1130.3943973249372\n",
      "-0.4582114237931397\n"
     ]
    },
    {
     "name": "stderr",
     "output_type": "stream",
     "text": [
      "\r",
      "t:  61%|████████████████████████████████████████▍                         | 773/1260 [05:53<03:56,  2.06it/s, now=None]"
     ]
    },
    {
     "name": "stdout",
     "output_type": "stream",
     "text": [
      "720\n",
      "640.0\n",
      "392.5788569789406\n",
      "1060.1698311643618\n",
      "726.3743440716512\n",
      "-0.4565501043787278\n",
      "1012.5388897669044\n",
      "1537.7678795247339\n",
      "-0.4565501043787278\n"
     ]
    },
    {
     "name": "stderr",
     "output_type": "stream",
     "text": [
      "\r",
      "t:  61%|████████████████████████████████████████▌                         | 774/1260 [05:54<03:46,  2.14it/s, now=None]"
     ]
    },
    {
     "name": "stdout",
     "output_type": "stream",
     "text": [
      "720\n",
      "640.0\n",
      "391.67243644750044\n",
      "1062.988017187803\n",
      "727.3302268176517\n",
      "-0.4616026274647304\n",
      "971.3770765662817\n",
      "1139.048707570344\n",
      "-0.4616026274647304\n"
     ]
    },
    {
     "name": "stderr",
     "output_type": "stream",
     "text": [
      "\r",
      "t:  62%|████████████████████████████████████████▌                         | 775/1260 [05:54<03:45,  2.16it/s, now=None]"
     ]
    },
    {
     "name": "stdout",
     "output_type": "stream",
     "text": [
      "720\n",
      "640.0\n",
      "391.0483929634322\n",
      "1065.9800288410618\n",
      "728.514210902247\n",
      "-0.4678608290547341\n",
      "993.2599598017692\n",
      "721.89027730322\n",
      "-0.4678608290547341\n"
     ]
    },
    {
     "name": "stderr",
     "output_type": "stream",
     "text": [
      "\r",
      "t:  62%|████████████████████████████████████████▋                         | 776/1260 [05:55<03:45,  2.14it/s, now=None]"
     ]
    },
    {
     "name": "stdout",
     "output_type": "stream",
     "text": [
      "720\n",
      "640.0\n",
      "388.2246979331586\n",
      "1064.5573272437061\n",
      "726.3910125884324\n",
      "-0.456638209396\n",
      "1075.3261154135585\n",
      "1263.8521951173097\n",
      "-0.456638209396\n"
     ]
    },
    {
     "name": "stderr",
     "output_type": "stream",
     "text": [
      "\r",
      "t:  62%|████████████████████████████████████████▋                         | 777/1260 [05:55<03:55,  2.05it/s, now=None]"
     ]
    },
    {
     "name": "stdout",
     "output_type": "stream",
     "text": [
      "720\n",
      "640.0\n",
      "386.95718681454076\n",
      "1082.3568949305418\n",
      "734.6570408725413\n",
      "-0.5003300731834326\n",
      "1168.2149227255557\n",
      "478.0651164578931\n",
      "-0.5003300731834326\n"
     ]
    },
    {
     "name": "stderr",
     "output_type": "stream",
     "text": [
      "\r",
      "t:  62%|████████████████████████████████████████▊                         | 778/1260 [05:56<03:55,  2.04it/s, now=None]"
     ]
    },
    {
     "name": "stdout",
     "output_type": "stream",
     "text": [
      "720\n",
      "640.0\n",
      "386.6688412281213\n",
      "1070.8222065994487\n",
      "728.7455239137851\n",
      "-0.4690834835442925\n",
      "1171.7986327395083\n",
      "929.6112752126195\n",
      "-0.4690834835442925\n"
     ]
    },
    {
     "name": "stderr",
     "output_type": "stream",
     "text": [
      "\r",
      "t:  62%|████████████████████████████████████████▊                         | 779/1260 [05:56<03:50,  2.08it/s, now=None]"
     ]
    },
    {
     "name": "stdout",
     "output_type": "stream",
     "text": [
      "720\n",
      "640.0\n",
      "385.5164589861164\n",
      "1068.2585127767397\n",
      "726.8874858814281\n",
      "-0.45926242537326295\n",
      "1316.0695261719386\n",
      "1786.7899078792304\n",
      "-0.45926242537326295\n"
     ]
    },
    {
     "name": "stderr",
     "output_type": "stream",
     "text": [
      "\r",
      "t:  62%|████████████████████████████████████████▊                         | 780/1260 [05:56<03:40,  2.18it/s, now=None]"
     ]
    },
    {
     "name": "stdout",
     "output_type": "stream",
     "text": [
      "720\n",
      "640.0\n",
      "385.4157474220129\n",
      "1068.6790309788264\n",
      "727.0473892004196\n",
      "-0.4601076286307894\n",
      "1416.2271461905686\n",
      "1742.2350116670116\n",
      "-0.4601076286307894\n"
     ]
    },
    {
     "name": "stderr",
     "output_type": "stream",
     "text": [
      "\r",
      "t:  62%|████████████████████████████████████████▉                         | 781/1260 [05:57<03:40,  2.17it/s, now=None]"
     ]
    },
    {
     "name": "stdout",
     "output_type": "stream",
     "text": [
      "720\n",
      "640.0\n",
      "385.4691218636604\n",
      "1074.5520338206782\n",
      "730.0105778421693\n",
      "-0.4757701971657518\n",
      "1457.5727127935409\n",
      "1243.949332074553\n",
      "-0.4757701971657518\n"
     ]
    },
    {
     "name": "stderr",
     "output_type": "stream",
     "text": [
      "\r",
      "t:  62%|████████████████████████████████████████▉                         | 782/1260 [05:57<03:37,  2.20it/s, now=None]"
     ]
    },
    {
     "name": "stdout",
     "output_type": "stream",
     "text": [
      "720\n",
      "640.0\n",
      "386.0985343811942\n",
      "1062.086415190863\n",
      "724.0924747860286\n",
      "-0.44448879529757956\n",
      "1502.6077815206183\n",
      "2777.2736201986427\n",
      "-0.44448879529757956\n"
     ]
    },
    {
     "name": "stderr",
     "output_type": "stream",
     "text": [
      "\r",
      "t:  62%|█████████████████████████████████████████                         | 783/1260 [05:58<03:41,  2.16it/s, now=None]"
     ]
    },
    {
     "name": "stdout",
     "output_type": "stream",
     "text": [
      "720\n",
      "640.0\n",
      "385.3999278831388\n",
      "1067.1728757902918\n",
      "726.2864018367153\n",
      "-0.4560852668512095\n",
      "1508.2442347754434\n",
      "2004.7867022487433\n",
      "-0.4560852668512095\n"
     ]
    },
    {
     "name": "stderr",
     "output_type": "stream",
     "text": [
      "\r",
      "t:  62%|█████████████████████████████████████████                         | 784/1260 [05:58<03:38,  2.18it/s, now=None]"
     ]
    },
    {
     "name": "stdout",
     "output_type": "stream",
     "text": [
      "720\n",
      "640.0\n",
      "386.22106761072087\n",
      "1077.788833477921\n",
      "732.0049505443209\n",
      "-0.48631188144855325\n",
      "1399.1368405384787\n",
      "799.364924977606\n",
      "-0.48631188144855325\n"
     ]
    },
    {
     "name": "stderr",
     "output_type": "stream",
     "text": [
      "\r",
      "t:  62%|█████████████████████████████████████████                         | 785/1260 [05:59<03:42,  2.14it/s, now=None]"
     ]
    },
    {
     "name": "stdout",
     "output_type": "stream",
     "text": [
      "720\n",
      "640.0\n",
      "386.4366187759773\n",
      "1071.7003037913273\n",
      "729.0684612836524\n",
      "-0.4707904382135911\n",
      "1380.825248498016\n",
      "1147.7390391739527\n",
      "-0.4707904382135911\n"
     ]
    },
    {
     "name": "stderr",
     "output_type": "stream",
     "text": [
      "\r",
      "t:  62%|█████████████████████████████████████████▏                        | 786/1260 [05:59<03:47,  2.09it/s, now=None]"
     ]
    },
    {
     "name": "stdout",
     "output_type": "stream",
     "text": [
      "720\n",
      "640.0\n",
      "385.9361541252121\n",
      "1070.1917329187847\n",
      "728.0639435219985\n",
      "-0.46548084433056325\n",
      "1472.926179420546\n",
      "1256.622433119487\n",
      "-0.46548084433056325\n"
     ]
    },
    {
     "name": "stderr",
     "output_type": "stream",
     "text": [
      "\r",
      "t:  62%|█████████████████████████████████████████▏                        | 787/1260 [06:00<03:41,  2.13it/s, now=None]"
     ]
    },
    {
     "name": "stdout",
     "output_type": "stream",
     "text": [
      "720\n",
      "640.0\n",
      "383.993437932383\n",
      "1068.9598853880937\n",
      "726.4766616602383\n",
      "-0.45709092591840234\n",
      "1725.5201018152582\n",
      "1264.8972018213444\n",
      "-0.45709092591840234\n"
     ]
    },
    {
     "name": "stderr",
     "output_type": "stream",
     "text": [
      "\r",
      "t:  63%|█████████████████████████████████████████▎                        | 788/1260 [06:00<03:39,  2.15it/s, now=None]"
     ]
    },
    {
     "name": "stdout",
     "output_type": "stream",
     "text": [
      "720\n",
      "640.0\n",
      "383.6545822707455\n",
      "1069.0060826028912\n",
      "726.3303324368184\n",
      "-0.4563174714517542\n",
      "1798.3630716029752\n",
      "844.4824636893761\n",
      "-0.4563174714517542\n"
     ]
    },
    {
     "name": "stderr",
     "output_type": "stream",
     "text": [
      "\r",
      "t:  63%|█████████████████████████████████████████▎                        | 789/1260 [06:01<03:31,  2.22it/s, now=None]"
     ]
    },
    {
     "name": "stdout",
     "output_type": "stream",
     "text": [
      "720\n",
      "640.0\n",
      "384.7014144860839\n",
      "1062.3762899108697\n",
      "723.5388521984768\n",
      "-0.441562504477663\n",
      "1796.3295558577197\n",
      "745.5632707362385\n",
      "-0.441562504477663\n"
     ]
    },
    {
     "name": "stderr",
     "output_type": "stream",
     "text": [
      "\r",
      "t:  63%|█████████████████████████████████████████▍                        | 790/1260 [06:01<03:32,  2.22it/s, now=None]"
     ]
    },
    {
     "name": "stdout",
     "output_type": "stream",
     "text": [
      "720\n",
      "640.0\n",
      "386.4129878937897\n",
      "1050.467986658759\n",
      "718.4404872762743\n",
      "-0.4146140041745929\n",
      "1694.9397010068483\n",
      "8305.318951822956\n",
      "-0.4146140041745929\n"
     ]
    },
    {
     "name": "stderr",
     "output_type": "stream",
     "text": [
      "\r",
      "t:  63%|█████████████████████████████████████████▍                        | 791/1260 [06:02<03:30,  2.23it/s, now=None]"
     ]
    },
    {
     "name": "stdout",
     "output_type": "stream",
     "text": [
      "720\n",
      "640.0\n",
      "387.31193375630824\n",
      "1060.224109158824\n",
      "723.7680214575661\n",
      "-0.44277382770427787\n",
      "1609.5900305168839\n",
      "1889.8446222452117\n",
      "-0.44277382770427787\n"
     ]
    },
    {
     "name": "stderr",
     "output_type": "stream",
     "text": [
      "\r",
      "t:  63%|█████████████████████████████████████████▍                        | 792/1260 [06:02<03:30,  2.22it/s, now=None]"
     ]
    },
    {
     "name": "stdout",
     "output_type": "stream",
     "text": [
      "720\n",
      "640.0\n",
      "389.62829685319775\n",
      "1052.8715162832266\n",
      "721.2499065682122\n",
      "-0.42946379186055006\n",
      "1389.1129823963577\n",
      "4846.77712214054\n",
      "-0.42946379186055006\n"
     ]
    },
    {
     "name": "stderr",
     "output_type": "stream",
     "text": [
      "\r",
      "t:  63%|█████████████████████████████████████████▌                        | 793/1260 [06:02<03:32,  2.20it/s, now=None]"
     ]
    },
    {
     "name": "stdout",
     "output_type": "stream",
     "text": [
      "720\n",
      "640.0\n",
      "390.2828223326393\n",
      "1063.6691566167601\n",
      "726.9759894746996\n",
      "-0.4597302300805553\n",
      "1268.3737921620245\n",
      "1581.529913359203\n",
      "-0.4597302300805553\n"
     ]
    },
    {
     "name": "stderr",
     "output_type": "stream",
     "text": [
      "\r",
      "t:  63%|█████████████████████████████████████████▌                        | 794/1260 [06:03<03:35,  2.16it/s, now=None]"
     ]
    },
    {
     "name": "stdout",
     "output_type": "stream",
     "text": [
      "720\n",
      "640.0\n",
      "390.191041770531\n",
      "1057.518176656704\n",
      "723.8546092136176\n",
      "-0.4432315058434071\n",
      "1279.1077601472894\n",
      "2154.3593000495316\n",
      "-0.4432315058434071\n"
     ]
    },
    {
     "name": "stderr",
     "output_type": "stream",
     "text": [
      "\r",
      "t:  63%|█████████████████████████████████████████▋                        | 795/1260 [06:03<03:34,  2.17it/s, now=None]"
     ]
    },
    {
     "name": "stdout",
     "output_type": "stream",
     "text": [
      "720\n",
      "640.0\n",
      "388.69852307721544\n",
      "1061.0156444748789\n",
      "724.8570837760471\n",
      "-0.44853029995910637\n",
      "1410.6456167869756\n",
      "1542.921640396917\n",
      "-0.44853029995910637\n"
     ]
    },
    {
     "name": "stderr",
     "output_type": "stream",
     "text": [
      "\r",
      "t:  63%|█████████████████████████████████████████▋                        | 796/1260 [06:04<03:37,  2.13it/s, now=None]"
     ]
    },
    {
     "name": "stdout",
     "output_type": "stream",
     "text": [
      "720\n",
      "640.0\n",
      "388.0191434898841\n",
      "1059.729180574496\n",
      "723.87416203219\n",
      "-0.4433348564558617\n",
      "1628.3158065262398\n",
      "1456.0038572129554\n",
      "-0.4433348564558617\n"
     ]
    },
    {
     "name": "stderr",
     "output_type": "stream",
     "text": [
      "\r",
      "t:  63%|█████████████████████████████████████████▋                        | 797/1260 [06:04<03:34,  2.15it/s, now=None]"
     ]
    },
    {
     "name": "stdout",
     "output_type": "stream",
     "text": [
      "720\n",
      "640.0\n",
      "390.65853147542595\n",
      "1059.8926952649686\n",
      "725.2756133701972\n",
      "-0.4507425278138996\n",
      "1541.1082760130053\n",
      "1349.412245423878\n",
      "-0.4507425278138996\n"
     ]
    },
    {
     "name": "stderr",
     "output_type": "stream",
     "text": [
      "\r",
      "t:  63%|█████████████████████████████████████████▊                        | 798/1260 [06:05<03:35,  2.15it/s, now=None]"
     ]
    },
    {
     "name": "stdout",
     "output_type": "stream",
     "text": [
      "720\n",
      "640.0\n",
      "388.03034011111635\n",
      "1059.012459717637\n",
      "723.5213999143767\n",
      "-0.441470256690277\n",
      "2086.403974831955\n",
      "1169.7361799843864\n",
      "-0.441470256690277\n"
     ]
    },
    {
     "name": "stderr",
     "output_type": "stream",
     "text": [
      "\r",
      "t:  63%|█████████████████████████████████████████▊                        | 799/1260 [06:05<03:32,  2.17it/s, now=None]"
     ]
    },
    {
     "name": "stdout",
     "output_type": "stream",
     "text": [
      "720\n",
      "640.0\n",
      "388.025585209974\n",
      "1055.793516370927\n",
      "721.9095507904505\n",
      "-0.43295048274952386\n",
      "2229.21515401784\n",
      "2302.6341814714947\n",
      "-0.43295048274952386\n"
     ]
    },
    {
     "name": "stderr",
     "output_type": "stream",
     "text": [
      "\r",
      "t:  63%|█████████████████████████████████████████▉                        | 800/1260 [06:06<03:35,  2.14it/s, now=None]"
     ]
    },
    {
     "name": "stdout",
     "output_type": "stream",
     "text": [
      "720\n",
      "640.0\n",
      "383.9335021804387\n",
      "1060.2727606655349\n",
      "722.1031314229867\n",
      "-0.4339736946643585\n",
      "3795.9771234248797\n",
      "1134.403791897153\n",
      "-0.4339736946643585\n"
     ]
    },
    {
     "name": "stderr",
     "output_type": "stream",
     "text": [
      "\r",
      "t:  64%|█████████████████████████████████████████▉                        | 801/1260 [06:06<03:32,  2.16it/s, now=None]"
     ]
    },
    {
     "name": "stdout",
     "output_type": "stream",
     "text": [
      "720\n",
      "640.0\n",
      "383.9790044672467\n",
      "1061.7190124895922\n",
      "722.8490084784194\n",
      "-0.43791618767164525\n",
      "4236.82283680258\n",
      "826.2883574920726\n",
      "-0.43791618767164525\n"
     ]
    },
    {
     "name": "stderr",
     "output_type": "stream",
     "text": [
      "\r",
      "t:  64%|██████████████████████████████████████████                        | 802/1260 [06:07<03:28,  2.19it/s, now=None]"
     ]
    },
    {
     "name": "stdout",
     "output_type": "stream",
     "text": [
      "720\n",
      "640.0\n",
      "383.52901954041505\n",
      "1056.0156603596465\n",
      "719.7723399500308\n",
      "-0.421653796878734\n",
      "4729.286658603729\n",
      "2181.491178885348\n",
      "-0.421653796878734\n"
     ]
    },
    {
     "name": "stderr",
     "output_type": "stream",
     "text": [
      "\r",
      "t:  64%|██████████████████████████████████████████                        | 803/1260 [06:07<03:26,  2.21it/s, now=None]"
     ]
    },
    {
     "name": "stdout",
     "output_type": "stream",
     "text": [
      "720\n",
      "640.0\n",
      "384.0614582211441\n",
      "1064.3616787839596\n",
      "724.2115685025519\n",
      "-0.4451182906563459\n",
      "4002.428699891866\n",
      "1402.7379719560338\n",
      "-0.4451182906563459\n"
     ]
    },
    {
     "name": "stderr",
     "output_type": "stream",
     "text": [
      "\r",
      "t:  64%|██████████████████████████████████████████                        | 804/1260 [06:08<03:29,  2.18it/s, now=None]"
     ]
    },
    {
     "name": "stdout",
     "output_type": "stream",
     "text": [
      "720\n",
      "640.0\n",
      "381.9464822381171\n",
      "1057.7463010078372\n",
      "719.8463916229772\n",
      "-0.422045212864308\n",
      "7770.236449748557\n",
      "2325.4481295792634\n",
      "-0.422045212864308\n"
     ]
    },
    {
     "name": "stderr",
     "output_type": "stream",
     "text": [
      "\r",
      "t:  64%|██████████████████████████████████████████▏                       | 805/1260 [06:08<03:28,  2.19it/s, now=None]"
     ]
    },
    {
     "name": "stdout",
     "output_type": "stream",
     "text": [
      "720\n",
      "640.0\n",
      "385.6286695166894\n",
      "1046.9542794790384\n",
      "716.2914744978639\n",
      "-0.4032549366315662\n",
      "3711.430025445907\n",
      "8984.932803012553\n",
      "-0.4032549366315662\n"
     ]
    },
    {
     "name": "stderr",
     "output_type": "stream",
     "text": [
      "\r",
      "t:  64%|██████████████████████████████████████████▏                       | 806/1260 [06:09<03:39,  2.07it/s, now=None]"
     ]
    },
    {
     "name": "stdout",
     "output_type": "stream",
     "text": [
      "720\n",
      "640.0\n",
      "386.8078361691104\n",
      "1048.8365967203654\n",
      "717.8222164447379\n",
      "-0.41134600120790055\n",
      "4166.032064293607\n",
      "4125.891507700631\n",
      "-0.41134600120790055\n"
     ]
    },
    {
     "name": "stderr",
     "output_type": "stream",
     "text": [
      "\r",
      "t:  64%|██████████████████████████████████████████▎                       | 807/1260 [06:09<03:33,  2.12it/s, now=None]"
     ]
    },
    {
     "name": "stdout",
     "output_type": "stream",
     "text": [
      "720\n",
      "640.0\n",
      "389.7385720753324\n",
      "1057.426682308349\n",
      "723.5826271918406\n",
      "-0.44179388658544333\n",
      "2700.801116188522\n",
      "1516.590385799978\n",
      "-0.44179388658544333\n"
     ]
    },
    {
     "name": "stderr",
     "output_type": "stream",
     "text": [
      "\r",
      "t:  64%|██████████████████████████████████████████▎                       | 808/1260 [06:10<03:42,  2.03it/s, now=None]"
     ]
    },
    {
     "name": "stdout",
     "output_type": "stream",
     "text": [
      "720\n",
      "640.0\n",
      "389.37925674593157\n",
      "1052.9108276452212\n",
      "721.1450421955764\n",
      "-0.4289095087480465\n",
      "2278.2203741330163\n",
      "2652.158799365856\n",
      "-0.4289095087480465\n"
     ]
    },
    {
     "name": "stderr",
     "output_type": "stream",
     "text": [
      "\r",
      "t:  64%|██████████████████████████████████████████▍                       | 809/1260 [06:10<03:40,  2.05it/s, now=None]"
     ]
    },
    {
     "name": "stdout",
     "output_type": "stream",
     "text": [
      "720\n",
      "640.0\n",
      "391.0099253433523\n",
      "1052.755820382239\n",
      "721.8828728627957\n",
      "-0.4328094708462058\n",
      "2051.1541653464255\n",
      "2445.360882516875\n",
      "-0.4328094708462058\n"
     ]
    },
    {
     "name": "stderr",
     "output_type": "stream",
     "text": [
      "\r",
      "t:  64%|██████████████████████████████████████████▍                       | 810/1260 [06:10<03:34,  2.10it/s, now=None]"
     ]
    },
    {
     "name": "stdout",
     "output_type": "stream",
     "text": [
      "720\n",
      "640.0\n",
      "390.56800008725486\n",
      "1052.606306857874\n",
      "721.5871534725644\n",
      "-0.4312463826406976\n",
      "1865.627220880447\n",
      "3315.43960999002\n",
      "-0.4312463826406976\n"
     ]
    },
    {
     "name": "stderr",
     "output_type": "stream",
     "text": [
      "\r",
      "t:  64%|██████████████████████████████████████████▍                       | 811/1260 [06:11<03:29,  2.14it/s, now=None]"
     ]
    },
    {
     "name": "stdout",
     "output_type": "stream",
     "text": [
      "720\n",
      "640.0\n",
      "388.8100398099109\n",
      "1052.7285867768546\n",
      "720.7693132933828\n",
      "-0.4269235131221661\n",
      "1710.1938998660744\n",
      "2771.024353901446\n",
      "-0.4269235131221661\n"
     ]
    },
    {
     "name": "stderr",
     "output_type": "stream",
     "text": [
      "\r",
      "t:  64%|██████████████████████████████████████████▌                       | 812/1260 [06:11<03:46,  1.98it/s, now=None]"
     ]
    },
    {
     "name": "stdout",
     "output_type": "stream",
     "text": [
      "720\n",
      "640.0\n",
      "384.6702405405957\n",
      "1053.233212425686\n",
      "718.9517264831409\n",
      "-0.41731626855374465\n",
      "2323.6970376658505\n",
      "1963.546449287796\n",
      "-0.41731626855374465\n"
     ]
    },
    {
     "name": "stderr",
     "output_type": "stream",
     "text": [
      "\r",
      "t:  65%|██████████████████████████████████████████▌                       | 813/1260 [06:12<03:51,  1.93it/s, now=None]"
     ]
    },
    {
     "name": "stdout",
     "output_type": "stream",
     "text": [
      "720\n",
      "640.0\n",
      "384.11464228621185\n",
      "1034.1013900712808\n",
      "709.1080161787463\n",
      "-0.36528522837337335\n",
      "1932.5595114375433\n",
      "3544.3728825622043\n",
      "-0.36528522837337335\n"
     ]
    },
    {
     "name": "stderr",
     "output_type": "stream",
     "text": [
      "\r",
      "t:  65%|██████████████████████████████████████████▋                       | 814/1260 [06:13<03:52,  1.92it/s, now=None]"
     ]
    },
    {
     "name": "stdout",
     "output_type": "stream",
     "text": [
      "720\n",
      "640.0\n",
      "382.8131760674238\n",
      "1039.8078986239261\n",
      "711.3105373456749\n",
      "-0.37692712596999595\n",
      "1664.4731594249283\n",
      "1595.1213217084944\n",
      "-0.37692712596999595\n"
     ]
    },
    {
     "name": "stderr",
     "output_type": "stream",
     "text": [
      "\r",
      "t:  65%|██████████████████████████████████████████▋                       | 815/1260 [06:13<03:49,  1.94it/s, now=None]"
     ]
    },
    {
     "name": "stdout",
     "output_type": "stream",
     "text": [
      "720\n",
      "640.0\n",
      "379.70251663503825\n",
      "1055.3050248705895\n",
      "717.5037707528138\n",
      "-0.409662788264873\n",
      "1672.6360999542135\n",
      "53359.00694327509\n",
      "-0.409662788264873\n"
     ]
    },
    {
     "name": "stderr",
     "output_type": "stream",
     "text": [
      "\r",
      "t:  65%|██████████████████████████████████████████▋                       | 816/1260 [06:14<03:46,  1.96it/s, now=None]"
     ]
    },
    {
     "name": "stdout",
     "output_type": "stream",
     "text": [
      "720\n",
      "640.0\n",
      "378.0246259152232\n",
      "1072.1728506050922\n",
      "725.0987382601577\n",
      "-0.44980761651797635\n",
      "1437.6874118988865\n",
      "1475.6901263311267\n",
      "-0.44980761651797635\n"
     ]
    },
    {
     "name": "stderr",
     "output_type": "stream",
     "text": [
      "\r",
      "t:  65%|██████████████████████████████████████████▊                       | 817/1260 [06:14<03:37,  2.03it/s, now=None]"
     ]
    },
    {
     "name": "stdout",
     "output_type": "stream",
     "text": [
      "720\n",
      "640.0\n",
      "378.7371673764361\n",
      "1067.1593003643977\n",
      "722.948233870417\n",
      "-0.4384406647436326\n",
      "1220.4265119480783\n",
      "1327.5841475735874\n",
      "-0.4384406647436326\n"
     ]
    },
    {
     "name": "stderr",
     "output_type": "stream",
     "text": [
      "\r",
      "t:  65%|██████████████████████████████████████████▊                       | 818/1260 [06:14<03:34,  2.06it/s, now=None]"
     ]
    },
    {
     "name": "stdout",
     "output_type": "stream",
     "text": [
      "720\n",
      "640.0\n",
      "376.82598162848655\n",
      "1055.0232206505493\n",
      "715.9246011395179\n",
      "-0.40131574888030896\n",
      "1291.8536427760175\n",
      "2291.9146112558287\n",
      "-0.40131574888030896\n"
     ]
    },
    {
     "name": "stderr",
     "output_type": "stream",
     "text": [
      "\r",
      "t:  65%|██████████████████████████████████████████▉                       | 819/1260 [06:15<03:31,  2.09it/s, now=None]"
     ]
    },
    {
     "name": "stdout",
     "output_type": "stream",
     "text": [
      "720\n",
      "640.0\n",
      "375.3246106343393\n",
      "1055.8822321366522\n",
      "715.6034213854957\n",
      "-0.3996180844661917\n",
      "1202.6526921683276\n",
      "1589.3463447027557\n",
      "-0.3996180844661917\n"
     ]
    },
    {
     "name": "stderr",
     "output_type": "stream",
     "text": [
      "\r",
      "t:  65%|██████████████████████████████████████████▉                       | 820/1260 [06:15<03:25,  2.14it/s, now=None]"
     ]
    },
    {
     "name": "stdout",
     "output_type": "stream",
     "text": [
      "720\n",
      "640.0\n",
      "373.38549580827333\n",
      "1054.609805629603\n",
      "713.9976507189382\n",
      "-0.3911304395143876\n",
      "1221.1708388315847\n",
      "1312.6944718462455\n",
      "-0.3911304395143876\n"
     ]
    },
    {
     "name": "stderr",
     "output_type": "stream",
     "text": [
      "\r",
      "t:  65%|███████████████████████████████████████████                       | 821/1260 [06:16<03:25,  2.13it/s, now=None]"
     ]
    },
    {
     "name": "stdout",
     "output_type": "stream",
     "text": [
      "720\n",
      "640.0\n",
      "370.05952279364436\n",
      "1053.0113778047314\n",
      "711.5354502991879\n",
      "-0.37811595158142186\n",
      "1332.9728231426543\n",
      "1089.254159642629\n",
      "-0.37811595158142186\n"
     ]
    },
    {
     "name": "stderr",
     "output_type": "stream",
     "text": [
      "\r",
      "t:  65%|███████████████████████████████████████████                       | 822/1260 [06:16<03:15,  2.24it/s, now=None]"
     ]
    },
    {
     "name": "stdout",
     "output_type": "stream",
     "text": [
      "720\n",
      "640.0\n",
      "366.2683532063169\n",
      "1052.3161233542203\n",
      "709.2922382802685\n",
      "-0.3662589737671336\n",
      "1664.5051767628966\n",
      "894.4236031569975\n",
      "-0.3662589737671336\n"
     ]
    },
    {
     "name": "stderr",
     "output_type": "stream",
     "text": [
      "\r",
      "t:  65%|███████████████████████████████████████████                       | 823/1260 [06:17<03:14,  2.24it/s, now=None]"
     ]
    },
    {
     "name": "stdout",
     "output_type": "stream",
     "text": [
      "720\n",
      "640.0\n",
      "360.0230290707291\n",
      "1051.4610276772667\n",
      "705.7420283739979\n",
      "-0.34749357854827445\n",
      "2202.3666217711243\n",
      "854.7382998926256\n",
      "-0.34749357854827445\n"
     ]
    },
    {
     "name": "stderr",
     "output_type": "stream",
     "text": [
      "\r",
      "t:  65%|███████████████████████████████████████████▏                      | 824/1260 [06:17<03:15,  2.24it/s, now=None]"
     ]
    },
    {
     "name": "stdout",
     "output_type": "stream",
     "text": [
      "720\n",
      "640.0\n",
      "355.3348996396903\n",
      "1023.4315806379343\n",
      "689.3832401388123\n",
      "-0.26102569787657937\n",
      "3707.8914490658735\n",
      "5294.734792483469\n",
      "-0.26102569787657937\n"
     ]
    },
    {
     "name": "stderr",
     "output_type": "stream",
     "text": [
      "\r",
      "t:  65%|███████████████████████████████████████████▏                      | 825/1260 [06:18<03:13,  2.25it/s, now=None]"
     ]
    },
    {
     "name": "stdout",
     "output_type": "stream",
     "text": [
      "720\n",
      "640.0\n",
      "353.72158655888865\n",
      "1007.4738199746635\n",
      "680.5977032667761\n",
      "-0.21458786012438785\n",
      "4314.498388930409\n",
      "2331.2012267380705\n",
      "-0.21458786012438785\n"
     ]
    },
    {
     "name": "stderr",
     "output_type": "stream",
     "text": [
      "\r",
      "t:  66%|███████████████████████████████████████████▎                      | 826/1260 [06:18<03:18,  2.19it/s, now=None]"
     ]
    },
    {
     "name": "stdout",
     "output_type": "stream",
     "text": [
      "720\n",
      "640.0\n",
      "352.08382347238927\n",
      "1019.1479791652868\n",
      "685.615901318838\n",
      "-0.24111262125671537\n",
      "4520.8758584640045\n",
      "4656.367930264653\n",
      "-0.24111262125671537\n"
     ]
    },
    {
     "name": "stderr",
     "output_type": "stream",
     "text": [
      "\r",
      "t:  66%|███████████████████████████████████████████▎                      | 827/1260 [06:19<03:21,  2.15it/s, now=None]"
     ]
    },
    {
     "name": "stdout",
     "output_type": "stream",
     "text": [
      "720\n",
      "640.0\n",
      "351.893953573114\n",
      "1018.2727597478699\n",
      "685.083356660492\n",
      "-0.23829774234831472\n",
      "4191.121383268207\n",
      "5061.884334527595\n",
      "-0.23829774234831472\n"
     ]
    },
    {
     "name": "stderr",
     "output_type": "stream",
     "text": [
      "\r",
      "t:  66%|███████████████████████████████████████████▎                      | 828/1260 [06:19<03:17,  2.18it/s, now=None]"
     ]
    },
    {
     "name": "stdout",
     "output_type": "stream",
     "text": [
      "720\n",
      "640.0\n",
      "352.2283322271019\n",
      "1010.0342440781268\n",
      "681.1312881526144\n",
      "-0.21740823737810464\n",
      "3176.6243841362793\n",
      "14631.139720299674\n",
      "-0.21740823737810464\n"
     ]
    },
    {
     "name": "stderr",
     "output_type": "stream",
     "text": [
      "\r",
      "t:  66%|███████████████████████████████████████████▍                      | 829/1260 [06:19<03:17,  2.18it/s, now=None]"
     ]
    },
    {
     "name": "stdout",
     "output_type": "stream",
     "text": [
      "720\n",
      "640.0\n",
      "350.2659274010341\n",
      "1016.6748995992809\n",
      "683.4704135001575\n",
      "-0.22977218564368976\n",
      "4860.522008491083\n",
      "3966.3871959903454\n",
      "-0.22977218564368976\n"
     ]
    },
    {
     "name": "stderr",
     "output_type": "stream",
     "text": [
      "\r",
      "t:  66%|███████████████████████████████████████████▍                      | 830/1260 [06:20<03:18,  2.17it/s, now=None]"
     ]
    },
    {
     "name": "stdout",
     "output_type": "stream",
     "text": [
      "720\n",
      "640.0\n",
      "352.7071888756582\n",
      "1018.4449701939725\n",
      "685.5760795348153\n",
      "-0.24090213468402394\n",
      "3328.565368749688\n",
      "2883.590643689373\n",
      "-0.24090213468402394\n"
     ]
    },
    {
     "name": "stderr",
     "output_type": "stream",
     "text": [
      "\r",
      "t:  66%|███████████████████████████████████████████▌                      | 831/1260 [06:20<03:16,  2.18it/s, now=None]"
     ]
    },
    {
     "name": "stdout",
     "output_type": "stream",
     "text": [
      "720\n",
      "640.0\n",
      "353.62256263042457\n",
      "1024.0500804174812\n",
      "688.8363215239528\n",
      "-0.2581348423408936\n",
      "2649.090503867187\n",
      "1370.2419468984233\n",
      "-0.2581348423408936\n"
     ]
    },
    {
     "name": "stderr",
     "output_type": "stream",
     "text": [
      "\r",
      "t:  66%|███████████████████████████████████████████▌                      | 832/1260 [06:21<03:11,  2.24it/s, now=None]"
     ]
    },
    {
     "name": "stdout",
     "output_type": "stream",
     "text": [
      "720\n",
      "640.0\n",
      "355.44691191264064\n",
      "1029.984213365146\n",
      "692.7155626388933\n",
      "-0.2786394025198645\n",
      "2303.414323704881\n",
      "710.2531035780484\n",
      "-0.2786394025198645\n"
     ]
    },
    {
     "name": "stderr",
     "output_type": "stream",
     "text": [
      "\r",
      "t:  66%|███████████████████████████████████████████▋                      | 833/1260 [06:21<03:11,  2.23it/s, now=None]"
     ]
    },
    {
     "name": "stdout",
     "output_type": "stream",
     "text": [
      "720\n",
      "640.0\n",
      "355.1934315071312\n",
      "1022.2478975923354\n",
      "688.7206645497333\n",
      "-0.25752351262001905\n",
      "1988.3875544390542\n",
      "1746.6238499380631\n",
      "-0.25752351262001905\n"
     ]
    },
    {
     "name": "stderr",
     "output_type": "stream",
     "text": [
      "\r",
      "t:  66%|███████████████████████████████████████████▋                      | 834/1260 [06:22<03:10,  2.23it/s, now=None]"
     ]
    },
    {
     "name": "stdout",
     "output_type": "stream",
     "text": [
      "720\n",
      "640.0\n",
      "354.86833293073863\n",
      "1021.592540888599\n",
      "688.2304369096688\n",
      "-0.25493230937967803\n",
      "1704.2389483431716\n",
      "1018.4384542990099\n",
      "-0.25493230937967803\n"
     ]
    },
    {
     "name": "stderr",
     "output_type": "stream",
     "text": [
      "\r",
      "t:  66%|███████████████████████████████████████████▋                      | 835/1260 [06:22<03:14,  2.19it/s, now=None]"
     ]
    },
    {
     "name": "stdout",
     "output_type": "stream",
     "text": [
      "720\n",
      "640.0\n",
      "352.3742551348271\n",
      "1020.24120006681\n",
      "686.3077276008186\n",
      "-0.24476941731861243\n",
      "1653.1070727726699\n",
      "962.9439842340946\n",
      "-0.24476941731861243\n"
     ]
    },
    {
     "name": "stderr",
     "output_type": "stream",
     "text": [
      "\r",
      "t:  66%|███████████████████████████████████████████▊                      | 836/1260 [06:23<03:10,  2.23it/s, now=None]"
     ]
    },
    {
     "name": "stdout",
     "output_type": "stream",
     "text": [
      "720\n",
      "640.0\n",
      "349.1243546500175\n",
      "449.0786178767492\n",
      "399.1014862633833\n",
      "1.273320715464974\n",
      "1767.8013496623646\n",
      "39.891719864107834\n",
      "1.273320715464974\n"
     ]
    },
    {
     "name": "stderr",
     "output_type": "stream",
     "text": [
      "\r",
      "t:  66%|███████████████████████████████████████████▊                      | 837/1260 [06:23<03:10,  2.22it/s, now=None]"
     ]
    },
    {
     "name": "stdout",
     "output_type": "stream",
     "text": [
      "720\n",
      "640.0\n",
      "347.2752868437707\n",
      "1011.6695641950768\n",
      "679.4724255194237\n",
      "-0.20863996345981112\n",
      "1728.248863701003\n",
      "888.3408700318454\n",
      "-0.20863996345981112\n"
     ]
    },
    {
     "name": "stderr",
     "output_type": "stream",
     "text": [
      "\r",
      "t:  67%|███████████████████████████████████████████▉                      | 838/1260 [06:23<03:09,  2.23it/s, now=None]"
     ]
    },
    {
     "name": "stdout",
     "output_type": "stream",
     "text": [
      "720\n",
      "640.0\n",
      "344.98087605105974\n",
      "1008.0407681996661\n",
      "676.5108221253629\n",
      "-0.19298577409120388\n",
      "1611.408879264004\n",
      "6924.271773436704\n",
      "-0.19298577409120388\n"
     ]
    },
    {
     "name": "stderr",
     "output_type": "stream",
     "text": [
      "\r",
      "t:  67%|███████████████████████████████████████████▉                      | 839/1260 [06:24<03:10,  2.21it/s, now=None]"
     ]
    },
    {
     "name": "stdout",
     "output_type": "stream",
     "text": [
      "720\n",
      "640.0\n",
      "342.99817262759944\n",
      "1006.3178164578752\n",
      "674.6579945427374\n",
      "-0.1831922568687546\n",
      "1482.0633592311099\n",
      "3139.9043761659377\n",
      "-0.1831922568687546\n"
     ]
    },
    {
     "name": "stderr",
     "output_type": "stream",
     "text": [
      "\r",
      "t:  67%|████████████████████████████████████████████                      | 840/1260 [06:24<03:10,  2.20it/s, now=None]"
     ]
    },
    {
     "name": "stdout",
     "output_type": "stream",
     "text": [
      "720\n",
      "640.0\n",
      "341.1641626064377\n",
      "1015.9896056035944\n",
      "678.576884105016\n",
      "-0.20390638741222747\n",
      "1455.9576430040345\n",
      "1311.6673966124738\n",
      "-0.20390638741222747\n"
     ]
    },
    {
     "name": "stderr",
     "output_type": "stream",
     "text": [
      "\r",
      "t:  67%|████████████████████████████████████████████                      | 841/1260 [06:25<03:07,  2.24it/s, now=None]"
     ]
    },
    {
     "name": "stdout",
     "output_type": "stream",
     "text": [
      "720\n",
      "640.0\n",
      "339.27821309620606\n",
      "1008.160697512593\n",
      "673.7194553043995\n",
      "-0.1782314066089688\n",
      "1363.9966226549366\n",
      "1557.0015969906515\n",
      "-0.1782314066089688\n"
     ]
    },
    {
     "name": "stderr",
     "output_type": "stream",
     "text": [
      "\r",
      "t:  67%|████████████████████████████████████████████                      | 842/1260 [06:25<03:20,  2.09it/s, now=None]"
     ]
    },
    {
     "name": "stdout",
     "output_type": "stream",
     "text": [
      "720\n",
      "640.0\n",
      "337.21183761730543\n",
      "1017.4000083907877\n",
      "677.3059230040466\n",
      "-0.1971884501642462\n",
      "1318.1366845586404\n",
      "898.944362986466\n",
      "-0.1971884501642462\n"
     ]
    },
    {
     "name": "stderr",
     "output_type": "stream",
     "text": [
      "\r",
      "t:  67%|████████████████████████████████████████████▏                     | 843/1260 [06:26<03:17,  2.11it/s, now=None]"
     ]
    },
    {
     "name": "stdout",
     "output_type": "stream",
     "text": [
      "720\n",
      "640.0\n",
      "334.3695889139011\n",
      "1019.6339536911496\n",
      "677.0017713025254\n",
      "-0.19558079117049149\n",
      "1302.123691745094\n",
      "856.0218116759911\n",
      "-0.19558079117049149\n"
     ]
    },
    {
     "name": "stderr",
     "output_type": "stream",
     "text": [
      "\r",
      "t:  67%|████████████████████████████████████████████▏                     | 844/1260 [06:26<03:12,  2.17it/s, now=None]"
     ]
    },
    {
     "name": "stdout",
     "output_type": "stream",
     "text": [
      "720\n",
      "640.0\n",
      "331.7084311783077\n",
      "1015.7927805992947\n",
      "673.7506058888011\n",
      "-0.17839605969794892\n",
      "1162.2756725910958\n",
      "813.3840937080171\n",
      "-0.17839605969794892\n"
     ]
    },
    {
     "name": "stderr",
     "output_type": "stream",
     "text": [
      "\r",
      "t:  67%|████████████████████████████████████████████▎                     | 845/1260 [06:27<03:13,  2.15it/s, now=None]"
     ]
    },
    {
     "name": "stdout",
     "output_type": "stream",
     "text": [
      "720\n",
      "640.0\n",
      "328.81804547412196\n",
      "1012.9769521774693\n",
      "670.8974988257957\n",
      "-0.16331535093634844\n",
      "1181.9869730244072\n",
      "1055.5320241909062\n",
      "-0.16331535093634844\n"
     ]
    },
    {
     "name": "stderr",
     "output_type": "stream",
     "text": [
      "\r",
      "t:  67%|████████████████████████████████████████████▎                     | 846/1260 [06:27<03:04,  2.25it/s, now=None]"
     ]
    },
    {
     "name": "stdout",
     "output_type": "stream",
     "text": [
      "720\n",
      "640.0\n",
      "325.8520026341882\n",
      "1006.2689932147724\n",
      "666.0604979244803\n",
      "-0.13774834617225287\n",
      "1157.1824042851038\n",
      "1409.1520698846557\n",
      "-0.13774834617225287\n"
     ]
    },
    {
     "name": "stderr",
     "output_type": "stream",
     "text": [
      "\r",
      "t:  67%|████████████████████████████████████████████▎                     | 847/1260 [06:28<03:05,  2.23it/s, now=None]"
     ]
    },
    {
     "name": "stdout",
     "output_type": "stream",
     "text": [
      "720\n",
      "640.0\n",
      "322.63516042101537\n",
      "1003.6812915128844\n",
      "663.1582259669499\n",
      "-0.12240776582530655\n",
      "1290.3173698696248\n",
      "920.1293957601359\n",
      "-0.12240776582530655\n"
     ]
    },
    {
     "name": "stderr",
     "output_type": "stream",
     "text": [
      "\r",
      "t:  67%|████████████████████████████████████████████▍                     | 848/1260 [06:28<03:02,  2.25it/s, now=None]"
     ]
    },
    {
     "name": "stdout",
     "output_type": "stream",
     "text": [
      "720\n",
      "640.0\n",
      "320.2606056745569\n",
      "1012.8858859617587\n",
      "666.5732458181578\n",
      "-0.14045858503883424\n",
      "1252.1506765089991\n",
      "718.9372948915072\n",
      "-0.14045858503883424\n"
     ]
    },
    {
     "name": "stderr",
     "output_type": "stream",
     "text": [
      "\r",
      "t:  67%|████████████████████████████████████████████▍                     | 849/1260 [06:29<03:04,  2.22it/s, now=None]"
     ]
    },
    {
     "name": "stdout",
     "output_type": "stream",
     "text": [
      "720\n",
      "640.0\n",
      "318.17559523549636\n",
      "1020.1684983767408\n",
      "669.1720468061186\n",
      "-0.1541951045466269\n",
      "1208.660338551424\n",
      "808.3524356231505\n",
      "-0.1541951045466269\n"
     ]
    },
    {
     "name": "stderr",
     "output_type": "stream",
     "text": [
      "\r",
      "t:  67%|████████████████████████████████████████████▌                     | 850/1260 [06:29<03:08,  2.18it/s, now=None]"
     ]
    },
    {
     "name": "stdout",
     "output_type": "stream",
     "text": [
      "720\n",
      "640.0\n",
      "316.03145699202827\n",
      "1023.7199068563528\n",
      "669.8756819241905\n",
      "-0.15791431874214995\n",
      "1254.1617333738423\n",
      "492.7825879464397\n",
      "-0.15791431874214995\n"
     ]
    },
    {
     "name": "stderr",
     "output_type": "stream",
     "text": [
      "\r",
      "t:  68%|████████████████████████████████████████████▌                     | 851/1260 [06:30<03:17,  2.07it/s, now=None]"
     ]
    },
    {
     "name": "stdout",
     "output_type": "stream",
     "text": [
      "720\n",
      "640.0\n",
      "313.5930744037905\n",
      "1004.0048254368646\n",
      "658.7989499203276\n",
      "-0.09936587815030289\n",
      "1294.4374072450241\n",
      "2993.1793377358413\n",
      "-0.09936587815030289\n"
     ]
    },
    {
     "name": "stderr",
     "output_type": "stream",
     "text": [
      "\r",
      "t:  68%|████████████████████████████████████████████▋                     | 852/1260 [06:30<03:15,  2.09it/s, now=None]"
     ]
    },
    {
     "name": "stdout",
     "output_type": "stream",
     "text": [
      "720\n",
      "640.0\n",
      "312.77975612508635\n",
      "1014.3522688045764\n",
      "663.5660124648314\n",
      "-0.12456320874268012\n",
      "1329.6115758340766\n",
      "1214.3226281341763\n",
      "-0.12456320874268012\n"
     ]
    },
    {
     "name": "stderr",
     "output_type": "stream",
     "text": [
      "\r",
      "t:  68%|████████████████████████████████████████████▋                     | 853/1260 [06:30<03:13,  2.11it/s, now=None]"
     ]
    },
    {
     "name": "stdout",
     "output_type": "stream",
     "text": [
      "720\n",
      "640.0\n",
      "313.1991508241764\n",
      "984.1650845549768\n",
      "648.6821176895767\n",
      "-0.04589119350204812\n",
      "1206.1140242951865\n",
      "2412.6277079538645\n",
      "-0.04589119350204812\n"
     ]
    },
    {
     "name": "stderr",
     "output_type": "stream",
     "text": [
      "\r",
      "t:  68%|████████████████████████████████████████████▋                     | 854/1260 [06:31<03:05,  2.19it/s, now=None]"
     ]
    },
    {
     "name": "stdout",
     "output_type": "stream",
     "text": [
      "720\n",
      "640.0\n",
      "309.7923274224561\n",
      "997.4852672033813\n",
      "653.6387973129188\n",
      "-0.07209078579685635\n",
      "1531.7600082025244\n",
      "5403.964766753952\n",
      "-0.07209078579685635\n"
     ]
    },
    {
     "name": "stderr",
     "output_type": "stream",
     "text": [
      "\r",
      "t:  68%|████████████████████████████████████████████▊                     | 855/1260 [06:31<03:01,  2.23it/s, now=None]"
     ]
    },
    {
     "name": "stdout",
     "output_type": "stream",
     "text": [
      "720\n",
      "640.0\n",
      "308.333327205394\n",
      "1006.3322276272523\n",
      "657.3327774163232\n",
      "-0.09161610920056555\n",
      "1775.4808867138058\n",
      "2080.267806136558\n",
      "-0.09161610920056555\n"
     ]
    },
    {
     "name": "stderr",
     "output_type": "stream",
     "text": [
      "\r",
      "t:  68%|████████████████████████████████████████████▊                     | 856/1260 [06:32<03:00,  2.24it/s, now=None]"
     ]
    },
    {
     "name": "stdout",
     "output_type": "stream",
     "text": [
      "720\n",
      "640.0\n",
      "307.5578513595017\n",
      "1007.5717431055996\n",
      "657.5647972325506\n",
      "-0.09284249965776763\n",
      "1762.56777440401\n",
      "1828.1416436420045\n",
      "-0.09284249965776763\n"
     ]
    },
    {
     "name": "stderr",
     "output_type": "stream",
     "text": [
      "\r",
      "t:  68%|████████████████████████████████████████████▉                     | 857/1260 [06:32<02:56,  2.28it/s, now=None]"
     ]
    },
    {
     "name": "stdout",
     "output_type": "stream",
     "text": [
      "720\n",
      "640.0\n",
      "307.24070256424085\n",
      "1006.4218120121291\n",
      "656.8312572881849\n",
      "-0.08896521709469177\n",
      "2037.0482663935977\n",
      "2593.7621864918506\n",
      "-0.08896521709469177\n"
     ]
    },
    {
     "name": "stderr",
     "output_type": "stream",
     "text": [
      "\r",
      "t:  68%|████████████████████████████████████████████▉                     | 858/1260 [06:33<03:03,  2.19it/s, now=None]"
     ]
    },
    {
     "name": "stdout",
     "output_type": "stream",
     "text": [
      "720\n",
      "640.0\n",
      "307.36795952429094\n",
      "1005.2577139735539\n",
      "656.3128367489225\n",
      "-0.08622499424430438\n",
      "2324.915316280108\n",
      "3143.2034615469547\n",
      "-0.08622499424430438\n"
     ]
    },
    {
     "name": "stderr",
     "output_type": "stream",
     "text": [
      "\r",
      "t:  68%|████████████████████████████████████████████▉                     | 859/1260 [06:33<03:05,  2.16it/s, now=None]"
     ]
    },
    {
     "name": "stdout",
     "output_type": "stream",
     "text": [
      "720\n",
      "640.0\n",
      "304.2237959132938\n",
      "1005.1498118339612\n",
      "654.6868038736275\n",
      "-0.07763024904631662\n",
      "3350.377709518723\n",
      "1982.6181868009699\n",
      "-0.07763024904631662\n"
     ]
    },
    {
     "name": "stderr",
     "output_type": "stream",
     "text": [
      "\r",
      "t:  68%|█████████████████████████████████████████████                     | 860/1260 [06:34<03:09,  2.11it/s, now=None]"
     ]
    },
    {
     "name": "stdout",
     "output_type": "stream",
     "text": [
      "720\n",
      "640.0\n",
      "304.1365067444631\n",
      "1023.9308053776459\n",
      "664.0336560610544\n",
      "-0.1270350391798592\n",
      "5508.856285763893\n",
      "716.2573272346324\n",
      "-0.1270350391798592\n"
     ]
    },
    {
     "name": "stderr",
     "output_type": "stream",
     "text": [
      "\r",
      "t:  68%|█████████████████████████████████████████████                     | 861/1260 [06:34<03:05,  2.15it/s, now=None]"
     ]
    },
    {
     "name": "stdout",
     "output_type": "stream",
     "text": [
      "720\n",
      "640.0\n",
      "306.0172580360327\n",
      "1024.6764850377167\n",
      "665.3468715368747\n",
      "-0.13397632098062334\n",
      "4795.792183350602\n",
      "626.5150722576803\n",
      "-0.13397632098062334\n"
     ]
    },
    {
     "name": "stderr",
     "output_type": "stream",
     "text": [
      "\r",
      "t:  68%|█████████████████████████████████████████████▏                    | 862/1260 [06:35<03:18,  2.01it/s, now=None]"
     ]
    },
    {
     "name": "stdout",
     "output_type": "stream",
     "text": [
      "720\n",
      "640.0\n",
      "307.8316354489232\n",
      "1007.8474129906425\n",
      "657.8395242197828\n",
      "-0.09429462801885188\n",
      "7664.986430872519\n",
      "1987.9665326235768\n",
      "-0.09429462801885188\n"
     ]
    },
    {
     "name": "stderr",
     "output_type": "stream",
     "text": [
      "\r",
      "t:  68%|█████████████████████████████████████████████▏                    | 863/1260 [06:35<03:25,  1.93it/s, now=None]"
     ]
    },
    {
     "name": "stdout",
     "output_type": "stream",
     "text": [
      "720\n",
      "640.0\n",
      "310.1912166109425\n",
      "1010.6644582166323\n",
      "660.4278374137874\n",
      "-0.10797571204430491\n",
      "4290.048900008237\n",
      "1500.2036109432095\n",
      "-0.10797571204430491\n"
     ]
    },
    {
     "name": "stderr",
     "output_type": "stream",
     "text": [
      "\r",
      "t:  69%|█████████████████████████████████████████████▎                    | 864/1260 [06:36<03:17,  2.00it/s, now=None]"
     ]
    },
    {
     "name": "stdout",
     "output_type": "stream",
     "text": [
      "720\n",
      "640.0\n",
      "311.9801795457984\n",
      "1001.0980495874971\n",
      "656.5391145666478\n",
      "-0.08742103413799528\n",
      "3247.5753424264717\n",
      "2892.8623670294287\n",
      "-0.08742103413799528\n"
     ]
    },
    {
     "name": "stderr",
     "output_type": "stream",
     "text": [
      "\r",
      "t:  69%|█████████████████████████████████████████████▎                    | 865/1260 [06:36<03:04,  2.14it/s, now=None]"
     ]
    },
    {
     "name": "stdout",
     "output_type": "stream",
     "text": [
      "720\n",
      "640.0\n",
      "315.04788682402443\n",
      "1011.2129844297333\n",
      "663.1304356268788\n",
      "-0.12226087402778799\n",
      "2186.3979364406046\n",
      "1359.948613351472\n",
      "-0.12226087402778799\n"
     ]
    },
    {
     "name": "stderr",
     "output_type": "stream",
     "text": [
      "\r",
      "t:  69%|█████████████████████████████████████████████▎                    | 866/1260 [06:37<03:03,  2.15it/s, now=None]"
     ]
    },
    {
     "name": "stdout",
     "output_type": "stream",
     "text": [
      "720\n",
      "640.0\n",
      "314.7900669905275\n",
      "1009.779496078485\n",
      "662.2847815345062\n",
      "-0.11779098811096154\n",
      "2078.4285252790796\n",
      "1472.0876052863925\n",
      "-0.11779098811096154\n"
     ]
    },
    {
     "name": "stderr",
     "output_type": "stream",
     "text": [
      "\r",
      "t:  69%|█████████████████████████████████████████████▍                    | 867/1260 [06:37<03:05,  2.12it/s, now=None]"
     ]
    },
    {
     "name": "stdout",
     "output_type": "stream",
     "text": [
      "720\n",
      "640.0\n",
      "315.48812318174174\n",
      "1015.0848680849411\n",
      "665.2864956333415\n",
      "-0.13365719120480493\n",
      "1629.5459606227753\n",
      "903.76683654744\n",
      "-0.13365719120480493\n"
     ]
    },
    {
     "name": "stderr",
     "output_type": "stream",
     "text": [
      "\r",
      "t:  69%|█████████████████████████████████████████████▍                    | 868/1260 [06:38<03:06,  2.10it/s, now=None]"
     ]
    },
    {
     "name": "stdout",
     "output_type": "stream",
     "text": [
      "720\n",
      "640.0\n",
      "315.1256154101328\n",
      "1012.9418988621142\n",
      "664.0337571361235\n",
      "-0.12703557343379587\n",
      "1467.012828778883\n",
      "1078.238792496026\n",
      "-0.12703557343379587\n"
     ]
    },
    {
     "name": "stderr",
     "output_type": "stream",
     "text": [
      "\r",
      "t:  69%|█████████████████████████████████████████████▌                    | 869/1260 [06:38<03:05,  2.11it/s, now=None]"
     ]
    },
    {
     "name": "stdout",
     "output_type": "stream",
     "text": [
      "720\n",
      "640.0\n",
      "313.1465307405325\n",
      "1009.5883860163993\n",
      "661.3674583784659\n",
      "-0.11294228000046276\n",
      "1709.534739571748\n",
      "1057.4303388162537\n",
      "-0.11294228000046276\n"
     ]
    },
    {
     "name": "stderr",
     "output_type": "stream",
     "text": [
      "\r",
      "t:  69%|█████████████████████████████████████████████▌                    | 870/1260 [06:39<03:15,  1.99it/s, now=None]"
     ]
    },
    {
     "name": "stdout",
     "output_type": "stream",
     "text": [
      "720\n",
      "640.0\n",
      "311.93853460898197\n",
      "1009.4555518424528\n",
      "660.6970432257174\n",
      "-0.10939865705022044\n",
      "2147.6302898232716\n",
      "864.7779905813259\n",
      "-0.10939865705022044\n"
     ]
    },
    {
     "name": "stderr",
     "output_type": "stream",
     "text": [
      "\r",
      "t:  69%|█████████████████████████████████████████████▌                    | 871/1260 [06:39<03:15,  1.99it/s, now=None]"
     ]
    },
    {
     "name": "stdout",
     "output_type": "stream",
     "text": [
      "720\n",
      "640.0\n",
      "309.13641440223574\n",
      "1003.740303643901\n",
      "656.4383590230684\n",
      "-0.08688846912193306\n",
      "2546.2663974997104\n",
      "762.4422310389011\n",
      "-0.08688846912193306\n"
     ]
    },
    {
     "name": "stderr",
     "output_type": "stream",
     "text": [
      "\r",
      "t:  69%|█████████████████████████████████████████████▋                    | 872/1260 [06:40<03:18,  1.96it/s, now=None]"
     ]
    },
    {
     "name": "stdout",
     "output_type": "stream",
     "text": [
      "720\n",
      "640.0\n",
      "309.7518330866692\n",
      "1017.7381193863255\n",
      "663.7449762364973\n",
      "-0.1255091601072002\n",
      "3057.5665353453683\n",
      "657.0500144908501\n",
      "-0.1255091601072002\n"
     ]
    },
    {
     "name": "stderr",
     "output_type": "stream",
     "text": [
      "\r",
      "t:  69%|█████████████████████████████████████████████▋                    | 873/1260 [06:40<03:23,  1.90it/s, now=None]"
     ]
    },
    {
     "name": "stdout",
     "output_type": "stream",
     "text": [
      "720\n",
      "640.0\n",
      "307.5378948544341\n",
      "1029.155343888494\n",
      "668.346619371464\n",
      "-0.1498321309634528\n",
      "3878.330137346353\n",
      "429.4817788935846\n",
      "-0.1498321309634528\n"
     ]
    },
    {
     "name": "stderr",
     "output_type": "stream",
     "text": [
      "\r",
      "t:  69%|█████████████████████████████████████████████▊                    | 874/1260 [06:41<03:16,  1.97it/s, now=None]"
     ]
    },
    {
     "name": "stdout",
     "output_type": "stream",
     "text": [
      "720\n",
      "640.0\n",
      "307.9407819095782\n",
      "1006.057784265837\n",
      "656.9992830877076\n",
      "-0.08985335346359714\n",
      "3293.4660041333086\n",
      "951.396025853306\n",
      "-0.08985335346359714\n"
     ]
    },
    {
     "name": "stderr",
     "output_type": "stream",
     "text": [
      "\r",
      "t:  69%|█████████████████████████████████████████████▊                    | 875/1260 [06:41<03:16,  1.96it/s, now=None]"
     ]
    },
    {
     "name": "stdout",
     "output_type": "stream",
     "text": [
      "720\n",
      "640.0\n",
      "308.94163798221916\n",
      "1019.6116747904049\n",
      "664.276656386312\n",
      "-0.12831946947050613\n",
      "3163.600678513297\n",
      "1168.4409109764438\n",
      "-0.12831946947050613\n"
     ]
    },
    {
     "name": "stderr",
     "output_type": "stream",
     "text": [
      "\r",
      "t:  70%|█████████████████████████████████████████████▉                    | 876/1260 [06:42<03:14,  1.97it/s, now=None]"
     ]
    },
    {
     "name": "stdout",
     "output_type": "stream",
     "text": [
      "720\n",
      "640.0\n",
      "309.23867894777027\n",
      "1010.4677177290207\n",
      "659.8531983383955\n",
      "-0.10493833407437615\n",
      "3055.304903992761\n",
      "1720.3953162315863\n",
      "-0.10493833407437615\n"
     ]
    },
    {
     "name": "stderr",
     "output_type": "stream",
     "text": [
      "\r",
      "t:  70%|█████████████████████████████████████████████▉                    | 877/1260 [06:42<03:13,  1.98it/s, now=None]"
     ]
    },
    {
     "name": "stdout",
     "output_type": "stream",
     "text": [
      "720\n",
      "640.0\n",
      "312.38510915129103\n",
      "1017.0731532010564\n",
      "664.7291311761737\n",
      "-0.13071112193120396\n",
      "2120.093544570933\n",
      "1005.7783685722226\n",
      "-0.13071112193120396\n"
     ]
    },
    {
     "name": "stderr",
     "output_type": "stream",
     "text": [
      "\r",
      "t:  70%|█████████████████████████████████████████████▉                    | 878/1260 [06:43<03:11,  1.99it/s, now=None]"
     ]
    },
    {
     "name": "stdout",
     "output_type": "stream",
     "text": [
      "720\n",
      "640.0\n",
      "314.802059513667\n",
      "1015.8971515091915\n",
      "665.3496055114292\n",
      "-0.13399077198898302\n",
      "1642.7124258308345\n",
      "1116.943117130189\n",
      "-0.13399077198898302\n"
     ]
    },
    {
     "name": "stderr",
     "output_type": "stream",
     "text": [
      "\r",
      "t:  70%|██████████████████████████████████████████████                    | 879/1260 [06:43<02:59,  2.12it/s, now=None]"
     ]
    },
    {
     "name": "stdout",
     "output_type": "stream",
     "text": [
      "720\n",
      "640.0\n",
      "315.0475920648359\n",
      "1013.3781313523547\n",
      "664.2128617085953\n",
      "-0.12798226903114635\n",
      "1402.559506622135\n",
      "1138.284627474199\n",
      "-0.12798226903114635\n"
     ]
    },
    {
     "name": "stderr",
     "output_type": "stream",
     "text": [
      "\r",
      "t:  70%|██████████████████████████████████████████████                    | 880/1260 [06:43<02:48,  2.25it/s, now=None]"
     ]
    },
    {
     "name": "stdout",
     "output_type": "stream",
     "text": [
      "720\n",
      "640.0\n",
      "314.4705186311037\n",
      "1009.9268965207361\n",
      "662.1987075759199\n",
      "-0.11733602575843383\n",
      "1563.7108749933723\n",
      "1570.7060021952868\n",
      "-0.11733602575843383\n"
     ]
    },
    {
     "name": "stderr",
     "output_type": "stream",
     "text": [
      "\r",
      "t:  70%|██████████████████████████████████████████████▏                   | 881/1260 [06:44<02:43,  2.32it/s, now=None]"
     ]
    },
    {
     "name": "stdout",
     "output_type": "stream",
     "text": [
      "720\n",
      "640.0\n",
      "312.70026638266637\n",
      "1014.6494823529229\n",
      "663.6748743677946\n",
      "-0.12513862165834283\n",
      "1704.954335609388\n",
      "1050.5014309162455\n",
      "-0.12513862165834283\n"
     ]
    },
    {
     "name": "stderr",
     "output_type": "stream",
     "text": [
      "\r",
      "t:  70%|██████████████████████████████████████████████▏                   | 882/1260 [06:44<02:32,  2.48it/s, now=None]"
     ]
    },
    {
     "name": "stdout",
     "output_type": "stream",
     "text": [
      "720\n",
      "640.0\n",
      "311.5398208315029\n",
      "1012.9496527830727\n",
      "662.2447368072878\n",
      "-0.1175793231242357\n",
      "1783.816424586349\n",
      "1037.8988894779536\n",
      "-0.1175793231242357\n"
     ]
    },
    {
     "name": "stderr",
     "output_type": "stream",
     "text": [
      "\r",
      "t:  70%|██████████████████████████████████████████████▎                   | 883/1260 [06:45<02:36,  2.41it/s, now=None]"
     ]
    },
    {
     "name": "stdout",
     "output_type": "stream",
     "text": [
      "720\n",
      "640.0\n",
      "308.93070366617246\n",
      "1044.4538273802746\n",
      "676.6922655232236\n",
      "-0.1939448320513246\n",
      "1861.5191909019431\n",
      "543.4972194663364\n",
      "-0.1939448320513246\n"
     ]
    },
    {
     "name": "stderr",
     "output_type": "stream",
     "text": [
      "\r",
      "t:  70%|██████████████████████████████████████████████▎                   | 884/1260 [06:45<02:44,  2.29it/s, now=None]"
     ]
    },
    {
     "name": "stdout",
     "output_type": "stream",
     "text": [
      "720\n",
      "640.0\n",
      "308.54253725926594\n",
      "1009.3698557133112\n",
      "658.9561964862885\n",
      "-0.10019703857038202\n",
      "1776.253545473527\n",
      "1011.3187207359158\n",
      "-0.10019703857038202\n"
     ]
    },
    {
     "name": "stderr",
     "output_type": "stream",
     "text": [
      "\r",
      "t:  70%|██████████████████████████████████████████████▎                   | 885/1260 [06:46<02:47,  2.24it/s, now=None]"
     ]
    },
    {
     "name": "stdout",
     "output_type": "stream",
     "text": [
      "720\n",
      "640.0\n",
      "309.6510171872542\n",
      "1029.7602798339085\n",
      "669.7056485105813\n",
      "-0.1570155706987871\n",
      "1572.888459545668\n",
      "547.327462029765\n",
      "-0.1570155706987871\n"
     ]
    },
    {
     "name": "stderr",
     "output_type": "stream",
     "text": [
      "\r",
      "t:  70%|██████████████████████████████████████████████▍                   | 886/1260 [06:46<02:49,  2.21it/s, now=None]"
     ]
    },
    {
     "name": "stdout",
     "output_type": "stream",
     "text": [
      "720\n",
      "640.0\n",
      "309.50918532781117\n",
      "1048.8589583590447\n",
      "679.1840718434279\n",
      "-0.2071158083152617\n",
      "1528.8642807902534\n",
      "353.7516384275393\n",
      "-0.2071158083152617\n"
     ]
    },
    {
     "name": "stderr",
     "output_type": "stream",
     "text": [
      "\r",
      "t:  70%|██████████████████████████████████████████████▍                   | 887/1260 [06:46<02:46,  2.24it/s, now=None]"
     ]
    },
    {
     "name": "stdout",
     "output_type": "stream",
     "text": [
      "720\n",
      "640.0\n",
      "311.3157175406309\n",
      "1006.7173860638484\n",
      "659.0165518022396\n",
      "-0.10051605952612377\n",
      "1432.1681283196306\n",
      "6406.454562002563\n",
      "-0.10051605952612377\n"
     ]
    },
    {
     "name": "stderr",
     "output_type": "stream",
     "text": [
      "\r",
      "t:  70%|██████████████████████████████████████████████▌                   | 888/1260 [06:47<02:51,  2.18it/s, now=None]"
     ]
    },
    {
     "name": "stdout",
     "output_type": "stream",
     "text": [
      "720\n",
      "640.0\n",
      "310.02050182749986\n",
      "1019.0786796274098\n",
      "664.5495907274549\n",
      "-0.12976212241654717\n",
      "1753.4802756542301\n",
      "1544.7965323043352\n",
      "-0.12976212241654717\n"
     ]
    },
    {
     "name": "stderr",
     "output_type": "stream",
     "text": [
      "\r",
      "t:  71%|██████████████████████████████████████████████▌                   | 889/1260 [06:47<02:55,  2.11it/s, now=None]"
     ]
    },
    {
     "name": "stdout",
     "output_type": "stream",
     "text": [
      "720\n",
      "640.0\n",
      "309.25139403144084\n",
      "1008.0267364791571\n",
      "658.639065255299\n",
      "-0.09852077349229466\n",
      "2088.55667593361\n",
      "3780.680178674124\n",
      "-0.09852077349229466\n"
     ]
    },
    {
     "name": "stderr",
     "output_type": "stream",
     "text": [
      "\r",
      "t:  71%|██████████████████████████████████████████████▌                   | 890/1260 [06:48<03:00,  2.05it/s, now=None]"
     ]
    },
    {
     "name": "stdout",
     "output_type": "stream",
     "text": [
      "720\n",
      "640.0\n",
      "310.41127328481286\n",
      "1009.427567868106\n",
      "659.9194205764595\n",
      "-0.10528836590414316\n",
      "2367.605040305616\n",
      "4502.908386532116\n",
      "-0.10528836590414316\n"
     ]
    },
    {
     "name": "stderr",
     "output_type": "stream",
     "text": [
      "\r",
      "t:  71%|██████████████████████████████████████████████▋                   | 891/1260 [06:48<03:03,  2.01it/s, now=None]"
     ]
    },
    {
     "name": "stdout",
     "output_type": "stream",
     "text": [
      "720\n",
      "640.0\n",
      "310.61262002633504\n",
      "1013.1455107820149\n",
      "661.879065404175\n",
      "-0.1156464885649249\n",
      "2106.918612392616\n",
      "1549.2204397284588\n",
      "-0.1156464885649249\n"
     ]
    },
    {
     "name": "stderr",
     "output_type": "stream",
     "text": [
      "\r",
      "t:  71%|██████████████████████████████████████████████▋                   | 892/1260 [06:49<03:01,  2.03it/s, now=None]"
     ]
    },
    {
     "name": "stdout",
     "output_type": "stream",
     "text": [
      "720\n",
      "640.0\n",
      "309.2011750071271\n",
      "1013.2123069150701\n",
      "661.2067409610986\n",
      "-0.11209277365152119\n",
      "2648.033406334988\n",
      "1811.3071069717982\n",
      "-0.11209277365152119\n"
     ]
    },
    {
     "name": "stderr",
     "output_type": "stream",
     "text": [
      "\r",
      "t:  71%|██████████████████████████████████████████████▊                   | 893/1260 [06:49<02:58,  2.05it/s, now=None]"
     ]
    },
    {
     "name": "stdout",
     "output_type": "stream",
     "text": [
      "720\n",
      "640.0\n",
      "309.20831529505205\n",
      "1017.841470951154\n",
      "663.524893123103\n",
      "-0.12434586365068713\n",
      "2700.9492605855517\n",
      "973.4588407161593\n",
      "-0.12434586365068713\n"
     ]
    },
    {
     "name": "stderr",
     "output_type": "stream",
     "text": [
      "\r",
      "t:  71%|██████████████████████████████████████████████▊                   | 894/1260 [06:50<03:06,  1.96it/s, now=None]"
     ]
    },
    {
     "name": "stdout",
     "output_type": "stream",
     "text": [
      "720\n",
      "640.0\n",
      "308.6781078501026\n",
      "1014.3542689647816\n",
      "661.5161884074421\n",
      "-0.11372842443933676\n",
      "3809.8971658544906\n",
      "882.6026405161138\n",
      "-0.11372842443933676\n"
     ]
    },
    {
     "name": "stderr",
     "output_type": "stream",
     "text": [
      "\r",
      "t:  71%|██████████████████████████████████████████████▉                   | 895/1260 [06:50<03:00,  2.03it/s, now=None]"
     ]
    },
    {
     "name": "stdout",
     "output_type": "stream",
     "text": [
      "720\n",
      "640.0\n",
      "309.7405325470602\n",
      "1014.0219757078862\n",
      "661.8812541274732\n",
      "-0.11565805753092977\n",
      "5411.874511302718\n",
      "660.8289148371565\n",
      "-0.11565805753092977\n"
     ]
    },
    {
     "name": "stderr",
     "output_type": "stream",
     "text": [
      "\r",
      "t:  71%|██████████████████████████████████████████████▉                   | 896/1260 [06:51<03:02,  1.99it/s, now=None]"
     ]
    },
    {
     "name": "stdout",
     "output_type": "stream",
     "text": [
      "720\n",
      "640.0\n",
      "311.7272099613523\n",
      "1016.9101974760111\n",
      "664.3187037186817\n",
      "-0.1285417196558891\n",
      "5852.989814009681\n",
      "444.8288271392274\n",
      "-0.1285417196558891\n"
     ]
    },
    {
     "name": "stderr",
     "output_type": "stream",
     "text": [
      "\r",
      "t:  71%|██████████████████████████████████████████████▉                   | 897/1260 [06:51<02:49,  2.14it/s, now=None]"
     ]
    },
    {
     "name": "stdout",
     "output_type": "stream",
     "text": [
      "720\n",
      "640.0\n",
      "315.4982666638824\n",
      "1013.3841365066198\n",
      "664.4412015852511\n",
      "-0.1291892083791842\n",
      "5815.008265766647\n",
      "689.2208152155455\n",
      "-0.1291892083791842\n"
     ]
    },
    {
     "name": "stderr",
     "output_type": "stream",
     "text": [
      "\r",
      "t:  71%|███████████████████████████████████████████████                   | 898/1260 [06:52<02:37,  2.29it/s, now=None]"
     ]
    },
    {
     "name": "stdout",
     "output_type": "stream",
     "text": [
      "720\n",
      "640.0\n",
      "316.7753574341783\n",
      "1020.1471241405216\n",
      "668.4612407873499\n",
      "-0.15043798701884936\n",
      "6976.712555210194\n",
      "3212.39850915104\n",
      "-0.15043798701884936\n"
     ]
    },
    {
     "name": "stderr",
     "output_type": "stream",
     "text": [
      "\r",
      "t:  71%|███████████████████████████████████████████████                   | 899/1260 [06:52<02:36,  2.30it/s, now=None]"
     ]
    },
    {
     "name": "stdout",
     "output_type": "stream",
     "text": [
      "720\n",
      "640.0\n",
      "318.844225221603\n",
      "1002.7507705320937\n",
      "660.7974978768484\n",
      "-0.10992963163477018\n",
      "4903.094842771135\n",
      "10050.014316481791\n",
      "-0.10992963163477018\n"
     ]
    },
    {
     "name": "stderr",
     "output_type": "stream",
     "text": [
      "\r",
      "t:  71%|███████████████████████████████████████████████▏                  | 900/1260 [06:53<02:34,  2.33it/s, now=None]"
     ]
    },
    {
     "name": "stdout",
     "output_type": "stream",
     "text": [
      "720\n",
      "640.0\n",
      "322.0243691074596\n",
      "1013.7510550998483\n",
      "667.8877121036539\n",
      "-0.14740647826217082\n",
      "3197.04653560087\n",
      "5227.289874763095\n",
      "-0.14740647826217082\n"
     ]
    },
    {
     "name": "stderr",
     "output_type": "stream",
     "text": [
      "\r",
      "t:  72%|███████████████████████████████████████████████▏                  | 901/1260 [06:53<02:26,  2.45it/s, now=None]"
     ]
    },
    {
     "name": "stdout",
     "output_type": "stream",
     "text": [
      "720\n",
      "640.0\n",
      "323.97870001206957\n",
      "1018.5979100798368\n",
      "671.2883050459532\n",
      "-0.16538104095718104\n",
      "2807.5846043612473\n",
      "2371.1161355601334\n",
      "-0.16538104095718104\n"
     ]
    },
    {
     "name": "stderr",
     "output_type": "stream",
     "text": [
      "\r",
      "t:  72%|███████████████████████████████████████████████▏                  | 902/1260 [06:53<02:33,  2.34it/s, now=None]"
     ]
    },
    {
     "name": "stdout",
     "output_type": "stream",
     "text": [
      "720\n",
      "640.0\n",
      "328.46686464578545\n",
      "1012.172869134994\n",
      "670.3198668903897\n",
      "-0.1602621535634883\n",
      "2159.7996452444418\n",
      "2480.495481613682\n",
      "-0.1602621535634883\n"
     ]
    },
    {
     "name": "stderr",
     "output_type": "stream",
     "text": [
      "\r",
      "t:  72%|███████████████████████████████████████████████▎                  | 903/1260 [06:54<02:36,  2.28it/s, now=None]"
     ]
    },
    {
     "name": "stdout",
     "output_type": "stream",
     "text": [
      "720\n",
      "640.0\n",
      "325.9994304203103\n",
      "1011.5309551100652\n",
      "668.7651927651877\n",
      "-0.15204459033027812\n",
      "2982.688505530661\n",
      "3680.57382773268\n",
      "-0.15204459033027812\n"
     ]
    },
    {
     "name": "stderr",
     "output_type": "stream",
     "text": [
      "\r",
      "t:  72%|███████████████████████████████████████████████▎                  | 904/1260 [06:54<02:39,  2.23it/s, now=None]"
     ]
    },
    {
     "name": "stdout",
     "output_type": "stream",
     "text": [
      "720\n",
      "640.0\n",
      "327.8035708934165\n",
      "1013.0402485076778\n",
      "670.4219097005472\n",
      "-0.1608015227028923\n",
      "2589.9013867953418\n",
      "1654.11544046987\n",
      "-0.1608015227028923\n"
     ]
    },
    {
     "name": "stderr",
     "output_type": "stream",
     "text": [
      "\r",
      "t:  72%|███████████████████████████████████████████████▍                  | 905/1260 [06:55<02:41,  2.20it/s, now=None]"
     ]
    },
    {
     "name": "stdout",
     "output_type": "stream",
     "text": [
      "720\n",
      "640.0\n",
      "328.067218419436\n",
      "1018.3141510881902\n",
      "673.1906847538131\n",
      "-0.17543647655586933\n",
      "2639.5150787248976\n",
      "1476.4126381510057\n",
      "-0.17543647655586933\n"
     ]
    },
    {
     "name": "stderr",
     "output_type": "stream",
     "text": [
      "\r",
      "t:  72%|███████████████████████████████████████████████▍                  | 906/1260 [06:55<02:45,  2.14it/s, now=None]"
     ]
    },
    {
     "name": "stdout",
     "output_type": "stream",
     "text": [
      "720\n",
      "640.0\n",
      "325.9686394675399\n",
      "1020.1876752634981\n",
      "673.078157365519\n",
      "-0.17484168893202912\n",
      "3316.561814436888\n",
      "1441.337722455663\n",
      "-0.17484168893202912\n"
     ]
    },
    {
     "name": "stderr",
     "output_type": "stream",
     "text": [
      "\r",
      "t:  72%|███████████████████████████████████████████████▌                  | 907/1260 [06:56<02:48,  2.10it/s, now=None]"
     ]
    },
    {
     "name": "stdout",
     "output_type": "stream",
     "text": [
      "720\n",
      "640.0\n",
      "326.9659976231975\n",
      "1036.7553502918356\n",
      "681.8606739575166\n",
      "-0.22126356234687353\n",
      "3025.6759533726763\n",
      "520.8409218722959\n",
      "-0.22126356234687353\n"
     ]
    },
    {
     "name": "stderr",
     "output_type": "stream",
     "text": [
      "\r",
      "t:  72%|███████████████████████████████████████████████▌                  | 908/1260 [06:56<02:49,  2.08it/s, now=None]"
     ]
    },
    {
     "name": "stdout",
     "output_type": "stream",
     "text": [
      "720\n",
      "640.0\n",
      "328.04048556186467\n",
      "1043.3947961578783\n",
      "685.7176408598715\n",
      "-0.2416503874021779\n",
      "2152.997506264299\n",
      "360.9655661324504\n",
      "-0.2416503874021779\n"
     ]
    },
    {
     "name": "stderr",
     "output_type": "stream",
     "text": [
      "\r",
      "t:  72%|███████████████████████████████████████████████▌                  | 909/1260 [06:57<02:51,  2.05it/s, now=None]"
     ]
    },
    {
     "name": "stdout",
     "output_type": "stream",
     "text": [
      "720\n",
      "640.0\n",
      "328.12563469591214\n",
      "1038.3725358511747\n",
      "683.2490852735434\n",
      "-0.22860230787444377\n",
      "2213.6495803896796\n",
      "532.7325213996945\n",
      "-0.22860230787444377\n"
     ]
    },
    {
     "name": "stderr",
     "output_type": "stream",
     "text": [
      "\r",
      "t:  72%|███████████████████████████████████████████████▋                  | 910/1260 [06:57<02:46,  2.10it/s, now=None]"
     ]
    },
    {
     "name": "stdout",
     "output_type": "stream",
     "text": [
      "720\n",
      "640.0\n",
      "327.5784262685496\n",
      "1011.8607957475781\n",
      "669.7196110080638\n",
      "-0.15708937247119434\n",
      "1996.370336003697\n",
      "3216.323153461749\n",
      "-0.15708937247119434\n"
     ]
    },
    {
     "name": "stderr",
     "output_type": "stream",
     "text": [
      "\r",
      "t:  72%|███████████████████████████████████████████████▋                  | 911/1260 [06:58<02:48,  2.07it/s, now=None]"
     ]
    },
    {
     "name": "stdout",
     "output_type": "stream",
     "text": [
      "720\n",
      "640.0\n",
      "328.9427489235309\n",
      "1003.58096489404\n",
      "666.2618569087855\n",
      "-0.13881267223215188\n",
      "1768.1995059368955\n",
      "5352.343752096608\n",
      "-0.13881267223215188\n"
     ]
    },
    {
     "name": "stderr",
     "output_type": "stream",
     "text": [
      "\r",
      "t:  72%|███████████████████████████████████████████████▊                  | 912/1260 [06:58<02:50,  2.05it/s, now=None]"
     ]
    },
    {
     "name": "stdout",
     "output_type": "stream",
     "text": [
      "720\n",
      "640.0\n",
      "327.9414475553326\n",
      "1007.3784119022682\n",
      "667.6599297288004\n",
      "-0.14620248570937366\n",
      "2414.8337167418117\n",
      "2680.2808089882956\n",
      "-0.14620248570937366\n"
     ]
    },
    {
     "name": "stderr",
     "output_type": "stream",
     "text": [
      "\r",
      "t:  72%|███████████████████████████████████████████████▊                  | 913/1260 [06:59<02:48,  2.06it/s, now=None]"
     ]
    },
    {
     "name": "stdout",
     "output_type": "stream",
     "text": [
      "720\n",
      "640.0\n",
      "327.28139212494074\n",
      "1012.4629312034449\n",
      "669.8721616641928\n",
      "-0.15789571165359076\n",
      "2108.7123540700973\n",
      "1737.8817204187421\n",
      "-0.15789571165359076\n"
     ]
    },
    {
     "name": "stderr",
     "output_type": "stream",
     "text": [
      "\r",
      "t:  73%|███████████████████████████████████████████████▉                  | 914/1260 [06:59<02:51,  2.02it/s, now=None]"
     ]
    },
    {
     "name": "stdout",
     "output_type": "stream",
     "text": [
      "720\n",
      "640.0\n",
      "327.4359935607687\n",
      "1007.8242043780026\n",
      "667.6300989693857\n",
      "-0.14604480883818155\n",
      "2044.1156160099042\n",
      "1838.4657980607108\n",
      "-0.14604480883818155\n"
     ]
    },
    {
     "name": "stderr",
     "output_type": "stream",
     "text": [
      "\r",
      "t:  73%|███████████████████████████████████████████████▉                  | 915/1260 [07:00<02:55,  1.97it/s, now=None]"
     ]
    },
    {
     "name": "stdout",
     "output_type": "stream",
     "text": [
      "720\n",
      "640.0\n",
      "328.8001486720062\n",
      "1009.8315071071854\n",
      "669.3158278895958\n",
      "-0.15495509027357762\n",
      "1689.9373273367144\n",
      "1414.1415549208355\n",
      "-0.15495509027357762\n"
     ]
    },
    {
     "name": "stderr",
     "output_type": "stream",
     "text": [
      "\r",
      "t:  73%|███████████████████████████████████████████████▉                  | 916/1260 [07:00<02:53,  1.99it/s, now=None]"
     ]
    },
    {
     "name": "stdout",
     "output_type": "stream",
     "text": [
      "720\n",
      "640.0\n",
      "328.5180406396523\n",
      "1014.1360531679887\n",
      "671.3270469038205\n",
      "-0.16558581934876537\n",
      "1618.6789043777378\n",
      "1136.8322532550765\n",
      "-0.16558581934876537\n"
     ]
    },
    {
     "name": "stderr",
     "output_type": "stream",
     "text": [
      "\r",
      "t:  73%|████████████████████████████████████████████████                  | 917/1260 [07:01<02:49,  2.03it/s, now=None]"
     ]
    },
    {
     "name": "stdout",
     "output_type": "stream",
     "text": [
      "720\n",
      "640.0\n",
      "330.5735385636903\n",
      "1015.9613125586337\n",
      "673.267425561162\n",
      "-0.17584210653757051\n",
      "1284.1182853372143\n",
      "659.6632692458946\n",
      "-0.17584210653757051\n"
     ]
    },
    {
     "name": "stderr",
     "output_type": "stream",
     "text": [
      "\r",
      "t:  73%|████████████████████████████████████████████████                  | 918/1260 [07:01<02:44,  2.08it/s, now=None]"
     ]
    },
    {
     "name": "stdout",
     "output_type": "stream",
     "text": [
      "720\n",
      "640.0\n",
      "326.56001308538134\n",
      "1009.2898783464482\n",
      "667.9249457159148\n",
      "-0.1476032844984066\n",
      "1315.1178764919846\n",
      "781.7325069752195\n",
      "-0.1476032844984066\n"
     ]
    },
    {
     "name": "stderr",
     "output_type": "stream",
     "text": [
      "\r",
      "t:  73%|████████████████████████████████████████████████▏                 | 919/1260 [07:02<02:38,  2.16it/s, now=None]"
     ]
    },
    {
     "name": "stdout",
     "output_type": "stream",
     "text": [
      "720\n",
      "640.0\n",
      "325.6032112399539\n",
      "1032.26837167225\n",
      "678.9357914561019\n",
      "-0.2058034691251102\n",
      "1293.09157416864\n",
      "409.0567572143737\n",
      "-0.2058034691251102\n"
     ]
    },
    {
     "name": "stderr",
     "output_type": "stream",
     "text": [
      "\r",
      "t:  73%|████████████████████████████████████████████████▏                 | 920/1260 [07:02<02:46,  2.04it/s, now=None]"
     ]
    },
    {
     "name": "stdout",
     "output_type": "stream",
     "text": [
      "720\n",
      "640.0\n",
      "323.5771872743901\n",
      "1026.413034300013\n",
      "674.9951107872015\n",
      "-0.18497415701806508\n",
      "1342.4477681708192\n",
      "452.4718893915216\n",
      "-0.18497415701806508\n"
     ]
    },
    {
     "name": "stderr",
     "output_type": "stream",
     "text": [
      "\r",
      "t:  73%|████████████████████████████████████████████████▏                 | 921/1260 [07:03<02:53,  1.96it/s, now=None]"
     ]
    },
    {
     "name": "stdout",
     "output_type": "stream",
     "text": [
      "720\n",
      "640.0\n",
      "321.3452367010151\n",
      "1012.3377882208229\n",
      "666.8415124609189\n",
      "-0.14187656586485717\n",
      "1390.260717273554\n",
      "1531.6457086880455\n",
      "-0.14187656586485717\n"
     ]
    },
    {
     "name": "stderr",
     "output_type": "stream",
     "text": [
      "\r",
      "t:  73%|████████████████████████████████████████████████▎                 | 922/1260 [07:03<02:55,  1.93it/s, now=None]"
     ]
    },
    {
     "name": "stdout",
     "output_type": "stream",
     "text": [
      "720\n",
      "640.0\n",
      "321.28015736773034\n",
      "1009.2221704489386\n",
      "665.2511639083345\n",
      "-0.1334704378011969\n",
      "1225.1453977365156\n",
      "1626.5116292503708\n",
      "-0.1334704378011969\n"
     ]
    },
    {
     "name": "stderr",
     "output_type": "stream",
     "text": [
      "\r",
      "t:  73%|████████████████████████████████████████████████▎                 | 923/1260 [07:04<02:51,  1.97it/s, now=None]"
     ]
    },
    {
     "name": "stdout",
     "output_type": "stream",
     "text": [
      "720\n",
      "640.0\n",
      "319.17659384192007\n",
      "1017.9417705315952\n",
      "668.5591821867577\n",
      "-0.15095567727286188\n",
      "1254.9086612146302\n",
      "1002.7961164137213\n",
      "-0.15095567727286188\n"
     ]
    },
    {
     "name": "stderr",
     "output_type": "stream",
     "text": [
      "\r",
      "t:  73%|████████████████████████████████████████████████▍                 | 924/1260 [07:04<02:45,  2.04it/s, now=None]"
     ]
    },
    {
     "name": "stdout",
     "output_type": "stream",
     "text": [
      "720\n",
      "640.0\n",
      "319.5908330093843\n",
      "1018.0824492039751\n",
      "668.8366411066797\n",
      "-0.1524222458495929\n",
      "1101.6599478812968\n",
      "956.2161666810206\n",
      "-0.1524222458495929\n"
     ]
    },
    {
     "name": "stderr",
     "output_type": "stream",
     "text": [
      "\r",
      "t:  73%|████████████████████████████████████████████████▍                 | 925/1260 [07:05<02:41,  2.08it/s, now=None]"
     ]
    },
    {
     "name": "stdout",
     "output_type": "stream",
     "text": [
      "720\n",
      "640.0\n",
      "316.88494542285343\n",
      "1012.3180053450661\n",
      "664.6014753839597\n",
      "-0.13003636988664427\n",
      "1282.2986141011515\n",
      "1165.9905566686643\n",
      "-0.13003636988664427\n"
     ]
    },
    {
     "name": "stderr",
     "output_type": "stream",
     "text": [
      "\r",
      "t:  73%|████████████████████████████████████████████████▌                 | 926/1260 [07:05<02:41,  2.07it/s, now=None]"
     ]
    },
    {
     "name": "stdout",
     "output_type": "stream",
     "text": [
      "720\n",
      "640.0\n",
      "316.87932450676533\n",
      "1007.961642965221\n",
      "662.4204837359932\n",
      "-0.11850827117596421\n",
      "1233.5116898705255\n",
      "1282.169973979076\n",
      "-0.11850827117596421\n"
     ]
    },
    {
     "name": "stderr",
     "output_type": "stream",
     "text": [
      "\r",
      "t:  74%|████████████████████████████████████████████████▌                 | 927/1260 [07:06<02:39,  2.08it/s, now=None]"
     ]
    },
    {
     "name": "stdout",
     "output_type": "stream",
     "text": [
      "720\n",
      "640.0\n",
      "316.9310205045016\n",
      "1005.5110373780118\n",
      "661.2210289412567\n",
      "-0.1121682958323568\n",
      "1211.0536403020155\n",
      "1936.8210588389268\n",
      "-0.1121682958323568\n"
     ]
    },
    {
     "name": "stderr",
     "output_type": "stream",
     "text": [
      "\r",
      "t:  74%|████████████████████████████████████████████████▌                 | 928/1260 [07:06<02:43,  2.03it/s, now=None]"
     ]
    },
    {
     "name": "stdout",
     "output_type": "stream",
     "text": [
      "720\n",
      "640.0\n",
      "313.18215469247775\n",
      "1008.5015687791087\n",
      "660.8418617357931\n",
      "-0.11016412631776377\n",
      "1476.7796990147963\n",
      "1450.4531480423477\n",
      "-0.11016412631776377\n"
     ]
    },
    {
     "name": "stderr",
     "output_type": "stream",
     "text": [
      "\r",
      "t:  74%|████████████████████████████████████████████████▋                 | 929/1260 [07:06<02:27,  2.24it/s, now=None]"
     ]
    },
    {
     "name": "stdout",
     "output_type": "stream",
     "text": [
      "720\n",
      "640.0\n",
      "311.2120469904816\n",
      "1008.9624939408217\n",
      "660.0872704656516\n",
      "-0.1061755724613014\n",
      "1714.2691306316594\n",
      "914.110026927435\n",
      "-0.1061755724613014\n"
     ]
    },
    {
     "name": "stderr",
     "output_type": "stream",
     "text": [
      "\r",
      "t:  74%|████████████████████████████████████████████████▋                 | 930/1260 [07:07<02:17,  2.41it/s, now=None]"
     ]
    },
    {
     "name": "stdout",
     "output_type": "stream",
     "text": [
      "720\n",
      "640.0\n",
      "309.59401251269367\n",
      "1010.9144253865686\n",
      "660.2542189496312\n",
      "-0.1070580144480506\n",
      "1854.6044886392717\n",
      "747.1959431469089\n",
      "-0.1070580144480506\n"
     ]
    },
    {
     "name": "stderr",
     "output_type": "stream",
     "text": [
      "\r",
      "t:  74%|████████████████████████████████████████████████▊                 | 931/1260 [07:07<02:24,  2.28it/s, now=None]"
     ]
    },
    {
     "name": "stdout",
     "output_type": "stream",
     "text": [
      "720\n",
      "640.0\n",
      "309.39923175181076\n",
      "1030.1834735186474\n",
      "669.791352635229\n",
      "-0.15746857821478202\n",
      "2053.443665324784\n",
      "432.1104730510312\n",
      "-0.15746857821478202\n"
     ]
    },
    {
     "name": "stderr",
     "output_type": "stream",
     "text": [
      "\r",
      "t:  74%|████████████████████████████████████████████████▊                 | 932/1260 [07:08<02:32,  2.16it/s, now=None]"
     ]
    },
    {
     "name": "stdout",
     "output_type": "stream",
     "text": [
      "720\n",
      "640.0\n",
      "310.32539190353964\n",
      "1010.1558468683114\n",
      "660.2406193859256\n",
      "-0.10698613103989238\n",
      "2027.3284127049017\n",
      "1212.0367705675621\n",
      "-0.10698613103989238\n"
     ]
    },
    {
     "name": "stderr",
     "output_type": "stream",
     "text": [
      "\r",
      "t:  74%|████████████████████████████████████████████████▊                 | 933/1260 [07:08<02:30,  2.17it/s, now=None]"
     ]
    },
    {
     "name": "stdout",
     "output_type": "stream",
     "text": [
      "720\n",
      "640.0\n",
      "309.05297078523864\n",
      "1002.5015275228928\n",
      "655.7772491540658\n",
      "-0.08339403124291908\n",
      "2324.4605562530724\n",
      "3792.3050970143854\n",
      "-0.08339403124291908\n"
     ]
    },
    {
     "name": "stderr",
     "output_type": "stream",
     "text": [
      "\r",
      "t:  74%|████████████████████████████████████████████████▉                 | 934/1260 [07:09<02:15,  2.41it/s, now=None]"
     ]
    },
    {
     "name": "stdout",
     "output_type": "stream",
     "text": [
      "720\n",
      "640.0\n",
      "311.91511194626133\n",
      "1016.3027397610339\n",
      "664.1089258536476\n",
      "-0.12743289379785178\n",
      "2363.344038310506\n",
      "1537.5237899984327\n",
      "-0.12743289379785178\n"
     ]
    },
    {
     "name": "stderr",
     "output_type": "stream",
     "text": [
      "\r",
      "t:  74%|████████████████████████████████████████████████▉                 | 935/1260 [07:09<02:23,  2.26it/s, now=None]"
     ]
    },
    {
     "name": "stdout",
     "output_type": "stream",
     "text": [
      "720\n",
      "640.0\n",
      "313.85255834507313\n",
      "1029.888457436013\n",
      "671.870507890543\n",
      "-0.16845839885001285\n",
      "2251.3930847754937\n",
      "858.2340536013919\n",
      "-0.16845839885001285\n"
     ]
    },
    {
     "name": "stderr",
     "output_type": "stream",
     "text": [
      "\r",
      "t:  74%|█████████████████████████████████████████████████                 | 936/1260 [07:10<02:26,  2.21it/s, now=None]"
     ]
    },
    {
     "name": "stdout",
     "output_type": "stream",
     "text": [
      "720\n",
      "640.0\n",
      "315.41747230543774\n",
      "1014.2469175383305\n",
      "664.8321949218841\n",
      "-0.13125588744424474\n",
      "2169.7302184350933\n",
      "1542.23395218181\n",
      "-0.13125588744424474\n"
     ]
    },
    {
     "name": "stderr",
     "output_type": "stream",
     "text": [
      "\r",
      "t:  74%|█████████████████████████████████████████████████                 | 937/1260 [07:10<02:22,  2.26it/s, now=None]"
     ]
    },
    {
     "name": "stdout",
     "output_type": "stream",
     "text": [
      "720\n",
      "640.0\n",
      "315.75833784859753\n",
      "1023.7421289612188\n",
      "669.7502334049082\n",
      "-0.15725123371165742\n",
      "3488.011495857241\n",
      "910.0129920294187\n",
      "-0.15725123371165742\n"
     ]
    },
    {
     "name": "stderr",
     "output_type": "stream",
     "text": [
      "\r",
      "t:  74%|█████████████████████████████████████████████████▏                | 938/1260 [07:10<02:21,  2.27it/s, now=None]"
     ]
    },
    {
     "name": "stdout",
     "output_type": "stream",
     "text": [
      "720\n",
      "640.0\n",
      "317.6440653789639\n",
      "1019.9820776649159\n",
      "668.81307152194\n",
      "-0.15229766375882545\n",
      "3222.19892166938\n",
      "1014.2806325990808\n",
      "-0.15229766375882545\n"
     ]
    },
    {
     "name": "stderr",
     "output_type": "stream",
     "text": [
      "\r",
      "t:  75%|█████████████████████████████████████████████████▏                | 939/1260 [07:11<02:11,  2.45it/s, now=None]"
     ]
    },
    {
     "name": "stdout",
     "output_type": "stream",
     "text": [
      "720\n",
      "640.0\n",
      "319.8603106808397\n",
      "1018.8871287078407\n",
      "669.3737196943403\n",
      "-0.15526108981294134\n",
      "2838.0171161235585\n",
      "1164.757982121018\n",
      "-0.15526108981294134\n"
     ]
    },
    {
     "name": "stderr",
     "output_type": "stream",
     "text": [
      "\r",
      "t:  75%|█████████████████████████████████████████████████▏                | 940/1260 [07:11<02:13,  2.40it/s, now=None]"
     ]
    },
    {
     "name": "stdout",
     "output_type": "stream",
     "text": [
      "720\n",
      "640.0\n",
      "320.2452139416629\n",
      "1018.8891611843486\n",
      "669.5671875630057\n",
      "-0.15628370569017325\n",
      "3213.5189352338125\n",
      "903.8261123721973\n",
      "-0.15628370569017325\n"
     ]
    },
    {
     "name": "stderr",
     "output_type": "stream",
     "text": [
      "\r",
      "t:  75%|█████████████████████████████████████████████████▎                | 941/1260 [07:12<02:15,  2.35it/s, now=None]"
     ]
    },
    {
     "name": "stdout",
     "output_type": "stream",
     "text": [
      "720\n",
      "640.0\n",
      "320.7206841596585\n",
      "1017.4506975731189\n",
      "669.0856908663886\n",
      "-0.15373865172233991\n",
      "3093.0294401209094\n",
      "818.0439508876799\n",
      "-0.15373865172233991\n"
     ]
    },
    {
     "name": "stderr",
     "output_type": "stream",
     "text": [
      "\r",
      "t:  75%|█████████████████████████████████████████████████▎                | 942/1260 [07:12<02:09,  2.46it/s, now=None]"
     ]
    },
    {
     "name": "stdout",
     "output_type": "stream",
     "text": [
      "720\n",
      "640.0\n",
      "322.45601682004843\n",
      "1038.4007580831026\n",
      "680.4283874515755\n",
      "-0.21369290510118497\n",
      "2541.1709607592907\n",
      "465.0728139476866\n",
      "-0.21369290510118497\n"
     ]
    },
    {
     "name": "stderr",
     "output_type": "stream",
     "text": [
      "\r",
      "t:  75%|█████████████████████████████████████████████████▍                | 943/1260 [07:12<02:10,  2.43it/s, now=None]"
     ]
    },
    {
     "name": "stdout",
     "output_type": "stream",
     "text": [
      "720\n",
      "640.0\n",
      "323.4118215286602\n",
      "1033.65280108679\n",
      "678.5323113077252\n",
      "-0.2036707883408332\n",
      "1961.0588129119824\n",
      "343.914281196803\n",
      "-0.2036707883408332\n"
     ]
    },
    {
     "name": "stderr",
     "output_type": "stream",
     "text": [
      "\r",
      "t:  75%|█████████████████████████████████████████████████▍                | 944/1260 [07:13<02:02,  2.57it/s, now=None]"
     ]
    },
    {
     "name": "stdout",
     "output_type": "stream",
     "text": [
      "720\n",
      "640.0\n",
      "326.8110479209997\n",
      "1021.1589376459922\n",
      "673.984992783496\n",
      "-0.17963496185562147\n",
      "1506.8806048290967\n",
      "451.7593327444225\n",
      "-0.17963496185562147\n"
     ]
    },
    {
     "name": "stderr",
     "output_type": "stream",
     "text": [
      "\r",
      "t:  75%|█████████████████████████████████████████████████▌                | 945/1260 [07:13<02:06,  2.49it/s, now=None]"
     ]
    },
    {
     "name": "stdout",
     "output_type": "stream",
     "text": [
      "720\n",
      "640.0\n",
      "325.6473106748672\n",
      "1004.8721716150925\n",
      "665.2597411449799\n",
      "-0.13351577462346517\n",
      "1320.4042165999613\n",
      "1777.9311365382193\n",
      "-0.13351577462346517\n"
     ]
    },
    {
     "name": "stderr",
     "output_type": "stream",
     "text": [
      "\r",
      "t:  75%|█████████████████████████████████████████████████▌                | 946/1260 [07:14<02:14,  2.34it/s, now=None]"
     ]
    },
    {
     "name": "stdout",
     "output_type": "stream",
     "text": [
      "720\n",
      "640.0\n",
      "327.8347760340166\n",
      "1008.9012696205915\n",
      "668.368022827304\n",
      "-0.14994526351574974\n",
      "1140.202233407919\n",
      "1364.1460416603115\n",
      "-0.14994526351574974\n"
     ]
    },
    {
     "name": "stderr",
     "output_type": "stream",
     "text": [
      "\r",
      "t:  75%|█████████████████████████████████████████████████▌                | 947/1260 [07:14<02:22,  2.20it/s, now=None]"
     ]
    },
    {
     "name": "stdout",
     "output_type": "stream",
     "text": [
      "720\n",
      "640.0\n",
      "327.74632177292295\n",
      "1011.1572799542374\n",
      "669.4518008635802\n",
      "-0.155673804564638\n",
      "1115.0433671071037\n",
      "1099.4072893478487\n",
      "-0.155673804564638\n"
     ]
    },
    {
     "name": "stderr",
     "output_type": "stream",
     "text": [
      "\r",
      "t:  75%|█████████████████████████████████████████████████▋                | 948/1260 [07:15<02:24,  2.16it/s, now=None]"
     ]
    },
    {
     "name": "stdout",
     "output_type": "stream",
     "text": [
      "720\n",
      "640.0\n",
      "326.64115143781424\n",
      "1017.8052583066284\n",
      "672.2232048722213\n",
      "-0.17032265432459853\n",
      "1060.6470566994822\n",
      "832.1305991168525\n",
      "-0.17032265432459853\n"
     ]
    },
    {
     "name": "stderr",
     "output_type": "stream",
     "text": [
      "\r",
      "t:  75%|█████████████████████████████████████████████████▋                | 949/1260 [07:15<02:28,  2.10it/s, now=None]"
     ]
    },
    {
     "name": "stdout",
     "output_type": "stream",
     "text": [
      "720\n",
      "640.0\n",
      "325.04795161742544\n",
      "1013.4573079221253\n",
      "669.2526297697754\n",
      "-0.15462104306881258\n",
      "1217.0654698408591\n",
      "931.3098843655296\n",
      "-0.15462104306881258\n"
     ]
    },
    {
     "name": "stderr",
     "output_type": "stream",
     "text": [
      "\r",
      "t:  75%|█████████████████████████████████████████████████▊                | 950/1260 [07:16<02:23,  2.16it/s, now=None]"
     ]
    },
    {
     "name": "stdout",
     "output_type": "stream",
     "text": [
      "720\n",
      "640.0\n",
      "322.7743313367937\n",
      "1013.0606121194911\n",
      "667.9174717281423\n",
      "-0.1475637791344667\n",
      "1321.3365426784842\n",
      "920.4145500514583\n",
      "-0.1475637791344667\n"
     ]
    },
    {
     "name": "stderr",
     "output_type": "stream",
     "text": [
      "\r",
      "t:  75%|█████████████████████████████████████████████████▊                | 951/1260 [07:16<02:22,  2.17it/s, now=None]"
     ]
    },
    {
     "name": "stdout",
     "output_type": "stream",
     "text": [
      "720\n",
      "640.0\n",
      "321.33631887529197\n",
      "1012.6001390070268\n",
      "666.9682289411594\n",
      "-0.14254635297469967\n",
      "1336.571772546049\n",
      "964.6246252526195\n",
      "-0.14254635297469967\n"
     ]
    },
    {
     "name": "stderr",
     "output_type": "stream",
     "text": [
      "\r",
      "t:  76%|█████████████████████████████████████████████████▊                | 952/1260 [07:17<02:21,  2.18it/s, now=None]"
     ]
    },
    {
     "name": "stdout",
     "output_type": "stream",
     "text": [
      "720\n",
      "640.0\n",
      "319.6270976796957\n",
      "1012.0279966303996\n",
      "665.8275471550476\n",
      "-0.13651703496239428\n",
      "1412.3072871486556\n",
      "833.9086413463043\n",
      "-0.13651703496239428\n"
     ]
    },
    {
     "name": "stderr",
     "output_type": "stream",
     "text": [
      "\r",
      "t:  76%|█████████████████████████████████████████████████▉                | 953/1260 [07:17<02:17,  2.24it/s, now=None]"
     ]
    },
    {
     "name": "stdout",
     "output_type": "stream",
     "text": [
      "720\n",
      "640.0\n",
      "316.90528774373706\n",
      "1017.7341043053115\n",
      "667.3196960245243\n",
      "-0.1444041075582\n",
      "1641.8907630805595\n",
      "749.1554250117397\n",
      "-0.1444041075582\n"
     ]
    },
    {
     "name": "stderr",
     "output_type": "stream",
     "text": [
      "\r",
      "t:  76%|█████████████████████████████████████████████████▉                | 954/1260 [07:17<02:23,  2.13it/s, now=None]"
     ]
    },
    {
     "name": "stdout",
     "output_type": "stream",
     "text": [
      "720\n",
      "640.0\n",
      "316.3333202012091\n",
      "1056.2352480556822\n",
      "686.2842841284456\n",
      "-0.244645501821784\n",
      "1840.2172936855338\n",
      "357.3603705444516\n",
      "-0.244645501821784\n"
     ]
    },
    {
     "name": "stderr",
     "output_type": "stream",
     "text": [
      "\r",
      "t:  76%|██████████████████████████████████████████████████                | 955/1260 [07:18<02:26,  2.08it/s, now=None]"
     ]
    },
    {
     "name": "stdout",
     "output_type": "stream",
     "text": [
      "720\n",
      "640.0\n",
      "315.77929504339636\n",
      "1038.625519004088\n",
      "677.2024070237421\n",
      "-0.19664129426835125\n",
      "1934.7851769400213\n",
      "561.1229490412344\n",
      "-0.19664129426835125\n"
     ]
    },
    {
     "name": "stderr",
     "output_type": "stream",
     "text": [
      "\r",
      "t:  76%|██████████████████████████████████████████████████                | 956/1260 [07:19<02:29,  2.04it/s, now=None]"
     ]
    },
    {
     "name": "stdout",
     "output_type": "stream",
     "text": [
      "720\n",
      "640.0\n",
      "316.1096915235349\n",
      "1036.7523587241715\n",
      "676.4310251238531\n",
      "-0.19256398994036664\n",
      "1998.7415850686314\n",
      "591.16618989506\n",
      "-0.19256398994036664\n"
     ]
    },
    {
     "name": "stderr",
     "output_type": "stream",
     "text": [
      "\r",
      "t:  76%|██████████████████████████████████████████████████▏               | 957/1260 [07:19<02:24,  2.09it/s, now=None]"
     ]
    },
    {
     "name": "stdout",
     "output_type": "stream",
     "text": [
      "720\n",
      "640.0\n",
      "319.0608645059773\n",
      "1032.9553732164345\n",
      "676.008118861206\n",
      "-0.19032862826637437\n",
      "1751.459336872815\n",
      "1041.3769329604402\n",
      "-0.19032862826637437\n"
     ]
    },
    {
     "name": "stderr",
     "output_type": "stream",
     "text": [
      "\r",
      "t:  76%|██████████████████████████████████████████████████▏               | 958/1260 [07:19<02:23,  2.11it/s, now=None]"
     ]
    },
    {
     "name": "stdout",
     "output_type": "stream",
     "text": [
      "720\n",
      "640.0\n",
      "320.1666229468137\n",
      "1024.9878384651054\n",
      "672.5772307059596\n",
      "-0.1721939337315005\n",
      "1688.2111404058771\n",
      "1442.355769944679\n",
      "-0.1721939337315005\n"
     ]
    },
    {
     "name": "stderr",
     "output_type": "stream",
     "text": [
      "\r",
      "t:  76%|██████████████████████████████████████████████████▏               | 959/1260 [07:20<02:24,  2.08it/s, now=None]"
     ]
    },
    {
     "name": "stdout",
     "output_type": "stream",
     "text": [
      "720\n",
      "640.0\n",
      "321.8028013518806\n",
      "1012.1000772409914\n",
      "666.951439296436\n",
      "-0.14245760770973304\n",
      "1735.64835364953\n",
      "4951.251344932806\n",
      "-0.14245760770973304\n"
     ]
    },
    {
     "name": "stderr",
     "output_type": "stream",
     "text": [
      "\r",
      "t:  76%|██████████████████████████████████████████████████▎               | 960/1260 [07:20<02:27,  2.04it/s, now=None]"
     ]
    },
    {
     "name": "stdout",
     "output_type": "stream",
     "text": [
      "720\n",
      "640.0\n",
      "325.4798762251021\n",
      "1023.4310526015865\n",
      "674.4554644133443\n",
      "-0.18212174047053425\n",
      "1519.0565741895841\n",
      "1380.2376546432051\n",
      "-0.18212174047053425\n"
     ]
    },
    {
     "name": "stderr",
     "output_type": "stream",
     "text": [
      "\r",
      "t:  76%|██████████████████████████████████████████████████▎               | 961/1260 [07:21<02:24,  2.07it/s, now=None]"
     ]
    },
    {
     "name": "stdout",
     "output_type": "stream",
     "text": [
      "720\n",
      "640.0\n",
      "324.80500436390037\n",
      "1020.5985564990739\n",
      "672.7017804314871\n",
      "-0.17285226799500336\n",
      "1950.420647074858\n",
      "1498.7742000288113\n",
      "-0.17285226799500336\n"
     ]
    },
    {
     "name": "stderr",
     "output_type": "stream",
     "text": [
      "\r",
      "t:  76%|██████████████████████████████████████████████████▍               | 962/1260 [07:21<02:28,  2.00it/s, now=None]"
     ]
    },
    {
     "name": "stdout",
     "output_type": "stream",
     "text": [
      "720\n",
      "640.0\n",
      "328.2984978528435\n",
      "1023.8365331138793\n",
      "676.0675154833614\n",
      "-0.19064258184062444\n",
      "1714.5140657317697\n",
      "1591.203072195814\n",
      "-0.19064258184062444\n"
     ]
    },
    {
     "name": "stderr",
     "output_type": "stream",
     "text": [
      "\r",
      "t:  76%|██████████████████████████████████████████████████▍               | 963/1260 [07:22<02:26,  2.02it/s, now=None]"
     ]
    },
    {
     "name": "stdout",
     "output_type": "stream",
     "text": [
      "720\n",
      "640.0\n",
      "329.69426572792395\n",
      "1024.7780477709666\n",
      "677.2361567494453\n",
      "-0.19681968567563937\n",
      "1912.2002749946287\n",
      "1892.0607574304381\n",
      "-0.19681968567563937\n"
     ]
    },
    {
     "name": "stderr",
     "output_type": "stream",
     "text": [
      "\r",
      "t:  77%|██████████████████████████████████████████████████▍               | 964/1260 [07:22<02:23,  2.07it/s, now=None]"
     ]
    },
    {
     "name": "stdout",
     "output_type": "stream",
     "text": [
      "720\n",
      "640.0\n",
      "330.7776121250705\n",
      "1030.7630601599851\n",
      "680.7703361425279\n",
      "-0.21550034818193303\n",
      "2011.3413089203414\n",
      "1077.917559097408\n",
      "-0.21550034818193303\n"
     ]
    },
    {
     "name": "stderr",
     "output_type": "stream",
     "text": [
      "\r",
      "t:  77%|██████████████████████████████████████████████████▌               | 965/1260 [07:23<02:28,  1.99it/s, now=None]"
     ]
    },
    {
     "name": "stdout",
     "output_type": "stream",
     "text": [
      "720\n",
      "640.0\n",
      "332.75223206854406\n",
      "1029.2117508966917\n",
      "680.9819914826179\n",
      "-0.2166190978366946\n",
      "2199.2382444347973\n",
      "1689.4419334103538\n",
      "-0.2166190978366946\n"
     ]
    },
    {
     "name": "stderr",
     "output_type": "stream",
     "text": [
      "\r",
      "t:  77%|██████████████████████████████████████████████████▌               | 966/1260 [07:24<02:39,  1.84it/s, now=None]"
     ]
    },
    {
     "name": "stdout",
     "output_type": "stream",
     "text": [
      "720\n",
      "640.0\n",
      "334.5428552086108\n",
      "1050.6136653186115\n",
      "692.5782602636111\n",
      "-0.2779136613933731\n",
      "1983.4847741074134\n",
      "484.713972756309\n",
      "-0.2779136613933731\n"
     ]
    },
    {
     "name": "stderr",
     "output_type": "stream",
     "text": [
      "\r",
      "t:  77%|██████████████████████████████████████████████████▋               | 967/1260 [07:24<02:32,  1.92it/s, now=None]"
     ]
    },
    {
     "name": "stdout",
     "output_type": "stream",
     "text": [
      "720\n",
      "640.0\n",
      "334.66081613074476\n",
      "1063.7179467737678\n",
      "699.1893814522563\n",
      "-0.31285815910478315\n",
      "2946.4101770791667\n",
      "499.80933337265407\n",
      "-0.31285815910478315\n"
     ]
    },
    {
     "name": "stderr",
     "output_type": "stream",
     "text": [
      "\r",
      "t:  77%|██████████████████████████████████████████████████▋               | 968/1260 [07:25<02:32,  1.91it/s, now=None]"
     ]
    },
    {
     "name": "stdout",
     "output_type": "stream",
     "text": [
      "720\n",
      "640.0\n",
      "338.3003645842293\n",
      "1054.7806323335767\n",
      "696.540498458903\n",
      "-0.2988569204256302\n",
      "2125.071132478427\n",
      "1078.1913057319452\n",
      "-0.2988569204256302\n"
     ]
    },
    {
     "name": "stderr",
     "output_type": "stream",
     "text": [
      "\r",
      "t:  77%|██████████████████████████████████████████████████▊               | 969/1260 [07:25<02:27,  1.97it/s, now=None]"
     ]
    },
    {
     "name": "stdout",
     "output_type": "stream",
     "text": [
      "720\n",
      "640.0\n",
      "342.9273996508303\n",
      "1050.2847784285732\n",
      "696.6060890397017\n",
      "-0.29920361349556623\n",
      "1740.4186266212287\n",
      "1037.6808114654357\n",
      "-0.29920361349556623\n"
     ]
    },
    {
     "name": "stderr",
     "output_type": "stream",
     "text": [
      "\r",
      "t:  77%|██████████████████████████████████████████████████▊               | 970/1260 [07:26<02:28,  1.95it/s, now=None]"
     ]
    },
    {
     "name": "stdout",
     "output_type": "stream",
     "text": [
      "720\n",
      "640.0\n",
      "339.1793938117784\n",
      "1053.0954519094678\n",
      "696.1374228606231\n",
      "-0.29672637797757945\n",
      "3410.447132536699\n",
      "886.339003356408\n",
      "-0.29672637797757945\n"
     ]
    },
    {
     "name": "stderr",
     "output_type": "stream",
     "text": [
      "\r",
      "t:  77%|██████████████████████████████████████████████████▊               | 971/1260 [07:26<02:30,  1.92it/s, now=None]"
     ]
    },
    {
     "name": "stdout",
     "output_type": "stream",
     "text": [
      "720\n",
      "640.0\n",
      "342.83030242371234\n",
      "1065.0874657049671\n",
      "703.9588840643397\n",
      "-0.3380683871972242\n",
      "1782.505777963173\n",
      "578.6258023647534\n",
      "-0.3380683871972242\n"
     ]
    },
    {
     "name": "stderr",
     "output_type": "stream",
     "text": [
      "\r",
      "t:  77%|██████████████████████████████████████████████████▉               | 972/1260 [07:27<02:27,  1.95it/s, now=None]"
     ]
    },
    {
     "name": "stdout",
     "output_type": "stream",
     "text": [
      "720\n",
      "640.0\n",
      "341.4434529972608\n",
      "1056.9461198196177\n",
      "699.1947864084393\n",
      "-0.3128867281588935\n",
      "2468.59288311789\n",
      "741.9917717061631\n",
      "-0.3128867281588935\n"
     ]
    },
    {
     "name": "stderr",
     "output_type": "stream",
     "text": [
      "\r",
      "t:  77%|██████████████████████████████████████████████████▉               | 973/1260 [07:27<02:24,  1.99it/s, now=None]"
     ]
    },
    {
     "name": "stdout",
     "output_type": "stream",
     "text": [
      "720\n",
      "640.0\n",
      "342.51143379302925\n",
      "1054.6529055734493\n",
      "698.5821696832393\n",
      "-0.30964861118283615\n",
      "2265.1438319034523\n",
      "662.6531769774343\n",
      "-0.30964861118283615\n"
     ]
    },
    {
     "name": "stderr",
     "output_type": "stream",
     "text": [
      "\r",
      "t:  77%|███████████████████████████████████████████████████               | 974/1260 [07:28<02:21,  2.01it/s, now=None]"
     ]
    },
    {
     "name": "stdout",
     "output_type": "stream",
     "text": [
      "720\n",
      "640.0\n",
      "345.1888245179611\n",
      "1046.528872788725\n",
      "695.8588486533431\n",
      "-0.29525391431052783\n",
      "1798.9779473739886\n",
      "831.4534646846299\n",
      "-0.29525391431052783\n"
     ]
    },
    {
     "name": "stderr",
     "output_type": "stream",
     "text": [
      "\r",
      "t:  77%|███████████████████████████████████████████████████               | 975/1260 [07:28<02:23,  1.98it/s, now=None]"
     ]
    },
    {
     "name": "stdout",
     "output_type": "stream",
     "text": [
      "720\n",
      "640.0\n",
      "341.2073418501368\n",
      "1046.1682350267863\n",
      "693.6877884384616\n",
      "-0.2837783103175825\n",
      "3519.175133635255\n",
      "941.4370229775869\n",
      "-0.2837783103175825\n"
     ]
    },
    {
     "name": "stderr",
     "output_type": "stream",
     "text": [
      "\r",
      "t:  77%|███████████████████████████████████████████████████               | 976/1260 [07:29<02:20,  2.02it/s, now=None]"
     ]
    },
    {
     "name": "stdout",
     "output_type": "stream",
     "text": [
      "720\n",
      "640.0\n",
      "345.1854840622509\n",
      "1045.759406214129\n",
      "695.47244513819\n",
      "-0.29321149573043276\n",
      "2691.194932518664\n",
      "740.159824126456\n",
      "-0.29321149573043276\n"
     ]
    },
    {
     "name": "stderr",
     "output_type": "stream",
     "text": [
      "\r",
      "t:  78%|███████████████████████████████████████████████████▏              | 977/1260 [07:29<02:16,  2.07it/s, now=None]"
     ]
    },
    {
     "name": "stdout",
     "output_type": "stream",
     "text": [
      "720\n",
      "640.0\n",
      "345.1493091139241\n",
      "1056.6604113719372\n",
      "700.9048602429307\n",
      "-0.32192568985549075\n",
      "3281.5304964257066\n",
      "448.89245941585176\n",
      "-0.32192568985549075\n"
     ]
    },
    {
     "name": "stderr",
     "output_type": "stream",
     "text": [
      "\r",
      "t:  78%|███████████████████████████████████████████████████▏              | 978/1260 [07:29<02:14,  2.09it/s, now=None]"
     ]
    },
    {
     "name": "stdout",
     "output_type": "stream",
     "text": [
      "720\n",
      "640.0\n",
      "349.15131399089046\n",
      "1082.0068760993772\n",
      "715.5790950451338\n",
      "-0.3994895023814217\n",
      "2726.9546080756336\n",
      "324.0020083822701\n",
      "-0.3994895023814217\n"
     ]
    },
    {
     "name": "stderr",
     "output_type": "stream",
     "text": [
      "\r",
      "t:  78%|███████████████████████████████████████████████████▎              | 979/1260 [07:30<02:15,  2.08it/s, now=None]"
     ]
    },
    {
     "name": "stdout",
     "output_type": "stream",
     "text": [
      "720\n",
      "640.0\n",
      "350.3895768445482\n",
      "1079.5916529723534\n",
      "714.9906149084508\n",
      "-0.39637896451609694\n",
      "3811.560907182424\n",
      "303.76034880741383\n",
      "-0.39637896451609694\n"
     ]
    },
    {
     "name": "stderr",
     "output_type": "stream",
     "text": [
      "\r",
      "t:  78%|███████████████████████████████████████████████████▎              | 980/1260 [07:30<02:17,  2.03it/s, now=None]"
     ]
    },
    {
     "name": "stdout",
     "output_type": "stream",
     "text": [
      "720\n",
      "640.0\n",
      "352.6540117377177\n",
      "1063.6825019771156\n",
      "708.1682568574167\n",
      "-0.3603179291034885\n",
      "2723.885999910931\n",
      "1054.7120639725883\n",
      "-0.3603179291034885\n"
     ]
    },
    {
     "name": "stderr",
     "output_type": "stream",
     "text": [
      "\r",
      "t:  78%|███████████████████████████████████████████████████▍              | 981/1260 [07:31<02:20,  1.99it/s, now=None]"
     ]
    },
    {
     "name": "stdout",
     "output_type": "stream",
     "text": [
      "720\n",
      "640.0\n",
      "362.8020800773065\n",
      "1065.6052259013436\n",
      "714.2036529893251\n",
      "-0.3922193086578611\n",
      "1005.5281948417328\n",
      "885.8768499321384\n",
      "-0.3922193086578611\n"
     ]
    },
    {
     "name": "stderr",
     "output_type": "stream",
     "text": [
      "\r",
      "t:  78%|███████████████████████████████████████████████████▍              | 982/1260 [07:31<02:18,  2.01it/s, now=None]"
     ]
    },
    {
     "name": "stdout",
     "output_type": "stream",
     "text": [
      "720\n",
      "640.0\n",
      "360.33013795757\n",
      "1044.8148210118381\n",
      "702.5724794847041\n",
      "-0.33074024870486457\n",
      "1327.1672241077633\n",
      "2584.1337284896535\n",
      "-0.33074024870486457\n"
     ]
    },
    {
     "name": "stderr",
     "output_type": "stream",
     "text": [
      "\r",
      "t:  78%|███████████████████████████████████████████████████▍              | 983/1260 [07:32<02:19,  1.98it/s, now=None]"
     ]
    },
    {
     "name": "stdout",
     "output_type": "stream",
     "text": [
      "720\n",
      "640.0\n",
      "356.95330017945446\n",
      "1039.7108500414631\n",
      "698.3320751104588\n",
      "-0.30832668272671104\n",
      "2318.501597235891\n",
      "18280.07124415935\n",
      "-0.30832668272671104\n"
     ]
    },
    {
     "name": "stderr",
     "output_type": "stream",
     "text": [
      "\r",
      "t:  78%|███████████████████████████████████████████████████▌              | 984/1260 [07:33<02:19,  1.97it/s, now=None]"
     ]
    },
    {
     "name": "stdout",
     "output_type": "stream",
     "text": [
      "720\n",
      "640.0\n",
      "374.9099270846201\n",
      "1027.7746447141583\n",
      "701.3422858993893\n",
      "-0.3242377968967718\n",
      "486.0587238873822\n",
      "1178.3081371715139\n",
      "-0.3242377968967718\n"
     ]
    },
    {
     "name": "stderr",
     "output_type": "stream",
     "text": [
      "\r",
      "t:  78%|███████████████████████████████████████████████████▌              | 985/1260 [07:33<02:17,  2.00it/s, now=None]"
     ]
    },
    {
     "name": "stdout",
     "output_type": "stream",
     "text": [
      "720\n",
      "640.0\n",
      "363.85799297255465\n",
      "1033.7762757752157\n",
      "698.8171343738852\n",
      "-0.31089056740482185\n",
      "957.7587220526893\n",
      "1477.0491769475261\n",
      "-0.31089056740482185\n"
     ]
    },
    {
     "name": "stderr",
     "output_type": "stream",
     "text": [
      "\r",
      "t:  78%|███████████████████████████████████████████████████▋              | 986/1260 [07:33<02:15,  2.02it/s, now=None]"
     ]
    },
    {
     "name": "stdout",
     "output_type": "stream",
     "text": [
      "720\n",
      "640.0\n",
      "368.09407917748905\n",
      "1028.8552875612\n",
      "698.4746833693445\n",
      "-0.3090804692379636\n",
      "635.821132646012\n",
      "628.7189946527067\n",
      "-0.3090804692379636\n"
     ]
    },
    {
     "name": "stderr",
     "output_type": "stream",
     "text": [
      "\r",
      "t:  78%|███████████████████████████████████████████████████▋              | 987/1260 [07:34<02:16,  2.00it/s, now=None]"
     ]
    },
    {
     "name": "stdout",
     "output_type": "stream",
     "text": [
      "720\n",
      "640.0\n",
      "365.22442460168986\n",
      "1042.6034796888025\n",
      "703.9139521452462\n",
      "-0.337830889910587\n",
      "679.5410673326118\n",
      "4143.90874781471\n",
      "-0.337830889910587\n"
     ]
    },
    {
     "name": "stderr",
     "output_type": "stream",
     "text": [
      "\r",
      "t:  78%|███████████████████████████████████████████████████▊              | 988/1260 [07:34<02:15,  2.01it/s, now=None]"
     ]
    },
    {
     "name": "stdout",
     "output_type": "stream",
     "text": [
      "720\n",
      "640.0\n",
      "361.0758657659219\n",
      "1028.5237722564798\n",
      "694.7998190112008\n",
      "-0.28965618620206157\n",
      "965.3413402051614\n",
      "385.2802955991947\n",
      "-0.28965618620206157\n"
     ]
    },
    {
     "name": "stderr",
     "output_type": "stream",
     "text": [
      "\r",
      "t:  78%|███████████████████████████████████████████████████▊              | 989/1260 [07:35<02:11,  2.06it/s, now=None]"
     ]
    },
    {
     "name": "stdout",
     "output_type": "stream",
     "text": [
      "720\n",
      "640.0\n",
      "379.04301675187605\n",
      "694.5072895887043\n",
      "536.7751531702902\n",
      "0.5456170475284662\n",
      "175.320033689552\n",
      "3384.4554558113064\n",
      "0.5456170475284662\n"
     ]
    },
    {
     "name": "stderr",
     "output_type": "stream",
     "text": [
      "\r",
      "t:  79%|███████████████████████████████████████████████████▊              | 990/1260 [07:35<02:13,  2.02it/s, now=None]"
     ]
    },
    {
     "name": "stdout",
     "output_type": "stream",
     "text": [
      "720\n",
      "640.0\n",
      "369.63494307426294\n",
      "987.332152022353\n",
      "678.4835475483079\n",
      "-0.20341303704105612\n",
      "208.16977714707298\n",
      "161.07498523680843\n",
      "-0.20341303704105612\n"
     ]
    },
    {
     "name": "stderr",
     "output_type": "stream",
     "text": [
      "\r",
      "t:  79%|███████████████████████████████████████████████████▉              | 991/1260 [07:36<02:07,  2.11it/s, now=None]"
     ]
    },
    {
     "name": "stdout",
     "output_type": "stream",
     "text": [
      "720\n",
      "640.0\n",
      "356.6975202566872\n",
      "1012.6584744855812\n",
      "684.6779973711342\n",
      "-0.2361551289617094\n",
      "253.06953670344575\n",
      "152.1721034291223\n",
      "-0.2361551289617094\n"
     ]
    },
    {
     "name": "stderr",
     "output_type": "stream",
     "text": [
      "\r",
      "t:  79%|███████████████████████████████████████████████████▉              | 992/1260 [07:36<02:06,  2.12it/s, now=None]"
     ]
    },
    {
     "name": "stdout",
     "output_type": "stream",
     "text": [
      "720\n",
      "640.0\n",
      "341.13095593956285\n",
      "1037.8802164128733\n",
      "689.5055861762181\n",
      "-0.26167238407429577\n",
      "1175.2042222539994\n",
      "194.9687185615986\n",
      "-0.26167238407429577\n"
     ]
    },
    {
     "name": "stderr",
     "output_type": "stream",
     "text": [
      "\r",
      "t:  79%|████████████████████████████████████████████████████              | 993/1260 [07:37<02:03,  2.16it/s, now=None]"
     ]
    },
    {
     "name": "stdout",
     "output_type": "stream",
     "text": [
      "720\n",
      "640.0\n",
      "351.6056611981528\n",
      "1107.8485020478117\n",
      "729.7270816229823\n",
      "-0.4742717171500492\n",
      "189.68411589019516\n",
      "634.3503729643533\n",
      "-0.4742717171500492\n"
     ]
    },
    {
     "name": "stderr",
     "output_type": "stream",
     "text": [
      "\r",
      "t:  79%|████████████████████████████████████████████████████              | 994/1260 [07:37<02:02,  2.16it/s, now=None]"
     ]
    },
    {
     "name": "stdout",
     "output_type": "stream",
     "text": [
      "720\n",
      "640.0\n",
      "336.11742215802985\n",
      "1021.143180145696\n",
      "678.6303011518629\n",
      "-0.20418873465984683\n",
      "2179.203473074327\n",
      "146.16598937174314\n",
      "-0.20418873465984683\n"
     ]
    },
    {
     "name": "stderr",
     "output_type": "stream",
     "text": [
      "\r",
      "t:  79%|████████████████████████████████████████████████████              | 995/1260 [07:38<02:01,  2.17it/s, now=None]"
     ]
    },
    {
     "name": "stdout",
     "output_type": "stream",
     "text": [
      "720\n",
      "640.0\n",
      "329.8962523223139\n",
      "1121.042966613231\n",
      "725.4696094677724\n",
      "-0.45176793575822577\n",
      "226.50743998904986\n",
      "232.07399729362928\n",
      "-0.45176793575822577\n"
     ]
    },
    {
     "name": "stderr",
     "output_type": "stream",
     "text": [
      "\r",
      "t:  79%|████████████████████████████████████████████████████▏             | 996/1260 [07:38<02:02,  2.16it/s, now=None]"
     ]
    },
    {
     "name": "stdout",
     "output_type": "stream",
     "text": [
      "720\n",
      "640.0\n",
      "324.509486407772\n",
      "1095.991082156437\n",
      "710.2502842821045\n",
      "-0.37132293120540966\n",
      "178.45955953046285\n",
      "225.560119702758\n",
      "-0.37132293120540966\n"
     ]
    },
    {
     "name": "stderr",
     "output_type": "stream",
     "text": [
      "\r",
      "t:  79%|████████████████████████████████████████████████████▏             | 997/1260 [07:39<02:01,  2.16it/s, now=None]"
     ]
    },
    {
     "name": "stdout",
     "output_type": "stream",
     "text": [
      "720\n",
      "640.0\n",
      "341.12518738716057\n",
      "1071.015040801308\n",
      "706.0701140942343\n",
      "-0.34922774592666717\n",
      "947.110928411165\n",
      "243.61388441961532\n",
      "-0.34922774592666717\n"
     ]
    },
    {
     "name": "stderr",
     "output_type": "stream",
     "text": [
      "\r",
      "t:  79%|████████████████████████████████████████████████████▎             | 998/1260 [07:39<02:02,  2.15it/s, now=None]"
     ]
    },
    {
     "name": "stdout",
     "output_type": "stream",
     "text": [
      "720\n",
      "640.0\n",
      "40.50852535975824\n",
      "1050.2642757013805\n",
      "545.3864005305694\n",
      "0.5001004543384189\n",
      "620.3128803951325\n",
      "297.1950929523035\n",
      "0.5001004543384189\n"
     ]
    },
    {
     "name": "stderr",
     "output_type": "stream",
     "text": [
      "\r",
      "t:  79%|████████████████████████████████████████████████████▎             | 999/1260 [07:40<02:00,  2.17it/s, now=None]"
     ]
    },
    {
     "name": "stdout",
     "output_type": "stream",
     "text": [
      "720\n",
      "640.0\n",
      "46.738078765884126\n",
      "1031.1791305522788\n",
      "538.9586046590815\n",
      "0.5340759468019978\n",
      "516.154763203808\n",
      "307.4926634681411\n",
      "0.5340759468019978\n"
     ]
    },
    {
     "name": "stderr",
     "output_type": "stream",
     "text": [
      "\r",
      "t:  79%|███████████████████████████████████████████████████▌             | 1000/1260 [07:40<02:00,  2.16it/s, now=None]"
     ]
    },
    {
     "name": "stdout",
     "output_type": "stream",
     "text": [
      "720\n",
      "640.0\n",
      "322.4719261750492\n",
      "1020.1187267064837\n",
      "671.2953264407664\n",
      "-0.16541815404405105\n",
      "230.1500309670599\n",
      "375.71036041374737\n",
      "-0.16541815404405105\n"
     ]
    },
    {
     "name": "stderr",
     "output_type": "stream",
     "text": [
      "\r",
      "t:  79%|███████████████████████████████████████████████████▋             | 1001/1260 [07:41<02:04,  2.07it/s, now=None]"
     ]
    },
    {
     "name": "stdout",
     "output_type": "stream",
     "text": [
      "720\n",
      "640.0\n",
      "333.6783204350367\n",
      "1004.727320152543\n",
      "669.2028202937898\n",
      "-0.15435776441003202\n",
      "180.99055452634306\n",
      "364.50251007113025\n",
      "-0.15435776441003202\n"
     ]
    },
    {
     "name": "stderr",
     "output_type": "stream",
     "text": [
      "\r",
      "t:  80%|███████████████████████████████████████████████████▋             | 1002/1260 [07:41<02:03,  2.08it/s, now=None]"
     ]
    },
    {
     "name": "stdout",
     "output_type": "stream",
     "text": [
      "720\n",
      "640.0\n",
      "324.66499810025994\n",
      "883.8655257257573\n",
      "604.2652619130085\n",
      "0.18888361560266914\n",
      "150.92258555843043\n",
      "5861.605810396709\n",
      "0.18888361560266914\n"
     ]
    },
    {
     "name": "stderr",
     "output_type": "stream",
     "text": [
      "\r",
      "t:  80%|███████████████████████████████████████████████████▋             | 1003/1260 [07:42<02:04,  2.07it/s, now=None]"
     ]
    },
    {
     "name": "stdout",
     "output_type": "stream",
     "text": [
      "720\n",
      "640.0\n",
      "312.5167509329541\n",
      "912.2249067916525\n",
      "612.3708288623034\n",
      "0.1460399045849679\n",
      "122.08546376541811\n",
      "446.7481668971619\n",
      "0.1460399045849679\n"
     ]
    },
    {
     "name": "stderr",
     "output_type": "stream",
     "text": [
      "\r",
      "t:  80%|███████████████████████████████████████████████████▊             | 1004/1260 [07:42<02:02,  2.08it/s, now=None]"
     ]
    },
    {
     "name": "stdout",
     "output_type": "stream",
     "text": [
      "720\n",
      "640.0\n",
      "292.0213245287621\n",
      "1040.8205487196672\n",
      "666.4209366242146\n",
      "-0.139653522156563\n",
      "1879.8496231131007\n",
      "879.7415225898256\n",
      "-0.139653522156563\n"
     ]
    },
    {
     "name": "stderr",
     "output_type": "stream",
     "text": [
      "\r",
      "t:  80%|███████████████████████████████████████████████████▊             | 1005/1260 [07:43<02:08,  1.99it/s, now=None]"
     ]
    },
    {
     "name": "stdout",
     "output_type": "stream",
     "text": [
      "720\n",
      "640.0\n",
      "291.7384217109715\n",
      "1062.5448404843464\n",
      "677.141631097659\n",
      "-0.19632005008762615\n",
      "1307.8430588139515\n",
      "798.644961958104\n",
      "-0.19632005008762615\n"
     ]
    },
    {
     "name": "stderr",
     "output_type": "stream",
     "text": [
      "\r",
      "t:  80%|███████████████████████████████████████████████████▉             | 1006/1260 [07:43<02:07,  1.98it/s, now=None]"
     ]
    },
    {
     "name": "stdout",
     "output_type": "stream",
     "text": [
      "720\n",
      "640.0\n",
      "290.04722225843966\n",
      "1078.639614522126\n",
      "684.3434183902829\n",
      "-0.23438664006292373\n",
      "13037.639490436735\n",
      "756.7641973980315\n",
      "-0.23438664006292373\n"
     ]
    },
    {
     "name": "stderr",
     "output_type": "stream",
     "text": [
      "\r",
      "t:  80%|███████████████████████████████████████████████████▉             | 1007/1260 [07:44<02:05,  2.01it/s, now=None]"
     ]
    },
    {
     "name": "stdout",
     "output_type": "stream",
     "text": [
      "720\n",
      "640.0\n",
      "314.8814246005486\n",
      "1052.1391318110252\n",
      "683.5102782057869\n",
      "-0.22998289908773079\n",
      "636.1105927256478\n",
      "956.2713298620206\n",
      "-0.22998289908773079\n"
     ]
    },
    {
     "name": "stderr",
     "output_type": "stream",
     "text": [
      "\r",
      "t:  80%|████████████████████████████████████████████████████             | 1008/1260 [07:44<02:02,  2.06it/s, now=None]"
     ]
    },
    {
     "name": "stdout",
     "output_type": "stream",
     "text": [
      "720\n",
      "640.0\n",
      "287.19173681815596\n",
      "1009.3569725310944\n",
      "648.2743546746251\n",
      "-0.04373587470873268\n",
      "207.3638009998576\n",
      "3019.2478016985797\n",
      "-0.04373587470873268\n"
     ]
    },
    {
     "name": "stderr",
     "output_type": "stream",
     "text": [
      "\r",
      "t:  80%|████████████████████████████████████████████████████             | 1009/1260 [07:44<02:02,  2.05it/s, now=None]"
     ]
    },
    {
     "name": "stdout",
     "output_type": "stream",
     "text": [
      "720\n",
      "640.0\n",
      "53.67318872149389\n",
      "1028.1768460927558\n",
      "540.9250174071249\n",
      "0.5236820508480543\n",
      "480.0752172134924\n",
      "1221.159813109444\n",
      "0.5236820508480543\n"
     ]
    },
    {
     "name": "stderr",
     "output_type": "stream",
     "text": [
      "\r",
      "t:  80%|████████████████████████████████████████████████████             | 1010/1260 [07:45<02:00,  2.07it/s, now=None]"
     ]
    },
    {
     "name": "stdout",
     "output_type": "stream",
     "text": [
      "720\n",
      "640.0\n",
      "279.18009687185804\n",
      "1044.5091997352274\n",
      "661.8446483035427\n",
      "-0.11546456960444013\n",
      "8.925428786789615\n",
      "588.4874506638382\n",
      "-0.11546456960444013\n"
     ]
    },
    {
     "name": "stderr",
     "output_type": "stream",
     "text": [
      "\r",
      "t:  80%|████████████████████████████████████████████████████▏            | 1011/1260 [07:46<02:04,  2.00it/s, now=None]"
     ]
    },
    {
     "name": "stdout",
     "output_type": "stream",
     "text": [
      "720\n",
      "640.0\n",
      "247.3278367443054\n",
      "1036.8871813635326\n",
      "642.107509053919\n",
      "-0.011139690713571798\n",
      "5.155641469776227\n",
      "600.5428717717735\n",
      "-0.011139690713571798\n"
     ]
    },
    {
     "name": "stderr",
     "output_type": "stream",
     "text": [
      "\r",
      "t:  80%|████████████████████████████████████████████████████▏            | 1012/1260 [07:46<02:00,  2.05it/s, now=None]"
     ]
    },
    {
     "name": "stdout",
     "output_type": "stream",
     "text": [
      "720\n",
      "640.0\n",
      "280.7612087552694\n",
      "1026.935218642992\n",
      "653.8482136991306\n",
      "-0.07319770098111894\n",
      "279.5909179913079\n",
      "641.9085059343151\n",
      "-0.07319770098111894\n"
     ]
    },
    {
     "name": "stderr",
     "output_type": "stream",
     "text": [
      "\r",
      "t:  80%|████████████████████████████████████████████████████▎            | 1013/1260 [07:47<02:07,  1.94it/s, now=None]"
     ]
    },
    {
     "name": "stdout",
     "output_type": "stream",
     "text": [
      "720\n",
      "640.0\n",
      "289.3640500698591\n",
      "1023.2235951941141\n",
      "656.2938226319866\n",
      "-0.08612449105478624\n",
      "108.82299200448853\n",
      "767.0051513499504\n",
      "-0.08612449105478624\n"
     ]
    },
    {
     "name": "stderr",
     "output_type": "stream",
     "text": [
      "\r",
      "t:  80%|████████████████████████████████████████████████████▎            | 1014/1260 [07:47<02:01,  2.03it/s, now=None]"
     ]
    },
    {
     "name": "stdout",
     "output_type": "stream",
     "text": [
      "720\n",
      "640.0\n",
      "264.4978221990953\n",
      "1022.4775585971685\n",
      "643.4876903981319\n",
      "-0.018434934961554423\n",
      "503.4572689388399\n",
      "682.6574449985849\n",
      "-0.018434934961554423\n"
     ]
    },
    {
     "name": "stderr",
     "output_type": "stream",
     "text": [
      "\r",
      "t:  81%|████████████████████████████████████████████████████▎            | 1015/1260 [07:47<01:58,  2.06it/s, now=None]"
     ]
    },
    {
     "name": "stdout",
     "output_type": "stream",
     "text": [
      "720\n",
      "640.0\n",
      "263.4886973895673\n",
      "1021.6211067898173\n",
      "642.5549020896923\n",
      "-0.013504482474087824\n",
      "36.41021290354595\n",
      "826.0095146200812\n",
      "-0.013504482474087824\n"
     ]
    },
    {
     "name": "stderr",
     "output_type": "stream",
     "text": [
      "\r",
      "t:  81%|████████████████████████████████████████████████████▍            | 1016/1260 [07:48<01:57,  2.07it/s, now=None]"
     ]
    },
    {
     "name": "stdout",
     "output_type": "stream",
     "text": [
      "720\n",
      "640.0\n",
      "260.2526547910776\n",
      "1027.9156584601951\n",
      "644.0841566256363\n",
      "-0.021587685021220427\n",
      "581.9598442334491\n",
      "801.3084445482118\n",
      "-0.021587685021220427\n"
     ]
    },
    {
     "name": "stderr",
     "output_type": "stream",
     "text": [
      "\r",
      "t:  81%|████████████████████████████████████████████████████▍            | 1017/1260 [07:48<01:54,  2.13it/s, now=None]"
     ]
    },
    {
     "name": "stdout",
     "output_type": "stream",
     "text": [
      "720\n",
      "640.0\n",
      "288.1530536592095\n",
      "1031.6693234096463\n",
      "659.9111885344279\n",
      "-0.10524485368197593\n",
      "268.3762952298072\n",
      "641.0579296898425\n",
      "-0.10524485368197593\n"
     ]
    },
    {
     "name": "stderr",
     "output_type": "stream",
     "text": [
      "\r",
      "t:  81%|████████████████████████████████████████████████████▌            | 1018/1260 [07:49<01:52,  2.16it/s, now=None]"
     ]
    },
    {
     "name": "stdout",
     "output_type": "stream",
     "text": [
      "720\n",
      "640.0\n",
      "332.29525726242787\n",
      "1032.202864645701\n",
      "682.2490609540645\n",
      "-0.22331646504291225\n",
      "175.0589053534463\n",
      "541.4647182094737\n",
      "-0.22331646504291225\n"
     ]
    },
    {
     "name": "stderr",
     "output_type": "stream",
     "text": [
      "\r",
      "t:  81%|████████████████████████████████████████████████████▌            | 1019/1260 [07:49<01:52,  2.14it/s, now=None]"
     ]
    },
    {
     "name": "stdout",
     "output_type": "stream",
     "text": [
      "720\n",
      "640.0\n",
      "350.44646137742893\n",
      "1010.9724324695012\n",
      "680.7094469234651\n",
      "-0.21517850516688677\n",
      "36.53484976417966\n",
      "1290.593474420076\n",
      "-0.21517850516688677\n"
     ]
    },
    {
     "name": "stderr",
     "output_type": "stream",
     "text": [
      "\r",
      "t:  81%|████████████████████████████████████████████████████▌            | 1020/1260 [07:50<01:58,  2.02it/s, now=None]"
     ]
    },
    {
     "name": "stdout",
     "output_type": "stream",
     "text": [
      "720\n",
      "640.0\n",
      "290.22556317043745\n",
      "1015.9569306963583\n",
      "653.0912469333979\n",
      "-0.06919659093367453\n",
      "46.68025401562573\n",
      "1303.1637689628076\n",
      "-0.06919659093367453\n"
     ]
    },
    {
     "name": "stderr",
     "output_type": "stream",
     "text": [
      "\r",
      "t:  81%|████████████████████████████████████████████████████▋            | 1021/1260 [07:50<01:58,  2.02it/s, now=None]"
     ]
    },
    {
     "name": "stdout",
     "output_type": "stream",
     "text": [
      "720\n",
      "640.0\n",
      "303.67069985391913\n",
      "1031.2262334249403\n",
      "667.4484666394297\n",
      "-0.14508475223698578\n",
      "63.08427792977476\n",
      "683.7358507926357\n",
      "-0.14508475223698578\n"
     ]
    },
    {
     "name": "stderr",
     "output_type": "stream",
     "text": [
      "\r",
      "t:  81%|████████████████████████████████████████████████████▋            | 1022/1260 [07:51<01:56,  2.04it/s, now=None]"
     ]
    },
    {
     "name": "stdout",
     "output_type": "stream",
     "text": [
      "720\n",
      "640.0\n",
      "291.0852206625058\n",
      "1020.4102888207145\n",
      "655.7477547416102\n",
      "-0.08323813220565367\n",
      "3225.8513588329897\n",
      "812.3339263148085\n",
      "-0.08323813220565367\n"
     ]
    },
    {
     "name": "stderr",
     "output_type": "stream",
     "text": [
      "\r",
      "t:  81%|████████████████████████████████████████████████████▊            | 1023/1260 [07:51<01:55,  2.05it/s, now=None]"
     ]
    },
    {
     "name": "stdout",
     "output_type": "stream",
     "text": [
      "720\n",
      "640.0\n",
      "282.79605015488414\n",
      "1015.8382272570394\n",
      "649.3171387059617\n",
      "-0.04924773316008341\n",
      "674.6026739672061\n",
      "868.641639854445\n",
      "-0.04924773316008341\n"
     ]
    },
    {
     "name": "stderr",
     "output_type": "stream",
     "text": [
      "\r",
      "t:  81%|████████████████████████████████████████████████████▊            | 1024/1260 [07:52<01:58,  2.00it/s, now=None]"
     ]
    },
    {
     "name": "stdout",
     "output_type": "stream",
     "text": [
      "720\n",
      "640.0\n",
      "287.4938576346302\n",
      "1014.8172269268633\n",
      "651.1555422807468\n",
      "-0.05896500919823294\n",
      "1175.8126506002607\n",
      "856.2857677469881\n",
      "-0.05896500919823294\n"
     ]
    },
    {
     "name": "stderr",
     "output_type": "stream",
     "text": [
      "\r",
      "t:  81%|████████████████████████████████████████████████████▉            | 1025/1260 [07:52<01:59,  1.96it/s, now=None]"
     ]
    },
    {
     "name": "stdout",
     "output_type": "stream",
     "text": [
      "720\n",
      "640.0\n",
      "314.6365674712551\n",
      "1016.3897946045703\n",
      "665.5131810379127\n",
      "-0.13485538548610979\n",
      "3182.556424028376\n",
      "873.4368399264839\n",
      "-0.13485538548610979\n"
     ]
    },
    {
     "name": "stderr",
     "output_type": "stream",
     "text": [
      "\r",
      "t:  81%|████████████████████████████████████████████████████▉            | 1026/1260 [07:53<01:59,  1.95it/s, now=None]"
     ]
    },
    {
     "name": "stdout",
     "output_type": "stream",
     "text": [
      "720\n",
      "640.0\n",
      "289.2825241414583\n",
      "1020.2675257531648\n",
      "654.7750249473115\n",
      "-0.07809656043578947\n",
      "3513.1516209900774\n",
      "911.6118474472228\n",
      "-0.07809656043578947\n"
     ]
    },
    {
     "name": "stderr",
     "output_type": "stream",
     "text": [
      "\r",
      "t:  82%|████████████████████████████████████████████████████▉            | 1027/1260 [07:53<01:57,  1.99it/s, now=None]"
     ]
    },
    {
     "name": "stdout",
     "output_type": "stream",
     "text": [
      "720\n",
      "640.0\n",
      "296.6829823557646\n",
      "1018.3463693314438\n",
      "657.5146758436042\n",
      "-0.09257757231619368\n",
      "731.4957449326255\n",
      "1073.6858708205266\n",
      "-0.09257757231619368\n"
     ]
    },
    {
     "name": "stderr",
     "output_type": "stream",
     "text": [
      "\r",
      "t:  82%|█████████████████████████████████████████████████████            | 1028/1260 [07:54<01:56,  1.99it/s, now=None]"
     ]
    },
    {
     "name": "stdout",
     "output_type": "stream",
     "text": [
      "720\n",
      "640.0\n",
      "291.990168440718\n",
      "1033.475134921135\n",
      "662.7326516809264\n",
      "-0.12015830174203974\n",
      "1033.1334583169519\n",
      "550.8128348578445\n",
      "-0.12015830174203974\n"
     ]
    },
    {
     "name": "stderr",
     "output_type": "stream",
     "text": [
      "\r",
      "t:  82%|█████████████████████████████████████████████████████            | 1029/1260 [07:54<01:55,  2.00it/s, now=None]"
     ]
    },
    {
     "name": "stdout",
     "output_type": "stream",
     "text": [
      "720\n",
      "640.0\n",
      "303.89340892262425\n",
      "1017.1544790223963\n",
      "660.5239439725103\n",
      "-0.10848370385469742\n",
      "738.9588598325043\n",
      "3063.0043353150722\n",
      "-0.10848370385469742\n"
     ]
    },
    {
     "name": "stderr",
     "output_type": "stream",
     "text": [
      "\r",
      "t:  82%|█████████████████████████████████████████████████████▏           | 1030/1260 [07:55<01:56,  1.97it/s, now=None]"
     ]
    },
    {
     "name": "stdout",
     "output_type": "stream",
     "text": [
      "720\n",
      "640.0\n",
      "304.39745804371387\n",
      "1012.6853850140615\n",
      "658.5414215288877\n",
      "-0.09800465665269197\n",
      "798.6596115288459\n",
      "1845.7454497324825\n",
      "-0.09800465665269197\n"
     ]
    },
    {
     "name": "stderr",
     "output_type": "stream",
     "text": [
      "\r",
      "t:  82%|█████████████████████████████████████████████████████▏           | 1031/1260 [07:55<01:54,  2.00it/s, now=None]"
     ]
    },
    {
     "name": "stdout",
     "output_type": "stream",
     "text": [
      "720\n",
      "640.0\n",
      "298.1566271237898\n",
      "1003.279618095209\n",
      "650.7181226094995\n",
      "-0.05665293379306858\n",
      "783.9918626752094\n",
      "43952.35581274229\n",
      "-0.05665293379306858\n"
     ]
    },
    {
     "name": "stderr",
     "output_type": "stream",
     "text": [
      "\r",
      "t:  82%|█████████████████████████████████████████████████████▏           | 1032/1260 [07:56<01:51,  2.04it/s, now=None]"
     ]
    },
    {
     "name": "stdout",
     "output_type": "stream",
     "text": [
      "720\n",
      "640.0\n",
      "302.04750930628705\n",
      "1016.1729026429457\n",
      "659.1102059746164\n",
      "-0.10101108872297243\n",
      "665.295146613673\n",
      "1670.0042783472106\n",
      "-0.10101108872297243\n"
     ]
    },
    {
     "name": "stderr",
     "output_type": "stream",
     "text": [
      "\r",
      "t:  82%|█████████████████████████████████████████████████████▎           | 1033/1260 [07:56<01:52,  2.02it/s, now=None]"
     ]
    },
    {
     "name": "stdout",
     "output_type": "stream",
     "text": [
      "720\n",
      "640.0\n",
      "299.90214441987234\n",
      "1020.0087548098444\n",
      "659.9554496148584\n",
      "-0.10547880510710851\n",
      "563.8913928561346\n",
      "1182.0576800307329\n",
      "-0.10547880510710851\n"
     ]
    },
    {
     "name": "stderr",
     "output_type": "stream",
     "text": [
      "\r",
      "t:  82%|█████████████████████████████████████████████████████▎           | 1034/1260 [07:57<01:53,  1.99it/s, now=None]"
     ]
    },
    {
     "name": "stdout",
     "output_type": "stream",
     "text": [
      "720\n",
      "640.0\n",
      "257.16783826410534\n",
      "1020.980620971245\n",
      "639.0742296176752\n",
      "0.004893357735145368\n",
      "1215.762174443838\n",
      "1372.7786468608283\n",
      "0.004893357735145368\n"
     ]
    },
    {
     "name": "stderr",
     "output_type": "stream",
     "text": [
      "\r",
      "t:  82%|█████████████████████████████████████████████████████▍           | 1035/1260 [07:57<01:53,  1.99it/s, now=None]"
     ]
    },
    {
     "name": "stdout",
     "output_type": "stream",
     "text": [
      "720\n",
      "640.0\n",
      "271.8356300089564\n",
      "1006.6722308300357\n",
      "639.2539304194961\n",
      "0.003943510639806326\n",
      "925.0963723631676\n",
      "2518.028838460008\n",
      "0.003943510639806326\n"
     ]
    },
    {
     "name": "stderr",
     "output_type": "stream",
     "text": [
      "\r",
      "t:  82%|█████████████████████████████████████████████████████▍           | 1036/1260 [07:58<01:49,  2.04it/s, now=None]"
     ]
    },
    {
     "name": "stdout",
     "output_type": "stream",
     "text": [
      "720\n",
      "640.0\n",
      "264.5266764533279\n",
      "1018.3941918532302\n",
      "641.460434153279\n",
      "-0.007719437667332061\n",
      "1806.1366026738592\n",
      "948.6475819630658\n",
      "-0.007719437667332061\n"
     ]
    },
    {
     "name": "stderr",
     "output_type": "stream",
     "text": [
      "\r",
      "t:  82%|█████████████████████████████████████████████████████▍           | 1037/1260 [07:58<01:51,  2.01it/s, now=None]"
     ]
    },
    {
     "name": "stdout",
     "output_type": "stream",
     "text": [
      "720\n",
      "640.0\n",
      "270.9161758538414\n",
      "1013.3654325373652\n",
      "642.1408041956033\n",
      "-0.011315679319617565\n",
      "1551.4702219668955\n",
      "1937.710546282181\n",
      "-0.011315679319617565\n"
     ]
    },
    {
     "name": "stderr",
     "output_type": "stream",
     "text": [
      "\r",
      "t:  82%|█████████████████████████████████████████████████████▌           | 1038/1260 [07:59<01:47,  2.06it/s, now=None]"
     ]
    },
    {
     "name": "stdout",
     "output_type": "stream",
     "text": [
      "720\n",
      "640.0\n",
      "265.68201542621875\n",
      "997.088635232157\n",
      "631.3853253291879\n",
      "0.04553470897429234\n",
      "32333.22287805534\n",
      "4270.559520960845\n",
      "0.04553470897429234\n"
     ]
    },
    {
     "name": "stderr",
     "output_type": "stream",
     "text": [
      "\r",
      "t:  82%|█████████████████████████████████████████████████████▌           | 1039/1260 [07:59<01:46,  2.08it/s, now=None]"
     ]
    },
    {
     "name": "stdout",
     "output_type": "stream",
     "text": [
      "720\n",
      "640.0\n",
      "278.1592386008691\n",
      "973.049101023295\n",
      "625.6041698120821\n",
      "0.07609224527899466\n",
      "1687.5968391989952\n",
      "1135.7131932559034\n",
      "0.07609224527899466\n"
     ]
    },
    {
     "name": "stderr",
     "output_type": "stream",
     "text": [
      "\r",
      "t:  83%|█████████████████████████████████████████████████████▋           | 1040/1260 [08:00<01:45,  2.10it/s, now=None]"
     ]
    },
    {
     "name": "stdout",
     "output_type": "stream",
     "text": [
      "720\n",
      "640.0\n",
      "281.57381201576067\n",
      "1025.0640749372217\n",
      "653.3189434764912\n",
      "-0.07040012980431062\n",
      "1595.19311728508\n",
      "493.8769397758795\n",
      "-0.07040012980431062\n"
     ]
    },
    {
     "name": "stderr",
     "output_type": "stream",
     "text": [
      "\r",
      "t:  83%|█████████████████████████████████████████████████████▋           | 1041/1260 [08:00<01:42,  2.13it/s, now=None]"
     ]
    },
    {
     "name": "stdout",
     "output_type": "stream",
     "text": [
      "720\n",
      "640.0\n",
      "276.0360312334448\n",
      "1033.8351292009356\n",
      "654.9355802171902\n",
      "-0.07894520971943418\n",
      "4382.685071661339\n",
      "459.6827256699352\n",
      "-0.07894520971943418\n"
     ]
    },
    {
     "name": "stderr",
     "output_type": "stream",
     "text": [
      "\r",
      "t:  83%|█████████████████████████████████████████████████████▊           | 1042/1260 [08:01<01:42,  2.14it/s, now=None]"
     ]
    },
    {
     "name": "stdout",
     "output_type": "stream",
     "text": [
      "720\n",
      "640.0\n",
      "279.0746368691198\n",
      "971.3373812185549\n",
      "625.2060090438374\n",
      "0.07819680933971654\n",
      "2416.417093019247\n",
      "3413.524560862943\n",
      "0.07819680933971654\n"
     ]
    },
    {
     "name": "stderr",
     "output_type": "stream",
     "text": [
      "\r",
      "t:  83%|█████████████████████████████████████████████████████▊           | 1043/1260 [08:01<01:44,  2.08it/s, now=None]"
     ]
    },
    {
     "name": "stdout",
     "output_type": "stream",
     "text": [
      "720\n",
      "640.0\n",
      "283.3512621803941\n",
      "1022.5060852703153\n",
      "652.9286737253547\n",
      "-0.06833727540544604\n",
      "1315.106268683605\n",
      "407.2894932957677\n",
      "-0.06833727540544604\n"
     ]
    },
    {
     "name": "stderr",
     "output_type": "stream",
     "text": [
      "\r",
      "t:  83%|█████████████████████████████████████████████████████▊           | 1044/1260 [08:02<01:41,  2.13it/s, now=None]"
     ]
    },
    {
     "name": "stdout",
     "output_type": "stream",
     "text": [
      "720\n",
      "640.0\n",
      "284.9943423863499\n",
      "1014.7575506803737\n",
      "649.8759465333618\n",
      "-0.052201431676340934\n",
      "1185.0060287968615\n",
      "435.8065798708768\n",
      "-0.052201431676340934\n"
     ]
    },
    {
     "name": "stderr",
     "output_type": "stream",
     "text": [
      "\r",
      "t:  83%|█████████████████████████████████████████████████████▉           | 1045/1260 [08:02<01:43,  2.09it/s, now=None]"
     ]
    },
    {
     "name": "stdout",
     "output_type": "stream",
     "text": [
      "720\n",
      "640.0\n",
      "287.89225396522494\n",
      "984.371160494444\n",
      "636.1317072298344\n",
      "0.020446690356589428\n",
      "983.9100262435704\n",
      "1322.7507218774088\n",
      "0.020446690356589428\n"
     ]
    },
    {
     "name": "stderr",
     "output_type": "stream",
     "text": [
      "\r",
      "t:  83%|█████████████████████████████████████████████████████▉           | 1046/1260 [08:03<01:41,  2.11it/s, now=None]"
     ]
    },
    {
     "name": "stdout",
     "output_type": "stream",
     "text": [
      "720\n",
      "640.0\n",
      "288.75352960964295\n",
      "987.6981525052912\n",
      "638.225841057467\n",
      "0.009377697267674161\n",
      "977.3638911262368\n",
      "3080.357385142265\n",
      "0.009377697267674161\n"
     ]
    },
    {
     "name": "stderr",
     "output_type": "stream",
     "text": [
      "\r",
      "t:  83%|██████████████████████████████████████████████████████           | 1047/1260 [08:03<01:35,  2.22it/s, now=None]"
     ]
    },
    {
     "name": "stdout",
     "output_type": "stream",
     "text": [
      "720\n",
      "640.0\n",
      "285.3255741742257\n",
      "986.5873518205799\n",
      "635.9564629974028\n",
      "0.021372981299442293\n",
      "793.6285395861332\n",
      "926.9776147274754\n",
      "0.021372981299442293\n"
     ]
    },
    {
     "name": "stderr",
     "output_type": "stream",
     "text": [
      "\r",
      "t:  83%|██████████████████████████████████████████████████████           | 1048/1260 [08:03<01:32,  2.29it/s, now=None]"
     ]
    },
    {
     "name": "stdout",
     "output_type": "stream",
     "text": [
      "720\n",
      "640.0\n",
      "285.7438205937628\n",
      "988.9020329591647\n",
      "637.3229267764638\n",
      "0.014150244181548699\n",
      "786.9786069966377\n",
      "432.8303744755711\n",
      "0.014150244181548699\n"
     ]
    },
    {
     "name": "stderr",
     "output_type": "stream",
     "text": [
      "\r",
      "t:  83%|██████████████████████████████████████████████████████           | 1049/1260 [08:04<01:30,  2.32it/s, now=None]"
     ]
    },
    {
     "name": "stdout",
     "output_type": "stream",
     "text": [
      "720\n",
      "640.0\n",
      "278.2299849727264\n",
      "999.3202645573062\n",
      "638.7751247650164\n",
      "0.006474340527770681\n",
      "835.0641350339355\n",
      "758.316769532646\n",
      "0.006474340527770681\n"
     ]
    },
    {
     "name": "stderr",
     "output_type": "stream",
     "text": [
      "\r",
      "t:  83%|██████████████████████████████████████████████████████▏          | 1050/1260 [08:04<01:34,  2.23it/s, now=None]"
     ]
    },
    {
     "name": "stdout",
     "output_type": "stream",
     "text": [
      "720\n",
      "640.0\n",
      "272.2409743264816\n",
      "975.7017221299687\n",
      "623.9713482282252\n",
      "0.08472287365080954\n",
      "868.7310468382577\n",
      "9027.891775998585\n",
      "0.08472287365080954\n"
     ]
    },
    {
     "name": "stderr",
     "output_type": "stream",
     "text": [
      "\r",
      "t:  83%|██████████████████████████████████████████████████████▏          | 1051/1260 [08:05<01:35,  2.19it/s, now=None]"
     ]
    },
    {
     "name": "stdout",
     "output_type": "stream",
     "text": [
      "720\n",
      "640.0\n",
      "267.4532217363779\n",
      "1009.0156421266659\n",
      "638.2344319315218\n",
      "0.009332288361955989\n",
      "890.5772235147608\n",
      "481.0944516627971\n",
      "0.009332288361955989\n"
     ]
    },
    {
     "name": "stderr",
     "output_type": "stream",
     "text": [
      "\r",
      "t:  83%|██████████████████████████████████████████████████████▎          | 1052/1260 [08:05<01:32,  2.25it/s, now=None]"
     ]
    },
    {
     "name": "stdout",
     "output_type": "stream",
     "text": [
      "720\n",
      "640.0\n",
      "265.531966374843\n",
      "1022.176541413887\n",
      "643.854253894365\n",
      "-0.020372484870215007\n",
      "934.3511263890417\n",
      "285.1270240297564\n",
      "-0.020372484870215007\n"
     ]
    },
    {
     "name": "stderr",
     "output_type": "stream",
     "text": [
      "\r",
      "t:  84%|██████████████████████████████████████████████████████▎          | 1053/1260 [08:06<01:30,  2.30it/s, now=None]"
     ]
    },
    {
     "name": "stdout",
     "output_type": "stream",
     "text": [
      "720\n",
      "640.0\n",
      "262.21374461516103\n",
      "995.4759380945125\n",
      "628.8448413548367\n",
      "0.05896298141014878\n",
      "1068.3604639422451\n",
      "1885.627040982527\n",
      "0.05896298141014878\n"
     ]
    },
    {
     "name": "stderr",
     "output_type": "stream",
     "text": [
      "\r",
      "t:  84%|██████████████████████████████████████████████████████▎          | 1054/1260 [08:06<01:27,  2.35it/s, now=None]"
     ]
    },
    {
     "name": "stdout",
     "output_type": "stream",
     "text": [
      "720\n",
      "640.0\n",
      "259.1054598794583\n",
      "1033.1570999240796\n",
      "646.131279901769\n",
      "-0.03240819376649302\n",
      "1210.3187336930825\n",
      "584.425165669852\n",
      "-0.03240819376649302\n"
     ]
    },
    {
     "name": "stderr",
     "output_type": "stream",
     "text": [
      "\r",
      "t:  84%|██████████████████████████████████████████████████████▍          | 1055/1260 [08:06<01:30,  2.26it/s, now=None]"
     ]
    },
    {
     "name": "stdout",
     "output_type": "stream",
     "text": [
      "720\n",
      "640.0\n",
      "259.9628839473889\n",
      "1000.289826951242\n",
      "630.1263554493155\n",
      "0.05218926405361809\n",
      "1959.452364170713\n",
      "1365.2883283395522\n",
      "0.05218926405361809\n"
     ]
    },
    {
     "name": "stderr",
     "output_type": "stream",
     "text": [
      "\r",
      "t:  84%|██████████████████████████████████████████████████████▍          | 1056/1260 [08:07<01:31,  2.23it/s, now=None]"
     ]
    },
    {
     "name": "stdout",
     "output_type": "stream",
     "text": [
      "720\n",
      "640.0\n",
      "264.7033092074489\n",
      "1000.7884616544455\n",
      "632.7458854309473\n",
      "0.03834317700785008\n",
      "2610.436656112247\n",
      "1227.0847451885832\n",
      "0.03834317700785008\n"
     ]
    },
    {
     "name": "stderr",
     "output_type": "stream",
     "text": [
      "\r",
      "t:  84%|██████████████████████████████████████████████████████▌          | 1057/1260 [08:07<01:32,  2.20it/s, now=None]"
     ]
    },
    {
     "name": "stdout",
     "output_type": "stream",
     "text": [
      "720\n",
      "640.0\n",
      "266.9884076538739\n",
      "1005.2037476726612\n",
      "636.0960776632676\n",
      "0.020635018065585656\n",
      "3706.1173317428593\n",
      "743.0336197781745\n",
      "0.020635018065585656\n"
     ]
    },
    {
     "name": "stderr",
     "output_type": "stream",
     "text": [
      "\r",
      "t:  84%|██████████████████████████████████████████████████████▌          | 1058/1260 [08:08<01:26,  2.33it/s, now=None]"
     ]
    },
    {
     "name": "stdout",
     "output_type": "stream",
     "text": [
      "720\n",
      "640.0\n",
      "272.8323524683962\n",
      "997.1362530909906\n",
      "634.9843027796934\n",
      "0.026511542450192063\n",
      "3660.5968810637137\n",
      "1400.0684705333217\n",
      "0.026511542450192063\n"
     ]
    },
    {
     "name": "stderr",
     "output_type": "stream",
     "text": [
      "\r",
      "t:  84%|██████████████████████████████████████████████████████▋          | 1059/1260 [08:08<01:29,  2.25it/s, now=None]"
     ]
    },
    {
     "name": "stdout",
     "output_type": "stream",
     "text": [
      "720\n",
      "640.0\n",
      "277.2487820042662\n",
      "997.8446877937376\n",
      "637.5467348990019\n",
      "0.012967258390990083\n",
      "4641.17344047133\n",
      "1076.3602562703545\n",
      "0.012967258390990083\n"
     ]
    },
    {
     "name": "stderr",
     "output_type": "stream",
     "text": [
      "\r",
      "t:  84%|██████████████████████████████████████████████████████▋          | 1060/1260 [08:09<01:27,  2.30it/s, now=None]"
     ]
    },
    {
     "name": "stdout",
     "output_type": "stream",
     "text": [
      "720\n",
      "640.0\n",
      "286.15153150448987\n",
      "994.3535745857282\n",
      "640.252553045109\n",
      "-0.0013349232384334917\n",
      "3480.6666518278766\n",
      "1925.0278985294983\n",
      "-0.0013349232384334917\n"
     ]
    },
    {
     "name": "stderr",
     "output_type": "stream",
     "text": [
      "\r",
      "t:  84%|██████████████████████████████████████████████████████▋          | 1061/1260 [08:09<01:27,  2.28it/s, now=None]"
     ]
    },
    {
     "name": "stdout",
     "output_type": "stream",
     "text": [
      "720\n",
      "640.0\n",
      "296.29869399731194\n",
      "989.1537247659529\n",
      "642.7262093816324\n",
      "-0.014409963874342843\n",
      "2647.3512835362894\n",
      "3365.8874109460976\n",
      "-0.014409963874342843\n"
     ]
    },
    {
     "name": "stderr",
     "output_type": "stream",
     "text": [
      "\r",
      "t:  84%|██████████████████████████████████████████████████████▊          | 1062/1260 [08:10<01:29,  2.22it/s, now=None]"
     ]
    },
    {
     "name": "stdout",
     "output_type": "stream",
     "text": [
      "720\n",
      "640.0\n",
      "305.98065713694876\n",
      "1022.1767033332612\n",
      "664.078680235105\n",
      "-0.12727302409984084\n",
      "1803.4889150699826\n",
      "756.693924446386\n",
      "-0.12727302409984084\n"
     ]
    },
    {
     "name": "stderr",
     "output_type": "stream",
     "text": [
      "\r",
      "t:  84%|██████████████████████████████████████████████████████▊          | 1063/1260 [08:10<01:30,  2.17it/s, now=None]"
     ]
    },
    {
     "name": "stdout",
     "output_type": "stream",
     "text": [
      "720\n",
      "640.0\n",
      "312.77805401196645\n",
      "1029.7642813391496\n",
      "671.271167675558\n",
      "-0.16529045771366366\n",
      "1510.755499219069\n",
      "642.0060248582968\n",
      "-0.16529045771366366\n"
     ]
    },
    {
     "name": "stderr",
     "output_type": "stream",
     "text": [
      "\r",
      "t:  84%|██████████████████████████████████████████████████████▉          | 1064/1260 [08:11<01:31,  2.15it/s, now=None]"
     ]
    },
    {
     "name": "stdout",
     "output_type": "stream",
     "text": [
      "720\n",
      "640.0\n",
      "312.48838089254133\n",
      "1037.5033218092583\n",
      "674.9958513508998\n",
      "-0.18497807142618458\n",
      "1835.3798389115166\n",
      "290.9873565607585\n",
      "-0.18497807142618458\n"
     ]
    },
    {
     "name": "stderr",
     "output_type": "stream",
     "text": [
      "\r",
      "t:  85%|██████████████████████████████████████████████████████▉          | 1065/1260 [08:11<01:30,  2.15it/s, now=None]"
     ]
    },
    {
     "name": "stdout",
     "output_type": "stream",
     "text": [
      "720\n",
      "640.0\n",
      "312.9466484858592\n",
      "1015.8946146625528\n",
      "664.420631574206\n",
      "-0.12908048117794615\n",
      "1764.3421914093058\n",
      "1494.7116492049342\n",
      "-0.12908048117794615\n"
     ]
    },
    {
     "name": "stderr",
     "output_type": "stream",
     "text": [
      "\r",
      "t:  85%|██████████████████████████████████████████████████████▉          | 1066/1260 [08:11<01:29,  2.17it/s, now=None]"
     ]
    },
    {
     "name": "stdout",
     "output_type": "stream",
     "text": [
      "720\n",
      "640.0\n",
      "310.51038958023196\n",
      "1038.3538046537524\n",
      "674.4320971169922\n",
      "-0.1819982276183872\n",
      "2144.9244380853875\n",
      "623.0868605483623\n",
      "-0.1819982276183872\n"
     ]
    },
    {
     "name": "stderr",
     "output_type": "stream",
     "text": [
      "\r",
      "t:  85%|███████████████████████████████████████████████████████          | 1067/1260 [08:12<01:30,  2.12it/s, now=None]"
     ]
    },
    {
     "name": "stdout",
     "output_type": "stream",
     "text": [
      "720\n",
      "640.0\n",
      "309.2797474415639\n",
      "1012.0985298730197\n",
      "660.6891386572918\n",
      "-0.10935687575997083\n",
      "2234.3810036960426\n",
      "1883.8845799085623\n",
      "-0.10935687575997083\n"
     ]
    },
    {
     "name": "stderr",
     "output_type": "stream",
     "text": [
      "\r",
      "t:  85%|███████████████████████████████████████████████████████          | 1068/1260 [08:12<01:28,  2.17it/s, now=None]"
     ]
    },
    {
     "name": "stdout",
     "output_type": "stream",
     "text": [
      "720\n",
      "640.0\n",
      "310.73796206056284\n",
      "1014.1042199387978\n",
      "662.4210909996802\n",
      "-0.11851148099830988\n",
      "2172.764141802802\n",
      "1570.6259086264613\n",
      "-0.11851148099830988\n"
     ]
    },
    {
     "name": "stderr",
     "output_type": "stream",
     "text": [
      "\r",
      "t:  85%|███████████████████████████████████████████████████████▏         | 1069/1260 [08:13<01:27,  2.19it/s, now=None]"
     ]
    },
    {
     "name": "stdout",
     "output_type": "stream",
     "text": [
      "720\n",
      "640.0\n",
      "312.2408134971213\n",
      "1021.2454947719891\n",
      "666.7431541345552\n",
      "-0.1413566718540775\n",
      "2056.495241970045\n",
      "888.1514966876118\n",
      "-0.1413566718540775\n"
     ]
    },
    {
     "name": "stderr",
     "output_type": "stream",
     "text": [
      "\r",
      "t:  85%|███████████████████████████████████████████████████████▏         | 1070/1260 [08:13<01:27,  2.16it/s, now=None]"
     ]
    },
    {
     "name": "stdout",
     "output_type": "stream",
     "text": [
      "720\n",
      "640.0\n",
      "313.6410864599151\n",
      "1017.4082530546139\n",
      "665.5246697572645\n",
      "-0.13491611157411246\n",
      "2135.6409055910535\n",
      "1381.3527390106456\n",
      "-0.13491611157411246\n"
     ]
    },
    {
     "name": "stderr",
     "output_type": "stream",
     "text": [
      "\r",
      "t:  85%|███████████████████████████████████████████████████████▎         | 1071/1260 [08:14<01:20,  2.35it/s, now=None]"
     ]
    },
    {
     "name": "stdout",
     "output_type": "stream",
     "text": [
      "720\n",
      "640.0\n",
      "313.85980325783413\n",
      "1018.4680191433731\n",
      "666.1639112006036\n",
      "-0.13829495920319043\n",
      "2343.664746940481\n",
      "1333.887652093926\n",
      "-0.13829495920319043\n"
     ]
    },
    {
     "name": "stderr",
     "output_type": "stream",
     "text": [
      "\r",
      "t:  85%|███████████████████████████████████████████████████████▎         | 1072/1260 [08:14<01:19,  2.35it/s, now=None]"
     ]
    },
    {
     "name": "stdout",
     "output_type": "stream",
     "text": [
      "720\n",
      "640.0\n",
      "312.00101335709087\n",
      "1019.0171095281812\n",
      "665.509061442636\n",
      "-0.13483361048250478\n",
      "3192.5827657561053\n",
      "935.1499367238997\n",
      "-0.13483361048250478\n"
     ]
    },
    {
     "name": "stderr",
     "output_type": "stream",
     "text": [
      "\r",
      "t:  85%|███████████████████████████████████████████████████████▎         | 1073/1260 [08:15<01:20,  2.32it/s, now=None]"
     ]
    },
    {
     "name": "stdout",
     "output_type": "stream",
     "text": [
      "720\n",
      "640.0\n",
      "312.90470673119125\n",
      "1052.8496526848874\n",
      "682.8771797080393\n",
      "-0.22663652131392206\n",
      "4079.6397115305135\n",
      "486.14539729849594\n",
      "-0.22663652131392206\n"
     ]
    },
    {
     "name": "stderr",
     "output_type": "stream",
     "text": [
      "\r",
      "t:  85%|███████████████████████████████████████████████████████▍         | 1074/1260 [08:15<01:22,  2.27it/s, now=None]"
     ]
    },
    {
     "name": "stdout",
     "output_type": "stream",
     "text": [
      "720\n",
      "640.0\n",
      "313.208677936657\n",
      "1082.1692850018644\n",
      "697.6889814692607\n",
      "-0.3049274734803782\n",
      "4942.851904535853\n",
      "202.93349916579547\n",
      "-0.3049274734803782\n"
     ]
    },
    {
     "name": "stderr",
     "output_type": "stream",
     "text": [
      "\r",
      "t:  85%|███████████████████████████████████████████████████████▍         | 1075/1260 [08:15<01:22,  2.25it/s, now=None]"
     ]
    },
    {
     "name": "stdout",
     "output_type": "stream",
     "text": [
      "720\n",
      "640.0\n",
      "314.40033995223007\n",
      "1057.403264444118\n",
      "685.901802198174\n",
      "-0.24262381161891963\n",
      "6018.244865731555\n",
      "351.5399084667426\n",
      "-0.24262381161891963\n"
     ]
    },
    {
     "name": "stderr",
     "output_type": "stream",
     "text": [
      "\r",
      "t:  85%|███████████████████████████████████████████████████████▌         | 1076/1260 [08:16<01:21,  2.26it/s, now=None]"
     ]
    },
    {
     "name": "stdout",
     "output_type": "stream",
     "text": [
      "720\n",
      "640.0\n",
      "317.7979448369709\n",
      "1029.8871021403056\n",
      "673.8425234886382\n",
      "-0.17888190986851632\n",
      "4118.499205432952\n",
      "859.0701678726123\n",
      "-0.17888190986851632\n"
     ]
    },
    {
     "name": "stderr",
     "output_type": "stream",
     "text": [
      "\r",
      "t:  85%|███████████████████████████████████████████████████████▌         | 1077/1260 [08:16<01:19,  2.30it/s, now=None]"
     ]
    },
    {
     "name": "stdout",
     "output_type": "stream",
     "text": [
      "720\n",
      "640.0\n",
      "320.70442884294766\n",
      "1071.1870243914188\n",
      "695.9457266171833\n",
      "-0.2957131264051115\n",
      "3493.4288031450305\n",
      "387.84785968950086\n",
      "-0.2957131264051115\n"
     ]
    },
    {
     "name": "stderr",
     "output_type": "stream",
     "text": [
      "\r",
      "t:  86%|███████████████████████████████████████████████████████▌         | 1078/1260 [08:17<01:22,  2.21it/s, now=None]"
     ]
    },
    {
     "name": "stdout",
     "output_type": "stream",
     "text": [
      "720\n",
      "640.0\n",
      "327.9809262640808\n",
      "1038.9247899885174\n",
      "683.4528581262991\n",
      "-0.22967939295329542\n",
      "2512.11480478474\n",
      "548.857946037944\n",
      "-0.22967939295329542\n"
     ]
    },
    {
     "name": "stderr",
     "output_type": "stream",
     "text": [
      "\r",
      "t:  86%|███████████████████████████████████████████████████████▋         | 1079/1260 [08:17<01:24,  2.15it/s, now=None]"
     ]
    },
    {
     "name": "stdout",
     "output_type": "stream",
     "text": [
      "720\n",
      "640.0\n",
      "331.97774099862966\n",
      "1024.5860844133433\n",
      "678.2819127059865\n",
      "-0.2023472528745003\n",
      "1965.3721185744912\n",
      "800.9800934517799\n",
      "-0.2023472528745003\n"
     ]
    },
    {
     "name": "stderr",
     "output_type": "stream",
     "text": [
      "\r",
      "t:  86%|███████████████████████████████████████████████████████▋         | 1080/1260 [08:18<01:25,  2.11it/s, now=None]"
     ]
    },
    {
     "name": "stdout",
     "output_type": "stream",
     "text": [
      "720\n",
      "640.0\n",
      "335.1903691905138\n",
      "1025.2702189922766\n",
      "680.2302940913952\n",
      "-0.21264584019737462\n",
      "1636.3406071935983\n",
      "839.0033732799121\n",
      "-0.21264584019737462\n"
     ]
    },
    {
     "name": "stderr",
     "output_type": "stream",
     "text": [
      "\r",
      "t:  86%|███████████████████████████████████████████████████████▊         | 1081/1260 [08:18<01:26,  2.07it/s, now=None]"
     ]
    },
    {
     "name": "stdout",
     "output_type": "stream",
     "text": [
      "720\n",
      "640.0\n",
      "335.8991212650582\n",
      "1026.0120110066534\n",
      "680.9555661358559\n",
      "-0.21647942100380957\n",
      "1657.5402837225774\n",
      "685.5019576696427\n",
      "-0.21647942100380957\n"
     ]
    },
    {
     "name": "stderr",
     "output_type": "stream",
     "text": [
      "\r",
      "t:  86%|███████████████████████████████████████████████████████▊         | 1082/1260 [08:19<01:21,  2.19it/s, now=None]"
     ]
    },
    {
     "name": "stdout",
     "output_type": "stream",
     "text": [
      "720\n",
      "640.0\n",
      "333.70813135750643\n",
      "1020.3558715679151\n",
      "677.0320014627107\n",
      "-0.19574057916004226\n",
      "1986.8882902627042\n",
      "1387.397949705022\n",
      "-0.19574057916004226\n"
     ]
    },
    {
     "name": "stderr",
     "output_type": "stream",
     "text": [
      "\r",
      "t:  86%|███████████████████████████████████████████████████████▊         | 1083/1260 [08:19<01:22,  2.14it/s, now=None]"
     ]
    },
    {
     "name": "stdout",
     "output_type": "stream",
     "text": [
      "720\n",
      "640.0\n",
      "335.26824828695953\n",
      "1026.9061620562168\n",
      "681.0872051715882\n",
      "-0.21717522733553737\n",
      "1892.56690134335\n",
      "842.8077380992639\n",
      "-0.21717522733553737\n"
     ]
    },
    {
     "name": "stderr",
     "output_type": "stream",
     "text": [
      "\r",
      "t:  86%|███████████████████████████████████████████████████████▉         | 1084/1260 [08:20<01:22,  2.13it/s, now=None]"
     ]
    },
    {
     "name": "stdout",
     "output_type": "stream",
     "text": [
      "720\n",
      "640.0\n",
      "336.2369910996595\n",
      "1042.122447578224\n",
      "689.1797193389417\n",
      "-0.2599499450772633\n",
      "1874.0366514388058\n",
      "825.9050154620329\n",
      "-0.2599499450772633\n"
     ]
    },
    {
     "name": "stderr",
     "output_type": "stream",
     "text": [
      "\r",
      "t:  86%|███████████████████████████████████████████████████████▉         | 1085/1260 [08:20<01:22,  2.13it/s, now=None]"
     ]
    },
    {
     "name": "stdout",
     "output_type": "stream",
     "text": [
      "720\n",
      "640.0\n",
      "335.6878970464546\n",
      "1080.7593000814225\n",
      "708.2235985639386\n",
      "-0.36061044955224686\n",
      "1723.3979199644152\n",
      "357.72141416386773\n",
      "-0.36061044955224686\n"
     ]
    },
    {
     "name": "stderr",
     "output_type": "stream",
     "text": [
      "\r",
      "t:  86%|████████████████████████████████████████████████████████         | 1086/1260 [08:21<01:21,  2.13it/s, now=None]"
     ]
    },
    {
     "name": "stdout",
     "output_type": "stream",
     "text": [
      "720\n",
      "640.0\n",
      "335.65464268021924\n",
      "1100.4562061342726\n",
      "718.0554244072459\n",
      "-0.4125786718668714\n",
      "1784.6795198649131\n",
      "247.85060858154154\n",
      "-0.4125786718668714\n"
     ]
    },
    {
     "name": "stderr",
     "output_type": "stream",
     "text": [
      "\r",
      "t:  86%|████████████████████████████████████████████████████████         | 1087/1260 [08:21<01:21,  2.13it/s, now=None]"
     ]
    },
    {
     "name": "stdout",
     "output_type": "stream",
     "text": [
      "720\n",
      "640.0\n",
      "332.3636669148553\n",
      "1090.3580154051333\n",
      "711.3608411599943\n",
      "-0.3771930175599697\n",
      "2249.5856348194948\n",
      "226.41320292460415\n",
      "-0.3771930175599697\n"
     ]
    },
    {
     "name": "stderr",
     "output_type": "stream",
     "text": [
      "\r",
      "t:  86%|████████████████████████████████████████████████████████▏        | 1088/1260 [08:22<01:20,  2.14it/s, now=None]"
     ]
    },
    {
     "name": "stdout",
     "output_type": "stream",
     "text": [
      "720\n",
      "640.0\n",
      "333.6657743565813\n",
      "1057.460824230747\n",
      "695.5632992936642\n",
      "-0.29369172483793915\n",
      "2005.9389087610884\n",
      "741.7680773878308\n",
      "-0.29369172483793915\n"
     ]
    },
    {
     "name": "stderr",
     "output_type": "stream",
     "text": [
      "\r",
      "t:  86%|████████████████████████████████████████████████████████▏        | 1089/1260 [08:22<01:20,  2.13it/s, now=None]"
     ]
    },
    {
     "name": "stdout",
     "output_type": "stream",
     "text": [
      "720\n",
      "640.0\n",
      "335.6905906142389\n",
      "1043.934053701555\n",
      "689.8123221578969\n",
      "-0.26329370283459796\n",
      "1831.780858147733\n",
      "1053.9982091921393\n",
      "-0.26329370283459796\n"
     ]
    },
    {
     "name": "stderr",
     "output_type": "stream",
     "text": [
      "\r",
      "t:  87%|████████████████████████████████████████████████████████▏        | 1090/1260 [08:22<01:20,  2.10it/s, now=None]"
     ]
    },
    {
     "name": "stdout",
     "output_type": "stream",
     "text": [
      "720\n",
      "640.0\n",
      "336.9710966009788\n",
      "1053.0094939688415\n",
      "694.9902952849102\n",
      "-0.2906629893630967\n",
      "1697.0406322295778\n",
      "620.7380801371213\n",
      "-0.2906629893630967\n"
     ]
    },
    {
     "name": "stderr",
     "output_type": "stream",
     "text": [
      "\r",
      "t:  87%|████████████████████████████████████████████████████████▎        | 1091/1260 [08:23<01:19,  2.13it/s, now=None]"
     ]
    },
    {
     "name": "stdout",
     "output_type": "stream",
     "text": [
      "720\n",
      "640.0\n",
      "338.61214250343517\n",
      "1044.6939823294904\n",
      "691.6530624164627\n",
      "-0.27302332991558864\n",
      "1766.1451589162107\n",
      "617.79227625955\n",
      "-0.27302332991558864\n"
     ]
    },
    {
     "name": "stderr",
     "output_type": "stream",
     "text": [
      "\r",
      "t:  87%|████████████████████████████████████████████████████████▎        | 1092/1260 [08:23<01:18,  2.14it/s, now=None]"
     ]
    },
    {
     "name": "stdout",
     "output_type": "stream",
     "text": [
      "720\n",
      "640.0\n",
      "339.3872045099208\n",
      "1032.199550229917\n",
      "685.7933773699189\n",
      "-0.2420507089552854\n",
      "1718.2289621530217\n",
      "1168.2968606496265\n",
      "-0.2420507089552854\n"
     ]
    },
    {
     "name": "stderr",
     "output_type": "stream",
     "text": [
      "\r",
      "t:  87%|████████████████████████████████████████████████████████▍        | 1093/1260 [08:24<01:16,  2.18it/s, now=None]"
     ]
    },
    {
     "name": "stdout",
     "output_type": "stream",
     "text": [
      "720\n",
      "640.0\n",
      "338.23277673034175\n",
      "1027.31783604246\n",
      "682.7753063864009\n",
      "-0.2260980480424046\n",
      "1837.5842371968085\n",
      "2885.556209132296\n",
      "-0.2260980480424046\n"
     ]
    },
    {
     "name": "stderr",
     "output_type": "stream",
     "text": [
      "\r",
      "t:  87%|████████████████████████████████████████████████████████▍        | 1094/1260 [08:24<01:16,  2.17it/s, now=None]"
     ]
    },
    {
     "name": "stdout",
     "output_type": "stream",
     "text": [
      "720\n",
      "640.0\n",
      "338.42629589767654\n",
      "1034.5615830077825\n",
      "686.4939394527295\n",
      "-0.24575367996442726\n",
      "1802.7011428579383\n",
      "1088.8793429370244\n",
      "-0.24575367996442726\n"
     ]
    },
    {
     "name": "stderr",
     "output_type": "stream",
     "text": [
      "\r",
      "t:  87%|████████████████████████████████████████████████████████▍        | 1095/1260 [08:25<01:15,  2.18it/s, now=None]"
     ]
    },
    {
     "name": "stdout",
     "output_type": "stream",
     "text": [
      "720\n",
      "640.0\n",
      "337.2219651425283\n",
      "1033.7455920828984\n",
      "685.4837786127133\n",
      "-0.24041425838148464\n",
      "1993.9167325895878\n",
      "1532.9433547621568\n",
      "-0.24041425838148464\n"
     ]
    },
    {
     "name": "stderr",
     "output_type": "stream",
     "text": [
      "\r",
      "t:  87%|████████████████████████████████████████████████████████▌        | 1096/1260 [08:25<01:16,  2.14it/s, now=None]"
     ]
    },
    {
     "name": "stdout",
     "output_type": "stream",
     "text": [
      "720\n",
      "640.0\n",
      "336.983304713018\n",
      "1075.827499199228\n",
      "706.405401956123\n",
      "-0.35099998176807873\n",
      "2471.2440016309442\n",
      "380.54340173096637\n",
      "-0.35099998176807873\n"
     ]
    },
    {
     "name": "stderr",
     "output_type": "stream",
     "text": [
      "\r",
      "t:  87%|████████████████████████████████████████████████████████▌        | 1097/1260 [08:26<01:15,  2.15it/s, now=None]"
     ]
    },
    {
     "name": "stdout",
     "output_type": "stream",
     "text": [
      "720\n",
      "640.0\n",
      "337.82592829626583\n",
      "1076.2498188237576\n",
      "707.0378735600117\n",
      "-0.35434304596006183\n",
      "2598.1911096426647\n",
      "304.5380750059984\n",
      "-0.35434304596006183\n"
     ]
    },
    {
     "name": "stderr",
     "output_type": "stream",
     "text": [
      "\r",
      "t:  87%|████████████████████████████████████████████████████████▋        | 1098/1260 [08:26<01:16,  2.12it/s, now=None]"
     ]
    },
    {
     "name": "stdout",
     "output_type": "stream",
     "text": [
      "720\n",
      "640.0\n",
      "337.04176293674243\n",
      "1074.378948882248\n",
      "705.7103559094953\n",
      "-0.3473261669501896\n",
      "4126.17844064332\n",
      "279.5731563810273\n",
      "-0.3473261669501896\n"
     ]
    },
    {
     "name": "stderr",
     "output_type": "stream",
     "text": [
      "\r",
      "t:  87%|████████████████████████████████████████████████████████▋        | 1099/1260 [08:27<01:17,  2.07it/s, now=None]"
     ]
    },
    {
     "name": "stdout",
     "output_type": "stream",
     "text": [
      "720\n",
      "640.0\n",
      "338.2254989646796\n",
      "1050.1831845912477\n",
      "694.2043417779637\n",
      "-0.2865086636835224\n",
      "3580.0752984656033\n",
      "696.1148976345798\n",
      "-0.2865086636835224\n"
     ]
    },
    {
     "name": "stderr",
     "output_type": "stream",
     "text": [
      "\r",
      "t:  87%|████████████████████████████████████████████████████████▋        | 1100/1260 [08:27<01:17,  2.08it/s, now=None]"
     ]
    },
    {
     "name": "stdout",
     "output_type": "stream",
     "text": [
      "720\n",
      "640.0\n",
      "341.3284056910362\n",
      "1061.218822556494\n",
      "701.2736141237651\n",
      "-0.32387481751132996\n",
      "2686.0437321717905\n",
      "533.8930032329769\n",
      "-0.32387481751132996\n"
     ]
    },
    {
     "name": "stderr",
     "output_type": "stream",
     "text": [
      "\r",
      "t:  87%|████████████████████████████████████████████████████████▊        | 1101/1260 [08:28<01:17,  2.06it/s, now=None]"
     ]
    },
    {
     "name": "stdout",
     "output_type": "stream",
     "text": [
      "720\n",
      "640.0\n",
      "338.55228780063277\n",
      "1041.8884351293013\n",
      "690.220361464967\n",
      "-0.2654504820291114\n",
      "13579.219475166336\n",
      "778.8288520499307\n",
      "-0.2654504820291114\n"
     ]
    },
    {
     "name": "stderr",
     "output_type": "stream",
     "text": [
      "\r",
      "t:  87%|████████████████████████████████████████████████████████▊        | 1102/1260 [08:28<01:16,  2.07it/s, now=None]"
     ]
    },
    {
     "name": "stdout",
     "output_type": "stream",
     "text": [
      "720\n",
      "640.0\n",
      "341.8575832996964\n",
      "1047.2012623923515\n",
      "694.529422846024\n",
      "-0.2882269493289839\n",
      "20211.64506092279\n",
      "616.2435521593683\n",
      "-0.2882269493289839\n"
     ]
    },
    {
     "name": "stderr",
     "output_type": "stream",
     "text": [
      "\r",
      "t:  88%|████████████████████████████████████████████████████████▉        | 1103/1260 [08:29<01:13,  2.14it/s, now=None]"
     ]
    },
    {
     "name": "stdout",
     "output_type": "stream",
     "text": [
      "720\n",
      "640.0\n",
      "340.09850130602956\n",
      "1042.756580068211\n",
      "691.4275406871202\n",
      "-0.2718312864890639\n",
      "79424.72300853745\n",
      "912.7918924954917\n",
      "-0.2718312864890639\n"
     ]
    },
    {
     "name": "stderr",
     "output_type": "stream",
     "text": [
      "\r",
      "t:  88%|████████████████████████████████████████████████████████▉        | 1104/1260 [08:29<01:11,  2.18it/s, now=None]"
     ]
    },
    {
     "name": "stdout",
     "output_type": "stream",
     "text": [
      "720\n",
      "640.0\n",
      "345.42191010178465\n",
      "1034.4309269607884\n",
      "689.9264185312866\n",
      "-0.2638967836653719\n",
      "10949.747078270615\n",
      "1939.8603047203717\n",
      "-0.2638967836653719\n"
     ]
    },
    {
     "name": "stderr",
     "output_type": "stream",
     "text": [
      "\r",
      "t:  88%|█████████████████████████████████████████████████████████        | 1105/1260 [08:29<01:09,  2.22it/s, now=None]"
     ]
    },
    {
     "name": "stdout",
     "output_type": "stream",
     "text": [
      "720\n",
      "640.0\n",
      "345.4592484435553\n",
      "1035.1389882663343\n",
      "690.2991183549448\n",
      "-0.2658667684475652\n",
      "21128.30855457531\n",
      "2462.742205113853\n",
      "-0.2658667684475652\n"
     ]
    },
    {
     "name": "stderr",
     "output_type": "stream",
     "text": [
      "\r",
      "t:  88%|█████████████████████████████████████████████████████████        | 1106/1260 [08:30<01:07,  2.28it/s, now=None]"
     ]
    },
    {
     "name": "stdout",
     "output_type": "stream",
     "text": [
      "720\n",
      "640.0\n",
      "347.82323488071313\n",
      "1041.7625283908815\n",
      "694.7928816357974\n",
      "-0.28961951721778606\n",
      "14197.586960227905\n",
      "1720.6349258663452\n",
      "-0.28961951721778606\n"
     ]
    },
    {
     "name": "stderr",
     "output_type": "stream",
     "text": [
      "\r",
      "t:  88%|█████████████████████████████████████████████████████████        | 1107/1260 [08:30<01:06,  2.30it/s, now=None]"
     ]
    },
    {
     "name": "stdout",
     "output_type": "stream",
     "text": [
      "720\n",
      "640.0\n",
      "352.482526638008\n",
      "1049.9557400460947\n",
      "701.2191333420514\n",
      "-0.3235868476651286\n",
      "4621.271236163119\n",
      "1073.2345070053059\n",
      "-0.3235868476651286\n"
     ]
    },
    {
     "name": "stderr",
     "output_type": "stream",
     "text": [
      "\r",
      "t:  88%|█████████████████████████████████████████████████████████▏       | 1108/1260 [08:31<01:05,  2.33it/s, now=None]"
     ]
    },
    {
     "name": "stdout",
     "output_type": "stream",
     "text": [
      "720\n",
      "640.0\n",
      "351.88001420755415\n",
      "1120.536059589945\n",
      "736.2080368987495\n",
      "-0.5085281950362472\n",
      "5582.257352163093\n",
      "276.69007804405663\n",
      "-0.5085281950362472\n"
     ]
    },
    {
     "name": "stderr",
     "output_type": "stream",
     "text": [
      "\r",
      "t:  88%|█████████████████████████████████████████████████████████▏       | 1109/1260 [08:31<01:06,  2.27it/s, now=None]"
     ]
    },
    {
     "name": "stdout",
     "output_type": "stream",
     "text": [
      "720\n",
      "640.0\n",
      "356.53110890512335\n",
      "1092.3854324388049\n",
      "724.4582706719641\n",
      "-0.4464222878375246\n",
      "2750.32351368621\n",
      "289.87105238699286\n",
      "-0.4464222878375246\n"
     ]
    },
    {
     "name": "stderr",
     "output_type": "stream",
     "text": [
      "\r",
      "t:  88%|█████████████████████████████████████████████████████████▎       | 1110/1260 [08:32<01:10,  2.11it/s, now=None]"
     ]
    },
    {
     "name": "stdout",
     "output_type": "stream",
     "text": [
      "720\n",
      "640.0\n",
      "356.6862369978246\n",
      "1066.3929557938457\n",
      "711.5395963958351\n",
      "-0.37813786666370003\n",
      "2495.1753928542944\n",
      "602.9651907373647\n",
      "-0.37813786666370003\n"
     ]
    },
    {
     "name": "stderr",
     "output_type": "stream",
     "text": [
      "\r",
      "t:  88%|█████████████████████████████████████████████████████████▎       | 1111/1260 [08:32<01:13,  2.02it/s, now=None]"
     ]
    },
    {
     "name": "stdout",
     "output_type": "stream",
     "text": [
      "720\n",
      "640.0\n",
      "358.5475515371937\n",
      "1077.7470321163428\n",
      "718.1472918267682\n",
      "-0.4130642567986319\n",
      "1584.1605561861943\n",
      "722.2228679507683\n",
      "-0.4130642567986319\n"
     ]
    },
    {
     "name": "stderr",
     "output_type": "stream",
     "text": [
      "\r",
      "t:  88%|█████████████████████████████████████████████████████████▎       | 1112/1260 [08:33<01:10,  2.11it/s, now=None]"
     ]
    },
    {
     "name": "stdout",
     "output_type": "stream",
     "text": [
      "720\n",
      "640.0\n",
      "355.5100233501217\n",
      "1055.9455628610774\n",
      "705.7277931055995\n",
      "-0.3474183349867403\n",
      "1899.7886820312551\n",
      "1006.6214325070353\n",
      "-0.3474183349867403\n"
     ]
    },
    {
     "name": "stderr",
     "output_type": "stream",
     "text": [
      "\r",
      "t:  88%|█████████████████████████████████████████████████████████▍       | 1113/1260 [08:33<01:11,  2.04it/s, now=None]"
     ]
    },
    {
     "name": "stdout",
     "output_type": "stream",
     "text": [
      "720\n",
      "640.0\n",
      "356.4618876145761\n",
      "1059.5903311841157\n",
      "708.0261093993458\n",
      "-0.35956657825368515\n",
      "1463.0493370106926\n",
      "754.6124262287905\n",
      "-0.35956657825368515\n"
     ]
    },
    {
     "name": "stderr",
     "output_type": "stream",
     "text": [
      "\r",
      "t:  88%|█████████████████████████████████████████████████████████▍       | 1114/1260 [08:34<01:10,  2.08it/s, now=None]"
     ]
    },
    {
     "name": "stdout",
     "output_type": "stream",
     "text": [
      "720\n",
      "640.0\n",
      "355.5488240467195\n",
      "1050.6947606124618\n",
      "703.1217923295907\n",
      "-0.3336437594564079\n",
      "1544.7995140211851\n",
      "886.3684954280527\n",
      "-0.3336437594564079\n"
     ]
    },
    {
     "name": "stderr",
     "output_type": "stream",
     "text": [
      "\r",
      "t:  88%|█████████████████████████████████████████████████████████▌       | 1115/1260 [08:34<01:09,  2.08it/s, now=None]"
     ]
    },
    {
     "name": "stdout",
     "output_type": "stream",
     "text": [
      "720\n",
      "640.0\n",
      "353.3151555215974\n",
      "1044.0309699514673\n",
      "698.6730627365323\n",
      "-0.3101290458930993\n",
      "1642.298915816022\n",
      "1029.1205027072137\n",
      "-0.3101290458930993\n"
     ]
    },
    {
     "name": "stderr",
     "output_type": "stream",
     "text": [
      "\r",
      "t:  89%|█████████████████████████████████████████████████████████▌       | 1116/1260 [08:35<01:05,  2.21it/s, now=None]"
     ]
    },
    {
     "name": "stdout",
     "output_type": "stream",
     "text": [
      "720\n",
      "640.0\n",
      "350.7039190049213\n",
      "1044.5754568259142\n",
      "697.6396879154178\n",
      "-0.3046669218386368\n",
      "1810.204420890551\n",
      "782.8616431338064\n",
      "-0.3046669218386368\n"
     ]
    },
    {
     "name": "stderr",
     "output_type": "stream",
     "text": [
      "\r",
      "t:  89%|█████████████████████████████████████████████████████████▌       | 1117/1260 [08:35<01:04,  2.21it/s, now=None]"
     ]
    },
    {
     "name": "stdout",
     "output_type": "stream",
     "text": [
      "720\n",
      "640.0\n",
      "350.3021755491669\n",
      "1040.2473701601425\n",
      "695.2747728546547\n",
      "-0.2921666565174603\n",
      "2360.8931646933693\n",
      "687.7062375753769\n",
      "-0.2921666565174603\n"
     ]
    },
    {
     "name": "stderr",
     "output_type": "stream",
     "text": [
      "\r",
      "t:  89%|█████████████████████████████████████████████████████████▋       | 1118/1260 [08:35<01:03,  2.25it/s, now=None]"
     ]
    },
    {
     "name": "stdout",
     "output_type": "stream",
     "text": [
      "720\n",
      "640.0\n",
      "350.2546462205231\n",
      "1038.2695537060636\n",
      "694.2620999632934\n",
      "-0.28681395694883655\n",
      "2979.3244750997783\n",
      "704.2739593813026\n",
      "-0.28681395694883655\n"
     ]
    },
    {
     "name": "stderr",
     "output_type": "stream",
     "text": [
      "\r",
      "t:  89%|█████████████████████████████████████████████████████████▋       | 1119/1260 [08:36<01:01,  2.29it/s, now=None]"
     ]
    },
    {
     "name": "stdout",
     "output_type": "stream",
     "text": [
      "720\n",
      "640.0\n",
      "347.0333152550092\n",
      "1038.7769583091504\n",
      "692.9051367820798\n",
      "-0.2796414372767076\n",
      "4686.369227577624\n",
      "574.4683797178322\n",
      "-0.2796414372767076\n"
     ]
    },
    {
     "name": "stderr",
     "output_type": "stream",
     "text": [
      "\r",
      "t:  89%|█████████████████████████████████████████████████████████▊       | 1120/1260 [08:36<01:00,  2.31it/s, now=None]"
     ]
    },
    {
     "name": "stdout",
     "output_type": "stream",
     "text": [
      "720\n",
      "640.0\n",
      "346.6374414129457\n",
      "1045.116920629523\n",
      "695.8771810212344\n",
      "-0.29535081396938173\n",
      "5278.784543512309\n",
      "542.3382759073902\n",
      "-0.29535081396938173\n"
     ]
    },
    {
     "name": "stderr",
     "output_type": "stream",
     "text": [
      "\r",
      "t:  89%|█████████████████████████████████████████████████████████▊       | 1121/1260 [08:37<01:01,  2.27it/s, now=None]"
     ]
    },
    {
     "name": "stdout",
     "output_type": "stream",
     "text": [
      "720\n",
      "640.0\n",
      "345.51388870080586\n",
      "1045.0276668909396\n",
      "695.2707777958727\n",
      "-0.29214553977818447\n",
      "6420.952656719078\n",
      "581.8553288841528\n",
      "-0.29214553977818447\n"
     ]
    },
    {
     "name": "stderr",
     "output_type": "stream",
     "text": [
      "\r",
      "t:  89%|█████████████████████████████████████████████████████████▉       | 1122/1260 [08:37<01:02,  2.22it/s, now=None]"
     ]
    },
    {
     "name": "stdout",
     "output_type": "stream",
     "text": [
      "720\n",
      "640.0\n",
      "344.35093703252454\n",
      "1058.570779656273\n",
      "701.4608583443988\n",
      "-0.32486453696325107\n",
      "9515.94246713959\n",
      "557.6249282467127\n",
      "-0.32486453696325107\n"
     ]
    },
    {
     "name": "stderr",
     "output_type": "stream",
     "text": [
      "\r",
      "t:  89%|█████████████████████████████████████████████████████████▉       | 1123/1260 [08:38<01:00,  2.27it/s, now=None]"
     ]
    },
    {
     "name": "stdout",
     "output_type": "stream",
     "text": [
      "720\n",
      "640.0\n",
      "344.5344318514219\n",
      "1053.9784955992372\n",
      "699.2564637253296\n",
      "-0.31321273683388495\n",
      "5441.086461896447\n",
      "543.5022384758252\n",
      "-0.31321273683388495\n"
     ]
    },
    {
     "name": "stderr",
     "output_type": "stream",
     "text": [
      "\r",
      "t:  89%|█████████████████████████████████████████████████████████▉       | 1124/1260 [08:38<00:58,  2.33it/s, now=None]"
     ]
    },
    {
     "name": "stdout",
     "output_type": "stream",
     "text": [
      "720\n",
      "640.0\n",
      "344.80053654069746\n",
      "1045.9489169990816\n",
      "695.3747267698895\n",
      "-0.29269498435513047\n",
      "3845.839478125861\n",
      "612.2560472012188\n",
      "-0.29269498435513047\n"
     ]
    },
    {
     "name": "stderr",
     "output_type": "stream",
     "text": [
      "\r",
      "t:  89%|██████████████████████████████████████████████████████████       | 1125/1260 [08:38<00:57,  2.35it/s, now=None]"
     ]
    },
    {
     "name": "stdout",
     "output_type": "stream",
     "text": [
      "720\n",
      "640.0\n",
      "344.40498331343645\n",
      "1031.4366649403275\n",
      "687.920824126882\n",
      "-0.25329578467066227\n",
      "10895.256328307301\n",
      "857.1768298226295\n",
      "-0.25329578467066227\n"
     ]
    },
    {
     "name": "stderr",
     "output_type": "stream",
     "text": [
      "\r",
      "t:  89%|██████████████████████████████████████████████████████████       | 1126/1260 [08:39<00:56,  2.37it/s, now=None]"
     ]
    },
    {
     "name": "stdout",
     "output_type": "stream",
     "text": [
      "720\n",
      "640.0\n",
      "345.61724347691376\n",
      "1035.1106050423366\n",
      "690.3639242596252\n",
      "-0.26620931394373293\n",
      "6243.1012991887865\n",
      "727.666676644232\n",
      "-0.26620931394373293\n"
     ]
    },
    {
     "name": "stderr",
     "output_type": "stream",
     "text": [
      "\r",
      "t:  89%|██████████████████████████████████████████████████████████▏      | 1127/1260 [08:39<00:56,  2.34it/s, now=None]"
     ]
    },
    {
     "name": "stdout",
     "output_type": "stream",
     "text": [
      "720\n",
      "640.0\n",
      "345.4469661043802\n",
      "1029.7883808604665\n",
      "687.6176734824234\n",
      "-0.2516934169785235\n",
      "5103.6768877664035\n",
      "899.4491012320974\n",
      "-0.2516934169785235\n"
     ]
    },
    {
     "name": "stderr",
     "output_type": "stream",
     "text": [
      "\r",
      "t:  90%|██████████████████████████████████████████████████████████▏      | 1128/1260 [08:40<00:57,  2.31it/s, now=None]"
     ]
    },
    {
     "name": "stdout",
     "output_type": "stream",
     "text": [
      "720\n",
      "640.0\n",
      "347.518156975046\n",
      "1029.1314909700664\n",
      "688.3248239725561\n",
      "-0.25543121242636824\n",
      "3027.4268421165034\n",
      "716.0155845028128\n",
      "-0.25543121242636824\n"
     ]
    },
    {
     "name": "stderr",
     "output_type": "stream",
     "text": [
      "\r",
      "t:  90%|██████████████████████████████████████████████████████████▏      | 1129/1260 [08:40<00:58,  2.24it/s, now=None]"
     ]
    },
    {
     "name": "stdout",
     "output_type": "stream",
     "text": [
      "720\n",
      "640.0\n",
      "346.90375960864174\n",
      "1028.1926704930504\n",
      "687.548215050846\n",
      "-0.2513262795544718\n",
      "2655.378182251374\n",
      "864.2873977202938\n",
      "-0.2513262795544718\n"
     ]
    },
    {
     "name": "stderr",
     "output_type": "stream",
     "text": [
      "\r",
      "t:  90%|██████████████████████████████████████████████████████████▎      | 1130/1260 [08:41<00:55,  2.33it/s, now=None]"
     ]
    },
    {
     "name": "stdout",
     "output_type": "stream",
     "text": [
      "720\n",
      "640.0\n",
      "349.4823111093325\n",
      "648.02263889194\n",
      "498.75247500063625\n",
      "0.7465940607109227\n",
      "1931.917978601907\n",
      "0.5150320037927512\n",
      "0.7465940607109227\n"
     ]
    },
    {
     "name": "stderr",
     "output_type": "stream",
     "text": [
      "\r",
      "t:  90%|██████████████████████████████████████████████████████████▎      | 1131/1260 [08:41<00:54,  2.37it/s, now=None]"
     ]
    },
    {
     "name": "stdout",
     "output_type": "stream",
     "text": [
      "720\n",
      "640.0\n",
      "350.2876822866428\n",
      "1062.2134281802\n",
      "706.2505552334214\n",
      "-0.35018150623379907\n",
      "1577.517682938612\n",
      "377.179689730535\n",
      "-0.35018150623379907\n"
     ]
    },
    {
     "name": "stderr",
     "output_type": "stream",
     "text": [
      "\r",
      "t:  90%|██████████████████████████████████████████████████████████▍      | 1132/1260 [08:41<00:53,  2.39it/s, now=None]"
     ]
    },
    {
     "name": "stdout",
     "output_type": "stream",
     "text": [
      "720\n",
      "640.0\n",
      "347.6127079385109\n",
      "1067.426908466423\n",
      "707.519808202467\n",
      "-0.35689041478446815\n",
      "1641.4305586648616\n",
      "412.63312904299005\n",
      "-0.35689041478446815\n"
     ]
    },
    {
     "name": "stderr",
     "output_type": "stream",
     "text": [
      "\r",
      "t:  90%|██████████████████████████████████████████████████████████▍      | 1133/1260 [08:42<00:51,  2.45it/s, now=None]"
     ]
    },
    {
     "name": "stdout",
     "output_type": "stream",
     "text": [
      "720\n",
      "640.0\n",
      "348.8646538022695\n",
      "1045.4222386101533\n",
      "697.1434462062114\n",
      "-0.3020439299471172\n",
      "1423.340880346716\n",
      "842.2687736447898\n",
      "-0.3020439299471172\n"
     ]
    },
    {
     "name": "stderr",
     "output_type": "stream",
     "text": [
      "\r",
      "t:  90%|██████████████████████████████████████████████████████████▌      | 1134/1260 [08:42<00:52,  2.42it/s, now=None]"
     ]
    },
    {
     "name": "stdout",
     "output_type": "stream",
     "text": [
      "720\n",
      "640.0\n",
      "344.2081725998227\n",
      "1060.3011079135827\n",
      "702.2546402567027\n",
      "-0.32906024135685724\n",
      "1512.6707226529766\n",
      "568.6598199389225\n",
      "-0.32906024135685724\n"
     ]
    },
    {
     "name": "stderr",
     "output_type": "stream",
     "text": [
      "\r",
      "t:  90%|██████████████████████████████████████████████████████████▌      | 1135/1260 [08:43<00:54,  2.31it/s, now=None]"
     ]
    },
    {
     "name": "stdout",
     "output_type": "stream",
     "text": [
      "720\n",
      "640.0\n",
      "345.04941836557794\n",
      "1032.182645010624\n",
      "688.616031688101\n",
      "-0.25697045320853373\n",
      "1134.3794355641696\n",
      "1007.014176081395\n",
      "-0.25697045320853373\n"
     ]
    },
    {
     "name": "stderr",
     "output_type": "stream",
     "text": [
      "\r",
      "t:  90%|██████████████████████████████████████████████████████████▌      | 1136/1260 [08:43<00:55,  2.24it/s, now=None]"
     ]
    },
    {
     "name": "stdout",
     "output_type": "stream",
     "text": [
      "720\n",
      "640.0\n",
      "341.49252798835676\n",
      "1046.399012703246\n",
      "693.9457703458013\n",
      "-0.285141928970664\n",
      "1448.557135681049\n",
      "531.7432837549006\n",
      "-0.285141928970664\n"
     ]
    },
    {
     "name": "stderr",
     "output_type": "stream",
     "text": [
      "\r",
      "t:  90%|██████████████████████████████████████████████████████████▋      | 1137/1260 [08:44<00:55,  2.21it/s, now=None]"
     ]
    },
    {
     "name": "stdout",
     "output_type": "stream",
     "text": [
      "720\n",
      "640.0\n",
      "339.29396919934845\n",
      "1039.0168287172432\n",
      "689.1553989582958\n",
      "-0.25982139449384917\n",
      "1734.6243211175022\n",
      "555.2466220685253\n",
      "-0.25982139449384917\n"
     ]
    },
    {
     "name": "stderr",
     "output_type": "stream",
     "text": [
      "\r",
      "t:  90%|██████████████████████████████████████████████████████████▋      | 1138/1260 [08:44<00:50,  2.44it/s, now=None]"
     ]
    },
    {
     "name": "stdout",
     "output_type": "stream",
     "text": [
      "720\n",
      "640.0\n",
      "341.7134653371156\n",
      "1019.8525463824488\n",
      "680.7830058597822\n",
      "-0.2155673166874201\n",
      "1585.9731992703398\n",
      "2214.5570017830555\n",
      "-0.2155673166874201\n"
     ]
    },
    {
     "name": "stderr",
     "output_type": "stream",
     "text": [
      "\r",
      "t:  90%|██████████████████████████████████████████████████████████▊      | 1139/1260 [08:44<00:51,  2.35it/s, now=None]"
     ]
    },
    {
     "name": "stdout",
     "output_type": "stream",
     "text": [
      "720\n",
      "640.0\n",
      "338.6922968740884\n",
      "1021.8522139546591\n",
      "680.2722554143737\n",
      "-0.21286763576168966\n",
      "2152.4724219348604\n",
      "1854.1170662708487\n",
      "-0.21286763576168966\n"
     ]
    },
    {
     "name": "stderr",
     "output_type": "stream",
     "text": [
      "\r",
      "t:  90%|██████████████████████████████████████████████████████████▊      | 1140/1260 [08:45<00:50,  2.35it/s, now=None]"
     ]
    },
    {
     "name": "stdout",
     "output_type": "stream",
     "text": [
      "720\n",
      "640.0\n",
      "338.7488347970999\n",
      "1024.1371846461498\n",
      "681.4430097216248\n",
      "-0.2190559085285881\n",
      "2140.5988494536473\n",
      "1081.7565549392339\n",
      "-0.2190559085285881\n"
     ]
    },
    {
     "name": "stderr",
     "output_type": "stream",
     "text": [
      "\r",
      "t:  91%|██████████████████████████████████████████████████████████▊      | 1141/1260 [08:45<00:51,  2.32it/s, now=None]"
     ]
    },
    {
     "name": "stdout",
     "output_type": "stream",
     "text": [
      "720\n",
      "640.0\n",
      "337.5911742005458\n",
      "1015.9299296643952\n",
      "676.7605519324705\n",
      "-0.19430577450020148\n",
      "2645.3230179397124\n",
      "1420.715747331452\n",
      "-0.19430577450020148\n"
     ]
    },
    {
     "name": "stderr",
     "output_type": "stream",
     "text": [
      "\r",
      "t:  91%|██████████████████████████████████████████████████████████▉      | 1142/1260 [08:46<00:52,  2.27it/s, now=None]"
     ]
    },
    {
     "name": "stdout",
     "output_type": "stream",
     "text": [
      "720\n",
      "640.0\n",
      "338.7987575509096\n",
      "1057.210468779584\n",
      "698.0046131652468\n",
      "-0.30659581244487616\n",
      "2343.5323525888416\n",
      "408.88385741942693\n",
      "-0.30659581244487616\n"
     ]
    },
    {
     "name": "stderr",
     "output_type": "stream",
     "text": [
      "\r",
      "t:  91%|██████████████████████████████████████████████████████████▉      | 1143/1260 [08:46<00:52,  2.25it/s, now=None]"
     ]
    },
    {
     "name": "stdout",
     "output_type": "stream",
     "text": [
      "720\n",
      "640.0\n",
      "336.04972596892736\n",
      "1060.2896977771074\n",
      "698.1697118730174\n",
      "-0.3074684770430919\n",
      "3989.0888812043663\n",
      "383.3442711201885\n",
      "-0.3074684770430919\n"
     ]
    },
    {
     "name": "stderr",
     "output_type": "stream",
     "text": [
      "\r",
      "t:  91%|███████████████████████████████████████████████████████████      | 1144/1260 [08:47<00:51,  2.26it/s, now=None]"
     ]
    },
    {
     "name": "stdout",
     "output_type": "stream",
     "text": [
      "720\n",
      "640.0\n",
      "335.9461593589706\n",
      "1035.0672197184704\n",
      "685.5066895387205\n",
      "-0.2405353589903797\n",
      "4466.56194056963\n",
      "1450.0307339413023\n",
      "-0.2405353589903797\n"
     ]
    },
    {
     "name": "stderr",
     "output_type": "stream",
     "text": [
      "\r",
      "t:  91%|███████████████████████████████████████████████████████████      | 1145/1260 [08:47<00:51,  2.25it/s, now=None]"
     ]
    },
    {
     "name": "stdout",
     "output_type": "stream",
     "text": [
      "720\n",
      "640.0\n",
      "339.2695679103166\n",
      "1050.3209426501294\n",
      "694.795255280223\n",
      "-0.2896320636240361\n",
      "2551.6863430573503\n",
      "808.3512903487183\n",
      "-0.2896320636240361\n"
     ]
    },
    {
     "name": "stderr",
     "output_type": "stream",
     "text": [
      "\r",
      "t:  91%|███████████████████████████████████████████████████████████      | 1146/1260 [08:48<00:51,  2.20it/s, now=None]"
     ]
    },
    {
     "name": "stdout",
     "output_type": "stream",
     "text": [
      "720\n",
      "640.0\n",
      "341.5575650149083\n",
      "1066.5169510010264\n",
      "704.0372580079674\n",
      "-0.33848264947068457\n",
      "2856.084875974532\n",
      "459.9184458918787\n",
      "-0.33848264947068457\n"
     ]
    },
    {
     "name": "stderr",
     "output_type": "stream",
     "text": [
      "\r",
      "t:  91%|███████████████████████████████████████████████████████████▏     | 1147/1260 [08:48<00:49,  2.30it/s, now=None]"
     ]
    },
    {
     "name": "stdout",
     "output_type": "stream",
     "text": [
      "720\n",
      "640.0\n",
      "341.93722425187167\n",
      "1055.7416073103127\n",
      "698.8394157810922\n",
      "-0.3110083405572014\n",
      "3154.0074746148457\n",
      "554.302434487489\n",
      "-0.3110083405572014\n"
     ]
    },
    {
     "name": "stderr",
     "output_type": "stream",
     "text": [
      "\r",
      "t:  91%|███████████████████████████████████████████████████████████▏     | 1148/1260 [08:48<00:48,  2.32it/s, now=None]"
     ]
    },
    {
     "name": "stdout",
     "output_type": "stream",
     "text": [
      "720\n",
      "640.0\n",
      "340.5658534936182\n",
      "1036.3577685864177\n",
      "688.4618110400179\n",
      "-0.25615528692580886\n",
      "3141.779599964808\n",
      "914.5067330979817\n",
      "-0.25615528692580886\n"
     ]
    },
    {
     "name": "stderr",
     "output_type": "stream",
     "text": [
      "\r",
      "t:  91%|███████████████████████████████████████████████████████████▎     | 1149/1260 [08:49<00:46,  2.39it/s, now=None]"
     ]
    },
    {
     "name": "stdout",
     "output_type": "stream",
     "text": [
      "720\n",
      "640.0\n",
      "342.4188628477076\n",
      "1031.9446381073556\n",
      "687.1817504775315\n",
      "-0.2493892525240952\n",
      "2755.521020964475\n",
      "952.4139786863525\n",
      "-0.2493892525240952\n"
     ]
    },
    {
     "name": "stderr",
     "output_type": "stream",
     "text": [
      "\r",
      "t:  91%|███████████████████████████████████████████████████████████▎     | 1150/1260 [08:49<00:45,  2.41it/s, now=None]"
     ]
    },
    {
     "name": "stdout",
     "output_type": "stream",
     "text": [
      "720\n",
      "640.0\n",
      "341.113822350226\n",
      "1033.737379856785\n",
      "687.4256011035055\n",
      "-0.25067817726138636\n",
      "2801.1013365122444\n",
      "922.4492272074178\n",
      "-0.25067817726138636\n"
     ]
    },
    {
     "name": "stderr",
     "output_type": "stream",
     "text": [
      "\r",
      "t:  91%|███████████████████████████████████████████████████████████▍     | 1151/1260 [08:50<00:49,  2.22it/s, now=None]"
     ]
    },
    {
     "name": "stdout",
     "output_type": "stream",
     "text": [
      "720\n",
      "640.0\n",
      "339.7025807187059\n",
      "1027.8217132891714\n",
      "683.7621470039387\n",
      "-0.23131420559224747\n",
      "2630.6409148343614\n",
      "938.7461618084209\n",
      "-0.23131420559224747\n"
     ]
    },
    {
     "name": "stderr",
     "output_type": "stream",
     "text": [
      "\r",
      "t:  91%|███████████████████████████████████████████████████████████▍     | 1152/1260 [08:50<00:46,  2.31it/s, now=None]"
     ]
    },
    {
     "name": "stdout",
     "output_type": "stream",
     "text": [
      "720\n",
      "640.0\n",
      "340.5477367908737\n",
      "1031.9312428684498\n",
      "686.2394898296618\n",
      "-0.24440873195678384\n",
      "2331.404968172341\n",
      "1081.9436147687568\n",
      "-0.24440873195678384\n"
     ]
    },
    {
     "name": "stderr",
     "output_type": "stream",
     "text": [
      "\r",
      "t:  92%|███████████████████████████████████████████████████████████▍     | 1153/1260 [08:51<00:45,  2.38it/s, now=None]"
     ]
    },
    {
     "name": "stdout",
     "output_type": "stream",
     "text": [
      "720\n",
      "640.0\n",
      "339.3317681303558\n",
      "1064.7383899096376\n",
      "702.0350790199967\n",
      "-0.3278997033914112\n",
      "2261.2527172497284\n",
      "383.13893379252346\n",
      "-0.3278997033914112\n"
     ]
    },
    {
     "name": "stderr",
     "output_type": "stream",
     "text": [
      "\r",
      "t:  92%|███████████████████████████████████████████████████████████▌     | 1154/1260 [08:51<00:45,  2.31it/s, now=None]"
     ]
    },
    {
     "name": "stdout",
     "output_type": "stream",
     "text": [
      "720\n",
      "640.0\n",
      "339.76492839286027\n",
      "1047.7258129780143\n",
      "693.7453706854374\n",
      "-0.2840826736230261\n",
      "2090.6080422301466\n",
      "415.8238589356196\n",
      "-0.2840826736230261\n"
     ]
    },
    {
     "name": "stderr",
     "output_type": "stream",
     "text": [
      "\r",
      "t:  92%|███████████████████████████████████████████████████████████▌     | 1155/1260 [08:52<00:48,  2.15it/s, now=None]"
     ]
    },
    {
     "name": "stdout",
     "output_type": "stream",
     "text": [
      "720\n",
      "640.0\n",
      "336.7845438646249\n",
      "1062.0939078020613\n",
      "699.439225833343\n",
      "-0.3141787651190988\n",
      "2516.8282768729678\n",
      "335.2788928481598\n",
      "-0.3141787651190988\n"
     ]
    },
    {
     "name": "stderr",
     "output_type": "stream",
     "text": [
      "\r",
      "t:  92%|███████████████████████████████████████████████████████████▋     | 1156/1260 [08:52<00:50,  2.06it/s, now=None]"
     ]
    },
    {
     "name": "stdout",
     "output_type": "stream",
     "text": [
      "720\n",
      "640.0\n",
      "334.8438330871086\n",
      "1062.3340132948802\n",
      "698.5889231909944\n",
      "-0.30968430829525595\n",
      "2820.4340312431627\n",
      "562.2745326830784\n",
      "-0.30968430829525595\n"
     ]
    },
    {
     "name": "stderr",
     "output_type": "stream",
     "text": [
      "\r",
      "t:  92%|███████████████████████████████████████████████████████████▋     | 1157/1260 [08:52<00:48,  2.13it/s, now=None]"
     ]
    },
    {
     "name": "stdout",
     "output_type": "stream",
     "text": [
      "720\n",
      "640.0\n",
      "333.3002449210556\n",
      "1060.2023373380785\n",
      "696.751291129567\n",
      "-0.2999711102562827\n",
      "3155.362452774135\n",
      "541.4914150723521\n",
      "-0.2999711102562827\n"
     ]
    },
    {
     "name": "stderr",
     "output_type": "stream",
     "text": [
      "\r",
      "t:  92%|███████████████████████████████████████████████████████████▋     | 1158/1260 [08:53<00:47,  2.14it/s, now=None]"
     ]
    },
    {
     "name": "stdout",
     "output_type": "stream",
     "text": [
      "720\n",
      "640.0\n",
      "331.4475698522922\n",
      "1046.6823833531512\n",
      "689.0649766027217\n",
      "-0.2593434477572432\n",
      "3372.370683935341\n",
      "706.0303747631726\n",
      "-0.2593434477572432\n"
     ]
    },
    {
     "name": "stderr",
     "output_type": "stream",
     "text": [
      "\r",
      "t:  92%|███████████████████████████████████████████████████████████▊     | 1159/1260 [08:53<00:45,  2.23it/s, now=None]"
     ]
    },
    {
     "name": "stdout",
     "output_type": "stream",
     "text": [
      "720\n",
      "640.0\n",
      "331.53203935304384\n",
      "1037.9478724835624\n",
      "684.7399559183032\n",
      "-0.23648262413960247\n",
      "3826.902031430975\n",
      "802.4167364606224\n",
      "-0.23648262413960247\n"
     ]
    },
    {
     "name": "stderr",
     "output_type": "stream",
     "text": [
      "\r",
      "t:  92%|███████████████████████████████████████████████████████████▊     | 1160/1260 [08:54<00:44,  2.23it/s, now=None]"
     ]
    },
    {
     "name": "stdout",
     "output_type": "stream",
     "text": [
      "720\n",
      "640.0\n",
      "329.5755309940628\n",
      "1034.7862635185727\n",
      "682.1808972563177\n",
      "-0.22295617121196518\n",
      "4402.674775210759\n",
      "782.312673061583\n",
      "-0.22295617121196518\n"
     ]
    },
    {
     "name": "stderr",
     "output_type": "stream",
     "text": [
      "\r",
      "t:  92%|███████████████████████████████████████████████████████████▉     | 1161/1260 [08:54<00:43,  2.28it/s, now=None]"
     ]
    },
    {
     "name": "stdout",
     "output_type": "stream",
     "text": [
      "720\n",
      "640.0\n",
      "332.34048181915625\n",
      "1027.6639703471885\n",
      "680.0022260831724\n",
      "-0.21144033786819721\n",
      "3023.763199835639\n",
      "975.435687788003\n",
      "-0.21144033786819721\n"
     ]
    },
    {
     "name": "stderr",
     "output_type": "stream",
     "text": [
      "\r",
      "t:  92%|███████████████████████████████████████████████████████████▉     | 1162/1260 [08:55<00:42,  2.30it/s, now=None]"
     ]
    },
    {
     "name": "stdout",
     "output_type": "stream",
     "text": [
      "720\n",
      "640.0\n",
      "333.2139533100643\n",
      "1021.377533761344\n",
      "677.2957435357041\n",
      "-0.19713464440300743\n",
      "2436.0290447424113\n",
      "1102.0616105144745\n",
      "-0.19713464440300743\n"
     ]
    },
    {
     "name": "stderr",
     "output_type": "stream",
     "text": [
      "\r",
      "t:  92%|███████████████████████████████████████████████████████████▉     | 1163/1260 [08:55<00:39,  2.44it/s, now=None]"
     ]
    },
    {
     "name": "stdout",
     "output_type": "stream",
     "text": [
      "720\n",
      "640.0\n",
      "334.87530383146964\n",
      "1034.6891738465806\n",
      "684.7822388390251\n",
      "-0.23670611957770424\n",
      "1749.7016304905653\n",
      "577.7532394698073\n",
      "-0.23670611957770424\n"
     ]
    },
    {
     "name": "stderr",
     "output_type": "stream",
     "text": [
      "\r",
      "t:  92%|████████████████████████████████████████████████████████████     | 1164/1260 [08:55<00:40,  2.40it/s, now=None]"
     ]
    },
    {
     "name": "stdout",
     "output_type": "stream",
     "text": [
      "720\n",
      "640.0\n",
      "337.14933641458424\n",
      "1060.6712703561097\n",
      "698.910303385347\n",
      "-0.31138303217969127\n",
      "1332.9979714613735\n",
      "397.8244124333831\n",
      "-0.31138303217969127\n"
     ]
    },
    {
     "name": "stderr",
     "output_type": "stream",
     "text": [
      "\r",
      "t:  92%|████████████████████████████████████████████████████████████     | 1165/1260 [08:56<00:39,  2.38it/s, now=None]"
     ]
    },
    {
     "name": "stdout",
     "output_type": "stream",
     "text": [
      "720\n",
      "640.0\n",
      "338.3264838471818\n",
      "1073.1449567939806\n",
      "705.7357203205812\n",
      "-0.34746023598021497\n",
      "1109.8947825954033\n",
      "233.85608256430456\n",
      "-0.34746023598021497\n"
     ]
    },
    {
     "name": "stderr",
     "output_type": "stream",
     "text": [
      "\r",
      "t:  93%|████████████████████████████████████████████████████████████▏    | 1166/1260 [08:56<00:39,  2.35it/s, now=None]"
     ]
    },
    {
     "name": "stdout",
     "output_type": "stream",
     "text": [
      "720\n",
      "640.0\n",
      "335.3847217055822\n",
      "1072.7912441717867\n",
      "704.0879829386845\n",
      "-0.33875076696161804\n",
      "1140.319554554626\n",
      "257.2729407998853\n",
      "-0.33875076696161804\n"
     ]
    },
    {
     "name": "stderr",
     "output_type": "stream",
     "text": [
      "\r",
      "t:  93%|████████████████████████████████████████████████████████████▏    | 1167/1260 [08:57<00:39,  2.35it/s, now=None]"
     ]
    },
    {
     "name": "stdout",
     "output_type": "stream",
     "text": [
      "720\n",
      "640.0\n",
      "333.67427571160766\n",
      "1028.7945484505774\n",
      "681.2344120810925\n",
      "-0.21795332100006037\n",
      "1203.365366838806\n",
      "1129.3628754762374\n",
      "-0.21795332100006037\n"
     ]
    },
    {
     "name": "stderr",
     "output_type": "stream",
     "text": [
      "\r",
      "t:  93%|████████████████████████████████████████████████████████████▎    | 1168/1260 [08:57<00:39,  2.35it/s, now=None]"
     ]
    },
    {
     "name": "stdout",
     "output_type": "stream",
     "text": [
      "720\n",
      "640.0\n",
      "333.5814049657433\n",
      "1025.1712413811954\n",
      "679.3763231734694\n",
      "-0.20813199391690948\n",
      "1045.8859378527663\n",
      "1046.2152112320096\n",
      "-0.20813199391690948\n"
     ]
    },
    {
     "name": "stderr",
     "output_type": "stream",
     "text": [
      "\r",
      "t:  93%|████████████████████████████████████████████████████████████▎    | 1169/1260 [08:58<00:41,  2.19it/s, now=None]"
     ]
    },
    {
     "name": "stdout",
     "output_type": "stream",
     "text": [
      "720\n",
      "640.0\n",
      "328.83833338353077\n",
      "1033.7105123517833\n",
      "681.274422867657\n",
      "-0.21816480658618698\n",
      "1242.617184352669\n",
      "721.8252818437094\n",
      "-0.21816480658618698\n"
     ]
    },
    {
     "name": "stderr",
     "output_type": "stream",
     "text": [
      "\r",
      "t:  93%|████████████████████████████████████████████████████████████▎    | 1170/1260 [08:58<00:43,  2.05it/s, now=None]"
     ]
    },
    {
     "name": "stdout",
     "output_type": "stream",
     "text": [
      "720\n",
      "640.0\n",
      "327.45136047179574\n",
      "1024.787487267259\n",
      "676.1194238695273\n",
      "-0.19091695473892992\n",
      "1451.5554424563338\n",
      "761.3239698226197\n",
      "-0.19091695473892992\n"
     ]
    },
    {
     "name": "stderr",
     "output_type": "stream",
     "text": [
      "\r",
      "t:  93%|████████████████████████████████████████████████████████████▍    | 1171/1260 [08:59<00:41,  2.16it/s, now=None]"
     ]
    },
    {
     "name": "stdout",
     "output_type": "stream",
     "text": [
      "720\n",
      "640.0\n",
      "324.61784886148865\n",
      "1029.4349633446766\n",
      "677.0264061030826\n",
      "-0.1957110036877226\n",
      "1755.2750094744413\n",
      "624.924653511251\n",
      "-0.1957110036877226\n"
     ]
    },
    {
     "name": "stderr",
     "output_type": "stream",
     "text": [
      "\r",
      "t:  93%|████████████████████████████████████████████████████████████▍    | 1172/1260 [08:59<00:41,  2.13it/s, now=None]"
     ]
    },
    {
     "name": "stdout",
     "output_type": "stream",
     "text": [
      "720\n",
      "640.0\n",
      "325.69792219315843\n",
      "1017.779206909455\n",
      "671.7385645513067\n",
      "-0.16776098405690681\n",
      "1745.8916738432126\n",
      "1051.0783018167047\n",
      "-0.16776098405690681\n"
     ]
    },
    {
     "name": "stderr",
     "output_type": "stream",
     "text": [
      "\r",
      "t:  93%|████████████████████████████████████████████████████████████▌    | 1173/1260 [09:00<00:40,  2.13it/s, now=None]"
     ]
    },
    {
     "name": "stdout",
     "output_type": "stream",
     "text": [
      "720\n",
      "640.0\n",
      "323.4176253032238\n",
      "1020.2789288219851\n",
      "671.8482770626044\n",
      "-0.1683408930451949\n",
      "2376.950303060779\n",
      "825.6540286184986\n",
      "-0.1683408930451949\n"
     ]
    },
    {
     "name": "stderr",
     "output_type": "stream",
     "text": [
      "\r",
      "t:  93%|████████████████████████████████████████████████████████████▌    | 1174/1260 [09:00<00:38,  2.22it/s, now=None]"
     ]
    },
    {
     "name": "stdout",
     "output_type": "stream",
     "text": [
      "720\n",
      "640.0\n",
      "322.48495640031047\n",
      "1020.4615066567278\n",
      "671.4732315285191\n",
      "-0.16635850950788686\n",
      "2940.4448530124287\n",
      "814.5975528075007\n",
      "-0.16635850950788686\n"
     ]
    },
    {
     "name": "stderr",
     "output_type": "stream",
     "text": [
      "\r",
      "t:  93%|████████████████████████████████████████████████████████████▌    | 1175/1260 [09:00<00:37,  2.26it/s, now=None]"
     ]
    },
    {
     "name": "stdout",
     "output_type": "stream",
     "text": [
      "720\n",
      "640.0\n",
      "324.3351697426817\n",
      "1039.896581000457\n",
      "682.1158753715694\n",
      "-0.22261248410686663\n",
      "3553.699311088798\n",
      "544.1109374102082\n",
      "-0.22261248410686663\n"
     ]
    },
    {
     "name": "stderr",
     "output_type": "stream",
     "text": [
      "\r",
      "t:  93%|████████████████████████████████████████████████████████████▋    | 1176/1260 [09:01<00:36,  2.29it/s, now=None]"
     ]
    },
    {
     "name": "stdout",
     "output_type": "stream",
     "text": [
      "720\n",
      "640.0\n",
      "326.899552908762\n",
      "1054.6665088482403\n",
      "690.7830308785011\n",
      "-0.268424591786363\n",
      "3048.9270233630473\n",
      "269.1501689133122\n",
      "-0.268424591786363\n"
     ]
    },
    {
     "name": "stderr",
     "output_type": "stream",
     "text": [
      "\r",
      "t:  93%|████████████████████████████████████████████████████████████▋    | 1177/1260 [09:01<00:36,  2.27it/s, now=None]"
     ]
    },
    {
     "name": "stdout",
     "output_type": "stream",
     "text": [
      "720\n",
      "640.0\n",
      "329.32133238037795\n",
      "1061.4363589830518\n",
      "695.3788456817149\n",
      "-0.2927167557462073\n",
      "3482.189750864328\n",
      "307.38498193296283\n",
      "-0.2927167557462073\n"
     ]
    },
    {
     "name": "stderr",
     "output_type": "stream",
     "text": [
      "\r",
      "t:  93%|████████████████████████████████████████████████████████████▊    | 1178/1260 [09:02<00:35,  2.28it/s, now=None]"
     ]
    },
    {
     "name": "stdout",
     "output_type": "stream",
     "text": [
      "720\n",
      "640.0\n",
      "332.04332827049166\n",
      "1033.8367093322797\n",
      "682.9400188013857\n",
      "-0.22696867080732439\n",
      "3949.2567340118285\n",
      "885.4611773309867\n",
      "-0.22696867080732439\n"
     ]
    },
    {
     "name": "stderr",
     "output_type": "stream",
     "text": [
      "\r",
      "t:  94%|████████████████████████████████████████████████████████████▊    | 1179/1260 [09:02<00:36,  2.24it/s, now=None]"
     ]
    },
    {
     "name": "stdout",
     "output_type": "stream",
     "text": [
      "720\n",
      "640.0\n",
      "334.89651752518625\n",
      "1034.491470968227\n",
      "684.6939942467067\n",
      "-0.23623968387544952\n",
      "3087.899582103159\n",
      "939.7949515774841\n",
      "-0.23623968387544952\n"
     ]
    },
    {
     "name": "stderr",
     "output_type": "stream",
     "text": [
      "\r",
      "t:  94%|████████████████████████████████████████████████████████████▊    | 1180/1260 [09:03<00:35,  2.26it/s, now=None]"
     ]
    },
    {
     "name": "stdout",
     "output_type": "stream",
     "text": [
      "720\n",
      "640.0\n",
      "339.3941410391867\n",
      "1017.3477466049517\n",
      "678.3709438220692\n",
      "-0.20281784591665147\n",
      "1772.5005188831392\n",
      "1804.845473564682\n",
      "-0.20281784591665147\n"
     ]
    },
    {
     "name": "stderr",
     "output_type": "stream",
     "text": [
      "\r",
      "t:  94%|████████████████████████████████████████████████████████████▉    | 1181/1260 [09:03<00:35,  2.24it/s, now=None]"
     ]
    },
    {
     "name": "stdout",
     "output_type": "stream",
     "text": [
      "720\n",
      "640.0\n",
      "338.64762847552066\n",
      "1019.5241228556962\n",
      "679.0858756656085\n",
      "-0.20659677137535898\n",
      "2948.4027838346906\n",
      "1446.1863831095268\n",
      "-0.20659677137535898\n"
     ]
    },
    {
     "name": "stderr",
     "output_type": "stream",
     "text": [
      "\r",
      "t:  94%|████████████████████████████████████████████████████████████▉    | 1182/1260 [09:04<00:35,  2.20it/s, now=None]"
     ]
    },
    {
     "name": "stdout",
     "output_type": "stream",
     "text": [
      "720\n",
      "640.0\n",
      "339.24007969469204\n",
      "1025.4206255302104\n",
      "682.3303526124512\n",
      "-0.22374614952295624\n",
      "3303.360493255712\n",
      "1188.394332387739\n",
      "-0.22374614952295624\n"
     ]
    },
    {
     "name": "stderr",
     "output_type": "stream",
     "text": [
      "\r",
      "t:  94%|█████████████████████████████████████████████████████████████    | 1183/1260 [09:04<00:34,  2.21it/s, now=None]"
     ]
    },
    {
     "name": "stdout",
     "output_type": "stream",
     "text": [
      "720\n",
      "640.0\n",
      "342.5499162860734\n",
      "1022.2716125105978\n",
      "682.4107643983357\n",
      "-0.22417118324834578\n",
      "2983.4995288612117\n",
      "1981.9438220303116\n",
      "-0.22417118324834578\n"
     ]
    },
    {
     "name": "stderr",
     "output_type": "stream",
     "text": [
      "\r",
      "t:  94%|█████████████████████████████████████████████████████████████    | 1184/1260 [09:04<00:34,  2.20it/s, now=None]"
     ]
    },
    {
     "name": "stdout",
     "output_type": "stream",
     "text": [
      "720\n",
      "640.0\n",
      "342.8191787138223\n",
      "1023.7242507825259\n",
      "683.2717147481741\n",
      "-0.22872192081177728\n",
      "3629.3380842513916\n",
      "2336.5762524120546\n",
      "-0.22872192081177728\n"
     ]
    },
    {
     "name": "stderr",
     "output_type": "stream",
     "text": [
      "\r",
      "t:  94%|█████████████████████████████████████████████████████████████▏   | 1185/1260 [09:05<00:35,  2.13it/s, now=None]"
     ]
    },
    {
     "name": "stdout",
     "output_type": "stream",
     "text": [
      "720\n",
      "640.0\n",
      "344.7751634547873\n",
      "1031.1889339276456\n",
      "687.9820486912165\n",
      "-0.2536194002250015\n",
      "3976.343179740424\n",
      "1250.621451053326\n",
      "-0.2536194002250015\n"
     ]
    },
    {
     "name": "stderr",
     "output_type": "stream",
     "text": [
      "\r",
      "t:  94%|█████████████████████████████████████████████████████████████▏   | 1186/1260 [09:05<00:34,  2.17it/s, now=None]"
     ]
    },
    {
     "name": "stdout",
     "output_type": "stream",
     "text": [
      "720\n",
      "640.0\n",
      "348.14484701036247\n",
      "1029.7340875663142\n",
      "688.9394672883384\n",
      "-0.25868004138121725\n",
      "3277.0910682499853\n",
      "2079.1169451430583\n",
      "-0.25868004138121725\n"
     ]
    },
    {
     "name": "stderr",
     "output_type": "stream",
     "text": [
      "\r",
      "t:  94%|█████████████████████████████████████████████████████████████▏   | 1187/1260 [09:06<00:32,  2.27it/s, now=None]"
     ]
    },
    {
     "name": "stdout",
     "output_type": "stream",
     "text": [
      "720\n",
      "640.0\n",
      "349.86133138811385\n",
      "1087.5550863387004\n",
      "718.7082088634072\n",
      "-0.41602910399229526\n",
      "2845.5836048124147\n",
      "293.3189944412208\n",
      "-0.41602910399229526\n"
     ]
    },
    {
     "name": "stderr",
     "output_type": "stream",
     "text": [
      "\r",
      "t:  94%|█████████████████████████████████████████████████████████████▎   | 1188/1260 [09:06<00:30,  2.33it/s, now=None]"
     ]
    },
    {
     "name": "stdout",
     "output_type": "stream",
     "text": [
      "720\n",
      "640.0\n",
      "351.5665828363826\n",
      "1080.7959550642872\n",
      "716.1812689503349\n",
      "-0.40267242159462746\n",
      "2517.335913335655\n",
      "353.9135216473737\n",
      "-0.40267242159462746\n"
     ]
    },
    {
     "name": "stderr",
     "output_type": "stream",
     "text": [
      "\r",
      "t:  94%|█████████████████████████████████████████████████████████████▎   | 1189/1260 [09:07<00:30,  2.30it/s, now=None]"
     ]
    },
    {
     "name": "stdout",
     "output_type": "stream",
     "text": [
      "720\n",
      "640.0\n",
      "352.7056154148625\n",
      "1064.376170421736\n",
      "708.5408929182993\n",
      "-0.36228757685386764\n",
      "2469.2266484989996\n",
      "675.0933408458338\n",
      "-0.36228757685386764\n"
     ]
    },
    {
     "name": "stderr",
     "output_type": "stream",
     "text": [
      "\r",
      "t:  94%|█████████████████████████████████████████████████████████████▍   | 1190/1260 [09:07<00:31,  2.25it/s, now=None]"
     ]
    },
    {
     "name": "stdout",
     "output_type": "stream",
     "text": [
      "720\n",
      "640.0\n",
      "351.01932060003116\n",
      "1066.3181663176154\n",
      "708.6687434588232\n",
      "-0.3629633582823512\n",
      "3339.522780286653\n",
      "712.8139428233062\n",
      "-0.3629633582823512\n"
     ]
    },
    {
     "name": "stderr",
     "output_type": "stream",
     "text": [
      "\r",
      "t:  95%|█████████████████████████████████████████████████████████████▍   | 1191/1260 [09:08<00:31,  2.22it/s, now=None]"
     ]
    },
    {
     "name": "stdout",
     "output_type": "stream",
     "text": [
      "720\n",
      "640.0\n",
      "352.68680099745825\n",
      "1069.9567373514687\n",
      "711.3217691744635\n",
      "-0.3769864942078785\n",
      "3003.9504716568376\n",
      "544.8457392167498\n",
      "-0.3769864942078785\n"
     ]
    },
    {
     "name": "stderr",
     "output_type": "stream",
     "text": [
      "\r",
      "t:  95%|█████████████████████████████████████████████████████████████▍   | 1192/1260 [09:08<00:32,  2.07it/s, now=None]"
     ]
    },
    {
     "name": "stdout",
     "output_type": "stream",
     "text": [
      "720\n",
      "640.0\n",
      "353.31459254790855\n",
      "1043.8174481249982\n",
      "698.5660203364534\n",
      "-0.3095632503498254\n",
      "3288.365221195064\n",
      "943.3280424938006\n",
      "-0.3095632503498254\n"
     ]
    },
    {
     "name": "stderr",
     "output_type": "stream",
     "text": [
      "\r",
      "t:  95%|█████████████████████████████████████████████████████████████▌   | 1193/1260 [09:09<00:32,  2.09it/s, now=None]"
     ]
    },
    {
     "name": "stdout",
     "output_type": "stream",
     "text": [
      "720\n",
      "640.0\n",
      "356.17184144338296\n",
      "1038.7277942361518\n",
      "697.4498178397673\n",
      "-0.30366332286734155\n",
      "2116.052579646022\n",
      "994.2744994182697\n",
      "-0.30366332286734155\n"
     ]
    },
    {
     "name": "stderr",
     "output_type": "stream",
     "text": [
      "\r",
      "t:  95%|█████████████████████████████████████████████████████████████▌   | 1194/1260 [09:09<00:31,  2.10it/s, now=None]"
     ]
    },
    {
     "name": "stdout",
     "output_type": "stream",
     "text": [
      "720\n",
      "640.0\n",
      "356.9747714702903\n",
      "1037.8752977549136\n",
      "697.425034612602\n",
      "-0.30353232580946754\n",
      "2188.294878535998\n",
      "1020.1849420338651\n",
      "-0.30353232580946754\n"
     ]
    },
    {
     "name": "stderr",
     "output_type": "stream",
     "text": [
      "\r",
      "t:  95%|█████████████████████████████████████████████████████████████▋   | 1195/1260 [09:10<00:30,  2.14it/s, now=None]"
     ]
    },
    {
     "name": "stdout",
     "output_type": "stream",
     "text": [
      "720\n",
      "640.0\n",
      "359.2166272699545\n",
      "1039.5841167089202\n",
      "699.4003719894373\n",
      "-0.3139733948013115\n",
      "1813.7431139280825\n",
      "882.140951941721\n",
      "-0.3139733948013115\n"
     ]
    },
    {
     "name": "stderr",
     "output_type": "stream",
     "text": [
      "\r",
      "t:  95%|█████████████████████████████████████████████████████████████▋   | 1196/1260 [09:10<00:29,  2.18it/s, now=None]"
     ]
    },
    {
     "name": "stdout",
     "output_type": "stream",
     "text": [
      "720\n",
      "640.0\n",
      "359.68427825497935\n",
      "1036.4269741033518\n",
      "698.0556261791655\n",
      "-0.30686545266130355\n",
      "1629.2229829436822\n",
      "984.7461704316846\n",
      "-0.30686545266130355\n"
     ]
    },
    {
     "name": "stderr",
     "output_type": "stream",
     "text": [
      "\r",
      "t:  95%|█████████████████████████████████████████████████████████████▊   | 1197/1260 [09:10<00:28,  2.18it/s, now=None]"
     ]
    },
    {
     "name": "stdout",
     "output_type": "stream",
     "text": [
      "720\n",
      "640.0\n",
      "361.00977773512204\n",
      "1038.1054371391667\n",
      "699.5576074371444\n",
      "-0.31480449645347747\n",
      "1482.959042662476\n",
      "830.8733731678191\n",
      "-0.31480449645347747\n"
     ]
    },
    {
     "name": "stderr",
     "output_type": "stream",
     "text": [
      "\r",
      "t:  95%|█████████████████████████████████████████████████████████████▊   | 1198/1260 [09:11<00:27,  2.22it/s, now=None]"
     ]
    },
    {
     "name": "stdout",
     "output_type": "stream",
     "text": [
      "720\n",
      "640.0\n",
      "360.7565074427399\n",
      "1064.5713865322737\n",
      "712.6639469875067\n",
      "-0.3840808626482499\n",
      "1372.8574437833379\n",
      "439.081720005146\n",
      "-0.3840808626482499\n"
     ]
    },
    {
     "name": "stderr",
     "output_type": "stream",
     "text": [
      "\r",
      "t:  95%|█████████████████████████████████████████████████████████████▊   | 1199/1260 [09:11<00:27,  2.23it/s, now=None]"
     ]
    },
    {
     "name": "stdout",
     "output_type": "stream",
     "text": [
      "720\n",
      "640.0\n",
      "360.1155752086963\n",
      "1081.4568086564666\n",
      "720.7861919325815\n",
      "-0.42701272878650204\n",
      "1446.8678952254884\n",
      "308.7979688336325\n",
      "-0.42701272878650204\n"
     ]
    },
    {
     "name": "stderr",
     "output_type": "stream",
     "text": [
      "\r",
      "t:  95%|█████████████████████████████████████████████████████████████▉   | 1200/1260 [09:12<00:26,  2.24it/s, now=None]"
     ]
    },
    {
     "name": "stdout",
     "output_type": "stream",
     "text": [
      "720\n",
      "640.0\n",
      "356.94468228299525\n",
      "1089.4737488714156\n",
      "723.2092155772054\n",
      "-0.4398201394795145\n",
      "1522.689225178178\n",
      "314.1980529801346\n",
      "-0.4398201394795145\n"
     ]
    },
    {
     "name": "stderr",
     "output_type": "stream",
     "text": [
      "\r",
      "t:  95%|█████████████████████████████████████████████████████████████▉   | 1201/1260 [09:12<00:25,  2.30it/s, now=None]"
     ]
    },
    {
     "name": "stdout",
     "output_type": "stream",
     "text": [
      "720\n",
      "640.0\n",
      "352.6685105699829\n",
      "1077.672338334975\n",
      "715.170424452479\n",
      "-0.39732938639167464\n",
      "1892.178852014127\n",
      "344.78374848341355\n",
      "-0.39732938639167464\n"
     ]
    },
    {
     "name": "stderr",
     "output_type": "stream",
     "text": [
      "\r",
      "t:  95%|██████████████████████████████████████████████████████████████   | 1202/1260 [09:13<00:25,  2.28it/s, now=None]"
     ]
    },
    {
     "name": "stdout",
     "output_type": "stream",
     "text": [
      "720\n",
      "640.0\n",
      "354.82699004646986\n",
      "1045.3000763379096\n",
      "700.0635331921897\n",
      "-0.31747867544443104\n",
      "1744.8988813764854\n",
      "2870.362132629481\n",
      "-0.31747867544443104\n"
     ]
    },
    {
     "name": "stderr",
     "output_type": "stream",
     "text": [
      "\r",
      "t:  95%|██████████████████████████████████████████████████████████████   | 1203/1260 [09:13<00:25,  2.25it/s, now=None]"
     ]
    },
    {
     "name": "stdout",
     "output_type": "stream",
     "text": [
      "720\n",
      "640.0\n",
      "352.7514911741472\n",
      "1043.175556184493\n",
      "697.9635236793201\n",
      "-0.3063786251621207\n",
      "1905.3850765586315\n",
      "3573.2959127471254\n",
      "-0.3063786251621207\n"
     ]
    },
    {
     "name": "stderr",
     "output_type": "stream",
     "text": [
      "\r",
      "t:  96%|██████████████████████████████████████████████████████████████   | 1204/1260 [09:13<00:24,  2.26it/s, now=None]"
     ]
    },
    {
     "name": "stdout",
     "output_type": "stream",
     "text": [
      "720\n",
      "640.0\n",
      "353.1703202353326\n",
      "1053.2562006799576\n",
      "703.2132604576451\n",
      "-0.3341272338475527\n",
      "2427.4832106827507\n",
      "1431.7323948272062\n",
      "-0.3341272338475527\n"
     ]
    },
    {
     "name": "stderr",
     "output_type": "stream",
     "text": [
      "\r",
      "t:  96%|██████████████████████████████████████████████████████████████▏  | 1205/1260 [09:14<00:24,  2.25it/s, now=None]"
     ]
    },
    {
     "name": "stdout",
     "output_type": "stream",
     "text": [
      "720\n",
      "640.0\n",
      "355.0129118641324\n",
      "1057.1019082560852\n",
      "706.0574100601087\n",
      "-0.34916059603200333\n",
      "2515.2063874829237\n",
      "943.6008993321259\n",
      "-0.34916059603200333\n"
     ]
    },
    {
     "name": "stderr",
     "output_type": "stream",
     "text": [
      "\r",
      "t:  96%|██████████████████████████████████████████████████████████████▏  | 1206/1260 [09:14<00:21,  2.50it/s, now=None]"
     ]
    },
    {
     "name": "stdout",
     "output_type": "stream",
     "text": [
      "720\n",
      "640.0\n",
      "358.78927734416766\n",
      "1053.6989593348105\n",
      "706.2441183394891\n",
      "-0.35014748265158524\n",
      "1859.447685632728\n",
      "1023.2456177679119\n",
      "-0.35014748265158524\n"
     ]
    },
    {
     "name": "stderr",
     "output_type": "stream",
     "text": [
      "\r",
      "t:  96%|██████████████████████████████████████████████████████████████▎  | 1207/1260 [09:15<00:21,  2.47it/s, now=None]"
     ]
    },
    {
     "name": "stdout",
     "output_type": "stream",
     "text": [
      "720\n",
      "640.0\n",
      "360.3595313798846\n",
      "1051.864357776194\n",
      "706.1119445780394\n",
      "-0.34944884991249375\n",
      "1788.8600312476374\n",
      "879.3701310209939\n",
      "-0.34944884991249375\n"
     ]
    },
    {
     "name": "stderr",
     "output_type": "stream",
     "text": [
      "\r",
      "t:  96%|██████████████████████████████████████████████████████████████▎  | 1208/1260 [09:15<00:21,  2.38it/s, now=None]"
     ]
    },
    {
     "name": "stdout",
     "output_type": "stream",
     "text": [
      "720\n",
      "640.0\n",
      "364.92684241590354\n",
      "1049.9869083958024\n",
      "707.456875405853\n",
      "-0.3565577700023659\n",
      "1400.8203142076711\n",
      "757.1336999151681\n",
      "-0.3565577700023659\n"
     ]
    },
    {
     "name": "stderr",
     "output_type": "stream",
     "text": [
      "\r",
      "t:  96%|██████████████████████████████████████████████████████████████▎  | 1209/1260 [09:16<00:21,  2.38it/s, now=None]"
     ]
    },
    {
     "name": "stdout",
     "output_type": "stream",
     "text": [
      "720\n",
      "640.0\n",
      "365.6298599918301\n",
      "1083.4945725858754\n",
      "724.5622162888527\n",
      "-0.4469717146696501\n",
      "1393.7190763327842\n",
      "347.1744987090059\n",
      "-0.4469717146696501\n"
     ]
    },
    {
     "name": "stderr",
     "output_type": "stream",
     "text": [
      "\r",
      "t:  96%|██████████████████████████████████████████████████████████████▍  | 1210/1260 [09:16<00:21,  2.28it/s, now=None]"
     ]
    },
    {
     "name": "stdout",
     "output_type": "stream",
     "text": [
      "720\n",
      "640.0\n",
      "368.7186147618823\n",
      "1080.8311298403362\n",
      "724.7748723011092\n",
      "-0.4480957535915773\n",
      "1309.979599351399\n",
      "316.8661748891395\n",
      "-0.4480957535915773\n"
     ]
    },
    {
     "name": "stderr",
     "output_type": "stream",
     "text": [
      "\r",
      "t:  96%|██████████████████████████████████████████████████████████████▍  | 1211/1260 [09:16<00:21,  2.25it/s, now=None]"
     ]
    },
    {
     "name": "stdout",
     "output_type": "stream",
     "text": [
      "720\n",
      "640.0\n",
      "369.95429778330754\n",
      "1080.2144952277786\n",
      "725.084396505543\n",
      "-0.4497318101007276\n",
      "1289.2946085754868\n",
      "521.4018235419766\n",
      "-0.4497318101007276\n"
     ]
    },
    {
     "name": "stderr",
     "output_type": "stream",
     "text": [
      "\r",
      "t:  96%|██████████████████████████████████████████████████████████████▌  | 1212/1260 [09:17<00:22,  2.18it/s, now=None]"
     ]
    },
    {
     "name": "stdout",
     "output_type": "stream",
     "text": [
      "720\n",
      "640.0\n",
      "371.22367376058673\n",
      "1073.3894901189024\n",
      "722.3065819397445\n",
      "-0.4350490759672212\n",
      "1138.5742845950197\n",
      "552.85138483647\n",
      "-0.4350490759672212\n"
     ]
    },
    {
     "name": "stderr",
     "output_type": "stream",
     "text": [
      "\r",
      "t:  96%|██████████████████████████████████████████████████████████████▌  | 1213/1260 [09:17<00:21,  2.24it/s, now=None]"
     ]
    },
    {
     "name": "stdout",
     "output_type": "stream",
     "text": [
      "720\n",
      "640.0\n",
      "371.47755814118966\n",
      "1040.167295002353\n",
      "705.8224265717713\n",
      "-0.3479185404507912\n",
      "1114.2986552034438\n",
      "1136.4662353325725\n",
      "-0.3479185404507912\n"
     ]
    },
    {
     "name": "stderr",
     "output_type": "stream",
     "text": [
      "\r",
      "t:  96%|██████████████████████████████████████████████████████████████▋  | 1214/1260 [09:18<00:20,  2.20it/s, now=None]"
     ]
    },
    {
     "name": "stdout",
     "output_type": "stream",
     "text": [
      "720\n",
      "640.0\n",
      "371.3075106298399\n",
      "1067.3077768244434\n",
      "719.3076437271417\n",
      "-0.41919754541489174\n",
      "1090.6927652306904\n",
      "547.2699176297081\n",
      "-0.41919754541489174\n"
     ]
    },
    {
     "name": "stderr",
     "output_type": "stream",
     "text": [
      "\r",
      "t:  96%|██████████████████████████████████████████████████████████████▋  | 1215/1260 [09:18<00:20,  2.23it/s, now=None]"
     ]
    },
    {
     "name": "stdout",
     "output_type": "stream",
     "text": [
      "720\n",
      "640.0\n",
      "368.93914436262645\n",
      "1057.4927008723755\n",
      "713.215922617501\n",
      "-0.3869984481210765\n",
      "1344.4894492974722\n",
      "682.5107527670572\n",
      "-0.3869984481210765\n"
     ]
    },
    {
     "name": "stderr",
     "output_type": "stream",
     "text": [
      "\r",
      "t:  97%|██████████████████████████████████████████████████████████████▋  | 1216/1260 [09:19<00:18,  2.35it/s, now=None]"
     ]
    },
    {
     "name": "stdout",
     "output_type": "stream",
     "text": [
      "720\n",
      "640.0\n",
      "367.14454115743087\n",
      "1045.6135728713227\n",
      "706.3790570143768\n",
      "-0.35086072993313466\n",
      "1660.0814520061656\n",
      "909.7268581413338\n",
      "-0.35086072993313466\n"
     ]
    },
    {
     "name": "stderr",
     "output_type": "stream",
     "text": [
      "\r",
      "t:  97%|██████████████████████████████████████████████████████████████▊  | 1217/1260 [09:19<00:18,  2.31it/s, now=None]"
     ]
    },
    {
     "name": "stdout",
     "output_type": "stream",
     "text": [
      "720\n",
      "640.0\n",
      "364.0706816679856\n",
      "1049.7150178326965\n",
      "706.892849750341\n",
      "-0.35357649153751697\n",
      "2060.9849575830913\n",
      "757.7788909984363\n",
      "-0.35357649153751697\n"
     ]
    },
    {
     "name": "stderr",
     "output_type": "stream",
     "text": [
      "\r",
      "t:  97%|██████████████████████████████████████████████████████████████▊  | 1218/1260 [09:20<00:17,  2.35it/s, now=None]"
     ]
    },
    {
     "name": "stdout",
     "output_type": "stream",
     "text": [
      "720\n",
      "640.0\n",
      "363.4414355035505\n",
      "1049.4712477514693\n",
      "706.4563416275099\n",
      "-0.35126923431683815\n",
      "2195.1634639666026\n",
      "721.3402465246687\n",
      "-0.35126923431683815\n"
     ]
    },
    {
     "name": "stderr",
     "output_type": "stream",
     "text": [
      "\r",
      "t:  97%|██████████████████████████████████████████████████████████████▉  | 1219/1260 [09:20<00:17,  2.33it/s, now=None]"
     ]
    },
    {
     "name": "stdout",
     "output_type": "stream",
     "text": [
      "720\n",
      "640.0\n",
      "363.40771263365815\n",
      "1047.6708425386632\n",
      "705.5392775861607\n",
      "-0.34642189581256355\n",
      "2372.571341129781\n",
      "800.3704708109067\n",
      "-0.34642189581256355\n"
     ]
    },
    {
     "name": "stderr",
     "output_type": "stream",
     "text": [
      "\r",
      "t:  97%|██████████████████████████████████████████████████████████████▉  | 1220/1260 [09:20<00:16,  2.38it/s, now=None]"
     ]
    },
    {
     "name": "stdout",
     "output_type": "stream",
     "text": [
      "720\n",
      "640.0\n",
      "365.39148186322575\n",
      "1059.2408670165842\n",
      "712.3161744399049\n",
      "-0.3822426363252116\n",
      "2244.787524401123\n",
      "603.8478963462163\n",
      "-0.3822426363252116\n"
     ]
    },
    {
     "name": "stderr",
     "output_type": "stream",
     "text": [
      "\r",
      "t:  97%|██████████████████████████████████████████████████████████████▉  | 1221/1260 [09:21<00:17,  2.23it/s, now=None]"
     ]
    },
    {
     "name": "stdout",
     "output_type": "stream",
     "text": [
      "720\n",
      "640.0\n",
      "367.84648373487084\n",
      "1077.8413261707792\n",
      "722.843904952825\n",
      "-0.4378892118935037\n",
      "2119.714773296436\n",
      "461.49593627178706\n",
      "-0.4378892118935037\n"
     ]
    },
    {
     "name": "stderr",
     "output_type": "stream",
     "text": [
      "\r",
      "t:  97%|███████████████████████████████████████████████████████████████  | 1222/1260 [09:21<00:16,  2.25it/s, now=None]"
     ]
    },
    {
     "name": "stdout",
     "output_type": "stream",
     "text": [
      "720\n",
      "640.0\n",
      "367.17776472172443\n",
      "1054.7516256986435\n",
      "710.9646952101839\n",
      "-0.37509910325382917\n",
      "2337.831613382824\n",
      "956.8708065304094\n",
      "-0.37509910325382917\n"
     ]
    },
    {
     "name": "stderr",
     "output_type": "stream",
     "text": [
      "\r",
      "t:  97%|███████████████████████████████████████████████████████████████  | 1223/1260 [09:22<00:16,  2.28it/s, now=None]"
     ]
    },
    {
     "name": "stdout",
     "output_type": "stream",
     "text": [
      "720\n",
      "640.0\n",
      "369.38901070902364\n",
      "1071.1816954646463\n",
      "720.2853530868349\n",
      "-0.4243654377446988\n",
      "2521.57562436265\n",
      "830.3088218469042\n",
      "-0.4243654377446988\n"
     ]
    },
    {
     "name": "stderr",
     "output_type": "stream",
     "text": [
      "\r",
      "t:  97%|███████████████████████████████████████████████████████████████▏ | 1224/1260 [09:22<00:15,  2.25it/s, now=None]"
     ]
    },
    {
     "name": "stdout",
     "output_type": "stream",
     "text": [
      "720\n",
      "640.0\n",
      "373.46580710374224\n",
      "1049.723840209598\n",
      "711.5948236566701\n",
      "-0.3784297821852562\n",
      "1665.6315074782092\n",
      "1463.3219172485678\n",
      "-0.3784297821852562\n"
     ]
    },
    {
     "name": "stderr",
     "output_type": "stream",
     "text": [
      "\r",
      "t:  97%|███████████████████████████████████████████████████████████████▏ | 1225/1260 [09:23<00:15,  2.21it/s, now=None]"
     ]
    },
    {
     "name": "stdout",
     "output_type": "stream",
     "text": [
      "720\n",
      "640.0\n",
      "374.7217126344996\n",
      "1055.4084694757983\n",
      "715.065091055149\n",
      "-0.39677262414864456\n",
      "1767.0438819115202\n",
      "1065.5398153208675\n",
      "-0.39677262414864456\n"
     ]
    },
    {
     "name": "stderr",
     "output_type": "stream",
     "text": [
      "\r",
      "t:  97%|███████████████████████████████████████████████████████████████▏ | 1226/1260 [09:23<00:15,  2.25it/s, now=None]"
     ]
    },
    {
     "name": "stdout",
     "output_type": "stream",
     "text": [
      "720\n",
      "640.0\n",
      "374.859305689964\n",
      "1054.1800051476448\n",
      "714.5196554188044\n",
      "-0.39388960721368044\n",
      "2197.8480365204946\n",
      "934.3396637615208\n",
      "-0.39388960721368044\n"
     ]
    },
    {
     "name": "stderr",
     "output_type": "stream",
     "text": [
      "\r",
      "t:  97%|███████████████████████████████████████████████████████████████▎ | 1227/1260 [09:24<00:14,  2.25it/s, now=None]"
     ]
    },
    {
     "name": "stdout",
     "output_type": "stream",
     "text": [
      "720\n",
      "640.0\n",
      "374.49772633405956\n",
      "1054.8687535603697\n",
      "714.6832399472146\n",
      "-0.39475426829242\n",
      "2570.059246344168\n",
      "1055.6486944903163\n",
      "-0.39475426829242\n"
     ]
    },
    {
     "name": "stderr",
     "output_type": "stream",
     "text": [
      "\r",
      "t:  97%|███████████████████████████████████████████████████████████████▎ | 1228/1260 [09:24<00:13,  2.29it/s, now=None]"
     ]
    },
    {
     "name": "stdout",
     "output_type": "stream",
     "text": [
      "720\n",
      "640.0\n",
      "372.23467673736525\n",
      "1055.8314697510373\n",
      "714.0330732442012\n",
      "-0.39131767286220637\n",
      "3222.954449460756\n",
      "1296.5114257164314\n",
      "-0.39131767286220637\n"
     ]
    },
    {
     "name": "stderr",
     "output_type": "stream",
     "text": [
      "\r",
      "t:  98%|███████████████████████████████████████████████████████████████▍ | 1229/1260 [09:24<00:13,  2.25it/s, now=None]"
     ]
    },
    {
     "name": "stdout",
     "output_type": "stream",
     "text": [
      "720\n",
      "640.0\n",
      "371.5950203348468\n",
      "1059.6723098622836\n",
      "715.6336650985652\n",
      "-0.399777944092416\n",
      "4626.708517983383\n",
      "679.8312060416571\n",
      "-0.399777944092416\n"
     ]
    },
    {
     "name": "stderr",
     "output_type": "stream",
     "text": [
      "\r",
      "t:  98%|███████████████████████████████████████████████████████████████▍ | 1230/1260 [09:25<00:13,  2.29it/s, now=None]"
     ]
    },
    {
     "name": "stdout",
     "output_type": "stream",
     "text": [
      "720\n",
      "640.0\n",
      "370.8372440234639\n",
      "1057.7857963484644\n",
      "714.3115201859641\n",
      "-0.3927894638400961\n",
      "4677.299002726788\n",
      "1126.5563233821574\n",
      "-0.3927894638400961\n"
     ]
    },
    {
     "name": "stderr",
     "output_type": "stream",
     "text": [
      "\r",
      "t:  98%|███████████████████████████████████████████████████████████████▌ | 1231/1260 [09:25<00:12,  2.25it/s, now=None]"
     ]
    },
    {
     "name": "stdout",
     "output_type": "stream",
     "text": [
      "720\n",
      "640.0\n",
      "371.6413745986757\n",
      "1054.1449568452401\n",
      "712.893165721958\n",
      "-0.38529244738749224\n",
      "5742.436076616272\n",
      "952.405477000055\n",
      "-0.38529244738749224\n"
     ]
    },
    {
     "name": "stderr",
     "output_type": "stream",
     "text": [
      "\r",
      "t:  98%|███████████████████████████████████████████████████████████████▌ | 1232/1260 [09:26<00:12,  2.23it/s, now=None]"
     ]
    },
    {
     "name": "stdout",
     "output_type": "stream",
     "text": [
      "720\n",
      "640.0\n",
      "373.2267995119066\n",
      "1077.3005008120126\n",
      "725.2636501619596\n",
      "-0.45067929371321513\n",
      "3959.9858480610646\n",
      "370.0300592131669\n",
      "-0.45067929371321513\n"
     ]
    },
    {
     "name": "stderr",
     "output_type": "stream",
     "text": [
      "\r",
      "t:  98%|███████████████████████████████████████████████████████████████▌ | 1233/1260 [09:26<00:11,  2.29it/s, now=None]"
     ]
    },
    {
     "name": "stdout",
     "output_type": "stream",
     "text": [
      "720\n",
      "640.0\n",
      "374.8859475193769\n",
      "1072.7748302835084\n",
      "723.8303889014427\n",
      "-0.44310348419333995\n",
      "3380.33941276549\n",
      "472.3223073604546\n",
      "-0.44310348419333995\n"
     ]
    },
    {
     "name": "stderr",
     "output_type": "stream",
     "text": [
      "\r",
      "t:  98%|███████████████████████████████████████████████████████████████▋ | 1234/1260 [09:27<00:11,  2.31it/s, now=None]"
     ]
    },
    {
     "name": "stdout",
     "output_type": "stream",
     "text": [
      "720\n",
      "640.0\n",
      "379.5660571632047\n",
      "1064.5667490164244\n",
      "722.0664030898146\n",
      "-0.4337795591890199\n",
      "2492.147078238863\n",
      "1002.707171999164\n",
      "-0.4337795591890199\n"
     ]
    },
    {
     "name": "stderr",
     "output_type": "stream",
     "text": [
      "\r",
      "t:  98%|███████████████████████████████████████████████████████████████▋ | 1235/1260 [09:27<00:11,  2.20it/s, now=None]"
     ]
    },
    {
     "name": "stdout",
     "output_type": "stream",
     "text": [
      "720\n",
      "640.0\n",
      "381.53089986089117\n",
      "1057.177891344501\n",
      "719.3543956026961\n",
      "-0.41944466247139345\n",
      "1871.2263198015532\n",
      "1134.6147646733755\n",
      "-0.41944466247139345\n"
     ]
    },
    {
     "name": "stderr",
     "output_type": "stream",
     "text": [
      "\r",
      "t:  98%|███████████████████████████████████████████████████████████████▊ | 1236/1260 [09:28<00:10,  2.18it/s, now=None]"
     ]
    },
    {
     "name": "stdout",
     "output_type": "stream",
     "text": [
      "720\n",
      "640.0\n",
      "381.67448555856333\n",
      "1050.1221406330883\n",
      "715.8983130958259\n",
      "-0.4011767977922225\n",
      "1877.138818754391\n",
      "2248.3996279894773\n",
      "-0.4011767977922225\n"
     ]
    },
    {
     "name": "stderr",
     "output_type": "stream",
     "text": [
      "\r",
      "t:  98%|███████████████████████████████████████████████████████████████▊ | 1237/1260 [09:28<00:10,  2.19it/s, now=None]"
     ]
    },
    {
     "name": "stdout",
     "output_type": "stream",
     "text": [
      "720\n",
      "640.0\n",
      "379.82575834519037\n",
      "1054.3370654220028\n",
      "717.0814118835965\n",
      "-0.407430319956153\n",
      "2821.197605132396\n",
      "1888.9453444104197\n",
      "-0.407430319956153\n"
     ]
    },
    {
     "name": "stderr",
     "output_type": "stream",
     "text": [
      "\r",
      "t:  98%|███████████████████████████████████████████████████████████████▊ | 1238/1260 [09:28<00:09,  2.22it/s, now=None]"
     ]
    },
    {
     "name": "stdout",
     "output_type": "stream",
     "text": [
      "720\n",
      "640.0\n",
      "379.3520459732023\n",
      "1057.695622923498\n",
      "718.52383444835\n",
      "-0.41505455351270737\n",
      "4122.3579569468475\n",
      "1669.4251849881464\n",
      "-0.41505455351270737\n"
     ]
    },
    {
     "name": "stderr",
     "output_type": "stream",
     "text": [
      "\r",
      "t:  98%|███████████████████████████████████████████████████████████████▉ | 1239/1260 [09:29<00:09,  2.26it/s, now=None]"
     ]
    },
    {
     "name": "stdout",
     "output_type": "stream",
     "text": [
      "720\n",
      "640.0\n",
      "377.22627515720313\n",
      "1059.6339648817134\n",
      "718.4301200194583\n",
      "-0.4145592058171367\n",
      "8102.709433447408\n",
      "1796.2126327848016\n",
      "-0.4145592058171367\n"
     ]
    },
    {
     "name": "stderr",
     "output_type": "stream",
     "text": [
      "\r",
      "t:  98%|███████████████████████████████████████████████████████████████▉ | 1240/1260 [09:29<00:09,  2.17it/s, now=None]"
     ]
    },
    {
     "name": "stdout",
     "output_type": "stream",
     "text": [
      "720\n",
      "640.0\n",
      "376.73086067814353\n",
      "1060.492483651165\n",
      "718.6116721646542\n",
      "-0.415518838584601\n",
      "16775.57694394961\n",
      "986.3552436819297\n",
      "-0.415518838584601\n"
     ]
    },
    {
     "name": "stderr",
     "output_type": "stream",
     "text": [
      "\r",
      "t:  98%|████████████████████████████████████████████████████████████████ | 1241/1260 [09:30<00:08,  2.19it/s, now=None]"
     ]
    },
    {
     "name": "stdout",
     "output_type": "stream",
     "text": [
      "720\n",
      "640.0\n",
      "378.5043645848176\n",
      "1060.6979551527622\n",
      "719.6011598687899\n",
      "-0.4207489878778893\n",
      "10946.036514399751\n",
      "1994.0561735785793\n",
      "-0.4207489878778893\n"
     ]
    },
    {
     "name": "stderr",
     "output_type": "stream",
     "text": [
      "\r",
      "t:  99%|████████████████████████████████████████████████████████████████ | 1242/1260 [09:30<00:08,  2.13it/s, now=None]"
     ]
    },
    {
     "name": "stdout",
     "output_type": "stream",
     "text": [
      "720\n",
      "640.0\n",
      "379.71279966272425\n",
      "1060.755357158695\n",
      "720.2340784107096\n",
      "-0.4240944144566077\n",
      "14115.283325656234\n",
      "1923.705649833239\n",
      "-0.4240944144566077\n"
     ]
    },
    {
     "name": "stderr",
     "output_type": "stream",
     "text": [
      "\r",
      "t:  99%|████████████████████████████████████████████████████████████████ | 1243/1260 [09:31<00:07,  2.17it/s, now=None]"
     ]
    },
    {
     "name": "stdout",
     "output_type": "stream",
     "text": [
      "720\n",
      "640.0\n",
      "381.4764271979432\n",
      "1090.5402830367825\n",
      "736.0083551173628\n",
      "-0.5074727341917751\n",
      "10418.380231054365\n",
      "484.6980499207728\n",
      "-0.5074727341917751\n"
     ]
    },
    {
     "name": "stderr",
     "output_type": "stream",
     "text": [
      "\r",
      "t:  99%|████████████████████████████████████████████████████████████████▏| 1244/1260 [09:31<00:07,  2.11it/s, now=None]"
     ]
    },
    {
     "name": "stdout",
     "output_type": "stream",
     "text": [
      "720\n",
      "640.0\n",
      "381.8139676790175\n",
      "1081.6199813962508\n",
      "731.7169745376341\n",
      "-0.4847897225560659\n",
      "9382.654598307592\n",
      "3996.416235526492\n",
      "-0.4847897225560659\n"
     ]
    },
    {
     "name": "stderr",
     "output_type": "stream",
     "text": [
      "\r",
      "t:  99%|████████████████████████████████████████████████████████████████▏| 1245/1260 [09:32<00:07,  2.13it/s, now=None]"
     ]
    },
    {
     "name": "stdout",
     "output_type": "stream",
     "text": [
      "720\n",
      "640.0\n",
      "385.0119148074583\n",
      "1070.153199402098\n",
      "727.5825571047781\n",
      "-0.46293637326811266\n",
      "6502.469287753306\n",
      "12015.89575748492\n",
      "-0.46293637326811266\n"
     ]
    },
    {
     "name": "stderr",
     "output_type": "stream",
     "text": [
      "\r",
      "t:  99%|████████████████████████████████████████████████████████████████▎| 1246/1260 [09:32<00:06,  2.13it/s, now=None]"
     ]
    },
    {
     "name": "stdout",
     "output_type": "stream",
     "text": [
      "720\n",
      "640.0\n",
      "388.3306492189842\n",
      "1068.09332706624\n",
      "728.2119881426121\n",
      "-0.4662633658966639\n",
      "2792.6578778345747\n",
      "6405.677377942112\n",
      "-0.4662633658966639\n"
     ]
    },
    {
     "name": "stderr",
     "output_type": "stream",
     "text": [
      "\r",
      "t:  99%|████████████████████████████████████████████████████████████████▎| 1247/1260 [09:33<00:06,  2.13it/s, now=None]"
     ]
    },
    {
     "name": "stdout",
     "output_type": "stream",
     "text": [
      "720\n",
      "640.0\n",
      "388.24449979991834\n",
      "1070.8228296094617\n",
      "729.53366470469\n",
      "-0.4732493705819326\n",
      "2796.603518777514\n",
      "6177.807512006169\n",
      "-0.4732493705819326\n"
     ]
    },
    {
     "name": "stderr",
     "output_type": "stream",
     "text": [
      "\r",
      "t:  99%|████████████████████████████████████████████████████████████████▍| 1248/1260 [09:33<00:05,  2.16it/s, now=None]"
     ]
    },
    {
     "name": "stdout",
     "output_type": "stream",
     "text": [
      "720\n",
      "640.0\n",
      "387.0082322194593\n",
      "1075.5839534847987\n",
      "731.296092852129\n",
      "-0.4825650622183964\n",
      "5284.773812273808\n",
      "1829.8737743816137\n",
      "-0.4825650622183964\n"
     ]
    },
    {
     "name": "stderr",
     "output_type": "stream",
     "text": [
      "\r",
      "t:  99%|████████████████████████████████████████████████████████████████▍| 1249/1260 [09:34<00:05,  2.18it/s, now=None]"
     ]
    },
    {
     "name": "stdout",
     "output_type": "stream",
     "text": [
      "720\n",
      "640.0\n",
      "386.3875638292928\n",
      "1073.5949782768114\n",
      "729.9912710530521\n",
      "-0.4756681469947038\n",
      "7248.613048340067\n",
      "2545.55018488891\n",
      "-0.4756681469947038\n"
     ]
    },
    {
     "name": "stderr",
     "output_type": "stream",
     "text": [
      "\r",
      "t:  99%|████████████████████████████████████████████████████████████████▍| 1250/1260 [09:34<00:04,  2.20it/s, now=None]"
     ]
    },
    {
     "name": "stdout",
     "output_type": "stream",
     "text": [
      "720\n",
      "640.0\n",
      "385.23165483621113\n",
      "1074.2324950089446\n",
      "729.7320749225779\n",
      "-0.4742981103050547\n",
      "13208.464278661242\n",
      "2902.803142750096\n",
      "-0.4742981103050547\n"
     ]
    },
    {
     "name": "stderr",
     "output_type": "stream",
     "text": [
      "\r",
      "t:  99%|████████████████████████████████████████████████████████████████▌| 1251/1260 [09:34<00:04,  2.19it/s, now=None]"
     ]
    },
    {
     "name": "stdout",
     "output_type": "stream",
     "text": [
      "720\n",
      "640.0\n",
      "385.37078590717164\n",
      "1071.7045367893409\n",
      "728.5376613482563\n",
      "-0.4679847814122118\n",
      "10061.99886881809\n",
      "2368.088185426453\n",
      "-0.4679847814122118\n"
     ]
    },
    {
     "name": "stderr",
     "output_type": "stream",
     "text": [
      "\r",
      "t:  99%|████████████████████████████████████████████████████████████████▌| 1252/1260 [09:35<00:03,  2.31it/s, now=None]"
     ]
    },
    {
     "name": "stdout",
     "output_type": "stream",
     "text": [
      "720\n",
      "640.0\n",
      "380.3851188956855\n",
      "1073.737015453307\n",
      "727.0610671744963\n",
      "-0.46017992649376627\n",
      "11716.858567405308\n",
      "1672.0432357963798\n",
      "-0.46017992649376627\n"
     ]
    },
    {
     "name": "stderr",
     "output_type": "stream",
     "text": [
      "\r",
      "t:  99%|████████████████████████████████████████████████████████████████▋| 1253/1260 [09:35<00:02,  2.34it/s, now=None]"
     ]
    },
    {
     "name": "stdout",
     "output_type": "stream",
     "text": [
      "720\n",
      "640.0\n",
      "382.51783558675265\n",
      "1074.5788904366511\n",
      "728.5483630117019\n",
      "-0.4680413473475672\n",
      "23574.795774331604\n",
      "1326.947941223921\n",
      "-0.4680413473475672\n"
     ]
    },
    {
     "name": "stderr",
     "output_type": "stream",
     "text": [
      "\r",
      "t: 100%|████████████████████████████████████████████████████████████████▋| 1254/1260 [09:36<00:02,  2.37it/s, now=None]"
     ]
    },
    {
     "name": "stdout",
     "output_type": "stream",
     "text": [
      "720\n",
      "640.0\n",
      "382.20114602975127\n",
      "1083.4252828500323\n",
      "732.8132144398918\n",
      "-0.4905841334679995\n",
      "11537.73040232111\n",
      "996.3657310285894\n",
      "-0.4905841334679995\n"
     ]
    },
    {
     "name": "stderr",
     "output_type": "stream",
     "text": [
      "\r",
      "t: 100%|████████████████████████████████████████████████████████████████▋| 1255/1260 [09:36<00:02,  2.40it/s, now=None]"
     ]
    },
    {
     "name": "stdout",
     "output_type": "stream",
     "text": [
      "720\n",
      "640.0\n",
      "382.7076597272031\n",
      "1085.0059478353205\n",
      "733.8568037812618\n",
      "-0.4961002485580979\n",
      "4906.688997073968\n",
      "1310.3495749626054\n",
      "-0.4961002485580979\n"
     ]
    },
    {
     "name": "stderr",
     "output_type": "stream",
     "text": [
      "\r",
      "t: 100%|████████████████████████████████████████████████████████████████▊| 1256/1260 [09:37<00:01,  2.28it/s, now=None]"
     ]
    },
    {
     "name": "stdout",
     "output_type": "stream",
     "text": [
      "720\n",
      "640.0\n",
      "381.2990843111364\n",
      "1079.6791026707488\n",
      "730.4890934909427\n",
      "-0.47829949416641115\n",
      "6378.966856881914\n",
      "4685.000823139565\n",
      "-0.47829949416641115\n"
     ]
    },
    {
     "name": "stderr",
     "output_type": "stream",
     "text": [
      "\r",
      "t: 100%|████████████████████████████████████████████████████████████████▊| 1257/1260 [09:37<00:01,  2.29it/s, now=None]"
     ]
    },
    {
     "name": "stdout",
     "output_type": "stream",
     "text": [
      "720\n",
      "640.0\n",
      "379.7065401815332\n",
      "1080.2088542168008\n",
      "729.957697199167\n",
      "-0.475490685195597\n",
      "6084.669824509058\n",
      "3644.2896202037327\n",
      "-0.475490685195597\n"
     ]
    },
    {
     "name": "stderr",
     "output_type": "stream",
     "text": [
      "\r",
      "t: 100%|████████████████████████████████████████████████████████████████▉| 1258/1260 [09:37<00:00,  2.28it/s, now=None]"
     ]
    },
    {
     "name": "stdout",
     "output_type": "stream",
     "text": [
      "720\n",
      "640.0\n",
      "378.41982377171064\n",
      "1070.8615711698603\n",
      "724.6406974707854\n",
      "-0.44738654377415155\n",
      "7134.343792852516\n",
      "26474.891924220123\n",
      "-0.44738654377415155\n"
     ]
    },
    {
     "name": "stderr",
     "output_type": "stream",
     "text": [
      "\r",
      "t: 100%|████████████████████████████████████████████████████████████████▉| 1259/1260 [09:38<00:00,  2.22it/s, now=None]"
     ]
    },
    {
     "name": "stdout",
     "output_type": "stream",
     "text": [
      "720\n",
      "640.0\n",
      "376.6874121015338\n",
      "1071.5890739008964\n",
      "724.1382430012152\n",
      "-0.44473071300642314\n",
      "24615.00532367592\n",
      "3693.2497520316274\n",
      "-0.44473071300642314\n"
     ]
    },
    {
     "name": "stderr",
     "output_type": "stream",
     "text": [
      "\r",
      "t: 100%|█████████████████████████████████████████████████████████████████| 1260/1260 [09:38<00:00,  2.17it/s, now=None]"
     ]
    },
    {
     "name": "stdout",
     "output_type": "stream",
     "text": [
      "720\n",
      "640.0\n",
      "375.81489294012266\n",
      "1062.4970542365727\n",
      "719.1559735883477\n",
      "-0.41839586039555215\n",
      "12838.12286586808\n",
      "3448.342198952954\n",
      "-0.41839586039555215\n"
     ]
    },
    {
     "name": "stderr",
     "output_type": "stream",
     "text": [
      "\r",
      "                                                                                                                       "
     ]
    },
    {
     "name": "stdout",
     "output_type": "stream",
     "text": [
      "720\n",
      "640.0\n",
      "370.9787355800847\n",
      "1070.7499778445192\n",
      "720.864356712302\n",
      "-0.42742588547931043\n",
      "16777.30194420611\n",
      "4634.381796380513\n",
      "-0.42742588547931043\n"
     ]
    },
    {
     "name": "stderr",
     "output_type": "stream",
     "text": [
      "\r"
     ]
    },
    {
     "name": "stdout",
     "output_type": "stream",
     "text": [
      "Moviepy - Done !\n",
      "Moviepy - video ready D:\\hzf\\udacity\\project\\CarND-Advanced-Lane-Lines/output_video/P2.mp4\n",
      "Wall time: 9min 40s\n"
     ]
    }
   ],
   "source": [
    "white_output = cwd + '/output_video/P2.mp4'\n",
    "## To speed up the testing process you may want to try your pipeline on a shorter subclip of the video\n",
    "## To do so add .subclip(start_second,end_second) to the end of the line below\n",
    "## Where start_second and end_second are integer values representing the start and end of the subclip\n",
    "## You may also uncomment the following line for a subclip of the first 5 seconds\n",
    "##clip1 = VideoFileClip(\"test_videos/solidWhiteRight.mp4\").subclip(0,5)\n",
    "clip1 = VideoFileClip(cwd + \"/project_video.mp4\")\n",
    "white_clip = clip1.fl_image(my_pipline) #NOTE: this function expects color images!!\n",
    "%time white_clip.write_videofile(white_output, audio=False)"
   ]
  },
  {
   "cell_type": "code",
   "execution_count": 88,
   "id": "8ec00092",
   "metadata": {},
   "outputs": [
    {
     "name": "stdout",
     "output_type": "stream",
     "text": [
      "D:\\hzf\\udacity\\project\\CarND-Advanced-Lane-Lines/output_video/P2.mp4\n"
     ]
    },
    {
     "data": {
      "text/html": [
       "\n",
       "<video width=\"1280\" height=\"720\" controls>\n",
       "  <source src=\"D:\\hzf\\udacity\\project\\CarND-Advanced-Lane-Lines\\output_video\\P2.mp4\">\n",
       "</video>\n"
      ],
      "text/plain": [
       "<IPython.core.display.HTML object>"
      ]
     },
     "execution_count": 88,
     "metadata": {},
     "output_type": "execute_result"
    }
   ],
   "source": [
    "print(white_output)\n",
    "# HTML(\"\"\"\n",
    "# <video width=\"1280\" height=\"720\" controls>\n",
    "#   <source src=\"{0}\">\n",
    "# </video>\n",
    "# \"\"\".format(white_output))\n",
    "\n",
    "HTML(\"\"\"\n",
    "<video width=\"1280\" height=\"720\" controls>\n",
    "  <source src=\"D:\\\\hzf\\\\udacity\\\\project\\\\CarND-Advanced-Lane-Lines\\\\output_video\\\\P2.mp4\">\n",
    "</video>\n",
    "\"\"\")"
   ]
  },
  {
   "cell_type": "code",
   "execution_count": 20,
   "id": "d2f6027c",
   "metadata": {},
   "outputs": [
    {
     "name": "stdout",
     "output_type": "stream",
     "text": [
      "[[0 1 0 ... 1 1 1]\n",
      " [0 1 0 ... 1 1 1]\n",
      " [0 1 0 ... 1 1 0]\n",
      " ...\n",
      " [0 1 0 ... 1 1 0]\n",
      " [0 1 1 ... 1 1 0]\n",
      " [0 1 1 ... 1 1 0]]\n"
     ]
    }
   ],
   "source": [
    "img = pipeline(img, s_thresh=(170, 255), sx_thresh=(20, 100))\n",
    "\n",
    "print(img)\n",
    "plt.imshow(img, cmap='gray')\n",
    "# plt.imshow(img)\n",
    "\n",
    "plt.show()"
   ]
  },
  {
   "cell_type": "code",
   "execution_count": 68,
   "id": "fae15e33",
   "metadata": {},
   "outputs": [
    {
     "name": "stdout",
     "output_type": "stream",
     "text": [
      "D:\\hzf\\udacity\\project\\CarND-Advanced-Lane-Lines\n",
      "(720, 1280)\n",
      "(720, 1280, 3)\n",
      "(1280, 720)\n"
     ]
    }
   ],
   "source": [
    "\n",
    "# prepare object points, like (0,0,0), (1,0,0), (2,0,0) ....,(6,5,0)\n",
    "objp = np.zeros((6*9,3), np.float32)\n",
    "# print(objp)\n",
    "objp[:,:2] = np.mgrid[0:9,0:6].T.reshape(-1,2)\n",
    "# print(objp)\n",
    "\n",
    "# Arrays to store object points and image points from all the images.\n",
    "objpoints = [] # 3d points in real world space\n",
    "imgpoints = [] # 2d points in image plane.\n",
    "\n",
    "cwd = os.getcwd()\n",
    "print(cwd)\n",
    "img = cv2.imread(cwd + '/camera_cal/calibration3.jpg')\n",
    "# print(img)\n",
    "# cv2.imshow('calibration3',img)\n",
    "\n",
    "gray = cv2.cvtColor(img,cv2.COLOR_BGR2GRAY)\n",
    "\n",
    "print(gray.shape)\n",
    "\n",
    "# cv2.imshow('calibration3',gray)\n",
    "\n",
    "# Find the chessboard corners\n",
    "ret, corners = cv2.findChessboardCorners(gray, (9,6),None)\n",
    "\n",
    "# If found, add object points, image points\n",
    "if ret == True:\n",
    "#     print(objp)\n",
    "#     print(corners)\n",
    "    objpoints.append(objp)\n",
    "    imgpoints.append(corners)\n",
    "\n",
    "    # Draw and display the corners\n",
    "#     img = cv2.drawChessboardCorners(img, (9,6), corners, ret)\n",
    "#     cv2.imshow('img',img)\n",
    "#             cv2.waitKey(500)\n",
    "\n",
    "#     image = mpimg.imread('camera_cal/calibration1.jpg')\n",
    "print(img.shape)\n",
    "print(img.shape[1::-1])\n",
    "# return cv2.calibrateCamera(objpoints, imgpoints, gray.shape[::-1], None, None)\n",
    "\n",
    "img_undistort = undistort_img(img, mtx, dist)\n",
    "\n",
    "cv2.imshow('img_undistort', img_undistort)\n",
    "\n",
    "\n",
    "# cwd = os.getcwd()\n",
    "# # Make a list of calibration im1ages\n",
    "# images = glob.glob(cwd + './camera_cal/calibration*.jpg')\n",
    "\n",
    "\n",
    "\n",
    "# # Make a list of calibration images\n",
    "# images = glob.glob(cwd + '/camera_cal/calibration*.jpg')\n",
    "\n",
    "# for index, itrImg in enumerate(images):\n",
    "#     if (index == 1) :\n",
    "#         print(itrImg)\n",
    "# #         img = cv2.imread(itrImg)\n",
    "#         img = cv2.imread(cwd + '/camera_cal/calibration3.jpg')\n",
    "\n",
    "#         plt.imshow(img)\n",
    "# #         cv2.imshow('img',img)\n",
    "#         undist = cv2.undistort(img, mtx, dist, None, mtx)\n",
    "#         plt.imshow(undist)\n",
    "\n",
    "\n"
   ]
  }
 ],
 "metadata": {
  "kernelspec": {
   "display_name": "Python 3",
   "language": "python",
   "name": "python3"
  },
  "language_info": {
   "codemirror_mode": {
    "name": "ipython",
    "version": 3
   },
   "file_extension": ".py",
   "mimetype": "text/x-python",
   "name": "python",
   "nbconvert_exporter": "python",
   "pygments_lexer": "ipython3",
   "version": "3.8.8"
  }
 },
 "nbformat": 4,
 "nbformat_minor": 5
}
